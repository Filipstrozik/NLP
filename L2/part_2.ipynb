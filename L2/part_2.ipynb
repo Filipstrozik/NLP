{
 "cells": [
  {
   "cell_type": "code",
   "execution_count": 1,
   "metadata": {},
   "outputs": [],
   "source": [
    "from transformers import AutoTokenizer, AutoModelForSequenceClassification, AutoModelForTokenClassification, TrainingArguments, Trainer, EarlyStoppingCallback\n",
    "from peft import AutoPeftModelForTokenClassification\n",
    "from datasets import load_dataset\n",
    "from glob import glob"
   ]
  },
  {
   "cell_type": "code",
   "execution_count": 2,
   "metadata": {},
   "outputs": [],
   "source": [
    "dataset = load_dataset(\"clarin-knext/wsd_polish_datasets\", trust_remote_code=True)"
   ]
  },
  {
   "cell_type": "code",
   "execution_count": 3,
   "metadata": {},
   "outputs": [
    {
     "data": {
      "text/plain": [
       "DatasetDict({\n",
       "    train: Dataset({\n",
       "        features: ['text', 'tokens', 'phrases', 'wsd'],\n",
       "        num_rows: 7848\n",
       "    })\n",
       "})"
      ]
     },
     "execution_count": 3,
     "metadata": {},
     "output_type": "execute_result"
    }
   ],
   "source": [
    "dataset"
   ]
  },
  {
   "cell_type": "code",
   "execution_count": 4,
   "metadata": {},
   "outputs": [
    {
     "data": {
      "text/plain": [
       "Value(dtype='string', id=None)"
      ]
     },
     "execution_count": 4,
     "metadata": {},
     "output_type": "execute_result"
    }
   ],
   "source": [
    "dataset['train'].features['tokens'].feature['pos']"
   ]
  },
  {
   "cell_type": "code",
   "execution_count": 5,
   "metadata": {},
   "outputs": [
    {
     "name": "stderr",
     "output_type": "stream",
     "text": [
      "Some weights of BertForTokenClassification were not initialized from the model checkpoint at allegro/herbert-base-cased and are newly initialized: ['classifier.bias', 'classifier.weight']\n",
      "You should probably TRAIN this model on a down-stream task to be able to use it for predictions and inference.\n",
      "Some weights of GPT2ForTokenClassification were not initialized from the model checkpoint at sdadas/polish-gpt2-medium and are newly initialized: ['classifier.bias', 'classifier.weight']\n",
      "You should probably TRAIN this model on a down-stream task to be able to use it for predictions and inference.\n"
     ]
    }
   ],
   "source": [
    "tokenizer_bert = AutoTokenizer.from_pretrained(\"allegro/herbert-base-cased\")\n",
    "model_bert = AutoModelForTokenClassification.from_pretrained(\"allegro/herbert-base-cased\")\n",
    "\n",
    "tokenizer_gpt = AutoTokenizer.from_pretrained(\"sdadas/polish-gpt2-medium\", add_prefix_space=True)\n",
    "tokenizer_gpt.pad_token = tokenizer_gpt.eos_token\n",
    "model_gpt = AutoModelForTokenClassification.from_pretrained(\"sdadas/polish-gpt2-medium\", pad_token_id=tokenizer_gpt.pad_token_id)"
   ]
  },
  {
   "cell_type": "code",
   "execution_count": 6,
   "metadata": {},
   "outputs": [],
   "source": [
    "sentence = dataset['train'][0]['text']"
   ]
  },
  {
   "cell_type": "code",
   "execution_count": 7,
   "metadata": {},
   "outputs": [],
   "source": [
    "def get_embeddings(text, tokenizer, model, layer=-1):\n",
    "    inputs = tokenizer(text, return_tensors=\"pt\")\n",
    "    outputs = model(**inputs,output_hidden_states=True)\n",
    "    # print(outputs)\n",
    "    # x = outputs.hidden_states[-1][:, 0, :].cpu().detach().numpy().squeeze()\n",
    "    x = outputs.hidden_states[layer].cpu().detach().numpy().squeeze()  \n",
    "\n",
    "    return x\n",
    "    # return outputs.last_hidden_state.squeeze(0).detach()  # Embeddings for each token\n",
    "\n",
    "# Example for a sentence\n",
    "sentence = dataset['train'][0]['text']  # Replace with the correct column\n",
    "bert_embeddings = get_embeddings(sentence, tokenizer_bert, model_bert, layer=-1)\n",
    "gpt2_embeddings = get_embeddings(sentence, tokenizer_gpt, model_gpt, layer=-1)"
   ]
  },
  {
   "cell_type": "code",
   "execution_count": 8,
   "metadata": {},
   "outputs": [
    {
     "name": "stdout",
     "output_type": "stream",
     "text": [
      "BERT Anisotropy: 0.7178529699054953\n",
      "GPT-2 Anisotropy: 0.24691792709175497\n"
     ]
    }
   ],
   "source": [
    "from scipy.spatial.distance import cosine\n",
    "import torch\n",
    "\n",
    "def measure_anisotropy(embeddings):\n",
    "    # Compute cosine similarities for pairs of embeddings\n",
    "    cos_similarities = []\n",
    "    num_samples = 1000  # Adjust for sampling efficiency\n",
    "\n",
    "    for _ in range(num_samples):\n",
    "        # print(embeddings.size)\n",
    "        idx1, idx2 = torch.randint(0, embeddings.shape[0], (2,))\n",
    "        emb1 = embeddings[idx1]\n",
    "        # print(emb1)\n",
    "        sim = 1 - cosine(embeddings[idx1], embeddings[idx2])\n",
    "        cos_similarities.append(sim)\n",
    "    \n",
    "    return sum(cos_similarities) / len(cos_similarities)\n",
    "\n",
    "bert_anisotropy = measure_anisotropy(bert_embeddings)\n",
    "gpt2_anisotropy = measure_anisotropy(gpt2_embeddings)\n",
    "print(\"BERT Anisotropy:\", bert_anisotropy)\n",
    "print(\"GPT-2 Anisotropy:\", gpt2_anisotropy)"
   ]
  },
  {
   "cell_type": "code",
   "execution_count": 9,
   "metadata": {},
   "outputs": [
    {
     "data": {
      "text/plain": [
       "12"
      ]
     },
     "execution_count": 9,
     "metadata": {},
     "output_type": "execute_result"
    }
   ],
   "source": [
    "num_layers_bert = len(model_bert.bert.encoder.layer)\n",
    "num_layers_bert"
   ]
  },
  {
   "cell_type": "code",
   "execution_count": 10,
   "metadata": {},
   "outputs": [
    {
     "data": {
      "text/plain": [
       "24"
      ]
     },
     "execution_count": 10,
     "metadata": {},
     "output_type": "execute_result"
    }
   ],
   "source": [
    "num_layers_gpt = len(model_gpt.transformer.h)\n",
    "num_layers_gpt"
   ]
  },
  {
   "cell_type": "code",
   "execution_count": 11,
   "metadata": {},
   "outputs": [],
   "source": [
    "bert_anisotropies = []\n",
    "for i in range(num_layers_bert):\n",
    "    bert_embeddings = get_embeddings(sentence, tokenizer_bert, model_bert, layer=i)\n",
    "    anisotropy = measure_anisotropy(bert_embeddings)\n",
    "    bert_anisotropies.append(anisotropy)\n",
    "\n",
    "gpt_anisotropies = []\n",
    "for i in range(num_layers_gpt):\n",
    "    gpt_embeddings = get_embeddings(sentence, tokenizer_gpt, model_gpt, layer=i)\n",
    "    anisotropy = measure_anisotropy(gpt_embeddings)\n",
    "    gpt_anisotropies.append(anisotropy)"
   ]
  },
  {
   "cell_type": "code",
   "execution_count": null,
   "metadata": {},
   "outputs": [
    {
     "data": {
      "application/vnd.plotly.v1+json": {
       "config": {
        "plotlyServerURL": "https://plot.ly"
       },
       "data": [
        {
         "line": {
          "dash": "dot",
          "shape": "linear"
         },
         "mode": "markers+lines",
         "name": "BERT",
         "type": "scatter",
         "x": [
          0,
          1,
          2,
          3,
          4,
          5,
          6,
          7,
          8,
          9,
          10,
          11
         ],
         "y": [
          0.02241859582610397,
          0.2600223791137219,
          0.6125798344669887,
          0.6527386532990125,
          0.6128554160399058,
          0.6335720504526566,
          0.6430587364977419,
          0.6722139217603609,
          0.6821382894349948,
          0.6821880982226776,
          0.6705568487145521,
          0.7371647547357422
         ]
        },
        {
         "line": {
          "dash": "dot",
          "shape": "linear"
         },
         "mode": "markers+lines",
         "name": "GPT-2",
         "type": "scatter",
         "x": [
          0,
          1,
          2,
          3,
          4,
          5,
          6,
          7,
          8,
          9,
          10,
          11,
          12,
          13,
          14,
          15,
          16,
          17,
          18,
          19,
          20,
          21,
          22,
          23
         ],
         "y": [
          0.07953548137052739,
          0.6471009388213396,
          0.6482959815076547,
          0.645538791631077,
          0.621122870434482,
          0.592130484221503,
          0.57390276152546,
          0.5563502271589702,
          0.5412791066199828,
          0.5207269191740022,
          0.5072209879192848,
          0.5023927083563002,
          0.5091568582103712,
          0.5033366083016798,
          0.502554103283778,
          0.48605868597372043,
          0.47040546792462345,
          0.4679345143138796,
          0.47132894831080885,
          0.47677070122502074,
          0.5096034758038942,
          0.548228612546445,
          0.6073984466131614,
          0.6222315937528313
         ]
        }
       ],
       "layout": {
        "legend": {
         "title": {
          "text": "Model"
         }
        },
        "template": {
         "data": {
          "bar": [
           {
            "error_x": {
             "color": "#2a3f5f"
            },
            "error_y": {
             "color": "#2a3f5f"
            },
            "marker": {
             "line": {
              "color": "#E5ECF6",
              "width": 0.5
             },
             "pattern": {
              "fillmode": "overlay",
              "size": 10,
              "solidity": 0.2
             }
            },
            "type": "bar"
           }
          ],
          "barpolar": [
           {
            "marker": {
             "line": {
              "color": "#E5ECF6",
              "width": 0.5
             },
             "pattern": {
              "fillmode": "overlay",
              "size": 10,
              "solidity": 0.2
             }
            },
            "type": "barpolar"
           }
          ],
          "carpet": [
           {
            "aaxis": {
             "endlinecolor": "#2a3f5f",
             "gridcolor": "white",
             "linecolor": "white",
             "minorgridcolor": "white",
             "startlinecolor": "#2a3f5f"
            },
            "baxis": {
             "endlinecolor": "#2a3f5f",
             "gridcolor": "white",
             "linecolor": "white",
             "minorgridcolor": "white",
             "startlinecolor": "#2a3f5f"
            },
            "type": "carpet"
           }
          ],
          "choropleth": [
           {
            "colorbar": {
             "outlinewidth": 0,
             "ticks": ""
            },
            "type": "choropleth"
           }
          ],
          "contour": [
           {
            "colorbar": {
             "outlinewidth": 0,
             "ticks": ""
            },
            "colorscale": [
             [
              0,
              "#0d0887"
             ],
             [
              0.1111111111111111,
              "#46039f"
             ],
             [
              0.2222222222222222,
              "#7201a8"
             ],
             [
              0.3333333333333333,
              "#9c179e"
             ],
             [
              0.4444444444444444,
              "#bd3786"
             ],
             [
              0.5555555555555556,
              "#d8576b"
             ],
             [
              0.6666666666666666,
              "#ed7953"
             ],
             [
              0.7777777777777778,
              "#fb9f3a"
             ],
             [
              0.8888888888888888,
              "#fdca26"
             ],
             [
              1,
              "#f0f921"
             ]
            ],
            "type": "contour"
           }
          ],
          "contourcarpet": [
           {
            "colorbar": {
             "outlinewidth": 0,
             "ticks": ""
            },
            "type": "contourcarpet"
           }
          ],
          "heatmap": [
           {
            "colorbar": {
             "outlinewidth": 0,
             "ticks": ""
            },
            "colorscale": [
             [
              0,
              "#0d0887"
             ],
             [
              0.1111111111111111,
              "#46039f"
             ],
             [
              0.2222222222222222,
              "#7201a8"
             ],
             [
              0.3333333333333333,
              "#9c179e"
             ],
             [
              0.4444444444444444,
              "#bd3786"
             ],
             [
              0.5555555555555556,
              "#d8576b"
             ],
             [
              0.6666666666666666,
              "#ed7953"
             ],
             [
              0.7777777777777778,
              "#fb9f3a"
             ],
             [
              0.8888888888888888,
              "#fdca26"
             ],
             [
              1,
              "#f0f921"
             ]
            ],
            "type": "heatmap"
           }
          ],
          "heatmapgl": [
           {
            "colorbar": {
             "outlinewidth": 0,
             "ticks": ""
            },
            "colorscale": [
             [
              0,
              "#0d0887"
             ],
             [
              0.1111111111111111,
              "#46039f"
             ],
             [
              0.2222222222222222,
              "#7201a8"
             ],
             [
              0.3333333333333333,
              "#9c179e"
             ],
             [
              0.4444444444444444,
              "#bd3786"
             ],
             [
              0.5555555555555556,
              "#d8576b"
             ],
             [
              0.6666666666666666,
              "#ed7953"
             ],
             [
              0.7777777777777778,
              "#fb9f3a"
             ],
             [
              0.8888888888888888,
              "#fdca26"
             ],
             [
              1,
              "#f0f921"
             ]
            ],
            "type": "heatmapgl"
           }
          ],
          "histogram": [
           {
            "marker": {
             "pattern": {
              "fillmode": "overlay",
              "size": 10,
              "solidity": 0.2
             }
            },
            "type": "histogram"
           }
          ],
          "histogram2d": [
           {
            "colorbar": {
             "outlinewidth": 0,
             "ticks": ""
            },
            "colorscale": [
             [
              0,
              "#0d0887"
             ],
             [
              0.1111111111111111,
              "#46039f"
             ],
             [
              0.2222222222222222,
              "#7201a8"
             ],
             [
              0.3333333333333333,
              "#9c179e"
             ],
             [
              0.4444444444444444,
              "#bd3786"
             ],
             [
              0.5555555555555556,
              "#d8576b"
             ],
             [
              0.6666666666666666,
              "#ed7953"
             ],
             [
              0.7777777777777778,
              "#fb9f3a"
             ],
             [
              0.8888888888888888,
              "#fdca26"
             ],
             [
              1,
              "#f0f921"
             ]
            ],
            "type": "histogram2d"
           }
          ],
          "histogram2dcontour": [
           {
            "colorbar": {
             "outlinewidth": 0,
             "ticks": ""
            },
            "colorscale": [
             [
              0,
              "#0d0887"
             ],
             [
              0.1111111111111111,
              "#46039f"
             ],
             [
              0.2222222222222222,
              "#7201a8"
             ],
             [
              0.3333333333333333,
              "#9c179e"
             ],
             [
              0.4444444444444444,
              "#bd3786"
             ],
             [
              0.5555555555555556,
              "#d8576b"
             ],
             [
              0.6666666666666666,
              "#ed7953"
             ],
             [
              0.7777777777777778,
              "#fb9f3a"
             ],
             [
              0.8888888888888888,
              "#fdca26"
             ],
             [
              1,
              "#f0f921"
             ]
            ],
            "type": "histogram2dcontour"
           }
          ],
          "mesh3d": [
           {
            "colorbar": {
             "outlinewidth": 0,
             "ticks": ""
            },
            "type": "mesh3d"
           }
          ],
          "parcoords": [
           {
            "line": {
             "colorbar": {
              "outlinewidth": 0,
              "ticks": ""
             }
            },
            "type": "parcoords"
           }
          ],
          "pie": [
           {
            "automargin": true,
            "type": "pie"
           }
          ],
          "scatter": [
           {
            "fillpattern": {
             "fillmode": "overlay",
             "size": 10,
             "solidity": 0.2
            },
            "type": "scatter"
           }
          ],
          "scatter3d": [
           {
            "line": {
             "colorbar": {
              "outlinewidth": 0,
              "ticks": ""
             }
            },
            "marker": {
             "colorbar": {
              "outlinewidth": 0,
              "ticks": ""
             }
            },
            "type": "scatter3d"
           }
          ],
          "scattercarpet": [
           {
            "marker": {
             "colorbar": {
              "outlinewidth": 0,
              "ticks": ""
             }
            },
            "type": "scattercarpet"
           }
          ],
          "scattergeo": [
           {
            "marker": {
             "colorbar": {
              "outlinewidth": 0,
              "ticks": ""
             }
            },
            "type": "scattergeo"
           }
          ],
          "scattergl": [
           {
            "marker": {
             "colorbar": {
              "outlinewidth": 0,
              "ticks": ""
             }
            },
            "type": "scattergl"
           }
          ],
          "scattermapbox": [
           {
            "marker": {
             "colorbar": {
              "outlinewidth": 0,
              "ticks": ""
             }
            },
            "type": "scattermapbox"
           }
          ],
          "scatterpolar": [
           {
            "marker": {
             "colorbar": {
              "outlinewidth": 0,
              "ticks": ""
             }
            },
            "type": "scatterpolar"
           }
          ],
          "scatterpolargl": [
           {
            "marker": {
             "colorbar": {
              "outlinewidth": 0,
              "ticks": ""
             }
            },
            "type": "scatterpolargl"
           }
          ],
          "scatterternary": [
           {
            "marker": {
             "colorbar": {
              "outlinewidth": 0,
              "ticks": ""
             }
            },
            "type": "scatterternary"
           }
          ],
          "surface": [
           {
            "colorbar": {
             "outlinewidth": 0,
             "ticks": ""
            },
            "colorscale": [
             [
              0,
              "#0d0887"
             ],
             [
              0.1111111111111111,
              "#46039f"
             ],
             [
              0.2222222222222222,
              "#7201a8"
             ],
             [
              0.3333333333333333,
              "#9c179e"
             ],
             [
              0.4444444444444444,
              "#bd3786"
             ],
             [
              0.5555555555555556,
              "#d8576b"
             ],
             [
              0.6666666666666666,
              "#ed7953"
             ],
             [
              0.7777777777777778,
              "#fb9f3a"
             ],
             [
              0.8888888888888888,
              "#fdca26"
             ],
             [
              1,
              "#f0f921"
             ]
            ],
            "type": "surface"
           }
          ],
          "table": [
           {
            "cells": {
             "fill": {
              "color": "#EBF0F8"
             },
             "line": {
              "color": "white"
             }
            },
            "header": {
             "fill": {
              "color": "#C8D4E3"
             },
             "line": {
              "color": "white"
             }
            },
            "type": "table"
           }
          ]
         },
         "layout": {
          "annotationdefaults": {
           "arrowcolor": "#2a3f5f",
           "arrowhead": 0,
           "arrowwidth": 1
          },
          "autotypenumbers": "strict",
          "coloraxis": {
           "colorbar": {
            "outlinewidth": 0,
            "ticks": ""
           }
          },
          "colorscale": {
           "diverging": [
            [
             0,
             "#8e0152"
            ],
            [
             0.1,
             "#c51b7d"
            ],
            [
             0.2,
             "#de77ae"
            ],
            [
             0.3,
             "#f1b6da"
            ],
            [
             0.4,
             "#fde0ef"
            ],
            [
             0.5,
             "#f7f7f7"
            ],
            [
             0.6,
             "#e6f5d0"
            ],
            [
             0.7,
             "#b8e186"
            ],
            [
             0.8,
             "#7fbc41"
            ],
            [
             0.9,
             "#4d9221"
            ],
            [
             1,
             "#276419"
            ]
           ],
           "sequential": [
            [
             0,
             "#0d0887"
            ],
            [
             0.1111111111111111,
             "#46039f"
            ],
            [
             0.2222222222222222,
             "#7201a8"
            ],
            [
             0.3333333333333333,
             "#9c179e"
            ],
            [
             0.4444444444444444,
             "#bd3786"
            ],
            [
             0.5555555555555556,
             "#d8576b"
            ],
            [
             0.6666666666666666,
             "#ed7953"
            ],
            [
             0.7777777777777778,
             "#fb9f3a"
            ],
            [
             0.8888888888888888,
             "#fdca26"
            ],
            [
             1,
             "#f0f921"
            ]
           ],
           "sequentialminus": [
            [
             0,
             "#0d0887"
            ],
            [
             0.1111111111111111,
             "#46039f"
            ],
            [
             0.2222222222222222,
             "#7201a8"
            ],
            [
             0.3333333333333333,
             "#9c179e"
            ],
            [
             0.4444444444444444,
             "#bd3786"
            ],
            [
             0.5555555555555556,
             "#d8576b"
            ],
            [
             0.6666666666666666,
             "#ed7953"
            ],
            [
             0.7777777777777778,
             "#fb9f3a"
            ],
            [
             0.8888888888888888,
             "#fdca26"
            ],
            [
             1,
             "#f0f921"
            ]
           ]
          },
          "colorway": [
           "#636efa",
           "#EF553B",
           "#00cc96",
           "#ab63fa",
           "#FFA15A",
           "#19d3f3",
           "#FF6692",
           "#B6E880",
           "#FF97FF",
           "#FECB52"
          ],
          "font": {
           "color": "#2a3f5f"
          },
          "geo": {
           "bgcolor": "white",
           "lakecolor": "white",
           "landcolor": "#E5ECF6",
           "showlakes": true,
           "showland": true,
           "subunitcolor": "white"
          },
          "hoverlabel": {
           "align": "left"
          },
          "hovermode": "closest",
          "mapbox": {
           "style": "light"
          },
          "paper_bgcolor": "white",
          "plot_bgcolor": "#E5ECF6",
          "polar": {
           "angularaxis": {
            "gridcolor": "white",
            "linecolor": "white",
            "ticks": ""
           },
           "bgcolor": "#E5ECF6",
           "radialaxis": {
            "gridcolor": "white",
            "linecolor": "white",
            "ticks": ""
           }
          },
          "scene": {
           "xaxis": {
            "backgroundcolor": "#E5ECF6",
            "gridcolor": "white",
            "gridwidth": 2,
            "linecolor": "white",
            "showbackground": true,
            "ticks": "",
            "zerolinecolor": "white"
           },
           "yaxis": {
            "backgroundcolor": "#E5ECF6",
            "gridcolor": "white",
            "gridwidth": 2,
            "linecolor": "white",
            "showbackground": true,
            "ticks": "",
            "zerolinecolor": "white"
           },
           "zaxis": {
            "backgroundcolor": "#E5ECF6",
            "gridcolor": "white",
            "gridwidth": 2,
            "linecolor": "white",
            "showbackground": true,
            "ticks": "",
            "zerolinecolor": "white"
           }
          },
          "shapedefaults": {
           "line": {
            "color": "#2a3f5f"
           }
          },
          "ternary": {
           "aaxis": {
            "gridcolor": "white",
            "linecolor": "white",
            "ticks": ""
           },
           "baxis": {
            "gridcolor": "white",
            "linecolor": "white",
            "ticks": ""
           },
           "bgcolor": "#E5ECF6",
           "caxis": {
            "gridcolor": "white",
            "linecolor": "white",
            "ticks": ""
           }
          },
          "title": {
           "x": 0.05
          },
          "xaxis": {
           "automargin": true,
           "gridcolor": "white",
           "linecolor": "white",
           "ticks": "",
           "title": {
            "standoff": 15
           },
           "zerolinecolor": "white",
           "zerolinewidth": 2
          },
          "yaxis": {
           "automargin": true,
           "gridcolor": "white",
           "linecolor": "white",
           "ticks": "",
           "title": {
            "standoff": 15
           },
           "zerolinecolor": "white",
           "zerolinewidth": 2
          }
         }
        },
        "title": {
         "text": "Anisotropy Comparison: BERT vs GPT-2"
        },
        "xaxis": {
         "title": {
          "text": "Layer Number"
         }
        },
        "yaxis": {
         "title": {
          "text": "Anisotropy Value"
         }
        }
       }
      }
     },
     "metadata": {},
     "output_type": "display_data"
    }
   ],
   "source": [
    "import plotly.express as px\n",
    "import plotly.graph_objects as go\n",
    "import pandas as pd\n",
    "\n",
    "data = {\n",
    "    'Layer': list(range(num_layers_bert)) + list(range(num_layers_gpt)),\n",
    "    'Anisotropy': bert_anisotropies + gpt_anisotropies,\n",
    "    'Model': ['BERT'] * num_layers_bert + ['GPT-2'] * num_layers_gpt\n",
    "}\n",
    "\n",
    "df = pd.DataFrame(data)\n",
    "\n",
    "fig = go.Figure()\n",
    "\n",
    "fig.add_trace(go.Scatter(x=df[df['Model'] == 'BERT']['Layer'], \n",
    "                         y=df[df['Model'] == 'BERT']['Anisotropy'],\n",
    "                         mode='markers+lines',\n",
    "                         name='BERT',\n",
    "                         line=dict(shape='linear', dash='dot')))\n",
    "\n",
    "fig.add_trace(go.Scatter(x=df[df['Model'] == 'GPT-2']['Layer'], \n",
    "                         y=df[df['Model'] == 'GPT-2']['Anisotropy'],\n",
    "                         mode='markers+lines',\n",
    "                         name='GPT-2',\n",
    "                         line=dict(shape='linear', dash='dot')))\n",
    "\n",
    "\n",
    "fig.update_layout(\n",
    "    title=\"Anisotropy Comparison: BERT vs GPT-2\",\n",
    "    xaxis_title=\"Layer Number\",\n",
    "    yaxis_title=\"Anisotropy Value\",\n",
    "    legend_title=\"Model\",\n",
    ")\n",
    "\n",
    "fig.show()\n"
   ]
  },
  {
   "cell_type": "code",
   "execution_count": 13,
   "metadata": {},
   "outputs": [],
   "source": [
    "sentences = dataset['train'][:10]['text']  # Replace with the correct column"
   ]
  },
  {
   "cell_type": "code",
   "execution_count": 14,
   "metadata": {},
   "outputs": [],
   "source": [
    "joined = \" \".join(sentences)"
   ]
  },
  {
   "cell_type": "code",
   "execution_count": 39,
   "metadata": {},
   "outputs": [
    {
     "name": "stdout",
     "output_type": "stream",
     "text": [
      "BERT Context-Specificity: 0.8382445448270238\n",
      "GPT-2 Context-Specificity: 0.24329706827556624\n"
     ]
    }
   ],
   "source": [
    "def context_specificity(token, dataset, tokenizer, model, layer=-1):\n",
    "    embeddings = []\n",
    "    texts = dataset['text']\n",
    "    for example in texts:\n",
    "        try:\n",
    "            inputs = tokenizer(example, return_tensors=\"pt\")\n",
    "            outputs = model(**inputs, output_hidden_states=True).hidden_states[layer].squeeze(0).detach()\n",
    "        except:\n",
    "            continue\n",
    "\n",
    "        # Get index of token in the text\n",
    "        token_id = tokenizer.convert_tokens_to_ids(token)\n",
    "        if token_id in inputs['input_ids']:\n",
    "            token_index = (inputs['input_ids'] == token_id).nonzero(as_tuple=True)[1]\n",
    "            embeddings.append(outputs[token_index].mean(0))  # Averaging over token occurrences\n",
    "\n",
    "    # Compute average cosine similarity between each pair of embeddings\n",
    "    cos_similarities = []\n",
    "    for i in range(len(embeddings)):\n",
    "        for j in range(i + 1, len(embeddings)):\n",
    "            sim = 1 - cosine(embeddings[i], embeddings[j])\n",
    "            cos_similarities.append(sim)\n",
    "\n",
    "    return sum(cos_similarities) / len(cos_similarities) if cos_similarities else None\n",
    "\n",
    "# Example usage\n",
    "bert_context_specificity = context_specificity(\"nie\", dataset['train'][:100], tokenizer_bert, model_bert)\n",
    "gpt2_context_specificity = context_specificity(\"nie\", dataset['train'][:100], tokenizer_gpt, model_gpt)\n",
    "\n",
    "print(\"BERT Context-Specificity:\", bert_context_specificity)\n",
    "print(\"GPT-2 Context-Specificity:\", gpt2_context_specificity)\n"
   ]
  },
  {
   "cell_type": "code",
   "execution_count": null,
   "metadata": {},
   "outputs": [],
   "source": [
    "bert_context = []\n",
    "for i in range(num_layers_bert):\n",
    "    context = context_specificity(\"nie\", dataset['train'][:100], tokenizer_bert, model_bert, layer=i)\n",
    "    bert_context.append(context)\n",
    "\n",
    "gpt_context = []\n",
    "for i in range(num_layers_gpt):\n",
    "    context = context_specificity(\"nie\", dataset['train'][:100], tokenizer_gpt, model_gpt, layer=i)\n",
    "    gpt_context.append(context)"
   ]
  },
  {
   "cell_type": "code",
   "execution_count": null,
   "metadata": {},
   "outputs": [],
   "source": [
    "data = {\n",
    "    'Layer': list(range(num_layers_bert)) + list(range(num_layers_gpt)),\n",
    "    'Context': bert_context + gpt_context,\n",
    "    'Model': ['BERT'] * num_layers_bert + ['GPT-2'] * num_layers_gpt\n",
    "}\n",
    "\n",
    "df = pd.DataFrame(data)\n",
    "\n",
    "fig = go.Figure()\n",
    "\n",
    "fig.add_trace(go.Scatter(x=df[df['Model'] == 'BERT']['Layer'], \n",
    "                         y=df[df['Model'] == 'BERT']['Context'],\n",
    "                         mode='markers+lines',\n",
    "                         name='BERT',\n",
    "                         line=dict(shape='linear', dash='dot')))\n",
    "\n",
    "fig.add_trace(go.Scatter(x=df[df['Model'] == 'GPT-2']['Layer'], \n",
    "                         y=df[df['Model'] == 'GPT-2']['Context'],\n",
    "                         mode='markers+lines',\n",
    "                         name='GPT-2',\n",
    "                         line=dict(shape='linear', dash='dot')))\n",
    "\n",
    "\n",
    "fig.update_layout(\n",
    "    title=\"Anisotropy Comparison: BERT vs GPT-2\",\n",
    "    xaxis_title=\"Layer Number\",\n",
    "    yaxis_title=\"Anisotropy Value\",\n",
    "    legend_title=\"Model\",\n",
    ")\n",
    "\n",
    "fig.show()"
   ]
  }
 ],
 "metadata": {
  "kernelspec": {
   "display_name": "venv",
   "language": "python",
   "name": "python3"
  },
  "language_info": {
   "codemirror_mode": {
    "name": "ipython",
    "version": 3
   },
   "file_extension": ".py",
   "mimetype": "text/x-python",
   "name": "python",
   "nbconvert_exporter": "python",
   "pygments_lexer": "ipython3",
   "version": "3.12.0"
  }
 },
 "nbformat": 4,
 "nbformat_minor": 2
}
