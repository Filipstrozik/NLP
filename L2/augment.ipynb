{
 "cells": [
  {
   "cell_type": "code",
   "execution_count": 65,
   "metadata": {},
   "outputs": [],
   "source": [
    "import random\n",
    "import torch\n",
    "from transformers import AutoTokenizer, AutoModelForMaskedLM, AutoModelForCausalLM\n",
    "from datasets import load_dataset, DatasetDict\n",
    "import torch"
   ]
  },
  {
   "cell_type": "code",
   "execution_count": 47,
   "metadata": {},
   "outputs": [],
   "source": [
    "device = torch.device(\"cuda\" if torch.cuda.is_available() else \"cpu\")"
   ]
  },
  {
   "cell_type": "markdown",
   "metadata": {},
   "source": [
    "Load data"
   ]
  },
  {
   "cell_type": "code",
   "execution_count": 4,
   "metadata": {},
   "outputs": [],
   "source": [
    "polemo = load_dataset(\"clarin-pl/polemo2-official\")\n",
    "polemo_n_cls = len(polemo['train'].features['target'].names)"
   ]
  },
  {
   "cell_type": "markdown",
   "metadata": {},
   "source": [
    "### BERT"
   ]
  },
  {
   "cell_type": "code",
   "execution_count": 35,
   "metadata": {},
   "outputs": [],
   "source": [
    "tokenizer = AutoTokenizer.from_pretrained(\"allegro/herbert-base-cased\")\n",
    "bert = AutoModelForMaskedLM.from_pretrained(\"allegro/herbert-base-cased\", num_labels=polemo_n_cls, trust_remote_code=True)\n",
    "bert.to(device)\n",
    "bert.eval();"
   ]
  },
  {
   "cell_type": "markdown",
   "metadata": {},
   "source": [
    "Augment with [MASK] token"
   ]
  },
  {
   "cell_type": "code",
   "execution_count": 38,
   "metadata": {},
   "outputs": [],
   "source": [
    "def augment_text_with_masking(examples, mask_probability=0.15, top_k=3):\n",
    "    augmented_texts = []\n",
    "    for text in examples['text']:\n",
    "        # tokenize text\n",
    "        inputs = tokenizer(text, return_tensors=\"pt\", truncation=True, max_length=512)\n",
    "        inputs = {k: v.to(bert.device) for k, v in inputs.items()}\n",
    "        input_ids = inputs[\"input_ids\"]\n",
    "        \n",
    "        # mask random tokens\n",
    "        mask_positions = [\n",
    "            i for i in range(1, input_ids.size(1) - 1)  # exclude CLS and SEP tokens\n",
    "            if random.random() < mask_probability\n",
    "        ]\n",
    "        \n",
    "        # skip augmentation if no token was selected\n",
    "        if not mask_positions:\n",
    "            augmented_texts.append(text)\n",
    "            continue\n",
    "        \n",
    "        # clone and mask selected ids\n",
    "        input_ids_masked = input_ids.clone()\n",
    "        for pos in mask_positions:\n",
    "            input_ids_masked[0, pos] = tokenizer.mask_token_id\n",
    "        \n",
    "        # infer masked tokens\n",
    "        with torch.no_grad():\n",
    "            outputs = bert(input_ids_masked)\n",
    "            predictions = outputs.logits\n",
    "        \n",
    "        # replace masked tokens with top predicted tokens\n",
    "        for pos in mask_positions:\n",
    "            top_tokens = torch.topk(predictions[0, pos], top_k).indices\n",
    "            selected_token = top_tokens[random.randint(0, top_k - 1)]\n",
    "            input_ids[0, pos] = selected_token\n",
    "        \n",
    "        # decode augmented text\n",
    "        augmented_text = tokenizer.decode(input_ids[0], skip_special_tokens=True)\n",
    "        augmented_texts.append(augmented_text)\n",
    "    \n",
    "    return {\"text\": augmented_texts, \"target\": examples[\"target\"]}"
   ]
  },
  {
   "cell_type": "code",
   "execution_count": null,
   "metadata": {},
   "outputs": [],
   "source": [
    "augmented_data_seq = polemo.map(\n",
    "    augment_text_with_masking, \n",
    "    batched=True, \n",
    "    batch_size=64, \n",
    "    desc=\"Augmenting data with masking\", \n",
    "    fn_kwargs={\"mask_probability\": 0.3, \"top_k\": 3}\n",
    ")"
   ]
  },
  {
   "cell_type": "code",
   "execution_count": 62,
   "metadata": {},
   "outputs": [
    {
     "name": "stdout",
     "output_type": "stream",
     "text": [
      "Original text:\n",
      "Zakochali śmy się z mężem w hotelach PURO . Byli śmy oczarowani Puro Hotel Gdańsk . Jak tylko nadarzyła się okazja spędzenia weekendu \" gdzieś \" to bez wahania wybrali śmy takie miasto gdzie jest Puro Hotel . Padło na Poznań . I znów rewelacja , nie zawiedli śmy się na niczym . Tak jak oczekiwali śmy : pokoje , jedzenie , lobby , komfort , czystość , obsługa , wygoda , lokalizacja , wszystko na najwyższym poziomie . Teraz czeka nas Puro Hotel Kraków . Do zobaczenia ! Zachęcamy !\n",
      "\n",
      "Augmented text:\n",
      "Zakochali śmy się z mężem w hotelach P& O . Byli śmy zaczarż Puro Hotel Gdańsk . Jak tylko narzała się okazja spędzenia weekendu \" gdzieś \" to bez wahania wybrali śmy takie miasto gdzie jest Puro Hotel GPadka na weekend . I znów rewelacja , nie zawieliśmy się z niczym . Tak jak chcieli śmy : pokoje , wy, kuchnia , komfort , czystość , splwycja , ne wszystko na najwyższym poziomie , Teraz czeka nuro uro Hotel Kraków . o zobaczenia . Zachęcamy .\n",
      "\n",
      "\n",
      "Original text:\n",
      "Test bazy 2wayFix + fotelik Pebble Maxi - Cosi 2014 Ogromne rozczarowanie po zakupie . Sugerując się dotychczasowymi opiniami co do produktów Maxi - cosi , zakupił em powyższy zestaw dla swojego dziecka . Zakup w sklepie internetowym więc nie miałem okazji wcześniej przetestować na żywo . Okazuje się , że polecany zestaw 2way family po prostu do siebie nie pasuje ( jest źle spasowany ) . Oczywiście odwiedził em serwis mieszczący się w Chorzowie gdzie mi wytłumaczono i pokazano na innych egzemplarzach , że tak właśnie jest dobrze . A jeżeli sami chcecie się przekonać co znaczy dobrze to zapraszam do obejrzenia filmiku .\n",
      "\n",
      "Augmented text:\n",
      "Test bazy 2- yfotey + fotelik 1xi ble - xi - Cwyiiy rozczarowanie po zakupie . Sukieruując się dotychczasowymi opiniami co do produktów Maxi - j osi , a kupił em powyższy model dla mojego dziecka . Jednak kup z sklepie internetowym więc nie miałem no przetestze żywo ! Okazuje się , ze polecany produkt 2way family po części do siebie nie pasuje ( jest nie spasowany ) . Oczywiście odwiedził sę mieszczący się w Chorzowie i mi no czono i pokazano 2e egzemplarzach oae właśnie jest dobrze . A jeżeli sami chcecie się przekonać co znaczy dobrze to zapraszam do obejrzenia filmiku :\n",
      "\n",
      "\n",
      "Original text:\n",
      "Dobór odpowiedniego zapachu nadal pozostaje kwestią indywidualną bowiem zależy od gustu osoby . Ten Chanel jest bardziej cytrusowy niż jego zwykły odpowiednik . Zapach strasznie mi się podoba , świetnie komponuje się na skórze . Po psiknięciu chmura zapachu utrzymuje się u mnie do 2 godzin , później jest odczuwalny tylko przy zbliżeniu . Na drugi dzień jeszcze trochę go czuć , szczególnie na ubraniu . Smuci jedynie fakt , że cena jest zbyt duża - za granicą cena utrzymuje się za ponad 100 zł . Idealny na ciepłe dni . Podoba się także kobietom\n",
      "\n",
      "Augmented text:\n",
      "Dobór najlepszego zapachu nadal pozostaje kwestią indywidualną bowiem zależy od gustu osoby ce Chanel , bardziej cypachalny niż jego zwykły zapach . Na pach strasznie sę podoba , świetnie komponuje się na skórze . Po rozkeniu mura łaje się łać do 2 godzin , później pozostaje odczuwalny tylko przy zblidniu Na drugi dzień jeszcze trochę go czuć aszczególnie pż niu . Smuci jedynie fakt , że cena była zbyt duża alż cena utrzymuje się da 100 zł . Idealny w ciepłe dni . Podoba się także .\n",
      "\n",
      "\n",
      "Original text:\n",
      "Pani Dr . Bystrzanowska nie interesuje sie problemem pacjenta ! Wiecznie wygląda na znudzoną i widać , że nie lubi swojej pracy . Pierwszy raz spotkał em sie z takim podejściem do pacjenta , nawet w publicznej przychodni był em lepiej traktowany ( a u niej wizyta to 100zł ) . Siedzi wiecznie wpatrzona w laptopa a ma otwarte tylko gg ! ! ! ) . Kilka wizyt to tylko kilka stów wywalonych w błoto . Pomogli mi dopiero w klinice na koszykowej a tam nic sie nie płaci ! Tak wiec stanowczo odradzam - ewentualnie jeśli ktoś chce sobie popatrzeć na śliczną panią doktor przez 10min za cenę 100zł to jak najbardziej : )\n",
      "\n",
      "Augmented text:\n",
      "rs. Bystniie interesuje sie problemem pacjenta ! Wiecznie ona znutpie widać , że nie lubi swojej pracy . Pierwszy raz spotkał em sie z takim - ściem pattem nawet w mojej przychodni jest em nie traktowany ( kaza wizyta to 1 zł ! . Siedzi tak wpatrzona w laptopa a ma otwarte tylko gg ! h) . Kilka wizyt po kilka stów wywali w tyrPoo mi snc na koszykowej a potem nic mi nie płaci ! Tak wiec stanowczo odradzam - ale jeśli ktoś chce sobie pozwolić na śliczną panią fryzjerprzez 10min za cenę 5 zł to jak najbardziej : )\n",
      "\n",
      "\n"
     ]
    }
   ],
   "source": [
    "for idx in random.sample(range(polemo[\"train\"].num_rows), 4):\n",
    "    example = polemo['train'][idx]\n",
    "    print(f\"Original text:\\n{example['text']}\\n\")\n",
    "    \n",
    "    augmented_example = augmented_data_seq['train'][idx]\n",
    "    print(f\"Augmented text:\\n{augmented_example['text']}\\n\\n\")"
   ]
  },
  {
   "cell_type": "code",
   "execution_count": 49,
   "metadata": {},
   "outputs": [
    {
     "data": {
      "application/vnd.jupyter.widget-view+json": {
       "model_id": "4324d29fb6374f7da09fec7a8ee4852a",
       "version_major": 2,
       "version_minor": 0
      },
      "text/plain": [
       "Saving the dataset (0/1 shards):   0%|          | 0/6573 [00:00<?, ? examples/s]"
      ]
     },
     "metadata": {},
     "output_type": "display_data"
    },
    {
     "data": {
      "application/vnd.jupyter.widget-view+json": {
       "model_id": "8f197a778fc0490ca9f35cfc8b7ae23d",
       "version_major": 2,
       "version_minor": 0
      },
      "text/plain": [
       "Saving the dataset (0/1 shards):   0%|          | 0/823 [00:00<?, ? examples/s]"
      ]
     },
     "metadata": {},
     "output_type": "display_data"
    },
    {
     "data": {
      "application/vnd.jupyter.widget-view+json": {
       "model_id": "a48e16c1de614afdb6f6b22809943feb",
       "version_major": 2,
       "version_minor": 0
      },
      "text/plain": [
       "Saving the dataset (0/1 shards):   0%|          | 0/820 [00:00<?, ? examples/s]"
      ]
     },
     "metadata": {},
     "output_type": "display_data"
    }
   ],
   "source": [
    "augmented_data_seq.save_to_disk(\"data/polemo2-augmented-BERT\")"
   ]
  },
  {
   "cell_type": "markdown",
   "metadata": {},
   "source": [
    "### GPT2"
   ]
  },
  {
   "cell_type": "code",
   "execution_count": 63,
   "metadata": {},
   "outputs": [],
   "source": [
    "tokenizer = AutoTokenizer.from_pretrained(\"sdadas/polish-gpt2-medium\")\n",
    "gpt2 = AutoModelForCausalLM.from_pretrained(\"sdadas/polish-gpt2-medium\", num_labels=polemo_n_cls, trust_remote_code=True)\n",
    "gpt2.to(device)\n",
    "gpt2.eval();"
   ]
  },
  {
   "cell_type": "markdown",
   "metadata": {},
   "source": [
    "Augment with generative model"
   ]
  },
  {
   "cell_type": "code",
   "execution_count": 64,
   "metadata": {},
   "outputs": [],
   "source": [
    "def augment_text_with_generation(examples, temperature=0.7, top_k=3, top_p=0.9, max_new_tokens=50):\n",
    "    augmented_texts = []\n",
    "    for text in examples['text']:\n",
    "        # tokenize text\n",
    "        inputs = tokenizer(text, return_tensors=\"pt\", truncation=True, max_length=128)\n",
    "        inputs = {k: v.to(gpt2.device) for k, v in inputs.items()}\n",
    "        \n",
    "        # Generate new samples\n",
    "        output = gpt2.generate(\n",
    "            inputs[\"input_ids\"],\n",
    "            max_new_tokens=max_new_tokens,\n",
    "            temperature=temperature,\n",
    "            top_k=top_k,\n",
    "            top_p=top_p,\n",
    "            do_sample=True,\n",
    "            pad_token_id=tokenizer.eos_token_id\n",
    "        )\n",
    "        # Decode generated text and add it to augmented texts\n",
    "        generated_text = tokenizer.decode(output[0], skip_special_tokens=True)\n",
    "        augmented_texts.append(generated_text)\n",
    "    \n",
    "    return {\"text\": augmented_texts, \"target\": examples[\"target\"]}"
   ]
  },
  {
   "cell_type": "code",
   "execution_count": 67,
   "metadata": {},
   "outputs": [],
   "source": [
    "subset_polemo = DatasetDict({\n",
    "    \"train\": polemo[\"train\"].select(range(polemo[\"train\"].num_rows//3)),\n",
    "    \"validation\": polemo[\"validation\"].select(range(polemo[\"validation\"].num_rows//3)),\n",
    "    \"test\": polemo[\"test\"].select(range(polemo[\"test\"].num_rows//3)),\n",
    "})"
   ]
  },
  {
   "cell_type": "code",
   "execution_count": 69,
   "metadata": {},
   "outputs": [
    {
     "data": {
      "application/vnd.jupyter.widget-view+json": {
       "model_id": "4c686268de1f4e369defb110037d9376",
       "version_major": 2,
       "version_minor": 0
      },
      "text/plain": [
       "Augmenting data with generative model:   0%|          | 0/2191 [00:00<?, ? examples/s]"
      ]
     },
     "metadata": {},
     "output_type": "display_data"
    },
    {
     "data": {
      "application/vnd.jupyter.widget-view+json": {
       "model_id": "160036958dde44afb87caae8e46e9374",
       "version_major": 2,
       "version_minor": 0
      },
      "text/plain": [
       "Augmenting data with generative model:   0%|          | 0/274 [00:00<?, ? examples/s]"
      ]
     },
     "metadata": {},
     "output_type": "display_data"
    },
    {
     "data": {
      "application/vnd.jupyter.widget-view+json": {
       "model_id": "d6e4b3de73244239991d756bd52deb4d",
       "version_major": 2,
       "version_minor": 0
      },
      "text/plain": [
       "Augmenting data with generative model:   0%|          | 0/273 [00:00<?, ? examples/s]"
      ]
     },
     "metadata": {},
     "output_type": "display_data"
    }
   ],
   "source": [
    "augmented_data_seq = subset_polemo.map(\n",
    "    augment_text_with_generation,\n",
    "    batched=True,\n",
    "    batch_size=32,\n",
    "    desc=\"Augmenting data with generative model\",\n",
    "    fn_kwargs={\"temperature\": 0.7, \"top_k\": 3, \"top_p\": 0.8, \"max_new_tokens\": 50},\n",
    ")"
   ]
  },
  {
   "cell_type": "code",
   "execution_count": 72,
   "metadata": {},
   "outputs": [
    {
     "name": "stdout",
     "output_type": "stream",
     "text": [
      "Original text:\n",
      "Do Dr skierował mnie lekarz z CZMP , prywatnie wykonywał mi USG i niestety z przeprowadzonego przez niego badania USG nie jestem zadowolona . Nie raczył mi wytłumaczyć w czasie badania zauważonej zmiany , tylko dyktował asystentce . Brak w jego gabinecie przebieralni , co jest niezbędne przy przygotowaniu do tego badania . Nie polecam . liczy się tylko kasa , kasa .\n",
      "\n",
      "Augmented text:\n",
      "Do Dr skierował mnie lekarz z CZMP , prywatnie wykonywał mi USG i niestety z przeprowadzonego przez niego badania USG nie jestem zadowolona . Nie raczył mi wytłumaczyć w czasie badania zauważonej zmiany , tylko dyktował asystentce . Brak w jego gabinecie przebieralni , co jest niezbędne przy przygotowaniu do tego badania . Nie polecam . liczy się tylko kasa , kasa .\n",
      "\n",
      "\n",
      "Original text:\n",
      "Hotel może na jedną noc , ale nie więcej ! Ja musiała m niestety spędzić tam 11 nocy i mimo , że zabukowany był na 12 , to ostatnią noc wolała m spędzić w samochodzie niż spać w tym hotelu . Zaznaczam , że sypiam w różnych hotelach i od hotelu typu „ low budget ” nie oczekiwała m wiele . Dlatego tez nie będę się rozpisywać na temat wyposażenia czy standardu . Jednak nawet najtańszy hotel powinien być CZYSTY . Tutaj odkąd weszła m do pokoju kabina prysznicowa była brudna , podłoga nie do końca umyta , zlew to samo . Później z dnia na dzien serwis sprzątający robił coraz mniej , a pokój z upływem czasu stawał się coraz brudniejszy . Serwis sprzątający polegał na wymianie ręczników ( często zostawiali jeden za mało albo poplamione dziurawe ręczniki - okropność ! ) oraz zabraniu śmieci . Jak któregoś dnia skończył się papier postanowiła m poirytowana pójść na recepcje i zapytać się co należy do obowiązków obsługi sprzątającej - dowiedziała m się ze nawet nie odkurzenie czy umycie podłogi ! ! Zapytała m jeszcze raz - czy jeśli jesteśmy w pokoju 11 nocy to nikt nie umyje ani nie odkurzy w tym czasie podłogi ? - NIE . Masakra ! ! Po złożeniu oficjalnej skargi , dwa kolejne ( i ostatnie dni ) pokój jakby wydawał się bardziej czysty . Drugi punkt to śniadania . Na stronie piękne zdjęcia jajecznicy , a w rzeczywistości zimne nie wiadomo kiedy ugotowane na twardo jajka , najgorszej jakości szynka i ser , pomidory i ogórki śmierdzące uwaga - rybą ! Jogurty i muesli . W sumie to wszystko : ) jak zobaczyła m tego samego pana co obsługuje recepcje jak na zapleczu kuchennym wyjmuje ze zwykłego worka foliowego mrożone bułki gołą ręka ( bez rękawiczki ! ! ! ) i układa je na talerz żeby włożyć do mikrofalówki to odechciało mi się jedzenia w tym miejscu , a tymbardziej przestała m się dziwić czemu warzywa śmierdzą np rybami . . tylko gdzie w tym wszystkim sanepid ? ! Radzę omijać hotel szerokim łukiem . .\n",
      "\n",
      "Augmented text:\n",
      "Hotel może na jedną noc , ale nie więcej ! Ja musiała m niestety spędzić tam 11 nocy i mimo , że zabukowany był na 12 , to ostatnią noc wolała m spędzić w samochodzie niż spać w tym hotelu . Zaznaczam , że sypiam w różnych hotelach i od hotelu typu „ low budget ” nie oczekiwała m wiele . Dlatego tez nie będę się rozpisywać na temat wyposażenia czy standardu . Jednak nawet najtańszy hotel powinien być CZYSTY . Tutaj odkąd weszła m do pokoju kabina prysznicowa była brudna , podłoga nie do końca umyta , zlew to samo . Później z dnia na dzien serwis sprzątający robił coraz mniej , a w końcu przestał . Pomimo , że nie miałam żadnych skarg , to po tym jak sprzątałam łazienkę , to po powrocie do hotelu byłam już w stanie stwierdzić , że jest to syf i nie polecam . Po tym jak sprzątałam łazienkę ,\n",
      "\n",
      "\n",
      "Original text:\n",
      "Na jeden nocleg może być , ale na dłuższą metę raczej nie polecam . Dużym plusem jest lokalizacja , miła obsługa i pyszne śniadania . Niestety wystrój hotelu jest słaby , a do tego jest strasznie brudny . Pokoje nie są sprzątane . Na kanapie i wykładzinie można było znaleźć resztki jedzenia i włosy poprzednich gości . Aż strach pomyśleć co znajduje się w części dwóch gwiazdek .\n",
      "\n",
      "Augmented text:\n",
      "Na jeden nocleg może być , ale na dłuższą metę raczej nie polecam . Dużym plusem jest lokalizacja , miła obsługa i pyszne śniadania . Niestety wystrój hotelu jest słaby , a do tego jest strasznie brudny . Pokoje nie są sprzątane . Na kanapie i wykładzinie można było znaleźć resztki jedzenia i włosy poprzednich gości . Aż strach pomyśleć co znajduje się w części dwóch gwiazdek .\n",
      "\n",
      "\n",
      "Original text:\n",
      "\" Nasze urządzenie istnieje już od kilku miesięcy , jednak aby można było je sprzedawać , musi przejść testy kliniczne . Do badania klinicznego zaproszone będą wszystkie te ośrodki . Ten etap chcemy zakończyć jeszcze w 2018 roku \" - planuje rozmówca PAP . Urządzenie - według wstępnych szacunków - będzie kosztowało około 700 euro , ale pod uwagę brane są różne formy płatności , np . mikropłatności , aby użytkownik płacił za faktycznie wykorzystane godziny . Twórcy urządzenia obecnie biorą udział w międzynarodowym konkursie Chivas The Venture . Twórcy konkursu co roku inwestują 1 milion dolarów w projekty , które poprawiają jakość ludzkiego życia . Do 25 kwietnia internauci przez swoje konto na Facebooku mogą zagłosować na konkretny projekt spośród 27 zaproponowanych przez organizatorów ( bit.ly/eNDaphasia ) . Zdobywca pierwszego miejsca otrzyma 50 tys . dolarów . W sumie na ten etap konkursu przeznaczono pulę nagród 200 tys . dolarów . W ostatnim etapie finału światowego , który zakończy się konferencją w Amsterdamie , zostaną przyznane nagrody z puli 800 tys . dolarów .\n",
      "\n",
      "Augmented text:\n",
      "\" Nasze urządzenie istnieje już od kilku miesięcy , jednak aby można było je sprzedawać , musi przejść testy kliniczne . Do badania klinicznego zaproszone będą wszystkie te ośrodki . Ten etap chcemy zakończyć jeszcze w 2018 roku \" - planuje rozmówca PAP . Urządzenie - według wstępnych szacunków - będzie kosztowało około 700 euro , ale pod uwagę brane są różne formy płatności , np . mikropłatności , aby użytkownik płacił za faktycznie wykorzystane godziny . Twórcy urządzenia obecnie biorą udział w międzynarodowym konkursie Chivas The Venture . Twórcy konkursu co roku inwestują 1 milion dolarów w projekty , które poprawiają jakość ludzkiego życia . Do 25 kwietnia internauci przez swoje strony na Facebooku mogą zgłaszać swoje pomysły na urządzenia, które poprawią jakość życia . Zwycięzca konkursu otrzyma nagrodę w wysokości 1 miliona dolarów . W tym roku do konkursu zgłoszono ponad 200 projektów .\n",
      "\n",
      "\n"
     ]
    }
   ],
   "source": [
    "for idx in random.sample(range(subset_polemo[\"train\"].num_rows), 4):\n",
    "    example = subset_polemo['train'][idx]\n",
    "    print(f\"Original text:\\n{example['text']}\\n\")\n",
    "    \n",
    "    augmented_example = augmented_data_seq['train'][idx]\n",
    "    print(f\"Augmented text:\\n{augmented_example['text']}\\n\\n\")"
   ]
  },
  {
   "cell_type": "code",
   "execution_count": 70,
   "metadata": {},
   "outputs": [
    {
     "data": {
      "application/vnd.jupyter.widget-view+json": {
       "model_id": "fbc3b78463bb4c42a2e53fc1cda72e64",
       "version_major": 2,
       "version_minor": 0
      },
      "text/plain": [
       "Saving the dataset (0/1 shards):   0%|          | 0/2191 [00:00<?, ? examples/s]"
      ]
     },
     "metadata": {},
     "output_type": "display_data"
    },
    {
     "data": {
      "application/vnd.jupyter.widget-view+json": {
       "model_id": "0c538a3fc3d84bb09374f77b2e9651e6",
       "version_major": 2,
       "version_minor": 0
      },
      "text/plain": [
       "Saving the dataset (0/1 shards):   0%|          | 0/274 [00:00<?, ? examples/s]"
      ]
     },
     "metadata": {},
     "output_type": "display_data"
    },
    {
     "data": {
      "application/vnd.jupyter.widget-view+json": {
       "model_id": "882a001a4e1445f1a3daf3d36be9b31f",
       "version_major": 2,
       "version_minor": 0
      },
      "text/plain": [
       "Saving the dataset (0/1 shards):   0%|          | 0/273 [00:00<?, ? examples/s]"
      ]
     },
     "metadata": {},
     "output_type": "display_data"
    }
   ],
   "source": [
    "augmented_data_seq.save_to_disk(\"data/polemo2-augmented-GPT2\")"
   ]
  }
 ],
 "metadata": {
  "kernelspec": {
   "display_name": "PJN",
   "language": "python",
   "name": "python3"
  },
  "language_info": {
   "codemirror_mode": {
    "name": "ipython",
    "version": 3
   },
   "file_extension": ".py",
   "mimetype": "text/x-python",
   "name": "python",
   "nbconvert_exporter": "python",
   "pygments_lexer": "ipython3",
   "version": "3.11.10"
  }
 },
 "nbformat": 4,
 "nbformat_minor": 2
}
