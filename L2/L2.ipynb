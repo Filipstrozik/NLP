{
 "cells": [
  {
   "cell_type": "markdown",
   "metadata": {},
   "source": [
    "# II część - Analiza własności modeli językowych (4 pkt)"
   ]
  },
  {
   "cell_type": "markdown",
   "metadata": {},
   "source": [
    "## 1 zad\n",
    "Należy wykorzystać dołączony do zadania zbiór danych z podpunktu A i\n",
    "odtworzyć badanie z podpunktu B dla modeli BERT i GPT-2 . [2pkt]\n",
    "1. wykonać analizę anizotropii (Anisotropy)\n",
    "1. wykonać analizę zależności od kontekstu (Context-Specificity)"
   ]
  },
  {
   "cell_type": "markdown",
   "metadata": {},
   "source": [
    "## 2 zad\n",
    "Proszę wykorzystać technikę Parameter Projection omówioną w artykule z\n",
    "podpunktu C niniejszej instrukcji, następnie dokonać analizy modeli BERT-base i\n",
    "GPT-2 [1,5pkt]\n",
    "1. do analizy należy wybrać modele polskojęzyczny\n",
    "sdadas/polish-gpt2-medium,\n",
    "1. proszę utworzyć listy z załączników C.1 oraz C.2 przedstawionych w\n",
    "artykule,\n",
    "1. należy przeanalizować utworzone listy i podsumować uzyskane rezultaty."
   ]
  },
  {
   "cell_type": "markdown",
   "metadata": {},
   "source": []
  }
 ],
 "metadata": {
  "kernelspec": {
   "display_name": "PJN",
   "language": "python",
   "name": "python3"
  },
  "language_info": {
   "codemirror_mode": {
    "name": "ipython",
    "version": 3
   },
   "file_extension": ".py",
   "mimetype": "text/x-python",
   "name": "python",
   "nbconvert_exporter": "python",
   "pygments_lexer": "ipython3",
   "version": "3.11.10"
  }
 },
 "nbformat": 4,
 "nbformat_minor": 2
}
