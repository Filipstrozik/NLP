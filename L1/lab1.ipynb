{
 "cells": [
  {
   "cell_type": "code",
   "execution_count": 1,
   "metadata": {},
   "outputs": [
    {
     "name": "stderr",
     "output_type": "stream",
     "text": [
      "[nltk_data] Downloading package stopwords to\n",
      "[nltk_data]     /Users/filipstrozik/nltk_data...\n",
      "[nltk_data]   Package stopwords is already up-to-date!\n",
      "[nltk_data] Downloading package punkt_tab to\n",
      "[nltk_data]     /Users/filipstrozik/nltk_data...\n",
      "[nltk_data]   Package punkt_tab is already up-to-date!\n"
     ]
    },
    {
     "data": {
      "text/plain": [
       "True"
      ]
     },
     "execution_count": 1,
     "metadata": {},
     "output_type": "execute_result"
    }
   ],
   "source": [
    "import pandas as pd\n",
    "import pandas as pd\n",
    "import numpy as np\n",
    "from sklearn.manifold import TSNE\n",
    "import plotly.express as px\n",
    "import nltk\n",
    "from nltk.corpus import stopwords\n",
    "import string\n",
    "import fasttext\n",
    "from sklearn.feature_extraction.text import TfidfVectorizer\n",
    "from sklearn.cluster import HDBSCAN\n",
    "\n",
    "nltk.download(\"stopwords\")\n",
    "nltk.download(\"punkt_tab\")"
   ]
  },
  {
   "cell_type": "markdown",
   "metadata": {},
   "source": [
    "# Load data"
   ]
  },
  {
   "cell_type": "code",
   "execution_count": 3,
   "metadata": {},
   "outputs": [],
   "source": [
    "import json\n",
    "\n",
    "def load_annotations(file_path):\n",
    "    with open(file_path, \"r\", encoding=\"utf-8\") as jfile:\n",
    "        jdata = json.load(jfile)\n",
    "    return jdata\n",
    "\n",
    "\n",
    "def extract_annotations(annotations):\n",
    "    annot_dict = {}\n",
    "    for task in annotations:\n",
    "        full_text = task[\"data\"][\"text\"]\n",
    "        annot_dict[task[\"id\"]] = {\n",
    "            \"text\": full_text,\n",
    "            \"overall_label\": None,\n",
    "            \"span_labels\": {},\n",
    "        }\n",
    "        # Extarct annot info\n",
    "        for annot in task[\"annotations\"][0][\"result\"]:\n",
    "            if annot[\"from_name\"] == \"label\":\n",
    "                start = annot[\"value\"][\"start\"]\n",
    "                end = annot[\"value\"][\"end\"]\n",
    "                text = annot[\"value\"][\"text\"].strip()\n",
    "                label = annot[\"value\"][\"labels\"][0]\n",
    "                annot_dict[task[\"id\"]][\"span_labels\"][(start, end)] = (text, label)\n",
    "            else:\n",
    "                annot_dict[task[\"id\"]][\"overall_label\"] = annot[\"value\"][\"choices\"][0]\n",
    "    return annot_dict\n",
    "\n",
    "final_1_100 = load_annotations(\"../annot/1-100/final_1_100.json\")\n",
    "final_1_100_dict = extract_annotations(final_1_100)\n",
    "final_101_200 = load_annotations(\"../annot/101-200/final_101_200.json\")\n",
    "final_101_200_dict = extract_annotations(final_101_200)\n",
    "\n",
    "# Combine the two dictionaries\n",
    "final_dict = {**final_1_100_dict, **final_101_200_dict}\n",
    "\n"
   ]
  },
  {
   "cell_type": "code",
   "execution_count": 12,
   "metadata": {},
   "outputs": [
    {
     "name": "stdout",
     "output_type": "stream",
     "text": [
      " Total word count: 13013\n",
      " Total sentence count: 694\n",
      " Total number of tasks: 200\n"
     ]
    }
   ],
   "source": [
    "def analyze_word_count(data_dict):\n",
    "    word_count_dict = {}\n",
    "    for key, value in data_dict.items():\n",
    "        text = value.get(\"text\", \"\")\n",
    "        word_count = len(text.split())\n",
    "        word_count_dict[key] = word_count\n",
    "    return word_count_dict\n",
    "\n",
    "def analyze_sentence_count(data_dict):\n",
    "    sentence_count_dict = {}\n",
    "    for key, value in data_dict.items():\n",
    "        text = value.get(\"text\", \"\")\n",
    "        sentence_count = len(nltk.sent_tokenize(text))\n",
    "        sentence_count_dict[key] = sentence_count\n",
    "    return sentence_count_dict\n",
    "\n",
    "# Analyze word count in final_dict\n",
    "word_count_analysis = analyze_word_count(final_dict)\n",
    "word_count = sum(word_count_analysis.values())\n",
    "print(f\" Total word count: {word_count}\")\n",
    "\n",
    "# Analyze sentence count in final_dict\n",
    "sentence_count_analysis = analyze_sentence_count(final_dict)\n",
    "sentence_count = sum(sentence_count_analysis.values())\n",
    "print(f\" Total sentence count: {sentence_count}\")\n",
    "\n",
    "print(f\" Total number of tasks: {len(final_dict)}\")\n"
   ]
  },
  {
   "cell_type": "code",
   "execution_count": 6,
   "metadata": {},
   "outputs": [
    {
     "name": "stdout",
     "output_type": "stream",
     "text": [
      "{'drama': 76, 'romance': 14, 'action': 31, 'comedy': 46, 'fantasy': 17, 'western': 9, 'document': 7}\n"
     ]
    }
   ],
   "source": [
    "def analyze_label_distribution(data_dict):\n",
    "    label_distribution = {}\n",
    "    for key, value in data_dict.items():\n",
    "        overall_label = value.get(\"overall_label\", \"\")\n",
    "        if overall_label:\n",
    "            if overall_label in label_distribution:\n",
    "                label_distribution[overall_label] += 1\n",
    "            else:\n",
    "                label_distribution[overall_label] = 1\n",
    "    return label_distribution\n",
    "\n",
    "label_distribution = analyze_label_distribution(final_dict)\n",
    "print(label_distribution)"
   ]
  },
  {
   "cell_type": "code",
   "execution_count": 7,
   "metadata": {},
   "outputs": [
    {
     "data": {
      "application/vnd.plotly.v1+json": {
       "config": {
        "plotlyServerURL": "https://plot.ly"
       },
       "data": [
        {
         "domain": {
          "x": [
           0,
           1
          ],
          "y": [
           0,
           1
          ]
         },
         "hovertemplate": "label=%{label}<br>value=%{value}<extra></extra>",
         "labels": [
          "drama",
          "romance",
          "action",
          "comedy",
          "fantasy",
          "western",
          "document"
         ],
         "legendgroup": "",
         "name": "",
         "showlegend": true,
         "type": "pie",
         "values": [
          76,
          14,
          31,
          46,
          17,
          9,
          7
         ]
        }
       ],
       "layout": {
        "legend": {
         "tracegroupgap": 0
        },
        "template": {
         "data": {
          "bar": [
           {
            "error_x": {
             "color": "#2a3f5f"
            },
            "error_y": {
             "color": "#2a3f5f"
            },
            "marker": {
             "line": {
              "color": "#E5ECF6",
              "width": 0.5
             },
             "pattern": {
              "fillmode": "overlay",
              "size": 10,
              "solidity": 0.2
             }
            },
            "type": "bar"
           }
          ],
          "barpolar": [
           {
            "marker": {
             "line": {
              "color": "#E5ECF6",
              "width": 0.5
             },
             "pattern": {
              "fillmode": "overlay",
              "size": 10,
              "solidity": 0.2
             }
            },
            "type": "barpolar"
           }
          ],
          "carpet": [
           {
            "aaxis": {
             "endlinecolor": "#2a3f5f",
             "gridcolor": "white",
             "linecolor": "white",
             "minorgridcolor": "white",
             "startlinecolor": "#2a3f5f"
            },
            "baxis": {
             "endlinecolor": "#2a3f5f",
             "gridcolor": "white",
             "linecolor": "white",
             "minorgridcolor": "white",
             "startlinecolor": "#2a3f5f"
            },
            "type": "carpet"
           }
          ],
          "choropleth": [
           {
            "colorbar": {
             "outlinewidth": 0,
             "ticks": ""
            },
            "type": "choropleth"
           }
          ],
          "contour": [
           {
            "colorbar": {
             "outlinewidth": 0,
             "ticks": ""
            },
            "colorscale": [
             [
              0,
              "#0d0887"
             ],
             [
              0.1111111111111111,
              "#46039f"
             ],
             [
              0.2222222222222222,
              "#7201a8"
             ],
             [
              0.3333333333333333,
              "#9c179e"
             ],
             [
              0.4444444444444444,
              "#bd3786"
             ],
             [
              0.5555555555555556,
              "#d8576b"
             ],
             [
              0.6666666666666666,
              "#ed7953"
             ],
             [
              0.7777777777777778,
              "#fb9f3a"
             ],
             [
              0.8888888888888888,
              "#fdca26"
             ],
             [
              1,
              "#f0f921"
             ]
            ],
            "type": "contour"
           }
          ],
          "contourcarpet": [
           {
            "colorbar": {
             "outlinewidth": 0,
             "ticks": ""
            },
            "type": "contourcarpet"
           }
          ],
          "heatmap": [
           {
            "colorbar": {
             "outlinewidth": 0,
             "ticks": ""
            },
            "colorscale": [
             [
              0,
              "#0d0887"
             ],
             [
              0.1111111111111111,
              "#46039f"
             ],
             [
              0.2222222222222222,
              "#7201a8"
             ],
             [
              0.3333333333333333,
              "#9c179e"
             ],
             [
              0.4444444444444444,
              "#bd3786"
             ],
             [
              0.5555555555555556,
              "#d8576b"
             ],
             [
              0.6666666666666666,
              "#ed7953"
             ],
             [
              0.7777777777777778,
              "#fb9f3a"
             ],
             [
              0.8888888888888888,
              "#fdca26"
             ],
             [
              1,
              "#f0f921"
             ]
            ],
            "type": "heatmap"
           }
          ],
          "heatmapgl": [
           {
            "colorbar": {
             "outlinewidth": 0,
             "ticks": ""
            },
            "colorscale": [
             [
              0,
              "#0d0887"
             ],
             [
              0.1111111111111111,
              "#46039f"
             ],
             [
              0.2222222222222222,
              "#7201a8"
             ],
             [
              0.3333333333333333,
              "#9c179e"
             ],
             [
              0.4444444444444444,
              "#bd3786"
             ],
             [
              0.5555555555555556,
              "#d8576b"
             ],
             [
              0.6666666666666666,
              "#ed7953"
             ],
             [
              0.7777777777777778,
              "#fb9f3a"
             ],
             [
              0.8888888888888888,
              "#fdca26"
             ],
             [
              1,
              "#f0f921"
             ]
            ],
            "type": "heatmapgl"
           }
          ],
          "histogram": [
           {
            "marker": {
             "pattern": {
              "fillmode": "overlay",
              "size": 10,
              "solidity": 0.2
             }
            },
            "type": "histogram"
           }
          ],
          "histogram2d": [
           {
            "colorbar": {
             "outlinewidth": 0,
             "ticks": ""
            },
            "colorscale": [
             [
              0,
              "#0d0887"
             ],
             [
              0.1111111111111111,
              "#46039f"
             ],
             [
              0.2222222222222222,
              "#7201a8"
             ],
             [
              0.3333333333333333,
              "#9c179e"
             ],
             [
              0.4444444444444444,
              "#bd3786"
             ],
             [
              0.5555555555555556,
              "#d8576b"
             ],
             [
              0.6666666666666666,
              "#ed7953"
             ],
             [
              0.7777777777777778,
              "#fb9f3a"
             ],
             [
              0.8888888888888888,
              "#fdca26"
             ],
             [
              1,
              "#f0f921"
             ]
            ],
            "type": "histogram2d"
           }
          ],
          "histogram2dcontour": [
           {
            "colorbar": {
             "outlinewidth": 0,
             "ticks": ""
            },
            "colorscale": [
             [
              0,
              "#0d0887"
             ],
             [
              0.1111111111111111,
              "#46039f"
             ],
             [
              0.2222222222222222,
              "#7201a8"
             ],
             [
              0.3333333333333333,
              "#9c179e"
             ],
             [
              0.4444444444444444,
              "#bd3786"
             ],
             [
              0.5555555555555556,
              "#d8576b"
             ],
             [
              0.6666666666666666,
              "#ed7953"
             ],
             [
              0.7777777777777778,
              "#fb9f3a"
             ],
             [
              0.8888888888888888,
              "#fdca26"
             ],
             [
              1,
              "#f0f921"
             ]
            ],
            "type": "histogram2dcontour"
           }
          ],
          "mesh3d": [
           {
            "colorbar": {
             "outlinewidth": 0,
             "ticks": ""
            },
            "type": "mesh3d"
           }
          ],
          "parcoords": [
           {
            "line": {
             "colorbar": {
              "outlinewidth": 0,
              "ticks": ""
             }
            },
            "type": "parcoords"
           }
          ],
          "pie": [
           {
            "automargin": true,
            "type": "pie"
           }
          ],
          "scatter": [
           {
            "fillpattern": {
             "fillmode": "overlay",
             "size": 10,
             "solidity": 0.2
            },
            "type": "scatter"
           }
          ],
          "scatter3d": [
           {
            "line": {
             "colorbar": {
              "outlinewidth": 0,
              "ticks": ""
             }
            },
            "marker": {
             "colorbar": {
              "outlinewidth": 0,
              "ticks": ""
             }
            },
            "type": "scatter3d"
           }
          ],
          "scattercarpet": [
           {
            "marker": {
             "colorbar": {
              "outlinewidth": 0,
              "ticks": ""
             }
            },
            "type": "scattercarpet"
           }
          ],
          "scattergeo": [
           {
            "marker": {
             "colorbar": {
              "outlinewidth": 0,
              "ticks": ""
             }
            },
            "type": "scattergeo"
           }
          ],
          "scattergl": [
           {
            "marker": {
             "colorbar": {
              "outlinewidth": 0,
              "ticks": ""
             }
            },
            "type": "scattergl"
           }
          ],
          "scattermapbox": [
           {
            "marker": {
             "colorbar": {
              "outlinewidth": 0,
              "ticks": ""
             }
            },
            "type": "scattermapbox"
           }
          ],
          "scatterpolar": [
           {
            "marker": {
             "colorbar": {
              "outlinewidth": 0,
              "ticks": ""
             }
            },
            "type": "scatterpolar"
           }
          ],
          "scatterpolargl": [
           {
            "marker": {
             "colorbar": {
              "outlinewidth": 0,
              "ticks": ""
             }
            },
            "type": "scatterpolargl"
           }
          ],
          "scatterternary": [
           {
            "marker": {
             "colorbar": {
              "outlinewidth": 0,
              "ticks": ""
             }
            },
            "type": "scatterternary"
           }
          ],
          "surface": [
           {
            "colorbar": {
             "outlinewidth": 0,
             "ticks": ""
            },
            "colorscale": [
             [
              0,
              "#0d0887"
             ],
             [
              0.1111111111111111,
              "#46039f"
             ],
             [
              0.2222222222222222,
              "#7201a8"
             ],
             [
              0.3333333333333333,
              "#9c179e"
             ],
             [
              0.4444444444444444,
              "#bd3786"
             ],
             [
              0.5555555555555556,
              "#d8576b"
             ],
             [
              0.6666666666666666,
              "#ed7953"
             ],
             [
              0.7777777777777778,
              "#fb9f3a"
             ],
             [
              0.8888888888888888,
              "#fdca26"
             ],
             [
              1,
              "#f0f921"
             ]
            ],
            "type": "surface"
           }
          ],
          "table": [
           {
            "cells": {
             "fill": {
              "color": "#EBF0F8"
             },
             "line": {
              "color": "white"
             }
            },
            "header": {
             "fill": {
              "color": "#C8D4E3"
             },
             "line": {
              "color": "white"
             }
            },
            "type": "table"
           }
          ]
         },
         "layout": {
          "annotationdefaults": {
           "arrowcolor": "#2a3f5f",
           "arrowhead": 0,
           "arrowwidth": 1
          },
          "autotypenumbers": "strict",
          "coloraxis": {
           "colorbar": {
            "outlinewidth": 0,
            "ticks": ""
           }
          },
          "colorscale": {
           "diverging": [
            [
             0,
             "#8e0152"
            ],
            [
             0.1,
             "#c51b7d"
            ],
            [
             0.2,
             "#de77ae"
            ],
            [
             0.3,
             "#f1b6da"
            ],
            [
             0.4,
             "#fde0ef"
            ],
            [
             0.5,
             "#f7f7f7"
            ],
            [
             0.6,
             "#e6f5d0"
            ],
            [
             0.7,
             "#b8e186"
            ],
            [
             0.8,
             "#7fbc41"
            ],
            [
             0.9,
             "#4d9221"
            ],
            [
             1,
             "#276419"
            ]
           ],
           "sequential": [
            [
             0,
             "#0d0887"
            ],
            [
             0.1111111111111111,
             "#46039f"
            ],
            [
             0.2222222222222222,
             "#7201a8"
            ],
            [
             0.3333333333333333,
             "#9c179e"
            ],
            [
             0.4444444444444444,
             "#bd3786"
            ],
            [
             0.5555555555555556,
             "#d8576b"
            ],
            [
             0.6666666666666666,
             "#ed7953"
            ],
            [
             0.7777777777777778,
             "#fb9f3a"
            ],
            [
             0.8888888888888888,
             "#fdca26"
            ],
            [
             1,
             "#f0f921"
            ]
           ],
           "sequentialminus": [
            [
             0,
             "#0d0887"
            ],
            [
             0.1111111111111111,
             "#46039f"
            ],
            [
             0.2222222222222222,
             "#7201a8"
            ],
            [
             0.3333333333333333,
             "#9c179e"
            ],
            [
             0.4444444444444444,
             "#bd3786"
            ],
            [
             0.5555555555555556,
             "#d8576b"
            ],
            [
             0.6666666666666666,
             "#ed7953"
            ],
            [
             0.7777777777777778,
             "#fb9f3a"
            ],
            [
             0.8888888888888888,
             "#fdca26"
            ],
            [
             1,
             "#f0f921"
            ]
           ]
          },
          "colorway": [
           "#636efa",
           "#EF553B",
           "#00cc96",
           "#ab63fa",
           "#FFA15A",
           "#19d3f3",
           "#FF6692",
           "#B6E880",
           "#FF97FF",
           "#FECB52"
          ],
          "font": {
           "color": "#2a3f5f"
          },
          "geo": {
           "bgcolor": "white",
           "lakecolor": "white",
           "landcolor": "#E5ECF6",
           "showlakes": true,
           "showland": true,
           "subunitcolor": "white"
          },
          "hoverlabel": {
           "align": "left"
          },
          "hovermode": "closest",
          "mapbox": {
           "style": "light"
          },
          "paper_bgcolor": "white",
          "plot_bgcolor": "#E5ECF6",
          "polar": {
           "angularaxis": {
            "gridcolor": "white",
            "linecolor": "white",
            "ticks": ""
           },
           "bgcolor": "#E5ECF6",
           "radialaxis": {
            "gridcolor": "white",
            "linecolor": "white",
            "ticks": ""
           }
          },
          "scene": {
           "xaxis": {
            "backgroundcolor": "#E5ECF6",
            "gridcolor": "white",
            "gridwidth": 2,
            "linecolor": "white",
            "showbackground": true,
            "ticks": "",
            "zerolinecolor": "white"
           },
           "yaxis": {
            "backgroundcolor": "#E5ECF6",
            "gridcolor": "white",
            "gridwidth": 2,
            "linecolor": "white",
            "showbackground": true,
            "ticks": "",
            "zerolinecolor": "white"
           },
           "zaxis": {
            "backgroundcolor": "#E5ECF6",
            "gridcolor": "white",
            "gridwidth": 2,
            "linecolor": "white",
            "showbackground": true,
            "ticks": "",
            "zerolinecolor": "white"
           }
          },
          "shapedefaults": {
           "line": {
            "color": "#2a3f5f"
           }
          },
          "ternary": {
           "aaxis": {
            "gridcolor": "white",
            "linecolor": "white",
            "ticks": ""
           },
           "baxis": {
            "gridcolor": "white",
            "linecolor": "white",
            "ticks": ""
           },
           "bgcolor": "#E5ECF6",
           "caxis": {
            "gridcolor": "white",
            "linecolor": "white",
            "ticks": ""
           }
          },
          "title": {
           "x": 0.05
          },
          "xaxis": {
           "automargin": true,
           "gridcolor": "white",
           "linecolor": "white",
           "ticks": "",
           "title": {
            "standoff": 15
           },
           "zerolinecolor": "white",
           "zerolinewidth": 2
          },
          "yaxis": {
           "automargin": true,
           "gridcolor": "white",
           "linecolor": "white",
           "ticks": "",
           "title": {
            "standoff": 15
           },
           "zerolinecolor": "white",
           "zerolinewidth": 2
          }
         }
        },
        "title": {
         "text": "Label Distribution"
        }
       }
      }
     },
     "metadata": {},
     "output_type": "display_data"
    }
   ],
   "source": [
    "# show the distribution of the labels in a pie chart\n",
    "fig = px.pie(\n",
    "    values=list(label_distribution.values()),\n",
    "    names=list(label_distribution.keys()),\n",
    "    title=\"Label Distribution\",\n",
    ")\n",
    "fig.show()"
   ]
  },
  {
   "cell_type": "code",
   "execution_count": 8,
   "metadata": {},
   "outputs": [
    {
     "name": "stdout",
     "output_type": "stream",
     "text": [
      "{'TIME': 58, 'NAME': 961, 'CHARACTER': 892, 'PLACE': 274}\n"
     ]
    },
    {
     "data": {
      "application/vnd.plotly.v1+json": {
       "config": {
        "plotlyServerURL": "https://plot.ly"
       },
       "data": [
        {
         "domain": {
          "x": [
           0,
           1
          ],
          "y": [
           0,
           1
          ]
         },
         "hovertemplate": "label=%{label}<br>value=%{value}<extra></extra>",
         "labels": [
          "TIME",
          "NAME",
          "CHARACTER",
          "PLACE"
         ],
         "legendgroup": "",
         "name": "",
         "showlegend": true,
         "type": "pie",
         "values": [
          58,
          961,
          892,
          274
         ]
        }
       ],
       "layout": {
        "legend": {
         "tracegroupgap": 0
        },
        "template": {
         "data": {
          "bar": [
           {
            "error_x": {
             "color": "#2a3f5f"
            },
            "error_y": {
             "color": "#2a3f5f"
            },
            "marker": {
             "line": {
              "color": "#E5ECF6",
              "width": 0.5
             },
             "pattern": {
              "fillmode": "overlay",
              "size": 10,
              "solidity": 0.2
             }
            },
            "type": "bar"
           }
          ],
          "barpolar": [
           {
            "marker": {
             "line": {
              "color": "#E5ECF6",
              "width": 0.5
             },
             "pattern": {
              "fillmode": "overlay",
              "size": 10,
              "solidity": 0.2
             }
            },
            "type": "barpolar"
           }
          ],
          "carpet": [
           {
            "aaxis": {
             "endlinecolor": "#2a3f5f",
             "gridcolor": "white",
             "linecolor": "white",
             "minorgridcolor": "white",
             "startlinecolor": "#2a3f5f"
            },
            "baxis": {
             "endlinecolor": "#2a3f5f",
             "gridcolor": "white",
             "linecolor": "white",
             "minorgridcolor": "white",
             "startlinecolor": "#2a3f5f"
            },
            "type": "carpet"
           }
          ],
          "choropleth": [
           {
            "colorbar": {
             "outlinewidth": 0,
             "ticks": ""
            },
            "type": "choropleth"
           }
          ],
          "contour": [
           {
            "colorbar": {
             "outlinewidth": 0,
             "ticks": ""
            },
            "colorscale": [
             [
              0,
              "#0d0887"
             ],
             [
              0.1111111111111111,
              "#46039f"
             ],
             [
              0.2222222222222222,
              "#7201a8"
             ],
             [
              0.3333333333333333,
              "#9c179e"
             ],
             [
              0.4444444444444444,
              "#bd3786"
             ],
             [
              0.5555555555555556,
              "#d8576b"
             ],
             [
              0.6666666666666666,
              "#ed7953"
             ],
             [
              0.7777777777777778,
              "#fb9f3a"
             ],
             [
              0.8888888888888888,
              "#fdca26"
             ],
             [
              1,
              "#f0f921"
             ]
            ],
            "type": "contour"
           }
          ],
          "contourcarpet": [
           {
            "colorbar": {
             "outlinewidth": 0,
             "ticks": ""
            },
            "type": "contourcarpet"
           }
          ],
          "heatmap": [
           {
            "colorbar": {
             "outlinewidth": 0,
             "ticks": ""
            },
            "colorscale": [
             [
              0,
              "#0d0887"
             ],
             [
              0.1111111111111111,
              "#46039f"
             ],
             [
              0.2222222222222222,
              "#7201a8"
             ],
             [
              0.3333333333333333,
              "#9c179e"
             ],
             [
              0.4444444444444444,
              "#bd3786"
             ],
             [
              0.5555555555555556,
              "#d8576b"
             ],
             [
              0.6666666666666666,
              "#ed7953"
             ],
             [
              0.7777777777777778,
              "#fb9f3a"
             ],
             [
              0.8888888888888888,
              "#fdca26"
             ],
             [
              1,
              "#f0f921"
             ]
            ],
            "type": "heatmap"
           }
          ],
          "heatmapgl": [
           {
            "colorbar": {
             "outlinewidth": 0,
             "ticks": ""
            },
            "colorscale": [
             [
              0,
              "#0d0887"
             ],
             [
              0.1111111111111111,
              "#46039f"
             ],
             [
              0.2222222222222222,
              "#7201a8"
             ],
             [
              0.3333333333333333,
              "#9c179e"
             ],
             [
              0.4444444444444444,
              "#bd3786"
             ],
             [
              0.5555555555555556,
              "#d8576b"
             ],
             [
              0.6666666666666666,
              "#ed7953"
             ],
             [
              0.7777777777777778,
              "#fb9f3a"
             ],
             [
              0.8888888888888888,
              "#fdca26"
             ],
             [
              1,
              "#f0f921"
             ]
            ],
            "type": "heatmapgl"
           }
          ],
          "histogram": [
           {
            "marker": {
             "pattern": {
              "fillmode": "overlay",
              "size": 10,
              "solidity": 0.2
             }
            },
            "type": "histogram"
           }
          ],
          "histogram2d": [
           {
            "colorbar": {
             "outlinewidth": 0,
             "ticks": ""
            },
            "colorscale": [
             [
              0,
              "#0d0887"
             ],
             [
              0.1111111111111111,
              "#46039f"
             ],
             [
              0.2222222222222222,
              "#7201a8"
             ],
             [
              0.3333333333333333,
              "#9c179e"
             ],
             [
              0.4444444444444444,
              "#bd3786"
             ],
             [
              0.5555555555555556,
              "#d8576b"
             ],
             [
              0.6666666666666666,
              "#ed7953"
             ],
             [
              0.7777777777777778,
              "#fb9f3a"
             ],
             [
              0.8888888888888888,
              "#fdca26"
             ],
             [
              1,
              "#f0f921"
             ]
            ],
            "type": "histogram2d"
           }
          ],
          "histogram2dcontour": [
           {
            "colorbar": {
             "outlinewidth": 0,
             "ticks": ""
            },
            "colorscale": [
             [
              0,
              "#0d0887"
             ],
             [
              0.1111111111111111,
              "#46039f"
             ],
             [
              0.2222222222222222,
              "#7201a8"
             ],
             [
              0.3333333333333333,
              "#9c179e"
             ],
             [
              0.4444444444444444,
              "#bd3786"
             ],
             [
              0.5555555555555556,
              "#d8576b"
             ],
             [
              0.6666666666666666,
              "#ed7953"
             ],
             [
              0.7777777777777778,
              "#fb9f3a"
             ],
             [
              0.8888888888888888,
              "#fdca26"
             ],
             [
              1,
              "#f0f921"
             ]
            ],
            "type": "histogram2dcontour"
           }
          ],
          "mesh3d": [
           {
            "colorbar": {
             "outlinewidth": 0,
             "ticks": ""
            },
            "type": "mesh3d"
           }
          ],
          "parcoords": [
           {
            "line": {
             "colorbar": {
              "outlinewidth": 0,
              "ticks": ""
             }
            },
            "type": "parcoords"
           }
          ],
          "pie": [
           {
            "automargin": true,
            "type": "pie"
           }
          ],
          "scatter": [
           {
            "fillpattern": {
             "fillmode": "overlay",
             "size": 10,
             "solidity": 0.2
            },
            "type": "scatter"
           }
          ],
          "scatter3d": [
           {
            "line": {
             "colorbar": {
              "outlinewidth": 0,
              "ticks": ""
             }
            },
            "marker": {
             "colorbar": {
              "outlinewidth": 0,
              "ticks": ""
             }
            },
            "type": "scatter3d"
           }
          ],
          "scattercarpet": [
           {
            "marker": {
             "colorbar": {
              "outlinewidth": 0,
              "ticks": ""
             }
            },
            "type": "scattercarpet"
           }
          ],
          "scattergeo": [
           {
            "marker": {
             "colorbar": {
              "outlinewidth": 0,
              "ticks": ""
             }
            },
            "type": "scattergeo"
           }
          ],
          "scattergl": [
           {
            "marker": {
             "colorbar": {
              "outlinewidth": 0,
              "ticks": ""
             }
            },
            "type": "scattergl"
           }
          ],
          "scattermapbox": [
           {
            "marker": {
             "colorbar": {
              "outlinewidth": 0,
              "ticks": ""
             }
            },
            "type": "scattermapbox"
           }
          ],
          "scatterpolar": [
           {
            "marker": {
             "colorbar": {
              "outlinewidth": 0,
              "ticks": ""
             }
            },
            "type": "scatterpolar"
           }
          ],
          "scatterpolargl": [
           {
            "marker": {
             "colorbar": {
              "outlinewidth": 0,
              "ticks": ""
             }
            },
            "type": "scatterpolargl"
           }
          ],
          "scatterternary": [
           {
            "marker": {
             "colorbar": {
              "outlinewidth": 0,
              "ticks": ""
             }
            },
            "type": "scatterternary"
           }
          ],
          "surface": [
           {
            "colorbar": {
             "outlinewidth": 0,
             "ticks": ""
            },
            "colorscale": [
             [
              0,
              "#0d0887"
             ],
             [
              0.1111111111111111,
              "#46039f"
             ],
             [
              0.2222222222222222,
              "#7201a8"
             ],
             [
              0.3333333333333333,
              "#9c179e"
             ],
             [
              0.4444444444444444,
              "#bd3786"
             ],
             [
              0.5555555555555556,
              "#d8576b"
             ],
             [
              0.6666666666666666,
              "#ed7953"
             ],
             [
              0.7777777777777778,
              "#fb9f3a"
             ],
             [
              0.8888888888888888,
              "#fdca26"
             ],
             [
              1,
              "#f0f921"
             ]
            ],
            "type": "surface"
           }
          ],
          "table": [
           {
            "cells": {
             "fill": {
              "color": "#EBF0F8"
             },
             "line": {
              "color": "white"
             }
            },
            "header": {
             "fill": {
              "color": "#C8D4E3"
             },
             "line": {
              "color": "white"
             }
            },
            "type": "table"
           }
          ]
         },
         "layout": {
          "annotationdefaults": {
           "arrowcolor": "#2a3f5f",
           "arrowhead": 0,
           "arrowwidth": 1
          },
          "autotypenumbers": "strict",
          "coloraxis": {
           "colorbar": {
            "outlinewidth": 0,
            "ticks": ""
           }
          },
          "colorscale": {
           "diverging": [
            [
             0,
             "#8e0152"
            ],
            [
             0.1,
             "#c51b7d"
            ],
            [
             0.2,
             "#de77ae"
            ],
            [
             0.3,
             "#f1b6da"
            ],
            [
             0.4,
             "#fde0ef"
            ],
            [
             0.5,
             "#f7f7f7"
            ],
            [
             0.6,
             "#e6f5d0"
            ],
            [
             0.7,
             "#b8e186"
            ],
            [
             0.8,
             "#7fbc41"
            ],
            [
             0.9,
             "#4d9221"
            ],
            [
             1,
             "#276419"
            ]
           ],
           "sequential": [
            [
             0,
             "#0d0887"
            ],
            [
             0.1111111111111111,
             "#46039f"
            ],
            [
             0.2222222222222222,
             "#7201a8"
            ],
            [
             0.3333333333333333,
             "#9c179e"
            ],
            [
             0.4444444444444444,
             "#bd3786"
            ],
            [
             0.5555555555555556,
             "#d8576b"
            ],
            [
             0.6666666666666666,
             "#ed7953"
            ],
            [
             0.7777777777777778,
             "#fb9f3a"
            ],
            [
             0.8888888888888888,
             "#fdca26"
            ],
            [
             1,
             "#f0f921"
            ]
           ],
           "sequentialminus": [
            [
             0,
             "#0d0887"
            ],
            [
             0.1111111111111111,
             "#46039f"
            ],
            [
             0.2222222222222222,
             "#7201a8"
            ],
            [
             0.3333333333333333,
             "#9c179e"
            ],
            [
             0.4444444444444444,
             "#bd3786"
            ],
            [
             0.5555555555555556,
             "#d8576b"
            ],
            [
             0.6666666666666666,
             "#ed7953"
            ],
            [
             0.7777777777777778,
             "#fb9f3a"
            ],
            [
             0.8888888888888888,
             "#fdca26"
            ],
            [
             1,
             "#f0f921"
            ]
           ]
          },
          "colorway": [
           "#636efa",
           "#EF553B",
           "#00cc96",
           "#ab63fa",
           "#FFA15A",
           "#19d3f3",
           "#FF6692",
           "#B6E880",
           "#FF97FF",
           "#FECB52"
          ],
          "font": {
           "color": "#2a3f5f"
          },
          "geo": {
           "bgcolor": "white",
           "lakecolor": "white",
           "landcolor": "#E5ECF6",
           "showlakes": true,
           "showland": true,
           "subunitcolor": "white"
          },
          "hoverlabel": {
           "align": "left"
          },
          "hovermode": "closest",
          "mapbox": {
           "style": "light"
          },
          "paper_bgcolor": "white",
          "plot_bgcolor": "#E5ECF6",
          "polar": {
           "angularaxis": {
            "gridcolor": "white",
            "linecolor": "white",
            "ticks": ""
           },
           "bgcolor": "#E5ECF6",
           "radialaxis": {
            "gridcolor": "white",
            "linecolor": "white",
            "ticks": ""
           }
          },
          "scene": {
           "xaxis": {
            "backgroundcolor": "#E5ECF6",
            "gridcolor": "white",
            "gridwidth": 2,
            "linecolor": "white",
            "showbackground": true,
            "ticks": "",
            "zerolinecolor": "white"
           },
           "yaxis": {
            "backgroundcolor": "#E5ECF6",
            "gridcolor": "white",
            "gridwidth": 2,
            "linecolor": "white",
            "showbackground": true,
            "ticks": "",
            "zerolinecolor": "white"
           },
           "zaxis": {
            "backgroundcolor": "#E5ECF6",
            "gridcolor": "white",
            "gridwidth": 2,
            "linecolor": "white",
            "showbackground": true,
            "ticks": "",
            "zerolinecolor": "white"
           }
          },
          "shapedefaults": {
           "line": {
            "color": "#2a3f5f"
           }
          },
          "ternary": {
           "aaxis": {
            "gridcolor": "white",
            "linecolor": "white",
            "ticks": ""
           },
           "baxis": {
            "gridcolor": "white",
            "linecolor": "white",
            "ticks": ""
           },
           "bgcolor": "#E5ECF6",
           "caxis": {
            "gridcolor": "white",
            "linecolor": "white",
            "ticks": ""
           }
          },
          "title": {
           "x": 0.05
          },
          "xaxis": {
           "automargin": true,
           "gridcolor": "white",
           "linecolor": "white",
           "ticks": "",
           "title": {
            "standoff": 15
           },
           "zerolinecolor": "white",
           "zerolinewidth": 2
          },
          "yaxis": {
           "automargin": true,
           "gridcolor": "white",
           "linecolor": "white",
           "ticks": "",
           "title": {
            "standoff": 15
           },
           "zerolinecolor": "white",
           "zerolinewidth": 2
          }
         }
        },
        "title": {
         "text": "Span Label Distribution"
        }
       }
      }
     },
     "metadata": {},
     "output_type": "display_data"
    }
   ],
   "source": [
    "def analyze_span_label_distribution(data_dict):\n",
    "    label_distribution = {}\n",
    "    for key, value in data_dict.items():\n",
    "        span_labels = value.get(\"span_labels\", {})\n",
    "        for span, (text, label) in span_labels.items():\n",
    "            if label in label_distribution:\n",
    "                label_distribution[label] += 1\n",
    "            else:\n",
    "                label_distribution[label] = 1\n",
    "    return label_distribution\n",
    "\n",
    "span_label_distribution = analyze_span_label_distribution(final_dict)\n",
    "print(span_label_distribution)\n",
    "\n",
    "# show the distribution of the labels in a pie chart\n",
    "fig = px.pie(\n",
    "    values=list(span_label_distribution.values()),\n",
    "    names=list(span_label_distribution.keys()),\n",
    "    title=\"Span Label Distribution\",\n",
    ")\n",
    "fig.show()"
   ]
  },
  {
   "cell_type": "code",
   "execution_count": 9,
   "metadata": {},
   "outputs": [
    {
     "data": {
      "text/html": [
       "<div>\n",
       "<style scoped>\n",
       "    .dataframe tbody tr th:only-of-type {\n",
       "        vertical-align: middle;\n",
       "    }\n",
       "\n",
       "    .dataframe tbody tr th {\n",
       "        vertical-align: top;\n",
       "    }\n",
       "\n",
       "    .dataframe thead th {\n",
       "        text-align: right;\n",
       "    }\n",
       "</style>\n",
       "<table border=\"1\" class=\"dataframe\">\n",
       "  <thead>\n",
       "    <tr style=\"text-align: right;\">\n",
       "      <th></th>\n",
       "      <th>id</th>\n",
       "      <th>text</th>\n",
       "      <th>overall_label</th>\n",
       "    </tr>\n",
       "  </thead>\n",
       "  <tbody>\n",
       "    <tr>\n",
       "      <th>0</th>\n",
       "      <td>1</td>\n",
       "      <td>The film tells the story of Elizabeth (Colbert...</td>\n",
       "      <td>drama</td>\n",
       "    </tr>\n",
       "    <tr>\n",
       "      <th>1</th>\n",
       "      <td>2</td>\n",
       "      <td>The eventful life of Swami Vivekananda, his te...</td>\n",
       "      <td>drama</td>\n",
       "    </tr>\n",
       "    <tr>\n",
       "      <th>2</th>\n",
       "      <td>3</td>\n",
       "      <td>Jagathalaprathapan is a prince who is to be pu...</td>\n",
       "      <td>romance</td>\n",
       "    </tr>\n",
       "    <tr>\n",
       "      <th>3</th>\n",
       "      <td>4</td>\n",
       "      <td>Police inspector Holloway (Patrick Wymark) inv...</td>\n",
       "      <td>action</td>\n",
       "    </tr>\n",
       "    <tr>\n",
       "      <th>4</th>\n",
       "      <td>5</td>\n",
       "      <td>Lewis and Clark and George opens with Salvator...</td>\n",
       "      <td>drama</td>\n",
       "    </tr>\n",
       "  </tbody>\n",
       "</table>\n",
       "</div>"
      ],
      "text/plain": [
       "   id                                               text overall_label\n",
       "0   1  The film tells the story of Elizabeth (Colbert...         drama\n",
       "1   2  The eventful life of Swami Vivekananda, his te...         drama\n",
       "2   3  Jagathalaprathapan is a prince who is to be pu...       romance\n",
       "3   4  Police inspector Holloway (Patrick Wymark) inv...        action\n",
       "4   5  Lewis and Clark and George opens with Salvator...         drama"
      ]
     },
     "execution_count": 9,
     "metadata": {},
     "output_type": "execute_result"
    }
   ],
   "source": [
    "def transform_dict_to_df(data_dict):\n",
    "    data = []\n",
    "    for key, value in data_dict.items():\n",
    "        data.append(\n",
    "            {\n",
    "                \"id\": key,\n",
    "                \"text\": value.get(\"text\", \"\"),\n",
    "                \"overall_label\": value.get(\"overall_label\", \"\"),\n",
    "            }\n",
    "        )\n",
    "    return pd.DataFrame(data)\n",
    "\n",
    "final_df_text = transform_dict_to_df(final_dict)\n",
    "final_df_text.head()\n"
   ]
  },
  {
   "cell_type": "code",
   "execution_count": 11,
   "metadata": {},
   "outputs": [
    {
     "data": {
      "text/html": [
       "<div>\n",
       "<style scoped>\n",
       "    .dataframe tbody tr th:only-of-type {\n",
       "        vertical-align: middle;\n",
       "    }\n",
       "\n",
       "    .dataframe tbody tr th {\n",
       "        vertical-align: top;\n",
       "    }\n",
       "\n",
       "    .dataframe thead th {\n",
       "        text-align: right;\n",
       "    }\n",
       "</style>\n",
       "<table border=\"1\" class=\"dataframe\">\n",
       "  <thead>\n",
       "    <tr style=\"text-align: right;\">\n",
       "      <th></th>\n",
       "      <th>id</th>\n",
       "      <th>text</th>\n",
       "      <th>label</th>\n",
       "    </tr>\n",
       "  </thead>\n",
       "  <tbody>\n",
       "    <tr>\n",
       "      <th>0</th>\n",
       "      <td>1</td>\n",
       "      <td>World War I</td>\n",
       "      <td>TIME</td>\n",
       "    </tr>\n",
       "    <tr>\n",
       "      <th>1</th>\n",
       "      <td>1</td>\n",
       "      <td>Elizabeth</td>\n",
       "      <td>NAME</td>\n",
       "    </tr>\n",
       "    <tr>\n",
       "      <th>2</th>\n",
       "      <td>1</td>\n",
       "      <td>John</td>\n",
       "      <td>NAME</td>\n",
       "    </tr>\n",
       "    <tr>\n",
       "      <th>3</th>\n",
       "      <td>1</td>\n",
       "      <td>John</td>\n",
       "      <td>NAME</td>\n",
       "    </tr>\n",
       "    <tr>\n",
       "      <th>4</th>\n",
       "      <td>1</td>\n",
       "      <td>Elizabeth</td>\n",
       "      <td>NAME</td>\n",
       "    </tr>\n",
       "    <tr>\n",
       "      <th>5</th>\n",
       "      <td>1</td>\n",
       "      <td>man</td>\n",
       "      <td>NAME</td>\n",
       "    </tr>\n",
       "    <tr>\n",
       "      <th>6</th>\n",
       "      <td>1</td>\n",
       "      <td>John</td>\n",
       "      <td>NAME</td>\n",
       "    </tr>\n",
       "    <tr>\n",
       "      <th>7</th>\n",
       "      <td>1</td>\n",
       "      <td>daughter</td>\n",
       "      <td>CHARACTER</td>\n",
       "    </tr>\n",
       "    <tr>\n",
       "      <th>8</th>\n",
       "      <td>1</td>\n",
       "      <td>son</td>\n",
       "      <td>CHARACTER</td>\n",
       "    </tr>\n",
       "    <tr>\n",
       "      <th>9</th>\n",
       "      <td>1</td>\n",
       "      <td>Elizabeth</td>\n",
       "      <td>NAME</td>\n",
       "    </tr>\n",
       "    <tr>\n",
       "      <th>10</th>\n",
       "      <td>1</td>\n",
       "      <td>Colbert</td>\n",
       "      <td>NAME</td>\n",
       "    </tr>\n",
       "    <tr>\n",
       "      <th>11</th>\n",
       "      <td>1</td>\n",
       "      <td>Welles</td>\n",
       "      <td>NAME</td>\n",
       "    </tr>\n",
       "    <tr>\n",
       "      <th>12</th>\n",
       "      <td>1</td>\n",
       "      <td>George Brent</td>\n",
       "      <td>NAME</td>\n",
       "    </tr>\n",
       "    <tr>\n",
       "      <th>13</th>\n",
       "      <td>1</td>\n",
       "      <td>Wood</td>\n",
       "      <td>NAME</td>\n",
       "    </tr>\n",
       "    <tr>\n",
       "      <th>14</th>\n",
       "      <td>2</td>\n",
       "      <td>Swami Vivekananda</td>\n",
       "      <td>NAME</td>\n",
       "    </tr>\n",
       "    <tr>\n",
       "      <th>15</th>\n",
       "      <td>2</td>\n",
       "      <td>Ramakrishna Paramahamsa</td>\n",
       "      <td>NAME</td>\n",
       "    </tr>\n",
       "    <tr>\n",
       "      <th>16</th>\n",
       "      <td>2</td>\n",
       "      <td>college days</td>\n",
       "      <td>TIME</td>\n",
       "    </tr>\n",
       "    <tr>\n",
       "      <th>17</th>\n",
       "      <td>2</td>\n",
       "      <td>Ramakrishna</td>\n",
       "      <td>NAME</td>\n",
       "    </tr>\n",
       "    <tr>\n",
       "      <th>18</th>\n",
       "      <td>2</td>\n",
       "      <td>Dakshineswar</td>\n",
       "      <td>PLACE</td>\n",
       "    </tr>\n",
       "    <tr>\n",
       "      <th>19</th>\n",
       "      <td>2</td>\n",
       "      <td>Ramakrishna</td>\n",
       "      <td>NAME</td>\n",
       "    </tr>\n",
       "  </tbody>\n",
       "</table>\n",
       "</div>"
      ],
      "text/plain": [
       "    id                     text      label\n",
       "0    1              World War I       TIME\n",
       "1    1                Elizabeth       NAME\n",
       "2    1                     John       NAME\n",
       "3    1                     John       NAME\n",
       "4    1                Elizabeth       NAME\n",
       "5    1                      man       NAME\n",
       "6    1                     John       NAME\n",
       "7    1                 daughter  CHARACTER\n",
       "8    1                      son  CHARACTER\n",
       "9    1                Elizabeth       NAME\n",
       "10   1                  Colbert       NAME\n",
       "11   1                   Welles       NAME\n",
       "12   1             George Brent       NAME\n",
       "13   1                     Wood       NAME\n",
       "14   2        Swami Vivekananda       NAME\n",
       "15   2  Ramakrishna Paramahamsa       NAME\n",
       "16   2             college days       TIME\n",
       "17   2              Ramakrishna       NAME\n",
       "18   2             Dakshineswar      PLACE\n",
       "19   2              Ramakrishna       NAME"
      ]
     },
     "execution_count": 11,
     "metadata": {},
     "output_type": "execute_result"
    }
   ],
   "source": [
    "\n",
    "def transform_dict_to_NER_df(data_dict):\n",
    "    data = []\n",
    "    for key, value in data_dict.items():\n",
    "        text = value.get(\"text\", \"\")\n",
    "        span_labels = value.get(\"span_labels\", {})\n",
    "        for span, (text, label) in span_labels.items():\n",
    "            data.append(\n",
    "                {\n",
    "                    \"id\": key,\n",
    "                    \"text\": text,\n",
    "                    \"label\": label,\n",
    "                }\n",
    "            )\n",
    "    return pd.DataFrame(data)\n",
    "\n",
    "final_df_NER = transform_dict_to_NER_df(final_dict)\n",
    "final_df_NER.head(20)\n"
   ]
  },
  {
   "cell_type": "code",
   "execution_count": 13,
   "metadata": {},
   "outputs": [],
   "source": [
    "# save the dataframes to csv\n",
    "final_df_text.to_csv(\"../data/final_df_text.csv\", index=False)\n",
    "final_df_NER.to_csv(\"../data/final_df_NER.csv\", index=False)"
   ]
  },
  {
   "cell_type": "code",
   "execution_count": 14,
   "metadata": {},
   "outputs": [
    {
     "data": {
      "text/html": [
       "<div>\n",
       "<style scoped>\n",
       "    .dataframe tbody tr th:only-of-type {\n",
       "        vertical-align: middle;\n",
       "    }\n",
       "\n",
       "    .dataframe tbody tr th {\n",
       "        vertical-align: top;\n",
       "    }\n",
       "\n",
       "    .dataframe thead th {\n",
       "        text-align: right;\n",
       "    }\n",
       "</style>\n",
       "<table border=\"1\" class=\"dataframe\">\n",
       "  <thead>\n",
       "    <tr style=\"text-align: right;\">\n",
       "      <th></th>\n",
       "      <th>id</th>\n",
       "      <th>text</th>\n",
       "      <th>label</th>\n",
       "    </tr>\n",
       "  </thead>\n",
       "  <tbody>\n",
       "    <tr>\n",
       "      <th>0</th>\n",
       "      <td>1</td>\n",
       "      <td>World War I</td>\n",
       "      <td>TIME</td>\n",
       "    </tr>\n",
       "    <tr>\n",
       "      <th>1</th>\n",
       "      <td>1</td>\n",
       "      <td>Elizabeth</td>\n",
       "      <td>NAME</td>\n",
       "    </tr>\n",
       "    <tr>\n",
       "      <th>2</th>\n",
       "      <td>1</td>\n",
       "      <td>John</td>\n",
       "      <td>NAME</td>\n",
       "    </tr>\n",
       "    <tr>\n",
       "      <th>3</th>\n",
       "      <td>1</td>\n",
       "      <td>John</td>\n",
       "      <td>NAME</td>\n",
       "    </tr>\n",
       "    <tr>\n",
       "      <th>4</th>\n",
       "      <td>1</td>\n",
       "      <td>Elizabeth</td>\n",
       "      <td>NAME</td>\n",
       "    </tr>\n",
       "  </tbody>\n",
       "</table>\n",
       "</div>"
      ],
      "text/plain": [
       "   id         text label\n",
       "0   1  World War I  TIME\n",
       "1   1    Elizabeth  NAME\n",
       "2   1         John  NAME\n",
       "3   1         John  NAME\n",
       "4   1    Elizabeth  NAME"
      ]
     },
     "execution_count": 14,
     "metadata": {},
     "output_type": "execute_result"
    }
   ],
   "source": [
    "final_df_NER = pd.read_csv(\"../data/final_df_NER.csv\")\n",
    "final_df_NER.head()"
   ]
  },
  {
   "cell_type": "code",
   "execution_count": 15,
   "metadata": {},
   "outputs": [
    {
     "data": {
      "text/html": [
       "<div>\n",
       "<style scoped>\n",
       "    .dataframe tbody tr th:only-of-type {\n",
       "        vertical-align: middle;\n",
       "    }\n",
       "\n",
       "    .dataframe tbody tr th {\n",
       "        vertical-align: top;\n",
       "    }\n",
       "\n",
       "    .dataframe thead th {\n",
       "        text-align: right;\n",
       "    }\n",
       "</style>\n",
       "<table border=\"1\" class=\"dataframe\">\n",
       "  <thead>\n",
       "    <tr style=\"text-align: right;\">\n",
       "      <th></th>\n",
       "      <th>id</th>\n",
       "      <th>text</th>\n",
       "      <th>overall_label</th>\n",
       "    </tr>\n",
       "  </thead>\n",
       "  <tbody>\n",
       "    <tr>\n",
       "      <th>0</th>\n",
       "      <td>1</td>\n",
       "      <td>The film tells the story of Elizabeth (Colbert...</td>\n",
       "      <td>drama</td>\n",
       "    </tr>\n",
       "    <tr>\n",
       "      <th>1</th>\n",
       "      <td>2</td>\n",
       "      <td>The eventful life of Swami Vivekananda, his te...</td>\n",
       "      <td>drama</td>\n",
       "    </tr>\n",
       "    <tr>\n",
       "      <th>2</th>\n",
       "      <td>3</td>\n",
       "      <td>Jagathalaprathapan is a prince who is to be pu...</td>\n",
       "      <td>romance</td>\n",
       "    </tr>\n",
       "    <tr>\n",
       "      <th>3</th>\n",
       "      <td>4</td>\n",
       "      <td>Police inspector Holloway (Patrick Wymark) inv...</td>\n",
       "      <td>action</td>\n",
       "    </tr>\n",
       "    <tr>\n",
       "      <th>4</th>\n",
       "      <td>5</td>\n",
       "      <td>Lewis and Clark and George opens with Salvator...</td>\n",
       "      <td>drama</td>\n",
       "    </tr>\n",
       "  </tbody>\n",
       "</table>\n",
       "</div>"
      ],
      "text/plain": [
       "   id                                               text overall_label\n",
       "0   1  The film tells the story of Elizabeth (Colbert...         drama\n",
       "1   2  The eventful life of Swami Vivekananda, his te...         drama\n",
       "2   3  Jagathalaprathapan is a prince who is to be pu...       romance\n",
       "3   4  Police inspector Holloway (Patrick Wymark) inv...        action\n",
       "4   5  Lewis and Clark and George opens with Salvator...         drama"
      ]
     },
     "execution_count": 15,
     "metadata": {},
     "output_type": "execute_result"
    }
   ],
   "source": [
    "final_df_text = pd.read_csv(\"../data/final_df_text.csv\")\n",
    "final_df_text.head()"
   ]
  },
  {
   "cell_type": "markdown",
   "metadata": {},
   "source": [
    "# Osadzenia wyrażeń NER"
   ]
  },
  {
   "cell_type": "code",
   "execution_count": 18,
   "metadata": {},
   "outputs": [
    {
     "name": "stderr",
     "output_type": "stream",
     "text": [
      "huggingface/tokenizers: The current process just got forked, after parallelism has already been used. Disabling parallelism to avoid deadlocks...\n",
      "To disable this warning, you can either:\n",
      "\t- Avoid using `tokenizers` before the fork if possible\n",
      "\t- Explicitly set the environment variable TOKENIZERS_PARALLELISM=(true | false)\n"
     ]
    },
    {
     "name": "stdout",
     "output_type": "stream",
     "text": [
      "Requirement already satisfied: pandas in /Users/filipstrozik/Documents/studies/IISEM/nlp/.venv/lib/python3.12/site-packages (2.2.3)\n",
      "Requirement already satisfied: torch in /Users/filipstrozik/Documents/studies/IISEM/nlp/.venv/lib/python3.12/site-packages (2.5.0)\n",
      "Requirement already satisfied: transformers in /Users/filipstrozik/Documents/studies/IISEM/nlp/.venv/lib/python3.12/site-packages (4.45.2)\n",
      "Collecting ipywidgets\n",
      "  Using cached ipywidgets-8.1.5-py3-none-any.whl.metadata (2.3 kB)\n",
      "Requirement already satisfied: numpy>=1.26.0 in /Users/filipstrozik/Documents/studies/IISEM/nlp/.venv/lib/python3.12/site-packages (from pandas) (1.26.4)\n",
      "Requirement already satisfied: python-dateutil>=2.8.2 in /Users/filipstrozik/Documents/studies/IISEM/nlp/.venv/lib/python3.12/site-packages (from pandas) (2.9.0.post0)\n",
      "Requirement already satisfied: pytz>=2020.1 in /Users/filipstrozik/Documents/studies/IISEM/nlp/.venv/lib/python3.12/site-packages (from pandas) (2022.7.1)\n",
      "Requirement already satisfied: tzdata>=2022.7 in /Users/filipstrozik/Documents/studies/IISEM/nlp/.venv/lib/python3.12/site-packages (from pandas) (2024.2)\n",
      "Requirement already satisfied: filelock in /Users/filipstrozik/Documents/studies/IISEM/nlp/.venv/lib/python3.12/site-packages (from torch) (3.16.1)\n",
      "Requirement already satisfied: typing-extensions>=4.8.0 in /Users/filipstrozik/Documents/studies/IISEM/nlp/.venv/lib/python3.12/site-packages (from torch) (4.12.2)\n",
      "Requirement already satisfied: networkx in /Users/filipstrozik/Documents/studies/IISEM/nlp/.venv/lib/python3.12/site-packages (from torch) (3.4.2)\n",
      "Requirement already satisfied: jinja2 in /Users/filipstrozik/Documents/studies/IISEM/nlp/.venv/lib/python3.12/site-packages (from torch) (3.1.4)\n",
      "Requirement already satisfied: fsspec in /Users/filipstrozik/Documents/studies/IISEM/nlp/.venv/lib/python3.12/site-packages (from torch) (2024.10.0)\n",
      "Requirement already satisfied: setuptools in /Users/filipstrozik/Documents/studies/IISEM/nlp/.venv/lib/python3.12/site-packages (from torch) (75.1.0)\n",
      "Requirement already satisfied: sympy==1.13.1 in /Users/filipstrozik/Documents/studies/IISEM/nlp/.venv/lib/python3.12/site-packages (from torch) (1.13.1)\n",
      "Requirement already satisfied: mpmath<1.4,>=1.1.0 in /Users/filipstrozik/Documents/studies/IISEM/nlp/.venv/lib/python3.12/site-packages (from sympy==1.13.1->torch) (1.3.0)\n",
      "Requirement already satisfied: huggingface-hub<1.0,>=0.23.2 in /Users/filipstrozik/Documents/studies/IISEM/nlp/.venv/lib/python3.12/site-packages (from transformers) (0.26.1)\n",
      "Requirement already satisfied: packaging>=20.0 in /Users/filipstrozik/Documents/studies/IISEM/nlp/.venv/lib/python3.12/site-packages (from transformers) (24.1)\n",
      "Requirement already satisfied: pyyaml>=5.1 in /Users/filipstrozik/Documents/studies/IISEM/nlp/.venv/lib/python3.12/site-packages (from transformers) (6.0.2)\n",
      "Requirement already satisfied: regex!=2019.12.17 in /Users/filipstrozik/Documents/studies/IISEM/nlp/.venv/lib/python3.12/site-packages (from transformers) (2024.9.11)\n",
      "Requirement already satisfied: requests in /Users/filipstrozik/Documents/studies/IISEM/nlp/.venv/lib/python3.12/site-packages (from transformers) (2.32.3)\n",
      "Requirement already satisfied: safetensors>=0.4.1 in /Users/filipstrozik/Documents/studies/IISEM/nlp/.venv/lib/python3.12/site-packages (from transformers) (0.4.5)\n",
      "Requirement already satisfied: tokenizers<0.21,>=0.20 in /Users/filipstrozik/Documents/studies/IISEM/nlp/.venv/lib/python3.12/site-packages (from transformers) (0.20.1)\n",
      "Requirement already satisfied: tqdm>=4.27 in /Users/filipstrozik/Documents/studies/IISEM/nlp/.venv/lib/python3.12/site-packages (from transformers) (4.66.5)\n",
      "Requirement already satisfied: comm>=0.1.3 in /Users/filipstrozik/Documents/studies/IISEM/nlp/.venv/lib/python3.12/site-packages (from ipywidgets) (0.2.2)\n",
      "Requirement already satisfied: ipython>=6.1.0 in /Users/filipstrozik/Documents/studies/IISEM/nlp/.venv/lib/python3.12/site-packages (from ipywidgets) (8.28.0)\n",
      "Requirement already satisfied: traitlets>=4.3.1 in /Users/filipstrozik/Documents/studies/IISEM/nlp/.venv/lib/python3.12/site-packages (from ipywidgets) (5.14.3)\n",
      "Collecting widgetsnbextension~=4.0.12 (from ipywidgets)\n",
      "  Using cached widgetsnbextension-4.0.13-py3-none-any.whl.metadata (1.6 kB)\n",
      "Collecting jupyterlab-widgets~=3.0.12 (from ipywidgets)\n",
      "  Using cached jupyterlab_widgets-3.0.13-py3-none-any.whl.metadata (4.1 kB)\n",
      "Requirement already satisfied: decorator in /Users/filipstrozik/Documents/studies/IISEM/nlp/.venv/lib/python3.12/site-packages (from ipython>=6.1.0->ipywidgets) (5.1.1)\n",
      "Requirement already satisfied: jedi>=0.16 in /Users/filipstrozik/Documents/studies/IISEM/nlp/.venv/lib/python3.12/site-packages (from ipython>=6.1.0->ipywidgets) (0.19.1)\n",
      "Requirement already satisfied: matplotlib-inline in /Users/filipstrozik/Documents/studies/IISEM/nlp/.venv/lib/python3.12/site-packages (from ipython>=6.1.0->ipywidgets) (0.1.7)\n",
      "Requirement already satisfied: prompt-toolkit<3.1.0,>=3.0.41 in /Users/filipstrozik/Documents/studies/IISEM/nlp/.venv/lib/python3.12/site-packages (from ipython>=6.1.0->ipywidgets) (3.0.48)\n",
      "Requirement already satisfied: pygments>=2.4.0 in /Users/filipstrozik/Documents/studies/IISEM/nlp/.venv/lib/python3.12/site-packages (from ipython>=6.1.0->ipywidgets) (2.18.0)\n",
      "Requirement already satisfied: stack-data in /Users/filipstrozik/Documents/studies/IISEM/nlp/.venv/lib/python3.12/site-packages (from ipython>=6.1.0->ipywidgets) (0.6.3)\n",
      "Requirement already satisfied: pexpect>4.3 in /Users/filipstrozik/Documents/studies/IISEM/nlp/.venv/lib/python3.12/site-packages (from ipython>=6.1.0->ipywidgets) (4.9.0)\n",
      "Requirement already satisfied: six>=1.5 in /Users/filipstrozik/Documents/studies/IISEM/nlp/.venv/lib/python3.12/site-packages (from python-dateutil>=2.8.2->pandas) (1.16.0)\n",
      "Requirement already satisfied: MarkupSafe>=2.0 in /Users/filipstrozik/Documents/studies/IISEM/nlp/.venv/lib/python3.12/site-packages (from jinja2->torch) (3.0.2)\n",
      "Requirement already satisfied: charset-normalizer<4,>=2 in /Users/filipstrozik/Documents/studies/IISEM/nlp/.venv/lib/python3.12/site-packages (from requests->transformers) (3.4.0)\n",
      "Requirement already satisfied: idna<4,>=2.5 in /Users/filipstrozik/Documents/studies/IISEM/nlp/.venv/lib/python3.12/site-packages (from requests->transformers) (3.10)\n",
      "Requirement already satisfied: urllib3<3,>=1.21.1 in /Users/filipstrozik/Documents/studies/IISEM/nlp/.venv/lib/python3.12/site-packages (from requests->transformers) (1.26.20)\n",
      "Requirement already satisfied: certifi>=2017.4.17 in /Users/filipstrozik/Documents/studies/IISEM/nlp/.venv/lib/python3.12/site-packages (from requests->transformers) (2024.8.30)\n",
      "Requirement already satisfied: parso<0.9.0,>=0.8.3 in /Users/filipstrozik/Documents/studies/IISEM/nlp/.venv/lib/python3.12/site-packages (from jedi>=0.16->ipython>=6.1.0->ipywidgets) (0.8.4)\n",
      "Requirement already satisfied: ptyprocess>=0.5 in /Users/filipstrozik/Documents/studies/IISEM/nlp/.venv/lib/python3.12/site-packages (from pexpect>4.3->ipython>=6.1.0->ipywidgets) (0.7.0)\n",
      "Requirement already satisfied: wcwidth in /Users/filipstrozik/Documents/studies/IISEM/nlp/.venv/lib/python3.12/site-packages (from prompt-toolkit<3.1.0,>=3.0.41->ipython>=6.1.0->ipywidgets) (0.2.13)\n",
      "Requirement already satisfied: executing>=1.2.0 in /Users/filipstrozik/Documents/studies/IISEM/nlp/.venv/lib/python3.12/site-packages (from stack-data->ipython>=6.1.0->ipywidgets) (2.1.0)\n",
      "Requirement already satisfied: asttokens>=2.1.0 in /Users/filipstrozik/Documents/studies/IISEM/nlp/.venv/lib/python3.12/site-packages (from stack-data->ipython>=6.1.0->ipywidgets) (2.4.1)\n",
      "Requirement already satisfied: pure-eval in /Users/filipstrozik/Documents/studies/IISEM/nlp/.venv/lib/python3.12/site-packages (from stack-data->ipython>=6.1.0->ipywidgets) (0.2.3)\n",
      "Using cached ipywidgets-8.1.5-py3-none-any.whl (139 kB)\n",
      "Using cached jupyterlab_widgets-3.0.13-py3-none-any.whl (214 kB)\n",
      "Using cached widgetsnbextension-4.0.13-py3-none-any.whl (2.3 MB)\n",
      "Installing collected packages: widgetsnbextension, jupyterlab-widgets, ipywidgets\n",
      "Successfully installed ipywidgets-8.1.5 jupyterlab-widgets-3.0.13 widgetsnbextension-4.0.13\n"
     ]
    }
   ],
   "source": [
    "!pip install pandas torch transformers ipywidgets "
   ]
  },
  {
   "cell_type": "code",
   "execution_count": 22,
   "metadata": {},
   "outputs": [
    {
     "name": "stdout",
     "output_type": "stream",
     "text": [
      "[-2.87632585e-01  6.48084939e-01 -7.96993077e-01 -4.04933512e-01\n",
      " -5.51508307e-01 -7.43960023e-01 -5.76235414e-01  5.15497148e-01\n",
      " -7.79310912e-02  6.23656154e-01 -1.07959270e+00  1.87924683e-01\n",
      " -9.23004150e-01 -6.07855618e-01  3.32713544e-01  7.80829862e-02\n",
      " -4.01003301e-01  1.66505992e-01  8.51412296e-01  4.44756210e-01\n",
      "  3.89101893e-01 -4.32102323e-01 -1.35260433e-01  1.00291789e+00\n",
      "  6.88637555e-01 -5.86947560e-01 -2.55092144e-01  3.18827868e-01\n",
      " -1.30208707e+00  7.87933171e-02  5.37043214e-01  4.79165137e-01\n",
      " -2.20728368e-01  9.03079331e-01 -3.25399250e-01  1.18249369e+00\n",
      " -1.38104782e-02 -2.50749439e-01  4.79132175e-01  2.80858815e-01\n",
      " -1.39467150e-01 -3.97449553e-01  9.31843370e-03  9.82595801e-01\n",
      " -1.95800900e-01  4.19800878e-01  6.34099722e-01  6.33377433e-01\n",
      " -2.80641913e-01  1.49108386e+00 -1.08077988e-01  1.16526449e+00\n",
      " -3.05682063e-01 -8.79098922e-02 -4.75858957e-01 -2.55498469e-01\n",
      " -8.12434912e-01  4.41605225e-02  3.91435236e-01 -2.00691327e-01\n",
      " -4.87094879e-01 -1.06905365e+00  3.77647996e-01 -6.07387275e-02\n",
      "  1.53146577e+00 -1.35536671e+00 -6.06031775e-01  5.64499855e-01\n",
      "  6.19037509e-01 -2.81199217e-01 -8.54277849e-01 -7.01432228e-01\n",
      "  2.61457443e-01 -4.84496385e-01  5.24981320e-02 -1.14163518e+00\n",
      "  2.24998087e-01 -5.83000958e-01 -4.44872260e-01  7.34361708e-02\n",
      "  9.97186303e-01 -3.24665636e-01  8.52640629e-01 -1.43728942e-01\n",
      " -8.74612093e-01 -1.85095936e-01 -1.15287676e-03  2.95074046e-01\n",
      " -1.93212211e-01  1.03018433e-01  6.12530649e-01  1.53258115e-01\n",
      " -6.67279065e-02 -1.68426812e-01 -6.81947827e-01 -1.80426002e-01\n",
      " -2.22341679e-02 -5.71317077e-01 -2.93366730e-01  3.04456037e-02\n",
      "  1.95962563e-01  1.04882169e+00 -2.00494707e-01  1.78913817e-01\n",
      "  5.12650311e-01 -1.57046330e+00  4.30154562e-01  1.73070766e-02\n",
      " -8.76422167e-01  6.46070659e-01  1.15663454e-01 -4.94439304e-01\n",
      " -5.84177971e-02  6.00194454e-01  7.97318280e-01 -6.93910182e-01\n",
      "  7.49669150e-02 -1.35597670e+00  1.17915869e+00  7.48780847e-01\n",
      "  7.61376441e-01  4.83117521e-01 -9.78703439e-01 -1.86125875e-01\n",
      " -3.72453302e-01 -1.89206809e-01 -2.87229508e-01  2.32767135e-01\n",
      " -1.07847142e+00  5.38899064e-01  1.03826821e-02  5.94439983e-01\n",
      "  6.80405125e-02  1.11327551e-01  4.21673089e-01  6.39544606e-01\n",
      " -1.14732313e+00  2.65962720e-01  1.23825476e-01 -5.93632579e-01\n",
      " -1.87928140e-01 -5.82809389e-01 -2.87510991e-01 -8.88741851e-01\n",
      "  4.00529087e-01 -5.09801358e-02 -8.82430375e-02 -1.77700073e-01\n",
      "  9.28530157e-01  2.47454882e-01  4.69136238e-01  1.98762357e-01\n",
      " -4.62816060e-01  4.32893217e-01 -9.40739334e-01 -2.52005100e-01\n",
      "  3.03360671e-01 -4.06688839e-01  6.38870776e-01  1.27272367e-01\n",
      " -1.57932520e-01 -4.00167704e-01  4.26399499e-01  3.48031759e-01\n",
      " -3.24271739e-01 -1.13030165e-01  1.06307316e+00 -5.05972087e-01\n",
      "  2.94425696e-01  4.86451209e-01  3.28934133e-01  3.54501724e-01\n",
      "  2.08117142e-01 -3.64674240e-01  2.41953671e-01 -9.22622979e-02\n",
      " -1.50106579e-01 -7.41886795e-01  2.18834281e-01 -2.60773122e-01\n",
      "  9.28679526e-01 -7.16135621e-01  5.57151258e-01  4.74283218e-01\n",
      "  3.43703687e-01  5.90601861e-01 -9.07274008e-01 -7.81349391e-02\n",
      " -2.50622481e-01  3.04231763e-01  3.18033963e-01 -1.80119485e-01\n",
      " -8.88322964e-02 -5.90249181e-01  3.68927181e-01 -3.57308775e-01\n",
      " -8.39772344e-01 -3.98391068e-01 -1.40304446e-01 -9.66779411e-01\n",
      "  2.33739376e-01  4.24273044e-01 -1.02002478e+00  1.09784283e-01\n",
      " -6.24483883e-01  5.11821747e-01 -7.47106969e-01 -4.00129259e-01\n",
      "  5.24108231e-01 -4.25718799e-02 -8.11780870e-01  5.70043400e-02\n",
      " -1.20054722e-01  2.27151051e-01  3.08032423e-01 -6.42502904e-01\n",
      " -2.08098993e-01  7.39616036e-01 -4.54054624e-02 -3.26877058e-01\n",
      "  4.86405671e-01  5.34185290e-01 -4.01817262e-01 -2.60323077e-01\n",
      " -7.31061995e-01  2.60193825e-01  5.93383685e-02 -3.58656049e-01\n",
      "  6.29756451e-02 -2.26766959e-01 -1.50768623e-01 -5.87705135e-01\n",
      "  7.28865266e-01  6.05537534e-01 -5.87577999e-01  5.08797050e-01\n",
      "  9.34631750e-02  4.77511257e-01 -1.71196669e-01  3.24443206e-02\n",
      "  7.59890079e-02  3.65022451e-01 -2.39199415e-01 -1.60911798e-01\n",
      " -4.31632698e-01 -9.39077377e-01 -1.97586462e-01 -3.04064423e-01\n",
      "  2.67543584e-01 -5.35167575e-01  6.48795605e-01 -1.44152135e-01\n",
      " -4.87748310e-02  5.02318859e-01  4.24787819e-01  1.45044184e+00\n",
      "  1.27101332e-01  5.52298903e-01 -4.20983732e-01  9.31227922e-01\n",
      " -5.03178120e-01 -6.07109129e-01  6.36951208e-01  4.33520108e-01\n",
      "  5.97453237e-01 -4.34453607e-01 -6.89874664e-02 -6.84237123e-01\n",
      "  9.16377157e-02 -5.37115693e-01  1.98042855e-01 -1.47384927e-02\n",
      " -1.58039093e-01  2.43009090e-01  2.47281373e-01 -3.05281788e-01\n",
      " -3.16047812e+00 -7.78511107e-01  4.68849182e-01  4.55598310e-02\n",
      " -2.90725768e-01  6.52322769e-02 -7.39269853e-02  7.15272307e-01\n",
      "  1.34878409e+00  2.61189461e-01 -1.70633644e-01 -2.97561377e-01\n",
      "  2.09254646e+00 -2.35411480e-01  1.51111066e-01 -3.90418589e-01\n",
      " -1.28230035e-01  9.63726789e-02 -8.29103589e-01  2.18862385e-01\n",
      " -4.26603466e-01 -1.70466065e-01 -3.79067719e-01 -3.96628916e-01\n",
      " -1.01471871e-01  9.36778039e-02 -3.34329128e-01  6.68163598e-03\n",
      "  9.33906361e-02 -4.58460689e-01  2.90017545e-01 -8.56845379e-01\n",
      "  7.85936564e-02  2.06075475e-01  2.23165378e-01 -7.28732586e-01\n",
      " -1.19655931e+00 -1.04040563e+00 -6.52640313e-03 -3.87762427e-01\n",
      " -4.71206784e-01 -5.33201456e-01 -5.96200526e-01  1.64302647e-01\n",
      " -5.02141178e-01 -1.32922381e-01 -3.53912592e-01  7.32111156e-01\n",
      " -5.90279222e-01  8.56847242e-02  4.35222089e-01  3.97918880e-01\n",
      " -4.62148279e-01  2.70727649e-02 -1.31950498e-01 -1.47459656e-03\n",
      "  8.31341147e-01 -3.29831719e-01  8.92067790e-01  3.47698629e-01\n",
      "  2.85948694e-01 -2.11218774e-01 -1.01155734e+00  5.26567161e-01\n",
      "  2.98839182e-01 -3.13624978e-01  5.23306608e-01  7.47119784e-02\n",
      " -6.50248826e-01  5.82281768e-01 -3.97760034e-01 -5.25481462e-01\n",
      "  1.23230100e+00  1.04228961e+00 -7.77303934e-01 -3.86703685e-02\n",
      " -1.25642583e-01 -3.75850677e-01  4.62978601e-01 -2.68559635e-01\n",
      "  1.43710113e+00  4.52741146e-01 -3.88636410e-01 -4.98501182e-01\n",
      "  6.78412557e-01  1.08589315e+00 -7.04633951e-01 -6.12695158e-01\n",
      " -5.12391478e-02  5.25511563e-01 -1.24902837e-02  1.04663086e+00\n",
      " -9.11641955e-01  2.15031683e-01  1.73717082e-01 -7.87622035e-02\n",
      " -8.04955512e-02 -2.30364799e-02  5.78219652e-01 -1.84404457e+00\n",
      "  1.62554026e-01  3.35035622e-01  4.16731209e-01 -1.25019550e+00\n",
      "  3.34056988e-02 -9.85842198e-02  1.04987836e+00  1.03688233e-01\n",
      " -2.82149315e-01 -2.38946050e-01  3.72800648e-01 -3.50012660e-01\n",
      "  1.95349827e-02  3.71133685e-01 -6.29743099e-01 -5.61465137e-02\n",
      "  8.94097909e-02  3.82959172e-02 -8.36252868e-02 -2.97359705e-01\n",
      " -2.05908179e-01  5.39313316e-01 -5.10231614e-01  3.27801138e-01\n",
      " -7.09545791e-01 -4.91132200e-01 -6.00006104e-01 -2.93482095e-01\n",
      " -3.01386118e-01 -2.08275184e-01 -5.13177633e-01 -6.10203087e-01\n",
      " -5.47967434e-01  1.86911702e-01  3.31881881e-01  4.28220183e-01\n",
      "  8.62797618e-01 -3.05075407e-01 -2.63755620e-01  8.95703286e-02\n",
      " -1.29876196e+00  2.84423828e-01 -2.88211226e-01 -4.19986427e-01\n",
      " -3.78581882e-02 -8.04660559e-01  8.54402259e-02 -4.77249861e-01\n",
      "  3.64519238e-01  2.42267326e-01 -3.36940795e-01  7.61645436e-01\n",
      "  4.91372526e-01  2.78916091e-01 -4.29942727e-01 -1.31307155e-01\n",
      "  1.02679682e+00 -7.99627677e-02 -6.73589170e-01  3.30476940e-01\n",
      "  2.87162244e-01  7.44283736e-01  1.03561342e-01  7.30155945e-01\n",
      " -7.65308022e-01 -9.06022191e-01 -9.70404744e-01  2.65712023e-01\n",
      "  1.61734486e+00 -1.26285404e-02  7.47416675e-01  5.81289649e-01\n",
      " -1.51015058e-01 -1.07258871e-01 -1.46275312e-02  7.89758027e-01\n",
      "  3.39267135e-01  5.65591216e-01  1.12827219e-01  9.57858682e-01\n",
      " -1.70989528e-01  5.25938511e-01 -1.10503745e+00  1.00947094e+00\n",
      "  6.37924597e-02  2.01627314e-02 -4.89378333e-01  9.87684369e-01\n",
      "  4.34780344e-02 -1.13198888e+00  7.84262538e-01 -5.10554016e-01\n",
      "  3.28647077e-01 -4.13560599e-01  7.86290020e-02  1.49221629e-01\n",
      "  4.02833521e-02  2.67644554e-01 -9.32398736e-01 -3.04179430e-01\n",
      " -4.73762751e-01 -3.37678760e-01 -1.50471151e+00 -4.02619600e-01\n",
      " -1.31683931e-01 -1.64894909e-01 -6.97257400e-01 -5.42772532e-01\n",
      "  2.11059958e-01 -4.00263637e-01  6.46915436e-01 -1.76254630e-01\n",
      "  3.78947884e-01  1.10797846e+00 -3.03898245e-01  6.91980124e-01\n",
      "  1.16564900e-01 -1.72025427e-01 -1.24154165e-01  7.84825161e-03\n",
      "  6.87873363e-01 -1.40426087e+00 -5.30724823e-01  1.96076602e-01\n",
      "  1.46578372e+00  8.17019567e-02 -2.96480432e-02  1.16718650e+00\n",
      "  2.10304826e-01 -1.69951946e-01  7.62832999e-01  8.47896576e-01\n",
      "  9.31752771e-02 -5.80237806e-01 -1.01057410e+00  1.38018370e-01]\n"
     ]
    }
   ],
   "source": [
    "import torch\n",
    "from transformers import AutoModel, AutoTokenizer\n",
    "\n",
    "# Load pre-trained model and tokenizer\n",
    "model = AutoModel.from_pretrained(\"prajjwal1/bert-small\")\n",
    "tokenizer = AutoTokenizer.from_pretrained(\"prajjwal1/bert-small\")\n",
    "\n",
    "# Device selection\n",
    "if torch.cuda.is_available():\n",
    "    device = torch.device(\"cuda\")  # Use CUDA if available\n",
    "elif torch.backends.mps.is_available():\n",
    "    device = torch.device(\"mps\")  # Use MPS on Apple Silicon\n",
    "else:\n",
    "    device = torch.device(\"cpu\")  # Fallback to CPU\n",
    "\n",
    "# Move model to the selected device\n",
    "model.to(device)\n",
    "\n",
    "\n",
    "def get_embeddings(text):\n",
    "    # Tokenize input text and move inputs to the selected device\n",
    "    inputs = tokenizer(\n",
    "        text, return_tensors=\"pt\", padding=True, truncation=True, max_length=512\n",
    "    ).to(device)\n",
    "\n",
    "    # Get model outputs\n",
    "    with torch.no_grad():\n",
    "        outputs = model(**inputs)\n",
    "\n",
    "    # Extract the last hidden states\n",
    "    last_hidden_states = outputs.last_hidden_state\n",
    "\n",
    "    # Return mean of last hidden states (or use [CLS] token)\n",
    "    return (\n",
    "        last_hidden_states.mean(dim=1).squeeze().cpu().numpy()\n",
    "    )  # Move back to CPU for numpy conversion\n"
   ]
  },
  {
   "cell_type": "markdown",
   "metadata": {},
   "source": [
    "# Preprocess text"
   ]
  },
  {
   "cell_type": "code",
   "execution_count": 24,
   "metadata": {},
   "outputs": [],
   "source": [
    "def preprocess_texts(text):\n",
    "    # remove extra whitespace\n",
    "    text = text.strip()\n",
    "    text = \" \".join(text.split())\n",
    "    \n",
    "    # lowercase text\n",
    "    text = text.lower()\n",
    "\n",
    "    # tokenize text\n",
    "    tokens = nltk.word_tokenize(text)\n",
    "\n",
    "    # remove punctuation\n",
    "    tokens = [token for token in tokens if token not in string.punctuation]\n",
    "\n",
    "    # remove stopwords\n",
    "    tokens = [token for token in tokens if token not in stopwords.words(\"english\")]\n",
    "    return \" \".join(tokens)"
   ]
  },
  {
   "cell_type": "code",
   "execution_count": null,
   "metadata": {},
   "outputs": [],
   "source": []
  },
  {
   "cell_type": "code",
   "execution_count": 25,
   "metadata": {},
   "outputs": [
    {
     "data": {
      "text/html": [
       "<div>\n",
       "<style scoped>\n",
       "    .dataframe tbody tr th:only-of-type {\n",
       "        vertical-align: middle;\n",
       "    }\n",
       "\n",
       "    .dataframe tbody tr th {\n",
       "        vertical-align: top;\n",
       "    }\n",
       "\n",
       "    .dataframe thead th {\n",
       "        text-align: right;\n",
       "    }\n",
       "</style>\n",
       "<table border=\"1\" class=\"dataframe\">\n",
       "  <thead>\n",
       "    <tr style=\"text-align: right;\">\n",
       "      <th></th>\n",
       "      <th>id</th>\n",
       "      <th>text</th>\n",
       "      <th>overall_label</th>\n",
       "      <th>cleaned_text</th>\n",
       "    </tr>\n",
       "  </thead>\n",
       "  <tbody>\n",
       "    <tr>\n",
       "      <th>0</th>\n",
       "      <td>1</td>\n",
       "      <td>The film tells the story of Elizabeth (Colbert...</td>\n",
       "      <td>drama</td>\n",
       "      <td>film tells story elizabeth colbert john welles...</td>\n",
       "    </tr>\n",
       "  </tbody>\n",
       "</table>\n",
       "</div>"
      ],
      "text/plain": [
       "   id                                               text overall_label  \\\n",
       "0   1  The film tells the story of Elizabeth (Colbert...         drama   \n",
       "\n",
       "                                        cleaned_text  \n",
       "0  film tells story elizabeth colbert john welles...  "
      ]
     },
     "execution_count": 25,
     "metadata": {},
     "output_type": "execute_result"
    }
   ],
   "source": [
    "final_df_text[\"cleaned_text\"] = final_df_text[\"text\"].apply(preprocess_texts)\n",
    "final_df_text.head(1)"
   ]
  },
  {
   "cell_type": "markdown",
   "metadata": {},
   "source": [
    "# Text embeddings"
   ]
  },
  {
   "cell_type": "markdown",
   "metadata": {},
   "source": [
    "### FastText"
   ]
  },
  {
   "cell_type": "code",
   "execution_count": 49,
   "metadata": {},
   "outputs": [
    {
     "data": {
      "text/plain": [
       "'cc.en.300.bin'"
      ]
     },
     "execution_count": 49,
     "metadata": {},
     "output_type": "execute_result"
    }
   ],
   "source": [
    "import fasttext.util\n",
    "\n",
    "fasttext.util.download_model(\"en\", if_exists=\"ignore\")  # English\n"
   ]
  },
  {
   "cell_type": "code",
   "execution_count": 31,
   "metadata": {},
   "outputs": [],
   "source": [
    "ft = fasttext.load_model(\"cc.en.300.bin\")"
   ]
  },
  {
   "cell_type": "code",
   "execution_count": 32,
   "metadata": {},
   "outputs": [
    {
     "data": {
      "text/html": [
       "<div>\n",
       "<style scoped>\n",
       "    .dataframe tbody tr th:only-of-type {\n",
       "        vertical-align: middle;\n",
       "    }\n",
       "\n",
       "    .dataframe tbody tr th {\n",
       "        vertical-align: top;\n",
       "    }\n",
       "\n",
       "    .dataframe thead th {\n",
       "        text-align: right;\n",
       "    }\n",
       "</style>\n",
       "<table border=\"1\" class=\"dataframe\">\n",
       "  <thead>\n",
       "    <tr style=\"text-align: right;\">\n",
       "      <th></th>\n",
       "      <th>id</th>\n",
       "      <th>text</th>\n",
       "      <th>overall_label</th>\n",
       "      <th>cleaned_text</th>\n",
       "      <th>ft_embeddings</th>\n",
       "    </tr>\n",
       "  </thead>\n",
       "  <tbody>\n",
       "    <tr>\n",
       "      <th>0</th>\n",
       "      <td>1</td>\n",
       "      <td>The film tells the story of Elizabeth (Colbert...</td>\n",
       "      <td>drama</td>\n",
       "      <td>film tells story elizabeth colbert john welles...</td>\n",
       "      <td>[-0.0124314, 0.007053868, 0.0022771724, 0.0611...</td>\n",
       "    </tr>\n",
       "  </tbody>\n",
       "</table>\n",
       "</div>"
      ],
      "text/plain": [
       "   id                                               text overall_label  \\\n",
       "0   1  The film tells the story of Elizabeth (Colbert...         drama   \n",
       "\n",
       "                                        cleaned_text  \\\n",
       "0  film tells story elizabeth colbert john welles...   \n",
       "\n",
       "                                       ft_embeddings  \n",
       "0  [-0.0124314, 0.007053868, 0.0022771724, 0.0611...  "
      ]
     },
     "execution_count": 32,
     "metadata": {},
     "output_type": "execute_result"
    }
   ],
   "source": [
    "ft_df = final_df_text.copy()\n",
    "\n",
    "ft_df[\"ft_embeddings\"] = ft_df[\"cleaned_text\"].apply(\n",
    "    lambda x: ft.get_sentence_vector(x)\n",
    ")\n",
    "ft_df.head(1)"
   ]
  },
  {
   "cell_type": "code",
   "execution_count": 33,
   "metadata": {},
   "outputs": [],
   "source": [
    "ft_embed_arr = np.array(ft_df[\"ft_embeddings\"].to_list())"
   ]
  },
  {
   "cell_type": "code",
   "execution_count": 34,
   "metadata": {},
   "outputs": [
    {
     "name": "stderr",
     "output_type": "stream",
     "text": [
      "huggingface/tokenizers: The current process just got forked, after parallelism has already been used. Disabling parallelism to avoid deadlocks...\n",
      "To disable this warning, you can either:\n",
      "\t- Avoid using `tokenizers` before the fork if possible\n",
      "\t- Explicitly set the environment variable TOKENIZERS_PARALLELISM=(true | false)\n"
     ]
    },
    {
     "data": {
      "text/html": [
       "<div>\n",
       "<style scoped>\n",
       "    .dataframe tbody tr th:only-of-type {\n",
       "        vertical-align: middle;\n",
       "    }\n",
       "\n",
       "    .dataframe tbody tr th {\n",
       "        vertical-align: top;\n",
       "    }\n",
       "\n",
       "    .dataframe thead th {\n",
       "        text-align: right;\n",
       "    }\n",
       "</style>\n",
       "<table border=\"1\" class=\"dataframe\">\n",
       "  <thead>\n",
       "    <tr style=\"text-align: right;\">\n",
       "      <th></th>\n",
       "      <th>id</th>\n",
       "      <th>text</th>\n",
       "      <th>overall_label</th>\n",
       "      <th>cleaned_text</th>\n",
       "      <th>ft_embeddings</th>\n",
       "      <th>x-tsne</th>\n",
       "      <th>y-tsne</th>\n",
       "    </tr>\n",
       "  </thead>\n",
       "  <tbody>\n",
       "    <tr>\n",
       "      <th>0</th>\n",
       "      <td>1</td>\n",
       "      <td>The film tells the story...</td>\n",
       "      <td>drama</td>\n",
       "      <td>film tells story elizabeth colbert john welles...</td>\n",
       "      <td>[-0.0124314, 0.007053868, 0.0022771724, 0.0611...</td>\n",
       "      <td>2.994706</td>\n",
       "      <td>2.655316</td>\n",
       "    </tr>\n",
       "  </tbody>\n",
       "</table>\n",
       "</div>"
      ],
      "text/plain": [
       "   id                         text overall_label  \\\n",
       "0   1  The film tells the story...         drama   \n",
       "\n",
       "                                        cleaned_text  \\\n",
       "0  film tells story elizabeth colbert john welles...   \n",
       "\n",
       "                                       ft_embeddings    x-tsne    y-tsne  \n",
       "0  [-0.0124314, 0.007053868, 0.0022771724, 0.0611...  2.994706  2.655316  "
      ]
     },
     "execution_count": 34,
     "metadata": {},
     "output_type": "execute_result"
    }
   ],
   "source": [
    "tsne = TSNE(n_components=2, random_state=42, perplexity=30, max_iter=1000)\n",
    "X_tsne = tsne.fit_transform(ft_embed_arr)\n",
    "\n",
    "ft_df['text'] = ft_df['text'].apply(lambda x: \" \".join(x.split()[:5]) + \"...\")\n",
    "ft_df[\"x-tsne\"] = X_tsne[:, 0]\n",
    "ft_df[\"y-tsne\"] = X_tsne[:, 1]\n",
    "ft_df.head(1)"
   ]
  },
  {
   "cell_type": "code",
   "execution_count": 36,
   "metadata": {},
   "outputs": [
    {
     "data": {
      "application/vnd.plotly.v1+json": {
       "config": {
        "plotlyServerURL": "https://plot.ly"
       },
       "data": [
        {
         "customdata": [
          [
           "The film tells the story...",
           "drama"
          ],
          [
           "The eventful life of Swami...",
           "drama"
          ],
          [
           "Lewis and Clark and George...",
           "drama"
          ],
          [
           "Vani Viswanath plays the central...",
           "drama"
          ],
          [
           "Oliver's mother, a penniless outcast,...",
           "drama"
          ],
          [
           "Reverend Smith has arrived in...",
           "drama"
          ],
          [
           "Following the plot of the...",
           "drama"
          ],
          [
           "A psychoanalyst and his young...",
           "drama"
          ],
          [
           "Shellshocked following his experiences as...",
           "drama"
          ],
          [
           "The film is a story...",
           "drama"
          ],
          [
           "The story starts with a...",
           "drama"
          ],
          [
           "Byron Levin works in a...",
           "drama"
          ],
          [
           "This film is about a...",
           "drama"
          ],
          [
           "An orphan girl, named Bindu...",
           "drama"
          ],
          [
           "Kisan Kanya was based on...",
           "drama"
          ],
          [
           "Stand-up-comedian Nikita Kolesnikov (Danila Kozlovsky)...",
           "drama"
          ],
          [
           "Joseph is a mentally retarded...",
           "drama"
          ],
          [
           "Bok-nyeo, a mentally handicapped woman,...",
           "drama"
          ],
          [
           "The plot revolves around the...",
           "drama"
          ],
          [
           "The movie opens with Fung...",
           "drama"
          ],
          [
           "Balu (Vijayakumar) and Padma (Manjula...",
           "drama"
          ],
          [
           "Nikki Singh (Akshay Oberoi) is...",
           "drama"
          ],
          [
           "Harvey Keitel plays an American...",
           "drama"
          ],
          [
           "Rahul (Ramankanth) sees a concert...",
           "drama"
          ],
          [
           "A crime reporter, assisted by...",
           "drama"
          ],
          [
           "This film is about two...",
           "drama"
          ],
          [
           "Shane O'Shea is a young...",
           "drama"
          ],
          [
           "Dhag is the story of...",
           "drama"
          ],
          [
           "A young sculptor searches for...",
           "drama"
          ],
          [
           "The Kitauji high school concert...",
           "drama"
          ],
          [
           "Lost & Found is basically...",
           "drama"
          ],
          [
           "Indie musician Dong-hoon and cartoonist...",
           "drama"
          ],
          [
           "The story tells about Ching...",
           "drama"
          ],
          [
           "Gloria Cole and Eddie Swenson...",
           "drama"
          ],
          [
           "Sets in the 19th century,...",
           "drama"
          ],
          [
           "After Joe Huggett loses his...",
           "drama"
          ],
          [
           "Chaiti is a young beautiful...",
           "drama"
          ],
          [
           "Dharma (Anandaraj) is an auto...",
           "drama"
          ],
          [
           "Arjun lives in a village....",
           "drama"
          ],
          [
           "The story of the film...",
           "drama"
          ],
          [
           "Jerry McGuire (William Collier Jr.)...",
           "drama"
          ],
          [
           "Tulsi tells the story of...",
           "drama"
          ],
          [
           "California gubernatorial candidate Burton (Lyon)...",
           "drama"
          ],
          [
           "A 12-year old young boy...",
           "drama"
          ],
          [
           "Soo-nam is a poor woman...",
           "drama"
          ],
          [
           "Rie and Nao own a...",
           "drama"
          ],
          [
           "A simple handyman, who also...",
           "drama"
          ],
          [
           "The film stars Harry Connick...",
           "drama"
          ],
          [
           "Vijay (R. Sarathkumar) and Seetha...",
           "drama"
          ],
          [
           "In 1964, inmate Charlie Forsythe...",
           "drama"
          ],
          [
           "Vivek is a wanted criminal...",
           "drama"
          ],
          [
           "Three teenage boys in small-town...",
           "drama"
          ],
          [
           "In a Mexican nightclub, some...",
           "drama"
          ],
          [
           "The story revolves around an...",
           "drama"
          ],
          [
           "Gopal (M.G.R.) is an honest...",
           "drama"
          ],
          [
           "A rivalry develops between veteran...",
           "drama"
          ],
          [
           "Taglines: \"Being a girl is...",
           "drama"
          ],
          [
           "Chandrabose (Mohanlal) whose wife's (Meera...",
           "drama"
          ],
          [
           "The story is a family...",
           "drama"
          ],
          [
           "Set in Alexandria in 1938,...",
           "drama"
          ],
          [
           "Michael Walsh, a husband and...",
           "drama"
          ],
          [
           "The film revolves around an...",
           "drama"
          ],
          [
           "Alim is a young gay...",
           "drama"
          ],
          [
           "Twice widowed, Pilnyeo vows never...",
           "drama"
          ],
          [
           "A new teacher organizes a...",
           "drama"
          ],
          [
           "The story of a 10th...",
           "drama"
          ],
          [
           "The film is based on...",
           "drama"
          ],
          [
           "Big Bad Love shares its...",
           "drama"
          ],
          [
           "Ten-year-old Bobby (Frankie Thomas) and...",
           "drama"
          ],
          [
           "Brinda (Sindhu Tolani) is an...",
           "drama"
          ],
          [
           "Kumar, a graduate who decides...",
           "drama"
          ],
          [
           "A mysterious killer, known only...",
           "drama"
          ],
          [
           "A genius sculptor Joon-goo (Park...",
           "drama"
          ],
          [
           "A young Lakota Sioux (Lou...",
           "drama"
          ],
          [
           "Hikaru Oshiro, noticing that there...",
           "drama"
          ],
          [
           "The drama tells of a...",
           "drama"
          ]
         ],
         "hovertemplate": "overall_label=%{customdata[1]}<br>x-tsne=%{x}<br>y-tsne=%{y}<br>text=%{customdata[0]}<extra></extra>",
         "legendgroup": "drama",
         "marker": {
          "color": "#636efa",
          "symbol": "circle"
         },
         "mode": "markers",
         "name": "drama",
         "orientation": "v",
         "showlegend": true,
         "type": "scatter",
         "x": [
          2.994706153869629,
          -3.6217997074127197,
          -1.5879311561584473,
          -5.359076976776123,
          4.754931926727295,
          1.1517199277877808,
          2.072770118713379,
          5.3588714599609375,
          -3.20357084274292,
          -0.7438421845436096,
          -4.662885665893555,
          -0.09061604738235474,
          -4.211509704589844,
          -0.021784469485282898,
          -4.713484287261963,
          -2.346926689147949,
          2.717698335647583,
          -6.856034278869629,
          3.418196439743042,
          7.268377304077148,
          -5.949883937835693,
          -4.971584796905518,
          -3.308795690536499,
          4.952675819396973,
          -0.3004736602306366,
          -4.646488189697266,
          1.0281614065170288,
          -2.3782901763916016,
          5.773351192474365,
          2.7063915729522705,
          -2.7567126750946045,
          4.818620204925537,
          -0.7472112774848938,
          2.192293882369995,
          -2.1718876361846924,
          3.1926395893096924,
          -3.3075523376464844,
          -4.521579742431641,
          -2.123692750930786,
          4.311172962188721,
          -0.4799323081970215,
          -6.079092979431152,
          3.415693521499634,
          4.916743755340576,
          4.4017462730407715,
          0.31765323877334595,
          0.5820509791374207,
          1.057092547416687,
          -5.996280193328857,
          1.917396903038025,
          -5.3112993240356445,
          3.6621179580688477,
          -1.911491870880127,
          5.913552761077881,
          -5.526515960693359,
          -0.9724463224411011,
          1.7321040630340576,
          -4.379873275756836,
          -5.193164348602295,
          -2.90116810798645,
          3.586310386657715,
          0.28995153307914734,
          1.678070068359375,
          4.490560054779053,
          2.7128899097442627,
          3.3767051696777344,
          -3.9825541973114014,
          0.7048729658126831,
          3.511708974838257,
          -4.681250095367432,
          -4.477762222290039,
          5.499696731567383,
          -2.728973150253296,
          5.8786725997924805,
          2.6156556606292725,
          -0.393019437789917
         ],
         "xaxis": "x",
         "y": [
          2.655316114425659,
          -6.073084831237793,
          4.671456336975098,
          -4.038867473602295,
          1.882552981376648,
          5.390900135040283,
          3.8978590965270996,
          -1.0006439685821533,
          0.799142599105835,
          -3.127474784851074,
          3.4890100955963135,
          4.676267623901367,
          0.18725718557834625,
          -2.3768980503082275,
          -6.364940643310547,
          -3.982116460800171,
          1.8729525804519653,
          -0.2659125328063965,
          2.8455324172973633,
          2.5143470764160156,
          -4.709839344024658,
          -4.006320476531982,
          2.8156285285949707,
          -2.411804437637329,
          -5.464500904083252,
          -5.486787796020508,
          3.014951705932617,
          -5.981046199798584,
          -4.167686939239502,
          -6.685423374176025,
          -5.751197338104248,
          0.6607992649078369,
          6.902746200561523,
          0.30322062969207764,
          5.785369396209717,
          -1.9374736547470093,
          -4.1652021408081055,
          -2.0162198543548584,
          -6.205853462219238,
          3.539358139038086,
          5.588351726531982,
          -4.659303665161133,
          6.929572105407715,
          2.4042491912841797,
          -2.9857611656188965,
          -1.7319530248641968,
          -5.994593143463135,
          0.3969292640686035,
          -4.665186405181885,
          6.334068298339844,
          -1.7411080598831177,
          0.3428870141506195,
          3.1940488815307617,
          -0.759600818157196,
          -4.769556522369385,
          5.992658615112305,
          -4.725954532623291,
          -4.452524185180664,
          -5.214804172515869,
          3.4183690547943115,
          3.4958486557006836,
          -3.2085700035095215,
          -0.9277135729789734,
          -4.051939964294434,
          -6.682727813720703,
          -5.468195915222168,
          -5.286397457122803,
          -0.5130225419998169,
          2.3767969608306885,
          -1.8998827934265137,
          1.0649664402008057,
          -0.6516525745391846,
          -3.064962387084961,
          3.154416799545288,
          -6.766969680786133,
          0.14374783635139465
         ],
         "yaxis": "y"
        },
        {
         "customdata": [
          [
           "Jagathalaprathapan is a prince who...",
           "romance"
          ],
          [
           "The story is about two...",
           "romance"
          ],
          [
           "In 1962, South Korea. Kang...",
           "romance"
          ],
          [
           "It is love at first...",
           "romance"
          ],
          [
           "Claire of the Moon is...",
           "romance"
          ],
          [
           "A man visits a happy...",
           "romance"
          ],
          [
           "Marianne (Greta Garbo) is a...",
           "romance"
          ],
          [
           "Italian aristocrat Angela Chiaromonte (Helen...",
           "romance"
          ],
          [
           "Joan (Purviance) and Magdalen (Sothern)...",
           "romance"
          ],
          [
           "Akashangalil is the story of...",
           "romance"
          ],
          [
           "Roanne Sanchez, a young girl...",
           "romance"
          ],
          [
           "Trust concerns the unusual romance...",
           "romance"
          ],
          [
           "Newland Archer is engaged to...",
           "romance"
          ],
          [
           "In the 1930s, Teresa (Buday)...",
           "romance"
          ]
         ],
         "hovertemplate": "overall_label=%{customdata[1]}<br>x-tsne=%{x}<br>y-tsne=%{y}<br>text=%{customdata[0]}<extra></extra>",
         "legendgroup": "romance",
         "marker": {
          "color": "#EF553B",
          "symbol": "circle"
         },
         "mode": "markers",
         "name": "romance",
         "orientation": "v",
         "showlegend": true,
         "type": "scatter",
         "x": [
          -6.107692241668701,
          1.0645105838775635,
          2.3938145637512207,
          1.1536093950271606,
          -0.14009249210357666,
          5.5372843742370605,
          0.8778584003448486,
          1.7549391984939575,
          0.4840901792049408,
          -4.373874664306641,
          1.2963283061981201,
          2.0760622024536133,
          2.2651209831237793,
          0.972811222076416
         ],
         "xaxis": "x",
         "y": [
          -5.891542434692383,
          -3.4039437770843506,
          -5.378175735473633,
          -0.136535182595253,
          1.8253155946731567,
          -4.06370735168457,
          3.2377207279205322,
          3.7122418880462646,
          4.030226707458496,
          -4.479761600494385,
          -0.9008033275604248,
          -1.4975804090499878,
          2.6234049797058105,
          -0.5280026197433472
         ],
         "yaxis": "y"
        },
        {
         "customdata": [
          [
           "Police inspector Holloway (Patrick Wymark)...",
           "action"
          ],
          [
           "Neil John Samuel is a...",
           "action"
          ],
          [
           "Mongol chief Temujin (later to...",
           "action"
          ],
          [
           "A popular dance hall girl,...",
           "action"
          ],
          [
           "In World War II, two...",
           "action"
          ],
          [
           "Two reporters, Curtis (Conrad Phillips)...",
           "action"
          ],
          [
           "The film is set in...",
           "action"
          ],
          [
           "Rolex (Prakash Raj) is a...",
           "action"
          ],
          [
           "Two escaping killers hide out...",
           "action"
          ],
          [
           "Inventor and engineer Robert Draper...",
           "action"
          ],
          [
           "This film follows the lead...",
           "action"
          ],
          [
           "A former agent from the...",
           "action"
          ],
          [
           "Sally Elliott (Rita Hayworth), a...",
           "action"
          ],
          [
           "Chu Liuxiang is having drinks...",
           "action"
          ],
          [
           "Charles Kessler (Bela Lugosi) is...",
           "action"
          ],
          [
           "United States Secret Service Lieutenant...",
           "action"
          ],
          [
           "Professional hunter Harry Black is...",
           "action"
          ],
          [
           "Hiraasat is an action film,...",
           "action"
          ],
          [
           "Karthi (Mahesh) is a college...",
           "action"
          ],
          [
           "A blind detective, Duncan Maclain,...",
           "action"
          ],
          [
           "Frankie Bono, a hitman from...",
           "action"
          ],
          [
           "The Philippines, 1972. Mysterious things...",
           "action"
          ],
          [
           "Two days before Christmas, a...",
           "action"
          ],
          [
           "Kumar is a young and...",
           "action"
          ],
          [
           "Convict Van Duff is the...",
           "action"
          ],
          [
           "An old gangster, with a...",
           "action"
          ],
          [
           "The story revolves around a...",
           "action"
          ],
          [
           "Russian general Marenkov (Robert Shaw)...",
           "action"
          ],
          [
           "Omar Sharif plays Muhassab, headman...",
           "action"
          ],
          [
           "The film is set in...",
           "action"
          ],
          [
           "Hans a young German journalist...",
           "action"
          ]
         ],
         "hovertemplate": "overall_label=%{customdata[1]}<br>x-tsne=%{x}<br>y-tsne=%{y}<br>text=%{customdata[0]}<extra></extra>",
         "legendgroup": "action",
         "marker": {
          "color": "#00cc96",
          "symbol": "circle"
         },
         "mode": "markers",
         "name": "action",
         "orientation": "v",
         "showlegend": true,
         "type": "scatter",
         "x": [
          3.250075340270996,
          -2.6074447631835938,
          -5.6729044914245605,
          3.7605130672454834,
          -2.9569661617279053,
          0.26504161953926086,
          2.5752835273742676,
          -5.826752185821533,
          3.3088083267211914,
          2.5138776302337646,
          -0.5097206830978394,
          -4.860031604766846,
          0.26486632227897644,
          -0.4544146955013275,
          3.218744993209839,
          -0.8876747488975525,
          0.793816089630127,
          -6.529029369354248,
          7.424399375915527,
          2.9420225620269775,
          2.7084550857543945,
          -2.9870619773864746,
          6.968583106994629,
          -5.5172271728515625,
          3.42586088180542,
          4.078679084777832,
          6.018304824829102,
          -3.0529744625091553,
          -3.784146785736084,
          -2.079500913619995,
          0.396006315946579
         ],
         "xaxis": "x",
         "y": [
          5.260068893432617,
          4.602696418762207,
          2.3098766803741455,
          -1.540342092514038,
          1.5742359161376953,
          5.807972431182861,
          -1.1344765424728394,
          -3.6382219791412354,
          0.41667041182518005,
          6.061268329620361,
          0.6151502728462219,
          0.3574063181877136,
          3.3024001121520996,
          -0.7640266418457031,
          4.702147483825684,
          4.823506832122803,
          2.1333651542663574,
          -3.5515847206115723,
          0.33928602933883667,
          4.879405975341797,
          -0.274501234292984,
          -0.2038639932870865,
          -0.36675554513931274,
          -4.632519721984863,
          -1.0852168798446655,
          -0.547884464263916,
          -2.073669195175171,
          2.118741035461426,
          5.1628947257995605,
          1.2055654525756836,
          -2.5396628379821777
         ],
         "yaxis": "y"
        },
        {
         "customdata": [
          [
           "In a British TV studio,...",
           "comedy"
          ],
          [
           "George Cabot Jr. (Cesar Romero),...",
           "comedy"
          ],
          [
           "Young sci-fi/fantasy enthusiast Gavin Gore...",
           "comedy"
          ],
          [
           "Mordecai C. Jones (Scott) –...",
           "comedy"
          ],
          [
           "The story is about a...",
           "comedy"
          ],
          [
           "Two best friends who live...",
           "comedy"
          ],
          [
           "Curry and Pepper are two...",
           "comedy"
          ],
          [
           "Loosely based on true events...",
           "comedy"
          ],
          [
           "Scott (Ryan Phillippe) is a...",
           "comedy"
          ],
          [
           "Irène Bordoni is cast as...",
           "comedy"
          ],
          [
           "Cosmo Reif, an affectless mob...",
           "comedy"
          ],
          [
           "Edgar Mills and his mistress...",
           "comedy"
          ],
          [
           "Molly Gilbert won't accept a...",
           "comedy"
          ],
          [
           "Bumbling cop Chatur Singh (Sanjay...",
           "comedy"
          ],
          [
           "Hardy plays Dr. Henry Tibbett,...",
           "comedy"
          ],
          [
           "After discovering that her state...",
           "comedy"
          ],
          [
           "Struggling young actress Jenny (Marjorie...",
           "comedy"
          ],
          [
           "In every port, sailor Bill,...",
           "comedy"
          ],
          [
           "Hong Deok-Ja continues to run...",
           "comedy"
          ],
          [
           "A San Francisco earthquake orphan...",
           "comedy"
          ],
          [
           "The film is about an...",
           "comedy"
          ],
          [
           "The story line centres on...",
           "comedy"
          ],
          [
           "Stephen Ghent, a mineowner, falls...",
           "comedy"
          ],
          [
           "The film tells the story...",
           "comedy"
          ],
          [
           "Eric Wainwright (Van Johnson), a...",
           "comedy"
          ],
          [
           "Kevin Agar is a Carlton-based...",
           "comedy"
          ],
          [
           "Restaurant owner Dylan Ramsey (David...",
           "comedy"
          ],
          [
           "When Los Angeles' police force...",
           "comedy"
          ],
          [
           "Two college girls, Ducky and...",
           "comedy"
          ],
          [
           "Fontaine Khaled is the London...",
           "comedy"
          ],
          [
           "The film's slight storyline concerns...",
           "comedy"
          ],
          [
           "The film tells the story...",
           "comedy"
          ],
          [
           "Officers throw an extravagant party...",
           "comedy"
          ],
          [
           "A bullied teen chef wants...",
           "comedy"
          ],
          [
           "Flagg (Victor McLaglen) and Quirt...",
           "comedy"
          ],
          [
           "Nick (Niven) is the supposed...",
           "comedy"
          ],
          [
           "This film is about the...",
           "comedy"
          ],
          [
           "In a small town, mentally...",
           "comedy"
          ],
          [
           "On board an ocean liner...",
           "comedy"
          ],
          [
           "The boys are involved in...",
           "comedy"
          ],
          [
           "The Rogers family visit Blackpool...",
           "comedy"
          ],
          [
           "The film is about an...",
           "comedy"
          ],
          [
           "The young filmmaker Timothy (Jonathan...",
           "comedy"
          ],
          [
           "Julia Hemingway (Ina Skriver, credited...",
           "comedy"
          ],
          [
           "Small-fry marijuana harvesters in Northern...",
           "comedy"
          ],
          [
           "The Chain tells the story...",
           "comedy"
          ]
         ],
         "hovertemplate": "overall_label=%{customdata[1]}<br>x-tsne=%{x}<br>y-tsne=%{y}<br>text=%{customdata[0]}<extra></extra>",
         "legendgroup": "comedy",
         "marker": {
          "color": "#ab63fa",
          "symbol": "circle"
         },
         "mode": "markers",
         "name": "comedy",
         "orientation": "v",
         "showlegend": true,
         "type": "scatter",
         "x": [
          -0.731400191783905,
          -0.5513063073158264,
          -0.28256702423095703,
          -1.534193754196167,
          -4.279808521270752,
          2.426227569580078,
          2.445645809173584,
          -1.625332236289978,
          3.533200740814209,
          0.15122386813163757,
          2.802717447280884,
          3.4409825801849365,
          1.9267330169677734,
          -5.525898456573486,
          6.1683526039123535,
          0.4969939589500427,
          0.8810276389122009,
          -0.6709839701652527,
          2.1910805702209473,
          1.6615568399429321,
          -0.5897798538208008,
          1.828381896018982,
          1.574654221534729,
          2.7282392978668213,
          0.4842333495616913,
          1.7321488857269287,
          1.587609887123108,
          3.854452610015869,
          1.5541282892227173,
          1.635800838470459,
          2.1941945552825928,
          -3.149071216583252,
          -1.045700192451477,
          2.010744333267212,
          -0.36516016721725464,
          0.7607142329216003,
          -5.069566249847412,
          3.052581310272217,
          1.0004565715789795,
          3.2931456565856934,
          5.548936367034912,
          4.604778289794922,
          -0.10604207962751389,
          -1.3099775314331055,
          4.128556251525879,
          -0.9710291028022766
         ],
         "xaxis": "x",
         "y": [
          1.5433464050292969,
          5.2009453773498535,
          2.7713983058929443,
          2.0161023139953613,
          -4.076390743255615,
          -3.178077459335327,
          -2.2302098274230957,
          0.9682539701461792,
          2.1579291820526123,
          4.5670084953308105,
          -0.4052380621433258,
          4.778759956359863,
          0.8262816071510315,
          -3.274977922439575,
          5.341466903686523,
          -4.204766273498535,
          2.947695016860962,
          3.2533042430877686,
          -2.195955276489258,
          4.858959674835205,
          -4.666375160217285,
          -3.4805843830108643,
          4.412106990814209,
          4.243309020996094,
          3.353928804397583,
          -1.9505404233932495,
          1.7999933958053589,
          0.4110586941242218,
          -1.5836365222930908,
          2.9151153564453125,
          -1.8956658840179443,
          1.7594355344772339,
          3.932379722595215,
          0.7199023365974426,
          -1.57674241065979,
          1.2789055109024048,
          -4.347316741943359,
          3.5825533866882324,
          -2.595689058303833,
          1.1913450956344604,
          2.0112662315368652,
          -1.5104060173034668,
          2.6795504093170166,
          4.0577874183654785,
          -0.5959597229957581,
          -2.1871535778045654
         ],
         "yaxis": "y"
        },
        {
         "customdata": [
          [
           "Flesh (Vince Murdocco) is kidnapped...",
           "fantasy"
          ],
          [
           "3000 years ago, the Vader...",
           "fantasy"
          ],
          [
           "A psychic woman leads archaeologists...",
           "fantasy"
          ],
          [
           "Dr. Markoff (J. Carrol Naish)...",
           "fantasy"
          ],
          [
           "On the run from the...",
           "fantasy"
          ],
          [
           "Set in the austere post–World...",
           "fantasy"
          ],
          [
           "The film is a retelling...",
           "fantasy"
          ],
          [
           "Christopher, a lustful man goes...",
           "fantasy"
          ],
          [
           "An earthquake releases a bunch...",
           "fantasy"
          ],
          [
           "Nine people from around the...",
           "fantasy"
          ],
          [
           "The film takes place in...",
           "fantasy"
          ],
          [
           "The story of the film...",
           "fantasy"
          ],
          [
           "The film is set in...",
           "fantasy"
          ],
          [
           "The plot of the film...",
           "fantasy"
          ],
          [
           "In the year 1999, the...",
           "fantasy"
          ],
          [
           "Jin-hong is a prosecutor who...",
           "fantasy"
          ],
          [
           "Agimat (Bong Revilla, Jr.) is...",
           "fantasy"
          ]
         ],
         "hovertemplate": "overall_label=%{customdata[1]}<br>x-tsne=%{x}<br>y-tsne=%{y}<br>text=%{customdata[0]}<extra></extra>",
         "legendgroup": "fantasy",
         "marker": {
          "color": "#FFA15A",
          "symbol": "circle"
         },
         "mode": "markers",
         "name": "fantasy",
         "orientation": "v",
         "showlegend": true,
         "type": "scatter",
         "x": [
          -1.4631398916244507,
          -2.2324740886688232,
          7.619232654571533,
          -0.9253474473953247,
          -1.7987700700759888,
          -0.7205039262771606,
          -0.3886866569519043,
          5.242291450500488,
          -2.244499683380127,
          -2.31846284866333,
          3.3412272930145264,
          0.9602342247962952,
          -4.6121602058410645,
          3.4114561080932617,
          -1.9934337139129639,
          5.518008708953857,
          -1.7143256664276123
         ],
         "xaxis": "x",
         "y": [
          0.12458201497793198,
          -0.054945338517427444,
          -1.955618143081665,
          0.5401033759117126,
          2.4519426822662354,
          -0.6715130805969238,
          0.44506528973579407,
          4.218198776245117,
          -0.95492023229599,
          -1.1100828647613525,
          -3.516355276107788,
          -2.909788131713867,
          -4.987203121185303,
          -2.486661195755005,
          -0.9221939444541931,
          -1.0106102228164673,
          0.1754554957151413
         ],
         "yaxis": "y"
        },
        {
         "customdata": [
          [
           "Having cleaned up Tombstone, Arizona,...",
           "western"
          ],
          [
           "Unlike other Alamo films that...",
           "western"
          ],
          [
           "The story involves a middle-aged...",
           "western"
          ],
          [
           "The Hartford Transcontinental Railroad is...",
           "western"
          ],
          [
           "After being told by his...",
           "western"
          ],
          [
           "Jeff Hassard (Dean Jagger) and...",
           "western"
          ],
          [
           "A U.S. marshal investigates when...",
           "western"
          ],
          [
           "John Murdock (Paul Richards) is...",
           "western"
          ],
          [
           "A prospective settler, pioneer Bob...",
           "western"
          ]
         ],
         "hovertemplate": "overall_label=%{customdata[1]}<br>x-tsne=%{x}<br>y-tsne=%{y}<br>text=%{customdata[0]}<extra></extra>",
         "legendgroup": "western",
         "marker": {
          "color": "#19d3f3",
          "symbol": "circle"
         },
         "mode": "markers",
         "name": "western",
         "orientation": "v",
         "showlegend": true,
         "type": "scatter",
         "x": [
          0.8497996926307678,
          -0.7412102818489075,
          5.9522786140441895,
          1.8268587589263916,
          2.058859348297119,
          0.8660843968391418,
          4.3315019607543945,
          -1.2804960012435913,
          2.382702112197876
         ],
         "xaxis": "x",
         "y": [
          6.730786323547363,
          5.956862926483154,
          1.841476559638977,
          1.327780842781067,
          1.4414334297180176,
          4.625154495239258,
          5.843607425689697,
          2.4212844371795654,
          2.1017863750457764
         ],
         "yaxis": "y"
        },
        {
         "customdata": [
          [
           "The film is an account...",
           "document"
          ],
          [
           "In 1983 KBS launched a...",
           "document"
          ],
          [
           "A Mighty Heart is a...",
           "document"
          ],
          [
           "The film is an examination...",
           "document"
          ],
          [
           "In the autumn of 1950,...",
           "document"
          ],
          [
           "Raised on a sharecropping plantation...",
           "document"
          ],
          [
           "The film is a historical...",
           "document"
          ]
         ],
         "hovertemplate": "overall_label=%{customdata[1]}<br>x-tsne=%{x}<br>y-tsne=%{y}<br>text=%{customdata[0]}<extra></extra>",
         "legendgroup": "document",
         "marker": {
          "color": "#FF6692",
          "symbol": "circle"
         },
         "mode": "markers",
         "name": "document",
         "orientation": "v",
         "showlegend": true,
         "type": "scatter",
         "x": [
          -1.3341832160949707,
          -2.034069061279297,
          -3.9852631092071533,
          -1.1056489944458008,
          -4.574272632598877,
          -1.3246033191680908,
          -6.901294708251953
         ],
         "xaxis": "x",
         "y": [
          -3.7692642211914062,
          -2.4035065174102783,
          -1.2489662170410156,
          -3.833667516708374,
          1.4196865558624268,
          -1.372117280960083,
          -3.3438827991485596
         ],
         "yaxis": "y"
        }
       ],
       "layout": {
        "height": 1200,
        "legend": {
         "title": {
          "text": "overall_label"
         },
         "tracegroupgap": 0
        },
        "template": {
         "data": {
          "bar": [
           {
            "error_x": {
             "color": "#2a3f5f"
            },
            "error_y": {
             "color": "#2a3f5f"
            },
            "marker": {
             "line": {
              "color": "#E5ECF6",
              "width": 0.5
             },
             "pattern": {
              "fillmode": "overlay",
              "size": 10,
              "solidity": 0.2
             }
            },
            "type": "bar"
           }
          ],
          "barpolar": [
           {
            "marker": {
             "line": {
              "color": "#E5ECF6",
              "width": 0.5
             },
             "pattern": {
              "fillmode": "overlay",
              "size": 10,
              "solidity": 0.2
             }
            },
            "type": "barpolar"
           }
          ],
          "carpet": [
           {
            "aaxis": {
             "endlinecolor": "#2a3f5f",
             "gridcolor": "white",
             "linecolor": "white",
             "minorgridcolor": "white",
             "startlinecolor": "#2a3f5f"
            },
            "baxis": {
             "endlinecolor": "#2a3f5f",
             "gridcolor": "white",
             "linecolor": "white",
             "minorgridcolor": "white",
             "startlinecolor": "#2a3f5f"
            },
            "type": "carpet"
           }
          ],
          "choropleth": [
           {
            "colorbar": {
             "outlinewidth": 0,
             "ticks": ""
            },
            "type": "choropleth"
           }
          ],
          "contour": [
           {
            "colorbar": {
             "outlinewidth": 0,
             "ticks": ""
            },
            "colorscale": [
             [
              0,
              "#0d0887"
             ],
             [
              0.1111111111111111,
              "#46039f"
             ],
             [
              0.2222222222222222,
              "#7201a8"
             ],
             [
              0.3333333333333333,
              "#9c179e"
             ],
             [
              0.4444444444444444,
              "#bd3786"
             ],
             [
              0.5555555555555556,
              "#d8576b"
             ],
             [
              0.6666666666666666,
              "#ed7953"
             ],
             [
              0.7777777777777778,
              "#fb9f3a"
             ],
             [
              0.8888888888888888,
              "#fdca26"
             ],
             [
              1,
              "#f0f921"
             ]
            ],
            "type": "contour"
           }
          ],
          "contourcarpet": [
           {
            "colorbar": {
             "outlinewidth": 0,
             "ticks": ""
            },
            "type": "contourcarpet"
           }
          ],
          "heatmap": [
           {
            "colorbar": {
             "outlinewidth": 0,
             "ticks": ""
            },
            "colorscale": [
             [
              0,
              "#0d0887"
             ],
             [
              0.1111111111111111,
              "#46039f"
             ],
             [
              0.2222222222222222,
              "#7201a8"
             ],
             [
              0.3333333333333333,
              "#9c179e"
             ],
             [
              0.4444444444444444,
              "#bd3786"
             ],
             [
              0.5555555555555556,
              "#d8576b"
             ],
             [
              0.6666666666666666,
              "#ed7953"
             ],
             [
              0.7777777777777778,
              "#fb9f3a"
             ],
             [
              0.8888888888888888,
              "#fdca26"
             ],
             [
              1,
              "#f0f921"
             ]
            ],
            "type": "heatmap"
           }
          ],
          "heatmapgl": [
           {
            "colorbar": {
             "outlinewidth": 0,
             "ticks": ""
            },
            "colorscale": [
             [
              0,
              "#0d0887"
             ],
             [
              0.1111111111111111,
              "#46039f"
             ],
             [
              0.2222222222222222,
              "#7201a8"
             ],
             [
              0.3333333333333333,
              "#9c179e"
             ],
             [
              0.4444444444444444,
              "#bd3786"
             ],
             [
              0.5555555555555556,
              "#d8576b"
             ],
             [
              0.6666666666666666,
              "#ed7953"
             ],
             [
              0.7777777777777778,
              "#fb9f3a"
             ],
             [
              0.8888888888888888,
              "#fdca26"
             ],
             [
              1,
              "#f0f921"
             ]
            ],
            "type": "heatmapgl"
           }
          ],
          "histogram": [
           {
            "marker": {
             "pattern": {
              "fillmode": "overlay",
              "size": 10,
              "solidity": 0.2
             }
            },
            "type": "histogram"
           }
          ],
          "histogram2d": [
           {
            "colorbar": {
             "outlinewidth": 0,
             "ticks": ""
            },
            "colorscale": [
             [
              0,
              "#0d0887"
             ],
             [
              0.1111111111111111,
              "#46039f"
             ],
             [
              0.2222222222222222,
              "#7201a8"
             ],
             [
              0.3333333333333333,
              "#9c179e"
             ],
             [
              0.4444444444444444,
              "#bd3786"
             ],
             [
              0.5555555555555556,
              "#d8576b"
             ],
             [
              0.6666666666666666,
              "#ed7953"
             ],
             [
              0.7777777777777778,
              "#fb9f3a"
             ],
             [
              0.8888888888888888,
              "#fdca26"
             ],
             [
              1,
              "#f0f921"
             ]
            ],
            "type": "histogram2d"
           }
          ],
          "histogram2dcontour": [
           {
            "colorbar": {
             "outlinewidth": 0,
             "ticks": ""
            },
            "colorscale": [
             [
              0,
              "#0d0887"
             ],
             [
              0.1111111111111111,
              "#46039f"
             ],
             [
              0.2222222222222222,
              "#7201a8"
             ],
             [
              0.3333333333333333,
              "#9c179e"
             ],
             [
              0.4444444444444444,
              "#bd3786"
             ],
             [
              0.5555555555555556,
              "#d8576b"
             ],
             [
              0.6666666666666666,
              "#ed7953"
             ],
             [
              0.7777777777777778,
              "#fb9f3a"
             ],
             [
              0.8888888888888888,
              "#fdca26"
             ],
             [
              1,
              "#f0f921"
             ]
            ],
            "type": "histogram2dcontour"
           }
          ],
          "mesh3d": [
           {
            "colorbar": {
             "outlinewidth": 0,
             "ticks": ""
            },
            "type": "mesh3d"
           }
          ],
          "parcoords": [
           {
            "line": {
             "colorbar": {
              "outlinewidth": 0,
              "ticks": ""
             }
            },
            "type": "parcoords"
           }
          ],
          "pie": [
           {
            "automargin": true,
            "type": "pie"
           }
          ],
          "scatter": [
           {
            "fillpattern": {
             "fillmode": "overlay",
             "size": 10,
             "solidity": 0.2
            },
            "type": "scatter"
           }
          ],
          "scatter3d": [
           {
            "line": {
             "colorbar": {
              "outlinewidth": 0,
              "ticks": ""
             }
            },
            "marker": {
             "colorbar": {
              "outlinewidth": 0,
              "ticks": ""
             }
            },
            "type": "scatter3d"
           }
          ],
          "scattercarpet": [
           {
            "marker": {
             "colorbar": {
              "outlinewidth": 0,
              "ticks": ""
             }
            },
            "type": "scattercarpet"
           }
          ],
          "scattergeo": [
           {
            "marker": {
             "colorbar": {
              "outlinewidth": 0,
              "ticks": ""
             }
            },
            "type": "scattergeo"
           }
          ],
          "scattergl": [
           {
            "marker": {
             "colorbar": {
              "outlinewidth": 0,
              "ticks": ""
             }
            },
            "type": "scattergl"
           }
          ],
          "scattermapbox": [
           {
            "marker": {
             "colorbar": {
              "outlinewidth": 0,
              "ticks": ""
             }
            },
            "type": "scattermapbox"
           }
          ],
          "scatterpolar": [
           {
            "marker": {
             "colorbar": {
              "outlinewidth": 0,
              "ticks": ""
             }
            },
            "type": "scatterpolar"
           }
          ],
          "scatterpolargl": [
           {
            "marker": {
             "colorbar": {
              "outlinewidth": 0,
              "ticks": ""
             }
            },
            "type": "scatterpolargl"
           }
          ],
          "scatterternary": [
           {
            "marker": {
             "colorbar": {
              "outlinewidth": 0,
              "ticks": ""
             }
            },
            "type": "scatterternary"
           }
          ],
          "surface": [
           {
            "colorbar": {
             "outlinewidth": 0,
             "ticks": ""
            },
            "colorscale": [
             [
              0,
              "#0d0887"
             ],
             [
              0.1111111111111111,
              "#46039f"
             ],
             [
              0.2222222222222222,
              "#7201a8"
             ],
             [
              0.3333333333333333,
              "#9c179e"
             ],
             [
              0.4444444444444444,
              "#bd3786"
             ],
             [
              0.5555555555555556,
              "#d8576b"
             ],
             [
              0.6666666666666666,
              "#ed7953"
             ],
             [
              0.7777777777777778,
              "#fb9f3a"
             ],
             [
              0.8888888888888888,
              "#fdca26"
             ],
             [
              1,
              "#f0f921"
             ]
            ],
            "type": "surface"
           }
          ],
          "table": [
           {
            "cells": {
             "fill": {
              "color": "#EBF0F8"
             },
             "line": {
              "color": "white"
             }
            },
            "header": {
             "fill": {
              "color": "#C8D4E3"
             },
             "line": {
              "color": "white"
             }
            },
            "type": "table"
           }
          ]
         },
         "layout": {
          "annotationdefaults": {
           "arrowcolor": "#2a3f5f",
           "arrowhead": 0,
           "arrowwidth": 1
          },
          "autotypenumbers": "strict",
          "coloraxis": {
           "colorbar": {
            "outlinewidth": 0,
            "ticks": ""
           }
          },
          "colorscale": {
           "diverging": [
            [
             0,
             "#8e0152"
            ],
            [
             0.1,
             "#c51b7d"
            ],
            [
             0.2,
             "#de77ae"
            ],
            [
             0.3,
             "#f1b6da"
            ],
            [
             0.4,
             "#fde0ef"
            ],
            [
             0.5,
             "#f7f7f7"
            ],
            [
             0.6,
             "#e6f5d0"
            ],
            [
             0.7,
             "#b8e186"
            ],
            [
             0.8,
             "#7fbc41"
            ],
            [
             0.9,
             "#4d9221"
            ],
            [
             1,
             "#276419"
            ]
           ],
           "sequential": [
            [
             0,
             "#0d0887"
            ],
            [
             0.1111111111111111,
             "#46039f"
            ],
            [
             0.2222222222222222,
             "#7201a8"
            ],
            [
             0.3333333333333333,
             "#9c179e"
            ],
            [
             0.4444444444444444,
             "#bd3786"
            ],
            [
             0.5555555555555556,
             "#d8576b"
            ],
            [
             0.6666666666666666,
             "#ed7953"
            ],
            [
             0.7777777777777778,
             "#fb9f3a"
            ],
            [
             0.8888888888888888,
             "#fdca26"
            ],
            [
             1,
             "#f0f921"
            ]
           ],
           "sequentialminus": [
            [
             0,
             "#0d0887"
            ],
            [
             0.1111111111111111,
             "#46039f"
            ],
            [
             0.2222222222222222,
             "#7201a8"
            ],
            [
             0.3333333333333333,
             "#9c179e"
            ],
            [
             0.4444444444444444,
             "#bd3786"
            ],
            [
             0.5555555555555556,
             "#d8576b"
            ],
            [
             0.6666666666666666,
             "#ed7953"
            ],
            [
             0.7777777777777778,
             "#fb9f3a"
            ],
            [
             0.8888888888888888,
             "#fdca26"
            ],
            [
             1,
             "#f0f921"
            ]
           ]
          },
          "colorway": [
           "#636efa",
           "#EF553B",
           "#00cc96",
           "#ab63fa",
           "#FFA15A",
           "#19d3f3",
           "#FF6692",
           "#B6E880",
           "#FF97FF",
           "#FECB52"
          ],
          "font": {
           "color": "#2a3f5f"
          },
          "geo": {
           "bgcolor": "white",
           "lakecolor": "white",
           "landcolor": "#E5ECF6",
           "showlakes": true,
           "showland": true,
           "subunitcolor": "white"
          },
          "hoverlabel": {
           "align": "left"
          },
          "hovermode": "closest",
          "mapbox": {
           "style": "light"
          },
          "paper_bgcolor": "white",
          "plot_bgcolor": "#E5ECF6",
          "polar": {
           "angularaxis": {
            "gridcolor": "white",
            "linecolor": "white",
            "ticks": ""
           },
           "bgcolor": "#E5ECF6",
           "radialaxis": {
            "gridcolor": "white",
            "linecolor": "white",
            "ticks": ""
           }
          },
          "scene": {
           "xaxis": {
            "backgroundcolor": "#E5ECF6",
            "gridcolor": "white",
            "gridwidth": 2,
            "linecolor": "white",
            "showbackground": true,
            "ticks": "",
            "zerolinecolor": "white"
           },
           "yaxis": {
            "backgroundcolor": "#E5ECF6",
            "gridcolor": "white",
            "gridwidth": 2,
            "linecolor": "white",
            "showbackground": true,
            "ticks": "",
            "zerolinecolor": "white"
           },
           "zaxis": {
            "backgroundcolor": "#E5ECF6",
            "gridcolor": "white",
            "gridwidth": 2,
            "linecolor": "white",
            "showbackground": true,
            "ticks": "",
            "zerolinecolor": "white"
           }
          },
          "shapedefaults": {
           "line": {
            "color": "#2a3f5f"
           }
          },
          "ternary": {
           "aaxis": {
            "gridcolor": "white",
            "linecolor": "white",
            "ticks": ""
           },
           "baxis": {
            "gridcolor": "white",
            "linecolor": "white",
            "ticks": ""
           },
           "bgcolor": "#E5ECF6",
           "caxis": {
            "gridcolor": "white",
            "linecolor": "white",
            "ticks": ""
           }
          },
          "title": {
           "x": 0.05
          },
          "xaxis": {
           "automargin": true,
           "gridcolor": "white",
           "linecolor": "white",
           "ticks": "",
           "title": {
            "standoff": 15
           },
           "zerolinecolor": "white",
           "zerolinewidth": 2
          },
          "yaxis": {
           "automargin": true,
           "gridcolor": "white",
           "linecolor": "white",
           "ticks": "",
           "title": {
            "standoff": 15
           },
           "zerolinecolor": "white",
           "zerolinewidth": 2
          }
         }
        },
        "title": {
         "text": "Sentences t-SNE Visualization with Fasttext Embeddings"
        },
        "width": 1200,
        "xaxis": {
         "anchor": "y",
         "domain": [
          0,
          1
         ],
         "title": {
          "text": "x-tsne"
         }
        },
        "yaxis": {
         "anchor": "x",
         "domain": [
          0,
          1
         ],
         "title": {
          "text": "y-tsne"
         }
        }
       }
      }
     },
     "metadata": {},
     "output_type": "display_data"
    }
   ],
   "source": [
    "# Create interactive scatter plot\n",
    "fig = px.scatter(\n",
    "    ft_df,\n",
    "    x=\"x-tsne\",\n",
    "    y=\"y-tsne\",\n",
    "    color=\"overall_label\",\n",
    "    hover_data={\"text\": True, \"overall_label\": True},\n",
    "    title=\"Sentences t-SNE Visualization with Fasttext Embeddings\",\n",
    "    width=1200,\n",
    "    height=1200,\n",
    ")\n",
    "\n",
    "# Show plot\n",
    "fig.show()"
   ]
  },
  {
   "cell_type": "markdown",
   "metadata": {},
   "source": [
    "### TF-IDF"
   ]
  },
  {
   "cell_type": "code",
   "execution_count": 38,
   "metadata": {},
   "outputs": [],
   "source": [
    "vectorizer = TfidfVectorizer(max_features=300)"
   ]
  },
  {
   "cell_type": "code",
   "execution_count": 39,
   "metadata": {},
   "outputs": [
    {
     "name": "stdout",
     "output_type": "stream",
     "text": [
      " Shape of the TF-IDF matrix: (200, 300)\n"
     ]
    }
   ],
   "source": [
    "tfidf_df = final_df_text.copy()\n",
    "\n",
    "X = vectorizer.fit_transform(tfidf_df[\"cleaned_text\"])\n",
    "print(f\" Shape of the TF-IDF matrix: {X.shape}\")\n",
    "\n",
    "tfidf_df[\"embeddings\"] = [X[i].toarray()[0] for i in range(X.shape[0])]\n",
    "\n",
    "tfidf_emb_arr = np.array(tfidf_df['embeddings'].tolist())"
   ]
  },
  {
   "cell_type": "code",
   "execution_count": 41,
   "metadata": {},
   "outputs": [
    {
     "data": {
      "application/vnd.plotly.v1+json": {
       "config": {
        "plotlyServerURL": "https://plot.ly"
       },
       "data": [
        {
         "customdata": [
          [
           "The film tells the story......",
           "drama"
          ],
          [
           "The eventful life of Swami......",
           "drama"
          ],
          [
           "Lewis and Clark and George......",
           "drama"
          ],
          [
           "Vani Viswanath plays the central......",
           "drama"
          ],
          [
           "Oliver's mother, a penniless outcast,......",
           "drama"
          ],
          [
           "Reverend Smith has arrived in......",
           "drama"
          ],
          [
           "Following the plot of the......",
           "drama"
          ],
          [
           "A psychoanalyst and his young......",
           "drama"
          ],
          [
           "Shellshocked following his experiences as......",
           "drama"
          ],
          [
           "The film is a story......",
           "drama"
          ],
          [
           "The story starts with a......",
           "drama"
          ],
          [
           "Byron Levin works in a......",
           "drama"
          ],
          [
           "This film is about a......",
           "drama"
          ],
          [
           "An orphan girl, named Bindu......",
           "drama"
          ],
          [
           "Kisan Kanya was based on......",
           "drama"
          ],
          [
           "Stand-up-comedian Nikita Kolesnikov (Danila Kozlovsky)......",
           "drama"
          ],
          [
           "Joseph is a mentally retarded......",
           "drama"
          ],
          [
           "Bok-nyeo, a mentally handicapped woman,......",
           "drama"
          ],
          [
           "The plot revolves around the......",
           "drama"
          ],
          [
           "The movie opens with Fung......",
           "drama"
          ],
          [
           "Balu (Vijayakumar) and Padma (Manjula......",
           "drama"
          ],
          [
           "Nikki Singh (Akshay Oberoi) is......",
           "drama"
          ],
          [
           "Harvey Keitel plays an American......",
           "drama"
          ],
          [
           "Rahul (Ramankanth) sees a concert......",
           "drama"
          ],
          [
           "A crime reporter, assisted by......",
           "drama"
          ],
          [
           "This film is about two......",
           "drama"
          ],
          [
           "Shane O'Shea is a young......",
           "drama"
          ],
          [
           "Dhag is the story of......",
           "drama"
          ],
          [
           "A young sculptor searches for......",
           "drama"
          ],
          [
           "The Kitauji high school concert......",
           "drama"
          ],
          [
           "Lost & Found is basically......",
           "drama"
          ],
          [
           "Indie musician Dong-hoon and cartoonist......",
           "drama"
          ],
          [
           "The story tells about Ching......",
           "drama"
          ],
          [
           "Gloria Cole and Eddie Swenson......",
           "drama"
          ],
          [
           "Sets in the 19th century,......",
           "drama"
          ],
          [
           "After Joe Huggett loses his......",
           "drama"
          ],
          [
           "Chaiti is a young beautiful......",
           "drama"
          ],
          [
           "Dharma (Anandaraj) is an auto......",
           "drama"
          ],
          [
           "Arjun lives in a village.......",
           "drama"
          ],
          [
           "The story of the film......",
           "drama"
          ],
          [
           "Jerry McGuire (William Collier Jr.)......",
           "drama"
          ],
          [
           "Tulsi tells the story of......",
           "drama"
          ],
          [
           "California gubernatorial candidate Burton (Lyon)......",
           "drama"
          ],
          [
           "A 12-year old young boy......",
           "drama"
          ],
          [
           "Soo-nam is a poor woman......",
           "drama"
          ],
          [
           "Rie and Nao own a......",
           "drama"
          ],
          [
           "A simple handyman, who also......",
           "drama"
          ],
          [
           "The film stars Harry Connick......",
           "drama"
          ],
          [
           "Vijay (R. Sarathkumar) and Seetha......",
           "drama"
          ],
          [
           "In 1964, inmate Charlie Forsythe......",
           "drama"
          ],
          [
           "Vivek is a wanted criminal......",
           "drama"
          ],
          [
           "Three teenage boys in small-town......",
           "drama"
          ],
          [
           "In a Mexican nightclub, some......",
           "drama"
          ],
          [
           "The story revolves around an......",
           "drama"
          ],
          [
           "Gopal (M.G.R.) is an honest......",
           "drama"
          ],
          [
           "A rivalry develops between veteran......",
           "drama"
          ],
          [
           "Taglines: \"Being a girl is......",
           "drama"
          ],
          [
           "Chandrabose (Mohanlal) whose wife's (Meera......",
           "drama"
          ],
          [
           "The story is a family......",
           "drama"
          ],
          [
           "Set in Alexandria in 1938,......",
           "drama"
          ],
          [
           "Michael Walsh, a husband and......",
           "drama"
          ],
          [
           "The film revolves around an......",
           "drama"
          ],
          [
           "Alim is a young gay......",
           "drama"
          ],
          [
           "Twice widowed, Pilnyeo vows never......",
           "drama"
          ],
          [
           "A new teacher organizes a......",
           "drama"
          ],
          [
           "The story of a 10th......",
           "drama"
          ],
          [
           "The film is based on......",
           "drama"
          ],
          [
           "Big Bad Love shares its......",
           "drama"
          ],
          [
           "Ten-year-old Bobby (Frankie Thomas) and......",
           "drama"
          ],
          [
           "Brinda (Sindhu Tolani) is an......",
           "drama"
          ],
          [
           "Kumar, a graduate who decides......",
           "drama"
          ],
          [
           "A mysterious killer, known only......",
           "drama"
          ],
          [
           "A genius sculptor Joon-goo (Park......",
           "drama"
          ],
          [
           "A young Lakota Sioux (Lou......",
           "drama"
          ],
          [
           "Hikaru Oshiro, noticing that there......",
           "drama"
          ],
          [
           "The drama tells of a......",
           "drama"
          ]
         ],
         "hovertemplate": "overall_label=%{customdata[1]}<br>x-tsne=%{x}<br>y-tsne=%{y}<br>text=%{customdata[0]}<extra></extra>",
         "legendgroup": "drama",
         "marker": {
          "color": "#636efa",
          "symbol": "circle"
         },
         "mode": "markers",
         "name": "drama",
         "orientation": "v",
         "showlegend": true,
         "type": "scatter",
         "x": [
          -9.078851699829102,
          -2.8821613788604736,
          5.843167781829834,
          4.374621868133545,
          5.56848669052124,
          -0.607801616191864,
          10.410259246826172,
          13.098847389221191,
          5.706313133239746,
          -3.376030683517456,
          -9.032060623168945,
          -12.053057670593262,
          8.068973541259766,
          2.310605525970459,
          -5.33862829208374,
          4.258310794830322,
          5.119455337524414,
          -5.949524402618408,
          2.8998863697052,
          -8.893715858459473,
          3.895873785018921,
          -1.961111068725586,
          3.516587495803833,
          8.74967098236084,
          -12.198043823242188,
          -2.062058687210083,
          -4.009312152862549,
          7.047789573669434,
          -10.682971954345703,
          -2.403701066970825,
          9.186978340148926,
          5.443552017211914,
          -4.74271297454834,
          0.5725997090339661,
          10.713098526000977,
          9.460288047790527,
          -12.718194007873535,
          4.128947734832764,
          8.937296867370605,
          -9.347068786621094,
          -0.04475368931889534,
          -4.879159450531006,
          -8.9573974609375,
          5.527095794677734,
          -4.402397155761719,
          -3.420543670654297,
          -1.4370142221450806,
          0.8595046401023865,
          4.103640079498291,
          6.205724239349365,
          -6.985742568969727,
          5.596968650817871,
          1.9568562507629395,
          13.143485069274902,
          7.511146068572998,
          -9.54591178894043,
          -0.8510870337486267,
          9.337397575378418,
          2.3146021366119385,
          -6.216493606567383,
          -3.4117860794067383,
          3.4463517665863037,
          -0.3709852695465088,
          3.9162397384643555,
          0.7971315979957581,
          -1.2184338569641113,
          -4.323764324188232,
          -6.012737274169922,
          9.314443588256836,
          -7.443551540374756,
          11.311126708984375,
          13.191628456115723,
          -10.884894371032715,
          6.5262627601623535,
          -2.2652785778045654,
          2.9728844165802
         ],
         "xaxis": "x",
         "y": [
          -3.2818727493286133,
          -1.9726096391677856,
          13.648425102233887,
          10.39318561553955,
          -8.139385223388672,
          15.63640308380127,
          7.10860013961792,
          -4.812712669372559,
          4.760871887207031,
          0.6732156872749329,
          -7.968371868133545,
          3.231001615524292,
          5.8507819175720215,
          3.095792531967163,
          0.18591788411140442,
          0.32108986377716064,
          -12.350264549255371,
          2.886584997177124,
          -1.051107406616211,
          12.36734390258789,
          -4.186454772949219,
          4.726495265960693,
          5.934918403625488,
          -7.327730655670166,
          0.7494743466377258,
          -0.8688827753067017,
          10.220254898071289,
          0.4754588007926941,
          -10.588825225830078,
          11.335051536560059,
          -3.2822444438934326,
          1.7821784019470215,
          -12.440813064575195,
          -12.647664070129395,
          1.0073792934417725,
          -0.31894445419311523,
          -9.443107604980469,
          8.720601081848145,
          -3.57399320602417,
          -6.757357120513916,
          6.358689785003662,
          6.153644561767578,
          2.405590534210205,
          -9.757384300231934,
          2.2531306743621826,
          -9.397775650024414,
          -12.124835014343262,
          -7.401303291320801,
          -3.986175537109375,
          12.258995056152344,
          2.4314591884613037,
          6.162822723388672,
          5.067217826843262,
          -4.690972328186035,
          -4.686265468597412,
          -4.153885364532471,
          9.712450981140137,
          -2.112338066101074,
          -3.377272367477417,
          8.703034400939941,
          3.3608338832855225,
          2.882985830307007,
          -11.807849884033203,
          -6.25006103515625,
          11.682812690734863,
          10.160608291625977,
          -1.1247981786727905,
          -9.404622077941895,
          -8.847556114196777,
          -13.92194938659668,
          6.462231159210205,
          -3.6075146198272705,
          -3.084136962890625,
          1.7761874198913574,
          10.703668594360352,
          -11.84500789642334
         ],
         "yaxis": "y"
        },
        {
         "customdata": [
          [
           "Jagathalaprathapan is a prince who......",
           "romance"
          ],
          [
           "The story is about two......",
           "romance"
          ],
          [
           "In 1962, South Korea. Kang......",
           "romance"
          ],
          [
           "It is love at first......",
           "romance"
          ],
          [
           "Claire of the Moon is......",
           "romance"
          ],
          [
           "A man visits a happy......",
           "romance"
          ],
          [
           "Marianne (Greta Garbo) is a......",
           "romance"
          ],
          [
           "Italian aristocrat Angela Chiaromonte (Helen......",
           "romance"
          ],
          [
           "Joan (Purviance) and Magdalen (Sothern)......",
           "romance"
          ],
          [
           "Akashangalil is the story of......",
           "romance"
          ],
          [
           "Roanne Sanchez, a young girl......",
           "romance"
          ],
          [
           "Trust concerns the unusual romance......",
           "romance"
          ],
          [
           "Newland Archer is engaged to......",
           "romance"
          ],
          [
           "In the 1930s, Teresa (Buday)......",
           "romance"
          ]
         ],
         "hovertemplate": "overall_label=%{customdata[1]}<br>x-tsne=%{x}<br>y-tsne=%{y}<br>text=%{customdata[0]}<extra></extra>",
         "legendgroup": "romance",
         "marker": {
          "color": "#EF553B",
          "symbol": "circle"
         },
         "mode": "markers",
         "name": "romance",
         "orientation": "v",
         "showlegend": true,
         "type": "scatter",
         "x": [
          -2.5686159133911133,
          -0.9926397800445557,
          0.8176963329315186,
          -0.11095942556858063,
          17.290390014648438,
          3.9529731273651123,
          -14.872013092041016,
          2.891002893447876,
          -0.5989289283752441,
          0.5669136047363281,
          -2.178593873977661,
          -1.3296884298324585,
          -15.116025924682617,
          -6.110232353210449
         ],
         "xaxis": "x",
         "y": [
          -9.985517501831055,
          2.8823747634887695,
          11.684165000915527,
          1.7548067569732666,
          1.8375259637832642,
          2.991762399673462,
          -1.032046914100647,
          -6.154448986053467,
          -8.982270240783691,
          -10.467034339904785,
          -6.799492835998535,
          -6.201913833618164,
          -5.997739315032959,
          3.8687856197357178
         ],
         "yaxis": "y"
        },
        {
         "customdata": [
          [
           "Police inspector Holloway (Patrick Wymark)......",
           "action"
          ],
          [
           "Neil John Samuel is a......",
           "action"
          ],
          [
           "Mongol chief Temujin (later to......",
           "action"
          ],
          [
           "A popular dance hall girl,......",
           "action"
          ],
          [
           "In World War II, two......",
           "action"
          ],
          [
           "Two reporters, Curtis (Conrad Phillips)......",
           "action"
          ],
          [
           "The film is set in......",
           "action"
          ],
          [
           "Rolex (Prakash Raj) is a......",
           "action"
          ],
          [
           "Two escaping killers hide out......",
           "action"
          ],
          [
           "Inventor and engineer Robert Draper......",
           "action"
          ],
          [
           "This film follows the lead......",
           "action"
          ],
          [
           "A former agent from the......",
           "action"
          ],
          [
           "Sally Elliott (Rita Hayworth), a......",
           "action"
          ],
          [
           "Chu Liuxiang is having drinks......",
           "action"
          ],
          [
           "Charles Kessler (Bela Lugosi) is......",
           "action"
          ],
          [
           "United States Secret Service Lieutenant......",
           "action"
          ],
          [
           "Professional hunter Harry Black is......",
           "action"
          ],
          [
           "Hiraasat is an action film,......",
           "action"
          ],
          [
           "Karthi (Mahesh) is a college......",
           "action"
          ],
          [
           "A blind detective, Duncan Maclain,......",
           "action"
          ],
          [
           "Frankie Bono, a hitman from......",
           "action"
          ],
          [
           "The Philippines, 1972. Mysterious things......",
           "action"
          ],
          [
           "Two days before Christmas, a......",
           "action"
          ],
          [
           "Kumar is a young and......",
           "action"
          ],
          [
           "Convict Van Duff is the......",
           "action"
          ],
          [
           "An old gangster, with a......",
           "action"
          ],
          [
           "The story revolves around a......",
           "action"
          ],
          [
           "Russian general Marenkov (Robert Shaw)......",
           "action"
          ],
          [
           "Omar Sharif plays Muhassab, headman......",
           "action"
          ],
          [
           "The film is set in......",
           "action"
          ],
          [
           "Hans a young German journalist......",
           "action"
          ]
         ],
         "hovertemplate": "overall_label=%{customdata[1]}<br>x-tsne=%{x}<br>y-tsne=%{y}<br>text=%{customdata[0]}<extra></extra>",
         "legendgroup": "action",
         "marker": {
          "color": "#00cc96",
          "symbol": "circle"
         },
         "mode": "markers",
         "name": "action",
         "orientation": "v",
         "showlegend": true,
         "type": "scatter",
         "x": [
          1.8863976001739502,
          0.8846682906150818,
          5.107497692108154,
          10.887575149536133,
          -8.765230178833008,
          -0.6539421677589417,
          -9.217281341552734,
          5.820990562438965,
          -3.5412774085998535,
          6.42185115814209,
          -6.1796650886535645,
          -10.73596477508545,
          3.849942207336426,
          0.6943032741546631,
          9.800314903259277,
          6.657646656036377,
          -9.632681846618652,
          -5.76124382019043,
          -1.4166460037231445,
          12.216443061828613,
          2.6232900619506836,
          8.096858024597168,
          0.27871185541152954,
          6.1208415031433105,
          9.410420417785645,
          -3.279700994491577,
          6.640150547027588,
          9.943699836730957,
          -0.1461336463689804,
          17.358224868774414,
          -3.2655961513519287
         ],
         "xaxis": "x",
         "y": [
          0.9698837995529175,
          -14.851094245910645,
          -6.265080451965332,
          11.571481704711914,
          -4.966441631317139,
          15.558082580566406,
          10.977254867553711,
          -2.8287181854248047,
          8.610747337341309,
          12.629050254821777,
          -7.271482467651367,
          -4.42272424697876,
          -11.044098854064941,
          0.8648443818092346,
          2.5789411067962646,
          8.508672714233398,
          3.969045639038086,
          -6.824050426483154,
          -0.4927981495857239,
          -1.5329214334487915,
          -9.739274024963379,
          4.674646377563477,
          -5.4188337326049805,
          -2.787058115005493,
          11.99719524383545,
          5.817042350769043,
          11.364191055297852,
          11.856736183166504,
          -14.376543998718262,
          0.24698100984096527,
          -5.507303714752197
         ],
         "yaxis": "y"
        },
        {
         "customdata": [
          [
           "In a British TV studio,......",
           "comedy"
          ],
          [
           "George Cabot Jr. (Cesar Romero),......",
           "comedy"
          ],
          [
           "Young sci-fi/fantasy enthusiast Gavin Gore......",
           "comedy"
          ],
          [
           "Mordecai C. Jones (Scott) –......",
           "comedy"
          ],
          [
           "The story is about a......",
           "comedy"
          ],
          [
           "Two best friends who live......",
           "comedy"
          ],
          [
           "Curry and Pepper are two......",
           "comedy"
          ],
          [
           "Loosely based on true events......",
           "comedy"
          ],
          [
           "Scott (Ryan Phillippe) is a......",
           "comedy"
          ],
          [
           "Irène Bordoni is cast as......",
           "comedy"
          ],
          [
           "Cosmo Reif, an affectless mob......",
           "comedy"
          ],
          [
           "Edgar Mills and his mistress......",
           "comedy"
          ],
          [
           "Molly Gilbert won't accept a......",
           "comedy"
          ],
          [
           "Bumbling cop Chatur Singh (Sanjay......",
           "comedy"
          ],
          [
           "Hardy plays Dr. Henry Tibbett,......",
           "comedy"
          ],
          [
           "After discovering that her state......",
           "comedy"
          ],
          [
           "Struggling young actress Jenny (Marjorie......",
           "comedy"
          ],
          [
           "In every port, sailor Bill,......",
           "comedy"
          ],
          [
           "Hong Deok-Ja continues to run......",
           "comedy"
          ],
          [
           "A San Francisco earthquake orphan......",
           "comedy"
          ],
          [
           "The film is about an......",
           "comedy"
          ],
          [
           "The story line centres on......",
           "comedy"
          ],
          [
           "Stephen Ghent, a mineowner, falls......",
           "comedy"
          ],
          [
           "The film tells the story......",
           "comedy"
          ],
          [
           "Eric Wainwright (Van Johnson), a......",
           "comedy"
          ],
          [
           "Kevin Agar is a Carlton-based......",
           "comedy"
          ],
          [
           "Restaurant owner Dylan Ramsey (David......",
           "comedy"
          ],
          [
           "When Los Angeles' police force......",
           "comedy"
          ],
          [
           "Two college girls, Ducky and......",
           "comedy"
          ],
          [
           "Fontaine Khaled is the London......",
           "comedy"
          ],
          [
           "The film's slight storyline concerns......",
           "comedy"
          ],
          [
           "The film tells the story......",
           "comedy"
          ],
          [
           "Officers throw an extravagant party......",
           "comedy"
          ],
          [
           "A bullied teen chef wants......",
           "comedy"
          ],
          [
           "Flagg (Victor McLaglen) and Quirt......",
           "comedy"
          ],
          [
           "Nick (Niven) is the supposed......",
           "comedy"
          ],
          [
           "This film is about the......",
           "comedy"
          ],
          [
           "In a small town, mentally......",
           "comedy"
          ],
          [
           "On board an ocean liner......",
           "comedy"
          ],
          [
           "The boys are involved in......",
           "comedy"
          ],
          [
           "The Rogers family visit Blackpool......",
           "comedy"
          ],
          [
           "The film is about an......",
           "comedy"
          ],
          [
           "The young filmmaker Timothy (Jonathan......",
           "comedy"
          ],
          [
           "Julia Hemingway (Ina Skriver, credited......",
           "comedy"
          ],
          [
           "Small-fry marijuana harvesters in Northern......",
           "comedy"
          ],
          [
           "The Chain tells the story......",
           "comedy"
          ]
         ],
         "hovertemplate": "overall_label=%{customdata[1]}<br>x-tsne=%{x}<br>y-tsne=%{y}<br>text=%{customdata[0]}<extra></extra>",
         "legendgroup": "comedy",
         "marker": {
          "color": "#ab63fa",
          "symbol": "circle"
         },
         "mode": "markers",
         "name": "comedy",
         "orientation": "v",
         "showlegend": true,
         "type": "scatter",
         "x": [
          -5.619040489196777,
          4.809663772583008,
          -3.4438421726226807,
          13.114812850952148,
          -3.836199998855591,
          -0.8895666599273682,
          1.0333986282348633,
          -7.336677551269531,
          1.72422456741333,
          6.083042621612549,
          10.510213851928711,
          12.484436988830566,
          -0.21651896834373474,
          3.5636508464813232,
          -15.822406768798828,
          2.6915552616119385,
          -2.615556240081787,
          -1.5460045337677002,
          0.6388893127441406,
          6.456897735595703,
          -1.0108654499053955,
          -3.660386323928833,
          12.756436347961426,
          -8.561700820922852,
          9.091527938842773,
          -10.526445388793945,
          7.4380669593811035,
          12.946142196655273,
          -9.938868522644043,
          -4.095790863037109,
          -4.500459671020508,
          -9.190841674804688,
          0.7042850255966187,
          0.3343384265899658,
          -5.236536026000977,
          -15.019852638244629,
          6.211654186248779,
          -10.116385459899902,
          -4.182649612426758,
          -7.27755880355835,
          10.372031211853027,
          0.7401130795478821,
          7.768825054168701,
          -7.522220611572266,
          7.455630779266357,
          -6.310722351074219
         ],
         "xaxis": "x",
         "y": [
          9.13078498840332,
          14.747208595275879,
          -14.192986488342285,
          6.900689601898193,
          5.849752426147461,
          3.1956446170806885,
          4.316035747528076,
          -0.10305550694465637,
          -1.2576361894607544,
          -9.670286178588867,
          -5.187564849853516,
          2.3043882846832275,
          -15.479181289672852,
          8.657248497009277,
          4.849356174468994,
          -13.930721282958984,
          -7.463497638702393,
          -15.564088821411133,
          -4.924338340759277,
          -6.152969837188721,
          -2.5857529640197754,
          -9.004429817199707,
          3.6639740467071533,
          2.1167526245117188,
          -8.342811584472656,
          -11.28626823425293,
          -12.901335716247559,
          -2.725886821746826,
          10.70652961730957,
          13.172091484069824,
          -2.682772397994995,
          -7.564370632171631,
          8.046744346618652,
          -16.290040969848633,
          -5.962299346923828,
          -0.605994701385498,
          -2.123842239379883,
          -0.1820969432592392,
          -4.552253723144531,
          -11.507716178894043,
          0.5141118168830872,
          -1.4361803531646729,
          -13.165389060974121,
          -2.0163490772247314,
          6.387917518615723,
          -10.188522338867188
         ],
         "yaxis": "y"
        },
        {
         "customdata": [
          [
           "Flesh (Vince Murdocco) is kidnapped......",
           "fantasy"
          ],
          [
           "3000 years ago, the Vader......",
           "fantasy"
          ],
          [
           "A psychic woman leads archaeologists......",
           "fantasy"
          ],
          [
           "Dr. Markoff (J. Carrol Naish)......",
           "fantasy"
          ],
          [
           "On the run from the......",
           "fantasy"
          ],
          [
           "Set in the austere post–World......",
           "fantasy"
          ],
          [
           "The film is a retelling......",
           "fantasy"
          ],
          [
           "Christopher, a lustful man goes......",
           "fantasy"
          ],
          [
           "An earthquake releases a bunch......",
           "fantasy"
          ],
          [
           "Nine people from around the......",
           "fantasy"
          ],
          [
           "The film takes place in......",
           "fantasy"
          ],
          [
           "The story of the film......",
           "fantasy"
          ],
          [
           "The film is set in......",
           "fantasy"
          ],
          [
           "The plot of the film......",
           "fantasy"
          ],
          [
           "In the year 1999, the......",
           "fantasy"
          ],
          [
           "Jin-hong is a prosecutor who......",
           "fantasy"
          ],
          [
           "Agimat (Bong Revilla, Jr.) is......",
           "fantasy"
          ]
         ],
         "hovertemplate": "overall_label=%{customdata[1]}<br>x-tsne=%{x}<br>y-tsne=%{y}<br>text=%{customdata[0]}<extra></extra>",
         "legendgroup": "fantasy",
         "marker": {
          "color": "#FFA15A",
          "symbol": "circle"
         },
         "mode": "markers",
         "name": "fantasy",
         "orientation": "v",
         "showlegend": true,
         "type": "scatter",
         "x": [
          -14.070541381835938,
          13.535511016845703,
          2.3467063903808594,
          -15.55862808227539,
          -13.351677894592285,
          -6.86581563949585,
          0.001248091459274292,
          -8.355758666992188,
          13.85078239440918,
          -8.173985481262207,
          -5.837774276733398,
          -1.960040807723999,
          -7.816188335418701,
          -10.37098503112793,
          13.59001350402832,
          3.369807720184326,
          12.834650039672852
         ],
         "xaxis": "x",
         "y": [
          6.262687683105469,
          -9.273360252380371,
          -8.871580123901367,
          5.026442527770996,
          6.720240116119385,
          -3.6441447734832764,
          6.300086498260498,
          11.271927833557129,
          -9.872610092163086,
          5.988614559173584,
          -3.677896499633789,
          -3.617738962173462,
          5.033997058868408,
          7.06130313873291,
          -8.321301460266113,
          -1.4926953315734863,
          -10.10938835144043
         ],
         "yaxis": "y"
        },
        {
         "customdata": [
          [
           "Having cleaned up Tombstone, Arizona,......",
           "western"
          ],
          [
           "Unlike other Alamo films that......",
           "western"
          ],
          [
           "The story involves a middle-aged......",
           "western"
          ],
          [
           "The Hartford Transcontinental Railroad is......",
           "western"
          ],
          [
           "After being told by his......",
           "western"
          ],
          [
           "Jeff Hassard (Dean Jagger) and......",
           "western"
          ],
          [
           "A U.S. marshal investigates when......",
           "western"
          ],
          [
           "John Murdock (Paul Richards) is......",
           "western"
          ],
          [
           "A prospective settler, pioneer Bob......",
           "western"
          ]
         ],
         "hovertemplate": "overall_label=%{customdata[1]}<br>x-tsne=%{x}<br>y-tsne=%{y}<br>text=%{customdata[0]}<extra></extra>",
         "legendgroup": "western",
         "marker": {
          "color": "#19d3f3",
          "symbol": "circle"
         },
         "mode": "markers",
         "name": "western",
         "orientation": "v",
         "showlegend": true,
         "type": "scatter",
         "x": [
          -15.570271492004395,
          12.348122596740723,
          -15.265380859375,
          16.955610275268555,
          -16.53349494934082,
          15.693967819213867,
          -11.179035186767578,
          -10.756142616271973,
          -10.764949798583984
         ],
         "xaxis": "x",
         "y": [
          -4.558926105499268,
          4.716385841369629,
          -3.5583090782165527,
          0.9616134166717529,
          -4.299178600311279,
          0.8446524143218994,
          2.0032894611358643,
          7.0729899406433105,
          -0.4582618474960327
         ],
         "yaxis": "y"
        },
        {
         "customdata": [
          [
           "The film is an account......",
           "document"
          ],
          [
           "In 1983 KBS launched a......",
           "document"
          ],
          [
           "A Mighty Heart is a......",
           "document"
          ],
          [
           "The film is an examination......",
           "document"
          ],
          [
           "In the autumn of 1950,......",
           "document"
          ],
          [
           "Raised on a sharecropping plantation......",
           "document"
          ],
          [
           "The film is a historical......",
           "document"
          ]
         ],
         "hovertemplate": "overall_label=%{customdata[1]}<br>x-tsne=%{x}<br>y-tsne=%{y}<br>text=%{customdata[0]}<extra></extra>",
         "legendgroup": "document",
         "marker": {
          "color": "#FF6692",
          "symbol": "circle"
         },
         "mode": "markers",
         "name": "document",
         "orientation": "v",
         "showlegend": true,
         "type": "scatter",
         "x": [
          -3.177189826965332,
          -11.272689819335938,
          4.213230133056641,
          -7.6847381591796875,
          11.780543327331543,
          8.018717765808105,
          -5.135928153991699
         ],
         "xaxis": "x",
         "y": [
          -1.4734694957733154,
          -3.694626808166504,
          15.216490745544434,
          0.4429886043071747,
          6.351428031921387,
          3.6900570392608643,
          -0.26301801204681396
         ],
         "yaxis": "y"
        }
       ],
       "layout": {
        "height": 1200,
        "legend": {
         "title": {
          "text": "overall_label"
         },
         "tracegroupgap": 0
        },
        "template": {
         "data": {
          "bar": [
           {
            "error_x": {
             "color": "#2a3f5f"
            },
            "error_y": {
             "color": "#2a3f5f"
            },
            "marker": {
             "line": {
              "color": "#E5ECF6",
              "width": 0.5
             },
             "pattern": {
              "fillmode": "overlay",
              "size": 10,
              "solidity": 0.2
             }
            },
            "type": "bar"
           }
          ],
          "barpolar": [
           {
            "marker": {
             "line": {
              "color": "#E5ECF6",
              "width": 0.5
             },
             "pattern": {
              "fillmode": "overlay",
              "size": 10,
              "solidity": 0.2
             }
            },
            "type": "barpolar"
           }
          ],
          "carpet": [
           {
            "aaxis": {
             "endlinecolor": "#2a3f5f",
             "gridcolor": "white",
             "linecolor": "white",
             "minorgridcolor": "white",
             "startlinecolor": "#2a3f5f"
            },
            "baxis": {
             "endlinecolor": "#2a3f5f",
             "gridcolor": "white",
             "linecolor": "white",
             "minorgridcolor": "white",
             "startlinecolor": "#2a3f5f"
            },
            "type": "carpet"
           }
          ],
          "choropleth": [
           {
            "colorbar": {
             "outlinewidth": 0,
             "ticks": ""
            },
            "type": "choropleth"
           }
          ],
          "contour": [
           {
            "colorbar": {
             "outlinewidth": 0,
             "ticks": ""
            },
            "colorscale": [
             [
              0,
              "#0d0887"
             ],
             [
              0.1111111111111111,
              "#46039f"
             ],
             [
              0.2222222222222222,
              "#7201a8"
             ],
             [
              0.3333333333333333,
              "#9c179e"
             ],
             [
              0.4444444444444444,
              "#bd3786"
             ],
             [
              0.5555555555555556,
              "#d8576b"
             ],
             [
              0.6666666666666666,
              "#ed7953"
             ],
             [
              0.7777777777777778,
              "#fb9f3a"
             ],
             [
              0.8888888888888888,
              "#fdca26"
             ],
             [
              1,
              "#f0f921"
             ]
            ],
            "type": "contour"
           }
          ],
          "contourcarpet": [
           {
            "colorbar": {
             "outlinewidth": 0,
             "ticks": ""
            },
            "type": "contourcarpet"
           }
          ],
          "heatmap": [
           {
            "colorbar": {
             "outlinewidth": 0,
             "ticks": ""
            },
            "colorscale": [
             [
              0,
              "#0d0887"
             ],
             [
              0.1111111111111111,
              "#46039f"
             ],
             [
              0.2222222222222222,
              "#7201a8"
             ],
             [
              0.3333333333333333,
              "#9c179e"
             ],
             [
              0.4444444444444444,
              "#bd3786"
             ],
             [
              0.5555555555555556,
              "#d8576b"
             ],
             [
              0.6666666666666666,
              "#ed7953"
             ],
             [
              0.7777777777777778,
              "#fb9f3a"
             ],
             [
              0.8888888888888888,
              "#fdca26"
             ],
             [
              1,
              "#f0f921"
             ]
            ],
            "type": "heatmap"
           }
          ],
          "heatmapgl": [
           {
            "colorbar": {
             "outlinewidth": 0,
             "ticks": ""
            },
            "colorscale": [
             [
              0,
              "#0d0887"
             ],
             [
              0.1111111111111111,
              "#46039f"
             ],
             [
              0.2222222222222222,
              "#7201a8"
             ],
             [
              0.3333333333333333,
              "#9c179e"
             ],
             [
              0.4444444444444444,
              "#bd3786"
             ],
             [
              0.5555555555555556,
              "#d8576b"
             ],
             [
              0.6666666666666666,
              "#ed7953"
             ],
             [
              0.7777777777777778,
              "#fb9f3a"
             ],
             [
              0.8888888888888888,
              "#fdca26"
             ],
             [
              1,
              "#f0f921"
             ]
            ],
            "type": "heatmapgl"
           }
          ],
          "histogram": [
           {
            "marker": {
             "pattern": {
              "fillmode": "overlay",
              "size": 10,
              "solidity": 0.2
             }
            },
            "type": "histogram"
           }
          ],
          "histogram2d": [
           {
            "colorbar": {
             "outlinewidth": 0,
             "ticks": ""
            },
            "colorscale": [
             [
              0,
              "#0d0887"
             ],
             [
              0.1111111111111111,
              "#46039f"
             ],
             [
              0.2222222222222222,
              "#7201a8"
             ],
             [
              0.3333333333333333,
              "#9c179e"
             ],
             [
              0.4444444444444444,
              "#bd3786"
             ],
             [
              0.5555555555555556,
              "#d8576b"
             ],
             [
              0.6666666666666666,
              "#ed7953"
             ],
             [
              0.7777777777777778,
              "#fb9f3a"
             ],
             [
              0.8888888888888888,
              "#fdca26"
             ],
             [
              1,
              "#f0f921"
             ]
            ],
            "type": "histogram2d"
           }
          ],
          "histogram2dcontour": [
           {
            "colorbar": {
             "outlinewidth": 0,
             "ticks": ""
            },
            "colorscale": [
             [
              0,
              "#0d0887"
             ],
             [
              0.1111111111111111,
              "#46039f"
             ],
             [
              0.2222222222222222,
              "#7201a8"
             ],
             [
              0.3333333333333333,
              "#9c179e"
             ],
             [
              0.4444444444444444,
              "#bd3786"
             ],
             [
              0.5555555555555556,
              "#d8576b"
             ],
             [
              0.6666666666666666,
              "#ed7953"
             ],
             [
              0.7777777777777778,
              "#fb9f3a"
             ],
             [
              0.8888888888888888,
              "#fdca26"
             ],
             [
              1,
              "#f0f921"
             ]
            ],
            "type": "histogram2dcontour"
           }
          ],
          "mesh3d": [
           {
            "colorbar": {
             "outlinewidth": 0,
             "ticks": ""
            },
            "type": "mesh3d"
           }
          ],
          "parcoords": [
           {
            "line": {
             "colorbar": {
              "outlinewidth": 0,
              "ticks": ""
             }
            },
            "type": "parcoords"
           }
          ],
          "pie": [
           {
            "automargin": true,
            "type": "pie"
           }
          ],
          "scatter": [
           {
            "fillpattern": {
             "fillmode": "overlay",
             "size": 10,
             "solidity": 0.2
            },
            "type": "scatter"
           }
          ],
          "scatter3d": [
           {
            "line": {
             "colorbar": {
              "outlinewidth": 0,
              "ticks": ""
             }
            },
            "marker": {
             "colorbar": {
              "outlinewidth": 0,
              "ticks": ""
             }
            },
            "type": "scatter3d"
           }
          ],
          "scattercarpet": [
           {
            "marker": {
             "colorbar": {
              "outlinewidth": 0,
              "ticks": ""
             }
            },
            "type": "scattercarpet"
           }
          ],
          "scattergeo": [
           {
            "marker": {
             "colorbar": {
              "outlinewidth": 0,
              "ticks": ""
             }
            },
            "type": "scattergeo"
           }
          ],
          "scattergl": [
           {
            "marker": {
             "colorbar": {
              "outlinewidth": 0,
              "ticks": ""
             }
            },
            "type": "scattergl"
           }
          ],
          "scattermapbox": [
           {
            "marker": {
             "colorbar": {
              "outlinewidth": 0,
              "ticks": ""
             }
            },
            "type": "scattermapbox"
           }
          ],
          "scatterpolar": [
           {
            "marker": {
             "colorbar": {
              "outlinewidth": 0,
              "ticks": ""
             }
            },
            "type": "scatterpolar"
           }
          ],
          "scatterpolargl": [
           {
            "marker": {
             "colorbar": {
              "outlinewidth": 0,
              "ticks": ""
             }
            },
            "type": "scatterpolargl"
           }
          ],
          "scatterternary": [
           {
            "marker": {
             "colorbar": {
              "outlinewidth": 0,
              "ticks": ""
             }
            },
            "type": "scatterternary"
           }
          ],
          "surface": [
           {
            "colorbar": {
             "outlinewidth": 0,
             "ticks": ""
            },
            "colorscale": [
             [
              0,
              "#0d0887"
             ],
             [
              0.1111111111111111,
              "#46039f"
             ],
             [
              0.2222222222222222,
              "#7201a8"
             ],
             [
              0.3333333333333333,
              "#9c179e"
             ],
             [
              0.4444444444444444,
              "#bd3786"
             ],
             [
              0.5555555555555556,
              "#d8576b"
             ],
             [
              0.6666666666666666,
              "#ed7953"
             ],
             [
              0.7777777777777778,
              "#fb9f3a"
             ],
             [
              0.8888888888888888,
              "#fdca26"
             ],
             [
              1,
              "#f0f921"
             ]
            ],
            "type": "surface"
           }
          ],
          "table": [
           {
            "cells": {
             "fill": {
              "color": "#EBF0F8"
             },
             "line": {
              "color": "white"
             }
            },
            "header": {
             "fill": {
              "color": "#C8D4E3"
             },
             "line": {
              "color": "white"
             }
            },
            "type": "table"
           }
          ]
         },
         "layout": {
          "annotationdefaults": {
           "arrowcolor": "#2a3f5f",
           "arrowhead": 0,
           "arrowwidth": 1
          },
          "autotypenumbers": "strict",
          "coloraxis": {
           "colorbar": {
            "outlinewidth": 0,
            "ticks": ""
           }
          },
          "colorscale": {
           "diverging": [
            [
             0,
             "#8e0152"
            ],
            [
             0.1,
             "#c51b7d"
            ],
            [
             0.2,
             "#de77ae"
            ],
            [
             0.3,
             "#f1b6da"
            ],
            [
             0.4,
             "#fde0ef"
            ],
            [
             0.5,
             "#f7f7f7"
            ],
            [
             0.6,
             "#e6f5d0"
            ],
            [
             0.7,
             "#b8e186"
            ],
            [
             0.8,
             "#7fbc41"
            ],
            [
             0.9,
             "#4d9221"
            ],
            [
             1,
             "#276419"
            ]
           ],
           "sequential": [
            [
             0,
             "#0d0887"
            ],
            [
             0.1111111111111111,
             "#46039f"
            ],
            [
             0.2222222222222222,
             "#7201a8"
            ],
            [
             0.3333333333333333,
             "#9c179e"
            ],
            [
             0.4444444444444444,
             "#bd3786"
            ],
            [
             0.5555555555555556,
             "#d8576b"
            ],
            [
             0.6666666666666666,
             "#ed7953"
            ],
            [
             0.7777777777777778,
             "#fb9f3a"
            ],
            [
             0.8888888888888888,
             "#fdca26"
            ],
            [
             1,
             "#f0f921"
            ]
           ],
           "sequentialminus": [
            [
             0,
             "#0d0887"
            ],
            [
             0.1111111111111111,
             "#46039f"
            ],
            [
             0.2222222222222222,
             "#7201a8"
            ],
            [
             0.3333333333333333,
             "#9c179e"
            ],
            [
             0.4444444444444444,
             "#bd3786"
            ],
            [
             0.5555555555555556,
             "#d8576b"
            ],
            [
             0.6666666666666666,
             "#ed7953"
            ],
            [
             0.7777777777777778,
             "#fb9f3a"
            ],
            [
             0.8888888888888888,
             "#fdca26"
            ],
            [
             1,
             "#f0f921"
            ]
           ]
          },
          "colorway": [
           "#636efa",
           "#EF553B",
           "#00cc96",
           "#ab63fa",
           "#FFA15A",
           "#19d3f3",
           "#FF6692",
           "#B6E880",
           "#FF97FF",
           "#FECB52"
          ],
          "font": {
           "color": "#2a3f5f"
          },
          "geo": {
           "bgcolor": "white",
           "lakecolor": "white",
           "landcolor": "#E5ECF6",
           "showlakes": true,
           "showland": true,
           "subunitcolor": "white"
          },
          "hoverlabel": {
           "align": "left"
          },
          "hovermode": "closest",
          "mapbox": {
           "style": "light"
          },
          "paper_bgcolor": "white",
          "plot_bgcolor": "#E5ECF6",
          "polar": {
           "angularaxis": {
            "gridcolor": "white",
            "linecolor": "white",
            "ticks": ""
           },
           "bgcolor": "#E5ECF6",
           "radialaxis": {
            "gridcolor": "white",
            "linecolor": "white",
            "ticks": ""
           }
          },
          "scene": {
           "xaxis": {
            "backgroundcolor": "#E5ECF6",
            "gridcolor": "white",
            "gridwidth": 2,
            "linecolor": "white",
            "showbackground": true,
            "ticks": "",
            "zerolinecolor": "white"
           },
           "yaxis": {
            "backgroundcolor": "#E5ECF6",
            "gridcolor": "white",
            "gridwidth": 2,
            "linecolor": "white",
            "showbackground": true,
            "ticks": "",
            "zerolinecolor": "white"
           },
           "zaxis": {
            "backgroundcolor": "#E5ECF6",
            "gridcolor": "white",
            "gridwidth": 2,
            "linecolor": "white",
            "showbackground": true,
            "ticks": "",
            "zerolinecolor": "white"
           }
          },
          "shapedefaults": {
           "line": {
            "color": "#2a3f5f"
           }
          },
          "ternary": {
           "aaxis": {
            "gridcolor": "white",
            "linecolor": "white",
            "ticks": ""
           },
           "baxis": {
            "gridcolor": "white",
            "linecolor": "white",
            "ticks": ""
           },
           "bgcolor": "#E5ECF6",
           "caxis": {
            "gridcolor": "white",
            "linecolor": "white",
            "ticks": ""
           }
          },
          "title": {
           "x": 0.05
          },
          "xaxis": {
           "automargin": true,
           "gridcolor": "white",
           "linecolor": "white",
           "ticks": "",
           "title": {
            "standoff": 15
           },
           "zerolinecolor": "white",
           "zerolinewidth": 2
          },
          "yaxis": {
           "automargin": true,
           "gridcolor": "white",
           "linecolor": "white",
           "ticks": "",
           "title": {
            "standoff": 15
           },
           "zerolinecolor": "white",
           "zerolinewidth": 2
          }
         }
        },
        "title": {
         "text": "Sentences t-SNE Visualization with TF-IDF Embeddings"
        },
        "width": 1200,
        "xaxis": {
         "anchor": "y",
         "domain": [
          0,
          1
         ],
         "title": {
          "text": "x-tsne"
         }
        },
        "yaxis": {
         "anchor": "x",
         "domain": [
          0,
          1
         ],
         "title": {
          "text": "y-tsne"
         }
        }
       }
      }
     },
     "metadata": {},
     "output_type": "display_data"
    }
   ],
   "source": [
    "tsne = TSNE(n_components=2, random_state=42, perplexity=30, max_iter=1000)\n",
    "X_tsne = tsne.fit_transform(tfidf_emb_arr)\n",
    "\n",
    "tfidf_df['text'] = tfidf_df['text'].apply(lambda x: \" \".join(x.split()[:5]) + \"...\")\n",
    "\n",
    "# Add t-SNE results to the DataFrame\n",
    "tfidf_df[\"x-tsne\"] = X_tsne[:, 0]\n",
    "tfidf_df[\"y-tsne\"] = X_tsne[:, 1]\n",
    "\n",
    "# Create interactive scatter plot\n",
    "fig_tfidf = px.scatter(\n",
    "    tfidf_df,\n",
    "    x=\"x-tsne\",\n",
    "    y=\"y-tsne\",\n",
    "    color=\"overall_label\",\n",
    "    hover_data={\"text\": True, \"overall_label\": True},\n",
    "    title=\"Sentences t-SNE Visualization with TF-IDF Embeddings\",\n",
    "    width=1200,\n",
    "    height=1200,\n",
    ")\n",
    "# Show plot\n",
    "\n",
    "fig_tfidf.show()"
   ]
  },
  {
   "cell_type": "markdown",
   "metadata": {},
   "source": [
    "### HDBSCAN"
   ]
  },
  {
   "cell_type": "code",
   "execution_count": 42,
   "metadata": {},
   "outputs": [],
   "source": [
    "hdbscan = HDBSCAN(\n",
    "    min_cluster_size=5, metric=\"euclidean\", cluster_selection_method=\"eom\"\n",
    ")"
   ]
  },
  {
   "cell_type": "code",
   "execution_count": 43,
   "metadata": {},
   "outputs": [
    {
     "data": {
      "text/html": [
       "<div>\n",
       "<style scoped>\n",
       "    .dataframe tbody tr th:only-of-type {\n",
       "        vertical-align: middle;\n",
       "    }\n",
       "\n",
       "    .dataframe tbody tr th {\n",
       "        vertical-align: top;\n",
       "    }\n",
       "\n",
       "    .dataframe thead th {\n",
       "        text-align: right;\n",
       "    }\n",
       "</style>\n",
       "<table border=\"1\" class=\"dataframe\">\n",
       "  <thead>\n",
       "    <tr style=\"text-align: right;\">\n",
       "      <th></th>\n",
       "      <th>id</th>\n",
       "      <th>text</th>\n",
       "      <th>overall_label</th>\n",
       "      <th>cleaned_text</th>\n",
       "      <th>ft_embeddings</th>\n",
       "      <th>x-tsne</th>\n",
       "      <th>y-tsne</th>\n",
       "      <th>cluster</th>\n",
       "    </tr>\n",
       "  </thead>\n",
       "  <tbody>\n",
       "    <tr>\n",
       "      <th>0</th>\n",
       "      <td>1</td>\n",
       "      <td>The film tells the story...</td>\n",
       "      <td>drama</td>\n",
       "      <td>film tells story elizabeth colbert john welles...</td>\n",
       "      <td>[-0.0124314, 0.007053868, 0.0022771724, 0.0611...</td>\n",
       "      <td>2.994706</td>\n",
       "      <td>2.655316</td>\n",
       "      <td>0</td>\n",
       "    </tr>\n",
       "  </tbody>\n",
       "</table>\n",
       "</div>"
      ],
      "text/plain": [
       "   id                         text overall_label  \\\n",
       "0   1  The film tells the story...         drama   \n",
       "\n",
       "                                        cleaned_text  \\\n",
       "0  film tells story elizabeth colbert john welles...   \n",
       "\n",
       "                                       ft_embeddings    x-tsne    y-tsne  \\\n",
       "0  [-0.0124314, 0.007053868, 0.0022771724, 0.0611...  2.994706  2.655316   \n",
       "\n",
       "   cluster  \n",
       "0        0  "
      ]
     },
     "execution_count": 43,
     "metadata": {},
     "output_type": "execute_result"
    }
   ],
   "source": [
    "ft_df[\"cluster\"] = hdbscan.fit_predict(ft_embed_arr)\n",
    "ft_df.head(1)"
   ]
  },
  {
   "cell_type": "code",
   "execution_count": 45,
   "metadata": {},
   "outputs": [
    {
     "data": {
      "application/vnd.plotly.v1+json": {
       "config": {
        "plotlyServerURL": "https://plot.ly"
       },
       "data": [
        {
         "customdata": [
          [
           "The film tells the story...",
           "drama",
           "0"
          ],
          [
           "Young sci-fi/fantasy enthusiast Gavin Gore...",
           "comedy",
           "0"
          ],
          [
           "In World War II, two...",
           "action",
           "0"
          ],
          [
           "Byron Levin works in a...",
           "drama",
           "0"
          ],
          [
           "It is love at first...",
           "romance",
           "0"
          ],
          [
           "Joseph is a mentally retarded...",
           "drama",
           "0"
          ],
          [
           "Dr. Markoff (J. Carrol Naish)...",
           "fantasy",
           "0"
          ],
          [
           "The plot revolves around the...",
           "drama",
           "0"
          ],
          [
           "Set in the austere post–World...",
           "fantasy",
           "0"
          ],
          [
           "Scott (Ryan Phillippe) is a...",
           "comedy",
           "0"
          ],
          [
           "Cosmo Reif, an affectless mob...",
           "comedy",
           "0"
          ],
          [
           "Edgar Mills and his mistress...",
           "comedy",
           "0"
          ],
          [
           "Marianne (Greta Garbo) is a...",
           "romance",
           "0"
          ],
          [
           "Italian aristocrat Angela Chiaromonte (Helen...",
           "romance",
           "0"
          ],
          [
           "Two escaping killers hide out...",
           "action",
           "0"
          ],
          [
           "Struggling young actress Jenny (Marjorie...",
           "comedy",
           "0"
          ],
          [
           "Sally Elliott (Rita Hayworth), a...",
           "action",
           "0"
          ],
          [
           "Roanne Sanchez, a young girl...",
           "romance",
           "0"
          ],
          [
           "The Hartford Transcontinental Railroad is...",
           "western",
           "0"
          ],
          [
           "Trust concerns the unusual romance...",
           "romance",
           "0"
          ],
          [
           "Restaurant owner Dylan Ramsey (David...",
           "comedy",
           "0"
          ],
          [
           "Jeff Hassard (Dean Jagger) and...",
           "western",
           "0"
          ],
          [
           "Charles Kessler (Bela Lugosi) is...",
           "action",
           "0"
          ],
          [
           "United States Secret Service Lieutenant...",
           "action",
           "0"
          ],
          [
           "Two college girls, Ducky and...",
           "comedy",
           "0"
          ],
          [
           "Professional hunter Harry Black is...",
           "action",
           "0"
          ],
          [
           "The film's slight storyline concerns...",
           "comedy",
           "0"
          ],
          [
           "A blind detective, Duncan Maclain,...",
           "action",
           "0"
          ],
          [
           "Three teenage boys in small-town...",
           "drama",
           "0"
          ],
          [
           "Alim is a young gay...",
           "drama",
           "0"
          ],
          [
           "In the 1930s, Teresa (Buday)...",
           "romance",
           "0"
          ],
          [
           "John Murdock (Paul Richards) is...",
           "western",
           "0"
          ],
          [
           "Big Bad Love shares its...",
           "drama",
           "0"
          ],
          [
           "Ten-year-old Bobby (Frankie Thomas) and...",
           "drama",
           "0"
          ],
          [
           "Agimat (Bong Revilla, Jr.) is...",
           "fantasy",
           "0"
          ],
          [
           "A prospective settler, pioneer Bob...",
           "western",
           "0"
          ],
          [
           "Julia Hemingway (Ina Skriver, credited...",
           "comedy",
           "0"
          ],
          [
           "Hans a young German journalist...",
           "action",
           "0"
          ],
          [
           "The drama tells of a...",
           "drama",
           "0"
          ]
         ],
         "hovertemplate": "cluster=%{customdata[2]}<br>x-tsne=%{x}<br>y-tsne=%{y}<br>text=%{customdata[0]}<br>overall_label=%{customdata[1]}<extra></extra>",
         "legendgroup": "0",
         "marker": {
          "color": "#636efa",
          "symbol": "circle"
         },
         "mode": "markers",
         "name": "0",
         "orientation": "v",
         "showlegend": true,
         "type": "scatter",
         "x": [
          2.994706153869629,
          -0.28256702423095703,
          -2.9569661617279053,
          -0.09061604738235474,
          1.1536093950271606,
          2.717698335647583,
          -0.9253474473953247,
          3.418196439743042,
          -0.7205039262771606,
          3.533200740814209,
          2.802717447280884,
          3.4409825801849365,
          0.8778584003448486,
          1.7549391984939575,
          3.3088083267211914,
          0.8810276389122009,
          0.26486632227897644,
          1.2963283061981201,
          1.8268587589263916,
          2.0760622024536133,
          1.587609887123108,
          0.8660843968391418,
          3.218744993209839,
          -0.8876747488975525,
          1.5541282892227173,
          0.793816089630127,
          2.1941945552825928,
          2.9420225620269775,
          3.6621179580688477,
          1.678070068359375,
          0.972811222076416,
          -1.2804960012435913,
          0.7048729658126831,
          3.511708974838257,
          -1.7143256664276123,
          2.382702112197876,
          -1.3099775314331055,
          0.396006315946579,
          -0.393019437789917
         ],
         "xaxis": "x",
         "y": [
          2.655316114425659,
          2.7713983058929443,
          1.5742359161376953,
          4.676267623901367,
          -0.136535182595253,
          1.8729525804519653,
          0.5401033759117126,
          2.8455324172973633,
          -0.6715130805969238,
          2.1579291820526123,
          -0.4052380621433258,
          4.778759956359863,
          3.2377207279205322,
          3.7122418880462646,
          0.41667041182518005,
          2.947695016860962,
          3.3024001121520996,
          -0.9008033275604248,
          1.327780842781067,
          -1.4975804090499878,
          1.7999933958053589,
          4.625154495239258,
          4.702147483825684,
          4.823506832122803,
          -1.5836365222930908,
          2.1333651542663574,
          -1.8956658840179443,
          4.879405975341797,
          0.3428870141506195,
          -0.9277135729789734,
          -0.5280026197433472,
          2.4212844371795654,
          -0.5130225419998169,
          2.3767969608306885,
          0.1754554957151413,
          2.1017863750457764,
          4.0577874183654785,
          -2.5396628379821777,
          0.14374783635139465
         ],
         "yaxis": "y"
        },
        {
         "customdata": [
          [
           "The eventful life of Swami...",
           "drama",
           "-1"
          ],
          [
           "Jagathalaprathapan is a prince who...",
           "romance",
           "-1"
          ],
          [
           "Police inspector Holloway (Patrick Wymark)...",
           "action",
           "-1"
          ],
          [
           "Lewis and Clark and George...",
           "drama",
           "-1"
          ],
          [
           "The story is about two...",
           "romance",
           "-1"
          ],
          [
           "In a British TV studio,...",
           "comedy",
           "-1"
          ],
          [
           "George Cabot Jr. (Cesar Romero),...",
           "comedy",
           "-1"
          ],
          [
           "In 1962, South Korea. Kang...",
           "romance",
           "-1"
          ],
          [
           "Neil John Samuel is a...",
           "action",
           "-1"
          ],
          [
           "Vani Viswanath plays the central...",
           "drama",
           "-1"
          ],
          [
           "Oliver's mother, a penniless outcast,...",
           "drama",
           "-1"
          ],
          [
           "Mongol chief Temujin (later to...",
           "action",
           "-1"
          ],
          [
           "A popular dance hall girl,...",
           "action",
           "-1"
          ],
          [
           "Mordecai C. Jones (Scott) –...",
           "comedy",
           "-1"
          ],
          [
           "Reverend Smith has arrived in...",
           "drama",
           "-1"
          ],
          [
           "Following the plot of the...",
           "drama",
           "-1"
          ],
          [
           "Flesh (Vince Murdocco) is kidnapped...",
           "fantasy",
           "-1"
          ],
          [
           "A psychoanalyst and his young...",
           "drama",
           "-1"
          ],
          [
           "Shellshocked following his experiences as...",
           "drama",
           "-1"
          ],
          [
           "The film is a story...",
           "drama",
           "-1"
          ],
          [
           "The story starts with a...",
           "drama",
           "-1"
          ],
          [
           "This film is about a...",
           "drama",
           "-1"
          ],
          [
           "3000 years ago, the Vader...",
           "fantasy",
           "-1"
          ],
          [
           "Having cleaned up Tombstone, Arizona,...",
           "western",
           "-1"
          ],
          [
           "An orphan girl, named Bindu...",
           "drama",
           "-1"
          ],
          [
           "The story is about a...",
           "comedy",
           "-1"
          ],
          [
           "Kisan Kanya was based on...",
           "drama",
           "-1"
          ],
          [
           "A psychic woman leads archaeologists...",
           "fantasy",
           "-1"
          ],
          [
           "Stand-up-comedian Nikita Kolesnikov (Danila Kozlovsky)...",
           "drama",
           "-1"
          ],
          [
           "Two reporters, Curtis (Conrad Phillips)...",
           "action",
           "-1"
          ],
          [
           "Two best friends who live...",
           "comedy",
           "-1"
          ],
          [
           "Claire of the Moon is...",
           "romance",
           "-1"
          ],
          [
           "Curry and Pepper are two...",
           "comedy",
           "-1"
          ],
          [
           "Loosely based on true events...",
           "comedy",
           "-1"
          ],
          [
           "Bok-nyeo, a mentally handicapped woman,...",
           "drama",
           "-1"
          ],
          [
           "The movie opens with Fung...",
           "drama",
           "-1"
          ],
          [
           "The film is an account...",
           "document",
           "-1"
          ],
          [
           "On the run from the...",
           "fantasy",
           "-1"
          ],
          [
           "A man visits a happy...",
           "romance",
           "-1"
          ],
          [
           "In 1983 KBS launched a...",
           "document",
           "-1"
          ],
          [
           "Harvey Keitel plays an American...",
           "drama",
           "-1"
          ],
          [
           "Rahul (Ramankanth) sees a concert...",
           "drama",
           "-1"
          ],
          [
           "A crime reporter, assisted by...",
           "drama",
           "-1"
          ],
          [
           "Irène Bordoni is cast as...",
           "comedy",
           "-1"
          ],
          [
           "This film is about two...",
           "drama",
           "-1"
          ],
          [
           "Molly Gilbert won't accept a...",
           "comedy",
           "-1"
          ],
          [
           "The film is set in...",
           "action",
           "-1"
          ],
          [
           "Shane O'Shea is a young...",
           "drama",
           "-1"
          ],
          [
           "Bumbling cop Chatur Singh (Sanjay...",
           "comedy",
           "-1"
          ],
          [
           "Rolex (Prakash Raj) is a...",
           "action",
           "-1"
          ],
          [
           "Dhag is the story of...",
           "drama",
           "-1"
          ],
          [
           "A Mighty Heart is a...",
           "document",
           "-1"
          ],
          [
           "The film is a retelling...",
           "fantasy",
           "-1"
          ],
          [
           "Christopher, a lustful man goes...",
           "fantasy",
           "-1"
          ],
          [
           "Inventor and engineer Robert Draper...",
           "action",
           "-1"
          ],
          [
           "A young sculptor searches for...",
           "drama",
           "-1"
          ],
          [
           "Hardy plays Dr. Henry Tibbett,...",
           "comedy",
           "-1"
          ],
          [
           "After discovering that her state...",
           "comedy",
           "-1"
          ],
          [
           "The film is an examination...",
           "document",
           "-1"
          ],
          [
           "The Kitauji high school concert...",
           "drama",
           "-1"
          ],
          [
           "In every port, sailor Bill,...",
           "comedy",
           "-1"
          ],
          [
           "Lost & Found is basically...",
           "drama",
           "-1"
          ],
          [
           "Joan (Purviance) and Magdalen (Sothern)...",
           "romance",
           "-1"
          ],
          [
           "Hong Deok-Ja continues to run...",
           "comedy",
           "-1"
          ],
          [
           "This film follows the lead...",
           "action",
           "-1"
          ],
          [
           "Indie musician Dong-hoon and cartoonist...",
           "drama",
           "-1"
          ],
          [
           "The story tells about Ching...",
           "drama",
           "-1"
          ],
          [
           "A former agent from the...",
           "action",
           "-1"
          ],
          [
           "Unlike other Alamo films that...",
           "western",
           "-1"
          ],
          [
           "The story involves a middle-aged...",
           "western",
           "-1"
          ],
          [
           "Gloria Cole and Eddie Swenson...",
           "drama",
           "-1"
          ],
          [
           "A San Francisco earthquake orphan...",
           "comedy",
           "-1"
          ],
          [
           "The film is about an...",
           "comedy",
           "-1"
          ],
          [
           "An earthquake releases a bunch...",
           "fantasy",
           "-1"
          ],
          [
           "The story line centres on...",
           "comedy",
           "-1"
          ],
          [
           "Stephen Ghent, a mineowner, falls...",
           "comedy",
           "-1"
          ],
          [
           "Nine people from around the...",
           "fantasy",
           "-1"
          ],
          [
           "Sets in the 19th century,...",
           "drama",
           "-1"
          ],
          [
           "The film tells the story...",
           "comedy",
           "-1"
          ],
          [
           "After Joe Huggett loses his...",
           "drama",
           "-1"
          ],
          [
           "Chaiti is a young beautiful...",
           "drama",
           "-1"
          ],
          [
           "Eric Wainwright (Van Johnson), a...",
           "comedy",
           "-1"
          ],
          [
           "Kevin Agar is a Carlton-based...",
           "comedy",
           "-1"
          ],
          [
           "The film takes place in...",
           "fantasy",
           "-1"
          ],
          [
           "After being told by his...",
           "western",
           "-1"
          ],
          [
           "Arjun lives in a village....",
           "drama",
           "-1"
          ],
          [
           "The story of the film...",
           "drama",
           "-1"
          ],
          [
           "Jerry McGuire (William Collier Jr.)...",
           "drama",
           "-1"
          ],
          [
           "Chu Liuxiang is having drinks...",
           "action",
           "-1"
          ],
          [
           "When Los Angeles' police force...",
           "comedy",
           "-1"
          ],
          [
           "Fontaine Khaled is the London...",
           "comedy",
           "-1"
          ],
          [
           "Hiraasat is an action film,...",
           "action",
           "-1"
          ],
          [
           "California gubernatorial candidate Burton (Lyon)...",
           "drama",
           "-1"
          ],
          [
           "A 12-year old young boy...",
           "drama",
           "-1"
          ],
          [
           "Soo-nam is a poor woman...",
           "drama",
           "-1"
          ],
          [
           "Rie and Nao own a...",
           "drama",
           "-1"
          ],
          [
           "A simple handyman, who also...",
           "drama",
           "-1"
          ],
          [
           "Karthi (Mahesh) is a college...",
           "action",
           "-1"
          ],
          [
           "The story of the film...",
           "fantasy",
           "-1"
          ],
          [
           "The film stars Harry Connick...",
           "drama",
           "-1"
          ],
          [
           "In 1964, inmate Charlie Forsythe...",
           "drama",
           "-1"
          ],
          [
           "Vivek is a wanted criminal...",
           "drama",
           "-1"
          ],
          [
           "The film tells the story...",
           "comedy",
           "-1"
          ],
          [
           "In a Mexican nightclub, some...",
           "drama",
           "-1"
          ],
          [
           "Officers throw an extravagant party...",
           "comedy",
           "-1"
          ],
          [
           "The story revolves around an...",
           "drama",
           "-1"
          ],
          [
           "A bullied teen chef wants...",
           "comedy",
           "-1"
          ],
          [
           "Flagg (Victor McLaglen) and Quirt...",
           "comedy",
           "-1"
          ],
          [
           "Nick (Niven) is the supposed...",
           "comedy",
           "-1"
          ],
          [
           "A rivalry develops between veteran...",
           "drama",
           "-1"
          ],
          [
           "In the autumn of 1950,...",
           "document",
           "-1"
          ],
          [
           "Raised on a sharecropping plantation...",
           "document",
           "-1"
          ],
          [
           "Taglines: \"Being a girl is...",
           "drama",
           "-1"
          ],
          [
           "Newland Archer is engaged to...",
           "romance",
           "-1"
          ],
          [
           "In a small town, mentally...",
           "comedy",
           "-1"
          ],
          [
           "The story is a family...",
           "drama",
           "-1"
          ],
          [
           "Frankie Bono, a hitman from...",
           "action",
           "-1"
          ],
          [
           "The Philippines, 1972. Mysterious things...",
           "action",
           "-1"
          ],
          [
           "Set in Alexandria in 1938,...",
           "drama",
           "-1"
          ],
          [
           "Two days before Christmas, a...",
           "action",
           "-1"
          ],
          [
           "Michael Walsh, a husband and...",
           "drama",
           "-1"
          ],
          [
           "The film revolves around an...",
           "drama",
           "-1"
          ],
          [
           "On board an ocean liner...",
           "comedy",
           "-1"
          ],
          [
           "Twice widowed, Pilnyeo vows never...",
           "drama",
           "-1"
          ],
          [
           "Convict Van Duff is the...",
           "action",
           "-1"
          ],
          [
           "A U.S. marshal investigates when...",
           "western",
           "-1"
          ],
          [
           "A new teacher organizes a...",
           "drama",
           "-1"
          ],
          [
           "The story of a 10th...",
           "drama",
           "-1"
          ],
          [
           "The plot of the film...",
           "fantasy",
           "-1"
          ],
          [
           "The boys are involved in...",
           "comedy",
           "-1"
          ],
          [
           "In the year 1999, the...",
           "fantasy",
           "-1"
          ],
          [
           "The film is a historical...",
           "document",
           "-1"
          ],
          [
           "The film is based on...",
           "drama",
           "-1"
          ],
          [
           "Jin-hong is a prosecutor who...",
           "fantasy",
           "-1"
          ],
          [
           "Brinda (Sindhu Tolani) is an...",
           "drama",
           "-1"
          ],
          [
           "An old gangster, with a...",
           "action",
           "-1"
          ],
          [
           "Kumar, a graduate who decides...",
           "drama",
           "-1"
          ],
          [
           "The Rogers family visit Blackpool...",
           "comedy",
           "-1"
          ],
          [
           "The story revolves around a...",
           "action",
           "-1"
          ],
          [
           "The film is about an...",
           "comedy",
           "-1"
          ],
          [
           "A mysterious killer, known only...",
           "drama",
           "-1"
          ],
          [
           "A genius sculptor Joon-goo (Park...",
           "drama",
           "-1"
          ],
          [
           "The young filmmaker Timothy (Jonathan...",
           "comedy",
           "-1"
          ],
          [
           "Russian general Marenkov (Robert Shaw)...",
           "action",
           "-1"
          ],
          [
           "Small-fry marijuana harvesters in Northern...",
           "comedy",
           "-1"
          ],
          [
           "Omar Sharif plays Muhassab, headman...",
           "action",
           "-1"
          ],
          [
           "A young Lakota Sioux (Lou...",
           "drama",
           "-1"
          ],
          [
           "The Chain tells the story...",
           "comedy",
           "-1"
          ],
          [
           "The film is set in...",
           "action",
           "-1"
          ],
          [
           "Hikaru Oshiro, noticing that there...",
           "drama",
           "-1"
          ]
         ],
         "hovertemplate": "cluster=%{customdata[2]}<br>x-tsne=%{x}<br>y-tsne=%{y}<br>text=%{customdata[0]}<br>overall_label=%{customdata[1]}<extra></extra>",
         "legendgroup": "-1",
         "marker": {
          "color": "#EF553B",
          "symbol": "circle"
         },
         "mode": "markers",
         "name": "-1",
         "orientation": "v",
         "showlegend": true,
         "type": "scatter",
         "x": [
          -3.6217997074127197,
          -6.107692241668701,
          3.250075340270996,
          -1.5879311561584473,
          1.0645105838775635,
          -0.731400191783905,
          -0.5513063073158264,
          2.3938145637512207,
          -2.6074447631835938,
          -5.359076976776123,
          4.754931926727295,
          -5.6729044914245605,
          3.7605130672454834,
          -1.534193754196167,
          1.1517199277877808,
          2.072770118713379,
          -1.4631398916244507,
          5.3588714599609375,
          -3.20357084274292,
          -0.7438421845436096,
          -4.662885665893555,
          -4.211509704589844,
          -2.2324740886688232,
          0.8497996926307678,
          -0.021784469485282898,
          -4.279808521270752,
          -4.713484287261963,
          7.619232654571533,
          -2.346926689147949,
          0.26504161953926086,
          2.426227569580078,
          -0.14009249210357666,
          2.445645809173584,
          -1.625332236289978,
          -6.856034278869629,
          7.268377304077148,
          -1.3341832160949707,
          -1.7987700700759888,
          5.5372843742370605,
          -2.034069061279297,
          -3.308795690536499,
          4.952675819396973,
          -0.3004736602306366,
          0.15122386813163757,
          -4.646488189697266,
          1.9267330169677734,
          2.5752835273742676,
          1.0281614065170288,
          -5.525898456573486,
          -5.826752185821533,
          -2.3782901763916016,
          -3.9852631092071533,
          -0.3886866569519043,
          5.242291450500488,
          2.5138776302337646,
          5.773351192474365,
          6.1683526039123535,
          0.4969939589500427,
          -1.1056489944458008,
          2.7063915729522705,
          -0.6709839701652527,
          -2.7567126750946045,
          0.4840901792049408,
          2.1910805702209473,
          -0.5097206830978394,
          4.818620204925537,
          -0.7472112774848938,
          -4.860031604766846,
          -0.7412102818489075,
          5.9522786140441895,
          2.192293882369995,
          1.6615568399429321,
          -0.5897798538208008,
          -2.244499683380127,
          1.828381896018982,
          1.574654221534729,
          -2.31846284866333,
          -2.1718876361846924,
          2.7282392978668213,
          3.1926395893096924,
          -3.3075523376464844,
          0.4842333495616913,
          1.7321488857269287,
          3.3412272930145264,
          2.058859348297119,
          -2.123692750930786,
          4.311172962188721,
          -0.4799323081970215,
          -0.4544146955013275,
          3.854452610015869,
          1.635800838470459,
          -6.529029369354248,
          3.415693521499634,
          4.916743755340576,
          4.4017462730407715,
          0.31765323877334595,
          0.5820509791374207,
          7.424399375915527,
          0.9602342247962952,
          1.057092547416687,
          1.917396903038025,
          -5.3112993240356445,
          -3.149071216583252,
          -1.911491870880127,
          -1.045700192451477,
          5.913552761077881,
          2.010744333267212,
          -0.36516016721725464,
          0.7607142329216003,
          -0.9724463224411011,
          -4.574272632598877,
          -1.3246033191680908,
          1.7321040630340576,
          2.2651209831237793,
          3.052581310272217,
          -5.193164348602295,
          2.7084550857543945,
          -2.9870619773864746,
          -2.90116810798645,
          6.968583106994629,
          3.586310386657715,
          0.28995153307914734,
          1.0004565715789795,
          4.490560054779053,
          3.42586088180542,
          4.3315019607543945,
          2.7128899097442627,
          3.3767051696777344,
          3.4114561080932617,
          3.2931456565856934,
          -1.9934337139129639,
          -6.901294708251953,
          -3.9825541973114014,
          5.518008708953857,
          -4.681250095367432,
          4.078679084777832,
          -4.477762222290039,
          5.548936367034912,
          6.018304824829102,
          4.604778289794922,
          5.499696731567383,
          -2.728973150253296,
          -0.10604207962751389,
          -3.0529744625091553,
          4.128556251525879,
          -3.784146785736084,
          5.8786725997924805,
          -0.9710291028022766,
          -2.079500913619995,
          2.6156556606292725
         ],
         "xaxis": "x",
         "y": [
          -6.073084831237793,
          -5.891542434692383,
          5.260068893432617,
          4.671456336975098,
          -3.4039437770843506,
          1.5433464050292969,
          5.2009453773498535,
          -5.378175735473633,
          4.602696418762207,
          -4.038867473602295,
          1.882552981376648,
          2.3098766803741455,
          -1.540342092514038,
          2.0161023139953613,
          5.390900135040283,
          3.8978590965270996,
          0.12458201497793198,
          -1.0006439685821533,
          0.799142599105835,
          -3.127474784851074,
          3.4890100955963135,
          0.18725718557834625,
          -0.054945338517427444,
          6.730786323547363,
          -2.3768980503082275,
          -4.076390743255615,
          -6.364940643310547,
          -1.955618143081665,
          -3.982116460800171,
          5.807972431182861,
          -3.178077459335327,
          1.8253155946731567,
          -2.2302098274230957,
          0.9682539701461792,
          -0.2659125328063965,
          2.5143470764160156,
          -3.7692642211914062,
          2.4519426822662354,
          -4.06370735168457,
          -2.4035065174102783,
          2.8156285285949707,
          -2.411804437637329,
          -5.464500904083252,
          4.5670084953308105,
          -5.486787796020508,
          0.8262816071510315,
          -1.1344765424728394,
          3.014951705932617,
          -3.274977922439575,
          -3.6382219791412354,
          -5.981046199798584,
          -1.2489662170410156,
          0.44506528973579407,
          4.218198776245117,
          6.061268329620361,
          -4.167686939239502,
          5.341466903686523,
          -4.204766273498535,
          -3.833667516708374,
          -6.685423374176025,
          3.2533042430877686,
          -5.751197338104248,
          4.030226707458496,
          -2.195955276489258,
          0.6151502728462219,
          0.6607992649078369,
          6.902746200561523,
          0.3574063181877136,
          5.956862926483154,
          1.841476559638977,
          0.30322062969207764,
          4.858959674835205,
          -4.666375160217285,
          -0.95492023229599,
          -3.4805843830108643,
          4.412106990814209,
          -1.1100828647613525,
          5.785369396209717,
          4.243309020996094,
          -1.9374736547470093,
          -4.1652021408081055,
          3.353928804397583,
          -1.9505404233932495,
          -3.516355276107788,
          1.4414334297180176,
          -6.205853462219238,
          3.539358139038086,
          5.588351726531982,
          -0.7640266418457031,
          0.4110586941242218,
          2.9151153564453125,
          -3.5515847206115723,
          6.929572105407715,
          2.4042491912841797,
          -2.9857611656188965,
          -1.7319530248641968,
          -5.994593143463135,
          0.33928602933883667,
          -2.909788131713867,
          0.3969292640686035,
          6.334068298339844,
          -1.7411080598831177,
          1.7594355344772339,
          3.1940488815307617,
          3.932379722595215,
          -0.759600818157196,
          0.7199023365974426,
          -1.57674241065979,
          1.2789055109024048,
          5.992658615112305,
          1.4196865558624268,
          -1.372117280960083,
          -4.725954532623291,
          2.6234049797058105,
          3.5825533866882324,
          -5.214804172515869,
          -0.274501234292984,
          -0.2038639932870865,
          3.4183690547943115,
          -0.36675554513931274,
          3.4958486557006836,
          -3.2085700035095215,
          -2.595689058303833,
          -4.051939964294434,
          -1.0852168798446655,
          5.843607425689697,
          -6.682727813720703,
          -5.468195915222168,
          -2.486661195755005,
          1.1913450956344604,
          -0.9221939444541931,
          -3.3438827991485596,
          -5.286397457122803,
          -1.0106102228164673,
          -1.8998827934265137,
          -0.547884464263916,
          1.0649664402008057,
          2.0112662315368652,
          -2.073669195175171,
          -1.5104060173034668,
          -0.6516525745391846,
          -3.064962387084961,
          2.6795504093170166,
          2.118741035461426,
          -0.5959597229957581,
          5.1628947257995605,
          3.154416799545288,
          -2.1871535778045654,
          1.2055654525756836,
          -6.766969680786133
         ],
         "yaxis": "y"
        },
        {
         "customdata": [
          [
           "Balu (Vijayakumar) and Padma (Manjula...",
           "drama",
           "1"
          ],
          [
           "Nikki Singh (Akshay Oberoi) is...",
           "drama",
           "1"
          ],
          [
           "Akashangalil is the story of...",
           "romance",
           "1"
          ],
          [
           "Dharma (Anandaraj) is an auto...",
           "drama",
           "1"
          ],
          [
           "Tulsi tells the story of...",
           "drama",
           "1"
          ],
          [
           "Vijay (R. Sarathkumar) and Seetha...",
           "drama",
           "1"
          ],
          [
           "Gopal (M.G.R.) is an honest...",
           "drama",
           "1"
          ],
          [
           "This film is about the...",
           "comedy",
           "1"
          ],
          [
           "Chandrabose (Mohanlal) whose wife's (Meera...",
           "drama",
           "1"
          ],
          [
           "The film is set in...",
           "fantasy",
           "1"
          ],
          [
           "Kumar is a young and...",
           "action",
           "1"
          ]
         ],
         "hovertemplate": "cluster=%{customdata[2]}<br>x-tsne=%{x}<br>y-tsne=%{y}<br>text=%{customdata[0]}<br>overall_label=%{customdata[1]}<extra></extra>",
         "legendgroup": "1",
         "marker": {
          "color": "#00cc96",
          "symbol": "circle"
         },
         "mode": "markers",
         "name": "1",
         "orientation": "v",
         "showlegend": true,
         "type": "scatter",
         "x": [
          -5.949883937835693,
          -4.971584796905518,
          -4.373874664306641,
          -4.521579742431641,
          -6.079092979431152,
          -5.996280193328857,
          -5.526515960693359,
          -5.069566249847412,
          -4.379873275756836,
          -4.6121602058410645,
          -5.5172271728515625
         ],
         "xaxis": "x",
         "y": [
          -4.709839344024658,
          -4.006320476531982,
          -4.479761600494385,
          -2.0162198543548584,
          -4.659303665161133,
          -4.665186405181885,
          -4.769556522369385,
          -4.347316741943359,
          -4.452524185180664,
          -4.987203121185303,
          -4.632519721984863
         ],
         "yaxis": "y"
        }
       ],
       "layout": {
        "height": 1200,
        "legend": {
         "title": {
          "text": "cluster"
         },
         "tracegroupgap": 0
        },
        "template": {
         "data": {
          "bar": [
           {
            "error_x": {
             "color": "#2a3f5f"
            },
            "error_y": {
             "color": "#2a3f5f"
            },
            "marker": {
             "line": {
              "color": "#E5ECF6",
              "width": 0.5
             },
             "pattern": {
              "fillmode": "overlay",
              "size": 10,
              "solidity": 0.2
             }
            },
            "type": "bar"
           }
          ],
          "barpolar": [
           {
            "marker": {
             "line": {
              "color": "#E5ECF6",
              "width": 0.5
             },
             "pattern": {
              "fillmode": "overlay",
              "size": 10,
              "solidity": 0.2
             }
            },
            "type": "barpolar"
           }
          ],
          "carpet": [
           {
            "aaxis": {
             "endlinecolor": "#2a3f5f",
             "gridcolor": "white",
             "linecolor": "white",
             "minorgridcolor": "white",
             "startlinecolor": "#2a3f5f"
            },
            "baxis": {
             "endlinecolor": "#2a3f5f",
             "gridcolor": "white",
             "linecolor": "white",
             "minorgridcolor": "white",
             "startlinecolor": "#2a3f5f"
            },
            "type": "carpet"
           }
          ],
          "choropleth": [
           {
            "colorbar": {
             "outlinewidth": 0,
             "ticks": ""
            },
            "type": "choropleth"
           }
          ],
          "contour": [
           {
            "colorbar": {
             "outlinewidth": 0,
             "ticks": ""
            },
            "colorscale": [
             [
              0,
              "#0d0887"
             ],
             [
              0.1111111111111111,
              "#46039f"
             ],
             [
              0.2222222222222222,
              "#7201a8"
             ],
             [
              0.3333333333333333,
              "#9c179e"
             ],
             [
              0.4444444444444444,
              "#bd3786"
             ],
             [
              0.5555555555555556,
              "#d8576b"
             ],
             [
              0.6666666666666666,
              "#ed7953"
             ],
             [
              0.7777777777777778,
              "#fb9f3a"
             ],
             [
              0.8888888888888888,
              "#fdca26"
             ],
             [
              1,
              "#f0f921"
             ]
            ],
            "type": "contour"
           }
          ],
          "contourcarpet": [
           {
            "colorbar": {
             "outlinewidth": 0,
             "ticks": ""
            },
            "type": "contourcarpet"
           }
          ],
          "heatmap": [
           {
            "colorbar": {
             "outlinewidth": 0,
             "ticks": ""
            },
            "colorscale": [
             [
              0,
              "#0d0887"
             ],
             [
              0.1111111111111111,
              "#46039f"
             ],
             [
              0.2222222222222222,
              "#7201a8"
             ],
             [
              0.3333333333333333,
              "#9c179e"
             ],
             [
              0.4444444444444444,
              "#bd3786"
             ],
             [
              0.5555555555555556,
              "#d8576b"
             ],
             [
              0.6666666666666666,
              "#ed7953"
             ],
             [
              0.7777777777777778,
              "#fb9f3a"
             ],
             [
              0.8888888888888888,
              "#fdca26"
             ],
             [
              1,
              "#f0f921"
             ]
            ],
            "type": "heatmap"
           }
          ],
          "heatmapgl": [
           {
            "colorbar": {
             "outlinewidth": 0,
             "ticks": ""
            },
            "colorscale": [
             [
              0,
              "#0d0887"
             ],
             [
              0.1111111111111111,
              "#46039f"
             ],
             [
              0.2222222222222222,
              "#7201a8"
             ],
             [
              0.3333333333333333,
              "#9c179e"
             ],
             [
              0.4444444444444444,
              "#bd3786"
             ],
             [
              0.5555555555555556,
              "#d8576b"
             ],
             [
              0.6666666666666666,
              "#ed7953"
             ],
             [
              0.7777777777777778,
              "#fb9f3a"
             ],
             [
              0.8888888888888888,
              "#fdca26"
             ],
             [
              1,
              "#f0f921"
             ]
            ],
            "type": "heatmapgl"
           }
          ],
          "histogram": [
           {
            "marker": {
             "pattern": {
              "fillmode": "overlay",
              "size": 10,
              "solidity": 0.2
             }
            },
            "type": "histogram"
           }
          ],
          "histogram2d": [
           {
            "colorbar": {
             "outlinewidth": 0,
             "ticks": ""
            },
            "colorscale": [
             [
              0,
              "#0d0887"
             ],
             [
              0.1111111111111111,
              "#46039f"
             ],
             [
              0.2222222222222222,
              "#7201a8"
             ],
             [
              0.3333333333333333,
              "#9c179e"
             ],
             [
              0.4444444444444444,
              "#bd3786"
             ],
             [
              0.5555555555555556,
              "#d8576b"
             ],
             [
              0.6666666666666666,
              "#ed7953"
             ],
             [
              0.7777777777777778,
              "#fb9f3a"
             ],
             [
              0.8888888888888888,
              "#fdca26"
             ],
             [
              1,
              "#f0f921"
             ]
            ],
            "type": "histogram2d"
           }
          ],
          "histogram2dcontour": [
           {
            "colorbar": {
             "outlinewidth": 0,
             "ticks": ""
            },
            "colorscale": [
             [
              0,
              "#0d0887"
             ],
             [
              0.1111111111111111,
              "#46039f"
             ],
             [
              0.2222222222222222,
              "#7201a8"
             ],
             [
              0.3333333333333333,
              "#9c179e"
             ],
             [
              0.4444444444444444,
              "#bd3786"
             ],
             [
              0.5555555555555556,
              "#d8576b"
             ],
             [
              0.6666666666666666,
              "#ed7953"
             ],
             [
              0.7777777777777778,
              "#fb9f3a"
             ],
             [
              0.8888888888888888,
              "#fdca26"
             ],
             [
              1,
              "#f0f921"
             ]
            ],
            "type": "histogram2dcontour"
           }
          ],
          "mesh3d": [
           {
            "colorbar": {
             "outlinewidth": 0,
             "ticks": ""
            },
            "type": "mesh3d"
           }
          ],
          "parcoords": [
           {
            "line": {
             "colorbar": {
              "outlinewidth": 0,
              "ticks": ""
             }
            },
            "type": "parcoords"
           }
          ],
          "pie": [
           {
            "automargin": true,
            "type": "pie"
           }
          ],
          "scatter": [
           {
            "fillpattern": {
             "fillmode": "overlay",
             "size": 10,
             "solidity": 0.2
            },
            "type": "scatter"
           }
          ],
          "scatter3d": [
           {
            "line": {
             "colorbar": {
              "outlinewidth": 0,
              "ticks": ""
             }
            },
            "marker": {
             "colorbar": {
              "outlinewidth": 0,
              "ticks": ""
             }
            },
            "type": "scatter3d"
           }
          ],
          "scattercarpet": [
           {
            "marker": {
             "colorbar": {
              "outlinewidth": 0,
              "ticks": ""
             }
            },
            "type": "scattercarpet"
           }
          ],
          "scattergeo": [
           {
            "marker": {
             "colorbar": {
              "outlinewidth": 0,
              "ticks": ""
             }
            },
            "type": "scattergeo"
           }
          ],
          "scattergl": [
           {
            "marker": {
             "colorbar": {
              "outlinewidth": 0,
              "ticks": ""
             }
            },
            "type": "scattergl"
           }
          ],
          "scattermapbox": [
           {
            "marker": {
             "colorbar": {
              "outlinewidth": 0,
              "ticks": ""
             }
            },
            "type": "scattermapbox"
           }
          ],
          "scatterpolar": [
           {
            "marker": {
             "colorbar": {
              "outlinewidth": 0,
              "ticks": ""
             }
            },
            "type": "scatterpolar"
           }
          ],
          "scatterpolargl": [
           {
            "marker": {
             "colorbar": {
              "outlinewidth": 0,
              "ticks": ""
             }
            },
            "type": "scatterpolargl"
           }
          ],
          "scatterternary": [
           {
            "marker": {
             "colorbar": {
              "outlinewidth": 0,
              "ticks": ""
             }
            },
            "type": "scatterternary"
           }
          ],
          "surface": [
           {
            "colorbar": {
             "outlinewidth": 0,
             "ticks": ""
            },
            "colorscale": [
             [
              0,
              "#0d0887"
             ],
             [
              0.1111111111111111,
              "#46039f"
             ],
             [
              0.2222222222222222,
              "#7201a8"
             ],
             [
              0.3333333333333333,
              "#9c179e"
             ],
             [
              0.4444444444444444,
              "#bd3786"
             ],
             [
              0.5555555555555556,
              "#d8576b"
             ],
             [
              0.6666666666666666,
              "#ed7953"
             ],
             [
              0.7777777777777778,
              "#fb9f3a"
             ],
             [
              0.8888888888888888,
              "#fdca26"
             ],
             [
              1,
              "#f0f921"
             ]
            ],
            "type": "surface"
           }
          ],
          "table": [
           {
            "cells": {
             "fill": {
              "color": "#EBF0F8"
             },
             "line": {
              "color": "white"
             }
            },
            "header": {
             "fill": {
              "color": "#C8D4E3"
             },
             "line": {
              "color": "white"
             }
            },
            "type": "table"
           }
          ]
         },
         "layout": {
          "annotationdefaults": {
           "arrowcolor": "#2a3f5f",
           "arrowhead": 0,
           "arrowwidth": 1
          },
          "autotypenumbers": "strict",
          "coloraxis": {
           "colorbar": {
            "outlinewidth": 0,
            "ticks": ""
           }
          },
          "colorscale": {
           "diverging": [
            [
             0,
             "#8e0152"
            ],
            [
             0.1,
             "#c51b7d"
            ],
            [
             0.2,
             "#de77ae"
            ],
            [
             0.3,
             "#f1b6da"
            ],
            [
             0.4,
             "#fde0ef"
            ],
            [
             0.5,
             "#f7f7f7"
            ],
            [
             0.6,
             "#e6f5d0"
            ],
            [
             0.7,
             "#b8e186"
            ],
            [
             0.8,
             "#7fbc41"
            ],
            [
             0.9,
             "#4d9221"
            ],
            [
             1,
             "#276419"
            ]
           ],
           "sequential": [
            [
             0,
             "#0d0887"
            ],
            [
             0.1111111111111111,
             "#46039f"
            ],
            [
             0.2222222222222222,
             "#7201a8"
            ],
            [
             0.3333333333333333,
             "#9c179e"
            ],
            [
             0.4444444444444444,
             "#bd3786"
            ],
            [
             0.5555555555555556,
             "#d8576b"
            ],
            [
             0.6666666666666666,
             "#ed7953"
            ],
            [
             0.7777777777777778,
             "#fb9f3a"
            ],
            [
             0.8888888888888888,
             "#fdca26"
            ],
            [
             1,
             "#f0f921"
            ]
           ],
           "sequentialminus": [
            [
             0,
             "#0d0887"
            ],
            [
             0.1111111111111111,
             "#46039f"
            ],
            [
             0.2222222222222222,
             "#7201a8"
            ],
            [
             0.3333333333333333,
             "#9c179e"
            ],
            [
             0.4444444444444444,
             "#bd3786"
            ],
            [
             0.5555555555555556,
             "#d8576b"
            ],
            [
             0.6666666666666666,
             "#ed7953"
            ],
            [
             0.7777777777777778,
             "#fb9f3a"
            ],
            [
             0.8888888888888888,
             "#fdca26"
            ],
            [
             1,
             "#f0f921"
            ]
           ]
          },
          "colorway": [
           "#636efa",
           "#EF553B",
           "#00cc96",
           "#ab63fa",
           "#FFA15A",
           "#19d3f3",
           "#FF6692",
           "#B6E880",
           "#FF97FF",
           "#FECB52"
          ],
          "font": {
           "color": "#2a3f5f"
          },
          "geo": {
           "bgcolor": "white",
           "lakecolor": "white",
           "landcolor": "#E5ECF6",
           "showlakes": true,
           "showland": true,
           "subunitcolor": "white"
          },
          "hoverlabel": {
           "align": "left"
          },
          "hovermode": "closest",
          "mapbox": {
           "style": "light"
          },
          "paper_bgcolor": "white",
          "plot_bgcolor": "#E5ECF6",
          "polar": {
           "angularaxis": {
            "gridcolor": "white",
            "linecolor": "white",
            "ticks": ""
           },
           "bgcolor": "#E5ECF6",
           "radialaxis": {
            "gridcolor": "white",
            "linecolor": "white",
            "ticks": ""
           }
          },
          "scene": {
           "xaxis": {
            "backgroundcolor": "#E5ECF6",
            "gridcolor": "white",
            "gridwidth": 2,
            "linecolor": "white",
            "showbackground": true,
            "ticks": "",
            "zerolinecolor": "white"
           },
           "yaxis": {
            "backgroundcolor": "#E5ECF6",
            "gridcolor": "white",
            "gridwidth": 2,
            "linecolor": "white",
            "showbackground": true,
            "ticks": "",
            "zerolinecolor": "white"
           },
           "zaxis": {
            "backgroundcolor": "#E5ECF6",
            "gridcolor": "white",
            "gridwidth": 2,
            "linecolor": "white",
            "showbackground": true,
            "ticks": "",
            "zerolinecolor": "white"
           }
          },
          "shapedefaults": {
           "line": {
            "color": "#2a3f5f"
           }
          },
          "ternary": {
           "aaxis": {
            "gridcolor": "white",
            "linecolor": "white",
            "ticks": ""
           },
           "baxis": {
            "gridcolor": "white",
            "linecolor": "white",
            "ticks": ""
           },
           "bgcolor": "#E5ECF6",
           "caxis": {
            "gridcolor": "white",
            "linecolor": "white",
            "ticks": ""
           }
          },
          "title": {
           "x": 0.05
          },
          "xaxis": {
           "automargin": true,
           "gridcolor": "white",
           "linecolor": "white",
           "ticks": "",
           "title": {
            "standoff": 15
           },
           "zerolinecolor": "white",
           "zerolinewidth": 2
          },
          "yaxis": {
           "automargin": true,
           "gridcolor": "white",
           "linecolor": "white",
           "ticks": "",
           "title": {
            "standoff": 15
           },
           "zerolinecolor": "white",
           "zerolinewidth": 2
          }
         }
        },
        "title": {
         "text": "Sentences t-SNE Visualization with FastText Embeddings and HDBSCAN Clustering"
        },
        "width": 1200,
        "xaxis": {
         "anchor": "y",
         "domain": [
          0,
          1
         ],
         "title": {
          "text": "x-tsne"
         }
        },
        "yaxis": {
         "anchor": "x",
         "domain": [
          0,
          1
         ],
         "title": {
          "text": "y-tsne"
         }
        }
       }
      }
     },
     "metadata": {},
     "output_type": "display_data"
    }
   ],
   "source": [
    "# Create interactive scatter plot\n",
    "ft_df[\"cluster\"] = ft_df[\"cluster\"].astype(str)\n",
    "fig = px.scatter(\n",
    "    ft_df,\n",
    "    x=\"x-tsne\",\n",
    "    y=\"y-tsne\",\n",
    "    color=\"cluster\",\n",
    "    hover_data={\"text\": True, \"overall_label\": True, \"cluster\": True},\n",
    "    title=\"Sentences t-SNE Visualization with FastText Embeddings and HDBSCAN Clustering\",\n",
    "    width=1200,\n",
    "    height=1200,\n",
    ")\n",
    "\n",
    "# Show plot\n",
    "fig.show()"
   ]
  },
  {
   "cell_type": "code",
   "execution_count": 46,
   "metadata": {},
   "outputs": [],
   "source": [
    "tfidf_df['cluster'] = hdbscan.fit_predict(tfidf_emb_arr)"
   ]
  },
  {
   "cell_type": "code",
   "execution_count": 48,
   "metadata": {},
   "outputs": [
    {
     "data": {
      "application/vnd.plotly.v1+json": {
       "config": {
        "plotlyServerURL": "https://plot.ly"
       },
       "data": [
        {
         "customdata": [
          [
           "The film tells the story......",
           "drama",
           "-1"
          ],
          [
           "The eventful life of Swami......",
           "drama",
           "-1"
          ],
          [
           "Police inspector Holloway (Patrick Wymark)......",
           "action",
           "-1"
          ],
          [
           "George Cabot Jr. (Cesar Romero),......",
           "comedy",
           "-1"
          ],
          [
           "Young sci-fi/fantasy enthusiast Gavin Gore......",
           "comedy",
           "-1"
          ],
          [
           "Vani Viswanath plays the central......",
           "drama",
           "-1"
          ],
          [
           "A popular dance hall girl,......",
           "action",
           "-1"
          ],
          [
           "Mordecai C. Jones (Scott) –......",
           "comedy",
           "-1"
          ],
          [
           "Reverend Smith has arrived in......",
           "drama",
           "-1"
          ],
          [
           "Flesh (Vince Murdocco) is kidnapped......",
           "fantasy",
           "-1"
          ],
          [
           "Shellshocked following his experiences as......",
           "drama",
           "-1"
          ],
          [
           "The story starts with a......",
           "drama",
           "-1"
          ],
          [
           "Byron Levin works in a......",
           "drama",
           "-1"
          ],
          [
           "An orphan girl, named Bindu......",
           "drama",
           "-1"
          ],
          [
           "The story is about a......",
           "comedy",
           "-1"
          ],
          [
           "A psychic woman leads archaeologists......",
           "fantasy",
           "-1"
          ],
          [
           "Stand-up-comedian Nikita Kolesnikov (Danila Kozlovsky)......",
           "drama",
           "-1"
          ],
          [
           "Two reporters, Curtis (Conrad Phillips)......",
           "action",
           "-1"
          ],
          [
           "Two best friends who live......",
           "comedy",
           "-1"
          ],
          [
           "Claire of the Moon is......",
           "romance",
           "-1"
          ],
          [
           "Joseph is a mentally retarded......",
           "drama",
           "-1"
          ],
          [
           "Bok-nyeo, a mentally handicapped woman,......",
           "drama",
           "-1"
          ],
          [
           "Dr. Markoff (J. Carrol Naish)......",
           "fantasy",
           "-1"
          ],
          [
           "The movie opens with Fung......",
           "drama",
           "-1"
          ],
          [
           "On the run from the......",
           "fantasy",
           "-1"
          ],
          [
           "Nikki Singh (Akshay Oberoi) is......",
           "drama",
           "-1"
          ],
          [
           "A crime reporter, assisted by......",
           "drama",
           "-1"
          ],
          [
           "Edgar Mills and his mistress......",
           "comedy",
           "-1"
          ],
          [
           "Marianne (Greta Garbo) is a......",
           "romance",
           "-1"
          ],
          [
           "Shane O'Shea is a young......",
           "drama",
           "-1"
          ],
          [
           "Bumbling cop Chatur Singh (Sanjay......",
           "comedy",
           "-1"
          ],
          [
           "Dhag is the story of......",
           "drama",
           "-1"
          ],
          [
           "A Mighty Heart is a......",
           "document",
           "-1"
          ],
          [
           "Two escaping killers hide out......",
           "action",
           "-1"
          ],
          [
           "A young sculptor searches for......",
           "drama",
           "-1"
          ],
          [
           "Hardy plays Dr. Henry Tibbett,......",
           "comedy",
           "-1"
          ],
          [
           "After discovering that her state......",
           "comedy",
           "-1"
          ],
          [
           "Struggling young actress Jenny (Marjorie......",
           "comedy",
           "-1"
          ],
          [
           "The Kitauji high school concert......",
           "drama",
           "-1"
          ],
          [
           "In every port, sailor Bill,......",
           "comedy",
           "-1"
          ],
          [
           "Joan (Purviance) and Magdalen (Sothern)......",
           "romance",
           "-1"
          ],
          [
           "Hong Deok-Ja continues to run......",
           "comedy",
           "-1"
          ],
          [
           "This film follows the lead......",
           "action",
           "-1"
          ],
          [
           "Indie musician Dong-hoon and cartoonist......",
           "drama",
           "-1"
          ],
          [
           "The story tells about Ching......",
           "drama",
           "-1"
          ],
          [
           "A former agent from the......",
           "action",
           "-1"
          ],
          [
           "An earthquake releases a bunch......",
           "fantasy",
           "-1"
          ],
          [
           "Stephen Ghent, a mineowner, falls......",
           "comedy",
           "-1"
          ],
          [
           "Nine people from around the......",
           "fantasy",
           "-1"
          ],
          [
           "Akashangalil is the story of......",
           "romance",
           "-1"
          ],
          [
           "Sally Elliott (Rita Hayworth), a......",
           "action",
           "-1"
          ],
          [
           "After Joe Huggett loses his......",
           "drama",
           "-1"
          ],
          [
           "Chaiti is a young beautiful......",
           "drama",
           "-1"
          ],
          [
           "Eric Wainwright (Van Johnson), a......",
           "comedy",
           "-1"
          ],
          [
           "Kevin Agar is a Carlton-based......",
           "comedy",
           "-1"
          ],
          [
           "Trust concerns the unusual romance......",
           "romance",
           "-1"
          ],
          [
           "Restaurant owner Dylan Ramsey (David......",
           "comedy",
           "-1"
          ],
          [
           "Dharma (Anandaraj) is an auto......",
           "drama",
           "-1"
          ],
          [
           "After being told by his......",
           "western",
           "-1"
          ],
          [
           "Arjun lives in a village.......",
           "drama",
           "-1"
          ],
          [
           "Jeff Hassard (Dean Jagger) and......",
           "western",
           "-1"
          ],
          [
           "Jerry McGuire (William Collier Jr.)......",
           "drama",
           "-1"
          ],
          [
           "Chu Liuxiang is having drinks......",
           "action",
           "-1"
          ],
          [
           "Charles Kessler (Bela Lugosi) is......",
           "action",
           "-1"
          ],
          [
           "United States Secret Service Lieutenant......",
           "action",
           "-1"
          ],
          [
           "Two college girls, Ducky and......",
           "comedy",
           "-1"
          ],
          [
           "Fontaine Khaled is the London......",
           "comedy",
           "-1"
          ],
          [
           "Professional hunter Harry Black is......",
           "action",
           "-1"
          ],
          [
           "Tulsi tells the story of......",
           "drama",
           "-1"
          ],
          [
           "Rie and Nao own a......",
           "drama",
           "-1"
          ],
          [
           "A simple handyman, who also......",
           "drama",
           "-1"
          ],
          [
           "Karthi (Mahesh) is a college......",
           "action",
           "-1"
          ],
          [
           "The film stars Harry Connick......",
           "drama",
           "-1"
          ],
          [
           "Vijay (R. Sarathkumar) and Seetha......",
           "drama",
           "-1"
          ],
          [
           "In a Mexican nightclub, some......",
           "drama",
           "-1"
          ],
          [
           "Officers throw an extravagant party......",
           "comedy",
           "-1"
          ],
          [
           "A bullied teen chef wants......",
           "comedy",
           "-1"
          ],
          [
           "Raised on a sharecropping plantation......",
           "document",
           "-1"
          ],
          [
           "Newland Archer is engaged to......",
           "romance",
           "-1"
          ],
          [
           "Chandrabose (Mohanlal) whose wife's (Meera......",
           "drama",
           "-1"
          ],
          [
           "Set in Alexandria in 1938,......",
           "drama",
           "-1"
          ],
          [
           "Michael Walsh, a husband and......",
           "drama",
           "-1"
          ],
          [
           "On board an ocean liner......",
           "comedy",
           "-1"
          ],
          [
           "Alim is a young gay......",
           "drama",
           "-1"
          ],
          [
           "A U.S. marshal investigates when......",
           "western",
           "-1"
          ],
          [
           "A new teacher organizes a......",
           "drama",
           "-1"
          ],
          [
           "The plot of the film......",
           "fantasy",
           "-1"
          ],
          [
           "The boys are involved in......",
           "comedy",
           "-1"
          ],
          [
           "John Murdock (Paul Richards) is......",
           "western",
           "-1"
          ],
          [
           "In the year 1999, the......",
           "fantasy",
           "-1"
          ],
          [
           "Ten-year-old Bobby (Frankie Thomas) and......",
           "drama",
           "-1"
          ],
          [
           "Brinda (Sindhu Tolani) is an......",
           "drama",
           "-1"
          ],
          [
           "An old gangster, with a......",
           "action",
           "-1"
          ],
          [
           "The film is about an......",
           "comedy",
           "-1"
          ],
          [
           "Agimat (Bong Revilla, Jr.) is......",
           "fantasy",
           "-1"
          ],
          [
           "The young filmmaker Timothy (Jonathan......",
           "comedy",
           "-1"
          ],
          [
           "A prospective settler, pioneer Bob......",
           "western",
           "-1"
          ],
          [
           "Russian general Marenkov (Robert Shaw)......",
           "action",
           "-1"
          ],
          [
           "A young Lakota Sioux (Lou......",
           "drama",
           "-1"
          ],
          [
           "The film is set in......",
           "action",
           "-1"
          ],
          [
           "Hans a young German journalist......",
           "action",
           "-1"
          ],
          [
           "The drama tells of a......",
           "drama",
           "-1"
          ]
         ],
         "hovertemplate": "cluster=%{customdata[2]}<br>x-tsne=%{x}<br>y-tsne=%{y}<br>text=%{customdata[0]}<br>overall_label=%{customdata[1]}<extra></extra>",
         "legendgroup": "-1",
         "marker": {
          "color": "#636efa",
          "symbol": "circle"
         },
         "mode": "markers",
         "name": "-1",
         "orientation": "v",
         "showlegend": true,
         "type": "scatter",
         "x": [
          -9.078851699829102,
          -2.8821613788604736,
          1.8863976001739502,
          4.809663772583008,
          -3.4438421726226807,
          4.374621868133545,
          10.887575149536133,
          13.114812850952148,
          -0.607801616191864,
          -14.070541381835938,
          5.706313133239746,
          -9.032060623168945,
          -12.053057670593262,
          2.310605525970459,
          -3.836199998855591,
          2.3467063903808594,
          4.258310794830322,
          -0.6539421677589417,
          -0.8895666599273682,
          17.290390014648438,
          5.119455337524414,
          -5.949524402618408,
          -15.55862808227539,
          -8.893715858459473,
          -13.351677894592285,
          -1.961111068725586,
          -12.198043823242188,
          12.484436988830566,
          -14.872013092041016,
          -4.009312152862549,
          3.5636508464813232,
          7.047789573669434,
          4.213230133056641,
          -3.5412774085998535,
          -10.682971954345703,
          -15.822406768798828,
          2.6915552616119385,
          -2.615556240081787,
          -2.403701066970825,
          -1.5460045337677002,
          -0.5989289283752441,
          0.6388893127441406,
          -6.1796650886535645,
          5.443552017211914,
          -4.74271297454834,
          -10.73596477508545,
          13.85078239440918,
          12.756436347961426,
          -8.173985481262207,
          0.5669136047363281,
          3.849942207336426,
          9.460288047790527,
          -12.718194007873535,
          9.091527938842773,
          -10.526445388793945,
          -1.3296884298324585,
          7.4380669593811035,
          4.128947734832764,
          -16.53349494934082,
          8.937296867370605,
          15.693967819213867,
          -0.04475368931889534,
          0.6943032741546631,
          9.800314903259277,
          6.657646656036377,
          -9.938868522644043,
          -4.095790863037109,
          -9.632681846618652,
          -4.879159450531006,
          -3.420543670654297,
          -1.4370142221450806,
          -1.4166460037231445,
          0.8595046401023865,
          4.103640079498291,
          1.9568562507629395,
          0.7042850255966187,
          0.3343384265899658,
          8.018717765808105,
          -15.116025924682617,
          9.337397575378418,
          -6.216493606567383,
          -3.4117860794067383,
          -4.182649612426758,
          -0.3709852695465088,
          -11.179035186767578,
          0.7971315979957581,
          -10.37098503112793,
          -7.27755880355835,
          -10.756142616271973,
          13.59001350402832,
          9.314443588256836,
          -7.443551540374756,
          -3.279700994491577,
          0.7401130795478821,
          12.834650039672852,
          7.768825054168701,
          -10.764949798583984,
          9.943699836730957,
          6.5262627601623535,
          17.358224868774414,
          -3.2655961513519287,
          2.9728844165802
         ],
         "xaxis": "x",
         "y": [
          -3.2818727493286133,
          -1.9726096391677856,
          0.9698837995529175,
          14.747208595275879,
          -14.192986488342285,
          10.39318561553955,
          11.571481704711914,
          6.900689601898193,
          15.63640308380127,
          6.262687683105469,
          4.760871887207031,
          -7.968371868133545,
          3.231001615524292,
          3.095792531967163,
          5.849752426147461,
          -8.871580123901367,
          0.32108986377716064,
          15.558082580566406,
          3.1956446170806885,
          1.8375259637832642,
          -12.350264549255371,
          2.886584997177124,
          5.026442527770996,
          12.36734390258789,
          6.720240116119385,
          4.726495265960693,
          0.7494743466377258,
          2.3043882846832275,
          -1.032046914100647,
          10.220254898071289,
          8.657248497009277,
          0.4754588007926941,
          15.216490745544434,
          8.610747337341309,
          -10.588825225830078,
          4.849356174468994,
          -13.930721282958984,
          -7.463497638702393,
          11.335051536560059,
          -15.564088821411133,
          -8.982270240783691,
          -4.924338340759277,
          -7.271482467651367,
          1.7821784019470215,
          -12.440813064575195,
          -4.42272424697876,
          -9.872610092163086,
          3.6639740467071533,
          5.988614559173584,
          -10.467034339904785,
          -11.044098854064941,
          -0.31894445419311523,
          -9.443107604980469,
          -8.342811584472656,
          -11.28626823425293,
          -6.201913833618164,
          -12.901335716247559,
          8.720601081848145,
          -4.299178600311279,
          -3.57399320602417,
          0.8446524143218994,
          6.358689785003662,
          0.8648443818092346,
          2.5789411067962646,
          8.508672714233398,
          10.70652961730957,
          13.172091484069824,
          3.969045639038086,
          6.153644561767578,
          -9.397775650024414,
          -12.124835014343262,
          -0.4927981495857239,
          -7.401303291320801,
          -3.986175537109375,
          5.067217826843262,
          8.046744346618652,
          -16.290040969848633,
          3.6900570392608643,
          -5.997739315032959,
          -2.112338066101074,
          8.703034400939941,
          3.3608338832855225,
          -4.552253723144531,
          -11.807849884033203,
          2.0032894611358643,
          11.682812690734863,
          7.06130313873291,
          -11.507716178894043,
          7.0729899406433105,
          -8.321301460266113,
          -8.847556114196777,
          -13.92194938659668,
          5.817042350769043,
          -1.4361803531646729,
          -10.10938835144043,
          -13.165389060974121,
          -0.4582618474960327,
          11.856736183166504,
          1.7761874198913574,
          0.24698100984096527,
          -5.507303714752197,
          -11.84500789642334
         ],
         "yaxis": "y"
        },
        {
         "customdata": [
          [
           "Jagathalaprathapan is a prince who......",
           "romance",
           "1"
          ],
          [
           "Lewis and Clark and George......",
           "drama",
           "1"
          ],
          [
           "The story is about two......",
           "romance",
           "1"
          ],
          [
           "In a British TV studio,......",
           "comedy",
           "1"
          ],
          [
           "In 1962, South Korea. Kang......",
           "romance",
           "1"
          ],
          [
           "Oliver's mother, a penniless outcast,......",
           "drama",
           "1"
          ],
          [
           "Mongol chief Temujin (later to......",
           "action",
           "1"
          ],
          [
           "Following the plot of the......",
           "drama",
           "1"
          ],
          [
           "A psychoanalyst and his young......",
           "drama",
           "1"
          ],
          [
           "The film is a story......",
           "drama",
           "1"
          ],
          [
           "In World War II, two......",
           "action",
           "1"
          ],
          [
           "It is love at first......",
           "romance",
           "1"
          ],
          [
           "This film is about a......",
           "drama",
           "1"
          ],
          [
           "3000 years ago, the Vader......",
           "fantasy",
           "1"
          ],
          [
           "Having cleaned up Tombstone, Arizona,......",
           "western",
           "1"
          ],
          [
           "Kisan Kanya was based on......",
           "drama",
           "1"
          ],
          [
           "Curry and Pepper are two......",
           "comedy",
           "1"
          ],
          [
           "Loosely based on true events......",
           "comedy",
           "1"
          ],
          [
           "The plot revolves around the......",
           "drama",
           "1"
          ],
          [
           "Balu (Vijayakumar) and Padma (Manjula......",
           "drama",
           "1"
          ],
          [
           "The film is an account......",
           "document",
           "1"
          ],
          [
           "A man visits a happy......",
           "romance",
           "1"
          ],
          [
           "In 1983 KBS launched a......",
           "document",
           "1"
          ],
          [
           "Harvey Keitel plays an American......",
           "drama",
           "1"
          ],
          [
           "Set in the austere post–World......",
           "fantasy",
           "1"
          ],
          [
           "Rahul (Ramankanth) sees a concert......",
           "drama",
           "1"
          ],
          [
           "Scott (Ryan Phillippe) is a......",
           "comedy",
           "1"
          ],
          [
           "Irène Bordoni is cast as......",
           "comedy",
           "1"
          ],
          [
           "This film is about two......",
           "drama",
           "1"
          ],
          [
           "Cosmo Reif, an affectless mob......",
           "comedy",
           "1"
          ],
          [
           "The film is set in......",
           "action",
           "1"
          ],
          [
           "Italian aristocrat Angela Chiaromonte (Helen......",
           "romance",
           "1"
          ],
          [
           "Rolex (Prakash Raj) is a......",
           "action",
           "1"
          ],
          [
           "The film is a retelling......",
           "fantasy",
           "1"
          ],
          [
           "Christopher, a lustful man goes......",
           "fantasy",
           "1"
          ],
          [
           "Inventor and engineer Robert Draper......",
           "action",
           "1"
          ],
          [
           "The film is an examination......",
           "document",
           "1"
          ],
          [
           "Lost & Found is basically......",
           "drama",
           "1"
          ],
          [
           "Unlike other Alamo films that......",
           "western",
           "1"
          ],
          [
           "The story involves a middle-aged......",
           "western",
           "1"
          ],
          [
           "A San Francisco earthquake orphan......",
           "comedy",
           "1"
          ],
          [
           "The film is about an......",
           "comedy",
           "1"
          ],
          [
           "The story line centres on......",
           "comedy",
           "1"
          ],
          [
           "Sets in the 19th century,......",
           "drama",
           "1"
          ],
          [
           "The film tells the story......",
           "comedy",
           "1"
          ],
          [
           "Roanne Sanchez, a young girl......",
           "romance",
           "1"
          ],
          [
           "The Hartford Transcontinental Railroad is......",
           "western",
           "1"
          ],
          [
           "The film takes place in......",
           "fantasy",
           "1"
          ],
          [
           "The story of the film......",
           "drama",
           "1"
          ],
          [
           "When Los Angeles' police force......",
           "comedy",
           "1"
          ],
          [
           "Hiraasat is an action film,......",
           "action",
           "1"
          ],
          [
           "California gubernatorial candidate Burton (Lyon)......",
           "drama",
           "1"
          ],
          [
           "A 12-year old young boy......",
           "drama",
           "1"
          ],
          [
           "Soo-nam is a poor woman......",
           "drama",
           "1"
          ],
          [
           "The film's slight storyline concerns......",
           "comedy",
           "1"
          ],
          [
           "The story of the film......",
           "fantasy",
           "1"
          ],
          [
           "A blind detective, Duncan Maclain,......",
           "action",
           "1"
          ],
          [
           "In 1964, inmate Charlie Forsythe......",
           "drama",
           "1"
          ],
          [
           "Vivek is a wanted criminal......",
           "drama",
           "1"
          ],
          [
           "The film tells the story......",
           "comedy",
           "1"
          ],
          [
           "Three teenage boys in small-town......",
           "drama",
           "1"
          ],
          [
           "The story revolves around an......",
           "drama",
           "1"
          ],
          [
           "Flagg (Victor McLaglen) and Quirt......",
           "comedy",
           "1"
          ],
          [
           "Gopal (M.G.R.) is an honest......",
           "drama",
           "1"
          ],
          [
           "Nick (Niven) is the supposed......",
           "comedy",
           "1"
          ],
          [
           "A rivalry develops between veteran......",
           "drama",
           "1"
          ],
          [
           "In the autumn of 1950,......",
           "document",
           "1"
          ],
          [
           "This film is about the......",
           "comedy",
           "1"
          ],
          [
           "Taglines: \"Being a girl is......",
           "drama",
           "1"
          ],
          [
           "In a small town, mentally......",
           "comedy",
           "1"
          ],
          [
           "The story is a family......",
           "drama",
           "1"
          ],
          [
           "The Philippines, 1972. Mysterious things......",
           "action",
           "1"
          ],
          [
           "Two days before Christmas, a......",
           "action",
           "1"
          ],
          [
           "The film is set in......",
           "fantasy",
           "1"
          ],
          [
           "The film revolves around an......",
           "drama",
           "1"
          ],
          [
           "Kumar is a young and......",
           "action",
           "1"
          ],
          [
           "Twice widowed, Pilnyeo vows never......",
           "drama",
           "1"
          ],
          [
           "Convict Van Duff is the......",
           "action",
           "1"
          ],
          [
           "The story of a 10th......",
           "drama",
           "1"
          ],
          [
           "In the 1930s, Teresa (Buday)......",
           "romance",
           "1"
          ],
          [
           "The film is a historical......",
           "document",
           "1"
          ],
          [
           "The film is based on......",
           "drama",
           "1"
          ],
          [
           "Jin-hong is a prosecutor who......",
           "fantasy",
           "1"
          ],
          [
           "Big Bad Love shares its......",
           "drama",
           "1"
          ],
          [
           "Kumar, a graduate who decides......",
           "drama",
           "1"
          ],
          [
           "The Rogers family visit Blackpool......",
           "comedy",
           "1"
          ],
          [
           "The story revolves around a......",
           "action",
           "1"
          ],
          [
           "A mysterious killer, known only......",
           "drama",
           "1"
          ],
          [
           "A genius sculptor Joon-goo (Park......",
           "drama",
           "1"
          ],
          [
           "Julia Hemingway (Ina Skriver, credited......",
           "comedy",
           "1"
          ],
          [
           "Small-fry marijuana harvesters in Northern......",
           "comedy",
           "1"
          ],
          [
           "The Chain tells the story......",
           "comedy",
           "1"
          ],
          [
           "Hikaru Oshiro, noticing that there......",
           "drama",
           "1"
          ]
         ],
         "hovertemplate": "cluster=%{customdata[2]}<br>x-tsne=%{x}<br>y-tsne=%{y}<br>text=%{customdata[0]}<br>overall_label=%{customdata[1]}<extra></extra>",
         "legendgroup": "1",
         "marker": {
          "color": "#EF553B",
          "symbol": "circle"
         },
         "mode": "markers",
         "name": "1",
         "orientation": "v",
         "showlegend": true,
         "type": "scatter",
         "x": [
          -2.5686159133911133,
          5.843167781829834,
          -0.9926397800445557,
          -5.619040489196777,
          0.8176963329315186,
          5.56848669052124,
          5.107497692108154,
          10.410259246826172,
          13.098847389221191,
          -3.376030683517456,
          -8.765230178833008,
          -0.11095942556858063,
          8.068973541259766,
          13.535511016845703,
          -15.570271492004395,
          -5.33862829208374,
          1.0333986282348633,
          -7.336677551269531,
          2.8998863697052,
          3.895873785018921,
          -3.177189826965332,
          3.9529731273651123,
          -11.272689819335938,
          3.516587495803833,
          -6.86581563949585,
          8.74967098236084,
          1.72422456741333,
          6.083042621612549,
          -2.062058687210083,
          10.510213851928711,
          -9.217281341552734,
          2.891002893447876,
          5.820990562438965,
          0.001248091459274292,
          -8.355758666992188,
          6.42185115814209,
          -7.6847381591796875,
          9.186978340148926,
          12.348122596740723,
          -15.265380859375,
          6.456897735595703,
          -1.0108654499053955,
          -3.660386323928833,
          10.713098526000977,
          -8.561700820922852,
          -2.178593873977661,
          16.955610275268555,
          -5.837774276733398,
          -9.347068786621094,
          12.946142196655273,
          -5.76124382019043,
          -8.9573974609375,
          5.527095794677734,
          -4.402397155761719,
          -4.500459671020508,
          -1.960040807723999,
          12.216443061828613,
          6.205724239349365,
          -6.985742568969727,
          -9.190841674804688,
          5.596968650817871,
          13.143485069274902,
          -5.236536026000977,
          7.511146068572998,
          -15.019852638244629,
          -9.54591178894043,
          11.780543327331543,
          6.211654186248779,
          -0.8510870337486267,
          -10.116385459899902,
          2.3146021366119385,
          8.096858024597168,
          0.27871185541152954,
          -7.816188335418701,
          3.4463517665863037,
          6.1208415031433105,
          3.9162397384643555,
          9.410420417785645,
          -1.2184338569641113,
          -6.110232353210449,
          -5.135928153991699,
          -4.323764324188232,
          3.369807720184326,
          -6.012737274169922,
          11.311126708984375,
          10.372031211853027,
          6.640150547027588,
          13.191628456115723,
          -10.884894371032715,
          -7.522220611572266,
          7.455630779266357,
          -6.310722351074219,
          -2.2652785778045654
         ],
         "xaxis": "x",
         "y": [
          -9.985517501831055,
          13.648425102233887,
          2.8823747634887695,
          9.13078498840332,
          11.684165000915527,
          -8.139385223388672,
          -6.265080451965332,
          7.10860013961792,
          -4.812712669372559,
          0.6732156872749329,
          -4.966441631317139,
          1.7548067569732666,
          5.8507819175720215,
          -9.273360252380371,
          -4.558926105499268,
          0.18591788411140442,
          4.316035747528076,
          -0.10305550694465637,
          -1.051107406616211,
          -4.186454772949219,
          -1.4734694957733154,
          2.991762399673462,
          -3.694626808166504,
          5.934918403625488,
          -3.6441447734832764,
          -7.327730655670166,
          -1.2576361894607544,
          -9.670286178588867,
          -0.8688827753067017,
          -5.187564849853516,
          10.977254867553711,
          -6.154448986053467,
          -2.8287181854248047,
          6.300086498260498,
          11.271927833557129,
          12.629050254821777,
          0.4429886043071747,
          -3.2822444438934326,
          4.716385841369629,
          -3.5583090782165527,
          -6.152969837188721,
          -2.5857529640197754,
          -9.004429817199707,
          1.0073792934417725,
          2.1167526245117188,
          -6.799492835998535,
          0.9616134166717529,
          -3.677896499633789,
          -6.757357120513916,
          -2.725886821746826,
          -6.824050426483154,
          2.405590534210205,
          -9.757384300231934,
          2.2531306743621826,
          -2.682772397994995,
          -3.617738962173462,
          -1.5329214334487915,
          12.258995056152344,
          2.4314591884613037,
          -7.564370632171631,
          6.162822723388672,
          -4.690972328186035,
          -5.962299346923828,
          -4.686265468597412,
          -0.605994701385498,
          -4.153885364532471,
          6.351428031921387,
          -2.123842239379883,
          9.712450981140137,
          -0.1820969432592392,
          -3.377272367477417,
          4.674646377563477,
          -5.4188337326049805,
          5.033997058868408,
          2.882985830307007,
          -2.787058115005493,
          -6.25006103515625,
          11.99719524383545,
          10.160608291625977,
          3.8687856197357178,
          -0.26301801204681396,
          -1.1247981786727905,
          -1.4926953315734863,
          -9.404622077941895,
          6.462231159210205,
          0.5141118168830872,
          11.364191055297852,
          -3.6075146198272705,
          -3.084136962890625,
          -2.0163490772247314,
          6.387917518615723,
          -10.188522338867188,
          10.703668594360352
         ],
         "yaxis": "y"
        },
        {
         "customdata": [
          [
           "Neil John Samuel is a......",
           "action",
           "0"
          ],
          [
           "Molly Gilbert won't accept a......",
           "comedy",
           "0"
          ],
          [
           "Gloria Cole and Eddie Swenson......",
           "drama",
           "0"
          ],
          [
           "Frankie Bono, a hitman from......",
           "action",
           "0"
          ],
          [
           "Omar Sharif plays Muhassab, headman......",
           "action",
           "0"
          ]
         ],
         "hovertemplate": "cluster=%{customdata[2]}<br>x-tsne=%{x}<br>y-tsne=%{y}<br>text=%{customdata[0]}<br>overall_label=%{customdata[1]}<extra></extra>",
         "legendgroup": "0",
         "marker": {
          "color": "#00cc96",
          "symbol": "circle"
         },
         "mode": "markers",
         "name": "0",
         "orientation": "v",
         "showlegend": true,
         "type": "scatter",
         "x": [
          0.8846682906150818,
          -0.21651896834373474,
          0.5725997090339661,
          2.6232900619506836,
          -0.1461336463689804
         ],
         "xaxis": "x",
         "y": [
          -14.851094245910645,
          -15.479181289672852,
          -12.647664070129395,
          -9.739274024963379,
          -14.376543998718262
         ],
         "yaxis": "y"
        }
       ],
       "layout": {
        "height": 1200,
        "legend": {
         "title": {
          "text": "cluster"
         },
         "tracegroupgap": 0
        },
        "template": {
         "data": {
          "bar": [
           {
            "error_x": {
             "color": "#2a3f5f"
            },
            "error_y": {
             "color": "#2a3f5f"
            },
            "marker": {
             "line": {
              "color": "#E5ECF6",
              "width": 0.5
             },
             "pattern": {
              "fillmode": "overlay",
              "size": 10,
              "solidity": 0.2
             }
            },
            "type": "bar"
           }
          ],
          "barpolar": [
           {
            "marker": {
             "line": {
              "color": "#E5ECF6",
              "width": 0.5
             },
             "pattern": {
              "fillmode": "overlay",
              "size": 10,
              "solidity": 0.2
             }
            },
            "type": "barpolar"
           }
          ],
          "carpet": [
           {
            "aaxis": {
             "endlinecolor": "#2a3f5f",
             "gridcolor": "white",
             "linecolor": "white",
             "minorgridcolor": "white",
             "startlinecolor": "#2a3f5f"
            },
            "baxis": {
             "endlinecolor": "#2a3f5f",
             "gridcolor": "white",
             "linecolor": "white",
             "minorgridcolor": "white",
             "startlinecolor": "#2a3f5f"
            },
            "type": "carpet"
           }
          ],
          "choropleth": [
           {
            "colorbar": {
             "outlinewidth": 0,
             "ticks": ""
            },
            "type": "choropleth"
           }
          ],
          "contour": [
           {
            "colorbar": {
             "outlinewidth": 0,
             "ticks": ""
            },
            "colorscale": [
             [
              0,
              "#0d0887"
             ],
             [
              0.1111111111111111,
              "#46039f"
             ],
             [
              0.2222222222222222,
              "#7201a8"
             ],
             [
              0.3333333333333333,
              "#9c179e"
             ],
             [
              0.4444444444444444,
              "#bd3786"
             ],
             [
              0.5555555555555556,
              "#d8576b"
             ],
             [
              0.6666666666666666,
              "#ed7953"
             ],
             [
              0.7777777777777778,
              "#fb9f3a"
             ],
             [
              0.8888888888888888,
              "#fdca26"
             ],
             [
              1,
              "#f0f921"
             ]
            ],
            "type": "contour"
           }
          ],
          "contourcarpet": [
           {
            "colorbar": {
             "outlinewidth": 0,
             "ticks": ""
            },
            "type": "contourcarpet"
           }
          ],
          "heatmap": [
           {
            "colorbar": {
             "outlinewidth": 0,
             "ticks": ""
            },
            "colorscale": [
             [
              0,
              "#0d0887"
             ],
             [
              0.1111111111111111,
              "#46039f"
             ],
             [
              0.2222222222222222,
              "#7201a8"
             ],
             [
              0.3333333333333333,
              "#9c179e"
             ],
             [
              0.4444444444444444,
              "#bd3786"
             ],
             [
              0.5555555555555556,
              "#d8576b"
             ],
             [
              0.6666666666666666,
              "#ed7953"
             ],
             [
              0.7777777777777778,
              "#fb9f3a"
             ],
             [
              0.8888888888888888,
              "#fdca26"
             ],
             [
              1,
              "#f0f921"
             ]
            ],
            "type": "heatmap"
           }
          ],
          "heatmapgl": [
           {
            "colorbar": {
             "outlinewidth": 0,
             "ticks": ""
            },
            "colorscale": [
             [
              0,
              "#0d0887"
             ],
             [
              0.1111111111111111,
              "#46039f"
             ],
             [
              0.2222222222222222,
              "#7201a8"
             ],
             [
              0.3333333333333333,
              "#9c179e"
             ],
             [
              0.4444444444444444,
              "#bd3786"
             ],
             [
              0.5555555555555556,
              "#d8576b"
             ],
             [
              0.6666666666666666,
              "#ed7953"
             ],
             [
              0.7777777777777778,
              "#fb9f3a"
             ],
             [
              0.8888888888888888,
              "#fdca26"
             ],
             [
              1,
              "#f0f921"
             ]
            ],
            "type": "heatmapgl"
           }
          ],
          "histogram": [
           {
            "marker": {
             "pattern": {
              "fillmode": "overlay",
              "size": 10,
              "solidity": 0.2
             }
            },
            "type": "histogram"
           }
          ],
          "histogram2d": [
           {
            "colorbar": {
             "outlinewidth": 0,
             "ticks": ""
            },
            "colorscale": [
             [
              0,
              "#0d0887"
             ],
             [
              0.1111111111111111,
              "#46039f"
             ],
             [
              0.2222222222222222,
              "#7201a8"
             ],
             [
              0.3333333333333333,
              "#9c179e"
             ],
             [
              0.4444444444444444,
              "#bd3786"
             ],
             [
              0.5555555555555556,
              "#d8576b"
             ],
             [
              0.6666666666666666,
              "#ed7953"
             ],
             [
              0.7777777777777778,
              "#fb9f3a"
             ],
             [
              0.8888888888888888,
              "#fdca26"
             ],
             [
              1,
              "#f0f921"
             ]
            ],
            "type": "histogram2d"
           }
          ],
          "histogram2dcontour": [
           {
            "colorbar": {
             "outlinewidth": 0,
             "ticks": ""
            },
            "colorscale": [
             [
              0,
              "#0d0887"
             ],
             [
              0.1111111111111111,
              "#46039f"
             ],
             [
              0.2222222222222222,
              "#7201a8"
             ],
             [
              0.3333333333333333,
              "#9c179e"
             ],
             [
              0.4444444444444444,
              "#bd3786"
             ],
             [
              0.5555555555555556,
              "#d8576b"
             ],
             [
              0.6666666666666666,
              "#ed7953"
             ],
             [
              0.7777777777777778,
              "#fb9f3a"
             ],
             [
              0.8888888888888888,
              "#fdca26"
             ],
             [
              1,
              "#f0f921"
             ]
            ],
            "type": "histogram2dcontour"
           }
          ],
          "mesh3d": [
           {
            "colorbar": {
             "outlinewidth": 0,
             "ticks": ""
            },
            "type": "mesh3d"
           }
          ],
          "parcoords": [
           {
            "line": {
             "colorbar": {
              "outlinewidth": 0,
              "ticks": ""
             }
            },
            "type": "parcoords"
           }
          ],
          "pie": [
           {
            "automargin": true,
            "type": "pie"
           }
          ],
          "scatter": [
           {
            "fillpattern": {
             "fillmode": "overlay",
             "size": 10,
             "solidity": 0.2
            },
            "type": "scatter"
           }
          ],
          "scatter3d": [
           {
            "line": {
             "colorbar": {
              "outlinewidth": 0,
              "ticks": ""
             }
            },
            "marker": {
             "colorbar": {
              "outlinewidth": 0,
              "ticks": ""
             }
            },
            "type": "scatter3d"
           }
          ],
          "scattercarpet": [
           {
            "marker": {
             "colorbar": {
              "outlinewidth": 0,
              "ticks": ""
             }
            },
            "type": "scattercarpet"
           }
          ],
          "scattergeo": [
           {
            "marker": {
             "colorbar": {
              "outlinewidth": 0,
              "ticks": ""
             }
            },
            "type": "scattergeo"
           }
          ],
          "scattergl": [
           {
            "marker": {
             "colorbar": {
              "outlinewidth": 0,
              "ticks": ""
             }
            },
            "type": "scattergl"
           }
          ],
          "scattermapbox": [
           {
            "marker": {
             "colorbar": {
              "outlinewidth": 0,
              "ticks": ""
             }
            },
            "type": "scattermapbox"
           }
          ],
          "scatterpolar": [
           {
            "marker": {
             "colorbar": {
              "outlinewidth": 0,
              "ticks": ""
             }
            },
            "type": "scatterpolar"
           }
          ],
          "scatterpolargl": [
           {
            "marker": {
             "colorbar": {
              "outlinewidth": 0,
              "ticks": ""
             }
            },
            "type": "scatterpolargl"
           }
          ],
          "scatterternary": [
           {
            "marker": {
             "colorbar": {
              "outlinewidth": 0,
              "ticks": ""
             }
            },
            "type": "scatterternary"
           }
          ],
          "surface": [
           {
            "colorbar": {
             "outlinewidth": 0,
             "ticks": ""
            },
            "colorscale": [
             [
              0,
              "#0d0887"
             ],
             [
              0.1111111111111111,
              "#46039f"
             ],
             [
              0.2222222222222222,
              "#7201a8"
             ],
             [
              0.3333333333333333,
              "#9c179e"
             ],
             [
              0.4444444444444444,
              "#bd3786"
             ],
             [
              0.5555555555555556,
              "#d8576b"
             ],
             [
              0.6666666666666666,
              "#ed7953"
             ],
             [
              0.7777777777777778,
              "#fb9f3a"
             ],
             [
              0.8888888888888888,
              "#fdca26"
             ],
             [
              1,
              "#f0f921"
             ]
            ],
            "type": "surface"
           }
          ],
          "table": [
           {
            "cells": {
             "fill": {
              "color": "#EBF0F8"
             },
             "line": {
              "color": "white"
             }
            },
            "header": {
             "fill": {
              "color": "#C8D4E3"
             },
             "line": {
              "color": "white"
             }
            },
            "type": "table"
           }
          ]
         },
         "layout": {
          "annotationdefaults": {
           "arrowcolor": "#2a3f5f",
           "arrowhead": 0,
           "arrowwidth": 1
          },
          "autotypenumbers": "strict",
          "coloraxis": {
           "colorbar": {
            "outlinewidth": 0,
            "ticks": ""
           }
          },
          "colorscale": {
           "diverging": [
            [
             0,
             "#8e0152"
            ],
            [
             0.1,
             "#c51b7d"
            ],
            [
             0.2,
             "#de77ae"
            ],
            [
             0.3,
             "#f1b6da"
            ],
            [
             0.4,
             "#fde0ef"
            ],
            [
             0.5,
             "#f7f7f7"
            ],
            [
             0.6,
             "#e6f5d0"
            ],
            [
             0.7,
             "#b8e186"
            ],
            [
             0.8,
             "#7fbc41"
            ],
            [
             0.9,
             "#4d9221"
            ],
            [
             1,
             "#276419"
            ]
           ],
           "sequential": [
            [
             0,
             "#0d0887"
            ],
            [
             0.1111111111111111,
             "#46039f"
            ],
            [
             0.2222222222222222,
             "#7201a8"
            ],
            [
             0.3333333333333333,
             "#9c179e"
            ],
            [
             0.4444444444444444,
             "#bd3786"
            ],
            [
             0.5555555555555556,
             "#d8576b"
            ],
            [
             0.6666666666666666,
             "#ed7953"
            ],
            [
             0.7777777777777778,
             "#fb9f3a"
            ],
            [
             0.8888888888888888,
             "#fdca26"
            ],
            [
             1,
             "#f0f921"
            ]
           ],
           "sequentialminus": [
            [
             0,
             "#0d0887"
            ],
            [
             0.1111111111111111,
             "#46039f"
            ],
            [
             0.2222222222222222,
             "#7201a8"
            ],
            [
             0.3333333333333333,
             "#9c179e"
            ],
            [
             0.4444444444444444,
             "#bd3786"
            ],
            [
             0.5555555555555556,
             "#d8576b"
            ],
            [
             0.6666666666666666,
             "#ed7953"
            ],
            [
             0.7777777777777778,
             "#fb9f3a"
            ],
            [
             0.8888888888888888,
             "#fdca26"
            ],
            [
             1,
             "#f0f921"
            ]
           ]
          },
          "colorway": [
           "#636efa",
           "#EF553B",
           "#00cc96",
           "#ab63fa",
           "#FFA15A",
           "#19d3f3",
           "#FF6692",
           "#B6E880",
           "#FF97FF",
           "#FECB52"
          ],
          "font": {
           "color": "#2a3f5f"
          },
          "geo": {
           "bgcolor": "white",
           "lakecolor": "white",
           "landcolor": "#E5ECF6",
           "showlakes": true,
           "showland": true,
           "subunitcolor": "white"
          },
          "hoverlabel": {
           "align": "left"
          },
          "hovermode": "closest",
          "mapbox": {
           "style": "light"
          },
          "paper_bgcolor": "white",
          "plot_bgcolor": "#E5ECF6",
          "polar": {
           "angularaxis": {
            "gridcolor": "white",
            "linecolor": "white",
            "ticks": ""
           },
           "bgcolor": "#E5ECF6",
           "radialaxis": {
            "gridcolor": "white",
            "linecolor": "white",
            "ticks": ""
           }
          },
          "scene": {
           "xaxis": {
            "backgroundcolor": "#E5ECF6",
            "gridcolor": "white",
            "gridwidth": 2,
            "linecolor": "white",
            "showbackground": true,
            "ticks": "",
            "zerolinecolor": "white"
           },
           "yaxis": {
            "backgroundcolor": "#E5ECF6",
            "gridcolor": "white",
            "gridwidth": 2,
            "linecolor": "white",
            "showbackground": true,
            "ticks": "",
            "zerolinecolor": "white"
           },
           "zaxis": {
            "backgroundcolor": "#E5ECF6",
            "gridcolor": "white",
            "gridwidth": 2,
            "linecolor": "white",
            "showbackground": true,
            "ticks": "",
            "zerolinecolor": "white"
           }
          },
          "shapedefaults": {
           "line": {
            "color": "#2a3f5f"
           }
          },
          "ternary": {
           "aaxis": {
            "gridcolor": "white",
            "linecolor": "white",
            "ticks": ""
           },
           "baxis": {
            "gridcolor": "white",
            "linecolor": "white",
            "ticks": ""
           },
           "bgcolor": "#E5ECF6",
           "caxis": {
            "gridcolor": "white",
            "linecolor": "white",
            "ticks": ""
           }
          },
          "title": {
           "x": 0.05
          },
          "xaxis": {
           "automargin": true,
           "gridcolor": "white",
           "linecolor": "white",
           "ticks": "",
           "title": {
            "standoff": 15
           },
           "zerolinecolor": "white",
           "zerolinewidth": 2
          },
          "yaxis": {
           "automargin": true,
           "gridcolor": "white",
           "linecolor": "white",
           "ticks": "",
           "title": {
            "standoff": 15
           },
           "zerolinecolor": "white",
           "zerolinewidth": 2
          }
         }
        },
        "title": {
         "text": "Sentences t-SNE Visualization with TF-IDF Embeddings and HDBSCAN Clustering"
        },
        "width": 1200,
        "xaxis": {
         "anchor": "y",
         "domain": [
          0,
          1
         ],
         "title": {
          "text": "x-tsne"
         }
        },
        "yaxis": {
         "anchor": "x",
         "domain": [
          0,
          1
         ],
         "title": {
          "text": "y-tsne"
         }
        }
       }
      }
     },
     "metadata": {},
     "output_type": "display_data"
    }
   ],
   "source": [
    "tfidf_df['cluster'] = tfidf_df['cluster'].astype(str)\n",
    "fig_cluster = px.scatter(\n",
    "    tfidf_df,\n",
    "    x=\"x-tsne\",\n",
    "    y=\"y-tsne\",\n",
    "    color=\"cluster\",\n",
    "    hover_data={\"text\": True, \"overall_label\": True, \"cluster\": True},\n",
    "    title=\"Sentences t-SNE Visualization with TF-IDF Embeddings and HDBSCAN Clustering\",\n",
    "    width=1200,\n",
    "    height=1200,\n",
    ")\n",
    "fig_cluster.show()"
   ]
  }
 ],
 "metadata": {
  "kernelspec": {
   "display_name": ".venv",
   "language": "python",
   "name": "python3"
  },
  "language_info": {
   "codemirror_mode": {
    "name": "ipython",
    "version": 3
   },
   "file_extension": ".py",
   "mimetype": "text/x-python",
   "name": "python",
   "nbconvert_exporter": "python",
   "pygments_lexer": "ipython3",
   "version": "3.12.4"
  }
 },
 "nbformat": 4,
 "nbformat_minor": 2
}
