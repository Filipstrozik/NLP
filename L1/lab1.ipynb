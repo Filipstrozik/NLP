{
 "cells": [
  {
   "cell_type": "code",
   "execution_count": 91,
   "metadata": {},
   "outputs": [
    {
     "name": "stderr",
     "output_type": "stream",
     "text": [
      "[nltk_data] Downloading package stopwords to\n",
      "[nltk_data]     C:\\Users\\izam1\\AppData\\Roaming\\nltk_data...\n",
      "[nltk_data]   Package stopwords is already up-to-date!\n",
      "[nltk_data] Downloading package punkt_tab to\n",
      "[nltk_data]     C:\\Users\\izam1\\AppData\\Roaming\\nltk_data...\n",
      "[nltk_data]   Package punkt_tab is already up-to-date!\n"
     ]
    },
    {
     "data": {
      "text/plain": [
       "True"
      ]
     },
     "execution_count": 91,
     "metadata": {},
     "output_type": "execute_result"
    }
   ],
   "source": [
    "import pandas as pd\n",
    "import pandas as pd\n",
    "import numpy as np\n",
    "from sklearn.manifold import TSNE\n",
    "import plotly.express as px\n",
    "import nltk\n",
    "from nltk.corpus import stopwords\n",
    "import string\n",
    "import fasttext\n",
    "from sklearn.feature_extraction.text import TfidfVectorizer\n",
    "from sklearn.cluster import HDBSCAN\n",
    "\n",
    "nltk.download(\"stopwords\")\n",
    "nltk.download(\"punkt_tab\")"
   ]
  },
  {
   "cell_type": "markdown",
   "metadata": {},
   "source": [
    "# Load data"
   ]
  },
  {
   "cell_type": "code",
   "execution_count": 92,
   "metadata": {},
   "outputs": [],
   "source": [
    "import json\n",
    "\n",
    "def load_annotations(file_path):\n",
    "    with open(file_path, \"r\", encoding=\"utf-8\") as jfile:\n",
    "        jdata = json.load(jfile)\n",
    "    return jdata\n",
    "\n",
    "\n",
    "def extract_annotations(annotations):\n",
    "    annot_dict = {}\n",
    "    for task in annotations:\n",
    "        full_text = task[\"data\"][\"text\"]\n",
    "        annot_dict[task[\"id\"]] = {\n",
    "            \"text\": full_text,\n",
    "            \"overall_label\": None,\n",
    "            \"span_labels\": {},\n",
    "        }\n",
    "        # Extarct annot info\n",
    "        for annot in task[\"annotations\"][0][\"result\"]:\n",
    "            if annot[\"from_name\"] == \"label\":\n",
    "                start = annot[\"value\"][\"start\"]\n",
    "                end = annot[\"value\"][\"end\"]\n",
    "                text = annot[\"value\"][\"text\"].strip()\n",
    "                label = annot[\"value\"][\"labels\"][0]\n",
    "                annot_dict[task[\"id\"]][\"span_labels\"][(start, end)] = (text, label)\n",
    "            else:\n",
    "                annot_dict[task[\"id\"]][\"overall_label\"] = annot[\"value\"][\"choices\"][0]\n",
    "    return annot_dict\n",
    "\n",
    "final_1_100 = load_annotations(\"../annot/1-100/final_1_100.json\")\n",
    "final_1_100_dict = extract_annotations(final_1_100)\n",
    "final_101_200 = load_annotations(\"../annot/101-200/final_101_200.json\")\n",
    "final_101_200_dict = extract_annotations(final_101_200)\n",
    "\n",
    "# Combine the two dictionaries\n",
    "final_dict = {**final_1_100_dict, **final_101_200_dict}\n",
    "\n"
   ]
  },
  {
   "cell_type": "code",
   "execution_count": 93,
   "metadata": {},
   "outputs": [
    {
     "name": "stdout",
     "output_type": "stream",
     "text": [
      " Total word count: 13013\n",
      " Total sentence count: 694\n",
      " Total number of tasks: 200\n"
     ]
    }
   ],
   "source": [
    "def analyze_word_count(data_dict):\n",
    "    word_count_dict = {}\n",
    "    for key, value in data_dict.items():\n",
    "        text = value.get(\"text\", \"\")\n",
    "        word_count = len(text.split())\n",
    "        word_count_dict[key] = word_count\n",
    "    return word_count_dict\n",
    "\n",
    "def analyze_sentence_count(data_dict):\n",
    "    sentence_count_dict = {}\n",
    "    for key, value in data_dict.items():\n",
    "        text = value.get(\"text\", \"\")\n",
    "        sentence_count = len(nltk.sent_tokenize(text))\n",
    "        sentence_count_dict[key] = sentence_count\n",
    "    return sentence_count_dict\n",
    "\n",
    "# Analyze word count in final_dict\n",
    "word_count_analysis = analyze_word_count(final_dict)\n",
    "word_count = sum(word_count_analysis.values())\n",
    "print(f\" Total word count: {word_count}\")\n",
    "\n",
    "# Analyze sentence count in final_dict\n",
    "sentence_count_analysis = analyze_sentence_count(final_dict)\n",
    "sentence_count = sum(sentence_count_analysis.values())\n",
    "print(f\" Total sentence count: {sentence_count}\")\n",
    "\n",
    "print(f\" Total number of tasks: {len(final_dict)}\")\n"
   ]
  },
  {
   "cell_type": "code",
   "execution_count": 94,
   "metadata": {},
   "outputs": [
    {
     "name": "stdout",
     "output_type": "stream",
     "text": [
      "{'drama': 76, 'romance': 14, 'action': 31, 'comedy': 46, 'fantasy': 17, 'western': 9, 'document': 7}\n"
     ]
    }
   ],
   "source": [
    "def analyze_label_distribution(data_dict):\n",
    "    label_distribution = {}\n",
    "    for key, value in data_dict.items():\n",
    "        overall_label = value.get(\"overall_label\", \"\")\n",
    "        if overall_label:\n",
    "            if overall_label in label_distribution:\n",
    "                label_distribution[overall_label] += 1\n",
    "            else:\n",
    "                label_distribution[overall_label] = 1\n",
    "    return label_distribution\n",
    "\n",
    "label_distribution = analyze_label_distribution(final_dict)\n",
    "print(label_distribution)"
   ]
  },
  {
   "cell_type": "code",
   "execution_count": 95,
   "metadata": {},
   "outputs": [
    {
     "data": {
      "application/vnd.plotly.v1+json": {
       "config": {
        "plotlyServerURL": "https://plot.ly"
       },
       "data": [
        {
         "domain": {
          "x": [
           0,
           1
          ],
          "y": [
           0,
           1
          ]
         },
         "hovertemplate": "label=%{label}<br>value=%{value}<extra></extra>",
         "labels": [
          "drama",
          "romance",
          "action",
          "comedy",
          "fantasy",
          "western",
          "document"
         ],
         "legendgroup": "",
         "name": "",
         "showlegend": true,
         "type": "pie",
         "values": [
          76,
          14,
          31,
          46,
          17,
          9,
          7
         ]
        }
       ],
       "layout": {
        "legend": {
         "tracegroupgap": 0
        },
        "template": {
         "data": {
          "bar": [
           {
            "error_x": {
             "color": "#2a3f5f"
            },
            "error_y": {
             "color": "#2a3f5f"
            },
            "marker": {
             "line": {
              "color": "#E5ECF6",
              "width": 0.5
             },
             "pattern": {
              "fillmode": "overlay",
              "size": 10,
              "solidity": 0.2
             }
            },
            "type": "bar"
           }
          ],
          "barpolar": [
           {
            "marker": {
             "line": {
              "color": "#E5ECF6",
              "width": 0.5
             },
             "pattern": {
              "fillmode": "overlay",
              "size": 10,
              "solidity": 0.2
             }
            },
            "type": "barpolar"
           }
          ],
          "carpet": [
           {
            "aaxis": {
             "endlinecolor": "#2a3f5f",
             "gridcolor": "white",
             "linecolor": "white",
             "minorgridcolor": "white",
             "startlinecolor": "#2a3f5f"
            },
            "baxis": {
             "endlinecolor": "#2a3f5f",
             "gridcolor": "white",
             "linecolor": "white",
             "minorgridcolor": "white",
             "startlinecolor": "#2a3f5f"
            },
            "type": "carpet"
           }
          ],
          "choropleth": [
           {
            "colorbar": {
             "outlinewidth": 0,
             "ticks": ""
            },
            "type": "choropleth"
           }
          ],
          "contour": [
           {
            "colorbar": {
             "outlinewidth": 0,
             "ticks": ""
            },
            "colorscale": [
             [
              0,
              "#0d0887"
             ],
             [
              0.1111111111111111,
              "#46039f"
             ],
             [
              0.2222222222222222,
              "#7201a8"
             ],
             [
              0.3333333333333333,
              "#9c179e"
             ],
             [
              0.4444444444444444,
              "#bd3786"
             ],
             [
              0.5555555555555556,
              "#d8576b"
             ],
             [
              0.6666666666666666,
              "#ed7953"
             ],
             [
              0.7777777777777778,
              "#fb9f3a"
             ],
             [
              0.8888888888888888,
              "#fdca26"
             ],
             [
              1,
              "#f0f921"
             ]
            ],
            "type": "contour"
           }
          ],
          "contourcarpet": [
           {
            "colorbar": {
             "outlinewidth": 0,
             "ticks": ""
            },
            "type": "contourcarpet"
           }
          ],
          "heatmap": [
           {
            "colorbar": {
             "outlinewidth": 0,
             "ticks": ""
            },
            "colorscale": [
             [
              0,
              "#0d0887"
             ],
             [
              0.1111111111111111,
              "#46039f"
             ],
             [
              0.2222222222222222,
              "#7201a8"
             ],
             [
              0.3333333333333333,
              "#9c179e"
             ],
             [
              0.4444444444444444,
              "#bd3786"
             ],
             [
              0.5555555555555556,
              "#d8576b"
             ],
             [
              0.6666666666666666,
              "#ed7953"
             ],
             [
              0.7777777777777778,
              "#fb9f3a"
             ],
             [
              0.8888888888888888,
              "#fdca26"
             ],
             [
              1,
              "#f0f921"
             ]
            ],
            "type": "heatmap"
           }
          ],
          "heatmapgl": [
           {
            "colorbar": {
             "outlinewidth": 0,
             "ticks": ""
            },
            "colorscale": [
             [
              0,
              "#0d0887"
             ],
             [
              0.1111111111111111,
              "#46039f"
             ],
             [
              0.2222222222222222,
              "#7201a8"
             ],
             [
              0.3333333333333333,
              "#9c179e"
             ],
             [
              0.4444444444444444,
              "#bd3786"
             ],
             [
              0.5555555555555556,
              "#d8576b"
             ],
             [
              0.6666666666666666,
              "#ed7953"
             ],
             [
              0.7777777777777778,
              "#fb9f3a"
             ],
             [
              0.8888888888888888,
              "#fdca26"
             ],
             [
              1,
              "#f0f921"
             ]
            ],
            "type": "heatmapgl"
           }
          ],
          "histogram": [
           {
            "marker": {
             "pattern": {
              "fillmode": "overlay",
              "size": 10,
              "solidity": 0.2
             }
            },
            "type": "histogram"
           }
          ],
          "histogram2d": [
           {
            "colorbar": {
             "outlinewidth": 0,
             "ticks": ""
            },
            "colorscale": [
             [
              0,
              "#0d0887"
             ],
             [
              0.1111111111111111,
              "#46039f"
             ],
             [
              0.2222222222222222,
              "#7201a8"
             ],
             [
              0.3333333333333333,
              "#9c179e"
             ],
             [
              0.4444444444444444,
              "#bd3786"
             ],
             [
              0.5555555555555556,
              "#d8576b"
             ],
             [
              0.6666666666666666,
              "#ed7953"
             ],
             [
              0.7777777777777778,
              "#fb9f3a"
             ],
             [
              0.8888888888888888,
              "#fdca26"
             ],
             [
              1,
              "#f0f921"
             ]
            ],
            "type": "histogram2d"
           }
          ],
          "histogram2dcontour": [
           {
            "colorbar": {
             "outlinewidth": 0,
             "ticks": ""
            },
            "colorscale": [
             [
              0,
              "#0d0887"
             ],
             [
              0.1111111111111111,
              "#46039f"
             ],
             [
              0.2222222222222222,
              "#7201a8"
             ],
             [
              0.3333333333333333,
              "#9c179e"
             ],
             [
              0.4444444444444444,
              "#bd3786"
             ],
             [
              0.5555555555555556,
              "#d8576b"
             ],
             [
              0.6666666666666666,
              "#ed7953"
             ],
             [
              0.7777777777777778,
              "#fb9f3a"
             ],
             [
              0.8888888888888888,
              "#fdca26"
             ],
             [
              1,
              "#f0f921"
             ]
            ],
            "type": "histogram2dcontour"
           }
          ],
          "mesh3d": [
           {
            "colorbar": {
             "outlinewidth": 0,
             "ticks": ""
            },
            "type": "mesh3d"
           }
          ],
          "parcoords": [
           {
            "line": {
             "colorbar": {
              "outlinewidth": 0,
              "ticks": ""
             }
            },
            "type": "parcoords"
           }
          ],
          "pie": [
           {
            "automargin": true,
            "type": "pie"
           }
          ],
          "scatter": [
           {
            "fillpattern": {
             "fillmode": "overlay",
             "size": 10,
             "solidity": 0.2
            },
            "type": "scatter"
           }
          ],
          "scatter3d": [
           {
            "line": {
             "colorbar": {
              "outlinewidth": 0,
              "ticks": ""
             }
            },
            "marker": {
             "colorbar": {
              "outlinewidth": 0,
              "ticks": ""
             }
            },
            "type": "scatter3d"
           }
          ],
          "scattercarpet": [
           {
            "marker": {
             "colorbar": {
              "outlinewidth": 0,
              "ticks": ""
             }
            },
            "type": "scattercarpet"
           }
          ],
          "scattergeo": [
           {
            "marker": {
             "colorbar": {
              "outlinewidth": 0,
              "ticks": ""
             }
            },
            "type": "scattergeo"
           }
          ],
          "scattergl": [
           {
            "marker": {
             "colorbar": {
              "outlinewidth": 0,
              "ticks": ""
             }
            },
            "type": "scattergl"
           }
          ],
          "scattermapbox": [
           {
            "marker": {
             "colorbar": {
              "outlinewidth": 0,
              "ticks": ""
             }
            },
            "type": "scattermapbox"
           }
          ],
          "scatterpolar": [
           {
            "marker": {
             "colorbar": {
              "outlinewidth": 0,
              "ticks": ""
             }
            },
            "type": "scatterpolar"
           }
          ],
          "scatterpolargl": [
           {
            "marker": {
             "colorbar": {
              "outlinewidth": 0,
              "ticks": ""
             }
            },
            "type": "scatterpolargl"
           }
          ],
          "scatterternary": [
           {
            "marker": {
             "colorbar": {
              "outlinewidth": 0,
              "ticks": ""
             }
            },
            "type": "scatterternary"
           }
          ],
          "surface": [
           {
            "colorbar": {
             "outlinewidth": 0,
             "ticks": ""
            },
            "colorscale": [
             [
              0,
              "#0d0887"
             ],
             [
              0.1111111111111111,
              "#46039f"
             ],
             [
              0.2222222222222222,
              "#7201a8"
             ],
             [
              0.3333333333333333,
              "#9c179e"
             ],
             [
              0.4444444444444444,
              "#bd3786"
             ],
             [
              0.5555555555555556,
              "#d8576b"
             ],
             [
              0.6666666666666666,
              "#ed7953"
             ],
             [
              0.7777777777777778,
              "#fb9f3a"
             ],
             [
              0.8888888888888888,
              "#fdca26"
             ],
             [
              1,
              "#f0f921"
             ]
            ],
            "type": "surface"
           }
          ],
          "table": [
           {
            "cells": {
             "fill": {
              "color": "#EBF0F8"
             },
             "line": {
              "color": "white"
             }
            },
            "header": {
             "fill": {
              "color": "#C8D4E3"
             },
             "line": {
              "color": "white"
             }
            },
            "type": "table"
           }
          ]
         },
         "layout": {
          "annotationdefaults": {
           "arrowcolor": "#2a3f5f",
           "arrowhead": 0,
           "arrowwidth": 1
          },
          "autotypenumbers": "strict",
          "coloraxis": {
           "colorbar": {
            "outlinewidth": 0,
            "ticks": ""
           }
          },
          "colorscale": {
           "diverging": [
            [
             0,
             "#8e0152"
            ],
            [
             0.1,
             "#c51b7d"
            ],
            [
             0.2,
             "#de77ae"
            ],
            [
             0.3,
             "#f1b6da"
            ],
            [
             0.4,
             "#fde0ef"
            ],
            [
             0.5,
             "#f7f7f7"
            ],
            [
             0.6,
             "#e6f5d0"
            ],
            [
             0.7,
             "#b8e186"
            ],
            [
             0.8,
             "#7fbc41"
            ],
            [
             0.9,
             "#4d9221"
            ],
            [
             1,
             "#276419"
            ]
           ],
           "sequential": [
            [
             0,
             "#0d0887"
            ],
            [
             0.1111111111111111,
             "#46039f"
            ],
            [
             0.2222222222222222,
             "#7201a8"
            ],
            [
             0.3333333333333333,
             "#9c179e"
            ],
            [
             0.4444444444444444,
             "#bd3786"
            ],
            [
             0.5555555555555556,
             "#d8576b"
            ],
            [
             0.6666666666666666,
             "#ed7953"
            ],
            [
             0.7777777777777778,
             "#fb9f3a"
            ],
            [
             0.8888888888888888,
             "#fdca26"
            ],
            [
             1,
             "#f0f921"
            ]
           ],
           "sequentialminus": [
            [
             0,
             "#0d0887"
            ],
            [
             0.1111111111111111,
             "#46039f"
            ],
            [
             0.2222222222222222,
             "#7201a8"
            ],
            [
             0.3333333333333333,
             "#9c179e"
            ],
            [
             0.4444444444444444,
             "#bd3786"
            ],
            [
             0.5555555555555556,
             "#d8576b"
            ],
            [
             0.6666666666666666,
             "#ed7953"
            ],
            [
             0.7777777777777778,
             "#fb9f3a"
            ],
            [
             0.8888888888888888,
             "#fdca26"
            ],
            [
             1,
             "#f0f921"
            ]
           ]
          },
          "colorway": [
           "#636efa",
           "#EF553B",
           "#00cc96",
           "#ab63fa",
           "#FFA15A",
           "#19d3f3",
           "#FF6692",
           "#B6E880",
           "#FF97FF",
           "#FECB52"
          ],
          "font": {
           "color": "#2a3f5f"
          },
          "geo": {
           "bgcolor": "white",
           "lakecolor": "white",
           "landcolor": "#E5ECF6",
           "showlakes": true,
           "showland": true,
           "subunitcolor": "white"
          },
          "hoverlabel": {
           "align": "left"
          },
          "hovermode": "closest",
          "mapbox": {
           "style": "light"
          },
          "paper_bgcolor": "white",
          "plot_bgcolor": "#E5ECF6",
          "polar": {
           "angularaxis": {
            "gridcolor": "white",
            "linecolor": "white",
            "ticks": ""
           },
           "bgcolor": "#E5ECF6",
           "radialaxis": {
            "gridcolor": "white",
            "linecolor": "white",
            "ticks": ""
           }
          },
          "scene": {
           "xaxis": {
            "backgroundcolor": "#E5ECF6",
            "gridcolor": "white",
            "gridwidth": 2,
            "linecolor": "white",
            "showbackground": true,
            "ticks": "",
            "zerolinecolor": "white"
           },
           "yaxis": {
            "backgroundcolor": "#E5ECF6",
            "gridcolor": "white",
            "gridwidth": 2,
            "linecolor": "white",
            "showbackground": true,
            "ticks": "",
            "zerolinecolor": "white"
           },
           "zaxis": {
            "backgroundcolor": "#E5ECF6",
            "gridcolor": "white",
            "gridwidth": 2,
            "linecolor": "white",
            "showbackground": true,
            "ticks": "",
            "zerolinecolor": "white"
           }
          },
          "shapedefaults": {
           "line": {
            "color": "#2a3f5f"
           }
          },
          "ternary": {
           "aaxis": {
            "gridcolor": "white",
            "linecolor": "white",
            "ticks": ""
           },
           "baxis": {
            "gridcolor": "white",
            "linecolor": "white",
            "ticks": ""
           },
           "bgcolor": "#E5ECF6",
           "caxis": {
            "gridcolor": "white",
            "linecolor": "white",
            "ticks": ""
           }
          },
          "title": {
           "x": 0.05
          },
          "xaxis": {
           "automargin": true,
           "gridcolor": "white",
           "linecolor": "white",
           "ticks": "",
           "title": {
            "standoff": 15
           },
           "zerolinecolor": "white",
           "zerolinewidth": 2
          },
          "yaxis": {
           "automargin": true,
           "gridcolor": "white",
           "linecolor": "white",
           "ticks": "",
           "title": {
            "standoff": 15
           },
           "zerolinecolor": "white",
           "zerolinewidth": 2
          }
         }
        },
        "title": {
         "text": "Label Distribution"
        }
       }
      }
     },
     "metadata": {},
     "output_type": "display_data"
    }
   ],
   "source": [
    "# show the distribution of the labels in a pie chart\n",
    "fig = px.pie(\n",
    "    values=list(label_distribution.values()),\n",
    "    names=list(label_distribution.keys()),\n",
    "    title=\"Label Distribution\",\n",
    ")\n",
    "fig.show()"
   ]
  },
  {
   "cell_type": "code",
   "execution_count": 96,
   "metadata": {},
   "outputs": [
    {
     "name": "stdout",
     "output_type": "stream",
     "text": [
      "{'TIME': 58, 'NAME': 961, 'CHARACTER': 892, 'PLACE': 274}\n"
     ]
    },
    {
     "data": {
      "application/vnd.plotly.v1+json": {
       "config": {
        "plotlyServerURL": "https://plot.ly"
       },
       "data": [
        {
         "domain": {
          "x": [
           0,
           1
          ],
          "y": [
           0,
           1
          ]
         },
         "hovertemplate": "label=%{label}<br>value=%{value}<extra></extra>",
         "labels": [
          "TIME",
          "NAME",
          "CHARACTER",
          "PLACE"
         ],
         "legendgroup": "",
         "name": "",
         "showlegend": true,
         "type": "pie",
         "values": [
          58,
          961,
          892,
          274
         ]
        }
       ],
       "layout": {
        "legend": {
         "tracegroupgap": 0
        },
        "template": {
         "data": {
          "bar": [
           {
            "error_x": {
             "color": "#2a3f5f"
            },
            "error_y": {
             "color": "#2a3f5f"
            },
            "marker": {
             "line": {
              "color": "#E5ECF6",
              "width": 0.5
             },
             "pattern": {
              "fillmode": "overlay",
              "size": 10,
              "solidity": 0.2
             }
            },
            "type": "bar"
           }
          ],
          "barpolar": [
           {
            "marker": {
             "line": {
              "color": "#E5ECF6",
              "width": 0.5
             },
             "pattern": {
              "fillmode": "overlay",
              "size": 10,
              "solidity": 0.2
             }
            },
            "type": "barpolar"
           }
          ],
          "carpet": [
           {
            "aaxis": {
             "endlinecolor": "#2a3f5f",
             "gridcolor": "white",
             "linecolor": "white",
             "minorgridcolor": "white",
             "startlinecolor": "#2a3f5f"
            },
            "baxis": {
             "endlinecolor": "#2a3f5f",
             "gridcolor": "white",
             "linecolor": "white",
             "minorgridcolor": "white",
             "startlinecolor": "#2a3f5f"
            },
            "type": "carpet"
           }
          ],
          "choropleth": [
           {
            "colorbar": {
             "outlinewidth": 0,
             "ticks": ""
            },
            "type": "choropleth"
           }
          ],
          "contour": [
           {
            "colorbar": {
             "outlinewidth": 0,
             "ticks": ""
            },
            "colorscale": [
             [
              0,
              "#0d0887"
             ],
             [
              0.1111111111111111,
              "#46039f"
             ],
             [
              0.2222222222222222,
              "#7201a8"
             ],
             [
              0.3333333333333333,
              "#9c179e"
             ],
             [
              0.4444444444444444,
              "#bd3786"
             ],
             [
              0.5555555555555556,
              "#d8576b"
             ],
             [
              0.6666666666666666,
              "#ed7953"
             ],
             [
              0.7777777777777778,
              "#fb9f3a"
             ],
             [
              0.8888888888888888,
              "#fdca26"
             ],
             [
              1,
              "#f0f921"
             ]
            ],
            "type": "contour"
           }
          ],
          "contourcarpet": [
           {
            "colorbar": {
             "outlinewidth": 0,
             "ticks": ""
            },
            "type": "contourcarpet"
           }
          ],
          "heatmap": [
           {
            "colorbar": {
             "outlinewidth": 0,
             "ticks": ""
            },
            "colorscale": [
             [
              0,
              "#0d0887"
             ],
             [
              0.1111111111111111,
              "#46039f"
             ],
             [
              0.2222222222222222,
              "#7201a8"
             ],
             [
              0.3333333333333333,
              "#9c179e"
             ],
             [
              0.4444444444444444,
              "#bd3786"
             ],
             [
              0.5555555555555556,
              "#d8576b"
             ],
             [
              0.6666666666666666,
              "#ed7953"
             ],
             [
              0.7777777777777778,
              "#fb9f3a"
             ],
             [
              0.8888888888888888,
              "#fdca26"
             ],
             [
              1,
              "#f0f921"
             ]
            ],
            "type": "heatmap"
           }
          ],
          "heatmapgl": [
           {
            "colorbar": {
             "outlinewidth": 0,
             "ticks": ""
            },
            "colorscale": [
             [
              0,
              "#0d0887"
             ],
             [
              0.1111111111111111,
              "#46039f"
             ],
             [
              0.2222222222222222,
              "#7201a8"
             ],
             [
              0.3333333333333333,
              "#9c179e"
             ],
             [
              0.4444444444444444,
              "#bd3786"
             ],
             [
              0.5555555555555556,
              "#d8576b"
             ],
             [
              0.6666666666666666,
              "#ed7953"
             ],
             [
              0.7777777777777778,
              "#fb9f3a"
             ],
             [
              0.8888888888888888,
              "#fdca26"
             ],
             [
              1,
              "#f0f921"
             ]
            ],
            "type": "heatmapgl"
           }
          ],
          "histogram": [
           {
            "marker": {
             "pattern": {
              "fillmode": "overlay",
              "size": 10,
              "solidity": 0.2
             }
            },
            "type": "histogram"
           }
          ],
          "histogram2d": [
           {
            "colorbar": {
             "outlinewidth": 0,
             "ticks": ""
            },
            "colorscale": [
             [
              0,
              "#0d0887"
             ],
             [
              0.1111111111111111,
              "#46039f"
             ],
             [
              0.2222222222222222,
              "#7201a8"
             ],
             [
              0.3333333333333333,
              "#9c179e"
             ],
             [
              0.4444444444444444,
              "#bd3786"
             ],
             [
              0.5555555555555556,
              "#d8576b"
             ],
             [
              0.6666666666666666,
              "#ed7953"
             ],
             [
              0.7777777777777778,
              "#fb9f3a"
             ],
             [
              0.8888888888888888,
              "#fdca26"
             ],
             [
              1,
              "#f0f921"
             ]
            ],
            "type": "histogram2d"
           }
          ],
          "histogram2dcontour": [
           {
            "colorbar": {
             "outlinewidth": 0,
             "ticks": ""
            },
            "colorscale": [
             [
              0,
              "#0d0887"
             ],
             [
              0.1111111111111111,
              "#46039f"
             ],
             [
              0.2222222222222222,
              "#7201a8"
             ],
             [
              0.3333333333333333,
              "#9c179e"
             ],
             [
              0.4444444444444444,
              "#bd3786"
             ],
             [
              0.5555555555555556,
              "#d8576b"
             ],
             [
              0.6666666666666666,
              "#ed7953"
             ],
             [
              0.7777777777777778,
              "#fb9f3a"
             ],
             [
              0.8888888888888888,
              "#fdca26"
             ],
             [
              1,
              "#f0f921"
             ]
            ],
            "type": "histogram2dcontour"
           }
          ],
          "mesh3d": [
           {
            "colorbar": {
             "outlinewidth": 0,
             "ticks": ""
            },
            "type": "mesh3d"
           }
          ],
          "parcoords": [
           {
            "line": {
             "colorbar": {
              "outlinewidth": 0,
              "ticks": ""
             }
            },
            "type": "parcoords"
           }
          ],
          "pie": [
           {
            "automargin": true,
            "type": "pie"
           }
          ],
          "scatter": [
           {
            "fillpattern": {
             "fillmode": "overlay",
             "size": 10,
             "solidity": 0.2
            },
            "type": "scatter"
           }
          ],
          "scatter3d": [
           {
            "line": {
             "colorbar": {
              "outlinewidth": 0,
              "ticks": ""
             }
            },
            "marker": {
             "colorbar": {
              "outlinewidth": 0,
              "ticks": ""
             }
            },
            "type": "scatter3d"
           }
          ],
          "scattercarpet": [
           {
            "marker": {
             "colorbar": {
              "outlinewidth": 0,
              "ticks": ""
             }
            },
            "type": "scattercarpet"
           }
          ],
          "scattergeo": [
           {
            "marker": {
             "colorbar": {
              "outlinewidth": 0,
              "ticks": ""
             }
            },
            "type": "scattergeo"
           }
          ],
          "scattergl": [
           {
            "marker": {
             "colorbar": {
              "outlinewidth": 0,
              "ticks": ""
             }
            },
            "type": "scattergl"
           }
          ],
          "scattermapbox": [
           {
            "marker": {
             "colorbar": {
              "outlinewidth": 0,
              "ticks": ""
             }
            },
            "type": "scattermapbox"
           }
          ],
          "scatterpolar": [
           {
            "marker": {
             "colorbar": {
              "outlinewidth": 0,
              "ticks": ""
             }
            },
            "type": "scatterpolar"
           }
          ],
          "scatterpolargl": [
           {
            "marker": {
             "colorbar": {
              "outlinewidth": 0,
              "ticks": ""
             }
            },
            "type": "scatterpolargl"
           }
          ],
          "scatterternary": [
           {
            "marker": {
             "colorbar": {
              "outlinewidth": 0,
              "ticks": ""
             }
            },
            "type": "scatterternary"
           }
          ],
          "surface": [
           {
            "colorbar": {
             "outlinewidth": 0,
             "ticks": ""
            },
            "colorscale": [
             [
              0,
              "#0d0887"
             ],
             [
              0.1111111111111111,
              "#46039f"
             ],
             [
              0.2222222222222222,
              "#7201a8"
             ],
             [
              0.3333333333333333,
              "#9c179e"
             ],
             [
              0.4444444444444444,
              "#bd3786"
             ],
             [
              0.5555555555555556,
              "#d8576b"
             ],
             [
              0.6666666666666666,
              "#ed7953"
             ],
             [
              0.7777777777777778,
              "#fb9f3a"
             ],
             [
              0.8888888888888888,
              "#fdca26"
             ],
             [
              1,
              "#f0f921"
             ]
            ],
            "type": "surface"
           }
          ],
          "table": [
           {
            "cells": {
             "fill": {
              "color": "#EBF0F8"
             },
             "line": {
              "color": "white"
             }
            },
            "header": {
             "fill": {
              "color": "#C8D4E3"
             },
             "line": {
              "color": "white"
             }
            },
            "type": "table"
           }
          ]
         },
         "layout": {
          "annotationdefaults": {
           "arrowcolor": "#2a3f5f",
           "arrowhead": 0,
           "arrowwidth": 1
          },
          "autotypenumbers": "strict",
          "coloraxis": {
           "colorbar": {
            "outlinewidth": 0,
            "ticks": ""
           }
          },
          "colorscale": {
           "diverging": [
            [
             0,
             "#8e0152"
            ],
            [
             0.1,
             "#c51b7d"
            ],
            [
             0.2,
             "#de77ae"
            ],
            [
             0.3,
             "#f1b6da"
            ],
            [
             0.4,
             "#fde0ef"
            ],
            [
             0.5,
             "#f7f7f7"
            ],
            [
             0.6,
             "#e6f5d0"
            ],
            [
             0.7,
             "#b8e186"
            ],
            [
             0.8,
             "#7fbc41"
            ],
            [
             0.9,
             "#4d9221"
            ],
            [
             1,
             "#276419"
            ]
           ],
           "sequential": [
            [
             0,
             "#0d0887"
            ],
            [
             0.1111111111111111,
             "#46039f"
            ],
            [
             0.2222222222222222,
             "#7201a8"
            ],
            [
             0.3333333333333333,
             "#9c179e"
            ],
            [
             0.4444444444444444,
             "#bd3786"
            ],
            [
             0.5555555555555556,
             "#d8576b"
            ],
            [
             0.6666666666666666,
             "#ed7953"
            ],
            [
             0.7777777777777778,
             "#fb9f3a"
            ],
            [
             0.8888888888888888,
             "#fdca26"
            ],
            [
             1,
             "#f0f921"
            ]
           ],
           "sequentialminus": [
            [
             0,
             "#0d0887"
            ],
            [
             0.1111111111111111,
             "#46039f"
            ],
            [
             0.2222222222222222,
             "#7201a8"
            ],
            [
             0.3333333333333333,
             "#9c179e"
            ],
            [
             0.4444444444444444,
             "#bd3786"
            ],
            [
             0.5555555555555556,
             "#d8576b"
            ],
            [
             0.6666666666666666,
             "#ed7953"
            ],
            [
             0.7777777777777778,
             "#fb9f3a"
            ],
            [
             0.8888888888888888,
             "#fdca26"
            ],
            [
             1,
             "#f0f921"
            ]
           ]
          },
          "colorway": [
           "#636efa",
           "#EF553B",
           "#00cc96",
           "#ab63fa",
           "#FFA15A",
           "#19d3f3",
           "#FF6692",
           "#B6E880",
           "#FF97FF",
           "#FECB52"
          ],
          "font": {
           "color": "#2a3f5f"
          },
          "geo": {
           "bgcolor": "white",
           "lakecolor": "white",
           "landcolor": "#E5ECF6",
           "showlakes": true,
           "showland": true,
           "subunitcolor": "white"
          },
          "hoverlabel": {
           "align": "left"
          },
          "hovermode": "closest",
          "mapbox": {
           "style": "light"
          },
          "paper_bgcolor": "white",
          "plot_bgcolor": "#E5ECF6",
          "polar": {
           "angularaxis": {
            "gridcolor": "white",
            "linecolor": "white",
            "ticks": ""
           },
           "bgcolor": "#E5ECF6",
           "radialaxis": {
            "gridcolor": "white",
            "linecolor": "white",
            "ticks": ""
           }
          },
          "scene": {
           "xaxis": {
            "backgroundcolor": "#E5ECF6",
            "gridcolor": "white",
            "gridwidth": 2,
            "linecolor": "white",
            "showbackground": true,
            "ticks": "",
            "zerolinecolor": "white"
           },
           "yaxis": {
            "backgroundcolor": "#E5ECF6",
            "gridcolor": "white",
            "gridwidth": 2,
            "linecolor": "white",
            "showbackground": true,
            "ticks": "",
            "zerolinecolor": "white"
           },
           "zaxis": {
            "backgroundcolor": "#E5ECF6",
            "gridcolor": "white",
            "gridwidth": 2,
            "linecolor": "white",
            "showbackground": true,
            "ticks": "",
            "zerolinecolor": "white"
           }
          },
          "shapedefaults": {
           "line": {
            "color": "#2a3f5f"
           }
          },
          "ternary": {
           "aaxis": {
            "gridcolor": "white",
            "linecolor": "white",
            "ticks": ""
           },
           "baxis": {
            "gridcolor": "white",
            "linecolor": "white",
            "ticks": ""
           },
           "bgcolor": "#E5ECF6",
           "caxis": {
            "gridcolor": "white",
            "linecolor": "white",
            "ticks": ""
           }
          },
          "title": {
           "x": 0.05
          },
          "xaxis": {
           "automargin": true,
           "gridcolor": "white",
           "linecolor": "white",
           "ticks": "",
           "title": {
            "standoff": 15
           },
           "zerolinecolor": "white",
           "zerolinewidth": 2
          },
          "yaxis": {
           "automargin": true,
           "gridcolor": "white",
           "linecolor": "white",
           "ticks": "",
           "title": {
            "standoff": 15
           },
           "zerolinecolor": "white",
           "zerolinewidth": 2
          }
         }
        },
        "title": {
         "text": "Span Label Distribution"
        }
       }
      }
     },
     "metadata": {},
     "output_type": "display_data"
    }
   ],
   "source": [
    "def analyze_span_label_distribution(data_dict):\n",
    "    label_distribution = {}\n",
    "    for key, value in data_dict.items():\n",
    "        span_labels = value.get(\"span_labels\", {})\n",
    "        for span, (text, label) in span_labels.items():\n",
    "            if label in label_distribution:\n",
    "                label_distribution[label] += 1\n",
    "            else:\n",
    "                label_distribution[label] = 1\n",
    "    return label_distribution\n",
    "\n",
    "span_label_distribution = analyze_span_label_distribution(final_dict)\n",
    "print(span_label_distribution)\n",
    "\n",
    "# show the distribution of the labels in a pie chart\n",
    "fig = px.pie(\n",
    "    values=list(span_label_distribution.values()),\n",
    "    names=list(span_label_distribution.keys()),\n",
    "    title=\"Span Label Distribution\",\n",
    ")\n",
    "fig.show()"
   ]
  },
  {
   "cell_type": "code",
   "execution_count": 97,
   "metadata": {},
   "outputs": [
    {
     "data": {
      "text/html": [
       "<div>\n",
       "<style scoped>\n",
       "    .dataframe tbody tr th:only-of-type {\n",
       "        vertical-align: middle;\n",
       "    }\n",
       "\n",
       "    .dataframe tbody tr th {\n",
       "        vertical-align: top;\n",
       "    }\n",
       "\n",
       "    .dataframe thead th {\n",
       "        text-align: right;\n",
       "    }\n",
       "</style>\n",
       "<table border=\"1\" class=\"dataframe\">\n",
       "  <thead>\n",
       "    <tr style=\"text-align: right;\">\n",
       "      <th></th>\n",
       "      <th>id</th>\n",
       "      <th>text</th>\n",
       "      <th>overall_label</th>\n",
       "    </tr>\n",
       "  </thead>\n",
       "  <tbody>\n",
       "    <tr>\n",
       "      <th>0</th>\n",
       "      <td>1</td>\n",
       "      <td>The film tells the story of Elizabeth (Colbert...</td>\n",
       "      <td>drama</td>\n",
       "    </tr>\n",
       "    <tr>\n",
       "      <th>1</th>\n",
       "      <td>2</td>\n",
       "      <td>The eventful life of Swami Vivekananda, his te...</td>\n",
       "      <td>drama</td>\n",
       "    </tr>\n",
       "    <tr>\n",
       "      <th>2</th>\n",
       "      <td>3</td>\n",
       "      <td>Jagathalaprathapan is a prince who is to be pu...</td>\n",
       "      <td>romance</td>\n",
       "    </tr>\n",
       "    <tr>\n",
       "      <th>3</th>\n",
       "      <td>4</td>\n",
       "      <td>Police inspector Holloway (Patrick Wymark) inv...</td>\n",
       "      <td>action</td>\n",
       "    </tr>\n",
       "    <tr>\n",
       "      <th>4</th>\n",
       "      <td>5</td>\n",
       "      <td>Lewis and Clark and George opens with Salvator...</td>\n",
       "      <td>drama</td>\n",
       "    </tr>\n",
       "  </tbody>\n",
       "</table>\n",
       "</div>"
      ],
      "text/plain": [
       "   id                                               text overall_label\n",
       "0   1  The film tells the story of Elizabeth (Colbert...         drama\n",
       "1   2  The eventful life of Swami Vivekananda, his te...         drama\n",
       "2   3  Jagathalaprathapan is a prince who is to be pu...       romance\n",
       "3   4  Police inspector Holloway (Patrick Wymark) inv...        action\n",
       "4   5  Lewis and Clark and George opens with Salvator...         drama"
      ]
     },
     "execution_count": 97,
     "metadata": {},
     "output_type": "execute_result"
    }
   ],
   "source": [
    "def transform_dict_to_df(data_dict):\n",
    "    data = []\n",
    "    for key, value in data_dict.items():\n",
    "        data.append(\n",
    "            {\n",
    "                \"id\": key,\n",
    "                \"text\": value.get(\"text\", \"\"),\n",
    "                \"overall_label\": value.get(\"overall_label\", \"\"),\n",
    "            }\n",
    "        )\n",
    "    return pd.DataFrame(data)\n",
    "\n",
    "final_df_text = transform_dict_to_df(final_dict)\n",
    "final_df_text.head()\n"
   ]
  },
  {
   "cell_type": "code",
   "execution_count": 98,
   "metadata": {},
   "outputs": [
    {
     "data": {
      "text/html": [
       "<div>\n",
       "<style scoped>\n",
       "    .dataframe tbody tr th:only-of-type {\n",
       "        vertical-align: middle;\n",
       "    }\n",
       "\n",
       "    .dataframe tbody tr th {\n",
       "        vertical-align: top;\n",
       "    }\n",
       "\n",
       "    .dataframe thead th {\n",
       "        text-align: right;\n",
       "    }\n",
       "</style>\n",
       "<table border=\"1\" class=\"dataframe\">\n",
       "  <thead>\n",
       "    <tr style=\"text-align: right;\">\n",
       "      <th></th>\n",
       "      <th>id</th>\n",
       "      <th>text</th>\n",
       "      <th>label</th>\n",
       "    </tr>\n",
       "  </thead>\n",
       "  <tbody>\n",
       "    <tr>\n",
       "      <th>0</th>\n",
       "      <td>1</td>\n",
       "      <td>World War I</td>\n",
       "      <td>TIME</td>\n",
       "    </tr>\n",
       "    <tr>\n",
       "      <th>1</th>\n",
       "      <td>1</td>\n",
       "      <td>Elizabeth</td>\n",
       "      <td>NAME</td>\n",
       "    </tr>\n",
       "    <tr>\n",
       "      <th>2</th>\n",
       "      <td>1</td>\n",
       "      <td>John</td>\n",
       "      <td>NAME</td>\n",
       "    </tr>\n",
       "    <tr>\n",
       "      <th>3</th>\n",
       "      <td>1</td>\n",
       "      <td>John</td>\n",
       "      <td>NAME</td>\n",
       "    </tr>\n",
       "    <tr>\n",
       "      <th>4</th>\n",
       "      <td>1</td>\n",
       "      <td>Elizabeth</td>\n",
       "      <td>NAME</td>\n",
       "    </tr>\n",
       "    <tr>\n",
       "      <th>5</th>\n",
       "      <td>1</td>\n",
       "      <td>man</td>\n",
       "      <td>NAME</td>\n",
       "    </tr>\n",
       "    <tr>\n",
       "      <th>6</th>\n",
       "      <td>1</td>\n",
       "      <td>John</td>\n",
       "      <td>NAME</td>\n",
       "    </tr>\n",
       "    <tr>\n",
       "      <th>7</th>\n",
       "      <td>1</td>\n",
       "      <td>daughter</td>\n",
       "      <td>CHARACTER</td>\n",
       "    </tr>\n",
       "    <tr>\n",
       "      <th>8</th>\n",
       "      <td>1</td>\n",
       "      <td>son</td>\n",
       "      <td>CHARACTER</td>\n",
       "    </tr>\n",
       "    <tr>\n",
       "      <th>9</th>\n",
       "      <td>1</td>\n",
       "      <td>Elizabeth</td>\n",
       "      <td>NAME</td>\n",
       "    </tr>\n",
       "    <tr>\n",
       "      <th>10</th>\n",
       "      <td>1</td>\n",
       "      <td>Colbert</td>\n",
       "      <td>NAME</td>\n",
       "    </tr>\n",
       "    <tr>\n",
       "      <th>11</th>\n",
       "      <td>1</td>\n",
       "      <td>Welles</td>\n",
       "      <td>NAME</td>\n",
       "    </tr>\n",
       "    <tr>\n",
       "      <th>12</th>\n",
       "      <td>1</td>\n",
       "      <td>George Brent</td>\n",
       "      <td>NAME</td>\n",
       "    </tr>\n",
       "    <tr>\n",
       "      <th>13</th>\n",
       "      <td>1</td>\n",
       "      <td>Wood</td>\n",
       "      <td>NAME</td>\n",
       "    </tr>\n",
       "    <tr>\n",
       "      <th>14</th>\n",
       "      <td>2</td>\n",
       "      <td>Swami Vivekananda</td>\n",
       "      <td>NAME</td>\n",
       "    </tr>\n",
       "    <tr>\n",
       "      <th>15</th>\n",
       "      <td>2</td>\n",
       "      <td>Ramakrishna Paramahamsa</td>\n",
       "      <td>NAME</td>\n",
       "    </tr>\n",
       "    <tr>\n",
       "      <th>16</th>\n",
       "      <td>2</td>\n",
       "      <td>college days</td>\n",
       "      <td>TIME</td>\n",
       "    </tr>\n",
       "    <tr>\n",
       "      <th>17</th>\n",
       "      <td>2</td>\n",
       "      <td>Ramakrishna</td>\n",
       "      <td>NAME</td>\n",
       "    </tr>\n",
       "    <tr>\n",
       "      <th>18</th>\n",
       "      <td>2</td>\n",
       "      <td>Dakshineswar</td>\n",
       "      <td>PLACE</td>\n",
       "    </tr>\n",
       "    <tr>\n",
       "      <th>19</th>\n",
       "      <td>2</td>\n",
       "      <td>Ramakrishna</td>\n",
       "      <td>NAME</td>\n",
       "    </tr>\n",
       "  </tbody>\n",
       "</table>\n",
       "</div>"
      ],
      "text/plain": [
       "    id                     text      label\n",
       "0    1              World War I       TIME\n",
       "1    1                Elizabeth       NAME\n",
       "2    1                     John       NAME\n",
       "3    1                     John       NAME\n",
       "4    1                Elizabeth       NAME\n",
       "5    1                      man       NAME\n",
       "6    1                     John       NAME\n",
       "7    1                 daughter  CHARACTER\n",
       "8    1                      son  CHARACTER\n",
       "9    1                Elizabeth       NAME\n",
       "10   1                  Colbert       NAME\n",
       "11   1                   Welles       NAME\n",
       "12   1             George Brent       NAME\n",
       "13   1                     Wood       NAME\n",
       "14   2        Swami Vivekananda       NAME\n",
       "15   2  Ramakrishna Paramahamsa       NAME\n",
       "16   2             college days       TIME\n",
       "17   2              Ramakrishna       NAME\n",
       "18   2             Dakshineswar      PLACE\n",
       "19   2              Ramakrishna       NAME"
      ]
     },
     "execution_count": 98,
     "metadata": {},
     "output_type": "execute_result"
    }
   ],
   "source": [
    "\n",
    "def transform_dict_to_NER_df(data_dict):\n",
    "    data = []\n",
    "    for key, value in data_dict.items():\n",
    "        text = value.get(\"text\", \"\")\n",
    "        span_labels = value.get(\"span_labels\", {})\n",
    "        for span, (text, label) in span_labels.items():\n",
    "            data.append(\n",
    "                {\n",
    "                    \"id\": key,\n",
    "                    \"text\": text,\n",
    "                    \"label\": label,\n",
    "                }\n",
    "            )\n",
    "    return pd.DataFrame(data)\n",
    "\n",
    "final_df_NER = transform_dict_to_NER_df(final_dict)\n",
    "final_df_NER.head(20)\n"
   ]
  },
  {
   "cell_type": "code",
   "execution_count": 99,
   "metadata": {},
   "outputs": [],
   "source": [
    "# save the dataframes to csv\n",
    "final_df_text.to_csv(\"../data/final_df_text.csv\", index=False)\n",
    "final_df_NER.to_csv(\"../data/final_df_NER.csv\", index=False)"
   ]
  },
  {
   "cell_type": "code",
   "execution_count": 100,
   "metadata": {},
   "outputs": [
    {
     "data": {
      "text/html": [
       "<div>\n",
       "<style scoped>\n",
       "    .dataframe tbody tr th:only-of-type {\n",
       "        vertical-align: middle;\n",
       "    }\n",
       "\n",
       "    .dataframe tbody tr th {\n",
       "        vertical-align: top;\n",
       "    }\n",
       "\n",
       "    .dataframe thead th {\n",
       "        text-align: right;\n",
       "    }\n",
       "</style>\n",
       "<table border=\"1\" class=\"dataframe\">\n",
       "  <thead>\n",
       "    <tr style=\"text-align: right;\">\n",
       "      <th></th>\n",
       "      <th>id</th>\n",
       "      <th>text</th>\n",
       "      <th>label</th>\n",
       "    </tr>\n",
       "  </thead>\n",
       "  <tbody>\n",
       "    <tr>\n",
       "      <th>0</th>\n",
       "      <td>1</td>\n",
       "      <td>World War I</td>\n",
       "      <td>TIME</td>\n",
       "    </tr>\n",
       "    <tr>\n",
       "      <th>1</th>\n",
       "      <td>1</td>\n",
       "      <td>Elizabeth</td>\n",
       "      <td>NAME</td>\n",
       "    </tr>\n",
       "    <tr>\n",
       "      <th>2</th>\n",
       "      <td>1</td>\n",
       "      <td>John</td>\n",
       "      <td>NAME</td>\n",
       "    </tr>\n",
       "    <tr>\n",
       "      <th>3</th>\n",
       "      <td>1</td>\n",
       "      <td>John</td>\n",
       "      <td>NAME</td>\n",
       "    </tr>\n",
       "    <tr>\n",
       "      <th>4</th>\n",
       "      <td>1</td>\n",
       "      <td>Elizabeth</td>\n",
       "      <td>NAME</td>\n",
       "    </tr>\n",
       "  </tbody>\n",
       "</table>\n",
       "</div>"
      ],
      "text/plain": [
       "   id         text label\n",
       "0   1  World War I  TIME\n",
       "1   1    Elizabeth  NAME\n",
       "2   1         John  NAME\n",
       "3   1         John  NAME\n",
       "4   1    Elizabeth  NAME"
      ]
     },
     "execution_count": 100,
     "metadata": {},
     "output_type": "execute_result"
    }
   ],
   "source": [
    "final_df_NER = pd.read_csv(\"../data/final_df_NER.csv\")\n",
    "final_df_NER.head()"
   ]
  },
  {
   "cell_type": "code",
   "execution_count": 101,
   "metadata": {},
   "outputs": [
    {
     "data": {
      "text/html": [
       "<div>\n",
       "<style scoped>\n",
       "    .dataframe tbody tr th:only-of-type {\n",
       "        vertical-align: middle;\n",
       "    }\n",
       "\n",
       "    .dataframe tbody tr th {\n",
       "        vertical-align: top;\n",
       "    }\n",
       "\n",
       "    .dataframe thead th {\n",
       "        text-align: right;\n",
       "    }\n",
       "</style>\n",
       "<table border=\"1\" class=\"dataframe\">\n",
       "  <thead>\n",
       "    <tr style=\"text-align: right;\">\n",
       "      <th></th>\n",
       "      <th>id</th>\n",
       "      <th>text</th>\n",
       "      <th>overall_label</th>\n",
       "    </tr>\n",
       "  </thead>\n",
       "  <tbody>\n",
       "    <tr>\n",
       "      <th>0</th>\n",
       "      <td>1</td>\n",
       "      <td>The film tells the story of Elizabeth (Colbert...</td>\n",
       "      <td>drama</td>\n",
       "    </tr>\n",
       "    <tr>\n",
       "      <th>1</th>\n",
       "      <td>2</td>\n",
       "      <td>The eventful life of Swami Vivekananda, his te...</td>\n",
       "      <td>drama</td>\n",
       "    </tr>\n",
       "    <tr>\n",
       "      <th>2</th>\n",
       "      <td>3</td>\n",
       "      <td>Jagathalaprathapan is a prince who is to be pu...</td>\n",
       "      <td>romance</td>\n",
       "    </tr>\n",
       "    <tr>\n",
       "      <th>3</th>\n",
       "      <td>4</td>\n",
       "      <td>Police inspector Holloway (Patrick Wymark) inv...</td>\n",
       "      <td>action</td>\n",
       "    </tr>\n",
       "    <tr>\n",
       "      <th>4</th>\n",
       "      <td>5</td>\n",
       "      <td>Lewis and Clark and George opens with Salvator...</td>\n",
       "      <td>drama</td>\n",
       "    </tr>\n",
       "  </tbody>\n",
       "</table>\n",
       "</div>"
      ],
      "text/plain": [
       "   id                                               text overall_label\n",
       "0   1  The film tells the story of Elizabeth (Colbert...         drama\n",
       "1   2  The eventful life of Swami Vivekananda, his te...         drama\n",
       "2   3  Jagathalaprathapan is a prince who is to be pu...       romance\n",
       "3   4  Police inspector Holloway (Patrick Wymark) inv...        action\n",
       "4   5  Lewis and Clark and George opens with Salvator...         drama"
      ]
     },
     "execution_count": 101,
     "metadata": {},
     "output_type": "execute_result"
    }
   ],
   "source": [
    "final_df_text = pd.read_csv(\"../data/final_df_text.csv\")\n",
    "final_df_text.head()"
   ]
  },
  {
   "cell_type": "code",
   "execution_count": 102,
   "metadata": {},
   "outputs": [
    {
     "data": {
      "text/plain": [
       "'cc.en.300.bin'"
      ]
     },
     "execution_count": 102,
     "metadata": {},
     "output_type": "execute_result"
    }
   ],
   "source": [
    "import fasttext.util\n",
    "\n",
    "fasttext.util.download_model(\"en\", if_exists=\"ignore\")  # English\n"
   ]
  },
  {
   "cell_type": "markdown",
   "metadata": {},
   "source": [
    "# Osadzenia wyrażeń NER"
   ]
  },
  {
   "cell_type": "code",
   "execution_count": 103,
   "metadata": {},
   "outputs": [
    {
     "name": "stdout",
     "output_type": "stream",
     "text": [
      "Requirement already satisfied: pandas in d:\\sem2\\nlp\\nlp\\venv\\lib\\site-packages (2.2.3)\n",
      "Requirement already satisfied: torch in d:\\sem2\\nlp\\nlp\\venv\\lib\\site-packages (2.5.0)\n",
      "Requirement already satisfied: transformers in d:\\sem2\\nlp\\nlp\\venv\\lib\\site-packages (4.45.2)\n",
      "Requirement already satisfied: ipywidgets in d:\\sem2\\nlp\\nlp\\venv\\lib\\site-packages (8.1.5)\n",
      "Requirement already satisfied: numpy>=1.26.0 in d:\\sem2\\nlp\\nlp\\venv\\lib\\site-packages (from pandas) (1.26.4)\n",
      "Requirement already satisfied: python-dateutil>=2.8.2 in d:\\sem2\\nlp\\nlp\\venv\\lib\\site-packages (from pandas) (2.9.0.post0)\n",
      "Requirement already satisfied: pytz>=2020.1 in d:\\sem2\\nlp\\nlp\\venv\\lib\\site-packages (from pandas) (2022.7.1)\n",
      "Requirement already satisfied: tzdata>=2022.7 in d:\\sem2\\nlp\\nlp\\venv\\lib\\site-packages (from pandas) (2024.2)\n",
      "Requirement already satisfied: filelock in d:\\sem2\\nlp\\nlp\\venv\\lib\\site-packages (from torch) (3.16.1)\n",
      "Requirement already satisfied: typing-extensions>=4.8.0 in d:\\sem2\\nlp\\nlp\\venv\\lib\\site-packages (from torch) (4.12.2)\n",
      "Requirement already satisfied: networkx in d:\\sem2\\nlp\\nlp\\venv\\lib\\site-packages (from torch) (3.4.2)\n",
      "Requirement already satisfied: jinja2 in d:\\sem2\\nlp\\nlp\\venv\\lib\\site-packages (from torch) (3.1.4)\n",
      "Requirement already satisfied: fsspec in d:\\sem2\\nlp\\nlp\\venv\\lib\\site-packages (from torch) (2024.10.0)\n",
      "Requirement already satisfied: setuptools in d:\\sem2\\nlp\\nlp\\venv\\lib\\site-packages (from torch) (75.1.0)\n",
      "Requirement already satisfied: sympy==1.13.1 in d:\\sem2\\nlp\\nlp\\venv\\lib\\site-packages (from torch) (1.13.1)\n",
      "Requirement already satisfied: mpmath<1.4,>=1.1.0 in d:\\sem2\\nlp\\nlp\\venv\\lib\\site-packages (from sympy==1.13.1->torch) (1.3.0)\n",
      "Requirement already satisfied: huggingface-hub<1.0,>=0.23.2 in d:\\sem2\\nlp\\nlp\\venv\\lib\\site-packages (from transformers) (0.26.1)\n",
      "Requirement already satisfied: packaging>=20.0 in d:\\sem2\\nlp\\nlp\\venv\\lib\\site-packages (from transformers) (24.1)\n",
      "Requirement already satisfied: pyyaml>=5.1 in d:\\sem2\\nlp\\nlp\\venv\\lib\\site-packages (from transformers) (6.0.2)\n",
      "Requirement already satisfied: regex!=2019.12.17 in d:\\sem2\\nlp\\nlp\\venv\\lib\\site-packages (from transformers) (2024.9.11)\n",
      "Requirement already satisfied: requests in d:\\sem2\\nlp\\nlp\\venv\\lib\\site-packages (from transformers) (2.32.3)\n",
      "Requirement already satisfied: safetensors>=0.4.1 in d:\\sem2\\nlp\\nlp\\venv\\lib\\site-packages (from transformers) (0.4.5)\n",
      "Requirement already satisfied: tokenizers<0.21,>=0.20 in d:\\sem2\\nlp\\nlp\\venv\\lib\\site-packages (from transformers) (0.20.1)\n",
      "Requirement already satisfied: tqdm>=4.27 in d:\\sem2\\nlp\\nlp\\venv\\lib\\site-packages (from transformers) (4.66.5)\n",
      "Requirement already satisfied: comm>=0.1.3 in d:\\sem2\\nlp\\nlp\\venv\\lib\\site-packages (from ipywidgets) (0.2.2)\n",
      "Requirement already satisfied: ipython>=6.1.0 in d:\\sem2\\nlp\\nlp\\venv\\lib\\site-packages (from ipywidgets) (8.28.0)\n",
      "Requirement already satisfied: traitlets>=4.3.1 in d:\\sem2\\nlp\\nlp\\venv\\lib\\site-packages (from ipywidgets) (5.14.3)\n",
      "Requirement already satisfied: widgetsnbextension~=4.0.12 in d:\\sem2\\nlp\\nlp\\venv\\lib\\site-packages (from ipywidgets) (4.0.13)\n",
      "Requirement already satisfied: jupyterlab-widgets~=3.0.12 in d:\\sem2\\nlp\\nlp\\venv\\lib\\site-packages (from ipywidgets) (3.0.13)\n",
      "Requirement already satisfied: decorator in d:\\sem2\\nlp\\nlp\\venv\\lib\\site-packages (from ipython>=6.1.0->ipywidgets) (5.1.1)\n",
      "Requirement already satisfied: jedi>=0.16 in d:\\sem2\\nlp\\nlp\\venv\\lib\\site-packages (from ipython>=6.1.0->ipywidgets) (0.19.1)\n",
      "Requirement already satisfied: matplotlib-inline in d:\\sem2\\nlp\\nlp\\venv\\lib\\site-packages (from ipython>=6.1.0->ipywidgets) (0.1.7)\n",
      "Requirement already satisfied: prompt-toolkit<3.1.0,>=3.0.41 in d:\\sem2\\nlp\\nlp\\venv\\lib\\site-packages (from ipython>=6.1.0->ipywidgets) (3.0.48)\n",
      "Requirement already satisfied: pygments>=2.4.0 in d:\\sem2\\nlp\\nlp\\venv\\lib\\site-packages (from ipython>=6.1.0->ipywidgets) (2.18.0)\n",
      "Requirement already satisfied: stack-data in d:\\sem2\\nlp\\nlp\\venv\\lib\\site-packages (from ipython>=6.1.0->ipywidgets) (0.6.3)\n",
      "Requirement already satisfied: colorama in d:\\sem2\\nlp\\nlp\\venv\\lib\\site-packages (from ipython>=6.1.0->ipywidgets) (0.4.6)\n",
      "Requirement already satisfied: six>=1.5 in d:\\sem2\\nlp\\nlp\\venv\\lib\\site-packages (from python-dateutil>=2.8.2->pandas) (1.16.0)\n",
      "Requirement already satisfied: MarkupSafe>=2.0 in d:\\sem2\\nlp\\nlp\\venv\\lib\\site-packages (from jinja2->torch) (3.0.2)\n",
      "Requirement already satisfied: charset-normalizer<4,>=2 in d:\\sem2\\nlp\\nlp\\venv\\lib\\site-packages (from requests->transformers) (3.4.0)\n",
      "Requirement already satisfied: idna<4,>=2.5 in d:\\sem2\\nlp\\nlp\\venv\\lib\\site-packages (from requests->transformers) (3.10)\n",
      "Requirement already satisfied: urllib3<3,>=1.21.1 in d:\\sem2\\nlp\\nlp\\venv\\lib\\site-packages (from requests->transformers) (1.26.20)\n",
      "Requirement already satisfied: certifi>=2017.4.17 in d:\\sem2\\nlp\\nlp\\venv\\lib\\site-packages (from requests->transformers) (2024.8.30)\n",
      "Requirement already satisfied: parso<0.9.0,>=0.8.3 in d:\\sem2\\nlp\\nlp\\venv\\lib\\site-packages (from jedi>=0.16->ipython>=6.1.0->ipywidgets) (0.8.4)\n",
      "Requirement already satisfied: wcwidth in d:\\sem2\\nlp\\nlp\\venv\\lib\\site-packages (from prompt-toolkit<3.1.0,>=3.0.41->ipython>=6.1.0->ipywidgets) (0.2.13)\n",
      "Requirement already satisfied: executing>=1.2.0 in d:\\sem2\\nlp\\nlp\\venv\\lib\\site-packages (from stack-data->ipython>=6.1.0->ipywidgets) (2.1.0)\n",
      "Requirement already satisfied: asttokens>=2.1.0 in d:\\sem2\\nlp\\nlp\\venv\\lib\\site-packages (from stack-data->ipython>=6.1.0->ipywidgets) (2.4.1)\n",
      "Requirement already satisfied: pure-eval in d:\\sem2\\nlp\\nlp\\venv\\lib\\site-packages (from stack-data->ipython>=6.1.0->ipywidgets) (0.2.3)\n"
     ]
    },
    {
     "name": "stderr",
     "output_type": "stream",
     "text": [
      "\n",
      "[notice] A new release of pip is available: 23.2.1 -> 24.2\n",
      "[notice] To update, run: python.exe -m pip install --upgrade pip\n"
     ]
    }
   ],
   "source": [
    "!pip install pandas torch transformers ipywidgets "
   ]
  },
  {
   "cell_type": "code",
   "execution_count": 164,
   "metadata": {},
   "outputs": [],
   "source": [
    "from sklearn.metrics.pairwise import cosine_similarity\n",
    "from sklearn.metrics.pairwise import euclidean_distances\n",
    "def get_k_nearest_neighbors(embeddings, words, k=3, metric=\"cosine\"):\n",
    "\n",
    "    if metric == \"cosine\":\n",
    "        similarity_matrix = cosine_similarity(embeddings)\n",
    "    elif metric == \"euclidean\":\n",
    "        similarity_matrix = euclidean_distances(embeddings) #-np.linalg.norm(embeddings[:, np.newaxis] - embeddings, axis=2)\n",
    "    else:\n",
    "        raise ValueError(f\"Unsupported metric: {metric}\")\n",
    "    \n",
    "    pairs = []\n",
    "    for i in range(len(embeddings)):\n",
    "        for j in range(i + 1, len(embeddings)):\n",
    "            similarity = similarity_matrix[i][j]\n",
    "            pairs.append(((words[i], words[j]), similarity))\n",
    "\n",
    "    pairs.sort(key=lambda x: x[1], reverse=(metric == \"cosine\"))\n",
    "\n",
    "    return pairs[:k]\n"
   ]
  },
  {
   "cell_type": "markdown",
   "metadata": {},
   "source": [
    "## Bert-small"
   ]
  },
  {
   "cell_type": "code",
   "execution_count": 104,
   "metadata": {},
   "outputs": [],
   "source": [
    "import torch\n",
    "from transformers import AutoModel, AutoTokenizer\n",
    "\n",
    "# Load pre-trained model and tokenizer\n",
    "model = AutoModel.from_pretrained(\"prajjwal1/bert-small\")\n",
    "tokenizer = AutoTokenizer.from_pretrained(\"prajjwal1/bert-small\")\n",
    "\n",
    "# Device selection\n",
    "if torch.cuda.is_available():\n",
    "    device = torch.device(\"cuda\")  # Use CUDA if available\n",
    "elif torch.backends.mps.is_available():\n",
    "    device = torch.device(\"mps\")  # Use MPS on Apple Silicon\n",
    "else:\n",
    "    device = torch.device(\"cpu\")  # Fallback to CPU\n",
    "\n",
    "# Move model to the selected device\n",
    "model.to(device)\n",
    "\n",
    "\n",
    "def get_embeddings(text):\n",
    "    # Tokenize input text and move inputs to the selected device\n",
    "    inputs = tokenizer(\n",
    "        text, return_tensors=\"pt\", padding=True, truncation=True, max_length=512\n",
    "    ).to(device)\n",
    "\n",
    "    # Get model outputs\n",
    "    with torch.no_grad():\n",
    "        outputs = model(**inputs)\n",
    "\n",
    "    # Extract the last hidden states\n",
    "    last_hidden_states = outputs.last_hidden_state\n",
    "\n",
    "    # Return mean of last hidden states (or use [CLS] token)\n",
    "    return (\n",
    "        last_hidden_states.mean(dim=1).squeeze().cpu().numpy()\n",
    "    )  # Move back to CPU for numpy conversion\n"
   ]
  },
  {
   "cell_type": "markdown",
   "metadata": {},
   "source": [
    "### t-SNE"
   ]
  },
  {
   "cell_type": "code",
   "execution_count": 105,
   "metadata": {},
   "outputs": [],
   "source": [
    "bert_df = final_df_NER.copy()"
   ]
  },
  {
   "cell_type": "code",
   "execution_count": 106,
   "metadata": {},
   "outputs": [],
   "source": [
    "bert_df['embedding'] = bert_df['text'].apply(get_embeddings)\n",
    "bert_embeddings = np.array(bert_df['embedding'].tolist())"
   ]
  },
  {
   "cell_type": "code",
   "execution_count": 107,
   "metadata": {},
   "outputs": [],
   "source": [
    "tsne = TSNE(n_components=2, random_state=42, perplexity=30, max_iter=1000)\n",
    "X_tsne = tsne.fit_transform(bert_embeddings)\n",
    "\n",
    "bert_df[\"x-tsne\"] = X_tsne[:, 0]\n",
    "bert_df[\"y-tsne\"] = X_tsne[:, 1]"
   ]
  },
  {
   "cell_type": "code",
   "execution_count": 108,
   "metadata": {},
   "outputs": [
    {
     "data": {
      "application/vnd.plotly.v1+json": {
       "config": {
        "plotlyServerURL": "https://plot.ly"
       },
       "data": [
        {
         "customdata": [
          [
           "World War I",
           "TIME"
          ],
          [
           "college days",
           "TIME"
          ],
          [
           "childhood days",
           "TIME"
          ],
          [
           "1981",
           "TIME"
          ],
          [
           "1962",
           "TIME"
          ],
          [
           "New Year",
           "TIME"
          ],
          [
           "childhood",
           "TIME"
          ],
          [
           "childhood",
           "TIME"
          ],
          [
           "World War II",
           "TIME"
          ],
          [
           "3000 years ago",
           "TIME"
          ],
          [
           "island",
           "TIME"
          ],
          [
           "modern times",
           "TIME"
          ],
          [
           "1990s",
           "TIME"
          ],
          [
           "next morning",
           "TIME"
          ],
          [
           "1960s",
           "TIME"
          ],
          [
           "20 years",
           "TIME"
          ],
          [
           "1959",
           "TIME"
          ],
          [
           "1960s",
           "TIME"
          ],
          [
           "1983",
           "TIME"
          ],
          [
           "three decades earlier",
           "TIME"
          ],
          [
           "Korean War",
           "TIME"
          ],
          [
           "during the war",
           "TIME"
          ],
          [
           "post–World War II",
           "TIME"
          ],
          [
           "10 years",
           "TIME"
          ],
          [
           "1918",
           "TIME"
          ],
          [
           "1860s",
           "TIME"
          ],
          [
           "1970s",
           "TIME"
          ],
          [
           "World War I",
           "TIME"
          ],
          [
           "2002",
           "TIME"
          ],
          [
           "2002",
           "TIME"
          ],
          [
           "early 1970s",
           "TIME"
          ],
          [
           "day of the competition",
           "TIME"
          ],
          [
           "Battle of Gonzales",
           "TIME"
          ],
          [
           "Battle of the Alamo",
           "TIME"
          ],
          [
           "19th century",
           "TIME"
          ],
          [
           "2011",
           "TIME"
          ],
          [
           "2070",
           "TIME"
          ],
          [
           "Few years later",
           "TIME"
          ],
          [
           "1970s",
           "TIME"
          ],
          [
           "summer",
           "TIME"
          ],
          [
           "Christmas",
           "TIME"
          ],
          [
           "Christmas",
           "TIME"
          ],
          [
           "Christmas",
           "TIME"
          ],
          [
           "1964",
           "TIME"
          ],
          [
           "Korean War",
           "TIME"
          ],
          [
           "autumn of 1950",
           "TIME"
          ],
          [
           "Christmas week",
           "TIME"
          ],
          [
           "1972",
           "TIME"
          ],
          [
           "1938",
           "TIME"
          ],
          [
           "Two days before Christmas",
           "TIME"
          ],
          [
           "1930s",
           "TIME"
          ],
          [
           "1999",
           "TIME"
          ],
          [
           "3rd century BC",
           "TIME"
          ],
          [
           "Sino-Indian War",
           "TIME"
          ],
          [
           "holidays",
           "TIME"
          ],
          [
           "Korean War",
           "TIME"
          ],
          [
           "1994",
           "TIME"
          ],
          [
           "5th century BC",
           "TIME"
          ]
         ],
         "hovertemplate": "label=%{customdata[1]}<br>x-tsne=%{x}<br>y-tsne=%{y}<br>text=%{customdata[0]}<extra></extra>",
         "legendgroup": "TIME",
         "marker": {
          "color": "#636efa",
          "symbol": "circle"
         },
         "mode": "markers",
         "name": "TIME",
         "showlegend": true,
         "type": "scattergl",
         "x": [
          22.955005645751953,
          -24.38324546813965,
          -24.736003875732422,
          -54.7058219909668,
          -53.00185012817383,
          14.876588821411133,
          -52.61509704589844,
          -52.61509704589844,
          23.43219757080078,
          7.715234756469727,
          -2.773294687271118,
          17.11383819580078,
          -51.13671875,
          4.964048862457275,
          -50.3140754699707,
          -26.188770294189453,
          -53.342430114746094,
          -50.3140754699707,
          -54.64631652832031,
          7.017362117767334,
          24.497539520263672,
          24.424476623535156,
          23.07767677307129,
          -26.19579315185547,
          -50.00624084472656,
          -49.0344352722168,
          -51.156028747558594,
          22.955005645751953,
          -56.46174240112305,
          -56.46174240112305,
          -50.04454803466797,
          -30.222604751586914,
          22.88676643371582,
          22.85494041442871,
          -49.42818832397461,
          -56.535648345947266,
          42.30581283569336,
          6.727868556976318,
          -51.156028747558594,
          -51.5457649230957,
          -52.17247009277344,
          -52.17247009277344,
          -52.17247009277344,
          -52.837955474853516,
          24.497539520263672,
          -52.08601379394531,
          -52.22136688232422,
          -51.6086311340332,
          -50.69390869140625,
          5.626286029815674,
          -49.79391098022461,
          -55.726341247558594,
          41.44943618774414,
          25.621402740478516,
          -51.81125259399414,
          24.497539520263672,
          -55.21417236328125,
          41.50834274291992
         ],
         "xaxis": "x",
         "y": [
          -34.24331283569336,
          2.7769134044647217,
          3.1261093616485596,
          24.550052642822266,
          22.429319381713867,
          -22.130468368530273,
          -5.447304725646973,
          -5.447304725646973,
          -33.435646057128906,
          42.334449768066406,
          -29.777334213256836,
          -36.318077087402344,
          25.652063369750977,
          42.28510665893555,
          24.635570526123047,
          10.149038314819336,
          22.949569702148438,
          24.635570526123047,
          24.5345458984375,
          42.30741500854492,
          -35.765281677246094,
          -34.06911849975586,
          -33.09303283691406,
          10.137898445129395,
          21.533199310302734,
          24.753772735595703,
          24.8064022064209,
          -34.24331283569336,
          21.776491165161133,
          21.776491165161133,
          26.360761642456055,
          -1.276508092880249,
          -26.359569549560547,
          -26.34721565246582,
          27.0676212310791,
          23.21160125732422,
          -29.215662002563477,
          42.296958923339844,
          24.8064022064209,
          1.9798649549484253,
          7.184127330780029,
          7.184127330780029,
          7.184127330780029,
          22.286930084228516,
          -35.765281677246094,
          18.782676696777344,
          8.349564552307129,
          22.932504653930664,
          21.829822540283203,
          42.278133392333984,
          23.69242286682129,
          22.060209274291992,
          -29.690914154052734,
          -35.577571868896484,
          6.060808181762695,
          -35.765281677246094,
          21.272214889526367,
          -29.6591739654541
         ],
         "yaxis": "y"
        },
        {
         "customdata": [
          [
           "Elizabeth",
           "NAME"
          ],
          [
           "John",
           "NAME"
          ],
          [
           "John",
           "NAME"
          ],
          [
           "Elizabeth",
           "NAME"
          ],
          [
           "man",
           "NAME"
          ],
          [
           "John",
           "NAME"
          ],
          [
           "Elizabeth",
           "NAME"
          ],
          [
           "Colbert",
           "NAME"
          ],
          [
           "Welles",
           "NAME"
          ],
          [
           "George Brent",
           "NAME"
          ],
          [
           "Wood",
           "NAME"
          ],
          [
           "Swami Vivekananda",
           "NAME"
          ],
          [
           "Ramakrishna Paramahamsa",
           "NAME"
          ],
          [
           "Ramakrishna",
           "NAME"
          ],
          [
           "Ramakrishna",
           "NAME"
          ],
          [
           "Jagathalaprathapan",
           "NAME"
          ],
          [
           "Nagakumari",
           "NAME"
          ],
          [
           "Indrani",
           "NAME"
          ],
          [
           "Agnikumari",
           "NAME"
          ],
          [
           "Varunakumari",
           "NAME"
          ],
          [
           "Indirakumari",
           "NAME"
          ],
          [
           "Jagathalaprathapan",
           "NAME"
          ],
          [
           "Nagakumari",
           "NAME"
          ],
          [
           "Agnikumari",
           "NAME"
          ],
          [
           "Varunakumari",
           "NAME"
          ],
          [
           "Holloway",
           "NAME"
          ],
          [
           "Mrs. Von Sturm",
           "NAME"
          ],
          [
           "Patrick Wymark",
           "NAME"
          ],
          [
           "Margaret Johnston",
           "NAME"
          ],
          [
           "Lewis",
           "NAME"
          ],
          [
           "Clark",
           "NAME"
          ],
          [
           "George",
           "NAME"
          ],
          [
           "Salvator Xuereb",
           "NAME"
          ],
          [
           "Dan Gunther",
           "NAME"
          ],
          [
           "Clark",
           "NAME"
          ],
          [
           "Rose McGowan",
           "NAME"
          ],
          [
           "Lewis",
           "NAME"
          ],
          [
           "George",
           "NAME"
          ],
          [
           "Michael Rennie",
           "NAME"
          ],
          [
           "Mikki Brent",
           "NAME"
          ],
          [
           "Rennie",
           "NAME"
          ],
          [
           "Rennie",
           "NAME"
          ],
          [
           "Krista Nielsen",
           "NAME"
          ],
          [
           "Sonja Henie",
           "NAME"
          ],
          [
           "Cesar Romero",
           "NAME"
          ],
          [
           "George",
           "NAME"
          ],
          [
           "Marcelle La Verne",
           "NAME"
          ],
          [
           "Marcelle",
           "NAME"
          ],
          [
           "Krista",
           "NAME"
          ],
          [
           "Krista",
           "NAME"
          ],
          [
           "Larry Taylor",
           "NAME"
          ],
          [
           "George Cabot Jr.",
           "NAME"
          ],
          [
           "Kang Soo-ha",
           "NAME"
          ],
          [
           "Yun Hong-yeon",
           "NAME"
          ],
          [
           "Soo-ha",
           "NAME"
          ],
          [
           "Yang Eun-hee",
           "NAME"
          ],
          [
           "Neil John Samuel",
           "NAME"
          ],
          [
           "Neel",
           "NAME"
          ],
          [
           "Neil",
           "NAME"
          ],
          [
           "Neil",
           "NAME"
          ],
          [
           "Gavin Gore",
           "NAME"
          ],
          [
           "Jeremy Sumpter",
           "NAME"
          ],
          [
           "Sophie Suchowski",
           "NAME"
          ],
          [
           "Addie Land",
           "NAME"
          ],
          [
           "Hobie Plumber",
           "NAME"
          ],
          [
           "Hubbel Palmer",
           "NAME"
          ],
          [
           "Maynard Keyes",
           "NAME"
          ],
          [
           "Rob Pinkston",
           "NAME"
          ],
          [
           "Zerk Wilder",
           "NAME"
          ],
          [
           "Justin Long",
           "NAME"
          ],
          [
           "Shirts Joachim",
           "NAME"
          ],
          [
           "Joey Kern",
           "NAME"
          ],
          [
           "Carl Weathers",
           "NAME"
          ],
          [
           "Zerk",
           "NAME"
          ],
          [
           "Vani Viswanath",
           "NAME"
          ],
          [
           "Sukanya",
           "NAME"
          ],
          [
           "Babuji",
           "NAME"
          ],
          [
           "Babuji",
           "NAME"
          ],
          [
           "Sukanya",
           "NAME"
          ],
          [
           "Babuji",
           "NAME"
          ],
          [
           "Babuji",
           "NAME"
          ],
          [
           "Babuji",
           "NAME"
          ],
          [
           "Babuji",
           "NAME"
          ],
          [
           "Oliver",
           "NAME"
          ],
          [
           "Oliver",
           "NAME"
          ],
          [
           "Temujin",
           "NAME"
          ],
          [
           "Genghis Khan",
           "NAME"
          ],
          [
           "Bortai",
           "NAME"
          ],
          [
           "Bortai",
           "NAME"
          ],
          [
           "Temujin",
           "NAME"
          ],
          [
           "Temujin",
           "NAME"
          ],
          [
           "Bortai",
           "NAME"
          ],
          [
           "Temujin",
           "NAME"
          ],
          [
           "Dirtwater Fox",
           "NAME"
          ],
          [
           "Duchess",
           "NAME"
          ],
          [
           "Duchess",
           "NAME"
          ],
          [
           "Dirtwater Fox",
           "NAME"
          ],
          [
           "Mordecai C. Jones",
           "NAME"
          ],
          [
           "Scott",
           "NAME"
          ],
          [
           "Sarrazin",
           "NAME"
          ],
          [
           "Curley",
           "NAME"
          ],
          [
           "Smith",
           "NAME"
          ],
          [
           "Ethan Frome",
           "NAME"
          ],
          [
           "Smith",
           "NAME"
          ],
          [
           "Ethan",
           "NAME"
          ],
          [
           "Zeena Pierce",
           "NAME"
          ],
          [
           "Zeena",
           "NAME"
          ],
          [
           "Ethan",
           "NAME"
          ],
          [
           "Mattie Silver",
           "NAME"
          ],
          [
           "Carmen",
           "NAME"
          ],
          [
           "Rita Hayworth",
           "NAME"
          ],
          [
           "Glenn Ford",
           "NAME"
          ],
          [
           "Victor Jory",
           "NAME"
          ],
          [
           "Flesh",
           "NAME"
          ],
          [
           "Vince Murdocco",
           "NAME"
          ],
          [
           "Evil Presence",
           "NAME"
          ],
          [
           "William Dennis Hunt",
           "NAME"
          ],
          [
           "Evil Presence",
           "NAME"
          ],
          [
           "Queen Frigid",
           "NAME"
          ],
          [
           "(Maureen Webb",
           "NAME"
          ],
          [
           "Flesh",
           "NAME"
          ],
          [
           "Flesh",
           "NAME"
          ],
          [
           "Al Walker",
           "NAME"
          ],
          [
           "Walker",
           "NAME"
          ],
          [
           "Shellshocked",
           "NAME"
          ],
          [
           "Mike Merriworth",
           "NAME"
          ],
          [
           "Kieron Moore",
           "NAME"
          ],
          [
           "William McInnes",
           "NAME"
          ],
          [
           "Monic Hendrickx",
           "NAME"
          ],
          [
           "RuoLan",
           "NAME"
          ],
          [
           "RuMei",
           "NAME"
          ],
          [
           "Ruo Lan",
           "NAME"
          ],
          [
           "Ah Liang",
           "NAME"
          ],
          [
           "Haruma Miura",
           "NAME"
          ],
          [
           "Ryo",
           "NAME"
          ],
          [
           "Lucky Finder",
           "NAME"
          ],
          [
           "Wilhelm Frick",
           "NAME"
          ],
          [
           "Hank Wilson",
           "NAME"
          ],
          [
           "Byron Levin",
           "NAME"
          ],
          [
           "Catherine Stockheinz",
           "NAME"
          ],
          [
           "Frederic Stockheinz",
           "NAME"
          ],
          [
           "Byron",
           "NAME"
          ],
          [
           "Lorenzo Prado",
           "NAME"
          ],
          [
           "Catherine",
           "NAME"
          ],
          [
           "Byron",
           "NAME"
          ],
          [
           "Sam",
           "NAME"
          ],
          [
           "Andy Lau",
           "NAME"
          ],
          [
           "Milan",
           "NAME"
          ],
          [
           "Shu Qi",
           "NAME"
          ],
          [
           "Milan",
           "NAME"
          ],
          [
           "Queen Hedrian",
           "NAME"
          ],
          [
           "Denzidog IC",
           "NAME"
          ],
          [
           "Frame Johnson",
           "NAME"
          ],
          [
           "Ronald Reagan",
           "NAME"
          ],
          [
           "Jeannie",
           "NAME"
          ],
          [
           "Dorothy Malone",
           "NAME"
          ],
          [
           "Bindu",
           "NAME"
          ],
          [
           "Raghu",
           "NAME"
          ],
          [
           "Prasanna",
           "NAME"
          ],
          [
           "Meera",
           "NAME"
          ],
          [
           "Lekha Washington",
           "NAME"
          ],
          [
           "Raghu",
           "NAME"
          ],
          [
           "Saadat Hasan Manto",
           "NAME"
          ],
          [
           "Kisan Kanya",
           "NAME"
          ],
          [
           "Ghani",
           "NAME"
          ],
          [
           "Ghani",
           "NAME"
          ],
          [
           "Ram",
           "NAME"
          ],
          [
           "Ram",
           "NAME"
          ],
          [
           "Nisar",
           "NAME"
          ],
          [
           "Lon Chaney Jr.",
           "NAME"
          ],
          [
           "Nikita Kolesnikov",
           "NAME"
          ],
          [
           "Danila Kozlovsky",
           "NAME"
          ],
          [
           "Afina Gordeeva",
           "NAME"
          ],
          [
           "Elizaveta Boyarskaya",
           "NAME"
          ],
          [
           "Nikita",
           "NAME"
          ],
          [
           "Curtis",
           "NAME"
          ],
          [
           "Conrad Phillips",
           "NAME"
          ],
          [
           "Carol",
           "NAME"
          ],
          [
           "Jill Ireland",
           "NAME"
          ],
          [
           "Smith",
           "NAME"
          ],
          [
           "William Hartnell",
           "NAME"
          ],
          [
           "Smith",
           "NAME"
          ],
          [
           "Carol",
           "NAME"
          ],
          [
           "Curtis",
           "NAME"
          ],
          [
           "Claire Jabrowski",
           "NAME"
          ],
          [
           "Todd",
           "NAME"
          ],
          [
           "Noel Benedict",
           "NAME"
          ],
          [
           "Curry",
           "NAME"
          ],
          [
           "Pepper",
           "NAME"
          ],
          [
           "Joey Law",
           "NAME"
          ],
          [
           "Curry",
           "NAME"
          ],
          [
           "Pepper",
           "NAME"
          ],
          [
           "Curry",
           "NAME"
          ],
          [
           "Joey",
           "NAME"
          ],
          [
           "Abalone",
           "NAME"
          ],
          [
           "Pepper",
           "NAME"
          ],
          [
           "Joseph",
           "NAME"
          ],
          [
           "Joseph",
           "NAME"
          ],
          [
           "Joseph",
           "NAME"
          ],
          [
           "Naidu",
           "NAME"
          ],
          [
           "Joseph",
           "NAME"
          ],
          [
           "Bernard Boursicot",
           "NAME"
          ],
          [
           "Shi Pei Pu",
           "NAME"
          ],
          [
           "René Gallimard",
           "NAME"
          ],
          [
           "Jeremy Irons",
           "NAME"
          ],
          [
           "Song Liling",
           "NAME"
          ],
          [
           "John Lone",
           "NAME"
          ],
          [
           "Gallimard",
           "NAME"
          ],
          [
           "Bok-nyeo",
           "NAME"
          ],
          [
           "Bok-nyeo",
           "NAME"
          ],
          [
           "Dr. Markoff",
           "NAME"
          ],
          [
           "J. Carrol Naish",
           "NAME"
          ],
          [
           "Markoff",
           "NAME"
          ],
          [
           "Lawrence",
           "NAME"
          ],
          [
           "Ralph Morgan",
           "NAME"
          ],
          [
           "Markoff",
           "NAME"
          ],
          [
           "Lawrence",
           "NAME"
          ],
          [
           "Patricia",
           "NAME"
          ],
          [
           "Wanda McKay",
           "NAME"
          ],
          [
           "Paige Fleming",
           "NAME"
          ],
          [
           "Paige",
           "NAME"
          ],
          [
           "Ross",
           "NAME"
          ],
          [
           "Nicholas Campbell",
           "NAME"
          ],
          [
           "Trevor",
           "NAME"
          ],
          [
           "Philip DeWilde",
           "NAME"
          ],
          [
           "Paige",
           "NAME"
          ],
          [
           "Fung",
           "NAME"
          ],
          [
           "Balu",
           "NAME"
          ],
          [
           "Vijayakumar",
           "NAME"
          ],
          [
           "Padma",
           "NAME"
          ],
          [
           "Manjula Vijayakumar",
           "NAME"
          ],
          [
           "Manju",
           "NAME"
          ],
          [
           "Zeenat",
           "NAME"
          ],
          [
           "Manju",
           "NAME"
          ],
          [
           "Balu",
           "NAME"
          ],
          [
           "Shiva",
           "NAME"
          ],
          [
           "Sivakumar",
           "NAME"
          ],
          [
           "Shiva",
           "NAME"
          ],
          [
           "Sukanya",
           "NAME"
          ],
          [
           "Jeeva",
           "NAME"
          ],
          [
           "Aminia",
           "NAME"
          ],
          [
           "Lubna Abdel Aziz",
           "NAME"
          ],
          [
           "Hamiltons",
           "NAME"
          ],
          [
           "Thompsons",
           "NAME"
          ],
          [
           "Stuarts",
           "NAME"
          ],
          [
           "Hamiltons",
           "NAME"
          ],
          [
           "Stuarts",
           "NAME"
          ],
          [
           "Nikki Singh",
           "NAME"
          ],
          [
           "Akshay Oberoi",
           "NAME"
          ],
          [
           "Kehri Singh",
           "NAME"
          ],
          [
           "Pankaj Tripathi",
           "NAME"
          ],
          [
           "Preet",
           "NAME"
          ],
          [
           "Ragini Khanna",
           "NAME"
          ],
          [
           "Kehri",
           "NAME"
          ],
          [
           "Kehri",
           "NAME"
          ],
          [
           "Nikki",
           "NAME"
          ],
          [
           "Preet",
           "NAME"
          ],
          [
           "Im Kwon-taek",
           "NAME"
          ],
          [
           "Hwa-yeong",
           "NAME"
          ],
          [
           "Harvey Keitel",
           "NAME"
          ],
          [
           "Viggo Mortensen",
           "NAME"
          ],
          [
           "Cyril",
           "NAME"
          ],
          [
           "Merlin Mound",
           "NAME"
          ],
          [
           "Merlin",
           "NAME"
          ],
          [
           "Rahul",
           "NAME"
          ],
          [
           "Ramankanth",
           "NAME"
          ],
          [
           "Monisha",
           "NAME"
          ],
          [
           "Mumtaj",
           "NAME"
          ],
          [
           "Scott",
           "NAME"
          ],
          [
           "Ryan Phillippe",
           "NAME"
          ],
          [
           "Katherine",
           "NAME"
          ],
          [
           "Paquin",
           "NAME"
          ],
          [
           "Irène Bordoni",
           "NAME"
          ],
          [
           "Vivienne Rolland",
           "NAME"
          ],
          [
           "Andrew Sabbot",
           "NAME"
          ],
          [
           "Jason Robards Sr.",
           "NAME"
          ],
          [
           "Cora",
           "NAME"
          ],
          [
           "Louise Closser Hale",
           "NAME"
          ],
          [
           "Jack Buchanan",
           "NAME"
          ],
          [
           "Guy Pennell",
           "NAME"
          ],
          [
           "Vivienne",
           "NAME"
          ],
          [
           "Neelima",
           "NAME"
          ],
          [
           "Malavika Wales",
           "NAME"
          ],
          [
           "Aisha",
           "NAME"
          ],
          [
           "Saranya Mohan",
           "NAME"
          ],
          [
           "Karthik",
           "NAME"
          ],
          [
           "Rejith Menon",
           "NAME"
          ],
          [
           "Kunjumon",
           "NAME"
          ],
          [
           "Roshan Basheer",
           "NAME"
          ],
          [
           "Neelima",
           "NAME"
          ],
          [
           "Aisha",
           "NAME"
          ],
          [
           "Cosmo Reif",
           "NAME"
          ],
          [
           "Steve",
           "NAME"
          ],
          [
           "Jasmine",
           "NAME"
          ],
          [
           "Edgar Mills",
           "NAME"
          ],
          [
           "Stella",
           "NAME"
          ],
          [
           "Clare",
           "NAME"
          ],
          [
           "Edgar",
           "NAME"
          ],
          [
           "Clare",
           "NAME"
          ],
          [
           "Molly Gilbert",
           "NAME"
          ],
          [
           "Bill McCaffery",
           "NAME"
          ],
          [
           "Molly",
           "NAME"
          ],
          [
           "Bill",
           "NAME"
          ],
          [
           "Pop McCaffery",
           "NAME"
          ],
          [
           "Bill",
           "NAME"
          ],
          [
           "Molly",
           "NAME"
          ],
          [
           "Lupino",
           "NAME"
          ],
          [
           "Ryan",
           "NAME"
          ],
          [
           "Ryan",
           "NAME"
          ],
          [
           "Marianne",
           "NAME"
          ],
          [
           "Greta Garbo",
           "NAME"
          ],
          [
           "Lucien",
           "NAME"
          ],
          [
           "Lars Hanson",
           "NAME"
          ],
          [
           "Marianne",
           "NAME"
          ],
          [
           "Henry Legrand",
           "NAME"
          ],
          [
           "Lowell Sherman",
           "NAME"
          ],
          [
           "Shane O'Shea",
           "NAME"
          ],
          [
           "Anita",
           "NAME"
          ],
          [
           "Greg Randazzo",
           "NAME"
          ],
          [
           "Shane",
           "NAME"
          ],
          [
           "Angela Chiaromonte",
           "NAME"
          ],
          [
           "Helen Hayes",
           "NAME"
          ],
          [
           "Lewis Stone",
           "NAME"
          ],
          [
           "Giovanni Severi",
           "NAME"
          ],
          [
           "Clark Gable",
           "NAME"
          ],
          [
           "Hayes",
           "NAME"
          ],
          [
           "Angela",
           "NAME"
          ],
          [
           "Chatur Singh",
           "NAME"
          ],
          [
           "Sanjay Dutt",
           "NAME"
          ],
          [
           "Satish Kaushik",
           "NAME"
          ],
          [
           "Sanjai Mishra",
           "NAME"
          ],
          [
           "Anupam Kher",
           "NAME"
          ],
          [
           "Ameesha Patel",
           "NAME"
          ],
          [
           "Rolex",
           "NAME"
          ],
          [
           "Prakash Raj",
           "NAME"
          ],
          [
           "Ramki",
           "NAME"
          ],
          [
           "Jai Kumar",
           "NAME"
          ],
          [
           "Jai Kumar",
           "NAME"
          ],
          [
           "Raji",
           "NAME"
          ],
          [
           "Sanghavi",
           "NAME"
          ],
          [
           "Rolex",
           "NAME"
          ],
          [
           "Jai Kumar",
           "NAME"
          ],
          [
           "Krishna",
           "NAME"
          ],
          [
           "Krishna",
           "NAME"
          ],
          [
           "Krishna",
           "NAME"
          ],
          [
           "Krishna",
           "NAME"
          ],
          [
           "Daniel Pearl",
           "NAME"
          ],
          [
           "Pearl",
           "NAME"
          ],
          [
           "Pearl",
           "NAME"
          ],
          [
           "Hercules",
           "NAME"
          ],
          [
           "Lou Ferrigno",
           "NAME"
          ],
          [
           "Minos",
           "NAME"
          ],
          [
           "William Berger",
           "NAME"
          ],
          [
           "Hercules",
           "NAME"
          ],
          [
           "Abby Dalton",
           "NAME"
          ],
          [
           "Dick Miller",
           "NAME"
          ],
          [
           "Christopher",
           "NAME"
          ],
          [
           "Robert Draper",
           "NAME"
          ],
          [
           "Franz Schulz",
           "NAME"
          ],
          [
           "Francis Spencer",
           "NAME"
          ],
          [
           "Hardy",
           "NAME"
          ],
          [
           "Henry Tibbett",
           "NAME"
          ],
          [
           "Tibbett",
           "NAME"
          ],
          [
           "Hector",
           "NAME"
          ],
          [
           "Olive",
           "NAME"
          ],
          [
           "Hector Bloom",
           "NAME"
          ],
          [
           "Jenny",
           "NAME"
          ],
          [
           "Marjorie Browne",
           "NAME"
          ],
          [
           "Mark Daly",
           "NAME"
          ],
          [
           "Aunt Hetty",
           "NAME"
          ],
          [
           "Elsie Wagstaff",
           "NAME"
          ],
          [
           "Aunt Hetty",
           "NAME"
          ],
          [
           "Jenny",
           "NAME"
          ],
          [
           "Tom",
           "NAME"
          ],
          [
           "Hal Thompson",
           "NAME"
          ],
          [
           "Bill",
           "NAME"
          ],
          [
           "Spencer Tracy",
           "NAME"
          ],
          [
           "Spike",
           "NAME"
          ],
          [
           "Warren Hymer",
           "NAME"
          ],
          [
           "Bill",
           "NAME"
          ],
          [
           "Spike",
           "NAME"
          ],
          [
           "Carny",
           "NAME"
          ],
          [
           "Goldie",
           "NAME"
          ],
          [
           "Jean Harlow",
           "NAME"
          ],
          [
           "Manas",
           "NAME"
          ],
          [
           "Siddharth Chandekar",
           "NAME"
          ],
          [
           "Naina",
           "NAME"
          ],
          [
           "Spruha Joshi",
           "NAME"
          ],
          [
           "Manas",
           "NAME"
          ],
          [
           "Naina",
           "NAME"
          ],
          [
           "Maruti",
           "NAME"
          ],
          [
           "Mangesh Desai",
           "NAME"
          ],
          [
           "Shrirang Kaka",
           "NAME"
          ],
          [
           "Mohan Agashe",
           "NAME"
          ],
          [
           "Joan",
           "NAME"
          ],
          [
           "Purviance",
           "NAME"
          ],
          [
           "Magdalen",
           "NAME"
          ],
          [
           "Sothern",
           "NAME"
          ],
          [
           "Magdalen",
           "NAME"
          ],
          [
           "Peter",
           "NAME"
          ],
          [
           "Bloomer",
           "NAME"
          ],
          [
           "Whitman",
           "NAME"
          ],
          [
           "Joan",
           "NAME"
          ],
          [
           "Magdalen",
           "NAME"
          ],
          [
           "Magdalen",
           "NAME"
          ],
          [
           "Joan",
           "NAME"
          ],
          [
           "Peter",
           "NAME"
          ],
          [
           "Magdalen",
           "NAME"
          ],
          [
           "Hong Deok-Ja",
           "NAME"
          ],
          [
           "Max Hell",
           "NAME"
          ],
          [
           "Scott Shaw",
           "NAME"
          ],
          [
           "Trixi T",
           "NAME"
          ],
          [
           "Mickey O'Malley",
           "NAME"
          ],
          [
           "Joe Estevez",
           "NAME"
          ],
          [
           "Donald G. Jackson",
           "NAME"
          ],
          [
           "Dong-hoon",
           "NAME"
          ],
          [
           "Jae-hee",
           "NAME"
          ],
          [
           "Ching",
           "NAME"
          ],
          [
           "Gillian Chung",
           "NAME"
          ],
          [
           "Ken",
           "NAME"
          ],
          [
           "Daniel Wu",
           "NAME"
          ],
          [
           "Shirley",
           "NAME"
          ],
          [
           "Tao Hong",
           "NAME"
          ],
          [
           "Ken",
           "NAME"
          ],
          [
           "Davy Crockett",
           "NAME"
          ],
          [
           "Jim Bowie",
           "NAME"
          ],
          [
           "Almaron",
           "NAME"
          ],
          [
           "Bruce Warren",
           "NAME"
          ],
          [
           "Susanna Dickinson",
           "NAME"
          ],
          [
           "Ruth Findlay",
           "NAME"
          ],
          [
           "Angelina",
           "NAME"
          ],
          [
           "Marilyn Haslett",
           "NAME"
          ],
          [
           "Stephen F. Austin",
           "NAME"
          ],
          [
           "Santa Anna",
           "NAME"
          ],
          [
           "Julian Rivero",
           "NAME"
          ],
          [
           "Sam Houston",
           "NAME"
          ],
          [
           "Edward Piel",
           "NAME"
          ],
          [
           "Alamo",
           "NAME"
          ],
          [
           "Dickinson",
           "NAME"
          ],
          [
           "Clark Gable",
           "NAME"
          ],
          [
           "Gloria Cole",
           "NAME"
          ],
          [
           "Eddie Swenson",
           "NAME"
          ],
          [
           "Gloria",
           "NAME"
          ],
          [
           "Romeo",
           "NAME"
          ],
          [
           "James Parmiter",
           "NAME"
          ],
          [
           "Dillman",
           "NAME"
          ],
          [
           "Stephen Ghent",
           "NAME"
          ],
          [
           "Ruth Jordan",
           "NAME"
          ],
          [
           "Ruth",
           "NAME"
          ],
          [
           "Edgar",
           "NAME"
          ],
          [
           "Manuella",
           "NAME"
          ],
          [
           "Ghent",
           "NAME"
          ],
          [
           "Ruth",
           "NAME"
          ],
          [
           "Ghent",
           "NAME"
          ],
          [
           "Ghent",
           "NAME"
          ],
          [
           "Ruth",
           "NAME"
          ],
          [
           "Ghent",
           "NAME"
          ],
          [
           "Edgar",
           "NAME"
          ],
          [
           "Black Ghost",
           "NAME"
          ],
          [
           "Black Ghost",
           "NAME"
          ],
          [
           "Harold Lockwood",
           "NAME"
          ],
          [
           "Scott Cohen",
           "NAME"
          ],
          [
           "Paulina Porizkova",
           "NAME"
          ],
          [
           "Annabeth Gish",
           "NAME"
          ],
          [
           "Amala",
           "NAME"
          ],
          [
           "Pooja Vijayan",
           "NAME"
          ],
          [
           "Ananthu",
           "NAME"
          ],
          [
           "Devadathan",
           "NAME"
          ],
          [
           "Shankar",
           "NAME"
          ],
          [
           "Amala",
           "NAME"
          ],
          [
           "Abhijith P S Nair",
           "NAME"
          ],
          [
           "Sally Elliott",
           "NAME"
          ],
          [
           "Rita Hayworth",
           "NAME"
          ],
          [
           "Paul Dresser",
           "NAME"
          ],
          [
           "Victor Mature",
           "NAME"
          ],
          [
           "Joe Huggett",
           "NAME"
          ],
          [
           "Chaiti",
           "NAME"
          ],
          [
           "Bikramjit",
           "NAME"
          ],
          [
           "Bikramjit",
           "NAME"
          ],
          [
           "Chaiti",
           "NAME"
          ],
          [
           "Chaiti",
           "NAME"
          ],
          [
           "Amal",
           "NAME"
          ],
          [
           "Amal",
           "NAME"
          ],
          [
           "Amal",
           "NAME"
          ],
          [
           "Chaiti",
           "NAME"
          ],
          [
           "Charulata",
           "NAME"
          ],
          [
           "Roanne Sanchez",
           "NAME"
          ],
          [
           "Eric Rodriguez",
           "NAME"
          ],
          [
           "Gerald Anderson",
           "NAME"
          ],
          [
           "King Carter",
           "NAME"
          ],
          [
           "Claire Hartford",
           "NAME"
          ],
          [
           "Jeff Ramsay",
           "NAME"
          ],
          [
           "King Carter",
           "NAME"
          ],
          [
           "Jeff",
           "NAME"
          ],
          [
           "Claire",
           "NAME"
          ],
          [
           "Eric Wainwright",
           "NAME"
          ],
          [
           "Van Johnson",
           "NAME"
          ],
          [
           "Cynthia Potter",
           "NAME"
          ],
          [
           "June Allyson",
           "NAME"
          ],
          [
           "Wainwright",
           "NAME"
          ],
          [
           "Cynthia",
           "NAME"
          ],
          [
           "Kevin Agar",
           "NAME"
          ],
          [
           "Maria",
           "NAME"
          ],
          [
           "Shelly",
           "NAME"
          ],
          [
           "Maria",
           "NAME"
          ],
          [
           "Matthew",
           "NAME"
          ],
          [
           "Donovan",
           "NAME"
          ],
          [
           "Dylan Ramsey",
           "NAME"
          ],
          [
           "David Spade",
           "NAME"
          ],
          [
           "Lila",
           "NAME"
          ],
          [
           "Sophie Marceau",
           "NAME"
          ],
          [
           "Dylan",
           "NAME"
          ],
          [
           "Rene",
           "NAME"
          ],
          [
           "Dharma",
           "NAME"
          ],
          [
           "Anandaraj",
           "NAME"
          ],
          [
           "R.R",
           "NAME"
          ],
          [
           "Radha Ravi",
           "NAME"
          ],
          [
           "Raj",
           "NAME"
          ],
          [
           "Vijayakanth",
           "NAME"
          ],
          [
           "R.R",
           "NAME"
          ],
          [
           "Dharma",
           "NAME"
          ],
          [
           "R.R",
           "NAME"
          ],
          [
           "Lynn",
           "NAME"
          ],
          [
           "Jack",
           "NAME"
          ],
          [
           "Barnes",
           "NAME"
          ],
          [
           "Buzz",
           "NAME"
          ],
          [
           "Jack",
           "NAME"
          ],
          [
           "Jack",
           "NAME"
          ],
          [
           "Jack",
           "NAME"
          ],
          [
           "Barnes",
           "NAME"
          ],
          [
           "Arjun",
           "NAME"
          ],
          [
           "Irene Kawai",
           "NAME"
          ],
          [
           "Irene",
           "NAME"
          ],
          [
           "Luke",
           "NAME"
          ],
          [
           "Jeff Hassard",
           "NAME"
          ],
          [
           "Dean Jagger",
           "NAME"
          ],
          [
           "Ring",
           "NAME"
          ],
          [
           "Audie Murphy",
           "NAME"
          ],
          [
           "Jeff",
           "NAME"
          ],
          [
           "Riley",
           "NAME"
          ],
          [
           "Wanda Hendrix",
           "NAME"
          ],
          [
           "Jeff",
           "NAME"
          ],
          [
           "Ring",
           "NAME"
          ],
          [
           "Jerry McGuire",
           "NAME"
          ],
          [
           "William Collier Jr.",
           "NAME"
          ],
          [
           "Spike Mullins",
           "NAME"
          ],
          [
           "Johnnie Walker",
           "NAME"
          ],
          [
           "Hilda Jensen",
           "NAME"
          ],
          [
           "Shirley Mason",
           "NAME"
          ],
          [
           "Chu Liuxiang",
           "NAME"
          ],
          [
           "Monk Wuhua",
           "NAME"
          ],
          [
           "Gong Nanyan",
           "NAME"
          ],
          [
           "Chu",
           "NAME"
          ],
          [
           "Chu",
           "NAME"
          ],
          [
           "Chu",
           "NAME"
          ],
          [
           "Charles Kessler",
           "NAME"
          ],
          [
           "Bela Lugosi",
           "NAME"
          ],
          [
           "Betty Compson",
           "NAME"
          ],
          [
           "Kessler",
           "NAME"
          ],
          [
           "Kessler",
           "NAME"
          ],
          [
           "Kessler",
           "NAME"
          ],
          [
           "Brass Bancroft",
           "NAME"
          ],
          [
           "Ronald Reagan",
           "NAME"
          ],
          [
           "Gabby Watters",
           "NAME"
          ],
          [
           "Eddie Foy, Jr.",
           "NAME"
          ],
          [
           "Bancroft",
           "NAME"
          ],
          [
           "Watters",
           "NAME"
          ],
          [
           "Bancroft",
           "NAME"
          ],
          [
           "Elaine",
           "NAME"
          ],
          [
           "Rosella Towne",
           "NAME"
          ],
          [
           "Princess",
           "NAME"
          ],
          [
           "Ramrod",
           "NAME"
          ],
          [
           "Princess",
           "NAME"
          ],
          [
           "Tom Walsh",
           "NAME"
          ],
          [
           "Ducky",
           "NAME"
          ],
          [
           "Ginger",
           "NAME"
          ],
          [
           "Sarah",
           "NAME"
          ],
          [
           "Ducky",
           "NAME"
          ],
          [
           "Ginger",
           "NAME"
          ],
          [
           "Sarah",
           "NAME"
          ],
          [
           "Sarah",
           "NAME"
          ],
          [
           "Fontaine Khaled",
           "NAME"
          ],
          [
           "Tony",
           "NAME"
          ],
          [
           "Tony",
           "NAME"
          ],
          [
           "Fontaine",
           "NAME"
          ],
          [
           "Fontaine",
           "NAME"
          ],
          [
           "Fontaine",
           "NAME"
          ],
          [
           "Tony",
           "NAME"
          ],
          [
           "Harry Black",
           "NAME"
          ],
          [
           "Desmond Tanner",
           "NAME"
          ],
          [
           "Chris",
           "NAME"
          ],
          [
           "Mithun Chakraborty",
           "NAME"
          ],
          [
           "Anita Raj",
           "NAME"
          ],
          [
           "Shatrughan Sinha",
           "NAME"
          ],
          [
           "Hema Malini",
           "NAME"
          ],
          [
           "Prem Chopra",
           "NAME"
          ],
          [
           "Kalpana Iyer",
           "NAME"
          ],
          [
           "Shakti Kapoor",
           "NAME"
          ],
          [
           "Shatrughan Sinha",
           "NAME"
          ],
          [
           "Tulsi",
           "NAME"
          ],
          [
           "Manisha Koirala",
           "NAME"
          ],
          [
           "Suraj",
           "NAME"
          ],
          [
           "Irrfan Khan",
           "NAME"
          ],
          [
           "Suraj",
           "NAME"
          ],
          [
           "Yashpal Sharma",
           "NAME"
          ],
          [
           "Tulsi",
           "NAME"
          ],
          [
           "Suraj",
           "NAME"
          ],
          [
           "Yashpal",
           "NAME"
          ],
          [
           "Yashpal",
           "NAME"
          ],
          [
           "Tulsi",
           "NAME"
          ],
          [
           "Yashpal",
           "NAME"
          ],
          [
           "Suraj",
           "NAME"
          ],
          [
           "Tulsi",
           "NAME"
          ],
          [
           "Burton",
           "NAME"
          ],
          [
           "Lyon",
           "NAME"
          ],
          [
           "Adam Hann-Byrd",
           "NAME"
          ],
          [
           "Joshua Jackson",
           "NAME"
          ],
          [
           "Soo-nam",
           "NAME"
          ],
          [
           "Soo-nam",
           "NAME"
          ],
          [
           "Kendall",
           "NAME"
          ],
          [
           "Grahame",
           "NAME"
          ],
          [
           "Rie",
           "NAME"
          ],
          [
           "Nao",
           "NAME"
          ],
          [
           "Nao",
           "NAME"
          ],
          [
           "Rie",
           "NAME"
          ],
          [
           "Karthi",
           "NAME"
          ],
          [
           "Mahesh",
           "NAME"
          ],
          [
           "Paran Bandyopadhyay",
           "NAME"
          ],
          [
           "Titli",
           "NAME"
          ],
          [
           "Tabul",
           "NAME"
          ],
          [
           "Lalkamol babu",
           "NAME"
          ],
          [
           "Harry Connick Jr.",
           "NAME"
          ],
          [
           "Michael",
           "NAME"
          ],
          [
           "Nick",
           "NAME"
          ],
          [
           "Willie Nelson",
           "NAME"
          ],
          [
           "Duncan Maclain",
           "NAME"
          ],
          [
           "Jean Hampton",
           "NAME"
          ],
          [
           "Barry Gifford",
           "NAME"
          ],
          [
           "Maclain",
           "NAME"
          ],
          [
           "Marty Corbett",
           "NAME"
          ],
          [
           "Treadway",
           "NAME"
          ],
          [
           "Gifford",
           "NAME"
          ],
          [
           "Maclain",
           "NAME"
          ],
          [
           "Jean",
           "NAME"
          ],
          [
           "Vijay",
           "NAME"
          ],
          [
           "R. Sarathkumar",
           "NAME"
          ],
          [
           "Seetha",
           "NAME"
          ],
          [
           "Ragapriya",
           "NAME"
          ],
          [
           "Vijay",
           "NAME"
          ],
          [
           "Vijay",
           "NAME"
          ],
          [
           "Seetha",
           "NAME"
          ],
          [
           "Kannan",
           "NAME"
          ],
          [
           "K. R. Ganesh",
           "NAME"
          ],
          [
           "Vijay",
           "NAME"
          ],
          [
           "Lakshmi",
           "NAME"
          ],
          [
           "Aamani",
           "NAME"
          ],
          [
           "Lakshmi",
           "NAME"
          ],
          [
           "Marappan",
           "NAME"
          ],
          [
           "Jaiganesh",
           "NAME"
          ],
          [
           "Mansoor Ali Khan",
           "NAME"
          ],
          [
           "Seetha",
           "NAME"
          ],
          [
           "Seetha",
           "NAME"
          ],
          [
           "Vijay",
           "NAME"
          ],
          [
           "Charlie Forsythe",
           "NAME"
          ],
          [
           "Charlie Forsythe",
           "NAME"
          ],
          [
           "Eaton Sharpe",
           "NAME"
          ],
          [
           "Lane Smith",
           "NAME"
          ],
          [
           "Forsythe",
           "NAME"
          ],
          [
           "Inmate Burke",
           "NAME"
          ],
          [
           "Viggo Mortensen",
           "NAME"
          ],
          [
           "Forsythe",
           "NAME"
          ],
          [
           "Vivek",
           "NAME"
          ],
          [
           "Vivek",
           "NAME"
          ],
          [
           "Preethi",
           "NAME"
          ],
          [
           "Boyd",
           "NAME"
          ],
          [
           "Boyle",
           "NAME"
          ],
          [
           "Boyd",
           "NAME"
          ],
          [
           "Jerome",
           "NAME"
          ],
          [
           "Jayson Watabe",
           "NAME"
          ],
          [
           "Luke Cooper",
           "NAME"
          ],
          [
           "Luke",
           "NAME"
          ],
          [
           "Luke",
           "NAME"
          ],
          [
           "Alberto 'Baby' Valdez",
           "NAME"
          ],
          [
           "Lita Valdez",
           "NAME"
          ],
          [
           "Lita",
           "NAME"
          ],
          [
           "Lita",
           "NAME"
          ],
          [
           "Jerry O'Leary",
           "NAME"
          ],
          [
           "Alberto",
           "NAME"
          ],
          [
           "Jerry",
           "NAME"
          ],
          [
           "Mary",
           "NAME"
          ],
          [
           "Ann Kimball",
           "NAME"
          ],
          [
           "Jill",
           "NAME"
          ],
          [
           "Mary Steele",
           "NAME"
          ],
          [
           "Antoinette",
           "NAME"
          ],
          [
           "Nadine Tallier",
           "NAME"
          ],
          [
           "Captain Maitland",
           "NAME"
          ],
          [
           "Guy Rolfe",
           "NAME"
          ],
          [
           "Michael Hordern",
           "NAME"
          ],
          [
           "Matt Prylek",
           "NAME"
          ],
          [
           "Kyle",
           "NAME"
          ],
          [
           "Flagg",
           "NAME"
          ],
          [
           "Victor McLaglen",
           "NAME"
          ],
          [
           "Quirt",
           "NAME"
          ],
          [
           "Edmund Lowe",
           "NAME"
          ],
          [
           "Gopal",
           "NAME"
          ],
          [
           "M.G.R.",
           "NAME"
          ],
          [
           "Gauri",
           "NAME"
          ],
          [
           "Saroja Devi",
           "NAME"
          ],
          [
           "Muthayya",
           "NAME"
          ],
          [
           "Nambiar",
           "NAME"
          ],
          [
           "Gauri",
           "NAME"
          ],
          [
           "Guari",
           "NAME"
          ],
          [
           "Muthayya",
           "NAME"
          ],
          [
           "M.R. Radha",
           "NAME"
          ],
          [
           "Gopal",
           "NAME"
          ],
          [
           "Nick",
           "NAME"
          ],
          [
           "Niven",
           "NAME"
          ],
          [
           "Bridget",
           "NAME"
          ],
          [
           "Partridge",
           "NAME"
          ],
          [
           "Charley",
           "NAME"
          ],
          [
           "Carney",
           "NAME"
          ],
          [
           "Nick",
           "NAME"
          ],
          [
           "Charley",
           "NAME"
          ],
          [
           "Bridget",
           "NAME"
          ],
          [
           "John Hodiak",
           "NAME"
          ],
          [
           "Danny Young",
           "NAME"
          ],
          [
           "Mitch Turner",
           "NAME"
          ],
          [
           "Stephen McNally",
           "NAME"
          ],
          [
           "Jeanne",
           "NAME"
          ],
          [
           "Linda Christian",
           "NAME"
          ],
          [
           "Ray Charles Robinson",
           "NAME"
          ],
          [
           "Charles",
           "NAME"
          ],
          [
           "Kumar",
           "NAME"
          ],
          [
           "Ajith",
           "NAME"
          ],
          [
           "Bala Singh",
           "NAME"
          ],
          [
           "Kumar",
           "NAME"
          ],
          [
           "Kumar",
           "NAME"
          ],
          [
           "Meena",
           "NAME"
          ],
          [
           "Rambha",
           "NAME"
          ],
          [
           "Katya",
           "NAME"
          ],
          [
           "Vika",
           "NAME"
          ],
          [
           "Zhanna",
           "NAME"
          ],
          [
           "Newland Archer",
           "NAME"
          ],
          [
           "May Mingott",
           "NAME"
          ],
          [
           "Newland",
           "NAME"
          ],
          [
           "Ellen Olenska",
           "NAME"
          ],
          [
           "May",
           "NAME"
          ],
          [
           "Newland",
           "NAME"
          ],
          [
           "Ellen",
           "NAME"
          ],
          [
           "May",
           "NAME"
          ],
          [
           "Ellen",
           "NAME"
          ],
          [
           "Newland",
           "NAME"
          ],
          [
           "Newland",
           "NAME"
          ],
          [
           "May",
           "NAME"
          ],
          [
           "Virginia",
           "NAME"
          ],
          [
           "Dick Tipton",
           "NAME"
          ],
          [
           "Emmett",
           "NAME"
          ],
          [
           "Harrison Gilbertson",
           "NAME"
          ],
          [
           "Emmett",
           "NAME"
          ],
          [
           "Jessie",
           "NAME"
          ],
          [
           "Chandrabose",
           "NAME"
          ],
          [
           "Mohanlal",
           "NAME"
          ],
          [
           "Meera Jasmine",
           "NAME"
          ],
          [
           "Chandrabose",
           "NAME"
          ],
          [
           "Krish. J. Sathaar",
           "NAME"
          ],
          [
           "Anu",
           "NAME"
          ],
          [
           "Mamta Mohandas",
           "NAME"
          ],
          [
           "Jyothi",
           "NAME"
          ],
          [
           "Padmapriya",
           "NAME"
          ],
          [
           "Chinnu",
           "NAME"
          ],
          [
           "Mithra Kurian",
           "NAME"
          ],
          [
           "Rekha",
           "NAME"
          ],
          [
           "Farooq Shaikh",
           "NAME"
          ],
          [
           "Shalu",
           "NAME"
          ],
          [
           "Kamla",
           "NAME"
          ],
          [
           "Bindu",
           "NAME"
          ],
          [
           "Frankie Bono",
           "NAME"
          ],
          [
           "Troiano",
           "NAME"
          ],
          [
           "Big Ralph",
           "NAME"
          ],
          [
           "Ferdinand E. Marcos",
           "NAME"
          ],
          [
           "Darley",
           "NAME"
          ],
          [
           "Pursewarden",
           "NAME"
          ],
          [
           "Pursewarden",
           "NAME"
          ],
          [
           "Justine",
           "NAME"
          ],
          [
           "Darley",
           "NAME"
          ],
          [
           "Scrooge",
           "NAME"
          ],
          [
           "Vijayadan Detha",
           "NAME"
          ],
          [
           "Krishanlal",
           "NAME"
          ],
          [
           "Ravi Menon",
           "NAME"
          ],
          [
           "Lachhi",
           "NAME"
          ],
          [
           "Raisa Padamsee",
           "NAME"
          ],
          [
           "Michael Walsh",
           "NAME"
          ],
          [
           "Magenta",
           "NAME"
          ],
          [
           "Magenta",
           "NAME"
          ],
          [
           "Magenta",
           "NAME"
          ],
          [
           "Michael",
           "NAME"
          ],
          [
           "Holi",
           "NAME"
          ],
          [
           "Kumar",
           "NAME"
          ],
          [
           "Selvathaal",
           "NAME"
          ],
          [
           "Gopi",
           "NAME"
          ],
          [
           "Selvathal",
           "NAME"
          ],
          [
           "Manorama",
           "NAME"
          ],
          [
           "Kumar",
           "NAME"
          ],
          [
           "Gopi",
           "NAME"
          ],
          [
           "Selvathal",
           "NAME"
          ],
          [
           "Kumar",
           "NAME"
          ],
          [
           "Gopi",
           "NAME"
          ],
          [
           "Alim",
           "NAME"
          ],
          [
           "Nuru",
           "NAME"
          ],
          [
           "Giles",
           "NAME"
          ],
          [
           "Cary Grant",
           "NAME"
          ],
          [
           "Alim",
           "NAME"
          ],
          [
           "Alim",
           "NAME"
          ],
          [
           "Pilnyeo",
           "NAME"
          ],
          [
           "Pilnyeo",
           "NAME"
          ],
          [
           "Van Duff",
           "NAME"
          ],
          [
           "Beverly Michaels",
           "NAME"
          ],
          [
           "Percy Helton",
           "NAME"
          ],
          [
           "Gloria Talbott",
           "NAME"
          ],
          [
           "Plummer",
           "NAME"
          ],
          [
           "Black Menace",
           "NAME"
          ],
          [
           "Black Menace",
           "NAME"
          ],
          [
           "Bill",
           "NAME"
          ],
          [
           "Coo",
           "NAME"
          ],
          [
           "Teresa",
           "NAME"
          ],
          [
           "Buday",
           "NAME"
          ],
          [
           "Jonathan Crow",
           "NAME"
          ],
          [
           "Weaving",
           "NAME"
          ],
          [
           "Teresa",
           "NAME"
          ],
          [
           "James Quick",
           "NAME"
          ],
          [
           "Neill",
           "NAME"
          ],
          [
           "Quick",
           "NAME"
          ],
          [
           "Teresa",
           "NAME"
          ],
          [
           "Harry",
           "NAME"
          ],
          [
           "Williams",
           "NAME"
          ],
          [
           "Quick",
           "NAME"
          ],
          [
           "Teresa",
           "NAME"
          ],
          [
           "Father Donovan",
           "NAME"
          ],
          [
           "Slip",
           "NAME"
          ],
          [
           "Cassidy",
           "NAME"
          ],
          [
           "Slip",
           "NAME"
          ],
          [
           "McCormick",
           "NAME"
          ],
          [
           "John Murdock",
           "NAME"
          ],
          [
           "Paul Richards",
           "NAME"
          ],
          [
           "Patrick O'Moore",
           "NAME"
          ],
          [
           "Lorn Crowford",
           "NAME"
          ],
          [
           "Hugh Marlowe",
           "NAME"
          ],
          [
           "Emperor Bacchushund",
           "NAME"
          ],
          [
           "Miura",
           "NAME"
          ],
          [
           "Miura",
           "NAME"
          ],
          [
           "Chandragupta",
           "NAME"
          ],
          [
           "N. T. Rama Rao",
           "NAME"
          ],
          [
           "Guru Chanakya",
           "NAME"
          ],
          [
           "Akkineni Nageswara Rao",
           "NAME"
          ],
          [
           "Alexander",
           "NAME"
          ],
          [
           "Sivaji Ganesan",
           "NAME"
          ],
          [
           "C. V. Nirmala",
           "NAME"
          ],
          [
           "Jin-hong",
           "NAME"
          ],
          [
           "Jin-hong",
           "NAME"
          ],
          [
           "Larry Brown",
           "NAME"
          ],
          [
           "Debra Winger",
           "NAME"
          ],
          [
           "Monroe",
           "NAME"
          ],
          [
           "Paul Le Mat",
           "NAME"
          ],
          [
           "Leon",
           "NAME"
          ],
          [
           "Bobby",
           "NAME"
          ],
          [
           "Frankie Thomas",
           "NAME"
          ],
          [
           "Karen Morley",
           "NAME"
          ],
          [
           "Bobby",
           "NAME"
          ],
          [
           "Bobby",
           "NAME"
          ],
          [
           "Edward Arnold",
           "NAME"
          ],
          [
           "Bobby",
           "NAME"
          ],
          [
           "Brinda",
           "NAME"
          ],
          [
           "Sindhu Tolani",
           "NAME"
          ],
          [
           "Yugendran",
           "NAME"
          ],
          [
           "Sekhar",
           "NAME"
          ],
          [
           "Vijayan",
           "NAME"
          ],
          [
           "Kazan Khan",
           "NAME"
          ],
          [
           "Kumar",
           "NAME"
          ],
          [
           "Kamala",
           "NAME"
          ],
          [
           "Pamela",
           "NAME"
          ],
          [
           "Evelyn",
           "NAME"
          ],
          [
           "Evelyn",
           "NAME"
          ],
          [
           "Close",
           "NAME"
          ],
          [
           "The Judge",
           "NAME"
          ],
          [
           "Harry Grant",
           "NAME"
          ],
          [
           "William Lundigan",
           "NAME"
          ],
          [
           "Grant",
           "NAME"
          ],
          [
           "The Judge",
           "NAME"
          ],
          [
           "Joon-goo",
           "NAME"
          ],
          [
           "Park Yong-woo",
           "NAME"
          ],
          [
           "Kim Seo-hyung",
           "NAME"
          ],
          [
           "Lee Yoo-young",
           "NAME"
          ],
          [
           "Agimat",
           "NAME"
          ],
          [
           "Bong Revilla, Jr.",
           "NAME"
          ],
          [
           "Sam Pinto",
           "NAME"
          ],
          [
           "Enteng",
           "NAME"
          ],
          [
           "Vic Sotto",
           "NAME"
          ],
          [
           "Ako",
           "NAME"
          ],
          [
           "Judy Ann Santos",
           "NAME"
          ],
          [
           "Hulk",
           "NAME"
          ],
          [
           "John Lapus",
           "NAME"
          ],
          [
           "Agimat",
           "NAME"
          ],
          [
           "Enteng",
           "NAME"
          ],
          [
           "Agimat",
           "NAME"
          ],
          [
           "Ako",
           "NAME"
          ],
          [
           "Timothy",
           "NAME"
          ],
          [
           "Jonathan Welsh",
           "NAME"
          ],
          [
           "Timothy",
           "NAME"
          ],
          [
           "Jim Carrey",
           "NAME"
          ],
          [
           "Ralph Parker",
           "NAME"
          ],
          [
           "Bob Davis",
           "NAME"
          ],
          [
           "Grif",
           "NAME"
          ],
          [
           "Brag",
           "NAME"
          ],
          [
           "Harvey \"Deacon\" Grimes",
           "NAME"
          ],
          [
           "Rocky Lane",
           "NAME"
          ],
          [
           "Susie",
           "NAME"
          ],
          [
           "Gail Warren",
           "NAME"
          ],
          [
           "Rocky",
           "NAME"
          ],
          [
           "Grimes",
           "NAME"
          ],
          [
           "Rocky",
           "NAME"
          ],
          [
           "Julia Hemingway",
           "NAME"
          ],
          [
           "Ina Skriver",
           "NAME"
          ],
          [
           "Christina World",
           "NAME"
          ],
          [
           "Charlie Whitlock",
           "NAME"
          ],
          [
           "Hemingway",
           "NAME"
          ],
          [
           "Whitlock",
           "NAME"
          ],
          [
           "Marenkov",
           "NAME"
          ],
          [
           "Robert Shaw",
           "NAME"
          ],
          [
           "Harry Wargrave",
           "NAME"
          ],
          [
           "Lee Marvin",
           "NAME"
          ],
          [
           "Wargrave",
           "NAME"
          ],
          [
           "Marenkov",
           "NAME"
          ],
          [
           "Nikolai Bunin",
           "NAME"
          ],
          [
           "Maximilian Schell",
           "NAME"
          ],
          [
           "Omar Sharif",
           "NAME"
          ],
          [
           "Muhassab",
           "NAME"
          ],
          [
           "Migahed",
           "NAME"
          ],
          [
           "Rushdy Abaza",
           "NAME"
          ],
          [
           "Lakota Sioux",
           "NAME"
          ],
          [
           "Lou Diamond Phillips",
           "NAME"
          ],
          [
           "Warren Clarke",
           "NAME"
          ],
          [
           "Bamber",
           "NAME"
          ],
          [
           "Esther",
           "NAME"
          ],
          [
           "Ahasuerus",
           "NAME"
          ],
          [
           "Haman",
           "NAME"
          ],
          [
           "Sergio Fantoni",
           "NAME"
          ],
          [
           "Esther",
           "NAME"
          ],
          [
           "Haman",
           "NAME"
          ],
          [
           "Hans",
           "NAME"
          ],
          [
           "Greta",
           "NAME"
          ],
          [
           "Hans",
           "NAME"
          ],
          [
           "Greta",
           "NAME"
          ],
          [
           "Hikaru Oshiro",
           "NAME"
          ],
          [
           "Joe Morse",
           "NAME"
          ],
          [
           "Garfield",
           "NAME"
          ],
          [
           "Tucker",
           "NAME"
          ],
          [
           "Leo Morse",
           "NAME"
          ],
          [
           "Thomas Gomez",
           "NAME"
          ],
          [
           "Cain",
           "NAME"
          ],
          [
           "Abel",
           "NAME"
          ],
          [
           "Judas",
           "NAME"
          ]
         ],
         "hovertemplate": "label=%{customdata[1]}<br>x-tsne=%{x}<br>y-tsne=%{y}<br>text=%{customdata[0]}<extra></extra>",
         "legendgroup": "NAME",
         "marker": {
          "color": "#EF553B",
          "symbol": "circle"
         },
         "mode": "markers",
         "name": "NAME",
         "showlegend": true,
         "type": "scattergl",
         "x": [
          -47.738059997558594,
          -36.2717399597168,
          -36.2717399597168,
          -47.737979888916016,
          -22.56502342224121,
          -36.2717399597168,
          -47.73775863647461,
          -43.38956069946289,
          -23.974475860595703,
          40.22090148925781,
          -56.38399887084961,
          41.745880126953125,
          42.70186233520508,
          43.73585891723633,
          43.73579406738281,
          43.55885314941406,
          37.337623596191406,
          53.87732696533203,
          50.899742126464844,
          37.397090911865234,
          38.05461120605469,
          43.55885314941406,
          37.337623596191406,
          50.89979934692383,
          37.397090911865234,
          -30.34507179260254,
          31.222591400146484,
          34.7789192199707,
          42.98929977416992,
          -29.88731575012207,
          -31.56072235107422,
          -36.442291259765625,
          37.133846282958984,
          49.42560577392578,
          -31.56072235107422,
          33.838829040527344,
          -29.88731575012207,
          -36.442604064941406,
          35.24097442626953,
          44.6417236328125,
          34.86001205444336,
          34.86001205444336,
          29.4451904296875,
          37.28316879272461,
          52.53168869018555,
          -36.44268798828125,
          39.60994338989258,
          39.52762222290039,
          30.017969131469727,
          30.017969131469727,
          38.04422378540039,
          26.482845306396484,
          73.82320404052734,
          73.334716796875,
          73.46214294433594,
          74.46617126464844,
          41.19538879394531,
          37.371551513671875,
          -33.71257019042969,
          -33.71257019042969,
          47.30567169189453,
          26.910423278808594,
          36.35452651977539,
          12.11691665649414,
          23.357234954833984,
          37.27179718017578,
          44.06935119628906,
          34.9840202331543,
          52.68648910522461,
          33.87528991699219,
          -35.79624557495117,
          38.62771987915039,
          28.162647247314453,
          52.75276565551758,
          46.67839050292969,
          49.30868148803711,
          52.839881896972656,
          52.31533432006836,
          49.30874252319336,
          53.18440628051758,
          53.06929016113281,
          52.41438674926758,
          52.41438674926758,
          -38.55546188354492,
          -38.555511474609375,
          68.0294189453125,
          38.201656341552734,
          47.343387603759766,
          47.343387603759766,
          68.0294189453125,
          68.0294189453125,
          47.343387603759766,
          68.0294189453125,
          16.364700317382812,
          -41.163509368896484,
          -41.16343688964844,
          16.364770889282227,
          36.66641616821289,
          -33.59688949584961,
          48.79857635498047,
          32.385738372802734,
          -29.08820343017578,
          45.550506591796875,
          -29.302322387695312,
          -18.074857711791992,
          43.66964340209961,
          28.815948486328125,
          -18.074857711791992,
          30.524316787719727,
          -50.78148651123047,
          28.96925163269043,
          35.46279525756836,
          37.58938217163086,
          -32.291229248046875,
          43.092891693115234,
          -6.28765344619751,
          40.35329818725586,
          -6.28765344619751,
          21.129253387451172,
          51.176902770996094,
          -32.29408264160156,
          -32.291229248046875,
          30.64542007446289,
          30.469518661499023,
          8.161855697631836,
          32.664363861083984,
          37.533058166503906,
          35.095703125,
          37.65967559814453,
          44.9603385925293,
          48.8160400390625,
          59.32727813720703,
          74.36442565917969,
          45.22919464111328,
          60.899436950683594,
          15.521546363830566,
          32.653106689453125,
          36.4390754699707,
          47.4257926940918,
          34.17280960083008,
          33.993961334228516,
          -31.111337661743164,
          46.671966552734375,
          -48.81584930419922,
          -31.111038208007812,
          -38.3023681640625,
          41.161258697509766,
          -4.384191989898682,
          73.90570831298828,
          -4.384191989898682,
          21.382482528686523,
          58.736637115478516,
          29.360910415649414,
          19.360258102416992,
          35.5941162109375,
          44.10648727416992,
          61.985050201416016,
          35.54806137084961,
          41.287193298339844,
          53.655818939208984,
          42.406734466552734,
          35.54806137084961,
          41.600765228271484,
          48.23076629638672,
          33.74673080444336,
          33.746726989746094,
          58.562862396240234,
          58.562862396240234,
          57.381141662597656,
          27.881250381469727,
          30.942550659179688,
          31.512523651123047,
          33.703125,
          32.98164367675781,
          -36.89999008178711,
          -29.6153507232666,
          46.047882080078125,
          -42.617454528808594,
          41.62183380126953,
          -28.93471336364746,
          38.640140533447266,
          -29.155420303344727,
          -42.617454528808594,
          -29.615333557128906,
          36.114261627197266,
          -27.688522338867188,
          43.304874420166016,
          -20.647602081298828,
          -17.676130294799805,
          -17.158353805541992,
          -20.647602081298828,
          -17.676130294799805,
          -20.647602081298828,
          -44.72097396850586,
          43.48973846435547,
          -17.676130294799805,
          -41.27418899536133,
          -41.04978561401367,
          -41.51327896118164,
          60.76966857910156,
          -41.26679229736328,
          40.668426513671875,
          72.62982177734375,
          41.351070404052734,
          27.2493953704834,
          -24.555675506591797,
          36.54597854614258,
          41.738224029541016,
          67.0055160522461,
          67.00557708740234,
          31.3136043548584,
          29.0496826171875,
          31.792842864990234,
          -34.650665283203125,
          41.222190856933594,
          31.792980194091797,
          -34.650665283203125,
          -45.80128860473633,
          50.861534118652344,
          48.748470306396484,
          -44.116756439208984,
          -33.1905517578125,
          42.28331756591797,
          -36.75346755981445,
          39.092655181884766,
          -44.116756439208984,
          63.26847839355469,
          60.377010345458984,
          38.860626220703125,
          57.273311614990234,
          38.770530700683594,
          66.03553009033203,
          28.789514541625977,
          66.03633117675781,
          60.37691116333008,
          56.41875076293945,
          38.551151275634766,
          56.41875076293945,
          49.308528900146484,
          34.083866119384766,
          42.39417266845703,
          40.69862365722656,
          24.009151458740234,
          24.690969467163086,
          25.911991119384766,
          24.009151458740234,
          25.91172981262207,
          48.18897247314453,
          43.368167877197266,
          47.793331146240234,
          39.086402893066406,
          58.06222152709961,
          42.543460845947266,
          56.38290786743164,
          56.38290786743164,
          -40.9947395324707,
          58.064422607421875,
          73.45191955566406,
          72.45561218261719,
          35.306121826171875,
          47.743675231933594,
          -37.611473083496094,
          8.478570938110352,
          -34.550086975097656,
          37.61024475097656,
          40.30181884765625,
          56.52000045776367,
          45.85917282104492,
          -33.596675872802734,
          36.826168060302734,
          -48.54515838623047,
          53.625247955322266,
          46.2684211730957,
          34.16842269897461,
          37.4261474609375,
          27.015060424804688,
          -46.84306335449219,
          38.330787658691406,
          37.51194381713867,
          34.459049224853516,
          34.144630432128906,
          43.829627990722656,
          40.6977424621582,
          53.09055709838867,
          42.674720764160156,
          45.52742385864258,
          36.83351516723633,
          66.82923126220703,
          40.97382354736328,
          43.829856872558594,
          53.09071350097656,
          32.83916473388672,
          -36.67058181762695,
          -22.181434631347656,
          40.89971160888672,
          -49.807437896728516,
          -51.332481384277344,
          -46.14459228515625,
          -51.332481384277344,
          45.475406646728516,
          33.755226135253906,
          -52.64613723754883,
          -29.18724822998047,
          33.768890380859375,
          -28.748199462890625,
          -52.645931243896484,
          58.38726043701172,
          -36.76773452758789,
          -36.76773452758789,
          -55.050148010253906,
          46.634368896484375,
          -27.60098648071289,
          52.543251037597656,
          -55.050148010253906,
          40.75117111206055,
          41.602455139160156,
          26.206417083740234,
          -47.08252716064453,
          40.88485336303711,
          -38.932552337646484,
          44.919471740722656,
          43.645503997802734,
          31.88677406311035,
          44.5170783996582,
          26.230491638183594,
          -31.391876220703125,
          -48.250877380371094,
          47.50502014160156,
          42.75068283081055,
          44.7277946472168,
          44.48151397705078,
          43.10918426513672,
          44.31654739379883,
          15.274858474731445,
          50.99979782104492,
          57.96462631225586,
          48.786705017089844,
          48.78807830810547,
          52.685211181640625,
          47.155941009521484,
          15.274858474731445,
          48.786705017089844,
          56.95289611816406,
          56.95289611816406,
          56.95289611816406,
          56.52595901489258,
          47.64436340332031,
          -24.481260299682617,
          -24.481260299682617,
          -37.859737396240234,
          42.907649993896484,
          43.855899810791016,
          40.707767486572266,
          -37.859737396240234,
          51.81224822998047,
          36.90265655517578,
          -37.744380950927734,
          42.13789367675781,
          33.01852798461914,
          42.47019958496094,
          -33.448978424072266,
          37.07479476928711,
          36.923038482666016,
          -32.71812438964844,
          -23.73956871032715,
          20.59992218017578,
          -53.68962860107422,
          50.03443145751953,
          38.02537155151367,
          -4.319772720336914,
          29.771329879760742,
          -4.319828987121582,
          -53.68962860107422,
          -41.054100036621094,
          37.753273010253906,
          -29.28571891784668,
          42.59047317504883,
          -16.626327514648438,
          36.285072326660156,
          -28.90285873413086,
          -16.626327514648438,
          23.992313385009766,
          30.40345573425293,
          44.754634857177734,
          51.18618392944336,
          40.50194549560547,
          55.6696891784668,
          45.20710754394531,
          51.18619918823242,
          55.6696891784668,
          53.35282897949219,
          43.95636749267578,
          45.74110412597656,
          43.133384704589844,
          -47.98303985595703,
          46.89189147949219,
          62.26999282836914,
          41.050987243652344,
          62.26999282836914,
          -39.27573776245117,
          20.56312370300293,
          -22.386375427246094,
          -47.98370361328125,
          62.26999282836914,
          62.26999282836914,
          -47.98370361328125,
          -39.276405334472656,
          62.26999282836914,
          72.43843078613281,
          -24.874523162841797,
          43.37813186645508,
          45.19743728637695,
          25.80807113647461,
          41.39059829711914,
          27.218963623046875,
          72.30644226074219,
          75.89679718017578,
          -28.84406089782715,
          50.527313232421875,
          -34.05463790893555,
          48.11180114746094,
          -43.58475875854492,
          74.51241302490234,
          -34.05513381958008,
          34.53664016723633,
          34.5229377746582,
          51.909095764160156,
          49.569557189941406,
          44.289817810058594,
          32.47182083129883,
          -51.27448654174805,
          41.2625617980957,
          27.464122772216797,
          20.739295959472656,
          58.45442581176758,
          53.60272979736328,
          38.44585418701172,
          58.47229766845703,
          -28.578264236450195,
          26.230491638183594,
          46.68716812133789,
          33.265357971191406,
          -50.566043853759766,
          -37.70768737792969,
          38.28571319580078,
          29.828857421875,
          44.88771057128906,
          48.81498336791992,
          -45.059364318847656,
          -46.14459228515625,
          41.606414794921875,
          5.256155014038086,
          -45.06093215942383,
          5.256155014038086,
          5.256155014038086,
          -45.06096649169922,
          5.256155014038086,
          -46.14459228515625,
          -4.920610427856445,
          -4.92089319229126,
          38.276241302490234,
          44.873226165771484,
          32.55465316772461,
          43.2563591003418,
          41.78588104248047,
          37.419891357421875,
          38.92363739013672,
          45.01893615722656,
          55.9304084777832,
          41.78642654418945,
          36.3730354309082,
          45.63278579711914,
          28.96837615966797,
          33.77637481689453,
          36.777931213378906,
          32.436073303222656,
          54.324031829833984,
          39.05508804321289,
          39.05508804321289,
          54.71004867553711,
          54.46883773803711,
          38.40216827392578,
          38.40241622924805,
          38.40199661254883,
          54.56123352050781,
          42.16279983520508,
          46.42877197265625,
          51.17852783203125,
          39.21590805053711,
          18.177379608154297,
          47.58645248413086,
          45.46844482421875,
          18.177379608154297,
          -41.71202850341797,
          -51.333946228027344,
          25.102834701538086,
          29.656160354614258,
          47.042686462402344,
          36.3028564453125,
          24.981430053710938,
          -45.08506774902344,
          38.0296745300293,
          -50.919979095458984,
          -42.57335662841797,
          -50.919979095458984,
          -37.59209442138672,
          -32.14262390136719,
          -19.24819564819336,
          34.20677947998047,
          -21.81159019470215,
          38.11329650878906,
          -19.278076171875,
          -46.32195281982422,
          59.22393035888672,
          41.07761764526367,
          26.203401565551758,
          46.58378601074219,
          53.40948486328125,
          40.41963577270508,
          26.203401565551758,
          59.22393035888672,
          26.203401565551758,
          -43.601871490478516,
          -39.26305389404297,
          -32.597957611083984,
          -26.86457633972168,
          -39.081504821777344,
          -38.9862060546875,
          -39.22295379638672,
          -32.597957611083984,
          55.30006790161133,
          49.55820846557617,
          -49.71438980102539,
          -41.757102966308594,
          38.62919616699219,
          35.31758499145508,
          -36.075069427490234,
          44.651432037353516,
          -41.71202850341797,
          -36.92015838623047,
          50.6087532043457,
          -41.71202850341797,
          -36.075069427490234,
          38.268245697021484,
          25.918472290039062,
          31.14239501953125,
          32.32642364501953,
          51.515113830566406,
          46.139930725097656,
          73.0248031616211,
          73.6092529296875,
          72.62896728515625,
          -12.075187683105469,
          -12.07459545135498,
          -12.07459545135498,
          31.482933044433594,
          47.07056427001953,
          33.53899002075195,
          30.66590118408203,
          30.66590118408203,
          30.66590118408203,
          27.070096969604492,
          19.360258102416992,
          34.46068572998047,
          27.200368881225586,
          -25.168947219848633,
          21.93096351623535,
          -25.168947219848633,
          -46.27630615234375,
          10.89289665222168,
          -39.860103607177734,
          59.298606872558594,
          -39.86012649536133,
          38.79920196533203,
          19.92067527770996,
          -22.642946243286133,
          -50.032527923583984,
          19.92067527770996,
          -22.642946243286133,
          -50.032527923583984,
          -50.03257369995117,
          38.74551010131836,
          -30.186994552612305,
          -30.186973571777344,
          -44.25917053222656,
          -44.25917053222656,
          -44.25917053222656,
          -30.186973571777344,
          39.43632888793945,
          43.57511520385742,
          -37.062469482421875,
          38.006858825683594,
          51.242984771728516,
          41.33022689819336,
          43.56258773803711,
          49.270755767822266,
          46.39109802246094,
          41.920928955078125,
          41.33028030395508,
          48.587345123291016,
          43.63789367675781,
          56.45534896850586,
          39.66986083984375,
          56.45534896850586,
          44.68499755859375,
          48.29225540161133,
          56.06303024291992,
          45.550689697265625,
          45.550689697265625,
          48.373661041259766,
          45.55073165893555,
          56.18569564819336,
          48.53971481323242,
          -31.107404708862305,
          -2.2949066162109375,
          30.857946395874023,
          46.76164627075195,
          72.66048431396484,
          72.66048431396484,
          -21.598005294799805,
          47.56746292114258,
          53.397274017333984,
          59.384849548339844,
          59.38456726074219,
          53.397274017333984,
          45.95026397705078,
          42.95486068725586,
          42.971370697021484,
          49.93757247924805,
          38.95790481567383,
          43.84603500366211,
          26.65593147277832,
          -38.850250244140625,
          -44.81914520263672,
          33.999874114990234,
          28.09738540649414,
          44.76604080200195,
          33.2169303894043,
          27.657121658325195,
          38.404624938964844,
          19.001726150512695,
          -33.20448303222656,
          27.657121658325195,
          -46.7369499206543,
          52.872249603271484,
          34.54609680175781,
          28.299362182617188,
          48.02157211303711,
          52.872249603271484,
          53.28056716918945,
          28.299362182617188,
          50.759220123291016,
          33.5573616027832,
          52.541542053222656,
          54.220088958740234,
          48.67677688598633,
          54.220088958740234,
          39.04658126831055,
          44.43595504760742,
          39.07438278198242,
          28.299362182617188,
          28.299362182617188,
          52.923336029052734,
          44.49602127075195,
          44.49560546875,
          39.184261322021484,
          21.525856018066406,
          47.59739303588867,
          -8.750737190246582,
          47.74414825439453,
          47.59746551513672,
          33.220977783203125,
          33.220977783203125,
          46.80063247680664,
          -30.789522171020508,
          -34.91807556152344,
          -30.789522171020508,
          -43.12393569946289,
          39.22563171386719,
          34.616546630859375,
          -41.757102966308594,
          -41.757102966308594,
          44.59347152709961,
          44.67427444458008,
          40.15757369995117,
          40.15757369995117,
          25.71103858947754,
          -51.84950637817383,
          -41.48466873168945,
          -46.685157775878906,
          43.05903625488281,
          -40.91329574584961,
          43.3040885925293,
          -48.06718826293945,
          39.136783599853516,
          41.57326889038086,
          45.99748229980469,
          37.96183395385742,
          36.87665939331055,
          -37.88982009887695,
          63.585166931152344,
          33.711856842041016,
          51.441070556640625,
          40.717018127441406,
          58.201725006103516,
          26.032909393310547,
          55.906883239746094,
          37.09644317626953,
          50.65238952636719,
          44.64201736450195,
          55.90675735473633,
          50.89522171020508,
          50.654571533203125,
          32.89608383178711,
          58.20473861694336,
          -44.81871795654297,
          55.851341247558594,
          -45.771060943603516,
          -26.477828979492188,
          -39.747406005859375,
          24.02486228942871,
          -44.81850814819336,
          -39.747406005859375,
          -45.770450592041016,
          36.65191650390625,
          -20.245502471923828,
          37.369319915771484,
          32.89714431762695,
          -47.07960510253906,
          50.47127151489258,
          39.2280387878418,
          -36.32661056518555,
          55.78645706176758,
          36.65167236328125,
          48.583343505859375,
          55.78645706176758,
          56.66487503051758,
          53.83870315551758,
          49.836090087890625,
          42.619632720947266,
          34.10085678100586,
          48.37282943725586,
          14.120121955871582,
          39.74016189575195,
          14.202717781066895,
          33.475921630859375,
          -50.69913864135742,
          13.765504837036133,
          -44.48374938964844,
          -50.69913864135742,
          -44.4852409362793,
          13.765504837036133,
          14.141610145568848,
          -50.69913864135742,
          1.8351296186447144,
          36.476341247558594,
          -42.004878997802734,
          37.72018051147461,
          -42.004878997802734,
          -46.77568817138672,
          37.74342346191406,
          45.426422119140625,
          53.61113357543945,
          37.74342346191406,
          33.73296356201172,
          60.96683120727539,
          42.407073974609375,
          48.94572830200195,
          44.00459289550781,
          52.92667770385742,
          44.5382080078125,
          42.374176025390625,
          40.89863586425781,
          39.7481689453125,
          42.455223083496094,
          61.98484420776367,
          45.559383392333984,
          44.76581573486328,
          10.432222366333008,
          26.04434585571289,
          26.355741500854492,
          21.32767105102539,
          21.327627182006836,
          -50.19988250732422,
          26.35574722290039,
          30.909423828125,
          46.73307418823242,
          45.85601806640625,
          46.60622024536133,
          49.68769073486328,
          42.3510627746582,
          38.87337112426758,
          21.912181854248047,
          21.912181854248047,
          21.912181854248047,
          -38.850250244140625,
          50.89207077026367,
          56.308570861816406,
          46.52500534057617,
          57.75568771362305,
          47.390602111816406,
          63.587310791015625,
          56.308570861816406,
          57.75568771362305,
          47.390716552734375,
          55.54460144042969,
          57.75572967529297,
          38.30790710449219,
          59.72170639038086,
          -37.1161003112793,
          38.09189987182617,
          38.30790710449219,
          38.30790710449219,
          63.64697265625,
          63.64592742919922,
          30.231689453125,
          49.4045524597168,
          40.294921875,
          43.035343170166016,
          21.938230514526367,
          -4.682249069213867,
          -4.682297229766846,
          -28.5933837890625,
          59.76560974121094,
          -54.20537567138672,
          46.99815368652344,
          45.7462272644043,
          -14.676774024963379,
          -54.1461067199707,
          33.819332122802734,
          -32.46443557739258,
          -29.651779174804688,
          -54.1461067199707,
          -35.54817199707031,
          -28.73576545715332,
          -29.651779174804688,
          -54.1461067199707,
          -47.24620819091797,
          -31.40117835998535,
          -40.021854400634766,
          -31.401308059692383,
          -11.906953811645508,
          36.33406448364258,
          35.46699142456055,
          26.309362411499023,
          36.99122619628906,
          39.28791427612305,
          23.846994400024414,
          53.881797790527344,
          53.881797790527344,
          40.49849319458008,
          32.83362579345703,
          41.55535888671875,
          39.21720886230469,
          -36.73408508300781,
          39.935264587402344,
          32.69474792480469,
          74.0848617553711,
          74.0848617553711,
          38.04758834838867,
          45.882896423339844,
          -27.579994201660156,
          39.59934997558594,
          -46.19392776489258,
          -36.19446563720703,
          39.62438201904297,
          50.39265441894531,
          -36.19446563720703,
          -36.19446563720703,
          40.3563117980957,
          -36.19446563720703,
          55.49070358276367,
          60.276729583740234,
          40.34295654296875,
          42.27909851074219,
          50.29506301879883,
          38.90568542480469,
          56.66487503051758,
          43.76658630371094,
          -45.355194091796875,
          -49.16682434082031,
          -49.16682434082031,
          -28.796361923217773,
          -16.823232650756836,
          38.6666374206543,
          38.62684631347656,
          -26.710277557373047,
          -16.823286056518555,
          74.62665557861328,
          73.931884765625,
          74.52232360839844,
          74.94515991210938,
          52.06370544433594,
          27.465543746948242,
          53.62420654296875,
          60.91901397705078,
          43.39094924926758,
          60.85161590576172,
          47.84569549560547,
          -27.928712844848633,
          42.83700180053711,
          52.06386184692383,
          60.91901397705078,
          52.063602447509766,
          60.851322174072266,
          -40.34272384643555,
          45.36736297607422,
          -40.34269332885742,
          32.97297668457031,
          41.07106018066406,
          36.500640869140625,
          48.72465896606445,
          63.256370544433594,
          35.17523956298828,
          19.7544002532959,
          -49.02865219116211,
          49.65524673461914,
          -24.866012573242188,
          -21.05411720275879,
          -24.86600685119629,
          45.56038284301758,
          60.66984176635742,
          5.7375006675720215,
          31.844341278076172,
          -21.848968505859375,
          31.59402084350586,
          30.65275764465332,
          42.96343231201172,
          29.89544105529785,
          35.47026443481445,
          29.792301177978516,
          30.65275764465332,
          30.092376708984375,
          32.034969329833984,
          37.1337776184082,
          46.12900161743164,
          57.63010787963867,
          47.403533935546875,
          19.507766723632812,
          46.073890686035156,
          49.84883117675781,
          22.74416732788086,
          -55.298194885253906,
          42.974327087402344,
          61.7258186340332,
          44.716896057128906,
          -55.298194885253906,
          61.7258186340332,
          -53.73428726196289,
          -51.10468292236328,
          -53.73428726196289,
          -51.10505294799805,
          50.091583251953125,
          40.63786697387695,
          -32.9981689453125,
          -37.201499938964844,
          40.76705551147461,
          39.48418426513672,
          -25.74706268310547,
          -37.02846145629883,
          -45.59146499633789
         ],
         "xaxis": "x",
         "y": [
          -46.55671310424805,
          -47.1236457824707,
          -47.1236457824707,
          -46.55671310424805,
          -31.313941955566406,
          -47.1236457824707,
          -46.556922912597656,
          -45.65617752075195,
          -45.84355545043945,
          -6.464486122131348,
          -0.5166146159172058,
          55.42198944091797,
          54.460731506347656,
          56.01316452026367,
          56.01310729980469,
          52.245628356933594,
          55.606300354003906,
          43.41419982910156,
          34.4674072265625,
          54.40066909790039,
          55.337127685546875,
          52.245628356933594,
          55.606300354003906,
          34.467105865478516,
          54.40066909790039,
          -40.15486526489258,
          16.099000930786133,
          3.3753063678741455,
          -6.508736610412598,
          -42.720314025878906,
          -44.124000549316406,
          -41.77702331542969,
          22.551578521728516,
          -1.8943761587142944,
          -44.124000549316406,
          5.026470184326172,
          -42.720314025878906,
          -41.779457092285156,
          7.946030616760254,
          6.253542423248291,
          8.62993049621582,
          8.62993049621582,
          34.816917419433594,
          15.917473793029785,
          3.135284662246704,
          -41.77693176269531,
          14.056371688842773,
          14.340343475341797,
          34.88875198364258,
          34.88875198364258,
          -12.116808891296387,
          14.425504684448242,
          14.12854290008545,
          16.33778953552246,
          12.2903413772583,
          15.952424049377441,
          -5.64259672164917,
          29.74613380432129,
          -53.71001052856445,
          -53.71001052856445,
          -3.8089170455932617,
          -2.491633653640747,
          13.7072114944458,
          -8.11292839050293,
          3.6957149505615234,
          -1.3346067667007446,
          0.8803569674491882,
          -1.7883182764053345,
          8.397176742553711,
          -20.229902267456055,
          -11.010713577270508,
          -19.93724822998047,
          -4.7858805656433105,
          8.455114364624023,
          37.881187438964844,
          41.44554901123047,
          50.46367263793945,
          50.3405876159668,
          41.44588088989258,
          50.11279296875,
          49.57889175415039,
          49.68430709838867,
          49.68430709838867,
          -44.36450958251953,
          -44.36471176147461,
          26.461278915405273,
          39.98345184326172,
          22.0140380859375,
          22.0140380859375,
          26.461278915405273,
          26.461278915405273,
          22.0140380859375,
          26.461278915405273,
          -5.793529033660889,
          -22.326210021972656,
          -22.326383590698242,
          -5.793585777282715,
          18.58007049560547,
          -50.323211669921875,
          33.283164978027344,
          -2.7178947925567627,
          -46.13052749633789,
          1.247964859008789,
          -46.304988861083984,
          -36.42668533325195,
          4.904998302459717,
          40.868690490722656,
          -36.42668533325195,
          -6.724706172943115,
          -41.620079040527344,
          0.29239803552627563,
          -8.40567684173584,
          11.117439270019531,
          -22.92038917541504,
          9.57614803314209,
          0.8378205895423889,
          -5.359817028045654,
          0.8378205895423889,
          32.528446197509766,
          -5.888819694519043,
          -22.932153701782227,
          -22.92038917541504,
          -10.913419723510742,
          -10.95222282409668,
          23.983972549438477,
          2.7537403106689453,
          17.826980590820312,
          2.1002113819122314,
          17.35280418395996,
          23.051158905029297,
          25.641218185424805,
          19.23849868774414,
          20.857770919799805,
          26.819339752197266,
          21.190710067749023,
          4.144677639007568,
          13.827725410461426,
          -10.16895866394043,
          -5.925658226013184,
          13.3090238571167,
          13.30140495300293,
          -56.364891052246094,
          13.97953987121582,
          -47.2673225402832,
          -56.36574172973633,
          -56.74471664428711,
          -17.06842803955078,
          -43.220664978027344,
          21.46296501159668,
          -43.220664978027344,
          32.52218246459961,
          9.702604293823242,
          -13.894831657409668,
          28.461027145385742,
          9.085551261901855,
          -11.52920913696289,
          28.7678165435791,
          44.22910690307617,
          52.264530181884766,
          21.02901268005371,
          33.206298828125,
          44.22910690307617,
          38.189186096191406,
          41.87931442260742,
          39.61272048950195,
          39.612571716308594,
          52.52047348022461,
          52.52047348022461,
          41.21425247192383,
          14.005928993225098,
          25.602991104125977,
          25.676389694213867,
          26.46988296508789,
          25.638771057128906,
          -38.19134521484375,
          -37.54766082763672,
          -10.256526947021484,
          -48.222084045410156,
          -19.3580379486084,
          -46.28400802612305,
          -2.9527218341827393,
          -46.49427032470703,
          -48.222084045410156,
          -37.54751205444336,
          13.364606857299805,
          -47.273040771484375,
          -8.010724067687988,
          -52.283729553222656,
          -41.7386589050293,
          5.405035495758057,
          -52.283729553222656,
          -41.7386589050293,
          -52.283729553222656,
          -9.893760681152344,
          22.729270935058594,
          -41.7386589050293,
          -39.93931198120117,
          -39.705013275146484,
          -39.73780822753906,
          29.55254554748535,
          -39.4929313659668,
          12.49232292175293,
          21.716646194458008,
          13.077789306640625,
          -4.666433811187744,
          13.97370433807373,
          -7.116968631744385,
          13.374646186828613,
          17.06439208984375,
          17.064332962036133,
          17.23151397705078,
          17.56502914428711,
          18.423643112182617,
          -44.724159240722656,
          -9.858123779296875,
          18.423593521118164,
          -44.72420120239258,
          -49.200984954833984,
          -16.94638442993164,
          -12.776382446289062,
          -55.166900634765625,
          -49.41183853149414,
          -6.10959005355835,
          -53.349571228027344,
          -0.47026437520980835,
          -55.166900634765625,
          14.085927963256836,
          27.86113166809082,
          50.94743347167969,
          59.12727737426758,
          50.97666549682617,
          29.911785125732422,
          40.86907958984375,
          29.91227149963379,
          27.861186981201172,
          60.81144714355469,
          54.35248565673828,
          60.81144714355469,
          41.44580841064453,
          27.389711380004883,
          24.260961532592773,
          38.353302001953125,
          -7.021919250488281,
          -5.95449161529541,
          -6.181951522827148,
          -7.021919250488281,
          -6.182047367095947,
          49.54813766479492,
          38.70866012573242,
          47.946109771728516,
          49.46913146972656,
          15.481022834777832,
          42.83290100097656,
          38.20637512207031,
          38.20637512207031,
          -55.709625244140625,
          15.485280990600586,
          15.111252784729004,
          15.43266773223877,
          -0.44747546315193176,
          12.488454818725586,
          -41.280364990234375,
          -5.909774303436279,
          -29.564653396606445,
          43.822998046875,
          51.293277740478516,
          30.56125259399414,
          41.627437591552734,
          -50.3233528137207,
          6.1882758140563965,
          -47.95244598388672,
          16.574377059936523,
          18.713836669921875,
          21.440832138061523,
          4.731805324554443,
          13.3194580078125,
          -41.5971794128418,
          -0.5003094673156738,
          -5.2330121994018555,
          -2.775484561920166,
          21.457080841064453,
          28.96292495727539,
          18.111297607421875,
          38.0892219543457,
          48.66050338745117,
          37.21518325805664,
          49.44735336303711,
          27.66255760192871,
          41.321861267089844,
          28.962968826293945,
          38.08930206298828,
          17.555784225463867,
          -51.88163375854492,
          -36.8853874206543,
          -14.246330261230469,
          -44.56589126586914,
          -57.54093551635742,
          -58.33203125,
          -57.54093551635742,
          -12.445765495300293,
          2.4735045433044434,
          -53.71988296508789,
          -53.01104736328125,
          2.53252911567688,
          -53.06747055053711,
          -53.718257904052734,
          19.06154441833496,
          -61.55657958984375,
          -61.55657958984375,
          -38.0730094909668,
          11.079887390136719,
          -22.562711715698242,
          -10.915672302246094,
          -38.0730094909668,
          1.8464195728302002,
          -14.266387939453125,
          7.7687201499938965,
          -52.45845031738281,
          10.733207702636719,
          -52.37301254272461,
          11.41326904296875,
          -14.608880043029785,
          -16.891056060791016,
          12.671148300170898,
          -16.428890228271484,
          -41.76133728027344,
          -49.702640533447266,
          48.282588958740234,
          46.55522918701172,
          37.8236198425293,
          40.42367172241211,
          45.014549255371094,
          43.81022262573242,
          35.28053665161133,
          53.664588928222656,
          51.2802734375,
          51.62892150878906,
          51.62818145751953,
          53.8198127746582,
          44.03941345214844,
          35.28053665161133,
          51.62892150878906,
          62.887672424316406,
          62.887672424316406,
          62.887672424316406,
          63.004173278808594,
          -8.768736839294434,
          -56.43678665161133,
          -56.43678665161133,
          -31.843759536743164,
          10.395021438598633,
          20.684473037719727,
          -7.864754676818848,
          -31.843759536743164,
          -16.064281463623047,
          -9.427932739257812,
          -50.018333435058594,
          -4.706273078918457,
          13.397881507873535,
          -9.243056297302246,
          -42.06124496459961,
          0.5414970517158508,
          0.6039385199546814,
          -33.4149169921875,
          -39.710208892822266,
          0.8409944772720337,
          -50.163307189941406,
          -6.412269115447998,
          -17.115943908691406,
          48.13266372680664,
          1.273638367652893,
          48.132476806640625,
          -50.163307189941406,
          -51.6237907409668,
          -10.302913665771484,
          -52.56983947753906,
          -9.8160982131958,
          -48.23876953125,
          18.75506591796875,
          -52.33519744873047,
          -48.23876953125,
          -11.700661659240723,
          -6.753119468688965,
          -9.152725219726562,
          28.890758514404297,
          49.16863250732422,
          23.765125274658203,
          43.9828987121582,
          28.890962600708008,
          23.765125274658203,
          32.283241271972656,
          40.9495735168457,
          43.44679641723633,
          47.71092987060547,
          -42.2125358581543,
          25.526878356933594,
          -4.793028831481934,
          6.193884372711182,
          -4.793028831481934,
          -48.6487922668457,
          1.1834661960601807,
          -46.67973327636719,
          -42.21103286743164,
          -4.793028831481934,
          -4.793028831481934,
          -42.21103286743164,
          -48.648616790771484,
          -4.793028831481934,
          16.790821075439453,
          -26.540979385375977,
          -4.186223030090332,
          23.73842430114746,
          8.302899360656738,
          8.712296485900879,
          16.991840362548828,
          14.938891410827637,
          15.393172264099121,
          -41.73027038574219,
          -9.013330459594727,
          -57.52490997314453,
          -8.674925804138184,
          -51.333900451660156,
          18.965076446533203,
          -57.524070739746094,
          1.2334980964660645,
          -15.84556770324707,
          18.363815307617188,
          -4.740846633911133,
          -16.274707794189453,
          -4.6122612953186035,
          -46.838191986083984,
          -0.11502084881067276,
          17.265018463134766,
          -15.789575576782227,
          19.71149444580078,
          -0.7525683045387268,
          1.0299679040908813,
          20.944950103759766,
          -48.8569450378418,
          -16.428890228271484,
          -16.81029510498047,
          0.26762834191322327,
          -41.535186767578125,
          -15.00601577758789,
          2.161350727081299,
          7.88481330871582,
          -5.622185707092285,
          -11.071321487426758,
          -52.54703140258789,
          -58.33203125,
          30.271602630615234,
          -50.660518646240234,
          -52.54644775390625,
          -50.660518646240234,
          -50.660518646240234,
          -52.546470642089844,
          -50.660518646240234,
          -58.33203125,
          5.869089603424072,
          5.8695969581604,
          -3.225088357925415,
          -3.7735207080841064,
          25.62546730041504,
          41.41086196899414,
          29.370380401611328,
          51.99187469482422,
          43.97283172607422,
          52.14075469970703,
          59.070701599121094,
          29.370506286621094,
          49.2845573425293,
          -12.749635696411133,
          0.29235032200813293,
          -13.0217866897583,
          11.054580688476562,
          1.5975456237792969,
          26.596359252929688,
          47.274784088134766,
          47.274784088134766,
          26.631872177124023,
          26.80878448486328,
          30.239397048950195,
          30.239152908325195,
          30.239408493041992,
          26.41069793701172,
          25.228620529174805,
          15.038985252380371,
          1.6746565103530884,
          -9.381571769714355,
          14.99322509765625,
          -14.350286483764648,
          -3.8087382316589355,
          14.99322509765625,
          -43.302825927734375,
          -49.71262741088867,
          -0.6519239544868469,
          -14.051130294799805,
          -12.016057968139648,
          -4.028873920440674,
          -0.6649874448776245,
          -48.68745422363281,
          6.470926761627197,
          -39.44279098510742,
          -50.30253219604492,
          -39.44279098510742,
          -47.8261833190918,
          -53.88239669799805,
          -60.319305419921875,
          -16.17026138305664,
          -36.77668380737305,
          13.311333656311035,
          -60.30596160888672,
          -37.560245513916016,
          61.39938735961914,
          48.439735412597656,
          21.183523178100586,
          56.21963119506836,
          55.01499938964844,
          51.018959045410156,
          21.183523178100586,
          61.39938735961914,
          21.183523178100586,
          -50.53169631958008,
          -55.614070892333984,
          -39.113494873046875,
          -25.29958724975586,
          -55.370452880859375,
          -55.45766067504883,
          -55.66145324707031,
          -39.113494873046875,
          59.11487579345703,
          6.316248893737793,
          -39.32427215576172,
          -62.90237808227539,
          7.852985858917236,
          -14.235480308532715,
          -22.018678665161133,
          3.287069797515869,
          -43.302825927734375,
          -57.823246002197266,
          -17.20127296447754,
          -43.302825927734375,
          -22.018678665161133,
          -13.063396453857422,
          14.698797225952148,
          2.9357287883758545,
          -10.880842208862305,
          -11.009276390075684,
          -13.226288795471191,
          19.960159301757812,
          20.843629837036133,
          20.250732421875,
          -40.78694534301758,
          -40.78681182861328,
          -40.78681182861328,
          8.71306037902832,
          20.053733825683594,
          -0.23166131973266602,
          9.223097801208496,
          9.223097801208496,
          9.223097801208496,
          -21.079633712768555,
          28.461027145385742,
          -1.9444752931594849,
          14.197782516479492,
          -48.67671585083008,
          -2.0511789321899414,
          -48.67671585083008,
          -50.54983139038086,
          -14.995185852050781,
          -24.245893478393555,
          52.10832214355469,
          -24.247356414794922,
          -17.177921295166016,
          6.919124603271484,
          -38.811588287353516,
          -50.09019088745117,
          6.919124603271484,
          -38.811588287353516,
          -50.09019088745117,
          -50.090213775634766,
          8.81602668762207,
          -61.04684829711914,
          -61.04671859741211,
          -36.381141662597656,
          -36.381141662597656,
          -36.381141662597656,
          -61.04671859741211,
          -7.763142108917236,
          -1.974945068359375,
          -51.34236526489258,
          46.88185501098633,
          53.65060806274414,
          42.475440979003906,
          25.180559158325195,
          54.0898323059082,
          36.01505661010742,
          44.23101043701172,
          42.47504425048828,
          24.174915313720703,
          42.407508850097656,
          46.666358947753906,
          39.345577239990234,
          46.666358947753906,
          46.523128509521484,
          24.172584533691406,
          46.733604431152344,
          46.662052154541016,
          46.662052154541016,
          23.90078353881836,
          46.66059112548828,
          46.365474700927734,
          23.88584327697754,
          -47.39202880859375,
          -41.138633728027344,
          5.379861354827881,
          -7.730282783508301,
          13.067492485046387,
          13.067492485046387,
          -40.06089401245117,
          2.1661174297332764,
          13.248296737670898,
          21.61360740661621,
          21.613550186157227,
          13.248296737670898,
          36.97026443481445,
          40.33240509033203,
          50.540245056152344,
          21.800613403320312,
          31.866809844970703,
          48.99905014038086,
          14.444313049316406,
          -50.83420944213867,
          -30.39071273803711,
          -9.72285270690918,
          4.269176959991455,
          -9.22399616241455,
          -7.005414962768555,
          4.255892276763916,
          -15.636581420898438,
          -8.568690299987793,
          -46.780181884765625,
          4.255892276763916,
          -36.58159637451172,
          58.44312286376953,
          49.58037567138672,
          58.06544494628906,
          39.73817825317383,
          58.44312286376953,
          58.008201599121094,
          58.06544494628906,
          41.37602996826172,
          48.38551712036133,
          57.89893341064453,
          61.439735412597656,
          44.212745666503906,
          61.439788818359375,
          56.4514045715332,
          48.018157958984375,
          39.81133270263672,
          58.06544494628906,
          58.06544494628906,
          57.68318557739258,
          2.0155935287475586,
          2.0157129764556885,
          20.337749481201172,
          -9.013711929321289,
          1.546705961227417,
          -24.392841339111328,
          12.488801002502441,
          1.5467963218688965,
          31.628660202026367,
          31.628660202026367,
          23.682809829711914,
          -49.90778732299805,
          -46.52096176147461,
          -49.90778732299805,
          -37.919307708740234,
          5.593419075012207,
          -4.058587551116943,
          -62.90237808227539,
          -62.90237808227539,
          15.009413719177246,
          15.030684471130371,
          27.202360153198242,
          27.202360153198242,
          8.520059585571289,
          -38.37152862548828,
          -51.577415466308594,
          -46.786956787109375,
          -13.049193382263184,
          -54.262969970703125,
          -13.050711631774902,
          -38.46736526489258,
          10.95117473602295,
          -1.988896131515503,
          3.4338557720184326,
          3.335279703140259,
          5.678872585296631,
          -62.31849670410156,
          13.667859077453613,
          5.1484479904174805,
          15.110603332519531,
          -3.381993293762207,
          35.246421813964844,
          19.89699363708496,
          28.98649024963379,
          52.01081466674805,
          45.39678192138672,
          35.13420486450195,
          28.986709594726562,
          26.39454460144043,
          45.39653015136719,
          48.100730895996094,
          35.24246597290039,
          -30.389001846313477,
          14.059810638427734,
          -44.11575698852539,
          -43.29310989379883,
          -67.4630126953125,
          -11.554999351501465,
          -30.38937759399414,
          -67.4630126953125,
          -44.11630630493164,
          4.099053859710693,
          16.420747756958008,
          -9.146668434143066,
          4.795176029205322,
          -36.412017822265625,
          -10.734414100646973,
          -5.5851263999938965,
          -43.538490295410156,
          57.04596710205078,
          34.27702713012695,
          49.00170135498047,
          57.04596710205078,
          56.96188735961914,
          21.47388458251953,
          48.66115188598633,
          27.830461502075195,
          31.882360458374023,
          33.85458755493164,
          -19.486852645874023,
          4.068901538848877,
          -20.544710159301758,
          25.16908836364746,
          -0.2247697114944458,
          -20.61078453063965,
          -46.52064895629883,
          -0.2247697114944458,
          -46.52047348022461,
          -20.61078453063965,
          -20.72933578491211,
          -0.2247697114944458,
          -39.978492736816406,
          -2.642808437347412,
          -58.114070892333984,
          -4.159901142120361,
          -58.114070892333984,
          -51.64892578125,
          25.43576431274414,
          49.6602897644043,
          20.72276496887207,
          25.436336517333984,
          47.067718505859375,
          28.888839721679688,
          47.96394348144531,
          38.92070007324219,
          54.10772705078125,
          25.297290802001953,
          39.804603576660156,
          33.90693664550781,
          39.17307662963867,
          42.50547790527344,
          30.72308349609375,
          28.768220901489258,
          -19.083663940429688,
          21.696704864501953,
          -10.936059951782227,
          17.077205657958984,
          -9.849181175231934,
          11.021096229553223,
          11.021143913269043,
          -37.18156814575195,
          -9.84915828704834,
          12.457730293273926,
          44.924983978271484,
          49.9826774597168,
          56.22001266479492,
          23.37810516357422,
          53.895957946777344,
          -17.288917541503906,
          38.25215148925781,
          38.25215148925781,
          38.25215148925781,
          -50.83420944213867,
          24.26598358154297,
          56.17804718017578,
          29.67641258239746,
          33.45199966430664,
          29.09720802307129,
          28.06572914123535,
          56.17804718017578,
          33.45199966430664,
          29.096975326538086,
          56.345035552978516,
          33.45203399658203,
          34.83205795288086,
          28.931026458740234,
          -49.58417892456055,
          -7.1318488121032715,
          34.83205795288086,
          34.83205795288086,
          19.886316299438477,
          19.885343551635742,
          -14.597336769104004,
          -13.35195541381836,
          -1.9065346717834473,
          4.744406223297119,
          3.685930013656616,
          4.129591941833496,
          4.129745960235596,
          -52.636295318603516,
          20.706947326660156,
          -42.41511535644531,
          7.99882173538208,
          -7.126384258270264,
          -11.950809478759766,
          -42.016845703125,
          -19.720014572143555,
          -52.6529426574707,
          -24.64990997314453,
          -42.016845703125,
          -48.52083969116211,
          -44.27605438232422,
          -24.64990997314453,
          -42.016845703125,
          -24.42958641052246,
          -19.50217056274414,
          -57.716251373291016,
          -19.502119064331055,
          -31.623550415039062,
          3.0528528690338135,
          -13.485846519470215,
          7.7653913497924805,
          1.8132644891738892,
          1.6432856321334839,
          32.87845230102539,
          30.75963592529297,
          30.75963592529297,
          46.78952407836914,
          48.642791748046875,
          50.278648376464844,
          52.578609466552734,
          -38.9114875793457,
          53.41686248779297,
          47.420372009277344,
          17.519264221191406,
          17.519264221191406,
          -12.114935874938965,
          -1.918028712272644,
          -45.34258270263672,
          13.166571617126465,
          -38.23576354980469,
          -65.5953140258789,
          -10.699949264526367,
          -10.174965858459473,
          -65.5953140258789,
          -65.5953140258789,
          -4.423546314239502,
          -65.5953140258789,
          22.826589584350586,
          30.452531814575195,
          45.170345306396484,
          36.00107192993164,
          56.948020935058594,
          38.17548370361328,
          56.96188735961914,
          31.045490264892578,
          -49.01093673706055,
          -54.19162368774414,
          -54.19162368774414,
          -20.645599365234375,
          44.86436080932617,
          -7.452027797698975,
          -1.9612421989440918,
          -52.442325592041016,
          44.864646911621094,
          13.595027923583984,
          15.407449722290039,
          14.713322639465332,
          14.896964073181152,
          16.623464584350586,
          15.111706733703613,
          -0.4884789288043976,
          12.284998893737793,
          8.80815315246582,
          22.465274810791016,
          -11.5753173828125,
          -15.204129219055176,
          18.968368530273438,
          16.623472213745117,
          12.284998893737793,
          16.62358856201172,
          22.465078353881836,
          -46.1390495300293,
          -6.450175762176514,
          -46.138240814208984,
          -2.135708808898926,
          -9.886079788208008,
          -11.869171142578125,
          17.939590454101562,
          14.15922737121582,
          -6.145400524139404,
          -8.68564224243164,
          -52.15568542480469,
          -5.355891227722168,
          -41.86262512207031,
          -25.91998863220215,
          -41.8626708984375,
          -14.966055870056152,
          25.827373504638672,
          -30.486238479614258,
          0.23366157710552216,
          -45.829097747802734,
          0.0945345014333725,
          28.248201370239258,
          -4.30438232421875,
          -2.8604490756988525,
          -10.60102367401123,
          -2.9054393768310547,
          28.248201370239258,
          24.882062911987305,
          12.874774932861328,
          36.923377990722656,
          40.17387008666992,
          25.94660186767578,
          34.8620491027832,
          23.071796417236328,
          -10.523329734802246,
          -4.180901527404785,
          2.9476699829101562,
          -46.63288879394531,
          19.23800277709961,
          39.552494049072266,
          12.555538177490234,
          -46.63288879394531,
          39.552494049072266,
          -34.48298645019531,
          -45.092445373535156,
          -34.48298645019531,
          -45.092044830322266,
          36.99017333984375,
          -12.20091438293457,
          -45.522090911865234,
          -56.25399398803711,
          -12.245524406433105,
          -9.851151466369629,
          -36.647953033447266,
          -45.709781646728516,
          -22.943220138549805
         ],
         "yaxis": "y"
        },
        {
         "customdata": [
          [
           "daughter",
           "CHARACTER"
          ],
          [
           "son",
           "CHARACTER"
          ],
          [
           "teacher",
           "CHARACTER"
          ],
          [
           "master",
           "CHARACTER"
          ],
          [
           "disciples of Ramakrishna",
           "CHARACTER"
          ],
          [
           "prince",
           "CHARACTER"
          ],
          [
           "friend",
           "CHARACTER"
          ],
          [
           "damsel",
           "CHARACTER"
          ],
          [
           "king",
           "CHARACTER"
          ],
          [
           "wife",
           "CHARACTER"
          ],
          [
           "prince",
           "CHARACTER"
          ],
          [
           "wives",
           "CHARACTER"
          ],
          [
           "celestial maidens",
           "CHARACTER"
          ],
          [
           "Police inspector",
           "CHARACTER"
          ],
          [
           "victims",
           "CHARACTER"
          ],
          [
           "German woman",
           "CHARACTER"
          ],
          [
           "state prison escapees",
           "CHARACTER"
          ],
          [
           "girl",
           "CHARACTER"
          ],
          [
           "close friends",
           "CHARACTER"
          ],
          [
           "cabaret singer",
           "CHARACTER"
          ],
          [
           "friends",
           "CHARACTER"
          ],
          [
           "son",
           "CHARACTER"
          ],
          [
           "department store owner",
           "CHARACTER"
          ],
          [
           "store's sports clerk",
           "CHARACTER"
          ],
          [
           "cabaret singer",
           "CHARACTER"
          ],
          [
           "co-respondent",
           "CHARACTER"
          ],
          [
           "students",
           "CHARACTER"
          ],
          [
           "teacher",
           "CHARACTER"
          ],
          [
           "21-year-old teacher",
           "CHARACTER"
          ],
          [
           "people",
           "CHARACTER"
          ],
          [
           "showroom executive",
           "CHARACTER"
          ],
          [
           "girlfriend",
           "CHARACTER"
          ],
          [
           "swordsman",
           "CHARACTER"
          ],
          [
           "Young sci-fi/fantasy enthusiast",
           "CHARACTER"
          ],
          [
           "ragtag group of nerd friends",
           "CHARACTER"
          ],
          [
           "Gavin's redneck neighbors",
           "CHARACTER"
          ],
          [
           "local Sasquatch \"expert\"",
           "CHARACTER"
          ],
          [
           "lover",
           "CHARACTER"
          ],
          [
           "young and charming medical student",
           "CHARACTER"
          ],
          [
           "shrewd politician",
           "CHARACTER"
          ],
          [
           "penniless outcast",
           "CHARACTER"
          ],
          [
           "young boy",
           "CHARACTER"
          ],
          [
           "uncaring undertaker",
           "CHARACTER"
          ],
          [
           "Oliver's mother",
           "CHARACTER"
          ],
          [
           "gang of thieves",
           "CHARACTER"
          ],
          [
           "Mongol",
           "CHARACTER"
          ],
          [
           "Tartars",
           "CHARACTER"
          ],
          [
           "Mongol chief",
           "CHARACTER"
          ],
          [
           "daughter of the Tartar leader",
           "CHARACTER"
          ],
          [
           "traitor",
           "CHARACTER"
          ],
          [
           "gambler",
           "CHARACTER"
          ],
          [
           "outlaws",
           "CHARACTER"
          ],
          [
           "popular dance hall girl",
           "CHARACTER"
          ],
          [
           "gang of outlaws",
           "CHARACTER"
          ],
          [
           "Mormons",
           "CHARACTER"
          ],
          [
           "trickster",
           "CHARACTER"
          ],
          [
           "Master of Back-Stabbing, Cork-Screwing and Dirty-Dealing",
           "CHARACTER"
          ],
          [
           "young man",
           "CHARACTER"
          ],
          [
           "parishioners",
           "CHARACTER"
          ],
          [
           "cousins",
           "CHARACTER"
          ],
          [
           "gypsy",
           "CHARACTER"
          ],
          [
           "siren",
           "CHARACTER"
          ],
          [
           "bandit",
           "CHARACTER"
          ],
          [
           "soldier",
           "CHARACTER"
          ],
          [
           "soldier",
           "CHARACTER"
          ],
          [
           "Carmen's husband",
           "CHARACTER"
          ],
          [
           "cheerleaders",
           "CHARACTER"
          ],
          [
           "men",
           "CHARACTER"
          ],
          [
           "villain",
           "CHARACTER"
          ],
          [
           "psychoanalyst",
           "CHARACTER"
          ],
          [
           "friends",
           "CHARACTER"
          ],
          [
           "killer",
           "CHARACTER"
          ],
          [
           "killer",
           "CHARACTER"
          ],
          [
           "doctor",
           "CHARACTER"
          ],
          [
           "killer",
           "CHARACTER"
          ],
          [
           "killer",
           "CHARACTER"
          ],
          [
           "young family",
           "CHARACTER"
          ],
          [
           "gang",
           "CHARACTER"
          ],
          [
           "doctor",
           "CHARACTER"
          ],
          [
           "physical instructor",
           "CHARACTER"
          ],
          [
           "naval war hero",
           "CHARACTER"
          ],
          [
           "boys",
           "CHARACTER"
          ],
          [
           "Afghani woman",
           "CHARACTER"
          ],
          [
           "Outback farmer",
           "CHARACTER"
          ],
          [
           "twin sisters",
           "CHARACTER"
          ],
          [
           "young Japanese clock repairman",
           "CHARACTER"
          ],
          [
           "Sergeant",
           "CHARACTER"
          ],
          [
           "American fliers",
           "CHARACTER"
          ],
          [
           "Captain",
           "CHARACTER"
          ],
          [
           "guests",
           "CHARACTER"
          ],
          [
           "Americans",
           "CHARACTER"
          ],
          [
           "wife",
           "CHARACTER"
          ],
          [
           "billionaire boss",
           "CHARACTER"
          ],
          [
           "dictator",
           "CHARACTER"
          ],
          [
           "Byron's old college roommate",
           "CHARACTER"
          ],
          [
           "feisty, fast-talking woman",
           "CHARACTER"
          ],
          [
           "part-time Baccarat dealer",
           "CHARACTER"
          ],
          [
           "full-time cabaret dancer",
           "CHARACTER"
          ],
          [
           "mismatched couple",
           "CHARACTER"
          ],
          [
           "It girl",
           "CHARACTER"
          ],
          [
           "small unit of 40 Turkish soldiers",
           "CHARACTER"
          ],
          [
           "Turkish Army",
           "CHARACTER"
          ],
          [
           "Kurdistan Workers' Party",
           "CHARACTER"
          ],
          [
           "Denzimen",
           "CHARACTER"
          ],
          [
           "Vader Clan",
           "CHARACTER"
          ],
          [
           "Vader Clan",
           "CHARACTER"
          ],
          [
           "young people",
           "CHARACTER"
          ],
          [
           "descendants of the Denzi people",
           "CHARACTER"
          ],
          [
           "Vader Clan",
           "CHARACTER"
          ],
          [
           "marshal",
           "CHARACTER"
          ],
          [
           "sweetheart",
           "CHARACTER"
          ],
          [
           "orphan girl",
           "CHARACTER"
          ],
          [
           "regular Bombay potboiler",
           "CHARACTER"
          ],
          [
           "software engineer",
           "CHARACTER"
          ],
          [
           "engineer",
           "CHARACTER"
          ],
          [
           "families",
           "CHARACTER"
          ],
          [
           "friends",
           "CHARACTER"
          ],
          [
           "landlord",
           "CHARACTER"
          ],
          [
           "poor farmers",
           "CHARACTER"
          ],
          [
           "poor peasant",
           "CHARACTER"
          ],
          [
           "prime suspect",
           "CHARACTER"
          ],
          [
           "psychic woman",
           "CHARACTER"
          ],
          [
           "archaeologists",
           "CHARACTER"
          ],
          [
           "werewolf",
           "CHARACTER"
          ],
          [
           "werewolf-mummy",
           "CHARACTER"
          ],
          [
           "Aztec mummy",
           "CHARACTER"
          ],
          [
           "mummies",
           "CHARACTER"
          ],
          [
           "mad scientist",
           "CHARACTER"
          ],
          [
           "psychic",
           "CHARACTER"
          ],
          [
           "Stand-up-comedian",
           "CHARACTER"
          ],
          [
           "girlfriend",
           "CHARACTER"
          ],
          [
           "partner",
           "CHARACTER"
          ],
          [
           "successful 40-year old dentist",
           "CHARACTER"
          ],
          [
           "former beloved",
           "CHARACTER"
          ],
          [
           "reporters",
           "CHARACTER"
          ],
          [
           "girlfriend",
           "CHARACTER"
          ],
          [
           "jewel thief",
           "CHARACTER"
          ],
          [
           "thief",
           "CHARACTER"
          ],
          [
           "best friends",
           "CHARACTER"
          ],
          [
           "authors",
           "CHARACTER"
          ],
          [
           "famous heterosexual author",
           "CHARACTER"
          ],
          [
           "all-female writers",
           "CHARACTER"
          ],
          [
           "Claire's roommate",
           "CHARACTER"
          ],
          [
           "author of a book",
           "CHARACTER"
          ],
          [
           "CID detectives",
           "CHARACTER"
          ],
          [
           "newspaper reporter",
           "CHARACTER"
          ],
          [
           "vicious hit man",
           "CHARACTER"
          ],
          [
           "owner",
           "CHARACTER"
          ],
          [
           "lover",
           "CHARACTER"
          ],
          [
           "mentally retarded servant boy",
           "CHARACTER"
          ],
          [
           "lodge owner",
           "CHARACTER"
          ],
          [
           "inebriated Sait",
           "CHARACTER"
          ],
          [
           "Sait",
           "CHARACTER"
          ],
          [
           "woman lodger",
           "CHARACTER"
          ],
          [
           "head cook",
           "CHARACTER"
          ],
          [
           "French diplomat",
           "CHARACTER"
          ],
          [
           "Chinese opera performer",
           "CHARACTER"
          ],
          [
           "Government of the People's Republic of China",
           "CHARACTER"
          ],
          [
           "men",
           "CHARACTER"
          ],
          [
           "mentally handicapped woman",
           "CHARACTER"
          ],
          [
           "lazy husband",
           "CHARACTER"
          ],
          [
           "husband",
           "CHARACTER"
          ],
          [
           "another woman",
           "CHARACTER"
          ],
          [
           "another man",
           "CHARACTER"
          ],
          [
           "doctor",
           "CHARACTER"
          ],
          [
           "human subjects",
           "CHARACTER"
          ],
          [
           "famed concert pianist",
           "CHARACTER"
          ],
          [
           "musician's pretty daughter",
           "CHARACTER"
          ],
          [
           "father",
           "CHARACTER"
          ],
          [
           "mother",
           "CHARACTER"
          ],
          [
           "aspiring writer",
           "CHARACTER"
          ],
          [
           "high school student",
           "CHARACTER"
          ],
          [
           "recovering alcoholic",
           "CHARACTER"
          ],
          [
           "Paige's brother",
           "CHARACTER"
          ],
          [
           "gigolo",
           "CHARACTER"
          ],
          [
           "actor",
           "CHARACTER"
          ],
          [
           "lover",
           "CHARACTER"
          ],
          [
           "director",
           "CHARACTER"
          ],
          [
           "rich man's daughter",
           "CHARACTER"
          ],
          [
           "unknown person",
           "CHARACTER"
          ],
          [
           "letter sender",
           "CHARACTER"
          ],
          [
           "parents",
           "CHARACTER"
          ],
          [
           "neighbour",
           "CHARACTER"
          ],
          [
           "little boy",
           "CHARACTER"
          ],
          [
           "Master Vijay",
           "CHARACTER"
          ],
          [
           "happily married couple",
           "CHARACTER"
          ],
          [
           "teenage daughter",
           "CHARACTER"
          ],
          [
           "anonymous lover",
           "CHARACTER"
          ],
          [
           "college girl",
           "CHARACTER"
          ],
          [
           "young woman",
           "CHARACTER"
          ],
          [
           "uncle",
           "CHARACTER"
          ],
          [
           "cousin",
           "CHARACTER"
          ],
          [
           "men",
           "CHARACTER"
          ],
          [
           "film's protagonist",
           "CHARACTER"
          ],
          [
           "aunt's family",
           "CHARACTER"
          ],
          [
           "vampire family",
           "CHARACTER"
          ],
          [
           "ancient vampire clan",
           "CHARACTER"
          ],
          [
           "man",
           "CHARACTER"
          ],
          [
           "wife",
           "CHARACTER"
          ],
          [
           "woman",
           "CHARACTER"
          ],
          [
           "happy elderly couple",
           "CHARACTER"
          ],
          [
           "happy family",
           "CHARACTER"
          ],
          [
           "soulmate",
           "CHARACTER"
          ],
          [
           "elderly couple",
           "CHARACTER"
          ],
          [
           "boxer",
           "CHARACTER"
          ],
          [
           "sister",
           "CHARACTER"
          ],
          [
           "daughter",
           "CHARACTER"
          ],
          [
           "sister",
           "CHARACTER"
          ],
          [
           "wayward son",
           "CHARACTER"
          ],
          [
           "real estate tycoon",
           "CHARACTER"
          ],
          [
           "danger",
           "CHARACTER"
          ],
          [
           "director",
           "CHARACTER"
          ],
          [
           "son",
           "CHARACTER"
          ],
          [
           "families",
           "CHARACTER"
          ],
          [
           "gangster",
           "CHARACTER"
          ],
          [
           "American cop",
           "CHARACTER"
          ],
          [
           "gang of sociopathic teenagers",
           "CHARACTER"
          ],
          [
           "imaginary character",
           "CHARACTER"
          ],
          [
           "host",
           "CHARACTER"
          ],
          [
           "other people",
           "CHARACTER"
          ],
          [
           "pop singer",
           "CHARACTER"
          ],
          [
           "all men",
           "CHARACTER"
          ],
          [
           "crime reporter",
           "CHARACTER"
          ],
          [
           "girlfriend",
           "CHARACTER"
          ],
          [
           "fashion reporter",
           "CHARACTER"
          ],
          [
           "ghost of his dead mother",
           "CHARACTER"
          ],
          [
           "brother’s wife",
           "CHARACTER"
          ],
          [
           "man",
           "CHARACTER"
          ],
          [
           "family",
           "CHARACTER"
          ],
          [
           "Massachusetts boy",
           "CHARACTER"
          ],
          [
           "Parisian chorus girl",
           "CHARACTER"
          ],
          [
           "Andrew's snobbish mother",
           "CHARACTER"
          ],
          [
           "friends",
           "CHARACTER"
          ],
          [
           "student",
           "CHARACTER"
          ],
          [
           "engineering students",
           "CHARACTER"
          ],
          [
           "poor family",
           "CHARACTER"
          ],
          [
           "hitman",
           "CHARACTER"
          ],
          [
           "yoga teacher",
           "CHARACTER"
          ],
          [
           "mob bookie",
           "CHARACTER"
          ],
          [
           "seasoned killer",
           "CHARACTER"
          ],
          [
           "marksman",
           "CHARACTER"
          ],
          [
           "mistress",
           "CHARACTER"
          ],
          [
           "burglar",
           "CHARACTER"
          ],
          [
           "Edgar's wealthy wife",
           "CHARACTER"
          ],
          [
           "prime suspect",
           "CHARACTER"
          ],
          [
           "plumber",
           "CHARACTER"
          ],
          [
           "dad",
           "CHARACTER"
          ],
          [
           "widow",
           "CHARACTER"
          ],
          [
           "handyman",
           "CHARACTER"
          ],
          [
           "dangerous schizophrenic",
           "CHARACTER"
          ],
          [
           "men",
           "CHARACTER"
          ],
          [
           "actress",
           "CHARACTER"
          ],
          [
           "suitor",
           "CHARACTER"
          ],
          [
           "poor French country girl",
           "CHARACTER"
          ],
          [
           "poor but passionate young soldier",
           "CHARACTER"
          ],
          [
           "wealthy middle-aged Paris producer",
           "CHARACTER"
          ],
          [
           "bartender",
           "CHARACTER"
          ],
          [
           "husband",
           "CHARACTER"
          ],
          [
           "young Jersey City man",
           "CHARACTER"
          ],
          [
           "aspiring singer",
           "CHARACTER"
          ],
          [
           "father",
           "CHARACTER"
          ],
          [
           "lover",
           "CHARACTER"
          ],
          [
           "nun",
           "CHARACTER"
          ],
          [
           "lieutenant",
           "CHARACTER"
          ],
          [
           "lieutenant",
           "CHARACTER"
          ],
          [
           "Italian aristocrat",
           "CHARACTER"
          ],
          [
           "potential husband",
           "CHARACTER"
          ],
          [
           "handsome army lieutenant",
           "CHARACTER"
          ],
          [
           "politician",
           "CHARACTER"
          ],
          [
           "Bumbling cop",
           "CHARACTER"
          ],
          [
           "bunch of loonies",
           "CHARACTER"
          ],
          [
           "crazy mafia don",
           "CHARACTER"
          ],
          [
           "weird taxi driver",
           "CHARACTER"
          ],
          [
           "hysterical boss",
           "CHARACTER"
          ],
          [
           "pretty damsel in distress",
           "CHARACTER"
          ],
          [
           "smart international smuggler on the run",
           "CHARACTER"
          ],
          [
           "fearless Assistant Commissioner",
           "CHARACTER"
          ],
          [
           "mother",
           "CHARACTER"
          ],
          [
           "father",
           "CHARACTER"
          ],
          [
           "Krishna’s mother",
           "CHARACTER"
          ],
          [
           "father’",
           "CHARACTER"
          ],
          [
           "widowed helpless mother",
           "CHARACTER"
          ],
          [
           "kidnappers",
           "CHARACTER"
          ],
          [
           "kidnapped Wall Street Journal reporter",
           "CHARACTER"
          ],
          [
           "supporters of Omar Sheikh",
           "CHARACTER"
          ],
          [
           "Pakistan's Security Forces",
           "CHARACTER"
          ],
          [
           "Department of Justice",
           "CHARACTER"
          ],
          [
           "U.S. Department of State's Diplomatic Security Service",
           "CHARACTER"
          ],
          [
           "wizard",
           "CHARACTER"
          ],
          [
           "princess love",
           "CHARACTER"
          ],
          [
           "bartender",
           "CHARACTER"
          ],
          [
           "clients",
           "CHARACTER"
          ],
          [
           "boxer",
           "CHARACTER"
          ],
          [
           "wife",
           "CHARACTER"
          ],
          [
           "manager",
           "CHARACTER"
          ],
          [
           "extortionist",
           "CHARACTER"
          ],
          [
           "girlfriend",
           "CHARACTER"
          ],
          [
           "man",
           "CHARACTER"
          ],
          [
           "escaping killers",
           "CHARACTER"
          ],
          [
           "patrons",
           "CHARACTER"
          ],
          [
           "nervous singer",
           "CHARACTER"
          ],
          [
           "man",
           "CHARACTER"
          ],
          [
           "guest house owner",
           "CHARACTER"
          ],
          [
           "Inventor",
           "CHARACTER"
          ],
          [
           "engineer",
           "CHARACTER"
          ],
          [
           "partner",
           "CHARACTER"
          ],
          [
           "real killers",
           "CHARACTER"
          ],
          [
           "Czech-American screenwriter",
           "CHARACTER"
          ],
          [
           "young sculptor",
           "CHARACTER"
          ],
          [
           "poverty-stricken girl",
           "CHARACTER"
          ],
          [
           "doctor",
           "CHARACTER"
          ],
          [
           "doctor",
           "CHARACTER"
          ],
          [
           "travelling circus trainer",
           "CHARACTER"
          ],
          [
           "citizens",
           "CHARACTER"
          ],
          [
           "European Grand Duchess",
           "CHARACTER"
          ],
          [
           "New York journalist",
           "CHARACTER"
          ],
          [
           "libidinous basketball star",
           "CHARACTER"
          ],
          [
           "favorite professor's wife",
           "CHARACTER"
          ],
          [
           "dad",
           "CHARACTER"
          ],
          [
           "Struggling young actress",
           "CHARACTER"
          ],
          [
           "aspiring songwriter",
           "CHARACTER"
          ],
          [
           "jealous star actress",
           "CHARACTER"
          ],
          [
           "young lovers",
           "CHARACTER"
          ],
          [
           "students",
           "CHARACTER"
          ],
          [
           "students",
           "CHARACTER"
          ],
          [
           "club's adviser",
           "CHARACTER"
          ],
          [
           "newly appointed adviser",
           "CHARACTER"
          ],
          [
           "sailor",
           "CHARACTER"
          ],
          [
           "girls",
           "CHARACTER"
          ],
          [
           "sailor",
           "CHARACTER"
          ],
          [
           "friends",
           "CHARACTER"
          ],
          [
           "high diver",
           "CHARACTER"
          ],
          [
           "characters",
           "CHARACTER"
          ],
          [
           "writer",
           "CHARACTER"
          ],
          [
           "writer",
           "CHARACTER"
          ],
          [
           "sister",
           "CHARACTER"
          ],
          [
           "daughters of a fisherman",
           "CHARACTER"
          ],
          [
           "lowly fisher",
           "CHARACTER"
          ],
          [
           "sons",
           "CHARACTER"
          ],
          [
           "cops",
           "CHARACTER"
          ],
          [
           "bank robbers",
           "CHARACTER"
          ],
          [
           "family",
           "CHARACTER"
          ],
          [
           "White Tiger family",
           "CHARACTER"
          ],
          [
           "lead character",
           "CHARACTER"
          ],
          [
           "cartoonist",
           "CHARACTER"
          ],
          [
           "Indie musician",
           "CHARACTER"
          ],
          [
           "former couple",
           "CHARACTER"
          ],
          [
           "playboy boyfriend",
           "CHARACTER"
          ],
          [
           "new girlfriend",
           "CHARACTER"
          ],
          [
           "former agent",
           "CHARACTER"
          ],
          [
           "senior member of the South Korean security services",
           "CHARACTER"
          ],
          [
           "daughter",
           "CHARACTER"
          ],
          [
           "main protagonists",
           "CHARACTER"
          ],
          [
           "General",
           "CHARACTER"
          ],
          [
           "Texian Army",
           "CHARACTER"
          ],
          [
           "middle-aged cowboy adventurer",
           "CHARACTER"
          ],
          [
           "gorgeous young widows",
           "CHARACTER"
          ],
          [
           "battle-axe mother-in-law",
           "CHARACTER"
          ],
          [
           "friend",
           "CHARACTER"
          ],
          [
           "friend",
           "CHARACTER"
          ],
          [
           "San Francisco earthquake orphan",
           "CHARACTER"
          ],
          [
           "San Francisco plumber",
           "CHARACTER"
          ],
          [
           "American accountant",
           "CHARACTER"
          ],
          [
           "Islamic graduate student",
           "CHARACTER"
          ],
          [
           "scientist",
           "CHARACTER"
          ],
          [
           "Professor",
           "CHARACTER"
          ],
          [
           "boyfriends",
           "CHARACTER"
          ],
          [
           "young female factory workers",
           "CHARACTER"
          ],
          [
           "mineowner",
           "CHARACTER"
          ],
          [
           "daughter",
           "CHARACTER"
          ],
          [
           "fiancé",
           "CHARACTER"
          ],
          [
           "fiancé",
           "CHARACTER"
          ],
          [
           "arrogant girl from the East",
           "CHARACTER"
          ],
          [
           "half-Spanish person",
           "CHARACTER"
          ],
          [
           "cyborgs",
           "CHARACTER"
          ],
          [
           "mad scientists",
           "CHARACTER"
          ],
          [
           "supernatural beings",
           "CHARACTER"
          ],
          [
           "people from around the world",
           "CHARACTER"
          ],
          [
           "Black Ghost organization",
           "CHARACTER"
          ],
          [
           "cyborgs with superhuman powers",
           "CHARACTER"
          ],
          [
           "cyborgs",
           "CHARACTER"
          ],
          [
           "rich buyers",
           "CHARACTER"
          ],
          [
           "man",
           "CHARACTER"
          ],
          [
           "man",
           "CHARACTER"
          ],
          [
           "wife",
           "CHARACTER"
          ],
          [
           "mistress",
           "CHARACTER"
          ],
          [
           "colleague",
           "CHARACTER"
          ],
          [
           "driver",
           "CHARACTER"
          ],
          [
           "retired air hostess",
           "CHARACTER"
          ],
          [
           "pilot",
           "CHARACTER"
          ],
          [
           "Ananthu's family",
           "CHARACTER"
          ],
          [
           "Amala's old friend",
           "CHARACTER"
          ],
          [
           "divorcee",
           "CHARACTER"
          ],
          [
           "musical star",
           "CHARACTER"
          ],
          [
           "Indiana boy",
           "CHARACTER"
          ],
          [
           "family",
           "CHARACTER"
          ],
          [
           "diamond smuggler",
           "CHARACTER"
          ],
          [
           "young beautiful woman",
           "CHARACTER"
          ],
          [
           "wife of newspaper editor",
           "CHARACTER"
          ],
          [
           "highly educated woman",
           "CHARACTER"
          ],
          [
           "young girl",
           "CHARACTER"
          ],
          [
           "spoiled son of the president",
           "CHARACTER"
          ],
          [
           "self-appointed ruler",
           "CHARACTER"
          ],
          [
           "henchmen",
           "CHARACTER"
          ],
          [
           "local Indians",
           "CHARACTER"
          ],
          [
           "daughter of the company President",
           "CHARACTER"
          ],
          [
           "President's assistant",
           "CHARACTER"
          ],
          [
           "sidekicks",
           "CHARACTER"
          ],
          [
           "new settlers",
           "CHARACTER"
          ],
          [
           "new wife",
           "CHARACTER"
          ],
          [
           "busy impresario",
           "CHARACTER"
          ],
          [
           "hordes of wannabe concert stars",
           "CHARACTER"
          ],
          [
           "talented pianist",
           "CHARACTER"
          ],
          [
           "young musicians",
           "CHARACTER"
          ],
          [
           "child prodigy",
           "CHARACTER"
          ],
          [
           "owner of a fledgling magazine",
           "CHARACTER"
          ],
          [
           "parents",
           "CHARACTER"
          ],
          [
           "television repair man",
           "CHARACTER"
          ],
          [
           "high school dropout",
           "CHARACTER"
          ],
          [
           "father",
           "CHARACTER"
          ],
          [
           "mother",
           "CHARACTER"
          ],
          [
           "boyfriend",
           "CHARACTER"
          ],
          [
           "highly educated and extremely moody electronics repairman",
           "CHARACTER"
          ],
          [
           "young misfits",
           "CHARACTER"
          ],
          [
           "one of the applicants",
           "CHARACTER"
          ],
          [
           "one of the contestants",
           "CHARACTER"
          ],
          [
           "Restaurant owner",
           "CHARACTER"
          ],
          [
           "new neighbor",
           "CHARACTER"
          ],
          [
           "French cellist",
           "CHARACTER"
          ],
          [
           "best friend",
           "CHARACTER"
          ],
          [
           "Lila's ex-fiancee",
           "CHARACTER"
          ],
          [
           "auto driver",
           "CHARACTER"
          ],
          [
           "young women",
           "CHARACTER"
          ],
          [
           "powerful politician",
           "CHARACTER"
          ],
          [
           "higher-ups",
           "CHARACTER"
          ],
          [
           "Governor",
           "CHARACTER"
          ],
          [
           "man",
           "CHARACTER"
          ],
          [
           "sister",
           "CHARACTER"
          ],
          [
           "ranch boss",
           "CHARACTER"
          ],
          [
           "man",
           "CHARACTER"
          ],
          [
           "pal",
           "CHARACTER"
          ],
          [
           "father",
           "CHARACTER"
          ],
          [
           "mother",
           "CHARACTER"
          ],
          [
           "maternal uncles",
           "CHARACTER"
          ],
          [
           "villagers",
           "CHARACTER"
          ],
          [
           "rich and powerful persons of the village",
           "CHARACTER"
          ],
          [
           "family",
           "CHARACTER"
          ],
          [
           "Japanese American teenager",
           "CHARACTER"
          ],
          [
           "grandfather",
           "CHARACTER"
          ],
          [
           "ghost of Terri",
           "CHARACTER"
          ],
          [
           "baby sister",
           "CHARACTER"
          ],
          [
           "boyfriend",
           "CHARACTER"
          ],
          [
           "grandfather",
           "CHARACTER"
          ],
          [
           "son",
           "CHARACTER"
          ],
          [
           "young woman",
           "CHARACTER"
          ],
          [
           "dress designer",
           "CHARACTER"
          ],
          [
           "boxer",
           "CHARACTER"
          ],
          [
           "store clerk",
           "CHARACTER"
          ],
          [
           "friend",
           "CHARACTER"
          ],
          [
           "mistress of the palace",
           "CHARACTER"
          ],
          [
           "wife",
           "CHARACTER"
          ],
          [
           "another man",
           "CHARACTER"
          ],
          [
           "Kessler's gardener",
           "CHARACTER"
          ],
          [
           "innocent man",
           "CHARACTER"
          ],
          [
           "twin brother",
           "CHARACTER"
          ],
          [
           "killer",
           "CHARACTER"
          ],
          [
           "brother",
           "CHARACTER"
          ],
          [
           "United States Secret Service Lieutenant",
           "CHARACTER"
          ],
          [
           "partner",
           "CHARACTER"
          ],
          [
           "producer",
           "CHARACTER"
          ],
          [
           "Bryan Foy's brother",
           "CHARACTER"
          ],
          [
           "fellow Secret Service agent",
           "CHARACTER"
          ],
          [
           "leader of the counterfeiting ring",
           "CHARACTER"
          ],
          [
           "love interest",
           "CHARACTER"
          ],
          [
           "Los Angeles' police",
           "CHARACTER"
          ],
          [
           "down-on-her-luck businesswoman-turned-prostitute",
           "CHARACTER"
          ],
          [
           "murderous pimp",
           "CHARACTER"
          ],
          [
           "escaped killer",
           "CHARACTER"
          ],
          [
           "vice squad detective",
           "CHARACTER"
          ],
          [
           "woman",
           "CHARACTER"
          ],
          [
           "college girls",
           "CHARACTER"
          ],
          [
           "naive friend",
           "CHARACTER"
          ],
          [
           "Sarah's uncle",
           "CHARACTER"
          ],
          [
           "assorted misfits",
           "CHARACTER"
          ],
          [
           "delivery persons",
           "CHARACTER"
          ],
          [
           "people just passing by",
           "CHARACTER"
          ],
          [
           "London wife of a wealthy but boring businessman",
           "CHARACTER"
          ],
          [
           "manager",
           "CHARACTER"
          ],
          [
           "young stepdaughter",
           "CHARACTER"
          ],
          [
           "father",
           "CHARACTER"
          ],
          [
           "husband",
           "CHARACTER"
          ],
          [
           "Professional hunter",
           "CHARACTER"
          ],
          [
           "people",
           "CHARACTER"
          ],
          [
           "wife",
           "CHARACTER"
          ],
          [
           "Harry's first wife",
           "CHARACTER"
          ],
          [
           "honest police office",
           "CHARACTER"
          ],
          [
           "drunkard",
           "CHARACTER"
          ],
          [
           "couple",
           "CHARACTER"
          ],
          [
           "kids",
           "CHARACTER"
          ],
          [
           "friend",
           "CHARACTER"
          ],
          [
           "kids",
           "CHARACTER"
          ],
          [
           "different families",
           "CHARACTER"
          ],
          [
           "California gubernatorial candidate",
           "CHARACTER"
          ],
          [
           "opponent",
           "CHARACTER"
          ],
          [
           "unemployed veteran",
           "CHARACTER"
          ],
          [
           "dockworker",
           "CHARACTER"
          ],
          [
           "lawyer",
           "CHARACTER"
          ],
          [
           "wife",
           "CHARACTER"
          ],
          [
           "12-year old young boy",
           "CHARACTER"
          ],
          [
           "relatives",
           "CHARACTER"
          ],
          [
           "parents",
           "CHARACTER"
          ],
          [
           "dying boy",
           "CHARACTER"
          ],
          [
           "poor woman",
           "CHARACTER"
          ],
          [
           "vegetative husband",
           "CHARACTER"
          ],
          [
           "man",
           "CHARACTER"
          ],
          [
           "fiancée",
           "CHARACTER"
          ],
          [
           "fiancée",
           "CHARACTER"
          ],
          [
           "African natives",
           "CHARACTER"
          ],
          [
           "baker",
           "CHARACTER"
          ],
          [
           "chef",
           "CHARACTER"
          ],
          [
           "customers",
           "CHARACTER"
          ],
          [
           "simple handyman",
           "CHARACTER"
          ],
          [
           "amateur artist",
           "CHARACTER"
          ],
          [
           "prominent local females",
           "CHARACTER"
          ],
          [
           "college student",
           "CHARACTER"
          ],
          [
           "ruthless and dishonest police officer",
           "CHARACTER"
          ],
          [
           "gang of thieves",
           "CHARACTER"
          ],
          [
           "siblings",
           "CHARACTER"
          ],
          [
           "children",
           "CHARACTER"
          ],
          [
           "group of ghosts",
           "CHARACTER"
          ],
          [
           "history professor",
           "CHARACTER"
          ],
          [
           "child",
           "CHARACTER"
          ],
          [
           "grown up",
           "CHARACTER"
          ],
          [
           "son",
           "CHARACTER"
          ],
          [
           "man",
           "CHARACTER"
          ],
          [
           "blind detective",
           "CHARACTER"
          ],
          [
           "wealthy father",
           "CHARACTER"
          ],
          [
           "uncle",
           "CHARACTER"
          ],
          [
           "Jean's fiance",
           "CHARACTER"
          ],
          [
           "bodyguard",
           "CHARACTER"
          ],
          [
           "family lawyer",
           "CHARACTER"
          ],
          [
           "detective",
           "CHARACTER"
          ],
          [
           "best man",
           "CHARACTER"
          ],
          [
           "siblings",
           "CHARACTER"
          ],
          [
           "mother",
           "CHARACTER"
          ],
          [
           "sister",
           "CHARACTER"
          ],
          [
           "taxi-driver",
           "CHARACTER"
          ],
          [
           "sister",
           "CHARACTER"
          ],
          [
           "postman",
           "CHARACTER"
          ],
          [
           "childhood lover",
           "CHARACTER"
          ],
          [
           "daughter of the corrupt politician",
           "CHARACTER"
          ],
          [
           "brother",
           "CHARACTER"
          ],
          [
           "young girls",
           "CHARACTER"
          ],
          [
           "Lakshmi's brother",
           "CHARACTER"
          ],
          [
           "officer",
           "CHARACTER"
          ],
          [
           "inmates",
           "CHARACTER"
          ],
          [
           "inmate",
           "CHARACTER"
          ],
          [
           "wanted criminal",
           "CHARACTER"
          ],
          [
           "Police",
           "CHARACTER"
          ],
          [
           "girl",
           "CHARACTER"
          ],
          [
           "wife",
           "CHARACTER"
          ],
          [
           "another man",
           "CHARACTER"
          ],
          [
           "American",
           "CHARACTER"
          ],
          [
           "roommate",
           "CHARACTER"
          ],
          [
           "Japanese American",
           "CHARACTER"
          ],
          [
           "sumo wrestler",
           "CHARACTER"
          ],
          [
           "teenage boys",
           "CHARACTER"
          ],
          [
           "mysterious American fugitive",
           "CHARACTER"
          ],
          [
           "cop on the run",
           "CHARACTER"
          ],
          [
           "corrupt colleagues",
           "CHARACTER"
          ],
          [
           "buddy",
           "CHARACTER"
          ],
          [
           "confidante",
           "CHARACTER"
          ],
          [
           "boys",
           "CHARACTER"
          ],
          [
           "American fight promoters",
           "CHARACTER"
          ],
          [
           "brother",
           "CHARACTER"
          ],
          [
           "champion fighter",
           "CHARACTER"
          ],
          [
           "brother",
           "CHARACTER"
          ],
          [
           "fighter",
           "CHARACTER"
          ],
          [
           "reigning champion",
           "CHARACTER"
          ],
          [
           "inseparable friends",
           "CHARACTER"
          ],
          [
           "American fight promoters",
           "CHARACTER"
          ],
          [
           "Officers",
           "CHARACTER"
          ],
          [
           "attractive female guests",
           "CHARACTER"
          ],
          [
           "women",
           "CHARACTER"
          ],
          [
           "girls",
           "CHARACTER"
          ],
          [
           "admiral",
           "CHARACTER"
          ],
          [
           "evil politician",
           "CHARACTER"
          ],
          [
           "junior minister",
           "CHARACTER"
          ],
          [
           "chief minister",
           "CHARACTER"
          ],
          [
           "hired killer",
           "CHARACTER"
          ],
          [
           "chief minister",
           "CHARACTER"
          ],
          [
           "killer",
           "CHARACTER"
          ],
          [
           "idealistic dedicated police chief",
           "CHARACTER"
          ],
          [
           "killer",
           "CHARACTER"
          ],
          [
           "physically challenged girl",
           "CHARACTER"
          ],
          [
           "killer",
           "CHARACTER"
          ],
          [
           "hostage",
           "CHARACTER"
          ],
          [
           "killer",
           "CHARACTER"
          ],
          [
           "killer",
           "CHARACTER"
          ],
          [
           "critics",
           "CHARACTER"
          ],
          [
           "average student",
           "CHARACTER"
          ],
          [
           "bullied teen chef",
           "CHARACTER"
          ],
          [
           "grandmother",
           "CHARACTER"
          ],
          [
           "worst bully",
           "CHARACTER"
          ],
          [
           "new friend",
           "CHARACTER"
          ],
          [
           "contest teammate",
           "CHARACTER"
          ],
          [
           "Matt's brother",
           "CHARACTER"
          ],
          [
           "lead actors",
           "CHARACTER"
          ],
          [
           "original writers",
           "CHARACTER"
          ],
          [
           "director",
           "CHARACTER"
          ],
          [
           "honest lawyer",
           "CHARACTER"
          ],
          [
           "simple village girl",
           "CHARACTER"
          ],
          [
           "father",
           "CHARACTER"
          ],
          [
           "Gopal's mother",
           "CHARACTER"
          ],
          [
           "mother",
           "CHARACTER"
          ],
          [
           "supposed grandfather",
           "CHARACTER"
          ],
          [
           "genuine grandpa",
           "CHARACTER"
          ],
          [
           "men",
           "CHARACTER"
          ],
          [
           "Bridget's grandmother",
           "CHARACTER"
          ],
          [
           "child",
           "CHARACTER"
          ],
          [
           "veteran of World War II",
           "CHARACTER"
          ],
          [
           "M/Sgt",
           "CHARACTER"
          ],
          [
           "Sgt.",
           "CHARACTER"
          ],
          [
           "Red Cross nurse",
           "CHARACTER"
          ],
          [
           "Marine combat photographers",
           "CHARACTER"
          ],
          [
           "18th Army of the People's Liberation Army",
           "CHARACTER"
          ],
          [
           "slaves",
           "CHARACTER"
          ],
          [
           "younger brother",
           "CHARACTER"
          ],
          [
           "fiercely independent mother",
           "CHARACTER"
          ],
          [
           "soulful singer",
           "CHARACTER"
          ],
          [
           "Uncle",
           "CHARACTER"
          ],
          [
           "Rambha's father",
           "CHARACTER"
          ],
          [
           "girl",
           "CHARACTER"
          ],
          [
           "child",
           "CHARACTER"
          ],
          [
           "lower-class Moscow high school girlfriends",
           "CHARACTER"
          ],
          [
           "May’s older married cousin",
           "CHARACTER"
          ],
          [
           "Countess",
           "CHARACTER"
          ],
          [
           "husband’s lover",
           "CHARACTER"
          ],
          [
           "child",
           "CHARACTER"
          ],
          [
           "husband",
           "CHARACTER"
          ],
          [
           "wife",
           "CHARACTER"
          ],
          [
           "local married sheriff",
           "CHARACTER"
          ],
          [
           "son",
           "CHARACTER"
          ],
          [
           "protector",
           "CHARACTER"
          ],
          [
           "father",
           "CHARACTER"
          ],
          [
           "Tipton's daughter",
           "CHARACTER"
          ],
          [
           "wife",
           "CHARACTER"
          ],
          [
           "alcoholic",
           "CHARACTER"
          ],
          [
           "young IT professional",
           "CHARACTER"
          ],
          [
           "lead pair",
           "CHARACTER"
          ],
          [
           "married couple",
           "CHARACTER"
          ],
          [
           "character",
           "CHARACTER"
          ],
          [
           "domineering mother-in-law",
           "CHARACTER"
          ],
          [
           "hitman from Cleveland",
           "CHARACTER"
          ],
          [
           "middle-management mobster",
           "CHARACTER"
          ],
          [
           "rat-loving dealer",
           "CHARACTER"
          ],
          [
           "former friend from the orphanage",
           "CHARACTER"
          ],
          [
           "man",
           "CHARACTER"
          ],
          [
           "Armed Forces of the Philippines",
           "CHARACTER"
          ],
          [
           "young British schoolmaster",
           "CHARACTER"
          ],
          [
           "British consular officer",
           "CHARACTER"
          ],
          [
           "wife of an Egyptian banker",
           "CHARACTER"
          ],
          [
           "British",
           "CHARACTER"
          ],
          [
           "bogus insurance investigator",
           "CHARACTER"
          ],
          [
           "urbane, but ruthless, thief",
           "CHARACTER"
          ],
          [
           "fastidious bank manager",
           "CHARACTER"
          ],
          [
           "merchant's son",
           "CHARACTER"
          ],
          [
           "young bride",
           "CHARACTER"
          ],
          [
           "ghost",
           "CHARACTER"
          ],
          [
           "ghost",
           "CHARACTER"
          ],
          [
           "husband",
           "CHARACTER"
          ],
          [
           "husband",
           "CHARACTER"
          ],
          [
           "father",
           "CHARACTER"
          ],
          [
           "girl",
           "CHARACTER"
          ],
          [
           "wife's underaged sister",
           "CHARACTER"
          ],
          [
           "NRI couple",
           "CHARACTER"
          ],
          [
           "biological child",
           "CHARACTER"
          ],
          [
           "couple",
           "CHARACTER"
          ],
          [
           "Indian and American guests",
           "CHARACTER"
          ],
          [
           "stowaways",
           "CHARACTER"
          ],
          [
           "pair of feuding gangsters",
           "CHARACTER"
          ],
          [
           "ship's crew",
           "CHARACTER"
          ],
          [
           "Brothers",
           "CHARACTER"
          ],
          [
           "Brothers' characters",
           "CHARACTER"
          ],
          [
           "stowaways",
           "CHARACTER"
          ],
          [
           "gangsters",
           "CHARACTER"
          ],
          [
           "daughter",
           "CHARACTER"
          ],
          [
           "brothers",
           "CHARACTER"
          ],
          [
           "young and rich doctor",
           "CHARACTER"
          ],
          [
           "housemaid",
           "CHARACTER"
          ],
          [
           "mother",
           "CHARACTER"
          ],
          [
           "housemaid",
           "CHARACTER"
          ],
          [
           "Kumar's sister",
           "CHARACTER"
          ],
          [
           "Kumar's friend",
           "CHARACTER"
          ],
          [
           "actor",
           "CHARACTER"
          ],
          [
           "Another person",
           "CHARACTER"
          ],
          [
           "actor",
           "CHARACTER"
          ],
          [
           "actor",
           "CHARACTER"
          ],
          [
           "young gay man",
           "CHARACTER"
          ],
          [
           "widowed mother",
           "CHARACTER"
          ],
          [
           "boyfriend",
           "CHARACTER"
          ],
          [
           "imaginary friend",
           "CHARACTER"
          ],
          [
           "guardian angel",
           "CHARACTER"
          ],
          [
           "ghost friend",
           "CHARACTER"
          ],
          [
           "supervisor",
           "CHARACTER"
          ],
          [
           "new husband",
           "CHARACTER"
          ],
          [
           "Convict",
           "CHARACTER"
          ],
          [
           "leader of a large-scale prison break",
           "CHARACTER"
          ],
          [
           "survivors",
           "CHARACTER"
          ],
          [
           "convicts",
           "CHARACTER"
          ],
          [
           "doomed prisoners",
           "CHARACTER"
          ],
          [
           "locals",
           "CHARACTER"
          ],
          [
           "farm woman",
           "CHARACTER"
          ],
          [
           "kidnapped doctor",
           "CHARACTER"
          ],
          [
           "young woman",
           "CHARACTER"
          ],
          [
           "U.S. marshal",
           "CHARACTER"
          ],
          [
           "sheriff",
           "CHARACTER"
          ],
          [
           "marshal's wife",
           "CHARACTER"
          ],
          [
           "outlaws",
           "CHARACTER"
          ],
          [
           "new teacher",
           "CHARACTER"
          ],
          [
           "conservative school board",
           "CHARACTER"
          ],
          [
           "chauvinistic principal",
           "CHARACTER"
          ],
          [
           "students",
           "CHARACTER"
          ],
          [
           "teacher",
           "CHARACTER"
          ],
          [
           "teacher",
           "CHARACTER"
          ],
          [
           "doctor",
           "CHARACTER"
          ],
          [
           "fellow graduate",
           "CHARACTER"
          ],
          [
           "crow",
           "CHARACTER"
          ],
          [
           "birds",
           "CHARACTER"
          ],
          [
           "hero",
           "CHARACTER"
          ],
          [
           "cab driver",
           "CHARACTER"
          ],
          [
           "town's inhabitants",
           "CHARACTER"
          ],
          [
           "naive young woman",
           "CHARACTER"
          ],
          [
           "father",
           "CHARACTER"
          ],
          [
           "university Latin professor",
           "CHARACTER"
          ],
          [
           "liberal-minded banker",
           "CHARACTER"
          ],
          [
           "intellectual",
           "CHARACTER"
          ],
          [
           "poet",
           "CHARACTER"
          ],
          [
           "boys",
           "CHARACTER"
          ],
          [
           "vegetable vendor",
           "CHARACTER"
          ],
          [
           "policeman",
           "CHARACTER"
          ],
          [
           "driver",
           "CHARACTER"
          ],
          [
           "owner",
           "CHARACTER"
          ],
          [
           "drivers of the rival company",
           "CHARACTER"
          ],
          [
           "gang",
           "CHARACTER"
          ],
          [
           "owner",
           "CHARACTER"
          ],
          [
           "motorious outlaw",
           "CHARACTER"
          ],
          [
           "vicious gang",
           "CHARACTER"
          ],
          [
           "Blacklegs",
           "CHARACTER"
          ],
          [
           "men",
           "CHARACTER"
          ],
          [
           "girls",
           "CHARACTER"
          ],
          [
           "locals",
           "CHARACTER"
          ],
          [
           "Blacklegs",
           "CHARACTER"
          ],
          [
           "governor of Kentucky",
           "CHARACTER"
          ],
          [
           "man",
           "CHARACTER"
          ],
          [
           "former Confederate officer",
           "CHARACTER"
          ],
          [
           "Chief Counsellor",
           "CHARACTER"
          ],
          [
           "UAOH officers",
           "CHARACTER"
          ],
          [
           "team of the United Airforce's finest pilots",
           "CHARACTER"
          ],
          [
           "Ohrangers",
           "CHARACTER"
          ],
          [
           "Maurya Emperor",
           "CHARACTER"
          ],
          [
           "middle class Malayali family",
           "CHARACTER"
          ],
          [
           "prosecutor",
           "CHARACTER"
          ],
          [
           "culprit",
           "CHARACTER"
          ],
          [
           "mother",
           "CHARACTER"
          ],
          [
           "Jin-hong's deceased mother",
           "CHARACTER"
          ],
          [
           "victims of unsolved murders",
           "CHARACTER"
          ],
          [
           "secret agents",
           "CHARACTER"
          ],
          [
           "prime suspect",
           "CHARACTER"
          ],
          [
           "mother",
           "CHARACTER"
          ],
          [
           "Mississippi writer",
           "CHARACTER"
          ],
          [
           "main character",
           "CHARACTER"
          ],
          [
           "unsuccessful alcoholic writer",
           "CHARACTER"
          ],
          [
           "estranged wife",
           "CHARACTER"
          ],
          [
           "Vietnam War buddy",
           "CHARACTER"
          ],
          [
           "close friend",
           "CHARACTER"
          ],
          [
           "daughter",
           "CHARACTER"
          ],
          [
           "group of friends",
           "CHARACTER"
          ],
          [
           "Bobby's mother",
           "CHARACTER"
          ],
          [
           "man",
           "CHARACTER"
          ],
          [
           "husband",
           "CHARACTER"
          ],
          [
           "mother",
           "CHARACTER"
          ],
          [
           "beloved father",
           "CHARACTER"
          ],
          [
           "father",
           "CHARACTER"
          ],
          [
           "employee of a medical company",
           "CHARACTER"
          ],
          [
           "women",
           "CHARACTER"
          ],
          [
           "men",
           "CHARACTER"
          ],
          [
           "men",
           "CHARACTER"
          ],
          [
           "businessman",
           "CHARACTER"
          ],
          [
           "Police Commissioner",
           "CHARACTER"
          ],
          [
           "Chief Minister",
           "CHARACTER"
          ],
          [
           "husband",
           "CHARACTER"
          ],
          [
           "lecherous boss",
           "CHARACTER"
          ],
          [
           "old gangster",
           "CHARACTER"
          ],
          [
           "dirty cops",
           "CHARACTER"
          ],
          [
           "dirty cops",
           "CHARACTER"
          ],
          [
           "thug",
           "CHARACTER"
          ],
          [
           "friends",
           "CHARACTER"
          ],
          [
           "crooked cop",
           "CHARACTER"
          ],
          [
           "thug",
           "CHARACTER"
          ],
          [
           "ex-con",
           "CHARACTER"
          ],
          [
           "graduate",
           "CHARACTER"
          ],
          [
           "Indian Army",
           "CHARACTER"
          ],
          [
           "romantic interest",
           "CHARACTER"
          ],
          [
           "Indian Army",
           "CHARACTER"
          ],
          [
           "Rogers family",
           "CHARACTER"
          ],
          [
           "wealthy young man",
           "CHARACTER"
          ],
          [
           "young man's grasping cousin",
           "CHARACTER"
          ],
          [
           "young man",
           "CHARACTER"
          ],
          [
           "Rogers eldest daughter",
           "CHARACTER"
          ],
          [
           "young man",
           "CHARACTER"
          ],
          [
           "prison officer",
           "CHARACTER"
          ],
          [
           "good man",
           "CHARACTER"
          ],
          [
           "evil living dead girl",
           "CHARACTER"
          ],
          [
           "friends",
           "CHARACTER"
          ],
          [
           "other girls",
           "CHARACTER"
          ],
          [
           "boy",
           "CHARACTER"
          ],
          [
           "living dead friend",
           "CHARACTER"
          ],
          [
           "mysterious kille",
           "CHARACTER"
          ],
          [
           "Detective",
           "CHARACTER"
          ],
          [
           "men",
           "CHARACTER"
          ],
          [
           "Police",
           "CHARACTER"
          ],
          [
           "killer",
           "CHARACTER"
          ],
          [
           "middle-aged man",
           "CHARACTER"
          ],
          [
           "genius sculptor",
           "CHARACTER"
          ],
          [
           "wife",
           "CHARACTER"
          ],
          [
           "beloved husband",
           "CHARACTER"
          ],
          [
           "model",
           "CHARACTER"
          ],
          [
           "girlfriend",
           "CHARACTER"
          ],
          [
           "barbaric tribe",
           "CHARACTER"
          ],
          [
           "family",
           "CHARACTER"
          ],
          [
           "family",
           "CHARACTER"
          ],
          [
           "fairy",
           "CHARACTER"
          ],
          [
           "environmental activist",
           "CHARACTER"
          ],
          [
           "minions",
           "CHARACTER"
          ],
          [
           "octopus-looking enemies",
           "CHARACTER"
          ],
          [
           "barbarian tribe",
           "CHARACTER"
          ],
          [
           "monsters",
           "CHARACTER"
          ],
          [
           "men",
           "CHARACTER"
          ],
          [
           "wives",
           "CHARACTER"
          ],
          [
           "young filmmaker",
           "CHARACTER"
          ],
          [
           "orphan",
           "CHARACTER"
          ],
          [
           "loving family",
           "CHARACTER"
          ],
          [
           "naked cameraman",
           "CHARACTER"
          ],
          [
           "prospective settler",
           "CHARACTER"
          ],
          [
           "pioneer",
           "CHARACTER"
          ],
          [
           "hired guns",
           "CHARACTER"
          ],
          [
           "saloonkeeper",
           "CHARACTER"
          ],
          [
           "prospective land baron",
           "CHARACTER"
          ],
          [
           "insurance investigator",
           "CHARACTER"
          ],
          [
           "dead man's daughter",
           "CHARACTER"
          ],
          [
           "Rancher's daughter",
           "CHARACTER"
          ],
          [
           "men",
           "CHARACTER"
          ],
          [
           "British female mercenary",
           "CHARACTER"
          ],
          [
           "wealthy businessman",
           "CHARACTER"
          ],
          [
           "sexy women",
           "CHARACTER"
          ],
          [
           "Russian general",
           "CHARACTER"
          ],
          [
           "CIA agent",
           "CHARACTER"
          ],
          [
           "Russians",
           "CHARACTER"
          ],
          [
           "secret agents",
           "CHARACTER"
          ],
          [
           "Russian spy-catcher",
           "CHARACTER"
          ],
          [
           "Small-fry marijuana harvesters",
           "CHARACTER"
          ],
          [
           "silent partners",
           "CHARACTER"
          ],
          [
           "Mafia",
           "CHARACTER"
          ],
          [
           "police",
           "CHARACTER"
          ],
          [
           "other meddlers",
           "CHARACTER"
          ],
          [
           "headman Gad's son",
           "CHARACTER"
          ],
          [
           "Mayor",
           "CHARACTER"
          ],
          [
           "thieves",
           "CHARACTER"
          ],
          [
           "wealthy Jewish couple",
           "CHARACTER"
          ],
          [
           "mother",
           "CHARACTER"
          ],
          [
           "various moving company employees",
           "CHARACTER"
          ],
          [
           "King’s wife",
           "CHARACTER"
          ],
          [
           "Jewish woman",
           "CHARACTER"
          ],
          [
           "recently widowed King",
           "CHARACTER"
          ],
          [
           "king",
           "CHARACTER"
          ],
          [
           "Jews",
           "CHARACTER"
          ],
          [
           "evil minister",
           "CHARACTER"
          ],
          [
           "King",
           "CHARACTER"
          ],
          [
           "attractive woman",
           "CHARACTER"
          ],
          [
           "young German journalist",
           "CHARACTER"
          ],
          [
           "au-pair girls",
           "CHARACTER"
          ],
          [
           "friends",
           "CHARACTER"
          ],
          [
           "teenage daughter",
           "CHARACTER"
          ],
          [
           "individuals",
           "CHARACTER"
          ],
          [
           "missing girl",
           "CHARACTER"
          ],
          [
           "East End gangster",
           "CHARACTER"
          ],
          [
           "high school students aspiring to become musicians",
           "CHARACTER"
          ],
          [
           "high school students",
           "CHARACTER"
          ],
          [
           "lawyer",
           "CHARACTER"
          ],
          [
           "powerful gangster",
           "CHARACTER"
          ],
          [
           "Morse’s older brother",
           "CHARACTER"
          ]
         ],
         "hovertemplate": "label=%{customdata[1]}<br>x-tsne=%{x}<br>y-tsne=%{y}<br>text=%{customdata[0]}<extra></extra>",
         "legendgroup": "CHARACTER",
         "marker": {
          "color": "#00cc96",
          "symbol": "circle"
         },
         "mode": "markers",
         "name": "CHARACTER",
         "showlegend": true,
         "type": "scattergl",
         "x": [
          -62.73347473144531,
          -58.82476043701172,
          -38.791664123535156,
          -39.98817443847656,
          43.38872528076172,
          -40.14891815185547,
          -38.80289077758789,
          8.30384635925293,
          -36.89112854003906,
          -63.314937591552734,
          -40.14902114868164,
          -61.73825454711914,
          -1.1093544960021973,
          7.483733654022217,
          -5.078186988830566,
          -11.48254108428955,
          -6.996182441711426,
          -32.75736999511719,
          -40.14132308959961,
          -25.871906280517578,
          -41.233341217041016,
          -59.07819366455078,
          6.734748840332031,
          7.719073295593262,
          -25.872583389282227,
          1.4004393815994263,
          -19.5194091796875,
          -38.791664123535156,
          -13.276803970336914,
          -2.881140947341919,
          6.703945636749268,
          -40.839027404785156,
          13.476012229919434,
          -2.0094947814941406,
          -3.0635986328125,
          -1.9308851957321167,
          -0.626156747341156,
          -35.69504928588867,
          -14.242570877075195,
          -17.610624313354492,
          -0.3776073455810547,
          -20.08473014831543,
          -8.7088041305542,
          -4.397802829742432,
          -5.528363227844238,
          3.504438877105713,
          42.40861129760742,
          15.894942283630371,
          -9.257651329040527,
          -26.013874053955078,
          -7.021791458129883,
          -15.281939506530762,
          0.3275764286518097,
          -5.790963172912598,
          22.61774253845215,
          -5.259529113769531,
          -5.5908918380737305,
          -16.31022071838379,
          16.343704223632812,
          -47.62213134765625,
          -24.761024475097656,
          -24.514352798461914,
          -23.80617904663086,
          -24.087800979614258,
          -24.086992263793945,
          -5.376886367797852,
          -1.4164178371429443,
          -75.62357330322266,
          -28.426528930664062,
          2.6582295894622803,
          -41.05684280395508,
          -22.12139129638672,
          -21.844053268432617,
          -31.294347763061523,
          -22.501502990722656,
          -22.007638931274414,
          -60.53744888305664,
          -18.135696411132812,
          -30.931522369384766,
          -37.2265625,
          23.73111915588379,
          -71.43766784667969,
          -11.972805976867676,
          -11.467161178588867,
          -53.820919036865234,
          6.032235622406006,
          -23.704008102416992,
          -1.6124367713928223,
          -24.546146392822266,
          -37.12392044067383,
          1.3912993669509888,
          -62.07368087768555,
          -12.787293434143066,
          -26.232772827148438,
          -1.8306119441986084,
          -11.388039588928223,
          -0.9503821134567261,
          -3.051161050796509,
          1.1898895502090454,
          -32.480186462402344,
          30.567359924316406,
          28.996353149414062,
          31.60060691833496,
          58.16164016723633,
          62.25576400756836,
          62.25576400756836,
          -21.357402801513672,
          60.204524993896484,
          62.25550079345703,
          -26.425601959228516,
          -39.95281982421875,
          -22.23934555053711,
          2.0988361835479736,
          -42.44152069091797,
          -41.76244354248047,
          -63.48887634277344,
          -41.737098693847656,
          -32.76096725463867,
          -15.6117582321167,
          -15.622954368591309,
          10.172859191894531,
          -13.298176765441895,
          -5.653944492340088,
          -25.252779006958008,
          11.714070320129395,
          12.496383666992188,
          16.27849006652832,
          -40.17017364501953,
          -25.65434455871582,
          -3.452301263809204,
          -40.387916564941406,
          -45.1706657409668,
          -13.235580444335938,
          -31.8962459564209,
          -12.346579551696777,
          -40.45533752441406,
          -6.720424652099609,
          -23.23438262939453,
          -39.87247085571289,
          -34.83064270019531,
          -26.70916175842285,
          -31.794755935668945,
          -2.1331045627593994,
          -5.590720176696777,
          -3.622173547744751,
          11.683755874633789,
          -13.841230392456055,
          -31.761844635009766,
          -35.944332122802734,
          -10.368408203125,
          5.2438154220581055,
          2.5299570560455322,
          53.66666793823242,
          4.091347694396973,
          -33.838191986083984,
          -9.22230052947998,
          -25.309032440185547,
          30.819982528686523,
          -75.62357330322266,
          -17.186054229736328,
          -31.53169822692871,
          -57.6489372253418,
          -17.972475051879883,
          -18.331584930419922,
          -30.466655731201172,
          -6.817154884338379,
          -24.048460006713867,
          -7.45536994934082,
          -48.89699935913086,
          -51.92428970336914,
          -27.11874008178711,
          -19.070966720581055,
          -25.978530883789062,
          -6.0234055519104,
          17.696718215942383,
          -34.12726593017578,
          -35.708900451660156,
          -38.6767692565918,
          -5.7920451164245605,
          -13.964743614196777,
          14.981666564941406,
          -51.834632873535156,
          -36.2761116027832,
          -21.13017463684082,
          51.37275314331055,
          -67.61103820800781,
          -63.71859359741211,
          -33.9344482421875,
          -22.290002822875977,
          -17.57401466369629,
          -48.126461029052734,
          -47.465633392333984,
          -75.62357330322266,
          -7.114012718200684,
          -3.554508686065674,
          -8.286185264587402,
          -8.050609588623047,
          -24.193557739257812,
          -63.423728942871094,
          -20.876506805419922,
          -22.423288345336914,
          -58.69992446899414,
          -36.07416534423828,
          -22.29132080078125,
          -29.483198165893555,
          -54.47126388549805,
          -61.898719787597656,
          -53.98379135131836,
          -10.675451278686523,
          9.768800735473633,
          -26.961828231811523,
          -38.6761360168457,
          -59.41064453125,
          -63.48887634277344,
          -19.219589233398438,
          -9.27149772644043,
          -4.415121078491211,
          -33.953025817871094,
          -31.705724716186523,
          -2.572608709335327,
          -26.76884651184082,
          -74.97412109375,
          11.557817459106445,
          -41.17557907104492,
          11.392011642456055,
          -4.647738933563232,
          -7.905436992645264,
          -23.592269897460938,
          -61.22368240356445,
          11.88536262512207,
          -23.604753494262695,
          -2.3900651931762695,
          -41.63129806518555,
          -20.70492172241211,
          -19.052427291870117,
          -60.301570892333984,
          14.956398963928223,
          -37.30076599121094,
          -1.9356577396392822,
          -19.65931510925293,
          14.31019115447998,
          -39.70808410644531,
          48.09082794189453,
          -6.186823844909668,
          10.17296314239502,
          22.384904861450195,
          -49.238624572753906,
          -64.07070922851562,
          13.537534713745117,
          6.094433307647705,
          -75.62357330322266,
          -33.40250778198242,
          13.299482345581055,
          -22.92967414855957,
          -14.41991138458252,
          -13.046740531921387,
          -17.453548431396484,
          -57.837318420410156,
          -14.640507698059082,
          -26.95026397705078,
          -48.43158721923828,
          -36.006317138671875,
          -54.36479949951172,
          -23.588537216186523,
          -23.588537216186523,
          -8.2246732711792,
          -32.412994384765625,
          1.8742796182632446,
          -20.71754264831543,
          -9.393271446228027,
          -2.3150181770324707,
          -9.660432815551758,
          -11.368375778198242,
          -11.9642333984375,
          8.218385696411133,
          1.1062406301498413,
          6.79567289352417,
          -52.862552642822266,
          -49.18794631958008,
          -4.124926567077637,
          -49.448692321777344,
          -18.212108612060547,
          -11.129905700683594,
          12.40003490447998,
          36.19870376586914,
          29.36137580871582,
          30.075725555419922,
          28.96086883544922,
          -34.38981246948242,
          -30.197372436523438,
          -17.45364761352539,
          -16.07028579711914,
          -29.483198165893555,
          -63.423728942871094,
          -45.163368225097656,
          2.6874096393585205,
          -40.700843811035156,
          -24.474760055541992,
          -11.59981632232666,
          -17.0279541015625,
          -27.504459381103516,
          -23.486404418945312,
          5.380806922912598,
          -40.739601135253906,
          -41.762481689453125,
          -45.1706657409668,
          -12.199798583984375,
          -2.7146174907684326,
          -21.580501556396484,
          -17.72413444519043,
          -30.741453170776367,
          -31.201263427734375,
          -3.4390687942504883,
          -3.0279197692871094,
          -13.464945793151855,
          17.180341720581055,
          3.7295148372650146,
          -8.613031387329102,
          -49.238624572753906,
          -19.795326232910156,
          -26.875967025756836,
          -30.363540649414062,
          -19.776330947875977,
          -19.5194091796875,
          -19.5194091796875,
          -12.107169151306152,
          -13.862585067749023,
          -29.144943237304688,
          -70.94910430908203,
          -29.144943237304688,
          -41.98828887939453,
          7.059131622314453,
          -35.30634689331055,
          -31.261703491210938,
          -31.261703491210938,
          -53.98379135131836,
          -6.17336368560791,
          21.013734817504883,
          -58.98606872558594,
          -17.93446922302246,
          -12.814906120300293,
          -61.22368240356445,
          23.574478149414062,
          -32.08692932128906,
          -32.230552673339844,
          -25.32394027709961,
          -67.88485717773438,
          -38.36602020263672,
          -34.399658203125,
          -0.19694606959819794,
          28.945615768432617,
          -61.898719787597656,
          -32.954551696777344,
          -26.70710563659668,
          28.032072067260742,
          -13.762943267822266,
          -18.569541931152344,
          -4.527759075164795,
          -39.133060455322266,
          -39.57703399658203,
          15.83056354522705,
          15.369039535522461,
          -9.311663627624512,
          -20.94896125793457,
          -39.715660095214844,
          -38.28886795043945,
          -37.245628356933594,
          -20.472810745239258,
          14.119516372680664,
          -62.73347473144531,
          -39.310523986816406,
          -39.311973571777344,
          4.801149368286133,
          -10.539305686950684,
          4.134667873382568,
          -40.17601776123047,
          -6.733902454376221,
          -2.6765730381011963,
          -3.9868743419647217,
          3.375406503677368,
          4.134667873382568,
          -17.63481903076172,
          -24.576370239257812,
          -23.813081741333008,
          -63.423728942871094,
          -39.70949172973633,
          -37.02838897705078,
          -44.93828201293945,
          3.7714388370513916,
          -43.914424896240234,
          -2.897353410720825,
          -2.792189598083496,
          53.21800994873047,
          -30.406295776367188,
          11.882669448852539,
          -61.78767776489258,
          0.886035680770874,
          -17.920635223388672,
          -7.151861190795898,
          -15.36610221862793,
          -20.092510223388672,
          -8.069351196289062,
          -14.106045722961426,
          56.440242767333984,
          0.7754485011100769,
          -7.774014472961426,
          -11.965176582336426,
          -1.6652240753173828,
          0.4830007553100586,
          -33.91884994506836,
          -0.22966237366199493,
          -2.038813352584839,
          -23.92090606689453,
          -21.91187286376953,
          -56.75957489013672,
          -5.380093574523926,
          -51.834632873535156,
          6.343483924865723,
          -18.538785934448242,
          -47.60470199584961,
          -51.71554183959961,
          -38.6673698425293,
          -13.407678604125977,
          1.2534890174865723,
          -12.61585807800293,
          -12.612106323242188,
          5.871962547302246,
          -35.209373474121094,
          -9.000884056091309,
          -39.59675979614258,
          -1.5760403871536255,
          -45.77824783325195,
          -21.687339782714844,
          -20.348588943481445,
          -0.7920830249786377,
          -21.04901885986328,
          -23.486404418945312,
          -53.76617431640625,
          -12.352334976196289,
          -23.01814842224121,
          -49.706398010253906,
          -49.21525955200195,
          -52.09151840209961,
          -49.0480842590332,
          -0.11079844832420349,
          -12.85464859008789,
          -61.99750518798828,
          -2.822997808456421,
          -45.91035842895508,
          -4.086188793182373,
          -55.076595306396484,
          -38.669219970703125,
          -45.91032409667969,
          -58.59003829956055,
          -17.51752471923828,
          10.06282901763916,
          -29.483198165893555,
          7.712757587432861,
          -39.133060455322266,
          1.4238543510437012,
          -63.423728942871094,
          -18.331584930419922,
          -2.835279941558838,
          -15.662160873413086,
          -53.22111129760742,
          -20.939735412597656,
          -51.516632080078125,
          27.369895935058594,
          -45.1706657409668,
          -40.04747772216797,
          -7.401108741760254,
          -1.162834644317627,
          0.2578308880329132,
          -29.4263973236084,
          16.66360092163086,
          -5.339989185333252,
          -10.388805389404297,
          -10.726811408996582,
          7.615859508514404,
          -20.87650489807129,
          -22.05230712890625,
          -37.36405563354492,
          -3.8450732231140137,
          1.2196605205535889,
          -15.3905668258667,
          -3.1921262741088867,
          -9.643786430358887,
          -45.162750244140625,
          -2.7884671688079834,
          -47.45444869995117,
          -58.63249588012695,
          -28.180957794189453,
          -2.881140947341919,
          -62.36174774169922,
          -6.638341903686523,
          10.126080513000488,
          -7.661908149719238,
          -43.821346282958984,
          -48.98649215698242,
          -39.242408752441406,
          -48.98649215698242,
          -64.44148254394531,
          9.493582725524902,
          -32.662315368652344,
          -19.939830780029297,
          14.119733810424805,
          -19.075485229492188,
          -62.07368087768555,
          -13.344823837280273,
          -60.60484313964844,
          -51.83449172973633,
          -21.030975341796875,
          -15.851984977722168,
          4.420097827911377,
          -22.710342407226562,
          -40.69679260253906,
          -40.6956901550293,
          0.3023951053619385,
          -30.34888458251953,
          -34.09175491333008,
          -16.439348220825195,
          13.376144409179688,
          -27.710487365722656,
          0.9570990800857544,
          -20.5161075592041,
          -11.561834335327148,
          -5.528715133666992,
          -50.14628219604492,
          -54.22172546386719,
          -3.7090811729431152,
          -37.5546989440918,
          -55.78297805786133,
          -18.57358169555664,
          -59.38237762451172,
          -24.978458404541016,
          -6.090752601623535,
          -28.287267684936523,
          -48.126461029052734,
          -4.40153694152832,
          -22.42123031616211,
          -16.05204200744629,
          -20.414321899414062,
          -40.45365905761719,
          -50.14628219604492,
          -51.253475189208984,
          -53.76617431640625,
          -45.778419494628906,
          -54.62972640991211,
          13.918450355529785,
          -33.67075729370117,
          -9.028158187866211,
          -51.327476501464844,
          -21.817514419555664,
          -5.258835792541504,
          -22.77978515625,
          -9.557527542114258,
          -9.105402946472168,
          -18.734352111816406,
          -15.711551666259766,
          -32.379783630371094,
          -62.07368087768555,
          -18.331584930419922,
          1.1864811182022095,
          -39.43769836425781,
          -2.8115146160125732,
          -30.166393280029297,
          -21.890851974487305,
          -6.762209415435791,
          2.2157692909240723,
          -12.534062385559082,
          -40.888214111328125,
          3.9320695400238037,
          -71.43766784667969,
          1.9188940525054932,
          -50.98801040649414,
          -30.529054641723633,
          -51.22095489501953,
          -30.57611083984375,
          -30.439367294311523,
          -40.60797882080078,
          1.9188191890716553,
          -22.507850646972656,
          -17.82147979736328,
          -75.77865600585938,
          -70.70082092285156,
          -25.841062545776367,
          -20.59389877319336,
          -18.160314559936523,
          -17.320642471313477,
          -18.263729095458984,
          -17.320642471313477,
          -21.53382682800293,
          4.115063667297363,
          -21.438190460205078,
          -17.346330642700195,
          -20.678842544555664,
          -26.74346351623535,
          -21.411922454833984,
          -22.477264404296875,
          -35.543033599853516,
          -20.03888702392578,
          0.18432824313640594,
          -45.50991439819336,
          -39.066715240478516,
          -34.80718994140625,
          -33.16588592529297,
          -6.538266658782959,
          -31.410755157470703,
          -32.17327880859375,
          -38.6767692565918,
          -15.395650863647461,
          -22.595691680908203,
          -49.018611907958984,
          -3.6407630443573,
          -51.38383865356445,
          -44.86829376220703,
          -44.00739669799805,
          -75.62357330322266,
          -4.009924411773682,
          -55.78297805786133,
          23.96196746826172,
          23.382291793823242,
          23.58133888244629,
          3.2343063354492188,
          5.739643573760986,
          30.5646915435791,
          -12.509706497192383,
          -52.51538848876953,
          -18.358125686645508,
          -27.142684936523438,
          -48.12690353393555,
          -4.0298261642456055,
          -32.75810241699219,
          -55.685157775878906,
          -17.611360549926758,
          -8.071146965026855,
          -41.48535919189453,
          -8.563486099243164,
          -55.63267517089844,
          -58.37110137939453,
          -62.07368087768555,
          1.920432448387146,
          -58.441062927246094,
          -36.08400344848633,
          -48.331756591796875,
          -5.605057239532471,
          -62.36174774169922,
          -26.006465911865234,
          -23.320539474487305,
          -29.924257278442383,
          -67.56982421875,
          -34.7342529296875,
          -4.477970123291016,
          15.794917106628418,
          0.7285503149032593,
          -6.699890613555908,
          -9.115944862365723,
          -22.710342407226562,
          29.884199142456055,
          3.4796316623687744,
          0.36657077074050903,
          -9.233429908752441,
          1.0535458326339722,
          5.918680191040039,
          -11.964743614196777,
          2.0359339714050293,
          -5.931133270263672,
          -18.882043838500977,
          -26.402896881103516,
          -26.40298080444336,
          -58.423683166503906,
          -57.97209548950195,
          -48.30818557739258,
          -32.345802307128906,
          -7.22008752822876,
          51.06496047973633,
          -57.13884353637695,
          -43.8216552734375,
          -3.5647616386413574,
          16.821510314941406,
          -4.510554790496826,
          3.1415255069732666,
          -49.82988739013672,
          -36.0295524597168,
          16.821510314941406,
          -9.621177673339844,
          -62.068660736083984,
          -49.8283805847168,
          -14.293964385986328,
          1.8606009483337402,
          -51.45170211791992,
          1.8600200414657593,
          -5.213914394378662,
          -5.426464557647705,
          -34.12726593017578,
          -17.06424903869629,
          -34.12726593017578,
          -34.12726593017578,
          -15.560142517089844,
          -18.20053482055664,
          -38.669830322265625,
          -37.667232513427734,
          -5.434631824493408,
          -37.078453063964844,
          -40.575931549072266,
          -33.91948699951172,
          -12.041094779968262,
          0.3790525496006012,
          -5.085180282592773,
          -12.028632164001465,
          -10.915637969970703,
          0.23584166169166565,
          -12.396259307861328,
          -9.275461196899414,
          -17.548749923706055,
          28.343822479248047,
          -20.165260314941406,
          -6.961840629577637,
          -15.281939506530762,
          -35.88063430786133,
          2.9382400512695312,
          5.1883111000061035,
          -19.5194091796875,
          -38.791664123535156,
          -38.59150314331055,
          -30.368947982788086,
          -26.643808364868164,
          -27.2133731842041,
          -58.3036994934082,
          -28.57196044921875,
          -45.69672393798828,
          16.954275131225586,
          -17.347665786743164,
          -48.20185089111328,
          -37.037200927734375,
          -16.614646911621094,
          -33.978389739990234,
          -31.373981475830078,
          -71.43766784667969,
          10.455283164978027,
          -17.2864933013916,
          -44.93828201293945,
          -31.76152801513672,
          -3.2527122497558594,
          -18.135452270507812,
          -31.761844635009766,
          -7.95552921295166,
          -8.92979621887207,
          40.08473205566406,
          -75.62357330322266,
          -70.70082092285156,
          0.23584166169166565,
          40.08473205566406,
          9.610916137695312,
          -24.576370239257812,
          1.4249886274337769,
          -15.776666641235352,
          4.176719665527344,
          -1.3822585344314575,
          21.367145538330078,
          23.96500587463379,
          23.801151275634766,
          -19.049930572509766,
          4.6286234855651855,
          -52.333961486816406,
          -1.1300631761550903,
          -4.328895092010498,
          -2.5280210971832275,
          10.173124313354492,
          -52.862552642822266,
          -28.616470336914062,
          -32.68699264526367,
          -27.180587768554688,
          -65.71471405029297,
          23.861814498901367,
          -38.681785583496094,
          -61.898719787597656,
          -3.7019689083099365,
          -4.928691387176514,
          -23.615480422973633,
          -59.06343078613281,
          -52.426048278808594,
          -30.876907348632812,
          -47.73549270629883,
          -4.632462024688721,
          -75.77865600585938,
          -75.62357330322266,
          -75.62357330322266,
          -28.134057998657227,
          7.262560844421387,
          -17.320642471313477,
          -58.92890548706055,
          2.39898943901062,
          -10.388079643249512,
          -11.437787055969238,
          -11.437983512878418,
          -21.311079025268555,
          -40.48318862915039,
          -9.254999160766602,
          -21.311079025268555,
          4.804811477661133,
          -26.15418243408203,
          28.646804809570312,
          -29.333032608032227,
          28.646286010742188,
          -62.35902404785156,
          -16.103384017944336,
          -6.232345104217529,
          -16.363727569580078,
          -10.650081634521484,
          -16.3752384185791,
          -7.608325004577637,
          -14.776694297790527,
          -6.981988906860352,
          -41.009605407714844,
          -23.06472396850586,
          -31.993328094482422,
          -7.122206211090088,
          -7.047461986541748,
          -20.414186477661133,
          -75.62357330322266,
          -15.713621139526367,
          -20.900917053222656,
          -13.851102828979492,
          -22.190322875976562,
          -62.88091278076172,
          -31.157756805419922,
          -44.83656311035156,
          -41.234291076660156,
          18.736745834350586,
          -61.99750518798828,
          -61.22368240356445,
          -34.559547424316406,
          -23.294830322265625,
          -26.185985565185547,
          -6.106482028961182,
          18.47629165649414,
          -23.46570587158203,
          -75.62357330322266,
          -61.73849105834961,
          -20.734853744506836,
          -30.832014083862305,
          -59.03824234008789,
          6.8426313400268555,
          0.5182560086250305,
          -41.471004486083984,
          -17.63007164001465,
          8.830867767333984,
          0.8741646409034729,
          6.044290542602539,
          -5.252770900726318,
          -5.318344593048096,
          -75.62357330322266,
          -10.499927520751953,
          -27.853267669677734,
          -18.816986083984375,
          28.701086044311523,
          -0.8837820291519165,
          5.378509998321533,
          -2.5280210971832275,
          -1.306049108505249,
          2.150200128555298,
          -43.865013122558594,
          -19.240665435791016,
          -15.713621139526367,
          -0.5285951495170593,
          -5.199865341186523,
          -20.907875061035156,
          -22.923126220703125,
          -21.68270492553711,
          -52.98502731323242,
          -4.425441741943359,
          -7.938366889953613,
          -12.189873695373535,
          -17.833080291748047,
          -36.89257049560547,
          -3.4212658405303955,
          -8.927916526794434,
          -36.889183044433594,
          -17.153200149536133,
          -12.225619316101074,
          -21.838485717773438,
          -40.505165100097656,
          -63.718746185302734,
          -59.55569839477539,
          -22.64542007446289,
          5.496547222137451,
          -18.919029235839844,
          -18.858463287353516,
          -19.075485229492188,
          -10.850105285644531,
          -7.223410606384277
         ],
         "xaxis": "x",
         "y": [
          -14.387130737304688,
          -13.277667045593262,
          10.326727867126465,
          8.120760917663574,
          56.99166488647461,
          -25.875097274780273,
          -6.282476902008057,
          30.26201820373535,
          -26.361122131347656,
          -19.746044158935547,
          -25.874963760375977,
          -24.26952362060547,
          10.96686840057373,
          14.361664772033691,
          -23.271099090576172,
          15.018743515014648,
          -19.989702224731445,
          -12.662921905517578,
          -0.13277171552181244,
          20.862640380859375,
          -2.872330665588379,
          -14.213075637817383,
          10.40711784362793,
          11.070862770080566,
          20.862703323364258,
          22.713930130004883,
          -3.396972894668579,
          10.326727867126465,
          26.423717498779297,
          -19.864276885986328,
          8.808466911315918,
          -11.199424743652344,
          8.59556770324707,
          18.487014770507812,
          12.268226623535156,
          36.51638412475586,
          19.315101623535156,
          -17.016773223876953,
          20.770734786987305,
          25.031824111938477,
          24.69886589050293,
          15.232315063476562,
          22.060989379882812,
          39.677398681640625,
          12.880105018615723,
          -33.85972213745117,
          21.479021072387695,
          24.91179847717285,
          29.06151008605957,
          -21.34564971923828,
          9.819148063659668,
          -22.373708724975586,
          -5.846305847167969,
          12.48006534576416,
          -5.04365348815918,
          8.54716682434082,
          21.70075225830078,
          14.890036582946777,
          0.8303941488265991,
          -14.134806632995605,
          -18.367382049560547,
          -22.64553451538086,
          -18.971914291381836,
          -14.467940330505371,
          -14.468279838562012,
          38.502254486083984,
          9.407173156738281,
          -31.964080810546875,
          -14.25191879272461,
          24.393592834472656,
          -3.5154404640197754,
          -22.32404899597168,
          -23.19318962097168,
          -29.028928756713867,
          -22.816564559936523,
          -23.968936920166016,
          5.106645584106445,
          -16.16836929321289,
          -28.71000099182129,
          11.46108341217041,
          -37.59916305541992,
          -29.643173217773438,
          14.01526165008545,
          11.222609519958496,
          -13.844188690185547,
          5.852038860321045,
          -12.895413398742676,
          14.360113143920898,
          -9.693222999572754,
          -2.3404715061187744,
          -32.40550231933594,
          -18.381418228149414,
          6.8066840171813965,
          -13.813884735107422,
          38.13238525390625,
          20.43498992919922,
          19.17435646057129,
          19.836620330810547,
          27.22889518737793,
          -11.293009757995605,
          -35.22465515136719,
          -35.277549743652344,
          -31.756893157958984,
          7.962089538574219,
          6.106890678405762,
          6.106890678405762,
          9.891550064086914,
          6.663513660430908,
          6.106832504272461,
          -11.384071350097656,
          -17.153175354003906,
          14.212472915649414,
          19.293529510498047,
          18.07341766357422,
          17.778615951538086,
          1.3060518503189087,
          -3.4072248935699463,
          -6.818990707397461,
          10.376608848571777,
          10.847845077514648,
          19.317134857177734,
          10.077278137207031,
          -24.884267807006836,
          -24.20527458190918,
          24.146516799926758,
          24.030736923217773,
          19.586339950561523,
          23.738981246948242,
          -23.934907913208008,
          20.68077850341797,
          -10.473868370056152,
          3.1178770065307617,
          26.019609451293945,
          14.402802467346191,
          -6.1748528480529785,
          -10.998844146728516,
          8.20445442199707,
          -19.518726348876953,
          2.8067212104797363,
          26.686243057250977,
          25.594451904296875,
          26.946006774902344,
          38.41123962402344,
          28.345544815063477,
          0.2410241663455963,
          14.981332778930664,
          12.794123649597168,
          -5.416003227233887,
          -16.626760482788086,
          22.99979591369629,
          10.578725814819336,
          29.499698638916016,
          34.80847930908203,
          11.118815422058105,
          0.8838921189308167,
          14.730158805847168,
          19.817941665649414,
          -31.219058990478516,
          -31.964080810546875,
          19.16732406616211,
          11.606860160827637,
          -20.55061149597168,
          -30.94538116455078,
          -31.5606632232666,
          -28.887001037597656,
          -1.2319749593734741,
          21.418270111083984,
          34.26588821411133,
          -22.74561309814453,
          -21.146713256835938,
          23.64714813232422,
          1.0078368186950684,
          35.6642951965332,
          40.197242736816406,
          -2.134923219680786,
          20.316883087158203,
          -16.629724502563477,
          18.959197998046875,
          34.39975357055664,
          -3.5928592681884766,
          3.424698829650879,
          -9.48001766204834,
          -5.711893081665039,
          14.863883972167969,
          58.66360855102539,
          -16.767183303833008,
          -11.020913124084473,
          3.927405595779419,
          3.446444511413574,
          14.486658096313477,
          -17.973886489868164,
          -14.332869529724121,
          -31.964080810546875,
          44.06085205078125,
          37.62995147705078,
          -3.6245062351226807,
          -3.6083128452301025,
          -30.787389755249023,
          -18.63620948791504,
          -29.210479736328125,
          30.451839447021484,
          6.939797878265381,
          3.8873207569122314,
          30.50423812866211,
          4.046335697174072,
          -17.44866180419922,
          -14.749526023864746,
          -16.643396377563477,
          37.259151458740234,
          -2.6249308586120605,
          -20.215877532958984,
          18.95897102355957,
          -13.80993938446045,
          1.3060518503189087,
          -17.658674240112305,
          11.166361808776855,
          14.676191329956055,
          29.926593780517578,
          -1.7749218940734863,
          -17.86968994140625,
          21.123367309570312,
          -33.8564567565918,
          14.722005844116211,
          -10.30320930480957,
          14.49288558959961,
          32.19191360473633,
          36.87070846557617,
          -30.64141273498535,
          3.477628231048584,
          -25.509517669677734,
          15.167743682861328,
          40.716697692871094,
          -2.209202527999878,
          -1.624772071838379,
          -1.9009532928466797,
          5.66314697265625,
          8.638084411621094,
          10.891077995300293,
          6.227108001708984,
          -24.770051956176758,
          8.060667991638184,
          -19.061573028564453,
          28.2170467376709,
          38.483543395996094,
          19.31732177734375,
          3.4487011432647705,
          -27.373037338256836,
          -16.825050354003906,
          9.671564102172852,
          26.9555606842041,
          -31.964080810546875,
          19.62887191772461,
          30.320289611816406,
          15.727054595947266,
          19.819477081298828,
          23.79473114013672,
          -13.429176330566406,
          -19.92203140258789,
          16.2901668548584,
          22.57268714904785,
          -21.594181060791016,
          -16.98210906982422,
          -27.609060287475586,
          -10.613697052001953,
          -10.613697052001953,
          24.771358489990234,
          10.787879943847656,
          2.711599826812744,
          25.23202896118164,
          8.744978904724121,
          14.01605224609375,
          6.554090976715088,
          8.99875545501709,
          6.297195911407471,
          30.23805809020996,
          15.530245780944824,
          15.102251052856445,
          -21.326370239257812,
          -21.602380752563477,
          41.488685607910156,
          -24.2767333984375,
          28.835153579711914,
          1.7121541500091553,
          14.681135177612305,
          36.90150451660156,
          -31.47275161743164,
          -28.46043586730957,
          -28.918790817260742,
          -29.493755340576172,
          8.107831001281738,
          -13.429304122924805,
          -7.3951334953308105,
          4.046335697174072,
          -18.63620948791504,
          15.802027702331543,
          24.76504898071289,
          -10.133916854858398,
          -31.53849220275879,
          -1.0321427583694458,
          -7.390496253967285,
          20.69916343688965,
          -31.563777923583984,
          9.169520378112793,
          14.004228591918945,
          17.77849578857422,
          3.1178770065307617,
          -1.0057752132415771,
          -3.1829159259796143,
          19.03890037536621,
          22.371171951293945,
          -29.695526123046875,
          -29.523006439208984,
          18.8878173828125,
          -20.930315017700195,
          30.356082916259766,
          -18.09833335876465,
          20.159183502197266,
          34.514644622802734,
          -27.373037338256836,
          18.440288543701172,
          23.037309646606445,
          19.236469268798828,
          12.305005073547363,
          -3.396972894668579,
          -3.396972894668579,
          34.26373291015625,
          33.98849105834961,
          -9.295880317687988,
          -28.128734588623047,
          -9.295880317687988,
          -2.7584025859832764,
          1.6524392366409302,
          29.246809005737305,
          24.465545654296875,
          24.465545654296875,
          -16.643396377563477,
          31.391128540039062,
          4.7315497398376465,
          -12.080976486206055,
          -20.551088333129883,
          1.7211885452270508,
          3.477628231048584,
          26.163188934326172,
          31.06266212463379,
          23.328041076660156,
          23.127120971679688,
          -15.340919494628906,
          -9.776961326599121,
          7.822118759155273,
          0.7718517780303955,
          -30.414691925048828,
          -14.749526023864746,
          31.865041732788086,
          -11.453956604003906,
          -33.825538635253906,
          23.7410831451416,
          12.397477149963379,
          22.700916290283203,
          -5.7476487159729,
          -6.140771389007568,
          -15.484084129333496,
          -15.019261360168457,
          12.752418518066406,
          1.0917296409606934,
          14.404629707336426,
          14.182621002197266,
          -10.957745552062988,
          9.45712661743164,
          0.6151047348976135,
          -14.387130737304688,
          -14.54921817779541,
          -14.548308372497559,
          0.45620962977409363,
          16.642738342285156,
          48.836612701416016,
          23.772296905517578,
          -0.6109628081321716,
          -16.58513832092285,
          5.9024481773376465,
          48.39011001586914,
          48.836612701416016,
          9.455527305603027,
          -29.881187438964844,
          -29.242359161376953,
          -18.63620948791504,
          -19.060171127319336,
          -5.6600542068481445,
          9.544953346252441,
          9.276006698608398,
          8.750255584716797,
          42.628173828125,
          39.691993713378906,
          12.187932014465332,
          19.208559036254883,
          -25.51311492919922,
          2.9480814933776855,
          15.15279769897461,
          15.337630271911621,
          27.992431640625,
          18.82041358947754,
          14.793893814086914,
          28.91463851928711,
          33.69677734375,
          6.100758075714111,
          -14.80064582824707,
          28.6469669342041,
          34.312469482421875,
          8.745243072509766,
          -11.763531684875488,
          8.965245246887207,
          24.486051559448242,
          12.587234497070312,
          21.393102645874023,
          11.157588958740234,
          -6.1233134269714355,
          27.403806686401367,
          -9.48001766204834,
          5.884798526763916,
          1.683233618736267,
          -22.45991325378418,
          -22.675491333007812,
          -11.107694625854492,
          21.320083618164062,
          27.960886001586914,
          45.493221282958984,
          45.49059295654297,
          10.411736488342285,
          7.787701606750488,
          15.112025260925293,
          3.173032522201538,
          39.36976623535156,
          10.505855560302734,
          9.161283493041992,
          25.018630981445312,
          21.85199737548828,
          -12.315474510192871,
          -31.563777923583984,
          -17.363319396972656,
          6.7907938957214355,
          -29.472003936767578,
          -1.2100149393081665,
          -22.223154067993164,
          -21.859071731567383,
          -11.606478691101074,
          -19.37470817565918,
          19.134796142578125,
          3.6438472270965576,
          -4.659100532531738,
          -18.977705001831055,
          7.315871238708496,
          -15.55866527557373,
          -11.109156608581543,
          -18.978261947631836,
          -14.078872680664062,
          14.389448165893555,
          12.450776100158691,
          4.046335697174072,
          10.883193016052246,
          -5.7476487159729,
          10.399360656738281,
          -18.63620948791504,
          -31.5606632232666,
          34.968727111816406,
          13.353616714477539,
          -14.233098030090332,
          -23.658662796020508,
          -16.084064483642578,
          -30.647464752197266,
          3.1178770065307617,
          19.46624183654785,
          40.923912048339844,
          1.6664729118347168,
          17.12409019470215,
          9.130753517150879,
          -16.640811920166016,
          21.91297149658203,
          7.753806114196777,
          -0.506244421005249,
          15.880427360534668,
          -29.210092544555664,
          3.128528594970703,
          0.6455061435699463,
          39.08115768432617,
          27.972137451171875,
          -6.099465847015381,
          -16.381807327270508,
          26.748443603515625,
          15.801877975463867,
          23.581459045410156,
          -21.791229248046875,
          -21.207019805908203,
          4.977481842041016,
          -19.864276885986328,
          -19.56031036376953,
          38.15678024291992,
          6.755753993988037,
          10.30826187133789,
          -13.317645072937012,
          -7.021566867828369,
          -6.495378494262695,
          -7.021566867828369,
          1.8789618015289307,
          35.86304473876953,
          -2.0494539737701416,
          20.412384033203125,
          1.0677516460418701,
          -9.815573692321777,
          -18.381418228149414,
          26.410621643066406,
          1.9412504434585571,
          -9.479461669921875,
          13.924317359924316,
          12.206382751464844,
          27.2995548248291,
          -30.40300750732422,
          -14.309027671813965,
          -14.308283805847168,
          -14.295557022094727,
          -44.383060455322266,
          0.7629353404045105,
          -7.255052089691162,
          10.02038288116455,
          5.507576942443848,
          -15.31812858581543,
          0.4158283472061157,
          21.691675186157227,
          12.88055419921875,
          -11.878758430480957,
          -7.826096057891846,
          11.027579307556152,
          14.161700248718262,
          -7.708411693572998,
          16.802858352661133,
          -13.329520225524902,
          -30.796262741088867,
          6.852245330810547,
          13.880417823791504,
          -17.973886489868164,
          38.55207443237305,
          -17.213687896728516,
          6.17249059677124,
          -20.18465805053711,
          3.9549806118011475,
          -11.878758430480957,
          -21.390443801879883,
          -17.363319396972656,
          11.344527244567871,
          -16.957263946533203,
          7.564231872558594,
          4.440939903259277,
          28.689241409301758,
          -15.764253616333008,
          7.616591453552246,
          40.96436309814453,
          -8.700136184692383,
          -23.065719604492188,
          -23.7007999420166,
          -22.66670036315918,
          -18.876420974731445,
          -12.535324096679688,
          -18.381418228149414,
          -31.5606632232666,
          -32.992210388183594,
          -8.874545097351074,
          -4.815524578094482,
          5.2850165367126465,
          7.351581573486328,
          5.2597503662109375,
          15.437941551208496,
          4.906057834625244,
          -6.349058151245117,
          26.81304168701172,
          -29.643173217773438,
          -1.8577903509140015,
          -16.019168853759766,
          1.3497081995010376,
          -16.35953712463379,
          1.3864825963974,
          -0.8330666422843933,
          0.5424156188964844,
          -1.8579635620117188,
          -8.541455268859863,
          10.959222793579102,
          -29.88450813293457,
          -28.239042282104492,
          -11.089468955993652,
          24.851755142211914,
          36.719627380371094,
          36.52425003051758,
          -24.048145294189453,
          36.52425003051758,
          -22.19356918334961,
          21.926353454589844,
          -22.98421859741211,
          19.526962280273438,
          -23.114078521728516,
          -20.571643829345703,
          -23.973308563232422,
          -23.488550186157227,
          26.45512580871582,
          0.012573051266372204,
          20.079526901245117,
          -19.896137237548828,
          4.207923412322998,
          7.423173427581787,
          -2.4214982986450195,
          40.55403137207031,
          30.738529205322266,
          26.580629348754883,
          18.959197998046875,
          7.104904651641846,
          16.076492309570312,
          -20.93880844116211,
          41.94800567626953,
          -22.05719566345215,
          -18.11391258239746,
          -17.258228302001953,
          -31.964080810546875,
          40.13810348510742,
          -7.708411693572998,
          -32.92412185668945,
          19.140026092529297,
          19.154560089111328,
          12.211380958557129,
          4.008822441101074,
          -31.74750518798828,
          -24.70327377319336,
          -14.480992317199707,
          27.871959686279297,
          20.435211181640625,
          -17.974472045898438,
          42.42988586425781,
          -12.661009788513184,
          -7.308944225311279,
          1.5412369966506958,
          39.01829147338867,
          -23.127666473388672,
          36.43973922729492,
          -7.329381942749023,
          -20.488813400268555,
          -18.381418228149414,
          -14.4517822265625,
          -13.543994903564453,
          -8.739214897155762,
          -20.816293716430664,
          37.212982177734375,
          -19.56031036376953,
          35.68964385986328,
          10.07005500793457,
          31.088520050048828,
          -16.547100067138672,
          29.440683364868164,
          22.76556396484375,
          8.793694496154785,
          21.706512451171875,
          20.24619483947754,
          30.808366775512695,
          -30.40300750732422,
          -32.16336441040039,
          5.36836051940918,
          4.026322841644287,
          27.117441177368164,
          -33.57697296142578,
          19.342193603515625,
          21.084070205688477,
          21.206632614135742,
          36.03541564941406,
          13.73251724243164,
          -17.582916259765625,
          -17.5831241607666,
          -19.686569213867188,
          -21.12452507019043,
          -22.11763572692871,
          -12.576916694641113,
          35.86090087890625,
          30.720134735107422,
          -7.307584285736084,
          -13.317724227905273,
          -3.7838406562805176,
          -9.014775276184082,
          14.87672233581543,
          35.078834533691406,
          -14.114996910095215,
          29.62154769897461,
          -9.014775276184082,
          4.1319732666015625,
          -13.85875129699707,
          -14.116460800170898,
          20.420377731323242,
          8.457273483276367,
          -20.607421875,
          8.45727825164795,
          41.62266540527344,
          42.408164978027344,
          20.316883087158203,
          -30.959474563598633,
          20.316883087158203,
          20.316883087158203,
          16.016693115234375,
          29.177257537841797,
          -11.124363899230957,
          1.6061463356018066,
          2.244410753250122,
          2.4539072513580322,
          17.49544906616211,
          9.003911018371582,
          -23.76473045349121,
          17.43245506286621,
          -23.396568298339844,
          -23.92947769165039,
          -1.873514175415039,
          -18.17463493347168,
          11.590689659118652,
          1.2468535900115967,
          14.441976547241211,
          -28.33164405822754,
          -12.797767639160156,
          37.47618865966797,
          -22.373708724975586,
          9.046282768249512,
          5.524580478668213,
          22.06414222717285,
          -3.396972894668579,
          10.326727867126465,
          10.003748893737793,
          -29.376075744628906,
          0.6722227334976196,
          -40.263397216796875,
          -0.37900596857070923,
          -13.878670692443848,
          11.116462707519531,
          0.6379635334014893,
          16.304401397705078,
          -22.86587142944336,
          14.273564338684082,
          24.623592376708984,
          -16.34823989868164,
          23.58939552307129,
          -29.643173217773438,
          2.2192306518554688,
          -18.390701293945312,
          9.544953346252441,
          -5.416219234466553,
          27.245807647705078,
          -16.169050216674805,
          -5.416003227233887,
          7.103438377380371,
          5.406750202178955,
          22.19358253479004,
          -31.964080810546875,
          -28.239042282104492,
          -18.17463493347168,
          22.19358253479004,
          35.856231689453125,
          -29.881187438964844,
          1.465566635131836,
          35.954620361328125,
          2.970736026763916,
          16.40166473388672,
          -1.8303905725479126,
          32.5330810546875,
          26.31025505065918,
          -10.773660659790039,
          28.91527557373047,
          -20.52021026611328,
          40.89410400390625,
          16.19352149963379,
          1.2443268299102783,
          19.317508697509766,
          -21.326370239257812,
          25.273046493530273,
          31.41104507446289,
          25.377410888671875,
          -18.517738342285156,
          -36.9052734375,
          0.5129222273826599,
          -14.749526023864746,
          11.25643253326416,
          39.32536315917969,
          -30.001209259033203,
          -20.712512969970703,
          -22.638442993164062,
          12.683557510375977,
          -21.200029373168945,
          26.52159881591797,
          -29.88450813293457,
          -31.964080810546875,
          -31.964080810546875,
          15.400676727294922,
          14.491472244262695,
          36.52425003051758,
          -20.053550720214844,
          21.402421951293945,
          5.803402423858643,
          3.629781723022461,
          3.629650354385376,
          -16.835784912109375,
          -2.503264904022217,
          8.588623046875,
          -16.835784912109375,
          24.59852409362793,
          0.2087554782629013,
          -34.46766662597656,
          9.254817962646484,
          -34.467613220214844,
          5.219470024108887,
          17.386362075805664,
          33.446407318115234,
          15.017171859741211,
          39.19037628173828,
          15.039263725280762,
          -20.779918670654297,
          14.059679985046387,
          16.82929229736328,
          -2.1514649391174316,
          5.879088878631592,
          -13.691287994384766,
          16.719629287719727,
          3.460679769515991,
          -20.18438148498535,
          -31.964080810546875,
          -18.877307891845703,
          -22.50042724609375,
          23.708980560302734,
          19.514663696289062,
          -17.586397171020508,
          12.39797306060791,
          6.252963066101074,
          -10.826241493225098,
          23.888774871826172,
          3.6438472270965576,
          3.477628231048584,
          -25.50663185119629,
          24.55400848388672,
          -22.960899353027344,
          18.3394775390625,
          24.00201988220215,
          -25.373233795166016,
          -31.964080810546875,
          -24.269222259521484,
          18.511930465698242,
          -16.505836486816406,
          6.656586647033691,
          5.389955520629883,
          -11.472228050231934,
          13.708443641662598,
          -24.316495895385742,
          9.700291633605957,
          -10.359851837158203,
          19.237600326538086,
          33.30329895019531,
          36.86332321166992,
          -31.964080810546875,
          14.471098899841309,
          14.98348331451416,
          11.099520683288574,
          -36.49827575683594,
          0.8360760807991028,
          -34.35013198852539,
          1.2443268299102783,
          -1.5049046277999878,
          18.298738479614258,
          1.5363078117370605,
          -17.71046257019043,
          -18.877307891845703,
          12.50145149230957,
          35.544803619384766,
          -12.412458419799805,
          -19.507143020629883,
          30.774948120117188,
          -22.222511291503906,
          25.923351287841797,
          37.03168487548828,
          14.815884590148926,
          30.172258377075195,
          -26.35875129699707,
          -22.455873489379883,
          18.39037322998047,
          -26.362642288208008,
          12.61687183380127,
          16.391830444335938,
          5.7516398429870605,
          -3.116645574569702,
          -11.020877838134766,
          -0.029643181711435318,
          13.51511001586914,
          0.07908206433057785,
          2.8680386543273926,
          1.1181228160858154,
          -9.815573692321777,
          5.595600605010986,
          40.062744140625
         ],
         "yaxis": "y"
        },
        {
         "customdata": [
          [
           "Dakshineswar",
           "PLACE"
          ],
          [
           "kingdom",
           "PLACE"
          ],
          [
           "Nagaloka",
           "PLACE"
          ],
          [
           "Nagaloka",
           "PLACE"
          ],
          [
           "Varunaloka",
           "PLACE"
          ],
          [
           "Agniloka",
           "PLACE"
          ],
          [
           "kingdom",
           "PLACE"
          ],
          [
           "desert",
           "PLACE"
          ],
          [
           "water tank site",
           "PLACE"
          ],
          [
           "desert scrub",
           "PLACE"
          ],
          [
           "British TV studio",
           "PLACE"
          ],
          [
           "neighbouring set",
           "PLACE"
          ],
          [
           "university",
           "PLACE"
          ],
          [
           "fashion department",
           "PLACE"
          ],
          [
           "college",
           "PLACE"
          ],
          [
           "skating exhibition",
           "PLACE"
          ],
          [
           "South Korea",
           "PLACE"
          ],
          [
           "Seoul",
           "PLACE"
          ],
          [
           "Gangwon Province",
           "PLACE"
          ],
          [
           "school",
           "PLACE"
          ],
          [
           "village school",
           "PLACE"
          ],
          [
           "Ernakulam",
           "PLACE"
          ],
          [
           "spot",
           "PLACE"
          ],
          [
           "village in Tamil Nadu",
           "PLACE"
          ],
          [
           "nearby woods",
           "PLACE"
          ],
          [
           "workhouse",
           "PLACE"
          ],
          [
           "Salt Lake City",
           "PLACE"
          ],
          [
           "Utah",
           "PLACE"
          ],
          [
           "towns",
           "PLACE"
          ],
          [
           "wagon train",
           "PLACE"
          ],
          [
           "United States",
           "PLACE"
          ],
          [
           "deserter from the United States Army",
           "PLACE"
          ],
          [
           "Boston",
           "PLACE"
          ],
          [
           "Starkfield",
           "PLACE"
          ],
          [
           "world",
           "PLACE"
          ],
          [
           "Strange Planet",
           "PLACE"
          ],
          [
           "Wales",
           "PLACE"
          ],
          [
           "Outward Bound sea school",
           "PLACE"
          ],
          [
           "brothel",
           "PLACE"
          ],
          [
           "local pool",
           "PLACE"
          ],
          [
           "Germany",
           "PLACE"
          ],
          [
           "Germany",
           "PLACE"
          ],
          [
           "West Germany",
           "PLACE"
          ],
          [
           "cellar",
           "PLACE"
          ],
          [
           "California bank",
           "PLACE"
          ],
          [
           "republic of Costa Salva",
           "PLACE"
          ],
          [
           "Macau casino",
           "PLACE"
          ],
          [
           "remote patrol station",
           "PLACE"
          ],
          [
           "eastern Turkey",
           "PLACE"
          ],
          [
           "Denziland",
           "PLACE"
          ],
          [
           "Earth",
           "PLACE"
          ],
          [
           "Denzi",
           "PLACE"
          ],
          [
           "Earth",
           "PLACE"
          ],
          [
           "Earth",
           "PLACE"
          ],
          [
           "Denziland",
           "PLACE"
          ],
          [
           "planet Denzi",
           "PLACE"
          ],
          [
           "Tombstone",
           "PLACE"
          ],
          [
           "Arizona",
           "PLACE"
          ],
          [
           "Cottonwood",
           "PLACE"
          ],
          [
           "ranch near Cottonwood",
           "PLACE"
          ],
          [
           "box-office",
           "PLACE"
          ],
          [
           "Aztec pyramid",
           "PLACE"
          ],
          [
           "city",
           "PLACE"
          ],
          [
           "Sussex countryside",
           "PLACE"
          ],
          [
           "ancient castle",
           "PLACE"
          ],
          [
           "caravan park",
           "PLACE"
          ],
          [
           "Pacific Northwest",
           "PLACE"
          ],
          [
           "lodge",
           "PLACE"
          ],
          [
           "Madras",
           "PLACE"
          ],
          [
           "lodge",
           "PLACE"
          ],
          [
           "Beijing",
           "PLACE"
          ],
          [
           "China",
           "PLACE"
          ],
          [
           "public marketplace",
           "PLACE"
          ],
          [
           "house",
           "PLACE"
          ],
          [
           "Egypt",
           "PLACE"
          ],
          [
           "Egypt",
           "PLACE"
          ],
          [
           "England",
           "PLACE"
          ],
          [
           "Preet Real Estate",
           "PLACE"
          ],
          [
           "Busan",
           "PLACE"
          ],
          [
           "Gilsotteum",
           "PLACE"
          ],
          [
           "modern Korea",
           "PLACE"
          ],
          [
           "London",
           "PLACE"
          ],
          [
           "British world",
           "PLACE"
          ],
          [
           "concert",
           "PLACE"
          ],
          [
           "River Thames",
           "PLACE"
          ],
          [
           "foreign embassy",
           "PLACE"
          ],
          [
           "Texas",
           "PLACE"
          ],
          [
           "college",
           "PLACE"
          ],
          [
           "college",
           "PLACE"
          ],
          [
           "college",
           "PLACE"
          ],
          [
           "basement of a retirement home",
           "PLACE"
          ],
          [
           "Saratoga",
           "PLACE"
          ],
          [
           "New York",
           "PLACE"
          ],
          [
           "racetrack",
           "PLACE"
          ],
          [
           "unnamed small town",
           "PLACE"
          ],
          [
           "house",
           "PLACE"
          ],
          [
           "house",
           "PLACE"
          ],
          [
           "Paris",
           "PLACE"
          ],
          [
           "theatre",
           "PLACE"
          ],
          [
           "jail",
           "PLACE"
          ],
          [
           "Studio 54",
           "PLACE"
          ],
          [
           "Studio 54",
           "PLACE"
          ],
          [
           "club",
           "PLACE"
          ],
          [
           "South Africa",
           "PLACE"
          ],
          [
           "jail",
           "PLACE"
          ],
          [
           "Karachi",
           "PLACE"
          ],
          [
           "club",
           "PLACE"
          ],
          [
           "Cloud Nine",
           "PLACE"
          ],
          [
           "Guest House",
           "PLACE"
          ],
          [
           "remote village",
           "PLACE"
          ],
          [
           "prison",
           "PLACE"
          ],
          [
           "prison",
           "PLACE"
          ],
          [
           "Manhattan",
           "PLACE"
          ],
          [
           "domains",
           "PLACE"
          ],
          [
           "boarding house",
           "PLACE"
          ],
          [
           "pantomime company",
           "PLACE"
          ],
          [
           "London West End theatre",
           "PLACE"
          ],
          [
           "itauji high school concert band club",
           "PLACE"
          ],
          [
           "school",
           "PLACE"
          ],
          [
           "club",
           "PLACE"
          ],
          [
           "port",
           "PLACE"
          ],
          [
           "Monterey",
           "PLACE"
          ],
          [
           "town",
           "PLACE"
          ],
          [
           "Monterey",
           "PLACE"
          ],
          [
           "big city",
           "PLACE"
          ],
          [
           "Japan",
           "PLACE"
          ],
          [
           "kimchi food company",
           "PLACE"
          ],
          [
           "North Korean",
           "PLACE"
          ],
          [
           "Korean Peninsula",
           "PLACE"
          ],
          [
           "Texas",
           "PLACE"
          ],
          [
           "Manhattan",
           "PLACE"
          ],
          [
           "youth center",
           "PLACE"
          ],
          [
           "youth center",
           "PLACE"
          ],
          [
           "skyscraper",
           "PLACE"
          ],
          [
           "old house",
           "PLACE"
          ],
          [
           "Spain",
           "PLACE"
          ],
          [
           "post 9/11 world",
           "PLACE"
          ],
          [
           "Earth's surface",
           "PLACE"
          ],
          [
           "Chiswick Palais",
           "PLACE"
          ],
          [
           "local dance hall",
           "PLACE"
          ],
          [
           "Arizona",
           "PLACE"
          ],
          [
           "Mexico",
           "PLACE"
          ],
          [
           "ancient civilizations",
           "PLACE"
          ],
          [
           "Monterrey",
           "PLACE"
          ],
          [
           "Mexico",
           "PLACE"
          ],
          [
           "Tin Pan Alley",
           "PLACE"
          ],
          [
           "Gay Nineties New York",
           "PLACE"
          ],
          [
           "South Africa",
           "PLACE"
          ],
          [
           "Africa",
           "PLACE"
          ],
          [
           "Hell's Gate Pass",
           "PLACE"
          ],
          [
           "suburb of Balwyn",
           "PLACE"
          ],
          [
           "Long Island town",
           "PLACE"
          ],
          [
           "private hospital in Bombay",
           "PLACE"
          ],
          [
           "ranch",
           "PLACE"
          ],
          [
           "ranch",
           "PLACE"
          ],
          [
           "Lynn's ranch",
           "PLACE"
          ],
          [
           "village",
           "PLACE"
          ],
          [
           "Chicago",
           "PLACE"
          ],
          [
           "barracks",
           "PLACE"
          ],
          [
           "Arizona",
           "PLACE"
          ],
          [
           "Poston War Relocation Center",
           "PLACE"
          ],
          [
           "World War II internment camp for Japanese Americans",
           "PLACE"
          ],
          [
           "mountains",
           "PLACE"
          ],
          [
           "town",
           "PLACE"
          ],
          [
           "Holy Water Palace",
           "PLACE"
          ],
          [
           "palace",
           "PLACE"
          ],
          [
           "cellar",
           "PLACE"
          ],
          [
           "house",
           "PLACE"
          ],
          [
           "U.S. Treasury Department",
           "PLACE"
          ],
          [
           "Mexico",
           "PLACE"
          ],
          [
           "jail",
           "PLACE"
          ],
          [
           "Southern California beach house",
           "PLACE"
          ],
          [
           "house",
           "PLACE"
          ],
          [
           "house",
           "PLACE"
          ],
          [
           "nightclub",
           "PLACE"
          ],
          [
           "club",
           "PLACE"
          ],
          [
           "India",
           "PLACE"
          ],
          [
           "nearby village",
           "PLACE"
          ],
          [
           "polling booth",
           "PLACE"
          ],
          [
           "San Francisco",
           "PLACE"
          ],
          [
           "hospital",
           "PLACE"
          ],
          [
           "Timbuktu",
           "PLACE"
          ],
          [
           "Timbuktu",
           "PLACE"
          ],
          [
           "habitats",
           "PLACE"
          ],
          [
           "bakery-cum-restaurant",
           "PLACE"
          ],
          [
           "shores of Lake Toya",
           "PLACE"
          ],
          [
           "Hokkaido",
           "PLACE"
          ],
          [
           "restaurant",
           "PLACE"
          ],
          [
           "shop",
           "PLACE"
          ],
          [
           "shop",
           "PLACE"
          ],
          [
           "Digha",
           "PLACE"
          ],
          [
           "room",
           "PLACE"
          ],
          [
           "Creedmore Prison",
           "PLACE"
          ],
          [
           "Creedmore Prison",
           "PLACE"
          ],
          [
           "small-town Southern Ontario",
           "PLACE"
          ],
          [
           "Mexican nightclub",
           "PLACE"
          ],
          [
           "United States",
           "PLACE"
          ],
          [
           "board the battleship HMS Scotia",
           "PLACE"
          ],
          [
           "French Riviera",
           "PLACE"
          ],
          [
           "board ship",
           "PLACE"
          ],
          [
           "coast of Italy",
           "PLACE"
          ],
          [
           "house",
           "PLACE"
          ],
          [
           "Russia",
           "PLACE"
          ],
          [
           "Brooklyn",
           "PLACE"
          ],
          [
           "South America",
           "PLACE"
          ],
          [
           "Chamdo",
           "PLACE"
          ],
          [
           "Tibet",
           "PLACE"
          ],
          [
           "Sichuan",
           "PLACE"
          ],
          [
           "Tibet",
           "PLACE"
          ],
          [
           "sharecropping plantation",
           "PLACE"
          ],
          [
           "Northern Florida",
           "PLACE"
          ],
          [
           "chitlin circuit",
           "PLACE"
          ],
          [
           "small town",
           "PLACE"
          ],
          [
           "Kochi",
           "PLACE"
          ],
          [
           "New York City",
           "PLACE"
          ],
          [
           "Philippines",
           "PLACE"
          ],
          [
           "remote barrio",
           "PLACE"
          ],
          [
           "forest",
           "PLACE"
          ],
          [
           "crossroad",
           "PLACE"
          ],
          [
           "houses",
           "PLACE"
          ],
          [
           "barrio",
           "PLACE"
          ],
          [
           "Alexandria",
           "PLACE"
          ],
          [
           "Palestine",
           "PLACE"
          ],
          [
           "small-town bank",
           "PLACE"
          ],
          [
           "Rajasthan",
           "PLACE"
          ],
          [
           "Rajasthan",
           "PLACE"
          ],
          [
           "board an ocean liner to America",
           "PLACE"
          ],
          [
           "hideout",
           "PLACE"
          ],
          [
           "Kenya",
           "PLACE"
          ],
          [
           "Toronto",
           "PLACE"
          ],
          [
           "London",
           "PLACE"
          ],
          [
           "coal mine",
           "PLACE"
          ],
          [
           "forgotten mine",
           "PLACE"
          ],
          [
           "prison",
           "PLACE"
          ],
          [
           "coast",
           "PLACE"
          ],
          [
           "train",
           "PLACE"
          ],
          [
           "school",
           "PLACE"
          ],
          [
           "high school",
           "PLACE"
          ],
          [
           "Chirpendale",
           "PLACE"
          ],
          [
           "peaceful town",
           "PLACE"
          ],
          [
           "town",
           "PLACE"
          ],
          [
           "small town",
           "PLACE"
          ],
          [
           "saloon",
           "PLACE"
          ],
          [
           "Machine Empire of Baranoia",
           "PLACE"
          ],
          [
           "Earth",
           "PLACE"
          ],
          [
           "Pangaea",
           "PLACE"
          ],
          [
           "Baranoia",
           "PLACE"
          ],
          [
           "military school",
           "PLACE"
          ],
          [
           "back of a diner",
           "PLACE"
          ],
          [
           "jail",
           "PLACE"
          ],
          [
           "Blackpool",
           "PLACE"
          ],
          [
           "rooms",
           "PLACE"
          ],
          [
           "haunted mansion",
           "PLACE"
          ],
          [
           "prison",
           "PLACE"
          ],
          [
           "catwalks of a refinery",
           "PLACE"
          ],
          [
           "Earth",
           "PLACE"
          ],
          [
           "Earth",
           "PLACE"
          ],
          [
           "town",
           "PLACE"
          ],
          [
           "oil fields",
           "PLACE"
          ],
          [
           "Saudi Arabia",
           "PLACE"
          ],
          [
           "West",
           "PLACE"
          ],
          [
           "Europe",
           "PLACE"
          ],
          [
           "Avalanche Express",
           "PLACE"
          ],
          [
           "Europe",
           "PLACE"
          ],
          [
           "train",
           "PLACE"
          ],
          [
           "Northern California",
           "PLACE"
          ],
          [
           "Luxor",
           "PLACE"
          ],
          [
           "Persia",
           "PLACE"
          ],
          [
           "London",
           "PLACE"
          ],
          [
           "studio",
           "PLACE"
          ],
          [
           "bento shop",
           "PLACE"
          ],
          [
           "studio",
           "PLACE"
          ],
          [
           "schools",
           "PLACE"
          ],
          [
           "New York",
           "PLACE"
          ]
         ],
         "hovertemplate": "label=%{customdata[1]}<br>x-tsne=%{x}<br>y-tsne=%{y}<br>text=%{customdata[0]}<extra></extra>",
         "legendgroup": "PLACE",
         "marker": {
          "color": "#ab63fa",
          "symbol": "circle"
         },
         "mode": "markers",
         "name": "PLACE",
         "showlegend": true,
         "type": "scattergl",
         "x": [
          38.09597396850586,
          -1.5997204780578613,
          46.28434371948242,
          46.28435134887695,
          43.95132064819336,
          43.73845672607422,
          -1.599362850189209,
          -6.295187950134277,
          9.914148330688477,
          -6.3889946937561035,
          7.672616004943848,
          -1.045911431312561,
          -25.30815315246582,
          10.121003150939941,
          -24.508312225341797,
          3.8185155391693115,
          15.90974235534668,
          13.587646484375,
          70.50463104248047,
          -22.712987899780273,
          -16.38833999633789,
          34.851104736328125,
          -27.5318603515625,
          35.62538528442383,
          4.8868408203125,
          -4.567505359649658,
          11.914169311523438,
          3.3941547870635986,
          1.9352933168411255,
          6.911872386932373,
          16.963150024414062,
          27.26927375793457,
          -3.821834087371826,
          22.027156829833984,
          5.6596198081970215,
          -8.2683744430542,
          1.41926908493042,
          6.126070499420166,
          -14.77297306060791,
          1.334335207939148,
          8.293924331665039,
          8.293924331665039,
          8.974515914916992,
          -10.682343482971191,
          8.228827476501465,
          19.639463424682617,
          3.697833776473999,
          9.829715728759766,
          10.815180778503418,
          57.6479606628418,
          -7.914752960205078,
          58.60369873046875,
          -7.447072982788086,
          -7.447072982788086,
          57.64973068237305,
          59.074466705322266,
          -11.944723129272461,
          4.4909186363220215,
          13.778611183166504,
          13.623998641967773,
          10.428107261657715,
          12.81045913696289,
          -0.23891253769397736,
          11.435651779174805,
          5.64275598526001,
          10.273324966430664,
          13.800615310668945,
          -6.070721626281738,
          24.079999923706055,
          -6.070710182189941,
          12.042288780212402,
          10.338781356811523,
          10.436176300048828,
          -7.735115051269531,
          3.8821074962615967,
          3.881359815597534,
          0.774855375289917,
          9.746187210083008,
          62.5179443359375,
          43.77561569213867,
          16.628633499145508,
          -1.469220519065857,
          5.8519206047058105,
          -11.18476390838623,
          18.55098533630371,
          0.22057583928108215,
          2.839665174484253,
          -24.508312225341797,
          -24.508312225341797,
          -24.508312225341797,
          7.178868293762207,
          -7.9513373374938965,
          17.256805419921875,
          -12.001703262329102,
          8.5003023147583,
          -7.021670818328857,
          -7.023472309112549,
          -2.176825761795044,
          -12.042343139648438,
          -11.342040061950684,
          -7.397598743438721,
          -7.397402763366699,
          -26.85190200805664,
          12.64666748046875,
          -11.203963279724121,
          21.878137588500977,
          -26.597984313964844,
          -3.2475597858428955,
          5.083888053894043,
          6.234562873840332,
          -9.56875991821289,
          -9.437448501586914,
          -6.3572869300842285,
          -15.129687309265137,
          5.653042316436768,
          10.696983337402344,
          6.024243354797363,
          1.808940052986145,
          -22.71364974975586,
          -26.80129623413086,
          0.2729373872280121,
          -6.520029544830322,
          1.175359845161438,
          -6.520029544830322,
          11.080184936523438,
          9.633310317993164,
          10.688923835754395,
          16.03238296508789,
          17.038537979125977,
          2.839665174484253,
          -6.3567705154418945,
          6.818960189819336,
          6.818960189819336,
          -11.92613697052002,
          6.042971611022949,
          6.452432155609131,
          21.027711868286133,
          -6.482582092285156,
          6.546804904937744,
          1.315937876701355,
          4.4909186363220215,
          5.844900131225586,
          -6.917094707489014,
          6.298982620239258,
          5.844900131225586,
          15.984711647033691,
          18.293731689453125,
          12.64666748046875,
          11.137866020202637,
          -1.915370225906372,
          14.396985054016113,
          9.821343421936035,
          6.518794536590576,
          -11.101828575134277,
          -11.101818084716797,
          -3.8070130348205566,
          1.644122838973999,
          -3.6911509037017822,
          -9.575295448303223,
          4.4909186363220215,
          8.661826133728027,
          23.66136932373047,
          -4.622919082641602,
          1.0287736654281616,
          4.927425861358643,
          -9.308273315429688,
          -10.68230152130127,
          -7.735115051269531,
          28.673391342163086,
          5.844954967498779,
          -10.94966983795166,
          13.87012004852295,
          -7.48375940322876,
          -6.791738033294678,
          -14.021049499511719,
          -26.80129623413086,
          9.100078582763672,
          4.991641044616699,
          12.75693416595459,
          15.751214981079102,
          -9.231101989746094,
          62.711936950683594,
          62.711936950683594,
          -59.52177047729492,
          4.346166133880615,
          12.692720413208008,
          9.691967010498047,
          -13.397638320922852,
          -13.79310417175293,
          -13.79304027557373,
          47.37332534790039,
          -10.470783233642578,
          17.938562393188477,
          17.938213348388672,
          8.78187370300293,
          -13.520438194274902,
          16.963150024414062,
          4.155969619750977,
          42.05863952636719,
          3.6976635456085205,
          19.558570861816406,
          -7.926331043243408,
          6.015382766723633,
          -5.9547905921936035,
          13.098397254943848,
          56.4500617980957,
          10.623160362243652,
          11.026273727416992,
          10.622282981872559,
          13.13538932800293,
          13.013505935668945,
          50.2851448059082,
          7.757327079772949,
          24.43680191040039,
          17.231908798217773,
          7.811028003692627,
          5.85595178604126,
          -56.55417251586914,
          3.162346363067627,
          -7.2877655029296875,
          5.59244966506958,
          1.885736107826233,
          4.700966835021973,
          8.059244155883789,
          22.975101470947266,
          22.975072860717773,
          4.415224552154541,
          -20.337045669555664,
          10.895581245422363,
          -3.1692678928375244,
          -1.469220519065857,
          13.32048511505127,
          -32.8487663269043,
          -9.56875991821289,
          -2.9461421966552734,
          6.139336585998535,
          -22.71364974975586,
          -17.813920974731445,
          45.31943893432617,
          7.158341407775879,
          1.175359845161438,
          7.75674295425415,
          -15.179291725158691,
          21.039493560791016,
          -8.240304946899414,
          41.032100677490234,
          42.769676208496094,
          -17.298845291137695,
          -3.198254108428955,
          -11.082637786865234,
          -28.208738327026367,
          -10.425130844116211,
          6.480827331542969,
          -9.437448501586914,
          12.405491828918457,
          -7.914752960205078,
          -7.447072982788086,
          1.175359845161438,
          12.744695663452148,
          13.909146308898926,
          -2.3004908561706543,
          7.528839111328125,
          7.619661808013916,
          7.528802871704102,
          6.139317989349365,
          13.102640151977539,
          13.336008071899414,
          3.675474166870117,
          -1.469220519065857,
          -9.522337913513184,
          16.289714813232422,
          -9.522354125976562,
          -22.102083206176758,
          17.256805419921875
         ],
         "xaxis": "x",
         "y": [
          48.50654220581055,
          -32.371578216552734,
          32.0263557434082,
          32.026344299316406,
          26.33626365661621,
          26.05489158630371,
          -32.37127685546875,
          -30.163360595703125,
          -7.078922748565674,
          -30.138629913330078,
          4.584158897399902,
          -8.794218063354492,
          -1.6549981832504272,
          12.539876937866211,
          -0.7346745729446411,
          -10.081281661987305,
          -37.87028884887695,
          -40.82596969604492,
          15.246243476867676,
          -3.126641273498535,
          -0.514744758605957,
          53.366783142089844,
          -26.480207443237305,
          55.34440231323242,
          -15.721752166748047,
          -12.453246116638184,
          -11.74035358428955,
          -44.04589080810547,
          -23.719139099121094,
          -24.309398651123047,
          -31.735660552978516,
          -31.192703247070312,
          -38.221858978271484,
          -9.042430877685547,
          -30.824708938598633,
          2.0264170169830322,
          -36.634151458740234,
          0.9784017205238342,
          -15.606157302856445,
          -7.218763828277588,
          -34.38649368286133,
          -34.38649368286133,
          -33.845314025878906,
          -14.496118545532227,
          -12.545939445495605,
          -26.12394905090332,
          -7.4204487800598145,
          7.350347518920898,
          -33.32350158691406,
          8.835457801818848,
          -50.8824348449707,
          8.283546447753906,
          -50.201839447021484,
          -50.201839447021484,
          8.835240364074707,
          8.723029136657715,
          -29.312204360961914,
          -43.96403121948242,
          -6.121854305267334,
          -6.2461652755737305,
          6.035247325897217,
          23.98227310180664,
          -23.0010986328125,
          -18.760129928588867,
          -5.771114826202393,
          -7.145997524261475,
          -30.655712127685547,
          -10.550827980041504,
          50.514404296875,
          -10.550800323486328,
          -40.94700241088867,
          -40.4927978515625,
          2.6841468811035156,
          -13.578993797302246,
          -37.77792739868164,
          -37.778438568115234,
          -36.8000602722168,
          -2.7055423259735107,
          39.71381378173828,
          23.728118896484375,
          -36.961421966552734,
          -37.69258499145508,
          -30.903278350830078,
          -9.123932838439941,
          -7.06736946105957,
          5.251710891723633,
          -41.594093322753906,
          -0.7346745729446411,
          -0.7346745729446411,
          -0.7346745729446411,
          -4.229496002197266,
          -35.202186584472656,
          -19.44138526916504,
          -18.687957763671875,
          -15.656941413879395,
          -12.848546028137207,
          -13.695122718811035,
          -40.710792541503906,
          -9.8626708984375,
          -20.939584732055664,
          -7.428981304168701,
          -7.429118633270264,
          -5.816408157348633,
          -35.50770568847656,
          -20.487018585205078,
          49.05588150024414,
          -5.9030561447143555,
          3.946232318878174,
          8.363554000854492,
          -17.720436096191406,
          -21.407407760620117,
          -20.87360382080078,
          -36.91029739379883,
          -9.34681510925293,
          -4.12904167175293,
          0.3037128150463104,
          -0.916172206401825,
          -5.517899036407471,
          -3.123971700668335,
          -6.2062835693359375,
          -24.236446380615234,
          -33.70989227294922,
          -22.69968605041504,
          -33.70989227294922,
          -11.554388999938965,
          -42.05305480957031,
          0.4367111325263977,
          -38.26866912841797,
          -38.737213134765625,
          -41.594093322753906,
          -36.909305572509766,
          -8.87155532836914,
          -8.87155532836914,
          -16.44451141357422,
          -4.49611234664917,
          -38.76999282836914,
          -32.23316955566406,
          -51.44646453857422,
          -2.3199288845062256,
          -6.584822177886963,
          -43.96403121948242,
          -41.12661361694336,
          -3.6965317726135254,
          -42.16134262084961,
          -41.12661361694336,
          -3.24025297164917,
          -18.691184997558594,
          -35.50770568847656,
          -36.297325134277344,
          33.15924072265625,
          -10.267215728759766,
          -14.764182090759277,
          -11.915596961975098,
          -30.70722007751465,
          -30.70708656311035,
          36.00882339477539,
          -21.241762161254883,
          -37.602210998535156,
          -17.445528030395508,
          -43.96403121948242,
          -7.833168983459473,
          -31.879222869873047,
          -29.51854705810547,
          -23.01278305053711,
          -6.337581634521484,
          -16.083240509033203,
          -14.496166229248047,
          -13.578993797302246,
          -28.47816276550293,
          -41.126365661621094,
          -20.49669075012207,
          -14.345670700073242,
          -12.675454139709473,
          -13.29792594909668,
          -15.572595596313477,
          -6.2062835693359375,
          -39.90227508544922,
          -16.495132446289062,
          6.357195854187012,
          -15.519933700561523,
          -19.193893432617188,
          31.64887809753418,
          31.64887809753418,
          -0.5019843578338623,
          16.58920669555664,
          -11.953001022338867,
          -42.48267364501953,
          -13.790121078491211,
          -12.857955932617188,
          -12.858033180236816,
          44.45050811767578,
          -12.399529457092285,
          -11.784530639648438,
          -11.784998893737793,
          -14.492362976074219,
          -15.766077041625977,
          -31.735660552978516,
          34.814598083496094,
          16.262962341308594,
          34.852149963378906,
          -26.168657302856445,
          -12.925965309143066,
          -34.911808013916016,
          -37.59536361694336,
          -34.73553466796875,
          26.24380874633789,
          -39.07432174682617,
          -40.26499557495117,
          -39.073020935058594,
          -4.6585822105407715,
          -31.417287826538086,
          21.249540328979492,
          -15.386661529541016,
          49.905757904052734,
          -18.91498374938965,
          -39.64384460449219,
          -19.063400268554688,
          -0.4878636598587036,
          12.90429973602295,
          -14.919211387634277,
          -19.610824584960938,
          -39.42702102661133,
          -38.06415557861328,
          -13.889874458312988,
          49.361873626708984,
          49.362213134765625,
          34.06702423095703,
          -16.08586883544922,
          -36.957618713378906,
          -37.13726043701172,
          -37.69258499145508,
          -1.0976086854934692,
          -18.622682571411133,
          -21.407407760620117,
          -29.426481246948242,
          -24.65727424621582,
          -3.123971700668335,
          0.5481740236282349,
          25.153589248657227,
          -16.707979202270508,
          -22.69968605041504,
          -15.386061668395996,
          -14.650100708007812,
          -25.363677978515625,
          -50.175811767578125,
          24.344144821166992,
          24.08816146850586,
          -0.24871812760829926,
          30.973876953125,
          -21.067094802856445,
          -5.788825511932373,
          -12.4143705368042,
          -5.114391803741455,
          -20.87360382080078,
          -3.4356682300567627,
          -50.8824348449707,
          -50.201839447021484,
          -22.69968605041504,
          -2.044391393661499,
          -36.88917541503906,
          -28.51527214050293,
          -36.73720932006836,
          -23.979379653930664,
          -36.73710250854492,
          -24.657470703125,
          -31.328195571899414,
          30.34147834777832,
          -36.027671813964844,
          -37.69258499145508,
          -9.324654579162598,
          -2.483492851257324,
          -9.324551582336426,
          -4.064647674560547,
          -19.44138526916504
         ],
         "yaxis": "y"
        }
       ],
       "layout": {
        "height": 1200,
        "legend": {
         "title": {
          "text": "label"
         },
         "tracegroupgap": 0
        },
        "template": {
         "data": {
          "bar": [
           {
            "error_x": {
             "color": "#2a3f5f"
            },
            "error_y": {
             "color": "#2a3f5f"
            },
            "marker": {
             "line": {
              "color": "#E5ECF6",
              "width": 0.5
             },
             "pattern": {
              "fillmode": "overlay",
              "size": 10,
              "solidity": 0.2
             }
            },
            "type": "bar"
           }
          ],
          "barpolar": [
           {
            "marker": {
             "line": {
              "color": "#E5ECF6",
              "width": 0.5
             },
             "pattern": {
              "fillmode": "overlay",
              "size": 10,
              "solidity": 0.2
             }
            },
            "type": "barpolar"
           }
          ],
          "carpet": [
           {
            "aaxis": {
             "endlinecolor": "#2a3f5f",
             "gridcolor": "white",
             "linecolor": "white",
             "minorgridcolor": "white",
             "startlinecolor": "#2a3f5f"
            },
            "baxis": {
             "endlinecolor": "#2a3f5f",
             "gridcolor": "white",
             "linecolor": "white",
             "minorgridcolor": "white",
             "startlinecolor": "#2a3f5f"
            },
            "type": "carpet"
           }
          ],
          "choropleth": [
           {
            "colorbar": {
             "outlinewidth": 0,
             "ticks": ""
            },
            "type": "choropleth"
           }
          ],
          "contour": [
           {
            "colorbar": {
             "outlinewidth": 0,
             "ticks": ""
            },
            "colorscale": [
             [
              0,
              "#0d0887"
             ],
             [
              0.1111111111111111,
              "#46039f"
             ],
             [
              0.2222222222222222,
              "#7201a8"
             ],
             [
              0.3333333333333333,
              "#9c179e"
             ],
             [
              0.4444444444444444,
              "#bd3786"
             ],
             [
              0.5555555555555556,
              "#d8576b"
             ],
             [
              0.6666666666666666,
              "#ed7953"
             ],
             [
              0.7777777777777778,
              "#fb9f3a"
             ],
             [
              0.8888888888888888,
              "#fdca26"
             ],
             [
              1,
              "#f0f921"
             ]
            ],
            "type": "contour"
           }
          ],
          "contourcarpet": [
           {
            "colorbar": {
             "outlinewidth": 0,
             "ticks": ""
            },
            "type": "contourcarpet"
           }
          ],
          "heatmap": [
           {
            "colorbar": {
             "outlinewidth": 0,
             "ticks": ""
            },
            "colorscale": [
             [
              0,
              "#0d0887"
             ],
             [
              0.1111111111111111,
              "#46039f"
             ],
             [
              0.2222222222222222,
              "#7201a8"
             ],
             [
              0.3333333333333333,
              "#9c179e"
             ],
             [
              0.4444444444444444,
              "#bd3786"
             ],
             [
              0.5555555555555556,
              "#d8576b"
             ],
             [
              0.6666666666666666,
              "#ed7953"
             ],
             [
              0.7777777777777778,
              "#fb9f3a"
             ],
             [
              0.8888888888888888,
              "#fdca26"
             ],
             [
              1,
              "#f0f921"
             ]
            ],
            "type": "heatmap"
           }
          ],
          "heatmapgl": [
           {
            "colorbar": {
             "outlinewidth": 0,
             "ticks": ""
            },
            "colorscale": [
             [
              0,
              "#0d0887"
             ],
             [
              0.1111111111111111,
              "#46039f"
             ],
             [
              0.2222222222222222,
              "#7201a8"
             ],
             [
              0.3333333333333333,
              "#9c179e"
             ],
             [
              0.4444444444444444,
              "#bd3786"
             ],
             [
              0.5555555555555556,
              "#d8576b"
             ],
             [
              0.6666666666666666,
              "#ed7953"
             ],
             [
              0.7777777777777778,
              "#fb9f3a"
             ],
             [
              0.8888888888888888,
              "#fdca26"
             ],
             [
              1,
              "#f0f921"
             ]
            ],
            "type": "heatmapgl"
           }
          ],
          "histogram": [
           {
            "marker": {
             "pattern": {
              "fillmode": "overlay",
              "size": 10,
              "solidity": 0.2
             }
            },
            "type": "histogram"
           }
          ],
          "histogram2d": [
           {
            "colorbar": {
             "outlinewidth": 0,
             "ticks": ""
            },
            "colorscale": [
             [
              0,
              "#0d0887"
             ],
             [
              0.1111111111111111,
              "#46039f"
             ],
             [
              0.2222222222222222,
              "#7201a8"
             ],
             [
              0.3333333333333333,
              "#9c179e"
             ],
             [
              0.4444444444444444,
              "#bd3786"
             ],
             [
              0.5555555555555556,
              "#d8576b"
             ],
             [
              0.6666666666666666,
              "#ed7953"
             ],
             [
              0.7777777777777778,
              "#fb9f3a"
             ],
             [
              0.8888888888888888,
              "#fdca26"
             ],
             [
              1,
              "#f0f921"
             ]
            ],
            "type": "histogram2d"
           }
          ],
          "histogram2dcontour": [
           {
            "colorbar": {
             "outlinewidth": 0,
             "ticks": ""
            },
            "colorscale": [
             [
              0,
              "#0d0887"
             ],
             [
              0.1111111111111111,
              "#46039f"
             ],
             [
              0.2222222222222222,
              "#7201a8"
             ],
             [
              0.3333333333333333,
              "#9c179e"
             ],
             [
              0.4444444444444444,
              "#bd3786"
             ],
             [
              0.5555555555555556,
              "#d8576b"
             ],
             [
              0.6666666666666666,
              "#ed7953"
             ],
             [
              0.7777777777777778,
              "#fb9f3a"
             ],
             [
              0.8888888888888888,
              "#fdca26"
             ],
             [
              1,
              "#f0f921"
             ]
            ],
            "type": "histogram2dcontour"
           }
          ],
          "mesh3d": [
           {
            "colorbar": {
             "outlinewidth": 0,
             "ticks": ""
            },
            "type": "mesh3d"
           }
          ],
          "parcoords": [
           {
            "line": {
             "colorbar": {
              "outlinewidth": 0,
              "ticks": ""
             }
            },
            "type": "parcoords"
           }
          ],
          "pie": [
           {
            "automargin": true,
            "type": "pie"
           }
          ],
          "scatter": [
           {
            "fillpattern": {
             "fillmode": "overlay",
             "size": 10,
             "solidity": 0.2
            },
            "type": "scatter"
           }
          ],
          "scatter3d": [
           {
            "line": {
             "colorbar": {
              "outlinewidth": 0,
              "ticks": ""
             }
            },
            "marker": {
             "colorbar": {
              "outlinewidth": 0,
              "ticks": ""
             }
            },
            "type": "scatter3d"
           }
          ],
          "scattercarpet": [
           {
            "marker": {
             "colorbar": {
              "outlinewidth": 0,
              "ticks": ""
             }
            },
            "type": "scattercarpet"
           }
          ],
          "scattergeo": [
           {
            "marker": {
             "colorbar": {
              "outlinewidth": 0,
              "ticks": ""
             }
            },
            "type": "scattergeo"
           }
          ],
          "scattergl": [
           {
            "marker": {
             "colorbar": {
              "outlinewidth": 0,
              "ticks": ""
             }
            },
            "type": "scattergl"
           }
          ],
          "scattermapbox": [
           {
            "marker": {
             "colorbar": {
              "outlinewidth": 0,
              "ticks": ""
             }
            },
            "type": "scattermapbox"
           }
          ],
          "scatterpolar": [
           {
            "marker": {
             "colorbar": {
              "outlinewidth": 0,
              "ticks": ""
             }
            },
            "type": "scatterpolar"
           }
          ],
          "scatterpolargl": [
           {
            "marker": {
             "colorbar": {
              "outlinewidth": 0,
              "ticks": ""
             }
            },
            "type": "scatterpolargl"
           }
          ],
          "scatterternary": [
           {
            "marker": {
             "colorbar": {
              "outlinewidth": 0,
              "ticks": ""
             }
            },
            "type": "scatterternary"
           }
          ],
          "surface": [
           {
            "colorbar": {
             "outlinewidth": 0,
             "ticks": ""
            },
            "colorscale": [
             [
              0,
              "#0d0887"
             ],
             [
              0.1111111111111111,
              "#46039f"
             ],
             [
              0.2222222222222222,
              "#7201a8"
             ],
             [
              0.3333333333333333,
              "#9c179e"
             ],
             [
              0.4444444444444444,
              "#bd3786"
             ],
             [
              0.5555555555555556,
              "#d8576b"
             ],
             [
              0.6666666666666666,
              "#ed7953"
             ],
             [
              0.7777777777777778,
              "#fb9f3a"
             ],
             [
              0.8888888888888888,
              "#fdca26"
             ],
             [
              1,
              "#f0f921"
             ]
            ],
            "type": "surface"
           }
          ],
          "table": [
           {
            "cells": {
             "fill": {
              "color": "#EBF0F8"
             },
             "line": {
              "color": "white"
             }
            },
            "header": {
             "fill": {
              "color": "#C8D4E3"
             },
             "line": {
              "color": "white"
             }
            },
            "type": "table"
           }
          ]
         },
         "layout": {
          "annotationdefaults": {
           "arrowcolor": "#2a3f5f",
           "arrowhead": 0,
           "arrowwidth": 1
          },
          "autotypenumbers": "strict",
          "coloraxis": {
           "colorbar": {
            "outlinewidth": 0,
            "ticks": ""
           }
          },
          "colorscale": {
           "diverging": [
            [
             0,
             "#8e0152"
            ],
            [
             0.1,
             "#c51b7d"
            ],
            [
             0.2,
             "#de77ae"
            ],
            [
             0.3,
             "#f1b6da"
            ],
            [
             0.4,
             "#fde0ef"
            ],
            [
             0.5,
             "#f7f7f7"
            ],
            [
             0.6,
             "#e6f5d0"
            ],
            [
             0.7,
             "#b8e186"
            ],
            [
             0.8,
             "#7fbc41"
            ],
            [
             0.9,
             "#4d9221"
            ],
            [
             1,
             "#276419"
            ]
           ],
           "sequential": [
            [
             0,
             "#0d0887"
            ],
            [
             0.1111111111111111,
             "#46039f"
            ],
            [
             0.2222222222222222,
             "#7201a8"
            ],
            [
             0.3333333333333333,
             "#9c179e"
            ],
            [
             0.4444444444444444,
             "#bd3786"
            ],
            [
             0.5555555555555556,
             "#d8576b"
            ],
            [
             0.6666666666666666,
             "#ed7953"
            ],
            [
             0.7777777777777778,
             "#fb9f3a"
            ],
            [
             0.8888888888888888,
             "#fdca26"
            ],
            [
             1,
             "#f0f921"
            ]
           ],
           "sequentialminus": [
            [
             0,
             "#0d0887"
            ],
            [
             0.1111111111111111,
             "#46039f"
            ],
            [
             0.2222222222222222,
             "#7201a8"
            ],
            [
             0.3333333333333333,
             "#9c179e"
            ],
            [
             0.4444444444444444,
             "#bd3786"
            ],
            [
             0.5555555555555556,
             "#d8576b"
            ],
            [
             0.6666666666666666,
             "#ed7953"
            ],
            [
             0.7777777777777778,
             "#fb9f3a"
            ],
            [
             0.8888888888888888,
             "#fdca26"
            ],
            [
             1,
             "#f0f921"
            ]
           ]
          },
          "colorway": [
           "#636efa",
           "#EF553B",
           "#00cc96",
           "#ab63fa",
           "#FFA15A",
           "#19d3f3",
           "#FF6692",
           "#B6E880",
           "#FF97FF",
           "#FECB52"
          ],
          "font": {
           "color": "#2a3f5f"
          },
          "geo": {
           "bgcolor": "white",
           "lakecolor": "white",
           "landcolor": "#E5ECF6",
           "showlakes": true,
           "showland": true,
           "subunitcolor": "white"
          },
          "hoverlabel": {
           "align": "left"
          },
          "hovermode": "closest",
          "mapbox": {
           "style": "light"
          },
          "paper_bgcolor": "white",
          "plot_bgcolor": "#E5ECF6",
          "polar": {
           "angularaxis": {
            "gridcolor": "white",
            "linecolor": "white",
            "ticks": ""
           },
           "bgcolor": "#E5ECF6",
           "radialaxis": {
            "gridcolor": "white",
            "linecolor": "white",
            "ticks": ""
           }
          },
          "scene": {
           "xaxis": {
            "backgroundcolor": "#E5ECF6",
            "gridcolor": "white",
            "gridwidth": 2,
            "linecolor": "white",
            "showbackground": true,
            "ticks": "",
            "zerolinecolor": "white"
           },
           "yaxis": {
            "backgroundcolor": "#E5ECF6",
            "gridcolor": "white",
            "gridwidth": 2,
            "linecolor": "white",
            "showbackground": true,
            "ticks": "",
            "zerolinecolor": "white"
           },
           "zaxis": {
            "backgroundcolor": "#E5ECF6",
            "gridcolor": "white",
            "gridwidth": 2,
            "linecolor": "white",
            "showbackground": true,
            "ticks": "",
            "zerolinecolor": "white"
           }
          },
          "shapedefaults": {
           "line": {
            "color": "#2a3f5f"
           }
          },
          "ternary": {
           "aaxis": {
            "gridcolor": "white",
            "linecolor": "white",
            "ticks": ""
           },
           "baxis": {
            "gridcolor": "white",
            "linecolor": "white",
            "ticks": ""
           },
           "bgcolor": "#E5ECF6",
           "caxis": {
            "gridcolor": "white",
            "linecolor": "white",
            "ticks": ""
           }
          },
          "title": {
           "x": 0.05
          },
          "xaxis": {
           "automargin": true,
           "gridcolor": "white",
           "linecolor": "white",
           "ticks": "",
           "title": {
            "standoff": 15
           },
           "zerolinecolor": "white",
           "zerolinewidth": 2
          },
          "yaxis": {
           "automargin": true,
           "gridcolor": "white",
           "linecolor": "white",
           "ticks": "",
           "title": {
            "standoff": 15
           },
           "zerolinecolor": "white",
           "zerolinewidth": 2
          }
         }
        },
        "title": {
         "text": "Expressions t-SNE Visualization with Bert-small Embeddings"
        },
        "width": 1200,
        "xaxis": {
         "anchor": "y",
         "domain": [
          0,
          1
         ],
         "title": {
          "text": "x-tsne"
         }
        },
        "yaxis": {
         "anchor": "x",
         "domain": [
          0,
          1
         ],
         "title": {
          "text": "y-tsne"
         }
        }
       }
      }
     },
     "metadata": {},
     "output_type": "display_data"
    }
   ],
   "source": [
    "fig = px.scatter(\n",
    "    bert_df,\n",
    "    x=\"x-tsne\",\n",
    "    y=\"y-tsne\",\n",
    "    color=\"label\",\n",
    "    hover_data={\"text\": True, \"label\": True},\n",
    "    title=\"Expressions t-SNE Visualization with Bert-small Embeddings\",\n",
    "    width=1200,\n",
    "    height=1200,\n",
    ")\n",
    "\n",
    "# Show plot\n",
    "fig.show()"
   ]
  },
  {
   "cell_type": "markdown",
   "metadata": {},
   "source": [
    "### Closest words"
   ]
  },
  {
   "cell_type": "code",
   "execution_count": 176,
   "metadata": {},
   "outputs": [
    {
     "name": "stdout",
     "output_type": "stream",
     "text": [
      "******************** Cosine Similarity ********************\n",
      "                 word1                 word2  similarity\n",
      "0       3rd century bc        5th century bc       0.973\n",
      "1             20 years              10 years       0.956\n",
      "2        another woman           another man       0.956\n",
      "3             new wife           new husband       0.950\n",
      "4            young boy            young girl       0.943\n",
      "5                1960s                 1970s       0.940\n",
      "6            young man           young woman       0.939\n",
      "7  high school student  high school students       0.937\n",
      "\n",
      "\n",
      "******************** Euclidean Distance ********************\n",
      "             word1                word2  similarity\n",
      "0   3rd century bc       5th century bc       3.416\n",
      "1         20 years             10 years       4.266\n",
      "2    another woman          another man       4.338\n",
      "3      vijayakumar  manjula vijayakumar       4.607\n",
      "4         new wife          new husband       4.669\n",
      "5  paige's brother       matt's brother       4.817\n",
      "6        young boy           young girl       4.938\n",
      "7        young man          young woman       4.993\n"
     ]
    }
   ],
   "source": [
    "bert_df_unique = bert_df.copy()\n",
    "bert_df_unique['text'] = bert_df_unique['text'].apply(lambda x: x.lower())\n",
    "bert_df_unique = bert_df_unique.drop_duplicates(subset=[\"text\"])\n",
    "words = bert_df_unique[\"text\"].values\n",
    "embeddings = bert_df_unique[\"embedding\"].to_list()\n",
    "\n",
    "nearest_neighbors = get_k_nearest_neighbors(np.array(embeddings),words, k=8, metric=\"cosine\")\n",
    "\n",
    "# Print the nearest neighbors for each word\n",
    "print(f'{'*'*20} Cosine Similarity {'*'*20}')\n",
    "dtf = {\"word1\": [], \"word2\": [], \"similarity\": []}\n",
    "for (word1, word2), similarity in nearest_neighbors:\n",
    "    dtf[\"word1\"].append(word1)\n",
    "    dtf[\"word2\"].append(word2)\n",
    "    dtf[\"similarity\"].append(round(float(similarity),3))\n",
    "print(pd.DataFrame(dtf))\n",
    "\n",
    "print(\"\\n\")\n",
    "\n",
    "nearest_neighbors = get_k_nearest_neighbors(np.array(embeddings),words, k=8, metric=\"euclidean\")\n",
    "print(f'{'*'*20} Euclidean Distance {'*'*20}')\n",
    "dtf = {\"word1\": [], \"word2\": [], \"similarity\": []}\n",
    "for (word1, word2), similarity in nearest_neighbors:\n",
    "    dtf[\"word1\"].append(word1)\n",
    "    dtf[\"word2\"].append(word2)\n",
    "    dtf[\"similarity\"].append(round(float(similarity),3))\n",
    "print(pd.DataFrame(dtf))"
   ]
  },
  {
   "cell_type": "markdown",
   "metadata": {},
   "source": [
    "## FastText"
   ]
  },
  {
   "cell_type": "code",
   "execution_count": 168,
   "metadata": {},
   "outputs": [],
   "source": [
    "ft = fasttext.load_model(\"cc.en.300.bin\")\n",
    "ft_df_words = final_df_NER.copy()\n",
    "\n",
    "ft_df_words[\"embedding\"] = ft_df_words[\"text\"].apply(\n",
    "    lambda x: ft.get_sentence_vector(x)\n",
    ")"
   ]
  },
  {
   "cell_type": "markdown",
   "metadata": {},
   "source": [
    "### t-SNE"
   ]
  },
  {
   "cell_type": "code",
   "execution_count": 169,
   "metadata": {},
   "outputs": [],
   "source": [
    "ft_embed_arr = np.array(ft_df_words[\"embedding\"].to_list())\n",
    "tsne = TSNE(n_components=2, random_state=42, perplexity=30, max_iter=1000)\n",
    "X_tsne = tsne.fit_transform(ft_embed_arr)\n",
    "\n",
    "ft_df_words[\"x-tsne\"] = X_tsne[:, 0]\n",
    "ft_df_words[\"y-tsne\"] = X_tsne[:, 1]"
   ]
  },
  {
   "cell_type": "code",
   "execution_count": 170,
   "metadata": {},
   "outputs": [
    {
     "data": {
      "application/vnd.plotly.v1+json": {
       "config": {
        "plotlyServerURL": "https://plot.ly"
       },
       "data": [
        {
         "customdata": [
          [
           "World War I",
           "TIME"
          ],
          [
           "college days",
           "TIME"
          ],
          [
           "childhood days",
           "TIME"
          ],
          [
           "1981",
           "TIME"
          ],
          [
           "1962",
           "TIME"
          ],
          [
           "New Year",
           "TIME"
          ],
          [
           "childhood",
           "TIME"
          ],
          [
           "childhood",
           "TIME"
          ],
          [
           "World War II",
           "TIME"
          ],
          [
           "3000 years ago",
           "TIME"
          ],
          [
           "island",
           "TIME"
          ],
          [
           "modern times",
           "TIME"
          ],
          [
           "1990s",
           "TIME"
          ],
          [
           "next morning",
           "TIME"
          ],
          [
           "1960s",
           "TIME"
          ],
          [
           "20 years",
           "TIME"
          ],
          [
           "1959",
           "TIME"
          ],
          [
           "1960s",
           "TIME"
          ],
          [
           "1983",
           "TIME"
          ],
          [
           "three decades earlier",
           "TIME"
          ],
          [
           "Korean War",
           "TIME"
          ],
          [
           "during the war",
           "TIME"
          ],
          [
           "post–World War II",
           "TIME"
          ],
          [
           "10 years",
           "TIME"
          ],
          [
           "1918",
           "TIME"
          ],
          [
           "1860s",
           "TIME"
          ],
          [
           "1970s",
           "TIME"
          ],
          [
           "World War I",
           "TIME"
          ],
          [
           "2002",
           "TIME"
          ],
          [
           "2002",
           "TIME"
          ],
          [
           "early 1970s",
           "TIME"
          ],
          [
           "day of the competition",
           "TIME"
          ],
          [
           "Battle of Gonzales",
           "TIME"
          ],
          [
           "Battle of the Alamo",
           "TIME"
          ],
          [
           "19th century",
           "TIME"
          ],
          [
           "2011",
           "TIME"
          ],
          [
           "2070",
           "TIME"
          ],
          [
           "Few years later",
           "TIME"
          ],
          [
           "1970s",
           "TIME"
          ],
          [
           "summer",
           "TIME"
          ],
          [
           "Christmas",
           "TIME"
          ],
          [
           "Christmas",
           "TIME"
          ],
          [
           "Christmas",
           "TIME"
          ],
          [
           "1964",
           "TIME"
          ],
          [
           "Korean War",
           "TIME"
          ],
          [
           "autumn of 1950",
           "TIME"
          ],
          [
           "Christmas week",
           "TIME"
          ],
          [
           "1972",
           "TIME"
          ],
          [
           "1938",
           "TIME"
          ],
          [
           "Two days before Christmas",
           "TIME"
          ],
          [
           "1930s",
           "TIME"
          ],
          [
           "1999",
           "TIME"
          ],
          [
           "3rd century BC",
           "TIME"
          ],
          [
           "Sino-Indian War",
           "TIME"
          ],
          [
           "holidays",
           "TIME"
          ],
          [
           "Korean War",
           "TIME"
          ],
          [
           "1994",
           "TIME"
          ],
          [
           "5th century BC",
           "TIME"
          ]
         ],
         "hovertemplate": "label=%{customdata[1]}<br>x-tsne=%{x}<br>y-tsne=%{y}<br>text=%{customdata[0]}<extra></extra>",
         "legendgroup": "TIME",
         "marker": {
          "color": "#636efa",
          "symbol": "circle"
         },
         "mode": "markers",
         "name": "TIME",
         "showlegend": true,
         "type": "scattergl",
         "x": [
          -1.0562994480133057,
          6.4279890060424805,
          5.759922504425049,
          -6.855544567108154,
          -8.766096115112305,
          -9.966148376464844,
          36.65621566772461,
          36.65621566772461,
          -0.8203743100166321,
          2.282684326171875,
          0.9007706642150879,
          4.344796657562256,
          -4.049327850341797,
          6.83919620513916,
          -5.70421838760376,
          1.8777590990066528,
          -8.813177108764648,
          -5.70421838760376,
          -7.368442058563232,
          3.054553985595703,
          0.2641751170158386,
          14.532470703125,
          -0.06440845131874084,
          1.880350112915039,
          -10.203548431396484,
          -5.773871421813965,
          -4.878513336181641,
          -1.056989073753357,
          -6.055409908294678,
          -6.055409908294678,
          -4.0999436378479,
          15.585895538330078,
          4.572849750518799,
          4.838488578796387,
          -3.7019901275634766,
          -6.9742631912231445,
          -1.951661467552185,
          3.263599395751953,
          -4.878513336181641,
          8.042861938476562,
          3.930182933807373,
          3.930182933807373,
          3.930182933807373,
          -7.998735427856445,
          0.2641751170158386,
          12.36956787109375,
          4.872740745544434,
          -7.611159801483154,
          -9.567473411560059,
          4.806550979614258,
          -6.35587739944458,
          -5.672868728637695,
          -3.049480438232422,
          -0.9787212610244751,
          5.678862571716309,
          0.7187825441360474,
          -6.3830976486206055,
          -3.0695276260375977
         ],
         "xaxis": "x",
         "y": [
          -6.914320945739746,
          25.560640335083008,
          25.831729888916016,
          32.600372314453125,
          31.570940017700195,
          -17.556909561157227,
          34.165611267089844,
          34.165611267089844,
          -7.984503269195557,
          25.264427185058594,
          -15.661983489990234,
          -21.810930252075195,
          29.860881805419922,
          28.179988861083984,
          28.403730392456055,
          24.196609497070312,
          30.920730590820312,
          28.403730392456055,
          33.100830078125,
          26.779491424560547,
          -10.826202392578125,
          -3.706989049911499,
          -8.201814651489258,
          24.174978256225586,
          29.419937133789062,
          26.103988647460938,
          29.075082778930664,
          -6.915365219116211,
          35.418678283691406,
          35.418678283691406,
          28.06389617919922,
          -4.268908500671387,
          -7.675724983215332,
          -8.120264053344727,
          23.36969566345215,
          38.01382064819336,
          20.808942794799805,
          26.303688049316406,
          29.075082778930664,
          24.228561401367188,
          31.122352600097656,
          31.122352600097656,
          31.122352600097656,
          30.91607666015625,
          -10.826202392578125,
          -4.463318824768066,
          29.311742782592773,
          31.825841903686523,
          29.838573455810547,
          27.67909049987793,
          27.18656349182129,
          34.57135009765625,
          22.31850242614746,
          -9.86012077331543,
          30.642366409301758,
          -10.391266822814941,
          34.06816482543945,
          22.362218856811523
         ],
         "yaxis": "y"
        },
        {
         "customdata": [
          [
           "Elizabeth",
           "NAME"
          ],
          [
           "John",
           "NAME"
          ],
          [
           "John",
           "NAME"
          ],
          [
           "Elizabeth",
           "NAME"
          ],
          [
           "man",
           "NAME"
          ],
          [
           "John",
           "NAME"
          ],
          [
           "Elizabeth",
           "NAME"
          ],
          [
           "Colbert",
           "NAME"
          ],
          [
           "Welles",
           "NAME"
          ],
          [
           "George Brent",
           "NAME"
          ],
          [
           "Wood",
           "NAME"
          ],
          [
           "Swami Vivekananda",
           "NAME"
          ],
          [
           "Ramakrishna Paramahamsa",
           "NAME"
          ],
          [
           "Ramakrishna",
           "NAME"
          ],
          [
           "Ramakrishna",
           "NAME"
          ],
          [
           "Jagathalaprathapan",
           "NAME"
          ],
          [
           "Nagakumari",
           "NAME"
          ],
          [
           "Indrani",
           "NAME"
          ],
          [
           "Agnikumari",
           "NAME"
          ],
          [
           "Varunakumari",
           "NAME"
          ],
          [
           "Indirakumari",
           "NAME"
          ],
          [
           "Jagathalaprathapan",
           "NAME"
          ],
          [
           "Nagakumari",
           "NAME"
          ],
          [
           "Agnikumari",
           "NAME"
          ],
          [
           "Varunakumari",
           "NAME"
          ],
          [
           "Holloway",
           "NAME"
          ],
          [
           "Mrs. Von Sturm",
           "NAME"
          ],
          [
           "Patrick Wymark",
           "NAME"
          ],
          [
           "Margaret Johnston",
           "NAME"
          ],
          [
           "Lewis",
           "NAME"
          ],
          [
           "Clark",
           "NAME"
          ],
          [
           "George",
           "NAME"
          ],
          [
           "Salvator Xuereb",
           "NAME"
          ],
          [
           "Dan Gunther",
           "NAME"
          ],
          [
           "Clark",
           "NAME"
          ],
          [
           "Rose McGowan",
           "NAME"
          ],
          [
           "Lewis",
           "NAME"
          ],
          [
           "George",
           "NAME"
          ],
          [
           "Michael Rennie",
           "NAME"
          ],
          [
           "Mikki Brent",
           "NAME"
          ],
          [
           "Rennie",
           "NAME"
          ],
          [
           "Rennie",
           "NAME"
          ],
          [
           "Krista Nielsen",
           "NAME"
          ],
          [
           "Sonja Henie",
           "NAME"
          ],
          [
           "Cesar Romero",
           "NAME"
          ],
          [
           "George",
           "NAME"
          ],
          [
           "Marcelle La Verne",
           "NAME"
          ],
          [
           "Marcelle",
           "NAME"
          ],
          [
           "Krista",
           "NAME"
          ],
          [
           "Krista",
           "NAME"
          ],
          [
           "Larry Taylor",
           "NAME"
          ],
          [
           "George Cabot Jr.",
           "NAME"
          ],
          [
           "Kang Soo-ha",
           "NAME"
          ],
          [
           "Yun Hong-yeon",
           "NAME"
          ],
          [
           "Soo-ha",
           "NAME"
          ],
          [
           "Yang Eun-hee",
           "NAME"
          ],
          [
           "Neil John Samuel",
           "NAME"
          ],
          [
           "Neel",
           "NAME"
          ],
          [
           "Neil",
           "NAME"
          ],
          [
           "Neil",
           "NAME"
          ],
          [
           "Gavin Gore",
           "NAME"
          ],
          [
           "Jeremy Sumpter",
           "NAME"
          ],
          [
           "Sophie Suchowski",
           "NAME"
          ],
          [
           "Addie Land",
           "NAME"
          ],
          [
           "Hobie Plumber",
           "NAME"
          ],
          [
           "Hubbel Palmer",
           "NAME"
          ],
          [
           "Maynard Keyes",
           "NAME"
          ],
          [
           "Rob Pinkston",
           "NAME"
          ],
          [
           "Zerk Wilder",
           "NAME"
          ],
          [
           "Justin Long",
           "NAME"
          ],
          [
           "Shirts Joachim",
           "NAME"
          ],
          [
           "Joey Kern",
           "NAME"
          ],
          [
           "Carl Weathers",
           "NAME"
          ],
          [
           "Zerk",
           "NAME"
          ],
          [
           "Vani Viswanath",
           "NAME"
          ],
          [
           "Sukanya",
           "NAME"
          ],
          [
           "Babuji",
           "NAME"
          ],
          [
           "Babuji",
           "NAME"
          ],
          [
           "Sukanya",
           "NAME"
          ],
          [
           "Babuji",
           "NAME"
          ],
          [
           "Babuji",
           "NAME"
          ],
          [
           "Babuji",
           "NAME"
          ],
          [
           "Babuji",
           "NAME"
          ],
          [
           "Oliver",
           "NAME"
          ],
          [
           "Oliver",
           "NAME"
          ],
          [
           "Temujin",
           "NAME"
          ],
          [
           "Genghis Khan",
           "NAME"
          ],
          [
           "Bortai",
           "NAME"
          ],
          [
           "Bortai",
           "NAME"
          ],
          [
           "Temujin",
           "NAME"
          ],
          [
           "Temujin",
           "NAME"
          ],
          [
           "Bortai",
           "NAME"
          ],
          [
           "Temujin",
           "NAME"
          ],
          [
           "Dirtwater Fox",
           "NAME"
          ],
          [
           "Duchess",
           "NAME"
          ],
          [
           "Duchess",
           "NAME"
          ],
          [
           "Dirtwater Fox",
           "NAME"
          ],
          [
           "Mordecai C. Jones",
           "NAME"
          ],
          [
           "Scott",
           "NAME"
          ],
          [
           "Sarrazin",
           "NAME"
          ],
          [
           "Curley",
           "NAME"
          ],
          [
           "Smith",
           "NAME"
          ],
          [
           "Ethan Frome",
           "NAME"
          ],
          [
           "Smith",
           "NAME"
          ],
          [
           "Ethan",
           "NAME"
          ],
          [
           "Zeena Pierce",
           "NAME"
          ],
          [
           "Zeena",
           "NAME"
          ],
          [
           "Ethan",
           "NAME"
          ],
          [
           "Mattie Silver",
           "NAME"
          ],
          [
           "Carmen",
           "NAME"
          ],
          [
           "Rita Hayworth",
           "NAME"
          ],
          [
           "Glenn Ford",
           "NAME"
          ],
          [
           "Victor Jory",
           "NAME"
          ],
          [
           "Flesh",
           "NAME"
          ],
          [
           "Vince Murdocco",
           "NAME"
          ],
          [
           "Evil Presence",
           "NAME"
          ],
          [
           "William Dennis Hunt",
           "NAME"
          ],
          [
           "Evil Presence",
           "NAME"
          ],
          [
           "Queen Frigid",
           "NAME"
          ],
          [
           "(Maureen Webb",
           "NAME"
          ],
          [
           "Flesh",
           "NAME"
          ],
          [
           "Flesh",
           "NAME"
          ],
          [
           "Al Walker",
           "NAME"
          ],
          [
           "Walker",
           "NAME"
          ],
          [
           "Shellshocked",
           "NAME"
          ],
          [
           "Mike Merriworth",
           "NAME"
          ],
          [
           "Kieron Moore",
           "NAME"
          ],
          [
           "William McInnes",
           "NAME"
          ],
          [
           "Monic Hendrickx",
           "NAME"
          ],
          [
           "RuoLan",
           "NAME"
          ],
          [
           "RuMei",
           "NAME"
          ],
          [
           "Ruo Lan",
           "NAME"
          ],
          [
           "Ah Liang",
           "NAME"
          ],
          [
           "Haruma Miura",
           "NAME"
          ],
          [
           "Ryo",
           "NAME"
          ],
          [
           "Lucky Finder",
           "NAME"
          ],
          [
           "Wilhelm Frick",
           "NAME"
          ],
          [
           "Hank Wilson",
           "NAME"
          ],
          [
           "Byron Levin",
           "NAME"
          ],
          [
           "Catherine Stockheinz",
           "NAME"
          ],
          [
           "Frederic Stockheinz",
           "NAME"
          ],
          [
           "Byron",
           "NAME"
          ],
          [
           "Lorenzo Prado",
           "NAME"
          ],
          [
           "Catherine",
           "NAME"
          ],
          [
           "Byron",
           "NAME"
          ],
          [
           "Sam",
           "NAME"
          ],
          [
           "Andy Lau",
           "NAME"
          ],
          [
           "Milan",
           "NAME"
          ],
          [
           "Shu Qi",
           "NAME"
          ],
          [
           "Milan",
           "NAME"
          ],
          [
           "Queen Hedrian",
           "NAME"
          ],
          [
           "Denzidog IC",
           "NAME"
          ],
          [
           "Frame Johnson",
           "NAME"
          ],
          [
           "Ronald Reagan",
           "NAME"
          ],
          [
           "Jeannie",
           "NAME"
          ],
          [
           "Dorothy Malone",
           "NAME"
          ],
          [
           "Bindu",
           "NAME"
          ],
          [
           "Raghu",
           "NAME"
          ],
          [
           "Prasanna",
           "NAME"
          ],
          [
           "Meera",
           "NAME"
          ],
          [
           "Lekha Washington",
           "NAME"
          ],
          [
           "Raghu",
           "NAME"
          ],
          [
           "Saadat Hasan Manto",
           "NAME"
          ],
          [
           "Kisan Kanya",
           "NAME"
          ],
          [
           "Ghani",
           "NAME"
          ],
          [
           "Ghani",
           "NAME"
          ],
          [
           "Ram",
           "NAME"
          ],
          [
           "Ram",
           "NAME"
          ],
          [
           "Nisar",
           "NAME"
          ],
          [
           "Lon Chaney Jr.",
           "NAME"
          ],
          [
           "Nikita Kolesnikov",
           "NAME"
          ],
          [
           "Danila Kozlovsky",
           "NAME"
          ],
          [
           "Afina Gordeeva",
           "NAME"
          ],
          [
           "Elizaveta Boyarskaya",
           "NAME"
          ],
          [
           "Nikita",
           "NAME"
          ],
          [
           "Curtis",
           "NAME"
          ],
          [
           "Conrad Phillips",
           "NAME"
          ],
          [
           "Carol",
           "NAME"
          ],
          [
           "Jill Ireland",
           "NAME"
          ],
          [
           "Smith",
           "NAME"
          ],
          [
           "William Hartnell",
           "NAME"
          ],
          [
           "Smith",
           "NAME"
          ],
          [
           "Carol",
           "NAME"
          ],
          [
           "Curtis",
           "NAME"
          ],
          [
           "Claire Jabrowski",
           "NAME"
          ],
          [
           "Todd",
           "NAME"
          ],
          [
           "Noel Benedict",
           "NAME"
          ],
          [
           "Curry",
           "NAME"
          ],
          [
           "Pepper",
           "NAME"
          ],
          [
           "Joey Law",
           "NAME"
          ],
          [
           "Curry",
           "NAME"
          ],
          [
           "Pepper",
           "NAME"
          ],
          [
           "Curry",
           "NAME"
          ],
          [
           "Joey",
           "NAME"
          ],
          [
           "Abalone",
           "NAME"
          ],
          [
           "Pepper",
           "NAME"
          ],
          [
           "Joseph",
           "NAME"
          ],
          [
           "Joseph",
           "NAME"
          ],
          [
           "Joseph",
           "NAME"
          ],
          [
           "Naidu",
           "NAME"
          ],
          [
           "Joseph",
           "NAME"
          ],
          [
           "Bernard Boursicot",
           "NAME"
          ],
          [
           "Shi Pei Pu",
           "NAME"
          ],
          [
           "René Gallimard",
           "NAME"
          ],
          [
           "Jeremy Irons",
           "NAME"
          ],
          [
           "Song Liling",
           "NAME"
          ],
          [
           "John Lone",
           "NAME"
          ],
          [
           "Gallimard",
           "NAME"
          ],
          [
           "Bok-nyeo",
           "NAME"
          ],
          [
           "Bok-nyeo",
           "NAME"
          ],
          [
           "Dr. Markoff",
           "NAME"
          ],
          [
           "J. Carrol Naish",
           "NAME"
          ],
          [
           "Markoff",
           "NAME"
          ],
          [
           "Lawrence",
           "NAME"
          ],
          [
           "Ralph Morgan",
           "NAME"
          ],
          [
           "Markoff",
           "NAME"
          ],
          [
           "Lawrence",
           "NAME"
          ],
          [
           "Patricia",
           "NAME"
          ],
          [
           "Wanda McKay",
           "NAME"
          ],
          [
           "Paige Fleming",
           "NAME"
          ],
          [
           "Paige",
           "NAME"
          ],
          [
           "Ross",
           "NAME"
          ],
          [
           "Nicholas Campbell",
           "NAME"
          ],
          [
           "Trevor",
           "NAME"
          ],
          [
           "Philip DeWilde",
           "NAME"
          ],
          [
           "Paige",
           "NAME"
          ],
          [
           "Fung",
           "NAME"
          ],
          [
           "Balu",
           "NAME"
          ],
          [
           "Vijayakumar",
           "NAME"
          ],
          [
           "Padma",
           "NAME"
          ],
          [
           "Manjula Vijayakumar",
           "NAME"
          ],
          [
           "Manju",
           "NAME"
          ],
          [
           "Zeenat",
           "NAME"
          ],
          [
           "Manju",
           "NAME"
          ],
          [
           "Balu",
           "NAME"
          ],
          [
           "Shiva",
           "NAME"
          ],
          [
           "Sivakumar",
           "NAME"
          ],
          [
           "Shiva",
           "NAME"
          ],
          [
           "Sukanya",
           "NAME"
          ],
          [
           "Jeeva",
           "NAME"
          ],
          [
           "Aminia",
           "NAME"
          ],
          [
           "Lubna Abdel Aziz",
           "NAME"
          ],
          [
           "Hamiltons",
           "NAME"
          ],
          [
           "Thompsons",
           "NAME"
          ],
          [
           "Stuarts",
           "NAME"
          ],
          [
           "Hamiltons",
           "NAME"
          ],
          [
           "Stuarts",
           "NAME"
          ],
          [
           "Nikki Singh",
           "NAME"
          ],
          [
           "Akshay Oberoi",
           "NAME"
          ],
          [
           "Kehri Singh",
           "NAME"
          ],
          [
           "Pankaj Tripathi",
           "NAME"
          ],
          [
           "Preet",
           "NAME"
          ],
          [
           "Ragini Khanna",
           "NAME"
          ],
          [
           "Kehri",
           "NAME"
          ],
          [
           "Kehri",
           "NAME"
          ],
          [
           "Nikki",
           "NAME"
          ],
          [
           "Preet",
           "NAME"
          ],
          [
           "Im Kwon-taek",
           "NAME"
          ],
          [
           "Hwa-yeong",
           "NAME"
          ],
          [
           "Harvey Keitel",
           "NAME"
          ],
          [
           "Viggo Mortensen",
           "NAME"
          ],
          [
           "Cyril",
           "NAME"
          ],
          [
           "Merlin Mound",
           "NAME"
          ],
          [
           "Merlin",
           "NAME"
          ],
          [
           "Rahul",
           "NAME"
          ],
          [
           "Ramankanth",
           "NAME"
          ],
          [
           "Monisha",
           "NAME"
          ],
          [
           "Mumtaj",
           "NAME"
          ],
          [
           "Scott",
           "NAME"
          ],
          [
           "Ryan Phillippe",
           "NAME"
          ],
          [
           "Katherine",
           "NAME"
          ],
          [
           "Paquin",
           "NAME"
          ],
          [
           "Irène Bordoni",
           "NAME"
          ],
          [
           "Vivienne Rolland",
           "NAME"
          ],
          [
           "Andrew Sabbot",
           "NAME"
          ],
          [
           "Jason Robards Sr.",
           "NAME"
          ],
          [
           "Cora",
           "NAME"
          ],
          [
           "Louise Closser Hale",
           "NAME"
          ],
          [
           "Jack Buchanan",
           "NAME"
          ],
          [
           "Guy Pennell",
           "NAME"
          ],
          [
           "Vivienne",
           "NAME"
          ],
          [
           "Neelima",
           "NAME"
          ],
          [
           "Malavika Wales",
           "NAME"
          ],
          [
           "Aisha",
           "NAME"
          ],
          [
           "Saranya Mohan",
           "NAME"
          ],
          [
           "Karthik",
           "NAME"
          ],
          [
           "Rejith Menon",
           "NAME"
          ],
          [
           "Kunjumon",
           "NAME"
          ],
          [
           "Roshan Basheer",
           "NAME"
          ],
          [
           "Neelima",
           "NAME"
          ],
          [
           "Aisha",
           "NAME"
          ],
          [
           "Cosmo Reif",
           "NAME"
          ],
          [
           "Steve",
           "NAME"
          ],
          [
           "Jasmine",
           "NAME"
          ],
          [
           "Edgar Mills",
           "NAME"
          ],
          [
           "Stella",
           "NAME"
          ],
          [
           "Clare",
           "NAME"
          ],
          [
           "Edgar",
           "NAME"
          ],
          [
           "Clare",
           "NAME"
          ],
          [
           "Molly Gilbert",
           "NAME"
          ],
          [
           "Bill McCaffery",
           "NAME"
          ],
          [
           "Molly",
           "NAME"
          ],
          [
           "Bill",
           "NAME"
          ],
          [
           "Pop McCaffery",
           "NAME"
          ],
          [
           "Bill",
           "NAME"
          ],
          [
           "Molly",
           "NAME"
          ],
          [
           "Lupino",
           "NAME"
          ],
          [
           "Ryan",
           "NAME"
          ],
          [
           "Ryan",
           "NAME"
          ],
          [
           "Marianne",
           "NAME"
          ],
          [
           "Greta Garbo",
           "NAME"
          ],
          [
           "Lucien",
           "NAME"
          ],
          [
           "Lars Hanson",
           "NAME"
          ],
          [
           "Marianne",
           "NAME"
          ],
          [
           "Henry Legrand",
           "NAME"
          ],
          [
           "Lowell Sherman",
           "NAME"
          ],
          [
           "Shane O'Shea",
           "NAME"
          ],
          [
           "Anita",
           "NAME"
          ],
          [
           "Greg Randazzo",
           "NAME"
          ],
          [
           "Shane",
           "NAME"
          ],
          [
           "Angela Chiaromonte",
           "NAME"
          ],
          [
           "Helen Hayes",
           "NAME"
          ],
          [
           "Lewis Stone",
           "NAME"
          ],
          [
           "Giovanni Severi",
           "NAME"
          ],
          [
           "Clark Gable",
           "NAME"
          ],
          [
           "Hayes",
           "NAME"
          ],
          [
           "Angela",
           "NAME"
          ],
          [
           "Chatur Singh",
           "NAME"
          ],
          [
           "Sanjay Dutt",
           "NAME"
          ],
          [
           "Satish Kaushik",
           "NAME"
          ],
          [
           "Sanjai Mishra",
           "NAME"
          ],
          [
           "Anupam Kher",
           "NAME"
          ],
          [
           "Ameesha Patel",
           "NAME"
          ],
          [
           "Rolex",
           "NAME"
          ],
          [
           "Prakash Raj",
           "NAME"
          ],
          [
           "Ramki",
           "NAME"
          ],
          [
           "Jai Kumar",
           "NAME"
          ],
          [
           "Jai Kumar",
           "NAME"
          ],
          [
           "Raji",
           "NAME"
          ],
          [
           "Sanghavi",
           "NAME"
          ],
          [
           "Rolex",
           "NAME"
          ],
          [
           "Jai Kumar",
           "NAME"
          ],
          [
           "Krishna",
           "NAME"
          ],
          [
           "Krishna",
           "NAME"
          ],
          [
           "Krishna",
           "NAME"
          ],
          [
           "Krishna",
           "NAME"
          ],
          [
           "Daniel Pearl",
           "NAME"
          ],
          [
           "Pearl",
           "NAME"
          ],
          [
           "Pearl",
           "NAME"
          ],
          [
           "Hercules",
           "NAME"
          ],
          [
           "Lou Ferrigno",
           "NAME"
          ],
          [
           "Minos",
           "NAME"
          ],
          [
           "William Berger",
           "NAME"
          ],
          [
           "Hercules",
           "NAME"
          ],
          [
           "Abby Dalton",
           "NAME"
          ],
          [
           "Dick Miller",
           "NAME"
          ],
          [
           "Christopher",
           "NAME"
          ],
          [
           "Robert Draper",
           "NAME"
          ],
          [
           "Franz Schulz",
           "NAME"
          ],
          [
           "Francis Spencer",
           "NAME"
          ],
          [
           "Hardy",
           "NAME"
          ],
          [
           "Henry Tibbett",
           "NAME"
          ],
          [
           "Tibbett",
           "NAME"
          ],
          [
           "Hector",
           "NAME"
          ],
          [
           "Olive",
           "NAME"
          ],
          [
           "Hector Bloom",
           "NAME"
          ],
          [
           "Jenny",
           "NAME"
          ],
          [
           "Marjorie Browne",
           "NAME"
          ],
          [
           "Mark Daly",
           "NAME"
          ],
          [
           "Aunt Hetty",
           "NAME"
          ],
          [
           "Elsie Wagstaff",
           "NAME"
          ],
          [
           "Aunt Hetty",
           "NAME"
          ],
          [
           "Jenny",
           "NAME"
          ],
          [
           "Tom",
           "NAME"
          ],
          [
           "Hal Thompson",
           "NAME"
          ],
          [
           "Bill",
           "NAME"
          ],
          [
           "Spencer Tracy",
           "NAME"
          ],
          [
           "Spike",
           "NAME"
          ],
          [
           "Warren Hymer",
           "NAME"
          ],
          [
           "Bill",
           "NAME"
          ],
          [
           "Spike",
           "NAME"
          ],
          [
           "Carny",
           "NAME"
          ],
          [
           "Goldie",
           "NAME"
          ],
          [
           "Jean Harlow",
           "NAME"
          ],
          [
           "Manas",
           "NAME"
          ],
          [
           "Siddharth Chandekar",
           "NAME"
          ],
          [
           "Naina",
           "NAME"
          ],
          [
           "Spruha Joshi",
           "NAME"
          ],
          [
           "Manas",
           "NAME"
          ],
          [
           "Naina",
           "NAME"
          ],
          [
           "Maruti",
           "NAME"
          ],
          [
           "Mangesh Desai",
           "NAME"
          ],
          [
           "Shrirang Kaka",
           "NAME"
          ],
          [
           "Mohan Agashe",
           "NAME"
          ],
          [
           "Joan",
           "NAME"
          ],
          [
           "Purviance",
           "NAME"
          ],
          [
           "Magdalen",
           "NAME"
          ],
          [
           "Sothern",
           "NAME"
          ],
          [
           "Magdalen",
           "NAME"
          ],
          [
           "Peter",
           "NAME"
          ],
          [
           "Bloomer",
           "NAME"
          ],
          [
           "Whitman",
           "NAME"
          ],
          [
           "Joan",
           "NAME"
          ],
          [
           "Magdalen",
           "NAME"
          ],
          [
           "Magdalen",
           "NAME"
          ],
          [
           "Joan",
           "NAME"
          ],
          [
           "Peter",
           "NAME"
          ],
          [
           "Magdalen",
           "NAME"
          ],
          [
           "Hong Deok-Ja",
           "NAME"
          ],
          [
           "Max Hell",
           "NAME"
          ],
          [
           "Scott Shaw",
           "NAME"
          ],
          [
           "Trixi T",
           "NAME"
          ],
          [
           "Mickey O'Malley",
           "NAME"
          ],
          [
           "Joe Estevez",
           "NAME"
          ],
          [
           "Donald G. Jackson",
           "NAME"
          ],
          [
           "Dong-hoon",
           "NAME"
          ],
          [
           "Jae-hee",
           "NAME"
          ],
          [
           "Ching",
           "NAME"
          ],
          [
           "Gillian Chung",
           "NAME"
          ],
          [
           "Ken",
           "NAME"
          ],
          [
           "Daniel Wu",
           "NAME"
          ],
          [
           "Shirley",
           "NAME"
          ],
          [
           "Tao Hong",
           "NAME"
          ],
          [
           "Ken",
           "NAME"
          ],
          [
           "Davy Crockett",
           "NAME"
          ],
          [
           "Jim Bowie",
           "NAME"
          ],
          [
           "Almaron",
           "NAME"
          ],
          [
           "Bruce Warren",
           "NAME"
          ],
          [
           "Susanna Dickinson",
           "NAME"
          ],
          [
           "Ruth Findlay",
           "NAME"
          ],
          [
           "Angelina",
           "NAME"
          ],
          [
           "Marilyn Haslett",
           "NAME"
          ],
          [
           "Stephen F. Austin",
           "NAME"
          ],
          [
           "Santa Anna",
           "NAME"
          ],
          [
           "Julian Rivero",
           "NAME"
          ],
          [
           "Sam Houston",
           "NAME"
          ],
          [
           "Edward Piel",
           "NAME"
          ],
          [
           "Alamo",
           "NAME"
          ],
          [
           "Dickinson",
           "NAME"
          ],
          [
           "Clark Gable",
           "NAME"
          ],
          [
           "Gloria Cole",
           "NAME"
          ],
          [
           "Eddie Swenson",
           "NAME"
          ],
          [
           "Gloria",
           "NAME"
          ],
          [
           "Romeo",
           "NAME"
          ],
          [
           "James Parmiter",
           "NAME"
          ],
          [
           "Dillman",
           "NAME"
          ],
          [
           "Stephen Ghent",
           "NAME"
          ],
          [
           "Ruth Jordan",
           "NAME"
          ],
          [
           "Ruth",
           "NAME"
          ],
          [
           "Edgar",
           "NAME"
          ],
          [
           "Manuella",
           "NAME"
          ],
          [
           "Ghent",
           "NAME"
          ],
          [
           "Ruth",
           "NAME"
          ],
          [
           "Ghent",
           "NAME"
          ],
          [
           "Ghent",
           "NAME"
          ],
          [
           "Ruth",
           "NAME"
          ],
          [
           "Ghent",
           "NAME"
          ],
          [
           "Edgar",
           "NAME"
          ],
          [
           "Black Ghost",
           "NAME"
          ],
          [
           "Black Ghost",
           "NAME"
          ],
          [
           "Harold Lockwood",
           "NAME"
          ],
          [
           "Scott Cohen",
           "NAME"
          ],
          [
           "Paulina Porizkova",
           "NAME"
          ],
          [
           "Annabeth Gish",
           "NAME"
          ],
          [
           "Amala",
           "NAME"
          ],
          [
           "Pooja Vijayan",
           "NAME"
          ],
          [
           "Ananthu",
           "NAME"
          ],
          [
           "Devadathan",
           "NAME"
          ],
          [
           "Shankar",
           "NAME"
          ],
          [
           "Amala",
           "NAME"
          ],
          [
           "Abhijith P S Nair",
           "NAME"
          ],
          [
           "Sally Elliott",
           "NAME"
          ],
          [
           "Rita Hayworth",
           "NAME"
          ],
          [
           "Paul Dresser",
           "NAME"
          ],
          [
           "Victor Mature",
           "NAME"
          ],
          [
           "Joe Huggett",
           "NAME"
          ],
          [
           "Chaiti",
           "NAME"
          ],
          [
           "Bikramjit",
           "NAME"
          ],
          [
           "Bikramjit",
           "NAME"
          ],
          [
           "Chaiti",
           "NAME"
          ],
          [
           "Chaiti",
           "NAME"
          ],
          [
           "Amal",
           "NAME"
          ],
          [
           "Amal",
           "NAME"
          ],
          [
           "Amal",
           "NAME"
          ],
          [
           "Chaiti",
           "NAME"
          ],
          [
           "Charulata",
           "NAME"
          ],
          [
           "Roanne Sanchez",
           "NAME"
          ],
          [
           "Eric Rodriguez",
           "NAME"
          ],
          [
           "Gerald Anderson",
           "NAME"
          ],
          [
           "King Carter",
           "NAME"
          ],
          [
           "Claire Hartford",
           "NAME"
          ],
          [
           "Jeff Ramsay",
           "NAME"
          ],
          [
           "King Carter",
           "NAME"
          ],
          [
           "Jeff",
           "NAME"
          ],
          [
           "Claire",
           "NAME"
          ],
          [
           "Eric Wainwright",
           "NAME"
          ],
          [
           "Van Johnson",
           "NAME"
          ],
          [
           "Cynthia Potter",
           "NAME"
          ],
          [
           "June Allyson",
           "NAME"
          ],
          [
           "Wainwright",
           "NAME"
          ],
          [
           "Cynthia",
           "NAME"
          ],
          [
           "Kevin Agar",
           "NAME"
          ],
          [
           "Maria",
           "NAME"
          ],
          [
           "Shelly",
           "NAME"
          ],
          [
           "Maria",
           "NAME"
          ],
          [
           "Matthew",
           "NAME"
          ],
          [
           "Donovan",
           "NAME"
          ],
          [
           "Dylan Ramsey",
           "NAME"
          ],
          [
           "David Spade",
           "NAME"
          ],
          [
           "Lila",
           "NAME"
          ],
          [
           "Sophie Marceau",
           "NAME"
          ],
          [
           "Dylan",
           "NAME"
          ],
          [
           "Rene",
           "NAME"
          ],
          [
           "Dharma",
           "NAME"
          ],
          [
           "Anandaraj",
           "NAME"
          ],
          [
           "R.R",
           "NAME"
          ],
          [
           "Radha Ravi",
           "NAME"
          ],
          [
           "Raj",
           "NAME"
          ],
          [
           "Vijayakanth",
           "NAME"
          ],
          [
           "R.R",
           "NAME"
          ],
          [
           "Dharma",
           "NAME"
          ],
          [
           "R.R",
           "NAME"
          ],
          [
           "Lynn",
           "NAME"
          ],
          [
           "Jack",
           "NAME"
          ],
          [
           "Barnes",
           "NAME"
          ],
          [
           "Buzz",
           "NAME"
          ],
          [
           "Jack",
           "NAME"
          ],
          [
           "Jack",
           "NAME"
          ],
          [
           "Jack",
           "NAME"
          ],
          [
           "Barnes",
           "NAME"
          ],
          [
           "Arjun",
           "NAME"
          ],
          [
           "Irene Kawai",
           "NAME"
          ],
          [
           "Irene",
           "NAME"
          ],
          [
           "Luke",
           "NAME"
          ],
          [
           "Jeff Hassard",
           "NAME"
          ],
          [
           "Dean Jagger",
           "NAME"
          ],
          [
           "Ring",
           "NAME"
          ],
          [
           "Audie Murphy",
           "NAME"
          ],
          [
           "Jeff",
           "NAME"
          ],
          [
           "Riley",
           "NAME"
          ],
          [
           "Wanda Hendrix",
           "NAME"
          ],
          [
           "Jeff",
           "NAME"
          ],
          [
           "Ring",
           "NAME"
          ],
          [
           "Jerry McGuire",
           "NAME"
          ],
          [
           "William Collier Jr.",
           "NAME"
          ],
          [
           "Spike Mullins",
           "NAME"
          ],
          [
           "Johnnie Walker",
           "NAME"
          ],
          [
           "Hilda Jensen",
           "NAME"
          ],
          [
           "Shirley Mason",
           "NAME"
          ],
          [
           "Chu Liuxiang",
           "NAME"
          ],
          [
           "Monk Wuhua",
           "NAME"
          ],
          [
           "Gong Nanyan",
           "NAME"
          ],
          [
           "Chu",
           "NAME"
          ],
          [
           "Chu",
           "NAME"
          ],
          [
           "Chu",
           "NAME"
          ],
          [
           "Charles Kessler",
           "NAME"
          ],
          [
           "Bela Lugosi",
           "NAME"
          ],
          [
           "Betty Compson",
           "NAME"
          ],
          [
           "Kessler",
           "NAME"
          ],
          [
           "Kessler",
           "NAME"
          ],
          [
           "Kessler",
           "NAME"
          ],
          [
           "Brass Bancroft",
           "NAME"
          ],
          [
           "Ronald Reagan",
           "NAME"
          ],
          [
           "Gabby Watters",
           "NAME"
          ],
          [
           "Eddie Foy, Jr.",
           "NAME"
          ],
          [
           "Bancroft",
           "NAME"
          ],
          [
           "Watters",
           "NAME"
          ],
          [
           "Bancroft",
           "NAME"
          ],
          [
           "Elaine",
           "NAME"
          ],
          [
           "Rosella Towne",
           "NAME"
          ],
          [
           "Princess",
           "NAME"
          ],
          [
           "Ramrod",
           "NAME"
          ],
          [
           "Princess",
           "NAME"
          ],
          [
           "Tom Walsh",
           "NAME"
          ],
          [
           "Ducky",
           "NAME"
          ],
          [
           "Ginger",
           "NAME"
          ],
          [
           "Sarah",
           "NAME"
          ],
          [
           "Ducky",
           "NAME"
          ],
          [
           "Ginger",
           "NAME"
          ],
          [
           "Sarah",
           "NAME"
          ],
          [
           "Sarah",
           "NAME"
          ],
          [
           "Fontaine Khaled",
           "NAME"
          ],
          [
           "Tony",
           "NAME"
          ],
          [
           "Tony",
           "NAME"
          ],
          [
           "Fontaine",
           "NAME"
          ],
          [
           "Fontaine",
           "NAME"
          ],
          [
           "Fontaine",
           "NAME"
          ],
          [
           "Tony",
           "NAME"
          ],
          [
           "Harry Black",
           "NAME"
          ],
          [
           "Desmond Tanner",
           "NAME"
          ],
          [
           "Chris",
           "NAME"
          ],
          [
           "Mithun Chakraborty",
           "NAME"
          ],
          [
           "Anita Raj",
           "NAME"
          ],
          [
           "Shatrughan Sinha",
           "NAME"
          ],
          [
           "Hema Malini",
           "NAME"
          ],
          [
           "Prem Chopra",
           "NAME"
          ],
          [
           "Kalpana Iyer",
           "NAME"
          ],
          [
           "Shakti Kapoor",
           "NAME"
          ],
          [
           "Shatrughan Sinha",
           "NAME"
          ],
          [
           "Tulsi",
           "NAME"
          ],
          [
           "Manisha Koirala",
           "NAME"
          ],
          [
           "Suraj",
           "NAME"
          ],
          [
           "Irrfan Khan",
           "NAME"
          ],
          [
           "Suraj",
           "NAME"
          ],
          [
           "Yashpal Sharma",
           "NAME"
          ],
          [
           "Tulsi",
           "NAME"
          ],
          [
           "Suraj",
           "NAME"
          ],
          [
           "Yashpal",
           "NAME"
          ],
          [
           "Yashpal",
           "NAME"
          ],
          [
           "Tulsi",
           "NAME"
          ],
          [
           "Yashpal",
           "NAME"
          ],
          [
           "Suraj",
           "NAME"
          ],
          [
           "Tulsi",
           "NAME"
          ],
          [
           "Burton",
           "NAME"
          ],
          [
           "Lyon",
           "NAME"
          ],
          [
           "Adam Hann-Byrd",
           "NAME"
          ],
          [
           "Joshua Jackson",
           "NAME"
          ],
          [
           "Soo-nam",
           "NAME"
          ],
          [
           "Soo-nam",
           "NAME"
          ],
          [
           "Kendall",
           "NAME"
          ],
          [
           "Grahame",
           "NAME"
          ],
          [
           "Rie",
           "NAME"
          ],
          [
           "Nao",
           "NAME"
          ],
          [
           "Nao",
           "NAME"
          ],
          [
           "Rie",
           "NAME"
          ],
          [
           "Karthi",
           "NAME"
          ],
          [
           "Mahesh",
           "NAME"
          ],
          [
           "Paran Bandyopadhyay",
           "NAME"
          ],
          [
           "Titli",
           "NAME"
          ],
          [
           "Tabul",
           "NAME"
          ],
          [
           "Lalkamol babu",
           "NAME"
          ],
          [
           "Harry Connick Jr.",
           "NAME"
          ],
          [
           "Michael",
           "NAME"
          ],
          [
           "Nick",
           "NAME"
          ],
          [
           "Willie Nelson",
           "NAME"
          ],
          [
           "Duncan Maclain",
           "NAME"
          ],
          [
           "Jean Hampton",
           "NAME"
          ],
          [
           "Barry Gifford",
           "NAME"
          ],
          [
           "Maclain",
           "NAME"
          ],
          [
           "Marty Corbett",
           "NAME"
          ],
          [
           "Treadway",
           "NAME"
          ],
          [
           "Gifford",
           "NAME"
          ],
          [
           "Maclain",
           "NAME"
          ],
          [
           "Jean",
           "NAME"
          ],
          [
           "Vijay",
           "NAME"
          ],
          [
           "R. Sarathkumar",
           "NAME"
          ],
          [
           "Seetha",
           "NAME"
          ],
          [
           "Ragapriya",
           "NAME"
          ],
          [
           "Vijay",
           "NAME"
          ],
          [
           "Vijay",
           "NAME"
          ],
          [
           "Seetha",
           "NAME"
          ],
          [
           "Kannan",
           "NAME"
          ],
          [
           "K. R. Ganesh",
           "NAME"
          ],
          [
           "Vijay",
           "NAME"
          ],
          [
           "Lakshmi",
           "NAME"
          ],
          [
           "Aamani",
           "NAME"
          ],
          [
           "Lakshmi",
           "NAME"
          ],
          [
           "Marappan",
           "NAME"
          ],
          [
           "Jaiganesh",
           "NAME"
          ],
          [
           "Mansoor Ali Khan",
           "NAME"
          ],
          [
           "Seetha",
           "NAME"
          ],
          [
           "Seetha",
           "NAME"
          ],
          [
           "Vijay",
           "NAME"
          ],
          [
           "Charlie Forsythe",
           "NAME"
          ],
          [
           "Charlie Forsythe",
           "NAME"
          ],
          [
           "Eaton Sharpe",
           "NAME"
          ],
          [
           "Lane Smith",
           "NAME"
          ],
          [
           "Forsythe",
           "NAME"
          ],
          [
           "Inmate Burke",
           "NAME"
          ],
          [
           "Viggo Mortensen",
           "NAME"
          ],
          [
           "Forsythe",
           "NAME"
          ],
          [
           "Vivek",
           "NAME"
          ],
          [
           "Vivek",
           "NAME"
          ],
          [
           "Preethi",
           "NAME"
          ],
          [
           "Boyd",
           "NAME"
          ],
          [
           "Boyle",
           "NAME"
          ],
          [
           "Boyd",
           "NAME"
          ],
          [
           "Jerome",
           "NAME"
          ],
          [
           "Jayson Watabe",
           "NAME"
          ],
          [
           "Luke Cooper",
           "NAME"
          ],
          [
           "Luke",
           "NAME"
          ],
          [
           "Luke",
           "NAME"
          ],
          [
           "Alberto 'Baby' Valdez",
           "NAME"
          ],
          [
           "Lita Valdez",
           "NAME"
          ],
          [
           "Lita",
           "NAME"
          ],
          [
           "Lita",
           "NAME"
          ],
          [
           "Jerry O'Leary",
           "NAME"
          ],
          [
           "Alberto",
           "NAME"
          ],
          [
           "Jerry",
           "NAME"
          ],
          [
           "Mary",
           "NAME"
          ],
          [
           "Ann Kimball",
           "NAME"
          ],
          [
           "Jill",
           "NAME"
          ],
          [
           "Mary Steele",
           "NAME"
          ],
          [
           "Antoinette",
           "NAME"
          ],
          [
           "Nadine Tallier",
           "NAME"
          ],
          [
           "Captain Maitland",
           "NAME"
          ],
          [
           "Guy Rolfe",
           "NAME"
          ],
          [
           "Michael Hordern",
           "NAME"
          ],
          [
           "Matt Prylek",
           "NAME"
          ],
          [
           "Kyle",
           "NAME"
          ],
          [
           "Flagg",
           "NAME"
          ],
          [
           "Victor McLaglen",
           "NAME"
          ],
          [
           "Quirt",
           "NAME"
          ],
          [
           "Edmund Lowe",
           "NAME"
          ],
          [
           "Gopal",
           "NAME"
          ],
          [
           "M.G.R.",
           "NAME"
          ],
          [
           "Gauri",
           "NAME"
          ],
          [
           "Saroja Devi",
           "NAME"
          ],
          [
           "Muthayya",
           "NAME"
          ],
          [
           "Nambiar",
           "NAME"
          ],
          [
           "Gauri",
           "NAME"
          ],
          [
           "Guari",
           "NAME"
          ],
          [
           "Muthayya",
           "NAME"
          ],
          [
           "M.R. Radha",
           "NAME"
          ],
          [
           "Gopal",
           "NAME"
          ],
          [
           "Nick",
           "NAME"
          ],
          [
           "Niven",
           "NAME"
          ],
          [
           "Bridget",
           "NAME"
          ],
          [
           "Partridge",
           "NAME"
          ],
          [
           "Charley",
           "NAME"
          ],
          [
           "Carney",
           "NAME"
          ],
          [
           "Nick",
           "NAME"
          ],
          [
           "Charley",
           "NAME"
          ],
          [
           "Bridget",
           "NAME"
          ],
          [
           "John Hodiak",
           "NAME"
          ],
          [
           "Danny Young",
           "NAME"
          ],
          [
           "Mitch Turner",
           "NAME"
          ],
          [
           "Stephen McNally",
           "NAME"
          ],
          [
           "Jeanne",
           "NAME"
          ],
          [
           "Linda Christian",
           "NAME"
          ],
          [
           "Ray Charles Robinson",
           "NAME"
          ],
          [
           "Charles",
           "NAME"
          ],
          [
           "Kumar",
           "NAME"
          ],
          [
           "Ajith",
           "NAME"
          ],
          [
           "Bala Singh",
           "NAME"
          ],
          [
           "Kumar",
           "NAME"
          ],
          [
           "Kumar",
           "NAME"
          ],
          [
           "Meena",
           "NAME"
          ],
          [
           "Rambha",
           "NAME"
          ],
          [
           "Katya",
           "NAME"
          ],
          [
           "Vika",
           "NAME"
          ],
          [
           "Zhanna",
           "NAME"
          ],
          [
           "Newland Archer",
           "NAME"
          ],
          [
           "May Mingott",
           "NAME"
          ],
          [
           "Newland",
           "NAME"
          ],
          [
           "Ellen Olenska",
           "NAME"
          ],
          [
           "May",
           "NAME"
          ],
          [
           "Newland",
           "NAME"
          ],
          [
           "Ellen",
           "NAME"
          ],
          [
           "May",
           "NAME"
          ],
          [
           "Ellen",
           "NAME"
          ],
          [
           "Newland",
           "NAME"
          ],
          [
           "Newland",
           "NAME"
          ],
          [
           "May",
           "NAME"
          ],
          [
           "Virginia",
           "NAME"
          ],
          [
           "Dick Tipton",
           "NAME"
          ],
          [
           "Emmett",
           "NAME"
          ],
          [
           "Harrison Gilbertson",
           "NAME"
          ],
          [
           "Emmett",
           "NAME"
          ],
          [
           "Jessie",
           "NAME"
          ],
          [
           "Chandrabose",
           "NAME"
          ],
          [
           "Mohanlal",
           "NAME"
          ],
          [
           "Meera Jasmine",
           "NAME"
          ],
          [
           "Chandrabose",
           "NAME"
          ],
          [
           "Krish. J. Sathaar",
           "NAME"
          ],
          [
           "Anu",
           "NAME"
          ],
          [
           "Mamta Mohandas",
           "NAME"
          ],
          [
           "Jyothi",
           "NAME"
          ],
          [
           "Padmapriya",
           "NAME"
          ],
          [
           "Chinnu",
           "NAME"
          ],
          [
           "Mithra Kurian",
           "NAME"
          ],
          [
           "Rekha",
           "NAME"
          ],
          [
           "Farooq Shaikh",
           "NAME"
          ],
          [
           "Shalu",
           "NAME"
          ],
          [
           "Kamla",
           "NAME"
          ],
          [
           "Bindu",
           "NAME"
          ],
          [
           "Frankie Bono",
           "NAME"
          ],
          [
           "Troiano",
           "NAME"
          ],
          [
           "Big Ralph",
           "NAME"
          ],
          [
           "Ferdinand E. Marcos",
           "NAME"
          ],
          [
           "Darley",
           "NAME"
          ],
          [
           "Pursewarden",
           "NAME"
          ],
          [
           "Pursewarden",
           "NAME"
          ],
          [
           "Justine",
           "NAME"
          ],
          [
           "Darley",
           "NAME"
          ],
          [
           "Scrooge",
           "NAME"
          ],
          [
           "Vijayadan Detha",
           "NAME"
          ],
          [
           "Krishanlal",
           "NAME"
          ],
          [
           "Ravi Menon",
           "NAME"
          ],
          [
           "Lachhi",
           "NAME"
          ],
          [
           "Raisa Padamsee",
           "NAME"
          ],
          [
           "Michael Walsh",
           "NAME"
          ],
          [
           "Magenta",
           "NAME"
          ],
          [
           "Magenta",
           "NAME"
          ],
          [
           "Magenta",
           "NAME"
          ],
          [
           "Michael",
           "NAME"
          ],
          [
           "Holi",
           "NAME"
          ],
          [
           "Kumar",
           "NAME"
          ],
          [
           "Selvathaal",
           "NAME"
          ],
          [
           "Gopi",
           "NAME"
          ],
          [
           "Selvathal",
           "NAME"
          ],
          [
           "Manorama",
           "NAME"
          ],
          [
           "Kumar",
           "NAME"
          ],
          [
           "Gopi",
           "NAME"
          ],
          [
           "Selvathal",
           "NAME"
          ],
          [
           "Kumar",
           "NAME"
          ],
          [
           "Gopi",
           "NAME"
          ],
          [
           "Alim",
           "NAME"
          ],
          [
           "Nuru",
           "NAME"
          ],
          [
           "Giles",
           "NAME"
          ],
          [
           "Cary Grant",
           "NAME"
          ],
          [
           "Alim",
           "NAME"
          ],
          [
           "Alim",
           "NAME"
          ],
          [
           "Pilnyeo",
           "NAME"
          ],
          [
           "Pilnyeo",
           "NAME"
          ],
          [
           "Van Duff",
           "NAME"
          ],
          [
           "Beverly Michaels",
           "NAME"
          ],
          [
           "Percy Helton",
           "NAME"
          ],
          [
           "Gloria Talbott",
           "NAME"
          ],
          [
           "Plummer",
           "NAME"
          ],
          [
           "Black Menace",
           "NAME"
          ],
          [
           "Black Menace",
           "NAME"
          ],
          [
           "Bill",
           "NAME"
          ],
          [
           "Coo",
           "NAME"
          ],
          [
           "Teresa",
           "NAME"
          ],
          [
           "Buday",
           "NAME"
          ],
          [
           "Jonathan Crow",
           "NAME"
          ],
          [
           "Weaving",
           "NAME"
          ],
          [
           "Teresa",
           "NAME"
          ],
          [
           "James Quick",
           "NAME"
          ],
          [
           "Neill",
           "NAME"
          ],
          [
           "Quick",
           "NAME"
          ],
          [
           "Teresa",
           "NAME"
          ],
          [
           "Harry",
           "NAME"
          ],
          [
           "Williams",
           "NAME"
          ],
          [
           "Quick",
           "NAME"
          ],
          [
           "Teresa",
           "NAME"
          ],
          [
           "Father Donovan",
           "NAME"
          ],
          [
           "Slip",
           "NAME"
          ],
          [
           "Cassidy",
           "NAME"
          ],
          [
           "Slip",
           "NAME"
          ],
          [
           "McCormick",
           "NAME"
          ],
          [
           "John Murdock",
           "NAME"
          ],
          [
           "Paul Richards",
           "NAME"
          ],
          [
           "Patrick O'Moore",
           "NAME"
          ],
          [
           "Lorn Crowford",
           "NAME"
          ],
          [
           "Hugh Marlowe",
           "NAME"
          ],
          [
           "Emperor Bacchushund",
           "NAME"
          ],
          [
           "Miura",
           "NAME"
          ],
          [
           "Miura",
           "NAME"
          ],
          [
           "Chandragupta",
           "NAME"
          ],
          [
           "N. T. Rama Rao",
           "NAME"
          ],
          [
           "Guru Chanakya",
           "NAME"
          ],
          [
           "Akkineni Nageswara Rao",
           "NAME"
          ],
          [
           "Alexander",
           "NAME"
          ],
          [
           "Sivaji Ganesan",
           "NAME"
          ],
          [
           "C. V. Nirmala",
           "NAME"
          ],
          [
           "Jin-hong",
           "NAME"
          ],
          [
           "Jin-hong",
           "NAME"
          ],
          [
           "Larry Brown",
           "NAME"
          ],
          [
           "Debra Winger",
           "NAME"
          ],
          [
           "Monroe",
           "NAME"
          ],
          [
           "Paul Le Mat",
           "NAME"
          ],
          [
           "Leon",
           "NAME"
          ],
          [
           "Bobby",
           "NAME"
          ],
          [
           "Frankie Thomas",
           "NAME"
          ],
          [
           "Karen Morley",
           "NAME"
          ],
          [
           "Bobby",
           "NAME"
          ],
          [
           "Bobby",
           "NAME"
          ],
          [
           "Edward Arnold",
           "NAME"
          ],
          [
           "Bobby",
           "NAME"
          ],
          [
           "Brinda",
           "NAME"
          ],
          [
           "Sindhu Tolani",
           "NAME"
          ],
          [
           "Yugendran",
           "NAME"
          ],
          [
           "Sekhar",
           "NAME"
          ],
          [
           "Vijayan",
           "NAME"
          ],
          [
           "Kazan Khan",
           "NAME"
          ],
          [
           "Kumar",
           "NAME"
          ],
          [
           "Kamala",
           "NAME"
          ],
          [
           "Pamela",
           "NAME"
          ],
          [
           "Evelyn",
           "NAME"
          ],
          [
           "Evelyn",
           "NAME"
          ],
          [
           "Close",
           "NAME"
          ],
          [
           "The Judge",
           "NAME"
          ],
          [
           "Harry Grant",
           "NAME"
          ],
          [
           "William Lundigan",
           "NAME"
          ],
          [
           "Grant",
           "NAME"
          ],
          [
           "The Judge",
           "NAME"
          ],
          [
           "Joon-goo",
           "NAME"
          ],
          [
           "Park Yong-woo",
           "NAME"
          ],
          [
           "Kim Seo-hyung",
           "NAME"
          ],
          [
           "Lee Yoo-young",
           "NAME"
          ],
          [
           "Agimat",
           "NAME"
          ],
          [
           "Bong Revilla, Jr.",
           "NAME"
          ],
          [
           "Sam Pinto",
           "NAME"
          ],
          [
           "Enteng",
           "NAME"
          ],
          [
           "Vic Sotto",
           "NAME"
          ],
          [
           "Ako",
           "NAME"
          ],
          [
           "Judy Ann Santos",
           "NAME"
          ],
          [
           "Hulk",
           "NAME"
          ],
          [
           "John Lapus",
           "NAME"
          ],
          [
           "Agimat",
           "NAME"
          ],
          [
           "Enteng",
           "NAME"
          ],
          [
           "Agimat",
           "NAME"
          ],
          [
           "Ako",
           "NAME"
          ],
          [
           "Timothy",
           "NAME"
          ],
          [
           "Jonathan Welsh",
           "NAME"
          ],
          [
           "Timothy",
           "NAME"
          ],
          [
           "Jim Carrey",
           "NAME"
          ],
          [
           "Ralph Parker",
           "NAME"
          ],
          [
           "Bob Davis",
           "NAME"
          ],
          [
           "Grif",
           "NAME"
          ],
          [
           "Brag",
           "NAME"
          ],
          [
           "Harvey \"Deacon\" Grimes",
           "NAME"
          ],
          [
           "Rocky Lane",
           "NAME"
          ],
          [
           "Susie",
           "NAME"
          ],
          [
           "Gail Warren",
           "NAME"
          ],
          [
           "Rocky",
           "NAME"
          ],
          [
           "Grimes",
           "NAME"
          ],
          [
           "Rocky",
           "NAME"
          ],
          [
           "Julia Hemingway",
           "NAME"
          ],
          [
           "Ina Skriver",
           "NAME"
          ],
          [
           "Christina World",
           "NAME"
          ],
          [
           "Charlie Whitlock",
           "NAME"
          ],
          [
           "Hemingway",
           "NAME"
          ],
          [
           "Whitlock",
           "NAME"
          ],
          [
           "Marenkov",
           "NAME"
          ],
          [
           "Robert Shaw",
           "NAME"
          ],
          [
           "Harry Wargrave",
           "NAME"
          ],
          [
           "Lee Marvin",
           "NAME"
          ],
          [
           "Wargrave",
           "NAME"
          ],
          [
           "Marenkov",
           "NAME"
          ],
          [
           "Nikolai Bunin",
           "NAME"
          ],
          [
           "Maximilian Schell",
           "NAME"
          ],
          [
           "Omar Sharif",
           "NAME"
          ],
          [
           "Muhassab",
           "NAME"
          ],
          [
           "Migahed",
           "NAME"
          ],
          [
           "Rushdy Abaza",
           "NAME"
          ],
          [
           "Lakota Sioux",
           "NAME"
          ],
          [
           "Lou Diamond Phillips",
           "NAME"
          ],
          [
           "Warren Clarke",
           "NAME"
          ],
          [
           "Bamber",
           "NAME"
          ],
          [
           "Esther",
           "NAME"
          ],
          [
           "Ahasuerus",
           "NAME"
          ],
          [
           "Haman",
           "NAME"
          ],
          [
           "Sergio Fantoni",
           "NAME"
          ],
          [
           "Esther",
           "NAME"
          ],
          [
           "Haman",
           "NAME"
          ],
          [
           "Hans",
           "NAME"
          ],
          [
           "Greta",
           "NAME"
          ],
          [
           "Hans",
           "NAME"
          ],
          [
           "Greta",
           "NAME"
          ],
          [
           "Hikaru Oshiro",
           "NAME"
          ],
          [
           "Joe Morse",
           "NAME"
          ],
          [
           "Garfield",
           "NAME"
          ],
          [
           "Tucker",
           "NAME"
          ],
          [
           "Leo Morse",
           "NAME"
          ],
          [
           "Thomas Gomez",
           "NAME"
          ],
          [
           "Cain",
           "NAME"
          ],
          [
           "Abel",
           "NAME"
          ],
          [
           "Judas",
           "NAME"
          ]
         ],
         "hovertemplate": "label=%{customdata[1]}<br>x-tsne=%{x}<br>y-tsne=%{y}<br>text=%{customdata[0]}<extra></extra>",
         "legendgroup": "NAME",
         "marker": {
          "color": "#EF553B",
          "symbol": "circle"
         },
         "mode": "markers",
         "name": "NAME",
         "showlegend": true,
         "type": "scattergl",
         "x": [
          -74.65289306640625,
          -68.30583190917969,
          -67.92579650878906,
          -74.42671203613281,
          67.21272277832031,
          -67.92579650878906,
          -74.65289306640625,
          -40.058624267578125,
          -38.197486877441406,
          -72.81621551513672,
          -39.72683334350586,
          3.6269032955169678,
          4.551991939544678,
          5.24445104598999,
          5.243154525756836,
          -25.734756469726562,
          -31.647804260253906,
          -11.933470726013184,
          -25.524675369262695,
          -28.67167091369629,
          -30.10481834411621,
          -25.734756469726562,
          -31.6479549407959,
          -25.524675369262695,
          -28.67167091369629,
          -45.07364273071289,
          -40.59689712524414,
          -38.05839920043945,
          -60.47637939453125,
          -42.936458587646484,
          -44.981407165527344,
          -73.0483627319336,
          -38.27756881713867,
          -66.4526596069336,
          -44.981407165527344,
          -52.827945709228516,
          -42.936458587646484,
          -73.60093688964844,
          -66.73483276367188,
          -72.88934326171875,
          -66.35189819335938,
          -66.35189819335938,
          -60.03787612915039,
          -58.873809814453125,
          -42.542110443115234,
          -73.60093688964844,
          -48.3691291809082,
          -48.90255355834961,
          -60.8032341003418,
          -60.80329513549805,
          -56.14181900024414,
          -44.30018997192383,
          -39.807098388671875,
          -39.80745315551758,
          -40.197322845458984,
          -40.3951301574707,
          -66.55479431152344,
          -18.154821395874023,
          -78.5610580444336,
          -78.5610580444336,
          -61.20008087158203,
          -72.80426788330078,
          -40.15848922729492,
          -26.91362953186035,
          -0.26294592022895813,
          -47.081642150878906,
          -54.782928466796875,
          -70.34931182861328,
          -29.062286376953125,
          -28.94152069091797,
          -39.48540115356445,
          -44.144588470458984,
          -47.033748626708984,
          -28.939002990722656,
          -11.445249557495117,
          -17.764726638793945,
          8.433320999145508,
          8.433320999145508,
          -17.813961029052734,
          8.433320999145508,
          8.433320999145508,
          8.433320999145508,
          8.433320999145508,
          -71.70500183105469,
          -71.70500183105469,
          12.859723091125488,
          -9.379459381103516,
          -20.467954635620117,
          -20.467954635620117,
          12.859723091125488,
          12.859723091125488,
          -20.467954635620117,
          12.859723091125488,
          -28.081615447998047,
          -11.794391632080078,
          -11.794391632080078,
          -28.081615447998047,
          -45.82646560668945,
          -57.27810287475586,
          -30.320709228515625,
          -61.75559997558594,
          -47.590782165527344,
          -23.975317001342773,
          -47.590782165527344,
          -24.69612693786621,
          -48.61106872558594,
          -48.5955924987793,
          -24.69612693786621,
          -27.656002044677734,
          -47.21946334838867,
          -60.16994094848633,
          -54.83638381958008,
          -34.1226692199707,
          -11.107064247131348,
          -36.68320083618164,
          -4.4741950035095215,
          -51.83353805541992,
          -4.4741950035095215,
          -12.014945030212402,
          -40.66556930541992,
          -11.107064247131348,
          -11.107064247131348,
          -50.99612808227539,
          -51.400718688964844,
          -0.41819772124290466,
          -36.64838790893555,
          -66.26240539550781,
          -51.498207092285156,
          -44.95397186279297,
          6.377563953399658,
          -40.088722229003906,
          -43.65834426879883,
          -44.65440368652344,
          -49.06678009033203,
          -51.022151947021484,
          0.22217971086502075,
          -39.701995849609375,
          -48.29642868041992,
          -82.28681945800781,
          -40.46504592895508,
          -40.40700149536133,
          -83.3209457397461,
          -40.91357421875,
          -72.7190170288086,
          -83.3209457397461,
          -32.4824104309082,
          -51.316490173339844,
          -20.94904327392578,
          -44.94614028930664,
          -20.94904327392578,
          -12.058043479919434,
          11.817551612854004,
          -39.10799789428711,
          -35.80143356323242,
          -61.44538116455078,
          -61.23891067504883,
          -3.2262048721313477,
          -17.914426803588867,
          -16.314783096313477,
          -27.412120819091797,
          -7.570583343505859,
          -17.914602279663086,
          -11.39220142364502,
          -9.738200187683105,
          -16.666522979736328,
          -16.666522979736328,
          -26.68497085571289,
          -26.68497085571289,
          -13.708950996398926,
          -42.86760711669922,
          -60.153079986572266,
          -60.64609909057617,
          -60.95783233642578,
          -61.397769927978516,
          -60.01815414428711,
          -56.94607162475586,
          -51.412296295166016,
          -66.60690307617188,
          -77.71565246582031,
          -46.85455322265625,
          -50.98590850830078,
          -47.590782165527344,
          -66.60690307617188,
          -56.946083068847656,
          -39.4942512512207,
          -68.77688598632812,
          -55.034278869628906,
          -87.56222534179688,
          -32.6284294128418,
          -43.104820251464844,
          -87.56222534179688,
          -32.6284294128418,
          -87.56222534179688,
          -43.79235076904297,
          -5.830272197723389,
          -32.6284294128418,
          -78.96382141113281,
          -78.96382141113281,
          -78.96382141113281,
          -7.724202632904053,
          -78.96382141113281,
          -50.7476692199707,
          -44.10485076904297,
          -34.012630462646484,
          -72.86898040771484,
          -43.11623001098633,
          -67.32146453857422,
          -33.76348114013672,
          0.005084339529275894,
          0.005084339529275894,
          -23.33867073059082,
          -47.58757781982422,
          -24.0606632232666,
          -75.29293823242188,
          -53.62629699707031,
          -24.0606632232666,
          -75.29293823242188,
          -63.5727653503418,
          -54.270355224609375,
          -66.47028350830078,
          -67.84976196289062,
          -56.949520111083984,
          -59.196590423583984,
          -69.61601257324219,
          -50.31995391845703,
          -67.84976196289062,
          -45.97053909301758,
          -14.164833068847656,
          -11.956769943237305,
          -2.122256278991699,
          -11.959697723388672,
          -21.764896392822266,
          -14.434280395507812,
          -21.764896392822266,
          -14.164861679077148,
          1.4575613737106323,
          -10.62673282623291,
          1.4575613737106323,
          -18.237836837768555,
          -8.276926040649414,
          -33.11847686767578,
          -12.300618171691895,
          -21.093345642089844,
          -33.17567825317383,
          -17.612140655517578,
          -21.093345642089844,
          -17.612140655517578,
          -26.078041076660156,
          -12.748055458068848,
          -25.595932006835938,
          -16.683345794677734,
          -32.26068115234375,
          -11.638971328735352,
          -26.490489959716797,
          -26.490489959716797,
          -26.640850067138672,
          -32.26068115234375,
          32.38203430175781,
          -37.57667922973633,
          -42.51818084716797,
          -50.27225875854492,
          -67.15963745117188,
          -22.735694885253906,
          -22.79507064819336,
          -19.81363868713379,
          -25.702762603759766,
          -15.740472793579102,
          -5.610718727111816,
          -57.27790069580078,
          -80.99449157714844,
          -72.61915588378906,
          -48.25566482543945,
          -36.064476013183594,
          -51.745574951171875,
          -37.629051208496094,
          -44.22341537475586,
          -55.95311737060547,
          -57.063907623291016,
          -59.950523376464844,
          -41.438289642333984,
          -51.82673263549805,
          -21.85366439819336,
          -8.254486083984375,
          -32.18302536010742,
          -11.892213821411133,
          -16.26860237121582,
          -13.734189987182617,
          -10.236351013183594,
          -12.023751258850098,
          -21.85366439819336,
          -32.18302536010742,
          -41.955177307128906,
          -72.71704864501953,
          -28.7120418548584,
          -45.35320281982422,
          -54.70631790161133,
          -81.87907409667969,
          -43.98121643066406,
          -81.87907409667969,
          -64.24919128417969,
          -45.124359130859375,
          -65.62786102294922,
          -47.12254333496094,
          -43.93506622314453,
          -47.12254333496094,
          -65.62786102294922,
          -33.27291488647461,
          -80.21226501464844,
          -80.21226501464844,
          -68.61317443847656,
          -65.40621185302734,
          -34.13544464111328,
          -53.090858459472656,
          -68.61316680908203,
          -40.66910934448242,
          -48.21589279174805,
          -35.89228057861328,
          -23.813243865966797,
          -47.70774459838867,
          -75.48859405517578,
          -57.48008346557617,
          -58.609371185302734,
          -42.653038024902344,
          -37.702125549316406,
          -43.69155502319336,
          -58.299896240234375,
          -57.65898132324219,
          -17.13749122619629,
          -15.250513076782227,
          -16.354219436645508,
          -16.82600212097168,
          -14.278563499450684,
          -14.178418159484863,
          2.1965789794921875,
          -21.0662899017334,
          -13.840271949768066,
          -16.30650520324707,
          -16.457979202270508,
          -12.130878448486328,
          -13.910938262939453,
          2.1965789794921875,
          -16.014854431152344,
          1.5273233652114868,
          0.808658242225647,
          0.8405942320823669,
          1.5555601119995117,
          -28.312557220458984,
          -27.226116180419922,
          -27.226116180419922,
          -21.523832321166992,
          -50.963096618652344,
          -22.351543426513672,
          -51.021522521972656,
          -21.523832321166992,
          -65.05814361572266,
          -48.246917724609375,
          -69.46150207519531,
          -54.07609939575195,
          -39.682525634765625,
          -56.41590881347656,
          -42.58001708984375,
          -40.04212188720703,
          -39.65815734863281,
          -36.49711608886719,
          -35.3415412902832,
          -36.53752899169922,
          -67.76596069335938,
          -60.191795349121094,
          -63.72300338745117,
          -20.37067222595215,
          -57.48295211791992,
          -20.370695114135742,
          -67.76596069335938,
          -64.84025573730469,
          -49.96209716796875,
          -47.12254333496094,
          -56.766990661621094,
          -33.3646240234375,
          -60.6952018737793,
          -47.12254333496094,
          -33.3646240234375,
          -31.77626609802246,
          -70.1355972290039,
          -52.24537658691406,
          -5.817749500274658,
          -13.647547721862793,
          -28.858123779296875,
          -22.87906265258789,
          -5.817749500274658,
          -28.858123779296875,
          -7.509240627288818,
          -15.29537582397461,
          -11.69553279876709,
          -15.1760892868042,
          -66.51602935791016,
          -43.204803466796875,
          -29.37779426574707,
          -51.440547943115234,
          -29.37779426574707,
          -70.61722564697266,
          -37.61018371582031,
          -55.21660614013672,
          -66.51602935791016,
          -29.37779426574707,
          -29.37779426574707,
          -66.51602935791016,
          -70.61722564697266,
          -29.37779426574707,
          -41.46406173706055,
          -11.47284984588623,
          -55.72601318359375,
          -19.808990478515625,
          -34.38727951049805,
          -47.567893981933594,
          -46.732749938964844,
          -38.14120864868164,
          -38.159828186035156,
          -44.10157775878906,
          -51.34578323364258,
          -77.22559356689453,
          -48.91361999511719,
          -62.74734878540039,
          -43.16267395019531,
          -77.22559356689453,
          -44.49849319458008,
          -60.0587272644043,
          -36.5986328125,
          -59.79596710205078,
          -55.48001480102539,
          -69.43042755126953,
          -58.66122817993164,
          -57.30195999145508,
          -62.44281005859375,
          -72.14834594726562,
          -43.298038482666016,
          -32.16838073730469,
          -48.59454345703125,
          4.308235168457031,
          -55.464820861816406,
          -43.69155502319336,
          -53.03421401977539,
          -48.686710357666016,
          -52.42287063598633,
          -38.927215576171875,
          -64.4100341796875,
          -49.54692077636719,
          -18.194782257080078,
          -69.40263366699219,
          -70.7308349609375,
          -43.98121643066406,
          -56.12372589111328,
          -16.341590881347656,
          -70.7308349609375,
          -16.341590881347656,
          -16.341590881347656,
          -70.7308349609375,
          -16.341590881347656,
          -43.98121643066406,
          -6.7154035568237305,
          -6.7154035568237305,
          -52.74886703491211,
          -56.88063049316406,
          -43.26579284667969,
          -43.30997085571289,
          -26.776287078857422,
          -10.617456436157227,
          -11.70801830291748,
          -29.28076171875,
          -15.041528701782227,
          -26.776287078857422,
          -19.695995330810547,
          -63.050514221191406,
          -60.16994094848633,
          -64.64777374267578,
          -33.253108978271484,
          -48.529998779296875,
          -5.12017822265625,
          -30.86720848083496,
          -30.86720848083496,
          -5.5017499923706055,
          -5.5017499923706055,
          -3.1277220249176025,
          -3.1277220249176025,
          -3.1277220249176025,
          -5.5017499923706055,
          -9.915462493896484,
          -44.52522659301758,
          -45.54058837890625,
          -54.68896484375,
          -37.82603073120117,
          -44.32270812988281,
          -70.66928100585938,
          -37.824317932128906,
          -71.93962860107422,
          -44.39330291748047,
          -46.142765045166016,
          -38.76987075805664,
          -61.55766677856445,
          -8.988557815551758,
          -45.65077590942383,
          -62.666683197021484,
          -67.6103744506836,
          -72.67127990722656,
          -63.21453857421875,
          -72.67127990722656,
          -74.3825912475586,
          -35.95869445800781,
          -59.25687026977539,
          -61.4644889831543,
          -65.26224517822266,
          -41.401634216308594,
          -59.43967819213867,
          -46.49326705932617,
          8.418509483337402,
          -12.064855575561523,
          -37.517154693603516,
          -13.247879981994629,
          -21.611494064331055,
          -10.272536277770996,
          -37.517154693603516,
          8.418509483337402,
          -37.517154693603516,
          -59.901790618896484,
          -61.08511734008789,
          -49.728397369384766,
          -42.490447998046875,
          -60.3339729309082,
          -61.08511734008789,
          -60.3339729309082,
          -49.728397369384766,
          -22.05043601989746,
          -63.08201217651367,
          -63.234466552734375,
          -74.32746124267578,
          -69.82864379882812,
          -61.92321014404297,
          -6.849075794219971,
          -62.220115661621094,
          -71.93962860107422,
          -66.7646255493164,
          -54.142601013183594,
          -71.93962860107422,
          -6.849075794219971,
          -64.11507415771484,
          -44.771453857421875,
          -34.06409454345703,
          -51.395328521728516,
          -54.43905258178711,
          -62.579612731933594,
          -46.40577697753906,
          -41.545677185058594,
          -42.33135223388672,
          -47.67607879638672,
          -47.67607879638672,
          -47.67607879638672,
          -51.5620231628418,
          -40.758392333984375,
          -56.42498779296875,
          -62.26734924316406,
          -62.26734924316406,
          -62.26734924316406,
          -32.10021209716797,
          -35.80143356323242,
          -55.114376068115234,
          -42.690826416015625,
          -32.86695861816406,
          -55.12128448486328,
          -32.86695861816406,
          -64.10856628417969,
          -36.27585983276367,
          -8.064653396606445,
          -29.366310119628906,
          -8.064653396606445,
          -63.761016845703125,
          -25.041706085205078,
          -54.83989334106445,
          -71.26531219482422,
          -25.041706085205078,
          -54.83989334106445,
          -71.26531219482422,
          -71.26531219482422,
          -45.937950134277344,
          -83.80705261230469,
          -83.80705261230469,
          -44.75821304321289,
          -44.75821304321289,
          -44.75821304321289,
          -83.80705261230469,
          -29.70689582824707,
          -63.44675827026367,
          -74.91429901123047,
          -13.631875038146973,
          -22.95816421508789,
          -11.133930206298828,
          -13.27529525756836,
          -14.194769859313965,
          -11.920280456542969,
          -13.061704635620117,
          -11.133936882019043,
          0.66938316822052,
          -10.544047355651855,
          -24.3575439453125,
          -10.209537506103516,
          -24.3575439453125,
          -15.286836624145508,
          0.66938316822052,
          -24.793466567993164,
          -15.482126235961914,
          -15.482126235961914,
          1.4254027605056763,
          -14.908736228942871,
          -23.983341217041016,
          1.4254027605056763,
          -45.8650016784668,
          -25.448650360107422,
          -58.708736419677734,
          -59.980224609375,
          -38.569740295410156,
          -38.569740295410156,
          -65.11780548095703,
          -53.3002815246582,
          -53.998329162597656,
          -52.4062385559082,
          -52.4062385559082,
          -53.998329162597656,
          -10.104936599731445,
          -17.82729148864746,
          -12.011506080627441,
          -9.844343185424805,
          -22.032020568847656,
          -22.154361724853516,
          -42.81407928466797,
          -69.02180480957031,
          -77.87174987792969,
          -55.6947135925293,
          -56.323219299316406,
          -52.55739212036133,
          -52.86658477783203,
          -56.13512420654297,
          -63.28169631958008,
          -46.0598258972168,
          -52.84567642211914,
          -56.13512420654297,
          -52.151100158691406,
          -19.3848819732666,
          -22.484745025634766,
          -4.544384002685547,
          -28.293245315551758,
          -19.3848819732666,
          -18.545473098754883,
          -3.726952314376831,
          -13.487110137939453,
          -21.501575469970703,
          -19.00843048095703,
          -2.494171380996704,
          -6.515710353851318,
          -2.494171380996704,
          -29.14199447631836,
          -13.336932182312012,
          -11.612356185913086,
          -3.726952314376831,
          -3.726952314376831,
          -19.787872314453125,
          -56.413551330566406,
          -56.41264343261719,
          -47.32087326049805,
          -46.33573532104492,
          -56.37812042236328,
          -37.139068603515625,
          -50.27225875854492,
          -56.37812042236328,
          -21.006113052368164,
          -21.00682258605957,
          -12.304469108581543,
          -52.140235900878906,
          -62.08598327636719,
          -52.140235900878906,
          -44.64239501953125,
          -47.274208068847656,
          -73.01854705810547,
          -74.32746124267578,
          -74.32746124267578,
          -40.980567932128906,
          -41.15385437011719,
          -40.78894805908203,
          -40.78894805908203,
          -34.99617385864258,
          -39.48533630371094,
          -64.63785552978516,
          -74.01528930664062,
          -58.652854919433594,
          -77.58187866210938,
          -61.33308410644531,
          -54.90433883666992,
          -39.1356086730957,
          -18.68461036682129,
          -41.282806396484375,
          -67.78297424316406,
          -34.850852966308594,
          -73.78141021728516,
          -45.43815612792969,
          -33.83918380737305,
          -49.459022521972656,
          -52.89844512939453,
          -17.828731536865234,
          -5.084036827087402,
          -25.244935989379883,
          -7.203671455383301,
          -30.186979293823242,
          -14.439706802368164,
          -25.244863510131836,
          -18.94415855407715,
          -30.186979293823242,
          -6.2012763023376465,
          -17.828731536865234,
          -77.7913818359375,
          -53.395633697509766,
          -79.22005462646484,
          -42.75226974487305,
          -65.27764892578125,
          -59.67708969116211,
          -77.7913818359375,
          -65.27764892578125,
          -79.22005462646484,
          -66.4486083984375,
          -45.56778335571289,
          -58.077903747558594,
          -63.43744659423828,
          -64.3421859741211,
          -59.38277816772461,
          -52.096290588378906,
          -52.579341888427734,
          -18.490846633911133,
          -9.303475379943848,
          -17.608701705932617,
          -20.14679527282715,
          -18.56114387512207,
          -10.313185691833496,
          -5.696390151977539,
          -62.6312255859375,
          -62.87472915649414,
          -62.312843322753906,
          -59.65919494628906,
          -8.98967456817627,
          -60.506229400634766,
          -76.12985229492188,
          -7.406881332397461,
          -60.506229400634766,
          -75.15975952148438,
          -7.406881332397461,
          -75.15975952148438,
          -60.506229400634766,
          -60.506229400634766,
          -7.406881332397461,
          -4.308884620666504,
          -48.23719024658203,
          -68.68344116210938,
          -46.15401077270508,
          -68.68344116210938,
          -52.932861328125,
          -10.147708892822266,
          -9.064207077026367,
          -28.0626220703125,
          -10.147708892822266,
          -30.823379516601562,
          -10.082925796508789,
          -10.788688659667969,
          -8.7876558303833,
          -7.34400749206543,
          -8.318076133728027,
          -5.434569358825684,
          -8.57345962524414,
          -12.621118545532227,
          -26.54901885986328,
          -23.96196937561035,
          -3.2262048721313477,
          -51.49071502685547,
          -48.18764877319336,
          -52.840576171875,
          -40.872283935546875,
          -38.90862274169922,
          13.125203132629395,
          13.125203132629395,
          -55.37888717651367,
          -38.90862274169922,
          25.11672592163086,
          -25.20429229736328,
          -27.436965942382812,
          -13.533631324768066,
          -26.274091720581055,
          -8.834685325622559,
          -63.651580810546875,
          -16.711917877197266,
          -16.711917877197266,
          -16.711917877197266,
          -69.02180480957031,
          6.66763162612915,
          -19.159147262573242,
          -29.989320755004883,
          -17.11394691467285,
          -30.16480827331543,
          -4.055671215057373,
          -19.27712631225586,
          -17.632156372070312,
          -30.16480827331543,
          -19.984560012817383,
          -17.11394691467285,
          -16.12226104736328,
          -10.5549955368042,
          -59.609893798828125,
          -33.22653579711914,
          -16.12226104736328,
          -16.12226104736328,
          -22.155548095703125,
          -22.155548095703125,
          -38.60160827636719,
          -57.423133850097656,
          -46.645469665527344,
          -52.79460906982422,
          -47.297508239746094,
          -8.423141479492188,
          -8.421960830688477,
          -47.12254333496094,
          -30.076778411865234,
          -74.00926971435547,
          -45.08869934082031,
          -62.02887725830078,
          1.0752555131912231,
          -74.54839324951172,
          -23.518810272216797,
          -64.8374252319336,
          -22.153486251831055,
          -75.02841186523438,
          -30.72700309753418,
          -48.26365661621094,
          -22.153486251831055,
          -74.495361328125,
          -36.120052337646484,
          -7.368645668029785,
          -63.123626708984375,
          -7.368645668029785,
          -48.83967208862305,
          -66.53290557861328,
          -65.08285522460938,
          -37.87113952636719,
          -31.53517723083496,
          -51.78825378417969,
          4.728194713592529,
          -48.25772476196289,
          -48.25772476196289,
          3.817275047302246,
          -20.741262435913086,
          0.5658584237098694,
          -7.887763977050781,
          -59.037044525146484,
          -9.633975982666016,
          -21.270227432250977,
          -35.180450439453125,
          -35.18054962158203,
          -56.47751235961914,
          -60.594390869140625,
          -56.8362922668457,
          -64.3615493774414,
          -43.584571838378906,
          -86.27540588378906,
          -51.36616897583008,
          -59.2675666809082,
          -86.27540588378906,
          -86.27540588378906,
          -48.80935287475586,
          -86.27540588378906,
          -7.738255500793457,
          -12.457490921020508,
          -29.258373260498047,
          -15.872776985168457,
          -10.496158599853516,
          -9.207145690917969,
          -19.347274780273438,
          -22.206491470336914,
          -63.52870178222656,
          -69.55677032470703,
          -69.55677032470703,
          18.690412521362305,
          3.2485523223876953,
          -32.11283874511719,
          -50.77094650268555,
          -33.136260986328125,
          3.2485523223876953,
          -36.3349494934082,
          -37.22024917602539,
          -38.46833038330078,
          -38.49626159667969,
          -14.907731056213379,
          -30.670690536499023,
          -33.11393737792969,
          -17.66510772705078,
          -40.569278717041016,
          -44.387184143066406,
          -58.6478157043457,
          -10.541017532348633,
          -68.85498809814453,
          -14.907731056213379,
          -17.66510772705078,
          -14.907731056213379,
          -44.387184143066406,
          -72.71489715576172,
          -62.43880081176758,
          -72.71489715576172,
          -59.71555709838867,
          -53.37638473510742,
          -56.938865661621094,
          -34.87717056274414,
          -0.48475635051727295,
          -42.27739715576172,
          -33.62421417236328,
          -65.60015869140625,
          -59.89917755126953,
          -32.457435607910156,
          -42.18768310546875,
          -32.457435607910156,
          -49.33177185058594,
          -57.66270446777344,
          -2.5664074420928955,
          -56.239013671875,
          -49.254981994628906,
          -56.119144439697266,
          -36.184593200683594,
          -54.65143966674805,
          -29.46637535095215,
          -50.8914909362793,
          -28.81390953063965,
          -36.184593200683594,
          -59.71371078491211,
          -38.31859588623047,
          -12.818151473999023,
          -31.79883575439453,
          -30.053998947143555,
          -12.403486251831055,
          16.410385131835938,
          -51.48271179199219,
          -59.52570343017578,
          -64.15931701660156,
          -74.33903503417969,
          -19.996315002441406,
          -18.994171142578125,
          -38.89240264892578,
          -74.33903503417969,
          -18.994171142578125,
          -61.00168991088867,
          -66.22603607177734,
          -61.00168991088867,
          -66.22603607177734,
          -50.49188232421875,
          -48.39968490600586,
          -44.873687744140625,
          -48.628387451171875,
          -48.385196685791016,
          -50.49369812011719,
          -28.172134399414062,
          -28.16863250732422,
          2.8937180042266846
         ],
         "xaxis": "x",
         "y": [
          -7.41733980178833,
          26.631311416625977,
          26.975255966186523,
          -6.970950603485107,
          16.05625343322754,
          26.975255966186523,
          -7.41733980178833,
          25.79903221130371,
          23.854745864868164,
          21.22667694091797,
          35.69716262817383,
          -63.87479019165039,
          -64.35928344726562,
          -64.797119140625,
          -64.79927825927734,
          -29.318653106689453,
          -24.925508499145508,
          -64.07367706298828,
          -25.245777130126953,
          -25.75198745727539,
          -26.516599655151367,
          -29.318653106689453,
          -24.925867080688477,
          -25.245777130126953,
          -25.75198745727539,
          33.7979736328125,
          9.788980484008789,
          -7.783895969390869,
          6.5081467628479,
          38.282596588134766,
          41.39794158935547,
          22.851892471313477,
          4.298868179321289,
          15.050325393676758,
          41.39794158935547,
          10.745809555053711,
          38.282596588134766,
          22.719711303710938,
          20.71139907836914,
          20.011686325073242,
          34.12070083618164,
          34.12070083618164,
          -9.56987190246582,
          -11.815995216369629,
          0.7242474555969238,
          22.719711303710938,
          -5.916889190673828,
          -6.030886650085449,
          -8.70221996307373,
          -8.702485084533691,
          16.763673782348633,
          16.27487564086914,
          -28.44013786315918,
          -29.650869369506836,
          -27.289342880249023,
          -30.828954696655273,
          24.979658126831055,
          -63.94429016113281,
          22.866531372070312,
          22.866531372070312,
          19.500524520874023,
          10.831003189086914,
          -11.055113792419434,
          10.925581932067871,
          6.625929355621338,
          24.18779182434082,
          22.51605987548828,
          12.474161148071289,
          25.993309020996094,
          1.2376511096954346,
          8.531193733215332,
          6.122940540313721,
          12.596489906311035,
          25.908721923828125,
          -68.93739318847656,
          -84.30126190185547,
          -70.0012435913086,
          -70.0012435913086,
          -84.8123550415039,
          -70.0012435913086,
          -70.0012435913086,
          -70.0012435913086,
          -70.0012435913086,
          44.898582458496094,
          44.898582458496094,
          -49.415687561035156,
          -45.6600456237793,
          -34.101478576660156,
          -34.101478576660156,
          -49.415687561035156,
          -49.415687561035156,
          -34.101478576660156,
          -49.415687561035156,
          36.08799743652344,
          49.709163665771484,
          49.709163665771484,
          36.08799743652344,
          20.092418670654297,
          21.89423942565918,
          -2.332756757736206,
          15.6553955078125,
          36.467445373535156,
          29.841428756713867,
          36.467445373535156,
          30.455827713012695,
          -13.813522338867188,
          -13.863496780395508,
          30.455827713012695,
          11.120606422424316,
          0.8140228986740112,
          -15.773123741149902,
          18.169103622436523,
          3.256326913833618,
          7.7115325927734375,
          -10.73847484588623,
          6.651890277862549,
          20.093753814697266,
          6.651890277862549,
          12.584901809692383,
          22.039731979370117,
          7.7115325927734375,
          7.7115325927734375,
          32.06008529663086,
          33.20833969116211,
          -4.291992664337158,
          -12.219676971435547,
          18.698278427124023,
          22.23082160949707,
          -0.8598841428756714,
          9.642087936401367,
          -13.245293617248535,
          -34.33840560913086,
          -33.1195068359375,
          -25.058847427368164,
          -24.759490966796875,
          1.8399467468261719,
          12.096857070922852,
          16.43402862548828,
          26.852985382080078,
          -16.476703643798828,
          -16.481456756591797,
          27.010374069213867,
          1.4131919145584106,
          -8.391312599182129,
          27.010374069213867,
          9.79537296295166,
          -18.401813507080078,
          -2.9218411445617676,
          -34.337646484375,
          -2.9218411445617676,
          12.617056846618652,
          -9.49140739440918,
          34.3093376159668,
          37.89508056640625,
          -1.2185075283050537,
          4.289356708526611,
          -65.89497375488281,
          -74.87814331054688,
          -72.88180541992188,
          -64.9712905883789,
          -35.21687316894531,
          -74.87820434570312,
          -44.430179595947266,
          -54.70286178588867,
          -45.1884880065918,
          -45.1884880065918,
          -56.91903305053711,
          -56.91903305053711,
          -46.09852981567383,
          15.172083854675293,
          -33.64131164550781,
          -32.43950271606445,
          -30.69684600830078,
          -31.599102020263672,
          -34.2310791015625,
          39.68523025512695,
          11.775097846984863,
          -3.9884421825408936,
          4.71844482421875,
          36.856563568115234,
          23.66514778137207,
          36.467445373535156,
          -3.9884421825408936,
          39.68526840209961,
          -11.125066757202148,
          13.854414939880371,
          12.009197235107422,
          -8.014765739440918,
          48.8509521484375,
          6.29171085357666,
          -8.014765739440918,
          48.8509521484375,
          -8.014765739440918,
          5.875132083892822,
          0.17270874977111816,
          48.8509521484375,
          33.70002365112305,
          33.70002365112305,
          33.70002365112305,
          -68.67977905273438,
          33.70002365112305,
          16.362380981445312,
          -33.640228271484375,
          -3.5170438289642334,
          10.725504875183105,
          -36.14059066772461,
          28.75197410583496,
          -3.6176211833953857,
          45.00511932373047,
          45.00511932373047,
          16.490703582763672,
          19.74955940246582,
          17.195903778076172,
          39.62417221069336,
          14.6571683883667,
          17.195903778076172,
          39.62417221069336,
          -5.1572442054748535,
          8.911335945129395,
          8.76995849609375,
          8.260576248168945,
          19.25398826599121,
          18.101648330688477,
          18.52155876159668,
          20.667749404907227,
          8.260576248168945,
          -30.77008819580078,
          -80.38536834716797,
          -74.15645599365234,
          -71.00935363769531,
          -73.66973876953125,
          -79.3818359375,
          -48.60564041137695,
          -79.3818359375,
          -80.38548278808594,
          -72.77425384521484,
          -74.77069854736328,
          -72.77425384521484,
          -84.50788116455078,
          -77.80362701416016,
          -17.078754425048828,
          -43.683162689208984,
          49.17901611328125,
          29.9648380279541,
          43.22734451293945,
          49.17901611328125,
          43.22734451293945,
          -50.96445083618164,
          -61.546730041503906,
          -46.270713806152344,
          -62.92716979980469,
          -67.97399139404297,
          -62.27190399169922,
          -45.234397888183594,
          -45.234397888183594,
          -50.7978515625,
          -67.97399139404297,
          -0.6432592272758484,
          -27.167301177978516,
          21.941814422607422,
          1.9781153202056885,
          23.59556770324707,
          10.377668380737305,
          10.405301094055176,
          -65.41951751708984,
          -16.36188316345215,
          -70.07022094726562,
          -71.78192138671875,
          21.89441680908203,
          13.13996410369873,
          -7.546358585357666,
          -9.627595901489258,
          -3.379324197769165,
          -9.806114196777344,
          -13.26963996887207,
          14.30903434753418,
          1.006533145904541,
          1.8363584280014038,
          32.14460754394531,
          30.044269561767578,
          -9.898788452148438,
          -75.85271453857422,
          -30.0688533782959,
          -42.4277458190918,
          -70.2430419921875,
          -73.8054428100586,
          -66.99950408935547,
          -73.07782745361328,
          -48.15595626831055,
          -75.85271453857422,
          -42.4277458190918,
          9.637219429016113,
          16.844717025756836,
          -64.12799835205078,
          27.571529388427734,
          -1.2837592363357544,
          0.7069310545921326,
          27.07419776916504,
          0.7069310545921326,
          5.0668110847473145,
          51.92966079711914,
          3.7111544609069824,
          52.82783508300781,
          51.41722869873047,
          52.82783508300781,
          3.7111544609069824,
          5.520627975463867,
          13.492140769958496,
          13.492140769958496,
          -13.32880687713623,
          -18.035429000854492,
          -0.2944032847881317,
          2.7384889125823975,
          -13.328807830810547,
          17.752042770385742,
          17.523761749267578,
          -11.448860168457031,
          -61.7302131652832,
          3.8221046924591064,
          14.178438186645508,
          -6.589495658874512,
          6.620641708374023,
          36.887672424316406,
          0.6484386920928955,
          41.922367095947266,
          6.825912952423096,
          -6.692290306091309,
          -57.3176383972168,
          -61.21233367919922,
          -63.79484939575195,
          -61.931671142578125,
          -61.62513732910156,
          -60.13941192626953,
          18.128355026245117,
          -63.160526275634766,
          -74.60861206054688,
          -59.441139221191406,
          -59.97027587890625,
          -51.25718688964844,
          -64.39482879638672,
          18.128355026245117,
          -59.782711029052734,
          -68.08381652832031,
          -68.08525085449219,
          -68.79658508300781,
          -68.80077362060547,
          6.221188068389893,
          5.981653213500977,
          5.981653213500977,
          6.059588432312012,
          9.955451011657715,
          2.526258707046509,
          19.478742599487305,
          6.059588432312012,
          8.561263084411621,
          25.141691207885742,
          24.21788787841797,
          20.079105377197266,
          10.98156452178955,
          12.357415199279785,
          35.230045318603516,
          18.566604614257812,
          18.892576217651367,
          7.13896369934082,
          12.70775032043457,
          7.246189594268799,
          -0.5578914880752563,
          5.297044277191162,
          18.637014389038086,
          36.22782897949219,
          4.168818950653076,
          36.2276725769043,
          -0.5578914880752563,
          16.363821029663086,
          18.2950439453125,
          52.82783508300781,
          12.24963665008545,
          25.246826171875,
          10.63027286529541,
          52.82783508300781,
          25.246826171875,
          21.4102840423584,
          5.8563079833984375,
          -5.2371954917907715,
          -52.40862274169922,
          -62.994625091552734,
          -72.86166381835938,
          -46.873634338378906,
          -52.40862274169922,
          -72.86166381835938,
          -61.09052658081055,
          -62.90449142456055,
          -54.30663299560547,
          -64.95559692382812,
          -9.229883193969727,
          18.683231353759766,
          59.379234313964844,
          26.718582153320312,
          59.379234313964844,
          30.695070266723633,
          15.86056900024414,
          33.676605224609375,
          -9.229883193969727,
          59.379234313964844,
          59.379234313964844,
          -9.229883193969727,
          30.695070266723633,
          59.379234313964844,
          -29.89916229248047,
          3.5467066764831543,
          21.066076278686523,
          -51.01569747924805,
          -12.907902717590332,
          7.314070701599121,
          20.241596221923828,
          -31.527761459350586,
          -32.2534294128418,
          -30.83075523376465,
          -18.853073120117188,
          9.708643913269043,
          -19.46319007873535,
          2.545050859451294,
          -31.689437866210938,
          9.708643913269043,
          20.413564682006836,
          24.25436782836914,
          -15.566823959350586,
          10.076281547546387,
          35.07977294921875,
          4.022870063781738,
          -3.9445438385009766,
          8.733785629272461,
          21.326112747192383,
          -18.285547256469727,
          1.7967685461044312,
          9.760451316833496,
          22.034517288208008,
          -9.292819023132324,
          35.20384216308594,
          41.922367095947266,
          -0.3300449252128601,
          11.744275093078613,
          -1.0446667671203613,
          -1.7458404302597046,
          26.190349578857422,
          13.31651496887207,
          17.59562110900879,
          2.807600975036621,
          2.433241605758667,
          27.07419776916504,
          -3.2840523719787598,
          17.529773712158203,
          2.433241605758667,
          17.529773712158203,
          17.529773712158203,
          2.433241605758667,
          17.529773712158203,
          27.07419776916504,
          3.563390016555786,
          3.563390016555786,
          19.504154205322266,
          20.496116638183594,
          -2.7336254119873047,
          12.292702674865723,
          -80.91954040527344,
          -71.03369140625,
          -76.9229736328125,
          -23.236642837524414,
          -68.15166473388672,
          -80.91954040527344,
          -52.34545135498047,
          6.059179782867432,
          -15.773123741149902,
          23.14197540283203,
          3.042224645614624,
          7.18147611618042,
          -57.79634094238281,
          -59.48632049560547,
          -59.48632049560547,
          -57.06967544555664,
          -57.06967544555664,
          -46.766929626464844,
          -46.766929626464844,
          -46.766929626464844,
          -57.06967544555664,
          -64.61827087402344,
          0.9588624238967896,
          2.100966691970825,
          17.33362579345703,
          27.958707809448242,
          -11.375632286071777,
          14.541935920715332,
          27.957504272460938,
          15.48936939239502,
          -11.805399894714355,
          10.18847370147705,
          33.24087142944336,
          -3.481139898300171,
          39.64272689819336,
          10.368582725524902,
          -3.728799343109131,
          17.551467895507812,
          -17.29517364501953,
          -0.035458799451589584,
          -17.29517364501953,
          29.591764450073242,
          19.376516342163086,
          13.90103530883789,
          25.40300178527832,
          5.985888481140137,
          -10.202320098876953,
          13.789912223815918,
          -2.6572353839874268,
          -57.24530029296875,
          -75.86827087402344,
          -51.132755279541016,
          -68.53626251220703,
          -63.09703063964844,
          -77.65475463867188,
          -51.132755279541016,
          -57.24530029296875,
          -51.132755279541016,
          2.2062931060791016,
          33.456600189208984,
          43.926605224609375,
          50.71436309814453,
          33.82502365112305,
          33.456600189208984,
          33.82502365112305,
          43.926605224609375,
          -69.7773666381836,
          -12.808337211608887,
          -12.660895347595215,
          28.130739212036133,
          15.658577919006348,
          24.113805770874023,
          9.672240257263184,
          13.413777351379395,
          15.48936939239502,
          10.969914436340332,
          8.815342903137207,
          15.48936939239502,
          9.672240257263184,
          13.975190162658691,
          16.873987197875977,
          24.415306091308594,
          32.93913269042969,
          2.7688472270965576,
          2.7993204593658447,
          -33.29716110229492,
          -33.78221893310547,
          -32.83959197998047,
          -33.411746978759766,
          -33.411746978759766,
          -33.411746978759766,
          17.82076644897461,
          14.825515747070312,
          3.861898899078369,
          40.12631607055664,
          40.12631607055664,
          40.12631607055664,
          41.32817077636719,
          37.89508056640625,
          6.2299699783325195,
          13.994150161743164,
          42.02450942993164,
          6.281154632568359,
          42.02450942993164,
          -2.2914979457855225,
          13.574274063110352,
          50.14781188964844,
          28.579740524291992,
          50.14781188964844,
          16.645099639892578,
          41.0439567565918,
          -15.072154998779297,
          -2.595451593399048,
          41.0439567565918,
          -15.072154998779297,
          -2.595451593399048,
          -2.595451593399048,
          -6.548892974853516,
          18.72995948791504,
          18.72995948791504,
          -7.125913619995117,
          -7.125913619995117,
          -7.125913619995117,
          18.72995948791504,
          13.693629264831543,
          11.244424819946289,
          16.946393966674805,
          -57.265357971191406,
          -62.156307220458984,
          -58.372249603271484,
          -70.12540435791016,
          -58.8752326965332,
          -67.72021484375,
          -59.80904006958008,
          -58.37268829345703,
          -56.92131423950195,
          -59.91004180908203,
          -71.56380462646484,
          -46.15154266357422,
          -71.56380462646484,
          -55.692874908447266,
          -56.92131423950195,
          -72.25847625732422,
          -54.08997344970703,
          -54.08997344970703,
          -57.261505126953125,
          -54.165496826171875,
          -72.28648376464844,
          -57.261505126953125,
          30.869775772094727,
          -1.5814313888549805,
          26.790220260620117,
          29.088001251220703,
          -25.271610260009766,
          -25.271610260009766,
          9.85633373260498,
          23.786462783813477,
          -23.435792922973633,
          -27.565542221069336,
          -27.565542221069336,
          -23.435792922973633,
          -78.86639404296875,
          -68.95765686035156,
          -56.625526428222656,
          -62.17924880981445,
          -20.311986923217773,
          -46.004547119140625,
          16.343124389648438,
          21.34095573425293,
          17.530588150024414,
          14.638679504394531,
          44.90680694580078,
          -4.72917366027832,
          29.171398162841797,
          45.752174377441406,
          15.052133560180664,
          14.848888397216797,
          29.311193466186523,
          45.752174377441406,
          -5.664119720458984,
          -70.89965057373047,
          -53.3737678527832,
          -78.38597106933594,
          -21.295576095581055,
          -70.89965057373047,
          -71.2730712890625,
          -78.22110748291016,
          -72.88066101074219,
          -53.415748596191406,
          -71.93818664550781,
          -72.3655014038086,
          -72.97968292236328,
          -72.3655014038086,
          -20.43096351623535,
          -77.19341278076172,
          -45.73481750488281,
          -78.22110748291016,
          -78.22110748291016,
          -71.74980926513672,
          27.27557373046875,
          27.275419235229492,
          28.44011688232422,
          34.83833694458008,
          29.57815933227539,
          20.861764907836914,
          1.9781153202056885,
          29.57815933227539,
          -67.40160369873047,
          -67.40220642089844,
          -71.97816467285156,
          38.91816711425781,
          17.6160888671875,
          38.91816711425781,
          7.992867946624756,
          -17.44646644592285,
          27.333847045898438,
          28.130739212036133,
          28.130739212036133,
          -0.9294939637184143,
          -1.7787631750106812,
          -3.843766689300537,
          -3.843766689300537,
          -12.457952499389648,
          0.7485089898109436,
          13.691680908203125,
          -4.9811530113220215,
          1.0239149332046509,
          4.996108531951904,
          7.370571136474609,
          -5.949731349945068,
          -12.135136604309082,
          27.924217224121094,
          29.91541290283203,
          21.835233688354492,
          -9.649323463439941,
          13.396929740905762,
          18.129919052124023,
          3.597170352935791,
          27.527498245239258,
          21.43056297302246,
          -66.62236785888672,
          -69.03956604003906,
          -67.7911376953125,
          -71.58110809326172,
          -21.793127059936523,
          -71.34009552001953,
          -67.79106140136719,
          -55.29901123046875,
          -21.793127059936523,
          -66.96572875976562,
          -66.62236785888672,
          18.022720336914062,
          26.075687408447266,
          -5.573599815368652,
          31.226011276245117,
          45.36376190185547,
          21.360212326049805,
          18.022720336914062,
          45.36376190185547,
          -5.573599815368652,
          27.673057556152344,
          5.514257431030273,
          15.57801342010498,
          20.966577529907227,
          -7.866456985473633,
          -1.0159966945648193,
          17.577014923095703,
          17.09070587158203,
          -60.65858840942383,
          -79.46363830566406,
          -57.126834869384766,
          -59.74287414550781,
          -59.69919967651367,
          -67.57662200927734,
          -74.0210952758789,
          -32.13331985473633,
          -30.491851806640625,
          -33.12079620361328,
          52.4178352355957,
          40.44603729248047,
          53.42888259887695,
          -2.070011615753174,
          39.94637680053711,
          53.42888259887695,
          -2.120319366455078,
          39.94637680053711,
          -2.120319366455078,
          53.42888259887695,
          53.42888259887695,
          39.94637680053711,
          -13.288865089416504,
          25.48206901550293,
          38.86239242553711,
          21.88212013244629,
          38.86239242553711,
          5.082918643951416,
          -83.97026062011719,
          -80.23403930664062,
          -64.49617767333984,
          -83.97026062011719,
          -15.95401668548584,
          -69.49725341796875,
          -66.2612533569336,
          -71.46258544921875,
          -75.30110931396484,
          -73.7627944946289,
          -63.23369598388672,
          -66.62918090820312,
          -45.66753005981445,
          -69.81192016601562,
          -64.77384948730469,
          -65.89497375488281,
          6.958960056304932,
          5.099349498748779,
          13.766251564025879,
          3.0955379009246826,
          45.43952941894531,
          29.392934799194336,
          29.392934799194336,
          -8.907083511352539,
          45.43952941894531,
          0.5342281460762024,
          -36.21132278442383,
          -22.73898696899414,
          -67.84064483642578,
          -35.11542510986328,
          -48.705509185791016,
          17.657447814941406,
          9.874468803405762,
          9.874468803405762,
          9.874468803405762,
          21.34066390991211,
          -30.119840621948242,
          -61.21967697143555,
          -32.4330940246582,
          -77.73847198486328,
          -31.44610023498535,
          -75.7930679321289,
          -60.187808990478516,
          -77.84358978271484,
          -31.44610023498535,
          -60.701637268066406,
          -77.73847198486328,
          -40.81686782836914,
          -40.06624221801758,
          17.078065872192383,
          16.75933837890625,
          -40.81686782836914,
          -40.81686782836914,
          -11.873015403747559,
          -11.873015403747559,
          32.78239059448242,
          -0.7840027213096619,
          16.58176612854004,
          -0.46745917201042175,
          33.7910270690918,
          4.598422527313232,
          4.59777307510376,
          52.82783508300781,
          -10.308507919311523,
          -14.102217674255371,
          13.053510665893555,
          27.827987670898438,
          -2.079549551010132,
          -14.581450462341309,
          23.443716049194336,
          20.03715705871582,
          23.37954330444336,
          -14.07317066192627,
          15.058349609375,
          38.1479377746582,
          23.37954330444336,
          -13.585015296936035,
          19.56032371520996,
          14.150506019592285,
          8.822189331054688,
          14.150506019592285,
          29.863361358642578,
          26.181724548339844,
          22.820592880249023,
          -8.616256713867188,
          -15.887981414794922,
          25.34784698486328,
          -47.98528289794922,
          -25.371585845947266,
          -25.371585845947266,
          -49.49227523803711,
          -53.68636703491211,
          -62.83263397216797,
          -69.58842468261719,
          19.23337173461914,
          -76.20691680908203,
          -52.881370544433594,
          -27.42760467529297,
          -27.42778205871582,
          16.72945213317871,
          0.604331910610199,
          9.438257217407227,
          23.917098999023438,
          3.3270668983459473,
          9.136242866516113,
          6.279080390930176,
          3.7663934230804443,
          9.136242866516113,
          9.136242866516113,
          21.983299255371094,
          9.136242866516113,
          -64.33860778808594,
          -65.84513092041016,
          -17.56314468383789,
          -66.58293914794922,
          -71.46595764160156,
          -46.29585647583008,
          -59.20279312133789,
          -56.17653274536133,
          -3.867527723312378,
          -6.317888259887695,
          -6.317888259887695,
          46.54460144042969,
          5.847148418426514,
          15.780643463134766,
          23.44675636291504,
          16.696462631225586,
          5.847148418426514,
          -26.234363555908203,
          -30.095232009887695,
          -29.333248138427734,
          -28.891590118408203,
          -31.052963256835938,
          -11.791390419006348,
          9.751197814941406,
          -27.92038345336914,
          5.880249977111816,
          -21.351770401000977,
          0.42207473516464233,
          -0.09833487123250961,
          28.05992317199707,
          -31.052963256835938,
          -27.92038345336914,
          -31.052963256835938,
          -21.351770401000977,
          33.134178161621094,
          28.00977897644043,
          33.134178161621094,
          24.200307846069336,
          14.698436737060547,
          15.603668212890625,
          22.504573822021484,
          3.280241012573242,
          22.410356521606445,
          32.379642486572266,
          0.26870226860046387,
          9.453473091125488,
          33.31708526611328,
          23.710922241210938,
          33.31708526611328,
          -2.205376148223877,
          -10.944336891174316,
          -6.579921722412109,
          25.511995315551758,
          -2.2448770999908447,
          24.895071029663086,
          -19.53280258178711,
          20.714815139770508,
          15.830353736877441,
          14.57292366027832,
          16.165210723876953,
          -19.53280258178711,
          -32.52954864501953,
          10.88083553314209,
          -44.332496643066406,
          -21.50261116027832,
          -14.652442932128906,
          -42.51456069946289,
          -17.31529998779297,
          11.042673110961914,
          10.964360237121582,
          30.652620315551758,
          1.8053486347198486,
          -7.307185173034668,
          -8.12865924835205,
          0.9413023591041565,
          1.8053486347198486,
          -8.12865924835205,
          -21.489356994628906,
          -18.092365264892578,
          -21.489356994628906,
          -18.092365264892578,
          -24.483890533447266,
          8.384255409240723,
          23.15234375,
          15.205795288085938,
          8.919113159179688,
          5.728610992431641,
          21.053924560546875,
          21.03614616394043,
          -42.440040588378906
         ],
         "yaxis": "y"
        },
        {
         "customdata": [
          [
           "daughter",
           "CHARACTER"
          ],
          [
           "son",
           "CHARACTER"
          ],
          [
           "teacher",
           "CHARACTER"
          ],
          [
           "master",
           "CHARACTER"
          ],
          [
           "disciples of Ramakrishna",
           "CHARACTER"
          ],
          [
           "prince",
           "CHARACTER"
          ],
          [
           "friend",
           "CHARACTER"
          ],
          [
           "damsel",
           "CHARACTER"
          ],
          [
           "king",
           "CHARACTER"
          ],
          [
           "wife",
           "CHARACTER"
          ],
          [
           "prince",
           "CHARACTER"
          ],
          [
           "wives",
           "CHARACTER"
          ],
          [
           "celestial maidens",
           "CHARACTER"
          ],
          [
           "Police inspector",
           "CHARACTER"
          ],
          [
           "victims",
           "CHARACTER"
          ],
          [
           "German woman",
           "CHARACTER"
          ],
          [
           "state prison escapees",
           "CHARACTER"
          ],
          [
           "girl",
           "CHARACTER"
          ],
          [
           "close friends",
           "CHARACTER"
          ],
          [
           "cabaret singer",
           "CHARACTER"
          ],
          [
           "friends",
           "CHARACTER"
          ],
          [
           "son",
           "CHARACTER"
          ],
          [
           "department store owner",
           "CHARACTER"
          ],
          [
           "store's sports clerk",
           "CHARACTER"
          ],
          [
           "cabaret singer",
           "CHARACTER"
          ],
          [
           "co-respondent",
           "CHARACTER"
          ],
          [
           "students",
           "CHARACTER"
          ],
          [
           "teacher",
           "CHARACTER"
          ],
          [
           "21-year-old teacher",
           "CHARACTER"
          ],
          [
           "people",
           "CHARACTER"
          ],
          [
           "showroom executive",
           "CHARACTER"
          ],
          [
           "girlfriend",
           "CHARACTER"
          ],
          [
           "swordsman",
           "CHARACTER"
          ],
          [
           "Young sci-fi/fantasy enthusiast",
           "CHARACTER"
          ],
          [
           "ragtag group of nerd friends",
           "CHARACTER"
          ],
          [
           "Gavin's redneck neighbors",
           "CHARACTER"
          ],
          [
           "local Sasquatch \"expert\"",
           "CHARACTER"
          ],
          [
           "lover",
           "CHARACTER"
          ],
          [
           "young and charming medical student",
           "CHARACTER"
          ],
          [
           "shrewd politician",
           "CHARACTER"
          ],
          [
           "penniless outcast",
           "CHARACTER"
          ],
          [
           "young boy",
           "CHARACTER"
          ],
          [
           "uncaring undertaker",
           "CHARACTER"
          ],
          [
           "Oliver's mother",
           "CHARACTER"
          ],
          [
           "gang of thieves",
           "CHARACTER"
          ],
          [
           "Mongol",
           "CHARACTER"
          ],
          [
           "Tartars",
           "CHARACTER"
          ],
          [
           "Mongol chief",
           "CHARACTER"
          ],
          [
           "daughter of the Tartar leader",
           "CHARACTER"
          ],
          [
           "traitor",
           "CHARACTER"
          ],
          [
           "gambler",
           "CHARACTER"
          ],
          [
           "outlaws",
           "CHARACTER"
          ],
          [
           "popular dance hall girl",
           "CHARACTER"
          ],
          [
           "gang of outlaws",
           "CHARACTER"
          ],
          [
           "Mormons",
           "CHARACTER"
          ],
          [
           "trickster",
           "CHARACTER"
          ],
          [
           "Master of Back-Stabbing, Cork-Screwing and Dirty-Dealing",
           "CHARACTER"
          ],
          [
           "young man",
           "CHARACTER"
          ],
          [
           "parishioners",
           "CHARACTER"
          ],
          [
           "cousins",
           "CHARACTER"
          ],
          [
           "gypsy",
           "CHARACTER"
          ],
          [
           "siren",
           "CHARACTER"
          ],
          [
           "bandit",
           "CHARACTER"
          ],
          [
           "soldier",
           "CHARACTER"
          ],
          [
           "soldier",
           "CHARACTER"
          ],
          [
           "Carmen's husband",
           "CHARACTER"
          ],
          [
           "cheerleaders",
           "CHARACTER"
          ],
          [
           "men",
           "CHARACTER"
          ],
          [
           "villain",
           "CHARACTER"
          ],
          [
           "psychoanalyst",
           "CHARACTER"
          ],
          [
           "friends",
           "CHARACTER"
          ],
          [
           "killer",
           "CHARACTER"
          ],
          [
           "killer",
           "CHARACTER"
          ],
          [
           "doctor",
           "CHARACTER"
          ],
          [
           "killer",
           "CHARACTER"
          ],
          [
           "killer",
           "CHARACTER"
          ],
          [
           "young family",
           "CHARACTER"
          ],
          [
           "gang",
           "CHARACTER"
          ],
          [
           "doctor",
           "CHARACTER"
          ],
          [
           "physical instructor",
           "CHARACTER"
          ],
          [
           "naval war hero",
           "CHARACTER"
          ],
          [
           "boys",
           "CHARACTER"
          ],
          [
           "Afghani woman",
           "CHARACTER"
          ],
          [
           "Outback farmer",
           "CHARACTER"
          ],
          [
           "twin sisters",
           "CHARACTER"
          ],
          [
           "young Japanese clock repairman",
           "CHARACTER"
          ],
          [
           "Sergeant",
           "CHARACTER"
          ],
          [
           "American fliers",
           "CHARACTER"
          ],
          [
           "Captain",
           "CHARACTER"
          ],
          [
           "guests",
           "CHARACTER"
          ],
          [
           "Americans",
           "CHARACTER"
          ],
          [
           "wife",
           "CHARACTER"
          ],
          [
           "billionaire boss",
           "CHARACTER"
          ],
          [
           "dictator",
           "CHARACTER"
          ],
          [
           "Byron's old college roommate",
           "CHARACTER"
          ],
          [
           "feisty, fast-talking woman",
           "CHARACTER"
          ],
          [
           "part-time Baccarat dealer",
           "CHARACTER"
          ],
          [
           "full-time cabaret dancer",
           "CHARACTER"
          ],
          [
           "mismatched couple",
           "CHARACTER"
          ],
          [
           "It girl",
           "CHARACTER"
          ],
          [
           "small unit of 40 Turkish soldiers",
           "CHARACTER"
          ],
          [
           "Turkish Army",
           "CHARACTER"
          ],
          [
           "Kurdistan Workers' Party",
           "CHARACTER"
          ],
          [
           "Denzimen",
           "CHARACTER"
          ],
          [
           "Vader Clan",
           "CHARACTER"
          ],
          [
           "Vader Clan",
           "CHARACTER"
          ],
          [
           "young people",
           "CHARACTER"
          ],
          [
           "descendants of the Denzi people",
           "CHARACTER"
          ],
          [
           "Vader Clan",
           "CHARACTER"
          ],
          [
           "marshal",
           "CHARACTER"
          ],
          [
           "sweetheart",
           "CHARACTER"
          ],
          [
           "orphan girl",
           "CHARACTER"
          ],
          [
           "regular Bombay potboiler",
           "CHARACTER"
          ],
          [
           "software engineer",
           "CHARACTER"
          ],
          [
           "engineer",
           "CHARACTER"
          ],
          [
           "families",
           "CHARACTER"
          ],
          [
           "friends",
           "CHARACTER"
          ],
          [
           "landlord",
           "CHARACTER"
          ],
          [
           "poor farmers",
           "CHARACTER"
          ],
          [
           "poor peasant",
           "CHARACTER"
          ],
          [
           "prime suspect",
           "CHARACTER"
          ],
          [
           "psychic woman",
           "CHARACTER"
          ],
          [
           "archaeologists",
           "CHARACTER"
          ],
          [
           "werewolf",
           "CHARACTER"
          ],
          [
           "werewolf-mummy",
           "CHARACTER"
          ],
          [
           "Aztec mummy",
           "CHARACTER"
          ],
          [
           "mummies",
           "CHARACTER"
          ],
          [
           "mad scientist",
           "CHARACTER"
          ],
          [
           "psychic",
           "CHARACTER"
          ],
          [
           "Stand-up-comedian",
           "CHARACTER"
          ],
          [
           "girlfriend",
           "CHARACTER"
          ],
          [
           "partner",
           "CHARACTER"
          ],
          [
           "successful 40-year old dentist",
           "CHARACTER"
          ],
          [
           "former beloved",
           "CHARACTER"
          ],
          [
           "reporters",
           "CHARACTER"
          ],
          [
           "girlfriend",
           "CHARACTER"
          ],
          [
           "jewel thief",
           "CHARACTER"
          ],
          [
           "thief",
           "CHARACTER"
          ],
          [
           "best friends",
           "CHARACTER"
          ],
          [
           "authors",
           "CHARACTER"
          ],
          [
           "famous heterosexual author",
           "CHARACTER"
          ],
          [
           "all-female writers",
           "CHARACTER"
          ],
          [
           "Claire's roommate",
           "CHARACTER"
          ],
          [
           "author of a book",
           "CHARACTER"
          ],
          [
           "CID detectives",
           "CHARACTER"
          ],
          [
           "newspaper reporter",
           "CHARACTER"
          ],
          [
           "vicious hit man",
           "CHARACTER"
          ],
          [
           "owner",
           "CHARACTER"
          ],
          [
           "lover",
           "CHARACTER"
          ],
          [
           "mentally retarded servant boy",
           "CHARACTER"
          ],
          [
           "lodge owner",
           "CHARACTER"
          ],
          [
           "inebriated Sait",
           "CHARACTER"
          ],
          [
           "Sait",
           "CHARACTER"
          ],
          [
           "woman lodger",
           "CHARACTER"
          ],
          [
           "head cook",
           "CHARACTER"
          ],
          [
           "French diplomat",
           "CHARACTER"
          ],
          [
           "Chinese opera performer",
           "CHARACTER"
          ],
          [
           "Government of the People's Republic of China",
           "CHARACTER"
          ],
          [
           "men",
           "CHARACTER"
          ],
          [
           "mentally handicapped woman",
           "CHARACTER"
          ],
          [
           "lazy husband",
           "CHARACTER"
          ],
          [
           "husband",
           "CHARACTER"
          ],
          [
           "another woman",
           "CHARACTER"
          ],
          [
           "another man",
           "CHARACTER"
          ],
          [
           "doctor",
           "CHARACTER"
          ],
          [
           "human subjects",
           "CHARACTER"
          ],
          [
           "famed concert pianist",
           "CHARACTER"
          ],
          [
           "musician's pretty daughter",
           "CHARACTER"
          ],
          [
           "father",
           "CHARACTER"
          ],
          [
           "mother",
           "CHARACTER"
          ],
          [
           "aspiring writer",
           "CHARACTER"
          ],
          [
           "high school student",
           "CHARACTER"
          ],
          [
           "recovering alcoholic",
           "CHARACTER"
          ],
          [
           "Paige's brother",
           "CHARACTER"
          ],
          [
           "gigolo",
           "CHARACTER"
          ],
          [
           "actor",
           "CHARACTER"
          ],
          [
           "lover",
           "CHARACTER"
          ],
          [
           "director",
           "CHARACTER"
          ],
          [
           "rich man's daughter",
           "CHARACTER"
          ],
          [
           "unknown person",
           "CHARACTER"
          ],
          [
           "letter sender",
           "CHARACTER"
          ],
          [
           "parents",
           "CHARACTER"
          ],
          [
           "neighbour",
           "CHARACTER"
          ],
          [
           "little boy",
           "CHARACTER"
          ],
          [
           "Master Vijay",
           "CHARACTER"
          ],
          [
           "happily married couple",
           "CHARACTER"
          ],
          [
           "teenage daughter",
           "CHARACTER"
          ],
          [
           "anonymous lover",
           "CHARACTER"
          ],
          [
           "college girl",
           "CHARACTER"
          ],
          [
           "young woman",
           "CHARACTER"
          ],
          [
           "uncle",
           "CHARACTER"
          ],
          [
           "cousin",
           "CHARACTER"
          ],
          [
           "men",
           "CHARACTER"
          ],
          [
           "film's protagonist",
           "CHARACTER"
          ],
          [
           "aunt's family",
           "CHARACTER"
          ],
          [
           "vampire family",
           "CHARACTER"
          ],
          [
           "ancient vampire clan",
           "CHARACTER"
          ],
          [
           "man",
           "CHARACTER"
          ],
          [
           "wife",
           "CHARACTER"
          ],
          [
           "woman",
           "CHARACTER"
          ],
          [
           "happy elderly couple",
           "CHARACTER"
          ],
          [
           "happy family",
           "CHARACTER"
          ],
          [
           "soulmate",
           "CHARACTER"
          ],
          [
           "elderly couple",
           "CHARACTER"
          ],
          [
           "boxer",
           "CHARACTER"
          ],
          [
           "sister",
           "CHARACTER"
          ],
          [
           "daughter",
           "CHARACTER"
          ],
          [
           "sister",
           "CHARACTER"
          ],
          [
           "wayward son",
           "CHARACTER"
          ],
          [
           "real estate tycoon",
           "CHARACTER"
          ],
          [
           "danger",
           "CHARACTER"
          ],
          [
           "director",
           "CHARACTER"
          ],
          [
           "son",
           "CHARACTER"
          ],
          [
           "families",
           "CHARACTER"
          ],
          [
           "gangster",
           "CHARACTER"
          ],
          [
           "American cop",
           "CHARACTER"
          ],
          [
           "gang of sociopathic teenagers",
           "CHARACTER"
          ],
          [
           "imaginary character",
           "CHARACTER"
          ],
          [
           "host",
           "CHARACTER"
          ],
          [
           "other people",
           "CHARACTER"
          ],
          [
           "pop singer",
           "CHARACTER"
          ],
          [
           "all men",
           "CHARACTER"
          ],
          [
           "crime reporter",
           "CHARACTER"
          ],
          [
           "girlfriend",
           "CHARACTER"
          ],
          [
           "fashion reporter",
           "CHARACTER"
          ],
          [
           "ghost of his dead mother",
           "CHARACTER"
          ],
          [
           "brother’s wife",
           "CHARACTER"
          ],
          [
           "man",
           "CHARACTER"
          ],
          [
           "family",
           "CHARACTER"
          ],
          [
           "Massachusetts boy",
           "CHARACTER"
          ],
          [
           "Parisian chorus girl",
           "CHARACTER"
          ],
          [
           "Andrew's snobbish mother",
           "CHARACTER"
          ],
          [
           "friends",
           "CHARACTER"
          ],
          [
           "student",
           "CHARACTER"
          ],
          [
           "engineering students",
           "CHARACTER"
          ],
          [
           "poor family",
           "CHARACTER"
          ],
          [
           "hitman",
           "CHARACTER"
          ],
          [
           "yoga teacher",
           "CHARACTER"
          ],
          [
           "mob bookie",
           "CHARACTER"
          ],
          [
           "seasoned killer",
           "CHARACTER"
          ],
          [
           "marksman",
           "CHARACTER"
          ],
          [
           "mistress",
           "CHARACTER"
          ],
          [
           "burglar",
           "CHARACTER"
          ],
          [
           "Edgar's wealthy wife",
           "CHARACTER"
          ],
          [
           "prime suspect",
           "CHARACTER"
          ],
          [
           "plumber",
           "CHARACTER"
          ],
          [
           "dad",
           "CHARACTER"
          ],
          [
           "widow",
           "CHARACTER"
          ],
          [
           "handyman",
           "CHARACTER"
          ],
          [
           "dangerous schizophrenic",
           "CHARACTER"
          ],
          [
           "men",
           "CHARACTER"
          ],
          [
           "actress",
           "CHARACTER"
          ],
          [
           "suitor",
           "CHARACTER"
          ],
          [
           "poor French country girl",
           "CHARACTER"
          ],
          [
           "poor but passionate young soldier",
           "CHARACTER"
          ],
          [
           "wealthy middle-aged Paris producer",
           "CHARACTER"
          ],
          [
           "bartender",
           "CHARACTER"
          ],
          [
           "husband",
           "CHARACTER"
          ],
          [
           "young Jersey City man",
           "CHARACTER"
          ],
          [
           "aspiring singer",
           "CHARACTER"
          ],
          [
           "father",
           "CHARACTER"
          ],
          [
           "lover",
           "CHARACTER"
          ],
          [
           "nun",
           "CHARACTER"
          ],
          [
           "lieutenant",
           "CHARACTER"
          ],
          [
           "lieutenant",
           "CHARACTER"
          ],
          [
           "Italian aristocrat",
           "CHARACTER"
          ],
          [
           "potential husband",
           "CHARACTER"
          ],
          [
           "handsome army lieutenant",
           "CHARACTER"
          ],
          [
           "politician",
           "CHARACTER"
          ],
          [
           "Bumbling cop",
           "CHARACTER"
          ],
          [
           "bunch of loonies",
           "CHARACTER"
          ],
          [
           "crazy mafia don",
           "CHARACTER"
          ],
          [
           "weird taxi driver",
           "CHARACTER"
          ],
          [
           "hysterical boss",
           "CHARACTER"
          ],
          [
           "pretty damsel in distress",
           "CHARACTER"
          ],
          [
           "smart international smuggler on the run",
           "CHARACTER"
          ],
          [
           "fearless Assistant Commissioner",
           "CHARACTER"
          ],
          [
           "mother",
           "CHARACTER"
          ],
          [
           "father",
           "CHARACTER"
          ],
          [
           "Krishna’s mother",
           "CHARACTER"
          ],
          [
           "father’",
           "CHARACTER"
          ],
          [
           "widowed helpless mother",
           "CHARACTER"
          ],
          [
           "kidnappers",
           "CHARACTER"
          ],
          [
           "kidnapped Wall Street Journal reporter",
           "CHARACTER"
          ],
          [
           "supporters of Omar Sheikh",
           "CHARACTER"
          ],
          [
           "Pakistan's Security Forces",
           "CHARACTER"
          ],
          [
           "Department of Justice",
           "CHARACTER"
          ],
          [
           "U.S. Department of State's Diplomatic Security Service",
           "CHARACTER"
          ],
          [
           "wizard",
           "CHARACTER"
          ],
          [
           "princess love",
           "CHARACTER"
          ],
          [
           "bartender",
           "CHARACTER"
          ],
          [
           "clients",
           "CHARACTER"
          ],
          [
           "boxer",
           "CHARACTER"
          ],
          [
           "wife",
           "CHARACTER"
          ],
          [
           "manager",
           "CHARACTER"
          ],
          [
           "extortionist",
           "CHARACTER"
          ],
          [
           "girlfriend",
           "CHARACTER"
          ],
          [
           "man",
           "CHARACTER"
          ],
          [
           "escaping killers",
           "CHARACTER"
          ],
          [
           "patrons",
           "CHARACTER"
          ],
          [
           "nervous singer",
           "CHARACTER"
          ],
          [
           "man",
           "CHARACTER"
          ],
          [
           "guest house owner",
           "CHARACTER"
          ],
          [
           "Inventor",
           "CHARACTER"
          ],
          [
           "engineer",
           "CHARACTER"
          ],
          [
           "partner",
           "CHARACTER"
          ],
          [
           "real killers",
           "CHARACTER"
          ],
          [
           "Czech-American screenwriter",
           "CHARACTER"
          ],
          [
           "young sculptor",
           "CHARACTER"
          ],
          [
           "poverty-stricken girl",
           "CHARACTER"
          ],
          [
           "doctor",
           "CHARACTER"
          ],
          [
           "doctor",
           "CHARACTER"
          ],
          [
           "travelling circus trainer",
           "CHARACTER"
          ],
          [
           "citizens",
           "CHARACTER"
          ],
          [
           "European Grand Duchess",
           "CHARACTER"
          ],
          [
           "New York journalist",
           "CHARACTER"
          ],
          [
           "libidinous basketball star",
           "CHARACTER"
          ],
          [
           "favorite professor's wife",
           "CHARACTER"
          ],
          [
           "dad",
           "CHARACTER"
          ],
          [
           "Struggling young actress",
           "CHARACTER"
          ],
          [
           "aspiring songwriter",
           "CHARACTER"
          ],
          [
           "jealous star actress",
           "CHARACTER"
          ],
          [
           "young lovers",
           "CHARACTER"
          ],
          [
           "students",
           "CHARACTER"
          ],
          [
           "students",
           "CHARACTER"
          ],
          [
           "club's adviser",
           "CHARACTER"
          ],
          [
           "newly appointed adviser",
           "CHARACTER"
          ],
          [
           "sailor",
           "CHARACTER"
          ],
          [
           "girls",
           "CHARACTER"
          ],
          [
           "sailor",
           "CHARACTER"
          ],
          [
           "friends",
           "CHARACTER"
          ],
          [
           "high diver",
           "CHARACTER"
          ],
          [
           "characters",
           "CHARACTER"
          ],
          [
           "writer",
           "CHARACTER"
          ],
          [
           "writer",
           "CHARACTER"
          ],
          [
           "sister",
           "CHARACTER"
          ],
          [
           "daughters of a fisherman",
           "CHARACTER"
          ],
          [
           "lowly fisher",
           "CHARACTER"
          ],
          [
           "sons",
           "CHARACTER"
          ],
          [
           "cops",
           "CHARACTER"
          ],
          [
           "bank robbers",
           "CHARACTER"
          ],
          [
           "family",
           "CHARACTER"
          ],
          [
           "White Tiger family",
           "CHARACTER"
          ],
          [
           "lead character",
           "CHARACTER"
          ],
          [
           "cartoonist",
           "CHARACTER"
          ],
          [
           "Indie musician",
           "CHARACTER"
          ],
          [
           "former couple",
           "CHARACTER"
          ],
          [
           "playboy boyfriend",
           "CHARACTER"
          ],
          [
           "new girlfriend",
           "CHARACTER"
          ],
          [
           "former agent",
           "CHARACTER"
          ],
          [
           "senior member of the South Korean security services",
           "CHARACTER"
          ],
          [
           "daughter",
           "CHARACTER"
          ],
          [
           "main protagonists",
           "CHARACTER"
          ],
          [
           "General",
           "CHARACTER"
          ],
          [
           "Texian Army",
           "CHARACTER"
          ],
          [
           "middle-aged cowboy adventurer",
           "CHARACTER"
          ],
          [
           "gorgeous young widows",
           "CHARACTER"
          ],
          [
           "battle-axe mother-in-law",
           "CHARACTER"
          ],
          [
           "friend",
           "CHARACTER"
          ],
          [
           "friend",
           "CHARACTER"
          ],
          [
           "San Francisco earthquake orphan",
           "CHARACTER"
          ],
          [
           "San Francisco plumber",
           "CHARACTER"
          ],
          [
           "American accountant",
           "CHARACTER"
          ],
          [
           "Islamic graduate student",
           "CHARACTER"
          ],
          [
           "scientist",
           "CHARACTER"
          ],
          [
           "Professor",
           "CHARACTER"
          ],
          [
           "boyfriends",
           "CHARACTER"
          ],
          [
           "young female factory workers",
           "CHARACTER"
          ],
          [
           "mineowner",
           "CHARACTER"
          ],
          [
           "daughter",
           "CHARACTER"
          ],
          [
           "fiancé",
           "CHARACTER"
          ],
          [
           "fiancé",
           "CHARACTER"
          ],
          [
           "arrogant girl from the East",
           "CHARACTER"
          ],
          [
           "half-Spanish person",
           "CHARACTER"
          ],
          [
           "cyborgs",
           "CHARACTER"
          ],
          [
           "mad scientists",
           "CHARACTER"
          ],
          [
           "supernatural beings",
           "CHARACTER"
          ],
          [
           "people from around the world",
           "CHARACTER"
          ],
          [
           "Black Ghost organization",
           "CHARACTER"
          ],
          [
           "cyborgs with superhuman powers",
           "CHARACTER"
          ],
          [
           "cyborgs",
           "CHARACTER"
          ],
          [
           "rich buyers",
           "CHARACTER"
          ],
          [
           "man",
           "CHARACTER"
          ],
          [
           "man",
           "CHARACTER"
          ],
          [
           "wife",
           "CHARACTER"
          ],
          [
           "mistress",
           "CHARACTER"
          ],
          [
           "colleague",
           "CHARACTER"
          ],
          [
           "driver",
           "CHARACTER"
          ],
          [
           "retired air hostess",
           "CHARACTER"
          ],
          [
           "pilot",
           "CHARACTER"
          ],
          [
           "Ananthu's family",
           "CHARACTER"
          ],
          [
           "Amala's old friend",
           "CHARACTER"
          ],
          [
           "divorcee",
           "CHARACTER"
          ],
          [
           "musical star",
           "CHARACTER"
          ],
          [
           "Indiana boy",
           "CHARACTER"
          ],
          [
           "family",
           "CHARACTER"
          ],
          [
           "diamond smuggler",
           "CHARACTER"
          ],
          [
           "young beautiful woman",
           "CHARACTER"
          ],
          [
           "wife of newspaper editor",
           "CHARACTER"
          ],
          [
           "highly educated woman",
           "CHARACTER"
          ],
          [
           "young girl",
           "CHARACTER"
          ],
          [
           "spoiled son of the president",
           "CHARACTER"
          ],
          [
           "self-appointed ruler",
           "CHARACTER"
          ],
          [
           "henchmen",
           "CHARACTER"
          ],
          [
           "local Indians",
           "CHARACTER"
          ],
          [
           "daughter of the company President",
           "CHARACTER"
          ],
          [
           "President's assistant",
           "CHARACTER"
          ],
          [
           "sidekicks",
           "CHARACTER"
          ],
          [
           "new settlers",
           "CHARACTER"
          ],
          [
           "new wife",
           "CHARACTER"
          ],
          [
           "busy impresario",
           "CHARACTER"
          ],
          [
           "hordes of wannabe concert stars",
           "CHARACTER"
          ],
          [
           "talented pianist",
           "CHARACTER"
          ],
          [
           "young musicians",
           "CHARACTER"
          ],
          [
           "child prodigy",
           "CHARACTER"
          ],
          [
           "owner of a fledgling magazine",
           "CHARACTER"
          ],
          [
           "parents",
           "CHARACTER"
          ],
          [
           "television repair man",
           "CHARACTER"
          ],
          [
           "high school dropout",
           "CHARACTER"
          ],
          [
           "father",
           "CHARACTER"
          ],
          [
           "mother",
           "CHARACTER"
          ],
          [
           "boyfriend",
           "CHARACTER"
          ],
          [
           "highly educated and extremely moody electronics repairman",
           "CHARACTER"
          ],
          [
           "young misfits",
           "CHARACTER"
          ],
          [
           "one of the applicants",
           "CHARACTER"
          ],
          [
           "one of the contestants",
           "CHARACTER"
          ],
          [
           "Restaurant owner",
           "CHARACTER"
          ],
          [
           "new neighbor",
           "CHARACTER"
          ],
          [
           "French cellist",
           "CHARACTER"
          ],
          [
           "best friend",
           "CHARACTER"
          ],
          [
           "Lila's ex-fiancee",
           "CHARACTER"
          ],
          [
           "auto driver",
           "CHARACTER"
          ],
          [
           "young women",
           "CHARACTER"
          ],
          [
           "powerful politician",
           "CHARACTER"
          ],
          [
           "higher-ups",
           "CHARACTER"
          ],
          [
           "Governor",
           "CHARACTER"
          ],
          [
           "man",
           "CHARACTER"
          ],
          [
           "sister",
           "CHARACTER"
          ],
          [
           "ranch boss",
           "CHARACTER"
          ],
          [
           "man",
           "CHARACTER"
          ],
          [
           "pal",
           "CHARACTER"
          ],
          [
           "father",
           "CHARACTER"
          ],
          [
           "mother",
           "CHARACTER"
          ],
          [
           "maternal uncles",
           "CHARACTER"
          ],
          [
           "villagers",
           "CHARACTER"
          ],
          [
           "rich and powerful persons of the village",
           "CHARACTER"
          ],
          [
           "family",
           "CHARACTER"
          ],
          [
           "Japanese American teenager",
           "CHARACTER"
          ],
          [
           "grandfather",
           "CHARACTER"
          ],
          [
           "ghost of Terri",
           "CHARACTER"
          ],
          [
           "baby sister",
           "CHARACTER"
          ],
          [
           "boyfriend",
           "CHARACTER"
          ],
          [
           "grandfather",
           "CHARACTER"
          ],
          [
           "son",
           "CHARACTER"
          ],
          [
           "young woman",
           "CHARACTER"
          ],
          [
           "dress designer",
           "CHARACTER"
          ],
          [
           "boxer",
           "CHARACTER"
          ],
          [
           "store clerk",
           "CHARACTER"
          ],
          [
           "friend",
           "CHARACTER"
          ],
          [
           "mistress of the palace",
           "CHARACTER"
          ],
          [
           "wife",
           "CHARACTER"
          ],
          [
           "another man",
           "CHARACTER"
          ],
          [
           "Kessler's gardener",
           "CHARACTER"
          ],
          [
           "innocent man",
           "CHARACTER"
          ],
          [
           "twin brother",
           "CHARACTER"
          ],
          [
           "killer",
           "CHARACTER"
          ],
          [
           "brother",
           "CHARACTER"
          ],
          [
           "United States Secret Service Lieutenant",
           "CHARACTER"
          ],
          [
           "partner",
           "CHARACTER"
          ],
          [
           "producer",
           "CHARACTER"
          ],
          [
           "Bryan Foy's brother",
           "CHARACTER"
          ],
          [
           "fellow Secret Service agent",
           "CHARACTER"
          ],
          [
           "leader of the counterfeiting ring",
           "CHARACTER"
          ],
          [
           "love interest",
           "CHARACTER"
          ],
          [
           "Los Angeles' police",
           "CHARACTER"
          ],
          [
           "down-on-her-luck businesswoman-turned-prostitute",
           "CHARACTER"
          ],
          [
           "murderous pimp",
           "CHARACTER"
          ],
          [
           "escaped killer",
           "CHARACTER"
          ],
          [
           "vice squad detective",
           "CHARACTER"
          ],
          [
           "woman",
           "CHARACTER"
          ],
          [
           "college girls",
           "CHARACTER"
          ],
          [
           "naive friend",
           "CHARACTER"
          ],
          [
           "Sarah's uncle",
           "CHARACTER"
          ],
          [
           "assorted misfits",
           "CHARACTER"
          ],
          [
           "delivery persons",
           "CHARACTER"
          ],
          [
           "people just passing by",
           "CHARACTER"
          ],
          [
           "London wife of a wealthy but boring businessman",
           "CHARACTER"
          ],
          [
           "manager",
           "CHARACTER"
          ],
          [
           "young stepdaughter",
           "CHARACTER"
          ],
          [
           "father",
           "CHARACTER"
          ],
          [
           "husband",
           "CHARACTER"
          ],
          [
           "Professional hunter",
           "CHARACTER"
          ],
          [
           "people",
           "CHARACTER"
          ],
          [
           "wife",
           "CHARACTER"
          ],
          [
           "Harry's first wife",
           "CHARACTER"
          ],
          [
           "honest police office",
           "CHARACTER"
          ],
          [
           "drunkard",
           "CHARACTER"
          ],
          [
           "couple",
           "CHARACTER"
          ],
          [
           "kids",
           "CHARACTER"
          ],
          [
           "friend",
           "CHARACTER"
          ],
          [
           "kids",
           "CHARACTER"
          ],
          [
           "different families",
           "CHARACTER"
          ],
          [
           "California gubernatorial candidate",
           "CHARACTER"
          ],
          [
           "opponent",
           "CHARACTER"
          ],
          [
           "unemployed veteran",
           "CHARACTER"
          ],
          [
           "dockworker",
           "CHARACTER"
          ],
          [
           "lawyer",
           "CHARACTER"
          ],
          [
           "wife",
           "CHARACTER"
          ],
          [
           "12-year old young boy",
           "CHARACTER"
          ],
          [
           "relatives",
           "CHARACTER"
          ],
          [
           "parents",
           "CHARACTER"
          ],
          [
           "dying boy",
           "CHARACTER"
          ],
          [
           "poor woman",
           "CHARACTER"
          ],
          [
           "vegetative husband",
           "CHARACTER"
          ],
          [
           "man",
           "CHARACTER"
          ],
          [
           "fiancée",
           "CHARACTER"
          ],
          [
           "fiancée",
           "CHARACTER"
          ],
          [
           "African natives",
           "CHARACTER"
          ],
          [
           "baker",
           "CHARACTER"
          ],
          [
           "chef",
           "CHARACTER"
          ],
          [
           "customers",
           "CHARACTER"
          ],
          [
           "simple handyman",
           "CHARACTER"
          ],
          [
           "amateur artist",
           "CHARACTER"
          ],
          [
           "prominent local females",
           "CHARACTER"
          ],
          [
           "college student",
           "CHARACTER"
          ],
          [
           "ruthless and dishonest police officer",
           "CHARACTER"
          ],
          [
           "gang of thieves",
           "CHARACTER"
          ],
          [
           "siblings",
           "CHARACTER"
          ],
          [
           "children",
           "CHARACTER"
          ],
          [
           "group of ghosts",
           "CHARACTER"
          ],
          [
           "history professor",
           "CHARACTER"
          ],
          [
           "child",
           "CHARACTER"
          ],
          [
           "grown up",
           "CHARACTER"
          ],
          [
           "son",
           "CHARACTER"
          ],
          [
           "man",
           "CHARACTER"
          ],
          [
           "blind detective",
           "CHARACTER"
          ],
          [
           "wealthy father",
           "CHARACTER"
          ],
          [
           "uncle",
           "CHARACTER"
          ],
          [
           "Jean's fiance",
           "CHARACTER"
          ],
          [
           "bodyguard",
           "CHARACTER"
          ],
          [
           "family lawyer",
           "CHARACTER"
          ],
          [
           "detective",
           "CHARACTER"
          ],
          [
           "best man",
           "CHARACTER"
          ],
          [
           "siblings",
           "CHARACTER"
          ],
          [
           "mother",
           "CHARACTER"
          ],
          [
           "sister",
           "CHARACTER"
          ],
          [
           "taxi-driver",
           "CHARACTER"
          ],
          [
           "sister",
           "CHARACTER"
          ],
          [
           "postman",
           "CHARACTER"
          ],
          [
           "childhood lover",
           "CHARACTER"
          ],
          [
           "daughter of the corrupt politician",
           "CHARACTER"
          ],
          [
           "brother",
           "CHARACTER"
          ],
          [
           "young girls",
           "CHARACTER"
          ],
          [
           "Lakshmi's brother",
           "CHARACTER"
          ],
          [
           "officer",
           "CHARACTER"
          ],
          [
           "inmates",
           "CHARACTER"
          ],
          [
           "inmate",
           "CHARACTER"
          ],
          [
           "wanted criminal",
           "CHARACTER"
          ],
          [
           "Police",
           "CHARACTER"
          ],
          [
           "girl",
           "CHARACTER"
          ],
          [
           "wife",
           "CHARACTER"
          ],
          [
           "another man",
           "CHARACTER"
          ],
          [
           "American",
           "CHARACTER"
          ],
          [
           "roommate",
           "CHARACTER"
          ],
          [
           "Japanese American",
           "CHARACTER"
          ],
          [
           "sumo wrestler",
           "CHARACTER"
          ],
          [
           "teenage boys",
           "CHARACTER"
          ],
          [
           "mysterious American fugitive",
           "CHARACTER"
          ],
          [
           "cop on the run",
           "CHARACTER"
          ],
          [
           "corrupt colleagues",
           "CHARACTER"
          ],
          [
           "buddy",
           "CHARACTER"
          ],
          [
           "confidante",
           "CHARACTER"
          ],
          [
           "boys",
           "CHARACTER"
          ],
          [
           "American fight promoters",
           "CHARACTER"
          ],
          [
           "brother",
           "CHARACTER"
          ],
          [
           "champion fighter",
           "CHARACTER"
          ],
          [
           "brother",
           "CHARACTER"
          ],
          [
           "fighter",
           "CHARACTER"
          ],
          [
           "reigning champion",
           "CHARACTER"
          ],
          [
           "inseparable friends",
           "CHARACTER"
          ],
          [
           "American fight promoters",
           "CHARACTER"
          ],
          [
           "Officers",
           "CHARACTER"
          ],
          [
           "attractive female guests",
           "CHARACTER"
          ],
          [
           "women",
           "CHARACTER"
          ],
          [
           "girls",
           "CHARACTER"
          ],
          [
           "admiral",
           "CHARACTER"
          ],
          [
           "evil politician",
           "CHARACTER"
          ],
          [
           "junior minister",
           "CHARACTER"
          ],
          [
           "chief minister",
           "CHARACTER"
          ],
          [
           "hired killer",
           "CHARACTER"
          ],
          [
           "chief minister",
           "CHARACTER"
          ],
          [
           "killer",
           "CHARACTER"
          ],
          [
           "idealistic dedicated police chief",
           "CHARACTER"
          ],
          [
           "killer",
           "CHARACTER"
          ],
          [
           "physically challenged girl",
           "CHARACTER"
          ],
          [
           "killer",
           "CHARACTER"
          ],
          [
           "hostage",
           "CHARACTER"
          ],
          [
           "killer",
           "CHARACTER"
          ],
          [
           "killer",
           "CHARACTER"
          ],
          [
           "critics",
           "CHARACTER"
          ],
          [
           "average student",
           "CHARACTER"
          ],
          [
           "bullied teen chef",
           "CHARACTER"
          ],
          [
           "grandmother",
           "CHARACTER"
          ],
          [
           "worst bully",
           "CHARACTER"
          ],
          [
           "new friend",
           "CHARACTER"
          ],
          [
           "contest teammate",
           "CHARACTER"
          ],
          [
           "Matt's brother",
           "CHARACTER"
          ],
          [
           "lead actors",
           "CHARACTER"
          ],
          [
           "original writers",
           "CHARACTER"
          ],
          [
           "director",
           "CHARACTER"
          ],
          [
           "honest lawyer",
           "CHARACTER"
          ],
          [
           "simple village girl",
           "CHARACTER"
          ],
          [
           "father",
           "CHARACTER"
          ],
          [
           "Gopal's mother",
           "CHARACTER"
          ],
          [
           "mother",
           "CHARACTER"
          ],
          [
           "supposed grandfather",
           "CHARACTER"
          ],
          [
           "genuine grandpa",
           "CHARACTER"
          ],
          [
           "men",
           "CHARACTER"
          ],
          [
           "Bridget's grandmother",
           "CHARACTER"
          ],
          [
           "child",
           "CHARACTER"
          ],
          [
           "veteran of World War II",
           "CHARACTER"
          ],
          [
           "M/Sgt",
           "CHARACTER"
          ],
          [
           "Sgt.",
           "CHARACTER"
          ],
          [
           "Red Cross nurse",
           "CHARACTER"
          ],
          [
           "Marine combat photographers",
           "CHARACTER"
          ],
          [
           "18th Army of the People's Liberation Army",
           "CHARACTER"
          ],
          [
           "slaves",
           "CHARACTER"
          ],
          [
           "younger brother",
           "CHARACTER"
          ],
          [
           "fiercely independent mother",
           "CHARACTER"
          ],
          [
           "soulful singer",
           "CHARACTER"
          ],
          [
           "Uncle",
           "CHARACTER"
          ],
          [
           "Rambha's father",
           "CHARACTER"
          ],
          [
           "girl",
           "CHARACTER"
          ],
          [
           "child",
           "CHARACTER"
          ],
          [
           "lower-class Moscow high school girlfriends",
           "CHARACTER"
          ],
          [
           "May’s older married cousin",
           "CHARACTER"
          ],
          [
           "Countess",
           "CHARACTER"
          ],
          [
           "husband’s lover",
           "CHARACTER"
          ],
          [
           "child",
           "CHARACTER"
          ],
          [
           "husband",
           "CHARACTER"
          ],
          [
           "wife",
           "CHARACTER"
          ],
          [
           "local married sheriff",
           "CHARACTER"
          ],
          [
           "son",
           "CHARACTER"
          ],
          [
           "protector",
           "CHARACTER"
          ],
          [
           "father",
           "CHARACTER"
          ],
          [
           "Tipton's daughter",
           "CHARACTER"
          ],
          [
           "wife",
           "CHARACTER"
          ],
          [
           "alcoholic",
           "CHARACTER"
          ],
          [
           "young IT professional",
           "CHARACTER"
          ],
          [
           "lead pair",
           "CHARACTER"
          ],
          [
           "married couple",
           "CHARACTER"
          ],
          [
           "character",
           "CHARACTER"
          ],
          [
           "domineering mother-in-law",
           "CHARACTER"
          ],
          [
           "hitman from Cleveland",
           "CHARACTER"
          ],
          [
           "middle-management mobster",
           "CHARACTER"
          ],
          [
           "rat-loving dealer",
           "CHARACTER"
          ],
          [
           "former friend from the orphanage",
           "CHARACTER"
          ],
          [
           "man",
           "CHARACTER"
          ],
          [
           "Armed Forces of the Philippines",
           "CHARACTER"
          ],
          [
           "young British schoolmaster",
           "CHARACTER"
          ],
          [
           "British consular officer",
           "CHARACTER"
          ],
          [
           "wife of an Egyptian banker",
           "CHARACTER"
          ],
          [
           "British",
           "CHARACTER"
          ],
          [
           "bogus insurance investigator",
           "CHARACTER"
          ],
          [
           "urbane, but ruthless, thief",
           "CHARACTER"
          ],
          [
           "fastidious bank manager",
           "CHARACTER"
          ],
          [
           "merchant's son",
           "CHARACTER"
          ],
          [
           "young bride",
           "CHARACTER"
          ],
          [
           "ghost",
           "CHARACTER"
          ],
          [
           "ghost",
           "CHARACTER"
          ],
          [
           "husband",
           "CHARACTER"
          ],
          [
           "husband",
           "CHARACTER"
          ],
          [
           "father",
           "CHARACTER"
          ],
          [
           "girl",
           "CHARACTER"
          ],
          [
           "wife's underaged sister",
           "CHARACTER"
          ],
          [
           "NRI couple",
           "CHARACTER"
          ],
          [
           "biological child",
           "CHARACTER"
          ],
          [
           "couple",
           "CHARACTER"
          ],
          [
           "Indian and American guests",
           "CHARACTER"
          ],
          [
           "stowaways",
           "CHARACTER"
          ],
          [
           "pair of feuding gangsters",
           "CHARACTER"
          ],
          [
           "ship's crew",
           "CHARACTER"
          ],
          [
           "Brothers",
           "CHARACTER"
          ],
          [
           "Brothers' characters",
           "CHARACTER"
          ],
          [
           "stowaways",
           "CHARACTER"
          ],
          [
           "gangsters",
           "CHARACTER"
          ],
          [
           "daughter",
           "CHARACTER"
          ],
          [
           "brothers",
           "CHARACTER"
          ],
          [
           "young and rich doctor",
           "CHARACTER"
          ],
          [
           "housemaid",
           "CHARACTER"
          ],
          [
           "mother",
           "CHARACTER"
          ],
          [
           "housemaid",
           "CHARACTER"
          ],
          [
           "Kumar's sister",
           "CHARACTER"
          ],
          [
           "Kumar's friend",
           "CHARACTER"
          ],
          [
           "actor",
           "CHARACTER"
          ],
          [
           "Another person",
           "CHARACTER"
          ],
          [
           "actor",
           "CHARACTER"
          ],
          [
           "actor",
           "CHARACTER"
          ],
          [
           "young gay man",
           "CHARACTER"
          ],
          [
           "widowed mother",
           "CHARACTER"
          ],
          [
           "boyfriend",
           "CHARACTER"
          ],
          [
           "imaginary friend",
           "CHARACTER"
          ],
          [
           "guardian angel",
           "CHARACTER"
          ],
          [
           "ghost friend",
           "CHARACTER"
          ],
          [
           "supervisor",
           "CHARACTER"
          ],
          [
           "new husband",
           "CHARACTER"
          ],
          [
           "Convict",
           "CHARACTER"
          ],
          [
           "leader of a large-scale prison break",
           "CHARACTER"
          ],
          [
           "survivors",
           "CHARACTER"
          ],
          [
           "convicts",
           "CHARACTER"
          ],
          [
           "doomed prisoners",
           "CHARACTER"
          ],
          [
           "locals",
           "CHARACTER"
          ],
          [
           "farm woman",
           "CHARACTER"
          ],
          [
           "kidnapped doctor",
           "CHARACTER"
          ],
          [
           "young woman",
           "CHARACTER"
          ],
          [
           "U.S. marshal",
           "CHARACTER"
          ],
          [
           "sheriff",
           "CHARACTER"
          ],
          [
           "marshal's wife",
           "CHARACTER"
          ],
          [
           "outlaws",
           "CHARACTER"
          ],
          [
           "new teacher",
           "CHARACTER"
          ],
          [
           "conservative school board",
           "CHARACTER"
          ],
          [
           "chauvinistic principal",
           "CHARACTER"
          ],
          [
           "students",
           "CHARACTER"
          ],
          [
           "teacher",
           "CHARACTER"
          ],
          [
           "teacher",
           "CHARACTER"
          ],
          [
           "doctor",
           "CHARACTER"
          ],
          [
           "fellow graduate",
           "CHARACTER"
          ],
          [
           "crow",
           "CHARACTER"
          ],
          [
           "birds",
           "CHARACTER"
          ],
          [
           "hero",
           "CHARACTER"
          ],
          [
           "cab driver",
           "CHARACTER"
          ],
          [
           "town's inhabitants",
           "CHARACTER"
          ],
          [
           "naive young woman",
           "CHARACTER"
          ],
          [
           "father",
           "CHARACTER"
          ],
          [
           "university Latin professor",
           "CHARACTER"
          ],
          [
           "liberal-minded banker",
           "CHARACTER"
          ],
          [
           "intellectual",
           "CHARACTER"
          ],
          [
           "poet",
           "CHARACTER"
          ],
          [
           "boys",
           "CHARACTER"
          ],
          [
           "vegetable vendor",
           "CHARACTER"
          ],
          [
           "policeman",
           "CHARACTER"
          ],
          [
           "driver",
           "CHARACTER"
          ],
          [
           "owner",
           "CHARACTER"
          ],
          [
           "drivers of the rival company",
           "CHARACTER"
          ],
          [
           "gang",
           "CHARACTER"
          ],
          [
           "owner",
           "CHARACTER"
          ],
          [
           "motorious outlaw",
           "CHARACTER"
          ],
          [
           "vicious gang",
           "CHARACTER"
          ],
          [
           "Blacklegs",
           "CHARACTER"
          ],
          [
           "men",
           "CHARACTER"
          ],
          [
           "girls",
           "CHARACTER"
          ],
          [
           "locals",
           "CHARACTER"
          ],
          [
           "Blacklegs",
           "CHARACTER"
          ],
          [
           "governor of Kentucky",
           "CHARACTER"
          ],
          [
           "man",
           "CHARACTER"
          ],
          [
           "former Confederate officer",
           "CHARACTER"
          ],
          [
           "Chief Counsellor",
           "CHARACTER"
          ],
          [
           "UAOH officers",
           "CHARACTER"
          ],
          [
           "team of the United Airforce's finest pilots",
           "CHARACTER"
          ],
          [
           "Ohrangers",
           "CHARACTER"
          ],
          [
           "Maurya Emperor",
           "CHARACTER"
          ],
          [
           "middle class Malayali family",
           "CHARACTER"
          ],
          [
           "prosecutor",
           "CHARACTER"
          ],
          [
           "culprit",
           "CHARACTER"
          ],
          [
           "mother",
           "CHARACTER"
          ],
          [
           "Jin-hong's deceased mother",
           "CHARACTER"
          ],
          [
           "victims of unsolved murders",
           "CHARACTER"
          ],
          [
           "secret agents",
           "CHARACTER"
          ],
          [
           "prime suspect",
           "CHARACTER"
          ],
          [
           "mother",
           "CHARACTER"
          ],
          [
           "Mississippi writer",
           "CHARACTER"
          ],
          [
           "main character",
           "CHARACTER"
          ],
          [
           "unsuccessful alcoholic writer",
           "CHARACTER"
          ],
          [
           "estranged wife",
           "CHARACTER"
          ],
          [
           "Vietnam War buddy",
           "CHARACTER"
          ],
          [
           "close friend",
           "CHARACTER"
          ],
          [
           "daughter",
           "CHARACTER"
          ],
          [
           "group of friends",
           "CHARACTER"
          ],
          [
           "Bobby's mother",
           "CHARACTER"
          ],
          [
           "man",
           "CHARACTER"
          ],
          [
           "husband",
           "CHARACTER"
          ],
          [
           "mother",
           "CHARACTER"
          ],
          [
           "beloved father",
           "CHARACTER"
          ],
          [
           "father",
           "CHARACTER"
          ],
          [
           "employee of a medical company",
           "CHARACTER"
          ],
          [
           "women",
           "CHARACTER"
          ],
          [
           "men",
           "CHARACTER"
          ],
          [
           "men",
           "CHARACTER"
          ],
          [
           "businessman",
           "CHARACTER"
          ],
          [
           "Police Commissioner",
           "CHARACTER"
          ],
          [
           "Chief Minister",
           "CHARACTER"
          ],
          [
           "husband",
           "CHARACTER"
          ],
          [
           "lecherous boss",
           "CHARACTER"
          ],
          [
           "old gangster",
           "CHARACTER"
          ],
          [
           "dirty cops",
           "CHARACTER"
          ],
          [
           "dirty cops",
           "CHARACTER"
          ],
          [
           "thug",
           "CHARACTER"
          ],
          [
           "friends",
           "CHARACTER"
          ],
          [
           "crooked cop",
           "CHARACTER"
          ],
          [
           "thug",
           "CHARACTER"
          ],
          [
           "ex-con",
           "CHARACTER"
          ],
          [
           "graduate",
           "CHARACTER"
          ],
          [
           "Indian Army",
           "CHARACTER"
          ],
          [
           "romantic interest",
           "CHARACTER"
          ],
          [
           "Indian Army",
           "CHARACTER"
          ],
          [
           "Rogers family",
           "CHARACTER"
          ],
          [
           "wealthy young man",
           "CHARACTER"
          ],
          [
           "young man's grasping cousin",
           "CHARACTER"
          ],
          [
           "young man",
           "CHARACTER"
          ],
          [
           "Rogers eldest daughter",
           "CHARACTER"
          ],
          [
           "young man",
           "CHARACTER"
          ],
          [
           "prison officer",
           "CHARACTER"
          ],
          [
           "good man",
           "CHARACTER"
          ],
          [
           "evil living dead girl",
           "CHARACTER"
          ],
          [
           "friends",
           "CHARACTER"
          ],
          [
           "other girls",
           "CHARACTER"
          ],
          [
           "boy",
           "CHARACTER"
          ],
          [
           "living dead friend",
           "CHARACTER"
          ],
          [
           "mysterious kille",
           "CHARACTER"
          ],
          [
           "Detective",
           "CHARACTER"
          ],
          [
           "men",
           "CHARACTER"
          ],
          [
           "Police",
           "CHARACTER"
          ],
          [
           "killer",
           "CHARACTER"
          ],
          [
           "middle-aged man",
           "CHARACTER"
          ],
          [
           "genius sculptor",
           "CHARACTER"
          ],
          [
           "wife",
           "CHARACTER"
          ],
          [
           "beloved husband",
           "CHARACTER"
          ],
          [
           "model",
           "CHARACTER"
          ],
          [
           "girlfriend",
           "CHARACTER"
          ],
          [
           "barbaric tribe",
           "CHARACTER"
          ],
          [
           "family",
           "CHARACTER"
          ],
          [
           "family",
           "CHARACTER"
          ],
          [
           "fairy",
           "CHARACTER"
          ],
          [
           "environmental activist",
           "CHARACTER"
          ],
          [
           "minions",
           "CHARACTER"
          ],
          [
           "octopus-looking enemies",
           "CHARACTER"
          ],
          [
           "barbarian tribe",
           "CHARACTER"
          ],
          [
           "monsters",
           "CHARACTER"
          ],
          [
           "men",
           "CHARACTER"
          ],
          [
           "wives",
           "CHARACTER"
          ],
          [
           "young filmmaker",
           "CHARACTER"
          ],
          [
           "orphan",
           "CHARACTER"
          ],
          [
           "loving family",
           "CHARACTER"
          ],
          [
           "naked cameraman",
           "CHARACTER"
          ],
          [
           "prospective settler",
           "CHARACTER"
          ],
          [
           "pioneer",
           "CHARACTER"
          ],
          [
           "hired guns",
           "CHARACTER"
          ],
          [
           "saloonkeeper",
           "CHARACTER"
          ],
          [
           "prospective land baron",
           "CHARACTER"
          ],
          [
           "insurance investigator",
           "CHARACTER"
          ],
          [
           "dead man's daughter",
           "CHARACTER"
          ],
          [
           "Rancher's daughter",
           "CHARACTER"
          ],
          [
           "men",
           "CHARACTER"
          ],
          [
           "British female mercenary",
           "CHARACTER"
          ],
          [
           "wealthy businessman",
           "CHARACTER"
          ],
          [
           "sexy women",
           "CHARACTER"
          ],
          [
           "Russian general",
           "CHARACTER"
          ],
          [
           "CIA agent",
           "CHARACTER"
          ],
          [
           "Russians",
           "CHARACTER"
          ],
          [
           "secret agents",
           "CHARACTER"
          ],
          [
           "Russian spy-catcher",
           "CHARACTER"
          ],
          [
           "Small-fry marijuana harvesters",
           "CHARACTER"
          ],
          [
           "silent partners",
           "CHARACTER"
          ],
          [
           "Mafia",
           "CHARACTER"
          ],
          [
           "police",
           "CHARACTER"
          ],
          [
           "other meddlers",
           "CHARACTER"
          ],
          [
           "headman Gad's son",
           "CHARACTER"
          ],
          [
           "Mayor",
           "CHARACTER"
          ],
          [
           "thieves",
           "CHARACTER"
          ],
          [
           "wealthy Jewish couple",
           "CHARACTER"
          ],
          [
           "mother",
           "CHARACTER"
          ],
          [
           "various moving company employees",
           "CHARACTER"
          ],
          [
           "King’s wife",
           "CHARACTER"
          ],
          [
           "Jewish woman",
           "CHARACTER"
          ],
          [
           "recently widowed King",
           "CHARACTER"
          ],
          [
           "king",
           "CHARACTER"
          ],
          [
           "Jews",
           "CHARACTER"
          ],
          [
           "evil minister",
           "CHARACTER"
          ],
          [
           "King",
           "CHARACTER"
          ],
          [
           "attractive woman",
           "CHARACTER"
          ],
          [
           "young German journalist",
           "CHARACTER"
          ],
          [
           "au-pair girls",
           "CHARACTER"
          ],
          [
           "friends",
           "CHARACTER"
          ],
          [
           "teenage daughter",
           "CHARACTER"
          ],
          [
           "individuals",
           "CHARACTER"
          ],
          [
           "missing girl",
           "CHARACTER"
          ],
          [
           "East End gangster",
           "CHARACTER"
          ],
          [
           "high school students aspiring to become musicians",
           "CHARACTER"
          ],
          [
           "high school students",
           "CHARACTER"
          ],
          [
           "lawyer",
           "CHARACTER"
          ],
          [
           "powerful gangster",
           "CHARACTER"
          ],
          [
           "Morse’s older brother",
           "CHARACTER"
          ]
         ],
         "hovertemplate": "label=%{customdata[1]}<br>x-tsne=%{x}<br>y-tsne=%{y}<br>text=%{customdata[0]}<extra></extra>",
         "legendgroup": "CHARACTER",
         "marker": {
          "color": "#00cc96",
          "symbol": "circle"
         },
         "mode": "markers",
         "name": "CHARACTER",
         "showlegend": true,
         "type": "scattergl",
         "x": [
          39.75423812866211,
          36.206363677978516,
          62.937225341796875,
          -1.054892897605896,
          4.124565124511719,
          -2.165138006210327,
          24.511240005493164,
          31.561416625976562,
          -2.502063751220703,
          43.9353141784668,
          -2.165138006210327,
          71.90912628173828,
          32.73645782470703,
          15.869853973388672,
          38.880714416503906,
          52.22394943237305,
          10.586941719055176,
          57.43569564819336,
          19.383859634399414,
          57.56053924560547,
          18.05599021911621,
          36.206363677978516,
          33.34318161010742,
          30.430517196655273,
          57.56053924560547,
          32.5181884765625,
          75.55271911621094,
          62.937225341796875,
          63.20756530761719,
          63.66350173950195,
          32.08597183227539,
          45.213138580322266,
          33.60359191894531,
          7.902745723724365,
          36.28165054321289,
          22.36115074157715,
          22.798057556152344,
          39.320648193359375,
          35.12733459472656,
          36.07736587524414,
          52.13526153564453,
          58.626346588134766,
          26.772750854492188,
          19.23952293395996,
          42.42256164550781,
          12.32913589477539,
          11.430200576782227,
          12.761771202087402,
          19.55988883972168,
          34.34054946899414,
          49.38494110107422,
          43.41604995727539,
          29.765609741210938,
          41.498939514160156,
          -9.073128700256348,
          46.99858093261719,
          1.198865532875061,
          61.988319396972656,
          30.14661979675293,
          20.156492233276367,
          42.93695068359375,
          40.379638671875,
          44.04915237426758,
          43.92372512817383,
          43.9233283996582,
          24.1471004486084,
          55.78083419799805,
          74.35693359375,
          30.64771842956543,
          44.17338562011719,
          18.05599021911621,
          57.837650299072266,
          57.837650299072266,
          36.465206146240234,
          57.837650299072266,
          57.837650299072266,
          12.632689476013184,
          45.18281173706055,
          37.56129455566406,
          59.43317413330078,
          29.111467361450195,
          64.6502456665039,
          54.64091491699219,
          50.88475036621094,
          21.403114318847656,
          31.995168685913086,
          -15.695304870605469,
          20.009859085083008,
          -18.620929718017578,
          33.02064514160156,
          17.451663970947266,
          43.9353141784668,
          30.524784088134766,
          32.619441986083984,
          27.117950439453125,
          46.02168273925781,
          27.86043930053711,
          56.842559814453125,
          9.274964332580566,
          43.21803283691406,
          18.34588050842285,
          7.393879413604736,
          6.375105857849121,
          -25.48335838317871,
          -11.602402687072754,
          -11.893951416015625,
          61.45873260498047,
          17.682369232177734,
          -11.602402687072754,
          8.945882797241211,
          41.27752685546875,
          54.72666931152344,
          8.932670593261719,
          54.908348083496094,
          55.76125717163086,
          59.14588165283203,
          17.548879623413086,
          35.706424713134766,
          48.90711212158203,
          49.33449172973633,
          66.54911804199219,
          50.787879943847656,
          24.141799926757812,
          9.21940803527832,
          22.420700073242188,
          11.572466850280762,
          11.827733039855957,
          50.398033142089844,
          50.17082977294922,
          24.27805519104004,
          45.213138580322266,
          9.037210464477539,
          27.82032012939453,
          30.9801025390625,
          33.6730842590332,
          45.213138580322266,
          47.52680206298828,
          47.4964485168457,
          21.536603927612305,
          34.90134048461914,
          43.731361389160156,
          34.146881103515625,
          27.74107551574707,
          23.620010375976562,
          19.05938720703125,
          34.48489761352539,
          37.95378875732422,
          36.85453414916992,
          39.320648193359375,
          46.1779899597168,
          35.26782989501953,
          -6.178564548492432,
          -6.284123420715332,
          52.66809844970703,
          26.32662582397461,
          42.17938995361328,
          56.70030212402344,
          8.48136043548584,
          75.7304916381836,
          46.682762145996094,
          39.14229965209961,
          41.43739700317383,
          72.78085327148438,
          71.72856903076172,
          36.465206146240234,
          35.155616760253906,
          58.59349822998047,
          25.286128997802734,
          28.362043380737305,
          34.27369689941406,
          55.09651184082031,
          69.52806091308594,
          46.77774429321289,
          21.570531845092773,
          46.63029479980469,
          63.72085952758789,
          39.320648193359375,
          47.256587982177734,
          26.52750587463379,
          74.23313903808594,
          19.8259220123291,
          58.223243713378906,
          27.88353157043457,
          57.65653610229492,
          -0.8855497241020203,
          11.560701370239258,
          39.74553298950195,
          40.2499885559082,
          73.06736755371094,
          58.1005859375,
          24.474313735961914,
          21.952917098999023,
          74.23339080810547,
          27.46983528137207,
          7.128088474273682,
          9.63241958618164,
          21.480968475341797,
          68.99816131591797,
          43.9353141784668,
          54.039878845214844,
          12.229689598083496,
          12.236960411071777,
          42.70891189575195,
          12.17641544342041,
          44.282230377197266,
          25.480403900146484,
          39.75423812866211,
          25.480403900146484,
          35.03297805786133,
          28.409725189208984,
          33.86762619018555,
          47.256587982177734,
          36.206363677978516,
          59.14588165283203,
          47.476009368896484,
          41.20138168334961,
          41.27696228027344,
          28.22475814819336,
          38.18110275268555,
          65.24217987060547,
          58.25527572631836,
          76.30907440185547,
          35.41868591308594,
          45.213138580322266,
          35.107337951660156,
          24.281147003173828,
          47.618133544921875,
          68.99816131591797,
          10.183586120605469,
          -7.883001804351807,
          41.689510345458984,
          21.21379280090332,
          18.05599021911621,
          71.49327087402344,
          73.56836700439453,
          11.929360389709473,
          48.574607849121094,
          61.27156066894531,
          48.53501510620117,
          55.27635955810547,
          32.99539566040039,
          37.08763885498047,
          48.19487380981445,
          23.53826904296875,
          66.54911804199219,
          13.92091178894043,
          29.46860694885254,
          37.3310661315918,
          15.120126724243164,
          35.53703689575195,
          74.23339080810547,
          62.35398483276367,
          47.075435638427734,
          41.36582565307617,
          35.993919372558594,
          38.89569091796875,
          53.236209869384766,
          41.209434509277344,
          35.739593505859375,
          56.29035568237305,
          28.362043380737305,
          39.320648193359375,
          49.09521484375,
          24.316518783569336,
          24.316518783569336,
          40.84724426269531,
          33.50215530395508,
          25.253761291503906,
          36.36936950683594,
          42.79747009277344,
          37.454185485839844,
          36.06769561767578,
          39.7062873840332,
          30.125202178955078,
          30.84242820739746,
          23.64735221862793,
          12.74802017211914,
          33.02974319458008,
          28.362043380737305,
          19.446760177612305,
          16.886829376220703,
          35.567596435546875,
          52.899864196777344,
          -2.10494327545166,
          -10.340743064880371,
          4.8259663581848145,
          7.020400047302246,
          5.549078464508057,
          45.40190887451172,
          40.75843048095703,
          53.236209869384766,
          24.536712646484375,
          44.282230377197266,
          43.9353141784668,
          42.72866439819336,
          43.741817474365234,
          45.213138580322266,
          68.99816131591797,
          54.543540954589844,
          32.43526840209961,
          55.62056350708008,
          67.38941192626953,
          36.04963684082031,
          5.201904296875,
          55.76176071166992,
          9.037210464477539,
          53.5117073059082,
          49.888885498046875,
          56.86848449707031,
          53.787960052490234,
          37.56129455566406,
          37.56129455566406,
          26.146160125732422,
          61.19287872314453,
          4.154317378997803,
          -10.72815227508545,
          53.32878112792969,
          27.064943313598633,
          29.46860694885254,
          54.85902786254883,
          56.258262634277344,
          53.489341735839844,
          60.231971740722656,
          75.08129119873047,
          75.55271911621094,
          19.277252197265625,
          20.08804702758789,
          48.22393798828125,
          64.37586975097656,
          48.22393798828125,
          18.05599021911621,
          66.84021759033203,
          29.221702575683594,
          53.67632293701172,
          53.67632293701172,
          25.480403900146484,
          22.25493812561035,
          29.116600036621094,
          36.09181213378906,
          42.92236328125,
          29.27191925048828,
          10.183586120605469,
          -5.4231767654418945,
          27.530969619750977,
          56.144325256347656,
          57.658042907714844,
          9.936789512634277,
          46.171531677246094,
          30.698200225830078,
          8.040966033935547,
          17.310331344604492,
          39.75423812866211,
          30.371442794799805,
          4.085692405700684,
          6.266181468963623,
          45.562137603759766,
          57.4013671875,
          35.19956588745117,
          24.511240005493164,
          24.511240005493164,
          -11.203704833984375,
          -11.760396957397461,
          21.198137283325195,
          69.95082092285156,
          51.228790283203125,
          -21.380617141723633,
          48.336631774902344,
          37.37803268432617,
          21.91257667541504,
          39.75423812866211,
          48.17787551879883,
          48.17787551879883,
          17.942913055419922,
          74.46625518798828,
          38.255184173583984,
          50.070613861083984,
          35.71169662475586,
          17.881711959838867,
          -5.778496742248535,
          36.120086669921875,
          38.255184173583984,
          33.4766960144043,
          68.99816131591797,
          68.99816131591797,
          45.1396369934082,
          37.08763885498047,
          25.574832916259766,
          40.034271240234375,
          29.916807174682617,
          13.568795204162598,
          7.121969699859619,
          26.58189582824707,
          50.53855514526367,
          53.9293327331543,
          -7.5163140296936035,
          10.183586120605469,
          27.769960403442383,
          57.248077392578125,
          21.765857696533203,
          48.79315948486328,
          59.375667572021484,
          20.486656188964844,
          19.120075225830078,
          40.41313552856445,
          18.128801345825195,
          20.116655349731445,
          19.231109619140625,
          39.69418716430664,
          31.961959838867188,
          31.52674102783203,
          28.555950164794922,
          34.551856994628906,
          59.36375045776367,
          60.01909255981445,
          62.43880844116211,
          23.298234939575195,
          58.223243713378906,
          31.16982650756836,
          68.4991455078125,
          29.051044464111328,
          34.101722717285156,
          46.5269775390625,
          33.29133605957031,
          58.9173698425293,
          16.601438522338867,
          16.54520606994629,
          35.496307373046875,
          29.26474952697754,
          42.597530364990234,
          22.21158218383789,
          26.48222541809082,
          38.89446258544922,
          61.48783493041992,
          35.51588821411133,
          27.447717666625977,
          11.825045585632324,
          68.99816131591797,
          25.480403900146484,
          0.4318695068359375,
          68.99816131591797,
          27.806076049804688,
          28.362043380737305,
          33.91518020629883,
          23.70106315612793,
          22.61949920654297,
          19.70625114440918,
          10.183586120605469,
          19.308338165283203,
          25.373605728149414,
          23.88135528564453,
          27.498428344726562,
          46.5269775390625,
          25.373605728149414,
          35.18635940551758,
          57.98204040527344,
          36.29914855957031,
          44.282230377197266,
          33.53765869140625,
          24.511240005493164,
          18.67087173461914,
          43.9353141784668,
          71.72856903076172,
          20.41434097290039,
          64.23612213134766,
          21.849925994873047,
          57.837650299072266,
          22.933284759521484,
          5.239891052246094,
          9.037210464477539,
          51.9877815246582,
          -33.273406982421875,
          6.3216633796691895,
          19.784074783325195,
          40.18503952026367,
          2.5687742233276367,
          45.99129867553711,
          43.85554122924805,
          55.38006591796875,
          21.964067459106445,
          54.039878845214844,
          73.390380859375,
          25.446535110473633,
          21.392330169677734,
          38.32050704956055,
          19.54006576538086,
          25.65039825439453,
          27.609201431274414,
          42.72866439819336,
          58.32075119018555,
          28.362043380737305,
          41.43739700317383,
          33.774940490722656,
          63.66350173950195,
          44.90037536621094,
          25.22097396850586,
          23.917457580566406,
          47.6742057800293,
          9.011754035949707,
          61.527381896972656,
          24.511240005493164,
          61.527381896972656,
          59.239837646484375,
          11.116286277770996,
          14.76141357421875,
          37.870609283447266,
          46.53558349609375,
          34.66718292236328,
          45.86276626586914,
          57.62504196166992,
          15.735132217407227,
          58.223243713378906,
          55.72361755371094,
          54.92378616333008,
          41.212059020996094,
          67.21272277832031,
          47.03139877319336,
          46.872650146484375,
          17.3140926361084,
          19.779050827026367,
          41.835819244384766,
          24.653059005737305,
          15.655303955078125,
          57.18836975097656,
          30.70928955078125,
          71.62577056884766,
          24.553083419799805,
          42.42127990722656,
          18.23406410217285,
          60.98086929321289,
          36.082611083984375,
          68.25035095214844,
          61.34225845336914,
          24.42294692993164,
          36.206363677978516,
          68.99816131591797,
          21.074405670166016,
          27.991125106811523,
          24.474313735961914,
          25.821533203125,
          25.335765838623047,
          9.625732421875,
          20.28155517578125,
          68.58529663085938,
          18.23406410217285,
          34.58497619628906,
          25.480403900146484,
          44.405799865722656,
          25.480403900146484,
          25.23963165283203,
          38.487892150878906,
          20.530628204345703,
          22.933284759521484,
          61.42547607421875,
          22.71510124206543,
          15.02387523651123,
          8.559327125549316,
          8.529382705688477,
          27.183162689208984,
          14.888306617736816,
          57.43569564819336,
          45.1396369934082,
          71.72856903076172,
          19.469987869262695,
          41.83781433105469,
          19.182239532470703,
          23.599050521850586,
          62.65044403076172,
          39.41998291015625,
          23.633041381835938,
          26.06365394592285,
          27.413759231567383,
          22.021211624145508,
          63.935550689697266,
          21.712217330932617,
          22.933284759521484,
          15.16915225982666,
          22.933284759521484,
          14.83607006072998,
          15.971250534057617,
          20.115509033203125,
          21.712303161621094,
          13.318924903869629,
          32.64448165893555,
          71.78706359863281,
          64.37586975097656,
          26.36450958251953,
          34.470245361328125,
          46.25464630126953,
          45.28643035888672,
          55.044715881347656,
          45.28643035888672,
          57.837650299072266,
          23.900367736816406,
          57.837650299072266,
          46.41286849975586,
          57.837650299072266,
          51.946563720703125,
          57.837650299072266,
          57.837650299072266,
          33.53219985961914,
          70.531982421875,
          40.9428596496582,
          31.37714958190918,
          39.29591369628906,
          29.828819274902344,
          15.240489959716797,
          22.522396087646484,
          27.046804428100586,
          34.220970153808594,
          47.256587982177734,
          34.32732009887695,
          42.52927780151367,
          30.048377990722656,
          20.23836898803711,
          35.45292663574219,
          24.545236587524414,
          25.921977996826172,
          75.7304916381836,
          20.980745315551758,
          61.34225845336914,
          0.2411329299211502,
          -26.899639129638672,
          -15.698853492736816,
          -4.613892078399658,
          11.97313117980957,
          7.1370530128479,
          45.72432327270508,
          24.4378662109375,
          31.708969116210938,
          57.18471908569336,
          -19.031692504882812,
          19.21175193786621,
          57.43569564819336,
          61.34225845336914,
          29.880260467529297,
          24.391597747802734,
          -12.888227462768555,
          37.73948287963867,
          61.34225845336914,
          42.62411117553711,
          44.90037536621094,
          23.26910972595215,
          34.99651336669922,
          18.253803253173828,
          30.048377990722656,
          21.60928726196289,
          44.90037536621094,
          46.68798065185547,
          34.789955139160156,
          25.99655532836914,
          11.22461223602295,
          28.845590591430664,
          35.24556350708008,
          17.23587417602539,
          46.95613479614258,
          28.603893280029297,
          18.579980850219727,
          67.38941192626953,
          7.630675315856934,
          41.137332916259766,
          19.370437622070312,
          22.310874938964844,
          12.578922271728516,
          16.905174255371094,
          28.843570709228516,
          30.280784606933594,
          23.843067169189453,
          59.50503158569336,
          20.282468795776367,
          20.282468795776367,
          42.62411117553711,
          42.62411117553711,
          29.051044464111328,
          57.43569564819336,
          24.514352798461914,
          10.683063507080078,
          60.40491485595703,
          9.011754035949707,
          17.922367095947266,
          41.35850524902344,
          39.75880432128906,
          14.203418731689453,
          18.36056900024414,
          29.050168991088867,
          41.35850524902344,
          47.59109115600586,
          39.75423812866211,
          19.476272583007812,
          34.92405319213867,
          52.2841911315918,
          35.09211730957031,
          52.2841911315918,
          -27.460224151611328,
          -27.289173126220703,
          64.47527313232422,
          73.54661560058594,
          63.890037536621094,
          63.72085952758789,
          61.48644256591797,
          35.79148864746094,
          46.5269775390625,
          23.990907669067383,
          37.07669448852539,
          22.881717681884766,
          42.6700325012207,
          31.80628776550293,
          6.231761455535889,
          21.431781768798828,
          38.69203567504883,
          8.395291328430176,
          10.354059219360352,
          22.91744613647461,
          51.811439514160156,
          37.73237609863281,
          58.795413970947266,
          8.450419425964355,
          22.72245979309082,
          28.11640739440918,
          43.41604995727539,
          30.457290649414062,
          66.01227569580078,
          24.786758422851562,
          74.74452209472656,
          62.937225341796875,
          62.937225341796875,
          37.56129455566406,
          68.11820220947266,
          29.66049575805664,
          18.28107452392578,
          29.8133487701416,
          39.86213684082031,
          16.58399200439453,
          58.71800994873047,
          28.914306640625,
          68.8122787475586,
          38.388648986816406,
          35.394569396972656,
          53.899784088134766,
          63.935550689697266,
          21.340133666992188,
          43.40456008911133,
          40.034271240234375,
          36.85453414916992,
          19.672988891601562,
          45.18281173706055,
          36.85453414916992,
          22.759952545166016,
          43.94541931152344,
          -20.855350494384766,
          75.7304916381836,
          64.37586975097656,
          22.91744613647461,
          -20.855350494384766,
          11.906437873840332,
          67.38941192626953,
          20.090269088745117,
          11.335721969604492,
          21.591156005859375,
          14.715959548950195,
          18.8551082611084,
          4.504154682159424,
          28.672441482543945,
          23.33985137939453,
          64.96353912353516,
          35.09211730957031,
          22.223440170288086,
          39.17509841918945,
          7.26897668838501,
          66.54911804199219,
          33.02008819580078,
          51.859981536865234,
          29.83930206298828,
          48.18534469604492,
          42.44361877441406,
          1.4036073684692383,
          20.095714569091797,
          39.53526306152344,
          36.210540771484375,
          20.117656707763672,
          68.99816131591797,
          41.43739700317383,
          33.55412292480469,
          31.680261611938477,
          29.9428768157959,
          21.383817672729492,
          71.78706359863281,
          74.23339080810547,
          74.23339080810547,
          37.83159255981445,
          14.547635078430176,
          11.233214378356934,
          41.43739700317383,
          30.221712112426758,
          46.46410369873047,
          41.76953125,
          41.76953125,
          48.452056884765625,
          18.05599021911621,
          43.0296516418457,
          48.452056884765625,
          45.32344055175781,
          68.69058227539062,
          7.032947063446045,
          40.074954986572266,
          7.032924175262451,
          7.079972743988037,
          60.32306671142578,
          27.06163787841797,
          61.209564208984375,
          37.69416046142578,
          61.77987289428711,
          13.24551773071289,
          68.7084732055664,
          38.52488708496094,
          18.05599021911621,
          66.60496520996094,
          58.46534729003906,
          38.431640625,
          38.59074783325195,
          19.268320083618164,
          74.35693359375,
          14.888306617736816,
          57.837650299072266,
          63.903663635253906,
          56.49533462524414,
          45.86276626586914,
          32.339385986328125,
          24.915616989135742,
          45.213138580322266,
          18.778371810913086,
          10.183586120605469,
          10.183586120605469,
          40.98331832885742,
          22.513456344604492,
          40.31642150878906,
          29.89378547668457,
          18.827190399169922,
          37.147789001464844,
          74.23339080810547,
          71.90928649902344,
          56.8081169128418,
          54.03158950805664,
          12.239985466003418,
          31.04001808166504,
          28.973249435424805,
          27.09829330444336,
          54.09907531738281,
          47.997615814208984,
          28.78402328491211,
          16.872406005859375,
          26.090076446533203,
          22.632808685302734,
          74.23339080810547,
          40.33987045288086,
          37.86891555786133,
          70.12191009521484,
          14.030683517456055,
          7.488805770874023,
          12.11556625366211,
          7.26897668838501,
          14.016880989074707,
          13.979837417602539,
          26.362512588500977,
          49.58964920043945,
          16.68286895751953,
          65.91756439208984,
          20.96357536315918,
          13.89622974395752,
          45.7471923828125,
          37.451133728027344,
          33.02974319458008,
          23.585081100463867,
          24.27232551574707,
          52.98060989379883,
          15.761897087097168,
          -2.502063751220703,
          52.36790084838867,
          34.137542724609375,
          -36.717735290527344,
          56.01170349121094,
          41.905059814453125,
          63.09721755981445,
          18.05599021911621,
          39.746238708496094,
          64.03202056884766,
          55.82577133178711,
          -3.1366794109344482,
          30.755962371826172,
          70.05133819580078,
          34.66718292236328,
          45.66199493408203,
          23.823766708374023
         ],
         "xaxis": "x",
         "y": [
          64.94930267333984,
          67.43614196777344,
          -14.535455703735352,
          -61.224449157714844,
          -42.5211296081543,
          53.45706558227539,
          46.846435546875,
          -2.971954584121704,
          56.94915008544922,
          55.793704986572266,
          53.45706558227539,
          33.31032943725586,
          -4.905824661254883,
          10.201714515686035,
          -18.444942474365234,
          12.66604232788086,
          15.625287055969238,
          25.72799301147461,
          48.12519073486328,
          -4.399353504180908,
          51.67506408691406,
          67.43614196777344,
          -27.13760757446289,
          -20.095407485961914,
          -4.399353504180908,
          24.611574172973633,
          -16.042722702026367,
          -14.535455703735352,
          -12.84743881225586,
          6.302829742431641,
          -26.137126922607422,
          44.857757568359375,
          8.628023147583008,
          8.96375846862793,
          -12.317607879638672,
          21.64095687866211,
          1.413314700126648,
          38.00118637084961,
          1.9724518060684204,
          11.722234725952148,
          23.501888275146484,
          20.630094528198242,
          6.5425028800964355,
          32.33998489379883,
          -14.871437072753906,
          -43.07600402832031,
          -43.5552978515625,
          -42.71788024902344,
          -3.49312686920166,
          15.332260131835938,
          -4.2752556800842285,
          -19.693315505981445,
          -15.124749183654785,
          -14.698198318481445,
          -5.776358127593994,
          8.51875114440918,
          -0.10679023712873459,
          14.989497184753418,
          -9.146856307983398,
          65.40440368652344,
          12.192323684692383,
          12.863350868225098,
          -15.839091300964355,
          23.360374450683594,
          23.359830856323242,
          31.702220916748047,
          -11.892854690551758,
          24.87921714782715,
          15.455678939819336,
          4.06691837310791,
          51.67506408691406,
          -30.8885498046875,
          -30.8885498046875,
          26.900001525878906,
          -30.8885498046875,
          -30.8885498046875,
          45.69865798950195,
          -13.449392318725586,
          27.3898868560791,
          -14.942169189453125,
          13.753304481506348,
          25.97338104248047,
          13.456937789916992,
          18.465526580810547,
          71.14462280273438,
          1.4752874374389648,
          24.796480178833008,
          -19.139358520507812,
          27.914602279663086,
          -8.430726051330566,
          -21.677724838256836,
          55.793704986572266,
          10.153741836547852,
          12.172957420349121,
          35.7170524597168,
          7.197869777679443,
          -21.425949096679688,
          -5.505270957946777,
          36.90653991699219,
          15.871502876281738,
          -8.475085258483887,
          -11.520276069641113,
          -4.552163600921631,
          -9.011092185974121,
          -2.3022513389587402,
          -1.911832332611084,
          9.04861831665039,
          -7.024233818054199,
          -2.3022513389587402,
          0.1932336390018463,
          33.575496673583984,
          25.727781295776367,
          -31.896026611328125,
          -19.87643814086914,
          -19.700681686401367,
          38.06612014770508,
          50.33203887939453,
          -41.35234832763672,
          20.85874366760254,
          21.10307502746582,
          -34.66984176635742,
          14.61408519744873,
          -24.91558265686035,
          43.20186996459961,
          18.675216674804688,
          3.4123082160949707,
          4.35624361038208,
          6.284398555755615,
          14.198491096496582,
          25.15737533569336,
          44.857757568359375,
          59.879737854003906,
          0.3361761271953583,
          52.28471374511719,
          -21.14281463623047,
          44.857757568359375,
          -16.567298889160156,
          -16.94557762145996,
          49.87189483642578,
          -17.53486442565918,
          2.936091899871826,
          -16.170761108398438,
          34.99105453491211,
          -3.3876640796661377,
          12.035605430603027,
          -21.750797271728516,
          -0.9232175350189209,
          -37.45637512207031,
          38.00118637084961,
          13.370887756347656,
          -39.10771560668945,
          -40.87950134277344,
          -41.01388931274414,
          15.864696502685547,
          -3.2947113513946533,
          7.651028156280518,
          -6.816335201263428,
          -6.638991832733154,
          25.73443603515625,
          13.785697937011719,
          50.88820266723633,
          53.615867614746094,
          10.451783180236816,
          10.980339050292969,
          26.900001525878906,
          -5.9341020584106445,
          -7.002377033233643,
          26.683494567871094,
          62.81681823730469,
          59.31281280517578,
          0.7262355089187622,
          -16.630678176879883,
          1.5962008237838745,
          36.561492919921875,
          39.545806884765625,
          -2.231008529663086,
          38.00118637084961,
          -36.669368743896484,
          27.000520706176758,
          7.175971984863281,
          -0.5742802023887634,
          45.353790283203125,
          40.06742477416992,
          22.400720596313477,
          -62.34475326538086,
          35.79933166503906,
          62.165531158447266,
          36.63637161254883,
          -7.854272365570068,
          15.76226806640625,
          63.6063117980957,
          66.0807113647461,
          26.630939483642578,
          23.691312789916992,
          46.94308090209961,
          44.57654571533203,
          -25.907329559326172,
          15.25868034362793,
          55.793704986572266,
          15.227910041809082,
          37.69511795043945,
          47.68924331665039,
          38.59775161743164,
          37.75441360473633,
          28.813657760620117,
          72.15576171875,
          64.94930267333984,
          72.15576171875,
          65.46607971191406,
          -3.661893129348755,
          -2.707765817642212,
          -36.669368743896484,
          67.43614196777344,
          38.06612014770508,
          -9.024934768676758,
          -3.5303397178649902,
          -13.400649070739746,
          19.566932678222656,
          -40.8582878112793,
          5.394760608673096,
          -3.1059019565582275,
          27.8740234375,
          -21.959476470947266,
          44.857757568359375,
          -22.991586685180664,
          -1.0716514587402344,
          54.45878601074219,
          15.25868034362793,
          49.0685920715332,
          18.886934280395508,
          12.210569381713867,
          31.211105346679688,
          51.67506408691406,
          -13.44813060760498,
          -15.371481895446777,
          45.90279006958008,
          -7.4462761878967285,
          -14.787416458129883,
          -5.204783916473389,
          -31.27875518798828,
          7.01134729385376,
          44.802955627441406,
          -17.937726974487305,
          30.65803337097168,
          -34.66984176635742,
          24.330907821655273,
          67.25981903076172,
          55.93565368652344,
          23.982845306396484,
          -1.84152352809906,
          26.630939483642578,
          -3.156994342803955,
          33.59189224243164,
          10.729515075683594,
          3.1710643768310547,
          6.078227996826172,
          -15.088543891906738,
          52.208038330078125,
          7.212502956390381,
          -0.5375524759292603,
          62.81681823730469,
          38.00118637084961,
          16.11007308959961,
          13.515323638916016,
          13.515323638916016,
          7.493089199066162,
          41.610321044921875,
          12.204761505126953,
          12.561112403869629,
          -3.997640609741211,
          -14.24451732635498,
          -3.570051908493042,
          -27.631324768066406,
          9.028724670410156,
          -2.8512539863586426,
          -8.497554779052734,
          8.387998580932617,
          59.37651062011719,
          62.81681823730469,
          30.92504119873047,
          29.310209274291992,
          55.86430740356445,
          -25.1356201171875,
          -2.039517641067505,
          -41.70301818847656,
          -3.043609619140625,
          -2.608184337615967,
          -2.1557528972625732,
          10.623163223266602,
          19.228151321411133,
          -15.088543891906738,
          -14.668384552001953,
          28.813657760620117,
          55.793704986572266,
          -36.63065719604492,
          -10.12225341796875,
          44.857757568359375,
          15.25868034362793,
          -27.774709701538086,
          -10.057109832763672,
          -3.1592817306518555,
          14.133062362670898,
          -40.41426467895508,
          1.1103566884994507,
          -19.699390411376953,
          59.879737854003906,
          -27.942886352539062,
          1.4711500406265259,
          7.137305736541748,
          23.779766082763672,
          27.3898868560791,
          27.3898868560791,
          -17.637493133544922,
          6.642604827880859,
          -5.074683666229248,
          -15.681611061096191,
          -5.791768550872803,
          29.145383834838867,
          67.25981903076172,
          8.506309509277344,
          -0.03460497781634331,
          -5.241050720214844,
          11.363974571228027,
          -15.337523460388184,
          -16.042722702026367,
          4.34735631942749,
          4.392843246459961,
          25.854211807250977,
          23.874475479125977,
          25.854211807250977,
          51.67506408691406,
          -16.57295036315918,
          20.75142478942871,
          1.6369551420211792,
          1.6369551420211792,
          72.15576171875,
          -3.4434115886688232,
          2.2453410625457764,
          69.6745834350586,
          -6.633326053619385,
          -25.107528686523438,
          49.0685920715332,
          1.6148606538772583,
          17.842294692993164,
          3.6884069442749023,
          -0.7802994251251221,
          34.41411209106445,
          41.215476989746094,
          41.117244720458984,
          3.410325765609741,
          -9.064046859741211,
          64.94930267333984,
          18.38193702697754,
          -1.1137759685516357,
          -11.09408950805664,
          8.862649917602539,
          13.300787925720215,
          50.752872467041016,
          46.846435546875,
          46.846435546875,
          -10.83297061920166,
          -10.823260307312012,
          -20.966949462890625,
          -12.607755661010742,
          6.151971340179443,
          15.096739768981934,
          42.92109298706055,
          1.9714043140411377,
          26.31621742248535,
          64.94930267333984,
          48.04947280883789,
          48.04947280883789,
          -2.8831920623779297,
          6.623347282409668,
          -6.568600654602051,
          6.3105998039245605,
          -7.426701545715332,
          -5.832547664642334,
          2.6336252689361572,
          -8.045713424682617,
          -6.568600654602051,
          3.1200897693634033,
          15.25868034362793,
          15.25868034362793,
          54.61969757080078,
          44.802955627441406,
          48.634647369384766,
          -29.415002822875977,
          -0.28505760431289673,
          -8.161362648010254,
          47.66123962402344,
          36.79510498046875,
          37.03131103515625,
          -6.464791774749756,
          18.780517578125,
          49.0685920715332,
          -8.149813652038574,
          14.70112133026123,
          -1.049347162246704,
          10.990080833435059,
          19.85906982421875,
          -3.2091281414031982,
          1.5911915302276611,
          -9.906686782836914,
          -17.05889320373535,
          -4.012181282043457,
          17.15460205078125,
          -11.139735221862793,
          38.75933837890625,
          40.72705078125,
          -1.6470556259155273,
          -11.86723518371582,
          0.649257242679596,
          9.756255149841309,
          50.726524353027344,
          -4.412285804748535,
          45.353790283203125,
          1.7223764657974243,
          -17.196258544921875,
          61.36842346191406,
          61.21664047241211,
          43.30646514892578,
          0.4973727762699127,
          10.871192932128906,
          -5.153830528259277,
          -4.713831424713135,
          -36.45513916015625,
          40.27177047729492,
          7.5485663414001465,
          49.298828125,
          32.65315246582031,
          -29.103853225708008,
          18.37738800048828,
          11.499948501586914,
          9.065468788146973,
          -0.6055749654769897,
          15.25868034362793,
          72.15576171875,
          13.49815559387207,
          15.25868034362793,
          46.13357162475586,
          62.81681823730469,
          60.182838439941406,
          61.828773498535156,
          -36.395111083984375,
          -8.244507789611816,
          49.0685920715332,
          -20.58404541015625,
          60.544410705566406,
          -0.3718416690826416,
          72.23997497558594,
          43.30646514892578,
          60.544410705566406,
          68.14563751220703,
          16.351337432861328,
          -24.288930892944336,
          28.813657760620117,
          -27.444007873535156,
          46.846435546875,
          -4.406559467315674,
          55.793704986572266,
          10.980339050292969,
          24.73295783996582,
          13.839986801147461,
          70.5760269165039,
          -30.8885498046875,
          68.52376556396484,
          -1.128955602645874,
          59.879737854003906,
          -1.3132002353668213,
          -8.881560325622559,
          2.4671223163604736,
          -5.4791412353515625,
          20.73410987854004,
          -3.3067729473114014,
          6.194657802581787,
          -11.149718284606934,
          -28.434467315673828,
          10.723453521728516,
          15.227910041809082,
          -8.107370376586914,
          43.833675384521484,
          34.62727737426758,
          -12.415584564208984,
          -9.568324089050293,
          -7.7101149559021,
          -1.228977084159851,
          -36.63065719604492,
          18.35574722290039,
          62.81681823730469,
          53.615867614746094,
          5.612057209014893,
          6.302829742431641,
          57.20273971557617,
          29.860563278198242,
          7.726215839385986,
          3.7273690700531006,
          35.62666702270508,
          43.75940704345703,
          46.846435546875,
          43.75940704345703,
          36.707035064697266,
          -2.2194087505340576,
          0.07416313141584396,
          3.4136440753936768,
          -4.351027488708496,
          20.959375381469727,
          55.94520950317383,
          20.274356842041016,
          53.14639663696289,
          45.353790283203125,
          21.485624313354492,
          17.689014434814453,
          50.21369552612305,
          16.05625343322754,
          48.8110237121582,
          48.52888488769531,
          -18.917552947998047,
          22.636157989501953,
          0.6737697124481201,
          -14.731592178344727,
          23.768234252929688,
          1.9190765619277954,
          -6.942192554473877,
          -12.217545509338379,
          7.093539237976074,
          -14.873406410217285,
          65.49170684814453,
          45.42127227783203,
          -13.487153053283691,
          -8.83830451965332,
          49.70972442626953,
          -6.48241662979126,
          67.43614196777344,
          15.25868034362793,
          12.372991561889648,
          58.390506744384766,
          63.6063117980957,
          31.407440185546875,
          11.068794250488281,
          47.02001190185547,
          12.609872817993164,
          10.59287166595459,
          65.49170684814453,
          58.458335876464844,
          72.15576171875,
          -1.0043745040893555,
          72.15576171875,
          2.9268949031829834,
          35.78811264038086,
          -2.404207706451416,
          68.52376556396484,
          20.440134048461914,
          38.05525207519531,
          14.780106544494629,
          18.000612258911133,
          18.4256591796875,
          4.424036026000977,
          11.027848243713379,
          25.72799301147461,
          54.61969757080078,
          10.980339050292969,
          -21.881328582763672,
          43.44145202636719,
          -21.074644088745117,
          -18.084077835083008,
          25.422645568847656,
          -3.230785369873047,
          -8.28054141998291,
          8.284492492675781,
          46.380611419677734,
          46.047725677490234,
          26.167503356933594,
          -17.794157028198242,
          68.52376556396484,
          2.645568609237671,
          68.52376556396484,
          2.9732556343078613,
          2.185598850250244,
          51.91661834716797,
          -17.79352378845215,
          11.245327949523926,
          -7.590699672698975,
          24.97824478149414,
          23.874475479125977,
          13.239506721496582,
          13.08098030090332,
          -30.320581436157227,
          -30.959535598754883,
          -32.487552642822266,
          -30.959535598754883,
          -30.8885498046875,
          6.5453667640686035,
          -30.8885498046875,
          14.389923095703125,
          -30.8885498046875,
          -23.668773651123047,
          -30.8885498046875,
          -30.8885498046875,
          -12.428359031677246,
          -14.610688209533691,
          1.2307668924331665,
          58.03232192993164,
          -0.35447922348976135,
          41.128971099853516,
          -1.0600554943084717,
          36.59150314331055,
          17.434141159057617,
          -16.437942504882812,
          -36.669368743896484,
          19.58380126953125,
          15.214113235473633,
          62.5068473815918,
          31.389490127563477,
          59.13474655151367,
          59.09870147705078,
          -1.2144566774368286,
          25.73443603515625,
          33.31681823730469,
          49.70972442626953,
          -7.112576007843018,
          -12.47288990020752,
          24.783531188964844,
          3.012650728225708,
          -6.980774879455566,
          -6.056519985198975,
          19.118303298950195,
          68.07144165039062,
          29.807188034057617,
          -2.929523468017578,
          36.455284118652344,
          35.20802307128906,
          25.72799301147461,
          49.70972442626953,
          -11.469242095947266,
          35.601524353027344,
          50.30805206298828,
          37.943504333496094,
          49.70972442626953,
          52.586524963378906,
          57.20273971557617,
          2.657844066619873,
          67.14046478271484,
          1.1622560024261475,
          62.5068473815918,
          29.295202255249023,
          57.20273971557617,
          1.6823230981826782,
          4.558873653411865,
          16.953283309936523,
          35.784088134765625,
          19.19615936279297,
          50.91981506347656,
          -1.5444878339767456,
          -5.71933650970459,
          -21.52301025390625,
          -2.126569986343384,
          14.133062362670898,
          -7.329463958740234,
          4.706398963928223,
          8.495431900024414,
          -2.142796754837036,
          -18.42819595336914,
          5.708712100982666,
          5.290966510772705,
          -23.9371337890625,
          27.085180282592773,
          17.45231819152832,
          41.76611328125,
          41.76611328125,
          52.586524963378906,
          52.586524963378906,
          61.36842346191406,
          25.72799301147461,
          34.516536712646484,
          37.48445129394531,
          51.032325744628906,
          35.62666702270508,
          -18.014753341674805,
          -23.530637741088867,
          -13.834033012390137,
          -9.686066627502441,
          70.09163665771484,
          21.358030319213867,
          -23.530637741088867,
          -9.682695388793945,
          64.94930267333984,
          69.77001953125,
          2.51218581199646,
          31.64583969116211,
          60.317378997802734,
          31.64583969116211,
          -17.14055824279785,
          -16.99559783935547,
          -2.573542594909668,
          8.514388084411621,
          -3.0952260494232178,
          -2.231008529663086,
          13.93255615234375,
          56.588287353515625,
          43.30646514892578,
          44.76420211791992,
          17.530269622802734,
          43.82119369506836,
          -35.175750732421875,
          40.98662185668945,
          15.371210098266602,
          -6.0953145027160645,
          -19.11667251586914,
          16.202224731445312,
          14.594402313232422,
          -49.46946716308594,
          17.55221939086914,
          25.554658889770508,
          16.039579391479492,
          -0.2847316861152649,
          3.5014591217041016,
          30.12604522705078,
          -19.693315505981445,
          39.32412338256836,
          -19.602577209472656,
          5.4128336906433105,
          -16.29958724975586,
          -14.535455703735352,
          -14.535455703735352,
          27.3898868560791,
          -12.382608413696289,
          25.75946617126465,
          -14.405940055847168,
          14.371780395507812,
          -28.303226470947266,
          -7.264516353607178,
          14.757771492004395,
          64.20679473876953,
          -9.351005554199219,
          7.7069292068481445,
          0.4254347085952759,
          3.114919662475586,
          26.167503356933594,
          -14.392899513244629,
          -2.4512457847595215,
          -29.415002822875977,
          -37.45637512207031,
          -6.6650519371032715,
          -13.449392318725586,
          -37.45637512207031,
          17.635412216186523,
          -12.668045997619629,
          -16.477603912353516,
          25.73443603515625,
          23.874475479125977,
          -49.46946716308594,
          -16.477603912353516,
          -1.743752121925354,
          14.133062362670898,
          8.953917503356934,
          8.16285228729248,
          7.378538608551025,
          -8.060285568237305,
          26.34205436706543,
          -48.363731384277344,
          -10.99990463256836,
          9.289265632629395,
          -34.25349426269531,
          60.317378997802734,
          32.13140106201172,
          -17.18812370300293,
          5.678418159484863,
          -34.66984176635742,
          60.655517578125,
          1.5495169162750244,
          18.54401206970215,
          2.062777280807495,
          57.4337158203125,
          -8.333440780639648,
          47.35282516479492,
          66.14082336425781,
          -12.685285568237305,
          32.66763687133789,
          15.25868034362793,
          53.615867614746094,
          58.25927734375,
          53.73884201049805,
          63.72358322143555,
          -7.445917129516602,
          24.97824478149414,
          26.630939483642578,
          26.630939483642578,
          10.008184432983398,
          9.764450073242188,
          8.048245429992676,
          53.615867614746094,
          9.549205780029297,
          -7.606222629547119,
          -6.391092777252197,
          -6.391092777252197,
          -12.075222969055176,
          51.67506408691406,
          -4.56306266784668,
          -12.075222969055176,
          -6.278083801269531,
          -12.313243865966797,
          -12.663008689880371,
          21.009992599487305,
          -12.663289070129395,
          49.04254150390625,
          14.57596492767334,
          26.275243759155273,
          15.365595817565918,
          64.32353210449219,
          15.687633514404297,
          15.666830062866211,
          11.034141540527344,
          15.851526260375977,
          51.67506408691406,
          5.390872001647949,
          22.740047454833984,
          16.01600456237793,
          -3.306422710418701,
          13.389257431030273,
          24.87921714782715,
          11.027848243713379,
          -30.8885498046875,
          15.814109802246094,
          5.993466854095459,
          55.94520950317383,
          53.176334381103516,
          -4.511118412017822,
          44.857757568359375,
          -25.981510162353516,
          49.0685920715332,
          49.0685920715332,
          17.765687942504883,
          5.538662910461426,
          -9.569710731506348,
          6.111457347869873,
          -26.00160789489746,
          -9.221351623535156,
          26.630939483642578,
          33.31041717529297,
          8.293764114379883,
          26.38313102722168,
          48.497032165527344,
          3.6170265674591064,
          -5.419384479522705,
          2.0073368549346924,
          -33.38430404663086,
          -1.7447447776794434,
          -5.115589618682861,
          5.7401556968688965,
          27.364831924438477,
          28.826156616210938,
          26.630939483642578,
          4.10341215133667,
          9.514629364013672,
          24.072925567626953,
          -21.190160751342773,
          4.083913803100586,
          -22.575542449951172,
          5.678418159484863,
          -21.68942642211914,
          -6.309017658233643,
          -10.457640647888184,
          -9.40153980255127,
          11.549568176269531,
          4.318755626678467,
          1.0263454914093018,
          7.14213752746582,
          -17.005840301513672,
          6.001893520355225,
          59.37651062011719,
          -12.599342346191406,
          29.523937225341797,
          12.163970947265625,
          34.18314743041992,
          56.94915008544922,
          10.510970115661621,
          13.467666625976562,
          28.407493591308594,
          15.517487525939941,
          5.089093208312988,
          22.374162673950195,
          51.67506408691406,
          62.16716766357422,
          8.058815956115723,
          24.441783905029297,
          -19.969945907592773,
          -10.829689025878906,
          -17.28875160217285,
          20.959375381469727,
          -9.054970741271973,
          36.61631393432617
         ],
         "yaxis": "y"
        },
        {
         "customdata": [
          [
           "Dakshineswar",
           "PLACE"
          ],
          [
           "kingdom",
           "PLACE"
          ],
          [
           "Nagaloka",
           "PLACE"
          ],
          [
           "Nagaloka",
           "PLACE"
          ],
          [
           "Varunaloka",
           "PLACE"
          ],
          [
           "Agniloka",
           "PLACE"
          ],
          [
           "kingdom",
           "PLACE"
          ],
          [
           "desert",
           "PLACE"
          ],
          [
           "water tank site",
           "PLACE"
          ],
          [
           "desert scrub",
           "PLACE"
          ],
          [
           "British TV studio",
           "PLACE"
          ],
          [
           "neighbouring set",
           "PLACE"
          ],
          [
           "university",
           "PLACE"
          ],
          [
           "fashion department",
           "PLACE"
          ],
          [
           "college",
           "PLACE"
          ],
          [
           "skating exhibition",
           "PLACE"
          ],
          [
           "South Korea",
           "PLACE"
          ],
          [
           "Seoul",
           "PLACE"
          ],
          [
           "Gangwon Province",
           "PLACE"
          ],
          [
           "school",
           "PLACE"
          ],
          [
           "village school",
           "PLACE"
          ],
          [
           "Ernakulam",
           "PLACE"
          ],
          [
           "spot",
           "PLACE"
          ],
          [
           "village in Tamil Nadu",
           "PLACE"
          ],
          [
           "nearby woods",
           "PLACE"
          ],
          [
           "workhouse",
           "PLACE"
          ],
          [
           "Salt Lake City",
           "PLACE"
          ],
          [
           "Utah",
           "PLACE"
          ],
          [
           "towns",
           "PLACE"
          ],
          [
           "wagon train",
           "PLACE"
          ],
          [
           "United States",
           "PLACE"
          ],
          [
           "deserter from the United States Army",
           "PLACE"
          ],
          [
           "Boston",
           "PLACE"
          ],
          [
           "Starkfield",
           "PLACE"
          ],
          [
           "world",
           "PLACE"
          ],
          [
           "Strange Planet",
           "PLACE"
          ],
          [
           "Wales",
           "PLACE"
          ],
          [
           "Outward Bound sea school",
           "PLACE"
          ],
          [
           "brothel",
           "PLACE"
          ],
          [
           "local pool",
           "PLACE"
          ],
          [
           "Germany",
           "PLACE"
          ],
          [
           "Germany",
           "PLACE"
          ],
          [
           "West Germany",
           "PLACE"
          ],
          [
           "cellar",
           "PLACE"
          ],
          [
           "California bank",
           "PLACE"
          ],
          [
           "republic of Costa Salva",
           "PLACE"
          ],
          [
           "Macau casino",
           "PLACE"
          ],
          [
           "remote patrol station",
           "PLACE"
          ],
          [
           "eastern Turkey",
           "PLACE"
          ],
          [
           "Denziland",
           "PLACE"
          ],
          [
           "Earth",
           "PLACE"
          ],
          [
           "Denzi",
           "PLACE"
          ],
          [
           "Earth",
           "PLACE"
          ],
          [
           "Earth",
           "PLACE"
          ],
          [
           "Denziland",
           "PLACE"
          ],
          [
           "planet Denzi",
           "PLACE"
          ],
          [
           "Tombstone",
           "PLACE"
          ],
          [
           "Arizona",
           "PLACE"
          ],
          [
           "Cottonwood",
           "PLACE"
          ],
          [
           "ranch near Cottonwood",
           "PLACE"
          ],
          [
           "box-office",
           "PLACE"
          ],
          [
           "Aztec pyramid",
           "PLACE"
          ],
          [
           "city",
           "PLACE"
          ],
          [
           "Sussex countryside",
           "PLACE"
          ],
          [
           "ancient castle",
           "PLACE"
          ],
          [
           "caravan park",
           "PLACE"
          ],
          [
           "Pacific Northwest",
           "PLACE"
          ],
          [
           "lodge",
           "PLACE"
          ],
          [
           "Madras",
           "PLACE"
          ],
          [
           "lodge",
           "PLACE"
          ],
          [
           "Beijing",
           "PLACE"
          ],
          [
           "China",
           "PLACE"
          ],
          [
           "public marketplace",
           "PLACE"
          ],
          [
           "house",
           "PLACE"
          ],
          [
           "Egypt",
           "PLACE"
          ],
          [
           "Egypt",
           "PLACE"
          ],
          [
           "England",
           "PLACE"
          ],
          [
           "Preet Real Estate",
           "PLACE"
          ],
          [
           "Busan",
           "PLACE"
          ],
          [
           "Gilsotteum",
           "PLACE"
          ],
          [
           "modern Korea",
           "PLACE"
          ],
          [
           "London",
           "PLACE"
          ],
          [
           "British world",
           "PLACE"
          ],
          [
           "concert",
           "PLACE"
          ],
          [
           "River Thames",
           "PLACE"
          ],
          [
           "foreign embassy",
           "PLACE"
          ],
          [
           "Texas",
           "PLACE"
          ],
          [
           "college",
           "PLACE"
          ],
          [
           "college",
           "PLACE"
          ],
          [
           "college",
           "PLACE"
          ],
          [
           "basement of a retirement home",
           "PLACE"
          ],
          [
           "Saratoga",
           "PLACE"
          ],
          [
           "New York",
           "PLACE"
          ],
          [
           "racetrack",
           "PLACE"
          ],
          [
           "unnamed small town",
           "PLACE"
          ],
          [
           "house",
           "PLACE"
          ],
          [
           "house",
           "PLACE"
          ],
          [
           "Paris",
           "PLACE"
          ],
          [
           "theatre",
           "PLACE"
          ],
          [
           "jail",
           "PLACE"
          ],
          [
           "Studio 54",
           "PLACE"
          ],
          [
           "Studio 54",
           "PLACE"
          ],
          [
           "club",
           "PLACE"
          ],
          [
           "South Africa",
           "PLACE"
          ],
          [
           "jail",
           "PLACE"
          ],
          [
           "Karachi",
           "PLACE"
          ],
          [
           "club",
           "PLACE"
          ],
          [
           "Cloud Nine",
           "PLACE"
          ],
          [
           "Guest House",
           "PLACE"
          ],
          [
           "remote village",
           "PLACE"
          ],
          [
           "prison",
           "PLACE"
          ],
          [
           "prison",
           "PLACE"
          ],
          [
           "Manhattan",
           "PLACE"
          ],
          [
           "domains",
           "PLACE"
          ],
          [
           "boarding house",
           "PLACE"
          ],
          [
           "pantomime company",
           "PLACE"
          ],
          [
           "London West End theatre",
           "PLACE"
          ],
          [
           "itauji high school concert band club",
           "PLACE"
          ],
          [
           "school",
           "PLACE"
          ],
          [
           "club",
           "PLACE"
          ],
          [
           "port",
           "PLACE"
          ],
          [
           "Monterey",
           "PLACE"
          ],
          [
           "town",
           "PLACE"
          ],
          [
           "Monterey",
           "PLACE"
          ],
          [
           "big city",
           "PLACE"
          ],
          [
           "Japan",
           "PLACE"
          ],
          [
           "kimchi food company",
           "PLACE"
          ],
          [
           "North Korean",
           "PLACE"
          ],
          [
           "Korean Peninsula",
           "PLACE"
          ],
          [
           "Texas",
           "PLACE"
          ],
          [
           "Manhattan",
           "PLACE"
          ],
          [
           "youth center",
           "PLACE"
          ],
          [
           "youth center",
           "PLACE"
          ],
          [
           "skyscraper",
           "PLACE"
          ],
          [
           "old house",
           "PLACE"
          ],
          [
           "Spain",
           "PLACE"
          ],
          [
           "post 9/11 world",
           "PLACE"
          ],
          [
           "Earth's surface",
           "PLACE"
          ],
          [
           "Chiswick Palais",
           "PLACE"
          ],
          [
           "local dance hall",
           "PLACE"
          ],
          [
           "Arizona",
           "PLACE"
          ],
          [
           "Mexico",
           "PLACE"
          ],
          [
           "ancient civilizations",
           "PLACE"
          ],
          [
           "Monterrey",
           "PLACE"
          ],
          [
           "Mexico",
           "PLACE"
          ],
          [
           "Tin Pan Alley",
           "PLACE"
          ],
          [
           "Gay Nineties New York",
           "PLACE"
          ],
          [
           "South Africa",
           "PLACE"
          ],
          [
           "Africa",
           "PLACE"
          ],
          [
           "Hell's Gate Pass",
           "PLACE"
          ],
          [
           "suburb of Balwyn",
           "PLACE"
          ],
          [
           "Long Island town",
           "PLACE"
          ],
          [
           "private hospital in Bombay",
           "PLACE"
          ],
          [
           "ranch",
           "PLACE"
          ],
          [
           "ranch",
           "PLACE"
          ],
          [
           "Lynn's ranch",
           "PLACE"
          ],
          [
           "village",
           "PLACE"
          ],
          [
           "Chicago",
           "PLACE"
          ],
          [
           "barracks",
           "PLACE"
          ],
          [
           "Arizona",
           "PLACE"
          ],
          [
           "Poston War Relocation Center",
           "PLACE"
          ],
          [
           "World War II internment camp for Japanese Americans",
           "PLACE"
          ],
          [
           "mountains",
           "PLACE"
          ],
          [
           "town",
           "PLACE"
          ],
          [
           "Holy Water Palace",
           "PLACE"
          ],
          [
           "palace",
           "PLACE"
          ],
          [
           "cellar",
           "PLACE"
          ],
          [
           "house",
           "PLACE"
          ],
          [
           "U.S. Treasury Department",
           "PLACE"
          ],
          [
           "Mexico",
           "PLACE"
          ],
          [
           "jail",
           "PLACE"
          ],
          [
           "Southern California beach house",
           "PLACE"
          ],
          [
           "house",
           "PLACE"
          ],
          [
           "house",
           "PLACE"
          ],
          [
           "nightclub",
           "PLACE"
          ],
          [
           "club",
           "PLACE"
          ],
          [
           "India",
           "PLACE"
          ],
          [
           "nearby village",
           "PLACE"
          ],
          [
           "polling booth",
           "PLACE"
          ],
          [
           "San Francisco",
           "PLACE"
          ],
          [
           "hospital",
           "PLACE"
          ],
          [
           "Timbuktu",
           "PLACE"
          ],
          [
           "Timbuktu",
           "PLACE"
          ],
          [
           "habitats",
           "PLACE"
          ],
          [
           "bakery-cum-restaurant",
           "PLACE"
          ],
          [
           "shores of Lake Toya",
           "PLACE"
          ],
          [
           "Hokkaido",
           "PLACE"
          ],
          [
           "restaurant",
           "PLACE"
          ],
          [
           "shop",
           "PLACE"
          ],
          [
           "shop",
           "PLACE"
          ],
          [
           "Digha",
           "PLACE"
          ],
          [
           "room",
           "PLACE"
          ],
          [
           "Creedmore Prison",
           "PLACE"
          ],
          [
           "Creedmore Prison",
           "PLACE"
          ],
          [
           "small-town Southern Ontario",
           "PLACE"
          ],
          [
           "Mexican nightclub",
           "PLACE"
          ],
          [
           "United States",
           "PLACE"
          ],
          [
           "board the battleship HMS Scotia",
           "PLACE"
          ],
          [
           "French Riviera",
           "PLACE"
          ],
          [
           "board ship",
           "PLACE"
          ],
          [
           "coast of Italy",
           "PLACE"
          ],
          [
           "house",
           "PLACE"
          ],
          [
           "Russia",
           "PLACE"
          ],
          [
           "Brooklyn",
           "PLACE"
          ],
          [
           "South America",
           "PLACE"
          ],
          [
           "Chamdo",
           "PLACE"
          ],
          [
           "Tibet",
           "PLACE"
          ],
          [
           "Sichuan",
           "PLACE"
          ],
          [
           "Tibet",
           "PLACE"
          ],
          [
           "sharecropping plantation",
           "PLACE"
          ],
          [
           "Northern Florida",
           "PLACE"
          ],
          [
           "chitlin circuit",
           "PLACE"
          ],
          [
           "small town",
           "PLACE"
          ],
          [
           "Kochi",
           "PLACE"
          ],
          [
           "New York City",
           "PLACE"
          ],
          [
           "Philippines",
           "PLACE"
          ],
          [
           "remote barrio",
           "PLACE"
          ],
          [
           "forest",
           "PLACE"
          ],
          [
           "crossroad",
           "PLACE"
          ],
          [
           "houses",
           "PLACE"
          ],
          [
           "barrio",
           "PLACE"
          ],
          [
           "Alexandria",
           "PLACE"
          ],
          [
           "Palestine",
           "PLACE"
          ],
          [
           "small-town bank",
           "PLACE"
          ],
          [
           "Rajasthan",
           "PLACE"
          ],
          [
           "Rajasthan",
           "PLACE"
          ],
          [
           "board an ocean liner to America",
           "PLACE"
          ],
          [
           "hideout",
           "PLACE"
          ],
          [
           "Kenya",
           "PLACE"
          ],
          [
           "Toronto",
           "PLACE"
          ],
          [
           "London",
           "PLACE"
          ],
          [
           "coal mine",
           "PLACE"
          ],
          [
           "forgotten mine",
           "PLACE"
          ],
          [
           "prison",
           "PLACE"
          ],
          [
           "coast",
           "PLACE"
          ],
          [
           "train",
           "PLACE"
          ],
          [
           "school",
           "PLACE"
          ],
          [
           "high school",
           "PLACE"
          ],
          [
           "Chirpendale",
           "PLACE"
          ],
          [
           "peaceful town",
           "PLACE"
          ],
          [
           "town",
           "PLACE"
          ],
          [
           "small town",
           "PLACE"
          ],
          [
           "saloon",
           "PLACE"
          ],
          [
           "Machine Empire of Baranoia",
           "PLACE"
          ],
          [
           "Earth",
           "PLACE"
          ],
          [
           "Pangaea",
           "PLACE"
          ],
          [
           "Baranoia",
           "PLACE"
          ],
          [
           "military school",
           "PLACE"
          ],
          [
           "back of a diner",
           "PLACE"
          ],
          [
           "jail",
           "PLACE"
          ],
          [
           "Blackpool",
           "PLACE"
          ],
          [
           "rooms",
           "PLACE"
          ],
          [
           "haunted mansion",
           "PLACE"
          ],
          [
           "prison",
           "PLACE"
          ],
          [
           "catwalks of a refinery",
           "PLACE"
          ],
          [
           "Earth",
           "PLACE"
          ],
          [
           "Earth",
           "PLACE"
          ],
          [
           "town",
           "PLACE"
          ],
          [
           "oil fields",
           "PLACE"
          ],
          [
           "Saudi Arabia",
           "PLACE"
          ],
          [
           "West",
           "PLACE"
          ],
          [
           "Europe",
           "PLACE"
          ],
          [
           "Avalanche Express",
           "PLACE"
          ],
          [
           "Europe",
           "PLACE"
          ],
          [
           "train",
           "PLACE"
          ],
          [
           "Northern California",
           "PLACE"
          ],
          [
           "Luxor",
           "PLACE"
          ],
          [
           "Persia",
           "PLACE"
          ],
          [
           "London",
           "PLACE"
          ],
          [
           "studio",
           "PLACE"
          ],
          [
           "bento shop",
           "PLACE"
          ],
          [
           "studio",
           "PLACE"
          ],
          [
           "schools",
           "PLACE"
          ],
          [
           "New York",
           "PLACE"
          ]
         ],
         "hovertemplate": "label=%{customdata[1]}<br>x-tsne=%{x}<br>y-tsne=%{y}<br>text=%{customdata[0]}<extra></extra>",
         "legendgroup": "PLACE",
         "marker": {
          "color": "#ab63fa",
          "symbol": "circle"
         },
         "mode": "markers",
         "name": "PLACE",
         "showlegend": true,
         "type": "scattergl",
         "x": [
          5.795673847198486,
          16.579246520996094,
          -24.26905632019043,
          -24.26905632019043,
          -26.18986701965332,
          -23.877546310424805,
          16.579246520996094,
          13.967347145080566,
          17.03821563720703,
          13.975536346435547,
          13.963140487670898,
          21.059083938598633,
          70.41250610351562,
          34.87076950073242,
          72.90435028076172,
          30.881546020507812,
          1.210971474647522,
          -2.2907979488372803,
          7.813864707946777,
          70.02595520019531,
          69.32717895507812,
          8.49674129486084,
          24.55002212524414,
          8.411375045776367,
          19.056324005126953,
          9.411356925964355,
          -6.3930864334106445,
          -8.442441940307617,
          20.803606033325195,
          26.774728775024414,
          3.3825747966766357,
          6.27532958984375,
          -14.103629112243652,
          -10.06279468536377,
          11.379332542419434,
          -8.151806831359863,
          -8.179999351501465,
          10.478630065917969,
          46.784725189208984,
          27.995885848999023,
          -3.1888933181762695,
          -3.1888933181762695,
          -2.506225347518921,
          42.730037689208984,
          -1.6478676795959473,
          9.598504066467285,
          26.446807861328125,
          21.330997467041016,
          5.269975662231445,
          -27.168001174926758,
          -16.21660041809082,
          -14.961193084716797,
          -16.21660041809082,
          -16.21660041809082,
          -27.168001174926758,
          -14.965950012207031,
          -1.6999170780181885,
          -7.812302112579346,
          -2.8350486755371094,
          -1.938428282737732,
          53.29399490356445,
          11.460406303405762,
          24.24182891845703,
          -1.166502594947815,
          22.076894760131836,
          22.62417984008789,
          -3.473045587539673,
          32.413719177246094,
          7.883414268493652,
          32.413719177246094,
          -0.8351921439170837,
          -0.5024797320365906,
          21.349544525146484,
          34.29157257080078,
          7.58729887008667,
          7.58729887008667,
          -7.872873783111572,
          2.5853261947631836,
          -2.378971576690674,
          17.756317138671875,
          3.32183575630188,
          -7.85870361328125,
          11.983176231384277,
          59.22064208984375,
          -4.689733505249023,
          18.323680877685547,
          -5.376152515411377,
          72.90435028076172,
          72.90435028076172,
          72.90435028076172,
          22.10655975341797,
          -8.583332061767578,
          -11.093491554260254,
          25.638084411621094,
          24.906984329223633,
          35.45774459838867,
          35.45774459838867,
          -24.20241928100586,
          31.140432357788086,
          12.187108993530273,
          2.7091786861419678,
          2.7093095779418945,
          52.026607513427734,
          0.8390402793884277,
          12.187108993530273,
          10.237809181213379,
          52.026607513427734,
          -2.7631494998931885,
          3.292046546936035,
          20.797039031982422,
          11.552785873413086,
          11.552785873413086,
          -14.493861198425293,
          17.958833694458008,
          35.270938873291016,
          24.846668243408203,
          -3.566277265548706,
          29.89839744567871,
          70.5020523071289,
          52.026607513427734,
          13.231507301330566,
          -14.299830436706543,
          21.525815963745117,
          -14.299830436706543,
          25.28058433532715,
          1.5733436346054077,
          21.642379760742188,
          1.2382813692092896,
          1.3838638067245483,
          -5.376152515411377,
          -14.493861198425293,
          61.03718948364258,
          61.03678894042969,
          26.592084884643555,
          37.00151062011719,
          -8.19169807434082,
          15.775736808776855,
          11.661531448364258,
          -5.272469997406006,
          29.358909606933594,
          -7.812302112579346,
          -10.962984085083008,
          22.779544830322266,
          -12.484522819519043,
          -10.962984085083008,
          -3.278136968612671,
          -9.810376167297363,
          0.7555952668190002,
          1.4016989469528198,
          -1.7646229267120361,
          16.256427764892578,
          -0.33573299646377563,
          10.403450012207031,
          -0.9244270920753479,
          -0.9244270920753479,
          -0.4347473680973053,
          21.35370445251465,
          -12.60897159576416,
          25.722381591796875,
          -7.812302112579346,
          1.4119689464569092,
          0.7435919046401978,
          5.4451823234558105,
          22.28974723815918,
          -5.268616676330566,
          21.72506332397461,
          42.730037689208984,
          35.45774459838867,
          7.0492024421691895,
          -10.962984085083008,
          12.187108993530273,
          -1.7600789070129395,
          35.45774459838867,
          34.29157257080078,
          46.87089538574219,
          52.026607513427734,
          5.567739009857178,
          20.334980010986328,
          28.737001419067383,
          -12.037250518798828,
          11.395837783813477,
          13.8165864944458,
          13.8165864944458,
          16.549333572387695,
          24.787260055541992,
          4.110658168792725,
          1.9648408889770508,
          34.89737319946289,
          33.562828063964844,
          33.562828063964844,
          6.211182117462158,
          29.471357345581055,
          5.689709663391113,
          5.689709663391113,
          -4.768876552581787,
          46.869014739990234,
          3.3825747966766357,
          13.533645629882812,
          42.362422943115234,
          14.263723373413086,
          3.7433605194091797,
          34.29157257080078,
          11.663655281066895,
          -13.825026512145996,
          0.2580690085887909,
          -0.6219162344932556,
          -0.38202229142189026,
          -1.3706849813461304,
          -0.38202229142189026,
          46.89557647705078,
          -3.929673433303833,
          27.36729621887207,
          24.360340118408203,
          8.51852798461914,
          -11.513344764709473,
          7.486452579498291,
          20.134471893310547,
          17.901172637939453,
          22.749034881591797,
          33.98350524902344,
          19.21001625061035,
          6.244101524353027,
          7.804983615875244,
          28.471277236938477,
          4.902708053588867,
          4.902708053588867,
          12.971318244934082,
          41.910911560058594,
          2.2746899127960205,
          -6.785436153411865,
          -7.85870361328125,
          2.911658525466919,
          2.938412666320801,
          11.552785873413086,
          2.750356435775757,
          27.55133628845215,
          70.02595520019531,
          69.07791900634766,
          -21.9117431640625,
          22.338871002197266,
          22.28974723815918,
          24.360340118408203,
          47.1404914855957,
          8.79494571685791,
          -16.21660041809082,
          10.000092506408691,
          9.472532272338867,
          68.22929382324219,
          22.924121856689453,
          12.187108993530273,
          -4.672138690948486,
          29.461036682128906,
          37.67567443847656,
          11.552785873413086,
          22.359411239624023,
          -16.21660041809082,
          -16.21660041809082,
          22.28974723815918,
          19.34697914123535,
          8.462406158447266,
          -2.2409162521362305,
          -5.508610725402832,
          -0.8026593923568726,
          -5.508610725402832,
          27.55133628845215,
          -3.5976712703704834,
          8.727389335632324,
          6.9988226890563965,
          -7.85870361328125,
          29.78666114807129,
          32.60402297973633,
          29.78666114807129,
          71.92432403564453,
          -11.093491554260254
         ],
         "xaxis": "x",
         "y": [
          -62.99844741821289,
          -29.868202209472656,
          -21.730093002319336,
          -21.730093002319336,
          -20.700550079345703,
          -25.11006736755371,
          -29.868202209472656,
          -26.366676330566406,
          -12.595662117004395,
          -26.34897232055664,
          -16.7755184173584,
          -9.206780433654785,
          -9.8836088180542,
          -24.227441787719727,
          -10.574349403381348,
          -14.349298477172852,
          -22.302915573120117,
          -29.53605842590332,
          -15.761592864990234,
          -19.722179412841797,
          -21.342689514160156,
          -36.45011901855469,
          -9.46276569366455,
          -29.512622833251953,
          -37.8538703918457,
          13.284836769104004,
          -4.018404960632324,
          -6.702674388885498,
          -42.92289733886719,
          -29.2150936126709,
          -12.446968078613281,
          -6.311018943786621,
          -14.126381874084473,
          20.074356079101562,
          -17.04364585876465,
          1.5700374841690063,
          -29.74161720275879,
          -13.89810848236084,
          -25.265398025512695,
          -15.608771324157715,
          -24.92042350769043,
          -24.92042350769043,
          -23.38680076599121,
          -49.32156753540039,
          -14.354606628417969,
          -7.687371253967285,
          -21.383371353149414,
          -33.68778610229492,
          -18.965320587158203,
          -6.740793228149414,
          2.317004442214966,
          -2.1861701011657715,
          2.317004442214966,
          2.317004442214966,
          -6.740793228149414,
          -2.0022740364074707,
          9.977248191833496,
          -8.534563064575195,
          11.491209030151367,
          11.390292167663574,
          -8.516083717346191,
          2.997852087020874,
          -42.78535842895508,
          -18.159109115600586,
          -26.440200805664062,
          -32.11758804321289,
          -16.705141067504883,
          -39.75907516479492,
          -33.12153244018555,
          -39.75907516479492,
          -32.17776107788086,
          -32.19131088256836,
          -11.528138160705566,
          -47.314510345458984,
          -24.422746658325195,
          -24.422746658325195,
          -28.340105056762695,
          0.785082221031189,
          -29.391414642333984,
          20.256322860717773,
          -21.859333038330078,
          -20.635961532592773,
          -17.592071533203125,
          -7.785395622253418,
          -4.6095805168151855,
          7.906406402587891,
          -10.594879150390625,
          -10.574349403381348,
          -10.574349403381348,
          -10.574349403381348,
          -5.2202372550964355,
          -13.563973426818848,
          -16.84046745300293,
          -20.50324058532715,
          -39.45799255371094,
          -47.99519729614258,
          -47.99519729614258,
          -2.234023094177246,
          -17.330108642578125,
          19.56343650817871,
          9.598654747009277,
          9.59865665435791,
          -44.71086502075195,
          -24.21882438659668,
          19.56343650817871,
          -32.24574279785156,
          -44.71086502075195,
          2.623911142349243,
          2.882167100906372,
          -35.207157135009766,
          17.4577693939209,
          17.4577693939209,
          -18.794267654418945,
          -10.406956672668457,
          -45.8210563659668,
          -12.137032508850098,
          -20.027019500732422,
          -12.668535232543945,
          -19.182174682617188,
          -44.71086502075195,
          -13.745996475219727,
          -8.075136184692383,
          -41.244083404541016,
          -8.075136184692383,
          -41.73251724243164,
          -29.2205810546875,
          -13.634949684143066,
          -21.275609970092773,
          -19.80423355102539,
          -10.594879150390625,
          -18.794267654418945,
          -22.787425994873047,
          -22.78740692138672,
          -5.853400707244873,
          -46.8845100402832,
          -25.009878158569336,
          -11.041654586791992,
          -12.00483512878418,
          -19.153453826904297,
          -15.408016204833984,
          -8.534563064575195,
          -24.230138778686523,
          -25.69516372680664,
          -24.17914390563965,
          -24.230138778686523,
          -0.7842040061950684,
          -15.986299514770508,
          -24.268648147583008,
          -25.157888412475586,
          -0.039580658078193665,
          -9.194377899169922,
          -15.733086585998535,
          -30.18488121032715,
          14.075058937072754,
          14.075058937072754,
          12.559645652770996,
          -37.39404296875,
          -13.98580551147461,
          -33.18663024902344,
          -8.534563064575195,
          -5.300532341003418,
          -6.243365287780762,
          -16.499616622924805,
          -41.74020004272461,
          -3.0594301223754883,
          -28.737680435180664,
          -49.32156753540039,
          -47.99519729614258,
          -1.3184071779251099,
          -24.230138778686523,
          19.56343650817871,
          -15.19763469696045,
          -47.99519729614258,
          -47.314510345458984,
          -24.011205673217773,
          -44.71086502075195,
          -34.007896423339844,
          -37.736656188964844,
          -18.17713737487793,
          -10.625600814819336,
          -29.705608367919922,
          -35.0338249206543,
          -35.0338249206543,
          -14.341717720031738,
          22.785593032836914,
          -15.052791595458984,
          -29.22398567199707,
          -35.38304901123047,
          -30.58603286743164,
          -30.58603286743164,
          -40.271629333496094,
          -51.54911422729492,
          13.502738952636719,
          13.502738952636719,
          -15.484957695007324,
          -23.642166137695312,
          -12.446968078613281,
          -11.619669914245605,
          8.73105239868164,
          -12.46589183807373,
          -16.730379104614258,
          -47.314510345458984,
          -22.64158821105957,
          -17.687822341918945,
          -23.14592170715332,
          -36.959205627441406,
          -35.7868766784668,
          -33.6198844909668,
          -35.7868766784668,
          19.065500259399414,
          -14.762337684631348,
          -12.911850929260254,
          -40.21916198730469,
          -36.42097854614258,
          -16.168020248413086,
          -8.711152076721191,
          -34.14852523803711,
          -37.83273696899414,
          -10.185962677001953,
          -49.5675163269043,
          -33.59430694580078,
          -25.45693588256836,
          -22.795597076416016,
          -24.946046829223633,
          -35.26677322387695,
          -35.26677322387695,
          -11.573331832885742,
          -16.853605270385742,
          -25.739429473876953,
          -15.874658584594727,
          -20.635961532592773,
          38.81764602661133,
          38.82462692260742,
          17.4577693939209,
          -17.06633186340332,
          -29.456924438476562,
          -19.722179412841797,
          -17.731807708740234,
          -20.448640823364258,
          -39.771644592285156,
          -41.74020004272461,
          -40.21916198730469,
          -22.037071228027344,
          -5.132705211639404,
          2.317004442214966,
          -10.378490447998047,
          -4.55660343170166,
          -19.692657470703125,
          -5.646013259887695,
          19.56343650817871,
          -20.879854202270508,
          -51.562076568603516,
          -44.896514892578125,
          17.4577693939209,
          -6.733973979949951,
          2.317004442214966,
          2.317004442214966,
          -41.74020004272461,
          -11.839755058288574,
          -19.371906280517578,
          -22.36091423034668,
          -25.585180282592773,
          -0.5954967141151428,
          -25.585180282592773,
          -29.456924438476562,
          -15.0653076171875,
          -25.260854721069336,
          -19.712881088256836,
          -20.635961532592773,
          -34.731170654296875,
          -30.878368377685547,
          -34.731170654296875,
          -20.035200119018555,
          -16.84046745300293
         ],
         "yaxis": "y"
        }
       ],
       "layout": {
        "height": 1200,
        "legend": {
         "title": {
          "text": "label"
         },
         "tracegroupgap": 0
        },
        "template": {
         "data": {
          "bar": [
           {
            "error_x": {
             "color": "#2a3f5f"
            },
            "error_y": {
             "color": "#2a3f5f"
            },
            "marker": {
             "line": {
              "color": "#E5ECF6",
              "width": 0.5
             },
             "pattern": {
              "fillmode": "overlay",
              "size": 10,
              "solidity": 0.2
             }
            },
            "type": "bar"
           }
          ],
          "barpolar": [
           {
            "marker": {
             "line": {
              "color": "#E5ECF6",
              "width": 0.5
             },
             "pattern": {
              "fillmode": "overlay",
              "size": 10,
              "solidity": 0.2
             }
            },
            "type": "barpolar"
           }
          ],
          "carpet": [
           {
            "aaxis": {
             "endlinecolor": "#2a3f5f",
             "gridcolor": "white",
             "linecolor": "white",
             "minorgridcolor": "white",
             "startlinecolor": "#2a3f5f"
            },
            "baxis": {
             "endlinecolor": "#2a3f5f",
             "gridcolor": "white",
             "linecolor": "white",
             "minorgridcolor": "white",
             "startlinecolor": "#2a3f5f"
            },
            "type": "carpet"
           }
          ],
          "choropleth": [
           {
            "colorbar": {
             "outlinewidth": 0,
             "ticks": ""
            },
            "type": "choropleth"
           }
          ],
          "contour": [
           {
            "colorbar": {
             "outlinewidth": 0,
             "ticks": ""
            },
            "colorscale": [
             [
              0,
              "#0d0887"
             ],
             [
              0.1111111111111111,
              "#46039f"
             ],
             [
              0.2222222222222222,
              "#7201a8"
             ],
             [
              0.3333333333333333,
              "#9c179e"
             ],
             [
              0.4444444444444444,
              "#bd3786"
             ],
             [
              0.5555555555555556,
              "#d8576b"
             ],
             [
              0.6666666666666666,
              "#ed7953"
             ],
             [
              0.7777777777777778,
              "#fb9f3a"
             ],
             [
              0.8888888888888888,
              "#fdca26"
             ],
             [
              1,
              "#f0f921"
             ]
            ],
            "type": "contour"
           }
          ],
          "contourcarpet": [
           {
            "colorbar": {
             "outlinewidth": 0,
             "ticks": ""
            },
            "type": "contourcarpet"
           }
          ],
          "heatmap": [
           {
            "colorbar": {
             "outlinewidth": 0,
             "ticks": ""
            },
            "colorscale": [
             [
              0,
              "#0d0887"
             ],
             [
              0.1111111111111111,
              "#46039f"
             ],
             [
              0.2222222222222222,
              "#7201a8"
             ],
             [
              0.3333333333333333,
              "#9c179e"
             ],
             [
              0.4444444444444444,
              "#bd3786"
             ],
             [
              0.5555555555555556,
              "#d8576b"
             ],
             [
              0.6666666666666666,
              "#ed7953"
             ],
             [
              0.7777777777777778,
              "#fb9f3a"
             ],
             [
              0.8888888888888888,
              "#fdca26"
             ],
             [
              1,
              "#f0f921"
             ]
            ],
            "type": "heatmap"
           }
          ],
          "heatmapgl": [
           {
            "colorbar": {
             "outlinewidth": 0,
             "ticks": ""
            },
            "colorscale": [
             [
              0,
              "#0d0887"
             ],
             [
              0.1111111111111111,
              "#46039f"
             ],
             [
              0.2222222222222222,
              "#7201a8"
             ],
             [
              0.3333333333333333,
              "#9c179e"
             ],
             [
              0.4444444444444444,
              "#bd3786"
             ],
             [
              0.5555555555555556,
              "#d8576b"
             ],
             [
              0.6666666666666666,
              "#ed7953"
             ],
             [
              0.7777777777777778,
              "#fb9f3a"
             ],
             [
              0.8888888888888888,
              "#fdca26"
             ],
             [
              1,
              "#f0f921"
             ]
            ],
            "type": "heatmapgl"
           }
          ],
          "histogram": [
           {
            "marker": {
             "pattern": {
              "fillmode": "overlay",
              "size": 10,
              "solidity": 0.2
             }
            },
            "type": "histogram"
           }
          ],
          "histogram2d": [
           {
            "colorbar": {
             "outlinewidth": 0,
             "ticks": ""
            },
            "colorscale": [
             [
              0,
              "#0d0887"
             ],
             [
              0.1111111111111111,
              "#46039f"
             ],
             [
              0.2222222222222222,
              "#7201a8"
             ],
             [
              0.3333333333333333,
              "#9c179e"
             ],
             [
              0.4444444444444444,
              "#bd3786"
             ],
             [
              0.5555555555555556,
              "#d8576b"
             ],
             [
              0.6666666666666666,
              "#ed7953"
             ],
             [
              0.7777777777777778,
              "#fb9f3a"
             ],
             [
              0.8888888888888888,
              "#fdca26"
             ],
             [
              1,
              "#f0f921"
             ]
            ],
            "type": "histogram2d"
           }
          ],
          "histogram2dcontour": [
           {
            "colorbar": {
             "outlinewidth": 0,
             "ticks": ""
            },
            "colorscale": [
             [
              0,
              "#0d0887"
             ],
             [
              0.1111111111111111,
              "#46039f"
             ],
             [
              0.2222222222222222,
              "#7201a8"
             ],
             [
              0.3333333333333333,
              "#9c179e"
             ],
             [
              0.4444444444444444,
              "#bd3786"
             ],
             [
              0.5555555555555556,
              "#d8576b"
             ],
             [
              0.6666666666666666,
              "#ed7953"
             ],
             [
              0.7777777777777778,
              "#fb9f3a"
             ],
             [
              0.8888888888888888,
              "#fdca26"
             ],
             [
              1,
              "#f0f921"
             ]
            ],
            "type": "histogram2dcontour"
           }
          ],
          "mesh3d": [
           {
            "colorbar": {
             "outlinewidth": 0,
             "ticks": ""
            },
            "type": "mesh3d"
           }
          ],
          "parcoords": [
           {
            "line": {
             "colorbar": {
              "outlinewidth": 0,
              "ticks": ""
             }
            },
            "type": "parcoords"
           }
          ],
          "pie": [
           {
            "automargin": true,
            "type": "pie"
           }
          ],
          "scatter": [
           {
            "fillpattern": {
             "fillmode": "overlay",
             "size": 10,
             "solidity": 0.2
            },
            "type": "scatter"
           }
          ],
          "scatter3d": [
           {
            "line": {
             "colorbar": {
              "outlinewidth": 0,
              "ticks": ""
             }
            },
            "marker": {
             "colorbar": {
              "outlinewidth": 0,
              "ticks": ""
             }
            },
            "type": "scatter3d"
           }
          ],
          "scattercarpet": [
           {
            "marker": {
             "colorbar": {
              "outlinewidth": 0,
              "ticks": ""
             }
            },
            "type": "scattercarpet"
           }
          ],
          "scattergeo": [
           {
            "marker": {
             "colorbar": {
              "outlinewidth": 0,
              "ticks": ""
             }
            },
            "type": "scattergeo"
           }
          ],
          "scattergl": [
           {
            "marker": {
             "colorbar": {
              "outlinewidth": 0,
              "ticks": ""
             }
            },
            "type": "scattergl"
           }
          ],
          "scattermapbox": [
           {
            "marker": {
             "colorbar": {
              "outlinewidth": 0,
              "ticks": ""
             }
            },
            "type": "scattermapbox"
           }
          ],
          "scatterpolar": [
           {
            "marker": {
             "colorbar": {
              "outlinewidth": 0,
              "ticks": ""
             }
            },
            "type": "scatterpolar"
           }
          ],
          "scatterpolargl": [
           {
            "marker": {
             "colorbar": {
              "outlinewidth": 0,
              "ticks": ""
             }
            },
            "type": "scatterpolargl"
           }
          ],
          "scatterternary": [
           {
            "marker": {
             "colorbar": {
              "outlinewidth": 0,
              "ticks": ""
             }
            },
            "type": "scatterternary"
           }
          ],
          "surface": [
           {
            "colorbar": {
             "outlinewidth": 0,
             "ticks": ""
            },
            "colorscale": [
             [
              0,
              "#0d0887"
             ],
             [
              0.1111111111111111,
              "#46039f"
             ],
             [
              0.2222222222222222,
              "#7201a8"
             ],
             [
              0.3333333333333333,
              "#9c179e"
             ],
             [
              0.4444444444444444,
              "#bd3786"
             ],
             [
              0.5555555555555556,
              "#d8576b"
             ],
             [
              0.6666666666666666,
              "#ed7953"
             ],
             [
              0.7777777777777778,
              "#fb9f3a"
             ],
             [
              0.8888888888888888,
              "#fdca26"
             ],
             [
              1,
              "#f0f921"
             ]
            ],
            "type": "surface"
           }
          ],
          "table": [
           {
            "cells": {
             "fill": {
              "color": "#EBF0F8"
             },
             "line": {
              "color": "white"
             }
            },
            "header": {
             "fill": {
              "color": "#C8D4E3"
             },
             "line": {
              "color": "white"
             }
            },
            "type": "table"
           }
          ]
         },
         "layout": {
          "annotationdefaults": {
           "arrowcolor": "#2a3f5f",
           "arrowhead": 0,
           "arrowwidth": 1
          },
          "autotypenumbers": "strict",
          "coloraxis": {
           "colorbar": {
            "outlinewidth": 0,
            "ticks": ""
           }
          },
          "colorscale": {
           "diverging": [
            [
             0,
             "#8e0152"
            ],
            [
             0.1,
             "#c51b7d"
            ],
            [
             0.2,
             "#de77ae"
            ],
            [
             0.3,
             "#f1b6da"
            ],
            [
             0.4,
             "#fde0ef"
            ],
            [
             0.5,
             "#f7f7f7"
            ],
            [
             0.6,
             "#e6f5d0"
            ],
            [
             0.7,
             "#b8e186"
            ],
            [
             0.8,
             "#7fbc41"
            ],
            [
             0.9,
             "#4d9221"
            ],
            [
             1,
             "#276419"
            ]
           ],
           "sequential": [
            [
             0,
             "#0d0887"
            ],
            [
             0.1111111111111111,
             "#46039f"
            ],
            [
             0.2222222222222222,
             "#7201a8"
            ],
            [
             0.3333333333333333,
             "#9c179e"
            ],
            [
             0.4444444444444444,
             "#bd3786"
            ],
            [
             0.5555555555555556,
             "#d8576b"
            ],
            [
             0.6666666666666666,
             "#ed7953"
            ],
            [
             0.7777777777777778,
             "#fb9f3a"
            ],
            [
             0.8888888888888888,
             "#fdca26"
            ],
            [
             1,
             "#f0f921"
            ]
           ],
           "sequentialminus": [
            [
             0,
             "#0d0887"
            ],
            [
             0.1111111111111111,
             "#46039f"
            ],
            [
             0.2222222222222222,
             "#7201a8"
            ],
            [
             0.3333333333333333,
             "#9c179e"
            ],
            [
             0.4444444444444444,
             "#bd3786"
            ],
            [
             0.5555555555555556,
             "#d8576b"
            ],
            [
             0.6666666666666666,
             "#ed7953"
            ],
            [
             0.7777777777777778,
             "#fb9f3a"
            ],
            [
             0.8888888888888888,
             "#fdca26"
            ],
            [
             1,
             "#f0f921"
            ]
           ]
          },
          "colorway": [
           "#636efa",
           "#EF553B",
           "#00cc96",
           "#ab63fa",
           "#FFA15A",
           "#19d3f3",
           "#FF6692",
           "#B6E880",
           "#FF97FF",
           "#FECB52"
          ],
          "font": {
           "color": "#2a3f5f"
          },
          "geo": {
           "bgcolor": "white",
           "lakecolor": "white",
           "landcolor": "#E5ECF6",
           "showlakes": true,
           "showland": true,
           "subunitcolor": "white"
          },
          "hoverlabel": {
           "align": "left"
          },
          "hovermode": "closest",
          "mapbox": {
           "style": "light"
          },
          "paper_bgcolor": "white",
          "plot_bgcolor": "#E5ECF6",
          "polar": {
           "angularaxis": {
            "gridcolor": "white",
            "linecolor": "white",
            "ticks": ""
           },
           "bgcolor": "#E5ECF6",
           "radialaxis": {
            "gridcolor": "white",
            "linecolor": "white",
            "ticks": ""
           }
          },
          "scene": {
           "xaxis": {
            "backgroundcolor": "#E5ECF6",
            "gridcolor": "white",
            "gridwidth": 2,
            "linecolor": "white",
            "showbackground": true,
            "ticks": "",
            "zerolinecolor": "white"
           },
           "yaxis": {
            "backgroundcolor": "#E5ECF6",
            "gridcolor": "white",
            "gridwidth": 2,
            "linecolor": "white",
            "showbackground": true,
            "ticks": "",
            "zerolinecolor": "white"
           },
           "zaxis": {
            "backgroundcolor": "#E5ECF6",
            "gridcolor": "white",
            "gridwidth": 2,
            "linecolor": "white",
            "showbackground": true,
            "ticks": "",
            "zerolinecolor": "white"
           }
          },
          "shapedefaults": {
           "line": {
            "color": "#2a3f5f"
           }
          },
          "ternary": {
           "aaxis": {
            "gridcolor": "white",
            "linecolor": "white",
            "ticks": ""
           },
           "baxis": {
            "gridcolor": "white",
            "linecolor": "white",
            "ticks": ""
           },
           "bgcolor": "#E5ECF6",
           "caxis": {
            "gridcolor": "white",
            "linecolor": "white",
            "ticks": ""
           }
          },
          "title": {
           "x": 0.05
          },
          "xaxis": {
           "automargin": true,
           "gridcolor": "white",
           "linecolor": "white",
           "ticks": "",
           "title": {
            "standoff": 15
           },
           "zerolinecolor": "white",
           "zerolinewidth": 2
          },
          "yaxis": {
           "automargin": true,
           "gridcolor": "white",
           "linecolor": "white",
           "ticks": "",
           "title": {
            "standoff": 15
           },
           "zerolinecolor": "white",
           "zerolinewidth": 2
          }
         }
        },
        "title": {
         "text": "Expressions t-SNE Visualization with Fasttext Embeddings"
        },
        "width": 1200,
        "xaxis": {
         "anchor": "y",
         "domain": [
          0,
          1
         ],
         "title": {
          "text": "x-tsne"
         }
        },
        "yaxis": {
         "anchor": "x",
         "domain": [
          0,
          1
         ],
         "title": {
          "text": "y-tsne"
         }
        }
       }
      }
     },
     "metadata": {},
     "output_type": "display_data"
    }
   ],
   "source": [
    "fig = px.scatter(\n",
    "    ft_df_words,\n",
    "    x=\"x-tsne\",\n",
    "    y=\"y-tsne\",\n",
    "    color=\"label\",\n",
    "    hover_data={\"text\": True, \"label\": True},\n",
    "    title=\"Expressions t-SNE Visualization with Fasttext Embeddings\",\n",
    "    width=1200,\n",
    "    height=1200,\n",
    ")\n",
    "\n",
    "# Show plot\n",
    "fig.show()"
   ]
  },
  {
   "cell_type": "markdown",
   "metadata": {},
   "source": [
    "### Closest words"
   ]
  },
  {
   "cell_type": "code",
   "execution_count": 174,
   "metadata": {},
   "outputs": [
    {
     "name": "stdout",
     "output_type": "stream",
     "text": [
      "*************** Cosine Similarity ***************\n",
      "            word1           word2  similarity\n",
      "0            1981            1983       0.982\n",
      "1        20 years        10 years       0.980\n",
      "2  3rd century bc  5th century bc       0.979\n",
      "3            1962            1959       0.978\n",
      "4            1962            1964       0.968\n",
      "5            2002            1999       0.964\n",
      "6           1960s           1970s       0.957\n",
      "7            1999            1994       0.955\n",
      "\n",
      "\n",
      "******************** Euclidean Distance ********************\n",
      "                 word1                 word2  similarity\n",
      "0       3rd century bc        5th century bc       0.150\n",
      "1             20 years              10 years       0.166\n",
      "2                 1981                  1983       0.188\n",
      "3                 1962                  1959       0.210\n",
      "4             new wife           new husband       0.230\n",
      "5  high school student  high school students       0.237\n",
      "6                 1962                  1964       0.254\n",
      "7                 2002                  1999       0.267\n"
     ]
    }
   ],
   "source": [
    "tf_df_unique = ft_df_words.copy()\n",
    "tf_df_unique['text'] = tf_df_unique['text'].apply(lambda x: x.lower())\n",
    "tf_df_unique = tf_df_unique.drop_duplicates(subset=[\"text\"])\n",
    "words = tf_df_unique[\"text\"].values\n",
    "embeddings = tf_df_unique[\"embedding\"].to_list()\n",
    "\n",
    "nearest_neighbors = get_k_nearest_neighbors(np.array(embeddings),words, k=8, metric=\"cosine\")\n",
    "\n",
    "print(f'{'*'*15} Cosine Similarity {'*'*15}')\n",
    "dtf = {\"word1\": [], \"word2\": [], \"similarity\": []}\n",
    "for (word1, word2), similarity in nearest_neighbors:\n",
    "    dtf[\"word1\"].append(word1)\n",
    "    dtf[\"word2\"].append(word2)\n",
    "    dtf[\"similarity\"].append(round(float(similarity),3))\n",
    "print(pd.DataFrame(dtf))\n",
    "\n",
    "print(\"\\n\")\n",
    "\n",
    "nearest_neighbors = get_k_nearest_neighbors(np.array(embeddings),words, k=8, metric=\"euclidean\")\n",
    "print(f'{'*'*20} Euclidean Distance {'*'*20}')\n",
    "dtf = {\"word1\": [], \"word2\": [], \"similarity\": []}\n",
    "for (word1, word2), similarity in nearest_neighbors:\n",
    "    dtf[\"word1\"].append(word1)\n",
    "    dtf[\"word2\"].append(word2)\n",
    "    dtf[\"similarity\"].append(round(float(similarity),3))\n",
    "print(pd.DataFrame(dtf))"
   ]
  },
  {
   "cell_type": "markdown",
   "metadata": {},
   "source": [
    "# Preprocess text"
   ]
  },
  {
   "cell_type": "code",
   "execution_count": 116,
   "metadata": {},
   "outputs": [],
   "source": [
    "def preprocess_texts(text):\n",
    "    # remove extra whitespace\n",
    "    text = text.strip()\n",
    "    text = \" \".join(text.split())\n",
    "    \n",
    "    # lowercase text\n",
    "    text = text.lower()\n",
    "\n",
    "    # tokenize text\n",
    "    tokens = nltk.word_tokenize(text)\n",
    "\n",
    "    # remove punctuation\n",
    "    tokens = [token for token in tokens if token not in string.punctuation]\n",
    "\n",
    "    # remove stopwords\n",
    "    tokens = [token for token in tokens if token not in stopwords.words(\"english\")]\n",
    "    return \" \".join(tokens)"
   ]
  },
  {
   "cell_type": "code",
   "execution_count": 117,
   "metadata": {},
   "outputs": [
    {
     "data": {
      "text/html": [
       "<div>\n",
       "<style scoped>\n",
       "    .dataframe tbody tr th:only-of-type {\n",
       "        vertical-align: middle;\n",
       "    }\n",
       "\n",
       "    .dataframe tbody tr th {\n",
       "        vertical-align: top;\n",
       "    }\n",
       "\n",
       "    .dataframe thead th {\n",
       "        text-align: right;\n",
       "    }\n",
       "</style>\n",
       "<table border=\"1\" class=\"dataframe\">\n",
       "  <thead>\n",
       "    <tr style=\"text-align: right;\">\n",
       "      <th></th>\n",
       "      <th>id</th>\n",
       "      <th>text</th>\n",
       "      <th>overall_label</th>\n",
       "      <th>cleaned_text</th>\n",
       "    </tr>\n",
       "  </thead>\n",
       "  <tbody>\n",
       "    <tr>\n",
       "      <th>0</th>\n",
       "      <td>1</td>\n",
       "      <td>The film tells the story of Elizabeth (Colbert...</td>\n",
       "      <td>drama</td>\n",
       "      <td>film tells story elizabeth colbert john welles...</td>\n",
       "    </tr>\n",
       "  </tbody>\n",
       "</table>\n",
       "</div>"
      ],
      "text/plain": [
       "   id                                               text overall_label  \\\n",
       "0   1  The film tells the story of Elizabeth (Colbert...         drama   \n",
       "\n",
       "                                        cleaned_text  \n",
       "0  film tells story elizabeth colbert john welles...  "
      ]
     },
     "execution_count": 117,
     "metadata": {},
     "output_type": "execute_result"
    }
   ],
   "source": [
    "final_df_text[\"cleaned_text\"] = final_df_text[\"text\"].apply(preprocess_texts)\n",
    "final_df_text.head(1)"
   ]
  },
  {
   "cell_type": "markdown",
   "metadata": {},
   "source": [
    "# Text embeddings"
   ]
  },
  {
   "cell_type": "markdown",
   "metadata": {},
   "source": [
    "### FastText"
   ]
  },
  {
   "cell_type": "code",
   "execution_count": 118,
   "metadata": {},
   "outputs": [],
   "source": [
    "ft = fasttext.load_model(\"cc.en.300.bin\")"
   ]
  },
  {
   "cell_type": "code",
   "execution_count": 119,
   "metadata": {},
   "outputs": [
    {
     "data": {
      "text/html": [
       "<div>\n",
       "<style scoped>\n",
       "    .dataframe tbody tr th:only-of-type {\n",
       "        vertical-align: middle;\n",
       "    }\n",
       "\n",
       "    .dataframe tbody tr th {\n",
       "        vertical-align: top;\n",
       "    }\n",
       "\n",
       "    .dataframe thead th {\n",
       "        text-align: right;\n",
       "    }\n",
       "</style>\n",
       "<table border=\"1\" class=\"dataframe\">\n",
       "  <thead>\n",
       "    <tr style=\"text-align: right;\">\n",
       "      <th></th>\n",
       "      <th>id</th>\n",
       "      <th>text</th>\n",
       "      <th>overall_label</th>\n",
       "      <th>cleaned_text</th>\n",
       "      <th>ft_embeddings</th>\n",
       "    </tr>\n",
       "  </thead>\n",
       "  <tbody>\n",
       "    <tr>\n",
       "      <th>0</th>\n",
       "      <td>1</td>\n",
       "      <td>The film tells the story of Elizabeth (Colbert...</td>\n",
       "      <td>drama</td>\n",
       "      <td>film tells story elizabeth colbert john welles...</td>\n",
       "      <td>[-0.0124314, 0.007053868, 0.0022771724, 0.0611...</td>\n",
       "    </tr>\n",
       "  </tbody>\n",
       "</table>\n",
       "</div>"
      ],
      "text/plain": [
       "   id                                               text overall_label  \\\n",
       "0   1  The film tells the story of Elizabeth (Colbert...         drama   \n",
       "\n",
       "                                        cleaned_text  \\\n",
       "0  film tells story elizabeth colbert john welles...   \n",
       "\n",
       "                                       ft_embeddings  \n",
       "0  [-0.0124314, 0.007053868, 0.0022771724, 0.0611...  "
      ]
     },
     "execution_count": 119,
     "metadata": {},
     "output_type": "execute_result"
    }
   ],
   "source": [
    "ft_df = final_df_text.copy()\n",
    "\n",
    "ft_df[\"ft_embeddings\"] = ft_df[\"cleaned_text\"].apply(\n",
    "    lambda x: ft.get_sentence_vector(x)\n",
    ")\n",
    "ft_df.head(1)"
   ]
  },
  {
   "cell_type": "code",
   "execution_count": 120,
   "metadata": {},
   "outputs": [],
   "source": [
    "ft_embed_arr = np.array(ft_df[\"ft_embeddings\"].to_list())"
   ]
  },
  {
   "cell_type": "code",
   "execution_count": 121,
   "metadata": {},
   "outputs": [
    {
     "data": {
      "text/html": [
       "<div>\n",
       "<style scoped>\n",
       "    .dataframe tbody tr th:only-of-type {\n",
       "        vertical-align: middle;\n",
       "    }\n",
       "\n",
       "    .dataframe tbody tr th {\n",
       "        vertical-align: top;\n",
       "    }\n",
       "\n",
       "    .dataframe thead th {\n",
       "        text-align: right;\n",
       "    }\n",
       "</style>\n",
       "<table border=\"1\" class=\"dataframe\">\n",
       "  <thead>\n",
       "    <tr style=\"text-align: right;\">\n",
       "      <th></th>\n",
       "      <th>id</th>\n",
       "      <th>text</th>\n",
       "      <th>overall_label</th>\n",
       "      <th>cleaned_text</th>\n",
       "      <th>ft_embeddings</th>\n",
       "      <th>x-tsne</th>\n",
       "      <th>y-tsne</th>\n",
       "    </tr>\n",
       "  </thead>\n",
       "  <tbody>\n",
       "    <tr>\n",
       "      <th>0</th>\n",
       "      <td>1</td>\n",
       "      <td>The film tells the story...</td>\n",
       "      <td>drama</td>\n",
       "      <td>film tells story elizabeth colbert john welles...</td>\n",
       "      <td>[-0.0124314, 0.007053868, 0.0022771724, 0.0611...</td>\n",
       "      <td>0.811068</td>\n",
       "      <td>0.94434</td>\n",
       "    </tr>\n",
       "  </tbody>\n",
       "</table>\n",
       "</div>"
      ],
      "text/plain": [
       "   id                         text overall_label  \\\n",
       "0   1  The film tells the story...         drama   \n",
       "\n",
       "                                        cleaned_text  \\\n",
       "0  film tells story elizabeth colbert john welles...   \n",
       "\n",
       "                                       ft_embeddings    x-tsne   y-tsne  \n",
       "0  [-0.0124314, 0.007053868, 0.0022771724, 0.0611...  0.811068  0.94434  "
      ]
     },
     "execution_count": 121,
     "metadata": {},
     "output_type": "execute_result"
    }
   ],
   "source": [
    "tsne = TSNE(n_components=2, random_state=42, perplexity=30, max_iter=1000)\n",
    "X_tsne = tsne.fit_transform(ft_embed_arr)\n",
    "\n",
    "ft_df['text'] = ft_df['text'].apply(lambda x: \" \".join(x.split()[:5]) + \"...\")\n",
    "ft_df[\"x-tsne\"] = X_tsne[:, 0]\n",
    "ft_df[\"y-tsne\"] = X_tsne[:, 1]\n",
    "ft_df.head(1)"
   ]
  },
  {
   "cell_type": "code",
   "execution_count": 122,
   "metadata": {},
   "outputs": [
    {
     "data": {
      "application/vnd.plotly.v1+json": {
       "config": {
        "plotlyServerURL": "https://plot.ly"
       },
       "data": [
        {
         "customdata": [
          [
           "The film tells the story...",
           "drama"
          ],
          [
           "The eventful life of Swami...",
           "drama"
          ],
          [
           "Lewis and Clark and George...",
           "drama"
          ],
          [
           "Vani Viswanath plays the central...",
           "drama"
          ],
          [
           "Oliver's mother, a penniless outcast,...",
           "drama"
          ],
          [
           "Reverend Smith has arrived in...",
           "drama"
          ],
          [
           "Following the plot of the...",
           "drama"
          ],
          [
           "A psychoanalyst and his young...",
           "drama"
          ],
          [
           "Shellshocked following his experiences as...",
           "drama"
          ],
          [
           "The film is a story...",
           "drama"
          ],
          [
           "The story starts with a...",
           "drama"
          ],
          [
           "Byron Levin works in a...",
           "drama"
          ],
          [
           "This film is about a...",
           "drama"
          ],
          [
           "An orphan girl, named Bindu...",
           "drama"
          ],
          [
           "Kisan Kanya was based on...",
           "drama"
          ],
          [
           "Stand-up-comedian Nikita Kolesnikov (Danila Kozlovsky)...",
           "drama"
          ],
          [
           "Joseph is a mentally retarded...",
           "drama"
          ],
          [
           "Bok-nyeo, a mentally handicapped woman,...",
           "drama"
          ],
          [
           "The plot revolves around the...",
           "drama"
          ],
          [
           "The movie opens with Fung...",
           "drama"
          ],
          [
           "Balu (Vijayakumar) and Padma (Manjula...",
           "drama"
          ],
          [
           "Nikki Singh (Akshay Oberoi) is...",
           "drama"
          ],
          [
           "Harvey Keitel plays an American...",
           "drama"
          ],
          [
           "Rahul (Ramankanth) sees a concert...",
           "drama"
          ],
          [
           "A crime reporter, assisted by...",
           "drama"
          ],
          [
           "This film is about two...",
           "drama"
          ],
          [
           "Shane O'Shea is a young...",
           "drama"
          ],
          [
           "Dhag is the story of...",
           "drama"
          ],
          [
           "A young sculptor searches for...",
           "drama"
          ],
          [
           "The Kitauji high school concert...",
           "drama"
          ],
          [
           "Lost & Found is basically...",
           "drama"
          ],
          [
           "Indie musician Dong-hoon and cartoonist...",
           "drama"
          ],
          [
           "The story tells about Ching...",
           "drama"
          ],
          [
           "Gloria Cole and Eddie Swenson...",
           "drama"
          ],
          [
           "Sets in the 19th century,...",
           "drama"
          ],
          [
           "After Joe Huggett loses his...",
           "drama"
          ],
          [
           "Chaiti is a young beautiful...",
           "drama"
          ],
          [
           "Dharma (Anandaraj) is an auto...",
           "drama"
          ],
          [
           "Arjun lives in a village....",
           "drama"
          ],
          [
           "The story of the film...",
           "drama"
          ],
          [
           "Jerry McGuire (William Collier Jr.)...",
           "drama"
          ],
          [
           "Tulsi tells the story of...",
           "drama"
          ],
          [
           "California gubernatorial candidate Burton (Lyon)...",
           "drama"
          ],
          [
           "A 12-year old young boy...",
           "drama"
          ],
          [
           "Soo-nam is a poor woman...",
           "drama"
          ],
          [
           "Rie and Nao own a...",
           "drama"
          ],
          [
           "A simple handyman, who also...",
           "drama"
          ],
          [
           "The film stars Harry Connick...",
           "drama"
          ],
          [
           "Vijay (R. Sarathkumar) and Seetha...",
           "drama"
          ],
          [
           "In 1964, inmate Charlie Forsythe...",
           "drama"
          ],
          [
           "Vivek is a wanted criminal...",
           "drama"
          ],
          [
           "Three teenage boys in small-town...",
           "drama"
          ],
          [
           "In a Mexican nightclub, some...",
           "drama"
          ],
          [
           "The story revolves around an...",
           "drama"
          ],
          [
           "Gopal (M.G.R.) is an honest...",
           "drama"
          ],
          [
           "A rivalry develops between veteran...",
           "drama"
          ],
          [
           "Taglines: \"Being a girl is...",
           "drama"
          ],
          [
           "Chandrabose (Mohanlal) whose wife's (Meera...",
           "drama"
          ],
          [
           "The story is a family...",
           "drama"
          ],
          [
           "Set in Alexandria in 1938,...",
           "drama"
          ],
          [
           "Michael Walsh, a husband and...",
           "drama"
          ],
          [
           "The film revolves around an...",
           "drama"
          ],
          [
           "Alim is a young gay...",
           "drama"
          ],
          [
           "Twice widowed, Pilnyeo vows never...",
           "drama"
          ],
          [
           "A new teacher organizes a...",
           "drama"
          ],
          [
           "The story of a 10th...",
           "drama"
          ],
          [
           "The film is based on...",
           "drama"
          ],
          [
           "Big Bad Love shares its...",
           "drama"
          ],
          [
           "Ten-year-old Bobby (Frankie Thomas) and...",
           "drama"
          ],
          [
           "Brinda (Sindhu Tolani) is an...",
           "drama"
          ],
          [
           "Kumar, a graduate who decides...",
           "drama"
          ],
          [
           "A mysterious killer, known only...",
           "drama"
          ],
          [
           "A genius sculptor Joon-goo (Park...",
           "drama"
          ],
          [
           "A young Lakota Sioux (Lou...",
           "drama"
          ],
          [
           "Hikaru Oshiro, noticing that there...",
           "drama"
          ],
          [
           "The drama tells of a...",
           "drama"
          ]
         ],
         "hovertemplate": "overall_label=%{customdata[1]}<br>x-tsne=%{x}<br>y-tsne=%{y}<br>text=%{customdata[0]}<extra></extra>",
         "legendgroup": "drama",
         "marker": {
          "color": "#636efa",
          "symbol": "circle"
         },
         "mode": "markers",
         "name": "drama",
         "orientation": "v",
         "showlegend": true,
         "type": "scatter",
         "x": [
          0.8110679984092712,
          -0.7858536243438721,
          3.0050883293151855,
          1.7167502641677856,
          0.07500060647726059,
          3.6061034202575684,
          2.965942859649658,
          -3.7081241607666016,
          4.588581562042236,
          -4.913161754608154,
          0.3300054669380188,
          3.3298842906951904,
          5.81815242767334,
          -4.281037330627441,
          0.9367255568504333,
          -1.468998670578003,
          0.653415322303772,
          -0.07790214568376541,
          1.0014960765838623,
          1.1692520380020142,
          1.7169291973114014,
          1.365875244140625,
          1.677862286567688,
          -6.076404094696045,
          -6.778904438018799,
          0.7319806218147278,
          1.647127389907837,
          -1.2588882446289062,
          -1.8608916997909546,
          -5.230392932891846,
          -0.9849268198013306,
          -5.925713539123535,
          4.657966136932373,
          -0.9698269963264465,
          5.943972587585449,
          -6.30742883682251,
          -0.1858130395412445,
          3.272946834564209,
          -1.5289777517318726,
          5.124116897583008,
          4.044485569000244,
          1.8838645219802856,
          6.643620491027832,
          0.3686841130256653,
          -3.743678569793701,
          -4.9790940284729,
          -6.514346122741699,
          -0.5563535094261169,
          1.787751317024231,
          5.179935455322266,
          3.1921277046203613,
          -0.6947511434555054,
          0.8257564902305603,
          -4.230821132659912,
          1.3984591960906982,
          4.701295375823975,
          -1.6718887090682983,
          0.6363089084625244,
          0.5761831402778625,
          4.587172031402588,
          1.7607475519180298,
          -3.9312357902526855,
          -1.0311944484710693,
          -1.0668474435806274,
          -5.224240303039551,
          -3.668311834335327,
          -0.06173049286007881,
          -0.8958030343055725,
          0.43506261706352234,
          3.318716287612915,
          6.426680088043213,
          -3.7023472785949707,
          -2.1209936141967773,
          0.9073978066444397,
          -5.305631160736084,
          -0.34731772541999817
         ],
         "xaxis": "x",
         "y": [
          0.9443400502204895,
          7.124301910400391,
          -3.7587075233459473,
          5.965206146240234,
          2.021127939224243,
          -4.960599899291992,
          0.17319001257419586,
          -1.3913179636001587,
          0.39597928524017334,
          2.5391652584075928,
          -5.1971330642700195,
          -1.9592516422271729,
          1.4103227853775024,
          1.615350604057312,
          8.430949211120605,
          3.873450517654419,
          0.07235246151685715,
          3.8786120414733887,
          1.3168437480926514,
          -1.5631070137023926,
          6.89527702331543,
          6.110905170440674,
          -6.21536111831665,
          -0.6632298231124878,
          2.727964401245117,
          7.59015417098999,
          -1.7995327711105347,
          5.7211713790893555,
          2.7566022872924805,
          5.611522197723389,
          6.0134406089782715,
          1.8138740062713623,
          -4.759907245635986,
          -1.376277208328247,
          -2.6916372776031494,
          -2.207198143005371,
          4.981481075286865,
          3.8831660747528076,
          5.714938640594482,
          -0.027387555688619614,
          -3.5160858631134033,
          6.729138374328613,
          -1.2010681629180908,
          2.173471212387085,
          -0.3238324820995331,
          1.4990651607513428,
          0.757411777973175,
          0.6178277730941772,
          6.921387195587158,
          -2.242927074432373,
          4.336239814758301,
          -0.2790929675102234,
          -3.647773265838623,
          -1.7973638772964478,
          6.335675239562988,
          -3.5568652153015137,
          0.5734739899635315,
          6.0630598068237305,
          6.841986656188965,
          -1.2676633596420288,
          1.3453471660614014,
          2.1281652450561523,
          2.0266005992889404,
          3.458191394805908,
          5.612679481506348,
          5.106151580810547,
          7.7209272384643555,
          1.002834677696228,
          1.385368824005127,
          3.9278533458709717,
          0.6637109518051147,
          -1.7638150453567505,
          4.31728982925415,
          2.9611170291900635,
          5.651689052581787,
          -4.021231651306152
         ],
         "yaxis": "y"
        },
        {
         "customdata": [
          [
           "Jagathalaprathapan is a prince who...",
           "romance"
          ],
          [
           "The story is about two...",
           "romance"
          ],
          [
           "In 1962, South Korea. Kang...",
           "romance"
          ],
          [
           "It is love at first...",
           "romance"
          ],
          [
           "Claire of the Moon is...",
           "romance"
          ],
          [
           "A man visits a happy...",
           "romance"
          ],
          [
           "Marianne (Greta Garbo) is a...",
           "romance"
          ],
          [
           "Italian aristocrat Angela Chiaromonte (Helen...",
           "romance"
          ],
          [
           "Joan (Purviance) and Magdalen (Sothern)...",
           "romance"
          ],
          [
           "Akashangalil is the story of...",
           "romance"
          ],
          [
           "Roanne Sanchez, a young girl...",
           "romance"
          ],
          [
           "Trust concerns the unusual romance...",
           "romance"
          ],
          [
           "Newland Archer is engaged to...",
           "romance"
          ],
          [
           "In the 1930s, Teresa (Buday)...",
           "romance"
          ]
         ],
         "hovertemplate": "overall_label=%{customdata[1]}<br>x-tsne=%{x}<br>y-tsne=%{y}<br>text=%{customdata[0]}<extra></extra>",
         "legendgroup": "romance",
         "marker": {
          "color": "#EF553B",
          "symbol": "circle"
         },
         "mode": "markers",
         "name": "romance",
         "orientation": "v",
         "showlegend": true,
         "type": "scatter",
         "x": [
          1.3490078449249268,
          -3.3789069652557373,
          -3.115823268890381,
          -1.3019824028015137,
          2.3968989849090576,
          -1.5467147827148438,
          2.192033529281616,
          2.814802885055542,
          2.7714996337890625,
          0.5484833121299744,
          -1.3420467376708984,
          -1.7348860502243042,
          1.3005858659744263,
          -0.7594892382621765
         ],
         "xaxis": "x",
         "y": [
          5.306999206542969,
          2.528282403945923,
          4.478872299194336,
          -0.2441062033176422,
          -4.939691066741943,
          2.704253673553467,
          -1.7236757278442383,
          -0.35050147771835327,
          -2.106630325317383,
          6.246298313140869,
          0.8934341073036194,
          1.581836223602295,
          2.1027536392211914,
          1.3516788482666016
         ],
         "yaxis": "y"
        },
        {
         "customdata": [
          [
           "Police inspector Holloway (Patrick Wymark)...",
           "action"
          ],
          [
           "Neil John Samuel is a...",
           "action"
          ],
          [
           "Mongol chief Temujin (later to...",
           "action"
          ],
          [
           "A popular dance hall girl,...",
           "action"
          ],
          [
           "In World War II, two...",
           "action"
          ],
          [
           "Two reporters, Curtis (Conrad Phillips)...",
           "action"
          ],
          [
           "The film is set in...",
           "action"
          ],
          [
           "Rolex (Prakash Raj) is a...",
           "action"
          ],
          [
           "Two escaping killers hide out...",
           "action"
          ],
          [
           "Inventor and engineer Robert Draper...",
           "action"
          ],
          [
           "This film follows the lead...",
           "action"
          ],
          [
           "A former agent from the...",
           "action"
          ],
          [
           "Sally Elliott (Rita Hayworth), a...",
           "action"
          ],
          [
           "Chu Liuxiang is having drinks...",
           "action"
          ],
          [
           "Charles Kessler (Bela Lugosi) is...",
           "action"
          ],
          [
           "United States Secret Service Lieutenant...",
           "action"
          ],
          [
           "Professional hunter Harry Black is...",
           "action"
          ],
          [
           "Hiraasat is an action film,...",
           "action"
          ],
          [
           "Karthi (Mahesh) is a college...",
           "action"
          ],
          [
           "A blind detective, Duncan Maclain,...",
           "action"
          ],
          [
           "Frankie Bono, a hitman from...",
           "action"
          ],
          [
           "The Philippines, 1972. Mysterious things...",
           "action"
          ],
          [
           "Two days before Christmas, a...",
           "action"
          ],
          [
           "Kumar is a young and...",
           "action"
          ],
          [
           "Convict Van Duff is the...",
           "action"
          ],
          [
           "An old gangster, with a...",
           "action"
          ],
          [
           "The story revolves around a...",
           "action"
          ],
          [
           "Russian general Marenkov (Robert Shaw)...",
           "action"
          ],
          [
           "Omar Sharif plays Muhassab, headman...",
           "action"
          ],
          [
           "The film is set in...",
           "action"
          ],
          [
           "Hans a young German journalist...",
           "action"
          ]
         ],
         "hovertemplate": "overall_label=%{customdata[1]}<br>x-tsne=%{x}<br>y-tsne=%{y}<br>text=%{customdata[0]}<extra></extra>",
         "legendgroup": "action",
         "marker": {
          "color": "#00cc96",
          "symbol": "circle"
         },
         "mode": "markers",
         "name": "action",
         "orientation": "v",
         "showlegend": true,
         "type": "scatter",
         "x": [
          2.1403121948242188,
          2.0843873023986816,
          3.7068562507629395,
          -3.9443602561950684,
          4.408655643463135,
          3.8080382347106934,
          -1.7326384782791138,
          2.449709892272949,
          -0.35814887285232544,
          5.360151290893555,
          -0.756241500377655,
          6.603071212768555,
          2.184389352798462,
          1.8592902421951294,
          1.8569607734680176,
          4.181210994720459,
          0.6678470373153687,
          2.6870877742767334,
          4.030471324920654,
          1.9943504333496094,
          -1.6510586738586426,
          4.99675989151001,
          -4.9939188957214355,
          1.445822834968567,
          -2.4072203636169434,
          -2.4762046337127686,
          5.606271743774414,
          4.552857875823975,
          -1.51064133644104,
          3.462285041809082,
          -3.6184258460998535
         ],
         "xaxis": "x",
         "y": [
          -0.2403935194015503,
          -3.8963050842285156,
          1.080514669418335,
          -3.2957165241241455,
          -0.4212273061275482,
          -4.000711917877197,
          1.5101754665374756,
          6.515581130981445,
          -2.059988021850586,
          -1.8951466083526611,
          -4.780481338500977,
          1.499607801437378,
          -2.5930957794189453,
          3.1758010387420654,
          -0.07462581247091293,
          -2.616909980773926,
          -2.1801769733428955,
          7.463776111602783,
          4.055625915527344,
          -0.17688745260238647,
          -0.7695530652999878,
          1.3652801513671875,
          -2.389461040496826,
          6.6613616943359375,
          -0.8857383131980896,
          -1.2173041105270386,
          4.654727458953857,
          -0.7608442902565002,
          -6.675137996673584,
          0.1664009392261505,
          1.6534346342086792
         ],
         "yaxis": "y"
        },
        {
         "customdata": [
          [
           "In a British TV studio,...",
           "comedy"
          ],
          [
           "George Cabot Jr. (Cesar Romero),...",
           "comedy"
          ],
          [
           "Young sci-fi/fantasy enthusiast Gavin Gore...",
           "comedy"
          ],
          [
           "Mordecai C. Jones (Scott) –...",
           "comedy"
          ],
          [
           "The story is about a...",
           "comedy"
          ],
          [
           "Two best friends who live...",
           "comedy"
          ],
          [
           "Curry and Pepper are two...",
           "comedy"
          ],
          [
           "Loosely based on true events...",
           "comedy"
          ],
          [
           "Scott (Ryan Phillippe) is a...",
           "comedy"
          ],
          [
           "Irène Bordoni is cast as...",
           "comedy"
          ],
          [
           "Cosmo Reif, an affectless mob...",
           "comedy"
          ],
          [
           "Edgar Mills and his mistress...",
           "comedy"
          ],
          [
           "Molly Gilbert won't accept a...",
           "comedy"
          ],
          [
           "Bumbling cop Chatur Singh (Sanjay...",
           "comedy"
          ],
          [
           "Hardy plays Dr. Henry Tibbett,...",
           "comedy"
          ],
          [
           "After discovering that her state...",
           "comedy"
          ],
          [
           "Struggling young actress Jenny (Marjorie...",
           "comedy"
          ],
          [
           "In every port, sailor Bill,...",
           "comedy"
          ],
          [
           "Hong Deok-Ja continues to run...",
           "comedy"
          ],
          [
           "A San Francisco earthquake orphan...",
           "comedy"
          ],
          [
           "The film is about an...",
           "comedy"
          ],
          [
           "The story line centres on...",
           "comedy"
          ],
          [
           "Stephen Ghent, a mineowner, falls...",
           "comedy"
          ],
          [
           "The film tells the story...",
           "comedy"
          ],
          [
           "Eric Wainwright (Van Johnson), a...",
           "comedy"
          ],
          [
           "Kevin Agar is a Carlton-based...",
           "comedy"
          ],
          [
           "Restaurant owner Dylan Ramsey (David...",
           "comedy"
          ],
          [
           "When Los Angeles' police force...",
           "comedy"
          ],
          [
           "Two college girls, Ducky and...",
           "comedy"
          ],
          [
           "Fontaine Khaled is the London...",
           "comedy"
          ],
          [
           "The film's slight storyline concerns...",
           "comedy"
          ],
          [
           "The film tells the story...",
           "comedy"
          ],
          [
           "Officers throw an extravagant party...",
           "comedy"
          ],
          [
           "A bullied teen chef wants...",
           "comedy"
          ],
          [
           "Flagg (Victor McLaglen) and Quirt...",
           "comedy"
          ],
          [
           "Nick (Niven) is the supposed...",
           "comedy"
          ],
          [
           "This film is about the...",
           "comedy"
          ],
          [
           "In a small town, mentally...",
           "comedy"
          ],
          [
           "On board an ocean liner...",
           "comedy"
          ],
          [
           "The boys are involved in...",
           "comedy"
          ],
          [
           "The Rogers family visit Blackpool...",
           "comedy"
          ],
          [
           "The film is about an...",
           "comedy"
          ],
          [
           "The young filmmaker Timothy (Jonathan...",
           "comedy"
          ],
          [
           "Julia Hemingway (Ina Skriver, credited...",
           "comedy"
          ],
          [
           "Small-fry marijuana harvesters in Northern...",
           "comedy"
          ],
          [
           "The Chain tells the story...",
           "comedy"
          ]
         ],
         "hovertemplate": "overall_label=%{customdata[1]}<br>x-tsne=%{x}<br>y-tsne=%{y}<br>text=%{customdata[0]}<extra></extra>",
         "legendgroup": "comedy",
         "marker": {
          "color": "#ab63fa",
          "symbol": "circle"
         },
         "mode": "markers",
         "name": "comedy",
         "orientation": "v",
         "showlegend": true,
         "type": "scatter",
         "x": [
          0.9581028819084167,
          4.065364360809326,
          1.289254903793335,
          0.14751596748828888,
          0.44396692514419556,
          -3.2302680015563965,
          -2.696800947189331,
          0.26798760890960693,
          0.4872572422027588,
          3.1633152961730957,
          -1.7339234352111816,
          1.6981288194656372,
          -0.46160802245140076,
          2.647829055786133,
          -0.648292064666748,
          -3.935741901397705,
          1.8433929681777954,
          1.6852120161056519,
          -2.6913695335388184,
          3.2543797492980957,
          -5.812317371368408,
          -2.792428731918335,
          2.9121251106262207,
          2.7044425010681152,
          2.048300266265869,
          -2.235100030899048,
          0.39950093626976013,
          -1.5078963041305542,
          -2.2128567695617676,
          1.700834035873413,
          -2.8086953163146973,
          1.3617099523544312,
          3.548563003540039,
          -0.5250531435012817,
          -4.729401588439941,
          0.14935874938964844,
          1.174180507659912,
          1.8198437690734863,
          -3.752664089202881,
          2.6777358055114746,
          -0.06119268760085106,
          -3.2610225677490234,
          1.3888593912124634,
          3.9638898372650146,
          -2.534508466720581,
          -5.1813459396362305
         ],
         "xaxis": "x",
         "y": [
          -4.780206203460693,
          -3.063915729522705,
          -2.8471012115478516,
          -3.0656468868255615,
          6.021337509155273,
          0.637023389339447,
          0.16087986528873444,
          -4.579516887664795,
          0.9032838940620422,
          -3.1159827709198,
          -0.6334327459335327,
          -0.16375727951526642,
          -1.154660701751709,
          6.201374530792236,
          -3.51426100730896,
          -4.985243320465088,
          -1.788392424583435,
          -3.537783145904541,
          0.5947965979576111,
          -0.9896138310432434,
          3.457493305206299,
          1.840721845626831,
          -0.9363817572593689,
          0.8680057525634766,
          -2.3666322231292725,
          1.6161152124404907,
          -0.8743207454681396,
          -1.4759441614151,
          1.0348455905914307,
          -1.1915239095687866,
          0.5295279622077942,
          -5.995441436767578,
          -2.4523582458496094,
          -1.1103225946426392,
          0.7310457229614258,
          0.39330142736434937,
          6.879170894622803,
          0.7246313691139221,
          0.9651123881340027,
          2.0412566661834717,
          2.700284719467163,
          -0.791199266910553,
          -3.0044891834259033,
          -2.3420941829681396,
          -1.6230857372283936,
          0.28580307960510254
         ],
         "yaxis": "y"
        },
        {
         "customdata": [
          [
           "Flesh (Vince Murdocco) is kidnapped...",
           "fantasy"
          ],
          [
           "3000 years ago, the Vader...",
           "fantasy"
          ],
          [
           "A psychic woman leads archaeologists...",
           "fantasy"
          ],
          [
           "Dr. Markoff (J. Carrol Naish)...",
           "fantasy"
          ],
          [
           "On the run from the...",
           "fantasy"
          ],
          [
           "Set in the austere post–World...",
           "fantasy"
          ],
          [
           "The film is a retelling...",
           "fantasy"
          ],
          [
           "Christopher, a lustful man goes...",
           "fantasy"
          ],
          [
           "An earthquake releases a bunch...",
           "fantasy"
          ],
          [
           "Nine people from around the...",
           "fantasy"
          ],
          [
           "The film takes place in...",
           "fantasy"
          ],
          [
           "The story of the film...",
           "fantasy"
          ],
          [
           "The film is set in...",
           "fantasy"
          ],
          [
           "The plot of the film...",
           "fantasy"
          ],
          [
           "In the year 1999, the...",
           "fantasy"
          ],
          [
           "Jin-hong is a prosecutor who...",
           "fantasy"
          ],
          [
           "Agimat (Bong Revilla, Jr.) is...",
           "fantasy"
          ]
         ],
         "hovertemplate": "overall_label=%{customdata[1]}<br>x-tsne=%{x}<br>y-tsne=%{y}<br>text=%{customdata[0]}<extra></extra>",
         "legendgroup": "fantasy",
         "marker": {
          "color": "#FFA15A",
          "symbol": "circle"
         },
         "mode": "markers",
         "name": "fantasy",
         "orientation": "v",
         "showlegend": true,
         "type": "scatter",
         "x": [
          -1.384764552116394,
          -1.883567452430725,
          -2.2938342094421387,
          -0.7213696837425232,
          -0.168483167886734,
          -1.8267043828964233,
          -1.2382639646530151,
          -5.4635910987854,
          -2.622807741165161,
          -2.7893078327178955,
          -4.081595420837402,
          -3.4708478450775146,
          0.7281668186187744,
          -4.937314033508301,
          -2.319121837615967,
          -3.870710849761963,
          -1.3783479928970337
         ],
         "xaxis": "x",
         "y": [
          -3.4387435913085938,
          -3.8360838890075684,
          -4.759096622467041,
          -3.6242716312408447,
          -6.144857883453369,
          -2.6900010108947754,
          -5.134807586669922,
          -4.064658164978027,
          -3.415336847305298,
          -3.206923484802246,
          -0.37975552678108215,
          1.7385914325714111,
          6.763333320617676,
          -1.0541433095932007,
          -3.088207960128784,
          -1.513809084892273,
          -3.5425639152526855
         ],
         "yaxis": "y"
        },
        {
         "customdata": [
          [
           "Having cleaned up Tombstone, Arizona,...",
           "western"
          ],
          [
           "Unlike other Alamo films that...",
           "western"
          ],
          [
           "The story involves a middle-aged...",
           "western"
          ],
          [
           "The Hartford Transcontinental Railroad is...",
           "western"
          ],
          [
           "After being told by his...",
           "western"
          ],
          [
           "Jeff Hassard (Dean Jagger) and...",
           "western"
          ],
          [
           "A U.S. marshal investigates when...",
           "western"
          ],
          [
           "John Murdock (Paul Richards) is...",
           "western"
          ],
          [
           "A prospective settler, pioneer Bob...",
           "western"
          ]
         ],
         "hovertemplate": "overall_label=%{customdata[1]}<br>x-tsne=%{x}<br>y-tsne=%{y}<br>text=%{customdata[0]}<extra></extra>",
         "legendgroup": "western",
         "marker": {
          "color": "#19d3f3",
          "symbol": "circle"
         },
         "mode": "markers",
         "name": "western",
         "orientation": "v",
         "showlegend": true,
         "type": "scatter",
         "x": [
          5.717857837677002,
          4.562446594238281,
          -0.12881380319595337,
          0.23885925114154816,
          0.23508094251155853,
          2.547294855117798,
          3.6122052669525146,
          0.3175640106201172,
          0.9582610130310059
         ],
         "xaxis": "x",
         "y": [
          -4.053198337554932,
          -3.606234312057495,
          2.910680055618286,
          -1.1521153450012207,
          -1.1638760566711426,
          -2.6683523654937744,
          2.572756052017212,
          -2.8499577045440674,
          -0.4851807951927185
         ],
         "yaxis": "y"
        },
        {
         "customdata": [
          [
           "The film is an account...",
           "document"
          ],
          [
           "In 1983 KBS launched a...",
           "document"
          ],
          [
           "A Mighty Heart is a...",
           "document"
          ],
          [
           "The film is an examination...",
           "document"
          ],
          [
           "In the autumn of 1950,...",
           "document"
          ],
          [
           "Raised on a sharecropping plantation...",
           "document"
          ],
          [
           "The film is a historical...",
           "document"
          ]
         ],
         "hovertemplate": "overall_label=%{customdata[1]}<br>x-tsne=%{x}<br>y-tsne=%{y}<br>text=%{customdata[0]}<extra></extra>",
         "legendgroup": "document",
         "marker": {
          "color": "#FF6692",
          "symbol": "circle"
         },
         "mode": "markers",
         "name": "document",
         "orientation": "v",
         "showlegend": true,
         "type": "scatter",
         "x": [
          -4.463236331939697,
          -3.3692214488983154,
          4.196620941162109,
          -4.759166240692139,
          6.611503601074219,
          -3.4190030097961426,
          2.825925588607788
         ],
         "xaxis": "x",
         "y": [
          3.603717565536499,
          3.400397300720215,
          2.714897632598877,
          3.630452871322632,
          0.3131439983844757,
          -4.729428291320801,
          7.859296798706055
         ],
         "yaxis": "y"
        }
       ],
       "layout": {
        "height": 1200,
        "legend": {
         "title": {
          "text": "overall_label"
         },
         "tracegroupgap": 0
        },
        "template": {
         "data": {
          "bar": [
           {
            "error_x": {
             "color": "#2a3f5f"
            },
            "error_y": {
             "color": "#2a3f5f"
            },
            "marker": {
             "line": {
              "color": "#E5ECF6",
              "width": 0.5
             },
             "pattern": {
              "fillmode": "overlay",
              "size": 10,
              "solidity": 0.2
             }
            },
            "type": "bar"
           }
          ],
          "barpolar": [
           {
            "marker": {
             "line": {
              "color": "#E5ECF6",
              "width": 0.5
             },
             "pattern": {
              "fillmode": "overlay",
              "size": 10,
              "solidity": 0.2
             }
            },
            "type": "barpolar"
           }
          ],
          "carpet": [
           {
            "aaxis": {
             "endlinecolor": "#2a3f5f",
             "gridcolor": "white",
             "linecolor": "white",
             "minorgridcolor": "white",
             "startlinecolor": "#2a3f5f"
            },
            "baxis": {
             "endlinecolor": "#2a3f5f",
             "gridcolor": "white",
             "linecolor": "white",
             "minorgridcolor": "white",
             "startlinecolor": "#2a3f5f"
            },
            "type": "carpet"
           }
          ],
          "choropleth": [
           {
            "colorbar": {
             "outlinewidth": 0,
             "ticks": ""
            },
            "type": "choropleth"
           }
          ],
          "contour": [
           {
            "colorbar": {
             "outlinewidth": 0,
             "ticks": ""
            },
            "colorscale": [
             [
              0,
              "#0d0887"
             ],
             [
              0.1111111111111111,
              "#46039f"
             ],
             [
              0.2222222222222222,
              "#7201a8"
             ],
             [
              0.3333333333333333,
              "#9c179e"
             ],
             [
              0.4444444444444444,
              "#bd3786"
             ],
             [
              0.5555555555555556,
              "#d8576b"
             ],
             [
              0.6666666666666666,
              "#ed7953"
             ],
             [
              0.7777777777777778,
              "#fb9f3a"
             ],
             [
              0.8888888888888888,
              "#fdca26"
             ],
             [
              1,
              "#f0f921"
             ]
            ],
            "type": "contour"
           }
          ],
          "contourcarpet": [
           {
            "colorbar": {
             "outlinewidth": 0,
             "ticks": ""
            },
            "type": "contourcarpet"
           }
          ],
          "heatmap": [
           {
            "colorbar": {
             "outlinewidth": 0,
             "ticks": ""
            },
            "colorscale": [
             [
              0,
              "#0d0887"
             ],
             [
              0.1111111111111111,
              "#46039f"
             ],
             [
              0.2222222222222222,
              "#7201a8"
             ],
             [
              0.3333333333333333,
              "#9c179e"
             ],
             [
              0.4444444444444444,
              "#bd3786"
             ],
             [
              0.5555555555555556,
              "#d8576b"
             ],
             [
              0.6666666666666666,
              "#ed7953"
             ],
             [
              0.7777777777777778,
              "#fb9f3a"
             ],
             [
              0.8888888888888888,
              "#fdca26"
             ],
             [
              1,
              "#f0f921"
             ]
            ],
            "type": "heatmap"
           }
          ],
          "heatmapgl": [
           {
            "colorbar": {
             "outlinewidth": 0,
             "ticks": ""
            },
            "colorscale": [
             [
              0,
              "#0d0887"
             ],
             [
              0.1111111111111111,
              "#46039f"
             ],
             [
              0.2222222222222222,
              "#7201a8"
             ],
             [
              0.3333333333333333,
              "#9c179e"
             ],
             [
              0.4444444444444444,
              "#bd3786"
             ],
             [
              0.5555555555555556,
              "#d8576b"
             ],
             [
              0.6666666666666666,
              "#ed7953"
             ],
             [
              0.7777777777777778,
              "#fb9f3a"
             ],
             [
              0.8888888888888888,
              "#fdca26"
             ],
             [
              1,
              "#f0f921"
             ]
            ],
            "type": "heatmapgl"
           }
          ],
          "histogram": [
           {
            "marker": {
             "pattern": {
              "fillmode": "overlay",
              "size": 10,
              "solidity": 0.2
             }
            },
            "type": "histogram"
           }
          ],
          "histogram2d": [
           {
            "colorbar": {
             "outlinewidth": 0,
             "ticks": ""
            },
            "colorscale": [
             [
              0,
              "#0d0887"
             ],
             [
              0.1111111111111111,
              "#46039f"
             ],
             [
              0.2222222222222222,
              "#7201a8"
             ],
             [
              0.3333333333333333,
              "#9c179e"
             ],
             [
              0.4444444444444444,
              "#bd3786"
             ],
             [
              0.5555555555555556,
              "#d8576b"
             ],
             [
              0.6666666666666666,
              "#ed7953"
             ],
             [
              0.7777777777777778,
              "#fb9f3a"
             ],
             [
              0.8888888888888888,
              "#fdca26"
             ],
             [
              1,
              "#f0f921"
             ]
            ],
            "type": "histogram2d"
           }
          ],
          "histogram2dcontour": [
           {
            "colorbar": {
             "outlinewidth": 0,
             "ticks": ""
            },
            "colorscale": [
             [
              0,
              "#0d0887"
             ],
             [
              0.1111111111111111,
              "#46039f"
             ],
             [
              0.2222222222222222,
              "#7201a8"
             ],
             [
              0.3333333333333333,
              "#9c179e"
             ],
             [
              0.4444444444444444,
              "#bd3786"
             ],
             [
              0.5555555555555556,
              "#d8576b"
             ],
             [
              0.6666666666666666,
              "#ed7953"
             ],
             [
              0.7777777777777778,
              "#fb9f3a"
             ],
             [
              0.8888888888888888,
              "#fdca26"
             ],
             [
              1,
              "#f0f921"
             ]
            ],
            "type": "histogram2dcontour"
           }
          ],
          "mesh3d": [
           {
            "colorbar": {
             "outlinewidth": 0,
             "ticks": ""
            },
            "type": "mesh3d"
           }
          ],
          "parcoords": [
           {
            "line": {
             "colorbar": {
              "outlinewidth": 0,
              "ticks": ""
             }
            },
            "type": "parcoords"
           }
          ],
          "pie": [
           {
            "automargin": true,
            "type": "pie"
           }
          ],
          "scatter": [
           {
            "fillpattern": {
             "fillmode": "overlay",
             "size": 10,
             "solidity": 0.2
            },
            "type": "scatter"
           }
          ],
          "scatter3d": [
           {
            "line": {
             "colorbar": {
              "outlinewidth": 0,
              "ticks": ""
             }
            },
            "marker": {
             "colorbar": {
              "outlinewidth": 0,
              "ticks": ""
             }
            },
            "type": "scatter3d"
           }
          ],
          "scattercarpet": [
           {
            "marker": {
             "colorbar": {
              "outlinewidth": 0,
              "ticks": ""
             }
            },
            "type": "scattercarpet"
           }
          ],
          "scattergeo": [
           {
            "marker": {
             "colorbar": {
              "outlinewidth": 0,
              "ticks": ""
             }
            },
            "type": "scattergeo"
           }
          ],
          "scattergl": [
           {
            "marker": {
             "colorbar": {
              "outlinewidth": 0,
              "ticks": ""
             }
            },
            "type": "scattergl"
           }
          ],
          "scattermapbox": [
           {
            "marker": {
             "colorbar": {
              "outlinewidth": 0,
              "ticks": ""
             }
            },
            "type": "scattermapbox"
           }
          ],
          "scatterpolar": [
           {
            "marker": {
             "colorbar": {
              "outlinewidth": 0,
              "ticks": ""
             }
            },
            "type": "scatterpolar"
           }
          ],
          "scatterpolargl": [
           {
            "marker": {
             "colorbar": {
              "outlinewidth": 0,
              "ticks": ""
             }
            },
            "type": "scatterpolargl"
           }
          ],
          "scatterternary": [
           {
            "marker": {
             "colorbar": {
              "outlinewidth": 0,
              "ticks": ""
             }
            },
            "type": "scatterternary"
           }
          ],
          "surface": [
           {
            "colorbar": {
             "outlinewidth": 0,
             "ticks": ""
            },
            "colorscale": [
             [
              0,
              "#0d0887"
             ],
             [
              0.1111111111111111,
              "#46039f"
             ],
             [
              0.2222222222222222,
              "#7201a8"
             ],
             [
              0.3333333333333333,
              "#9c179e"
             ],
             [
              0.4444444444444444,
              "#bd3786"
             ],
             [
              0.5555555555555556,
              "#d8576b"
             ],
             [
              0.6666666666666666,
              "#ed7953"
             ],
             [
              0.7777777777777778,
              "#fb9f3a"
             ],
             [
              0.8888888888888888,
              "#fdca26"
             ],
             [
              1,
              "#f0f921"
             ]
            ],
            "type": "surface"
           }
          ],
          "table": [
           {
            "cells": {
             "fill": {
              "color": "#EBF0F8"
             },
             "line": {
              "color": "white"
             }
            },
            "header": {
             "fill": {
              "color": "#C8D4E3"
             },
             "line": {
              "color": "white"
             }
            },
            "type": "table"
           }
          ]
         },
         "layout": {
          "annotationdefaults": {
           "arrowcolor": "#2a3f5f",
           "arrowhead": 0,
           "arrowwidth": 1
          },
          "autotypenumbers": "strict",
          "coloraxis": {
           "colorbar": {
            "outlinewidth": 0,
            "ticks": ""
           }
          },
          "colorscale": {
           "diverging": [
            [
             0,
             "#8e0152"
            ],
            [
             0.1,
             "#c51b7d"
            ],
            [
             0.2,
             "#de77ae"
            ],
            [
             0.3,
             "#f1b6da"
            ],
            [
             0.4,
             "#fde0ef"
            ],
            [
             0.5,
             "#f7f7f7"
            ],
            [
             0.6,
             "#e6f5d0"
            ],
            [
             0.7,
             "#b8e186"
            ],
            [
             0.8,
             "#7fbc41"
            ],
            [
             0.9,
             "#4d9221"
            ],
            [
             1,
             "#276419"
            ]
           ],
           "sequential": [
            [
             0,
             "#0d0887"
            ],
            [
             0.1111111111111111,
             "#46039f"
            ],
            [
             0.2222222222222222,
             "#7201a8"
            ],
            [
             0.3333333333333333,
             "#9c179e"
            ],
            [
             0.4444444444444444,
             "#bd3786"
            ],
            [
             0.5555555555555556,
             "#d8576b"
            ],
            [
             0.6666666666666666,
             "#ed7953"
            ],
            [
             0.7777777777777778,
             "#fb9f3a"
            ],
            [
             0.8888888888888888,
             "#fdca26"
            ],
            [
             1,
             "#f0f921"
            ]
           ],
           "sequentialminus": [
            [
             0,
             "#0d0887"
            ],
            [
             0.1111111111111111,
             "#46039f"
            ],
            [
             0.2222222222222222,
             "#7201a8"
            ],
            [
             0.3333333333333333,
             "#9c179e"
            ],
            [
             0.4444444444444444,
             "#bd3786"
            ],
            [
             0.5555555555555556,
             "#d8576b"
            ],
            [
             0.6666666666666666,
             "#ed7953"
            ],
            [
             0.7777777777777778,
             "#fb9f3a"
            ],
            [
             0.8888888888888888,
             "#fdca26"
            ],
            [
             1,
             "#f0f921"
            ]
           ]
          },
          "colorway": [
           "#636efa",
           "#EF553B",
           "#00cc96",
           "#ab63fa",
           "#FFA15A",
           "#19d3f3",
           "#FF6692",
           "#B6E880",
           "#FF97FF",
           "#FECB52"
          ],
          "font": {
           "color": "#2a3f5f"
          },
          "geo": {
           "bgcolor": "white",
           "lakecolor": "white",
           "landcolor": "#E5ECF6",
           "showlakes": true,
           "showland": true,
           "subunitcolor": "white"
          },
          "hoverlabel": {
           "align": "left"
          },
          "hovermode": "closest",
          "mapbox": {
           "style": "light"
          },
          "paper_bgcolor": "white",
          "plot_bgcolor": "#E5ECF6",
          "polar": {
           "angularaxis": {
            "gridcolor": "white",
            "linecolor": "white",
            "ticks": ""
           },
           "bgcolor": "#E5ECF6",
           "radialaxis": {
            "gridcolor": "white",
            "linecolor": "white",
            "ticks": ""
           }
          },
          "scene": {
           "xaxis": {
            "backgroundcolor": "#E5ECF6",
            "gridcolor": "white",
            "gridwidth": 2,
            "linecolor": "white",
            "showbackground": true,
            "ticks": "",
            "zerolinecolor": "white"
           },
           "yaxis": {
            "backgroundcolor": "#E5ECF6",
            "gridcolor": "white",
            "gridwidth": 2,
            "linecolor": "white",
            "showbackground": true,
            "ticks": "",
            "zerolinecolor": "white"
           },
           "zaxis": {
            "backgroundcolor": "#E5ECF6",
            "gridcolor": "white",
            "gridwidth": 2,
            "linecolor": "white",
            "showbackground": true,
            "ticks": "",
            "zerolinecolor": "white"
           }
          },
          "shapedefaults": {
           "line": {
            "color": "#2a3f5f"
           }
          },
          "ternary": {
           "aaxis": {
            "gridcolor": "white",
            "linecolor": "white",
            "ticks": ""
           },
           "baxis": {
            "gridcolor": "white",
            "linecolor": "white",
            "ticks": ""
           },
           "bgcolor": "#E5ECF6",
           "caxis": {
            "gridcolor": "white",
            "linecolor": "white",
            "ticks": ""
           }
          },
          "title": {
           "x": 0.05
          },
          "xaxis": {
           "automargin": true,
           "gridcolor": "white",
           "linecolor": "white",
           "ticks": "",
           "title": {
            "standoff": 15
           },
           "zerolinecolor": "white",
           "zerolinewidth": 2
          },
          "yaxis": {
           "automargin": true,
           "gridcolor": "white",
           "linecolor": "white",
           "ticks": "",
           "title": {
            "standoff": 15
           },
           "zerolinecolor": "white",
           "zerolinewidth": 2
          }
         }
        },
        "title": {
         "text": "Sentences t-SNE Visualization with Fasttext Embeddings"
        },
        "width": 1200,
        "xaxis": {
         "anchor": "y",
         "domain": [
          0,
          1
         ],
         "title": {
          "text": "x-tsne"
         }
        },
        "yaxis": {
         "anchor": "x",
         "domain": [
          0,
          1
         ],
         "title": {
          "text": "y-tsne"
         }
        }
       }
      }
     },
     "metadata": {},
     "output_type": "display_data"
    }
   ],
   "source": [
    "# Create interactive scatter plot\n",
    "fig = px.scatter(\n",
    "    ft_df,\n",
    "    x=\"x-tsne\",\n",
    "    y=\"y-tsne\",\n",
    "    color=\"overall_label\",\n",
    "    hover_data={\"text\": True, \"overall_label\": True},\n",
    "    title=\"Sentences t-SNE Visualization with Fasttext Embeddings\",\n",
    "    width=1200,\n",
    "    height=1200,\n",
    ")\n",
    "\n",
    "# Show plot\n",
    "fig.show()"
   ]
  },
  {
   "cell_type": "markdown",
   "metadata": {},
   "source": [
    "### TF-IDF"
   ]
  },
  {
   "cell_type": "code",
   "execution_count": 123,
   "metadata": {},
   "outputs": [],
   "source": [
    "vectorizer = TfidfVectorizer(max_features=300)"
   ]
  },
  {
   "cell_type": "code",
   "execution_count": 124,
   "metadata": {},
   "outputs": [
    {
     "name": "stdout",
     "output_type": "stream",
     "text": [
      " Shape of the TF-IDF matrix: (200, 300)\n"
     ]
    }
   ],
   "source": [
    "tfidf_df = final_df_text.copy()\n",
    "\n",
    "X = vectorizer.fit_transform(tfidf_df[\"cleaned_text\"])\n",
    "print(f\" Shape of the TF-IDF matrix: {X.shape}\")\n",
    "\n",
    "tfidf_df[\"embeddings\"] = [X[i].toarray()[0] for i in range(X.shape[0])]\n",
    "\n",
    "tfidf_emb_arr = np.array(tfidf_df['embeddings'].tolist())"
   ]
  },
  {
   "cell_type": "code",
   "execution_count": 125,
   "metadata": {},
   "outputs": [
    {
     "data": {
      "application/vnd.plotly.v1+json": {
       "config": {
        "plotlyServerURL": "https://plot.ly"
       },
       "data": [
        {
         "customdata": [
          [
           "The film tells the story...",
           "drama"
          ],
          [
           "The eventful life of Swami...",
           "drama"
          ],
          [
           "Lewis and Clark and George...",
           "drama"
          ],
          [
           "Vani Viswanath plays the central...",
           "drama"
          ],
          [
           "Oliver's mother, a penniless outcast,...",
           "drama"
          ],
          [
           "Reverend Smith has arrived in...",
           "drama"
          ],
          [
           "Following the plot of the...",
           "drama"
          ],
          [
           "A psychoanalyst and his young...",
           "drama"
          ],
          [
           "Shellshocked following his experiences as...",
           "drama"
          ],
          [
           "The film is a story...",
           "drama"
          ],
          [
           "The story starts with a...",
           "drama"
          ],
          [
           "Byron Levin works in a...",
           "drama"
          ],
          [
           "This film is about a...",
           "drama"
          ],
          [
           "An orphan girl, named Bindu...",
           "drama"
          ],
          [
           "Kisan Kanya was based on...",
           "drama"
          ],
          [
           "Stand-up-comedian Nikita Kolesnikov (Danila Kozlovsky)...",
           "drama"
          ],
          [
           "Joseph is a mentally retarded...",
           "drama"
          ],
          [
           "Bok-nyeo, a mentally handicapped woman,...",
           "drama"
          ],
          [
           "The plot revolves around the...",
           "drama"
          ],
          [
           "The movie opens with Fung...",
           "drama"
          ],
          [
           "Balu (Vijayakumar) and Padma (Manjula...",
           "drama"
          ],
          [
           "Nikki Singh (Akshay Oberoi) is...",
           "drama"
          ],
          [
           "Harvey Keitel plays an American...",
           "drama"
          ],
          [
           "Rahul (Ramankanth) sees a concert...",
           "drama"
          ],
          [
           "A crime reporter, assisted by...",
           "drama"
          ],
          [
           "This film is about two...",
           "drama"
          ],
          [
           "Shane O'Shea is a young...",
           "drama"
          ],
          [
           "Dhag is the story of...",
           "drama"
          ],
          [
           "A young sculptor searches for...",
           "drama"
          ],
          [
           "The Kitauji high school concert...",
           "drama"
          ],
          [
           "Lost & Found is basically...",
           "drama"
          ],
          [
           "Indie musician Dong-hoon and cartoonist...",
           "drama"
          ],
          [
           "The story tells about Ching...",
           "drama"
          ],
          [
           "Gloria Cole and Eddie Swenson...",
           "drama"
          ],
          [
           "Sets in the 19th century,...",
           "drama"
          ],
          [
           "After Joe Huggett loses his...",
           "drama"
          ],
          [
           "Chaiti is a young beautiful...",
           "drama"
          ],
          [
           "Dharma (Anandaraj) is an auto...",
           "drama"
          ],
          [
           "Arjun lives in a village....",
           "drama"
          ],
          [
           "The story of the film...",
           "drama"
          ],
          [
           "Jerry McGuire (William Collier Jr.)...",
           "drama"
          ],
          [
           "Tulsi tells the story of...",
           "drama"
          ],
          [
           "California gubernatorial candidate Burton (Lyon)...",
           "drama"
          ],
          [
           "A 12-year old young boy...",
           "drama"
          ],
          [
           "Soo-nam is a poor woman...",
           "drama"
          ],
          [
           "Rie and Nao own a...",
           "drama"
          ],
          [
           "A simple handyman, who also...",
           "drama"
          ],
          [
           "The film stars Harry Connick...",
           "drama"
          ],
          [
           "Vijay (R. Sarathkumar) and Seetha...",
           "drama"
          ],
          [
           "In 1964, inmate Charlie Forsythe...",
           "drama"
          ],
          [
           "Vivek is a wanted criminal...",
           "drama"
          ],
          [
           "Three teenage boys in small-town...",
           "drama"
          ],
          [
           "In a Mexican nightclub, some...",
           "drama"
          ],
          [
           "The story revolves around an...",
           "drama"
          ],
          [
           "Gopal (M.G.R.) is an honest...",
           "drama"
          ],
          [
           "A rivalry develops between veteran...",
           "drama"
          ],
          [
           "Taglines: \"Being a girl is...",
           "drama"
          ],
          [
           "Chandrabose (Mohanlal) whose wife's (Meera...",
           "drama"
          ],
          [
           "The story is a family...",
           "drama"
          ],
          [
           "Set in Alexandria in 1938,...",
           "drama"
          ],
          [
           "Michael Walsh, a husband and...",
           "drama"
          ],
          [
           "The film revolves around an...",
           "drama"
          ],
          [
           "Alim is a young gay...",
           "drama"
          ],
          [
           "Twice widowed, Pilnyeo vows never...",
           "drama"
          ],
          [
           "A new teacher organizes a...",
           "drama"
          ],
          [
           "The story of a 10th...",
           "drama"
          ],
          [
           "The film is based on...",
           "drama"
          ],
          [
           "Big Bad Love shares its...",
           "drama"
          ],
          [
           "Ten-year-old Bobby (Frankie Thomas) and...",
           "drama"
          ],
          [
           "Brinda (Sindhu Tolani) is an...",
           "drama"
          ],
          [
           "Kumar, a graduate who decides...",
           "drama"
          ],
          [
           "A mysterious killer, known only...",
           "drama"
          ],
          [
           "A genius sculptor Joon-goo (Park...",
           "drama"
          ],
          [
           "A young Lakota Sioux (Lou...",
           "drama"
          ],
          [
           "Hikaru Oshiro, noticing that there...",
           "drama"
          ],
          [
           "The drama tells of a...",
           "drama"
          ]
         ],
         "hovertemplate": "overall_label=%{customdata[1]}<br>x-tsne=%{x}<br>y-tsne=%{y}<br>text=%{customdata[0]}<extra></extra>",
         "legendgroup": "drama",
         "marker": {
          "color": "#636efa",
          "symbol": "circle"
         },
         "mode": "markers",
         "name": "drama",
         "orientation": "v",
         "showlegend": true,
         "type": "scatter",
         "x": [
          6.15857458114624,
          -0.14538408815860748,
          2.766756057739258,
          6.032154083251953,
          -4.859251022338867,
          -0.8353817462921143,
          -5.421968460083008,
          14.92733097076416,
          -11.811043739318848,
          2.44562029838562,
          10.214286804199219,
          -4.571612358093262,
          -8.375125885009766,
          2.3022549152374268,
          -0.5587380528450012,
          -9.737587928771973,
          -7.846170902252197,
          5.359543323516846,
          -6.246593475341797,
          -8.966726303100586,
          1.1457020044326782,
          7.310793399810791,
          9.14972972869873,
          -4.450595378875732,
          2.306364059448242,
          -1.5576682090759277,
          11.574344635009766,
          -7.525329113006592,
          -1.4100900888442993,
          12.312582015991211,
          -13.818089485168457,
          -9.38208293914795,
          -8.185272216796875,
          -12.715304374694824,
          2.2872040271759033,
          3.6427247524261475,
          -0.1615925282239914,
          5.1822509765625,
          -14.022409439086914,
          9.180615425109863,
          4.044412136077881,
          8.31808853149414,
          4.946008682250977,
          -6.317192077636719,
          6.212977886199951,
          -1.7438957691192627,
          -14.690964698791504,
          -6.11301326751709,
          1.06768798828125,
          3.2192904949188232,
          5.304985523223877,
          -10.50512981414795,
          -1.7506186962127686,
          14.92551040649414,
          -2.42948579788208,
          6.443060398101807,
          14.10638427734375,
          -13.699652671813965,
          1.2609559297561646,
          9.757879257202148,
          4.864887714385986,
          2.576385021209717,
          -13.419889450073242,
          3.1614980697631836,
          -12.95125675201416,
          13.967818260192871,
          0.4998098313808441,
          -1.110587239265442,
          -5.565247058868408,
          15.427425384521484,
          -6.499773025512695,
          13.827836990356445,
          4.593791961669922,
          -8.56167984008789,
          12.722014427185059,
          -9.277463912963867
         ],
         "xaxis": "x",
         "y": [
          -4.403536319732666,
          5.245081424713135,
          -15.338573455810547,
          -12.698373794555664,
          -4.438601016998291,
          -16.014787673950195,
          11.01368236541748,
          -3.7034482955932617,
          6.738092422485352,
          6.714480400085449,
          -7.665394306182861,
          6.565469741821289,
          8.912961959838867,
          9.429986000061035,
          8.157843589782715,
          3.0971710681915283,
          -8.008472442626953,
          1.6901060342788696,
          2.692542314529419,
          -10.86282730102539,
          -2.274510383605957,
          7.988244533538818,
          -10.033356666564941,
          -12.66202449798584,
          -0.2062191516160965,
          6.074619770050049,
          0.28187698125839233,
          4.969176292419434,
          -10.659629821777344,
          2.124811887741089,
          6.937711715698242,
          4.853911876678467,
          1.7377101182937622,
          -4.018492221832275,
          -9.88607406616211,
          -8.971282005310059,
          -12.336819648742676,
          -11.021562576293945,
          6.728112697601318,
          -6.966755390167236,
          7.775500297546387,
          0.5213550329208374,
          4.59958028793335,
          -4.915563583374023,
          -0.21046391129493713,
          -3.581000566482544,
          -4.394424915313721,
          -1.9465618133544922,
          -2.348045825958252,
          -14.157459259033203,
          2.7752010822296143,
          7.881812572479248,
          2.3093817234039307,
          -3.3720853328704834,
          -5.664615154266357,
          -5.306236743927002,
          1.75834321975708,
          8.153437614440918,
          11.719843864440918,
          -1.9779086112976074,
          -0.37175339460372925,
          10.454007148742676,
          -4.800802230834961,
          -3.3396809101104736,
          3.2747232913970947,
          2.2527403831481934,
          6.709505081176758,
          11.27553939819336,
          -13.777448654174805,
          -1.9385966062545776,
          11.64963150024414,
          -3.8436150550842285,
          -6.012904644012451,
          5.665315628051758,
          1.4690850973129272,
          -2.856402635574341
         ],
         "yaxis": "y"
        },
        {
         "customdata": [
          [
           "Jagathalaprathapan is a prince who...",
           "romance"
          ],
          [
           "The story is about two...",
           "romance"
          ],
          [
           "In 1962, South Korea. Kang...",
           "romance"
          ],
          [
           "It is love at first...",
           "romance"
          ],
          [
           "Claire of the Moon is...",
           "romance"
          ],
          [
           "A man visits a happy...",
           "romance"
          ],
          [
           "Marianne (Greta Garbo) is a...",
           "romance"
          ],
          [
           "Italian aristocrat Angela Chiaromonte (Helen...",
           "romance"
          ],
          [
           "Joan (Purviance) and Magdalen (Sothern)...",
           "romance"
          ],
          [
           "Akashangalil is the story of...",
           "romance"
          ],
          [
           "Roanne Sanchez, a young girl...",
           "romance"
          ],
          [
           "Trust concerns the unusual romance...",
           "romance"
          ],
          [
           "Newland Archer is engaged to...",
           "romance"
          ],
          [
           "In the 1930s, Teresa (Buday)...",
           "romance"
          ]
         ],
         "hovertemplate": "overall_label=%{customdata[1]}<br>x-tsne=%{x}<br>y-tsne=%{y}<br>text=%{customdata[0]}<extra></extra>",
         "legendgroup": "romance",
         "marker": {
          "color": "#EF553B",
          "symbol": "circle"
         },
         "mode": "markers",
         "name": "romance",
         "orientation": "v",
         "showlegend": true,
         "type": "scatter",
         "x": [
          -1.5331199169158936,
          -4.103763580322266,
          -12.667084693908691,
          -8.596982955932617,
          7.530233383178711,
          3.165160655975342,
          -3.1449759006500244,
          4.4616265296936035,
          -1.93263840675354,
          -11.124321937561035,
          -3.755152702331543,
          -3.488114833831787,
          -4.023601531982422,
          3.718745708465576
         ],
         "xaxis": "x",
         "y": [
          -4.601224422454834,
          4.300051212310791,
          3.078190803527832,
          -5.9929094314575195,
          15.2839937210083,
          10.734295845031738,
          8.676506042480469,
          -3.3460121154785156,
          12.346519470214844,
          -5.370841979980469,
          -1.6575813293457031,
          -0.6636617183685303,
          -8.946925163269043,
          2.2680740356445312
         ],
         "yaxis": "y"
        },
        {
         "customdata": [
          [
           "Police inspector Holloway (Patrick Wymark)...",
           "action"
          ],
          [
           "Neil John Samuel is a...",
           "action"
          ],
          [
           "Mongol chief Temujin (later to...",
           "action"
          ],
          [
           "A popular dance hall girl,...",
           "action"
          ],
          [
           "In World War II, two...",
           "action"
          ],
          [
           "Two reporters, Curtis (Conrad Phillips)...",
           "action"
          ],
          [
           "The film is set in...",
           "action"
          ],
          [
           "Rolex (Prakash Raj) is a...",
           "action"
          ],
          [
           "Two escaping killers hide out...",
           "action"
          ],
          [
           "Inventor and engineer Robert Draper...",
           "action"
          ],
          [
           "This film follows the lead...",
           "action"
          ],
          [
           "A former agent from the...",
           "action"
          ],
          [
           "Sally Elliott (Rita Hayworth), a...",
           "action"
          ],
          [
           "Chu Liuxiang is having drinks...",
           "action"
          ],
          [
           "Charles Kessler (Bela Lugosi) is...",
           "action"
          ],
          [
           "United States Secret Service Lieutenant...",
           "action"
          ],
          [
           "Professional hunter Harry Black is...",
           "action"
          ],
          [
           "Hiraasat is an action film,...",
           "action"
          ],
          [
           "Karthi (Mahesh) is a college...",
           "action"
          ],
          [
           "A blind detective, Duncan Maclain,...",
           "action"
          ],
          [
           "Frankie Bono, a hitman from...",
           "action"
          ],
          [
           "The Philippines, 1972. Mysterious things...",
           "action"
          ],
          [
           "Two days before Christmas, a...",
           "action"
          ],
          [
           "Kumar is a young and...",
           "action"
          ],
          [
           "Convict Van Duff is the...",
           "action"
          ],
          [
           "An old gangster, with a...",
           "action"
          ],
          [
           "The story revolves around a...",
           "action"
          ],
          [
           "Russian general Marenkov (Robert Shaw)...",
           "action"
          ],
          [
           "Omar Sharif plays Muhassab, headman...",
           "action"
          ],
          [
           "The film is set in...",
           "action"
          ],
          [
           "Hans a young German journalist...",
           "action"
          ]
         ],
         "hovertemplate": "overall_label=%{customdata[1]}<br>x-tsne=%{x}<br>y-tsne=%{y}<br>text=%{customdata[0]}<extra></extra>",
         "legendgroup": "action",
         "marker": {
          "color": "#00cc96",
          "symbol": "circle"
         },
         "mode": "markers",
         "name": "action",
         "orientation": "v",
         "showlegend": true,
         "type": "scatter",
         "x": [
          11.78635025024414,
          -13.89668083190918,
          2.041848659515381,
          10.845602035522461,
          7.4038591384887695,
          -0.8141725659370422,
          -10.172282218933105,
          -0.4201473593711853,
          10.429742813110352,
          3.356023073196411,
          0.5026965141296387,
          5.878200531005859,
          -8.084741592407227,
          -10.151922225952148,
          6.598589897155762,
          -11.63383674621582,
          6.225253582000732,
          1.141451358795166,
          -2.1959362030029297,
          0.8918646574020386,
          -7.698011875152588,
          -7.74055814743042,
          -5.542453765869141,
          -0.6479975581169128,
          9.411588668823242,
          8.805898666381836,
          2.4223217964172363,
          9.85296630859375,
          -14.084027290344238,
          6.007676124572754,
          -9.130656242370605
         ],
         "xaxis": "x",
         "y": [
          -4.585610389709473,
          -2.088819742202759,
          -4.010807037353516,
          11.158265113830566,
          -5.464252471923828,
          -16.02920150756836,
          -10.879596710205078,
          -0.7046859860420227,
          3.7239246368408203,
          -14.512293815612793,
          13.74504566192627,
          -6.713230133056641,
          -3.6120901107788086,
          -6.027303218841553,
          2.805091381072998,
          -9.047441482543945,
          5.72611141204834,
          13.493605613708496,
          6.339578628540039,
          -7.977254390716553,
          -2.419149160385132,
          8.030020713806152,
          -0.2712503671646118,
          -0.5737536549568176,
          10.829936981201172,
          1.93757963180542,
          -13.367630004882812,
          10.9688720703125,
          -0.7856519222259521,
          15.737005233764648,
          0.25741466879844666
         ],
         "yaxis": "y"
        },
        {
         "customdata": [
          [
           "In a British TV studio,...",
           "comedy"
          ],
          [
           "George Cabot Jr. (Cesar Romero),...",
           "comedy"
          ],
          [
           "Young sci-fi/fantasy enthusiast Gavin Gore...",
           "comedy"
          ],
          [
           "Mordecai C. Jones (Scott) –...",
           "comedy"
          ],
          [
           "The story is about a...",
           "comedy"
          ],
          [
           "Two best friends who live...",
           "comedy"
          ],
          [
           "Curry and Pepper are two...",
           "comedy"
          ],
          [
           "Loosely based on true events...",
           "comedy"
          ],
          [
           "Scott (Ryan Phillippe) is a...",
           "comedy"
          ],
          [
           "Irène Bordoni is cast as...",
           "comedy"
          ],
          [
           "Cosmo Reif, an affectless mob...",
           "comedy"
          ],
          [
           "Edgar Mills and his mistress...",
           "comedy"
          ],
          [
           "Molly Gilbert won't accept a...",
           "comedy"
          ],
          [
           "Bumbling cop Chatur Singh (Sanjay...",
           "comedy"
          ],
          [
           "Hardy plays Dr. Henry Tibbett,...",
           "comedy"
          ],
          [
           "After discovering that her state...",
           "comedy"
          ],
          [
           "Struggling young actress Jenny (Marjorie...",
           "comedy"
          ],
          [
           "In every port, sailor Bill,...",
           "comedy"
          ],
          [
           "Hong Deok-Ja continues to run...",
           "comedy"
          ],
          [
           "A San Francisco earthquake orphan...",
           "comedy"
          ],
          [
           "The film is about an...",
           "comedy"
          ],
          [
           "The story line centres on...",
           "comedy"
          ],
          [
           "Stephen Ghent, a mineowner, falls...",
           "comedy"
          ],
          [
           "The film tells the story...",
           "comedy"
          ],
          [
           "Eric Wainwright (Van Johnson), a...",
           "comedy"
          ],
          [
           "Kevin Agar is a Carlton-based...",
           "comedy"
          ],
          [
           "Restaurant owner Dylan Ramsey (David...",
           "comedy"
          ],
          [
           "When Los Angeles' police force...",
           "comedy"
          ],
          [
           "Two college girls, Ducky and...",
           "comedy"
          ],
          [
           "Fontaine Khaled is the London...",
           "comedy"
          ],
          [
           "The film's slight storyline concerns...",
           "comedy"
          ],
          [
           "The film tells the story...",
           "comedy"
          ],
          [
           "Officers throw an extravagant party...",
           "comedy"
          ],
          [
           "A bullied teen chef wants...",
           "comedy"
          ],
          [
           "Flagg (Victor McLaglen) and Quirt...",
           "comedy"
          ],
          [
           "Nick (Niven) is the supposed...",
           "comedy"
          ],
          [
           "This film is about the...",
           "comedy"
          ],
          [
           "In a small town, mentally...",
           "comedy"
          ],
          [
           "On board an ocean liner...",
           "comedy"
          ],
          [
           "The boys are involved in...",
           "comedy"
          ],
          [
           "The Rogers family visit Blackpool...",
           "comedy"
          ],
          [
           "The film is about an...",
           "comedy"
          ],
          [
           "The young filmmaker Timothy (Jonathan...",
           "comedy"
          ],
          [
           "Julia Hemingway (Ina Skriver, credited...",
           "comedy"
          ],
          [
           "Small-fry marijuana harvesters in Northern...",
           "comedy"
          ],
          [
           "The Chain tells the story...",
           "comedy"
          ]
         ],
         "hovertemplate": "overall_label=%{customdata[1]}<br>x-tsne=%{x}<br>y-tsne=%{y}<br>text=%{customdata[0]}<extra></extra>",
         "legendgroup": "comedy",
         "marker": {
          "color": "#ab63fa",
          "symbol": "circle"
         },
         "mode": "markers",
         "name": "comedy",
         "orientation": "v",
         "showlegend": true,
         "type": "scatter",
         "x": [
          10.292784690856934,
          -13.974714279174805,
          -10.564282417297363,
          -8.453285217285156,
          8.534249305725098,
          -4.67139196395874,
          -1.5451754331588745,
          2.320117235183716,
          -4.851569175720215,
          -6.157554626464844,
          -13.819912910461426,
          -4.202971458435059,
          -12.742218971252441,
          5.447081565856934,
          15.66877269744873,
          -10.823099136352539,
          -3.550605297088623,
          -12.011516571044922,
          -5.949743747711182,
          0.7355837225914001,
          8.640644073486328,
          -2.0730044841766357,
          -5.1305623054504395,
          4.657215595245361,
          -5.134864330291748,
          -1.9965648651123047,
          -0.33294162154197693,
          12.721602439880371,
          -10.68049144744873,
          3.044168710708618,
          0.47283971309661865,
          9.716644287109375,
          5.497482776641846,
          -12.349444389343262,
          2.2166643142700195,
          -3.575188159942627,
          -0.9256924390792847,
          1.6583648920059204,
          6.207381248474121,
          -6.474247932434082,
          2.2975056171417236,
          -3.900099515914917,
          -0.7005544900894165,
          9.359607696533203,
          -9.103607177734375,
          -1.108327031135559
         ],
         "xaxis": "x",
         "y": [
          -1.281523585319519,
          -9.623976707458496,
          0.5528675317764282,
          12.125099182128906,
          1.5462812185287476,
          4.460816383361816,
          3.310431957244873,
          4.727503776550293,
          2.201152801513672,
          -5.705794811248779,
          4.467128276824951,
          15.495713233947754,
          -1.2129912376403809,
          -10.68235969543457,
          5.44058084487915,
          -3.62864351272583,
          -2.426961660385132,
          -0.28206923604011536,
          0.1903238445520401,
          -4.938737869262695,
          -9.020566940307617,
          -3.216660976409912,
          14.692442893981934,
          4.321945667266846,
          -13.347953796386719,
          -10.433969497680664,
          -7.655153274536133,
          -4.065308094024658,
          -11.572022438049316,
          -6.30576753616333,
          3.6228652000427246,
          -7.794801712036133,
          10.171780586242676,
          -2.0216286182403564,
          13.742279052734375,
          8.53212833404541,
          0.05130445957183838,
          1.7786186933517456,
          9.102018356323242,
          -9.78042984008789,
          -9.477072715759277,
          2.0119476318359375,
          -7.582556247711182,
          -3.0359935760498047,
          8.802236557006836,
          10.515130043029785
         ],
         "yaxis": "y"
        },
        {
         "customdata": [
          [
           "Flesh (Vince Murdocco) is kidnapped...",
           "fantasy"
          ],
          [
           "3000 years ago, the Vader...",
           "fantasy"
          ],
          [
           "A psychic woman leads archaeologists...",
           "fantasy"
          ],
          [
           "Dr. Markoff (J. Carrol Naish)...",
           "fantasy"
          ],
          [
           "On the run from the...",
           "fantasy"
          ],
          [
           "Set in the austere post–World...",
           "fantasy"
          ],
          [
           "The film is a retelling...",
           "fantasy"
          ],
          [
           "Christopher, a lustful man goes...",
           "fantasy"
          ],
          [
           "An earthquake releases a bunch...",
           "fantasy"
          ],
          [
           "Nine people from around the...",
           "fantasy"
          ],
          [
           "The film takes place in...",
           "fantasy"
          ],
          [
           "The story of the film...",
           "fantasy"
          ],
          [
           "The film is set in...",
           "fantasy"
          ],
          [
           "The plot of the film...",
           "fantasy"
          ],
          [
           "In the year 1999, the...",
           "fantasy"
          ],
          [
           "Jin-hong is a prosecutor who...",
           "fantasy"
          ],
          [
           "Agimat (Bong Revilla, Jr.) is...",
           "fantasy"
          ]
         ],
         "hovertemplate": "overall_label=%{customdata[1]}<br>x-tsne=%{x}<br>y-tsne=%{y}<br>text=%{customdata[0]}<extra></extra>",
         "legendgroup": "fantasy",
         "marker": {
          "color": "#FFA15A",
          "symbol": "circle"
         },
         "mode": "markers",
         "name": "fantasy",
         "orientation": "v",
         "showlegend": true,
         "type": "scatter",
         "x": [
          13.954092025756836,
          -11.751374244689941,
          -7.845306873321533,
          15.43994426727295,
          13.161201477050781,
          7.246892929077148,
          3.791905641555786,
          -10.27719497680664,
          -12.214241027832031,
          9.087972640991211,
          6.420541763305664,
          -2.601219654083252,
          7.95877742767334,
          10.318571090698242,
          -10.763211250305176,
          -6.996126651763916,
          -12.77160930633545
         ],
         "xaxis": "x",
         "y": [
          6.934261322021484,
          12.47128677368164,
          -1.4764164686203003,
          5.7231903076171875,
          7.266633987426758,
          -2.8012068271636963,
          7.622516632080078,
          -9.891803741455078,
          12.97947883605957,
          4.887442111968994,
          -2.1662545204162598,
          4.387508869171143,
          4.824501037597656,
          7.007704734802246,
          12.28848648071289,
          2.257436752319336,
          12.112886428833008
         ],
         "yaxis": "y"
        },
        {
         "customdata": [
          [
           "Having cleaned up Tombstone, Arizona,...",
           "western"
          ],
          [
           "Unlike other Alamo films that...",
           "western"
          ],
          [
           "The story involves a middle-aged...",
           "western"
          ],
          [
           "The Hartford Transcontinental Railroad is...",
           "western"
          ],
          [
           "After being told by his...",
           "western"
          ],
          [
           "Jeff Hassard (Dean Jagger) and...",
           "western"
          ],
          [
           "A U.S. marshal investigates when...",
           "western"
          ],
          [
           "John Murdock (Paul Richards) is...",
           "western"
          ],
          [
           "A prospective settler, pioneer Bob...",
           "western"
          ]
         ],
         "hovertemplate": "overall_label=%{customdata[1]}<br>x-tsne=%{x}<br>y-tsne=%{y}<br>text=%{customdata[0]}<extra></extra>",
         "legendgroup": "western",
         "marker": {
          "color": "#19d3f3",
          "symbol": "circle"
         },
         "mode": "markers",
         "name": "western",
         "orientation": "v",
         "showlegend": true,
         "type": "scatter",
         "x": [
          -4.068755149841309,
          -5.7275800704956055,
          -3.711306095123291,
          6.59342098236084,
          -5.174108982086182,
          6.1636128425598145,
          3.445692300796509,
          10.662151336669922,
          1.4873931407928467
         ],
         "xaxis": "x",
         "y": [
          -7.621546268463135,
          13.713678359985352,
          -6.9124531745910645,
          15.172489166259766,
          -7.059080123901367,
          14.005746841430664,
          -0.10700193047523499,
          7.180356502532959,
          1.1845345497131348
         ],
         "yaxis": "y"
        },
        {
         "customdata": [
          [
           "The film is an account...",
           "document"
          ],
          [
           "In 1983 KBS launched a...",
           "document"
          ],
          [
           "A Mighty Heart is a...",
           "document"
          ],
          [
           "The film is an examination...",
           "document"
          ],
          [
           "In the autumn of 1950,...",
           "document"
          ],
          [
           "Raised on a sharecropping plantation...",
           "document"
          ],
          [
           "The film is a historical...",
           "document"
          ]
         ],
         "hovertemplate": "overall_label=%{customdata[1]}<br>x-tsne=%{x}<br>y-tsne=%{y}<br>text=%{customdata[0]}<extra></extra>",
         "legendgroup": "document",
         "marker": {
          "color": "#FF6692",
          "symbol": "circle"
         },
         "mode": "markers",
         "name": "document",
         "orientation": "v",
         "showlegend": true,
         "type": "scatter",
         "x": [
          -0.0398961566388607,
          5.349435329437256,
          -14.05737018585205,
          2.9240846633911133,
          -6.811313629150391,
          -6.873302459716797,
          -0.1006949320435524
         ],
         "xaxis": "x",
         "y": [
          5.609573841094971,
          -5.893397331237793,
          -9.062211990356445,
          4.798036575317383,
          12.004254341125488,
          7.452678203582764,
          7.926621437072754
         ],
         "yaxis": "y"
        }
       ],
       "layout": {
        "height": 1200,
        "legend": {
         "title": {
          "text": "overall_label"
         },
         "tracegroupgap": 0
        },
        "template": {
         "data": {
          "bar": [
           {
            "error_x": {
             "color": "#2a3f5f"
            },
            "error_y": {
             "color": "#2a3f5f"
            },
            "marker": {
             "line": {
              "color": "#E5ECF6",
              "width": 0.5
             },
             "pattern": {
              "fillmode": "overlay",
              "size": 10,
              "solidity": 0.2
             }
            },
            "type": "bar"
           }
          ],
          "barpolar": [
           {
            "marker": {
             "line": {
              "color": "#E5ECF6",
              "width": 0.5
             },
             "pattern": {
              "fillmode": "overlay",
              "size": 10,
              "solidity": 0.2
             }
            },
            "type": "barpolar"
           }
          ],
          "carpet": [
           {
            "aaxis": {
             "endlinecolor": "#2a3f5f",
             "gridcolor": "white",
             "linecolor": "white",
             "minorgridcolor": "white",
             "startlinecolor": "#2a3f5f"
            },
            "baxis": {
             "endlinecolor": "#2a3f5f",
             "gridcolor": "white",
             "linecolor": "white",
             "minorgridcolor": "white",
             "startlinecolor": "#2a3f5f"
            },
            "type": "carpet"
           }
          ],
          "choropleth": [
           {
            "colorbar": {
             "outlinewidth": 0,
             "ticks": ""
            },
            "type": "choropleth"
           }
          ],
          "contour": [
           {
            "colorbar": {
             "outlinewidth": 0,
             "ticks": ""
            },
            "colorscale": [
             [
              0,
              "#0d0887"
             ],
             [
              0.1111111111111111,
              "#46039f"
             ],
             [
              0.2222222222222222,
              "#7201a8"
             ],
             [
              0.3333333333333333,
              "#9c179e"
             ],
             [
              0.4444444444444444,
              "#bd3786"
             ],
             [
              0.5555555555555556,
              "#d8576b"
             ],
             [
              0.6666666666666666,
              "#ed7953"
             ],
             [
              0.7777777777777778,
              "#fb9f3a"
             ],
             [
              0.8888888888888888,
              "#fdca26"
             ],
             [
              1,
              "#f0f921"
             ]
            ],
            "type": "contour"
           }
          ],
          "contourcarpet": [
           {
            "colorbar": {
             "outlinewidth": 0,
             "ticks": ""
            },
            "type": "contourcarpet"
           }
          ],
          "heatmap": [
           {
            "colorbar": {
             "outlinewidth": 0,
             "ticks": ""
            },
            "colorscale": [
             [
              0,
              "#0d0887"
             ],
             [
              0.1111111111111111,
              "#46039f"
             ],
             [
              0.2222222222222222,
              "#7201a8"
             ],
             [
              0.3333333333333333,
              "#9c179e"
             ],
             [
              0.4444444444444444,
              "#bd3786"
             ],
             [
              0.5555555555555556,
              "#d8576b"
             ],
             [
              0.6666666666666666,
              "#ed7953"
             ],
             [
              0.7777777777777778,
              "#fb9f3a"
             ],
             [
              0.8888888888888888,
              "#fdca26"
             ],
             [
              1,
              "#f0f921"
             ]
            ],
            "type": "heatmap"
           }
          ],
          "heatmapgl": [
           {
            "colorbar": {
             "outlinewidth": 0,
             "ticks": ""
            },
            "colorscale": [
             [
              0,
              "#0d0887"
             ],
             [
              0.1111111111111111,
              "#46039f"
             ],
             [
              0.2222222222222222,
              "#7201a8"
             ],
             [
              0.3333333333333333,
              "#9c179e"
             ],
             [
              0.4444444444444444,
              "#bd3786"
             ],
             [
              0.5555555555555556,
              "#d8576b"
             ],
             [
              0.6666666666666666,
              "#ed7953"
             ],
             [
              0.7777777777777778,
              "#fb9f3a"
             ],
             [
              0.8888888888888888,
              "#fdca26"
             ],
             [
              1,
              "#f0f921"
             ]
            ],
            "type": "heatmapgl"
           }
          ],
          "histogram": [
           {
            "marker": {
             "pattern": {
              "fillmode": "overlay",
              "size": 10,
              "solidity": 0.2
             }
            },
            "type": "histogram"
           }
          ],
          "histogram2d": [
           {
            "colorbar": {
             "outlinewidth": 0,
             "ticks": ""
            },
            "colorscale": [
             [
              0,
              "#0d0887"
             ],
             [
              0.1111111111111111,
              "#46039f"
             ],
             [
              0.2222222222222222,
              "#7201a8"
             ],
             [
              0.3333333333333333,
              "#9c179e"
             ],
             [
              0.4444444444444444,
              "#bd3786"
             ],
             [
              0.5555555555555556,
              "#d8576b"
             ],
             [
              0.6666666666666666,
              "#ed7953"
             ],
             [
              0.7777777777777778,
              "#fb9f3a"
             ],
             [
              0.8888888888888888,
              "#fdca26"
             ],
             [
              1,
              "#f0f921"
             ]
            ],
            "type": "histogram2d"
           }
          ],
          "histogram2dcontour": [
           {
            "colorbar": {
             "outlinewidth": 0,
             "ticks": ""
            },
            "colorscale": [
             [
              0,
              "#0d0887"
             ],
             [
              0.1111111111111111,
              "#46039f"
             ],
             [
              0.2222222222222222,
              "#7201a8"
             ],
             [
              0.3333333333333333,
              "#9c179e"
             ],
             [
              0.4444444444444444,
              "#bd3786"
             ],
             [
              0.5555555555555556,
              "#d8576b"
             ],
             [
              0.6666666666666666,
              "#ed7953"
             ],
             [
              0.7777777777777778,
              "#fb9f3a"
             ],
             [
              0.8888888888888888,
              "#fdca26"
             ],
             [
              1,
              "#f0f921"
             ]
            ],
            "type": "histogram2dcontour"
           }
          ],
          "mesh3d": [
           {
            "colorbar": {
             "outlinewidth": 0,
             "ticks": ""
            },
            "type": "mesh3d"
           }
          ],
          "parcoords": [
           {
            "line": {
             "colorbar": {
              "outlinewidth": 0,
              "ticks": ""
             }
            },
            "type": "parcoords"
           }
          ],
          "pie": [
           {
            "automargin": true,
            "type": "pie"
           }
          ],
          "scatter": [
           {
            "fillpattern": {
             "fillmode": "overlay",
             "size": 10,
             "solidity": 0.2
            },
            "type": "scatter"
           }
          ],
          "scatter3d": [
           {
            "line": {
             "colorbar": {
              "outlinewidth": 0,
              "ticks": ""
             }
            },
            "marker": {
             "colorbar": {
              "outlinewidth": 0,
              "ticks": ""
             }
            },
            "type": "scatter3d"
           }
          ],
          "scattercarpet": [
           {
            "marker": {
             "colorbar": {
              "outlinewidth": 0,
              "ticks": ""
             }
            },
            "type": "scattercarpet"
           }
          ],
          "scattergeo": [
           {
            "marker": {
             "colorbar": {
              "outlinewidth": 0,
              "ticks": ""
             }
            },
            "type": "scattergeo"
           }
          ],
          "scattergl": [
           {
            "marker": {
             "colorbar": {
              "outlinewidth": 0,
              "ticks": ""
             }
            },
            "type": "scattergl"
           }
          ],
          "scattermapbox": [
           {
            "marker": {
             "colorbar": {
              "outlinewidth": 0,
              "ticks": ""
             }
            },
            "type": "scattermapbox"
           }
          ],
          "scatterpolar": [
           {
            "marker": {
             "colorbar": {
              "outlinewidth": 0,
              "ticks": ""
             }
            },
            "type": "scatterpolar"
           }
          ],
          "scatterpolargl": [
           {
            "marker": {
             "colorbar": {
              "outlinewidth": 0,
              "ticks": ""
             }
            },
            "type": "scatterpolargl"
           }
          ],
          "scatterternary": [
           {
            "marker": {
             "colorbar": {
              "outlinewidth": 0,
              "ticks": ""
             }
            },
            "type": "scatterternary"
           }
          ],
          "surface": [
           {
            "colorbar": {
             "outlinewidth": 0,
             "ticks": ""
            },
            "colorscale": [
             [
              0,
              "#0d0887"
             ],
             [
              0.1111111111111111,
              "#46039f"
             ],
             [
              0.2222222222222222,
              "#7201a8"
             ],
             [
              0.3333333333333333,
              "#9c179e"
             ],
             [
              0.4444444444444444,
              "#bd3786"
             ],
             [
              0.5555555555555556,
              "#d8576b"
             ],
             [
              0.6666666666666666,
              "#ed7953"
             ],
             [
              0.7777777777777778,
              "#fb9f3a"
             ],
             [
              0.8888888888888888,
              "#fdca26"
             ],
             [
              1,
              "#f0f921"
             ]
            ],
            "type": "surface"
           }
          ],
          "table": [
           {
            "cells": {
             "fill": {
              "color": "#EBF0F8"
             },
             "line": {
              "color": "white"
             }
            },
            "header": {
             "fill": {
              "color": "#C8D4E3"
             },
             "line": {
              "color": "white"
             }
            },
            "type": "table"
           }
          ]
         },
         "layout": {
          "annotationdefaults": {
           "arrowcolor": "#2a3f5f",
           "arrowhead": 0,
           "arrowwidth": 1
          },
          "autotypenumbers": "strict",
          "coloraxis": {
           "colorbar": {
            "outlinewidth": 0,
            "ticks": ""
           }
          },
          "colorscale": {
           "diverging": [
            [
             0,
             "#8e0152"
            ],
            [
             0.1,
             "#c51b7d"
            ],
            [
             0.2,
             "#de77ae"
            ],
            [
             0.3,
             "#f1b6da"
            ],
            [
             0.4,
             "#fde0ef"
            ],
            [
             0.5,
             "#f7f7f7"
            ],
            [
             0.6,
             "#e6f5d0"
            ],
            [
             0.7,
             "#b8e186"
            ],
            [
             0.8,
             "#7fbc41"
            ],
            [
             0.9,
             "#4d9221"
            ],
            [
             1,
             "#276419"
            ]
           ],
           "sequential": [
            [
             0,
             "#0d0887"
            ],
            [
             0.1111111111111111,
             "#46039f"
            ],
            [
             0.2222222222222222,
             "#7201a8"
            ],
            [
             0.3333333333333333,
             "#9c179e"
            ],
            [
             0.4444444444444444,
             "#bd3786"
            ],
            [
             0.5555555555555556,
             "#d8576b"
            ],
            [
             0.6666666666666666,
             "#ed7953"
            ],
            [
             0.7777777777777778,
             "#fb9f3a"
            ],
            [
             0.8888888888888888,
             "#fdca26"
            ],
            [
             1,
             "#f0f921"
            ]
           ],
           "sequentialminus": [
            [
             0,
             "#0d0887"
            ],
            [
             0.1111111111111111,
             "#46039f"
            ],
            [
             0.2222222222222222,
             "#7201a8"
            ],
            [
             0.3333333333333333,
             "#9c179e"
            ],
            [
             0.4444444444444444,
             "#bd3786"
            ],
            [
             0.5555555555555556,
             "#d8576b"
            ],
            [
             0.6666666666666666,
             "#ed7953"
            ],
            [
             0.7777777777777778,
             "#fb9f3a"
            ],
            [
             0.8888888888888888,
             "#fdca26"
            ],
            [
             1,
             "#f0f921"
            ]
           ]
          },
          "colorway": [
           "#636efa",
           "#EF553B",
           "#00cc96",
           "#ab63fa",
           "#FFA15A",
           "#19d3f3",
           "#FF6692",
           "#B6E880",
           "#FF97FF",
           "#FECB52"
          ],
          "font": {
           "color": "#2a3f5f"
          },
          "geo": {
           "bgcolor": "white",
           "lakecolor": "white",
           "landcolor": "#E5ECF6",
           "showlakes": true,
           "showland": true,
           "subunitcolor": "white"
          },
          "hoverlabel": {
           "align": "left"
          },
          "hovermode": "closest",
          "mapbox": {
           "style": "light"
          },
          "paper_bgcolor": "white",
          "plot_bgcolor": "#E5ECF6",
          "polar": {
           "angularaxis": {
            "gridcolor": "white",
            "linecolor": "white",
            "ticks": ""
           },
           "bgcolor": "#E5ECF6",
           "radialaxis": {
            "gridcolor": "white",
            "linecolor": "white",
            "ticks": ""
           }
          },
          "scene": {
           "xaxis": {
            "backgroundcolor": "#E5ECF6",
            "gridcolor": "white",
            "gridwidth": 2,
            "linecolor": "white",
            "showbackground": true,
            "ticks": "",
            "zerolinecolor": "white"
           },
           "yaxis": {
            "backgroundcolor": "#E5ECF6",
            "gridcolor": "white",
            "gridwidth": 2,
            "linecolor": "white",
            "showbackground": true,
            "ticks": "",
            "zerolinecolor": "white"
           },
           "zaxis": {
            "backgroundcolor": "#E5ECF6",
            "gridcolor": "white",
            "gridwidth": 2,
            "linecolor": "white",
            "showbackground": true,
            "ticks": "",
            "zerolinecolor": "white"
           }
          },
          "shapedefaults": {
           "line": {
            "color": "#2a3f5f"
           }
          },
          "ternary": {
           "aaxis": {
            "gridcolor": "white",
            "linecolor": "white",
            "ticks": ""
           },
           "baxis": {
            "gridcolor": "white",
            "linecolor": "white",
            "ticks": ""
           },
           "bgcolor": "#E5ECF6",
           "caxis": {
            "gridcolor": "white",
            "linecolor": "white",
            "ticks": ""
           }
          },
          "title": {
           "x": 0.05
          },
          "xaxis": {
           "automargin": true,
           "gridcolor": "white",
           "linecolor": "white",
           "ticks": "",
           "title": {
            "standoff": 15
           },
           "zerolinecolor": "white",
           "zerolinewidth": 2
          },
          "yaxis": {
           "automargin": true,
           "gridcolor": "white",
           "linecolor": "white",
           "ticks": "",
           "title": {
            "standoff": 15
           },
           "zerolinecolor": "white",
           "zerolinewidth": 2
          }
         }
        },
        "title": {
         "text": "Sentences t-SNE Visualization with TF-IDF Embeddings"
        },
        "width": 1200,
        "xaxis": {
         "anchor": "y",
         "domain": [
          0,
          1
         ],
         "title": {
          "text": "x-tsne"
         }
        },
        "yaxis": {
         "anchor": "x",
         "domain": [
          0,
          1
         ],
         "title": {
          "text": "y-tsne"
         }
        }
       }
      }
     },
     "metadata": {},
     "output_type": "display_data"
    }
   ],
   "source": [
    "tsne = TSNE(n_components=2, random_state=42, perplexity=30, max_iter=1000)\n",
    "X_tsne = tsne.fit_transform(tfidf_emb_arr)\n",
    "\n",
    "tfidf_df['text'] = tfidf_df['text'].apply(lambda x: \" \".join(x.split()[:5]) + \"...\")\n",
    "\n",
    "# Add t-SNE results to the DataFrame\n",
    "tfidf_df[\"x-tsne\"] = X_tsne[:, 0]\n",
    "tfidf_df[\"y-tsne\"] = X_tsne[:, 1]\n",
    "\n",
    "# Create interactive scatter plot\n",
    "fig_tfidf = px.scatter(\n",
    "    tfidf_df,\n",
    "    x=\"x-tsne\",\n",
    "    y=\"y-tsne\",\n",
    "    color=\"overall_label\",\n",
    "    hover_data={\"text\": True, \"overall_label\": True},\n",
    "    title=\"Sentences t-SNE Visualization with TF-IDF Embeddings\",\n",
    "    width=1200,\n",
    "    height=1200,\n",
    ")\n",
    "# Show plot\n",
    "\n",
    "fig_tfidf.show()"
   ]
  },
  {
   "cell_type": "markdown",
   "metadata": {},
   "source": [
    "### HDBSCAN"
   ]
  },
  {
   "cell_type": "code",
   "execution_count": 126,
   "metadata": {},
   "outputs": [],
   "source": [
    "hdbscan = HDBSCAN(\n",
    "    min_cluster_size=5, metric=\"euclidean\", cluster_selection_method=\"eom\"\n",
    ")"
   ]
  },
  {
   "cell_type": "code",
   "execution_count": 127,
   "metadata": {},
   "outputs": [
    {
     "data": {
      "text/html": [
       "<div>\n",
       "<style scoped>\n",
       "    .dataframe tbody tr th:only-of-type {\n",
       "        vertical-align: middle;\n",
       "    }\n",
       "\n",
       "    .dataframe tbody tr th {\n",
       "        vertical-align: top;\n",
       "    }\n",
       "\n",
       "    .dataframe thead th {\n",
       "        text-align: right;\n",
       "    }\n",
       "</style>\n",
       "<table border=\"1\" class=\"dataframe\">\n",
       "  <thead>\n",
       "    <tr style=\"text-align: right;\">\n",
       "      <th></th>\n",
       "      <th>id</th>\n",
       "      <th>text</th>\n",
       "      <th>overall_label</th>\n",
       "      <th>cleaned_text</th>\n",
       "      <th>ft_embeddings</th>\n",
       "      <th>x-tsne</th>\n",
       "      <th>y-tsne</th>\n",
       "      <th>cluster</th>\n",
       "    </tr>\n",
       "  </thead>\n",
       "  <tbody>\n",
       "    <tr>\n",
       "      <th>0</th>\n",
       "      <td>1</td>\n",
       "      <td>The film tells the story...</td>\n",
       "      <td>drama</td>\n",
       "      <td>film tells story elizabeth colbert john welles...</td>\n",
       "      <td>[-0.0124314, 0.007053868, 0.0022771724, 0.0611...</td>\n",
       "      <td>0.811068</td>\n",
       "      <td>0.94434</td>\n",
       "      <td>0</td>\n",
       "    </tr>\n",
       "  </tbody>\n",
       "</table>\n",
       "</div>"
      ],
      "text/plain": [
       "   id                         text overall_label  \\\n",
       "0   1  The film tells the story...         drama   \n",
       "\n",
       "                                        cleaned_text  \\\n",
       "0  film tells story elizabeth colbert john welles...   \n",
       "\n",
       "                                       ft_embeddings    x-tsne   y-tsne  \\\n",
       "0  [-0.0124314, 0.007053868, 0.0022771724, 0.0611...  0.811068  0.94434   \n",
       "\n",
       "   cluster  \n",
       "0        0  "
      ]
     },
     "execution_count": 127,
     "metadata": {},
     "output_type": "execute_result"
    }
   ],
   "source": [
    "ft_df[\"cluster\"] = hdbscan.fit_predict(ft_embed_arr)\n",
    "ft_df.head(1)"
   ]
  },
  {
   "cell_type": "code",
   "execution_count": 128,
   "metadata": {},
   "outputs": [
    {
     "data": {
      "application/vnd.plotly.v1+json": {
       "config": {
        "plotlyServerURL": "https://plot.ly"
       },
       "data": [
        {
         "customdata": [
          [
           "The film tells the story...",
           "drama",
           "0"
          ],
          [
           "Young sci-fi/fantasy enthusiast Gavin Gore...",
           "comedy",
           "0"
          ],
          [
           "In World War II, two...",
           "action",
           "0"
          ],
          [
           "Byron Levin works in a...",
           "drama",
           "0"
          ],
          [
           "It is love at first...",
           "romance",
           "0"
          ],
          [
           "Joseph is a mentally retarded...",
           "drama",
           "0"
          ],
          [
           "Dr. Markoff (J. Carrol Naish)...",
           "fantasy",
           "0"
          ],
          [
           "The plot revolves around the...",
           "drama",
           "0"
          ],
          [
           "Set in the austere post–World...",
           "fantasy",
           "0"
          ],
          [
           "Scott (Ryan Phillippe) is a...",
           "comedy",
           "0"
          ],
          [
           "Cosmo Reif, an affectless mob...",
           "comedy",
           "0"
          ],
          [
           "Edgar Mills and his mistress...",
           "comedy",
           "0"
          ],
          [
           "Marianne (Greta Garbo) is a...",
           "romance",
           "0"
          ],
          [
           "Italian aristocrat Angela Chiaromonte (Helen...",
           "romance",
           "0"
          ],
          [
           "Two escaping killers hide out...",
           "action",
           "0"
          ],
          [
           "Struggling young actress Jenny (Marjorie...",
           "comedy",
           "0"
          ],
          [
           "Sally Elliott (Rita Hayworth), a...",
           "action",
           "0"
          ],
          [
           "Roanne Sanchez, a young girl...",
           "romance",
           "0"
          ],
          [
           "The Hartford Transcontinental Railroad is...",
           "western",
           "0"
          ],
          [
           "Trust concerns the unusual romance...",
           "romance",
           "0"
          ],
          [
           "Restaurant owner Dylan Ramsey (David...",
           "comedy",
           "0"
          ],
          [
           "Jeff Hassard (Dean Jagger) and...",
           "western",
           "0"
          ],
          [
           "Charles Kessler (Bela Lugosi) is...",
           "action",
           "0"
          ],
          [
           "United States Secret Service Lieutenant...",
           "action",
           "0"
          ],
          [
           "Two college girls, Ducky and...",
           "comedy",
           "0"
          ],
          [
           "Professional hunter Harry Black is...",
           "action",
           "0"
          ],
          [
           "The film's slight storyline concerns...",
           "comedy",
           "0"
          ],
          [
           "A blind detective, Duncan Maclain,...",
           "action",
           "0"
          ],
          [
           "Three teenage boys in small-town...",
           "drama",
           "0"
          ],
          [
           "Alim is a young gay...",
           "drama",
           "0"
          ],
          [
           "In the 1930s, Teresa (Buday)...",
           "romance",
           "0"
          ],
          [
           "John Murdock (Paul Richards) is...",
           "western",
           "0"
          ],
          [
           "Big Bad Love shares its...",
           "drama",
           "0"
          ],
          [
           "Ten-year-old Bobby (Frankie Thomas) and...",
           "drama",
           "0"
          ],
          [
           "Agimat (Bong Revilla, Jr.) is...",
           "fantasy",
           "0"
          ],
          [
           "A prospective settler, pioneer Bob...",
           "western",
           "0"
          ],
          [
           "Julia Hemingway (Ina Skriver, credited...",
           "comedy",
           "0"
          ],
          [
           "Hans a young German journalist...",
           "action",
           "0"
          ],
          [
           "The drama tells of a...",
           "drama",
           "0"
          ]
         ],
         "hovertemplate": "cluster=%{customdata[2]}<br>x-tsne=%{x}<br>y-tsne=%{y}<br>text=%{customdata[0]}<br>overall_label=%{customdata[1]}<extra></extra>",
         "legendgroup": "0",
         "marker": {
          "color": "#636efa",
          "symbol": "circle"
         },
         "mode": "markers",
         "name": "0",
         "orientation": "v",
         "showlegend": true,
         "type": "scatter",
         "x": [
          0.8110679984092712,
          1.289254903793335,
          4.408655643463135,
          3.3298842906951904,
          -1.3019824028015137,
          0.653415322303772,
          -0.7213696837425232,
          1.0014960765838623,
          -1.8267043828964233,
          0.4872572422027588,
          -1.7339234352111816,
          1.6981288194656372,
          2.192033529281616,
          2.814802885055542,
          -0.35814887285232544,
          1.8433929681777954,
          2.184389352798462,
          -1.3420467376708984,
          0.23885925114154816,
          -1.7348860502243042,
          0.39950093626976013,
          2.547294855117798,
          1.8569607734680176,
          4.181210994720459,
          -2.2128567695617676,
          0.6678470373153687,
          -2.8086953163146973,
          1.9943504333496094,
          -0.6947511434555054,
          -1.0311944484710693,
          -0.7594892382621765,
          0.3175640106201172,
          -0.8958030343055725,
          0.43506261706352234,
          -1.3783479928970337,
          0.9582610130310059,
          3.9638898372650146,
          -3.6184258460998535,
          -0.34731772541999817
         ],
         "xaxis": "x",
         "y": [
          0.9443400502204895,
          -2.8471012115478516,
          -0.4212273061275482,
          -1.9592516422271729,
          -0.2441062033176422,
          0.07235246151685715,
          -3.6242716312408447,
          1.3168437480926514,
          -2.6900010108947754,
          0.9032838940620422,
          -0.6334327459335327,
          -0.16375727951526642,
          -1.7236757278442383,
          -0.35050147771835327,
          -2.059988021850586,
          -1.788392424583435,
          -2.5930957794189453,
          0.8934341073036194,
          -1.1521153450012207,
          1.581836223602295,
          -0.8743207454681396,
          -2.6683523654937744,
          -0.07462581247091293,
          -2.616909980773926,
          1.0348455905914307,
          -2.1801769733428955,
          0.5295279622077942,
          -0.17688745260238647,
          -0.2790929675102234,
          2.0266005992889404,
          1.3516788482666016,
          -2.8499577045440674,
          1.002834677696228,
          1.385368824005127,
          -3.5425639152526855,
          -0.4851807951927185,
          -2.3420941829681396,
          1.6534346342086792,
          -4.021231651306152
         ],
         "yaxis": "y"
        },
        {
         "customdata": [
          [
           "The eventful life of Swami...",
           "drama",
           "-1"
          ],
          [
           "Jagathalaprathapan is a prince who...",
           "romance",
           "-1"
          ],
          [
           "Police inspector Holloway (Patrick Wymark)...",
           "action",
           "-1"
          ],
          [
           "Lewis and Clark and George...",
           "drama",
           "-1"
          ],
          [
           "The story is about two...",
           "romance",
           "-1"
          ],
          [
           "In a British TV studio,...",
           "comedy",
           "-1"
          ],
          [
           "George Cabot Jr. (Cesar Romero),...",
           "comedy",
           "-1"
          ],
          [
           "In 1962, South Korea. Kang...",
           "romance",
           "-1"
          ],
          [
           "Neil John Samuel is a...",
           "action",
           "-1"
          ],
          [
           "Vani Viswanath plays the central...",
           "drama",
           "-1"
          ],
          [
           "Oliver's mother, a penniless outcast,...",
           "drama",
           "-1"
          ],
          [
           "Mongol chief Temujin (later to...",
           "action",
           "-1"
          ],
          [
           "A popular dance hall girl,...",
           "action",
           "-1"
          ],
          [
           "Mordecai C. Jones (Scott) –...",
           "comedy",
           "-1"
          ],
          [
           "Reverend Smith has arrived in...",
           "drama",
           "-1"
          ],
          [
           "Following the plot of the...",
           "drama",
           "-1"
          ],
          [
           "Flesh (Vince Murdocco) is kidnapped...",
           "fantasy",
           "-1"
          ],
          [
           "A psychoanalyst and his young...",
           "drama",
           "-1"
          ],
          [
           "Shellshocked following his experiences as...",
           "drama",
           "-1"
          ],
          [
           "The film is a story...",
           "drama",
           "-1"
          ],
          [
           "The story starts with a...",
           "drama",
           "-1"
          ],
          [
           "This film is about a...",
           "drama",
           "-1"
          ],
          [
           "3000 years ago, the Vader...",
           "fantasy",
           "-1"
          ],
          [
           "Having cleaned up Tombstone, Arizona,...",
           "western",
           "-1"
          ],
          [
           "An orphan girl, named Bindu...",
           "drama",
           "-1"
          ],
          [
           "The story is about a...",
           "comedy",
           "-1"
          ],
          [
           "Kisan Kanya was based on...",
           "drama",
           "-1"
          ],
          [
           "A psychic woman leads archaeologists...",
           "fantasy",
           "-1"
          ],
          [
           "Stand-up-comedian Nikita Kolesnikov (Danila Kozlovsky)...",
           "drama",
           "-1"
          ],
          [
           "Two reporters, Curtis (Conrad Phillips)...",
           "action",
           "-1"
          ],
          [
           "Two best friends who live...",
           "comedy",
           "-1"
          ],
          [
           "Claire of the Moon is...",
           "romance",
           "-1"
          ],
          [
           "Curry and Pepper are two...",
           "comedy",
           "-1"
          ],
          [
           "Loosely based on true events...",
           "comedy",
           "-1"
          ],
          [
           "Bok-nyeo, a mentally handicapped woman,...",
           "drama",
           "-1"
          ],
          [
           "The movie opens with Fung...",
           "drama",
           "-1"
          ],
          [
           "The film is an account...",
           "document",
           "-1"
          ],
          [
           "On the run from the...",
           "fantasy",
           "-1"
          ],
          [
           "A man visits a happy...",
           "romance",
           "-1"
          ],
          [
           "In 1983 KBS launched a...",
           "document",
           "-1"
          ],
          [
           "Harvey Keitel plays an American...",
           "drama",
           "-1"
          ],
          [
           "Rahul (Ramankanth) sees a concert...",
           "drama",
           "-1"
          ],
          [
           "A crime reporter, assisted by...",
           "drama",
           "-1"
          ],
          [
           "Irène Bordoni is cast as...",
           "comedy",
           "-1"
          ],
          [
           "This film is about two...",
           "drama",
           "-1"
          ],
          [
           "Molly Gilbert won't accept a...",
           "comedy",
           "-1"
          ],
          [
           "The film is set in...",
           "action",
           "-1"
          ],
          [
           "Shane O'Shea is a young...",
           "drama",
           "-1"
          ],
          [
           "Bumbling cop Chatur Singh (Sanjay...",
           "comedy",
           "-1"
          ],
          [
           "Rolex (Prakash Raj) is a...",
           "action",
           "-1"
          ],
          [
           "Dhag is the story of...",
           "drama",
           "-1"
          ],
          [
           "A Mighty Heart is a...",
           "document",
           "-1"
          ],
          [
           "The film is a retelling...",
           "fantasy",
           "-1"
          ],
          [
           "Christopher, a lustful man goes...",
           "fantasy",
           "-1"
          ],
          [
           "Inventor and engineer Robert Draper...",
           "action",
           "-1"
          ],
          [
           "A young sculptor searches for...",
           "drama",
           "-1"
          ],
          [
           "Hardy plays Dr. Henry Tibbett,...",
           "comedy",
           "-1"
          ],
          [
           "After discovering that her state...",
           "comedy",
           "-1"
          ],
          [
           "The film is an examination...",
           "document",
           "-1"
          ],
          [
           "The Kitauji high school concert...",
           "drama",
           "-1"
          ],
          [
           "In every port, sailor Bill,...",
           "comedy",
           "-1"
          ],
          [
           "Lost & Found is basically...",
           "drama",
           "-1"
          ],
          [
           "Joan (Purviance) and Magdalen (Sothern)...",
           "romance",
           "-1"
          ],
          [
           "Hong Deok-Ja continues to run...",
           "comedy",
           "-1"
          ],
          [
           "This film follows the lead...",
           "action",
           "-1"
          ],
          [
           "Indie musician Dong-hoon and cartoonist...",
           "drama",
           "-1"
          ],
          [
           "The story tells about Ching...",
           "drama",
           "-1"
          ],
          [
           "A former agent from the...",
           "action",
           "-1"
          ],
          [
           "Unlike other Alamo films that...",
           "western",
           "-1"
          ],
          [
           "The story involves a middle-aged...",
           "western",
           "-1"
          ],
          [
           "Gloria Cole and Eddie Swenson...",
           "drama",
           "-1"
          ],
          [
           "A San Francisco earthquake orphan...",
           "comedy",
           "-1"
          ],
          [
           "The film is about an...",
           "comedy",
           "-1"
          ],
          [
           "An earthquake releases a bunch...",
           "fantasy",
           "-1"
          ],
          [
           "The story line centres on...",
           "comedy",
           "-1"
          ],
          [
           "Stephen Ghent, a mineowner, falls...",
           "comedy",
           "-1"
          ],
          [
           "Nine people from around the...",
           "fantasy",
           "-1"
          ],
          [
           "Sets in the 19th century,...",
           "drama",
           "-1"
          ],
          [
           "The film tells the story...",
           "comedy",
           "-1"
          ],
          [
           "After Joe Huggett loses his...",
           "drama",
           "-1"
          ],
          [
           "Chaiti is a young beautiful...",
           "drama",
           "-1"
          ],
          [
           "Eric Wainwright (Van Johnson), a...",
           "comedy",
           "-1"
          ],
          [
           "Kevin Agar is a Carlton-based...",
           "comedy",
           "-1"
          ],
          [
           "The film takes place in...",
           "fantasy",
           "-1"
          ],
          [
           "After being told by his...",
           "western",
           "-1"
          ],
          [
           "Arjun lives in a village....",
           "drama",
           "-1"
          ],
          [
           "The story of the film...",
           "drama",
           "-1"
          ],
          [
           "Jerry McGuire (William Collier Jr.)...",
           "drama",
           "-1"
          ],
          [
           "Chu Liuxiang is having drinks...",
           "action",
           "-1"
          ],
          [
           "When Los Angeles' police force...",
           "comedy",
           "-1"
          ],
          [
           "Fontaine Khaled is the London...",
           "comedy",
           "-1"
          ],
          [
           "Hiraasat is an action film,...",
           "action",
           "-1"
          ],
          [
           "California gubernatorial candidate Burton (Lyon)...",
           "drama",
           "-1"
          ],
          [
           "A 12-year old young boy...",
           "drama",
           "-1"
          ],
          [
           "Soo-nam is a poor woman...",
           "drama",
           "-1"
          ],
          [
           "Rie and Nao own a...",
           "drama",
           "-1"
          ],
          [
           "A simple handyman, who also...",
           "drama",
           "-1"
          ],
          [
           "Karthi (Mahesh) is a college...",
           "action",
           "-1"
          ],
          [
           "The story of the film...",
           "fantasy",
           "-1"
          ],
          [
           "The film stars Harry Connick...",
           "drama",
           "-1"
          ],
          [
           "In 1964, inmate Charlie Forsythe...",
           "drama",
           "-1"
          ],
          [
           "Vivek is a wanted criminal...",
           "drama",
           "-1"
          ],
          [
           "The film tells the story...",
           "comedy",
           "-1"
          ],
          [
           "In a Mexican nightclub, some...",
           "drama",
           "-1"
          ],
          [
           "Officers throw an extravagant party...",
           "comedy",
           "-1"
          ],
          [
           "The story revolves around an...",
           "drama",
           "-1"
          ],
          [
           "A bullied teen chef wants...",
           "comedy",
           "-1"
          ],
          [
           "Flagg (Victor McLaglen) and Quirt...",
           "comedy",
           "-1"
          ],
          [
           "Nick (Niven) is the supposed...",
           "comedy",
           "-1"
          ],
          [
           "A rivalry develops between veteran...",
           "drama",
           "-1"
          ],
          [
           "In the autumn of 1950,...",
           "document",
           "-1"
          ],
          [
           "Raised on a sharecropping plantation...",
           "document",
           "-1"
          ],
          [
           "Taglines: \"Being a girl is...",
           "drama",
           "-1"
          ],
          [
           "Newland Archer is engaged to...",
           "romance",
           "-1"
          ],
          [
           "In a small town, mentally...",
           "comedy",
           "-1"
          ],
          [
           "The story is a family...",
           "drama",
           "-1"
          ],
          [
           "Frankie Bono, a hitman from...",
           "action",
           "-1"
          ],
          [
           "The Philippines, 1972. Mysterious things...",
           "action",
           "-1"
          ],
          [
           "Set in Alexandria in 1938,...",
           "drama",
           "-1"
          ],
          [
           "Two days before Christmas, a...",
           "action",
           "-1"
          ],
          [
           "Michael Walsh, a husband and...",
           "drama",
           "-1"
          ],
          [
           "The film revolves around an...",
           "drama",
           "-1"
          ],
          [
           "On board an ocean liner...",
           "comedy",
           "-1"
          ],
          [
           "Twice widowed, Pilnyeo vows never...",
           "drama",
           "-1"
          ],
          [
           "Convict Van Duff is the...",
           "action",
           "-1"
          ],
          [
           "A U.S. marshal investigates when...",
           "western",
           "-1"
          ],
          [
           "A new teacher organizes a...",
           "drama",
           "-1"
          ],
          [
           "The story of a 10th...",
           "drama",
           "-1"
          ],
          [
           "The plot of the film...",
           "fantasy",
           "-1"
          ],
          [
           "The boys are involved in...",
           "comedy",
           "-1"
          ],
          [
           "In the year 1999, the...",
           "fantasy",
           "-1"
          ],
          [
           "The film is a historical...",
           "document",
           "-1"
          ],
          [
           "The film is based on...",
           "drama",
           "-1"
          ],
          [
           "Jin-hong is a prosecutor who...",
           "fantasy",
           "-1"
          ],
          [
           "Brinda (Sindhu Tolani) is an...",
           "drama",
           "-1"
          ],
          [
           "An old gangster, with a...",
           "action",
           "-1"
          ],
          [
           "Kumar, a graduate who decides...",
           "drama",
           "-1"
          ],
          [
           "The Rogers family visit Blackpool...",
           "comedy",
           "-1"
          ],
          [
           "The story revolves around a...",
           "action",
           "-1"
          ],
          [
           "The film is about an...",
           "comedy",
           "-1"
          ],
          [
           "A mysterious killer, known only...",
           "drama",
           "-1"
          ],
          [
           "A genius sculptor Joon-goo (Park...",
           "drama",
           "-1"
          ],
          [
           "The young filmmaker Timothy (Jonathan...",
           "comedy",
           "-1"
          ],
          [
           "Russian general Marenkov (Robert Shaw)...",
           "action",
           "-1"
          ],
          [
           "Small-fry marijuana harvesters in Northern...",
           "comedy",
           "-1"
          ],
          [
           "Omar Sharif plays Muhassab, headman...",
           "action",
           "-1"
          ],
          [
           "A young Lakota Sioux (Lou...",
           "drama",
           "-1"
          ],
          [
           "The Chain tells the story...",
           "comedy",
           "-1"
          ],
          [
           "The film is set in...",
           "action",
           "-1"
          ],
          [
           "Hikaru Oshiro, noticing that there...",
           "drama",
           "-1"
          ]
         ],
         "hovertemplate": "cluster=%{customdata[2]}<br>x-tsne=%{x}<br>y-tsne=%{y}<br>text=%{customdata[0]}<br>overall_label=%{customdata[1]}<extra></extra>",
         "legendgroup": "-1",
         "marker": {
          "color": "#EF553B",
          "symbol": "circle"
         },
         "mode": "markers",
         "name": "-1",
         "orientation": "v",
         "showlegend": true,
         "type": "scatter",
         "x": [
          -0.7858536243438721,
          1.3490078449249268,
          2.1403121948242188,
          3.0050883293151855,
          -3.3789069652557373,
          0.9581028819084167,
          4.065364360809326,
          -3.115823268890381,
          2.0843873023986816,
          1.7167502641677856,
          0.07500060647726059,
          3.7068562507629395,
          -3.9443602561950684,
          0.14751596748828888,
          3.6061034202575684,
          2.965942859649658,
          -1.384764552116394,
          -3.7081241607666016,
          4.588581562042236,
          -4.913161754608154,
          0.3300054669380188,
          5.81815242767334,
          -1.883567452430725,
          5.717857837677002,
          -4.281037330627441,
          0.44396692514419556,
          0.9367255568504333,
          -2.2938342094421387,
          -1.468998670578003,
          3.8080382347106934,
          -3.2302680015563965,
          2.3968989849090576,
          -2.696800947189331,
          0.26798760890960693,
          -0.07790214568376541,
          1.1692520380020142,
          -4.463236331939697,
          -0.168483167886734,
          -1.5467147827148438,
          -3.3692214488983154,
          1.677862286567688,
          -6.076404094696045,
          -6.778904438018799,
          3.1633152961730957,
          0.7319806218147278,
          -0.46160802245140076,
          -1.7326384782791138,
          1.647127389907837,
          2.647829055786133,
          2.449709892272949,
          -1.2588882446289062,
          4.196620941162109,
          -1.2382639646530151,
          -5.4635910987854,
          5.360151290893555,
          -1.8608916997909546,
          -0.648292064666748,
          -3.935741901397705,
          -4.759166240692139,
          -5.230392932891846,
          1.6852120161056519,
          -0.9849268198013306,
          2.7714996337890625,
          -2.6913695335388184,
          -0.756241500377655,
          -5.925713539123535,
          4.657966136932373,
          6.603071212768555,
          4.562446594238281,
          -0.12881380319595337,
          -0.9698269963264465,
          3.2543797492980957,
          -5.812317371368408,
          -2.622807741165161,
          -2.792428731918335,
          2.9121251106262207,
          -2.7893078327178955,
          5.943972587585449,
          2.7044425010681152,
          -6.30742883682251,
          -0.1858130395412445,
          2.048300266265869,
          -2.235100030899048,
          -4.081595420837402,
          0.23508094251155853,
          -1.5289777517318726,
          5.124116897583008,
          4.044485569000244,
          1.8592902421951294,
          -1.5078963041305542,
          1.700834035873413,
          2.6870877742767334,
          6.643620491027832,
          0.3686841130256653,
          -3.743678569793701,
          -4.9790940284729,
          -6.514346122741699,
          4.030471324920654,
          -3.4708478450775146,
          -0.5563535094261169,
          5.179935455322266,
          3.1921277046203613,
          1.3617099523544312,
          0.8257564902305603,
          3.548563003540039,
          -4.230821132659912,
          -0.5250531435012817,
          -4.729401588439941,
          0.14935874938964844,
          4.701295375823975,
          6.611503601074219,
          -3.4190030097961426,
          -1.6718887090682983,
          1.3005858659744263,
          1.8198437690734863,
          0.5761831402778625,
          -1.6510586738586426,
          4.99675989151001,
          4.587172031402588,
          -4.9939188957214355,
          1.7607475519180298,
          -3.9312357902526855,
          -3.752664089202881,
          -1.0668474435806274,
          -2.4072203636169434,
          3.6122052669525146,
          -5.224240303039551,
          -3.668311834335327,
          -4.937314033508301,
          2.6777358055114746,
          -2.319121837615967,
          2.825925588607788,
          -0.06173049286007881,
          -3.870710849761963,
          3.318716287612915,
          -2.4762046337127686,
          6.426680088043213,
          -0.06119268760085106,
          5.606271743774414,
          -3.2610225677490234,
          -3.7023472785949707,
          -2.1209936141967773,
          1.3888593912124634,
          4.552857875823975,
          -2.534508466720581,
          -1.51064133644104,
          0.9073978066444397,
          -5.1813459396362305,
          3.462285041809082,
          -5.305631160736084
         ],
         "xaxis": "x",
         "y": [
          7.124301910400391,
          5.306999206542969,
          -0.2403935194015503,
          -3.7587075233459473,
          2.528282403945923,
          -4.780206203460693,
          -3.063915729522705,
          4.478872299194336,
          -3.8963050842285156,
          5.965206146240234,
          2.021127939224243,
          1.080514669418335,
          -3.2957165241241455,
          -3.0656468868255615,
          -4.960599899291992,
          0.17319001257419586,
          -3.4387435913085938,
          -1.3913179636001587,
          0.39597928524017334,
          2.5391652584075928,
          -5.1971330642700195,
          1.4103227853775024,
          -3.8360838890075684,
          -4.053198337554932,
          1.615350604057312,
          6.021337509155273,
          8.430949211120605,
          -4.759096622467041,
          3.873450517654419,
          -4.000711917877197,
          0.637023389339447,
          -4.939691066741943,
          0.16087986528873444,
          -4.579516887664795,
          3.8786120414733887,
          -1.5631070137023926,
          3.603717565536499,
          -6.144857883453369,
          2.704253673553467,
          3.400397300720215,
          -6.21536111831665,
          -0.6632298231124878,
          2.727964401245117,
          -3.1159827709198,
          7.59015417098999,
          -1.154660701751709,
          1.5101754665374756,
          -1.7995327711105347,
          6.201374530792236,
          6.515581130981445,
          5.7211713790893555,
          2.714897632598877,
          -5.134807586669922,
          -4.064658164978027,
          -1.8951466083526611,
          2.7566022872924805,
          -3.51426100730896,
          -4.985243320465088,
          3.630452871322632,
          5.611522197723389,
          -3.537783145904541,
          6.0134406089782715,
          -2.106630325317383,
          0.5947965979576111,
          -4.780481338500977,
          1.8138740062713623,
          -4.759907245635986,
          1.499607801437378,
          -3.606234312057495,
          2.910680055618286,
          -1.376277208328247,
          -0.9896138310432434,
          3.457493305206299,
          -3.415336847305298,
          1.840721845626831,
          -0.9363817572593689,
          -3.206923484802246,
          -2.6916372776031494,
          0.8680057525634766,
          -2.207198143005371,
          4.981481075286865,
          -2.3666322231292725,
          1.6161152124404907,
          -0.37975552678108215,
          -1.1638760566711426,
          5.714938640594482,
          -0.027387555688619614,
          -3.5160858631134033,
          3.1758010387420654,
          -1.4759441614151,
          -1.1915239095687866,
          7.463776111602783,
          -1.2010681629180908,
          2.173471212387085,
          -0.3238324820995331,
          1.4990651607513428,
          0.757411777973175,
          4.055625915527344,
          1.7385914325714111,
          0.6178277730941772,
          -2.242927074432373,
          4.336239814758301,
          -5.995441436767578,
          -3.647773265838623,
          -2.4523582458496094,
          -1.7973638772964478,
          -1.1103225946426392,
          0.7310457229614258,
          0.39330142736434937,
          -3.5568652153015137,
          0.3131439983844757,
          -4.729428291320801,
          0.5734739899635315,
          2.1027536392211914,
          0.7246313691139221,
          6.841986656188965,
          -0.7695530652999878,
          1.3652801513671875,
          -1.2676633596420288,
          -2.389461040496826,
          1.3453471660614014,
          2.1281652450561523,
          0.9651123881340027,
          3.458191394805908,
          -0.8857383131980896,
          2.572756052017212,
          5.612679481506348,
          5.106151580810547,
          -1.0541433095932007,
          2.0412566661834717,
          -3.088207960128784,
          7.859296798706055,
          7.7209272384643555,
          -1.513809084892273,
          3.9278533458709717,
          -1.2173041105270386,
          0.6637109518051147,
          2.700284719467163,
          4.654727458953857,
          -0.791199266910553,
          -1.7638150453567505,
          4.31728982925415,
          -3.0044891834259033,
          -0.7608442902565002,
          -1.6230857372283936,
          -6.675137996673584,
          2.9611170291900635,
          0.28580307960510254,
          0.1664009392261505,
          5.651689052581787
         ],
         "yaxis": "y"
        },
        {
         "customdata": [
          [
           "Balu (Vijayakumar) and Padma (Manjula...",
           "drama",
           "1"
          ],
          [
           "Nikki Singh (Akshay Oberoi) is...",
           "drama",
           "1"
          ],
          [
           "Akashangalil is the story of...",
           "romance",
           "1"
          ],
          [
           "Dharma (Anandaraj) is an auto...",
           "drama",
           "1"
          ],
          [
           "Tulsi tells the story of...",
           "drama",
           "1"
          ],
          [
           "Vijay (R. Sarathkumar) and Seetha...",
           "drama",
           "1"
          ],
          [
           "Gopal (M.G.R.) is an honest...",
           "drama",
           "1"
          ],
          [
           "This film is about the...",
           "comedy",
           "1"
          ],
          [
           "Chandrabose (Mohanlal) whose wife's (Meera...",
           "drama",
           "1"
          ],
          [
           "The film is set in...",
           "fantasy",
           "1"
          ],
          [
           "Kumar is a young and...",
           "action",
           "1"
          ]
         ],
         "hovertemplate": "cluster=%{customdata[2]}<br>x-tsne=%{x}<br>y-tsne=%{y}<br>text=%{customdata[0]}<br>overall_label=%{customdata[1]}<extra></extra>",
         "legendgroup": "1",
         "marker": {
          "color": "#00cc96",
          "symbol": "circle"
         },
         "mode": "markers",
         "name": "1",
         "orientation": "v",
         "showlegend": true,
         "type": "scatter",
         "x": [
          1.7169291973114014,
          1.365875244140625,
          0.5484833121299744,
          3.272946834564209,
          1.8838645219802856,
          1.787751317024231,
          1.3984591960906982,
          1.174180507659912,
          0.6363089084625244,
          0.7281668186187744,
          1.445822834968567
         ],
         "xaxis": "x",
         "y": [
          6.89527702331543,
          6.110905170440674,
          6.246298313140869,
          3.8831660747528076,
          6.729138374328613,
          6.921387195587158,
          6.335675239562988,
          6.879170894622803,
          6.0630598068237305,
          6.763333320617676,
          6.6613616943359375
         ],
         "yaxis": "y"
        }
       ],
       "layout": {
        "height": 1200,
        "legend": {
         "title": {
          "text": "cluster"
         },
         "tracegroupgap": 0
        },
        "template": {
         "data": {
          "bar": [
           {
            "error_x": {
             "color": "#2a3f5f"
            },
            "error_y": {
             "color": "#2a3f5f"
            },
            "marker": {
             "line": {
              "color": "#E5ECF6",
              "width": 0.5
             },
             "pattern": {
              "fillmode": "overlay",
              "size": 10,
              "solidity": 0.2
             }
            },
            "type": "bar"
           }
          ],
          "barpolar": [
           {
            "marker": {
             "line": {
              "color": "#E5ECF6",
              "width": 0.5
             },
             "pattern": {
              "fillmode": "overlay",
              "size": 10,
              "solidity": 0.2
             }
            },
            "type": "barpolar"
           }
          ],
          "carpet": [
           {
            "aaxis": {
             "endlinecolor": "#2a3f5f",
             "gridcolor": "white",
             "linecolor": "white",
             "minorgridcolor": "white",
             "startlinecolor": "#2a3f5f"
            },
            "baxis": {
             "endlinecolor": "#2a3f5f",
             "gridcolor": "white",
             "linecolor": "white",
             "minorgridcolor": "white",
             "startlinecolor": "#2a3f5f"
            },
            "type": "carpet"
           }
          ],
          "choropleth": [
           {
            "colorbar": {
             "outlinewidth": 0,
             "ticks": ""
            },
            "type": "choropleth"
           }
          ],
          "contour": [
           {
            "colorbar": {
             "outlinewidth": 0,
             "ticks": ""
            },
            "colorscale": [
             [
              0,
              "#0d0887"
             ],
             [
              0.1111111111111111,
              "#46039f"
             ],
             [
              0.2222222222222222,
              "#7201a8"
             ],
             [
              0.3333333333333333,
              "#9c179e"
             ],
             [
              0.4444444444444444,
              "#bd3786"
             ],
             [
              0.5555555555555556,
              "#d8576b"
             ],
             [
              0.6666666666666666,
              "#ed7953"
             ],
             [
              0.7777777777777778,
              "#fb9f3a"
             ],
             [
              0.8888888888888888,
              "#fdca26"
             ],
             [
              1,
              "#f0f921"
             ]
            ],
            "type": "contour"
           }
          ],
          "contourcarpet": [
           {
            "colorbar": {
             "outlinewidth": 0,
             "ticks": ""
            },
            "type": "contourcarpet"
           }
          ],
          "heatmap": [
           {
            "colorbar": {
             "outlinewidth": 0,
             "ticks": ""
            },
            "colorscale": [
             [
              0,
              "#0d0887"
             ],
             [
              0.1111111111111111,
              "#46039f"
             ],
             [
              0.2222222222222222,
              "#7201a8"
             ],
             [
              0.3333333333333333,
              "#9c179e"
             ],
             [
              0.4444444444444444,
              "#bd3786"
             ],
             [
              0.5555555555555556,
              "#d8576b"
             ],
             [
              0.6666666666666666,
              "#ed7953"
             ],
             [
              0.7777777777777778,
              "#fb9f3a"
             ],
             [
              0.8888888888888888,
              "#fdca26"
             ],
             [
              1,
              "#f0f921"
             ]
            ],
            "type": "heatmap"
           }
          ],
          "heatmapgl": [
           {
            "colorbar": {
             "outlinewidth": 0,
             "ticks": ""
            },
            "colorscale": [
             [
              0,
              "#0d0887"
             ],
             [
              0.1111111111111111,
              "#46039f"
             ],
             [
              0.2222222222222222,
              "#7201a8"
             ],
             [
              0.3333333333333333,
              "#9c179e"
             ],
             [
              0.4444444444444444,
              "#bd3786"
             ],
             [
              0.5555555555555556,
              "#d8576b"
             ],
             [
              0.6666666666666666,
              "#ed7953"
             ],
             [
              0.7777777777777778,
              "#fb9f3a"
             ],
             [
              0.8888888888888888,
              "#fdca26"
             ],
             [
              1,
              "#f0f921"
             ]
            ],
            "type": "heatmapgl"
           }
          ],
          "histogram": [
           {
            "marker": {
             "pattern": {
              "fillmode": "overlay",
              "size": 10,
              "solidity": 0.2
             }
            },
            "type": "histogram"
           }
          ],
          "histogram2d": [
           {
            "colorbar": {
             "outlinewidth": 0,
             "ticks": ""
            },
            "colorscale": [
             [
              0,
              "#0d0887"
             ],
             [
              0.1111111111111111,
              "#46039f"
             ],
             [
              0.2222222222222222,
              "#7201a8"
             ],
             [
              0.3333333333333333,
              "#9c179e"
             ],
             [
              0.4444444444444444,
              "#bd3786"
             ],
             [
              0.5555555555555556,
              "#d8576b"
             ],
             [
              0.6666666666666666,
              "#ed7953"
             ],
             [
              0.7777777777777778,
              "#fb9f3a"
             ],
             [
              0.8888888888888888,
              "#fdca26"
             ],
             [
              1,
              "#f0f921"
             ]
            ],
            "type": "histogram2d"
           }
          ],
          "histogram2dcontour": [
           {
            "colorbar": {
             "outlinewidth": 0,
             "ticks": ""
            },
            "colorscale": [
             [
              0,
              "#0d0887"
             ],
             [
              0.1111111111111111,
              "#46039f"
             ],
             [
              0.2222222222222222,
              "#7201a8"
             ],
             [
              0.3333333333333333,
              "#9c179e"
             ],
             [
              0.4444444444444444,
              "#bd3786"
             ],
             [
              0.5555555555555556,
              "#d8576b"
             ],
             [
              0.6666666666666666,
              "#ed7953"
             ],
             [
              0.7777777777777778,
              "#fb9f3a"
             ],
             [
              0.8888888888888888,
              "#fdca26"
             ],
             [
              1,
              "#f0f921"
             ]
            ],
            "type": "histogram2dcontour"
           }
          ],
          "mesh3d": [
           {
            "colorbar": {
             "outlinewidth": 0,
             "ticks": ""
            },
            "type": "mesh3d"
           }
          ],
          "parcoords": [
           {
            "line": {
             "colorbar": {
              "outlinewidth": 0,
              "ticks": ""
             }
            },
            "type": "parcoords"
           }
          ],
          "pie": [
           {
            "automargin": true,
            "type": "pie"
           }
          ],
          "scatter": [
           {
            "fillpattern": {
             "fillmode": "overlay",
             "size": 10,
             "solidity": 0.2
            },
            "type": "scatter"
           }
          ],
          "scatter3d": [
           {
            "line": {
             "colorbar": {
              "outlinewidth": 0,
              "ticks": ""
             }
            },
            "marker": {
             "colorbar": {
              "outlinewidth": 0,
              "ticks": ""
             }
            },
            "type": "scatter3d"
           }
          ],
          "scattercarpet": [
           {
            "marker": {
             "colorbar": {
              "outlinewidth": 0,
              "ticks": ""
             }
            },
            "type": "scattercarpet"
           }
          ],
          "scattergeo": [
           {
            "marker": {
             "colorbar": {
              "outlinewidth": 0,
              "ticks": ""
             }
            },
            "type": "scattergeo"
           }
          ],
          "scattergl": [
           {
            "marker": {
             "colorbar": {
              "outlinewidth": 0,
              "ticks": ""
             }
            },
            "type": "scattergl"
           }
          ],
          "scattermapbox": [
           {
            "marker": {
             "colorbar": {
              "outlinewidth": 0,
              "ticks": ""
             }
            },
            "type": "scattermapbox"
           }
          ],
          "scatterpolar": [
           {
            "marker": {
             "colorbar": {
              "outlinewidth": 0,
              "ticks": ""
             }
            },
            "type": "scatterpolar"
           }
          ],
          "scatterpolargl": [
           {
            "marker": {
             "colorbar": {
              "outlinewidth": 0,
              "ticks": ""
             }
            },
            "type": "scatterpolargl"
           }
          ],
          "scatterternary": [
           {
            "marker": {
             "colorbar": {
              "outlinewidth": 0,
              "ticks": ""
             }
            },
            "type": "scatterternary"
           }
          ],
          "surface": [
           {
            "colorbar": {
             "outlinewidth": 0,
             "ticks": ""
            },
            "colorscale": [
             [
              0,
              "#0d0887"
             ],
             [
              0.1111111111111111,
              "#46039f"
             ],
             [
              0.2222222222222222,
              "#7201a8"
             ],
             [
              0.3333333333333333,
              "#9c179e"
             ],
             [
              0.4444444444444444,
              "#bd3786"
             ],
             [
              0.5555555555555556,
              "#d8576b"
             ],
             [
              0.6666666666666666,
              "#ed7953"
             ],
             [
              0.7777777777777778,
              "#fb9f3a"
             ],
             [
              0.8888888888888888,
              "#fdca26"
             ],
             [
              1,
              "#f0f921"
             ]
            ],
            "type": "surface"
           }
          ],
          "table": [
           {
            "cells": {
             "fill": {
              "color": "#EBF0F8"
             },
             "line": {
              "color": "white"
             }
            },
            "header": {
             "fill": {
              "color": "#C8D4E3"
             },
             "line": {
              "color": "white"
             }
            },
            "type": "table"
           }
          ]
         },
         "layout": {
          "annotationdefaults": {
           "arrowcolor": "#2a3f5f",
           "arrowhead": 0,
           "arrowwidth": 1
          },
          "autotypenumbers": "strict",
          "coloraxis": {
           "colorbar": {
            "outlinewidth": 0,
            "ticks": ""
           }
          },
          "colorscale": {
           "diverging": [
            [
             0,
             "#8e0152"
            ],
            [
             0.1,
             "#c51b7d"
            ],
            [
             0.2,
             "#de77ae"
            ],
            [
             0.3,
             "#f1b6da"
            ],
            [
             0.4,
             "#fde0ef"
            ],
            [
             0.5,
             "#f7f7f7"
            ],
            [
             0.6,
             "#e6f5d0"
            ],
            [
             0.7,
             "#b8e186"
            ],
            [
             0.8,
             "#7fbc41"
            ],
            [
             0.9,
             "#4d9221"
            ],
            [
             1,
             "#276419"
            ]
           ],
           "sequential": [
            [
             0,
             "#0d0887"
            ],
            [
             0.1111111111111111,
             "#46039f"
            ],
            [
             0.2222222222222222,
             "#7201a8"
            ],
            [
             0.3333333333333333,
             "#9c179e"
            ],
            [
             0.4444444444444444,
             "#bd3786"
            ],
            [
             0.5555555555555556,
             "#d8576b"
            ],
            [
             0.6666666666666666,
             "#ed7953"
            ],
            [
             0.7777777777777778,
             "#fb9f3a"
            ],
            [
             0.8888888888888888,
             "#fdca26"
            ],
            [
             1,
             "#f0f921"
            ]
           ],
           "sequentialminus": [
            [
             0,
             "#0d0887"
            ],
            [
             0.1111111111111111,
             "#46039f"
            ],
            [
             0.2222222222222222,
             "#7201a8"
            ],
            [
             0.3333333333333333,
             "#9c179e"
            ],
            [
             0.4444444444444444,
             "#bd3786"
            ],
            [
             0.5555555555555556,
             "#d8576b"
            ],
            [
             0.6666666666666666,
             "#ed7953"
            ],
            [
             0.7777777777777778,
             "#fb9f3a"
            ],
            [
             0.8888888888888888,
             "#fdca26"
            ],
            [
             1,
             "#f0f921"
            ]
           ]
          },
          "colorway": [
           "#636efa",
           "#EF553B",
           "#00cc96",
           "#ab63fa",
           "#FFA15A",
           "#19d3f3",
           "#FF6692",
           "#B6E880",
           "#FF97FF",
           "#FECB52"
          ],
          "font": {
           "color": "#2a3f5f"
          },
          "geo": {
           "bgcolor": "white",
           "lakecolor": "white",
           "landcolor": "#E5ECF6",
           "showlakes": true,
           "showland": true,
           "subunitcolor": "white"
          },
          "hoverlabel": {
           "align": "left"
          },
          "hovermode": "closest",
          "mapbox": {
           "style": "light"
          },
          "paper_bgcolor": "white",
          "plot_bgcolor": "#E5ECF6",
          "polar": {
           "angularaxis": {
            "gridcolor": "white",
            "linecolor": "white",
            "ticks": ""
           },
           "bgcolor": "#E5ECF6",
           "radialaxis": {
            "gridcolor": "white",
            "linecolor": "white",
            "ticks": ""
           }
          },
          "scene": {
           "xaxis": {
            "backgroundcolor": "#E5ECF6",
            "gridcolor": "white",
            "gridwidth": 2,
            "linecolor": "white",
            "showbackground": true,
            "ticks": "",
            "zerolinecolor": "white"
           },
           "yaxis": {
            "backgroundcolor": "#E5ECF6",
            "gridcolor": "white",
            "gridwidth": 2,
            "linecolor": "white",
            "showbackground": true,
            "ticks": "",
            "zerolinecolor": "white"
           },
           "zaxis": {
            "backgroundcolor": "#E5ECF6",
            "gridcolor": "white",
            "gridwidth": 2,
            "linecolor": "white",
            "showbackground": true,
            "ticks": "",
            "zerolinecolor": "white"
           }
          },
          "shapedefaults": {
           "line": {
            "color": "#2a3f5f"
           }
          },
          "ternary": {
           "aaxis": {
            "gridcolor": "white",
            "linecolor": "white",
            "ticks": ""
           },
           "baxis": {
            "gridcolor": "white",
            "linecolor": "white",
            "ticks": ""
           },
           "bgcolor": "#E5ECF6",
           "caxis": {
            "gridcolor": "white",
            "linecolor": "white",
            "ticks": ""
           }
          },
          "title": {
           "x": 0.05
          },
          "xaxis": {
           "automargin": true,
           "gridcolor": "white",
           "linecolor": "white",
           "ticks": "",
           "title": {
            "standoff": 15
           },
           "zerolinecolor": "white",
           "zerolinewidth": 2
          },
          "yaxis": {
           "automargin": true,
           "gridcolor": "white",
           "linecolor": "white",
           "ticks": "",
           "title": {
            "standoff": 15
           },
           "zerolinecolor": "white",
           "zerolinewidth": 2
          }
         }
        },
        "title": {
         "text": "Sentences t-SNE Visualization with FastText Embeddings and HDBSCAN Clustering"
        },
        "width": 1200,
        "xaxis": {
         "anchor": "y",
         "domain": [
          0,
          1
         ],
         "title": {
          "text": "x-tsne"
         }
        },
        "yaxis": {
         "anchor": "x",
         "domain": [
          0,
          1
         ],
         "title": {
          "text": "y-tsne"
         }
        }
       }
      }
     },
     "metadata": {},
     "output_type": "display_data"
    }
   ],
   "source": [
    "# Create interactive scatter plot\n",
    "ft_df[\"cluster\"] = ft_df[\"cluster\"].astype(str)\n",
    "fig = px.scatter(\n",
    "    ft_df,\n",
    "    x=\"x-tsne\",\n",
    "    y=\"y-tsne\",\n",
    "    color=\"cluster\",\n",
    "    hover_data={\"text\": True, \"overall_label\": True, \"cluster\": True},\n",
    "    title=\"Sentences t-SNE Visualization with FastText Embeddings and HDBSCAN Clustering\",\n",
    "    width=1200,\n",
    "    height=1200,\n",
    ")\n",
    "\n",
    "# Show plot\n",
    "fig.show()"
   ]
  },
  {
   "cell_type": "code",
   "execution_count": 129,
   "metadata": {},
   "outputs": [],
   "source": [
    "tfidf_df['cluster'] = hdbscan.fit_predict(tfidf_emb_arr)"
   ]
  },
  {
   "cell_type": "code",
   "execution_count": 130,
   "metadata": {},
   "outputs": [
    {
     "data": {
      "application/vnd.plotly.v1+json": {
       "config": {
        "plotlyServerURL": "https://plot.ly"
       },
       "data": [
        {
         "customdata": [
          [
           "The film tells the story...",
           "drama",
           "-1"
          ],
          [
           "The eventful life of Swami...",
           "drama",
           "-1"
          ],
          [
           "Police inspector Holloway (Patrick Wymark)...",
           "action",
           "-1"
          ],
          [
           "George Cabot Jr. (Cesar Romero),...",
           "comedy",
           "-1"
          ],
          [
           "Young sci-fi/fantasy enthusiast Gavin Gore...",
           "comedy",
           "-1"
          ],
          [
           "Vani Viswanath plays the central...",
           "drama",
           "-1"
          ],
          [
           "A popular dance hall girl,...",
           "action",
           "-1"
          ],
          [
           "Mordecai C. Jones (Scott) –...",
           "comedy",
           "-1"
          ],
          [
           "Reverend Smith has arrived in...",
           "drama",
           "-1"
          ],
          [
           "Flesh (Vince Murdocco) is kidnapped...",
           "fantasy",
           "-1"
          ],
          [
           "Shellshocked following his experiences as...",
           "drama",
           "-1"
          ],
          [
           "The story starts with a...",
           "drama",
           "-1"
          ],
          [
           "Byron Levin works in a...",
           "drama",
           "-1"
          ],
          [
           "An orphan girl, named Bindu...",
           "drama",
           "-1"
          ],
          [
           "The story is about a...",
           "comedy",
           "-1"
          ],
          [
           "A psychic woman leads archaeologists...",
           "fantasy",
           "-1"
          ],
          [
           "Stand-up-comedian Nikita Kolesnikov (Danila Kozlovsky)...",
           "drama",
           "-1"
          ],
          [
           "Two reporters, Curtis (Conrad Phillips)...",
           "action",
           "-1"
          ],
          [
           "Two best friends who live...",
           "comedy",
           "-1"
          ],
          [
           "Claire of the Moon is...",
           "romance",
           "-1"
          ],
          [
           "Joseph is a mentally retarded...",
           "drama",
           "-1"
          ],
          [
           "Bok-nyeo, a mentally handicapped woman,...",
           "drama",
           "-1"
          ],
          [
           "Dr. Markoff (J. Carrol Naish)...",
           "fantasy",
           "-1"
          ],
          [
           "The movie opens with Fung...",
           "drama",
           "-1"
          ],
          [
           "On the run from the...",
           "fantasy",
           "-1"
          ],
          [
           "Nikki Singh (Akshay Oberoi) is...",
           "drama",
           "-1"
          ],
          [
           "A crime reporter, assisted by...",
           "drama",
           "-1"
          ],
          [
           "Edgar Mills and his mistress...",
           "comedy",
           "-1"
          ],
          [
           "Marianne (Greta Garbo) is a...",
           "romance",
           "-1"
          ],
          [
           "Shane O'Shea is a young...",
           "drama",
           "-1"
          ],
          [
           "Bumbling cop Chatur Singh (Sanjay...",
           "comedy",
           "-1"
          ],
          [
           "Dhag is the story of...",
           "drama",
           "-1"
          ],
          [
           "A Mighty Heart is a...",
           "document",
           "-1"
          ],
          [
           "Two escaping killers hide out...",
           "action",
           "-1"
          ],
          [
           "A young sculptor searches for...",
           "drama",
           "-1"
          ],
          [
           "Hardy plays Dr. Henry Tibbett,...",
           "comedy",
           "-1"
          ],
          [
           "After discovering that her state...",
           "comedy",
           "-1"
          ],
          [
           "Struggling young actress Jenny (Marjorie...",
           "comedy",
           "-1"
          ],
          [
           "The Kitauji high school concert...",
           "drama",
           "-1"
          ],
          [
           "In every port, sailor Bill,...",
           "comedy",
           "-1"
          ],
          [
           "Joan (Purviance) and Magdalen (Sothern)...",
           "romance",
           "-1"
          ],
          [
           "Hong Deok-Ja continues to run...",
           "comedy",
           "-1"
          ],
          [
           "This film follows the lead...",
           "action",
           "-1"
          ],
          [
           "Indie musician Dong-hoon and cartoonist...",
           "drama",
           "-1"
          ],
          [
           "The story tells about Ching...",
           "drama",
           "-1"
          ],
          [
           "A former agent from the...",
           "action",
           "-1"
          ],
          [
           "An earthquake releases a bunch...",
           "fantasy",
           "-1"
          ],
          [
           "Stephen Ghent, a mineowner, falls...",
           "comedy",
           "-1"
          ],
          [
           "Nine people from around the...",
           "fantasy",
           "-1"
          ],
          [
           "Akashangalil is the story of...",
           "romance",
           "-1"
          ],
          [
           "Sally Elliott (Rita Hayworth), a...",
           "action",
           "-1"
          ],
          [
           "After Joe Huggett loses his...",
           "drama",
           "-1"
          ],
          [
           "Chaiti is a young beautiful...",
           "drama",
           "-1"
          ],
          [
           "Eric Wainwright (Van Johnson), a...",
           "comedy",
           "-1"
          ],
          [
           "Kevin Agar is a Carlton-based...",
           "comedy",
           "-1"
          ],
          [
           "Trust concerns the unusual romance...",
           "romance",
           "-1"
          ],
          [
           "Restaurant owner Dylan Ramsey (David...",
           "comedy",
           "-1"
          ],
          [
           "Dharma (Anandaraj) is an auto...",
           "drama",
           "-1"
          ],
          [
           "After being told by his...",
           "western",
           "-1"
          ],
          [
           "Arjun lives in a village....",
           "drama",
           "-1"
          ],
          [
           "Jeff Hassard (Dean Jagger) and...",
           "western",
           "-1"
          ],
          [
           "Jerry McGuire (William Collier Jr.)...",
           "drama",
           "-1"
          ],
          [
           "Chu Liuxiang is having drinks...",
           "action",
           "-1"
          ],
          [
           "Charles Kessler (Bela Lugosi) is...",
           "action",
           "-1"
          ],
          [
           "United States Secret Service Lieutenant...",
           "action",
           "-1"
          ],
          [
           "Two college girls, Ducky and...",
           "comedy",
           "-1"
          ],
          [
           "Fontaine Khaled is the London...",
           "comedy",
           "-1"
          ],
          [
           "Professional hunter Harry Black is...",
           "action",
           "-1"
          ],
          [
           "Tulsi tells the story of...",
           "drama",
           "-1"
          ],
          [
           "Rie and Nao own a...",
           "drama",
           "-1"
          ],
          [
           "A simple handyman, who also...",
           "drama",
           "-1"
          ],
          [
           "Karthi (Mahesh) is a college...",
           "action",
           "-1"
          ],
          [
           "The film stars Harry Connick...",
           "drama",
           "-1"
          ],
          [
           "Vijay (R. Sarathkumar) and Seetha...",
           "drama",
           "-1"
          ],
          [
           "In a Mexican nightclub, some...",
           "drama",
           "-1"
          ],
          [
           "Officers throw an extravagant party...",
           "comedy",
           "-1"
          ],
          [
           "A bullied teen chef wants...",
           "comedy",
           "-1"
          ],
          [
           "Raised on a sharecropping plantation...",
           "document",
           "-1"
          ],
          [
           "Newland Archer is engaged to...",
           "romance",
           "-1"
          ],
          [
           "Chandrabose (Mohanlal) whose wife's (Meera...",
           "drama",
           "-1"
          ],
          [
           "Set in Alexandria in 1938,...",
           "drama",
           "-1"
          ],
          [
           "Michael Walsh, a husband and...",
           "drama",
           "-1"
          ],
          [
           "On board an ocean liner...",
           "comedy",
           "-1"
          ],
          [
           "Alim is a young gay...",
           "drama",
           "-1"
          ],
          [
           "A U.S. marshal investigates when...",
           "western",
           "-1"
          ],
          [
           "A new teacher organizes a...",
           "drama",
           "-1"
          ],
          [
           "The plot of the film...",
           "fantasy",
           "-1"
          ],
          [
           "The boys are involved in...",
           "comedy",
           "-1"
          ],
          [
           "John Murdock (Paul Richards) is...",
           "western",
           "-1"
          ],
          [
           "In the year 1999, the...",
           "fantasy",
           "-1"
          ],
          [
           "Ten-year-old Bobby (Frankie Thomas) and...",
           "drama",
           "-1"
          ],
          [
           "Brinda (Sindhu Tolani) is an...",
           "drama",
           "-1"
          ],
          [
           "An old gangster, with a...",
           "action",
           "-1"
          ],
          [
           "The film is about an...",
           "comedy",
           "-1"
          ],
          [
           "Agimat (Bong Revilla, Jr.) is...",
           "fantasy",
           "-1"
          ],
          [
           "The young filmmaker Timothy (Jonathan...",
           "comedy",
           "-1"
          ],
          [
           "A prospective settler, pioneer Bob...",
           "western",
           "-1"
          ],
          [
           "Russian general Marenkov (Robert Shaw)...",
           "action",
           "-1"
          ],
          [
           "A young Lakota Sioux (Lou...",
           "drama",
           "-1"
          ],
          [
           "The film is set in...",
           "action",
           "-1"
          ],
          [
           "Hans a young German journalist...",
           "action",
           "-1"
          ],
          [
           "The drama tells of a...",
           "drama",
           "-1"
          ]
         ],
         "hovertemplate": "cluster=%{customdata[2]}<br>x-tsne=%{x}<br>y-tsne=%{y}<br>text=%{customdata[0]}<br>overall_label=%{customdata[1]}<extra></extra>",
         "legendgroup": "-1",
         "marker": {
          "color": "#636efa",
          "symbol": "circle"
         },
         "mode": "markers",
         "name": "-1",
         "orientation": "v",
         "showlegend": true,
         "type": "scatter",
         "x": [
          6.15857458114624,
          -0.14538408815860748,
          11.78635025024414,
          -13.974714279174805,
          -10.564282417297363,
          6.032154083251953,
          10.845602035522461,
          -8.453285217285156,
          -0.8353817462921143,
          13.954092025756836,
          -11.811043739318848,
          10.214286804199219,
          -4.571612358093262,
          2.3022549152374268,
          8.534249305725098,
          -7.845306873321533,
          -9.737587928771973,
          -0.8141725659370422,
          -4.67139196395874,
          7.530233383178711,
          -7.846170902252197,
          5.359543323516846,
          15.43994426727295,
          -8.966726303100586,
          13.161201477050781,
          7.310793399810791,
          2.306364059448242,
          -4.202971458435059,
          -3.1449759006500244,
          11.574344635009766,
          5.447081565856934,
          -7.525329113006592,
          -14.05737018585205,
          10.429742813110352,
          -1.4100900888442993,
          15.66877269744873,
          -10.823099136352539,
          -3.550605297088623,
          12.312582015991211,
          -12.011516571044922,
          -1.93263840675354,
          -5.949743747711182,
          0.5026965141296387,
          -9.38208293914795,
          -8.185272216796875,
          5.878200531005859,
          -12.214241027832031,
          -5.1305623054504395,
          9.087972640991211,
          -11.124321937561035,
          -8.084741592407227,
          3.6427247524261475,
          -0.1615925282239914,
          -5.134864330291748,
          -1.9965648651123047,
          -3.488114833831787,
          -0.33294162154197693,
          5.1822509765625,
          -5.174108982086182,
          -14.022409439086914,
          6.1636128425598145,
          4.044412136077881,
          -10.151922225952148,
          6.598589897155762,
          -11.63383674621582,
          -10.68049144744873,
          3.044168710708618,
          6.225253582000732,
          8.31808853149414,
          -1.7438957691192627,
          -14.690964698791504,
          -2.1959362030029297,
          -6.11301326751709,
          1.06768798828125,
          -1.7506186962127686,
          5.497482776641846,
          -12.349444389343262,
          -6.873302459716797,
          -4.023601531982422,
          -13.699652671813965,
          9.757879257202148,
          4.864887714385986,
          6.207381248474121,
          -13.419889450073242,
          3.445692300796509,
          -12.95125675201416,
          10.318571090698242,
          -6.474247932434082,
          10.662151336669922,
          -10.763211250305176,
          -5.565247058868408,
          15.427425384521484,
          8.805898666381836,
          -3.900099515914917,
          -12.77160930633545,
          -0.7005544900894165,
          1.4873931407928467,
          9.85296630859375,
          -8.56167984008789,
          6.007676124572754,
          -9.130656242370605,
          -9.277463912963867
         ],
         "xaxis": "x",
         "y": [
          -4.403536319732666,
          5.245081424713135,
          -4.585610389709473,
          -9.623976707458496,
          0.5528675317764282,
          -12.698373794555664,
          11.158265113830566,
          12.125099182128906,
          -16.014787673950195,
          6.934261322021484,
          6.738092422485352,
          -7.665394306182861,
          6.565469741821289,
          9.429986000061035,
          1.5462812185287476,
          -1.4764164686203003,
          3.0971710681915283,
          -16.02920150756836,
          4.460816383361816,
          15.2839937210083,
          -8.008472442626953,
          1.6901060342788696,
          5.7231903076171875,
          -10.86282730102539,
          7.266633987426758,
          7.988244533538818,
          -0.2062191516160965,
          15.495713233947754,
          8.676506042480469,
          0.28187698125839233,
          -10.68235969543457,
          4.969176292419434,
          -9.062211990356445,
          3.7239246368408203,
          -10.659629821777344,
          5.44058084487915,
          -3.62864351272583,
          -2.426961660385132,
          2.124811887741089,
          -0.28206923604011536,
          12.346519470214844,
          0.1903238445520401,
          13.74504566192627,
          4.853911876678467,
          1.7377101182937622,
          -6.713230133056641,
          12.97947883605957,
          14.692442893981934,
          4.887442111968994,
          -5.370841979980469,
          -3.6120901107788086,
          -8.971282005310059,
          -12.336819648742676,
          -13.347953796386719,
          -10.433969497680664,
          -0.6636617183685303,
          -7.655153274536133,
          -11.021562576293945,
          -7.059080123901367,
          6.728112697601318,
          14.005746841430664,
          7.775500297546387,
          -6.027303218841553,
          2.805091381072998,
          -9.047441482543945,
          -11.572022438049316,
          -6.30576753616333,
          5.72611141204834,
          0.5213550329208374,
          -3.581000566482544,
          -4.394424915313721,
          6.339578628540039,
          -1.9465618133544922,
          -2.348045825958252,
          2.3093817234039307,
          10.171780586242676,
          -2.0216286182403564,
          7.452678203582764,
          -8.946925163269043,
          8.153437614440918,
          -1.9779086112976074,
          -0.37175339460372925,
          9.102018356323242,
          -4.800802230834961,
          -0.10700193047523499,
          3.2747232913970947,
          7.007704734802246,
          -9.78042984008789,
          7.180356502532959,
          12.28848648071289,
          -13.777448654174805,
          -1.9385966062545776,
          1.93757963180542,
          2.0119476318359375,
          12.112886428833008,
          -7.582556247711182,
          1.1845345497131348,
          10.9688720703125,
          5.665315628051758,
          15.737005233764648,
          0.25741466879844666,
          -2.856402635574341
         ],
         "yaxis": "y"
        },
        {
         "customdata": [
          [
           "Jagathalaprathapan is a prince who...",
           "romance",
           "1"
          ],
          [
           "Lewis and Clark and George...",
           "drama",
           "1"
          ],
          [
           "The story is about two...",
           "romance",
           "1"
          ],
          [
           "In a British TV studio,...",
           "comedy",
           "1"
          ],
          [
           "In 1962, South Korea. Kang...",
           "romance",
           "1"
          ],
          [
           "Oliver's mother, a penniless outcast,...",
           "drama",
           "1"
          ],
          [
           "Mongol chief Temujin (later to...",
           "action",
           "1"
          ],
          [
           "Following the plot of the...",
           "drama",
           "1"
          ],
          [
           "A psychoanalyst and his young...",
           "drama",
           "1"
          ],
          [
           "The film is a story...",
           "drama",
           "1"
          ],
          [
           "In World War II, two...",
           "action",
           "1"
          ],
          [
           "It is love at first...",
           "romance",
           "1"
          ],
          [
           "This film is about a...",
           "drama",
           "1"
          ],
          [
           "3000 years ago, the Vader...",
           "fantasy",
           "1"
          ],
          [
           "Having cleaned up Tombstone, Arizona,...",
           "western",
           "1"
          ],
          [
           "Kisan Kanya was based on...",
           "drama",
           "1"
          ],
          [
           "Curry and Pepper are two...",
           "comedy",
           "1"
          ],
          [
           "Loosely based on true events...",
           "comedy",
           "1"
          ],
          [
           "The plot revolves around the...",
           "drama",
           "1"
          ],
          [
           "Balu (Vijayakumar) and Padma (Manjula...",
           "drama",
           "1"
          ],
          [
           "The film is an account...",
           "document",
           "1"
          ],
          [
           "A man visits a happy...",
           "romance",
           "1"
          ],
          [
           "In 1983 KBS launched a...",
           "document",
           "1"
          ],
          [
           "Harvey Keitel plays an American...",
           "drama",
           "1"
          ],
          [
           "Set in the austere post–World...",
           "fantasy",
           "1"
          ],
          [
           "Rahul (Ramankanth) sees a concert...",
           "drama",
           "1"
          ],
          [
           "Scott (Ryan Phillippe) is a...",
           "comedy",
           "1"
          ],
          [
           "Irène Bordoni is cast as...",
           "comedy",
           "1"
          ],
          [
           "This film is about two...",
           "drama",
           "1"
          ],
          [
           "Cosmo Reif, an affectless mob...",
           "comedy",
           "1"
          ],
          [
           "The film is set in...",
           "action",
           "1"
          ],
          [
           "Italian aristocrat Angela Chiaromonte (Helen...",
           "romance",
           "1"
          ],
          [
           "Rolex (Prakash Raj) is a...",
           "action",
           "1"
          ],
          [
           "The film is a retelling...",
           "fantasy",
           "1"
          ],
          [
           "Christopher, a lustful man goes...",
           "fantasy",
           "1"
          ],
          [
           "Inventor and engineer Robert Draper...",
           "action",
           "1"
          ],
          [
           "The film is an examination...",
           "document",
           "1"
          ],
          [
           "Lost & Found is basically...",
           "drama",
           "1"
          ],
          [
           "Unlike other Alamo films that...",
           "western",
           "1"
          ],
          [
           "The story involves a middle-aged...",
           "western",
           "1"
          ],
          [
           "A San Francisco earthquake orphan...",
           "comedy",
           "1"
          ],
          [
           "The film is about an...",
           "comedy",
           "1"
          ],
          [
           "The story line centres on...",
           "comedy",
           "1"
          ],
          [
           "Sets in the 19th century,...",
           "drama",
           "1"
          ],
          [
           "The film tells the story...",
           "comedy",
           "1"
          ],
          [
           "Roanne Sanchez, a young girl...",
           "romance",
           "1"
          ],
          [
           "The Hartford Transcontinental Railroad is...",
           "western",
           "1"
          ],
          [
           "The film takes place in...",
           "fantasy",
           "1"
          ],
          [
           "The story of the film...",
           "drama",
           "1"
          ],
          [
           "When Los Angeles' police force...",
           "comedy",
           "1"
          ],
          [
           "Hiraasat is an action film,...",
           "action",
           "1"
          ],
          [
           "California gubernatorial candidate Burton (Lyon)...",
           "drama",
           "1"
          ],
          [
           "A 12-year old young boy...",
           "drama",
           "1"
          ],
          [
           "Soo-nam is a poor woman...",
           "drama",
           "1"
          ],
          [
           "The film's slight storyline concerns...",
           "comedy",
           "1"
          ],
          [
           "The story of the film...",
           "fantasy",
           "1"
          ],
          [
           "A blind detective, Duncan Maclain,...",
           "action",
           "1"
          ],
          [
           "In 1964, inmate Charlie Forsythe...",
           "drama",
           "1"
          ],
          [
           "Vivek is a wanted criminal...",
           "drama",
           "1"
          ],
          [
           "The film tells the story...",
           "comedy",
           "1"
          ],
          [
           "Three teenage boys in small-town...",
           "drama",
           "1"
          ],
          [
           "The story revolves around an...",
           "drama",
           "1"
          ],
          [
           "Flagg (Victor McLaglen) and Quirt...",
           "comedy",
           "1"
          ],
          [
           "Gopal (M.G.R.) is an honest...",
           "drama",
           "1"
          ],
          [
           "Nick (Niven) is the supposed...",
           "comedy",
           "1"
          ],
          [
           "A rivalry develops between veteran...",
           "drama",
           "1"
          ],
          [
           "In the autumn of 1950,...",
           "document",
           "1"
          ],
          [
           "This film is about the...",
           "comedy",
           "1"
          ],
          [
           "Taglines: \"Being a girl is...",
           "drama",
           "1"
          ],
          [
           "In a small town, mentally...",
           "comedy",
           "1"
          ],
          [
           "The story is a family...",
           "drama",
           "1"
          ],
          [
           "The Philippines, 1972. Mysterious things...",
           "action",
           "1"
          ],
          [
           "Two days before Christmas, a...",
           "action",
           "1"
          ],
          [
           "The film is set in...",
           "fantasy",
           "1"
          ],
          [
           "The film revolves around an...",
           "drama",
           "1"
          ],
          [
           "Kumar is a young and...",
           "action",
           "1"
          ],
          [
           "Twice widowed, Pilnyeo vows never...",
           "drama",
           "1"
          ],
          [
           "Convict Van Duff is the...",
           "action",
           "1"
          ],
          [
           "The story of a 10th...",
           "drama",
           "1"
          ],
          [
           "In the 1930s, Teresa (Buday)...",
           "romance",
           "1"
          ],
          [
           "The film is a historical...",
           "document",
           "1"
          ],
          [
           "The film is based on...",
           "drama",
           "1"
          ],
          [
           "Jin-hong is a prosecutor who...",
           "fantasy",
           "1"
          ],
          [
           "Big Bad Love shares its...",
           "drama",
           "1"
          ],
          [
           "Kumar, a graduate who decides...",
           "drama",
           "1"
          ],
          [
           "The Rogers family visit Blackpool...",
           "comedy",
           "1"
          ],
          [
           "The story revolves around a...",
           "action",
           "1"
          ],
          [
           "A mysterious killer, known only...",
           "drama",
           "1"
          ],
          [
           "A genius sculptor Joon-goo (Park...",
           "drama",
           "1"
          ],
          [
           "Julia Hemingway (Ina Skriver, credited...",
           "comedy",
           "1"
          ],
          [
           "Small-fry marijuana harvesters in Northern...",
           "comedy",
           "1"
          ],
          [
           "The Chain tells the story...",
           "comedy",
           "1"
          ],
          [
           "Hikaru Oshiro, noticing that there...",
           "drama",
           "1"
          ]
         ],
         "hovertemplate": "cluster=%{customdata[2]}<br>x-tsne=%{x}<br>y-tsne=%{y}<br>text=%{customdata[0]}<br>overall_label=%{customdata[1]}<extra></extra>",
         "legendgroup": "1",
         "marker": {
          "color": "#EF553B",
          "symbol": "circle"
         },
         "mode": "markers",
         "name": "1",
         "orientation": "v",
         "showlegend": true,
         "type": "scatter",
         "x": [
          -1.5331199169158936,
          2.766756057739258,
          -4.103763580322266,
          10.292784690856934,
          -12.667084693908691,
          -4.859251022338867,
          2.041848659515381,
          -5.421968460083008,
          14.92733097076416,
          2.44562029838562,
          7.4038591384887695,
          -8.596982955932617,
          -8.375125885009766,
          -11.751374244689941,
          -4.068755149841309,
          -0.5587380528450012,
          -1.5451754331588745,
          2.320117235183716,
          -6.246593475341797,
          1.1457020044326782,
          -0.0398961566388607,
          3.165160655975342,
          5.349435329437256,
          9.14972972869873,
          7.246892929077148,
          -4.450595378875732,
          -4.851569175720215,
          -6.157554626464844,
          -1.5576682090759277,
          -13.819912910461426,
          -10.172282218933105,
          4.4616265296936035,
          -0.4201473593711853,
          3.791905641555786,
          -10.27719497680664,
          3.356023073196411,
          2.9240846633911133,
          -13.818089485168457,
          -5.7275800704956055,
          -3.711306095123291,
          0.7355837225914001,
          8.640644073486328,
          -2.0730044841766357,
          2.2872040271759033,
          4.657215595245361,
          -3.755152702331543,
          6.59342098236084,
          6.420541763305664,
          9.180615425109863,
          12.721602439880371,
          1.141451358795166,
          4.946008682250977,
          -6.317192077636719,
          6.212977886199951,
          0.47283971309661865,
          -2.601219654083252,
          0.8918646574020386,
          3.2192904949188232,
          5.304985523223877,
          9.716644287109375,
          -10.50512981414795,
          14.92551040649414,
          2.2166643142700195,
          -2.42948579788208,
          -3.575188159942627,
          6.443060398101807,
          -6.811313629150391,
          -0.9256924390792847,
          14.10638427734375,
          1.6583648920059204,
          1.2609559297561646,
          -7.74055814743042,
          -5.542453765869141,
          7.95877742767334,
          2.576385021209717,
          -0.6479975581169128,
          3.1614980697631836,
          9.411588668823242,
          13.967818260192871,
          3.718745708465576,
          -0.1006949320435524,
          0.4998098313808441,
          -6.996126651763916,
          -1.110587239265442,
          -6.499773025512695,
          2.2975056171417236,
          2.4223217964172363,
          13.827836990356445,
          4.593791961669922,
          9.359607696533203,
          -9.103607177734375,
          -1.108327031135559,
          12.722014427185059
         ],
         "xaxis": "x",
         "y": [
          -4.601224422454834,
          -15.338573455810547,
          4.300051212310791,
          -1.281523585319519,
          3.078190803527832,
          -4.438601016998291,
          -4.010807037353516,
          11.01368236541748,
          -3.7034482955932617,
          6.714480400085449,
          -5.464252471923828,
          -5.9929094314575195,
          8.912961959838867,
          12.47128677368164,
          -7.621546268463135,
          8.157843589782715,
          3.310431957244873,
          4.727503776550293,
          2.692542314529419,
          -2.274510383605957,
          5.609573841094971,
          10.734295845031738,
          -5.893397331237793,
          -10.033356666564941,
          -2.8012068271636963,
          -12.66202449798584,
          2.201152801513672,
          -5.705794811248779,
          6.074619770050049,
          4.467128276824951,
          -10.879596710205078,
          -3.3460121154785156,
          -0.7046859860420227,
          7.622516632080078,
          -9.891803741455078,
          -14.512293815612793,
          4.798036575317383,
          6.937711715698242,
          13.713678359985352,
          -6.9124531745910645,
          -4.938737869262695,
          -9.020566940307617,
          -3.216660976409912,
          -9.88607406616211,
          4.321945667266846,
          -1.6575813293457031,
          15.172489166259766,
          -2.1662545204162598,
          -6.966755390167236,
          -4.065308094024658,
          13.493605613708496,
          4.59958028793335,
          -4.915563583374023,
          -0.21046391129493713,
          3.6228652000427246,
          4.387508869171143,
          -7.977254390716553,
          -14.157459259033203,
          2.7752010822296143,
          -7.794801712036133,
          7.881812572479248,
          -3.3720853328704834,
          13.742279052734375,
          -5.664615154266357,
          8.53212833404541,
          -5.306236743927002,
          12.004254341125488,
          0.05130445957183838,
          1.75834321975708,
          1.7786186933517456,
          11.719843864440918,
          8.030020713806152,
          -0.2712503671646118,
          4.824501037597656,
          10.454007148742676,
          -0.5737536549568176,
          -3.3396809101104736,
          10.829936981201172,
          2.2527403831481934,
          2.2680740356445312,
          7.926621437072754,
          6.709505081176758,
          2.257436752319336,
          11.27553939819336,
          11.64963150024414,
          -9.477072715759277,
          -13.367630004882812,
          -3.8436150550842285,
          -6.012904644012451,
          -3.0359935760498047,
          8.802236557006836,
          10.515130043029785,
          1.4690850973129272
         ],
         "yaxis": "y"
        },
        {
         "customdata": [
          [
           "Neil John Samuel is a...",
           "action",
           "0"
          ],
          [
           "Molly Gilbert won't accept a...",
           "comedy",
           "0"
          ],
          [
           "Gloria Cole and Eddie Swenson...",
           "drama",
           "0"
          ],
          [
           "Frankie Bono, a hitman from...",
           "action",
           "0"
          ],
          [
           "Omar Sharif plays Muhassab, headman...",
           "action",
           "0"
          ]
         ],
         "hovertemplate": "cluster=%{customdata[2]}<br>x-tsne=%{x}<br>y-tsne=%{y}<br>text=%{customdata[0]}<br>overall_label=%{customdata[1]}<extra></extra>",
         "legendgroup": "0",
         "marker": {
          "color": "#00cc96",
          "symbol": "circle"
         },
         "mode": "markers",
         "name": "0",
         "orientation": "v",
         "showlegend": true,
         "type": "scatter",
         "x": [
          -13.89668083190918,
          -12.742218971252441,
          -12.715304374694824,
          -7.698011875152588,
          -14.084027290344238
         ],
         "xaxis": "x",
         "y": [
          -2.088819742202759,
          -1.2129912376403809,
          -4.018492221832275,
          -2.419149160385132,
          -0.7856519222259521
         ],
         "yaxis": "y"
        }
       ],
       "layout": {
        "height": 1200,
        "legend": {
         "title": {
          "text": "cluster"
         },
         "tracegroupgap": 0
        },
        "template": {
         "data": {
          "bar": [
           {
            "error_x": {
             "color": "#2a3f5f"
            },
            "error_y": {
             "color": "#2a3f5f"
            },
            "marker": {
             "line": {
              "color": "#E5ECF6",
              "width": 0.5
             },
             "pattern": {
              "fillmode": "overlay",
              "size": 10,
              "solidity": 0.2
             }
            },
            "type": "bar"
           }
          ],
          "barpolar": [
           {
            "marker": {
             "line": {
              "color": "#E5ECF6",
              "width": 0.5
             },
             "pattern": {
              "fillmode": "overlay",
              "size": 10,
              "solidity": 0.2
             }
            },
            "type": "barpolar"
           }
          ],
          "carpet": [
           {
            "aaxis": {
             "endlinecolor": "#2a3f5f",
             "gridcolor": "white",
             "linecolor": "white",
             "minorgridcolor": "white",
             "startlinecolor": "#2a3f5f"
            },
            "baxis": {
             "endlinecolor": "#2a3f5f",
             "gridcolor": "white",
             "linecolor": "white",
             "minorgridcolor": "white",
             "startlinecolor": "#2a3f5f"
            },
            "type": "carpet"
           }
          ],
          "choropleth": [
           {
            "colorbar": {
             "outlinewidth": 0,
             "ticks": ""
            },
            "type": "choropleth"
           }
          ],
          "contour": [
           {
            "colorbar": {
             "outlinewidth": 0,
             "ticks": ""
            },
            "colorscale": [
             [
              0,
              "#0d0887"
             ],
             [
              0.1111111111111111,
              "#46039f"
             ],
             [
              0.2222222222222222,
              "#7201a8"
             ],
             [
              0.3333333333333333,
              "#9c179e"
             ],
             [
              0.4444444444444444,
              "#bd3786"
             ],
             [
              0.5555555555555556,
              "#d8576b"
             ],
             [
              0.6666666666666666,
              "#ed7953"
             ],
             [
              0.7777777777777778,
              "#fb9f3a"
             ],
             [
              0.8888888888888888,
              "#fdca26"
             ],
             [
              1,
              "#f0f921"
             ]
            ],
            "type": "contour"
           }
          ],
          "contourcarpet": [
           {
            "colorbar": {
             "outlinewidth": 0,
             "ticks": ""
            },
            "type": "contourcarpet"
           }
          ],
          "heatmap": [
           {
            "colorbar": {
             "outlinewidth": 0,
             "ticks": ""
            },
            "colorscale": [
             [
              0,
              "#0d0887"
             ],
             [
              0.1111111111111111,
              "#46039f"
             ],
             [
              0.2222222222222222,
              "#7201a8"
             ],
             [
              0.3333333333333333,
              "#9c179e"
             ],
             [
              0.4444444444444444,
              "#bd3786"
             ],
             [
              0.5555555555555556,
              "#d8576b"
             ],
             [
              0.6666666666666666,
              "#ed7953"
             ],
             [
              0.7777777777777778,
              "#fb9f3a"
             ],
             [
              0.8888888888888888,
              "#fdca26"
             ],
             [
              1,
              "#f0f921"
             ]
            ],
            "type": "heatmap"
           }
          ],
          "heatmapgl": [
           {
            "colorbar": {
             "outlinewidth": 0,
             "ticks": ""
            },
            "colorscale": [
             [
              0,
              "#0d0887"
             ],
             [
              0.1111111111111111,
              "#46039f"
             ],
             [
              0.2222222222222222,
              "#7201a8"
             ],
             [
              0.3333333333333333,
              "#9c179e"
             ],
             [
              0.4444444444444444,
              "#bd3786"
             ],
             [
              0.5555555555555556,
              "#d8576b"
             ],
             [
              0.6666666666666666,
              "#ed7953"
             ],
             [
              0.7777777777777778,
              "#fb9f3a"
             ],
             [
              0.8888888888888888,
              "#fdca26"
             ],
             [
              1,
              "#f0f921"
             ]
            ],
            "type": "heatmapgl"
           }
          ],
          "histogram": [
           {
            "marker": {
             "pattern": {
              "fillmode": "overlay",
              "size": 10,
              "solidity": 0.2
             }
            },
            "type": "histogram"
           }
          ],
          "histogram2d": [
           {
            "colorbar": {
             "outlinewidth": 0,
             "ticks": ""
            },
            "colorscale": [
             [
              0,
              "#0d0887"
             ],
             [
              0.1111111111111111,
              "#46039f"
             ],
             [
              0.2222222222222222,
              "#7201a8"
             ],
             [
              0.3333333333333333,
              "#9c179e"
             ],
             [
              0.4444444444444444,
              "#bd3786"
             ],
             [
              0.5555555555555556,
              "#d8576b"
             ],
             [
              0.6666666666666666,
              "#ed7953"
             ],
             [
              0.7777777777777778,
              "#fb9f3a"
             ],
             [
              0.8888888888888888,
              "#fdca26"
             ],
             [
              1,
              "#f0f921"
             ]
            ],
            "type": "histogram2d"
           }
          ],
          "histogram2dcontour": [
           {
            "colorbar": {
             "outlinewidth": 0,
             "ticks": ""
            },
            "colorscale": [
             [
              0,
              "#0d0887"
             ],
             [
              0.1111111111111111,
              "#46039f"
             ],
             [
              0.2222222222222222,
              "#7201a8"
             ],
             [
              0.3333333333333333,
              "#9c179e"
             ],
             [
              0.4444444444444444,
              "#bd3786"
             ],
             [
              0.5555555555555556,
              "#d8576b"
             ],
             [
              0.6666666666666666,
              "#ed7953"
             ],
             [
              0.7777777777777778,
              "#fb9f3a"
             ],
             [
              0.8888888888888888,
              "#fdca26"
             ],
             [
              1,
              "#f0f921"
             ]
            ],
            "type": "histogram2dcontour"
           }
          ],
          "mesh3d": [
           {
            "colorbar": {
             "outlinewidth": 0,
             "ticks": ""
            },
            "type": "mesh3d"
           }
          ],
          "parcoords": [
           {
            "line": {
             "colorbar": {
              "outlinewidth": 0,
              "ticks": ""
             }
            },
            "type": "parcoords"
           }
          ],
          "pie": [
           {
            "automargin": true,
            "type": "pie"
           }
          ],
          "scatter": [
           {
            "fillpattern": {
             "fillmode": "overlay",
             "size": 10,
             "solidity": 0.2
            },
            "type": "scatter"
           }
          ],
          "scatter3d": [
           {
            "line": {
             "colorbar": {
              "outlinewidth": 0,
              "ticks": ""
             }
            },
            "marker": {
             "colorbar": {
              "outlinewidth": 0,
              "ticks": ""
             }
            },
            "type": "scatter3d"
           }
          ],
          "scattercarpet": [
           {
            "marker": {
             "colorbar": {
              "outlinewidth": 0,
              "ticks": ""
             }
            },
            "type": "scattercarpet"
           }
          ],
          "scattergeo": [
           {
            "marker": {
             "colorbar": {
              "outlinewidth": 0,
              "ticks": ""
             }
            },
            "type": "scattergeo"
           }
          ],
          "scattergl": [
           {
            "marker": {
             "colorbar": {
              "outlinewidth": 0,
              "ticks": ""
             }
            },
            "type": "scattergl"
           }
          ],
          "scattermapbox": [
           {
            "marker": {
             "colorbar": {
              "outlinewidth": 0,
              "ticks": ""
             }
            },
            "type": "scattermapbox"
           }
          ],
          "scatterpolar": [
           {
            "marker": {
             "colorbar": {
              "outlinewidth": 0,
              "ticks": ""
             }
            },
            "type": "scatterpolar"
           }
          ],
          "scatterpolargl": [
           {
            "marker": {
             "colorbar": {
              "outlinewidth": 0,
              "ticks": ""
             }
            },
            "type": "scatterpolargl"
           }
          ],
          "scatterternary": [
           {
            "marker": {
             "colorbar": {
              "outlinewidth": 0,
              "ticks": ""
             }
            },
            "type": "scatterternary"
           }
          ],
          "surface": [
           {
            "colorbar": {
             "outlinewidth": 0,
             "ticks": ""
            },
            "colorscale": [
             [
              0,
              "#0d0887"
             ],
             [
              0.1111111111111111,
              "#46039f"
             ],
             [
              0.2222222222222222,
              "#7201a8"
             ],
             [
              0.3333333333333333,
              "#9c179e"
             ],
             [
              0.4444444444444444,
              "#bd3786"
             ],
             [
              0.5555555555555556,
              "#d8576b"
             ],
             [
              0.6666666666666666,
              "#ed7953"
             ],
             [
              0.7777777777777778,
              "#fb9f3a"
             ],
             [
              0.8888888888888888,
              "#fdca26"
             ],
             [
              1,
              "#f0f921"
             ]
            ],
            "type": "surface"
           }
          ],
          "table": [
           {
            "cells": {
             "fill": {
              "color": "#EBF0F8"
             },
             "line": {
              "color": "white"
             }
            },
            "header": {
             "fill": {
              "color": "#C8D4E3"
             },
             "line": {
              "color": "white"
             }
            },
            "type": "table"
           }
          ]
         },
         "layout": {
          "annotationdefaults": {
           "arrowcolor": "#2a3f5f",
           "arrowhead": 0,
           "arrowwidth": 1
          },
          "autotypenumbers": "strict",
          "coloraxis": {
           "colorbar": {
            "outlinewidth": 0,
            "ticks": ""
           }
          },
          "colorscale": {
           "diverging": [
            [
             0,
             "#8e0152"
            ],
            [
             0.1,
             "#c51b7d"
            ],
            [
             0.2,
             "#de77ae"
            ],
            [
             0.3,
             "#f1b6da"
            ],
            [
             0.4,
             "#fde0ef"
            ],
            [
             0.5,
             "#f7f7f7"
            ],
            [
             0.6,
             "#e6f5d0"
            ],
            [
             0.7,
             "#b8e186"
            ],
            [
             0.8,
             "#7fbc41"
            ],
            [
             0.9,
             "#4d9221"
            ],
            [
             1,
             "#276419"
            ]
           ],
           "sequential": [
            [
             0,
             "#0d0887"
            ],
            [
             0.1111111111111111,
             "#46039f"
            ],
            [
             0.2222222222222222,
             "#7201a8"
            ],
            [
             0.3333333333333333,
             "#9c179e"
            ],
            [
             0.4444444444444444,
             "#bd3786"
            ],
            [
             0.5555555555555556,
             "#d8576b"
            ],
            [
             0.6666666666666666,
             "#ed7953"
            ],
            [
             0.7777777777777778,
             "#fb9f3a"
            ],
            [
             0.8888888888888888,
             "#fdca26"
            ],
            [
             1,
             "#f0f921"
            ]
           ],
           "sequentialminus": [
            [
             0,
             "#0d0887"
            ],
            [
             0.1111111111111111,
             "#46039f"
            ],
            [
             0.2222222222222222,
             "#7201a8"
            ],
            [
             0.3333333333333333,
             "#9c179e"
            ],
            [
             0.4444444444444444,
             "#bd3786"
            ],
            [
             0.5555555555555556,
             "#d8576b"
            ],
            [
             0.6666666666666666,
             "#ed7953"
            ],
            [
             0.7777777777777778,
             "#fb9f3a"
            ],
            [
             0.8888888888888888,
             "#fdca26"
            ],
            [
             1,
             "#f0f921"
            ]
           ]
          },
          "colorway": [
           "#636efa",
           "#EF553B",
           "#00cc96",
           "#ab63fa",
           "#FFA15A",
           "#19d3f3",
           "#FF6692",
           "#B6E880",
           "#FF97FF",
           "#FECB52"
          ],
          "font": {
           "color": "#2a3f5f"
          },
          "geo": {
           "bgcolor": "white",
           "lakecolor": "white",
           "landcolor": "#E5ECF6",
           "showlakes": true,
           "showland": true,
           "subunitcolor": "white"
          },
          "hoverlabel": {
           "align": "left"
          },
          "hovermode": "closest",
          "mapbox": {
           "style": "light"
          },
          "paper_bgcolor": "white",
          "plot_bgcolor": "#E5ECF6",
          "polar": {
           "angularaxis": {
            "gridcolor": "white",
            "linecolor": "white",
            "ticks": ""
           },
           "bgcolor": "#E5ECF6",
           "radialaxis": {
            "gridcolor": "white",
            "linecolor": "white",
            "ticks": ""
           }
          },
          "scene": {
           "xaxis": {
            "backgroundcolor": "#E5ECF6",
            "gridcolor": "white",
            "gridwidth": 2,
            "linecolor": "white",
            "showbackground": true,
            "ticks": "",
            "zerolinecolor": "white"
           },
           "yaxis": {
            "backgroundcolor": "#E5ECF6",
            "gridcolor": "white",
            "gridwidth": 2,
            "linecolor": "white",
            "showbackground": true,
            "ticks": "",
            "zerolinecolor": "white"
           },
           "zaxis": {
            "backgroundcolor": "#E5ECF6",
            "gridcolor": "white",
            "gridwidth": 2,
            "linecolor": "white",
            "showbackground": true,
            "ticks": "",
            "zerolinecolor": "white"
           }
          },
          "shapedefaults": {
           "line": {
            "color": "#2a3f5f"
           }
          },
          "ternary": {
           "aaxis": {
            "gridcolor": "white",
            "linecolor": "white",
            "ticks": ""
           },
           "baxis": {
            "gridcolor": "white",
            "linecolor": "white",
            "ticks": ""
           },
           "bgcolor": "#E5ECF6",
           "caxis": {
            "gridcolor": "white",
            "linecolor": "white",
            "ticks": ""
           }
          },
          "title": {
           "x": 0.05
          },
          "xaxis": {
           "automargin": true,
           "gridcolor": "white",
           "linecolor": "white",
           "ticks": "",
           "title": {
            "standoff": 15
           },
           "zerolinecolor": "white",
           "zerolinewidth": 2
          },
          "yaxis": {
           "automargin": true,
           "gridcolor": "white",
           "linecolor": "white",
           "ticks": "",
           "title": {
            "standoff": 15
           },
           "zerolinecolor": "white",
           "zerolinewidth": 2
          }
         }
        },
        "title": {
         "text": "Sentences t-SNE Visualization with TF-IDF Embeddings and HDBSCAN Clustering"
        },
        "width": 1200,
        "xaxis": {
         "anchor": "y",
         "domain": [
          0,
          1
         ],
         "title": {
          "text": "x-tsne"
         }
        },
        "yaxis": {
         "anchor": "x",
         "domain": [
          0,
          1
         ],
         "title": {
          "text": "y-tsne"
         }
        }
       }
      }
     },
     "metadata": {},
     "output_type": "display_data"
    }
   ],
   "source": [
    "tfidf_df['cluster'] = tfidf_df['cluster'].astype(str)\n",
    "fig_cluster = px.scatter(\n",
    "    tfidf_df,\n",
    "    x=\"x-tsne\",\n",
    "    y=\"y-tsne\",\n",
    "    color=\"cluster\",\n",
    "    hover_data={\"text\": True, \"overall_label\": True, \"cluster\": True},\n",
    "    title=\"Sentences t-SNE Visualization with TF-IDF Embeddings and HDBSCAN Clustering\",\n",
    "    width=1200,\n",
    "    height=1200,\n",
    ")\n",
    "fig_cluster.show()"
   ]
  }
 ],
 "metadata": {
  "kernelspec": {
   "display_name": "venv",
   "language": "python",
   "name": "python3"
  },
  "language_info": {
   "codemirror_mode": {
    "name": "ipython",
    "version": 3
   },
   "file_extension": ".py",
   "mimetype": "text/x-python",
   "name": "python",
   "nbconvert_exporter": "python",
   "pygments_lexer": "ipython3",
   "version": "3.12.0"
  }
 },
 "nbformat": 4,
 "nbformat_minor": 2
}
