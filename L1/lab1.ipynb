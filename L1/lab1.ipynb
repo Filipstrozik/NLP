{
 "cells": [
  {
   "cell_type": "code",
   "execution_count": 23,
   "metadata": {},
   "outputs": [
    {
     "name": "stderr",
     "output_type": "stream",
     "text": [
      "[nltk_data] Downloading package stopwords to /home/woleek/nltk_data...\n",
      "[nltk_data]   Package stopwords is already up-to-date!\n",
      "[nltk_data] Downloading package punkt_tab to /home/woleek/nltk_data...\n",
      "[nltk_data]   Package punkt_tab is already up-to-date!\n"
     ]
    },
    {
     "data": {
      "text/plain": [
       "True"
      ]
     },
     "execution_count": 23,
     "metadata": {},
     "output_type": "execute_result"
    }
   ],
   "source": [
    "import pandas as pd\n",
    "import pandas as pd\n",
    "import numpy as np\n",
    "from sklearn.manifold import TSNE\n",
    "import plotly.express as px\n",
    "import nltk\n",
    "from nltk.corpus import stopwords\n",
    "import string\n",
    "import fasttext\n",
    "from sklearn.feature_extraction.text import TfidfVectorizer\n",
    "from sklearn.cluster import HDBSCAN\n",
    "\n",
    "nltk.download(\"stopwords\")\n",
    "nltk.download(\"punkt_tab\")"
   ]
  },
  {
   "cell_type": "markdown",
   "metadata": {},
   "source": [
    "# Load data"
   ]
  },
  {
   "cell_type": "code",
   "execution_count": 24,
   "metadata": {},
   "outputs": [
    {
     "data": {
      "text/html": [
       "<div>\n",
       "<style scoped>\n",
       "    .dataframe tbody tr th:only-of-type {\n",
       "        vertical-align: middle;\n",
       "    }\n",
       "\n",
       "    .dataframe tbody tr th {\n",
       "        vertical-align: top;\n",
       "    }\n",
       "\n",
       "    .dataframe thead th {\n",
       "        text-align: right;\n",
       "    }\n",
       "</style>\n",
       "<table border=\"1\" class=\"dataframe\">\n",
       "  <thead>\n",
       "    <tr style=\"text-align: right;\">\n",
       "      <th></th>\n",
       "      <th>label</th>\n",
       "      <th>text</th>\n",
       "    </tr>\n",
       "  </thead>\n",
       "  <tbody>\n",
       "    <tr>\n",
       "      <th>0</th>\n",
       "      <td>film noir</td>\n",
       "      <td>The film tells the story of Elizabeth (Colbert...</td>\n",
       "    </tr>\n",
       "  </tbody>\n",
       "</table>\n",
       "</div>"
      ],
      "text/plain": [
       "       label                                               text\n",
       "0  film noir  The film tells the story of Elizabeth (Colbert..."
      ]
     },
     "execution_count": 24,
     "metadata": {},
     "output_type": "execute_result"
    }
   ],
   "source": [
    "df = pd.read_csv('../data/movie_plots.csv')\n",
    "df.head(1)"
   ]
  },
  {
   "cell_type": "markdown",
   "metadata": {},
   "source": [
    "# Preprocess text"
   ]
  },
  {
   "cell_type": "code",
   "execution_count": 25,
   "metadata": {},
   "outputs": [],
   "source": [
    "def preprocess_texts(text):\n",
    "    # remove extra whitespace\n",
    "    text = text.strip()\n",
    "    text = \" \".join(text.split())\n",
    "    \n",
    "    # lowercase text\n",
    "    text = text.lower()\n",
    "\n",
    "    # tokenize text\n",
    "    tokens = nltk.word_tokenize(text)\n",
    "\n",
    "    # remove punctuation\n",
    "    tokens = [token for token in tokens if token not in string.punctuation]\n",
    "\n",
    "    # remove stopwords\n",
    "    tokens = [token for token in tokens if token not in stopwords.words(\"english\")]\n",
    "    return \" \".join(tokens)"
   ]
  },
  {
   "cell_type": "code",
   "execution_count": 26,
   "metadata": {},
   "outputs": [
    {
     "data": {
      "text/html": [
       "<div>\n",
       "<style scoped>\n",
       "    .dataframe tbody tr th:only-of-type {\n",
       "        vertical-align: middle;\n",
       "    }\n",
       "\n",
       "    .dataframe tbody tr th {\n",
       "        vertical-align: top;\n",
       "    }\n",
       "\n",
       "    .dataframe thead th {\n",
       "        text-align: right;\n",
       "    }\n",
       "</style>\n",
       "<table border=\"1\" class=\"dataframe\">\n",
       "  <thead>\n",
       "    <tr style=\"text-align: right;\">\n",
       "      <th></th>\n",
       "      <th>label</th>\n",
       "      <th>text</th>\n",
       "      <th>cleaned_text</th>\n",
       "    </tr>\n",
       "  </thead>\n",
       "  <tbody>\n",
       "    <tr>\n",
       "      <th>0</th>\n",
       "      <td>film noir</td>\n",
       "      <td>The film tells the story of Elizabeth (Colbert...</td>\n",
       "      <td>film tells story elizabeth colbert john welles...</td>\n",
       "    </tr>\n",
       "  </tbody>\n",
       "</table>\n",
       "</div>"
      ],
      "text/plain": [
       "       label                                               text  \\\n",
       "0  film noir  The film tells the story of Elizabeth (Colbert...   \n",
       "\n",
       "                                        cleaned_text  \n",
       "0  film tells story elizabeth colbert john welles...  "
      ]
     },
     "execution_count": 26,
     "metadata": {},
     "output_type": "execute_result"
    }
   ],
   "source": [
    "df['cleaned_text'] = df['text'].apply(preprocess_texts)\n",
    "df.head(1)"
   ]
  },
  {
   "cell_type": "markdown",
   "metadata": {},
   "source": [
    "# Text embeddings"
   ]
  },
  {
   "cell_type": "markdown",
   "metadata": {},
   "source": [
    "### FastText"
   ]
  },
  {
   "cell_type": "code",
   "execution_count": 27,
   "metadata": {},
   "outputs": [],
   "source": [
    "ft = fasttext.load_model(\"../models/cc.en.300.bin\")"
   ]
  },
  {
   "cell_type": "code",
   "execution_count": 28,
   "metadata": {},
   "outputs": [
    {
     "data": {
      "text/html": [
       "<div>\n",
       "<style scoped>\n",
       "    .dataframe tbody tr th:only-of-type {\n",
       "        vertical-align: middle;\n",
       "    }\n",
       "\n",
       "    .dataframe tbody tr th {\n",
       "        vertical-align: top;\n",
       "    }\n",
       "\n",
       "    .dataframe thead th {\n",
       "        text-align: right;\n",
       "    }\n",
       "</style>\n",
       "<table border=\"1\" class=\"dataframe\">\n",
       "  <thead>\n",
       "    <tr style=\"text-align: right;\">\n",
       "      <th></th>\n",
       "      <th>label</th>\n",
       "      <th>text</th>\n",
       "      <th>cleaned_text</th>\n",
       "      <th>ft_embeddings</th>\n",
       "    </tr>\n",
       "  </thead>\n",
       "  <tbody>\n",
       "    <tr>\n",
       "      <th>0</th>\n",
       "      <td>film noir</td>\n",
       "      <td>The film tells the story of Elizabeth (Colbert...</td>\n",
       "      <td>film tells story elizabeth colbert john welles...</td>\n",
       "      <td>[-0.0124314, 0.007053868, 0.0022771724, 0.0611...</td>\n",
       "    </tr>\n",
       "  </tbody>\n",
       "</table>\n",
       "</div>"
      ],
      "text/plain": [
       "       label                                               text  \\\n",
       "0  film noir  The film tells the story of Elizabeth (Colbert...   \n",
       "\n",
       "                                        cleaned_text  \\\n",
       "0  film tells story elizabeth colbert john welles...   \n",
       "\n",
       "                                       ft_embeddings  \n",
       "0  [-0.0124314, 0.007053868, 0.0022771724, 0.0611...  "
      ]
     },
     "execution_count": 28,
     "metadata": {},
     "output_type": "execute_result"
    }
   ],
   "source": [
    "ft_df = df.copy()\n",
    "\n",
    "ft_df[\"ft_embeddings\"] = df[\"cleaned_text\"].apply(  \n",
    "    lambda x: ft.get_sentence_vector(x)\n",
    ")\n",
    "ft_df.head(1)"
   ]
  },
  {
   "cell_type": "code",
   "execution_count": 29,
   "metadata": {},
   "outputs": [],
   "source": [
    "ft_embed_arr = np.array(ft_df[\"ft_embeddings\"].to_list())"
   ]
  },
  {
   "cell_type": "code",
   "execution_count": 30,
   "metadata": {},
   "outputs": [
    {
     "data": {
      "text/html": [
       "<div>\n",
       "<style scoped>\n",
       "    .dataframe tbody tr th:only-of-type {\n",
       "        vertical-align: middle;\n",
       "    }\n",
       "\n",
       "    .dataframe tbody tr th {\n",
       "        vertical-align: top;\n",
       "    }\n",
       "\n",
       "    .dataframe thead th {\n",
       "        text-align: right;\n",
       "    }\n",
       "</style>\n",
       "<table border=\"1\" class=\"dataframe\">\n",
       "  <thead>\n",
       "    <tr style=\"text-align: right;\">\n",
       "      <th></th>\n",
       "      <th>label</th>\n",
       "      <th>text</th>\n",
       "      <th>cleaned_text</th>\n",
       "      <th>ft_embeddings</th>\n",
       "      <th>x-tsne</th>\n",
       "      <th>y-tsne</th>\n",
       "    </tr>\n",
       "  </thead>\n",
       "  <tbody>\n",
       "    <tr>\n",
       "      <th>0</th>\n",
       "      <td>film noir</td>\n",
       "      <td>The film tells the story...</td>\n",
       "      <td>film tells story elizabeth colbert john welles...</td>\n",
       "      <td>[-0.0124314, 0.007053868, 0.0022771724, 0.0611...</td>\n",
       "      <td>-1.394166</td>\n",
       "      <td>1.630814</td>\n",
       "    </tr>\n",
       "  </tbody>\n",
       "</table>\n",
       "</div>"
      ],
      "text/plain": [
       "       label                         text  \\\n",
       "0  film noir  The film tells the story...   \n",
       "\n",
       "                                        cleaned_text  \\\n",
       "0  film tells story elizabeth colbert john welles...   \n",
       "\n",
       "                                       ft_embeddings    x-tsne    y-tsne  \n",
       "0  [-0.0124314, 0.007053868, 0.0022771724, 0.0611... -1.394166  1.630814  "
      ]
     },
     "execution_count": 30,
     "metadata": {},
     "output_type": "execute_result"
    }
   ],
   "source": [
    "tsne = TSNE(n_components=2, random_state=42, perplexity=30, max_iter=1000)\n",
    "X_tsne = tsne.fit_transform(ft_embed_arr)\n",
    "\n",
    "ft_df['text'] = ft_df['text'].apply(lambda x: \" \".join(x.split()[:5]) + \"...\")\n",
    "ft_df[\"x-tsne\"] = X_tsne[:, 0]\n",
    "ft_df[\"y-tsne\"] = X_tsne[:, 1]\n",
    "ft_df.head(1)"
   ]
  },
  {
   "cell_type": "code",
   "execution_count": 31,
   "metadata": {},
   "outputs": [
    {
     "data": {
      "application/vnd.plotly.v1+json": {
       "config": {
        "plotlyServerURL": "https://plot.ly"
       },
       "data": [
        {
         "customdata": [
          [
           "The film tells the story...",
           "film noir"
          ],
          [
           "A psychoanalyst and his young...",
           "film noir"
          ],
          [
           "The film is set in...",
           "film noir"
          ],
          [
           "Convict Van Duff is the...",
           "film noir"
          ],
          [
           "Rosalind Dee (DeCarlo) is a...",
           "film noir"
          ],
          [
           "Con man Rick Maxon (Payne)...",
           "film noir"
          ]
         ],
         "hovertemplate": "label=%{customdata[1]}<br>x-tsne=%{x}<br>y-tsne=%{y}<br>text=%{customdata[0]}<extra></extra>",
         "legendgroup": "film noir",
         "marker": {
          "color": "#636efa",
          "symbol": "circle"
         },
         "mode": "markers",
         "name": "film noir",
         "orientation": "v",
         "showlegend": true,
         "type": "scatter",
         "x": [
          -1.3941657543182373,
          2.212857723236084,
          2.7268829345703125,
          1.0386090278625488,
          -5.328765392303467,
          -6.364380836486816
         ],
         "xaxis": "x",
         "y": [
          1.630813717842102,
          2.338374137878418,
          -0.2613137662410736,
          -1.4756382703781128,
          -1.586046814918518,
          -0.7697525024414062
         ],
         "yaxis": "y"
        },
        {
         "customdata": [
          [
           "The eventful life of Swami...",
           "biography"
          ],
          [
           "Raised on a sharecropping plantation...",
           "biography"
          ]
         ],
         "hovertemplate": "label=%{customdata[1]}<br>x-tsne=%{x}<br>y-tsne=%{y}<br>text=%{customdata[0]}<extra></extra>",
         "legendgroup": "biography",
         "marker": {
          "color": "#EF553B",
          "symbol": "circle"
         },
         "mode": "markers",
         "name": "biography",
         "orientation": "v",
         "showlegend": true,
         "type": "scatter",
         "x": [
          8.257712364196777,
          2.881816864013672
         ],
         "xaxis": "x",
         "y": [
          5.897769451141357,
          -3.8801753520965576
         ],
         "yaxis": "y"
        },
        {
         "customdata": [
          [
           "Jagathalaprathapan is a prince who...",
           "unknown"
          ],
          [
           "The story is about two...",
           "unknown"
          ],
          [
           "In 1962, South Korea. Kang...",
           "unknown"
          ],
          [
           "Vani Viswanath plays the central...",
           "unknown"
          ],
          [
           "3000 years ago, the Vader...",
           "unknown"
          ],
          [
           "An orphan girl, named Bindu...",
           "unknown"
          ],
          [
           "Stand-up-comedian Nikita Kolesnikov (Danila Kozlovsky)...",
           "unknown"
          ],
          [
           "Claire of the Moon is...",
           "unknown"
          ],
          [
           "Joseph is a mentally retarded...",
           "unknown"
          ],
          [
           "Balu (Vijayakumar) and Padma (Manjula...",
           "unknown"
          ],
          [
           "On the run from the...",
           "unknown"
          ],
          [
           "A man visits a happy...",
           "unknown"
          ],
          [
           "In 1983 KBS launched a...",
           "unknown"
          ],
          [
           "Rahul (Ramankanth) sees a concert...",
           "unknown"
          ],
          [
           "Rolex (Prakash Raj) is a...",
           "unknown"
          ],
          [
           "A young sculptor searches for...",
           "unknown"
          ],
          [
           "Joan (Purviance) and Magdalen (Sothern)...",
           "unknown"
          ],
          [
           "Indie musician Dong-hoon and cartoonist...",
           "unknown"
          ],
          [
           "The story tells about Ching...",
           "unknown"
          ],
          [
           "A former agent from the...",
           "unknown"
          ],
          [
           "An earthquake releases a bunch...",
           "unknown"
          ],
          [
           "Nine people from around the...",
           "unknown"
          ],
          [
           "The film takes place in...",
           "unknown"
          ],
          [
           "Dharma (Anandaraj) is an auto...",
           "unknown"
          ],
          [
           "Arjun lives in a village....",
           "unknown"
          ],
          [
           "The story of the film...",
           "unknown"
          ],
          [
           "Chu Liuxiang is having drinks...",
           "unknown"
          ],
          [
           "Soo-nam is a poor woman...",
           "unknown"
          ],
          [
           "Vijay (R. Sarathkumar) and Seetha...",
           "unknown"
          ],
          [
           "Vivek is a wanted criminal...",
           "unknown"
          ],
          [
           "Gopal (M.G.R.) is an honest...",
           "unknown"
          ],
          [
           "This film is about the...",
           "unknown"
          ],
          [
           "The story is a family...",
           "unknown"
          ],
          [
           "Kumar is a young and...",
           "unknown"
          ],
          [
           "Twice widowed, Pilnyeo vows never...",
           "unknown"
          ],
          [
           "A new teacher organizes a...",
           "unknown"
          ],
          [
           "In the 1930s, Teresa (Buday)...",
           "unknown"
          ],
          [
           "In the year 1999, the...",
           "unknown"
          ],
          [
           "The film is based on...",
           "unknown"
          ],
          [
           "Jin-hong is a prosecutor who...",
           "unknown"
          ],
          [
           "Kumar, a graduate who decides...",
           "unknown"
          ],
          [
           "The story revolves around a...",
           "unknown"
          ],
          [
           "A genius sculptor Joon-goo (Park...",
           "unknown"
          ],
          [
           "Russian general Marenkov (Robert Shaw)...",
           "unknown"
          ],
          [
           "Rakta Bandhan is a family...",
           "unknown"
          ],
          [
           "Louisa Gould (Jenny Seagrove) hides...",
           "unknown"
          ],
          [
           "Marappan (Anandaraj) is the rebel...",
           "unknown"
          ],
          [
           "The spouses Alec and Zoey,...",
           "unknown"
          ],
          [
           "After the execution of Kattabomman...",
           "unknown"
          ],
          [
           "Alli (Manorama) a veritable jungle...",
           "unknown"
          ],
          [
           "The film takes place in...",
           "unknown"
          ],
          [
           "Raja is a 10-year-old tourist...",
           "unknown"
          ],
          [
           "Rajini's parents are killed by...",
           "unknown"
          ],
          [
           "Pudhayal was about imaginary gold...",
           "unknown"
          ],
          [
           "Kaalia is an action flick...",
           "unknown"
          ],
          [
           "Seven young freedom fighters, heavily...",
           "unknown"
          ],
          [
           "The story revolves around a...",
           "unknown"
          ],
          [
           "Jung-woo is a film director...",
           "unknown"
          ],
          [
           "The story revolves around a...",
           "unknown"
          ],
          [
           "Handsome and fairly good-looking Anil...",
           "unknown"
          ],
          [
           "While on a trip to...",
           "unknown"
          ],
          [
           "The story centres on the...",
           "unknown"
          ],
          [
           "Two persons namely Ajay and...",
           "unknown"
          ],
          [
           "Story of a corpse being...",
           "unknown"
          ],
          [
           "The film revolves around the...",
           "unknown"
          ],
          [
           "Anand (Shivrajkumar) was nicknamed \"Kaddipudi\"...",
           "unknown"
          ],
          [
           "Vijay (MGR), a carefree and...",
           "unknown"
          ],
          [
           "A man loses his memory...",
           "unknown"
          ],
          [
           "The film tells the story...",
           "unknown"
          ]
         ],
         "hovertemplate": "label=%{customdata[1]}<br>x-tsne=%{x}<br>y-tsne=%{y}<br>text=%{customdata[0]}<extra></extra>",
         "legendgroup": "unknown",
         "marker": {
          "color": "#00cc96",
          "symbol": "circle"
         },
         "mode": "markers",
         "name": "unknown",
         "orientation": "v",
         "showlegend": true,
         "type": "scatter",
         "x": [
          5.009643077850342,
          5.563476085662842,
          7.480871200561523,
          4.63248348236084,
          -0.13455374538898468,
          4.3623247146606445,
          5.266811370849609,
          -4.318216800689697,
          -0.6647645235061646,
          5.726032257080078,
          -4.308572292327881,
          3.9729316234588623,
          3.4686343669891357,
          6.010714530944824,
          4.011882305145264,
          4.131044387817383,
          -5.121321201324463,
          0.5252751708030701,
          -7.116682529449463,
          1.398295521736145,
          2.274115800857544,
          2.636784791946411,
          3.3909027576446533,
          2.87233304977417,
          7.092297077178955,
          -2.6033248901367188,
          -1.7215760946273804,
          2.6492726802825928,
          5.679248332977295,
          2.271622657775879,
          5.335801601409912,
          6.795472621917725,
          7.066988945007324,
          5.635136127471924,
          4.158466339111328,
          8.214576721191406,
          2.5443034172058105,
          2.525764226913452,
          7.951767444610596,
          2.26584792137146,
          0.582486093044281,
          2.717561721801758,
          5.017542362213135,
          0.5328848958015442,
          6.307583332061768,
          -8.427844047546387,
          3.534189224243164,
          0.02437903732061386,
          -0.5050589442253113,
          -1.9579646587371826,
          4.160139083862305,
          5.23579740524292,
          5.140263080596924,
          4.518720626831055,
          3.7237987518310547,
          4.984988689422607,
          5.886687278747559,
          5.968054294586182,
          6.483254909515381,
          4.571137428283691,
          5.856649875640869,
          1.0159252882003784,
          2.2625088691711426,
          -0.05957215651869774,
          6.307523250579834,
          3.2933666706085205,
          3.5207579135894775,
          1.3417094945907593,
          5.364963531494141
         ],
         "xaxis": "x",
         "y": [
          6.279392242431641,
          -0.3042672276496887,
          -1.6696670055389404,
          7.311955451965332,
          -6.119076728820801,
          -2.762155055999756,
          1.7377581596374512,
          -4.126106262207031,
          1.0990363359451294,
          8.253113746643066,
          -5.262889862060547,
          1.0135952234268188,
          -5.781984806060791,
          2.2290923595428467,
          7.929433345794678,
          0.9934132695198059,
          -0.46551641821861267,
          1.864846110343933,
          -3.2411317825317383,
          -8.10416316986084,
          -6.698601245880127,
          -6.391044616699219,
          -5.16005277633667,
          6.749215126037598,
          3.7921791076660156,
          -2.3876547813415527,
          3.5979201793670654,
          1.0366413593292236,
          8.34810733795166,
          6.469920635223389,
          7.469124794006348,
          8.242629051208496,
          6.6283392906188965,
          7.558320999145508,
          2.4113969802856445,
          -2.464048385620117,
          0.004522581584751606,
          -6.2516865730285645,
          7.586477279663086,
          2.690143585205078,
          -8.363195419311523,
          1.39601731300354,
          4.403381824493408,
          -4.872995853424072,
          9.296320915222168,
          -1.6498136520385742,
          6.69891357421875,
          2.214768648147583,
          -8.23000431060791,
          5.347583770751953,
          -7.252123832702637,
          3.3106119632720947,
          7.460819721221924,
          9.045326232910156,
          7.093039035797119,
          -1.3472687005996704,
          8.252237319946289,
          -5.405862331390381,
          6.423501491546631,
          8.315591812133789,
          8.716737747192383,
          6.3323750495910645,
          4.076807022094727,
          1.0179613828659058,
          5.644552707672119,
          2.429370403289795,
          -0.006740618962794542,
          3.3687052726745605,
          1.5916242599487305
         ],
         "yaxis": "y"
        },
        {
         "customdata": [
          [
           "Police inspector Holloway (Patrick Wymark)...",
           "mystery"
          ],
          [
           "The story of the film...",
           "mystery"
          ],
          [
           "A blind detective, Duncan Maclain,...",
           "mystery"
          ],
          [
           "Nick and Nora Charles are...",
           "mystery"
          ],
          [
           "When infamous jewel thief Flambeau...",
           "mystery"
          ],
          [
           "It is of the Jack...",
           "mystery"
          ]
         ],
         "hovertemplate": "label=%{customdata[1]}<br>x-tsne=%{x}<br>y-tsne=%{y}<br>text=%{customdata[0]}<extra></extra>",
         "legendgroup": "mystery",
         "marker": {
          "color": "#ab63fa",
          "symbol": "circle"
         },
         "mode": "markers",
         "name": "mystery",
         "orientation": "v",
         "showlegend": true,
         "type": "scatter",
         "x": [
          -5.310770034790039,
          5.189380168914795,
          -5.454736709594727,
          -0.3984096646308899,
          -5.940461158752441,
          0.336414098739624
         ],
         "xaxis": "x",
         "y": [
          2.7848243713378906,
          -0.48277828097343445,
          2.416729211807251,
          -0.9605787992477417,
          1.829118013381958,
          5.837674617767334
         ],
         "yaxis": "y"
        },
        {
         "customdata": [
          [
           "Lewis and Clark and George...",
           "drama"
          ],
          [
           "Oliver's mother, a penniless outcast,...",
           "drama"
          ],
          [
           "Reverend Smith has arrived in...",
           "drama"
          ],
          [
           "Following the plot of the...",
           "drama"
          ],
          [
           "The film is a story...",
           "drama"
          ],
          [
           "Byron Levin works in a...",
           "drama"
          ],
          [
           "This film is about a...",
           "drama"
          ],
          [
           "Bok-nyeo, a mentally handicapped woman,...",
           "drama"
          ],
          [
           "The film is an account...",
           "drama"
          ],
          [
           "A crime reporter, assisted by...",
           "drama"
          ],
          [
           "Marianne (Greta Garbo) is a...",
           "drama"
          ],
          [
           "Shane O'Shea is a young...",
           "drama"
          ],
          [
           "Italian aristocrat Angela Chiaromonte (Helen...",
           "drama"
          ],
          [
           "Dhag is the story of...",
           "drama"
          ],
          [
           "A Mighty Heart is a...",
           "drama"
          ],
          [
           "The film is an examination...",
           "drama"
          ],
          [
           "Gloria Cole and Eddie Swenson...",
           "drama"
          ],
          [
           "The film is about an...",
           "drama"
          ],
          [
           "Chaiti is a young beautiful...",
           "drama"
          ],
          [
           "Fontaine Khaled is the London...",
           "drama"
          ],
          [
           "California gubernatorial candidate Burton (Lyon)...",
           "drama"
          ],
          [
           "A 12-year old young boy...",
           "drama"
          ],
          [
           "Rie and Nao own a...",
           "drama"
          ],
          [
           "The film stars Harry Connick...",
           "drama"
          ],
          [
           "In 1964, inmate Charlie Forsythe...",
           "drama"
          ],
          [
           "Three teenage boys in small-town...",
           "drama"
          ],
          [
           "Taglines: \"Being a girl is...",
           "drama"
          ],
          [
           "Newland Archer is engaged to...",
           "drama"
          ],
          [
           "The Philippines, 1972. Mysterious things...",
           "drama"
          ],
          [
           "Set in Alexandria in 1938,...",
           "drama"
          ],
          [
           "The film is set in...",
           "drama"
          ],
          [
           "Michael Walsh, a husband and...",
           "drama"
          ],
          [
           "The film revolves around an...",
           "drama"
          ],
          [
           "Big Bad Love shares its...",
           "drama"
          ],
          [
           "Ten-year-old Bobby (Frankie Thomas) and...",
           "drama"
          ],
          [
           "Brinda (Sindhu Tolani) is an...",
           "drama"
          ],
          [
           "A mysterious killer, known only...",
           "drama"
          ],
          [
           "Omar Sharif plays Muhassab, headman...",
           "drama"
          ],
          [
           "A young Lakota Sioux (Lou...",
           "drama"
          ],
          [
           "Hikaru Oshiro, noticing that there...",
           "drama"
          ],
          [
           "Chuck Wheeler is released from...",
           "drama"
          ],
          [
           "Leslie is a troubled 1960s...",
           "drama"
          ],
          [
           "In Renaissance Florence, a Florentine...",
           "drama"
          ],
          [
           "\"Illustrated Press\" society editor Lorelei...",
           "drama"
          ],
          [
           "Spanning nearly 20 years from...",
           "drama"
          ],
          [
           "A young construction worker rams...",
           "drama"
          ],
          [
           "Teenager Jackie Knowles (Richard Attenborough)...",
           "drama"
          ],
          [
           "In a desperate attempt to...",
           "drama"
          ],
          [
           "The first act of the...",
           "drama"
          ],
          [
           "In Wilmington, Delaware, Anna Thompson...",
           "drama"
          ],
          [
           "While in a restaurant, Carla...",
           "drama"
          ],
          [
           "In the middle of a...",
           "drama"
          ],
          [
           "Chad (Jimmie Rodgers) is a...",
           "drama"
          ],
          [
           "Midget George Wilson pulls strings...",
           "drama"
          ],
          [
           "In the remote and undeveloped...",
           "drama"
          ],
          [
           "The film is about Jamie,...",
           "drama"
          ],
          [
           "Jean Paurel is a famous...",
           "drama"
          ],
          [
           "Napoleon Bonaparte (Charles Boyer) launches...",
           "drama"
          ],
          [
           "Four friends go on a...",
           "drama"
          ]
         ],
         "hovertemplate": "label=%{customdata[1]}<br>x-tsne=%{x}<br>y-tsne=%{y}<br>text=%{customdata[0]}<extra></extra>",
         "legendgroup": "drama",
         "marker": {
          "color": "#FFA15A",
          "symbol": "circle"
         },
         "mode": "markers",
         "name": "drama",
         "orientation": "v",
         "showlegend": true,
         "type": "scatter",
         "x": [
          -4.3820719718933105,
          -0.5815075039863586,
          -6.030075550079346,
          -2.6328229904174805,
          4.9285969734191895,
          -5.724947929382324,
          0.7313678860664368,
          0.7937327027320862,
          5.693586349487305,
          8.062647819519043,
          -4.032603740692139,
          -3.385718822479248,
          -3.9613921642303467,
          6.944085597991943,
          1.109326720237732,
          6.019171237945557,
          -0.26316842436790466,
          7.304213047027588,
          5.637685298919678,
          -3.047006368637085,
          -7.263313293457031,
          -0.9977264404296875,
          1.6413418054580688,
          -1.8398288488388062,
          -7.550259590148926,
          0.02694610506296158,
          6.761735439300537,
          -2.5495455265045166,
          0.7630875110626221,
          -6.051718235015869,
          5.85957145690918,
          -2.5887343883514404,
          5.198039531707764,
          2.391556739807129,
          -0.8873421549797058,
          2.5789201259613037,
          1.9800440073013306,
          -1.3891853094100952,
          -1.2477201223373413,
          8.235139846801758,
          -1.7500983476638794,
          -7.604465961456299,
          -3.756786823272705,
          -6.188089847564697,
          2.902160406112671,
          1.9901448488235474,
          -7.535029888153076,
          -0.4831925928592682,
          -8.932685852050781,
          1.3087722063064575,
          -2.9688258171081543,
          0.3870299458503723,
          2.1471188068389893,
          -3.179774045944214,
          4.060271263122559,
          2.0701756477355957,
          6.941178798675537,
          -5.4684834480285645,
          -0.7612714767456055
         ],
         "xaxis": "x",
         "y": [
          -3.1414730548858643,
          2.9797775745391846,
          -0.15785866975784302,
          5.096811294555664,
          -3.293179988861084,
          -1.6863377094268799,
          -7.326667308807373,
          4.39396858215332,
          -3.5933525562286377,
          -5.400466442108154,
          -0.24471522867679596,
          -0.25282803177833557,
          1.2541733980178833,
          4.038055896759033,
          -7.25741720199585,
          -3.7111971378326416,
          -2.283071517944336,
          -4.265171051025391,
          5.24843692779541,
          0.0819234848022461,
          4.8913798332214355,
          3.084613561630249,
          -2.4430394172668457,
          0.06721056997776031,
          1.306341290473938,
          0.6459649801254272,
          -1.5223149061203003,
          1.7899802923202515,
          -6.039283752441406,
          3.782824993133545,
          7.004338264465332,
          2.6392831802368164,
          -2.198995351791382,
          -0.3577360212802887,
          2.0147154331207275,
          6.671111106872559,
          2.5738208293914795,
          -2.2170443534851074,
          4.379395008087158,
          -2.5475873947143555,
          -0.8155204057693481,
          1.9130700826644897,
          1.6080787181854248,
          2.5168540477752686,
          -4.963351249694824,
          0.9218818545341492,
          0.32244873046875,
          0.020689906552433968,
          -0.23523744940757751,
          -1.5577282905578613,
          -1.8378454446792603,
          2.6215221881866455,
          -3.968926191329956,
          -0.8278440833091736,
          -2.075939416885376,
          -3.562533140182495,
          1.2042624950408936,
          0.5009006857872009,
          1.1722018718719482
         ],
         "yaxis": "y"
        },
        {
         "customdata": [
          [
           "In a British TV studio,...",
           "comedy"
          ],
          [
           "Neil John Samuel is a...",
           "comedy"
          ],
          [
           "Young sci-fi/fantasy enthusiast Gavin Gore...",
           "comedy"
          ],
          [
           "A popular dance hall girl,...",
           "comedy"
          ],
          [
           "Mordecai C. Jones (Scott) –...",
           "comedy"
          ],
          [
           "Flesh (Vince Murdocco) is kidnapped...",
           "comedy"
          ],
          [
           "Two best friends who live...",
           "comedy"
          ],
          [
           "Curry and Pepper are two...",
           "comedy"
          ],
          [
           "Set in the austere post–World...",
           "comedy"
          ],
          [
           "Molly Gilbert won't accept a...",
           "comedy"
          ],
          [
           "Bumbling cop Chatur Singh (Sanjay...",
           "comedy"
          ],
          [
           "Hardy plays Dr. Henry Tibbett,...",
           "comedy"
          ],
          [
           "After discovering that her state...",
           "comedy"
          ],
          [
           "Struggling young actress Jenny (Marjorie...",
           "comedy"
          ],
          [
           "In every port, sailor Bill,...",
           "comedy"
          ],
          [
           "Hong Deok-Ja continues to run...",
           "comedy"
          ],
          [
           "The film tells the story...",
           "comedy"
          ],
          [
           "After Joe Huggett loses his...",
           "comedy"
          ],
          [
           "Eric Wainwright (Van Johnson), a...",
           "comedy"
          ],
          [
           "Kevin Agar is a Carlton-based...",
           "comedy"
          ],
          [
           "Restaurant owner Dylan Ramsey (David...",
           "comedy"
          ],
          [
           "Jerry McGuire (William Collier Jr.)...",
           "comedy"
          ],
          [
           "Two college girls, Ducky and...",
           "comedy"
          ],
          [
           "The film's slight storyline concerns...",
           "comedy"
          ],
          [
           "A simple handyman, who also...",
           "comedy"
          ],
          [
           "The film tells the story...",
           "comedy"
          ],
          [
           "In a Mexican nightclub, some...",
           "comedy"
          ],
          [
           "Officers throw an extravagant party...",
           "comedy"
          ],
          [
           "Nick (Niven) is the supposed...",
           "comedy"
          ],
          [
           "Chandrabose (Mohanlal) whose wife's (Meera...",
           "comedy"
          ],
          [
           "On board an ocean liner...",
           "comedy"
          ],
          [
           "The boys are involved in...",
           "comedy"
          ],
          [
           "The Rogers family visit Blackpool...",
           "comedy"
          ],
          [
           "The young filmmaker Timothy (Jonathan...",
           "comedy"
          ],
          [
           "Small-fry marijuana harvesters in Northern...",
           "comedy"
          ],
          [
           "The Chain tells the story...",
           "comedy"
          ],
          [
           "The title character is Victor...",
           "comedy"
          ],
          [
           "Harry England (Michael Crawford), a...",
           "comedy"
          ],
          [
           "In Shanghai, Madeleine Linden is...",
           "comedy"
          ],
          [
           "Andy (Lee Bowman) and Janie...",
           "comedy"
          ],
          [
           "A small Midwestern town is...",
           "comedy"
          ],
          [
           "Leonard Maltin: \"Cute comic mystery......",
           "comedy"
          ],
          [
           "The film plays out with...",
           "comedy"
          ],
          [
           "Two sailors are conned into...",
           "comedy"
          ],
          [
           "The movie is about Ilangovan...",
           "comedy"
          ],
          [
           "Alvin Roberts (Lee Tracy) feuds...",
           "comedy"
          ],
          [
           "Stephanie (Lyn Wilde) and Terry...",
           "comedy"
          ],
          [
           "The young brother of two...",
           "comedy"
          ],
          [
           "Jennie Hagan (Swanson) is a...",
           "comedy"
          ],
          [
           "Banerjee stars as Ram Das,...",
           "comedy"
          ],
          [
           "Gracie (Fields) and Laurie (Dolman)...",
           "comedy"
          ]
         ],
         "hovertemplate": "label=%{customdata[1]}<br>x-tsne=%{x}<br>y-tsne=%{y}<br>text=%{customdata[0]}<extra></extra>",
         "legendgroup": "comedy",
         "marker": {
          "color": "#19d3f3",
          "symbol": "circle"
         },
         "mode": "markers",
         "name": "comedy",
         "orientation": "v",
         "showlegend": true,
         "type": "scatter",
         "x": [
          -3.009791851043701,
          -4.808884620666504,
          -3.780596971511841,
          -1.108508586883545,
          -2.377011299133301,
          -0.5107619166374207,
          3.9510905742645264,
          2.2478718757629395,
          2.1202595233917236,
          -0.36489319801330566,
          3.627999782562256,
          -1.6380175352096558,
          3.4602763652801514,
          -3.698375701904297,
          -3.856788396835327,
          1.8724710941314697,
          -7.498119831085205,
          6.580935478210449,
          -4.056277751922607,
          1.658476710319519,
          -2.047715425491333,
          -7.089982986450195,
          3.767111301422119,
          3.161158323287964,
          7.176852226257324,
          0.8336233496665955,
          -3.2100133895874023,
          -5.016185283660889,
          -1.6881612539291382,
          5.635853290557861,
          4.401791095733643,
          -3.731757640838623,
          0.06295380741357803,
          -3.5650241374969482,
          1.2212872505187988,
          4.54014253616333,
          2.9999802112579346,
          -4.535430908203125,
          -4.046515464782715,
          -6.067693710327148,
          -2.68082857131958,
          -5.654359817504883,
          5.962201118469238,
          4.5773186683654785,
          5.5984110832214355,
          -6.6172404289245605,
          -6.353785037994385,
          1.478901982307434,
          -9.23559856414795,
          -1.6679874658584595,
          -4.244112968444824
         ],
         "xaxis": "x",
         "y": [
          -5.076702117919922,
          -2.165315628051758,
          -2.219402551651001,
          -3.1272873878479004,
          -3.5085792541503906,
          -5.176310062408447,
          -1.094262719154358,
          -1.2632783651351929,
          -4.8835601806640625,
          -1.668378472328186,
          7.681535720825195,
          -4.160771369934082,
          -4.448980808258057,
          -0.6032065153121948,
          -2.8476622104644775,
          -1.5146363973617554,
          3.466794729232788,
          -0.13841205835342407,
          -0.8391071557998657,
          -0.679317057132721,
          -0.545107364654541,
          -1.3785794973373413,
          -0.9535458087921143,
          -1.3167307376861572,
          -3.2163562774658203,
          -4.523916721343994,
          -3.908252716064453,
          -2.6957943439483643,
          1.2150511741638184,
          6.502813339233398,
          -1.7753268480300903,
          -6.475979328155518,
          3.839557409286499,
          -2.2058465480804443,
          0.0828452929854393,
          -5.8816704750061035,
          -4.699118137359619,
          0.06583602726459503,
          0.9196521043777466,
          0.5876275897026062,
          -7.61564302444458,
          5.519911766052246,
          -6.080998420715332,
          -0.589995801448822,
          6.4752421379089355,
          -4.323143482208252,
          0.7165395021438599,
          1.7551051378250122,
          1.1306785345077515,
          7.454951763153076,
          -1.0884684324264526
         ],
         "yaxis": "y"
        },
        {
         "customdata": [
          [
           "George Cabot Jr. (Cesar Romero),...",
           "comedy, romance"
          ]
         ],
         "hovertemplate": "label=%{customdata[1]}<br>x-tsne=%{x}<br>y-tsne=%{y}<br>text=%{customdata[0]}<extra></extra>",
         "legendgroup": "comedy, romance",
         "marker": {
          "color": "#FF6692",
          "symbol": "circle"
         },
         "mode": "markers",
         "name": "comedy, romance",
         "orientation": "v",
         "showlegend": true,
         "type": "scatter",
         "x": [
          -6.534955024719238
         ],
         "xaxis": "x",
         "y": [
          -1.995063066482544
         ],
         "yaxis": "y"
        },
        {
         "customdata": [
          [
           "Mongol chief Temujin (later to...",
           "adventure"
          ],
          [
           "Shellshocked following his experiences as...",
           "adventure"
          ],
          [
           "Professional hunter Harry Black is...",
           "adventure"
          ],
          [
           "After being court-martialed and discharged...",
           "adventure"
          ]
         ],
         "hovertemplate": "label=%{customdata[1]}<br>x-tsne=%{x}<br>y-tsne=%{y}<br>text=%{customdata[0]}<extra></extra>",
         "legendgroup": "adventure",
         "marker": {
          "color": "#B6E880",
          "symbol": "circle"
         },
         "mode": "markers",
         "name": "adventure",
         "orientation": "v",
         "showlegend": true,
         "type": "scatter",
         "x": [
          8.764108657836914,
          2.344933032989502,
          -2.4846837520599365,
          3.7607474327087402
         ],
         "xaxis": "x",
         "y": [
          2.500919818878174,
          -4.402400016784668,
          -1.3668662309646606,
          -3.0249063968658447
         ],
         "yaxis": "y"
        },
        {
         "customdata": [
          [
           "The story starts with a...",
           "romance / suspense"
          ]
         ],
         "hovertemplate": "label=%{customdata[1]}<br>x-tsne=%{x}<br>y-tsne=%{y}<br>text=%{customdata[0]}<extra></extra>",
         "legendgroup": "romance / suspense",
         "marker": {
          "color": "#FF97FF",
          "symbol": "circle"
         },
         "mode": "markers",
         "name": "romance / suspense",
         "orientation": "v",
         "showlegend": true,
         "type": "scatter",
         "x": [
          -5.609200954437256
         ],
         "xaxis": "x",
         "y": [
          -4.5166778564453125
         ],
         "yaxis": "y"
        },
        {
         "customdata": [
          [
           "In World War II, two...",
           "pow comedy"
          ]
         ],
         "hovertemplate": "label=%{customdata[1]}<br>x-tsne=%{x}<br>y-tsne=%{y}<br>text=%{customdata[0]}<extra></extra>",
         "legendgroup": "pow comedy",
         "marker": {
          "color": "#FECB52",
          "symbol": "circle"
         },
         "mode": "markers",
         "name": "pow comedy",
         "orientation": "v",
         "showlegend": true,
         "type": "scatter",
         "x": [
          1.0203129053115845
         ],
         "xaxis": "x",
         "y": [
          -4.7421464920043945
         ],
         "yaxis": "y"
        },
        {
         "customdata": [
          [
           "It is love at first...",
           "romance"
          ],
          [
           "Loosely based on true events...",
           "romance"
          ]
         ],
         "hovertemplate": "label=%{customdata[1]}<br>x-tsne=%{x}<br>y-tsne=%{y}<br>text=%{customdata[0]}<extra></extra>",
         "legendgroup": "romance",
         "marker": {
          "color": "#636efa",
          "symbol": "circle"
         },
         "mode": "markers",
         "name": "romance",
         "orientation": "v",
         "showlegend": true,
         "type": "scatter",
         "x": [
          0.5263412594795227,
          -1.5441595315933228
         ],
         "xaxis": "x",
         "y": [
          -2.238011360168457,
          -5.1957268714904785
         ],
         "yaxis": "y"
        },
        {
         "customdata": [
          [
           "Having cleaned up Tombstone, Arizona,...",
           "western"
          ],
          [
           "The story involves a middle-aged...",
           "western"
          ],
          [
           "Stephen Ghent, a mineowner, falls...",
           "western"
          ],
          [
           "After being told by his...",
           "western"
          ],
          [
           "Jeff Hassard (Dean Jagger) and...",
           "western"
          ],
          [
           "A U.S. marshal investigates when...",
           "western"
          ],
          [
           "John Murdock (Paul Richards) is...",
           "western"
          ],
          [
           "A prospective settler, pioneer Bob...",
           "western"
          ],
          [
           "When a town drunk, Gabe,...",
           "western"
          ],
          [
           "Following a series of robberies...",
           "western"
          ],
          [
           "The plot is a mystery...",
           "western"
          ]
         ],
         "hovertemplate": "label=%{customdata[1]}<br>x-tsne=%{x}<br>y-tsne=%{y}<br>text=%{customdata[0]}<extra></extra>",
         "legendgroup": "western",
         "marker": {
          "color": "#EF553B",
          "symbol": "circle"
         },
         "mode": "markers",
         "name": "western",
         "orientation": "v",
         "showlegend": true,
         "type": "scatter",
         "x": [
          -8.131237983703613,
          -0.09522642195224762,
          -4.631590366363525,
          -1.2179045677185059,
          -5.037930488586426,
          -4.774691581726074,
          -2.578657627105713,
          -1.435513973236084,
          -8.804676055908203,
          -6.698410511016846,
          -4.770882606506348
         ],
         "xaxis": "x",
         "y": [
          -3.9146034717559814,
          4.099396228790283,
          0.6571035385131836,
          -1.2454655170440674,
          -1.1268713474273682,
          4.188653469085693,
          -3.1355061531066895,
          -0.2642024755477905,
          -3.1755363941192627,
          -1.1291052103042603,
          3.9136486053466797
         ],
         "yaxis": "y"
        },
        {
         "customdata": [
          [
           "The story is about a...",
           "romantic comedy"
          ],
          [
           "Scott (Ryan Phillippe) is a...",
           "romantic comedy"
          ],
          [
           "Trust concerns the unusual romance...",
           "romantic comedy"
          ],
          [
           "Alim is a young gay...",
           "romantic comedy"
          ],
          [
           "Daniels, in her final silent...",
           "romantic comedy"
          ]
         ],
         "hovertemplate": "label=%{customdata[1]}<br>x-tsne=%{x}<br>y-tsne=%{y}<br>text=%{customdata[0]}<extra></extra>",
         "legendgroup": "romantic comedy",
         "marker": {
          "color": "#00cc96",
          "symbol": "circle"
         },
         "mode": "markers",
         "name": "romantic comedy",
         "orientation": "v",
         "showlegend": true,
         "type": "scatter",
         "x": [
          6.517717361450195,
          -0.38191813230514526,
          3.050791025161743,
          3.4527747631073,
          -5.361746788024902
         ],
         "xaxis": "x",
         "y": [
          7.34661340713501,
          1.9303817749023438,
          -0.31745898723602295,
          0.6940600872039795,
          -6.9355950355529785
         ],
         "yaxis": "y"
        },
        {
         "customdata": [
          [
           "Kisan Kanya was based on...",
           "social"
          ]
         ],
         "hovertemplate": "label=%{customdata[1]}<br>x-tsne=%{x}<br>y-tsne=%{y}<br>text=%{customdata[0]}<extra></extra>",
         "legendgroup": "social",
         "marker": {
          "color": "#ab63fa",
          "symbol": "circle"
         },
         "mode": "markers",
         "name": "social",
         "orientation": "v",
         "showlegend": true,
         "type": "scatter",
         "x": [
          4.183669567108154
         ],
         "xaxis": "x",
         "y": [
          5.810468673706055
         ],
         "yaxis": "y"
        },
        {
         "customdata": [
          [
           "A psychic woman leads archaeologists...",
           "horror"
          ],
          [
           "Christopher, a lustful man goes...",
           "horror"
          ],
          [
           "Charles Kessler (Bela Lugosi) is...",
           "horror"
          ],
          [
           "During a TV segment about...",
           "horror"
          ]
         ],
         "hovertemplate": "label=%{customdata[1]}<br>x-tsne=%{x}<br>y-tsne=%{y}<br>text=%{customdata[0]}<extra></extra>",
         "legendgroup": "horror",
         "marker": {
          "color": "#FFA15A",
          "symbol": "circle"
         },
         "mode": "markers",
         "name": "horror",
         "orientation": "v",
         "showlegend": true,
         "type": "scatter",
         "x": [
          -0.4901624321937561,
          -2.908397674560547,
          -4.787932872772217,
          6.357637882232666
         ],
         "xaxis": "x",
         "y": [
          -4.191984176635742,
          3.601468086242676,
          2.5521745681762695,
          -6.263070583343506
         ],
         "yaxis": "y"
        },
        {
         "customdata": [
          [
           "Two reporters, Curtis (Conrad Phillips)...",
           "crime"
          ],
          [
           "Edgar Mills and his mistress...",
           "crime"
          ],
          [
           "Inventor and engineer Robert Draper...",
           "crime"
          ],
          [
           "United States Secret Service Lieutenant...",
           "crime"
          ],
          [
           "A new gas formula that...",
           "crime"
          ],
          [
           "American gambler Nick Cain (Raft)...",
           "crime"
          ],
          [
           "Two brothers become involved with...",
           "crime"
          ]
         ],
         "hovertemplate": "label=%{customdata[1]}<br>x-tsne=%{x}<br>y-tsne=%{y}<br>text=%{customdata[0]}<extra></extra>",
         "legendgroup": "crime",
         "marker": {
          "color": "#19d3f3",
          "symbol": "circle"
         },
         "mode": "markers",
         "name": "crime",
         "orientation": "v",
         "showlegend": true,
         "type": "scatter",
         "x": [
          -7.240383625030518,
          -4.161777496337891,
          -6.880002498626709,
          -6.244478225708008,
          2.904554843902588,
          -5.092229843139648,
          6.1880998611450195
         ],
         "xaxis": "x",
         "y": [
          -0.5879475474357605,
          2.7681198120117188,
          2.2711024284362793,
          -2.2414140701293945,
          -6.927126407623291,
          2.2171103954315186,
          -4.7785325050354
         ],
         "yaxis": "y"
        },
        {
         "customdata": [
          [
           "Dr. Markoff (J. Carrol Naish)...",
           "science fiction"
          ]
         ],
         "hovertemplate": "label=%{customdata[1]}<br>x-tsne=%{x}<br>y-tsne=%{y}<br>text=%{customdata[0]}<extra></extra>",
         "legendgroup": "science fiction",
         "marker": {
          "color": "#FF6692",
          "symbol": "circle"
         },
         "mode": "markers",
         "name": "science fiction",
         "orientation": "v",
         "showlegend": true,
         "type": "scatter",
         "x": [
          -1.5381410121917725
         ],
         "xaxis": "x",
         "y": [
          -4.498261451721191
         ],
         "yaxis": "y"
        },
        {
         "customdata": [
          [
           "The plot revolves around the...",
           "coming of age drama"
          ]
         ],
         "hovertemplate": "label=%{customdata[1]}<br>x-tsne=%{x}<br>y-tsne=%{y}<br>text=%{customdata[0]}<extra></extra>",
         "legendgroup": "coming of age drama",
         "marker": {
          "color": "#B6E880",
          "symbol": "circle"
         },
         "mode": "markers",
         "name": "coming of age drama",
         "orientation": "v",
         "showlegend": true,
         "type": "scatter",
         "x": [
          -1.7155519723892212
         ],
         "xaxis": "x",
         "y": [
          2.046030044555664
         ],
         "yaxis": "y"
        },
        {
         "customdata": [
          [
           "The movie opens with Fung...",
           "erotic / drama"
          ]
         ],
         "hovertemplate": "label=%{customdata[1]}<br>x-tsne=%{x}<br>y-tsne=%{y}<br>text=%{customdata[0]}<extra></extra>",
         "legendgroup": "erotic / drama",
         "marker": {
          "color": "#FF97FF",
          "symbol": "circle"
         },
         "mode": "markers",
         "name": "erotic / drama",
         "orientation": "v",
         "showlegend": true,
         "type": "scatter",
         "x": [
          -2.8373262882232666
         ],
         "xaxis": "x",
         "y": [
          0.25183677673339844
         ],
         "yaxis": "y"
        },
        {
         "customdata": [
          [
           "Nikki Singh (Akshay Oberoi) is...",
           "neo-noir"
          ]
         ],
         "hovertemplate": "label=%{customdata[1]}<br>x-tsne=%{x}<br>y-tsne=%{y}<br>text=%{customdata[0]}<extra></extra>",
         "legendgroup": "neo-noir",
         "marker": {
          "color": "#FECB52",
          "symbol": "circle"
         },
         "mode": "markers",
         "name": "neo-noir",
         "orientation": "v",
         "showlegend": true,
         "type": "scatter",
         "x": [
          4.744901180267334
         ],
         "xaxis": "x",
         "y": [
          7.285480499267578
         ],
         "yaxis": "y"
        },
        {
         "customdata": [
          [
           "Harvey Keitel plays an American...",
           "crime drama"
          ],
          [
           "The drama tells of a...",
           "crime drama"
          ],
          [
           "With five rival oil companies...",
           "crime drama"
          ]
         ],
         "hovertemplate": "label=%{customdata[1]}<br>x-tsne=%{x}<br>y-tsne=%{y}<br>text=%{customdata[0]}<extra></extra>",
         "legendgroup": "crime drama",
         "marker": {
          "color": "#636efa",
          "symbol": "circle"
         },
         "mode": "markers",
         "name": "crime drama",
         "orientation": "v",
         "showlegend": true,
         "type": "scatter",
         "x": [
          -6.652729511260986,
          -1.8181312084197998,
          0.2348371297121048
         ],
         "xaxis": "x",
         "y": [
          -5.255837917327881,
          -4.881434440612793,
          -0.7114399671554565
         ],
         "yaxis": "y"
        },
        {
         "customdata": [
          [
           "Irène Bordoni is cast as...",
           "musical comedy"
          ],
          [
           "Flagg (Victor McLaglen) and Quirt...",
           "musical comedy"
          ]
         ],
         "hovertemplate": "label=%{customdata[1]}<br>x-tsne=%{x}<br>y-tsne=%{y}<br>text=%{customdata[0]}<extra></extra>",
         "legendgroup": "musical comedy",
         "marker": {
          "color": "#EF553B",
          "symbol": "circle"
         },
         "mode": "markers",
         "name": "musical comedy",
         "orientation": "v",
         "showlegend": true,
         "type": "scatter",
         "x": [
          -5.999197959899902,
          5.8010125160217285
         ],
         "xaxis": "x",
         "y": [
          -1.0617111921310425,
          -5.398220539093018
         ],
         "yaxis": "y"
        },
        {
         "customdata": [
          [
           "This film is about two...",
           "romance, comedy"
          ]
         ],
         "hovertemplate": "label=%{customdata[1]}<br>x-tsne=%{x}<br>y-tsne=%{y}<br>text=%{customdata[0]}<extra></extra>",
         "legendgroup": "romance, comedy",
         "marker": {
          "color": "#00cc96",
          "symbol": "circle"
         },
         "mode": "markers",
         "name": "romance, comedy",
         "orientation": "v",
         "showlegend": true,
         "type": "scatter",
         "x": [
          7.216396808624268
         ],
         "xaxis": "x",
         "y": [
          8.729574203491211
         ],
         "yaxis": "y"
        },
        {
         "customdata": [
          [
           "Cosmo Reif, an affectless mob...",
           "comedy, thriller"
          ]
         ],
         "hovertemplate": "label=%{customdata[1]}<br>x-tsne=%{x}<br>y-tsne=%{y}<br>text=%{customdata[0]}<extra></extra>",
         "legendgroup": "comedy, thriller",
         "marker": {
          "color": "#ab63fa",
          "symbol": "circle"
         },
         "mode": "markers",
         "name": "comedy, thriller",
         "orientation": "v",
         "showlegend": true,
         "type": "scatter",
         "x": [
          0.753746509552002
         ],
         "xaxis": "x",
         "y": [
          -0.8986898064613342
         ],
         "yaxis": "y"
        },
        {
         "customdata": [
          [
           "The film is a retelling...",
           "fantasy"
          ],
          [
           "Loosely based on the historical...",
           "fantasy"
          ]
         ],
         "hovertemplate": "label=%{customdata[1]}<br>x-tsne=%{x}<br>y-tsne=%{y}<br>text=%{customdata[0]}<extra></extra>",
         "legendgroup": "fantasy",
         "marker": {
          "color": "#FFA15A",
          "symbol": "circle"
         },
         "mode": "markers",
         "name": "fantasy",
         "orientation": "v",
         "showlegend": true,
         "type": "scatter",
         "x": [
          -1.996414303779602,
          -3.6718595027923584
         ],
         "xaxis": "x",
         "y": [
          -6.3573832511901855,
          5.51345682144165
         ],
         "yaxis": "y"
        },
        {
         "customdata": [
          [
           "Two escaping killers hide out...",
           "suspense"
          ]
         ],
         "hovertemplate": "label=%{customdata[1]}<br>x-tsne=%{x}<br>y-tsne=%{y}<br>text=%{customdata[0]}<extra></extra>",
         "legendgroup": "suspense",
         "marker": {
          "color": "#19d3f3",
          "symbol": "circle"
         },
         "mode": "markers",
         "name": "suspense",
         "orientation": "v",
         "showlegend": true,
         "type": "scatter",
         "x": [
          0.576550304889679
         ],
         "xaxis": "x",
         "y": [
          0.04495728388428688
         ],
         "yaxis": "y"
        },
        {
         "customdata": [
          [
           "The Kitauji high school concert...",
           "drama, youth, musical, romance, idol"
          ]
         ],
         "hovertemplate": "label=%{customdata[1]}<br>x-tsne=%{x}<br>y-tsne=%{y}<br>text=%{customdata[0]}<extra></extra>",
         "legendgroup": "drama, youth, musical, romance, idol",
         "marker": {
          "color": "#FF6692",
          "symbol": "circle"
         },
         "mode": "markers",
         "name": "drama, youth, musical, romance, idol",
         "orientation": "v",
         "showlegend": true,
         "type": "scatter",
         "x": [
          8.250386238098145
         ],
         "xaxis": "x",
         "y": [
          -2.488614082336426
         ],
         "yaxis": "y"
        },
        {
         "customdata": [
          [
           "Lost & Found is basically...",
           "romance, drama"
          ],
          [
           "Roanne Sanchez, a young girl...",
           "romance, drama"
          ]
         ],
         "hovertemplate": "label=%{customdata[1]}<br>x-tsne=%{x}<br>y-tsne=%{y}<br>text=%{customdata[0]}<extra></extra>",
         "legendgroup": "romance, drama",
         "marker": {
          "color": "#B6E880",
          "symbol": "circle"
         },
         "mode": "markers",
         "name": "romance, drama",
         "orientation": "v",
         "showlegend": true,
         "type": "scatter",
         "x": [
          6.908613204956055,
          3.185006856918335
         ],
         "xaxis": "x",
         "y": [
          4.401787757873535,
          -0.6567690968513489
         ],
         "yaxis": "y"
        },
        {
         "customdata": [
          [
           "This film follows the lead...",
           "action, sci-fi"
          ]
         ],
         "hovertemplate": "label=%{customdata[1]}<br>x-tsne=%{x}<br>y-tsne=%{y}<br>text=%{customdata[0]}<extra></extra>",
         "legendgroup": "action, sci-fi",
         "marker": {
          "color": "#FF97FF",
          "symbol": "circle"
         },
         "mode": "markers",
         "name": "action, sci-fi",
         "orientation": "v",
         "showlegend": true,
         "type": "scatter",
         "x": [
          -2.299171209335327
         ],
         "xaxis": "x",
         "y": [
          -5.728867530822754
         ],
         "yaxis": "y"
        },
        {
         "customdata": [
          [
           "Unlike other Alamo films that...",
           "western, war"
          ]
         ],
         "hovertemplate": "label=%{customdata[1]}<br>x-tsne=%{x}<br>y-tsne=%{y}<br>text=%{customdata[0]}<extra></extra>",
         "legendgroup": "western, war",
         "marker": {
          "color": "#FECB52",
          "symbol": "circle"
         },
         "mode": "markers",
         "name": "western, war",
         "orientation": "v",
         "showlegend": true,
         "type": "scatter",
         "x": [
          -7.972168445587158
         ],
         "xaxis": "x",
         "y": [
          -1.6670676469802856
         ],
         "yaxis": "y"
        },
        {
         "customdata": [
          [
           "A San Francisco earthquake orphan...",
           "comedy drama"
          ],
          [
           "The story revolves around a...",
           "comedy drama"
          ]
         ],
         "hovertemplate": "label=%{customdata[1]}<br>x-tsne=%{x}<br>y-tsne=%{y}<br>text=%{customdata[0]}<extra></extra>",
         "legendgroup": "comedy drama",
         "marker": {
          "color": "#636efa",
          "symbol": "circle"
         },
         "mode": "markers",
         "name": "comedy drama",
         "orientation": "v",
         "showlegend": true,
         "type": "scatter",
         "x": [
          -4.799973487854004,
          3.4903318881988525
         ],
         "xaxis": "x",
         "y": [
          1.0895768404006958,
          3.3401811122894287
         ],
         "yaxis": "y"
        },
        {
         "customdata": [
          [
           "The story line centres on...",
           "musical"
          ],
          [
           "Big-league baseball players Jerry and...",
           "musical"
          ],
          [
           "During World War II singer...",
           "musical"
          ],
          [
           "Bonnie and Connie Jones are...",
           "musical"
          ]
         ],
         "hovertemplate": "label=%{customdata[1]}<br>x-tsne=%{x}<br>y-tsne=%{y}<br>text=%{customdata[0]}<extra></extra>",
         "legendgroup": "musical",
         "marker": {
          "color": "#EF553B",
          "symbol": "circle"
         },
         "mode": "markers",
         "name": "musical",
         "orientation": "v",
         "showlegend": true,
         "type": "scatter",
         "x": [
          6.309376239776611,
          0.7179202437400818,
          1.4163843393325806,
          8.496511459350586
         ],
         "xaxis": "x",
         "y": [
          -2.1962859630584717,
          -2.549861431121826,
          -5.3953537940979,
          0.6580538153648376
         ],
         "yaxis": "y"
        },
        {
         "customdata": [
          [
           "Sets in the 19th century,...",
           "romantic drama"
          ]
         ],
         "hovertemplate": "label=%{customdata[1]}<br>x-tsne=%{x}<br>y-tsne=%{y}<br>text=%{customdata[0]}<extra></extra>",
         "legendgroup": "romantic drama",
         "marker": {
          "color": "#00cc96",
          "symbol": "circle"
         },
         "mode": "markers",
         "name": "romantic drama",
         "orientation": "v",
         "showlegend": true,
         "type": "scatter",
         "x": [
          -6.474541187286377
         ],
         "xaxis": "x",
         "y": [
          -2.942376136779785
         ],
         "yaxis": "y"
        },
        {
         "customdata": [
          [
           "Akashangalil is the story of...",
           "family"
          ]
         ],
         "hovertemplate": "label=%{customdata[1]}<br>x-tsne=%{x}<br>y-tsne=%{y}<br>text=%{customdata[0]}<extra></extra>",
         "legendgroup": "family",
         "marker": {
          "color": "#ab63fa",
          "symbol": "circle"
         },
         "mode": "markers",
         "name": "family",
         "orientation": "v",
         "showlegend": true,
         "type": "scatter",
         "x": [
          6.170067310333252
         ],
         "xaxis": "x",
         "y": [
          7.009763240814209
         ],
         "yaxis": "y"
        },
        {
         "customdata": [
          [
           "Sally Elliott (Rita Hayworth), a...",
           "musical biopic"
          ]
         ],
         "hovertemplate": "label=%{customdata[1]}<br>x-tsne=%{x}<br>y-tsne=%{y}<br>text=%{customdata[0]}<extra></extra>",
         "legendgroup": "musical biopic",
         "marker": {
          "color": "#FFA15A",
          "symbol": "circle"
         },
         "mode": "markers",
         "name": "musical biopic",
         "orientation": "v",
         "showlegend": true,
         "type": "scatter",
         "x": [
          -4.1779913902282715
         ],
         "xaxis": "x",
         "y": [
          -1.1218507289886475
         ],
         "yaxis": "y"
        },
        {
         "customdata": [
          [
           "The Hartford Transcontinental Railroad is...",
           "western serial"
          ]
         ],
         "hovertemplate": "label=%{customdata[1]}<br>x-tsne=%{x}<br>y-tsne=%{y}<br>text=%{customdata[0]}<extra></extra>",
         "legendgroup": "western serial",
         "marker": {
          "color": "#19d3f3",
          "symbol": "circle"
         },
         "mode": "markers",
         "name": "western serial",
         "orientation": "v",
         "showlegend": true,
         "type": "scatter",
         "x": [
          -0.8360868692398071
         ],
         "xaxis": "x",
         "y": [
          -1.2850313186645508
         ],
         "yaxis": "y"
        },
        {
         "customdata": [
          [
           "When Los Angeles' police force...",
           "thriller"
          ],
          [
           "Frankie Bono, a hitman from...",
           "thriller"
          ],
          [
           "Two days before Christmas, a...",
           "thriller"
          ],
          [
           "An old gangster, with a...",
           "thriller"
          ],
          [
           "Julia Hemingway (Ina Skriver, credited...",
           "thriller"
          ],
          [
           "This film is about the...",
           "thriller"
          ],
          [
           "A young woman goes to...",
           "thriller"
          ],
          [
           "A spirit (\"Patrick\") haunts a...",
           "thriller"
          ],
          [
           "The story follows a group...",
           "thriller"
          ],
          [
           "In a quiet English town,...",
           "thriller"
          ]
         ],
         "hovertemplate": "label=%{customdata[1]}<br>x-tsne=%{x}<br>y-tsne=%{y}<br>text=%{customdata[0]}<extra></extra>",
         "legendgroup": "thriller",
         "marker": {
          "color": "#FF6692",
          "symbol": "circle"
         },
         "mode": "markers",
         "name": "thriller",
         "orientation": "v",
         "showlegend": true,
         "type": "scatter",
         "x": [
          -0.3692602813243866,
          0.5162885785102844,
          0.13424049317836761,
          1.2652095556259155,
          -5.571293354034424,
          6.795472621917725,
          2.062938690185547,
          -2.9553186893463135,
          -1.388525128364563,
          -6.864456653594971
         ],
         "xaxis": "x",
         "y": [
          -0.2745901346206665,
          -0.9360425472259521,
          6.226827621459961,
          0.5124559998512268,
          -2.66896915435791,
          8.242629051208496,
          3.94212007522583,
          0.921127438545227,
          0.5491731762886047,
          -0.8108391165733337
         ],
         "yaxis": "y"
        },
        {
         "customdata": [
          [
           "Hiraasat is an action film,...",
           "action, crime, drama"
          ]
         ],
         "hovertemplate": "label=%{customdata[1]}<br>x-tsne=%{x}<br>y-tsne=%{y}<br>text=%{customdata[0]}<extra></extra>",
         "legendgroup": "action, crime, drama",
         "marker": {
          "color": "#B6E880",
          "symbol": "circle"
         },
         "mode": "markers",
         "name": "action, crime, drama",
         "orientation": "v",
         "showlegend": true,
         "type": "scatter",
         "x": [
          6.2599592208862305
         ],
         "xaxis": "x",
         "y": [
          9.67400074005127
         ],
         "yaxis": "y"
        },
        {
         "customdata": [
          [
           "Tulsi tells the story of...",
           " "
          ]
         ],
         "hovertemplate": "label=%{customdata[1]}<br>x-tsne=%{x}<br>y-tsne=%{y}<br>text=%{customdata[0]}<extra></extra>",
         "legendgroup": " ",
         "marker": {
          "color": "#FF97FF",
          "symbol": "circle"
         },
         "mode": "markers",
         "name": " ",
         "orientation": "v",
         "showlegend": true,
         "type": "scatter",
         "x": [
          5.278049468994141
         ],
         "xaxis": "x",
         "y": [
          8.31495189666748
         ],
         "yaxis": "y"
        },
        {
         "customdata": [
          [
           "Karthi (Mahesh) is a college...",
           "romantic thriller"
          ]
         ],
         "hovertemplate": "label=%{customdata[1]}<br>x-tsne=%{x}<br>y-tsne=%{y}<br>text=%{customdata[0]}<extra></extra>",
         "legendgroup": "romantic thriller",
         "marker": {
          "color": "#FECB52",
          "symbol": "circle"
         },
         "mode": "markers",
         "name": "romantic thriller",
         "orientation": "v",
         "showlegend": true,
         "type": "scatter",
         "x": [
          1.3178452253341675
         ],
         "xaxis": "x",
         "y": [
          7.470613479614258
         ],
         "yaxis": "y"
        },
        {
         "customdata": [
          [
           "The story revolves around an...",
           "drama, thriller"
          ]
         ],
         "hovertemplate": "label=%{customdata[1]}<br>x-tsne=%{x}<br>y-tsne=%{y}<br>text=%{customdata[0]}<extra></extra>",
         "legendgroup": "drama, thriller",
         "marker": {
          "color": "#636efa",
          "symbol": "circle"
         },
         "mode": "markers",
         "name": "drama, thriller",
         "orientation": "v",
         "showlegend": true,
         "type": "scatter",
         "x": [
          2.110506772994995
         ],
         "xaxis": "x",
         "y": [
          2.6377317905426025
         ],
         "yaxis": "y"
        },
        {
         "customdata": [
          [
           "A bullied teen chef wants...",
           "comedy-drama"
          ]
         ],
         "hovertemplate": "label=%{customdata[1]}<br>x-tsne=%{x}<br>y-tsne=%{y}<br>text=%{customdata[0]}<extra></extra>",
         "legendgroup": "comedy-drama",
         "marker": {
          "color": "#EF553B",
          "symbol": "circle"
         },
         "mode": "markers",
         "name": "comedy-drama",
         "orientation": "v",
         "showlegend": true,
         "type": "scatter",
         "x": [
          -0.3954392075538635
         ],
         "xaxis": "x",
         "y": [
          -1.6139752864837646
         ],
         "yaxis": "y"
        },
        {
         "customdata": [
          [
           "A rivalry develops between veteran...",
           "war"
          ]
         ],
         "hovertemplate": "label=%{customdata[1]}<br>x-tsne=%{x}<br>y-tsne=%{y}<br>text=%{customdata[0]}<extra></extra>",
         "legendgroup": "war",
         "marker": {
          "color": "#00cc96",
          "symbol": "circle"
         },
         "mode": "markers",
         "name": "war",
         "orientation": "v",
         "showlegend": true,
         "type": "scatter",
         "x": [
          -8.372621536254883
         ],
         "xaxis": "x",
         "y": [
          -1.7233227491378784
         ],
         "yaxis": "y"
        },
        {
         "customdata": [
          [
           "In the autumn of 1950,...",
           "drama / history / western"
          ]
         ],
         "hovertemplate": "label=%{customdata[1]}<br>x-tsne=%{x}<br>y-tsne=%{y}<br>text=%{customdata[0]}<extra></extra>",
         "legendgroup": "drama / history / western",
         "marker": {
          "color": "#ab63fa",
          "symbol": "circle"
         },
         "mode": "markers",
         "name": "drama / history / western",
         "orientation": "v",
         "showlegend": true,
         "type": "scatter",
         "x": [
          -0.08607849478721619
         ],
         "xaxis": "x",
         "y": [
          -8.527997016906738
         ],
         "yaxis": "y"
        },
        {
         "customdata": [
          [
           "In a small town, mentally...",
           "dramedy"
          ],
          [
           "Newly transferred college student Lily...",
           "dramedy"
          ]
         ],
         "hovertemplate": "label=%{customdata[1]}<br>x-tsne=%{x}<br>y-tsne=%{y}<br>text=%{customdata[0]}<extra></extra>",
         "legendgroup": "dramedy",
         "marker": {
          "color": "#FFA15A",
          "symbol": "circle"
         },
         "mode": "markers",
         "name": "dramedy",
         "orientation": "v",
         "showlegend": true,
         "type": "scatter",
         "x": [
          -8.358904838562012,
          6.957373142242432
         ],
         "xaxis": "x",
         "y": [
          -0.11450225114822388,
          -2.3724710941314697
         ],
         "yaxis": "y"
        },
        {
         "customdata": [
          [
           "The story of a 10th...",
           "rom com"
          ]
         ],
         "hovertemplate": "label=%{customdata[1]}<br>x-tsne=%{x}<br>y-tsne=%{y}<br>text=%{customdata[0]}<extra></extra>",
         "legendgroup": "rom com",
         "marker": {
          "color": "#19d3f3",
          "symbol": "circle"
         },
         "mode": "markers",
         "name": "rom com",
         "orientation": "v",
         "showlegend": true,
         "type": "scatter",
         "x": [
          8.103959083557129
         ],
         "xaxis": "x",
         "y": [
          -0.8829301595687866
         ],
         "yaxis": "y"
        },
        {
         "customdata": [
          [
           "The plot of the film...",
           "nature"
          ]
         ],
         "hovertemplate": "label=%{customdata[1]}<br>x-tsne=%{x}<br>y-tsne=%{y}<br>text=%{customdata[0]}<extra></extra>",
         "legendgroup": "nature",
         "marker": {
          "color": "#FF6692",
          "symbol": "circle"
         },
         "mode": "markers",
         "name": "nature",
         "orientation": "v",
         "showlegend": true,
         "type": "scatter",
         "x": [
          3.121574878692627
         ],
         "xaxis": "x",
         "y": [
          -2.041135787963867
         ],
         "yaxis": "y"
        },
        {
         "customdata": [
          [
           "The film is a historical...",
           "historical"
          ]
         ],
         "hovertemplate": "label=%{customdata[1]}<br>x-tsne=%{x}<br>y-tsne=%{y}<br>text=%{customdata[0]}<extra></extra>",
         "legendgroup": "historical",
         "marker": {
          "color": "#B6E880",
          "symbol": "circle"
         },
         "mode": "markers",
         "name": "historical",
         "orientation": "v",
         "showlegend": true,
         "type": "scatter",
         "x": [
          6.034557342529297
         ],
         "xaxis": "x",
         "y": [
          10.211298942565918
         ],
         "yaxis": "y"
        },
        {
         "customdata": [
          [
           "The film is about an...",
           "short black comedy"
          ]
         ],
         "hovertemplate": "label=%{customdata[1]}<br>x-tsne=%{x}<br>y-tsne=%{y}<br>text=%{customdata[0]}<extra></extra>",
         "legendgroup": "short black comedy",
         "marker": {
          "color": "#FF97FF",
          "symbol": "circle"
         },
         "mode": "markers",
         "name": "short black comedy",
         "orientation": "v",
         "showlegend": true,
         "type": "scatter",
         "x": [
          2.1302907466888428
         ],
         "xaxis": "x",
         "y": [
          1.5386918783187866
         ],
         "yaxis": "y"
        },
        {
         "customdata": [
          [
           "Agimat (Bong Revilla, Jr.) is...",
           "fantasy, comedy, adventure"
          ]
         ],
         "hovertemplate": "label=%{customdata[1]}<br>x-tsne=%{x}<br>y-tsne=%{y}<br>text=%{customdata[0]}<extra></extra>",
         "legendgroup": "fantasy, comedy, adventure",
         "marker": {
          "color": "#FECB52",
          "symbol": "circle"
         },
         "mode": "markers",
         "name": "fantasy, comedy, adventure",
         "orientation": "v",
         "showlegend": true,
         "type": "scatter",
         "x": [
          -0.598549485206604
         ],
         "xaxis": "x",
         "y": [
          -5.229527473449707
         ],
         "yaxis": "y"
        },
        {
         "customdata": [
          [
           "The film is set in...",
           "biblical"
          ]
         ],
         "hovertemplate": "label=%{customdata[1]}<br>x-tsne=%{x}<br>y-tsne=%{y}<br>text=%{customdata[0]}<extra></extra>",
         "legendgroup": "biblical",
         "marker": {
          "color": "#636efa",
          "symbol": "circle"
         },
         "mode": "markers",
         "name": "biblical",
         "orientation": "v",
         "showlegend": true,
         "type": "scatter",
         "x": [
          -3.475602388381958
         ],
         "xaxis": "x",
         "y": [
          5.8280181884765625
         ],
         "yaxis": "y"
        },
        {
         "customdata": [
          [
           "Hans a young German journalist...",
           "sex comedy"
          ]
         ],
         "hovertemplate": "label=%{customdata[1]}<br>x-tsne=%{x}<br>y-tsne=%{y}<br>text=%{customdata[0]}<extra></extra>",
         "legendgroup": "sex comedy",
         "marker": {
          "color": "#EF553B",
          "symbol": "circle"
         },
         "mode": "markers",
         "name": "sex comedy",
         "orientation": "v",
         "showlegend": true,
         "type": "scatter",
         "x": [
          4.633820533752441
         ],
         "xaxis": "x",
         "y": [
          -2.209954261779785
         ],
         "yaxis": "y"
        },
        {
         "customdata": [
          [
           "Hajj, a rascally beggar on...",
           "costume drama"
          ]
         ],
         "hovertemplate": "label=%{customdata[1]}<br>x-tsne=%{x}<br>y-tsne=%{y}<br>text=%{customdata[0]}<extra></extra>",
         "legendgroup": "costume drama",
         "marker": {
          "color": "#00cc96",
          "symbol": "circle"
         },
         "mode": "markers",
         "name": "costume drama",
         "orientation": "v",
         "showlegend": true,
         "type": "scatter",
         "x": [
          -3.3380520343780518
         ],
         "xaxis": "x",
         "y": [
          6.362053871154785
         ],
         "yaxis": "y"
        },
        {
         "customdata": [
          [
           "After her mother was killed...",
           "action / comedy"
          ]
         ],
         "hovertemplate": "label=%{customdata[1]}<br>x-tsne=%{x}<br>y-tsne=%{y}<br>text=%{customdata[0]}<extra></extra>",
         "legendgroup": "action / comedy",
         "marker": {
          "color": "#ab63fa",
          "symbol": "circle"
         },
         "mode": "markers",
         "name": "action / comedy",
         "orientation": "v",
         "showlegend": true,
         "type": "scatter",
         "x": [
          -5.906118869781494
         ],
         "xaxis": "x",
         "y": [
          -3.642989158630371
         ],
         "yaxis": "y"
        },
        {
         "customdata": [
          [
           "Raised by his Uncle Wu...",
           "fantasy / adventure"
          ]
         ],
         "hovertemplate": "label=%{customdata[1]}<br>x-tsne=%{x}<br>y-tsne=%{y}<br>text=%{customdata[0]}<extra></extra>",
         "legendgroup": "fantasy / adventure",
         "marker": {
          "color": "#FFA15A",
          "symbol": "circle"
         },
         "mode": "markers",
         "name": "fantasy / adventure",
         "orientation": "v",
         "showlegend": true,
         "type": "scatter",
         "x": [
          -0.9577596783638
         ],
         "xaxis": "x",
         "y": [
          -6.010948657989502
         ],
         "yaxis": "y"
        },
        {
         "customdata": [
          [
           "A girl is about to...",
           "adventure, serial"
          ]
         ],
         "hovertemplate": "label=%{customdata[1]}<br>x-tsne=%{x}<br>y-tsne=%{y}<br>text=%{customdata[0]}<extra></extra>",
         "legendgroup": "adventure, serial",
         "marker": {
          "color": "#19d3f3",
          "symbol": "circle"
         },
         "mode": "markers",
         "name": "adventure, serial",
         "orientation": "v",
         "showlegend": true,
         "type": "scatter",
         "x": [
          2.5728631019592285
         ],
         "xaxis": "x",
         "y": [
          -2.7530038356781006
         ],
         "yaxis": "y"
        },
        {
         "customdata": [
          [
           "Crash Landing follows the tense...",
           "action/thriller"
          ]
         ],
         "hovertemplate": "label=%{customdata[1]}<br>x-tsne=%{x}<br>y-tsne=%{y}<br>text=%{customdata[0]}<extra></extra>",
         "legendgroup": "action/thriller",
         "marker": {
          "color": "#FF6692",
          "symbol": "circle"
         },
         "mode": "markers",
         "name": "action/thriller",
         "orientation": "v",
         "showlegend": true,
         "type": "scatter",
         "x": [
          0.8708961606025696
         ],
         "xaxis": "x",
         "y": [
          -3.3738532066345215
         ],
         "yaxis": "y"
        },
        {
         "customdata": [
          [
           "Anand is a major in...",
           "action"
          ],
          [
           "Sachin Joshi is a Kabaddi...",
           "action"
          ],
          [
           "Political journalist Jayadev (Meka Srikanth)...",
           "action"
          ]
         ],
         "hovertemplate": "label=%{customdata[1]}<br>x-tsne=%{x}<br>y-tsne=%{y}<br>text=%{customdata[0]}<extra></extra>",
         "legendgroup": "action",
         "marker": {
          "color": "#B6E880",
          "symbol": "circle"
         },
         "mode": "markers",
         "name": "action",
         "orientation": "v",
         "showlegend": true,
         "type": "scatter",
         "x": [
          3.5070552825927734,
          7.2177324295043945,
          3.337747097015381
         ],
         "xaxis": "x",
         "y": [
          7.956566333770752,
          6.329514503479004,
          7.154446601867676
         ],
         "yaxis": "y"
        },
        {
         "customdata": [
          [
           "A lonely old man who...",
           "literary drama"
          ]
         ],
         "hovertemplate": "label=%{customdata[1]}<br>x-tsne=%{x}<br>y-tsne=%{y}<br>text=%{customdata[0]}<extra></extra>",
         "legendgroup": "literary drama",
         "marker": {
          "color": "#FF97FF",
          "symbol": "circle"
         },
         "mode": "markers",
         "name": "literary drama",
         "orientation": "v",
         "showlegend": true,
         "type": "scatter",
         "x": [
          0.34915122389793396
         ],
         "xaxis": "x",
         "y": [
          3.9698028564453125
         ],
         "yaxis": "y"
        },
        {
         "customdata": [
          [
           "Big Fella is set on...",
           "musical/drama"
          ]
         ],
         "hovertemplate": "label=%{customdata[1]}<br>x-tsne=%{x}<br>y-tsne=%{y}<br>text=%{customdata[0]}<extra></extra>",
         "legendgroup": "musical/drama",
         "marker": {
          "color": "#FECB52",
          "symbol": "circle"
         },
         "mode": "markers",
         "name": "musical/drama",
         "orientation": "v",
         "showlegend": true,
         "type": "scatter",
         "x": [
          -3.486755132675171
         ],
         "xaxis": "x",
         "y": [
          -1.3871207237243652
         ],
         "yaxis": "y"
        },
        {
         "customdata": [
          [
           "In the year 1999, the...",
           "tokusatsu"
          ]
         ],
         "hovertemplate": "label=%{customdata[1]}<br>x-tsne=%{x}<br>y-tsne=%{y}<br>text=%{customdata[0]}<extra></extra>",
         "legendgroup": "tokusatsu",
         "marker": {
          "color": "#636efa",
          "symbol": "circle"
         },
         "mode": "markers",
         "name": "tokusatsu",
         "orientation": "v",
         "showlegend": true,
         "type": "scatter",
         "x": [
          2.525773286819458
         ],
         "xaxis": "x",
         "y": [
          -6.251756191253662
         ],
         "yaxis": "y"
        },
        {
         "customdata": [
          [
           "The story of the film,...",
           "crime/thriller"
          ]
         ],
         "hovertemplate": "label=%{customdata[1]}<br>x-tsne=%{x}<br>y-tsne=%{y}<br>text=%{customdata[0]}<extra></extra>",
         "legendgroup": "crime/thriller",
         "marker": {
          "color": "#EF553B",
          "symbol": "circle"
         },
         "mode": "markers",
         "name": "crime/thriller",
         "orientation": "v",
         "showlegend": true,
         "type": "scatter",
         "x": [
          4.650968074798584
         ],
         "xaxis": "x",
         "y": [
          -4.700913906097412
         ],
         "yaxis": "y"
        },
        {
         "customdata": [
          [
           "Kiira seems like an ordinary...",
           "vampire film"
          ]
         ],
         "hovertemplate": "label=%{customdata[1]}<br>x-tsne=%{x}<br>y-tsne=%{y}<br>text=%{customdata[0]}<extra></extra>",
         "legendgroup": "vampire film",
         "marker": {
          "color": "#00cc96",
          "symbol": "circle"
         },
         "mode": "markers",
         "name": "vampire film",
         "orientation": "v",
         "showlegend": true,
         "type": "scatter",
         "x": [
          5.024177551269531
         ],
         "xaxis": "x",
         "y": [
          0.8382809162139893
         ],
         "yaxis": "y"
        },
        {
         "customdata": [
          [
           "With the human exploitation of...",
           "comedy / animation / family / adventure"
          ]
         ],
         "hovertemplate": "label=%{customdata[1]}<br>x-tsne=%{x}<br>y-tsne=%{y}<br>text=%{customdata[0]}<extra></extra>",
         "legendgroup": "comedy / animation / family / adventure",
         "marker": {
          "color": "#ab63fa",
          "symbol": "circle"
         },
         "mode": "markers",
         "name": "comedy / animation / family / adventure",
         "orientation": "v",
         "showlegend": true,
         "type": "scatter",
         "x": [
          2.8036394119262695
         ],
         "xaxis": "x",
         "y": [
          -8.370819091796875
         ],
         "yaxis": "y"
        },
        {
         "customdata": [
          [
           "New York City law professor...",
           "drama, crime"
          ]
         ],
         "hovertemplate": "label=%{customdata[1]}<br>x-tsne=%{x}<br>y-tsne=%{y}<br>text=%{customdata[0]}<extra></extra>",
         "legendgroup": "drama, crime",
         "marker": {
          "color": "#FFA15A",
          "symbol": "circle"
         },
         "mode": "markers",
         "name": "drama, crime",
         "orientation": "v",
         "showlegend": true,
         "type": "scatter",
         "x": [
          -7.296416282653809
         ],
         "xaxis": "x",
         "y": [
          -2.2765135765075684
         ],
         "yaxis": "y"
        }
       ],
       "layout": {
        "height": 1200,
        "legend": {
         "title": {
          "text": "label"
         },
         "tracegroupgap": 0
        },
        "template": {
         "data": {
          "bar": [
           {
            "error_x": {
             "color": "#2a3f5f"
            },
            "error_y": {
             "color": "#2a3f5f"
            },
            "marker": {
             "line": {
              "color": "#E5ECF6",
              "width": 0.5
             },
             "pattern": {
              "fillmode": "overlay",
              "size": 10,
              "solidity": 0.2
             }
            },
            "type": "bar"
           }
          ],
          "barpolar": [
           {
            "marker": {
             "line": {
              "color": "#E5ECF6",
              "width": 0.5
             },
             "pattern": {
              "fillmode": "overlay",
              "size": 10,
              "solidity": 0.2
             }
            },
            "type": "barpolar"
           }
          ],
          "carpet": [
           {
            "aaxis": {
             "endlinecolor": "#2a3f5f",
             "gridcolor": "white",
             "linecolor": "white",
             "minorgridcolor": "white",
             "startlinecolor": "#2a3f5f"
            },
            "baxis": {
             "endlinecolor": "#2a3f5f",
             "gridcolor": "white",
             "linecolor": "white",
             "minorgridcolor": "white",
             "startlinecolor": "#2a3f5f"
            },
            "type": "carpet"
           }
          ],
          "choropleth": [
           {
            "colorbar": {
             "outlinewidth": 0,
             "ticks": ""
            },
            "type": "choropleth"
           }
          ],
          "contour": [
           {
            "colorbar": {
             "outlinewidth": 0,
             "ticks": ""
            },
            "colorscale": [
             [
              0,
              "#0d0887"
             ],
             [
              0.1111111111111111,
              "#46039f"
             ],
             [
              0.2222222222222222,
              "#7201a8"
             ],
             [
              0.3333333333333333,
              "#9c179e"
             ],
             [
              0.4444444444444444,
              "#bd3786"
             ],
             [
              0.5555555555555556,
              "#d8576b"
             ],
             [
              0.6666666666666666,
              "#ed7953"
             ],
             [
              0.7777777777777778,
              "#fb9f3a"
             ],
             [
              0.8888888888888888,
              "#fdca26"
             ],
             [
              1,
              "#f0f921"
             ]
            ],
            "type": "contour"
           }
          ],
          "contourcarpet": [
           {
            "colorbar": {
             "outlinewidth": 0,
             "ticks": ""
            },
            "type": "contourcarpet"
           }
          ],
          "heatmap": [
           {
            "colorbar": {
             "outlinewidth": 0,
             "ticks": ""
            },
            "colorscale": [
             [
              0,
              "#0d0887"
             ],
             [
              0.1111111111111111,
              "#46039f"
             ],
             [
              0.2222222222222222,
              "#7201a8"
             ],
             [
              0.3333333333333333,
              "#9c179e"
             ],
             [
              0.4444444444444444,
              "#bd3786"
             ],
             [
              0.5555555555555556,
              "#d8576b"
             ],
             [
              0.6666666666666666,
              "#ed7953"
             ],
             [
              0.7777777777777778,
              "#fb9f3a"
             ],
             [
              0.8888888888888888,
              "#fdca26"
             ],
             [
              1,
              "#f0f921"
             ]
            ],
            "type": "heatmap"
           }
          ],
          "heatmapgl": [
           {
            "colorbar": {
             "outlinewidth": 0,
             "ticks": ""
            },
            "colorscale": [
             [
              0,
              "#0d0887"
             ],
             [
              0.1111111111111111,
              "#46039f"
             ],
             [
              0.2222222222222222,
              "#7201a8"
             ],
             [
              0.3333333333333333,
              "#9c179e"
             ],
             [
              0.4444444444444444,
              "#bd3786"
             ],
             [
              0.5555555555555556,
              "#d8576b"
             ],
             [
              0.6666666666666666,
              "#ed7953"
             ],
             [
              0.7777777777777778,
              "#fb9f3a"
             ],
             [
              0.8888888888888888,
              "#fdca26"
             ],
             [
              1,
              "#f0f921"
             ]
            ],
            "type": "heatmapgl"
           }
          ],
          "histogram": [
           {
            "marker": {
             "pattern": {
              "fillmode": "overlay",
              "size": 10,
              "solidity": 0.2
             }
            },
            "type": "histogram"
           }
          ],
          "histogram2d": [
           {
            "colorbar": {
             "outlinewidth": 0,
             "ticks": ""
            },
            "colorscale": [
             [
              0,
              "#0d0887"
             ],
             [
              0.1111111111111111,
              "#46039f"
             ],
             [
              0.2222222222222222,
              "#7201a8"
             ],
             [
              0.3333333333333333,
              "#9c179e"
             ],
             [
              0.4444444444444444,
              "#bd3786"
             ],
             [
              0.5555555555555556,
              "#d8576b"
             ],
             [
              0.6666666666666666,
              "#ed7953"
             ],
             [
              0.7777777777777778,
              "#fb9f3a"
             ],
             [
              0.8888888888888888,
              "#fdca26"
             ],
             [
              1,
              "#f0f921"
             ]
            ],
            "type": "histogram2d"
           }
          ],
          "histogram2dcontour": [
           {
            "colorbar": {
             "outlinewidth": 0,
             "ticks": ""
            },
            "colorscale": [
             [
              0,
              "#0d0887"
             ],
             [
              0.1111111111111111,
              "#46039f"
             ],
             [
              0.2222222222222222,
              "#7201a8"
             ],
             [
              0.3333333333333333,
              "#9c179e"
             ],
             [
              0.4444444444444444,
              "#bd3786"
             ],
             [
              0.5555555555555556,
              "#d8576b"
             ],
             [
              0.6666666666666666,
              "#ed7953"
             ],
             [
              0.7777777777777778,
              "#fb9f3a"
             ],
             [
              0.8888888888888888,
              "#fdca26"
             ],
             [
              1,
              "#f0f921"
             ]
            ],
            "type": "histogram2dcontour"
           }
          ],
          "mesh3d": [
           {
            "colorbar": {
             "outlinewidth": 0,
             "ticks": ""
            },
            "type": "mesh3d"
           }
          ],
          "parcoords": [
           {
            "line": {
             "colorbar": {
              "outlinewidth": 0,
              "ticks": ""
             }
            },
            "type": "parcoords"
           }
          ],
          "pie": [
           {
            "automargin": true,
            "type": "pie"
           }
          ],
          "scatter": [
           {
            "fillpattern": {
             "fillmode": "overlay",
             "size": 10,
             "solidity": 0.2
            },
            "type": "scatter"
           }
          ],
          "scatter3d": [
           {
            "line": {
             "colorbar": {
              "outlinewidth": 0,
              "ticks": ""
             }
            },
            "marker": {
             "colorbar": {
              "outlinewidth": 0,
              "ticks": ""
             }
            },
            "type": "scatter3d"
           }
          ],
          "scattercarpet": [
           {
            "marker": {
             "colorbar": {
              "outlinewidth": 0,
              "ticks": ""
             }
            },
            "type": "scattercarpet"
           }
          ],
          "scattergeo": [
           {
            "marker": {
             "colorbar": {
              "outlinewidth": 0,
              "ticks": ""
             }
            },
            "type": "scattergeo"
           }
          ],
          "scattergl": [
           {
            "marker": {
             "colorbar": {
              "outlinewidth": 0,
              "ticks": ""
             }
            },
            "type": "scattergl"
           }
          ],
          "scattermapbox": [
           {
            "marker": {
             "colorbar": {
              "outlinewidth": 0,
              "ticks": ""
             }
            },
            "type": "scattermapbox"
           }
          ],
          "scatterpolar": [
           {
            "marker": {
             "colorbar": {
              "outlinewidth": 0,
              "ticks": ""
             }
            },
            "type": "scatterpolar"
           }
          ],
          "scatterpolargl": [
           {
            "marker": {
             "colorbar": {
              "outlinewidth": 0,
              "ticks": ""
             }
            },
            "type": "scatterpolargl"
           }
          ],
          "scatterternary": [
           {
            "marker": {
             "colorbar": {
              "outlinewidth": 0,
              "ticks": ""
             }
            },
            "type": "scatterternary"
           }
          ],
          "surface": [
           {
            "colorbar": {
             "outlinewidth": 0,
             "ticks": ""
            },
            "colorscale": [
             [
              0,
              "#0d0887"
             ],
             [
              0.1111111111111111,
              "#46039f"
             ],
             [
              0.2222222222222222,
              "#7201a8"
             ],
             [
              0.3333333333333333,
              "#9c179e"
             ],
             [
              0.4444444444444444,
              "#bd3786"
             ],
             [
              0.5555555555555556,
              "#d8576b"
             ],
             [
              0.6666666666666666,
              "#ed7953"
             ],
             [
              0.7777777777777778,
              "#fb9f3a"
             ],
             [
              0.8888888888888888,
              "#fdca26"
             ],
             [
              1,
              "#f0f921"
             ]
            ],
            "type": "surface"
           }
          ],
          "table": [
           {
            "cells": {
             "fill": {
              "color": "#EBF0F8"
             },
             "line": {
              "color": "white"
             }
            },
            "header": {
             "fill": {
              "color": "#C8D4E3"
             },
             "line": {
              "color": "white"
             }
            },
            "type": "table"
           }
          ]
         },
         "layout": {
          "annotationdefaults": {
           "arrowcolor": "#2a3f5f",
           "arrowhead": 0,
           "arrowwidth": 1
          },
          "autotypenumbers": "strict",
          "coloraxis": {
           "colorbar": {
            "outlinewidth": 0,
            "ticks": ""
           }
          },
          "colorscale": {
           "diverging": [
            [
             0,
             "#8e0152"
            ],
            [
             0.1,
             "#c51b7d"
            ],
            [
             0.2,
             "#de77ae"
            ],
            [
             0.3,
             "#f1b6da"
            ],
            [
             0.4,
             "#fde0ef"
            ],
            [
             0.5,
             "#f7f7f7"
            ],
            [
             0.6,
             "#e6f5d0"
            ],
            [
             0.7,
             "#b8e186"
            ],
            [
             0.8,
             "#7fbc41"
            ],
            [
             0.9,
             "#4d9221"
            ],
            [
             1,
             "#276419"
            ]
           ],
           "sequential": [
            [
             0,
             "#0d0887"
            ],
            [
             0.1111111111111111,
             "#46039f"
            ],
            [
             0.2222222222222222,
             "#7201a8"
            ],
            [
             0.3333333333333333,
             "#9c179e"
            ],
            [
             0.4444444444444444,
             "#bd3786"
            ],
            [
             0.5555555555555556,
             "#d8576b"
            ],
            [
             0.6666666666666666,
             "#ed7953"
            ],
            [
             0.7777777777777778,
             "#fb9f3a"
            ],
            [
             0.8888888888888888,
             "#fdca26"
            ],
            [
             1,
             "#f0f921"
            ]
           ],
           "sequentialminus": [
            [
             0,
             "#0d0887"
            ],
            [
             0.1111111111111111,
             "#46039f"
            ],
            [
             0.2222222222222222,
             "#7201a8"
            ],
            [
             0.3333333333333333,
             "#9c179e"
            ],
            [
             0.4444444444444444,
             "#bd3786"
            ],
            [
             0.5555555555555556,
             "#d8576b"
            ],
            [
             0.6666666666666666,
             "#ed7953"
            ],
            [
             0.7777777777777778,
             "#fb9f3a"
            ],
            [
             0.8888888888888888,
             "#fdca26"
            ],
            [
             1,
             "#f0f921"
            ]
           ]
          },
          "colorway": [
           "#636efa",
           "#EF553B",
           "#00cc96",
           "#ab63fa",
           "#FFA15A",
           "#19d3f3",
           "#FF6692",
           "#B6E880",
           "#FF97FF",
           "#FECB52"
          ],
          "font": {
           "color": "#2a3f5f"
          },
          "geo": {
           "bgcolor": "white",
           "lakecolor": "white",
           "landcolor": "#E5ECF6",
           "showlakes": true,
           "showland": true,
           "subunitcolor": "white"
          },
          "hoverlabel": {
           "align": "left"
          },
          "hovermode": "closest",
          "mapbox": {
           "style": "light"
          },
          "paper_bgcolor": "white",
          "plot_bgcolor": "#E5ECF6",
          "polar": {
           "angularaxis": {
            "gridcolor": "white",
            "linecolor": "white",
            "ticks": ""
           },
           "bgcolor": "#E5ECF6",
           "radialaxis": {
            "gridcolor": "white",
            "linecolor": "white",
            "ticks": ""
           }
          },
          "scene": {
           "xaxis": {
            "backgroundcolor": "#E5ECF6",
            "gridcolor": "white",
            "gridwidth": 2,
            "linecolor": "white",
            "showbackground": true,
            "ticks": "",
            "zerolinecolor": "white"
           },
           "yaxis": {
            "backgroundcolor": "#E5ECF6",
            "gridcolor": "white",
            "gridwidth": 2,
            "linecolor": "white",
            "showbackground": true,
            "ticks": "",
            "zerolinecolor": "white"
           },
           "zaxis": {
            "backgroundcolor": "#E5ECF6",
            "gridcolor": "white",
            "gridwidth": 2,
            "linecolor": "white",
            "showbackground": true,
            "ticks": "",
            "zerolinecolor": "white"
           }
          },
          "shapedefaults": {
           "line": {
            "color": "#2a3f5f"
           }
          },
          "ternary": {
           "aaxis": {
            "gridcolor": "white",
            "linecolor": "white",
            "ticks": ""
           },
           "baxis": {
            "gridcolor": "white",
            "linecolor": "white",
            "ticks": ""
           },
           "bgcolor": "#E5ECF6",
           "caxis": {
            "gridcolor": "white",
            "linecolor": "white",
            "ticks": ""
           }
          },
          "title": {
           "x": 0.05
          },
          "xaxis": {
           "automargin": true,
           "gridcolor": "white",
           "linecolor": "white",
           "ticks": "",
           "title": {
            "standoff": 15
           },
           "zerolinecolor": "white",
           "zerolinewidth": 2
          },
          "yaxis": {
           "automargin": true,
           "gridcolor": "white",
           "linecolor": "white",
           "ticks": "",
           "title": {
            "standoff": 15
           },
           "zerolinecolor": "white",
           "zerolinewidth": 2
          }
         }
        },
        "title": {
         "text": "Sentences t-SNE Visualization with Fasttext Embeddings"
        },
        "width": 1200,
        "xaxis": {
         "anchor": "y",
         "domain": [
          0,
          1
         ],
         "title": {
          "text": "x-tsne"
         }
        },
        "yaxis": {
         "anchor": "x",
         "domain": [
          0,
          1
         ],
         "title": {
          "text": "y-tsne"
         }
        }
       }
      },
      "text/html": [
       "<div>                            <div id=\"637c4ced-9194-40a7-b041-7c9422cf58fe\" class=\"plotly-graph-div\" style=\"height:1200px; width:1200px;\"></div>            <script type=\"text/javascript\">                require([\"plotly\"], function(Plotly) {                    window.PLOTLYENV=window.PLOTLYENV || {};                                    if (document.getElementById(\"637c4ced-9194-40a7-b041-7c9422cf58fe\")) {                    Plotly.newPlot(                        \"637c4ced-9194-40a7-b041-7c9422cf58fe\",                        [{\"customdata\":[[\"The film tells the story...\",\"film noir\"],[\"A psychoanalyst and his young...\",\"film noir\"],[\"The film is set in...\",\"film noir\"],[\"Convict Van Duff is the...\",\"film noir\"],[\"Rosalind Dee (DeCarlo) is a...\",\"film noir\"],[\"Con man Rick Maxon (Payne)...\",\"film noir\"]],\"hovertemplate\":\"label=%{customdata[1]}\\u003cbr\\u003ex-tsne=%{x}\\u003cbr\\u003ey-tsne=%{y}\\u003cbr\\u003etext=%{customdata[0]}\\u003cextra\\u003e\\u003c\\u002fextra\\u003e\",\"legendgroup\":\"film noir\",\"marker\":{\"color\":\"#636efa\",\"symbol\":\"circle\"},\"mode\":\"markers\",\"name\":\"film noir\",\"orientation\":\"v\",\"showlegend\":true,\"x\":[-1.3941657543182373,2.212857723236084,2.7268829345703125,1.0386090278625488,-5.328765392303467,-6.364380836486816],\"xaxis\":\"x\",\"y\":[1.630813717842102,2.338374137878418,-0.2613137662410736,-1.4756382703781128,-1.586046814918518,-0.7697525024414062],\"yaxis\":\"y\",\"type\":\"scatter\"},{\"customdata\":[[\"The eventful life of Swami...\",\"biography\"],[\"Raised on a sharecropping plantation...\",\"biography\"]],\"hovertemplate\":\"label=%{customdata[1]}\\u003cbr\\u003ex-tsne=%{x}\\u003cbr\\u003ey-tsne=%{y}\\u003cbr\\u003etext=%{customdata[0]}\\u003cextra\\u003e\\u003c\\u002fextra\\u003e\",\"legendgroup\":\"biography\",\"marker\":{\"color\":\"#EF553B\",\"symbol\":\"circle\"},\"mode\":\"markers\",\"name\":\"biography\",\"orientation\":\"v\",\"showlegend\":true,\"x\":[8.257712364196777,2.881816864013672],\"xaxis\":\"x\",\"y\":[5.897769451141357,-3.8801753520965576],\"yaxis\":\"y\",\"type\":\"scatter\"},{\"customdata\":[[\"Jagathalaprathapan is a prince who...\",\"unknown\"],[\"The story is about two...\",\"unknown\"],[\"In 1962, South Korea. Kang...\",\"unknown\"],[\"Vani Viswanath plays the central...\",\"unknown\"],[\"3000 years ago, the Vader...\",\"unknown\"],[\"An orphan girl, named Bindu...\",\"unknown\"],[\"Stand-up-comedian Nikita Kolesnikov (Danila Kozlovsky)...\",\"unknown\"],[\"Claire of the Moon is...\",\"unknown\"],[\"Joseph is a mentally retarded...\",\"unknown\"],[\"Balu (Vijayakumar) and Padma (Manjula...\",\"unknown\"],[\"On the run from the...\",\"unknown\"],[\"A man visits a happy...\",\"unknown\"],[\"In 1983 KBS launched a...\",\"unknown\"],[\"Rahul (Ramankanth) sees a concert...\",\"unknown\"],[\"Rolex (Prakash Raj) is a...\",\"unknown\"],[\"A young sculptor searches for...\",\"unknown\"],[\"Joan (Purviance) and Magdalen (Sothern)...\",\"unknown\"],[\"Indie musician Dong-hoon and cartoonist...\",\"unknown\"],[\"The story tells about Ching...\",\"unknown\"],[\"A former agent from the...\",\"unknown\"],[\"An earthquake releases a bunch...\",\"unknown\"],[\"Nine people from around the...\",\"unknown\"],[\"The film takes place in...\",\"unknown\"],[\"Dharma (Anandaraj) is an auto...\",\"unknown\"],[\"Arjun lives in a village....\",\"unknown\"],[\"The story of the film...\",\"unknown\"],[\"Chu Liuxiang is having drinks...\",\"unknown\"],[\"Soo-nam is a poor woman...\",\"unknown\"],[\"Vijay (R. Sarathkumar) and Seetha...\",\"unknown\"],[\"Vivek is a wanted criminal...\",\"unknown\"],[\"Gopal (M.G.R.) is an honest...\",\"unknown\"],[\"This film is about the...\",\"unknown\"],[\"The story is a family...\",\"unknown\"],[\"Kumar is a young and...\",\"unknown\"],[\"Twice widowed, Pilnyeo vows never...\",\"unknown\"],[\"A new teacher organizes a...\",\"unknown\"],[\"In the 1930s, Teresa (Buday)...\",\"unknown\"],[\"In the year 1999, the...\",\"unknown\"],[\"The film is based on...\",\"unknown\"],[\"Jin-hong is a prosecutor who...\",\"unknown\"],[\"Kumar, a graduate who decides...\",\"unknown\"],[\"The story revolves around a...\",\"unknown\"],[\"A genius sculptor Joon-goo (Park...\",\"unknown\"],[\"Russian general Marenkov (Robert Shaw)...\",\"unknown\"],[\"Rakta Bandhan is a family...\",\"unknown\"],[\"Louisa Gould (Jenny Seagrove) hides...\",\"unknown\"],[\"Marappan (Anandaraj) is the rebel...\",\"unknown\"],[\"The spouses Alec and Zoey,...\",\"unknown\"],[\"After the execution of Kattabomman...\",\"unknown\"],[\"Alli (Manorama) a veritable jungle...\",\"unknown\"],[\"The film takes place in...\",\"unknown\"],[\"Raja is a 10-year-old tourist...\",\"unknown\"],[\"Rajini's parents are killed by...\",\"unknown\"],[\"Pudhayal was about imaginary gold...\",\"unknown\"],[\"Kaalia is an action flick...\",\"unknown\"],[\"Seven young freedom fighters, heavily...\",\"unknown\"],[\"The story revolves around a...\",\"unknown\"],[\"Jung-woo is a film director...\",\"unknown\"],[\"The story revolves around a...\",\"unknown\"],[\"Handsome and fairly good-looking Anil...\",\"unknown\"],[\"While on a trip to...\",\"unknown\"],[\"The story centres on the...\",\"unknown\"],[\"Two persons namely Ajay and...\",\"unknown\"],[\"Story of a corpse being...\",\"unknown\"],[\"The film revolves around the...\",\"unknown\"],[\"Anand (Shivrajkumar) was nicknamed \\\"Kaddipudi\\\"...\",\"unknown\"],[\"Vijay (MGR), a carefree and...\",\"unknown\"],[\"A man loses his memory...\",\"unknown\"],[\"The film tells the story...\",\"unknown\"]],\"hovertemplate\":\"label=%{customdata[1]}\\u003cbr\\u003ex-tsne=%{x}\\u003cbr\\u003ey-tsne=%{y}\\u003cbr\\u003etext=%{customdata[0]}\\u003cextra\\u003e\\u003c\\u002fextra\\u003e\",\"legendgroup\":\"unknown\",\"marker\":{\"color\":\"#00cc96\",\"symbol\":\"circle\"},\"mode\":\"markers\",\"name\":\"unknown\",\"orientation\":\"v\",\"showlegend\":true,\"x\":[5.009643077850342,5.563476085662842,7.480871200561523,4.63248348236084,-0.13455374538898468,4.3623247146606445,5.266811370849609,-4.318216800689697,-0.6647645235061646,5.726032257080078,-4.308572292327881,3.9729316234588623,3.4686343669891357,6.010714530944824,4.011882305145264,4.131044387817383,-5.121321201324463,0.5252751708030701,-7.116682529449463,1.398295521736145,2.274115800857544,2.636784791946411,3.3909027576446533,2.87233304977417,7.092297077178955,-2.6033248901367188,-1.7215760946273804,2.6492726802825928,5.679248332977295,2.271622657775879,5.335801601409912,6.795472621917725,7.066988945007324,5.635136127471924,4.158466339111328,8.214576721191406,2.5443034172058105,2.525764226913452,7.951767444610596,2.26584792137146,0.582486093044281,2.717561721801758,5.017542362213135,0.5328848958015442,6.307583332061768,-8.427844047546387,3.534189224243164,0.02437903732061386,-0.5050589442253113,-1.9579646587371826,4.160139083862305,5.23579740524292,5.140263080596924,4.518720626831055,3.7237987518310547,4.984988689422607,5.886687278747559,5.968054294586182,6.483254909515381,4.571137428283691,5.856649875640869,1.0159252882003784,2.2625088691711426,-0.05957215651869774,6.307523250579834,3.2933666706085205,3.5207579135894775,1.3417094945907593,5.364963531494141],\"xaxis\":\"x\",\"y\":[6.279392242431641,-0.3042672276496887,-1.6696670055389404,7.311955451965332,-6.119076728820801,-2.762155055999756,1.7377581596374512,-4.126106262207031,1.0990363359451294,8.253113746643066,-5.262889862060547,1.0135952234268188,-5.781984806060791,2.2290923595428467,7.929433345794678,0.9934132695198059,-0.46551641821861267,1.864846110343933,-3.2411317825317383,-8.10416316986084,-6.698601245880127,-6.391044616699219,-5.16005277633667,6.749215126037598,3.7921791076660156,-2.3876547813415527,3.5979201793670654,1.0366413593292236,8.34810733795166,6.469920635223389,7.469124794006348,8.242629051208496,6.6283392906188965,7.558320999145508,2.4113969802856445,-2.464048385620117,0.004522581584751606,-6.2516865730285645,7.586477279663086,2.690143585205078,-8.363195419311523,1.39601731300354,4.403381824493408,-4.872995853424072,9.296320915222168,-1.6498136520385742,6.69891357421875,2.214768648147583,-8.23000431060791,5.347583770751953,-7.252123832702637,3.3106119632720947,7.460819721221924,9.045326232910156,7.093039035797119,-1.3472687005996704,8.252237319946289,-5.405862331390381,6.423501491546631,8.315591812133789,8.716737747192383,6.3323750495910645,4.076807022094727,1.0179613828659058,5.644552707672119,2.429370403289795,-0.006740618962794542,3.3687052726745605,1.5916242599487305],\"yaxis\":\"y\",\"type\":\"scatter\"},{\"customdata\":[[\"Police inspector Holloway (Patrick Wymark)...\",\"mystery\"],[\"The story of the film...\",\"mystery\"],[\"A blind detective, Duncan Maclain,...\",\"mystery\"],[\"Nick and Nora Charles are...\",\"mystery\"],[\"When infamous jewel thief Flambeau...\",\"mystery\"],[\"It is of the Jack...\",\"mystery\"]],\"hovertemplate\":\"label=%{customdata[1]}\\u003cbr\\u003ex-tsne=%{x}\\u003cbr\\u003ey-tsne=%{y}\\u003cbr\\u003etext=%{customdata[0]}\\u003cextra\\u003e\\u003c\\u002fextra\\u003e\",\"legendgroup\":\"mystery\",\"marker\":{\"color\":\"#ab63fa\",\"symbol\":\"circle\"},\"mode\":\"markers\",\"name\":\"mystery\",\"orientation\":\"v\",\"showlegend\":true,\"x\":[-5.310770034790039,5.189380168914795,-5.454736709594727,-0.3984096646308899,-5.940461158752441,0.336414098739624],\"xaxis\":\"x\",\"y\":[2.7848243713378906,-0.48277828097343445,2.416729211807251,-0.9605787992477417,1.829118013381958,5.837674617767334],\"yaxis\":\"y\",\"type\":\"scatter\"},{\"customdata\":[[\"Lewis and Clark and George...\",\"drama\"],[\"Oliver's mother, a penniless outcast,...\",\"drama\"],[\"Reverend Smith has arrived in...\",\"drama\"],[\"Following the plot of the...\",\"drama\"],[\"The film is a story...\",\"drama\"],[\"Byron Levin works in a...\",\"drama\"],[\"This film is about a...\",\"drama\"],[\"Bok-nyeo, a mentally handicapped woman,...\",\"drama\"],[\"The film is an account...\",\"drama\"],[\"A crime reporter, assisted by...\",\"drama\"],[\"Marianne (Greta Garbo) is a...\",\"drama\"],[\"Shane O'Shea is a young...\",\"drama\"],[\"Italian aristocrat Angela Chiaromonte (Helen...\",\"drama\"],[\"Dhag is the story of...\",\"drama\"],[\"A Mighty Heart is a...\",\"drama\"],[\"The film is an examination...\",\"drama\"],[\"Gloria Cole and Eddie Swenson...\",\"drama\"],[\"The film is about an...\",\"drama\"],[\"Chaiti is a young beautiful...\",\"drama\"],[\"Fontaine Khaled is the London...\",\"drama\"],[\"California gubernatorial candidate Burton (Lyon)...\",\"drama\"],[\"A 12-year old young boy...\",\"drama\"],[\"Rie and Nao own a...\",\"drama\"],[\"The film stars Harry Connick...\",\"drama\"],[\"In 1964, inmate Charlie Forsythe...\",\"drama\"],[\"Three teenage boys in small-town...\",\"drama\"],[\"Taglines: \\\"Being a girl is...\",\"drama\"],[\"Newland Archer is engaged to...\",\"drama\"],[\"The Philippines, 1972. Mysterious things...\",\"drama\"],[\"Set in Alexandria in 1938,...\",\"drama\"],[\"The film is set in...\",\"drama\"],[\"Michael Walsh, a husband and...\",\"drama\"],[\"The film revolves around an...\",\"drama\"],[\"Big Bad Love shares its...\",\"drama\"],[\"Ten-year-old Bobby (Frankie Thomas) and...\",\"drama\"],[\"Brinda (Sindhu Tolani) is an...\",\"drama\"],[\"A mysterious killer, known only...\",\"drama\"],[\"Omar Sharif plays Muhassab, headman...\",\"drama\"],[\"A young Lakota Sioux (Lou...\",\"drama\"],[\"Hikaru Oshiro, noticing that there...\",\"drama\"],[\"Chuck Wheeler is released from...\",\"drama\"],[\"Leslie is a troubled 1960s...\",\"drama\"],[\"In Renaissance Florence, a Florentine...\",\"drama\"],[\"\\\"Illustrated Press\\\" society editor Lorelei...\",\"drama\"],[\"Spanning nearly 20 years from...\",\"drama\"],[\"A young construction worker rams...\",\"drama\"],[\"Teenager Jackie Knowles (Richard Attenborough)...\",\"drama\"],[\"In a desperate attempt to...\",\"drama\"],[\"The first act of the...\",\"drama\"],[\"In Wilmington, Delaware, Anna Thompson...\",\"drama\"],[\"While in a restaurant, Carla...\",\"drama\"],[\"In the middle of a...\",\"drama\"],[\"Chad (Jimmie Rodgers) is a...\",\"drama\"],[\"Midget George Wilson pulls strings...\",\"drama\"],[\"In the remote and undeveloped...\",\"drama\"],[\"The film is about Jamie,...\",\"drama\"],[\"Jean Paurel is a famous...\",\"drama\"],[\"Napoleon Bonaparte (Charles Boyer) launches...\",\"drama\"],[\"Four friends go on a...\",\"drama\"]],\"hovertemplate\":\"label=%{customdata[1]}\\u003cbr\\u003ex-tsne=%{x}\\u003cbr\\u003ey-tsne=%{y}\\u003cbr\\u003etext=%{customdata[0]}\\u003cextra\\u003e\\u003c\\u002fextra\\u003e\",\"legendgroup\":\"drama\",\"marker\":{\"color\":\"#FFA15A\",\"symbol\":\"circle\"},\"mode\":\"markers\",\"name\":\"drama\",\"orientation\":\"v\",\"showlegend\":true,\"x\":[-4.3820719718933105,-0.5815075039863586,-6.030075550079346,-2.6328229904174805,4.9285969734191895,-5.724947929382324,0.7313678860664368,0.7937327027320862,5.693586349487305,8.062647819519043,-4.032603740692139,-3.385718822479248,-3.9613921642303467,6.944085597991943,1.109326720237732,6.019171237945557,-0.26316842436790466,7.304213047027588,5.637685298919678,-3.047006368637085,-7.263313293457031,-0.9977264404296875,1.6413418054580688,-1.8398288488388062,-7.550259590148926,0.02694610506296158,6.761735439300537,-2.5495455265045166,0.7630875110626221,-6.051718235015869,5.85957145690918,-2.5887343883514404,5.198039531707764,2.391556739807129,-0.8873421549797058,2.5789201259613037,1.9800440073013306,-1.3891853094100952,-1.2477201223373413,8.235139846801758,-1.7500983476638794,-7.604465961456299,-3.756786823272705,-6.188089847564697,2.902160406112671,1.9901448488235474,-7.535029888153076,-0.4831925928592682,-8.932685852050781,1.3087722063064575,-2.9688258171081543,0.3870299458503723,2.1471188068389893,-3.179774045944214,4.060271263122559,2.0701756477355957,6.941178798675537,-5.4684834480285645,-0.7612714767456055],\"xaxis\":\"x\",\"y\":[-3.1414730548858643,2.9797775745391846,-0.15785866975784302,5.096811294555664,-3.293179988861084,-1.6863377094268799,-7.326667308807373,4.39396858215332,-3.5933525562286377,-5.400466442108154,-0.24471522867679596,-0.25282803177833557,1.2541733980178833,4.038055896759033,-7.25741720199585,-3.7111971378326416,-2.283071517944336,-4.265171051025391,5.24843692779541,0.0819234848022461,4.8913798332214355,3.084613561630249,-2.4430394172668457,0.06721056997776031,1.306341290473938,0.6459649801254272,-1.5223149061203003,1.7899802923202515,-6.039283752441406,3.782824993133545,7.004338264465332,2.6392831802368164,-2.198995351791382,-0.3577360212802887,2.0147154331207275,6.671111106872559,2.5738208293914795,-2.2170443534851074,4.379395008087158,-2.5475873947143555,-0.8155204057693481,1.9130700826644897,1.6080787181854248,2.5168540477752686,-4.963351249694824,0.9218818545341492,0.32244873046875,0.020689906552433968,-0.23523744940757751,-1.5577282905578613,-1.8378454446792603,2.6215221881866455,-3.968926191329956,-0.8278440833091736,-2.075939416885376,-3.562533140182495,1.2042624950408936,0.5009006857872009,1.1722018718719482],\"yaxis\":\"y\",\"type\":\"scatter\"},{\"customdata\":[[\"In a British TV studio,...\",\"comedy\"],[\"Neil John Samuel is a...\",\"comedy\"],[\"Young sci-fi\\u002ffantasy enthusiast Gavin Gore...\",\"comedy\"],[\"A popular dance hall girl,...\",\"comedy\"],[\"Mordecai C. Jones (Scott) \\u2013...\",\"comedy\"],[\"Flesh (Vince Murdocco) is kidnapped...\",\"comedy\"],[\"Two best friends who live...\",\"comedy\"],[\"Curry and Pepper are two...\",\"comedy\"],[\"Set in the austere post\\u2013World...\",\"comedy\"],[\"Molly Gilbert won't accept a...\",\"comedy\"],[\"Bumbling cop Chatur Singh (Sanjay...\",\"comedy\"],[\"Hardy plays Dr. Henry Tibbett,...\",\"comedy\"],[\"After discovering that her state...\",\"comedy\"],[\"Struggling young actress Jenny (Marjorie...\",\"comedy\"],[\"In every port, sailor Bill,...\",\"comedy\"],[\"Hong Deok-Ja continues to run...\",\"comedy\"],[\"The film tells the story...\",\"comedy\"],[\"After Joe Huggett loses his...\",\"comedy\"],[\"Eric Wainwright (Van Johnson), a...\",\"comedy\"],[\"Kevin Agar is a Carlton-based...\",\"comedy\"],[\"Restaurant owner Dylan Ramsey (David...\",\"comedy\"],[\"Jerry McGuire (William Collier Jr.)...\",\"comedy\"],[\"Two college girls, Ducky and...\",\"comedy\"],[\"The film's slight storyline concerns...\",\"comedy\"],[\"A simple handyman, who also...\",\"comedy\"],[\"The film tells the story...\",\"comedy\"],[\"In a Mexican nightclub, some...\",\"comedy\"],[\"Officers throw an extravagant party...\",\"comedy\"],[\"Nick (Niven) is the supposed...\",\"comedy\"],[\"Chandrabose (Mohanlal) whose wife's (Meera...\",\"comedy\"],[\"On board an ocean liner...\",\"comedy\"],[\"The boys are involved in...\",\"comedy\"],[\"The Rogers family visit Blackpool...\",\"comedy\"],[\"The young filmmaker Timothy (Jonathan...\",\"comedy\"],[\"Small-fry marijuana harvesters in Northern...\",\"comedy\"],[\"The Chain tells the story...\",\"comedy\"],[\"The title character is Victor...\",\"comedy\"],[\"Harry England (Michael Crawford), a...\",\"comedy\"],[\"In Shanghai, Madeleine Linden is...\",\"comedy\"],[\"Andy (Lee Bowman) and Janie...\",\"comedy\"],[\"A small Midwestern town is...\",\"comedy\"],[\"Leonard Maltin: \\\"Cute comic mystery......\",\"comedy\"],[\"The film plays out with...\",\"comedy\"],[\"Two sailors are conned into...\",\"comedy\"],[\"The movie is about Ilangovan...\",\"comedy\"],[\"Alvin Roberts (Lee Tracy) feuds...\",\"comedy\"],[\"Stephanie (Lyn Wilde) and Terry...\",\"comedy\"],[\"The young brother of two...\",\"comedy\"],[\"Jennie Hagan (Swanson) is a...\",\"comedy\"],[\"Banerjee stars as Ram Das,...\",\"comedy\"],[\"Gracie (Fields) and Laurie (Dolman)...\",\"comedy\"]],\"hovertemplate\":\"label=%{customdata[1]}\\u003cbr\\u003ex-tsne=%{x}\\u003cbr\\u003ey-tsne=%{y}\\u003cbr\\u003etext=%{customdata[0]}\\u003cextra\\u003e\\u003c\\u002fextra\\u003e\",\"legendgroup\":\"comedy\",\"marker\":{\"color\":\"#19d3f3\",\"symbol\":\"circle\"},\"mode\":\"markers\",\"name\":\"comedy\",\"orientation\":\"v\",\"showlegend\":true,\"x\":[-3.009791851043701,-4.808884620666504,-3.780596971511841,-1.108508586883545,-2.377011299133301,-0.5107619166374207,3.9510905742645264,2.2478718757629395,2.1202595233917236,-0.36489319801330566,3.627999782562256,-1.6380175352096558,3.4602763652801514,-3.698375701904297,-3.856788396835327,1.8724710941314697,-7.498119831085205,6.580935478210449,-4.056277751922607,1.658476710319519,-2.047715425491333,-7.089982986450195,3.767111301422119,3.161158323287964,7.176852226257324,0.8336233496665955,-3.2100133895874023,-5.016185283660889,-1.6881612539291382,5.635853290557861,4.401791095733643,-3.731757640838623,0.06295380741357803,-3.5650241374969482,1.2212872505187988,4.54014253616333,2.9999802112579346,-4.535430908203125,-4.046515464782715,-6.067693710327148,-2.68082857131958,-5.654359817504883,5.962201118469238,4.5773186683654785,5.5984110832214355,-6.6172404289245605,-6.353785037994385,1.478901982307434,-9.23559856414795,-1.6679874658584595,-4.244112968444824],\"xaxis\":\"x\",\"y\":[-5.076702117919922,-2.165315628051758,-2.219402551651001,-3.1272873878479004,-3.5085792541503906,-5.176310062408447,-1.094262719154358,-1.2632783651351929,-4.8835601806640625,-1.668378472328186,7.681535720825195,-4.160771369934082,-4.448980808258057,-0.6032065153121948,-2.8476622104644775,-1.5146363973617554,3.466794729232788,-0.13841205835342407,-0.8391071557998657,-0.679317057132721,-0.545107364654541,-1.3785794973373413,-0.9535458087921143,-1.3167307376861572,-3.2163562774658203,-4.523916721343994,-3.908252716064453,-2.6957943439483643,1.2150511741638184,6.502813339233398,-1.7753268480300903,-6.475979328155518,3.839557409286499,-2.2058465480804443,0.0828452929854393,-5.8816704750061035,-4.699118137359619,0.06583602726459503,0.9196521043777466,0.5876275897026062,-7.61564302444458,5.519911766052246,-6.080998420715332,-0.589995801448822,6.4752421379089355,-4.323143482208252,0.7165395021438599,1.7551051378250122,1.1306785345077515,7.454951763153076,-1.0884684324264526],\"yaxis\":\"y\",\"type\":\"scatter\"},{\"customdata\":[[\"George Cabot Jr. (Cesar Romero),...\",\"comedy, romance\"]],\"hovertemplate\":\"label=%{customdata[1]}\\u003cbr\\u003ex-tsne=%{x}\\u003cbr\\u003ey-tsne=%{y}\\u003cbr\\u003etext=%{customdata[0]}\\u003cextra\\u003e\\u003c\\u002fextra\\u003e\",\"legendgroup\":\"comedy, romance\",\"marker\":{\"color\":\"#FF6692\",\"symbol\":\"circle\"},\"mode\":\"markers\",\"name\":\"comedy, romance\",\"orientation\":\"v\",\"showlegend\":true,\"x\":[-6.534955024719238],\"xaxis\":\"x\",\"y\":[-1.995063066482544],\"yaxis\":\"y\",\"type\":\"scatter\"},{\"customdata\":[[\"Mongol chief Temujin (later to...\",\"adventure\"],[\"Shellshocked following his experiences as...\",\"adventure\"],[\"Professional hunter Harry Black is...\",\"adventure\"],[\"After being court-martialed and discharged...\",\"adventure\"]],\"hovertemplate\":\"label=%{customdata[1]}\\u003cbr\\u003ex-tsne=%{x}\\u003cbr\\u003ey-tsne=%{y}\\u003cbr\\u003etext=%{customdata[0]}\\u003cextra\\u003e\\u003c\\u002fextra\\u003e\",\"legendgroup\":\"adventure\",\"marker\":{\"color\":\"#B6E880\",\"symbol\":\"circle\"},\"mode\":\"markers\",\"name\":\"adventure\",\"orientation\":\"v\",\"showlegend\":true,\"x\":[8.764108657836914,2.344933032989502,-2.4846837520599365,3.7607474327087402],\"xaxis\":\"x\",\"y\":[2.500919818878174,-4.402400016784668,-1.3668662309646606,-3.0249063968658447],\"yaxis\":\"y\",\"type\":\"scatter\"},{\"customdata\":[[\"The story starts with a...\",\"romance \\u002f suspense\"]],\"hovertemplate\":\"label=%{customdata[1]}\\u003cbr\\u003ex-tsne=%{x}\\u003cbr\\u003ey-tsne=%{y}\\u003cbr\\u003etext=%{customdata[0]}\\u003cextra\\u003e\\u003c\\u002fextra\\u003e\",\"legendgroup\":\"romance \\u002f suspense\",\"marker\":{\"color\":\"#FF97FF\",\"symbol\":\"circle\"},\"mode\":\"markers\",\"name\":\"romance \\u002f suspense\",\"orientation\":\"v\",\"showlegend\":true,\"x\":[-5.609200954437256],\"xaxis\":\"x\",\"y\":[-4.5166778564453125],\"yaxis\":\"y\",\"type\":\"scatter\"},{\"customdata\":[[\"In World War II, two...\",\"pow comedy\"]],\"hovertemplate\":\"label=%{customdata[1]}\\u003cbr\\u003ex-tsne=%{x}\\u003cbr\\u003ey-tsne=%{y}\\u003cbr\\u003etext=%{customdata[0]}\\u003cextra\\u003e\\u003c\\u002fextra\\u003e\",\"legendgroup\":\"pow comedy\",\"marker\":{\"color\":\"#FECB52\",\"symbol\":\"circle\"},\"mode\":\"markers\",\"name\":\"pow comedy\",\"orientation\":\"v\",\"showlegend\":true,\"x\":[1.0203129053115845],\"xaxis\":\"x\",\"y\":[-4.7421464920043945],\"yaxis\":\"y\",\"type\":\"scatter\"},{\"customdata\":[[\"It is love at first...\",\"romance\"],[\"Loosely based on true events...\",\"romance\"]],\"hovertemplate\":\"label=%{customdata[1]}\\u003cbr\\u003ex-tsne=%{x}\\u003cbr\\u003ey-tsne=%{y}\\u003cbr\\u003etext=%{customdata[0]}\\u003cextra\\u003e\\u003c\\u002fextra\\u003e\",\"legendgroup\":\"romance\",\"marker\":{\"color\":\"#636efa\",\"symbol\":\"circle\"},\"mode\":\"markers\",\"name\":\"romance\",\"orientation\":\"v\",\"showlegend\":true,\"x\":[0.5263412594795227,-1.5441595315933228],\"xaxis\":\"x\",\"y\":[-2.238011360168457,-5.1957268714904785],\"yaxis\":\"y\",\"type\":\"scatter\"},{\"customdata\":[[\"Having cleaned up Tombstone, Arizona,...\",\"western\"],[\"The story involves a middle-aged...\",\"western\"],[\"Stephen Ghent, a mineowner, falls...\",\"western\"],[\"After being told by his...\",\"western\"],[\"Jeff Hassard (Dean Jagger) and...\",\"western\"],[\"A U.S. marshal investigates when...\",\"western\"],[\"John Murdock (Paul Richards) is...\",\"western\"],[\"A prospective settler, pioneer Bob...\",\"western\"],[\"When a town drunk, Gabe,...\",\"western\"],[\"Following a series of robberies...\",\"western\"],[\"The plot is a mystery...\",\"western\"]],\"hovertemplate\":\"label=%{customdata[1]}\\u003cbr\\u003ex-tsne=%{x}\\u003cbr\\u003ey-tsne=%{y}\\u003cbr\\u003etext=%{customdata[0]}\\u003cextra\\u003e\\u003c\\u002fextra\\u003e\",\"legendgroup\":\"western\",\"marker\":{\"color\":\"#EF553B\",\"symbol\":\"circle\"},\"mode\":\"markers\",\"name\":\"western\",\"orientation\":\"v\",\"showlegend\":true,\"x\":[-8.131237983703613,-0.09522642195224762,-4.631590366363525,-1.2179045677185059,-5.037930488586426,-4.774691581726074,-2.578657627105713,-1.435513973236084,-8.804676055908203,-6.698410511016846,-4.770882606506348],\"xaxis\":\"x\",\"y\":[-3.9146034717559814,4.099396228790283,0.6571035385131836,-1.2454655170440674,-1.1268713474273682,4.188653469085693,-3.1355061531066895,-0.2642024755477905,-3.1755363941192627,-1.1291052103042603,3.9136486053466797],\"yaxis\":\"y\",\"type\":\"scatter\"},{\"customdata\":[[\"The story is about a...\",\"romantic comedy\"],[\"Scott (Ryan Phillippe) is a...\",\"romantic comedy\"],[\"Trust concerns the unusual romance...\",\"romantic comedy\"],[\"Alim is a young gay...\",\"romantic comedy\"],[\"Daniels, in her final silent...\",\"romantic comedy\"]],\"hovertemplate\":\"label=%{customdata[1]}\\u003cbr\\u003ex-tsne=%{x}\\u003cbr\\u003ey-tsne=%{y}\\u003cbr\\u003etext=%{customdata[0]}\\u003cextra\\u003e\\u003c\\u002fextra\\u003e\",\"legendgroup\":\"romantic comedy\",\"marker\":{\"color\":\"#00cc96\",\"symbol\":\"circle\"},\"mode\":\"markers\",\"name\":\"romantic comedy\",\"orientation\":\"v\",\"showlegend\":true,\"x\":[6.517717361450195,-0.38191813230514526,3.050791025161743,3.4527747631073,-5.361746788024902],\"xaxis\":\"x\",\"y\":[7.34661340713501,1.9303817749023438,-0.31745898723602295,0.6940600872039795,-6.9355950355529785],\"yaxis\":\"y\",\"type\":\"scatter\"},{\"customdata\":[[\"Kisan Kanya was based on...\",\"social\"]],\"hovertemplate\":\"label=%{customdata[1]}\\u003cbr\\u003ex-tsne=%{x}\\u003cbr\\u003ey-tsne=%{y}\\u003cbr\\u003etext=%{customdata[0]}\\u003cextra\\u003e\\u003c\\u002fextra\\u003e\",\"legendgroup\":\"social\",\"marker\":{\"color\":\"#ab63fa\",\"symbol\":\"circle\"},\"mode\":\"markers\",\"name\":\"social\",\"orientation\":\"v\",\"showlegend\":true,\"x\":[4.183669567108154],\"xaxis\":\"x\",\"y\":[5.810468673706055],\"yaxis\":\"y\",\"type\":\"scatter\"},{\"customdata\":[[\"A psychic woman leads archaeologists...\",\"horror\"],[\"Christopher, a lustful man goes...\",\"horror\"],[\"Charles Kessler (Bela Lugosi) is...\",\"horror\"],[\"During a TV segment about...\",\"horror\"]],\"hovertemplate\":\"label=%{customdata[1]}\\u003cbr\\u003ex-tsne=%{x}\\u003cbr\\u003ey-tsne=%{y}\\u003cbr\\u003etext=%{customdata[0]}\\u003cextra\\u003e\\u003c\\u002fextra\\u003e\",\"legendgroup\":\"horror\",\"marker\":{\"color\":\"#FFA15A\",\"symbol\":\"circle\"},\"mode\":\"markers\",\"name\":\"horror\",\"orientation\":\"v\",\"showlegend\":true,\"x\":[-0.4901624321937561,-2.908397674560547,-4.787932872772217,6.357637882232666],\"xaxis\":\"x\",\"y\":[-4.191984176635742,3.601468086242676,2.5521745681762695,-6.263070583343506],\"yaxis\":\"y\",\"type\":\"scatter\"},{\"customdata\":[[\"Two reporters, Curtis (Conrad Phillips)...\",\"crime\"],[\"Edgar Mills and his mistress...\",\"crime\"],[\"Inventor and engineer Robert Draper...\",\"crime\"],[\"United States Secret Service Lieutenant...\",\"crime\"],[\"A new gas formula that...\",\"crime\"],[\"American gambler Nick Cain (Raft)...\",\"crime\"],[\"Two brothers become involved with...\",\"crime\"]],\"hovertemplate\":\"label=%{customdata[1]}\\u003cbr\\u003ex-tsne=%{x}\\u003cbr\\u003ey-tsne=%{y}\\u003cbr\\u003etext=%{customdata[0]}\\u003cextra\\u003e\\u003c\\u002fextra\\u003e\",\"legendgroup\":\"crime\",\"marker\":{\"color\":\"#19d3f3\",\"symbol\":\"circle\"},\"mode\":\"markers\",\"name\":\"crime\",\"orientation\":\"v\",\"showlegend\":true,\"x\":[-7.240383625030518,-4.161777496337891,-6.880002498626709,-6.244478225708008,2.904554843902588,-5.092229843139648,6.1880998611450195],\"xaxis\":\"x\",\"y\":[-0.5879475474357605,2.7681198120117188,2.2711024284362793,-2.2414140701293945,-6.927126407623291,2.2171103954315186,-4.7785325050354],\"yaxis\":\"y\",\"type\":\"scatter\"},{\"customdata\":[[\"Dr. Markoff (J. Carrol Naish)...\",\"science fiction\"]],\"hovertemplate\":\"label=%{customdata[1]}\\u003cbr\\u003ex-tsne=%{x}\\u003cbr\\u003ey-tsne=%{y}\\u003cbr\\u003etext=%{customdata[0]}\\u003cextra\\u003e\\u003c\\u002fextra\\u003e\",\"legendgroup\":\"science fiction\",\"marker\":{\"color\":\"#FF6692\",\"symbol\":\"circle\"},\"mode\":\"markers\",\"name\":\"science fiction\",\"orientation\":\"v\",\"showlegend\":true,\"x\":[-1.5381410121917725],\"xaxis\":\"x\",\"y\":[-4.498261451721191],\"yaxis\":\"y\",\"type\":\"scatter\"},{\"customdata\":[[\"The plot revolves around the...\",\"coming of age drama\"]],\"hovertemplate\":\"label=%{customdata[1]}\\u003cbr\\u003ex-tsne=%{x}\\u003cbr\\u003ey-tsne=%{y}\\u003cbr\\u003etext=%{customdata[0]}\\u003cextra\\u003e\\u003c\\u002fextra\\u003e\",\"legendgroup\":\"coming of age drama\",\"marker\":{\"color\":\"#B6E880\",\"symbol\":\"circle\"},\"mode\":\"markers\",\"name\":\"coming of age drama\",\"orientation\":\"v\",\"showlegend\":true,\"x\":[-1.7155519723892212],\"xaxis\":\"x\",\"y\":[2.046030044555664],\"yaxis\":\"y\",\"type\":\"scatter\"},{\"customdata\":[[\"The movie opens with Fung...\",\"erotic \\u002f drama\"]],\"hovertemplate\":\"label=%{customdata[1]}\\u003cbr\\u003ex-tsne=%{x}\\u003cbr\\u003ey-tsne=%{y}\\u003cbr\\u003etext=%{customdata[0]}\\u003cextra\\u003e\\u003c\\u002fextra\\u003e\",\"legendgroup\":\"erotic \\u002f drama\",\"marker\":{\"color\":\"#FF97FF\",\"symbol\":\"circle\"},\"mode\":\"markers\",\"name\":\"erotic \\u002f drama\",\"orientation\":\"v\",\"showlegend\":true,\"x\":[-2.8373262882232666],\"xaxis\":\"x\",\"y\":[0.25183677673339844],\"yaxis\":\"y\",\"type\":\"scatter\"},{\"customdata\":[[\"Nikki Singh (Akshay Oberoi) is...\",\"neo-noir\"]],\"hovertemplate\":\"label=%{customdata[1]}\\u003cbr\\u003ex-tsne=%{x}\\u003cbr\\u003ey-tsne=%{y}\\u003cbr\\u003etext=%{customdata[0]}\\u003cextra\\u003e\\u003c\\u002fextra\\u003e\",\"legendgroup\":\"neo-noir\",\"marker\":{\"color\":\"#FECB52\",\"symbol\":\"circle\"},\"mode\":\"markers\",\"name\":\"neo-noir\",\"orientation\":\"v\",\"showlegend\":true,\"x\":[4.744901180267334],\"xaxis\":\"x\",\"y\":[7.285480499267578],\"yaxis\":\"y\",\"type\":\"scatter\"},{\"customdata\":[[\"Harvey Keitel plays an American...\",\"crime drama\"],[\"The drama tells of a...\",\"crime drama\"],[\"With five rival oil companies...\",\"crime drama\"]],\"hovertemplate\":\"label=%{customdata[1]}\\u003cbr\\u003ex-tsne=%{x}\\u003cbr\\u003ey-tsne=%{y}\\u003cbr\\u003etext=%{customdata[0]}\\u003cextra\\u003e\\u003c\\u002fextra\\u003e\",\"legendgroup\":\"crime drama\",\"marker\":{\"color\":\"#636efa\",\"symbol\":\"circle\"},\"mode\":\"markers\",\"name\":\"crime drama\",\"orientation\":\"v\",\"showlegend\":true,\"x\":[-6.652729511260986,-1.8181312084197998,0.2348371297121048],\"xaxis\":\"x\",\"y\":[-5.255837917327881,-4.881434440612793,-0.7114399671554565],\"yaxis\":\"y\",\"type\":\"scatter\"},{\"customdata\":[[\"Ir\\u00e8ne Bordoni is cast as...\",\"musical comedy\"],[\"Flagg (Victor McLaglen) and Quirt...\",\"musical comedy\"]],\"hovertemplate\":\"label=%{customdata[1]}\\u003cbr\\u003ex-tsne=%{x}\\u003cbr\\u003ey-tsne=%{y}\\u003cbr\\u003etext=%{customdata[0]}\\u003cextra\\u003e\\u003c\\u002fextra\\u003e\",\"legendgroup\":\"musical comedy\",\"marker\":{\"color\":\"#EF553B\",\"symbol\":\"circle\"},\"mode\":\"markers\",\"name\":\"musical comedy\",\"orientation\":\"v\",\"showlegend\":true,\"x\":[-5.999197959899902,5.8010125160217285],\"xaxis\":\"x\",\"y\":[-1.0617111921310425,-5.398220539093018],\"yaxis\":\"y\",\"type\":\"scatter\"},{\"customdata\":[[\"This film is about two...\",\"romance, comedy\"]],\"hovertemplate\":\"label=%{customdata[1]}\\u003cbr\\u003ex-tsne=%{x}\\u003cbr\\u003ey-tsne=%{y}\\u003cbr\\u003etext=%{customdata[0]}\\u003cextra\\u003e\\u003c\\u002fextra\\u003e\",\"legendgroup\":\"romance, comedy\",\"marker\":{\"color\":\"#00cc96\",\"symbol\":\"circle\"},\"mode\":\"markers\",\"name\":\"romance, comedy\",\"orientation\":\"v\",\"showlegend\":true,\"x\":[7.216396808624268],\"xaxis\":\"x\",\"y\":[8.729574203491211],\"yaxis\":\"y\",\"type\":\"scatter\"},{\"customdata\":[[\"Cosmo Reif, an affectless mob...\",\"comedy, thriller\"]],\"hovertemplate\":\"label=%{customdata[1]}\\u003cbr\\u003ex-tsne=%{x}\\u003cbr\\u003ey-tsne=%{y}\\u003cbr\\u003etext=%{customdata[0]}\\u003cextra\\u003e\\u003c\\u002fextra\\u003e\",\"legendgroup\":\"comedy, thriller\",\"marker\":{\"color\":\"#ab63fa\",\"symbol\":\"circle\"},\"mode\":\"markers\",\"name\":\"comedy, thriller\",\"orientation\":\"v\",\"showlegend\":true,\"x\":[0.753746509552002],\"xaxis\":\"x\",\"y\":[-0.8986898064613342],\"yaxis\":\"y\",\"type\":\"scatter\"},{\"customdata\":[[\"The film is a retelling...\",\"fantasy\"],[\"Loosely based on the historical...\",\"fantasy\"]],\"hovertemplate\":\"label=%{customdata[1]}\\u003cbr\\u003ex-tsne=%{x}\\u003cbr\\u003ey-tsne=%{y}\\u003cbr\\u003etext=%{customdata[0]}\\u003cextra\\u003e\\u003c\\u002fextra\\u003e\",\"legendgroup\":\"fantasy\",\"marker\":{\"color\":\"#FFA15A\",\"symbol\":\"circle\"},\"mode\":\"markers\",\"name\":\"fantasy\",\"orientation\":\"v\",\"showlegend\":true,\"x\":[-1.996414303779602,-3.6718595027923584],\"xaxis\":\"x\",\"y\":[-6.3573832511901855,5.51345682144165],\"yaxis\":\"y\",\"type\":\"scatter\"},{\"customdata\":[[\"Two escaping killers hide out...\",\"suspense\"]],\"hovertemplate\":\"label=%{customdata[1]}\\u003cbr\\u003ex-tsne=%{x}\\u003cbr\\u003ey-tsne=%{y}\\u003cbr\\u003etext=%{customdata[0]}\\u003cextra\\u003e\\u003c\\u002fextra\\u003e\",\"legendgroup\":\"suspense\",\"marker\":{\"color\":\"#19d3f3\",\"symbol\":\"circle\"},\"mode\":\"markers\",\"name\":\"suspense\",\"orientation\":\"v\",\"showlegend\":true,\"x\":[0.576550304889679],\"xaxis\":\"x\",\"y\":[0.04495728388428688],\"yaxis\":\"y\",\"type\":\"scatter\"},{\"customdata\":[[\"The Kitauji high school concert...\",\"drama, youth, musical, romance, idol\"]],\"hovertemplate\":\"label=%{customdata[1]}\\u003cbr\\u003ex-tsne=%{x}\\u003cbr\\u003ey-tsne=%{y}\\u003cbr\\u003etext=%{customdata[0]}\\u003cextra\\u003e\\u003c\\u002fextra\\u003e\",\"legendgroup\":\"drama, youth, musical, romance, idol\",\"marker\":{\"color\":\"#FF6692\",\"symbol\":\"circle\"},\"mode\":\"markers\",\"name\":\"drama, youth, musical, romance, idol\",\"orientation\":\"v\",\"showlegend\":true,\"x\":[8.250386238098145],\"xaxis\":\"x\",\"y\":[-2.488614082336426],\"yaxis\":\"y\",\"type\":\"scatter\"},{\"customdata\":[[\"Lost & Found is basically...\",\"romance, drama\"],[\"Roanne Sanchez, a young girl...\",\"romance, drama\"]],\"hovertemplate\":\"label=%{customdata[1]}\\u003cbr\\u003ex-tsne=%{x}\\u003cbr\\u003ey-tsne=%{y}\\u003cbr\\u003etext=%{customdata[0]}\\u003cextra\\u003e\\u003c\\u002fextra\\u003e\",\"legendgroup\":\"romance, drama\",\"marker\":{\"color\":\"#B6E880\",\"symbol\":\"circle\"},\"mode\":\"markers\",\"name\":\"romance, drama\",\"orientation\":\"v\",\"showlegend\":true,\"x\":[6.908613204956055,3.185006856918335],\"xaxis\":\"x\",\"y\":[4.401787757873535,-0.6567690968513489],\"yaxis\":\"y\",\"type\":\"scatter\"},{\"customdata\":[[\"This film follows the lead...\",\"action, sci-fi\"]],\"hovertemplate\":\"label=%{customdata[1]}\\u003cbr\\u003ex-tsne=%{x}\\u003cbr\\u003ey-tsne=%{y}\\u003cbr\\u003etext=%{customdata[0]}\\u003cextra\\u003e\\u003c\\u002fextra\\u003e\",\"legendgroup\":\"action, sci-fi\",\"marker\":{\"color\":\"#FF97FF\",\"symbol\":\"circle\"},\"mode\":\"markers\",\"name\":\"action, sci-fi\",\"orientation\":\"v\",\"showlegend\":true,\"x\":[-2.299171209335327],\"xaxis\":\"x\",\"y\":[-5.728867530822754],\"yaxis\":\"y\",\"type\":\"scatter\"},{\"customdata\":[[\"Unlike other Alamo films that...\",\"western, war\"]],\"hovertemplate\":\"label=%{customdata[1]}\\u003cbr\\u003ex-tsne=%{x}\\u003cbr\\u003ey-tsne=%{y}\\u003cbr\\u003etext=%{customdata[0]}\\u003cextra\\u003e\\u003c\\u002fextra\\u003e\",\"legendgroup\":\"western, war\",\"marker\":{\"color\":\"#FECB52\",\"symbol\":\"circle\"},\"mode\":\"markers\",\"name\":\"western, war\",\"orientation\":\"v\",\"showlegend\":true,\"x\":[-7.972168445587158],\"xaxis\":\"x\",\"y\":[-1.6670676469802856],\"yaxis\":\"y\",\"type\":\"scatter\"},{\"customdata\":[[\"A San Francisco earthquake orphan...\",\"comedy drama\"],[\"The story revolves around a...\",\"comedy drama\"]],\"hovertemplate\":\"label=%{customdata[1]}\\u003cbr\\u003ex-tsne=%{x}\\u003cbr\\u003ey-tsne=%{y}\\u003cbr\\u003etext=%{customdata[0]}\\u003cextra\\u003e\\u003c\\u002fextra\\u003e\",\"legendgroup\":\"comedy drama\",\"marker\":{\"color\":\"#636efa\",\"symbol\":\"circle\"},\"mode\":\"markers\",\"name\":\"comedy drama\",\"orientation\":\"v\",\"showlegend\":true,\"x\":[-4.799973487854004,3.4903318881988525],\"xaxis\":\"x\",\"y\":[1.0895768404006958,3.3401811122894287],\"yaxis\":\"y\",\"type\":\"scatter\"},{\"customdata\":[[\"The story line centres on...\",\"musical\"],[\"Big-league baseball players Jerry and...\",\"musical\"],[\"During World War II singer...\",\"musical\"],[\"Bonnie and Connie Jones are...\",\"musical\"]],\"hovertemplate\":\"label=%{customdata[1]}\\u003cbr\\u003ex-tsne=%{x}\\u003cbr\\u003ey-tsne=%{y}\\u003cbr\\u003etext=%{customdata[0]}\\u003cextra\\u003e\\u003c\\u002fextra\\u003e\",\"legendgroup\":\"musical\",\"marker\":{\"color\":\"#EF553B\",\"symbol\":\"circle\"},\"mode\":\"markers\",\"name\":\"musical\",\"orientation\":\"v\",\"showlegend\":true,\"x\":[6.309376239776611,0.7179202437400818,1.4163843393325806,8.496511459350586],\"xaxis\":\"x\",\"y\":[-2.1962859630584717,-2.549861431121826,-5.3953537940979,0.6580538153648376],\"yaxis\":\"y\",\"type\":\"scatter\"},{\"customdata\":[[\"Sets in the 19th century,...\",\"romantic drama\"]],\"hovertemplate\":\"label=%{customdata[1]}\\u003cbr\\u003ex-tsne=%{x}\\u003cbr\\u003ey-tsne=%{y}\\u003cbr\\u003etext=%{customdata[0]}\\u003cextra\\u003e\\u003c\\u002fextra\\u003e\",\"legendgroup\":\"romantic drama\",\"marker\":{\"color\":\"#00cc96\",\"symbol\":\"circle\"},\"mode\":\"markers\",\"name\":\"romantic drama\",\"orientation\":\"v\",\"showlegend\":true,\"x\":[-6.474541187286377],\"xaxis\":\"x\",\"y\":[-2.942376136779785],\"yaxis\":\"y\",\"type\":\"scatter\"},{\"customdata\":[[\"Akashangalil is the story of...\",\"family\"]],\"hovertemplate\":\"label=%{customdata[1]}\\u003cbr\\u003ex-tsne=%{x}\\u003cbr\\u003ey-tsne=%{y}\\u003cbr\\u003etext=%{customdata[0]}\\u003cextra\\u003e\\u003c\\u002fextra\\u003e\",\"legendgroup\":\"family\",\"marker\":{\"color\":\"#ab63fa\",\"symbol\":\"circle\"},\"mode\":\"markers\",\"name\":\"family\",\"orientation\":\"v\",\"showlegend\":true,\"x\":[6.170067310333252],\"xaxis\":\"x\",\"y\":[7.009763240814209],\"yaxis\":\"y\",\"type\":\"scatter\"},{\"customdata\":[[\"Sally Elliott (Rita Hayworth), a...\",\"musical biopic\"]],\"hovertemplate\":\"label=%{customdata[1]}\\u003cbr\\u003ex-tsne=%{x}\\u003cbr\\u003ey-tsne=%{y}\\u003cbr\\u003etext=%{customdata[0]}\\u003cextra\\u003e\\u003c\\u002fextra\\u003e\",\"legendgroup\":\"musical biopic\",\"marker\":{\"color\":\"#FFA15A\",\"symbol\":\"circle\"},\"mode\":\"markers\",\"name\":\"musical biopic\",\"orientation\":\"v\",\"showlegend\":true,\"x\":[-4.1779913902282715],\"xaxis\":\"x\",\"y\":[-1.1218507289886475],\"yaxis\":\"y\",\"type\":\"scatter\"},{\"customdata\":[[\"The Hartford Transcontinental Railroad is...\",\"western serial\"]],\"hovertemplate\":\"label=%{customdata[1]}\\u003cbr\\u003ex-tsne=%{x}\\u003cbr\\u003ey-tsne=%{y}\\u003cbr\\u003etext=%{customdata[0]}\\u003cextra\\u003e\\u003c\\u002fextra\\u003e\",\"legendgroup\":\"western serial\",\"marker\":{\"color\":\"#19d3f3\",\"symbol\":\"circle\"},\"mode\":\"markers\",\"name\":\"western serial\",\"orientation\":\"v\",\"showlegend\":true,\"x\":[-0.8360868692398071],\"xaxis\":\"x\",\"y\":[-1.2850313186645508],\"yaxis\":\"y\",\"type\":\"scatter\"},{\"customdata\":[[\"When Los Angeles' police force...\",\"thriller\"],[\"Frankie Bono, a hitman from...\",\"thriller\"],[\"Two days before Christmas, a...\",\"thriller\"],[\"An old gangster, with a...\",\"thriller\"],[\"Julia Hemingway (Ina Skriver, credited...\",\"thriller\"],[\"This film is about the...\",\"thriller\"],[\"A young woman goes to...\",\"thriller\"],[\"A spirit (\\\"Patrick\\\") haunts a...\",\"thriller\"],[\"The story follows a group...\",\"thriller\"],[\"In a quiet English town,...\",\"thriller\"]],\"hovertemplate\":\"label=%{customdata[1]}\\u003cbr\\u003ex-tsne=%{x}\\u003cbr\\u003ey-tsne=%{y}\\u003cbr\\u003etext=%{customdata[0]}\\u003cextra\\u003e\\u003c\\u002fextra\\u003e\",\"legendgroup\":\"thriller\",\"marker\":{\"color\":\"#FF6692\",\"symbol\":\"circle\"},\"mode\":\"markers\",\"name\":\"thriller\",\"orientation\":\"v\",\"showlegend\":true,\"x\":[-0.3692602813243866,0.5162885785102844,0.13424049317836761,1.2652095556259155,-5.571293354034424,6.795472621917725,2.062938690185547,-2.9553186893463135,-1.388525128364563,-6.864456653594971],\"xaxis\":\"x\",\"y\":[-0.2745901346206665,-0.9360425472259521,6.226827621459961,0.5124559998512268,-2.66896915435791,8.242629051208496,3.94212007522583,0.921127438545227,0.5491731762886047,-0.8108391165733337],\"yaxis\":\"y\",\"type\":\"scatter\"},{\"customdata\":[[\"Hiraasat is an action film,...\",\"action, crime, drama\"]],\"hovertemplate\":\"label=%{customdata[1]}\\u003cbr\\u003ex-tsne=%{x}\\u003cbr\\u003ey-tsne=%{y}\\u003cbr\\u003etext=%{customdata[0]}\\u003cextra\\u003e\\u003c\\u002fextra\\u003e\",\"legendgroup\":\"action, crime, drama\",\"marker\":{\"color\":\"#B6E880\",\"symbol\":\"circle\"},\"mode\":\"markers\",\"name\":\"action, crime, drama\",\"orientation\":\"v\",\"showlegend\":true,\"x\":[6.2599592208862305],\"xaxis\":\"x\",\"y\":[9.67400074005127],\"yaxis\":\"y\",\"type\":\"scatter\"},{\"customdata\":[[\"Tulsi tells the story of...\",\" \"]],\"hovertemplate\":\"label=%{customdata[1]}\\u003cbr\\u003ex-tsne=%{x}\\u003cbr\\u003ey-tsne=%{y}\\u003cbr\\u003etext=%{customdata[0]}\\u003cextra\\u003e\\u003c\\u002fextra\\u003e\",\"legendgroup\":\" \",\"marker\":{\"color\":\"#FF97FF\",\"symbol\":\"circle\"},\"mode\":\"markers\",\"name\":\" \",\"orientation\":\"v\",\"showlegend\":true,\"x\":[5.278049468994141],\"xaxis\":\"x\",\"y\":[8.31495189666748],\"yaxis\":\"y\",\"type\":\"scatter\"},{\"customdata\":[[\"Karthi (Mahesh) is a college...\",\"romantic thriller\"]],\"hovertemplate\":\"label=%{customdata[1]}\\u003cbr\\u003ex-tsne=%{x}\\u003cbr\\u003ey-tsne=%{y}\\u003cbr\\u003etext=%{customdata[0]}\\u003cextra\\u003e\\u003c\\u002fextra\\u003e\",\"legendgroup\":\"romantic thriller\",\"marker\":{\"color\":\"#FECB52\",\"symbol\":\"circle\"},\"mode\":\"markers\",\"name\":\"romantic thriller\",\"orientation\":\"v\",\"showlegend\":true,\"x\":[1.3178452253341675],\"xaxis\":\"x\",\"y\":[7.470613479614258],\"yaxis\":\"y\",\"type\":\"scatter\"},{\"customdata\":[[\"The story revolves around an...\",\"drama, thriller\"]],\"hovertemplate\":\"label=%{customdata[1]}\\u003cbr\\u003ex-tsne=%{x}\\u003cbr\\u003ey-tsne=%{y}\\u003cbr\\u003etext=%{customdata[0]}\\u003cextra\\u003e\\u003c\\u002fextra\\u003e\",\"legendgroup\":\"drama, thriller\",\"marker\":{\"color\":\"#636efa\",\"symbol\":\"circle\"},\"mode\":\"markers\",\"name\":\"drama, thriller\",\"orientation\":\"v\",\"showlegend\":true,\"x\":[2.110506772994995],\"xaxis\":\"x\",\"y\":[2.6377317905426025],\"yaxis\":\"y\",\"type\":\"scatter\"},{\"customdata\":[[\"A bullied teen chef wants...\",\"comedy-drama\"]],\"hovertemplate\":\"label=%{customdata[1]}\\u003cbr\\u003ex-tsne=%{x}\\u003cbr\\u003ey-tsne=%{y}\\u003cbr\\u003etext=%{customdata[0]}\\u003cextra\\u003e\\u003c\\u002fextra\\u003e\",\"legendgroup\":\"comedy-drama\",\"marker\":{\"color\":\"#EF553B\",\"symbol\":\"circle\"},\"mode\":\"markers\",\"name\":\"comedy-drama\",\"orientation\":\"v\",\"showlegend\":true,\"x\":[-0.3954392075538635],\"xaxis\":\"x\",\"y\":[-1.6139752864837646],\"yaxis\":\"y\",\"type\":\"scatter\"},{\"customdata\":[[\"A rivalry develops between veteran...\",\"war\"]],\"hovertemplate\":\"label=%{customdata[1]}\\u003cbr\\u003ex-tsne=%{x}\\u003cbr\\u003ey-tsne=%{y}\\u003cbr\\u003etext=%{customdata[0]}\\u003cextra\\u003e\\u003c\\u002fextra\\u003e\",\"legendgroup\":\"war\",\"marker\":{\"color\":\"#00cc96\",\"symbol\":\"circle\"},\"mode\":\"markers\",\"name\":\"war\",\"orientation\":\"v\",\"showlegend\":true,\"x\":[-8.372621536254883],\"xaxis\":\"x\",\"y\":[-1.7233227491378784],\"yaxis\":\"y\",\"type\":\"scatter\"},{\"customdata\":[[\"In the autumn of 1950,...\",\"drama \\u002f history \\u002f western\"]],\"hovertemplate\":\"label=%{customdata[1]}\\u003cbr\\u003ex-tsne=%{x}\\u003cbr\\u003ey-tsne=%{y}\\u003cbr\\u003etext=%{customdata[0]}\\u003cextra\\u003e\\u003c\\u002fextra\\u003e\",\"legendgroup\":\"drama \\u002f history \\u002f western\",\"marker\":{\"color\":\"#ab63fa\",\"symbol\":\"circle\"},\"mode\":\"markers\",\"name\":\"drama \\u002f history \\u002f western\",\"orientation\":\"v\",\"showlegend\":true,\"x\":[-0.08607849478721619],\"xaxis\":\"x\",\"y\":[-8.527997016906738],\"yaxis\":\"y\",\"type\":\"scatter\"},{\"customdata\":[[\"In a small town, mentally...\",\"dramedy\"],[\"Newly transferred college student Lily...\",\"dramedy\"]],\"hovertemplate\":\"label=%{customdata[1]}\\u003cbr\\u003ex-tsne=%{x}\\u003cbr\\u003ey-tsne=%{y}\\u003cbr\\u003etext=%{customdata[0]}\\u003cextra\\u003e\\u003c\\u002fextra\\u003e\",\"legendgroup\":\"dramedy\",\"marker\":{\"color\":\"#FFA15A\",\"symbol\":\"circle\"},\"mode\":\"markers\",\"name\":\"dramedy\",\"orientation\":\"v\",\"showlegend\":true,\"x\":[-8.358904838562012,6.957373142242432],\"xaxis\":\"x\",\"y\":[-0.11450225114822388,-2.3724710941314697],\"yaxis\":\"y\",\"type\":\"scatter\"},{\"customdata\":[[\"The story of a 10th...\",\"rom com\"]],\"hovertemplate\":\"label=%{customdata[1]}\\u003cbr\\u003ex-tsne=%{x}\\u003cbr\\u003ey-tsne=%{y}\\u003cbr\\u003etext=%{customdata[0]}\\u003cextra\\u003e\\u003c\\u002fextra\\u003e\",\"legendgroup\":\"rom com\",\"marker\":{\"color\":\"#19d3f3\",\"symbol\":\"circle\"},\"mode\":\"markers\",\"name\":\"rom com\",\"orientation\":\"v\",\"showlegend\":true,\"x\":[8.103959083557129],\"xaxis\":\"x\",\"y\":[-0.8829301595687866],\"yaxis\":\"y\",\"type\":\"scatter\"},{\"customdata\":[[\"The plot of the film...\",\"nature\"]],\"hovertemplate\":\"label=%{customdata[1]}\\u003cbr\\u003ex-tsne=%{x}\\u003cbr\\u003ey-tsne=%{y}\\u003cbr\\u003etext=%{customdata[0]}\\u003cextra\\u003e\\u003c\\u002fextra\\u003e\",\"legendgroup\":\"nature\",\"marker\":{\"color\":\"#FF6692\",\"symbol\":\"circle\"},\"mode\":\"markers\",\"name\":\"nature\",\"orientation\":\"v\",\"showlegend\":true,\"x\":[3.121574878692627],\"xaxis\":\"x\",\"y\":[-2.041135787963867],\"yaxis\":\"y\",\"type\":\"scatter\"},{\"customdata\":[[\"The film is a historical...\",\"historical\"]],\"hovertemplate\":\"label=%{customdata[1]}\\u003cbr\\u003ex-tsne=%{x}\\u003cbr\\u003ey-tsne=%{y}\\u003cbr\\u003etext=%{customdata[0]}\\u003cextra\\u003e\\u003c\\u002fextra\\u003e\",\"legendgroup\":\"historical\",\"marker\":{\"color\":\"#B6E880\",\"symbol\":\"circle\"},\"mode\":\"markers\",\"name\":\"historical\",\"orientation\":\"v\",\"showlegend\":true,\"x\":[6.034557342529297],\"xaxis\":\"x\",\"y\":[10.211298942565918],\"yaxis\":\"y\",\"type\":\"scatter\"},{\"customdata\":[[\"The film is about an...\",\"short black comedy\"]],\"hovertemplate\":\"label=%{customdata[1]}\\u003cbr\\u003ex-tsne=%{x}\\u003cbr\\u003ey-tsne=%{y}\\u003cbr\\u003etext=%{customdata[0]}\\u003cextra\\u003e\\u003c\\u002fextra\\u003e\",\"legendgroup\":\"short black comedy\",\"marker\":{\"color\":\"#FF97FF\",\"symbol\":\"circle\"},\"mode\":\"markers\",\"name\":\"short black comedy\",\"orientation\":\"v\",\"showlegend\":true,\"x\":[2.1302907466888428],\"xaxis\":\"x\",\"y\":[1.5386918783187866],\"yaxis\":\"y\",\"type\":\"scatter\"},{\"customdata\":[[\"Agimat (Bong Revilla, Jr.) is...\",\"fantasy, comedy, adventure\"]],\"hovertemplate\":\"label=%{customdata[1]}\\u003cbr\\u003ex-tsne=%{x}\\u003cbr\\u003ey-tsne=%{y}\\u003cbr\\u003etext=%{customdata[0]}\\u003cextra\\u003e\\u003c\\u002fextra\\u003e\",\"legendgroup\":\"fantasy, comedy, adventure\",\"marker\":{\"color\":\"#FECB52\",\"symbol\":\"circle\"},\"mode\":\"markers\",\"name\":\"fantasy, comedy, adventure\",\"orientation\":\"v\",\"showlegend\":true,\"x\":[-0.598549485206604],\"xaxis\":\"x\",\"y\":[-5.229527473449707],\"yaxis\":\"y\",\"type\":\"scatter\"},{\"customdata\":[[\"The film is set in...\",\"biblical\"]],\"hovertemplate\":\"label=%{customdata[1]}\\u003cbr\\u003ex-tsne=%{x}\\u003cbr\\u003ey-tsne=%{y}\\u003cbr\\u003etext=%{customdata[0]}\\u003cextra\\u003e\\u003c\\u002fextra\\u003e\",\"legendgroup\":\"biblical\",\"marker\":{\"color\":\"#636efa\",\"symbol\":\"circle\"},\"mode\":\"markers\",\"name\":\"biblical\",\"orientation\":\"v\",\"showlegend\":true,\"x\":[-3.475602388381958],\"xaxis\":\"x\",\"y\":[5.8280181884765625],\"yaxis\":\"y\",\"type\":\"scatter\"},{\"customdata\":[[\"Hans a young German journalist...\",\"sex comedy\"]],\"hovertemplate\":\"label=%{customdata[1]}\\u003cbr\\u003ex-tsne=%{x}\\u003cbr\\u003ey-tsne=%{y}\\u003cbr\\u003etext=%{customdata[0]}\\u003cextra\\u003e\\u003c\\u002fextra\\u003e\",\"legendgroup\":\"sex comedy\",\"marker\":{\"color\":\"#EF553B\",\"symbol\":\"circle\"},\"mode\":\"markers\",\"name\":\"sex comedy\",\"orientation\":\"v\",\"showlegend\":true,\"x\":[4.633820533752441],\"xaxis\":\"x\",\"y\":[-2.209954261779785],\"yaxis\":\"y\",\"type\":\"scatter\"},{\"customdata\":[[\"Hajj, a rascally beggar on...\",\"costume drama\"]],\"hovertemplate\":\"label=%{customdata[1]}\\u003cbr\\u003ex-tsne=%{x}\\u003cbr\\u003ey-tsne=%{y}\\u003cbr\\u003etext=%{customdata[0]}\\u003cextra\\u003e\\u003c\\u002fextra\\u003e\",\"legendgroup\":\"costume drama\",\"marker\":{\"color\":\"#00cc96\",\"symbol\":\"circle\"},\"mode\":\"markers\",\"name\":\"costume drama\",\"orientation\":\"v\",\"showlegend\":true,\"x\":[-3.3380520343780518],\"xaxis\":\"x\",\"y\":[6.362053871154785],\"yaxis\":\"y\",\"type\":\"scatter\"},{\"customdata\":[[\"After her mother was killed...\",\"action \\u002f comedy\"]],\"hovertemplate\":\"label=%{customdata[1]}\\u003cbr\\u003ex-tsne=%{x}\\u003cbr\\u003ey-tsne=%{y}\\u003cbr\\u003etext=%{customdata[0]}\\u003cextra\\u003e\\u003c\\u002fextra\\u003e\",\"legendgroup\":\"action \\u002f comedy\",\"marker\":{\"color\":\"#ab63fa\",\"symbol\":\"circle\"},\"mode\":\"markers\",\"name\":\"action \\u002f comedy\",\"orientation\":\"v\",\"showlegend\":true,\"x\":[-5.906118869781494],\"xaxis\":\"x\",\"y\":[-3.642989158630371],\"yaxis\":\"y\",\"type\":\"scatter\"},{\"customdata\":[[\"Raised by his Uncle Wu...\",\"fantasy \\u002f adventure\"]],\"hovertemplate\":\"label=%{customdata[1]}\\u003cbr\\u003ex-tsne=%{x}\\u003cbr\\u003ey-tsne=%{y}\\u003cbr\\u003etext=%{customdata[0]}\\u003cextra\\u003e\\u003c\\u002fextra\\u003e\",\"legendgroup\":\"fantasy \\u002f adventure\",\"marker\":{\"color\":\"#FFA15A\",\"symbol\":\"circle\"},\"mode\":\"markers\",\"name\":\"fantasy \\u002f adventure\",\"orientation\":\"v\",\"showlegend\":true,\"x\":[-0.9577596783638],\"xaxis\":\"x\",\"y\":[-6.010948657989502],\"yaxis\":\"y\",\"type\":\"scatter\"},{\"customdata\":[[\"A girl is about to...\",\"adventure, serial\"]],\"hovertemplate\":\"label=%{customdata[1]}\\u003cbr\\u003ex-tsne=%{x}\\u003cbr\\u003ey-tsne=%{y}\\u003cbr\\u003etext=%{customdata[0]}\\u003cextra\\u003e\\u003c\\u002fextra\\u003e\",\"legendgroup\":\"adventure, serial\",\"marker\":{\"color\":\"#19d3f3\",\"symbol\":\"circle\"},\"mode\":\"markers\",\"name\":\"adventure, serial\",\"orientation\":\"v\",\"showlegend\":true,\"x\":[2.5728631019592285],\"xaxis\":\"x\",\"y\":[-2.7530038356781006],\"yaxis\":\"y\",\"type\":\"scatter\"},{\"customdata\":[[\"Crash Landing follows the tense...\",\"action\\u002fthriller\"]],\"hovertemplate\":\"label=%{customdata[1]}\\u003cbr\\u003ex-tsne=%{x}\\u003cbr\\u003ey-tsne=%{y}\\u003cbr\\u003etext=%{customdata[0]}\\u003cextra\\u003e\\u003c\\u002fextra\\u003e\",\"legendgroup\":\"action\\u002fthriller\",\"marker\":{\"color\":\"#FF6692\",\"symbol\":\"circle\"},\"mode\":\"markers\",\"name\":\"action\\u002fthriller\",\"orientation\":\"v\",\"showlegend\":true,\"x\":[0.8708961606025696],\"xaxis\":\"x\",\"y\":[-3.3738532066345215],\"yaxis\":\"y\",\"type\":\"scatter\"},{\"customdata\":[[\"Anand is a major in...\",\"action\"],[\"Sachin Joshi is a Kabaddi...\",\"action\"],[\"Political journalist Jayadev (Meka Srikanth)...\",\"action\"]],\"hovertemplate\":\"label=%{customdata[1]}\\u003cbr\\u003ex-tsne=%{x}\\u003cbr\\u003ey-tsne=%{y}\\u003cbr\\u003etext=%{customdata[0]}\\u003cextra\\u003e\\u003c\\u002fextra\\u003e\",\"legendgroup\":\"action\",\"marker\":{\"color\":\"#B6E880\",\"symbol\":\"circle\"},\"mode\":\"markers\",\"name\":\"action\",\"orientation\":\"v\",\"showlegend\":true,\"x\":[3.5070552825927734,7.2177324295043945,3.337747097015381],\"xaxis\":\"x\",\"y\":[7.956566333770752,6.329514503479004,7.154446601867676],\"yaxis\":\"y\",\"type\":\"scatter\"},{\"customdata\":[[\"A lonely old man who...\",\"literary drama\"]],\"hovertemplate\":\"label=%{customdata[1]}\\u003cbr\\u003ex-tsne=%{x}\\u003cbr\\u003ey-tsne=%{y}\\u003cbr\\u003etext=%{customdata[0]}\\u003cextra\\u003e\\u003c\\u002fextra\\u003e\",\"legendgroup\":\"literary drama\",\"marker\":{\"color\":\"#FF97FF\",\"symbol\":\"circle\"},\"mode\":\"markers\",\"name\":\"literary drama\",\"orientation\":\"v\",\"showlegend\":true,\"x\":[0.34915122389793396],\"xaxis\":\"x\",\"y\":[3.9698028564453125],\"yaxis\":\"y\",\"type\":\"scatter\"},{\"customdata\":[[\"Big Fella is set on...\",\"musical\\u002fdrama\"]],\"hovertemplate\":\"label=%{customdata[1]}\\u003cbr\\u003ex-tsne=%{x}\\u003cbr\\u003ey-tsne=%{y}\\u003cbr\\u003etext=%{customdata[0]}\\u003cextra\\u003e\\u003c\\u002fextra\\u003e\",\"legendgroup\":\"musical\\u002fdrama\",\"marker\":{\"color\":\"#FECB52\",\"symbol\":\"circle\"},\"mode\":\"markers\",\"name\":\"musical\\u002fdrama\",\"orientation\":\"v\",\"showlegend\":true,\"x\":[-3.486755132675171],\"xaxis\":\"x\",\"y\":[-1.3871207237243652],\"yaxis\":\"y\",\"type\":\"scatter\"},{\"customdata\":[[\"In the year 1999, the...\",\"tokusatsu\"]],\"hovertemplate\":\"label=%{customdata[1]}\\u003cbr\\u003ex-tsne=%{x}\\u003cbr\\u003ey-tsne=%{y}\\u003cbr\\u003etext=%{customdata[0]}\\u003cextra\\u003e\\u003c\\u002fextra\\u003e\",\"legendgroup\":\"tokusatsu\",\"marker\":{\"color\":\"#636efa\",\"symbol\":\"circle\"},\"mode\":\"markers\",\"name\":\"tokusatsu\",\"orientation\":\"v\",\"showlegend\":true,\"x\":[2.525773286819458],\"xaxis\":\"x\",\"y\":[-6.251756191253662],\"yaxis\":\"y\",\"type\":\"scatter\"},{\"customdata\":[[\"The story of the film,...\",\"crime\\u002fthriller\"]],\"hovertemplate\":\"label=%{customdata[1]}\\u003cbr\\u003ex-tsne=%{x}\\u003cbr\\u003ey-tsne=%{y}\\u003cbr\\u003etext=%{customdata[0]}\\u003cextra\\u003e\\u003c\\u002fextra\\u003e\",\"legendgroup\":\"crime\\u002fthriller\",\"marker\":{\"color\":\"#EF553B\",\"symbol\":\"circle\"},\"mode\":\"markers\",\"name\":\"crime\\u002fthriller\",\"orientation\":\"v\",\"showlegend\":true,\"x\":[4.650968074798584],\"xaxis\":\"x\",\"y\":[-4.700913906097412],\"yaxis\":\"y\",\"type\":\"scatter\"},{\"customdata\":[[\"Kiira seems like an ordinary...\",\"vampire film\"]],\"hovertemplate\":\"label=%{customdata[1]}\\u003cbr\\u003ex-tsne=%{x}\\u003cbr\\u003ey-tsne=%{y}\\u003cbr\\u003etext=%{customdata[0]}\\u003cextra\\u003e\\u003c\\u002fextra\\u003e\",\"legendgroup\":\"vampire film\",\"marker\":{\"color\":\"#00cc96\",\"symbol\":\"circle\"},\"mode\":\"markers\",\"name\":\"vampire film\",\"orientation\":\"v\",\"showlegend\":true,\"x\":[5.024177551269531],\"xaxis\":\"x\",\"y\":[0.8382809162139893],\"yaxis\":\"y\",\"type\":\"scatter\"},{\"customdata\":[[\"With the human exploitation of...\",\"comedy \\u002f animation \\u002f family \\u002f adventure\"]],\"hovertemplate\":\"label=%{customdata[1]}\\u003cbr\\u003ex-tsne=%{x}\\u003cbr\\u003ey-tsne=%{y}\\u003cbr\\u003etext=%{customdata[0]}\\u003cextra\\u003e\\u003c\\u002fextra\\u003e\",\"legendgroup\":\"comedy \\u002f animation \\u002f family \\u002f adventure\",\"marker\":{\"color\":\"#ab63fa\",\"symbol\":\"circle\"},\"mode\":\"markers\",\"name\":\"comedy \\u002f animation \\u002f family \\u002f adventure\",\"orientation\":\"v\",\"showlegend\":true,\"x\":[2.8036394119262695],\"xaxis\":\"x\",\"y\":[-8.370819091796875],\"yaxis\":\"y\",\"type\":\"scatter\"},{\"customdata\":[[\"New York City law professor...\",\"drama, crime\"]],\"hovertemplate\":\"label=%{customdata[1]}\\u003cbr\\u003ex-tsne=%{x}\\u003cbr\\u003ey-tsne=%{y}\\u003cbr\\u003etext=%{customdata[0]}\\u003cextra\\u003e\\u003c\\u002fextra\\u003e\",\"legendgroup\":\"drama, crime\",\"marker\":{\"color\":\"#FFA15A\",\"symbol\":\"circle\"},\"mode\":\"markers\",\"name\":\"drama, crime\",\"orientation\":\"v\",\"showlegend\":true,\"x\":[-7.296416282653809],\"xaxis\":\"x\",\"y\":[-2.2765135765075684],\"yaxis\":\"y\",\"type\":\"scatter\"}],                        {\"template\":{\"data\":{\"histogram2dcontour\":[{\"type\":\"histogram2dcontour\",\"colorbar\":{\"outlinewidth\":0,\"ticks\":\"\"},\"colorscale\":[[0.0,\"#0d0887\"],[0.1111111111111111,\"#46039f\"],[0.2222222222222222,\"#7201a8\"],[0.3333333333333333,\"#9c179e\"],[0.4444444444444444,\"#bd3786\"],[0.5555555555555556,\"#d8576b\"],[0.6666666666666666,\"#ed7953\"],[0.7777777777777778,\"#fb9f3a\"],[0.8888888888888888,\"#fdca26\"],[1.0,\"#f0f921\"]]}],\"choropleth\":[{\"type\":\"choropleth\",\"colorbar\":{\"outlinewidth\":0,\"ticks\":\"\"}}],\"histogram2d\":[{\"type\":\"histogram2d\",\"colorbar\":{\"outlinewidth\":0,\"ticks\":\"\"},\"colorscale\":[[0.0,\"#0d0887\"],[0.1111111111111111,\"#46039f\"],[0.2222222222222222,\"#7201a8\"],[0.3333333333333333,\"#9c179e\"],[0.4444444444444444,\"#bd3786\"],[0.5555555555555556,\"#d8576b\"],[0.6666666666666666,\"#ed7953\"],[0.7777777777777778,\"#fb9f3a\"],[0.8888888888888888,\"#fdca26\"],[1.0,\"#f0f921\"]]}],\"heatmap\":[{\"type\":\"heatmap\",\"colorbar\":{\"outlinewidth\":0,\"ticks\":\"\"},\"colorscale\":[[0.0,\"#0d0887\"],[0.1111111111111111,\"#46039f\"],[0.2222222222222222,\"#7201a8\"],[0.3333333333333333,\"#9c179e\"],[0.4444444444444444,\"#bd3786\"],[0.5555555555555556,\"#d8576b\"],[0.6666666666666666,\"#ed7953\"],[0.7777777777777778,\"#fb9f3a\"],[0.8888888888888888,\"#fdca26\"],[1.0,\"#f0f921\"]]}],\"heatmapgl\":[{\"type\":\"heatmapgl\",\"colorbar\":{\"outlinewidth\":0,\"ticks\":\"\"},\"colorscale\":[[0.0,\"#0d0887\"],[0.1111111111111111,\"#46039f\"],[0.2222222222222222,\"#7201a8\"],[0.3333333333333333,\"#9c179e\"],[0.4444444444444444,\"#bd3786\"],[0.5555555555555556,\"#d8576b\"],[0.6666666666666666,\"#ed7953\"],[0.7777777777777778,\"#fb9f3a\"],[0.8888888888888888,\"#fdca26\"],[1.0,\"#f0f921\"]]}],\"contourcarpet\":[{\"type\":\"contourcarpet\",\"colorbar\":{\"outlinewidth\":0,\"ticks\":\"\"}}],\"contour\":[{\"type\":\"contour\",\"colorbar\":{\"outlinewidth\":0,\"ticks\":\"\"},\"colorscale\":[[0.0,\"#0d0887\"],[0.1111111111111111,\"#46039f\"],[0.2222222222222222,\"#7201a8\"],[0.3333333333333333,\"#9c179e\"],[0.4444444444444444,\"#bd3786\"],[0.5555555555555556,\"#d8576b\"],[0.6666666666666666,\"#ed7953\"],[0.7777777777777778,\"#fb9f3a\"],[0.8888888888888888,\"#fdca26\"],[1.0,\"#f0f921\"]]}],\"surface\":[{\"type\":\"surface\",\"colorbar\":{\"outlinewidth\":0,\"ticks\":\"\"},\"colorscale\":[[0.0,\"#0d0887\"],[0.1111111111111111,\"#46039f\"],[0.2222222222222222,\"#7201a8\"],[0.3333333333333333,\"#9c179e\"],[0.4444444444444444,\"#bd3786\"],[0.5555555555555556,\"#d8576b\"],[0.6666666666666666,\"#ed7953\"],[0.7777777777777778,\"#fb9f3a\"],[0.8888888888888888,\"#fdca26\"],[1.0,\"#f0f921\"]]}],\"mesh3d\":[{\"type\":\"mesh3d\",\"colorbar\":{\"outlinewidth\":0,\"ticks\":\"\"}}],\"scatter\":[{\"fillpattern\":{\"fillmode\":\"overlay\",\"size\":10,\"solidity\":0.2},\"type\":\"scatter\"}],\"parcoords\":[{\"type\":\"parcoords\",\"line\":{\"colorbar\":{\"outlinewidth\":0,\"ticks\":\"\"}}}],\"scatterpolargl\":[{\"type\":\"scatterpolargl\",\"marker\":{\"colorbar\":{\"outlinewidth\":0,\"ticks\":\"\"}}}],\"bar\":[{\"error_x\":{\"color\":\"#2a3f5f\"},\"error_y\":{\"color\":\"#2a3f5f\"},\"marker\":{\"line\":{\"color\":\"#E5ECF6\",\"width\":0.5},\"pattern\":{\"fillmode\":\"overlay\",\"size\":10,\"solidity\":0.2}},\"type\":\"bar\"}],\"scattergeo\":[{\"type\":\"scattergeo\",\"marker\":{\"colorbar\":{\"outlinewidth\":0,\"ticks\":\"\"}}}],\"scatterpolar\":[{\"type\":\"scatterpolar\",\"marker\":{\"colorbar\":{\"outlinewidth\":0,\"ticks\":\"\"}}}],\"histogram\":[{\"marker\":{\"pattern\":{\"fillmode\":\"overlay\",\"size\":10,\"solidity\":0.2}},\"type\":\"histogram\"}],\"scattergl\":[{\"type\":\"scattergl\",\"marker\":{\"colorbar\":{\"outlinewidth\":0,\"ticks\":\"\"}}}],\"scatter3d\":[{\"type\":\"scatter3d\",\"line\":{\"colorbar\":{\"outlinewidth\":0,\"ticks\":\"\"}},\"marker\":{\"colorbar\":{\"outlinewidth\":0,\"ticks\":\"\"}}}],\"scattermapbox\":[{\"type\":\"scattermapbox\",\"marker\":{\"colorbar\":{\"outlinewidth\":0,\"ticks\":\"\"}}}],\"scatterternary\":[{\"type\":\"scatterternary\",\"marker\":{\"colorbar\":{\"outlinewidth\":0,\"ticks\":\"\"}}}],\"scattercarpet\":[{\"type\":\"scattercarpet\",\"marker\":{\"colorbar\":{\"outlinewidth\":0,\"ticks\":\"\"}}}],\"carpet\":[{\"aaxis\":{\"endlinecolor\":\"#2a3f5f\",\"gridcolor\":\"white\",\"linecolor\":\"white\",\"minorgridcolor\":\"white\",\"startlinecolor\":\"#2a3f5f\"},\"baxis\":{\"endlinecolor\":\"#2a3f5f\",\"gridcolor\":\"white\",\"linecolor\":\"white\",\"minorgridcolor\":\"white\",\"startlinecolor\":\"#2a3f5f\"},\"type\":\"carpet\"}],\"table\":[{\"cells\":{\"fill\":{\"color\":\"#EBF0F8\"},\"line\":{\"color\":\"white\"}},\"header\":{\"fill\":{\"color\":\"#C8D4E3\"},\"line\":{\"color\":\"white\"}},\"type\":\"table\"}],\"barpolar\":[{\"marker\":{\"line\":{\"color\":\"#E5ECF6\",\"width\":0.5},\"pattern\":{\"fillmode\":\"overlay\",\"size\":10,\"solidity\":0.2}},\"type\":\"barpolar\"}],\"pie\":[{\"automargin\":true,\"type\":\"pie\"}]},\"layout\":{\"autotypenumbers\":\"strict\",\"colorway\":[\"#636efa\",\"#EF553B\",\"#00cc96\",\"#ab63fa\",\"#FFA15A\",\"#19d3f3\",\"#FF6692\",\"#B6E880\",\"#FF97FF\",\"#FECB52\"],\"font\":{\"color\":\"#2a3f5f\"},\"hovermode\":\"closest\",\"hoverlabel\":{\"align\":\"left\"},\"paper_bgcolor\":\"white\",\"plot_bgcolor\":\"#E5ECF6\",\"polar\":{\"bgcolor\":\"#E5ECF6\",\"angularaxis\":{\"gridcolor\":\"white\",\"linecolor\":\"white\",\"ticks\":\"\"},\"radialaxis\":{\"gridcolor\":\"white\",\"linecolor\":\"white\",\"ticks\":\"\"}},\"ternary\":{\"bgcolor\":\"#E5ECF6\",\"aaxis\":{\"gridcolor\":\"white\",\"linecolor\":\"white\",\"ticks\":\"\"},\"baxis\":{\"gridcolor\":\"white\",\"linecolor\":\"white\",\"ticks\":\"\"},\"caxis\":{\"gridcolor\":\"white\",\"linecolor\":\"white\",\"ticks\":\"\"}},\"coloraxis\":{\"colorbar\":{\"outlinewidth\":0,\"ticks\":\"\"}},\"colorscale\":{\"sequential\":[[0.0,\"#0d0887\"],[0.1111111111111111,\"#46039f\"],[0.2222222222222222,\"#7201a8\"],[0.3333333333333333,\"#9c179e\"],[0.4444444444444444,\"#bd3786\"],[0.5555555555555556,\"#d8576b\"],[0.6666666666666666,\"#ed7953\"],[0.7777777777777778,\"#fb9f3a\"],[0.8888888888888888,\"#fdca26\"],[1.0,\"#f0f921\"]],\"sequentialminus\":[[0.0,\"#0d0887\"],[0.1111111111111111,\"#46039f\"],[0.2222222222222222,\"#7201a8\"],[0.3333333333333333,\"#9c179e\"],[0.4444444444444444,\"#bd3786\"],[0.5555555555555556,\"#d8576b\"],[0.6666666666666666,\"#ed7953\"],[0.7777777777777778,\"#fb9f3a\"],[0.8888888888888888,\"#fdca26\"],[1.0,\"#f0f921\"]],\"diverging\":[[0,\"#8e0152\"],[0.1,\"#c51b7d\"],[0.2,\"#de77ae\"],[0.3,\"#f1b6da\"],[0.4,\"#fde0ef\"],[0.5,\"#f7f7f7\"],[0.6,\"#e6f5d0\"],[0.7,\"#b8e186\"],[0.8,\"#7fbc41\"],[0.9,\"#4d9221\"],[1,\"#276419\"]]},\"xaxis\":{\"gridcolor\":\"white\",\"linecolor\":\"white\",\"ticks\":\"\",\"title\":{\"standoff\":15},\"zerolinecolor\":\"white\",\"automargin\":true,\"zerolinewidth\":2},\"yaxis\":{\"gridcolor\":\"white\",\"linecolor\":\"white\",\"ticks\":\"\",\"title\":{\"standoff\":15},\"zerolinecolor\":\"white\",\"automargin\":true,\"zerolinewidth\":2},\"scene\":{\"xaxis\":{\"backgroundcolor\":\"#E5ECF6\",\"gridcolor\":\"white\",\"linecolor\":\"white\",\"showbackground\":true,\"ticks\":\"\",\"zerolinecolor\":\"white\",\"gridwidth\":2},\"yaxis\":{\"backgroundcolor\":\"#E5ECF6\",\"gridcolor\":\"white\",\"linecolor\":\"white\",\"showbackground\":true,\"ticks\":\"\",\"zerolinecolor\":\"white\",\"gridwidth\":2},\"zaxis\":{\"backgroundcolor\":\"#E5ECF6\",\"gridcolor\":\"white\",\"linecolor\":\"white\",\"showbackground\":true,\"ticks\":\"\",\"zerolinecolor\":\"white\",\"gridwidth\":2}},\"shapedefaults\":{\"line\":{\"color\":\"#2a3f5f\"}},\"annotationdefaults\":{\"arrowcolor\":\"#2a3f5f\",\"arrowhead\":0,\"arrowwidth\":1},\"geo\":{\"bgcolor\":\"white\",\"landcolor\":\"#E5ECF6\",\"subunitcolor\":\"white\",\"showland\":true,\"showlakes\":true,\"lakecolor\":\"white\"},\"title\":{\"x\":0.05},\"mapbox\":{\"style\":\"light\"}}},\"xaxis\":{\"anchor\":\"y\",\"domain\":[0.0,1.0],\"title\":{\"text\":\"x-tsne\"}},\"yaxis\":{\"anchor\":\"x\",\"domain\":[0.0,1.0],\"title\":{\"text\":\"y-tsne\"}},\"legend\":{\"title\":{\"text\":\"label\"},\"tracegroupgap\":0},\"title\":{\"text\":\"Sentences t-SNE Visualization with Fasttext Embeddings\"},\"height\":1200,\"width\":1200},                        {\"responsive\": true}                    ).then(function(){\n",
       "                            \n",
       "var gd = document.getElementById('637c4ced-9194-40a7-b041-7c9422cf58fe');\n",
       "var x = new MutationObserver(function (mutations, observer) {{\n",
       "        var display = window.getComputedStyle(gd).display;\n",
       "        if (!display || display === 'none') {{\n",
       "            console.log([gd, 'removed!']);\n",
       "            Plotly.purge(gd);\n",
       "            observer.disconnect();\n",
       "        }}\n",
       "}});\n",
       "\n",
       "// Listen for the removal of the full notebook cells\n",
       "var notebookContainer = gd.closest('#notebook-container');\n",
       "if (notebookContainer) {{\n",
       "    x.observe(notebookContainer, {childList: true});\n",
       "}}\n",
       "\n",
       "// Listen for the clearing of the current output cell\n",
       "var outputEl = gd.closest('.output');\n",
       "if (outputEl) {{\n",
       "    x.observe(outputEl, {childList: true});\n",
       "}}\n",
       "\n",
       "                        })                };                });            </script>        </div>"
      ]
     },
     "metadata": {},
     "output_type": "display_data"
    }
   ],
   "source": [
    "# Create interactive scatter plot\n",
    "fig = px.scatter(\n",
    "    ft_df, x='x-tsne', y='y-tsne', color='label',\n",
    "    hover_data={'text': True, 'label': True},\n",
    "    title='Sentences t-SNE Visualization with Fasttext Embeddings', width=1200, height=1200\n",
    ")\n",
    "\n",
    "# Show plot\n",
    "fig.show()"
   ]
  },
  {
   "cell_type": "markdown",
   "metadata": {},
   "source": [
    "### TF-IDF"
   ]
  },
  {
   "cell_type": "code",
   "execution_count": 14,
   "metadata": {},
   "outputs": [],
   "source": [
    "vectorizer = TfidfVectorizer(max_features=300)"
   ]
  },
  {
   "cell_type": "code",
   "execution_count": 16,
   "metadata": {},
   "outputs": [
    {
     "name": "stdout",
     "output_type": "stream",
     "text": [
      " Shape of the TF-IDF matrix: (300, 300)\n"
     ]
    }
   ],
   "source": [
    "tfidf_df = df.copy()\n",
    "\n",
    "X = vectorizer.fit_transform(tfidf_df[\"cleaned_text\"])\n",
    "print(f\" Shape of the TF-IDF matrix: {X.shape}\")\n",
    "\n",
    "tfidf_df[\"embeddings\"] = [X[i].toarray()[0] for i in range(X.shape[0])]\n",
    "\n",
    "tfidf_emb_arr = np.array(tfidf_df['embeddings'].tolist())"
   ]
  },
  {
   "cell_type": "code",
   "execution_count": 20,
   "metadata": {},
   "outputs": [
    {
     "data": {
      "application/vnd.plotly.v1+json": {
       "config": {
        "plotlyServerURL": "https://plot.ly"
       },
       "data": [
        {
         "customdata": [
          [
           "The film tells the story.........",
           "film noir"
          ],
          [
           "A psychoanalyst and his young.........",
           "film noir"
          ],
          [
           "The film is set in.........",
           "film noir"
          ],
          [
           "Convict Van Duff is the.........",
           "film noir"
          ],
          [
           "Rosalind Dee (DeCarlo) is a.........",
           "film noir"
          ],
          [
           "Con man Rick Maxon (Payne).........",
           "film noir"
          ]
         ],
         "hovertemplate": "label=%{customdata[1]}<br>x-tsne=%{x}<br>y-tsne=%{y}<br>text=%{customdata[0]}<extra></extra>",
         "legendgroup": "film noir",
         "marker": {
          "color": "#636efa",
          "symbol": "circle"
         },
         "mode": "markers",
         "name": "film noir",
         "orientation": "v",
         "showlegend": true,
         "type": "scatter",
         "x": [
          1.1554052829742432,
          19.286849975585938,
          5.272614002227783,
          12.004380226135254,
          -8.31869125366211,
          -12.014385223388672
         ],
         "xaxis": "x",
         "y": [
          11.794929504394531,
          1.3869383335113525,
          -3.2568674087524414,
          -16.150901794433594,
          -12.611530303955078,
          -3.8488504886627197
         ],
         "yaxis": "y"
        },
        {
         "customdata": [
          [
           "The eventful life of Swami.........",
           "biography"
          ],
          [
           "Raised on a sharecropping plantation.........",
           "biography"
          ]
         ],
         "hovertemplate": "label=%{customdata[1]}<br>x-tsne=%{x}<br>y-tsne=%{y}<br>text=%{customdata[0]}<extra></extra>",
         "legendgroup": "biography",
         "marker": {
          "color": "#EF553B",
          "symbol": "circle"
         },
         "mode": "markers",
         "name": "biography",
         "orientation": "v",
         "showlegend": true,
         "type": "scatter",
         "x": [
          -3.541018486022949,
          -0.34941792488098145
         ],
         "xaxis": "x",
         "y": [
          9.219606399536133,
          -14.547322273254395
         ],
         "yaxis": "y"
        },
        {
         "customdata": [
          [
           "Jagathalaprathapan is a prince who.........",
           "unknown"
          ],
          [
           "The story is about two.........",
           "unknown"
          ],
          [
           "In 1962, South Korea. Kang.........",
           "unknown"
          ],
          [
           "Vani Viswanath plays the central.........",
           "unknown"
          ],
          [
           "3000 years ago, the Vader.........",
           "unknown"
          ],
          [
           "An orphan girl, named Bindu.........",
           "unknown"
          ],
          [
           "Stand-up-comedian Nikita Kolesnikov (Danila Kozlovsky).........",
           "unknown"
          ],
          [
           "Claire of the Moon is.........",
           "unknown"
          ],
          [
           "Joseph is a mentally retarded.........",
           "unknown"
          ],
          [
           "Balu (Vijayakumar) and Padma (Manjula.........",
           "unknown"
          ],
          [
           "On the run from the.........",
           "unknown"
          ],
          [
           "A man visits a happy.........",
           "unknown"
          ],
          [
           "In 1983 KBS launched a.........",
           "unknown"
          ],
          [
           "Rahul (Ramankanth) sees a concert.........",
           "unknown"
          ],
          [
           "Rolex (Prakash Raj) is a.........",
           "unknown"
          ],
          [
           "A young sculptor searches for.........",
           "unknown"
          ],
          [
           "Joan (Purviance) and Magdalen (Sothern).........",
           "unknown"
          ],
          [
           "Indie musician Dong-hoon and cartoonist.........",
           "unknown"
          ],
          [
           "The story tells about Ching.........",
           "unknown"
          ],
          [
           "A former agent from the.........",
           "unknown"
          ],
          [
           "An earthquake releases a bunch.........",
           "unknown"
          ],
          [
           "Nine people from around the.........",
           "unknown"
          ],
          [
           "The film takes place in.........",
           "unknown"
          ],
          [
           "Dharma (Anandaraj) is an auto.........",
           "unknown"
          ],
          [
           "Arjun lives in a village..........",
           "unknown"
          ],
          [
           "The story of the film.........",
           "unknown"
          ],
          [
           "Chu Liuxiang is having drinks.........",
           "unknown"
          ],
          [
           "Soo-nam is a poor woman.........",
           "unknown"
          ],
          [
           "Vijay (R. Sarathkumar) and Seetha.........",
           "unknown"
          ],
          [
           "Vivek is a wanted criminal.........",
           "unknown"
          ],
          [
           "Gopal (M.G.R.) is an honest.........",
           "unknown"
          ],
          [
           "This film is about the.........",
           "unknown"
          ],
          [
           "The story is a family.........",
           "unknown"
          ],
          [
           "Kumar is a young and.........",
           "unknown"
          ],
          [
           "Twice widowed, Pilnyeo vows never.........",
           "unknown"
          ],
          [
           "A new teacher organizes a.........",
           "unknown"
          ],
          [
           "In the 1930s, Teresa (Buday).........",
           "unknown"
          ],
          [
           "In the year 1999, the.........",
           "unknown"
          ],
          [
           "The film is based on.........",
           "unknown"
          ],
          [
           "Jin-hong is a prosecutor who.........",
           "unknown"
          ],
          [
           "Kumar, a graduate who decides.........",
           "unknown"
          ],
          [
           "The story revolves around a.........",
           "unknown"
          ],
          [
           "A genius sculptor Joon-goo (Park.........",
           "unknown"
          ],
          [
           "Russian general Marenkov (Robert Shaw).........",
           "unknown"
          ],
          [
           "Rakta Bandhan is a family.........",
           "unknown"
          ],
          [
           "Louisa Gould (Jenny Seagrove) hides.........",
           "unknown"
          ],
          [
           "Marappan (Anandaraj) is the rebel.........",
           "unknown"
          ],
          [
           "The spouses Alec and Zoey,.........",
           "unknown"
          ],
          [
           "After the execution of Kattabomman.........",
           "unknown"
          ],
          [
           "Alli (Manorama) a veritable jungle.........",
           "unknown"
          ],
          [
           "The film takes place in.........",
           "unknown"
          ],
          [
           "Raja is a 10-year-old tourist.........",
           "unknown"
          ],
          [
           "Rajini's parents are killed by.........",
           "unknown"
          ],
          [
           "Pudhayal was about imaginary gold.........",
           "unknown"
          ],
          [
           "Kaalia is an action flick.........",
           "unknown"
          ],
          [
           "Seven young freedom fighters, heavily.........",
           "unknown"
          ],
          [
           "The story revolves around a.........",
           "unknown"
          ],
          [
           "Jung-woo is a film director.........",
           "unknown"
          ],
          [
           "The story revolves around a.........",
           "unknown"
          ],
          [
           "Handsome and fairly good-looking Anil.........",
           "unknown"
          ],
          [
           "While on a trip to.........",
           "unknown"
          ],
          [
           "The story centres on the.........",
           "unknown"
          ],
          [
           "Two persons namely Ajay and.........",
           "unknown"
          ],
          [
           "Story of a corpse being.........",
           "unknown"
          ],
          [
           "The film revolves around the.........",
           "unknown"
          ],
          [
           "Anand (Shivrajkumar) was nicknamed \"Kaddipudi\".........",
           "unknown"
          ],
          [
           "Vijay (MGR), a carefree and.........",
           "unknown"
          ],
          [
           "A man loses his memory.........",
           "unknown"
          ],
          [
           "The film tells the story.........",
           "unknown"
          ]
         ],
         "hovertemplate": "label=%{customdata[1]}<br>x-tsne=%{x}<br>y-tsne=%{y}<br>text=%{customdata[0]}<extra></extra>",
         "legendgroup": "unknown",
         "marker": {
          "color": "#00cc96",
          "symbol": "circle"
         },
         "mode": "markers",
         "name": "unknown",
         "orientation": "v",
         "showlegend": true,
         "type": "scatter",
         "x": [
          -0.23735962808132172,
          -7.386903285980225,
          -12.202765464782715,
          15.05556869506836,
          -7.055501461029053,
          -10.39400577545166,
          -5.0906243324279785,
          2.8684287071228027,
          10.170613288879395,
          -15.503911972045898,
          -21.36316680908203,
          -9.69793701171875,
          3.063704013824463,
          -14.818196296691895,
          -16.358970642089844,
          -7.330031871795654,
          -6.5487589836120605,
          -6.2333526611328125,
          -1.4639328718185425,
          3.7326910495758057,
          -7.655555725097656,
          12.167933464050293,
          -1.1446715593338013,
          13.989282608032227,
          -18.440351486206055,
          1.7637526988983154,
          -3.315253257751465,
          12.269396781921387,
          -16.090089797973633,
          3.2667386531829834,
          -10.19206714630127,
          -16.987112045288086,
          -7.010389804840088,
          -16.882091522216797,
          -7.492591381072998,
          -12.01499080657959,
          5.073230743408203,
          -5.860143661499023,
          -1.214135766029358,
          -2.6403510570526123,
          7.482719898223877,
          15.165557861328125,
          3.766108512878418,
          11.590006828308105,
          -10.876293182373047,
          2.1884727478027344,
          -20.124380111694336,
          -4.952273845672607,
          20.305490493774414,
          -16.77413558959961,
          16.791183471679688,
          -4.393986701965332,
          -6.176675796508789,
          17.020170211791992,
          14.797677993774414,
          -6.736739158630371,
          8.207488059997559,
          13.646707534790039,
          -9.42832088470459,
          14.016322135925293,
          -9.435501098632812,
          14.041516304016113,
          14.198745727539062,
          11.889915466308594,
          -8.937294960021973,
          -1.5649933815002441,
          -16.189043045043945,
          1.2565631866455078,
          3.4088754653930664
         ],
         "xaxis": "x",
         "y": [
          -19.202499389648438,
          13.995339393615723,
          -9.874470710754395,
          -4.172256946563721,
          -19.53999137878418,
          6.247211456298828,
          -4.8028950691223145,
          -8.850998878479004,
          -7.565408706665039,
          3.098602294921875,
          -8.674627304077148,
          4.870395660400391,
          12.234879493713379,
          -3.690861463546753,
          4.735386848449707,
          4.619071960449219,
          0.12208619713783264,
          -5.7811360359191895,
          -3.5266997814178467,
          12.754344940185547,
          -19.105449676513672,
          17.273181915283203,
          13.32758617401123,
          -6.725497722625732,
          -2.379767656326294,
          18.824113845825195,
          1.9817144870758057,
          10.865334510803223,
          1.8099311590194702,
          -13.926057815551758,
          -2.2505264282226562,
          6.525848865509033,
          10.283554077148438,
          5.021002769470215,
          0.00371762877330184,
          -9.738265037536621,
          -16.00794792175293,
          -21.52161979675293,
          8.974275588989258,
          -4.082107067108154,
          14.5446195602417,
          -14.121630668640137,
          11.234885215759277,
          -16.63235855102539,
          16.9433650970459,
          14.347306251525879,
          -2.6685361862182617,
          -7.523962497711182,
          6.397367477416992,
          -9.47484016418457,
          6.046688079833984,
          -10.566264152526855,
          2.3132550716400146,
          -8.739216804504395,
          -10.659797668457031,
          5.361155033111572,
          -0.3756110370159149,
          10.484228134155273,
          9.08602523803711,
          -10.242088317871094,
          -1.5923256874084473,
          -2.585969924926758,
          1.5389724969863892,
          9.06200122833252,
          8.598322868347168,
          5.2796854972839355,
          1.643870234489441,
          -15.41646671295166,
          5.992099761962891
         ],
         "yaxis": "y"
        },
        {
         "customdata": [
          [
           "Police inspector Holloway (Patrick Wymark).........",
           "mystery"
          ],
          [
           "The story of the film.........",
           "mystery"
          ],
          [
           "A blind detective, Duncan Maclain,.........",
           "mystery"
          ],
          [
           "Nick and Nora Charles are.........",
           "mystery"
          ],
          [
           "When infamous jewel thief Flambeau.........",
           "mystery"
          ],
          [
           "It is of the Jack.........",
           "mystery"
          ]
         ],
         "hovertemplate": "label=%{customdata[1]}<br>x-tsne=%{x}<br>y-tsne=%{y}<br>text=%{customdata[0]}<extra></extra>",
         "legendgroup": "mystery",
         "marker": {
          "color": "#ab63fa",
          "symbol": "circle"
         },
         "mode": "markers",
         "name": "mystery",
         "orientation": "v",
         "showlegend": true,
         "type": "scatter",
         "x": [
          15.155308723449707,
          0.5361200571060181,
          9.263174057006836,
          -1.896623969078064,
          -0.14486974477767944,
          20.012020111083984
         ],
         "xaxis": "x",
         "y": [
          0.8698877692222595,
          6.62352180480957,
          3.7044169902801514,
          -9.311887741088867,
          -6.808823108673096,
          3.8034486770629883
         ],
         "yaxis": "y"
        },
        {
         "customdata": [
          [
           "Lewis and Clark and George.........",
           "drama"
          ],
          [
           "Oliver's mother, a penniless outcast,.........",
           "drama"
          ],
          [
           "Reverend Smith has arrived in.........",
           "drama"
          ],
          [
           "Following the plot of the.........",
           "drama"
          ],
          [
           "The film is a story.........",
           "drama"
          ],
          [
           "Byron Levin works in a.........",
           "drama"
          ],
          [
           "This film is about a.........",
           "drama"
          ],
          [
           "Bok-nyeo, a mentally handicapped woman,.........",
           "drama"
          ],
          [
           "The film is an account.........",
           "drama"
          ],
          [
           "A crime reporter, assisted by.........",
           "drama"
          ],
          [
           "Marianne (Greta Garbo) is a.........",
           "drama"
          ],
          [
           "Shane O'Shea is a young.........",
           "drama"
          ],
          [
           "Italian aristocrat Angela Chiaromonte (Helen.........",
           "drama"
          ],
          [
           "Dhag is the story of.........",
           "drama"
          ],
          [
           "A Mighty Heart is a.........",
           "drama"
          ],
          [
           "The film is an examination.........",
           "drama"
          ],
          [
           "Gloria Cole and Eddie Swenson.........",
           "drama"
          ],
          [
           "The film is about an.........",
           "drama"
          ],
          [
           "Chaiti is a young beautiful.........",
           "drama"
          ],
          [
           "Fontaine Khaled is the London.........",
           "drama"
          ],
          [
           "California gubernatorial candidate Burton (Lyon).........",
           "drama"
          ],
          [
           "A 12-year old young boy.........",
           "drama"
          ],
          [
           "Rie and Nao own a.........",
           "drama"
          ],
          [
           "The film stars Harry Connick.........",
           "drama"
          ],
          [
           "In 1964, inmate Charlie Forsythe.........",
           "drama"
          ],
          [
           "Three teenage boys in small-town.........",
           "drama"
          ],
          [
           "Taglines: \"Being a girl is.........",
           "drama"
          ],
          [
           "Newland Archer is engaged to.........",
           "drama"
          ],
          [
           "The Philippines, 1972. Mysterious things.........",
           "drama"
          ],
          [
           "Set in Alexandria in 1938,.........",
           "drama"
          ],
          [
           "The film is set in.........",
           "drama"
          ],
          [
           "Michael Walsh, a husband and.........",
           "drama"
          ],
          [
           "The film revolves around an.........",
           "drama"
          ],
          [
           "Big Bad Love shares its.........",
           "drama"
          ],
          [
           "Ten-year-old Bobby (Frankie Thomas) and.........",
           "drama"
          ],
          [
           "Brinda (Sindhu Tolani) is an.........",
           "drama"
          ],
          [
           "A mysterious killer, known only.........",
           "drama"
          ],
          [
           "Omar Sharif plays Muhassab, headman.........",
           "drama"
          ],
          [
           "A young Lakota Sioux (Lou.........",
           "drama"
          ],
          [
           "Hikaru Oshiro, noticing that there.........",
           "drama"
          ],
          [
           "Chuck Wheeler is released from.........",
           "drama"
          ],
          [
           "Leslie is a troubled 1960s.........",
           "drama"
          ],
          [
           "In Renaissance Florence, a Florentine.........",
           "drama"
          ],
          [
           "\"Illustrated Press\" society editor Lorelei.........",
           "drama"
          ],
          [
           "Spanning nearly 20 years from.........",
           "drama"
          ],
          [
           "A young construction worker rams.........",
           "drama"
          ],
          [
           "Teenager Jackie Knowles (Richard Attenborough).........",
           "drama"
          ],
          [
           "In a desperate attempt to.........",
           "drama"
          ],
          [
           "The first act of the.........",
           "drama"
          ],
          [
           "In Wilmington, Delaware, Anna Thompson.........",
           "drama"
          ],
          [
           "While in a restaurant, Carla.........",
           "drama"
          ],
          [
           "In the middle of a.........",
           "drama"
          ],
          [
           "Chad (Jimmie Rodgers) is a.........",
           "drama"
          ],
          [
           "Midget George Wilson pulls strings.........",
           "drama"
          ],
          [
           "In the remote and undeveloped.........",
           "drama"
          ],
          [
           "The film is about Jamie,.........",
           "drama"
          ],
          [
           "Jean Paurel is a famous.........",
           "drama"
          ],
          [
           "Napoleon Bonaparte (Charles Boyer) launches.........",
           "drama"
          ],
          [
           "Four friends go on a.........",
           "drama"
          ]
         ],
         "hovertemplate": "label=%{customdata[1]}<br>x-tsne=%{x}<br>y-tsne=%{y}<br>text=%{customdata[0]}<extra></extra>",
         "legendgroup": "drama",
         "marker": {
          "color": "#FFA15A",
          "symbol": "circle"
         },
         "mode": "markers",
         "name": "drama",
         "orientation": "v",
         "showlegend": true,
         "type": "scatter",
         "x": [
          -11.44797420501709,
          -9.236103057861328,
          -12.503375053405762,
          8.482593536376953,
          -5.4723920822143555,
          -11.979679107666016,
          8.059215545654297,
          4.261369705200195,
          -2.9834680557250977,
          -11.334671974182129,
          6.859381198883057,
          1.0256983041763306,
          4.25441312789917,
          -7.7899627685546875,
          -17.885517120361328,
          -1.899875283241272,
          3.796139717102051,
          4.0405354499816895,
          7.811325550079346,
          3.9577393531799316,
          2.1203315258026123,
          -8.618443489074707,
          4.809753894805908,
          -4.680099964141846,
          14.49671459197998,
          10.833749771118164,
          -12.979239463806152,
          20.50084114074707,
          8.74201774597168,
          21.012163162231445,
          12.730053901672363,
          -12.483210563659668,
          -9.745280265808105,
          -6.205898284912109,
          -15.22735595703125,
          -4.822111129760742,
          18.490062713623047,
          1.6528500318527222,
          -7.750223159790039,
          -12.105367660522461,
          13.238537788391113,
          -11.743583679199219,
          -12.79057502746582,
          13.400392532348633,
          1.1774556636810303,
          -11.869987487792969,
          18.46133041381836,
          -1.976441740989685,
          -1.8930878639221191,
          -1.8997834920883179,
          -10.851694107055664,
          7.42645263671875,
          5.467660903930664,
          -12.735422134399414,
          -8.607973098754883,
          4.093108177185059,
          9.526034355163574,
          0.6173951625823975,
          12.253113746643066
         ],
         "xaxis": "x",
         "y": [
          -17.965883255004883,
          -4.673600673675537,
          -0.9853596091270447,
          15.923720359802246,
          3.231205940246582,
          -5.806525707244873,
          11.934697151184082,
          -14.509651184082031,
          9.295942306518555,
          13.339762687683105,
          8.037631034851074,
          -4.039414882659912,
          15.007232666015625,
          -3.5769002437591553,
          -11.716373443603516,
          16.609941482543945,
          -0.9477056264877319,
          19.06611442565918,
          -6.234376430511475,
          9.753337860107422,
          -11.982067108154297,
          -7.381900787353516,
          5.709900379180908,
          -11.346323013305664,
          -13.614823341369629,
          7.058010101318359,
          -12.234997749328613,
          -6.543358325958252,
          10.293951988220215,
          6.457920551300049,
          15.916096687316895,
          3.7539846897125244,
          5.851813316345215,
          9.03226375579834,
          -5.817254543304443,
          -15.574417114257812,
          2.146355628967285,
          4.192938327789307,
          -3.1526737213134766,
          -12.53127384185791,
          -14.166797637939453,
          8.003701210021973,
          6.944995880126953,
          2.3638064861297607,
          14.618690490722656,
          -4.832376956939697,
          -3.788109302520752,
          -12.29202651977539,
          16.836849212646484,
          -17.814796447753906,
          -9.004162788391113,
          -4.086358070373535,
          16.804067611694336,
          -17.94129753112793,
          -7.980990886688232,
          -6.370029449462891,
          3.84134840965271,
          -12.035140037536621,
          0.8702974319458008
         ],
         "yaxis": "y"
        },
        {
         "customdata": [
          [
           "In a British TV studio,.........",
           "comedy"
          ],
          [
           "Neil John Samuel is a.........",
           "comedy"
          ],
          [
           "Young sci-fi/fantasy enthusiast Gavin Gore.........",
           "comedy"
          ],
          [
           "A popular dance hall girl,.........",
           "comedy"
          ],
          [
           "Mordecai C. Jones (Scott) –.........",
           "comedy"
          ],
          [
           "Flesh (Vince Murdocco) is kidnapped.........",
           "comedy"
          ],
          [
           "Two best friends who live.........",
           "comedy"
          ],
          [
           "Curry and Pepper are two.........",
           "comedy"
          ],
          [
           "Set in the austere post–World.........",
           "comedy"
          ],
          [
           "Molly Gilbert won't accept a.........",
           "comedy"
          ],
          [
           "Bumbling cop Chatur Singh (Sanjay.........",
           "comedy"
          ],
          [
           "Hardy plays Dr. Henry Tibbett,.........",
           "comedy"
          ],
          [
           "After discovering that her state.........",
           "comedy"
          ],
          [
           "Struggling young actress Jenny (Marjorie.........",
           "comedy"
          ],
          [
           "In every port, sailor Bill,.........",
           "comedy"
          ],
          [
           "Hong Deok-Ja continues to run.........",
           "comedy"
          ],
          [
           "The film tells the story.........",
           "comedy"
          ],
          [
           "After Joe Huggett loses his.........",
           "comedy"
          ],
          [
           "Eric Wainwright (Van Johnson), a.........",
           "comedy"
          ],
          [
           "Kevin Agar is a Carlton-based.........",
           "comedy"
          ],
          [
           "Restaurant owner Dylan Ramsey (David.........",
           "comedy"
          ],
          [
           "Jerry McGuire (William Collier Jr.).........",
           "comedy"
          ],
          [
           "Two college girls, Ducky and.........",
           "comedy"
          ],
          [
           "The film's slight storyline concerns.........",
           "comedy"
          ],
          [
           "A simple handyman, who also.........",
           "comedy"
          ],
          [
           "The film tells the story.........",
           "comedy"
          ],
          [
           "In a Mexican nightclub, some.........",
           "comedy"
          ],
          [
           "Officers throw an extravagant party.........",
           "comedy"
          ],
          [
           "Nick (Niven) is the supposed.........",
           "comedy"
          ],
          [
           "Chandrabose (Mohanlal) whose wife's (Meera.........",
           "comedy"
          ],
          [
           "On board an ocean liner.........",
           "comedy"
          ],
          [
           "The boys are involved in.........",
           "comedy"
          ],
          [
           "The Rogers family visit Blackpool.........",
           "comedy"
          ],
          [
           "The young filmmaker Timothy (Jonathan.........",
           "comedy"
          ],
          [
           "Small-fry marijuana harvesters in Northern.........",
           "comedy"
          ],
          [
           "The Chain tells the story.........",
           "comedy"
          ],
          [
           "The title character is Victor.........",
           "comedy"
          ],
          [
           "Harry England (Michael Crawford), a.........",
           "comedy"
          ],
          [
           "In Shanghai, Madeleine Linden is.........",
           "comedy"
          ],
          [
           "Andy (Lee Bowman) and Janie.........",
           "comedy"
          ],
          [
           "A small Midwestern town is.........",
           "comedy"
          ],
          [
           "Leonard Maltin: \"Cute comic mystery............",
           "comedy"
          ],
          [
           "The film plays out with.........",
           "comedy"
          ],
          [
           "Two sailors are conned into.........",
           "comedy"
          ],
          [
           "The movie is about Ilangovan.........",
           "comedy"
          ],
          [
           "Alvin Roberts (Lee Tracy) feuds.........",
           "comedy"
          ],
          [
           "Stephanie (Lyn Wilde) and Terry.........",
           "comedy"
          ],
          [
           "The young brother of two.........",
           "comedy"
          ],
          [
           "Jennie Hagan (Swanson) is a.........",
           "comedy"
          ],
          [
           "Banerjee stars as Ram Das,.........",
           "comedy"
          ],
          [
           "Gracie (Fields) and Laurie (Dolman).........",
           "comedy"
          ]
         ],
         "hovertemplate": "label=%{customdata[1]}<br>x-tsne=%{x}<br>y-tsne=%{y}<br>text=%{customdata[0]}<extra></extra>",
         "legendgroup": "comedy",
         "marker": {
          "color": "#19d3f3",
          "symbol": "circle"
         },
         "mode": "markers",
         "name": "comedy",
         "orientation": "v",
         "showlegend": true,
         "type": "scatter",
         "x": [
          22.045429229736328,
          2.400984048843384,
          6.519029140472412,
          10.703437805175781,
          9.37916374206543,
          -21.36250877380371,
          -6.802555084228516,
          -9.555842399597168,
          0.046543560922145844,
          4.133223533630371,
          14.13563060760498,
          3.7198853492736816,
          1.4762299060821533,
          15.130836486816406,
          6.075677394866943,
          6.984147071838379,
          2.353792190551758,
          3.734266519546509,
          -15.192366600036621,
          -7.700482368469238,
          10.469046592712402,
          -20.329862594604492,
          5.293907165527344,
          -2.275540590286255,
          2.264615297317505,
          2.0656678676605225,
          -0.33859285712242126,
          -21.60548210144043,
          -2.3296866416931152,
          -5.583014488220215,
          -11.119277954101562,
          -2.8263533115386963,
          8.587793350219727,
          6.815711498260498,
          10.904732704162598,
          -6.717458248138428,
          0.6817915439605713,
          5.619218349456787,
          -12.320259094238281,
          -1.7944444417953491,
          -0.4017084836959839,
          13.932130813598633,
          -6.303798675537109,
          4.331207752227783,
          10.882740020751953,
          -2.0895309448242188,
          -4.436183929443359,
          12.796135902404785,
          8.189833641052246,
          -10.589913368225098,
          15.007698059082031
         ],
         "xaxis": "x",
         "y": [
          6.230123519897461,
          2.3273086547851562,
          3.5725460052490234,
          -17.522876739501953,
          13.695862770080566,
          -8.752888679504395,
          15.30575180053711,
          12.730205535888672,
          14.261184692382812,
          2.1351447105407715,
          -7.723825931549072,
          -8.588387489318848,
          1.335577130317688,
          9.975436210632324,
          2.834430694580078,
          0.2946106791496277,
          -12.285110473632812,
          8.510005950927734,
          -5.181835174560547,
          2.942091464996338,
          -6.503629684448242,
          2.7059292793273926,
          -2.3210270404815674,
          11.137639045715332,
          -2.245711088180542,
          19.6922550201416,
          2.654855251312256,
          6.509756565093994,
          -9.168257713317871,
          -2.151860475540161,
          17.4403076171875,
          -17.395448684692383,
          -0.325190931558609,
          11.140507698059082,
          7.825791358947754,
          6.936373710632324,
          15.310995101928711,
          -18.32196617126465,
          1.4553368091583252,
          -12.39569091796875,
          -9.364157676696777,
          -2.324429988861084,
          15.788762092590332,
          2.4777004718780518,
          -10.493766784667969,
          -1.2795078754425049,
          -0.33492863178253174,
          3.1795384883880615,
          -9.918386459350586,
          -1.211592435836792,
          10.354347229003906
         ],
         "yaxis": "y"
        },
        {
         "customdata": [
          [
           "George Cabot Jr. (Cesar Romero),.........",
           "comedy, romance"
          ]
         ],
         "hovertemplate": "label=%{customdata[1]}<br>x-tsne=%{x}<br>y-tsne=%{y}<br>text=%{customdata[0]}<extra></extra>",
         "legendgroup": "comedy, romance",
         "marker": {
          "color": "#FF6692",
          "symbol": "circle"
         },
         "mode": "markers",
         "name": "comedy, romance",
         "orientation": "v",
         "showlegend": true,
         "type": "scatter",
         "x": [
          -12.414907455444336
         ],
         "xaxis": "x",
         "y": [
          -17.982324600219727
         ],
         "yaxis": "y"
        },
        {
         "customdata": [
          [
           "Mongol chief Temujin (later to.........",
           "adventure"
          ],
          [
           "Shellshocked following his experiences as.........",
           "adventure"
          ],
          [
           "Professional hunter Harry Black is.........",
           "adventure"
          ],
          [
           "After being court-martialed and discharged.........",
           "adventure"
          ]
         ],
         "hovertemplate": "label=%{customdata[1]}<br>x-tsne=%{x}<br>y-tsne=%{y}<br>text=%{customdata[0]}<extra></extra>",
         "legendgroup": "adventure",
         "marker": {
          "color": "#B6E880",
          "symbol": "circle"
         },
         "mode": "markers",
         "name": "adventure",
         "orientation": "v",
         "showlegend": true,
         "type": "scatter",
         "x": [
          -12.67679214477539,
          -18.404104232788086,
          5.6894731521606445,
          -21.653396606445312
         ],
         "xaxis": "x",
         "y": [
          -2.015561819076538,
          -4.160220623016357,
          -18.485700607299805,
          7.47170352935791
         ],
         "yaxis": "y"
        },
        {
         "customdata": [
          [
           "The story starts with a.........",
           "romance / suspense"
          ]
         ],
         "hovertemplate": "label=%{customdata[1]}<br>x-tsne=%{x}<br>y-tsne=%{y}<br>text=%{customdata[0]}<extra></extra>",
         "legendgroup": "romance / suspense",
         "marker": {
          "color": "#FF97FF",
          "symbol": "circle"
         },
         "mode": "markers",
         "name": "romance / suspense",
         "orientation": "v",
         "showlegend": true,
         "type": "scatter",
         "x": [
          1.7167679071426392
         ],
         "xaxis": "x",
         "y": [
          20.102628707885742
         ],
         "yaxis": "y"
        },
        {
         "customdata": [
          [
           "In World War II, two.........",
           "pow comedy"
          ]
         ],
         "hovertemplate": "label=%{customdata[1]}<br>x-tsne=%{x}<br>y-tsne=%{y}<br>text=%{customdata[0]}<extra></extra>",
         "legendgroup": "pow comedy",
         "marker": {
          "color": "#FECB52",
          "symbol": "circle"
         },
         "mode": "markers",
         "name": "pow comedy",
         "orientation": "v",
         "showlegend": true,
         "type": "scatter",
         "x": [
          2.306602954864502
         ],
         "xaxis": "x",
         "y": [
          15.559917449951172
         ],
         "yaxis": "y"
        },
        {
         "customdata": [
          [
           "It is love at first.........",
           "romance"
          ],
          [
           "Loosely based on true events.........",
           "romance"
          ]
         ],
         "hovertemplate": "label=%{customdata[1]}<br>x-tsne=%{x}<br>y-tsne=%{y}<br>text=%{customdata[0]}<extra></extra>",
         "legendgroup": "romance",
         "marker": {
          "color": "#636efa",
          "symbol": "circle"
         },
         "mode": "markers",
         "name": "romance",
         "orientation": "v",
         "showlegend": true,
         "type": "scatter",
         "x": [
          -9.912848472595215,
          0.04272686690092087
         ],
         "xaxis": "x",
         "y": [
          1.4573954343795776,
          10.915414810180664
         ],
         "yaxis": "y"
        },
        {
         "customdata": [
          [
           "Having cleaned up Tombstone, Arizona,.........",
           "western"
          ],
          [
           "The story involves a middle-aged.........",
           "western"
          ],
          [
           "Stephen Ghent, a mineowner, falls.........",
           "western"
          ],
          [
           "After being told by his.........",
           "western"
          ],
          [
           "Jeff Hassard (Dean Jagger) and.........",
           "western"
          ],
          [
           "A U.S. marshal investigates when.........",
           "western"
          ],
          [
           "John Murdock (Paul Richards) is.........",
           "western"
          ],
          [
           "A prospective settler, pioneer Bob.........",
           "western"
          ],
          [
           "When a town drunk, Gabe,.........",
           "western"
          ],
          [
           "Following a series of robberies.........",
           "western"
          ],
          [
           "The plot is a mystery.........",
           "western"
          ]
         ],
         "hovertemplate": "label=%{customdata[1]}<br>x-tsne=%{x}<br>y-tsne=%{y}<br>text=%{customdata[0]}<extra></extra>",
         "legendgroup": "western",
         "marker": {
          "color": "#EF553B",
          "symbol": "circle"
         },
         "mode": "markers",
         "name": "western",
         "orientation": "v",
         "showlegend": true,
         "type": "scatter",
         "x": [
          19.773027420043945,
          17.85972785949707,
          -13.403449058532715,
          19.060007095336914,
          10.747241973876953,
          -13.052671432495117,
          6.367143630981445,
          9.96890640258789,
          4.372526168823242,
          14.830755233764648,
          10.967130661010742
         ],
         "xaxis": "x",
         "y": [
          -6.292689323425293,
          -7.95222806930542,
          -0.09247393161058426,
          -5.163394927978516,
          -4.89831018447876,
          6.857827186584473,
          -8.716384887695312,
          1.128179669380188,
          -8.318777084350586,
          5.625633716583252,
          15.9934720993042
         ],
         "yaxis": "y"
        },
        {
         "customdata": [
          [
           "The story is about a.........",
           "romantic comedy"
          ],
          [
           "Scott (Ryan Phillippe) is a.........",
           "romantic comedy"
          ],
          [
           "Trust concerns the unusual romance.........",
           "romantic comedy"
          ],
          [
           "Alim is a young gay.........",
           "romantic comedy"
          ],
          [
           "Daniels, in her final silent.........",
           "romantic comedy"
          ]
         ],
         "hovertemplate": "label=%{customdata[1]}<br>x-tsne=%{x}<br>y-tsne=%{y}<br>text=%{customdata[0]}<extra></extra>",
         "legendgroup": "romantic comedy",
         "marker": {
          "color": "#00cc96",
          "symbol": "circle"
         },
         "mode": "markers",
         "name": "romantic comedy",
         "orientation": "v",
         "showlegend": true,
         "type": "scatter",
         "x": [
          7.232339859008789,
          -3.67055606842041,
          -7.994258880615234,
          2.434488296508789,
          -11.06212329864502
         ],
         "xaxis": "x",
         "y": [
          -13.397723197937012,
          -6.325277328491211,
          -12.305008888244629,
          -1.5671842098236084,
          13.20261001586914
         ],
         "yaxis": "y"
        },
        {
         "customdata": [
          [
           "Kisan Kanya was based on.........",
           "social"
          ]
         ],
         "hovertemplate": "label=%{customdata[1]}<br>x-tsne=%{x}<br>y-tsne=%{y}<br>text=%{customdata[0]}<extra></extra>",
         "legendgroup": "social",
         "marker": {
          "color": "#ab63fa",
          "symbol": "circle"
         },
         "mode": "markers",
         "name": "social",
         "orientation": "v",
         "showlegend": true,
         "type": "scatter",
         "x": [
          0.3291384279727936
         ],
         "xaxis": "x",
         "y": [
          8.284236907958984
         ],
         "yaxis": "y"
        },
        {
         "customdata": [
          [
           "A psychic woman leads archaeologists.........",
           "horror"
          ],
          [
           "Christopher, a lustful man goes.........",
           "horror"
          ],
          [
           "Charles Kessler (Bela Lugosi) is.........",
           "horror"
          ],
          [
           "During a TV segment about.........",
           "horror"
          ]
         ],
         "hovertemplate": "label=%{customdata[1]}<br>x-tsne=%{x}<br>y-tsne=%{y}<br>text=%{customdata[0]}<extra></extra>",
         "legendgroup": "horror",
         "marker": {
          "color": "#FFA15A",
          "symbol": "circle"
         },
         "mode": "markers",
         "name": "horror",
         "orientation": "v",
         "showlegend": true,
         "type": "scatter",
         "x": [
          6.122893333435059,
          9.248263359069824,
          1.373146891593933,
          12.204448699951172
         ],
         "xaxis": "x",
         "y": [
          -5.563235282897949,
          -4.681312561035156,
          -14.9100980758667,
          16.448265075683594
         ],
         "yaxis": "y"
        },
        {
         "customdata": [
          [
           "Two reporters, Curtis (Conrad Phillips).........",
           "crime"
          ],
          [
           "Edgar Mills and his mistress.........",
           "crime"
          ],
          [
           "Inventor and engineer Robert Draper.........",
           "crime"
          ],
          [
           "United States Secret Service Lieutenant.........",
           "crime"
          ],
          [
           "A new gas formula that.........",
           "crime"
          ],
          [
           "American gambler Nick Cain (Raft).........",
           "crime"
          ],
          [
           "Two brothers become involved with.........",
           "crime"
          ]
         ],
         "hovertemplate": "label=%{customdata[1]}<br>x-tsne=%{x}<br>y-tsne=%{y}<br>text=%{customdata[0]}<extra></extra>",
         "legendgroup": "crime",
         "marker": {
          "color": "#19d3f3",
          "symbol": "circle"
         },
         "mode": "markers",
         "name": "crime",
         "orientation": "v",
         "showlegend": true,
         "type": "scatter",
         "x": [
          0.5935494303703308,
          10.885571479797363,
          14.238686561584473,
          10.491466522216797,
          20.113523483276367,
          11.724309921264648,
          -10.478960990905762
         ],
         "xaxis": "x",
         "y": [
          -6.675870418548584,
          0.45885610580444336,
          -13.058540344238281,
          -3.929786443710327,
          6.698504447937012,
          -5.013080596923828,
          17.300256729125977
         ],
         "yaxis": "y"
        },
        {
         "customdata": [
          [
           "Dr. Markoff (J. Carrol Naish).........",
           "science fiction"
          ]
         ],
         "hovertemplate": "label=%{customdata[1]}<br>x-tsne=%{x}<br>y-tsne=%{y}<br>text=%{customdata[0]}<extra></extra>",
         "legendgroup": "science fiction",
         "marker": {
          "color": "#FF6692",
          "symbol": "circle"
         },
         "mode": "markers",
         "name": "science fiction",
         "orientation": "v",
         "showlegend": true,
         "type": "scatter",
         "x": [
          -15.315720558166504
         ],
         "xaxis": "x",
         "y": [
          10.204567909240723
         ],
         "yaxis": "y"
        },
        {
         "customdata": [
          [
           "The plot revolves around the.........",
           "coming of age drama"
          ]
         ],
         "hovertemplate": "label=%{customdata[1]}<br>x-tsne=%{x}<br>y-tsne=%{y}<br>text=%{customdata[0]}<extra></extra>",
         "legendgroup": "coming of age drama",
         "marker": {
          "color": "#B6E880",
          "symbol": "circle"
         },
         "mode": "markers",
         "name": "coming of age drama",
         "orientation": "v",
         "showlegend": true,
         "type": "scatter",
         "x": [
          -4.759962558746338
         ],
         "xaxis": "x",
         "y": [
          -3.3523001670837402
         ],
         "yaxis": "y"
        },
        {
         "customdata": [
          [
           "The movie opens with Fung.........",
           "erotic / drama"
          ]
         ],
         "hovertemplate": "label=%{customdata[1]}<br>x-tsne=%{x}<br>y-tsne=%{y}<br>text=%{customdata[0]}<extra></extra>",
         "legendgroup": "erotic / drama",
         "marker": {
          "color": "#FF97FF",
          "symbol": "circle"
         },
         "mode": "markers",
         "name": "erotic / drama",
         "orientation": "v",
         "showlegend": true,
         "type": "scatter",
         "x": [
          10.52133846282959
         ],
         "xaxis": "x",
         "y": [
          -10.272147178649902
         ],
         "yaxis": "y"
        },
        {
         "customdata": [
          [
           "Nikki Singh (Akshay Oberoi) is.........",
           "neo-noir"
          ]
         ],
         "hovertemplate": "label=%{customdata[1]}<br>x-tsne=%{x}<br>y-tsne=%{y}<br>text=%{customdata[0]}<extra></extra>",
         "legendgroup": "neo-noir",
         "marker": {
          "color": "#FECB52",
          "symbol": "circle"
         },
         "mode": "markers",
         "name": "neo-noir",
         "orientation": "v",
         "showlegend": true,
         "type": "scatter",
         "x": [
          15.618880271911621
         ],
         "xaxis": "x",
         "y": [
          -9.834242820739746
         ],
         "yaxis": "y"
        },
        {
         "customdata": [
          [
           "Harvey Keitel plays an American.........",
           "crime drama"
          ],
          [
           "The drama tells of a.........",
           "crime drama"
          ],
          [
           "With five rival oil companies.........",
           "crime drama"
          ]
         ],
         "hovertemplate": "label=%{customdata[1]}<br>x-tsne=%{x}<br>y-tsne=%{y}<br>text=%{customdata[0]}<extra></extra>",
         "legendgroup": "crime drama",
         "marker": {
          "color": "#636efa",
          "symbol": "circle"
         },
         "mode": "markers",
         "name": "crime drama",
         "orientation": "v",
         "showlegend": true,
         "type": "scatter",
         "x": [
          5.326963424682617,
          -1.611991286277771,
          -5.323602676391602
         ],
         "xaxis": "x",
         "y": [
          19.211435317993164,
          -0.9696106910705566,
          -15.670238494873047
         ],
         "yaxis": "y"
        },
        {
         "customdata": [
          [
           "Irène Bordoni is cast as.........",
           "musical comedy"
          ],
          [
           "Flagg (Victor McLaglen) and Quirt.........",
           "musical comedy"
          ]
         ],
         "hovertemplate": "label=%{customdata[1]}<br>x-tsne=%{x}<br>y-tsne=%{y}<br>text=%{customdata[0]}<extra></extra>",
         "legendgroup": "musical comedy",
         "marker": {
          "color": "#EF553B",
          "symbol": "circle"
         },
         "mode": "markers",
         "name": "musical comedy",
         "orientation": "v",
         "showlegend": true,
         "type": "scatter",
         "x": [
          -9.365360260009766,
          -4.588180065155029
         ],
         "xaxis": "x",
         "y": [
          -6.4661407470703125,
          12.426736831665039
         ],
         "yaxis": "y"
        },
        {
         "customdata": [
          [
           "This film is about two.........",
           "romance, comedy"
          ]
         ],
         "hovertemplate": "label=%{customdata[1]}<br>x-tsne=%{x}<br>y-tsne=%{y}<br>text=%{customdata[0]}<extra></extra>",
         "legendgroup": "romance, comedy",
         "marker": {
          "color": "#00cc96",
          "symbol": "circle"
         },
         "mode": "markers",
         "name": "romance, comedy",
         "orientation": "v",
         "showlegend": true,
         "type": "scatter",
         "x": [
          -2.9350826740264893
         ],
         "xaxis": "x",
         "y": [
          7.593474388122559
         ],
         "yaxis": "y"
        },
        {
         "customdata": [
          [
           "Cosmo Reif, an affectless mob.........",
           "comedy, thriller"
          ]
         ],
         "hovertemplate": "label=%{customdata[1]}<br>x-tsne=%{x}<br>y-tsne=%{y}<br>text=%{customdata[0]}<extra></extra>",
         "legendgroup": "comedy, thriller",
         "marker": {
          "color": "#ab63fa",
          "symbol": "circle"
         },
         "mode": "markers",
         "name": "comedy, thriller",
         "orientation": "v",
         "showlegend": true,
         "type": "scatter",
         "x": [
          -15.06737232208252
         ],
         "xaxis": "x",
         "y": [
          -1.3419950008392334
         ],
         "yaxis": "y"
        },
        {
         "customdata": [
          [
           "The film is a retelling.........",
           "fantasy"
          ],
          [
           "Loosely based on the historical.........",
           "fantasy"
          ]
         ],
         "hovertemplate": "label=%{customdata[1]}<br>x-tsne=%{x}<br>y-tsne=%{y}<br>text=%{customdata[0]}<extra></extra>",
         "legendgroup": "fantasy",
         "marker": {
          "color": "#FFA15A",
          "symbol": "circle"
         },
         "mode": "markers",
         "name": "fantasy",
         "orientation": "v",
         "showlegend": true,
         "type": "scatter",
         "x": [
          -20.10967254638672,
          6.021273136138916
         ],
         "xaxis": "x",
         "y": [
          2.920187473297119,
          -10.554491996765137
         ],
         "yaxis": "y"
        },
        {
         "customdata": [
          [
           "Two escaping killers hide out.........",
           "suspense"
          ]
         ],
         "hovertemplate": "label=%{customdata[1]}<br>x-tsne=%{x}<br>y-tsne=%{y}<br>text=%{customdata[0]}<extra></extra>",
         "legendgroup": "suspense",
         "marker": {
          "color": "#19d3f3",
          "symbol": "circle"
         },
         "mode": "markers",
         "name": "suspense",
         "orientation": "v",
         "showlegend": true,
         "type": "scatter",
         "x": [
          0.7207021117210388
         ],
         "xaxis": "x",
         "y": [
          -5.014238357543945
         ],
         "yaxis": "y"
        },
        {
         "customdata": [
          [
           "The Kitauji high school concert.........",
           "drama, youth, musical, romance, idol"
          ]
         ],
         "hovertemplate": "label=%{customdata[1]}<br>x-tsne=%{x}<br>y-tsne=%{y}<br>text=%{customdata[0]}<extra></extra>",
         "legendgroup": "drama, youth, musical, romance, idol",
         "marker": {
          "color": "#FF6692",
          "symbol": "circle"
         },
         "mode": "markers",
         "name": "drama, youth, musical, romance, idol",
         "orientation": "v",
         "showlegend": true,
         "type": "scatter",
         "x": [
          -11.149721145629883
         ],
         "xaxis": "x",
         "y": [
          -12.719916343688965
         ],
         "yaxis": "y"
        },
        {
         "customdata": [
          [
           "Lost & Found is basically.........",
           "romance, drama"
          ],
          [
           "Roanne Sanchez, a young girl.........",
           "romance, drama"
          ]
         ],
         "hovertemplate": "label=%{customdata[1]}<br>x-tsne=%{x}<br>y-tsne=%{y}<br>text=%{customdata[0]}<extra></extra>",
         "legendgroup": "romance, drama",
         "marker": {
          "color": "#B6E880",
          "symbol": "circle"
         },
         "mode": "markers",
         "name": "romance, drama",
         "orientation": "v",
         "showlegend": true,
         "type": "scatter",
         "x": [
          -18.807071685791016,
          -7.126325607299805
         ],
         "xaxis": "x",
         "y": [
          -2.6630361080169678,
          -11.527117729187012
         ],
         "yaxis": "y"
        },
        {
         "customdata": [
          [
           "This film follows the lead.........",
           "action, sci-fi"
          ]
         ],
         "hovertemplate": "label=%{customdata[1]}<br>x-tsne=%{x}<br>y-tsne=%{y}<br>text=%{customdata[0]}<extra></extra>",
         "legendgroup": "action, sci-fi",
         "marker": {
          "color": "#FF97FF",
          "symbol": "circle"
         },
         "mode": "markers",
         "name": "action, sci-fi",
         "orientation": "v",
         "showlegend": true,
         "type": "scatter",
         "x": [
          -5.163403034210205
         ],
         "xaxis": "x",
         "y": [
          10.839418411254883
         ],
         "yaxis": "y"
        },
        {
         "customdata": [
          [
           "Unlike other Alamo films that.........",
           "western, war"
          ]
         ],
         "hovertemplate": "label=%{customdata[1]}<br>x-tsne=%{x}<br>y-tsne=%{y}<br>text=%{customdata[0]}<extra></extra>",
         "legendgroup": "western, war",
         "marker": {
          "color": "#FECB52",
          "symbol": "circle"
         },
         "mode": "markers",
         "name": "western, war",
         "orientation": "v",
         "showlegend": true,
         "type": "scatter",
         "x": [
          6.760206699371338
         ],
         "xaxis": "x",
         "y": [
          17.3436336517334
         ],
         "yaxis": "y"
        },
        {
         "customdata": [
          [
           "A San Francisco earthquake orphan.........",
           "comedy drama"
          ],
          [
           "The story revolves around a.........",
           "comedy drama"
          ]
         ],
         "hovertemplate": "label=%{customdata[1]}<br>x-tsne=%{x}<br>y-tsne=%{y}<br>text=%{customdata[0]}<extra></extra>",
         "legendgroup": "comedy drama",
         "marker": {
          "color": "#636efa",
          "symbol": "circle"
         },
         "mode": "markers",
         "name": "comedy drama",
         "orientation": "v",
         "showlegend": true,
         "type": "scatter",
         "x": [
          -12.075523376464844,
          -11.987889289855957
         ],
         "xaxis": "x",
         "y": [
          -0.6588912010192871,
          2.4417505264282227
         ],
         "yaxis": "y"
        },
        {
         "customdata": [
          [
           "The story line centres on.........",
           "musical"
          ],
          [
           "Big-league baseball players Jerry and.........",
           "musical"
          ],
          [
           "During World War II singer.........",
           "musical"
          ],
          [
           "Bonnie and Connie Jones are.........",
           "musical"
          ]
         ],
         "hovertemplate": "label=%{customdata[1]}<br>x-tsne=%{x}<br>y-tsne=%{y}<br>text=%{customdata[0]}<extra></extra>",
         "legendgroup": "musical",
         "marker": {
          "color": "#EF553B",
          "symbol": "circle"
         },
         "mode": "markers",
         "name": "musical",
         "orientation": "v",
         "showlegend": true,
         "type": "scatter",
         "x": [
          4.451868534088135,
          -5.941923141479492,
          6.522385597229004,
          0.48537129163742065
         ],
         "xaxis": "x",
         "y": [
          5.75746488571167,
          17.74359893798828,
          14.964797973632812,
          0.2933058738708496
         ],
         "yaxis": "y"
        },
        {
         "customdata": [
          [
           "Sets in the 19th century,.........",
           "romantic drama"
          ]
         ],
         "hovertemplate": "label=%{customdata[1]}<br>x-tsne=%{x}<br>y-tsne=%{y}<br>text=%{customdata[0]}<extra></extra>",
         "legendgroup": "romantic drama",
         "marker": {
          "color": "#00cc96",
          "symbol": "circle"
         },
         "mode": "markers",
         "name": "romantic drama",
         "orientation": "v",
         "showlegend": true,
         "type": "scatter",
         "x": [
          10.616388320922852
         ],
         "xaxis": "x",
         "y": [
          -1.1226565837860107
         ],
         "yaxis": "y"
        },
        {
         "customdata": [
          [
           "Akashangalil is the story of.........",
           "family"
          ]
         ],
         "hovertemplate": "label=%{customdata[1]}<br>x-tsne=%{x}<br>y-tsne=%{y}<br>text=%{customdata[0]}<extra></extra>",
         "legendgroup": "family",
         "marker": {
          "color": "#ab63fa",
          "symbol": "circle"
         },
         "mode": "markers",
         "name": "family",
         "orientation": "v",
         "showlegend": true,
         "type": "scatter",
         "x": [
          0.6886231303215027
         ],
         "xaxis": "x",
         "y": [
          -1.193910837173462
         ],
         "yaxis": "y"
        },
        {
         "customdata": [
          [
           "Sally Elliott (Rita Hayworth), a.........",
           "musical biopic"
          ]
         ],
         "hovertemplate": "label=%{customdata[1]}<br>x-tsne=%{x}<br>y-tsne=%{y}<br>text=%{customdata[0]}<extra></extra>",
         "legendgroup": "musical biopic",
         "marker": {
          "color": "#FFA15A",
          "symbol": "circle"
         },
         "mode": "markers",
         "name": "musical biopic",
         "orientation": "v",
         "showlegend": true,
         "type": "scatter",
         "x": [
          -5.02023458480835
         ],
         "xaxis": "x",
         "y": [
          15.531253814697266
         ],
         "yaxis": "y"
        },
        {
         "customdata": [
          [
           "The Hartford Transcontinental Railroad is.........",
           "western serial"
          ]
         ],
         "hovertemplate": "label=%{customdata[1]}<br>x-tsne=%{x}<br>y-tsne=%{y}<br>text=%{customdata[0]}<extra></extra>",
         "legendgroup": "western serial",
         "marker": {
          "color": "#19d3f3",
          "symbol": "circle"
         },
         "mode": "markers",
         "name": "western serial",
         "orientation": "v",
         "showlegend": true,
         "type": "scatter",
         "x": [
          0.6815193295478821
         ],
         "xaxis": "x",
         "y": [
          -20.01573371887207
         ],
         "yaxis": "y"
        },
        {
         "customdata": [
          [
           "When Los Angeles' police force.........",
           "thriller"
          ],
          [
           "Frankie Bono, a hitman from.........",
           "thriller"
          ],
          [
           "Two days before Christmas, a.........",
           "thriller"
          ],
          [
           "An old gangster, with a.........",
           "thriller"
          ],
          [
           "Julia Hemingway (Ina Skriver, credited.........",
           "thriller"
          ],
          [
           "This film is about the.........",
           "thriller"
          ],
          [
           "A young woman goes to.........",
           "thriller"
          ],
          [
           "A spirit (\"Patrick\") haunts a.........",
           "thriller"
          ],
          [
           "The story follows a group.........",
           "thriller"
          ],
          [
           "In a quiet English town,.........",
           "thriller"
          ]
         ],
         "hovertemplate": "label=%{customdata[1]}<br>x-tsne=%{x}<br>y-tsne=%{y}<br>text=%{customdata[0]}<extra></extra>",
         "legendgroup": "thriller",
         "marker": {
          "color": "#FF6692",
          "symbol": "circle"
         },
         "mode": "markers",
         "name": "thriller",
         "orientation": "v",
         "showlegend": true,
         "type": "scatter",
         "x": [
          15.39930248260498,
          -1.6707452535629272,
          1.390874981880188,
          8.346721649169922,
          17.794313430786133,
          -16.99117088317871,
          7.635998725891113,
          5.910867214202881,
          1.0669130086898804,
          3.755789041519165
         ],
         "xaxis": "x",
         "y": [
          5.015349388122559,
          1.420541524887085,
          -7.077664375305176,
          -13.404831886291504,
          6.497287750244141,
          6.526562213897705,
          -5.307333469390869,
          -2.4840357303619385,
          5.107887268066406,
          -4.424614906311035
         ],
         "yaxis": "y"
        },
        {
         "customdata": [
          [
           "Hiraasat is an action film,.........",
           "action, crime, drama"
          ]
         ],
         "hovertemplate": "label=%{customdata[1]}<br>x-tsne=%{x}<br>y-tsne=%{y}<br>text=%{customdata[0]}<extra></extra>",
         "legendgroup": "action, crime, drama",
         "marker": {
          "color": "#B6E880",
          "symbol": "circle"
         },
         "mode": "markers",
         "name": "action, crime, drama",
         "orientation": "v",
         "showlegend": true,
         "type": "scatter",
         "x": [
          -5.22819709777832
         ],
         "xaxis": "x",
         "y": [
          11.277674674987793
         ],
         "yaxis": "y"
        },
        {
         "customdata": [
          [
           "Tulsi tells the story of.........",
           " "
          ]
         ],
         "hovertemplate": "label=%{customdata[1]}<br>x-tsne=%{x}<br>y-tsne=%{y}<br>text=%{customdata[0]}<extra></extra>",
         "legendgroup": " ",
         "marker": {
          "color": "#FF97FF",
          "symbol": "circle"
         },
         "mode": "markers",
         "name": " ",
         "orientation": "v",
         "showlegend": true,
         "type": "scatter",
         "x": [
          6.804184436798096
         ],
         "xaxis": "x",
         "y": [
          -13.22187614440918
         ],
         "yaxis": "y"
        },
        {
         "customdata": [
          [
           "Karthi (Mahesh) is a college.........",
           "romantic thriller"
          ]
         ],
         "hovertemplate": "label=%{customdata[1]}<br>x-tsne=%{x}<br>y-tsne=%{y}<br>text=%{customdata[0]}<extra></extra>",
         "legendgroup": "romantic thriller",
         "marker": {
          "color": "#FECB52",
          "symbol": "circle"
         },
         "mode": "markers",
         "name": "romantic thriller",
         "orientation": "v",
         "showlegend": true,
         "type": "scatter",
         "x": [
          -2.503451108932495
         ],
         "xaxis": "x",
         "y": [
          6.8391313552856445
         ],
         "yaxis": "y"
        },
        {
         "customdata": [
          [
           "The story revolves around an.........",
           "drama, thriller"
          ]
         ],
         "hovertemplate": "label=%{customdata[1]}<br>x-tsne=%{x}<br>y-tsne=%{y}<br>text=%{customdata[0]}<extra></extra>",
         "legendgroup": "drama, thriller",
         "marker": {
          "color": "#636efa",
          "symbol": "circle"
         },
         "mode": "markers",
         "name": "drama, thriller",
         "orientation": "v",
         "showlegend": true,
         "type": "scatter",
         "x": [
          18.912189483642578
         ],
         "xaxis": "x",
         "y": [
          1.355072259902954
         ],
         "yaxis": "y"
        },
        {
         "customdata": [
          [
           "A bullied teen chef wants.........",
           "comedy-drama"
          ]
         ],
         "hovertemplate": "label=%{customdata[1]}<br>x-tsne=%{x}<br>y-tsne=%{y}<br>text=%{customdata[0]}<extra></extra>",
         "legendgroup": "comedy-drama",
         "marker": {
          "color": "#EF553B",
          "symbol": "circle"
         },
         "mode": "markers",
         "name": "comedy-drama",
         "orientation": "v",
         "showlegend": true,
         "type": "scatter",
         "x": [
          3.749079704284668
         ],
         "xaxis": "x",
         "y": [
          0.8564918041229248
         ],
         "yaxis": "y"
        },
        {
         "customdata": [
          [
           "A rivalry develops between veteran.........",
           "war"
          ]
         ],
         "hovertemplate": "label=%{customdata[1]}<br>x-tsne=%{x}<br>y-tsne=%{y}<br>text=%{customdata[0]}<extra></extra>",
         "legendgroup": "war",
         "marker": {
          "color": "#00cc96",
          "symbol": "circle"
         },
         "mode": "markers",
         "name": "war",
         "orientation": "v",
         "showlegend": true,
         "type": "scatter",
         "x": [
          2.373734951019287
         ],
         "xaxis": "x",
         "y": [
          13.524895668029785
         ],
         "yaxis": "y"
        },
        {
         "customdata": [
          [
           "In the autumn of 1950,.........",
           "drama / history / western"
          ]
         ],
         "hovertemplate": "label=%{customdata[1]}<br>x-tsne=%{x}<br>y-tsne=%{y}<br>text=%{customdata[0]}<extra></extra>",
         "legendgroup": "drama / history / western",
         "marker": {
          "color": "#ab63fa",
          "symbol": "circle"
         },
         "mode": "markers",
         "name": "drama / history / western",
         "orientation": "v",
         "showlegend": true,
         "type": "scatter",
         "x": [
          7.957415580749512
         ],
         "xaxis": "x",
         "y": [
          14.699944496154785
         ],
         "yaxis": "y"
        },
        {
         "customdata": [
          [
           "In a small town, mentally.........",
           "dramedy"
          ],
          [
           "Newly transferred college student Lily.........",
           "dramedy"
          ]
         ],
         "hovertemplate": "label=%{customdata[1]}<br>x-tsne=%{x}<br>y-tsne=%{y}<br>text=%{customdata[0]}<extra></extra>",
         "legendgroup": "dramedy",
         "marker": {
          "color": "#FFA15A",
          "symbol": "circle"
         },
         "mode": "markers",
         "name": "dramedy",
         "orientation": "v",
         "showlegend": true,
         "type": "scatter",
         "x": [
          0.9115869402885437,
          -4.006363868713379
         ],
         "xaxis": "x",
         "y": [
          -9.809185981750488,
          7.070435523986816
         ],
         "yaxis": "y"
        },
        {
         "customdata": [
          [
           "The story of a 10th.........",
           "rom com"
          ]
         ],
         "hovertemplate": "label=%{customdata[1]}<br>x-tsne=%{x}<br>y-tsne=%{y}<br>text=%{customdata[0]}<extra></extra>",
         "legendgroup": "rom com",
         "marker": {
          "color": "#19d3f3",
          "symbol": "circle"
         },
         "mode": "markers",
         "name": "rom com",
         "orientation": "v",
         "showlegend": true,
         "type": "scatter",
         "x": [
          -12.845486640930176
         ],
         "xaxis": "x",
         "y": [
          -13.000910758972168
         ],
         "yaxis": "y"
        },
        {
         "customdata": [
          [
           "The plot of the film.........",
           "nature"
          ]
         ],
         "hovertemplate": "label=%{customdata[1]}<br>x-tsne=%{x}<br>y-tsne=%{y}<br>text=%{customdata[0]}<extra></extra>",
         "legendgroup": "nature",
         "marker": {
          "color": "#FF6692",
          "symbol": "circle"
         },
         "mode": "markers",
         "name": "nature",
         "orientation": "v",
         "showlegend": true,
         "type": "scatter",
         "x": [
          6.2175612449646
         ],
         "xaxis": "x",
         "y": [
          -9.507411003112793
         ],
         "yaxis": "y"
        },
        {
         "customdata": [
          [
           "The film is a historical.........",
           "historical"
          ]
         ],
         "hovertemplate": "label=%{customdata[1]}<br>x-tsne=%{x}<br>y-tsne=%{y}<br>text=%{customdata[0]}<extra></extra>",
         "legendgroup": "historical",
         "marker": {
          "color": "#B6E880",
          "symbol": "circle"
         },
         "mode": "markers",
         "name": "historical",
         "orientation": "v",
         "showlegend": true,
         "type": "scatter",
         "x": [
          -0.20115096867084503
         ],
         "xaxis": "x",
         "y": [
          7.737030982971191
         ],
         "yaxis": "y"
        },
        {
         "customdata": [
          [
           "The film is about an.........",
           "short black comedy"
          ]
         ],
         "hovertemplate": "label=%{customdata[1]}<br>x-tsne=%{x}<br>y-tsne=%{y}<br>text=%{customdata[0]}<extra></extra>",
         "legendgroup": "short black comedy",
         "marker": {
          "color": "#FF97FF",
          "symbol": "circle"
         },
         "mode": "markers",
         "name": "short black comedy",
         "orientation": "v",
         "showlegend": true,
         "type": "scatter",
         "x": [
          -4.290935516357422
         ],
         "xaxis": "x",
         "y": [
          5.156071186065674
         ],
         "yaxis": "y"
        },
        {
         "customdata": [
          [
           "Agimat (Bong Revilla, Jr.) is.........",
           "fantasy, comedy, adventure"
          ]
         ],
         "hovertemplate": "label=%{customdata[1]}<br>x-tsne=%{x}<br>y-tsne=%{y}<br>text=%{customdata[0]}<extra></extra>",
         "legendgroup": "fantasy, comedy, adventure",
         "marker": {
          "color": "#FECB52",
          "symbol": "circle"
         },
         "mode": "markers",
         "name": "fantasy, comedy, adventure",
         "orientation": "v",
         "showlegend": true,
         "type": "scatter",
         "x": [
          -6.988360404968262
         ],
         "xaxis": "x",
         "y": [
          -18.507055282592773
         ],
         "yaxis": "y"
        },
        {
         "customdata": [
          [
           "The film is set in.........",
           "biblical"
          ]
         ],
         "hovertemplate": "label=%{customdata[1]}<br>x-tsne=%{x}<br>y-tsne=%{y}<br>text=%{customdata[0]}<extra></extra>",
         "legendgroup": "biblical",
         "marker": {
          "color": "#636efa",
          "symbol": "circle"
         },
         "mode": "markers",
         "name": "biblical",
         "orientation": "v",
         "showlegend": true,
         "type": "scatter",
         "x": [
          0.9628674387931824
         ],
         "xaxis": "x",
         "y": [
          -20.244714736938477
         ],
         "yaxis": "y"
        },
        {
         "customdata": [
          [
           "Hans a young German journalist.........",
           "sex comedy"
          ]
         ],
         "hovertemplate": "label=%{customdata[1]}<br>x-tsne=%{x}<br>y-tsne=%{y}<br>text=%{customdata[0]}<extra></extra>",
         "legendgroup": "sex comedy",
         "marker": {
          "color": "#EF553B",
          "symbol": "circle"
         },
         "mode": "markers",
         "name": "sex comedy",
         "orientation": "v",
         "showlegend": true,
         "type": "scatter",
         "x": [
          -10.20840835571289
         ],
         "xaxis": "x",
         "y": [
          10.280892372131348
         ],
         "yaxis": "y"
        },
        {
         "customdata": [
          [
           "Hajj, a rascally beggar on.........",
           "costume drama"
          ]
         ],
         "hovertemplate": "label=%{customdata[1]}<br>x-tsne=%{x}<br>y-tsne=%{y}<br>text=%{customdata[0]}<extra></extra>",
         "legendgroup": "costume drama",
         "marker": {
          "color": "#00cc96",
          "symbol": "circle"
         },
         "mode": "markers",
         "name": "costume drama",
         "orientation": "v",
         "showlegend": true,
         "type": "scatter",
         "x": [
          -16.914501190185547
         ],
         "xaxis": "x",
         "y": [
          -9.712539672851562
         ],
         "yaxis": "y"
        },
        {
         "customdata": [
          [
           "After her mother was killed.........",
           "action / comedy"
          ]
         ],
         "hovertemplate": "label=%{customdata[1]}<br>x-tsne=%{x}<br>y-tsne=%{y}<br>text=%{customdata[0]}<extra></extra>",
         "legendgroup": "action / comedy",
         "marker": {
          "color": "#ab63fa",
          "symbol": "circle"
         },
         "mode": "markers",
         "name": "action / comedy",
         "orientation": "v",
         "showlegend": true,
         "type": "scatter",
         "x": [
          -2.7753872871398926
         ],
         "xaxis": "x",
         "y": [
          -4.324512958526611
         ],
         "yaxis": "y"
        },
        {
         "customdata": [
          [
           "Raised by his Uncle Wu.........",
           "fantasy / adventure"
          ]
         ],
         "hovertemplate": "label=%{customdata[1]}<br>x-tsne=%{x}<br>y-tsne=%{y}<br>text=%{customdata[0]}<extra></extra>",
         "legendgroup": "fantasy / adventure",
         "marker": {
          "color": "#FFA15A",
          "symbol": "circle"
         },
         "mode": "markers",
         "name": "fantasy / adventure",
         "orientation": "v",
         "showlegend": true,
         "type": "scatter",
         "x": [
          8.021702766418457
         ],
         "xaxis": "x",
         "y": [
          5.757569313049316
         ],
         "yaxis": "y"
        },
        {
         "customdata": [
          [
           "A girl is about to.........",
           "adventure, serial"
          ]
         ],
         "hovertemplate": "label=%{customdata[1]}<br>x-tsne=%{x}<br>y-tsne=%{y}<br>text=%{customdata[0]}<extra></extra>",
         "legendgroup": "adventure, serial",
         "marker": {
          "color": "#19d3f3",
          "symbol": "circle"
         },
         "mode": "markers",
         "name": "adventure, serial",
         "orientation": "v",
         "showlegend": true,
         "type": "scatter",
         "x": [
          7.300766944885254
         ],
         "xaxis": "x",
         "y": [
          7.777958869934082
         ],
         "yaxis": "y"
        },
        {
         "customdata": [
          [
           "Crash Landing follows the tense.........",
           "action/thriller"
          ]
         ],
         "hovertemplate": "label=%{customdata[1]}<br>x-tsne=%{x}<br>y-tsne=%{y}<br>text=%{customdata[0]}<extra></extra>",
         "legendgroup": "action/thriller",
         "marker": {
          "color": "#FF6692",
          "symbol": "circle"
         },
         "mode": "markers",
         "name": "action/thriller",
         "orientation": "v",
         "showlegend": true,
         "type": "scatter",
         "x": [
          -19.031709671020508
         ],
         "xaxis": "x",
         "y": [
          8.458883285522461
         ],
         "yaxis": "y"
        },
        {
         "customdata": [
          [
           "Anand is a major in.........",
           "action"
          ],
          [
           "Sachin Joshi is a Kabaddi.........",
           "action"
          ],
          [
           "Political journalist Jayadev (Meka Srikanth).........",
           "action"
          ]
         ],
         "hovertemplate": "label=%{customdata[1]}<br>x-tsne=%{x}<br>y-tsne=%{y}<br>text=%{customdata[0]}<extra></extra>",
         "legendgroup": "action",
         "marker": {
          "color": "#B6E880",
          "symbol": "circle"
         },
         "mode": "markers",
         "name": "action",
         "orientation": "v",
         "showlegend": true,
         "type": "scatter",
         "x": [
          -2.851646661758423,
          18.10894775390625,
          -21.40406608581543
         ],
         "xaxis": "x",
         "y": [
          2.383044719696045,
          0.02597973495721817,
          -2.616983413696289
         ],
         "yaxis": "y"
        },
        {
         "customdata": [
          [
           "A lonely old man who.........",
           "literary drama"
          ]
         ],
         "hovertemplate": "label=%{customdata[1]}<br>x-tsne=%{x}<br>y-tsne=%{y}<br>text=%{customdata[0]}<extra></extra>",
         "legendgroup": "literary drama",
         "marker": {
          "color": "#FF97FF",
          "symbol": "circle"
         },
         "mode": "markers",
         "name": "literary drama",
         "orientation": "v",
         "showlegend": true,
         "type": "scatter",
         "x": [
          -5.1707916259765625
         ],
         "xaxis": "x",
         "y": [
          -7.915300369262695
         ],
         "yaxis": "y"
        },
        {
         "customdata": [
          [
           "Big Fella is set on.........",
           "musical/drama"
          ]
         ],
         "hovertemplate": "label=%{customdata[1]}<br>x-tsne=%{x}<br>y-tsne=%{y}<br>text=%{customdata[0]}<extra></extra>",
         "legendgroup": "musical/drama",
         "marker": {
          "color": "#FECB52",
          "symbol": "circle"
         },
         "mode": "markers",
         "name": "musical/drama",
         "orientation": "v",
         "showlegend": true,
         "type": "scatter",
         "x": [
          -13.991294860839844
         ],
         "xaxis": "x",
         "y": [
          11.588761329650879
         ],
         "yaxis": "y"
        },
        {
         "customdata": [
          [
           "In the year 1999, the.........",
           "tokusatsu"
          ]
         ],
         "hovertemplate": "label=%{customdata[1]}<br>x-tsne=%{x}<br>y-tsne=%{y}<br>text=%{customdata[0]}<extra></extra>",
         "legendgroup": "tokusatsu",
         "marker": {
          "color": "#636efa",
          "symbol": "circle"
         },
         "mode": "markers",
         "name": "tokusatsu",
         "orientation": "v",
         "showlegend": true,
         "type": "scatter",
         "x": [
          -5.859924793243408
         ],
         "xaxis": "x",
         "y": [
          -21.520984649658203
         ],
         "yaxis": "y"
        },
        {
         "customdata": [
          [
           "The story of the film,.........",
           "crime/thriller"
          ]
         ],
         "hovertemplate": "label=%{customdata[1]}<br>x-tsne=%{x}<br>y-tsne=%{y}<br>text=%{customdata[0]}<extra></extra>",
         "legendgroup": "crime/thriller",
         "marker": {
          "color": "#EF553B",
          "symbol": "circle"
         },
         "mode": "markers",
         "name": "crime/thriller",
         "orientation": "v",
         "showlegend": true,
         "type": "scatter",
         "x": [
          -7.958926677703857
         ],
         "xaxis": "x",
         "y": [
          8.165258407592773
         ],
         "yaxis": "y"
        },
        {
         "customdata": [
          [
           "Kiira seems like an ordinary.........",
           "vampire film"
          ]
         ],
         "hovertemplate": "label=%{customdata[1]}<br>x-tsne=%{x}<br>y-tsne=%{y}<br>text=%{customdata[0]}<extra></extra>",
         "legendgroup": "vampire film",
         "marker": {
          "color": "#00cc96",
          "symbol": "circle"
         },
         "mode": "markers",
         "name": "vampire film",
         "orientation": "v",
         "showlegend": true,
         "type": "scatter",
         "x": [
          -6.705361366271973
         ],
         "xaxis": "x",
         "y": [
          -7.7350993156433105
         ],
         "yaxis": "y"
        },
        {
         "customdata": [
          [
           "With the human exploitation of.........",
           "comedy / animation / family / adventure"
          ]
         ],
         "hovertemplate": "label=%{customdata[1]}<br>x-tsne=%{x}<br>y-tsne=%{y}<br>text=%{customdata[0]}<extra></extra>",
         "legendgroup": "comedy / animation / family / adventure",
         "marker": {
          "color": "#ab63fa",
          "symbol": "circle"
         },
         "mode": "markers",
         "name": "comedy / animation / family / adventure",
         "orientation": "v",
         "showlegend": true,
         "type": "scatter",
         "x": [
          -14.742088317871094
         ],
         "xaxis": "x",
         "y": [
          10.705172538757324
         ],
         "yaxis": "y"
        },
        {
         "customdata": [
          [
           "New York City law professor.........",
           "drama, crime"
          ]
         ],
         "hovertemplate": "label=%{customdata[1]}<br>x-tsne=%{x}<br>y-tsne=%{y}<br>text=%{customdata[0]}<extra></extra>",
         "legendgroup": "drama, crime",
         "marker": {
          "color": "#FFA15A",
          "symbol": "circle"
         },
         "mode": "markers",
         "name": "drama, crime",
         "orientation": "v",
         "showlegend": true,
         "type": "scatter",
         "x": [
          -0.49422013759613037
         ],
         "xaxis": "x",
         "y": [
          1.5303689241409302
         ],
         "yaxis": "y"
        }
       ],
       "layout": {
        "height": 1200,
        "legend": {
         "title": {
          "text": "label"
         },
         "tracegroupgap": 0
        },
        "template": {
         "data": {
          "bar": [
           {
            "error_x": {
             "color": "#2a3f5f"
            },
            "error_y": {
             "color": "#2a3f5f"
            },
            "marker": {
             "line": {
              "color": "#E5ECF6",
              "width": 0.5
             },
             "pattern": {
              "fillmode": "overlay",
              "size": 10,
              "solidity": 0.2
             }
            },
            "type": "bar"
           }
          ],
          "barpolar": [
           {
            "marker": {
             "line": {
              "color": "#E5ECF6",
              "width": 0.5
             },
             "pattern": {
              "fillmode": "overlay",
              "size": 10,
              "solidity": 0.2
             }
            },
            "type": "barpolar"
           }
          ],
          "carpet": [
           {
            "aaxis": {
             "endlinecolor": "#2a3f5f",
             "gridcolor": "white",
             "linecolor": "white",
             "minorgridcolor": "white",
             "startlinecolor": "#2a3f5f"
            },
            "baxis": {
             "endlinecolor": "#2a3f5f",
             "gridcolor": "white",
             "linecolor": "white",
             "minorgridcolor": "white",
             "startlinecolor": "#2a3f5f"
            },
            "type": "carpet"
           }
          ],
          "choropleth": [
           {
            "colorbar": {
             "outlinewidth": 0,
             "ticks": ""
            },
            "type": "choropleth"
           }
          ],
          "contour": [
           {
            "colorbar": {
             "outlinewidth": 0,
             "ticks": ""
            },
            "colorscale": [
             [
              0,
              "#0d0887"
             ],
             [
              0.1111111111111111,
              "#46039f"
             ],
             [
              0.2222222222222222,
              "#7201a8"
             ],
             [
              0.3333333333333333,
              "#9c179e"
             ],
             [
              0.4444444444444444,
              "#bd3786"
             ],
             [
              0.5555555555555556,
              "#d8576b"
             ],
             [
              0.6666666666666666,
              "#ed7953"
             ],
             [
              0.7777777777777778,
              "#fb9f3a"
             ],
             [
              0.8888888888888888,
              "#fdca26"
             ],
             [
              1,
              "#f0f921"
             ]
            ],
            "type": "contour"
           }
          ],
          "contourcarpet": [
           {
            "colorbar": {
             "outlinewidth": 0,
             "ticks": ""
            },
            "type": "contourcarpet"
           }
          ],
          "heatmap": [
           {
            "colorbar": {
             "outlinewidth": 0,
             "ticks": ""
            },
            "colorscale": [
             [
              0,
              "#0d0887"
             ],
             [
              0.1111111111111111,
              "#46039f"
             ],
             [
              0.2222222222222222,
              "#7201a8"
             ],
             [
              0.3333333333333333,
              "#9c179e"
             ],
             [
              0.4444444444444444,
              "#bd3786"
             ],
             [
              0.5555555555555556,
              "#d8576b"
             ],
             [
              0.6666666666666666,
              "#ed7953"
             ],
             [
              0.7777777777777778,
              "#fb9f3a"
             ],
             [
              0.8888888888888888,
              "#fdca26"
             ],
             [
              1,
              "#f0f921"
             ]
            ],
            "type": "heatmap"
           }
          ],
          "heatmapgl": [
           {
            "colorbar": {
             "outlinewidth": 0,
             "ticks": ""
            },
            "colorscale": [
             [
              0,
              "#0d0887"
             ],
             [
              0.1111111111111111,
              "#46039f"
             ],
             [
              0.2222222222222222,
              "#7201a8"
             ],
             [
              0.3333333333333333,
              "#9c179e"
             ],
             [
              0.4444444444444444,
              "#bd3786"
             ],
             [
              0.5555555555555556,
              "#d8576b"
             ],
             [
              0.6666666666666666,
              "#ed7953"
             ],
             [
              0.7777777777777778,
              "#fb9f3a"
             ],
             [
              0.8888888888888888,
              "#fdca26"
             ],
             [
              1,
              "#f0f921"
             ]
            ],
            "type": "heatmapgl"
           }
          ],
          "histogram": [
           {
            "marker": {
             "pattern": {
              "fillmode": "overlay",
              "size": 10,
              "solidity": 0.2
             }
            },
            "type": "histogram"
           }
          ],
          "histogram2d": [
           {
            "colorbar": {
             "outlinewidth": 0,
             "ticks": ""
            },
            "colorscale": [
             [
              0,
              "#0d0887"
             ],
             [
              0.1111111111111111,
              "#46039f"
             ],
             [
              0.2222222222222222,
              "#7201a8"
             ],
             [
              0.3333333333333333,
              "#9c179e"
             ],
             [
              0.4444444444444444,
              "#bd3786"
             ],
             [
              0.5555555555555556,
              "#d8576b"
             ],
             [
              0.6666666666666666,
              "#ed7953"
             ],
             [
              0.7777777777777778,
              "#fb9f3a"
             ],
             [
              0.8888888888888888,
              "#fdca26"
             ],
             [
              1,
              "#f0f921"
             ]
            ],
            "type": "histogram2d"
           }
          ],
          "histogram2dcontour": [
           {
            "colorbar": {
             "outlinewidth": 0,
             "ticks": ""
            },
            "colorscale": [
             [
              0,
              "#0d0887"
             ],
             [
              0.1111111111111111,
              "#46039f"
             ],
             [
              0.2222222222222222,
              "#7201a8"
             ],
             [
              0.3333333333333333,
              "#9c179e"
             ],
             [
              0.4444444444444444,
              "#bd3786"
             ],
             [
              0.5555555555555556,
              "#d8576b"
             ],
             [
              0.6666666666666666,
              "#ed7953"
             ],
             [
              0.7777777777777778,
              "#fb9f3a"
             ],
             [
              0.8888888888888888,
              "#fdca26"
             ],
             [
              1,
              "#f0f921"
             ]
            ],
            "type": "histogram2dcontour"
           }
          ],
          "mesh3d": [
           {
            "colorbar": {
             "outlinewidth": 0,
             "ticks": ""
            },
            "type": "mesh3d"
           }
          ],
          "parcoords": [
           {
            "line": {
             "colorbar": {
              "outlinewidth": 0,
              "ticks": ""
             }
            },
            "type": "parcoords"
           }
          ],
          "pie": [
           {
            "automargin": true,
            "type": "pie"
           }
          ],
          "scatter": [
           {
            "fillpattern": {
             "fillmode": "overlay",
             "size": 10,
             "solidity": 0.2
            },
            "type": "scatter"
           }
          ],
          "scatter3d": [
           {
            "line": {
             "colorbar": {
              "outlinewidth": 0,
              "ticks": ""
             }
            },
            "marker": {
             "colorbar": {
              "outlinewidth": 0,
              "ticks": ""
             }
            },
            "type": "scatter3d"
           }
          ],
          "scattercarpet": [
           {
            "marker": {
             "colorbar": {
              "outlinewidth": 0,
              "ticks": ""
             }
            },
            "type": "scattercarpet"
           }
          ],
          "scattergeo": [
           {
            "marker": {
             "colorbar": {
              "outlinewidth": 0,
              "ticks": ""
             }
            },
            "type": "scattergeo"
           }
          ],
          "scattergl": [
           {
            "marker": {
             "colorbar": {
              "outlinewidth": 0,
              "ticks": ""
             }
            },
            "type": "scattergl"
           }
          ],
          "scattermapbox": [
           {
            "marker": {
             "colorbar": {
              "outlinewidth": 0,
              "ticks": ""
             }
            },
            "type": "scattermapbox"
           }
          ],
          "scatterpolar": [
           {
            "marker": {
             "colorbar": {
              "outlinewidth": 0,
              "ticks": ""
             }
            },
            "type": "scatterpolar"
           }
          ],
          "scatterpolargl": [
           {
            "marker": {
             "colorbar": {
              "outlinewidth": 0,
              "ticks": ""
             }
            },
            "type": "scatterpolargl"
           }
          ],
          "scatterternary": [
           {
            "marker": {
             "colorbar": {
              "outlinewidth": 0,
              "ticks": ""
             }
            },
            "type": "scatterternary"
           }
          ],
          "surface": [
           {
            "colorbar": {
             "outlinewidth": 0,
             "ticks": ""
            },
            "colorscale": [
             [
              0,
              "#0d0887"
             ],
             [
              0.1111111111111111,
              "#46039f"
             ],
             [
              0.2222222222222222,
              "#7201a8"
             ],
             [
              0.3333333333333333,
              "#9c179e"
             ],
             [
              0.4444444444444444,
              "#bd3786"
             ],
             [
              0.5555555555555556,
              "#d8576b"
             ],
             [
              0.6666666666666666,
              "#ed7953"
             ],
             [
              0.7777777777777778,
              "#fb9f3a"
             ],
             [
              0.8888888888888888,
              "#fdca26"
             ],
             [
              1,
              "#f0f921"
             ]
            ],
            "type": "surface"
           }
          ],
          "table": [
           {
            "cells": {
             "fill": {
              "color": "#EBF0F8"
             },
             "line": {
              "color": "white"
             }
            },
            "header": {
             "fill": {
              "color": "#C8D4E3"
             },
             "line": {
              "color": "white"
             }
            },
            "type": "table"
           }
          ]
         },
         "layout": {
          "annotationdefaults": {
           "arrowcolor": "#2a3f5f",
           "arrowhead": 0,
           "arrowwidth": 1
          },
          "autotypenumbers": "strict",
          "coloraxis": {
           "colorbar": {
            "outlinewidth": 0,
            "ticks": ""
           }
          },
          "colorscale": {
           "diverging": [
            [
             0,
             "#8e0152"
            ],
            [
             0.1,
             "#c51b7d"
            ],
            [
             0.2,
             "#de77ae"
            ],
            [
             0.3,
             "#f1b6da"
            ],
            [
             0.4,
             "#fde0ef"
            ],
            [
             0.5,
             "#f7f7f7"
            ],
            [
             0.6,
             "#e6f5d0"
            ],
            [
             0.7,
             "#b8e186"
            ],
            [
             0.8,
             "#7fbc41"
            ],
            [
             0.9,
             "#4d9221"
            ],
            [
             1,
             "#276419"
            ]
           ],
           "sequential": [
            [
             0,
             "#0d0887"
            ],
            [
             0.1111111111111111,
             "#46039f"
            ],
            [
             0.2222222222222222,
             "#7201a8"
            ],
            [
             0.3333333333333333,
             "#9c179e"
            ],
            [
             0.4444444444444444,
             "#bd3786"
            ],
            [
             0.5555555555555556,
             "#d8576b"
            ],
            [
             0.6666666666666666,
             "#ed7953"
            ],
            [
             0.7777777777777778,
             "#fb9f3a"
            ],
            [
             0.8888888888888888,
             "#fdca26"
            ],
            [
             1,
             "#f0f921"
            ]
           ],
           "sequentialminus": [
            [
             0,
             "#0d0887"
            ],
            [
             0.1111111111111111,
             "#46039f"
            ],
            [
             0.2222222222222222,
             "#7201a8"
            ],
            [
             0.3333333333333333,
             "#9c179e"
            ],
            [
             0.4444444444444444,
             "#bd3786"
            ],
            [
             0.5555555555555556,
             "#d8576b"
            ],
            [
             0.6666666666666666,
             "#ed7953"
            ],
            [
             0.7777777777777778,
             "#fb9f3a"
            ],
            [
             0.8888888888888888,
             "#fdca26"
            ],
            [
             1,
             "#f0f921"
            ]
           ]
          },
          "colorway": [
           "#636efa",
           "#EF553B",
           "#00cc96",
           "#ab63fa",
           "#FFA15A",
           "#19d3f3",
           "#FF6692",
           "#B6E880",
           "#FF97FF",
           "#FECB52"
          ],
          "font": {
           "color": "#2a3f5f"
          },
          "geo": {
           "bgcolor": "white",
           "lakecolor": "white",
           "landcolor": "#E5ECF6",
           "showlakes": true,
           "showland": true,
           "subunitcolor": "white"
          },
          "hoverlabel": {
           "align": "left"
          },
          "hovermode": "closest",
          "mapbox": {
           "style": "light"
          },
          "paper_bgcolor": "white",
          "plot_bgcolor": "#E5ECF6",
          "polar": {
           "angularaxis": {
            "gridcolor": "white",
            "linecolor": "white",
            "ticks": ""
           },
           "bgcolor": "#E5ECF6",
           "radialaxis": {
            "gridcolor": "white",
            "linecolor": "white",
            "ticks": ""
           }
          },
          "scene": {
           "xaxis": {
            "backgroundcolor": "#E5ECF6",
            "gridcolor": "white",
            "gridwidth": 2,
            "linecolor": "white",
            "showbackground": true,
            "ticks": "",
            "zerolinecolor": "white"
           },
           "yaxis": {
            "backgroundcolor": "#E5ECF6",
            "gridcolor": "white",
            "gridwidth": 2,
            "linecolor": "white",
            "showbackground": true,
            "ticks": "",
            "zerolinecolor": "white"
           },
           "zaxis": {
            "backgroundcolor": "#E5ECF6",
            "gridcolor": "white",
            "gridwidth": 2,
            "linecolor": "white",
            "showbackground": true,
            "ticks": "",
            "zerolinecolor": "white"
           }
          },
          "shapedefaults": {
           "line": {
            "color": "#2a3f5f"
           }
          },
          "ternary": {
           "aaxis": {
            "gridcolor": "white",
            "linecolor": "white",
            "ticks": ""
           },
           "baxis": {
            "gridcolor": "white",
            "linecolor": "white",
            "ticks": ""
           },
           "bgcolor": "#E5ECF6",
           "caxis": {
            "gridcolor": "white",
            "linecolor": "white",
            "ticks": ""
           }
          },
          "title": {
           "x": 0.05
          },
          "xaxis": {
           "automargin": true,
           "gridcolor": "white",
           "linecolor": "white",
           "ticks": "",
           "title": {
            "standoff": 15
           },
           "zerolinecolor": "white",
           "zerolinewidth": 2
          },
          "yaxis": {
           "automargin": true,
           "gridcolor": "white",
           "linecolor": "white",
           "ticks": "",
           "title": {
            "standoff": 15
           },
           "zerolinecolor": "white",
           "zerolinewidth": 2
          }
         }
        },
        "title": {
         "text": "Sentences t-SNE Visualization with TF-IDF Embeddings"
        },
        "width": 1200,
        "xaxis": {
         "anchor": "y",
         "domain": [
          0,
          1
         ],
         "title": {
          "text": "x-tsne"
         }
        },
        "yaxis": {
         "anchor": "x",
         "domain": [
          0,
          1
         ],
         "title": {
          "text": "y-tsne"
         }
        }
       }
      },
      "text/html": [
       "<div>                            <div id=\"122f6a51-152b-4c48-b814-b3b0ae07b02e\" class=\"plotly-graph-div\" style=\"height:1200px; width:1200px;\"></div>            <script type=\"text/javascript\">                require([\"plotly\"], function(Plotly) {                    window.PLOTLYENV=window.PLOTLYENV || {};                                    if (document.getElementById(\"122f6a51-152b-4c48-b814-b3b0ae07b02e\")) {                    Plotly.newPlot(                        \"122f6a51-152b-4c48-b814-b3b0ae07b02e\",                        [{\"customdata\":[[\"The film tells the story.........\",\"film noir\"],[\"A psychoanalyst and his young.........\",\"film noir\"],[\"The film is set in.........\",\"film noir\"],[\"Convict Van Duff is the.........\",\"film noir\"],[\"Rosalind Dee (DeCarlo) is a.........\",\"film noir\"],[\"Con man Rick Maxon (Payne).........\",\"film noir\"]],\"hovertemplate\":\"label=%{customdata[1]}\\u003cbr\\u003ex-tsne=%{x}\\u003cbr\\u003ey-tsne=%{y}\\u003cbr\\u003etext=%{customdata[0]}\\u003cextra\\u003e\\u003c\\u002fextra\\u003e\",\"legendgroup\":\"film noir\",\"marker\":{\"color\":\"#636efa\",\"symbol\":\"circle\"},\"mode\":\"markers\",\"name\":\"film noir\",\"orientation\":\"v\",\"showlegend\":true,\"x\":[1.1554052829742432,19.286849975585938,5.272614002227783,12.004380226135254,-8.31869125366211,-12.014385223388672],\"xaxis\":\"x\",\"y\":[11.794929504394531,1.3869383335113525,-3.2568674087524414,-16.150901794433594,-12.611530303955078,-3.8488504886627197],\"yaxis\":\"y\",\"type\":\"scatter\"},{\"customdata\":[[\"The eventful life of Swami.........\",\"biography\"],[\"Raised on a sharecropping plantation.........\",\"biography\"]],\"hovertemplate\":\"label=%{customdata[1]}\\u003cbr\\u003ex-tsne=%{x}\\u003cbr\\u003ey-tsne=%{y}\\u003cbr\\u003etext=%{customdata[0]}\\u003cextra\\u003e\\u003c\\u002fextra\\u003e\",\"legendgroup\":\"biography\",\"marker\":{\"color\":\"#EF553B\",\"symbol\":\"circle\"},\"mode\":\"markers\",\"name\":\"biography\",\"orientation\":\"v\",\"showlegend\":true,\"x\":[-3.541018486022949,-0.34941792488098145],\"xaxis\":\"x\",\"y\":[9.219606399536133,-14.547322273254395],\"yaxis\":\"y\",\"type\":\"scatter\"},{\"customdata\":[[\"Jagathalaprathapan is a prince who.........\",\"unknown\"],[\"The story is about two.........\",\"unknown\"],[\"In 1962, South Korea. Kang.........\",\"unknown\"],[\"Vani Viswanath plays the central.........\",\"unknown\"],[\"3000 years ago, the Vader.........\",\"unknown\"],[\"An orphan girl, named Bindu.........\",\"unknown\"],[\"Stand-up-comedian Nikita Kolesnikov (Danila Kozlovsky).........\",\"unknown\"],[\"Claire of the Moon is.........\",\"unknown\"],[\"Joseph is a mentally retarded.........\",\"unknown\"],[\"Balu (Vijayakumar) and Padma (Manjula.........\",\"unknown\"],[\"On the run from the.........\",\"unknown\"],[\"A man visits a happy.........\",\"unknown\"],[\"In 1983 KBS launched a.........\",\"unknown\"],[\"Rahul (Ramankanth) sees a concert.........\",\"unknown\"],[\"Rolex (Prakash Raj) is a.........\",\"unknown\"],[\"A young sculptor searches for.........\",\"unknown\"],[\"Joan (Purviance) and Magdalen (Sothern).........\",\"unknown\"],[\"Indie musician Dong-hoon and cartoonist.........\",\"unknown\"],[\"The story tells about Ching.........\",\"unknown\"],[\"A former agent from the.........\",\"unknown\"],[\"An earthquake releases a bunch.........\",\"unknown\"],[\"Nine people from around the.........\",\"unknown\"],[\"The film takes place in.........\",\"unknown\"],[\"Dharma (Anandaraj) is an auto.........\",\"unknown\"],[\"Arjun lives in a village..........\",\"unknown\"],[\"The story of the film.........\",\"unknown\"],[\"Chu Liuxiang is having drinks.........\",\"unknown\"],[\"Soo-nam is a poor woman.........\",\"unknown\"],[\"Vijay (R. Sarathkumar) and Seetha.........\",\"unknown\"],[\"Vivek is a wanted criminal.........\",\"unknown\"],[\"Gopal (M.G.R.) is an honest.........\",\"unknown\"],[\"This film is about the.........\",\"unknown\"],[\"The story is a family.........\",\"unknown\"],[\"Kumar is a young and.........\",\"unknown\"],[\"Twice widowed, Pilnyeo vows never.........\",\"unknown\"],[\"A new teacher organizes a.........\",\"unknown\"],[\"In the 1930s, Teresa (Buday).........\",\"unknown\"],[\"In the year 1999, the.........\",\"unknown\"],[\"The film is based on.........\",\"unknown\"],[\"Jin-hong is a prosecutor who.........\",\"unknown\"],[\"Kumar, a graduate who decides.........\",\"unknown\"],[\"The story revolves around a.........\",\"unknown\"],[\"A genius sculptor Joon-goo (Park.........\",\"unknown\"],[\"Russian general Marenkov (Robert Shaw).........\",\"unknown\"],[\"Rakta Bandhan is a family.........\",\"unknown\"],[\"Louisa Gould (Jenny Seagrove) hides.........\",\"unknown\"],[\"Marappan (Anandaraj) is the rebel.........\",\"unknown\"],[\"The spouses Alec and Zoey,.........\",\"unknown\"],[\"After the execution of Kattabomman.........\",\"unknown\"],[\"Alli (Manorama) a veritable jungle.........\",\"unknown\"],[\"The film takes place in.........\",\"unknown\"],[\"Raja is a 10-year-old tourist.........\",\"unknown\"],[\"Rajini's parents are killed by.........\",\"unknown\"],[\"Pudhayal was about imaginary gold.........\",\"unknown\"],[\"Kaalia is an action flick.........\",\"unknown\"],[\"Seven young freedom fighters, heavily.........\",\"unknown\"],[\"The story revolves around a.........\",\"unknown\"],[\"Jung-woo is a film director.........\",\"unknown\"],[\"The story revolves around a.........\",\"unknown\"],[\"Handsome and fairly good-looking Anil.........\",\"unknown\"],[\"While on a trip to.........\",\"unknown\"],[\"The story centres on the.........\",\"unknown\"],[\"Two persons namely Ajay and.........\",\"unknown\"],[\"Story of a corpse being.........\",\"unknown\"],[\"The film revolves around the.........\",\"unknown\"],[\"Anand (Shivrajkumar) was nicknamed \\\"Kaddipudi\\\".........\",\"unknown\"],[\"Vijay (MGR), a carefree and.........\",\"unknown\"],[\"A man loses his memory.........\",\"unknown\"],[\"The film tells the story.........\",\"unknown\"]],\"hovertemplate\":\"label=%{customdata[1]}\\u003cbr\\u003ex-tsne=%{x}\\u003cbr\\u003ey-tsne=%{y}\\u003cbr\\u003etext=%{customdata[0]}\\u003cextra\\u003e\\u003c\\u002fextra\\u003e\",\"legendgroup\":\"unknown\",\"marker\":{\"color\":\"#00cc96\",\"symbol\":\"circle\"},\"mode\":\"markers\",\"name\":\"unknown\",\"orientation\":\"v\",\"showlegend\":true,\"x\":[-0.23735962808132172,-7.386903285980225,-12.202765464782715,15.05556869506836,-7.055501461029053,-10.39400577545166,-5.0906243324279785,2.8684287071228027,10.170613288879395,-15.503911972045898,-21.36316680908203,-9.69793701171875,3.063704013824463,-14.818196296691895,-16.358970642089844,-7.330031871795654,-6.5487589836120605,-6.2333526611328125,-1.4639328718185425,3.7326910495758057,-7.655555725097656,12.167933464050293,-1.1446715593338013,13.989282608032227,-18.440351486206055,1.7637526988983154,-3.315253257751465,12.269396781921387,-16.090089797973633,3.2667386531829834,-10.19206714630127,-16.987112045288086,-7.010389804840088,-16.882091522216797,-7.492591381072998,-12.01499080657959,5.073230743408203,-5.860143661499023,-1.214135766029358,-2.6403510570526123,7.482719898223877,15.165557861328125,3.766108512878418,11.590006828308105,-10.876293182373047,2.1884727478027344,-20.124380111694336,-4.952273845672607,20.305490493774414,-16.77413558959961,16.791183471679688,-4.393986701965332,-6.176675796508789,17.020170211791992,14.797677993774414,-6.736739158630371,8.207488059997559,13.646707534790039,-9.42832088470459,14.016322135925293,-9.435501098632812,14.041516304016113,14.198745727539062,11.889915466308594,-8.937294960021973,-1.5649933815002441,-16.189043045043945,1.2565631866455078,3.4088754653930664],\"xaxis\":\"x\",\"y\":[-19.202499389648438,13.995339393615723,-9.874470710754395,-4.172256946563721,-19.53999137878418,6.247211456298828,-4.8028950691223145,-8.850998878479004,-7.565408706665039,3.098602294921875,-8.674627304077148,4.870395660400391,12.234879493713379,-3.690861463546753,4.735386848449707,4.619071960449219,0.12208619713783264,-5.7811360359191895,-3.5266997814178467,12.754344940185547,-19.105449676513672,17.273181915283203,13.32758617401123,-6.725497722625732,-2.379767656326294,18.824113845825195,1.9817144870758057,10.865334510803223,1.8099311590194702,-13.926057815551758,-2.2505264282226562,6.525848865509033,10.283554077148438,5.021002769470215,0.00371762877330184,-9.738265037536621,-16.00794792175293,-21.52161979675293,8.974275588989258,-4.082107067108154,14.5446195602417,-14.121630668640137,11.234885215759277,-16.63235855102539,16.9433650970459,14.347306251525879,-2.6685361862182617,-7.523962497711182,6.397367477416992,-9.47484016418457,6.046688079833984,-10.566264152526855,2.3132550716400146,-8.739216804504395,-10.659797668457031,5.361155033111572,-0.3756110370159149,10.484228134155273,9.08602523803711,-10.242088317871094,-1.5923256874084473,-2.585969924926758,1.5389724969863892,9.06200122833252,8.598322868347168,5.2796854972839355,1.643870234489441,-15.41646671295166,5.992099761962891],\"yaxis\":\"y\",\"type\":\"scatter\"},{\"customdata\":[[\"Police inspector Holloway (Patrick Wymark).........\",\"mystery\"],[\"The story of the film.........\",\"mystery\"],[\"A blind detective, Duncan Maclain,.........\",\"mystery\"],[\"Nick and Nora Charles are.........\",\"mystery\"],[\"When infamous jewel thief Flambeau.........\",\"mystery\"],[\"It is of the Jack.........\",\"mystery\"]],\"hovertemplate\":\"label=%{customdata[1]}\\u003cbr\\u003ex-tsne=%{x}\\u003cbr\\u003ey-tsne=%{y}\\u003cbr\\u003etext=%{customdata[0]}\\u003cextra\\u003e\\u003c\\u002fextra\\u003e\",\"legendgroup\":\"mystery\",\"marker\":{\"color\":\"#ab63fa\",\"symbol\":\"circle\"},\"mode\":\"markers\",\"name\":\"mystery\",\"orientation\":\"v\",\"showlegend\":true,\"x\":[15.155308723449707,0.5361200571060181,9.263174057006836,-1.896623969078064,-0.14486974477767944,20.012020111083984],\"xaxis\":\"x\",\"y\":[0.8698877692222595,6.62352180480957,3.7044169902801514,-9.311887741088867,-6.808823108673096,3.8034486770629883],\"yaxis\":\"y\",\"type\":\"scatter\"},{\"customdata\":[[\"Lewis and Clark and George.........\",\"drama\"],[\"Oliver's mother, a penniless outcast,.........\",\"drama\"],[\"Reverend Smith has arrived in.........\",\"drama\"],[\"Following the plot of the.........\",\"drama\"],[\"The film is a story.........\",\"drama\"],[\"Byron Levin works in a.........\",\"drama\"],[\"This film is about a.........\",\"drama\"],[\"Bok-nyeo, a mentally handicapped woman,.........\",\"drama\"],[\"The film is an account.........\",\"drama\"],[\"A crime reporter, assisted by.........\",\"drama\"],[\"Marianne (Greta Garbo) is a.........\",\"drama\"],[\"Shane O'Shea is a young.........\",\"drama\"],[\"Italian aristocrat Angela Chiaromonte (Helen.........\",\"drama\"],[\"Dhag is the story of.........\",\"drama\"],[\"A Mighty Heart is a.........\",\"drama\"],[\"The film is an examination.........\",\"drama\"],[\"Gloria Cole and Eddie Swenson.........\",\"drama\"],[\"The film is about an.........\",\"drama\"],[\"Chaiti is a young beautiful.........\",\"drama\"],[\"Fontaine Khaled is the London.........\",\"drama\"],[\"California gubernatorial candidate Burton (Lyon).........\",\"drama\"],[\"A 12-year old young boy.........\",\"drama\"],[\"Rie and Nao own a.........\",\"drama\"],[\"The film stars Harry Connick.........\",\"drama\"],[\"In 1964, inmate Charlie Forsythe.........\",\"drama\"],[\"Three teenage boys in small-town.........\",\"drama\"],[\"Taglines: \\\"Being a girl is.........\",\"drama\"],[\"Newland Archer is engaged to.........\",\"drama\"],[\"The Philippines, 1972. Mysterious things.........\",\"drama\"],[\"Set in Alexandria in 1938,.........\",\"drama\"],[\"The film is set in.........\",\"drama\"],[\"Michael Walsh, a husband and.........\",\"drama\"],[\"The film revolves around an.........\",\"drama\"],[\"Big Bad Love shares its.........\",\"drama\"],[\"Ten-year-old Bobby (Frankie Thomas) and.........\",\"drama\"],[\"Brinda (Sindhu Tolani) is an.........\",\"drama\"],[\"A mysterious killer, known only.........\",\"drama\"],[\"Omar Sharif plays Muhassab, headman.........\",\"drama\"],[\"A young Lakota Sioux (Lou.........\",\"drama\"],[\"Hikaru Oshiro, noticing that there.........\",\"drama\"],[\"Chuck Wheeler is released from.........\",\"drama\"],[\"Leslie is a troubled 1960s.........\",\"drama\"],[\"In Renaissance Florence, a Florentine.........\",\"drama\"],[\"\\\"Illustrated Press\\\" society editor Lorelei.........\",\"drama\"],[\"Spanning nearly 20 years from.........\",\"drama\"],[\"A young construction worker rams.........\",\"drama\"],[\"Teenager Jackie Knowles (Richard Attenborough).........\",\"drama\"],[\"In a desperate attempt to.........\",\"drama\"],[\"The first act of the.........\",\"drama\"],[\"In Wilmington, Delaware, Anna Thompson.........\",\"drama\"],[\"While in a restaurant, Carla.........\",\"drama\"],[\"In the middle of a.........\",\"drama\"],[\"Chad (Jimmie Rodgers) is a.........\",\"drama\"],[\"Midget George Wilson pulls strings.........\",\"drama\"],[\"In the remote and undeveloped.........\",\"drama\"],[\"The film is about Jamie,.........\",\"drama\"],[\"Jean Paurel is a famous.........\",\"drama\"],[\"Napoleon Bonaparte (Charles Boyer) launches.........\",\"drama\"],[\"Four friends go on a.........\",\"drama\"]],\"hovertemplate\":\"label=%{customdata[1]}\\u003cbr\\u003ex-tsne=%{x}\\u003cbr\\u003ey-tsne=%{y}\\u003cbr\\u003etext=%{customdata[0]}\\u003cextra\\u003e\\u003c\\u002fextra\\u003e\",\"legendgroup\":\"drama\",\"marker\":{\"color\":\"#FFA15A\",\"symbol\":\"circle\"},\"mode\":\"markers\",\"name\":\"drama\",\"orientation\":\"v\",\"showlegend\":true,\"x\":[-11.44797420501709,-9.236103057861328,-12.503375053405762,8.482593536376953,-5.4723920822143555,-11.979679107666016,8.059215545654297,4.261369705200195,-2.9834680557250977,-11.334671974182129,6.859381198883057,1.0256983041763306,4.25441312789917,-7.7899627685546875,-17.885517120361328,-1.899875283241272,3.796139717102051,4.0405354499816895,7.811325550079346,3.9577393531799316,2.1203315258026123,-8.618443489074707,4.809753894805908,-4.680099964141846,14.49671459197998,10.833749771118164,-12.979239463806152,20.50084114074707,8.74201774597168,21.012163162231445,12.730053901672363,-12.483210563659668,-9.745280265808105,-6.205898284912109,-15.22735595703125,-4.822111129760742,18.490062713623047,1.6528500318527222,-7.750223159790039,-12.105367660522461,13.238537788391113,-11.743583679199219,-12.79057502746582,13.400392532348633,1.1774556636810303,-11.869987487792969,18.46133041381836,-1.976441740989685,-1.8930878639221191,-1.8997834920883179,-10.851694107055664,7.42645263671875,5.467660903930664,-12.735422134399414,-8.607973098754883,4.093108177185059,9.526034355163574,0.6173951625823975,12.253113746643066],\"xaxis\":\"x\",\"y\":[-17.965883255004883,-4.673600673675537,-0.9853596091270447,15.923720359802246,3.231205940246582,-5.806525707244873,11.934697151184082,-14.509651184082031,9.295942306518555,13.339762687683105,8.037631034851074,-4.039414882659912,15.007232666015625,-3.5769002437591553,-11.716373443603516,16.609941482543945,-0.9477056264877319,19.06611442565918,-6.234376430511475,9.753337860107422,-11.982067108154297,-7.381900787353516,5.709900379180908,-11.346323013305664,-13.614823341369629,7.058010101318359,-12.234997749328613,-6.543358325958252,10.293951988220215,6.457920551300049,15.916096687316895,3.7539846897125244,5.851813316345215,9.03226375579834,-5.817254543304443,-15.574417114257812,2.146355628967285,4.192938327789307,-3.1526737213134766,-12.53127384185791,-14.166797637939453,8.003701210021973,6.944995880126953,2.3638064861297607,14.618690490722656,-4.832376956939697,-3.788109302520752,-12.29202651977539,16.836849212646484,-17.814796447753906,-9.004162788391113,-4.086358070373535,16.804067611694336,-17.94129753112793,-7.980990886688232,-6.370029449462891,3.84134840965271,-12.035140037536621,0.8702974319458008],\"yaxis\":\"y\",\"type\":\"scatter\"},{\"customdata\":[[\"In a British TV studio,.........\",\"comedy\"],[\"Neil John Samuel is a.........\",\"comedy\"],[\"Young sci-fi\\u002ffantasy enthusiast Gavin Gore.........\",\"comedy\"],[\"A popular dance hall girl,.........\",\"comedy\"],[\"Mordecai C. Jones (Scott) \\u2013.........\",\"comedy\"],[\"Flesh (Vince Murdocco) is kidnapped.........\",\"comedy\"],[\"Two best friends who live.........\",\"comedy\"],[\"Curry and Pepper are two.........\",\"comedy\"],[\"Set in the austere post\\u2013World.........\",\"comedy\"],[\"Molly Gilbert won't accept a.........\",\"comedy\"],[\"Bumbling cop Chatur Singh (Sanjay.........\",\"comedy\"],[\"Hardy plays Dr. Henry Tibbett,.........\",\"comedy\"],[\"After discovering that her state.........\",\"comedy\"],[\"Struggling young actress Jenny (Marjorie.........\",\"comedy\"],[\"In every port, sailor Bill,.........\",\"comedy\"],[\"Hong Deok-Ja continues to run.........\",\"comedy\"],[\"The film tells the story.........\",\"comedy\"],[\"After Joe Huggett loses his.........\",\"comedy\"],[\"Eric Wainwright (Van Johnson), a.........\",\"comedy\"],[\"Kevin Agar is a Carlton-based.........\",\"comedy\"],[\"Restaurant owner Dylan Ramsey (David.........\",\"comedy\"],[\"Jerry McGuire (William Collier Jr.).........\",\"comedy\"],[\"Two college girls, Ducky and.........\",\"comedy\"],[\"The film's slight storyline concerns.........\",\"comedy\"],[\"A simple handyman, who also.........\",\"comedy\"],[\"The film tells the story.........\",\"comedy\"],[\"In a Mexican nightclub, some.........\",\"comedy\"],[\"Officers throw an extravagant party.........\",\"comedy\"],[\"Nick (Niven) is the supposed.........\",\"comedy\"],[\"Chandrabose (Mohanlal) whose wife's (Meera.........\",\"comedy\"],[\"On board an ocean liner.........\",\"comedy\"],[\"The boys are involved in.........\",\"comedy\"],[\"The Rogers family visit Blackpool.........\",\"comedy\"],[\"The young filmmaker Timothy (Jonathan.........\",\"comedy\"],[\"Small-fry marijuana harvesters in Northern.........\",\"comedy\"],[\"The Chain tells the story.........\",\"comedy\"],[\"The title character is Victor.........\",\"comedy\"],[\"Harry England (Michael Crawford), a.........\",\"comedy\"],[\"In Shanghai, Madeleine Linden is.........\",\"comedy\"],[\"Andy (Lee Bowman) and Janie.........\",\"comedy\"],[\"A small Midwestern town is.........\",\"comedy\"],[\"Leonard Maltin: \\\"Cute comic mystery............\",\"comedy\"],[\"The film plays out with.........\",\"comedy\"],[\"Two sailors are conned into.........\",\"comedy\"],[\"The movie is about Ilangovan.........\",\"comedy\"],[\"Alvin Roberts (Lee Tracy) feuds.........\",\"comedy\"],[\"Stephanie (Lyn Wilde) and Terry.........\",\"comedy\"],[\"The young brother of two.........\",\"comedy\"],[\"Jennie Hagan (Swanson) is a.........\",\"comedy\"],[\"Banerjee stars as Ram Das,.........\",\"comedy\"],[\"Gracie (Fields) and Laurie (Dolman).........\",\"comedy\"]],\"hovertemplate\":\"label=%{customdata[1]}\\u003cbr\\u003ex-tsne=%{x}\\u003cbr\\u003ey-tsne=%{y}\\u003cbr\\u003etext=%{customdata[0]}\\u003cextra\\u003e\\u003c\\u002fextra\\u003e\",\"legendgroup\":\"comedy\",\"marker\":{\"color\":\"#19d3f3\",\"symbol\":\"circle\"},\"mode\":\"markers\",\"name\":\"comedy\",\"orientation\":\"v\",\"showlegend\":true,\"x\":[22.045429229736328,2.400984048843384,6.519029140472412,10.703437805175781,9.37916374206543,-21.36250877380371,-6.802555084228516,-9.555842399597168,0.046543560922145844,4.133223533630371,14.13563060760498,3.7198853492736816,1.4762299060821533,15.130836486816406,6.075677394866943,6.984147071838379,2.353792190551758,3.734266519546509,-15.192366600036621,-7.700482368469238,10.469046592712402,-20.329862594604492,5.293907165527344,-2.275540590286255,2.264615297317505,2.0656678676605225,-0.33859285712242126,-21.60548210144043,-2.3296866416931152,-5.583014488220215,-11.119277954101562,-2.8263533115386963,8.587793350219727,6.815711498260498,10.904732704162598,-6.717458248138428,0.6817915439605713,5.619218349456787,-12.320259094238281,-1.7944444417953491,-0.4017084836959839,13.932130813598633,-6.303798675537109,4.331207752227783,10.882740020751953,-2.0895309448242188,-4.436183929443359,12.796135902404785,8.189833641052246,-10.589913368225098,15.007698059082031],\"xaxis\":\"x\",\"y\":[6.230123519897461,2.3273086547851562,3.5725460052490234,-17.522876739501953,13.695862770080566,-8.752888679504395,15.30575180053711,12.730205535888672,14.261184692382812,2.1351447105407715,-7.723825931549072,-8.588387489318848,1.335577130317688,9.975436210632324,2.834430694580078,0.2946106791496277,-12.285110473632812,8.510005950927734,-5.181835174560547,2.942091464996338,-6.503629684448242,2.7059292793273926,-2.3210270404815674,11.137639045715332,-2.245711088180542,19.6922550201416,2.654855251312256,6.509756565093994,-9.168257713317871,-2.151860475540161,17.4403076171875,-17.395448684692383,-0.325190931558609,11.140507698059082,7.825791358947754,6.936373710632324,15.310995101928711,-18.32196617126465,1.4553368091583252,-12.39569091796875,-9.364157676696777,-2.324429988861084,15.788762092590332,2.4777004718780518,-10.493766784667969,-1.2795078754425049,-0.33492863178253174,3.1795384883880615,-9.918386459350586,-1.211592435836792,10.354347229003906],\"yaxis\":\"y\",\"type\":\"scatter\"},{\"customdata\":[[\"George Cabot Jr. (Cesar Romero),.........\",\"comedy, romance\"]],\"hovertemplate\":\"label=%{customdata[1]}\\u003cbr\\u003ex-tsne=%{x}\\u003cbr\\u003ey-tsne=%{y}\\u003cbr\\u003etext=%{customdata[0]}\\u003cextra\\u003e\\u003c\\u002fextra\\u003e\",\"legendgroup\":\"comedy, romance\",\"marker\":{\"color\":\"#FF6692\",\"symbol\":\"circle\"},\"mode\":\"markers\",\"name\":\"comedy, romance\",\"orientation\":\"v\",\"showlegend\":true,\"x\":[-12.414907455444336],\"xaxis\":\"x\",\"y\":[-17.982324600219727],\"yaxis\":\"y\",\"type\":\"scatter\"},{\"customdata\":[[\"Mongol chief Temujin (later to.........\",\"adventure\"],[\"Shellshocked following his experiences as.........\",\"adventure\"],[\"Professional hunter Harry Black is.........\",\"adventure\"],[\"After being court-martialed and discharged.........\",\"adventure\"]],\"hovertemplate\":\"label=%{customdata[1]}\\u003cbr\\u003ex-tsne=%{x}\\u003cbr\\u003ey-tsne=%{y}\\u003cbr\\u003etext=%{customdata[0]}\\u003cextra\\u003e\\u003c\\u002fextra\\u003e\",\"legendgroup\":\"adventure\",\"marker\":{\"color\":\"#B6E880\",\"symbol\":\"circle\"},\"mode\":\"markers\",\"name\":\"adventure\",\"orientation\":\"v\",\"showlegend\":true,\"x\":[-12.67679214477539,-18.404104232788086,5.6894731521606445,-21.653396606445312],\"xaxis\":\"x\",\"y\":[-2.015561819076538,-4.160220623016357,-18.485700607299805,7.47170352935791],\"yaxis\":\"y\",\"type\":\"scatter\"},{\"customdata\":[[\"The story starts with a.........\",\"romance \\u002f suspense\"]],\"hovertemplate\":\"label=%{customdata[1]}\\u003cbr\\u003ex-tsne=%{x}\\u003cbr\\u003ey-tsne=%{y}\\u003cbr\\u003etext=%{customdata[0]}\\u003cextra\\u003e\\u003c\\u002fextra\\u003e\",\"legendgroup\":\"romance \\u002f suspense\",\"marker\":{\"color\":\"#FF97FF\",\"symbol\":\"circle\"},\"mode\":\"markers\",\"name\":\"romance \\u002f suspense\",\"orientation\":\"v\",\"showlegend\":true,\"x\":[1.7167679071426392],\"xaxis\":\"x\",\"y\":[20.102628707885742],\"yaxis\":\"y\",\"type\":\"scatter\"},{\"customdata\":[[\"In World War II, two.........\",\"pow comedy\"]],\"hovertemplate\":\"label=%{customdata[1]}\\u003cbr\\u003ex-tsne=%{x}\\u003cbr\\u003ey-tsne=%{y}\\u003cbr\\u003etext=%{customdata[0]}\\u003cextra\\u003e\\u003c\\u002fextra\\u003e\",\"legendgroup\":\"pow comedy\",\"marker\":{\"color\":\"#FECB52\",\"symbol\":\"circle\"},\"mode\":\"markers\",\"name\":\"pow comedy\",\"orientation\":\"v\",\"showlegend\":true,\"x\":[2.306602954864502],\"xaxis\":\"x\",\"y\":[15.559917449951172],\"yaxis\":\"y\",\"type\":\"scatter\"},{\"customdata\":[[\"It is love at first.........\",\"romance\"],[\"Loosely based on true events.........\",\"romance\"]],\"hovertemplate\":\"label=%{customdata[1]}\\u003cbr\\u003ex-tsne=%{x}\\u003cbr\\u003ey-tsne=%{y}\\u003cbr\\u003etext=%{customdata[0]}\\u003cextra\\u003e\\u003c\\u002fextra\\u003e\",\"legendgroup\":\"romance\",\"marker\":{\"color\":\"#636efa\",\"symbol\":\"circle\"},\"mode\":\"markers\",\"name\":\"romance\",\"orientation\":\"v\",\"showlegend\":true,\"x\":[-9.912848472595215,0.04272686690092087],\"xaxis\":\"x\",\"y\":[1.4573954343795776,10.915414810180664],\"yaxis\":\"y\",\"type\":\"scatter\"},{\"customdata\":[[\"Having cleaned up Tombstone, Arizona,.........\",\"western\"],[\"The story involves a middle-aged.........\",\"western\"],[\"Stephen Ghent, a mineowner, falls.........\",\"western\"],[\"After being told by his.........\",\"western\"],[\"Jeff Hassard (Dean Jagger) and.........\",\"western\"],[\"A U.S. marshal investigates when.........\",\"western\"],[\"John Murdock (Paul Richards) is.........\",\"western\"],[\"A prospective settler, pioneer Bob.........\",\"western\"],[\"When a town drunk, Gabe,.........\",\"western\"],[\"Following a series of robberies.........\",\"western\"],[\"The plot is a mystery.........\",\"western\"]],\"hovertemplate\":\"label=%{customdata[1]}\\u003cbr\\u003ex-tsne=%{x}\\u003cbr\\u003ey-tsne=%{y}\\u003cbr\\u003etext=%{customdata[0]}\\u003cextra\\u003e\\u003c\\u002fextra\\u003e\",\"legendgroup\":\"western\",\"marker\":{\"color\":\"#EF553B\",\"symbol\":\"circle\"},\"mode\":\"markers\",\"name\":\"western\",\"orientation\":\"v\",\"showlegend\":true,\"x\":[19.773027420043945,17.85972785949707,-13.403449058532715,19.060007095336914,10.747241973876953,-13.052671432495117,6.367143630981445,9.96890640258789,4.372526168823242,14.830755233764648,10.967130661010742],\"xaxis\":\"x\",\"y\":[-6.292689323425293,-7.95222806930542,-0.09247393161058426,-5.163394927978516,-4.89831018447876,6.857827186584473,-8.716384887695312,1.128179669380188,-8.318777084350586,5.625633716583252,15.9934720993042],\"yaxis\":\"y\",\"type\":\"scatter\"},{\"customdata\":[[\"The story is about a.........\",\"romantic comedy\"],[\"Scott (Ryan Phillippe) is a.........\",\"romantic comedy\"],[\"Trust concerns the unusual romance.........\",\"romantic comedy\"],[\"Alim is a young gay.........\",\"romantic comedy\"],[\"Daniels, in her final silent.........\",\"romantic comedy\"]],\"hovertemplate\":\"label=%{customdata[1]}\\u003cbr\\u003ex-tsne=%{x}\\u003cbr\\u003ey-tsne=%{y}\\u003cbr\\u003etext=%{customdata[0]}\\u003cextra\\u003e\\u003c\\u002fextra\\u003e\",\"legendgroup\":\"romantic comedy\",\"marker\":{\"color\":\"#00cc96\",\"symbol\":\"circle\"},\"mode\":\"markers\",\"name\":\"romantic comedy\",\"orientation\":\"v\",\"showlegend\":true,\"x\":[7.232339859008789,-3.67055606842041,-7.994258880615234,2.434488296508789,-11.06212329864502],\"xaxis\":\"x\",\"y\":[-13.397723197937012,-6.325277328491211,-12.305008888244629,-1.5671842098236084,13.20261001586914],\"yaxis\":\"y\",\"type\":\"scatter\"},{\"customdata\":[[\"Kisan Kanya was based on.........\",\"social\"]],\"hovertemplate\":\"label=%{customdata[1]}\\u003cbr\\u003ex-tsne=%{x}\\u003cbr\\u003ey-tsne=%{y}\\u003cbr\\u003etext=%{customdata[0]}\\u003cextra\\u003e\\u003c\\u002fextra\\u003e\",\"legendgroup\":\"social\",\"marker\":{\"color\":\"#ab63fa\",\"symbol\":\"circle\"},\"mode\":\"markers\",\"name\":\"social\",\"orientation\":\"v\",\"showlegend\":true,\"x\":[0.3291384279727936],\"xaxis\":\"x\",\"y\":[8.284236907958984],\"yaxis\":\"y\",\"type\":\"scatter\"},{\"customdata\":[[\"A psychic woman leads archaeologists.........\",\"horror\"],[\"Christopher, a lustful man goes.........\",\"horror\"],[\"Charles Kessler (Bela Lugosi) is.........\",\"horror\"],[\"During a TV segment about.........\",\"horror\"]],\"hovertemplate\":\"label=%{customdata[1]}\\u003cbr\\u003ex-tsne=%{x}\\u003cbr\\u003ey-tsne=%{y}\\u003cbr\\u003etext=%{customdata[0]}\\u003cextra\\u003e\\u003c\\u002fextra\\u003e\",\"legendgroup\":\"horror\",\"marker\":{\"color\":\"#FFA15A\",\"symbol\":\"circle\"},\"mode\":\"markers\",\"name\":\"horror\",\"orientation\":\"v\",\"showlegend\":true,\"x\":[6.122893333435059,9.248263359069824,1.373146891593933,12.204448699951172],\"xaxis\":\"x\",\"y\":[-5.563235282897949,-4.681312561035156,-14.9100980758667,16.448265075683594],\"yaxis\":\"y\",\"type\":\"scatter\"},{\"customdata\":[[\"Two reporters, Curtis (Conrad Phillips).........\",\"crime\"],[\"Edgar Mills and his mistress.........\",\"crime\"],[\"Inventor and engineer Robert Draper.........\",\"crime\"],[\"United States Secret Service Lieutenant.........\",\"crime\"],[\"A new gas formula that.........\",\"crime\"],[\"American gambler Nick Cain (Raft).........\",\"crime\"],[\"Two brothers become involved with.........\",\"crime\"]],\"hovertemplate\":\"label=%{customdata[1]}\\u003cbr\\u003ex-tsne=%{x}\\u003cbr\\u003ey-tsne=%{y}\\u003cbr\\u003etext=%{customdata[0]}\\u003cextra\\u003e\\u003c\\u002fextra\\u003e\",\"legendgroup\":\"crime\",\"marker\":{\"color\":\"#19d3f3\",\"symbol\":\"circle\"},\"mode\":\"markers\",\"name\":\"crime\",\"orientation\":\"v\",\"showlegend\":true,\"x\":[0.5935494303703308,10.885571479797363,14.238686561584473,10.491466522216797,20.113523483276367,11.724309921264648,-10.478960990905762],\"xaxis\":\"x\",\"y\":[-6.675870418548584,0.45885610580444336,-13.058540344238281,-3.929786443710327,6.698504447937012,-5.013080596923828,17.300256729125977],\"yaxis\":\"y\",\"type\":\"scatter\"},{\"customdata\":[[\"Dr. Markoff (J. Carrol Naish).........\",\"science fiction\"]],\"hovertemplate\":\"label=%{customdata[1]}\\u003cbr\\u003ex-tsne=%{x}\\u003cbr\\u003ey-tsne=%{y}\\u003cbr\\u003etext=%{customdata[0]}\\u003cextra\\u003e\\u003c\\u002fextra\\u003e\",\"legendgroup\":\"science fiction\",\"marker\":{\"color\":\"#FF6692\",\"symbol\":\"circle\"},\"mode\":\"markers\",\"name\":\"science fiction\",\"orientation\":\"v\",\"showlegend\":true,\"x\":[-15.315720558166504],\"xaxis\":\"x\",\"y\":[10.204567909240723],\"yaxis\":\"y\",\"type\":\"scatter\"},{\"customdata\":[[\"The plot revolves around the.........\",\"coming of age drama\"]],\"hovertemplate\":\"label=%{customdata[1]}\\u003cbr\\u003ex-tsne=%{x}\\u003cbr\\u003ey-tsne=%{y}\\u003cbr\\u003etext=%{customdata[0]}\\u003cextra\\u003e\\u003c\\u002fextra\\u003e\",\"legendgroup\":\"coming of age drama\",\"marker\":{\"color\":\"#B6E880\",\"symbol\":\"circle\"},\"mode\":\"markers\",\"name\":\"coming of age drama\",\"orientation\":\"v\",\"showlegend\":true,\"x\":[-4.759962558746338],\"xaxis\":\"x\",\"y\":[-3.3523001670837402],\"yaxis\":\"y\",\"type\":\"scatter\"},{\"customdata\":[[\"The movie opens with Fung.........\",\"erotic \\u002f drama\"]],\"hovertemplate\":\"label=%{customdata[1]}\\u003cbr\\u003ex-tsne=%{x}\\u003cbr\\u003ey-tsne=%{y}\\u003cbr\\u003etext=%{customdata[0]}\\u003cextra\\u003e\\u003c\\u002fextra\\u003e\",\"legendgroup\":\"erotic \\u002f drama\",\"marker\":{\"color\":\"#FF97FF\",\"symbol\":\"circle\"},\"mode\":\"markers\",\"name\":\"erotic \\u002f drama\",\"orientation\":\"v\",\"showlegend\":true,\"x\":[10.52133846282959],\"xaxis\":\"x\",\"y\":[-10.272147178649902],\"yaxis\":\"y\",\"type\":\"scatter\"},{\"customdata\":[[\"Nikki Singh (Akshay Oberoi) is.........\",\"neo-noir\"]],\"hovertemplate\":\"label=%{customdata[1]}\\u003cbr\\u003ex-tsne=%{x}\\u003cbr\\u003ey-tsne=%{y}\\u003cbr\\u003etext=%{customdata[0]}\\u003cextra\\u003e\\u003c\\u002fextra\\u003e\",\"legendgroup\":\"neo-noir\",\"marker\":{\"color\":\"#FECB52\",\"symbol\":\"circle\"},\"mode\":\"markers\",\"name\":\"neo-noir\",\"orientation\":\"v\",\"showlegend\":true,\"x\":[15.618880271911621],\"xaxis\":\"x\",\"y\":[-9.834242820739746],\"yaxis\":\"y\",\"type\":\"scatter\"},{\"customdata\":[[\"Harvey Keitel plays an American.........\",\"crime drama\"],[\"The drama tells of a.........\",\"crime drama\"],[\"With five rival oil companies.........\",\"crime drama\"]],\"hovertemplate\":\"label=%{customdata[1]}\\u003cbr\\u003ex-tsne=%{x}\\u003cbr\\u003ey-tsne=%{y}\\u003cbr\\u003etext=%{customdata[0]}\\u003cextra\\u003e\\u003c\\u002fextra\\u003e\",\"legendgroup\":\"crime drama\",\"marker\":{\"color\":\"#636efa\",\"symbol\":\"circle\"},\"mode\":\"markers\",\"name\":\"crime drama\",\"orientation\":\"v\",\"showlegend\":true,\"x\":[5.326963424682617,-1.611991286277771,-5.323602676391602],\"xaxis\":\"x\",\"y\":[19.211435317993164,-0.9696106910705566,-15.670238494873047],\"yaxis\":\"y\",\"type\":\"scatter\"},{\"customdata\":[[\"Ir\\u00e8ne Bordoni is cast as.........\",\"musical comedy\"],[\"Flagg (Victor McLaglen) and Quirt.........\",\"musical comedy\"]],\"hovertemplate\":\"label=%{customdata[1]}\\u003cbr\\u003ex-tsne=%{x}\\u003cbr\\u003ey-tsne=%{y}\\u003cbr\\u003etext=%{customdata[0]}\\u003cextra\\u003e\\u003c\\u002fextra\\u003e\",\"legendgroup\":\"musical comedy\",\"marker\":{\"color\":\"#EF553B\",\"symbol\":\"circle\"},\"mode\":\"markers\",\"name\":\"musical comedy\",\"orientation\":\"v\",\"showlegend\":true,\"x\":[-9.365360260009766,-4.588180065155029],\"xaxis\":\"x\",\"y\":[-6.4661407470703125,12.426736831665039],\"yaxis\":\"y\",\"type\":\"scatter\"},{\"customdata\":[[\"This film is about two.........\",\"romance, comedy\"]],\"hovertemplate\":\"label=%{customdata[1]}\\u003cbr\\u003ex-tsne=%{x}\\u003cbr\\u003ey-tsne=%{y}\\u003cbr\\u003etext=%{customdata[0]}\\u003cextra\\u003e\\u003c\\u002fextra\\u003e\",\"legendgroup\":\"romance, comedy\",\"marker\":{\"color\":\"#00cc96\",\"symbol\":\"circle\"},\"mode\":\"markers\",\"name\":\"romance, comedy\",\"orientation\":\"v\",\"showlegend\":true,\"x\":[-2.9350826740264893],\"xaxis\":\"x\",\"y\":[7.593474388122559],\"yaxis\":\"y\",\"type\":\"scatter\"},{\"customdata\":[[\"Cosmo Reif, an affectless mob.........\",\"comedy, thriller\"]],\"hovertemplate\":\"label=%{customdata[1]}\\u003cbr\\u003ex-tsne=%{x}\\u003cbr\\u003ey-tsne=%{y}\\u003cbr\\u003etext=%{customdata[0]}\\u003cextra\\u003e\\u003c\\u002fextra\\u003e\",\"legendgroup\":\"comedy, thriller\",\"marker\":{\"color\":\"#ab63fa\",\"symbol\":\"circle\"},\"mode\":\"markers\",\"name\":\"comedy, thriller\",\"orientation\":\"v\",\"showlegend\":true,\"x\":[-15.06737232208252],\"xaxis\":\"x\",\"y\":[-1.3419950008392334],\"yaxis\":\"y\",\"type\":\"scatter\"},{\"customdata\":[[\"The film is a retelling.........\",\"fantasy\"],[\"Loosely based on the historical.........\",\"fantasy\"]],\"hovertemplate\":\"label=%{customdata[1]}\\u003cbr\\u003ex-tsne=%{x}\\u003cbr\\u003ey-tsne=%{y}\\u003cbr\\u003etext=%{customdata[0]}\\u003cextra\\u003e\\u003c\\u002fextra\\u003e\",\"legendgroup\":\"fantasy\",\"marker\":{\"color\":\"#FFA15A\",\"symbol\":\"circle\"},\"mode\":\"markers\",\"name\":\"fantasy\",\"orientation\":\"v\",\"showlegend\":true,\"x\":[-20.10967254638672,6.021273136138916],\"xaxis\":\"x\",\"y\":[2.920187473297119,-10.554491996765137],\"yaxis\":\"y\",\"type\":\"scatter\"},{\"customdata\":[[\"Two escaping killers hide out.........\",\"suspense\"]],\"hovertemplate\":\"label=%{customdata[1]}\\u003cbr\\u003ex-tsne=%{x}\\u003cbr\\u003ey-tsne=%{y}\\u003cbr\\u003etext=%{customdata[0]}\\u003cextra\\u003e\\u003c\\u002fextra\\u003e\",\"legendgroup\":\"suspense\",\"marker\":{\"color\":\"#19d3f3\",\"symbol\":\"circle\"},\"mode\":\"markers\",\"name\":\"suspense\",\"orientation\":\"v\",\"showlegend\":true,\"x\":[0.7207021117210388],\"xaxis\":\"x\",\"y\":[-5.014238357543945],\"yaxis\":\"y\",\"type\":\"scatter\"},{\"customdata\":[[\"The Kitauji high school concert.........\",\"drama, youth, musical, romance, idol\"]],\"hovertemplate\":\"label=%{customdata[1]}\\u003cbr\\u003ex-tsne=%{x}\\u003cbr\\u003ey-tsne=%{y}\\u003cbr\\u003etext=%{customdata[0]}\\u003cextra\\u003e\\u003c\\u002fextra\\u003e\",\"legendgroup\":\"drama, youth, musical, romance, idol\",\"marker\":{\"color\":\"#FF6692\",\"symbol\":\"circle\"},\"mode\":\"markers\",\"name\":\"drama, youth, musical, romance, idol\",\"orientation\":\"v\",\"showlegend\":true,\"x\":[-11.149721145629883],\"xaxis\":\"x\",\"y\":[-12.719916343688965],\"yaxis\":\"y\",\"type\":\"scatter\"},{\"customdata\":[[\"Lost & Found is basically.........\",\"romance, drama\"],[\"Roanne Sanchez, a young girl.........\",\"romance, drama\"]],\"hovertemplate\":\"label=%{customdata[1]}\\u003cbr\\u003ex-tsne=%{x}\\u003cbr\\u003ey-tsne=%{y}\\u003cbr\\u003etext=%{customdata[0]}\\u003cextra\\u003e\\u003c\\u002fextra\\u003e\",\"legendgroup\":\"romance, drama\",\"marker\":{\"color\":\"#B6E880\",\"symbol\":\"circle\"},\"mode\":\"markers\",\"name\":\"romance, drama\",\"orientation\":\"v\",\"showlegend\":true,\"x\":[-18.807071685791016,-7.126325607299805],\"xaxis\":\"x\",\"y\":[-2.6630361080169678,-11.527117729187012],\"yaxis\":\"y\",\"type\":\"scatter\"},{\"customdata\":[[\"This film follows the lead.........\",\"action, sci-fi\"]],\"hovertemplate\":\"label=%{customdata[1]}\\u003cbr\\u003ex-tsne=%{x}\\u003cbr\\u003ey-tsne=%{y}\\u003cbr\\u003etext=%{customdata[0]}\\u003cextra\\u003e\\u003c\\u002fextra\\u003e\",\"legendgroup\":\"action, sci-fi\",\"marker\":{\"color\":\"#FF97FF\",\"symbol\":\"circle\"},\"mode\":\"markers\",\"name\":\"action, sci-fi\",\"orientation\":\"v\",\"showlegend\":true,\"x\":[-5.163403034210205],\"xaxis\":\"x\",\"y\":[10.839418411254883],\"yaxis\":\"y\",\"type\":\"scatter\"},{\"customdata\":[[\"Unlike other Alamo films that.........\",\"western, war\"]],\"hovertemplate\":\"label=%{customdata[1]}\\u003cbr\\u003ex-tsne=%{x}\\u003cbr\\u003ey-tsne=%{y}\\u003cbr\\u003etext=%{customdata[0]}\\u003cextra\\u003e\\u003c\\u002fextra\\u003e\",\"legendgroup\":\"western, war\",\"marker\":{\"color\":\"#FECB52\",\"symbol\":\"circle\"},\"mode\":\"markers\",\"name\":\"western, war\",\"orientation\":\"v\",\"showlegend\":true,\"x\":[6.760206699371338],\"xaxis\":\"x\",\"y\":[17.3436336517334],\"yaxis\":\"y\",\"type\":\"scatter\"},{\"customdata\":[[\"A San Francisco earthquake orphan.........\",\"comedy drama\"],[\"The story revolves around a.........\",\"comedy drama\"]],\"hovertemplate\":\"label=%{customdata[1]}\\u003cbr\\u003ex-tsne=%{x}\\u003cbr\\u003ey-tsne=%{y}\\u003cbr\\u003etext=%{customdata[0]}\\u003cextra\\u003e\\u003c\\u002fextra\\u003e\",\"legendgroup\":\"comedy drama\",\"marker\":{\"color\":\"#636efa\",\"symbol\":\"circle\"},\"mode\":\"markers\",\"name\":\"comedy drama\",\"orientation\":\"v\",\"showlegend\":true,\"x\":[-12.075523376464844,-11.987889289855957],\"xaxis\":\"x\",\"y\":[-0.6588912010192871,2.4417505264282227],\"yaxis\":\"y\",\"type\":\"scatter\"},{\"customdata\":[[\"The story line centres on.........\",\"musical\"],[\"Big-league baseball players Jerry and.........\",\"musical\"],[\"During World War II singer.........\",\"musical\"],[\"Bonnie and Connie Jones are.........\",\"musical\"]],\"hovertemplate\":\"label=%{customdata[1]}\\u003cbr\\u003ex-tsne=%{x}\\u003cbr\\u003ey-tsne=%{y}\\u003cbr\\u003etext=%{customdata[0]}\\u003cextra\\u003e\\u003c\\u002fextra\\u003e\",\"legendgroup\":\"musical\",\"marker\":{\"color\":\"#EF553B\",\"symbol\":\"circle\"},\"mode\":\"markers\",\"name\":\"musical\",\"orientation\":\"v\",\"showlegend\":true,\"x\":[4.451868534088135,-5.941923141479492,6.522385597229004,0.48537129163742065],\"xaxis\":\"x\",\"y\":[5.75746488571167,17.74359893798828,14.964797973632812,0.2933058738708496],\"yaxis\":\"y\",\"type\":\"scatter\"},{\"customdata\":[[\"Sets in the 19th century,.........\",\"romantic drama\"]],\"hovertemplate\":\"label=%{customdata[1]}\\u003cbr\\u003ex-tsne=%{x}\\u003cbr\\u003ey-tsne=%{y}\\u003cbr\\u003etext=%{customdata[0]}\\u003cextra\\u003e\\u003c\\u002fextra\\u003e\",\"legendgroup\":\"romantic drama\",\"marker\":{\"color\":\"#00cc96\",\"symbol\":\"circle\"},\"mode\":\"markers\",\"name\":\"romantic drama\",\"orientation\":\"v\",\"showlegend\":true,\"x\":[10.616388320922852],\"xaxis\":\"x\",\"y\":[-1.1226565837860107],\"yaxis\":\"y\",\"type\":\"scatter\"},{\"customdata\":[[\"Akashangalil is the story of.........\",\"family\"]],\"hovertemplate\":\"label=%{customdata[1]}\\u003cbr\\u003ex-tsne=%{x}\\u003cbr\\u003ey-tsne=%{y}\\u003cbr\\u003etext=%{customdata[0]}\\u003cextra\\u003e\\u003c\\u002fextra\\u003e\",\"legendgroup\":\"family\",\"marker\":{\"color\":\"#ab63fa\",\"symbol\":\"circle\"},\"mode\":\"markers\",\"name\":\"family\",\"orientation\":\"v\",\"showlegend\":true,\"x\":[0.6886231303215027],\"xaxis\":\"x\",\"y\":[-1.193910837173462],\"yaxis\":\"y\",\"type\":\"scatter\"},{\"customdata\":[[\"Sally Elliott (Rita Hayworth), a.........\",\"musical biopic\"]],\"hovertemplate\":\"label=%{customdata[1]}\\u003cbr\\u003ex-tsne=%{x}\\u003cbr\\u003ey-tsne=%{y}\\u003cbr\\u003etext=%{customdata[0]}\\u003cextra\\u003e\\u003c\\u002fextra\\u003e\",\"legendgroup\":\"musical biopic\",\"marker\":{\"color\":\"#FFA15A\",\"symbol\":\"circle\"},\"mode\":\"markers\",\"name\":\"musical biopic\",\"orientation\":\"v\",\"showlegend\":true,\"x\":[-5.02023458480835],\"xaxis\":\"x\",\"y\":[15.531253814697266],\"yaxis\":\"y\",\"type\":\"scatter\"},{\"customdata\":[[\"The Hartford Transcontinental Railroad is.........\",\"western serial\"]],\"hovertemplate\":\"label=%{customdata[1]}\\u003cbr\\u003ex-tsne=%{x}\\u003cbr\\u003ey-tsne=%{y}\\u003cbr\\u003etext=%{customdata[0]}\\u003cextra\\u003e\\u003c\\u002fextra\\u003e\",\"legendgroup\":\"western serial\",\"marker\":{\"color\":\"#19d3f3\",\"symbol\":\"circle\"},\"mode\":\"markers\",\"name\":\"western serial\",\"orientation\":\"v\",\"showlegend\":true,\"x\":[0.6815193295478821],\"xaxis\":\"x\",\"y\":[-20.01573371887207],\"yaxis\":\"y\",\"type\":\"scatter\"},{\"customdata\":[[\"When Los Angeles' police force.........\",\"thriller\"],[\"Frankie Bono, a hitman from.........\",\"thriller\"],[\"Two days before Christmas, a.........\",\"thriller\"],[\"An old gangster, with a.........\",\"thriller\"],[\"Julia Hemingway (Ina Skriver, credited.........\",\"thriller\"],[\"This film is about the.........\",\"thriller\"],[\"A young woman goes to.........\",\"thriller\"],[\"A spirit (\\\"Patrick\\\") haunts a.........\",\"thriller\"],[\"The story follows a group.........\",\"thriller\"],[\"In a quiet English town,.........\",\"thriller\"]],\"hovertemplate\":\"label=%{customdata[1]}\\u003cbr\\u003ex-tsne=%{x}\\u003cbr\\u003ey-tsne=%{y}\\u003cbr\\u003etext=%{customdata[0]}\\u003cextra\\u003e\\u003c\\u002fextra\\u003e\",\"legendgroup\":\"thriller\",\"marker\":{\"color\":\"#FF6692\",\"symbol\":\"circle\"},\"mode\":\"markers\",\"name\":\"thriller\",\"orientation\":\"v\",\"showlegend\":true,\"x\":[15.39930248260498,-1.6707452535629272,1.390874981880188,8.346721649169922,17.794313430786133,-16.99117088317871,7.635998725891113,5.910867214202881,1.0669130086898804,3.755789041519165],\"xaxis\":\"x\",\"y\":[5.015349388122559,1.420541524887085,-7.077664375305176,-13.404831886291504,6.497287750244141,6.526562213897705,-5.307333469390869,-2.4840357303619385,5.107887268066406,-4.424614906311035],\"yaxis\":\"y\",\"type\":\"scatter\"},{\"customdata\":[[\"Hiraasat is an action film,.........\",\"action, crime, drama\"]],\"hovertemplate\":\"label=%{customdata[1]}\\u003cbr\\u003ex-tsne=%{x}\\u003cbr\\u003ey-tsne=%{y}\\u003cbr\\u003etext=%{customdata[0]}\\u003cextra\\u003e\\u003c\\u002fextra\\u003e\",\"legendgroup\":\"action, crime, drama\",\"marker\":{\"color\":\"#B6E880\",\"symbol\":\"circle\"},\"mode\":\"markers\",\"name\":\"action, crime, drama\",\"orientation\":\"v\",\"showlegend\":true,\"x\":[-5.22819709777832],\"xaxis\":\"x\",\"y\":[11.277674674987793],\"yaxis\":\"y\",\"type\":\"scatter\"},{\"customdata\":[[\"Tulsi tells the story of.........\",\" \"]],\"hovertemplate\":\"label=%{customdata[1]}\\u003cbr\\u003ex-tsne=%{x}\\u003cbr\\u003ey-tsne=%{y}\\u003cbr\\u003etext=%{customdata[0]}\\u003cextra\\u003e\\u003c\\u002fextra\\u003e\",\"legendgroup\":\" \",\"marker\":{\"color\":\"#FF97FF\",\"symbol\":\"circle\"},\"mode\":\"markers\",\"name\":\" \",\"orientation\":\"v\",\"showlegend\":true,\"x\":[6.804184436798096],\"xaxis\":\"x\",\"y\":[-13.22187614440918],\"yaxis\":\"y\",\"type\":\"scatter\"},{\"customdata\":[[\"Karthi (Mahesh) is a college.........\",\"romantic thriller\"]],\"hovertemplate\":\"label=%{customdata[1]}\\u003cbr\\u003ex-tsne=%{x}\\u003cbr\\u003ey-tsne=%{y}\\u003cbr\\u003etext=%{customdata[0]}\\u003cextra\\u003e\\u003c\\u002fextra\\u003e\",\"legendgroup\":\"romantic thriller\",\"marker\":{\"color\":\"#FECB52\",\"symbol\":\"circle\"},\"mode\":\"markers\",\"name\":\"romantic thriller\",\"orientation\":\"v\",\"showlegend\":true,\"x\":[-2.503451108932495],\"xaxis\":\"x\",\"y\":[6.8391313552856445],\"yaxis\":\"y\",\"type\":\"scatter\"},{\"customdata\":[[\"The story revolves around an.........\",\"drama, thriller\"]],\"hovertemplate\":\"label=%{customdata[1]}\\u003cbr\\u003ex-tsne=%{x}\\u003cbr\\u003ey-tsne=%{y}\\u003cbr\\u003etext=%{customdata[0]}\\u003cextra\\u003e\\u003c\\u002fextra\\u003e\",\"legendgroup\":\"drama, thriller\",\"marker\":{\"color\":\"#636efa\",\"symbol\":\"circle\"},\"mode\":\"markers\",\"name\":\"drama, thriller\",\"orientation\":\"v\",\"showlegend\":true,\"x\":[18.912189483642578],\"xaxis\":\"x\",\"y\":[1.355072259902954],\"yaxis\":\"y\",\"type\":\"scatter\"},{\"customdata\":[[\"A bullied teen chef wants.........\",\"comedy-drama\"]],\"hovertemplate\":\"label=%{customdata[1]}\\u003cbr\\u003ex-tsne=%{x}\\u003cbr\\u003ey-tsne=%{y}\\u003cbr\\u003etext=%{customdata[0]}\\u003cextra\\u003e\\u003c\\u002fextra\\u003e\",\"legendgroup\":\"comedy-drama\",\"marker\":{\"color\":\"#EF553B\",\"symbol\":\"circle\"},\"mode\":\"markers\",\"name\":\"comedy-drama\",\"orientation\":\"v\",\"showlegend\":true,\"x\":[3.749079704284668],\"xaxis\":\"x\",\"y\":[0.8564918041229248],\"yaxis\":\"y\",\"type\":\"scatter\"},{\"customdata\":[[\"A rivalry develops between veteran.........\",\"war\"]],\"hovertemplate\":\"label=%{customdata[1]}\\u003cbr\\u003ex-tsne=%{x}\\u003cbr\\u003ey-tsne=%{y}\\u003cbr\\u003etext=%{customdata[0]}\\u003cextra\\u003e\\u003c\\u002fextra\\u003e\",\"legendgroup\":\"war\",\"marker\":{\"color\":\"#00cc96\",\"symbol\":\"circle\"},\"mode\":\"markers\",\"name\":\"war\",\"orientation\":\"v\",\"showlegend\":true,\"x\":[2.373734951019287],\"xaxis\":\"x\",\"y\":[13.524895668029785],\"yaxis\":\"y\",\"type\":\"scatter\"},{\"customdata\":[[\"In the autumn of 1950,.........\",\"drama \\u002f history \\u002f western\"]],\"hovertemplate\":\"label=%{customdata[1]}\\u003cbr\\u003ex-tsne=%{x}\\u003cbr\\u003ey-tsne=%{y}\\u003cbr\\u003etext=%{customdata[0]}\\u003cextra\\u003e\\u003c\\u002fextra\\u003e\",\"legendgroup\":\"drama \\u002f history \\u002f western\",\"marker\":{\"color\":\"#ab63fa\",\"symbol\":\"circle\"},\"mode\":\"markers\",\"name\":\"drama \\u002f history \\u002f western\",\"orientation\":\"v\",\"showlegend\":true,\"x\":[7.957415580749512],\"xaxis\":\"x\",\"y\":[14.699944496154785],\"yaxis\":\"y\",\"type\":\"scatter\"},{\"customdata\":[[\"In a small town, mentally.........\",\"dramedy\"],[\"Newly transferred college student Lily.........\",\"dramedy\"]],\"hovertemplate\":\"label=%{customdata[1]}\\u003cbr\\u003ex-tsne=%{x}\\u003cbr\\u003ey-tsne=%{y}\\u003cbr\\u003etext=%{customdata[0]}\\u003cextra\\u003e\\u003c\\u002fextra\\u003e\",\"legendgroup\":\"dramedy\",\"marker\":{\"color\":\"#FFA15A\",\"symbol\":\"circle\"},\"mode\":\"markers\",\"name\":\"dramedy\",\"orientation\":\"v\",\"showlegend\":true,\"x\":[0.9115869402885437,-4.006363868713379],\"xaxis\":\"x\",\"y\":[-9.809185981750488,7.070435523986816],\"yaxis\":\"y\",\"type\":\"scatter\"},{\"customdata\":[[\"The story of a 10th.........\",\"rom com\"]],\"hovertemplate\":\"label=%{customdata[1]}\\u003cbr\\u003ex-tsne=%{x}\\u003cbr\\u003ey-tsne=%{y}\\u003cbr\\u003etext=%{customdata[0]}\\u003cextra\\u003e\\u003c\\u002fextra\\u003e\",\"legendgroup\":\"rom com\",\"marker\":{\"color\":\"#19d3f3\",\"symbol\":\"circle\"},\"mode\":\"markers\",\"name\":\"rom com\",\"orientation\":\"v\",\"showlegend\":true,\"x\":[-12.845486640930176],\"xaxis\":\"x\",\"y\":[-13.000910758972168],\"yaxis\":\"y\",\"type\":\"scatter\"},{\"customdata\":[[\"The plot of the film.........\",\"nature\"]],\"hovertemplate\":\"label=%{customdata[1]}\\u003cbr\\u003ex-tsne=%{x}\\u003cbr\\u003ey-tsne=%{y}\\u003cbr\\u003etext=%{customdata[0]}\\u003cextra\\u003e\\u003c\\u002fextra\\u003e\",\"legendgroup\":\"nature\",\"marker\":{\"color\":\"#FF6692\",\"symbol\":\"circle\"},\"mode\":\"markers\",\"name\":\"nature\",\"orientation\":\"v\",\"showlegend\":true,\"x\":[6.2175612449646],\"xaxis\":\"x\",\"y\":[-9.507411003112793],\"yaxis\":\"y\",\"type\":\"scatter\"},{\"customdata\":[[\"The film is a historical.........\",\"historical\"]],\"hovertemplate\":\"label=%{customdata[1]}\\u003cbr\\u003ex-tsne=%{x}\\u003cbr\\u003ey-tsne=%{y}\\u003cbr\\u003etext=%{customdata[0]}\\u003cextra\\u003e\\u003c\\u002fextra\\u003e\",\"legendgroup\":\"historical\",\"marker\":{\"color\":\"#B6E880\",\"symbol\":\"circle\"},\"mode\":\"markers\",\"name\":\"historical\",\"orientation\":\"v\",\"showlegend\":true,\"x\":[-0.20115096867084503],\"xaxis\":\"x\",\"y\":[7.737030982971191],\"yaxis\":\"y\",\"type\":\"scatter\"},{\"customdata\":[[\"The film is about an.........\",\"short black comedy\"]],\"hovertemplate\":\"label=%{customdata[1]}\\u003cbr\\u003ex-tsne=%{x}\\u003cbr\\u003ey-tsne=%{y}\\u003cbr\\u003etext=%{customdata[0]}\\u003cextra\\u003e\\u003c\\u002fextra\\u003e\",\"legendgroup\":\"short black comedy\",\"marker\":{\"color\":\"#FF97FF\",\"symbol\":\"circle\"},\"mode\":\"markers\",\"name\":\"short black comedy\",\"orientation\":\"v\",\"showlegend\":true,\"x\":[-4.290935516357422],\"xaxis\":\"x\",\"y\":[5.156071186065674],\"yaxis\":\"y\",\"type\":\"scatter\"},{\"customdata\":[[\"Agimat (Bong Revilla, Jr.) is.........\",\"fantasy, comedy, adventure\"]],\"hovertemplate\":\"label=%{customdata[1]}\\u003cbr\\u003ex-tsne=%{x}\\u003cbr\\u003ey-tsne=%{y}\\u003cbr\\u003etext=%{customdata[0]}\\u003cextra\\u003e\\u003c\\u002fextra\\u003e\",\"legendgroup\":\"fantasy, comedy, adventure\",\"marker\":{\"color\":\"#FECB52\",\"symbol\":\"circle\"},\"mode\":\"markers\",\"name\":\"fantasy, comedy, adventure\",\"orientation\":\"v\",\"showlegend\":true,\"x\":[-6.988360404968262],\"xaxis\":\"x\",\"y\":[-18.507055282592773],\"yaxis\":\"y\",\"type\":\"scatter\"},{\"customdata\":[[\"The film is set in.........\",\"biblical\"]],\"hovertemplate\":\"label=%{customdata[1]}\\u003cbr\\u003ex-tsne=%{x}\\u003cbr\\u003ey-tsne=%{y}\\u003cbr\\u003etext=%{customdata[0]}\\u003cextra\\u003e\\u003c\\u002fextra\\u003e\",\"legendgroup\":\"biblical\",\"marker\":{\"color\":\"#636efa\",\"symbol\":\"circle\"},\"mode\":\"markers\",\"name\":\"biblical\",\"orientation\":\"v\",\"showlegend\":true,\"x\":[0.9628674387931824],\"xaxis\":\"x\",\"y\":[-20.244714736938477],\"yaxis\":\"y\",\"type\":\"scatter\"},{\"customdata\":[[\"Hans a young German journalist.........\",\"sex comedy\"]],\"hovertemplate\":\"label=%{customdata[1]}\\u003cbr\\u003ex-tsne=%{x}\\u003cbr\\u003ey-tsne=%{y}\\u003cbr\\u003etext=%{customdata[0]}\\u003cextra\\u003e\\u003c\\u002fextra\\u003e\",\"legendgroup\":\"sex comedy\",\"marker\":{\"color\":\"#EF553B\",\"symbol\":\"circle\"},\"mode\":\"markers\",\"name\":\"sex comedy\",\"orientation\":\"v\",\"showlegend\":true,\"x\":[-10.20840835571289],\"xaxis\":\"x\",\"y\":[10.280892372131348],\"yaxis\":\"y\",\"type\":\"scatter\"},{\"customdata\":[[\"Hajj, a rascally beggar on.........\",\"costume drama\"]],\"hovertemplate\":\"label=%{customdata[1]}\\u003cbr\\u003ex-tsne=%{x}\\u003cbr\\u003ey-tsne=%{y}\\u003cbr\\u003etext=%{customdata[0]}\\u003cextra\\u003e\\u003c\\u002fextra\\u003e\",\"legendgroup\":\"costume drama\",\"marker\":{\"color\":\"#00cc96\",\"symbol\":\"circle\"},\"mode\":\"markers\",\"name\":\"costume drama\",\"orientation\":\"v\",\"showlegend\":true,\"x\":[-16.914501190185547],\"xaxis\":\"x\",\"y\":[-9.712539672851562],\"yaxis\":\"y\",\"type\":\"scatter\"},{\"customdata\":[[\"After her mother was killed.........\",\"action \\u002f comedy\"]],\"hovertemplate\":\"label=%{customdata[1]}\\u003cbr\\u003ex-tsne=%{x}\\u003cbr\\u003ey-tsne=%{y}\\u003cbr\\u003etext=%{customdata[0]}\\u003cextra\\u003e\\u003c\\u002fextra\\u003e\",\"legendgroup\":\"action \\u002f comedy\",\"marker\":{\"color\":\"#ab63fa\",\"symbol\":\"circle\"},\"mode\":\"markers\",\"name\":\"action \\u002f comedy\",\"orientation\":\"v\",\"showlegend\":true,\"x\":[-2.7753872871398926],\"xaxis\":\"x\",\"y\":[-4.324512958526611],\"yaxis\":\"y\",\"type\":\"scatter\"},{\"customdata\":[[\"Raised by his Uncle Wu.........\",\"fantasy \\u002f adventure\"]],\"hovertemplate\":\"label=%{customdata[1]}\\u003cbr\\u003ex-tsne=%{x}\\u003cbr\\u003ey-tsne=%{y}\\u003cbr\\u003etext=%{customdata[0]}\\u003cextra\\u003e\\u003c\\u002fextra\\u003e\",\"legendgroup\":\"fantasy \\u002f adventure\",\"marker\":{\"color\":\"#FFA15A\",\"symbol\":\"circle\"},\"mode\":\"markers\",\"name\":\"fantasy \\u002f adventure\",\"orientation\":\"v\",\"showlegend\":true,\"x\":[8.021702766418457],\"xaxis\":\"x\",\"y\":[5.757569313049316],\"yaxis\":\"y\",\"type\":\"scatter\"},{\"customdata\":[[\"A girl is about to.........\",\"adventure, serial\"]],\"hovertemplate\":\"label=%{customdata[1]}\\u003cbr\\u003ex-tsne=%{x}\\u003cbr\\u003ey-tsne=%{y}\\u003cbr\\u003etext=%{customdata[0]}\\u003cextra\\u003e\\u003c\\u002fextra\\u003e\",\"legendgroup\":\"adventure, serial\",\"marker\":{\"color\":\"#19d3f3\",\"symbol\":\"circle\"},\"mode\":\"markers\",\"name\":\"adventure, serial\",\"orientation\":\"v\",\"showlegend\":true,\"x\":[7.300766944885254],\"xaxis\":\"x\",\"y\":[7.777958869934082],\"yaxis\":\"y\",\"type\":\"scatter\"},{\"customdata\":[[\"Crash Landing follows the tense.........\",\"action\\u002fthriller\"]],\"hovertemplate\":\"label=%{customdata[1]}\\u003cbr\\u003ex-tsne=%{x}\\u003cbr\\u003ey-tsne=%{y}\\u003cbr\\u003etext=%{customdata[0]}\\u003cextra\\u003e\\u003c\\u002fextra\\u003e\",\"legendgroup\":\"action\\u002fthriller\",\"marker\":{\"color\":\"#FF6692\",\"symbol\":\"circle\"},\"mode\":\"markers\",\"name\":\"action\\u002fthriller\",\"orientation\":\"v\",\"showlegend\":true,\"x\":[-19.031709671020508],\"xaxis\":\"x\",\"y\":[8.458883285522461],\"yaxis\":\"y\",\"type\":\"scatter\"},{\"customdata\":[[\"Anand is a major in.........\",\"action\"],[\"Sachin Joshi is a Kabaddi.........\",\"action\"],[\"Political journalist Jayadev (Meka Srikanth).........\",\"action\"]],\"hovertemplate\":\"label=%{customdata[1]}\\u003cbr\\u003ex-tsne=%{x}\\u003cbr\\u003ey-tsne=%{y}\\u003cbr\\u003etext=%{customdata[0]}\\u003cextra\\u003e\\u003c\\u002fextra\\u003e\",\"legendgroup\":\"action\",\"marker\":{\"color\":\"#B6E880\",\"symbol\":\"circle\"},\"mode\":\"markers\",\"name\":\"action\",\"orientation\":\"v\",\"showlegend\":true,\"x\":[-2.851646661758423,18.10894775390625,-21.40406608581543],\"xaxis\":\"x\",\"y\":[2.383044719696045,0.02597973495721817,-2.616983413696289],\"yaxis\":\"y\",\"type\":\"scatter\"},{\"customdata\":[[\"A lonely old man who.........\",\"literary drama\"]],\"hovertemplate\":\"label=%{customdata[1]}\\u003cbr\\u003ex-tsne=%{x}\\u003cbr\\u003ey-tsne=%{y}\\u003cbr\\u003etext=%{customdata[0]}\\u003cextra\\u003e\\u003c\\u002fextra\\u003e\",\"legendgroup\":\"literary drama\",\"marker\":{\"color\":\"#FF97FF\",\"symbol\":\"circle\"},\"mode\":\"markers\",\"name\":\"literary drama\",\"orientation\":\"v\",\"showlegend\":true,\"x\":[-5.1707916259765625],\"xaxis\":\"x\",\"y\":[-7.915300369262695],\"yaxis\":\"y\",\"type\":\"scatter\"},{\"customdata\":[[\"Big Fella is set on.........\",\"musical\\u002fdrama\"]],\"hovertemplate\":\"label=%{customdata[1]}\\u003cbr\\u003ex-tsne=%{x}\\u003cbr\\u003ey-tsne=%{y}\\u003cbr\\u003etext=%{customdata[0]}\\u003cextra\\u003e\\u003c\\u002fextra\\u003e\",\"legendgroup\":\"musical\\u002fdrama\",\"marker\":{\"color\":\"#FECB52\",\"symbol\":\"circle\"},\"mode\":\"markers\",\"name\":\"musical\\u002fdrama\",\"orientation\":\"v\",\"showlegend\":true,\"x\":[-13.991294860839844],\"xaxis\":\"x\",\"y\":[11.588761329650879],\"yaxis\":\"y\",\"type\":\"scatter\"},{\"customdata\":[[\"In the year 1999, the.........\",\"tokusatsu\"]],\"hovertemplate\":\"label=%{customdata[1]}\\u003cbr\\u003ex-tsne=%{x}\\u003cbr\\u003ey-tsne=%{y}\\u003cbr\\u003etext=%{customdata[0]}\\u003cextra\\u003e\\u003c\\u002fextra\\u003e\",\"legendgroup\":\"tokusatsu\",\"marker\":{\"color\":\"#636efa\",\"symbol\":\"circle\"},\"mode\":\"markers\",\"name\":\"tokusatsu\",\"orientation\":\"v\",\"showlegend\":true,\"x\":[-5.859924793243408],\"xaxis\":\"x\",\"y\":[-21.520984649658203],\"yaxis\":\"y\",\"type\":\"scatter\"},{\"customdata\":[[\"The story of the film,.........\",\"crime\\u002fthriller\"]],\"hovertemplate\":\"label=%{customdata[1]}\\u003cbr\\u003ex-tsne=%{x}\\u003cbr\\u003ey-tsne=%{y}\\u003cbr\\u003etext=%{customdata[0]}\\u003cextra\\u003e\\u003c\\u002fextra\\u003e\",\"legendgroup\":\"crime\\u002fthriller\",\"marker\":{\"color\":\"#EF553B\",\"symbol\":\"circle\"},\"mode\":\"markers\",\"name\":\"crime\\u002fthriller\",\"orientation\":\"v\",\"showlegend\":true,\"x\":[-7.958926677703857],\"xaxis\":\"x\",\"y\":[8.165258407592773],\"yaxis\":\"y\",\"type\":\"scatter\"},{\"customdata\":[[\"Kiira seems like an ordinary.........\",\"vampire film\"]],\"hovertemplate\":\"label=%{customdata[1]}\\u003cbr\\u003ex-tsne=%{x}\\u003cbr\\u003ey-tsne=%{y}\\u003cbr\\u003etext=%{customdata[0]}\\u003cextra\\u003e\\u003c\\u002fextra\\u003e\",\"legendgroup\":\"vampire film\",\"marker\":{\"color\":\"#00cc96\",\"symbol\":\"circle\"},\"mode\":\"markers\",\"name\":\"vampire film\",\"orientation\":\"v\",\"showlegend\":true,\"x\":[-6.705361366271973],\"xaxis\":\"x\",\"y\":[-7.7350993156433105],\"yaxis\":\"y\",\"type\":\"scatter\"},{\"customdata\":[[\"With the human exploitation of.........\",\"comedy \\u002f animation \\u002f family \\u002f adventure\"]],\"hovertemplate\":\"label=%{customdata[1]}\\u003cbr\\u003ex-tsne=%{x}\\u003cbr\\u003ey-tsne=%{y}\\u003cbr\\u003etext=%{customdata[0]}\\u003cextra\\u003e\\u003c\\u002fextra\\u003e\",\"legendgroup\":\"comedy \\u002f animation \\u002f family \\u002f adventure\",\"marker\":{\"color\":\"#ab63fa\",\"symbol\":\"circle\"},\"mode\":\"markers\",\"name\":\"comedy \\u002f animation \\u002f family \\u002f adventure\",\"orientation\":\"v\",\"showlegend\":true,\"x\":[-14.742088317871094],\"xaxis\":\"x\",\"y\":[10.705172538757324],\"yaxis\":\"y\",\"type\":\"scatter\"},{\"customdata\":[[\"New York City law professor.........\",\"drama, crime\"]],\"hovertemplate\":\"label=%{customdata[1]}\\u003cbr\\u003ex-tsne=%{x}\\u003cbr\\u003ey-tsne=%{y}\\u003cbr\\u003etext=%{customdata[0]}\\u003cextra\\u003e\\u003c\\u002fextra\\u003e\",\"legendgroup\":\"drama, crime\",\"marker\":{\"color\":\"#FFA15A\",\"symbol\":\"circle\"},\"mode\":\"markers\",\"name\":\"drama, crime\",\"orientation\":\"v\",\"showlegend\":true,\"x\":[-0.49422013759613037],\"xaxis\":\"x\",\"y\":[1.5303689241409302],\"yaxis\":\"y\",\"type\":\"scatter\"}],                        {\"template\":{\"data\":{\"histogram2dcontour\":[{\"type\":\"histogram2dcontour\",\"colorbar\":{\"outlinewidth\":0,\"ticks\":\"\"},\"colorscale\":[[0.0,\"#0d0887\"],[0.1111111111111111,\"#46039f\"],[0.2222222222222222,\"#7201a8\"],[0.3333333333333333,\"#9c179e\"],[0.4444444444444444,\"#bd3786\"],[0.5555555555555556,\"#d8576b\"],[0.6666666666666666,\"#ed7953\"],[0.7777777777777778,\"#fb9f3a\"],[0.8888888888888888,\"#fdca26\"],[1.0,\"#f0f921\"]]}],\"choropleth\":[{\"type\":\"choropleth\",\"colorbar\":{\"outlinewidth\":0,\"ticks\":\"\"}}],\"histogram2d\":[{\"type\":\"histogram2d\",\"colorbar\":{\"outlinewidth\":0,\"ticks\":\"\"},\"colorscale\":[[0.0,\"#0d0887\"],[0.1111111111111111,\"#46039f\"],[0.2222222222222222,\"#7201a8\"],[0.3333333333333333,\"#9c179e\"],[0.4444444444444444,\"#bd3786\"],[0.5555555555555556,\"#d8576b\"],[0.6666666666666666,\"#ed7953\"],[0.7777777777777778,\"#fb9f3a\"],[0.8888888888888888,\"#fdca26\"],[1.0,\"#f0f921\"]]}],\"heatmap\":[{\"type\":\"heatmap\",\"colorbar\":{\"outlinewidth\":0,\"ticks\":\"\"},\"colorscale\":[[0.0,\"#0d0887\"],[0.1111111111111111,\"#46039f\"],[0.2222222222222222,\"#7201a8\"],[0.3333333333333333,\"#9c179e\"],[0.4444444444444444,\"#bd3786\"],[0.5555555555555556,\"#d8576b\"],[0.6666666666666666,\"#ed7953\"],[0.7777777777777778,\"#fb9f3a\"],[0.8888888888888888,\"#fdca26\"],[1.0,\"#f0f921\"]]}],\"heatmapgl\":[{\"type\":\"heatmapgl\",\"colorbar\":{\"outlinewidth\":0,\"ticks\":\"\"},\"colorscale\":[[0.0,\"#0d0887\"],[0.1111111111111111,\"#46039f\"],[0.2222222222222222,\"#7201a8\"],[0.3333333333333333,\"#9c179e\"],[0.4444444444444444,\"#bd3786\"],[0.5555555555555556,\"#d8576b\"],[0.6666666666666666,\"#ed7953\"],[0.7777777777777778,\"#fb9f3a\"],[0.8888888888888888,\"#fdca26\"],[1.0,\"#f0f921\"]]}],\"contourcarpet\":[{\"type\":\"contourcarpet\",\"colorbar\":{\"outlinewidth\":0,\"ticks\":\"\"}}],\"contour\":[{\"type\":\"contour\",\"colorbar\":{\"outlinewidth\":0,\"ticks\":\"\"},\"colorscale\":[[0.0,\"#0d0887\"],[0.1111111111111111,\"#46039f\"],[0.2222222222222222,\"#7201a8\"],[0.3333333333333333,\"#9c179e\"],[0.4444444444444444,\"#bd3786\"],[0.5555555555555556,\"#d8576b\"],[0.6666666666666666,\"#ed7953\"],[0.7777777777777778,\"#fb9f3a\"],[0.8888888888888888,\"#fdca26\"],[1.0,\"#f0f921\"]]}],\"surface\":[{\"type\":\"surface\",\"colorbar\":{\"outlinewidth\":0,\"ticks\":\"\"},\"colorscale\":[[0.0,\"#0d0887\"],[0.1111111111111111,\"#46039f\"],[0.2222222222222222,\"#7201a8\"],[0.3333333333333333,\"#9c179e\"],[0.4444444444444444,\"#bd3786\"],[0.5555555555555556,\"#d8576b\"],[0.6666666666666666,\"#ed7953\"],[0.7777777777777778,\"#fb9f3a\"],[0.8888888888888888,\"#fdca26\"],[1.0,\"#f0f921\"]]}],\"mesh3d\":[{\"type\":\"mesh3d\",\"colorbar\":{\"outlinewidth\":0,\"ticks\":\"\"}}],\"scatter\":[{\"fillpattern\":{\"fillmode\":\"overlay\",\"size\":10,\"solidity\":0.2},\"type\":\"scatter\"}],\"parcoords\":[{\"type\":\"parcoords\",\"line\":{\"colorbar\":{\"outlinewidth\":0,\"ticks\":\"\"}}}],\"scatterpolargl\":[{\"type\":\"scatterpolargl\",\"marker\":{\"colorbar\":{\"outlinewidth\":0,\"ticks\":\"\"}}}],\"bar\":[{\"error_x\":{\"color\":\"#2a3f5f\"},\"error_y\":{\"color\":\"#2a3f5f\"},\"marker\":{\"line\":{\"color\":\"#E5ECF6\",\"width\":0.5},\"pattern\":{\"fillmode\":\"overlay\",\"size\":10,\"solidity\":0.2}},\"type\":\"bar\"}],\"scattergeo\":[{\"type\":\"scattergeo\",\"marker\":{\"colorbar\":{\"outlinewidth\":0,\"ticks\":\"\"}}}],\"scatterpolar\":[{\"type\":\"scatterpolar\",\"marker\":{\"colorbar\":{\"outlinewidth\":0,\"ticks\":\"\"}}}],\"histogram\":[{\"marker\":{\"pattern\":{\"fillmode\":\"overlay\",\"size\":10,\"solidity\":0.2}},\"type\":\"histogram\"}],\"scattergl\":[{\"type\":\"scattergl\",\"marker\":{\"colorbar\":{\"outlinewidth\":0,\"ticks\":\"\"}}}],\"scatter3d\":[{\"type\":\"scatter3d\",\"line\":{\"colorbar\":{\"outlinewidth\":0,\"ticks\":\"\"}},\"marker\":{\"colorbar\":{\"outlinewidth\":0,\"ticks\":\"\"}}}],\"scattermapbox\":[{\"type\":\"scattermapbox\",\"marker\":{\"colorbar\":{\"outlinewidth\":0,\"ticks\":\"\"}}}],\"scatterternary\":[{\"type\":\"scatterternary\",\"marker\":{\"colorbar\":{\"outlinewidth\":0,\"ticks\":\"\"}}}],\"scattercarpet\":[{\"type\":\"scattercarpet\",\"marker\":{\"colorbar\":{\"outlinewidth\":0,\"ticks\":\"\"}}}],\"carpet\":[{\"aaxis\":{\"endlinecolor\":\"#2a3f5f\",\"gridcolor\":\"white\",\"linecolor\":\"white\",\"minorgridcolor\":\"white\",\"startlinecolor\":\"#2a3f5f\"},\"baxis\":{\"endlinecolor\":\"#2a3f5f\",\"gridcolor\":\"white\",\"linecolor\":\"white\",\"minorgridcolor\":\"white\",\"startlinecolor\":\"#2a3f5f\"},\"type\":\"carpet\"}],\"table\":[{\"cells\":{\"fill\":{\"color\":\"#EBF0F8\"},\"line\":{\"color\":\"white\"}},\"header\":{\"fill\":{\"color\":\"#C8D4E3\"},\"line\":{\"color\":\"white\"}},\"type\":\"table\"}],\"barpolar\":[{\"marker\":{\"line\":{\"color\":\"#E5ECF6\",\"width\":0.5},\"pattern\":{\"fillmode\":\"overlay\",\"size\":10,\"solidity\":0.2}},\"type\":\"barpolar\"}],\"pie\":[{\"automargin\":true,\"type\":\"pie\"}]},\"layout\":{\"autotypenumbers\":\"strict\",\"colorway\":[\"#636efa\",\"#EF553B\",\"#00cc96\",\"#ab63fa\",\"#FFA15A\",\"#19d3f3\",\"#FF6692\",\"#B6E880\",\"#FF97FF\",\"#FECB52\"],\"font\":{\"color\":\"#2a3f5f\"},\"hovermode\":\"closest\",\"hoverlabel\":{\"align\":\"left\"},\"paper_bgcolor\":\"white\",\"plot_bgcolor\":\"#E5ECF6\",\"polar\":{\"bgcolor\":\"#E5ECF6\",\"angularaxis\":{\"gridcolor\":\"white\",\"linecolor\":\"white\",\"ticks\":\"\"},\"radialaxis\":{\"gridcolor\":\"white\",\"linecolor\":\"white\",\"ticks\":\"\"}},\"ternary\":{\"bgcolor\":\"#E5ECF6\",\"aaxis\":{\"gridcolor\":\"white\",\"linecolor\":\"white\",\"ticks\":\"\"},\"baxis\":{\"gridcolor\":\"white\",\"linecolor\":\"white\",\"ticks\":\"\"},\"caxis\":{\"gridcolor\":\"white\",\"linecolor\":\"white\",\"ticks\":\"\"}},\"coloraxis\":{\"colorbar\":{\"outlinewidth\":0,\"ticks\":\"\"}},\"colorscale\":{\"sequential\":[[0.0,\"#0d0887\"],[0.1111111111111111,\"#46039f\"],[0.2222222222222222,\"#7201a8\"],[0.3333333333333333,\"#9c179e\"],[0.4444444444444444,\"#bd3786\"],[0.5555555555555556,\"#d8576b\"],[0.6666666666666666,\"#ed7953\"],[0.7777777777777778,\"#fb9f3a\"],[0.8888888888888888,\"#fdca26\"],[1.0,\"#f0f921\"]],\"sequentialminus\":[[0.0,\"#0d0887\"],[0.1111111111111111,\"#46039f\"],[0.2222222222222222,\"#7201a8\"],[0.3333333333333333,\"#9c179e\"],[0.4444444444444444,\"#bd3786\"],[0.5555555555555556,\"#d8576b\"],[0.6666666666666666,\"#ed7953\"],[0.7777777777777778,\"#fb9f3a\"],[0.8888888888888888,\"#fdca26\"],[1.0,\"#f0f921\"]],\"diverging\":[[0,\"#8e0152\"],[0.1,\"#c51b7d\"],[0.2,\"#de77ae\"],[0.3,\"#f1b6da\"],[0.4,\"#fde0ef\"],[0.5,\"#f7f7f7\"],[0.6,\"#e6f5d0\"],[0.7,\"#b8e186\"],[0.8,\"#7fbc41\"],[0.9,\"#4d9221\"],[1,\"#276419\"]]},\"xaxis\":{\"gridcolor\":\"white\",\"linecolor\":\"white\",\"ticks\":\"\",\"title\":{\"standoff\":15},\"zerolinecolor\":\"white\",\"automargin\":true,\"zerolinewidth\":2},\"yaxis\":{\"gridcolor\":\"white\",\"linecolor\":\"white\",\"ticks\":\"\",\"title\":{\"standoff\":15},\"zerolinecolor\":\"white\",\"automargin\":true,\"zerolinewidth\":2},\"scene\":{\"xaxis\":{\"backgroundcolor\":\"#E5ECF6\",\"gridcolor\":\"white\",\"linecolor\":\"white\",\"showbackground\":true,\"ticks\":\"\",\"zerolinecolor\":\"white\",\"gridwidth\":2},\"yaxis\":{\"backgroundcolor\":\"#E5ECF6\",\"gridcolor\":\"white\",\"linecolor\":\"white\",\"showbackground\":true,\"ticks\":\"\",\"zerolinecolor\":\"white\",\"gridwidth\":2},\"zaxis\":{\"backgroundcolor\":\"#E5ECF6\",\"gridcolor\":\"white\",\"linecolor\":\"white\",\"showbackground\":true,\"ticks\":\"\",\"zerolinecolor\":\"white\",\"gridwidth\":2}},\"shapedefaults\":{\"line\":{\"color\":\"#2a3f5f\"}},\"annotationdefaults\":{\"arrowcolor\":\"#2a3f5f\",\"arrowhead\":0,\"arrowwidth\":1},\"geo\":{\"bgcolor\":\"white\",\"landcolor\":\"#E5ECF6\",\"subunitcolor\":\"white\",\"showland\":true,\"showlakes\":true,\"lakecolor\":\"white\"},\"title\":{\"x\":0.05},\"mapbox\":{\"style\":\"light\"}}},\"xaxis\":{\"anchor\":\"y\",\"domain\":[0.0,1.0],\"title\":{\"text\":\"x-tsne\"}},\"yaxis\":{\"anchor\":\"x\",\"domain\":[0.0,1.0],\"title\":{\"text\":\"y-tsne\"}},\"legend\":{\"title\":{\"text\":\"label\"},\"tracegroupgap\":0},\"title\":{\"text\":\"Sentences t-SNE Visualization with TF-IDF Embeddings\"},\"height\":1200,\"width\":1200},                        {\"responsive\": true}                    ).then(function(){\n",
       "                            \n",
       "var gd = document.getElementById('122f6a51-152b-4c48-b814-b3b0ae07b02e');\n",
       "var x = new MutationObserver(function (mutations, observer) {{\n",
       "        var display = window.getComputedStyle(gd).display;\n",
       "        if (!display || display === 'none') {{\n",
       "            console.log([gd, 'removed!']);\n",
       "            Plotly.purge(gd);\n",
       "            observer.disconnect();\n",
       "        }}\n",
       "}});\n",
       "\n",
       "// Listen for the removal of the full notebook cells\n",
       "var notebookContainer = gd.closest('#notebook-container');\n",
       "if (notebookContainer) {{\n",
       "    x.observe(notebookContainer, {childList: true});\n",
       "}}\n",
       "\n",
       "// Listen for the clearing of the current output cell\n",
       "var outputEl = gd.closest('.output');\n",
       "if (outputEl) {{\n",
       "    x.observe(outputEl, {childList: true});\n",
       "}}\n",
       "\n",
       "                        })                };                });            </script>        </div>"
      ]
     },
     "metadata": {},
     "output_type": "display_data"
    }
   ],
   "source": [
    "tsne = TSNE(n_components=2, random_state=42, perplexity=30, max_iter=1000)\n",
    "X_tsne = tsne.fit_transform(tfidf_emb_arr)\n",
    "\n",
    "tfidf_df['text'] = tfidf_df['text'].apply(lambda x: \" \".join(x.split()[:5]) + \"...\")\n",
    "\n",
    "# Add t-SNE results to the DataFrame\n",
    "tfidf_df[\"x-tsne\"] = X_tsne[:, 0]\n",
    "tfidf_df[\"y-tsne\"] = X_tsne[:, 1]\n",
    "\n",
    "# Create interactive scatter plot\n",
    "fig_tfidf = px.scatter(\n",
    "    tfidf_df,\n",
    "    x=\"x-tsne\",\n",
    "    y=\"y-tsne\",\n",
    "    color=\"label\",\n",
    "    hover_data={\"text\": True, \"label\": True},\n",
    "    title=\"Sentences t-SNE Visualization with TF-IDF Embeddings\",\n",
    "    width=1200,\n",
    "    height=1200,\n",
    ")\n",
    "# Show plot\n",
    "\n",
    "fig_tfidf.show()"
   ]
  },
  {
   "cell_type": "markdown",
   "metadata": {},
   "source": [
    "### HDBSCAN"
   ]
  },
  {
   "cell_type": "code",
   "execution_count": 42,
   "metadata": {},
   "outputs": [],
   "source": [
    "hdbscan = HDBSCAN(\n",
    "    min_cluster_size=5, metric=\"euclidean\", cluster_selection_method=\"eom\"\n",
    ")"
   ]
  },
  {
   "cell_type": "code",
   "execution_count": 43,
   "metadata": {},
   "outputs": [
    {
     "data": {
      "text/html": [
       "<div>\n",
       "<style scoped>\n",
       "    .dataframe tbody tr th:only-of-type {\n",
       "        vertical-align: middle;\n",
       "    }\n",
       "\n",
       "    .dataframe tbody tr th {\n",
       "        vertical-align: top;\n",
       "    }\n",
       "\n",
       "    .dataframe thead th {\n",
       "        text-align: right;\n",
       "    }\n",
       "</style>\n",
       "<table border=\"1\" class=\"dataframe\">\n",
       "  <thead>\n",
       "    <tr style=\"text-align: right;\">\n",
       "      <th></th>\n",
       "      <th>label</th>\n",
       "      <th>text</th>\n",
       "      <th>cleaned_text</th>\n",
       "      <th>ft_embeddings</th>\n",
       "      <th>x-tsne</th>\n",
       "      <th>y-tsne</th>\n",
       "      <th>cluster</th>\n",
       "    </tr>\n",
       "  </thead>\n",
       "  <tbody>\n",
       "    <tr>\n",
       "      <th>0</th>\n",
       "      <td>film noir</td>\n",
       "      <td>The film tells the story...</td>\n",
       "      <td>film tells story elizabeth colbert john welles...</td>\n",
       "      <td>[-0.0124314, 0.007053868, 0.0022771724, 0.0611...</td>\n",
       "      <td>-1.394166</td>\n",
       "      <td>1.630814</td>\n",
       "      <td>0</td>\n",
       "    </tr>\n",
       "  </tbody>\n",
       "</table>\n",
       "</div>"
      ],
      "text/plain": [
       "       label                         text  \\\n",
       "0  film noir  The film tells the story...   \n",
       "\n",
       "                                        cleaned_text  \\\n",
       "0  film tells story elizabeth colbert john welles...   \n",
       "\n",
       "                                       ft_embeddings    x-tsne    y-tsne  \\\n",
       "0  [-0.0124314, 0.007053868, 0.0022771724, 0.0611... -1.394166  1.630814   \n",
       "\n",
       "   cluster  \n",
       "0        0  "
      ]
     },
     "execution_count": 43,
     "metadata": {},
     "output_type": "execute_result"
    }
   ],
   "source": [
    "ft_df[\"cluster\"] = hdbscan.fit_predict(ft_embed_arr)\n",
    "ft_df.head(1)"
   ]
  },
  {
   "cell_type": "code",
   "execution_count": 49,
   "metadata": {},
   "outputs": [
    {
     "data": {
      "application/vnd.plotly.v1+json": {
       "config": {
        "plotlyServerURL": "https://plot.ly"
       },
       "data": [
        {
         "customdata": [
          [
           "The film tells the story...",
           "film noir",
           "0"
          ],
          [
           "Young sci-fi/fantasy enthusiast Gavin Gore...",
           "comedy",
           "0"
          ],
          [
           "Nikki Singh (Akshay Oberoi) is...",
           "neo-noir",
           "0"
          ],
          [
           "Scott (Ryan Phillippe) is a...",
           "romantic comedy",
           "0"
          ],
          [
           "Italian aristocrat Angela Chiaromonte (Helen...",
           "drama",
           "0"
          ],
          [
           "Struggling young actress Jenny (Marjorie...",
           "comedy",
           "0"
          ],
          [
           "Roanne Sanchez, a young girl...",
           "romance, drama",
           "0"
          ],
          [
           "Trust concerns the unusual romance...",
           "romantic comedy",
           "0"
          ],
          [
           "Dharma (Anandaraj) is an auto...",
           "unknown",
           "0"
          ],
          [
           "Jeff Hassard (Dean Jagger) and...",
           "western",
           "0"
          ],
          [
           "Charles Kessler (Bela Lugosi) is...",
           "horror",
           "0"
          ],
          [
           "United States Secret Service Lieutenant...",
           "crime",
           "0"
          ],
          [
           "Two college girls, Ducky and...",
           "comedy",
           "0"
          ],
          [
           "The film's slight storyline concerns...",
           "comedy",
           "0"
          ],
          [
           "A blind detective, Duncan Maclain,...",
           "mystery",
           "0"
          ],
          [
           "Big Bad Love shares its...",
           "drama",
           "0"
          ],
          [
           "Ten-year-old Bobby (Frankie Thomas) and...",
           "drama",
           "0"
          ],
          [
           "Agimat (Bong Revilla, Jr.) is...",
           "fantasy, comedy, adventure",
           "0"
          ],
          [
           "A prospective settler, pioneer Bob...",
           "western",
           "0"
          ],
          [
           "Chuck Wheeler is released from...",
           "drama",
           "0"
          ],
          [
           "Nick and Nora Charles are...",
           "mystery",
           "0"
          ],
          [
           "With five rival oil companies...",
           "crime drama",
           "0"
          ],
          [
           "Rosalind Dee (DeCarlo) is a...",
           "film noir",
           "0"
          ],
          [
           "Kaalia is an action flick...",
           "unknown",
           "0"
          ],
          [
           "Chad (Jimmie Rodgers) is a...",
           "drama",
           "0"
          ],
          [
           "Four friends go on a...",
           "drama",
           "0"
          ],
          [
           "Following a series of robberies...",
           "western",
           "0"
          ]
         ],
         "hovertemplate": "cluster=%{customdata[2]}<br>x-tsne=%{x}<br>y-tsne=%{y}<br>text=%{customdata[0]}<br>label=%{customdata[1]}<extra></extra>",
         "legendgroup": "0",
         "marker": {
          "color": "#636efa",
          "symbol": "circle"
         },
         "mode": "markers",
         "name": "0",
         "orientation": "v",
         "showlegend": true,
         "type": "scatter",
         "x": [
          -1.3941657543182373,
          -3.780596971511841,
          4.744901180267334,
          -0.38191813230514526,
          -3.9613921642303467,
          -3.698375701904297,
          3.185006856918335,
          3.050791025161743,
          2.87233304977417,
          -5.037930488586426,
          -4.787932872772217,
          -6.244478225708008,
          3.767111301422119,
          3.161158323287964,
          -5.454736709594727,
          2.391556739807129,
          -0.8873421549797058,
          -0.598549485206604,
          -1.435513973236084,
          -1.7500983476638794,
          -0.3984096646308899,
          0.2348371297121048,
          -5.328765392303467,
          3.7237987518310547,
          2.1471188068389893,
          -0.7612714767456055,
          -6.698410511016846
         ],
         "xaxis": "x",
         "y": [
          1.630813717842102,
          -2.219402551651001,
          7.285480499267578,
          1.9303817749023438,
          1.2541733980178833,
          -0.6032065153121948,
          -0.6567690968513489,
          -0.31745898723602295,
          6.749215126037598,
          -1.1268713474273682,
          2.5521745681762695,
          -2.2414140701293945,
          -0.9535458087921143,
          -1.3167307376861572,
          2.416729211807251,
          -0.3577360212802887,
          2.0147154331207275,
          -5.229527473449707,
          -0.2642024755477905,
          -0.8155204057693481,
          -0.9605787992477417,
          -0.7114399671554565,
          -1.586046814918518,
          7.093039035797119,
          -3.968926191329956,
          1.1722018718719482,
          -1.1291052103042603
         ],
         "yaxis": "y"
        },
        {
         "customdata": [
          [
           "The eventful life of Swami...",
           "biography",
           "-1"
          ],
          [
           "Jagathalaprathapan is a prince who...",
           "unknown",
           "-1"
          ],
          [
           "Police inspector Holloway (Patrick Wymark)...",
           "mystery",
           "-1"
          ],
          [
           "Lewis and Clark and George...",
           "drama",
           "-1"
          ],
          [
           "The story is about two...",
           "unknown",
           "-1"
          ],
          [
           "In a British TV studio,...",
           "comedy",
           "-1"
          ],
          [
           "George Cabot Jr. (Cesar Romero),...",
           "comedy, romance",
           "-1"
          ],
          [
           "In 1962, South Korea. Kang...",
           "unknown",
           "-1"
          ],
          [
           "Neil John Samuel is a...",
           "comedy",
           "-1"
          ],
          [
           "Vani Viswanath plays the central...",
           "unknown",
           "-1"
          ],
          [
           "Oliver's mother, a penniless outcast,...",
           "drama",
           "-1"
          ],
          [
           "Mongol chief Temujin (later to...",
           "adventure",
           "-1"
          ],
          [
           "A popular dance hall girl,...",
           "comedy",
           "-1"
          ],
          [
           "Mordecai C. Jones (Scott) –...",
           "comedy",
           "-1"
          ],
          [
           "Reverend Smith has arrived in...",
           "drama",
           "-1"
          ],
          [
           "Following the plot of the...",
           "drama",
           "-1"
          ],
          [
           "Flesh (Vince Murdocco) is kidnapped...",
           "comedy",
           "-1"
          ],
          [
           "A psychoanalyst and his young...",
           "film noir",
           "-1"
          ],
          [
           "Shellshocked following his experiences as...",
           "adventure",
           "-1"
          ],
          [
           "The film is a story...",
           "drama",
           "-1"
          ],
          [
           "The story starts with a...",
           "romance / suspense",
           "-1"
          ],
          [
           "In World War II, two...",
           "pow comedy",
           "-1"
          ],
          [
           "Byron Levin works in a...",
           "drama",
           "-1"
          ],
          [
           "It is love at first...",
           "romance",
           "-1"
          ],
          [
           "This film is about a...",
           "drama",
           "-1"
          ],
          [
           "3000 years ago, the Vader...",
           "unknown",
           "-1"
          ],
          [
           "Having cleaned up Tombstone, Arizona,...",
           "western",
           "-1"
          ],
          [
           "An orphan girl, named Bindu...",
           "unknown",
           "-1"
          ],
          [
           "The story is about a...",
           "romantic comedy",
           "-1"
          ],
          [
           "Kisan Kanya was based on...",
           "social",
           "-1"
          ],
          [
           "A psychic woman leads archaeologists...",
           "horror",
           "-1"
          ],
          [
           "Stand-up-comedian Nikita Kolesnikov (Danila Kozlovsky)...",
           "unknown",
           "-1"
          ],
          [
           "Two reporters, Curtis (Conrad Phillips)...",
           "crime",
           "-1"
          ],
          [
           "Two best friends who live...",
           "comedy",
           "-1"
          ],
          [
           "Claire of the Moon is...",
           "unknown",
           "-1"
          ],
          [
           "Curry and Pepper are two...",
           "comedy",
           "-1"
          ],
          [
           "Joseph is a mentally retarded...",
           "unknown",
           "-1"
          ],
          [
           "Loosely based on true events...",
           "romance",
           "-1"
          ],
          [
           "Bok-nyeo, a mentally handicapped woman,...",
           "drama",
           "-1"
          ],
          [
           "Dr. Markoff (J. Carrol Naish)...",
           "science fiction",
           "-1"
          ],
          [
           "The plot revolves around the...",
           "coming of age drama",
           "-1"
          ],
          [
           "The movie opens with Fung...",
           "erotic / drama",
           "-1"
          ],
          [
           "The film is an account...",
           "drama",
           "-1"
          ],
          [
           "On the run from the...",
           "unknown",
           "-1"
          ],
          [
           "A man visits a happy...",
           "unknown",
           "-1"
          ],
          [
           "In 1983 KBS launched a...",
           "unknown",
           "-1"
          ],
          [
           "Harvey Keitel plays an American...",
           "crime drama",
           "-1"
          ],
          [
           "Set in the austere post–World...",
           "comedy",
           "-1"
          ],
          [
           "Rahul (Ramankanth) sees a concert...",
           "unknown",
           "-1"
          ],
          [
           "A crime reporter, assisted by...",
           "drama",
           "-1"
          ],
          [
           "Irène Bordoni is cast as...",
           "musical comedy",
           "-1"
          ],
          [
           "This film is about two...",
           "romance, comedy",
           "-1"
          ],
          [
           "Cosmo Reif, an affectless mob...",
           "comedy, thriller",
           "-1"
          ],
          [
           "Edgar Mills and his mistress...",
           "crime",
           "-1"
          ],
          [
           "Molly Gilbert won't accept a...",
           "comedy",
           "-1"
          ],
          [
           "The film is set in...",
           "film noir",
           "-1"
          ],
          [
           "Marianne (Greta Garbo) is a...",
           "drama",
           "-1"
          ],
          [
           "Shane O'Shea is a young...",
           "drama",
           "-1"
          ],
          [
           "Bumbling cop Chatur Singh (Sanjay...",
           "comedy",
           "-1"
          ],
          [
           "Rolex (Prakash Raj) is a...",
           "unknown",
           "-1"
          ],
          [
           "Dhag is the story of...",
           "drama",
           "-1"
          ],
          [
           "A Mighty Heart is a...",
           "drama",
           "-1"
          ],
          [
           "The film is a retelling...",
           "fantasy",
           "-1"
          ],
          [
           "Two escaping killers hide out...",
           "suspense",
           "-1"
          ],
          [
           "Christopher, a lustful man goes...",
           "horror",
           "-1"
          ],
          [
           "Inventor and engineer Robert Draper...",
           "crime",
           "-1"
          ],
          [
           "A young sculptor searches for...",
           "unknown",
           "-1"
          ],
          [
           "Hardy plays Dr. Henry Tibbett,...",
           "comedy",
           "-1"
          ],
          [
           "After discovering that her state...",
           "comedy",
           "-1"
          ],
          [
           "The film is an examination...",
           "drama",
           "-1"
          ],
          [
           "The Kitauji high school concert...",
           "drama, youth, musical, romance, idol",
           "-1"
          ],
          [
           "In every port, sailor Bill,...",
           "comedy",
           "-1"
          ],
          [
           "Lost & Found is basically...",
           "romance, drama",
           "-1"
          ],
          [
           "Joan (Purviance) and Magdalen (Sothern)...",
           "unknown",
           "-1"
          ],
          [
           "Hong Deok-Ja continues to run...",
           "comedy",
           "-1"
          ],
          [
           "This film follows the lead...",
           "action, sci-fi",
           "-1"
          ],
          [
           "Indie musician Dong-hoon and cartoonist...",
           "unknown",
           "-1"
          ],
          [
           "The story tells about Ching...",
           "unknown",
           "-1"
          ],
          [
           "A former agent from the...",
           "unknown",
           "-1"
          ],
          [
           "Unlike other Alamo films that...",
           "western, war",
           "-1"
          ],
          [
           "The story involves a middle-aged...",
           "western",
           "-1"
          ],
          [
           "Gloria Cole and Eddie Swenson...",
           "drama",
           "-1"
          ],
          [
           "A San Francisco earthquake orphan...",
           "comedy drama",
           "-1"
          ],
          [
           "The film is about an...",
           "drama",
           "-1"
          ],
          [
           "An earthquake releases a bunch...",
           "unknown",
           "-1"
          ],
          [
           "The story line centres on...",
           "musical",
           "-1"
          ],
          [
           "Stephen Ghent, a mineowner, falls...",
           "western",
           "-1"
          ],
          [
           "Nine people from around the...",
           "unknown",
           "-1"
          ],
          [
           "Sets in the 19th century,...",
           "romantic drama",
           "-1"
          ],
          [
           "The film tells the story...",
           "comedy",
           "-1"
          ],
          [
           "Sally Elliott (Rita Hayworth), a...",
           "musical biopic",
           "-1"
          ],
          [
           "After Joe Huggett loses his...",
           "comedy",
           "-1"
          ],
          [
           "Chaiti is a young beautiful...",
           "drama",
           "-1"
          ],
          [
           "The Hartford Transcontinental Railroad is...",
           "western serial",
           "-1"
          ],
          [
           "Eric Wainwright (Van Johnson), a...",
           "comedy",
           "-1"
          ],
          [
           "Kevin Agar is a Carlton-based...",
           "comedy",
           "-1"
          ],
          [
           "The film takes place in...",
           "unknown",
           "-1"
          ],
          [
           "Restaurant owner Dylan Ramsey (David...",
           "comedy",
           "-1"
          ],
          [
           "After being told by his...",
           "western",
           "-1"
          ],
          [
           "Arjun lives in a village....",
           "unknown",
           "-1"
          ],
          [
           "The story of the film...",
           "unknown",
           "-1"
          ],
          [
           "Jerry McGuire (William Collier Jr.)...",
           "comedy",
           "-1"
          ],
          [
           "Chu Liuxiang is having drinks...",
           "unknown",
           "-1"
          ],
          [
           "When Los Angeles' police force...",
           "thriller",
           "-1"
          ],
          [
           "Fontaine Khaled is the London...",
           "drama",
           "-1"
          ],
          [
           "Professional hunter Harry Black is...",
           "adventure",
           "-1"
          ],
          [
           "Hiraasat is an action film,...",
           "action, crime, drama",
           "-1"
          ],
          [
           "Tulsi tells the story of...",
           " ",
           "-1"
          ],
          [
           "California gubernatorial candidate Burton (Lyon)...",
           "drama",
           "-1"
          ],
          [
           "A 12-year old young boy...",
           "drama",
           "-1"
          ],
          [
           "Soo-nam is a poor woman...",
           "unknown",
           "-1"
          ],
          [
           "Rie and Nao own a...",
           "drama",
           "-1"
          ],
          [
           "A simple handyman, who also...",
           "comedy",
           "-1"
          ],
          [
           "Karthi (Mahesh) is a college...",
           "romantic thriller",
           "-1"
          ],
          [
           "The story of the film...",
           "mystery",
           "-1"
          ],
          [
           "The film stars Harry Connick...",
           "drama",
           "-1"
          ],
          [
           "In 1964, inmate Charlie Forsythe...",
           "drama",
           "-1"
          ],
          [
           "Vivek is a wanted criminal...",
           "unknown",
           "-1"
          ],
          [
           "The film tells the story...",
           "comedy",
           "-1"
          ],
          [
           "Three teenage boys in small-town...",
           "drama",
           "-1"
          ],
          [
           "In a Mexican nightclub, some...",
           "comedy",
           "-1"
          ],
          [
           "Officers throw an extravagant party...",
           "comedy",
           "-1"
          ],
          [
           "The story revolves around an...",
           "drama, thriller",
           "-1"
          ],
          [
           "A bullied teen chef wants...",
           "comedy-drama",
           "-1"
          ],
          [
           "Flagg (Victor McLaglen) and Quirt...",
           "musical comedy",
           "-1"
          ],
          [
           "Nick (Niven) is the supposed...",
           "comedy",
           "-1"
          ],
          [
           "A rivalry develops between veteran...",
           "war",
           "-1"
          ],
          [
           "In the autumn of 1950,...",
           "drama / history / western",
           "-1"
          ],
          [
           "Raised on a sharecropping plantation...",
           "biography",
           "-1"
          ],
          [
           "This film is about the...",
           "unknown",
           "-1"
          ],
          [
           "Taglines: \"Being a girl is...",
           "drama",
           "-1"
          ],
          [
           "Newland Archer is engaged to...",
           "drama",
           "-1"
          ],
          [
           "In a small town, mentally...",
           "dramedy",
           "-1"
          ],
          [
           "Chandrabose (Mohanlal) whose wife's (Meera...",
           "comedy",
           "-1"
          ],
          [
           "The story is a family...",
           "unknown",
           "-1"
          ],
          [
           "Frankie Bono, a hitman from...",
           "thriller",
           "-1"
          ],
          [
           "The Philippines, 1972. Mysterious things...",
           "drama",
           "-1"
          ],
          [
           "Set in Alexandria in 1938,...",
           "drama",
           "-1"
          ],
          [
           "Two days before Christmas, a...",
           "thriller",
           "-1"
          ],
          [
           "The film is set in...",
           "drama",
           "-1"
          ],
          [
           "Michael Walsh, a husband and...",
           "drama",
           "-1"
          ],
          [
           "The film revolves around an...",
           "drama",
           "-1"
          ],
          [
           "On board an ocean liner...",
           "comedy",
           "-1"
          ],
          [
           "Alim is a young gay...",
           "romantic comedy",
           "-1"
          ],
          [
           "Twice widowed, Pilnyeo vows never...",
           "unknown",
           "-1"
          ],
          [
           "Convict Van Duff is the...",
           "film noir",
           "-1"
          ],
          [
           "A U.S. marshal investigates when...",
           "western",
           "-1"
          ],
          [
           "A new teacher organizes a...",
           "unknown",
           "-1"
          ],
          [
           "The story of a 10th...",
           "rom com",
           "-1"
          ],
          [
           "The plot of the film...",
           "nature",
           "-1"
          ],
          [
           "In the 1930s, Teresa (Buday)...",
           "unknown",
           "-1"
          ],
          [
           "The boys are involved in...",
           "comedy",
           "-1"
          ],
          [
           "John Murdock (Paul Richards) is...",
           "western",
           "-1"
          ],
          [
           "In the year 1999, the...",
           "unknown",
           "-1"
          ],
          [
           "The film is a historical...",
           "historical",
           "-1"
          ],
          [
           "The film is based on...",
           "unknown",
           "-1"
          ],
          [
           "Jin-hong is a prosecutor who...",
           "unknown",
           "-1"
          ],
          [
           "Brinda (Sindhu Tolani) is an...",
           "drama",
           "-1"
          ],
          [
           "An old gangster, with a...",
           "thriller",
           "-1"
          ],
          [
           "Kumar, a graduate who decides...",
           "unknown",
           "-1"
          ],
          [
           "The Rogers family visit Blackpool...",
           "comedy",
           "-1"
          ],
          [
           "The story revolves around a...",
           "unknown",
           "-1"
          ],
          [
           "The film is about an...",
           "short black comedy",
           "-1"
          ],
          [
           "A mysterious killer, known only...",
           "drama",
           "-1"
          ],
          [
           "A genius sculptor Joon-goo (Park...",
           "unknown",
           "-1"
          ],
          [
           "The young filmmaker Timothy (Jonathan...",
           "comedy",
           "-1"
          ],
          [
           "Julia Hemingway (Ina Skriver, credited...",
           "thriller",
           "-1"
          ],
          [
           "Russian general Marenkov (Robert Shaw)...",
           "unknown",
           "-1"
          ],
          [
           "Small-fry marijuana harvesters in Northern...",
           "comedy",
           "-1"
          ],
          [
           "Omar Sharif plays Muhassab, headman...",
           "drama",
           "-1"
          ],
          [
           "A young Lakota Sioux (Lou...",
           "drama",
           "-1"
          ],
          [
           "The Chain tells the story...",
           "comedy",
           "-1"
          ],
          [
           "The film is set in...",
           "biblical",
           "-1"
          ],
          [
           "Hans a young German journalist...",
           "sex comedy",
           "-1"
          ],
          [
           "Hikaru Oshiro, noticing that there...",
           "drama",
           "-1"
          ],
          [
           "The drama tells of a...",
           "crime drama",
           "-1"
          ],
          [
           "The title character is Victor...",
           "comedy",
           "-1"
          ],
          [
           "During a TV segment about...",
           "horror",
           "-1"
          ],
          [
           "Leslie is a troubled 1960s...",
           "drama",
           "-1"
          ],
          [
           "Hajj, a rascally beggar on...",
           "costume drama",
           "-1"
          ],
          [
           "Big-league baseball players Jerry and...",
           "musical",
           "-1"
          ],
          [
           "Rakta Bandhan is a family...",
           "unknown",
           "-1"
          ],
          [
           "Louisa Gould (Jenny Seagrove) hides...",
           "unknown",
           "-1"
          ],
          [
           "In Renaissance Florence, a Florentine...",
           "drama",
           "-1"
          ],
          [
           "Harry England (Michael Crawford), a...",
           "comedy",
           "-1"
          ],
          [
           "This film is about the...",
           "thriller",
           "-1"
          ],
          [
           "Marappan (Anandaraj) is the rebel...",
           "unknown",
           "-1"
          ],
          [
           "When a town drunk, Gabe,...",
           "western",
           "-1"
          ],
          [
           "After her mother was killed...",
           "action / comedy",
           "-1"
          ],
          [
           "\"Illustrated Press\" society editor Lorelei...",
           "drama",
           "-1"
          ],
          [
           "The spouses Alec and Zoey,...",
           "unknown",
           "-1"
          ],
          [
           "When infamous jewel thief Flambeau...",
           "mystery",
           "-1"
          ],
          [
           "Spanning nearly 20 years from...",
           "drama",
           "-1"
          ],
          [
           "Raised by his Uncle Wu...",
           "fantasy / adventure",
           "-1"
          ],
          [
           "During World War II singer...",
           "musical",
           "-1"
          ],
          [
           "Newly transferred college student Lily...",
           "dramedy",
           "-1"
          ],
          [
           "After the execution of Kattabomman...",
           "unknown",
           "-1"
          ],
          [
           "A girl is about to...",
           "adventure, serial",
           "-1"
          ],
          [
           "A young construction worker rams...",
           "drama",
           "-1"
          ],
          [
           "Teenager Jackie Knowles (Richard Attenborough)...",
           "drama",
           "-1"
          ],
          [
           "Alli (Manorama) a veritable jungle...",
           "unknown",
           "-1"
          ],
          [
           "A new gas formula that...",
           "crime",
           "-1"
          ],
          [
           "In Shanghai, Madeleine Linden is...",
           "comedy",
           "-1"
          ],
          [
           "The film takes place in...",
           "unknown",
           "-1"
          ],
          [
           "Raja is a 10-year-old tourist...",
           "unknown",
           "-1"
          ],
          [
           "Crash Landing follows the tense...",
           "action/thriller",
           "-1"
          ],
          [
           "A young woman goes to...",
           "thriller",
           "-1"
          ],
          [
           "In a desperate attempt to...",
           "drama",
           "-1"
          ],
          [
           "Rajini's parents are killed by...",
           "unknown",
           "-1"
          ],
          [
           "Andy (Lee Bowman) and Janie...",
           "comedy",
           "-1"
          ],
          [
           "A small Midwestern town is...",
           "comedy",
           "-1"
          ],
          [
           "Leonard Maltin: \"Cute comic mystery......",
           "comedy",
           "-1"
          ],
          [
           "Anand is a major in...",
           "action",
           "-1"
          ],
          [
           "Pudhayal was about imaginary gold...",
           "unknown",
           "-1"
          ],
          [
           "American gambler Nick Cain (Raft)...",
           "crime",
           "-1"
          ],
          [
           "The first act of the...",
           "drama",
           "-1"
          ],
          [
           "In Wilmington, Delaware, Anna Thompson...",
           "drama",
           "-1"
          ],
          [
           "While in a restaurant, Carla...",
           "drama",
           "-1"
          ],
          [
           "Seven young freedom fighters, heavily...",
           "unknown",
           "-1"
          ],
          [
           "In the middle of a...",
           "drama",
           "-1"
          ],
          [
           "Midget George Wilson pulls strings...",
           "drama",
           "-1"
          ],
          [
           "The film plays out with...",
           "comedy",
           "-1"
          ],
          [
           "The story revolves around a...",
           "unknown",
           "-1"
          ],
          [
           "Loosely based on the historical...",
           "fantasy",
           "-1"
          ],
          [
           "Daniels, in her final silent...",
           "romantic comedy",
           "-1"
          ],
          [
           "Sachin Joshi is a Kabaddi...",
           "action",
           "-1"
          ],
          [
           "Jung-woo is a film director...",
           "unknown",
           "-1"
          ],
          [
           "Two sailors are conned into...",
           "comedy",
           "-1"
          ],
          [
           "The story revolves around a...",
           "unknown",
           "-1"
          ],
          [
           "Handsome and fairly good-looking Anil...",
           "unknown",
           "-1"
          ],
          [
           "A lonely old man who...",
           "literary drama",
           "-1"
          ],
          [
           "Big Fella is set on...",
           "musical/drama",
           "-1"
          ],
          [
           "In the remote and undeveloped...",
           "drama",
           "-1"
          ],
          [
           "The film is about Jamie,...",
           "drama",
           "-1"
          ],
          [
           "In the year 1999, the...",
           "tokusatsu",
           "-1"
          ],
          [
           "The movie is about Ilangovan...",
           "comedy",
           "-1"
          ],
          [
           "Bonnie and Connie Jones are...",
           "musical",
           "-1"
          ],
          [
           "The story revolves around a...",
           "comedy drama",
           "-1"
          ],
          [
           "Alvin Roberts (Lee Tracy) feuds...",
           "comedy",
           "-1"
          ],
          [
           "Jean Paurel is a famous...",
           "drama",
           "-1"
          ],
          [
           "Stephanie (Lyn Wilde) and Terry...",
           "comedy",
           "-1"
          ],
          [
           "The story of the film,...",
           "crime/thriller",
           "-1"
          ],
          [
           "While on a trip to...",
           "unknown",
           "-1"
          ],
          [
           "Kiira seems like an ordinary...",
           "vampire film",
           "-1"
          ],
          [
           "With the human exploitation of...",
           "comedy / animation / family / adventure",
           "-1"
          ],
          [
           "New York City law professor...",
           "drama, crime",
           "-1"
          ],
          [
           "Con man Rick Maxon (Payne)...",
           "film noir",
           "-1"
          ],
          [
           "Two brothers become involved with...",
           "crime",
           "-1"
          ],
          [
           "Napoleon Bonaparte (Charles Boyer) launches...",
           "drama",
           "-1"
          ],
          [
           "The young brother of two...",
           "comedy",
           "-1"
          ],
          [
           "The story centres on the...",
           "unknown",
           "-1"
          ],
          [
           "Jennie Hagan (Swanson) is a...",
           "comedy",
           "-1"
          ],
          [
           "Political journalist Jayadev (Meka Srikanth)...",
           "action",
           "-1"
          ],
          [
           "Banerjee stars as Ram Das,...",
           "comedy",
           "-1"
          ],
          [
           "Two persons namely Ajay and...",
           "unknown",
           "-1"
          ],
          [
           "Story of a corpse being...",
           "unknown",
           "-1"
          ],
          [
           "It is of the Jack...",
           "mystery",
           "-1"
          ],
          [
           "The film revolves around the...",
           "unknown",
           "-1"
          ],
          [
           "Anand (Shivrajkumar) was nicknamed \"Kaddipudi\"...",
           "unknown",
           "-1"
          ],
          [
           "Vijay (MGR), a carefree and...",
           "unknown",
           "-1"
          ],
          [
           "A spirit (\"Patrick\") haunts a...",
           "thriller",
           "-1"
          ],
          [
           "The story follows a group...",
           "thriller",
           "-1"
          ],
          [
           "A man loses his memory...",
           "unknown",
           "-1"
          ],
          [
           "After being court-martialed and discharged...",
           "adventure",
           "-1"
          ],
          [
           "In a quiet English town,...",
           "thriller",
           "-1"
          ],
          [
           "Gracie (Fields) and Laurie (Dolman)...",
           "comedy",
           "-1"
          ],
          [
           "The plot is a mystery...",
           "western",
           "-1"
          ],
          [
           "The film tells the story...",
           "unknown",
           "-1"
          ]
         ],
         "hovertemplate": "cluster=%{customdata[2]}<br>x-tsne=%{x}<br>y-tsne=%{y}<br>text=%{customdata[0]}<br>label=%{customdata[1]}<extra></extra>",
         "legendgroup": "-1",
         "marker": {
          "color": "#EF553B",
          "symbol": "circle"
         },
         "mode": "markers",
         "name": "-1",
         "orientation": "v",
         "showlegend": true,
         "type": "scatter",
         "x": [
          8.257712364196777,
          5.009643077850342,
          -5.310770034790039,
          -4.3820719718933105,
          5.563476085662842,
          -3.009791851043701,
          -6.534955024719238,
          7.480871200561523,
          -4.808884620666504,
          4.63248348236084,
          -0.5815075039863586,
          8.764108657836914,
          -1.108508586883545,
          -2.377011299133301,
          -6.030075550079346,
          -2.6328229904174805,
          -0.5107619166374207,
          2.212857723236084,
          2.344933032989502,
          4.9285969734191895,
          -5.609200954437256,
          1.0203129053115845,
          -5.724947929382324,
          0.5263412594795227,
          0.7313678860664368,
          -0.13455374538898468,
          -8.131237983703613,
          4.3623247146606445,
          6.517717361450195,
          4.183669567108154,
          -0.4901624321937561,
          5.266811370849609,
          -7.240383625030518,
          3.9510905742645264,
          -4.318216800689697,
          2.2478718757629395,
          -0.6647645235061646,
          -1.5441595315933228,
          0.7937327027320862,
          -1.5381410121917725,
          -1.7155519723892212,
          -2.8373262882232666,
          5.693586349487305,
          -4.308572292327881,
          3.9729316234588623,
          3.4686343669891357,
          -6.652729511260986,
          2.1202595233917236,
          6.010714530944824,
          8.062647819519043,
          -5.999197959899902,
          7.216396808624268,
          0.753746509552002,
          -4.161777496337891,
          -0.36489319801330566,
          2.7268829345703125,
          -4.032603740692139,
          -3.385718822479248,
          3.627999782562256,
          4.011882305145264,
          6.944085597991943,
          1.109326720237732,
          -1.996414303779602,
          0.576550304889679,
          -2.908397674560547,
          -6.880002498626709,
          4.131044387817383,
          -1.6380175352096558,
          3.4602763652801514,
          6.019171237945557,
          8.250386238098145,
          -3.856788396835327,
          6.908613204956055,
          -5.121321201324463,
          1.8724710941314697,
          -2.299171209335327,
          0.5252751708030701,
          -7.116682529449463,
          1.398295521736145,
          -7.972168445587158,
          -0.09522642195224762,
          -0.26316842436790466,
          -4.799973487854004,
          7.304213047027588,
          2.274115800857544,
          6.309376239776611,
          -4.631590366363525,
          2.636784791946411,
          -6.474541187286377,
          -7.498119831085205,
          -4.1779913902282715,
          6.580935478210449,
          5.637685298919678,
          -0.8360868692398071,
          -4.056277751922607,
          1.658476710319519,
          3.3909027576446533,
          -2.047715425491333,
          -1.2179045677185059,
          7.092297077178955,
          -2.6033248901367188,
          -7.089982986450195,
          -1.7215760946273804,
          -0.3692602813243866,
          -3.047006368637085,
          -2.4846837520599365,
          6.2599592208862305,
          5.278049468994141,
          -7.263313293457031,
          -0.9977264404296875,
          2.6492726802825928,
          1.6413418054580688,
          7.176852226257324,
          1.3178452253341675,
          5.189380168914795,
          -1.8398288488388062,
          -7.550259590148926,
          2.271622657775879,
          0.8336233496665955,
          0.02694610506296158,
          -3.2100133895874023,
          -5.016185283660889,
          2.110506772994995,
          -0.3954392075538635,
          5.8010125160217285,
          -1.6881612539291382,
          -8.372621536254883,
          -0.08607849478721619,
          2.881816864013672,
          6.795472621917725,
          6.761735439300537,
          -2.5495455265045166,
          -8.358904838562012,
          5.635853290557861,
          7.066988945007324,
          0.5162885785102844,
          0.7630875110626221,
          -6.051718235015869,
          0.13424049317836761,
          5.85957145690918,
          -2.5887343883514404,
          5.198039531707764,
          4.401791095733643,
          3.4527747631073,
          4.158466339111328,
          1.0386090278625488,
          -4.774691581726074,
          8.214576721191406,
          8.103959083557129,
          3.121574878692627,
          2.5443034172058105,
          -3.731757640838623,
          -2.578657627105713,
          2.525764226913452,
          6.034557342529297,
          7.951767444610596,
          2.26584792137146,
          2.5789201259613037,
          1.2652095556259155,
          0.582486093044281,
          0.06295380741357803,
          2.717561721801758,
          2.1302907466888428,
          1.9800440073013306,
          5.017542362213135,
          -3.5650241374969482,
          -5.571293354034424,
          0.5328848958015442,
          1.2212872505187988,
          -1.3891853094100952,
          -1.2477201223373413,
          4.54014253616333,
          -3.475602388381958,
          4.633820533752441,
          8.235139846801758,
          -1.8181312084197998,
          2.9999802112579346,
          6.357637882232666,
          -7.604465961456299,
          -3.3380520343780518,
          0.7179202437400818,
          6.307583332061768,
          -8.427844047546387,
          -3.756786823272705,
          -4.535430908203125,
          6.795472621917725,
          3.534189224243164,
          -8.804676055908203,
          -5.906118869781494,
          -6.188089847564697,
          0.02437903732061386,
          -5.940461158752441,
          2.902160406112671,
          -0.9577596783638,
          1.4163843393325806,
          6.957373142242432,
          -0.5050589442253113,
          2.5728631019592285,
          1.9901448488235474,
          -7.535029888153076,
          -1.9579646587371826,
          2.904554843902588,
          -4.046515464782715,
          4.160139083862305,
          5.23579740524292,
          0.8708961606025696,
          2.062938690185547,
          -0.4831925928592682,
          5.140263080596924,
          -6.067693710327148,
          -2.68082857131958,
          -5.654359817504883,
          3.5070552825927734,
          4.518720626831055,
          -5.092229843139648,
          -8.932685852050781,
          1.3087722063064575,
          -2.9688258171081543,
          4.984988689422607,
          0.3870299458503723,
          -3.179774045944214,
          5.962201118469238,
          5.886687278747559,
          -3.6718595027923584,
          -5.361746788024902,
          7.2177324295043945,
          5.968054294586182,
          4.5773186683654785,
          6.483254909515381,
          4.571137428283691,
          0.34915122389793396,
          -3.486755132675171,
          4.060271263122559,
          2.0701756477355957,
          2.525773286819458,
          5.5984110832214355,
          8.496511459350586,
          3.4903318881988525,
          -6.6172404289245605,
          6.941178798675537,
          -6.353785037994385,
          4.650968074798584,
          5.856649875640869,
          5.024177551269531,
          2.8036394119262695,
          -7.296416282653809,
          -6.364380836486816,
          6.1880998611450195,
          -5.4684834480285645,
          1.478901982307434,
          1.0159252882003784,
          -9.23559856414795,
          3.337747097015381,
          -1.6679874658584595,
          2.2625088691711426,
          -0.05957215651869774,
          0.336414098739624,
          6.307523250579834,
          3.2933666706085205,
          3.5207579135894775,
          -2.9553186893463135,
          -1.388525128364563,
          1.3417094945907593,
          3.7607474327087402,
          -6.864456653594971,
          -4.244112968444824,
          -4.770882606506348,
          5.364963531494141
         ],
         "xaxis": "x",
         "y": [
          5.897769451141357,
          6.279392242431641,
          2.7848243713378906,
          -3.1414730548858643,
          -0.3042672276496887,
          -5.076702117919922,
          -1.995063066482544,
          -1.6696670055389404,
          -2.165315628051758,
          7.311955451965332,
          2.9797775745391846,
          2.500919818878174,
          -3.1272873878479004,
          -3.5085792541503906,
          -0.15785866975784302,
          5.096811294555664,
          -5.176310062408447,
          2.338374137878418,
          -4.402400016784668,
          -3.293179988861084,
          -4.5166778564453125,
          -4.7421464920043945,
          -1.6863377094268799,
          -2.238011360168457,
          -7.326667308807373,
          -6.119076728820801,
          -3.9146034717559814,
          -2.762155055999756,
          7.34661340713501,
          5.810468673706055,
          -4.191984176635742,
          1.7377581596374512,
          -0.5879475474357605,
          -1.094262719154358,
          -4.126106262207031,
          -1.2632783651351929,
          1.0990363359451294,
          -5.1957268714904785,
          4.39396858215332,
          -4.498261451721191,
          2.046030044555664,
          0.25183677673339844,
          -3.5933525562286377,
          -5.262889862060547,
          1.0135952234268188,
          -5.781984806060791,
          -5.255837917327881,
          -4.8835601806640625,
          2.2290923595428467,
          -5.400466442108154,
          -1.0617111921310425,
          8.729574203491211,
          -0.8986898064613342,
          2.7681198120117188,
          -1.668378472328186,
          -0.2613137662410736,
          -0.24471522867679596,
          -0.25282803177833557,
          7.681535720825195,
          7.929433345794678,
          4.038055896759033,
          -7.25741720199585,
          -6.3573832511901855,
          0.04495728388428688,
          3.601468086242676,
          2.2711024284362793,
          0.9934132695198059,
          -4.160771369934082,
          -4.448980808258057,
          -3.7111971378326416,
          -2.488614082336426,
          -2.8476622104644775,
          4.401787757873535,
          -0.46551641821861267,
          -1.5146363973617554,
          -5.728867530822754,
          1.864846110343933,
          -3.2411317825317383,
          -8.10416316986084,
          -1.6670676469802856,
          4.099396228790283,
          -2.283071517944336,
          1.0895768404006958,
          -4.265171051025391,
          -6.698601245880127,
          -2.1962859630584717,
          0.6571035385131836,
          -6.391044616699219,
          -2.942376136779785,
          3.466794729232788,
          -1.1218507289886475,
          -0.13841205835342407,
          5.24843692779541,
          -1.2850313186645508,
          -0.8391071557998657,
          -0.679317057132721,
          -5.16005277633667,
          -0.545107364654541,
          -1.2454655170440674,
          3.7921791076660156,
          -2.3876547813415527,
          -1.3785794973373413,
          3.5979201793670654,
          -0.2745901346206665,
          0.0819234848022461,
          -1.3668662309646606,
          9.67400074005127,
          8.31495189666748,
          4.8913798332214355,
          3.084613561630249,
          1.0366413593292236,
          -2.4430394172668457,
          -3.2163562774658203,
          7.470613479614258,
          -0.48277828097343445,
          0.06721056997776031,
          1.306341290473938,
          6.469920635223389,
          -4.523916721343994,
          0.6459649801254272,
          -3.908252716064453,
          -2.6957943439483643,
          2.6377317905426025,
          -1.6139752864837646,
          -5.398220539093018,
          1.2150511741638184,
          -1.7233227491378784,
          -8.527997016906738,
          -3.8801753520965576,
          8.242629051208496,
          -1.5223149061203003,
          1.7899802923202515,
          -0.11450225114822388,
          6.502813339233398,
          6.6283392906188965,
          -0.9360425472259521,
          -6.039283752441406,
          3.782824993133545,
          6.226827621459961,
          7.004338264465332,
          2.6392831802368164,
          -2.198995351791382,
          -1.7753268480300903,
          0.6940600872039795,
          2.4113969802856445,
          -1.4756382703781128,
          4.188653469085693,
          -2.464048385620117,
          -0.8829301595687866,
          -2.041135787963867,
          0.004522581584751606,
          -6.475979328155518,
          -3.1355061531066895,
          -6.2516865730285645,
          10.211298942565918,
          7.586477279663086,
          2.690143585205078,
          6.671111106872559,
          0.5124559998512268,
          -8.363195419311523,
          3.839557409286499,
          1.39601731300354,
          1.5386918783187866,
          2.5738208293914795,
          4.403381824493408,
          -2.2058465480804443,
          -2.66896915435791,
          -4.872995853424072,
          0.0828452929854393,
          -2.2170443534851074,
          4.379395008087158,
          -5.8816704750061035,
          5.8280181884765625,
          -2.209954261779785,
          -2.5475873947143555,
          -4.881434440612793,
          -4.699118137359619,
          -6.263070583343506,
          1.9130700826644897,
          6.362053871154785,
          -2.549861431121826,
          9.296320915222168,
          -1.6498136520385742,
          1.6080787181854248,
          0.06583602726459503,
          8.242629051208496,
          6.69891357421875,
          -3.1755363941192627,
          -3.642989158630371,
          2.5168540477752686,
          2.214768648147583,
          1.829118013381958,
          -4.963351249694824,
          -6.010948657989502,
          -5.3953537940979,
          -2.3724710941314697,
          -8.23000431060791,
          -2.7530038356781006,
          0.9218818545341492,
          0.32244873046875,
          5.347583770751953,
          -6.927126407623291,
          0.9196521043777466,
          -7.252123832702637,
          3.3106119632720947,
          -3.3738532066345215,
          3.94212007522583,
          0.020689906552433968,
          7.460819721221924,
          0.5876275897026062,
          -7.61564302444458,
          5.519911766052246,
          7.956566333770752,
          9.045326232910156,
          2.2171103954315186,
          -0.23523744940757751,
          -1.5577282905578613,
          -1.8378454446792603,
          -1.3472687005996704,
          2.6215221881866455,
          -0.8278440833091736,
          -6.080998420715332,
          8.252237319946289,
          5.51345682144165,
          -6.9355950355529785,
          6.329514503479004,
          -5.405862331390381,
          -0.589995801448822,
          6.423501491546631,
          8.315591812133789,
          3.9698028564453125,
          -1.3871207237243652,
          -2.075939416885376,
          -3.562533140182495,
          -6.251756191253662,
          6.4752421379089355,
          0.6580538153648376,
          3.3401811122894287,
          -4.323143482208252,
          1.2042624950408936,
          0.7165395021438599,
          -4.700913906097412,
          8.716737747192383,
          0.8382809162139893,
          -8.370819091796875,
          -2.2765135765075684,
          -0.7697525024414062,
          -4.7785325050354,
          0.5009006857872009,
          1.7551051378250122,
          6.3323750495910645,
          1.1306785345077515,
          7.154446601867676,
          7.454951763153076,
          4.076807022094727,
          1.0179613828659058,
          5.837674617767334,
          5.644552707672119,
          2.429370403289795,
          -0.006740618962794542,
          0.921127438545227,
          0.5491731762886047,
          3.3687052726745605,
          -3.0249063968658447,
          -0.8108391165733337,
          -1.0884684324264526,
          3.9136486053466797,
          1.5916242599487305
         ],
         "yaxis": "y"
        },
        {
         "customdata": [
          [
           "Balu (Vijayakumar) and Padma (Manjula...",
           "unknown",
           "1"
          ],
          [
           "Akashangalil is the story of...",
           "family",
           "1"
          ],
          [
           "Vijay (R. Sarathkumar) and Seetha...",
           "unknown",
           "1"
          ],
          [
           "Gopal (M.G.R.) is an honest...",
           "unknown",
           "1"
          ],
          [
           "Kumar is a young and...",
           "unknown",
           "1"
          ]
         ],
         "hovertemplate": "cluster=%{customdata[2]}<br>x-tsne=%{x}<br>y-tsne=%{y}<br>text=%{customdata[0]}<br>label=%{customdata[1]}<extra></extra>",
         "legendgroup": "1",
         "marker": {
          "color": "#00cc96",
          "symbol": "circle"
         },
         "mode": "markers",
         "name": "1",
         "orientation": "v",
         "showlegend": true,
         "type": "scatter",
         "x": [
          5.726032257080078,
          6.170067310333252,
          5.679248332977295,
          5.335801601409912,
          5.635136127471924
         ],
         "xaxis": "x",
         "y": [
          8.253113746643066,
          7.009763240814209,
          8.34810733795166,
          7.469124794006348,
          7.558320999145508
         ],
         "yaxis": "y"
        }
       ],
       "layout": {
        "height": 1200,
        "legend": {
         "title": {
          "text": "cluster"
         },
         "tracegroupgap": 0
        },
        "template": {
         "data": {
          "bar": [
           {
            "error_x": {
             "color": "#2a3f5f"
            },
            "error_y": {
             "color": "#2a3f5f"
            },
            "marker": {
             "line": {
              "color": "#E5ECF6",
              "width": 0.5
             },
             "pattern": {
              "fillmode": "overlay",
              "size": 10,
              "solidity": 0.2
             }
            },
            "type": "bar"
           }
          ],
          "barpolar": [
           {
            "marker": {
             "line": {
              "color": "#E5ECF6",
              "width": 0.5
             },
             "pattern": {
              "fillmode": "overlay",
              "size": 10,
              "solidity": 0.2
             }
            },
            "type": "barpolar"
           }
          ],
          "carpet": [
           {
            "aaxis": {
             "endlinecolor": "#2a3f5f",
             "gridcolor": "white",
             "linecolor": "white",
             "minorgridcolor": "white",
             "startlinecolor": "#2a3f5f"
            },
            "baxis": {
             "endlinecolor": "#2a3f5f",
             "gridcolor": "white",
             "linecolor": "white",
             "minorgridcolor": "white",
             "startlinecolor": "#2a3f5f"
            },
            "type": "carpet"
           }
          ],
          "choropleth": [
           {
            "colorbar": {
             "outlinewidth": 0,
             "ticks": ""
            },
            "type": "choropleth"
           }
          ],
          "contour": [
           {
            "colorbar": {
             "outlinewidth": 0,
             "ticks": ""
            },
            "colorscale": [
             [
              0,
              "#0d0887"
             ],
             [
              0.1111111111111111,
              "#46039f"
             ],
             [
              0.2222222222222222,
              "#7201a8"
             ],
             [
              0.3333333333333333,
              "#9c179e"
             ],
             [
              0.4444444444444444,
              "#bd3786"
             ],
             [
              0.5555555555555556,
              "#d8576b"
             ],
             [
              0.6666666666666666,
              "#ed7953"
             ],
             [
              0.7777777777777778,
              "#fb9f3a"
             ],
             [
              0.8888888888888888,
              "#fdca26"
             ],
             [
              1,
              "#f0f921"
             ]
            ],
            "type": "contour"
           }
          ],
          "contourcarpet": [
           {
            "colorbar": {
             "outlinewidth": 0,
             "ticks": ""
            },
            "type": "contourcarpet"
           }
          ],
          "heatmap": [
           {
            "colorbar": {
             "outlinewidth": 0,
             "ticks": ""
            },
            "colorscale": [
             [
              0,
              "#0d0887"
             ],
             [
              0.1111111111111111,
              "#46039f"
             ],
             [
              0.2222222222222222,
              "#7201a8"
             ],
             [
              0.3333333333333333,
              "#9c179e"
             ],
             [
              0.4444444444444444,
              "#bd3786"
             ],
             [
              0.5555555555555556,
              "#d8576b"
             ],
             [
              0.6666666666666666,
              "#ed7953"
             ],
             [
              0.7777777777777778,
              "#fb9f3a"
             ],
             [
              0.8888888888888888,
              "#fdca26"
             ],
             [
              1,
              "#f0f921"
             ]
            ],
            "type": "heatmap"
           }
          ],
          "heatmapgl": [
           {
            "colorbar": {
             "outlinewidth": 0,
             "ticks": ""
            },
            "colorscale": [
             [
              0,
              "#0d0887"
             ],
             [
              0.1111111111111111,
              "#46039f"
             ],
             [
              0.2222222222222222,
              "#7201a8"
             ],
             [
              0.3333333333333333,
              "#9c179e"
             ],
             [
              0.4444444444444444,
              "#bd3786"
             ],
             [
              0.5555555555555556,
              "#d8576b"
             ],
             [
              0.6666666666666666,
              "#ed7953"
             ],
             [
              0.7777777777777778,
              "#fb9f3a"
             ],
             [
              0.8888888888888888,
              "#fdca26"
             ],
             [
              1,
              "#f0f921"
             ]
            ],
            "type": "heatmapgl"
           }
          ],
          "histogram": [
           {
            "marker": {
             "pattern": {
              "fillmode": "overlay",
              "size": 10,
              "solidity": 0.2
             }
            },
            "type": "histogram"
           }
          ],
          "histogram2d": [
           {
            "colorbar": {
             "outlinewidth": 0,
             "ticks": ""
            },
            "colorscale": [
             [
              0,
              "#0d0887"
             ],
             [
              0.1111111111111111,
              "#46039f"
             ],
             [
              0.2222222222222222,
              "#7201a8"
             ],
             [
              0.3333333333333333,
              "#9c179e"
             ],
             [
              0.4444444444444444,
              "#bd3786"
             ],
             [
              0.5555555555555556,
              "#d8576b"
             ],
             [
              0.6666666666666666,
              "#ed7953"
             ],
             [
              0.7777777777777778,
              "#fb9f3a"
             ],
             [
              0.8888888888888888,
              "#fdca26"
             ],
             [
              1,
              "#f0f921"
             ]
            ],
            "type": "histogram2d"
           }
          ],
          "histogram2dcontour": [
           {
            "colorbar": {
             "outlinewidth": 0,
             "ticks": ""
            },
            "colorscale": [
             [
              0,
              "#0d0887"
             ],
             [
              0.1111111111111111,
              "#46039f"
             ],
             [
              0.2222222222222222,
              "#7201a8"
             ],
             [
              0.3333333333333333,
              "#9c179e"
             ],
             [
              0.4444444444444444,
              "#bd3786"
             ],
             [
              0.5555555555555556,
              "#d8576b"
             ],
             [
              0.6666666666666666,
              "#ed7953"
             ],
             [
              0.7777777777777778,
              "#fb9f3a"
             ],
             [
              0.8888888888888888,
              "#fdca26"
             ],
             [
              1,
              "#f0f921"
             ]
            ],
            "type": "histogram2dcontour"
           }
          ],
          "mesh3d": [
           {
            "colorbar": {
             "outlinewidth": 0,
             "ticks": ""
            },
            "type": "mesh3d"
           }
          ],
          "parcoords": [
           {
            "line": {
             "colorbar": {
              "outlinewidth": 0,
              "ticks": ""
             }
            },
            "type": "parcoords"
           }
          ],
          "pie": [
           {
            "automargin": true,
            "type": "pie"
           }
          ],
          "scatter": [
           {
            "fillpattern": {
             "fillmode": "overlay",
             "size": 10,
             "solidity": 0.2
            },
            "type": "scatter"
           }
          ],
          "scatter3d": [
           {
            "line": {
             "colorbar": {
              "outlinewidth": 0,
              "ticks": ""
             }
            },
            "marker": {
             "colorbar": {
              "outlinewidth": 0,
              "ticks": ""
             }
            },
            "type": "scatter3d"
           }
          ],
          "scattercarpet": [
           {
            "marker": {
             "colorbar": {
              "outlinewidth": 0,
              "ticks": ""
             }
            },
            "type": "scattercarpet"
           }
          ],
          "scattergeo": [
           {
            "marker": {
             "colorbar": {
              "outlinewidth": 0,
              "ticks": ""
             }
            },
            "type": "scattergeo"
           }
          ],
          "scattergl": [
           {
            "marker": {
             "colorbar": {
              "outlinewidth": 0,
              "ticks": ""
             }
            },
            "type": "scattergl"
           }
          ],
          "scattermapbox": [
           {
            "marker": {
             "colorbar": {
              "outlinewidth": 0,
              "ticks": ""
             }
            },
            "type": "scattermapbox"
           }
          ],
          "scatterpolar": [
           {
            "marker": {
             "colorbar": {
              "outlinewidth": 0,
              "ticks": ""
             }
            },
            "type": "scatterpolar"
           }
          ],
          "scatterpolargl": [
           {
            "marker": {
             "colorbar": {
              "outlinewidth": 0,
              "ticks": ""
             }
            },
            "type": "scatterpolargl"
           }
          ],
          "scatterternary": [
           {
            "marker": {
             "colorbar": {
              "outlinewidth": 0,
              "ticks": ""
             }
            },
            "type": "scatterternary"
           }
          ],
          "surface": [
           {
            "colorbar": {
             "outlinewidth": 0,
             "ticks": ""
            },
            "colorscale": [
             [
              0,
              "#0d0887"
             ],
             [
              0.1111111111111111,
              "#46039f"
             ],
             [
              0.2222222222222222,
              "#7201a8"
             ],
             [
              0.3333333333333333,
              "#9c179e"
             ],
             [
              0.4444444444444444,
              "#bd3786"
             ],
             [
              0.5555555555555556,
              "#d8576b"
             ],
             [
              0.6666666666666666,
              "#ed7953"
             ],
             [
              0.7777777777777778,
              "#fb9f3a"
             ],
             [
              0.8888888888888888,
              "#fdca26"
             ],
             [
              1,
              "#f0f921"
             ]
            ],
            "type": "surface"
           }
          ],
          "table": [
           {
            "cells": {
             "fill": {
              "color": "#EBF0F8"
             },
             "line": {
              "color": "white"
             }
            },
            "header": {
             "fill": {
              "color": "#C8D4E3"
             },
             "line": {
              "color": "white"
             }
            },
            "type": "table"
           }
          ]
         },
         "layout": {
          "annotationdefaults": {
           "arrowcolor": "#2a3f5f",
           "arrowhead": 0,
           "arrowwidth": 1
          },
          "autotypenumbers": "strict",
          "coloraxis": {
           "colorbar": {
            "outlinewidth": 0,
            "ticks": ""
           }
          },
          "colorscale": {
           "diverging": [
            [
             0,
             "#8e0152"
            ],
            [
             0.1,
             "#c51b7d"
            ],
            [
             0.2,
             "#de77ae"
            ],
            [
             0.3,
             "#f1b6da"
            ],
            [
             0.4,
             "#fde0ef"
            ],
            [
             0.5,
             "#f7f7f7"
            ],
            [
             0.6,
             "#e6f5d0"
            ],
            [
             0.7,
             "#b8e186"
            ],
            [
             0.8,
             "#7fbc41"
            ],
            [
             0.9,
             "#4d9221"
            ],
            [
             1,
             "#276419"
            ]
           ],
           "sequential": [
            [
             0,
             "#0d0887"
            ],
            [
             0.1111111111111111,
             "#46039f"
            ],
            [
             0.2222222222222222,
             "#7201a8"
            ],
            [
             0.3333333333333333,
             "#9c179e"
            ],
            [
             0.4444444444444444,
             "#bd3786"
            ],
            [
             0.5555555555555556,
             "#d8576b"
            ],
            [
             0.6666666666666666,
             "#ed7953"
            ],
            [
             0.7777777777777778,
             "#fb9f3a"
            ],
            [
             0.8888888888888888,
             "#fdca26"
            ],
            [
             1,
             "#f0f921"
            ]
           ],
           "sequentialminus": [
            [
             0,
             "#0d0887"
            ],
            [
             0.1111111111111111,
             "#46039f"
            ],
            [
             0.2222222222222222,
             "#7201a8"
            ],
            [
             0.3333333333333333,
             "#9c179e"
            ],
            [
             0.4444444444444444,
             "#bd3786"
            ],
            [
             0.5555555555555556,
             "#d8576b"
            ],
            [
             0.6666666666666666,
             "#ed7953"
            ],
            [
             0.7777777777777778,
             "#fb9f3a"
            ],
            [
             0.8888888888888888,
             "#fdca26"
            ],
            [
             1,
             "#f0f921"
            ]
           ]
          },
          "colorway": [
           "#636efa",
           "#EF553B",
           "#00cc96",
           "#ab63fa",
           "#FFA15A",
           "#19d3f3",
           "#FF6692",
           "#B6E880",
           "#FF97FF",
           "#FECB52"
          ],
          "font": {
           "color": "#2a3f5f"
          },
          "geo": {
           "bgcolor": "white",
           "lakecolor": "white",
           "landcolor": "#E5ECF6",
           "showlakes": true,
           "showland": true,
           "subunitcolor": "white"
          },
          "hoverlabel": {
           "align": "left"
          },
          "hovermode": "closest",
          "mapbox": {
           "style": "light"
          },
          "paper_bgcolor": "white",
          "plot_bgcolor": "#E5ECF6",
          "polar": {
           "angularaxis": {
            "gridcolor": "white",
            "linecolor": "white",
            "ticks": ""
           },
           "bgcolor": "#E5ECF6",
           "radialaxis": {
            "gridcolor": "white",
            "linecolor": "white",
            "ticks": ""
           }
          },
          "scene": {
           "xaxis": {
            "backgroundcolor": "#E5ECF6",
            "gridcolor": "white",
            "gridwidth": 2,
            "linecolor": "white",
            "showbackground": true,
            "ticks": "",
            "zerolinecolor": "white"
           },
           "yaxis": {
            "backgroundcolor": "#E5ECF6",
            "gridcolor": "white",
            "gridwidth": 2,
            "linecolor": "white",
            "showbackground": true,
            "ticks": "",
            "zerolinecolor": "white"
           },
           "zaxis": {
            "backgroundcolor": "#E5ECF6",
            "gridcolor": "white",
            "gridwidth": 2,
            "linecolor": "white",
            "showbackground": true,
            "ticks": "",
            "zerolinecolor": "white"
           }
          },
          "shapedefaults": {
           "line": {
            "color": "#2a3f5f"
           }
          },
          "ternary": {
           "aaxis": {
            "gridcolor": "white",
            "linecolor": "white",
            "ticks": ""
           },
           "baxis": {
            "gridcolor": "white",
            "linecolor": "white",
            "ticks": ""
           },
           "bgcolor": "#E5ECF6",
           "caxis": {
            "gridcolor": "white",
            "linecolor": "white",
            "ticks": ""
           }
          },
          "title": {
           "x": 0.05
          },
          "xaxis": {
           "automargin": true,
           "gridcolor": "white",
           "linecolor": "white",
           "ticks": "",
           "title": {
            "standoff": 15
           },
           "zerolinecolor": "white",
           "zerolinewidth": 2
          },
          "yaxis": {
           "automargin": true,
           "gridcolor": "white",
           "linecolor": "white",
           "ticks": "",
           "title": {
            "standoff": 15
           },
           "zerolinecolor": "white",
           "zerolinewidth": 2
          }
         }
        },
        "title": {
         "text": "Sentences t-SNE Visualization with FastText Embeddings and HDBSCAN Clustering"
        },
        "width": 1200,
        "xaxis": {
         "anchor": "y",
         "domain": [
          0,
          1
         ],
         "title": {
          "text": "x-tsne"
         }
        },
        "yaxis": {
         "anchor": "x",
         "domain": [
          0,
          1
         ],
         "title": {
          "text": "y-tsne"
         }
        }
       }
      },
      "text/html": [
       "<div>                            <div id=\"b3254f78-7819-4897-89e8-a6b4ada8fcf0\" class=\"plotly-graph-div\" style=\"height:1200px; width:1200px;\"></div>            <script type=\"text/javascript\">                require([\"plotly\"], function(Plotly) {                    window.PLOTLYENV=window.PLOTLYENV || {};                                    if (document.getElementById(\"b3254f78-7819-4897-89e8-a6b4ada8fcf0\")) {                    Plotly.newPlot(                        \"b3254f78-7819-4897-89e8-a6b4ada8fcf0\",                        [{\"customdata\":[[\"The film tells the story...\",\"film noir\",\"0\"],[\"Young sci-fi\\u002ffantasy enthusiast Gavin Gore...\",\"comedy\",\"0\"],[\"Nikki Singh (Akshay Oberoi) is...\",\"neo-noir\",\"0\"],[\"Scott (Ryan Phillippe) is a...\",\"romantic comedy\",\"0\"],[\"Italian aristocrat Angela Chiaromonte (Helen...\",\"drama\",\"0\"],[\"Struggling young actress Jenny (Marjorie...\",\"comedy\",\"0\"],[\"Roanne Sanchez, a young girl...\",\"romance, drama\",\"0\"],[\"Trust concerns the unusual romance...\",\"romantic comedy\",\"0\"],[\"Dharma (Anandaraj) is an auto...\",\"unknown\",\"0\"],[\"Jeff Hassard (Dean Jagger) and...\",\"western\",\"0\"],[\"Charles Kessler (Bela Lugosi) is...\",\"horror\",\"0\"],[\"United States Secret Service Lieutenant...\",\"crime\",\"0\"],[\"Two college girls, Ducky and...\",\"comedy\",\"0\"],[\"The film's slight storyline concerns...\",\"comedy\",\"0\"],[\"A blind detective, Duncan Maclain,...\",\"mystery\",\"0\"],[\"Big Bad Love shares its...\",\"drama\",\"0\"],[\"Ten-year-old Bobby (Frankie Thomas) and...\",\"drama\",\"0\"],[\"Agimat (Bong Revilla, Jr.) is...\",\"fantasy, comedy, adventure\",\"0\"],[\"A prospective settler, pioneer Bob...\",\"western\",\"0\"],[\"Chuck Wheeler is released from...\",\"drama\",\"0\"],[\"Nick and Nora Charles are...\",\"mystery\",\"0\"],[\"With five rival oil companies...\",\"crime drama\",\"0\"],[\"Rosalind Dee (DeCarlo) is a...\",\"film noir\",\"0\"],[\"Kaalia is an action flick...\",\"unknown\",\"0\"],[\"Chad (Jimmie Rodgers) is a...\",\"drama\",\"0\"],[\"Four friends go on a...\",\"drama\",\"0\"],[\"Following a series of robberies...\",\"western\",\"0\"]],\"hovertemplate\":\"cluster=%{customdata[2]}\\u003cbr\\u003ex-tsne=%{x}\\u003cbr\\u003ey-tsne=%{y}\\u003cbr\\u003etext=%{customdata[0]}\\u003cbr\\u003elabel=%{customdata[1]}\\u003cextra\\u003e\\u003c\\u002fextra\\u003e\",\"legendgroup\":\"0\",\"marker\":{\"color\":\"#636efa\",\"symbol\":\"circle\"},\"mode\":\"markers\",\"name\":\"0\",\"orientation\":\"v\",\"showlegend\":true,\"x\":[-1.3941657543182373,-3.780596971511841,4.744901180267334,-0.38191813230514526,-3.9613921642303467,-3.698375701904297,3.185006856918335,3.050791025161743,2.87233304977417,-5.037930488586426,-4.787932872772217,-6.244478225708008,3.767111301422119,3.161158323287964,-5.454736709594727,2.391556739807129,-0.8873421549797058,-0.598549485206604,-1.435513973236084,-1.7500983476638794,-0.3984096646308899,0.2348371297121048,-5.328765392303467,3.7237987518310547,2.1471188068389893,-0.7612714767456055,-6.698410511016846],\"xaxis\":\"x\",\"y\":[1.630813717842102,-2.219402551651001,7.285480499267578,1.9303817749023438,1.2541733980178833,-0.6032065153121948,-0.6567690968513489,-0.31745898723602295,6.749215126037598,-1.1268713474273682,2.5521745681762695,-2.2414140701293945,-0.9535458087921143,-1.3167307376861572,2.416729211807251,-0.3577360212802887,2.0147154331207275,-5.229527473449707,-0.2642024755477905,-0.8155204057693481,-0.9605787992477417,-0.7114399671554565,-1.586046814918518,7.093039035797119,-3.968926191329956,1.1722018718719482,-1.1291052103042603],\"yaxis\":\"y\",\"type\":\"scatter\"},{\"customdata\":[[\"The eventful life of Swami...\",\"biography\",\"-1\"],[\"Jagathalaprathapan is a prince who...\",\"unknown\",\"-1\"],[\"Police inspector Holloway (Patrick Wymark)...\",\"mystery\",\"-1\"],[\"Lewis and Clark and George...\",\"drama\",\"-1\"],[\"The story is about two...\",\"unknown\",\"-1\"],[\"In a British TV studio,...\",\"comedy\",\"-1\"],[\"George Cabot Jr. (Cesar Romero),...\",\"comedy, romance\",\"-1\"],[\"In 1962, South Korea. Kang...\",\"unknown\",\"-1\"],[\"Neil John Samuel is a...\",\"comedy\",\"-1\"],[\"Vani Viswanath plays the central...\",\"unknown\",\"-1\"],[\"Oliver's mother, a penniless outcast,...\",\"drama\",\"-1\"],[\"Mongol chief Temujin (later to...\",\"adventure\",\"-1\"],[\"A popular dance hall girl,...\",\"comedy\",\"-1\"],[\"Mordecai C. Jones (Scott) \\u2013...\",\"comedy\",\"-1\"],[\"Reverend Smith has arrived in...\",\"drama\",\"-1\"],[\"Following the plot of the...\",\"drama\",\"-1\"],[\"Flesh (Vince Murdocco) is kidnapped...\",\"comedy\",\"-1\"],[\"A psychoanalyst and his young...\",\"film noir\",\"-1\"],[\"Shellshocked following his experiences as...\",\"adventure\",\"-1\"],[\"The film is a story...\",\"drama\",\"-1\"],[\"The story starts with a...\",\"romance \\u002f suspense\",\"-1\"],[\"In World War II, two...\",\"pow comedy\",\"-1\"],[\"Byron Levin works in a...\",\"drama\",\"-1\"],[\"It is love at first...\",\"romance\",\"-1\"],[\"This film is about a...\",\"drama\",\"-1\"],[\"3000 years ago, the Vader...\",\"unknown\",\"-1\"],[\"Having cleaned up Tombstone, Arizona,...\",\"western\",\"-1\"],[\"An orphan girl, named Bindu...\",\"unknown\",\"-1\"],[\"The story is about a...\",\"romantic comedy\",\"-1\"],[\"Kisan Kanya was based on...\",\"social\",\"-1\"],[\"A psychic woman leads archaeologists...\",\"horror\",\"-1\"],[\"Stand-up-comedian Nikita Kolesnikov (Danila Kozlovsky)...\",\"unknown\",\"-1\"],[\"Two reporters, Curtis (Conrad Phillips)...\",\"crime\",\"-1\"],[\"Two best friends who live...\",\"comedy\",\"-1\"],[\"Claire of the Moon is...\",\"unknown\",\"-1\"],[\"Curry and Pepper are two...\",\"comedy\",\"-1\"],[\"Joseph is a mentally retarded...\",\"unknown\",\"-1\"],[\"Loosely based on true events...\",\"romance\",\"-1\"],[\"Bok-nyeo, a mentally handicapped woman,...\",\"drama\",\"-1\"],[\"Dr. Markoff (J. Carrol Naish)...\",\"science fiction\",\"-1\"],[\"The plot revolves around the...\",\"coming of age drama\",\"-1\"],[\"The movie opens with Fung...\",\"erotic \\u002f drama\",\"-1\"],[\"The film is an account...\",\"drama\",\"-1\"],[\"On the run from the...\",\"unknown\",\"-1\"],[\"A man visits a happy...\",\"unknown\",\"-1\"],[\"In 1983 KBS launched a...\",\"unknown\",\"-1\"],[\"Harvey Keitel plays an American...\",\"crime drama\",\"-1\"],[\"Set in the austere post\\u2013World...\",\"comedy\",\"-1\"],[\"Rahul (Ramankanth) sees a concert...\",\"unknown\",\"-1\"],[\"A crime reporter, assisted by...\",\"drama\",\"-1\"],[\"Ir\\u00e8ne Bordoni is cast as...\",\"musical comedy\",\"-1\"],[\"This film is about two...\",\"romance, comedy\",\"-1\"],[\"Cosmo Reif, an affectless mob...\",\"comedy, thriller\",\"-1\"],[\"Edgar Mills and his mistress...\",\"crime\",\"-1\"],[\"Molly Gilbert won't accept a...\",\"comedy\",\"-1\"],[\"The film is set in...\",\"film noir\",\"-1\"],[\"Marianne (Greta Garbo) is a...\",\"drama\",\"-1\"],[\"Shane O'Shea is a young...\",\"drama\",\"-1\"],[\"Bumbling cop Chatur Singh (Sanjay...\",\"comedy\",\"-1\"],[\"Rolex (Prakash Raj) is a...\",\"unknown\",\"-1\"],[\"Dhag is the story of...\",\"drama\",\"-1\"],[\"A Mighty Heart is a...\",\"drama\",\"-1\"],[\"The film is a retelling...\",\"fantasy\",\"-1\"],[\"Two escaping killers hide out...\",\"suspense\",\"-1\"],[\"Christopher, a lustful man goes...\",\"horror\",\"-1\"],[\"Inventor and engineer Robert Draper...\",\"crime\",\"-1\"],[\"A young sculptor searches for...\",\"unknown\",\"-1\"],[\"Hardy plays Dr. Henry Tibbett,...\",\"comedy\",\"-1\"],[\"After discovering that her state...\",\"comedy\",\"-1\"],[\"The film is an examination...\",\"drama\",\"-1\"],[\"The Kitauji high school concert...\",\"drama, youth, musical, romance, idol\",\"-1\"],[\"In every port, sailor Bill,...\",\"comedy\",\"-1\"],[\"Lost & Found is basically...\",\"romance, drama\",\"-1\"],[\"Joan (Purviance) and Magdalen (Sothern)...\",\"unknown\",\"-1\"],[\"Hong Deok-Ja continues to run...\",\"comedy\",\"-1\"],[\"This film follows the lead...\",\"action, sci-fi\",\"-1\"],[\"Indie musician Dong-hoon and cartoonist...\",\"unknown\",\"-1\"],[\"The story tells about Ching...\",\"unknown\",\"-1\"],[\"A former agent from the...\",\"unknown\",\"-1\"],[\"Unlike other Alamo films that...\",\"western, war\",\"-1\"],[\"The story involves a middle-aged...\",\"western\",\"-1\"],[\"Gloria Cole and Eddie Swenson...\",\"drama\",\"-1\"],[\"A San Francisco earthquake orphan...\",\"comedy drama\",\"-1\"],[\"The film is about an...\",\"drama\",\"-1\"],[\"An earthquake releases a bunch...\",\"unknown\",\"-1\"],[\"The story line centres on...\",\"musical\",\"-1\"],[\"Stephen Ghent, a mineowner, falls...\",\"western\",\"-1\"],[\"Nine people from around the...\",\"unknown\",\"-1\"],[\"Sets in the 19th century,...\",\"romantic drama\",\"-1\"],[\"The film tells the story...\",\"comedy\",\"-1\"],[\"Sally Elliott (Rita Hayworth), a...\",\"musical biopic\",\"-1\"],[\"After Joe Huggett loses his...\",\"comedy\",\"-1\"],[\"Chaiti is a young beautiful...\",\"drama\",\"-1\"],[\"The Hartford Transcontinental Railroad is...\",\"western serial\",\"-1\"],[\"Eric Wainwright (Van Johnson), a...\",\"comedy\",\"-1\"],[\"Kevin Agar is a Carlton-based...\",\"comedy\",\"-1\"],[\"The film takes place in...\",\"unknown\",\"-1\"],[\"Restaurant owner Dylan Ramsey (David...\",\"comedy\",\"-1\"],[\"After being told by his...\",\"western\",\"-1\"],[\"Arjun lives in a village....\",\"unknown\",\"-1\"],[\"The story of the film...\",\"unknown\",\"-1\"],[\"Jerry McGuire (William Collier Jr.)...\",\"comedy\",\"-1\"],[\"Chu Liuxiang is having drinks...\",\"unknown\",\"-1\"],[\"When Los Angeles' police force...\",\"thriller\",\"-1\"],[\"Fontaine Khaled is the London...\",\"drama\",\"-1\"],[\"Professional hunter Harry Black is...\",\"adventure\",\"-1\"],[\"Hiraasat is an action film,...\",\"action, crime, drama\",\"-1\"],[\"Tulsi tells the story of...\",\" \",\"-1\"],[\"California gubernatorial candidate Burton (Lyon)...\",\"drama\",\"-1\"],[\"A 12-year old young boy...\",\"drama\",\"-1\"],[\"Soo-nam is a poor woman...\",\"unknown\",\"-1\"],[\"Rie and Nao own a...\",\"drama\",\"-1\"],[\"A simple handyman, who also...\",\"comedy\",\"-1\"],[\"Karthi (Mahesh) is a college...\",\"romantic thriller\",\"-1\"],[\"The story of the film...\",\"mystery\",\"-1\"],[\"The film stars Harry Connick...\",\"drama\",\"-1\"],[\"In 1964, inmate Charlie Forsythe...\",\"drama\",\"-1\"],[\"Vivek is a wanted criminal...\",\"unknown\",\"-1\"],[\"The film tells the story...\",\"comedy\",\"-1\"],[\"Three teenage boys in small-town...\",\"drama\",\"-1\"],[\"In a Mexican nightclub, some...\",\"comedy\",\"-1\"],[\"Officers throw an extravagant party...\",\"comedy\",\"-1\"],[\"The story revolves around an...\",\"drama, thriller\",\"-1\"],[\"A bullied teen chef wants...\",\"comedy-drama\",\"-1\"],[\"Flagg (Victor McLaglen) and Quirt...\",\"musical comedy\",\"-1\"],[\"Nick (Niven) is the supposed...\",\"comedy\",\"-1\"],[\"A rivalry develops between veteran...\",\"war\",\"-1\"],[\"In the autumn of 1950,...\",\"drama \\u002f history \\u002f western\",\"-1\"],[\"Raised on a sharecropping plantation...\",\"biography\",\"-1\"],[\"This film is about the...\",\"unknown\",\"-1\"],[\"Taglines: \\\"Being a girl is...\",\"drama\",\"-1\"],[\"Newland Archer is engaged to...\",\"drama\",\"-1\"],[\"In a small town, mentally...\",\"dramedy\",\"-1\"],[\"Chandrabose (Mohanlal) whose wife's (Meera...\",\"comedy\",\"-1\"],[\"The story is a family...\",\"unknown\",\"-1\"],[\"Frankie Bono, a hitman from...\",\"thriller\",\"-1\"],[\"The Philippines, 1972. Mysterious things...\",\"drama\",\"-1\"],[\"Set in Alexandria in 1938,...\",\"drama\",\"-1\"],[\"Two days before Christmas, a...\",\"thriller\",\"-1\"],[\"The film is set in...\",\"drama\",\"-1\"],[\"Michael Walsh, a husband and...\",\"drama\",\"-1\"],[\"The film revolves around an...\",\"drama\",\"-1\"],[\"On board an ocean liner...\",\"comedy\",\"-1\"],[\"Alim is a young gay...\",\"romantic comedy\",\"-1\"],[\"Twice widowed, Pilnyeo vows never...\",\"unknown\",\"-1\"],[\"Convict Van Duff is the...\",\"film noir\",\"-1\"],[\"A U.S. marshal investigates when...\",\"western\",\"-1\"],[\"A new teacher organizes a...\",\"unknown\",\"-1\"],[\"The story of a 10th...\",\"rom com\",\"-1\"],[\"The plot of the film...\",\"nature\",\"-1\"],[\"In the 1930s, Teresa (Buday)...\",\"unknown\",\"-1\"],[\"The boys are involved in...\",\"comedy\",\"-1\"],[\"John Murdock (Paul Richards) is...\",\"western\",\"-1\"],[\"In the year 1999, the...\",\"unknown\",\"-1\"],[\"The film is a historical...\",\"historical\",\"-1\"],[\"The film is based on...\",\"unknown\",\"-1\"],[\"Jin-hong is a prosecutor who...\",\"unknown\",\"-1\"],[\"Brinda (Sindhu Tolani) is an...\",\"drama\",\"-1\"],[\"An old gangster, with a...\",\"thriller\",\"-1\"],[\"Kumar, a graduate who decides...\",\"unknown\",\"-1\"],[\"The Rogers family visit Blackpool...\",\"comedy\",\"-1\"],[\"The story revolves around a...\",\"unknown\",\"-1\"],[\"The film is about an...\",\"short black comedy\",\"-1\"],[\"A mysterious killer, known only...\",\"drama\",\"-1\"],[\"A genius sculptor Joon-goo (Park...\",\"unknown\",\"-1\"],[\"The young filmmaker Timothy (Jonathan...\",\"comedy\",\"-1\"],[\"Julia Hemingway (Ina Skriver, credited...\",\"thriller\",\"-1\"],[\"Russian general Marenkov (Robert Shaw)...\",\"unknown\",\"-1\"],[\"Small-fry marijuana harvesters in Northern...\",\"comedy\",\"-1\"],[\"Omar Sharif plays Muhassab, headman...\",\"drama\",\"-1\"],[\"A young Lakota Sioux (Lou...\",\"drama\",\"-1\"],[\"The Chain tells the story...\",\"comedy\",\"-1\"],[\"The film is set in...\",\"biblical\",\"-1\"],[\"Hans a young German journalist...\",\"sex comedy\",\"-1\"],[\"Hikaru Oshiro, noticing that there...\",\"drama\",\"-1\"],[\"The drama tells of a...\",\"crime drama\",\"-1\"],[\"The title character is Victor...\",\"comedy\",\"-1\"],[\"During a TV segment about...\",\"horror\",\"-1\"],[\"Leslie is a troubled 1960s...\",\"drama\",\"-1\"],[\"Hajj, a rascally beggar on...\",\"costume drama\",\"-1\"],[\"Big-league baseball players Jerry and...\",\"musical\",\"-1\"],[\"Rakta Bandhan is a family...\",\"unknown\",\"-1\"],[\"Louisa Gould (Jenny Seagrove) hides...\",\"unknown\",\"-1\"],[\"In Renaissance Florence, a Florentine...\",\"drama\",\"-1\"],[\"Harry England (Michael Crawford), a...\",\"comedy\",\"-1\"],[\"This film is about the...\",\"thriller\",\"-1\"],[\"Marappan (Anandaraj) is the rebel...\",\"unknown\",\"-1\"],[\"When a town drunk, Gabe,...\",\"western\",\"-1\"],[\"After her mother was killed...\",\"action \\u002f comedy\",\"-1\"],[\"\\\"Illustrated Press\\\" society editor Lorelei...\",\"drama\",\"-1\"],[\"The spouses Alec and Zoey,...\",\"unknown\",\"-1\"],[\"When infamous jewel thief Flambeau...\",\"mystery\",\"-1\"],[\"Spanning nearly 20 years from...\",\"drama\",\"-1\"],[\"Raised by his Uncle Wu...\",\"fantasy \\u002f adventure\",\"-1\"],[\"During World War II singer...\",\"musical\",\"-1\"],[\"Newly transferred college student Lily...\",\"dramedy\",\"-1\"],[\"After the execution of Kattabomman...\",\"unknown\",\"-1\"],[\"A girl is about to...\",\"adventure, serial\",\"-1\"],[\"A young construction worker rams...\",\"drama\",\"-1\"],[\"Teenager Jackie Knowles (Richard Attenborough)...\",\"drama\",\"-1\"],[\"Alli (Manorama) a veritable jungle...\",\"unknown\",\"-1\"],[\"A new gas formula that...\",\"crime\",\"-1\"],[\"In Shanghai, Madeleine Linden is...\",\"comedy\",\"-1\"],[\"The film takes place in...\",\"unknown\",\"-1\"],[\"Raja is a 10-year-old tourist...\",\"unknown\",\"-1\"],[\"Crash Landing follows the tense...\",\"action\\u002fthriller\",\"-1\"],[\"A young woman goes to...\",\"thriller\",\"-1\"],[\"In a desperate attempt to...\",\"drama\",\"-1\"],[\"Rajini's parents are killed by...\",\"unknown\",\"-1\"],[\"Andy (Lee Bowman) and Janie...\",\"comedy\",\"-1\"],[\"A small Midwestern town is...\",\"comedy\",\"-1\"],[\"Leonard Maltin: \\\"Cute comic mystery......\",\"comedy\",\"-1\"],[\"Anand is a major in...\",\"action\",\"-1\"],[\"Pudhayal was about imaginary gold...\",\"unknown\",\"-1\"],[\"American gambler Nick Cain (Raft)...\",\"crime\",\"-1\"],[\"The first act of the...\",\"drama\",\"-1\"],[\"In Wilmington, Delaware, Anna Thompson...\",\"drama\",\"-1\"],[\"While in a restaurant, Carla...\",\"drama\",\"-1\"],[\"Seven young freedom fighters, heavily...\",\"unknown\",\"-1\"],[\"In the middle of a...\",\"drama\",\"-1\"],[\"Midget George Wilson pulls strings...\",\"drama\",\"-1\"],[\"The film plays out with...\",\"comedy\",\"-1\"],[\"The story revolves around a...\",\"unknown\",\"-1\"],[\"Loosely based on the historical...\",\"fantasy\",\"-1\"],[\"Daniels, in her final silent...\",\"romantic comedy\",\"-1\"],[\"Sachin Joshi is a Kabaddi...\",\"action\",\"-1\"],[\"Jung-woo is a film director...\",\"unknown\",\"-1\"],[\"Two sailors are conned into...\",\"comedy\",\"-1\"],[\"The story revolves around a...\",\"unknown\",\"-1\"],[\"Handsome and fairly good-looking Anil...\",\"unknown\",\"-1\"],[\"A lonely old man who...\",\"literary drama\",\"-1\"],[\"Big Fella is set on...\",\"musical\\u002fdrama\",\"-1\"],[\"In the remote and undeveloped...\",\"drama\",\"-1\"],[\"The film is about Jamie,...\",\"drama\",\"-1\"],[\"In the year 1999, the...\",\"tokusatsu\",\"-1\"],[\"The movie is about Ilangovan...\",\"comedy\",\"-1\"],[\"Bonnie and Connie Jones are...\",\"musical\",\"-1\"],[\"The story revolves around a...\",\"comedy drama\",\"-1\"],[\"Alvin Roberts (Lee Tracy) feuds...\",\"comedy\",\"-1\"],[\"Jean Paurel is a famous...\",\"drama\",\"-1\"],[\"Stephanie (Lyn Wilde) and Terry...\",\"comedy\",\"-1\"],[\"The story of the film,...\",\"crime\\u002fthriller\",\"-1\"],[\"While on a trip to...\",\"unknown\",\"-1\"],[\"Kiira seems like an ordinary...\",\"vampire film\",\"-1\"],[\"With the human exploitation of...\",\"comedy \\u002f animation \\u002f family \\u002f adventure\",\"-1\"],[\"New York City law professor...\",\"drama, crime\",\"-1\"],[\"Con man Rick Maxon (Payne)...\",\"film noir\",\"-1\"],[\"Two brothers become involved with...\",\"crime\",\"-1\"],[\"Napoleon Bonaparte (Charles Boyer) launches...\",\"drama\",\"-1\"],[\"The young brother of two...\",\"comedy\",\"-1\"],[\"The story centres on the...\",\"unknown\",\"-1\"],[\"Jennie Hagan (Swanson) is a...\",\"comedy\",\"-1\"],[\"Political journalist Jayadev (Meka Srikanth)...\",\"action\",\"-1\"],[\"Banerjee stars as Ram Das,...\",\"comedy\",\"-1\"],[\"Two persons namely Ajay and...\",\"unknown\",\"-1\"],[\"Story of a corpse being...\",\"unknown\",\"-1\"],[\"It is of the Jack...\",\"mystery\",\"-1\"],[\"The film revolves around the...\",\"unknown\",\"-1\"],[\"Anand (Shivrajkumar) was nicknamed \\\"Kaddipudi\\\"...\",\"unknown\",\"-1\"],[\"Vijay (MGR), a carefree and...\",\"unknown\",\"-1\"],[\"A spirit (\\\"Patrick\\\") haunts a...\",\"thriller\",\"-1\"],[\"The story follows a group...\",\"thriller\",\"-1\"],[\"A man loses his memory...\",\"unknown\",\"-1\"],[\"After being court-martialed and discharged...\",\"adventure\",\"-1\"],[\"In a quiet English town,...\",\"thriller\",\"-1\"],[\"Gracie (Fields) and Laurie (Dolman)...\",\"comedy\",\"-1\"],[\"The plot is a mystery...\",\"western\",\"-1\"],[\"The film tells the story...\",\"unknown\",\"-1\"]],\"hovertemplate\":\"cluster=%{customdata[2]}\\u003cbr\\u003ex-tsne=%{x}\\u003cbr\\u003ey-tsne=%{y}\\u003cbr\\u003etext=%{customdata[0]}\\u003cbr\\u003elabel=%{customdata[1]}\\u003cextra\\u003e\\u003c\\u002fextra\\u003e\",\"legendgroup\":\"-1\",\"marker\":{\"color\":\"#EF553B\",\"symbol\":\"circle\"},\"mode\":\"markers\",\"name\":\"-1\",\"orientation\":\"v\",\"showlegend\":true,\"x\":[8.257712364196777,5.009643077850342,-5.310770034790039,-4.3820719718933105,5.563476085662842,-3.009791851043701,-6.534955024719238,7.480871200561523,-4.808884620666504,4.63248348236084,-0.5815075039863586,8.764108657836914,-1.108508586883545,-2.377011299133301,-6.030075550079346,-2.6328229904174805,-0.5107619166374207,2.212857723236084,2.344933032989502,4.9285969734191895,-5.609200954437256,1.0203129053115845,-5.724947929382324,0.5263412594795227,0.7313678860664368,-0.13455374538898468,-8.131237983703613,4.3623247146606445,6.517717361450195,4.183669567108154,-0.4901624321937561,5.266811370849609,-7.240383625030518,3.9510905742645264,-4.318216800689697,2.2478718757629395,-0.6647645235061646,-1.5441595315933228,0.7937327027320862,-1.5381410121917725,-1.7155519723892212,-2.8373262882232666,5.693586349487305,-4.308572292327881,3.9729316234588623,3.4686343669891357,-6.652729511260986,2.1202595233917236,6.010714530944824,8.062647819519043,-5.999197959899902,7.216396808624268,0.753746509552002,-4.161777496337891,-0.36489319801330566,2.7268829345703125,-4.032603740692139,-3.385718822479248,3.627999782562256,4.011882305145264,6.944085597991943,1.109326720237732,-1.996414303779602,0.576550304889679,-2.908397674560547,-6.880002498626709,4.131044387817383,-1.6380175352096558,3.4602763652801514,6.019171237945557,8.250386238098145,-3.856788396835327,6.908613204956055,-5.121321201324463,1.8724710941314697,-2.299171209335327,0.5252751708030701,-7.116682529449463,1.398295521736145,-7.972168445587158,-0.09522642195224762,-0.26316842436790466,-4.799973487854004,7.304213047027588,2.274115800857544,6.309376239776611,-4.631590366363525,2.636784791946411,-6.474541187286377,-7.498119831085205,-4.1779913902282715,6.580935478210449,5.637685298919678,-0.8360868692398071,-4.056277751922607,1.658476710319519,3.3909027576446533,-2.047715425491333,-1.2179045677185059,7.092297077178955,-2.6033248901367188,-7.089982986450195,-1.7215760946273804,-0.3692602813243866,-3.047006368637085,-2.4846837520599365,6.2599592208862305,5.278049468994141,-7.263313293457031,-0.9977264404296875,2.6492726802825928,1.6413418054580688,7.176852226257324,1.3178452253341675,5.189380168914795,-1.8398288488388062,-7.550259590148926,2.271622657775879,0.8336233496665955,0.02694610506296158,-3.2100133895874023,-5.016185283660889,2.110506772994995,-0.3954392075538635,5.8010125160217285,-1.6881612539291382,-8.372621536254883,-0.08607849478721619,2.881816864013672,6.795472621917725,6.761735439300537,-2.5495455265045166,-8.358904838562012,5.635853290557861,7.066988945007324,0.5162885785102844,0.7630875110626221,-6.051718235015869,0.13424049317836761,5.85957145690918,-2.5887343883514404,5.198039531707764,4.401791095733643,3.4527747631073,4.158466339111328,1.0386090278625488,-4.774691581726074,8.214576721191406,8.103959083557129,3.121574878692627,2.5443034172058105,-3.731757640838623,-2.578657627105713,2.525764226913452,6.034557342529297,7.951767444610596,2.26584792137146,2.5789201259613037,1.2652095556259155,0.582486093044281,0.06295380741357803,2.717561721801758,2.1302907466888428,1.9800440073013306,5.017542362213135,-3.5650241374969482,-5.571293354034424,0.5328848958015442,1.2212872505187988,-1.3891853094100952,-1.2477201223373413,4.54014253616333,-3.475602388381958,4.633820533752441,8.235139846801758,-1.8181312084197998,2.9999802112579346,6.357637882232666,-7.604465961456299,-3.3380520343780518,0.7179202437400818,6.307583332061768,-8.427844047546387,-3.756786823272705,-4.535430908203125,6.795472621917725,3.534189224243164,-8.804676055908203,-5.906118869781494,-6.188089847564697,0.02437903732061386,-5.940461158752441,2.902160406112671,-0.9577596783638,1.4163843393325806,6.957373142242432,-0.5050589442253113,2.5728631019592285,1.9901448488235474,-7.535029888153076,-1.9579646587371826,2.904554843902588,-4.046515464782715,4.160139083862305,5.23579740524292,0.8708961606025696,2.062938690185547,-0.4831925928592682,5.140263080596924,-6.067693710327148,-2.68082857131958,-5.654359817504883,3.5070552825927734,4.518720626831055,-5.092229843139648,-8.932685852050781,1.3087722063064575,-2.9688258171081543,4.984988689422607,0.3870299458503723,-3.179774045944214,5.962201118469238,5.886687278747559,-3.6718595027923584,-5.361746788024902,7.2177324295043945,5.968054294586182,4.5773186683654785,6.483254909515381,4.571137428283691,0.34915122389793396,-3.486755132675171,4.060271263122559,2.0701756477355957,2.525773286819458,5.5984110832214355,8.496511459350586,3.4903318881988525,-6.6172404289245605,6.941178798675537,-6.353785037994385,4.650968074798584,5.856649875640869,5.024177551269531,2.8036394119262695,-7.296416282653809,-6.364380836486816,6.1880998611450195,-5.4684834480285645,1.478901982307434,1.0159252882003784,-9.23559856414795,3.337747097015381,-1.6679874658584595,2.2625088691711426,-0.05957215651869774,0.336414098739624,6.307523250579834,3.2933666706085205,3.5207579135894775,-2.9553186893463135,-1.388525128364563,1.3417094945907593,3.7607474327087402,-6.864456653594971,-4.244112968444824,-4.770882606506348,5.364963531494141],\"xaxis\":\"x\",\"y\":[5.897769451141357,6.279392242431641,2.7848243713378906,-3.1414730548858643,-0.3042672276496887,-5.076702117919922,-1.995063066482544,-1.6696670055389404,-2.165315628051758,7.311955451965332,2.9797775745391846,2.500919818878174,-3.1272873878479004,-3.5085792541503906,-0.15785866975784302,5.096811294555664,-5.176310062408447,2.338374137878418,-4.402400016784668,-3.293179988861084,-4.5166778564453125,-4.7421464920043945,-1.6863377094268799,-2.238011360168457,-7.326667308807373,-6.119076728820801,-3.9146034717559814,-2.762155055999756,7.34661340713501,5.810468673706055,-4.191984176635742,1.7377581596374512,-0.5879475474357605,-1.094262719154358,-4.126106262207031,-1.2632783651351929,1.0990363359451294,-5.1957268714904785,4.39396858215332,-4.498261451721191,2.046030044555664,0.25183677673339844,-3.5933525562286377,-5.262889862060547,1.0135952234268188,-5.781984806060791,-5.255837917327881,-4.8835601806640625,2.2290923595428467,-5.400466442108154,-1.0617111921310425,8.729574203491211,-0.8986898064613342,2.7681198120117188,-1.668378472328186,-0.2613137662410736,-0.24471522867679596,-0.25282803177833557,7.681535720825195,7.929433345794678,4.038055896759033,-7.25741720199585,-6.3573832511901855,0.04495728388428688,3.601468086242676,2.2711024284362793,0.9934132695198059,-4.160771369934082,-4.448980808258057,-3.7111971378326416,-2.488614082336426,-2.8476622104644775,4.401787757873535,-0.46551641821861267,-1.5146363973617554,-5.728867530822754,1.864846110343933,-3.2411317825317383,-8.10416316986084,-1.6670676469802856,4.099396228790283,-2.283071517944336,1.0895768404006958,-4.265171051025391,-6.698601245880127,-2.1962859630584717,0.6571035385131836,-6.391044616699219,-2.942376136779785,3.466794729232788,-1.1218507289886475,-0.13841205835342407,5.24843692779541,-1.2850313186645508,-0.8391071557998657,-0.679317057132721,-5.16005277633667,-0.545107364654541,-1.2454655170440674,3.7921791076660156,-2.3876547813415527,-1.3785794973373413,3.5979201793670654,-0.2745901346206665,0.0819234848022461,-1.3668662309646606,9.67400074005127,8.31495189666748,4.8913798332214355,3.084613561630249,1.0366413593292236,-2.4430394172668457,-3.2163562774658203,7.470613479614258,-0.48277828097343445,0.06721056997776031,1.306341290473938,6.469920635223389,-4.523916721343994,0.6459649801254272,-3.908252716064453,-2.6957943439483643,2.6377317905426025,-1.6139752864837646,-5.398220539093018,1.2150511741638184,-1.7233227491378784,-8.527997016906738,-3.8801753520965576,8.242629051208496,-1.5223149061203003,1.7899802923202515,-0.11450225114822388,6.502813339233398,6.6283392906188965,-0.9360425472259521,-6.039283752441406,3.782824993133545,6.226827621459961,7.004338264465332,2.6392831802368164,-2.198995351791382,-1.7753268480300903,0.6940600872039795,2.4113969802856445,-1.4756382703781128,4.188653469085693,-2.464048385620117,-0.8829301595687866,-2.041135787963867,0.004522581584751606,-6.475979328155518,-3.1355061531066895,-6.2516865730285645,10.211298942565918,7.586477279663086,2.690143585205078,6.671111106872559,0.5124559998512268,-8.363195419311523,3.839557409286499,1.39601731300354,1.5386918783187866,2.5738208293914795,4.403381824493408,-2.2058465480804443,-2.66896915435791,-4.872995853424072,0.0828452929854393,-2.2170443534851074,4.379395008087158,-5.8816704750061035,5.8280181884765625,-2.209954261779785,-2.5475873947143555,-4.881434440612793,-4.699118137359619,-6.263070583343506,1.9130700826644897,6.362053871154785,-2.549861431121826,9.296320915222168,-1.6498136520385742,1.6080787181854248,0.06583602726459503,8.242629051208496,6.69891357421875,-3.1755363941192627,-3.642989158630371,2.5168540477752686,2.214768648147583,1.829118013381958,-4.963351249694824,-6.010948657989502,-5.3953537940979,-2.3724710941314697,-8.23000431060791,-2.7530038356781006,0.9218818545341492,0.32244873046875,5.347583770751953,-6.927126407623291,0.9196521043777466,-7.252123832702637,3.3106119632720947,-3.3738532066345215,3.94212007522583,0.020689906552433968,7.460819721221924,0.5876275897026062,-7.61564302444458,5.519911766052246,7.956566333770752,9.045326232910156,2.2171103954315186,-0.23523744940757751,-1.5577282905578613,-1.8378454446792603,-1.3472687005996704,2.6215221881866455,-0.8278440833091736,-6.080998420715332,8.252237319946289,5.51345682144165,-6.9355950355529785,6.329514503479004,-5.405862331390381,-0.589995801448822,6.423501491546631,8.315591812133789,3.9698028564453125,-1.3871207237243652,-2.075939416885376,-3.562533140182495,-6.251756191253662,6.4752421379089355,0.6580538153648376,3.3401811122894287,-4.323143482208252,1.2042624950408936,0.7165395021438599,-4.700913906097412,8.716737747192383,0.8382809162139893,-8.370819091796875,-2.2765135765075684,-0.7697525024414062,-4.7785325050354,0.5009006857872009,1.7551051378250122,6.3323750495910645,1.1306785345077515,7.154446601867676,7.454951763153076,4.076807022094727,1.0179613828659058,5.837674617767334,5.644552707672119,2.429370403289795,-0.006740618962794542,0.921127438545227,0.5491731762886047,3.3687052726745605,-3.0249063968658447,-0.8108391165733337,-1.0884684324264526,3.9136486053466797,1.5916242599487305],\"yaxis\":\"y\",\"type\":\"scatter\"},{\"customdata\":[[\"Balu (Vijayakumar) and Padma (Manjula...\",\"unknown\",\"1\"],[\"Akashangalil is the story of...\",\"family\",\"1\"],[\"Vijay (R. Sarathkumar) and Seetha...\",\"unknown\",\"1\"],[\"Gopal (M.G.R.) is an honest...\",\"unknown\",\"1\"],[\"Kumar is a young and...\",\"unknown\",\"1\"]],\"hovertemplate\":\"cluster=%{customdata[2]}\\u003cbr\\u003ex-tsne=%{x}\\u003cbr\\u003ey-tsne=%{y}\\u003cbr\\u003etext=%{customdata[0]}\\u003cbr\\u003elabel=%{customdata[1]}\\u003cextra\\u003e\\u003c\\u002fextra\\u003e\",\"legendgroup\":\"1\",\"marker\":{\"color\":\"#00cc96\",\"symbol\":\"circle\"},\"mode\":\"markers\",\"name\":\"1\",\"orientation\":\"v\",\"showlegend\":true,\"x\":[5.726032257080078,6.170067310333252,5.679248332977295,5.335801601409912,5.635136127471924],\"xaxis\":\"x\",\"y\":[8.253113746643066,7.009763240814209,8.34810733795166,7.469124794006348,7.558320999145508],\"yaxis\":\"y\",\"type\":\"scatter\"}],                        {\"template\":{\"data\":{\"histogram2dcontour\":[{\"type\":\"histogram2dcontour\",\"colorbar\":{\"outlinewidth\":0,\"ticks\":\"\"},\"colorscale\":[[0.0,\"#0d0887\"],[0.1111111111111111,\"#46039f\"],[0.2222222222222222,\"#7201a8\"],[0.3333333333333333,\"#9c179e\"],[0.4444444444444444,\"#bd3786\"],[0.5555555555555556,\"#d8576b\"],[0.6666666666666666,\"#ed7953\"],[0.7777777777777778,\"#fb9f3a\"],[0.8888888888888888,\"#fdca26\"],[1.0,\"#f0f921\"]]}],\"choropleth\":[{\"type\":\"choropleth\",\"colorbar\":{\"outlinewidth\":0,\"ticks\":\"\"}}],\"histogram2d\":[{\"type\":\"histogram2d\",\"colorbar\":{\"outlinewidth\":0,\"ticks\":\"\"},\"colorscale\":[[0.0,\"#0d0887\"],[0.1111111111111111,\"#46039f\"],[0.2222222222222222,\"#7201a8\"],[0.3333333333333333,\"#9c179e\"],[0.4444444444444444,\"#bd3786\"],[0.5555555555555556,\"#d8576b\"],[0.6666666666666666,\"#ed7953\"],[0.7777777777777778,\"#fb9f3a\"],[0.8888888888888888,\"#fdca26\"],[1.0,\"#f0f921\"]]}],\"heatmap\":[{\"type\":\"heatmap\",\"colorbar\":{\"outlinewidth\":0,\"ticks\":\"\"},\"colorscale\":[[0.0,\"#0d0887\"],[0.1111111111111111,\"#46039f\"],[0.2222222222222222,\"#7201a8\"],[0.3333333333333333,\"#9c179e\"],[0.4444444444444444,\"#bd3786\"],[0.5555555555555556,\"#d8576b\"],[0.6666666666666666,\"#ed7953\"],[0.7777777777777778,\"#fb9f3a\"],[0.8888888888888888,\"#fdca26\"],[1.0,\"#f0f921\"]]}],\"heatmapgl\":[{\"type\":\"heatmapgl\",\"colorbar\":{\"outlinewidth\":0,\"ticks\":\"\"},\"colorscale\":[[0.0,\"#0d0887\"],[0.1111111111111111,\"#46039f\"],[0.2222222222222222,\"#7201a8\"],[0.3333333333333333,\"#9c179e\"],[0.4444444444444444,\"#bd3786\"],[0.5555555555555556,\"#d8576b\"],[0.6666666666666666,\"#ed7953\"],[0.7777777777777778,\"#fb9f3a\"],[0.8888888888888888,\"#fdca26\"],[1.0,\"#f0f921\"]]}],\"contourcarpet\":[{\"type\":\"contourcarpet\",\"colorbar\":{\"outlinewidth\":0,\"ticks\":\"\"}}],\"contour\":[{\"type\":\"contour\",\"colorbar\":{\"outlinewidth\":0,\"ticks\":\"\"},\"colorscale\":[[0.0,\"#0d0887\"],[0.1111111111111111,\"#46039f\"],[0.2222222222222222,\"#7201a8\"],[0.3333333333333333,\"#9c179e\"],[0.4444444444444444,\"#bd3786\"],[0.5555555555555556,\"#d8576b\"],[0.6666666666666666,\"#ed7953\"],[0.7777777777777778,\"#fb9f3a\"],[0.8888888888888888,\"#fdca26\"],[1.0,\"#f0f921\"]]}],\"surface\":[{\"type\":\"surface\",\"colorbar\":{\"outlinewidth\":0,\"ticks\":\"\"},\"colorscale\":[[0.0,\"#0d0887\"],[0.1111111111111111,\"#46039f\"],[0.2222222222222222,\"#7201a8\"],[0.3333333333333333,\"#9c179e\"],[0.4444444444444444,\"#bd3786\"],[0.5555555555555556,\"#d8576b\"],[0.6666666666666666,\"#ed7953\"],[0.7777777777777778,\"#fb9f3a\"],[0.8888888888888888,\"#fdca26\"],[1.0,\"#f0f921\"]]}],\"mesh3d\":[{\"type\":\"mesh3d\",\"colorbar\":{\"outlinewidth\":0,\"ticks\":\"\"}}],\"scatter\":[{\"fillpattern\":{\"fillmode\":\"overlay\",\"size\":10,\"solidity\":0.2},\"type\":\"scatter\"}],\"parcoords\":[{\"type\":\"parcoords\",\"line\":{\"colorbar\":{\"outlinewidth\":0,\"ticks\":\"\"}}}],\"scatterpolargl\":[{\"type\":\"scatterpolargl\",\"marker\":{\"colorbar\":{\"outlinewidth\":0,\"ticks\":\"\"}}}],\"bar\":[{\"error_x\":{\"color\":\"#2a3f5f\"},\"error_y\":{\"color\":\"#2a3f5f\"},\"marker\":{\"line\":{\"color\":\"#E5ECF6\",\"width\":0.5},\"pattern\":{\"fillmode\":\"overlay\",\"size\":10,\"solidity\":0.2}},\"type\":\"bar\"}],\"scattergeo\":[{\"type\":\"scattergeo\",\"marker\":{\"colorbar\":{\"outlinewidth\":0,\"ticks\":\"\"}}}],\"scatterpolar\":[{\"type\":\"scatterpolar\",\"marker\":{\"colorbar\":{\"outlinewidth\":0,\"ticks\":\"\"}}}],\"histogram\":[{\"marker\":{\"pattern\":{\"fillmode\":\"overlay\",\"size\":10,\"solidity\":0.2}},\"type\":\"histogram\"}],\"scattergl\":[{\"type\":\"scattergl\",\"marker\":{\"colorbar\":{\"outlinewidth\":0,\"ticks\":\"\"}}}],\"scatter3d\":[{\"type\":\"scatter3d\",\"line\":{\"colorbar\":{\"outlinewidth\":0,\"ticks\":\"\"}},\"marker\":{\"colorbar\":{\"outlinewidth\":0,\"ticks\":\"\"}}}],\"scattermapbox\":[{\"type\":\"scattermapbox\",\"marker\":{\"colorbar\":{\"outlinewidth\":0,\"ticks\":\"\"}}}],\"scatterternary\":[{\"type\":\"scatterternary\",\"marker\":{\"colorbar\":{\"outlinewidth\":0,\"ticks\":\"\"}}}],\"scattercarpet\":[{\"type\":\"scattercarpet\",\"marker\":{\"colorbar\":{\"outlinewidth\":0,\"ticks\":\"\"}}}],\"carpet\":[{\"aaxis\":{\"endlinecolor\":\"#2a3f5f\",\"gridcolor\":\"white\",\"linecolor\":\"white\",\"minorgridcolor\":\"white\",\"startlinecolor\":\"#2a3f5f\"},\"baxis\":{\"endlinecolor\":\"#2a3f5f\",\"gridcolor\":\"white\",\"linecolor\":\"white\",\"minorgridcolor\":\"white\",\"startlinecolor\":\"#2a3f5f\"},\"type\":\"carpet\"}],\"table\":[{\"cells\":{\"fill\":{\"color\":\"#EBF0F8\"},\"line\":{\"color\":\"white\"}},\"header\":{\"fill\":{\"color\":\"#C8D4E3\"},\"line\":{\"color\":\"white\"}},\"type\":\"table\"}],\"barpolar\":[{\"marker\":{\"line\":{\"color\":\"#E5ECF6\",\"width\":0.5},\"pattern\":{\"fillmode\":\"overlay\",\"size\":10,\"solidity\":0.2}},\"type\":\"barpolar\"}],\"pie\":[{\"automargin\":true,\"type\":\"pie\"}]},\"layout\":{\"autotypenumbers\":\"strict\",\"colorway\":[\"#636efa\",\"#EF553B\",\"#00cc96\",\"#ab63fa\",\"#FFA15A\",\"#19d3f3\",\"#FF6692\",\"#B6E880\",\"#FF97FF\",\"#FECB52\"],\"font\":{\"color\":\"#2a3f5f\"},\"hovermode\":\"closest\",\"hoverlabel\":{\"align\":\"left\"},\"paper_bgcolor\":\"white\",\"plot_bgcolor\":\"#E5ECF6\",\"polar\":{\"bgcolor\":\"#E5ECF6\",\"angularaxis\":{\"gridcolor\":\"white\",\"linecolor\":\"white\",\"ticks\":\"\"},\"radialaxis\":{\"gridcolor\":\"white\",\"linecolor\":\"white\",\"ticks\":\"\"}},\"ternary\":{\"bgcolor\":\"#E5ECF6\",\"aaxis\":{\"gridcolor\":\"white\",\"linecolor\":\"white\",\"ticks\":\"\"},\"baxis\":{\"gridcolor\":\"white\",\"linecolor\":\"white\",\"ticks\":\"\"},\"caxis\":{\"gridcolor\":\"white\",\"linecolor\":\"white\",\"ticks\":\"\"}},\"coloraxis\":{\"colorbar\":{\"outlinewidth\":0,\"ticks\":\"\"}},\"colorscale\":{\"sequential\":[[0.0,\"#0d0887\"],[0.1111111111111111,\"#46039f\"],[0.2222222222222222,\"#7201a8\"],[0.3333333333333333,\"#9c179e\"],[0.4444444444444444,\"#bd3786\"],[0.5555555555555556,\"#d8576b\"],[0.6666666666666666,\"#ed7953\"],[0.7777777777777778,\"#fb9f3a\"],[0.8888888888888888,\"#fdca26\"],[1.0,\"#f0f921\"]],\"sequentialminus\":[[0.0,\"#0d0887\"],[0.1111111111111111,\"#46039f\"],[0.2222222222222222,\"#7201a8\"],[0.3333333333333333,\"#9c179e\"],[0.4444444444444444,\"#bd3786\"],[0.5555555555555556,\"#d8576b\"],[0.6666666666666666,\"#ed7953\"],[0.7777777777777778,\"#fb9f3a\"],[0.8888888888888888,\"#fdca26\"],[1.0,\"#f0f921\"]],\"diverging\":[[0,\"#8e0152\"],[0.1,\"#c51b7d\"],[0.2,\"#de77ae\"],[0.3,\"#f1b6da\"],[0.4,\"#fde0ef\"],[0.5,\"#f7f7f7\"],[0.6,\"#e6f5d0\"],[0.7,\"#b8e186\"],[0.8,\"#7fbc41\"],[0.9,\"#4d9221\"],[1,\"#276419\"]]},\"xaxis\":{\"gridcolor\":\"white\",\"linecolor\":\"white\",\"ticks\":\"\",\"title\":{\"standoff\":15},\"zerolinecolor\":\"white\",\"automargin\":true,\"zerolinewidth\":2},\"yaxis\":{\"gridcolor\":\"white\",\"linecolor\":\"white\",\"ticks\":\"\",\"title\":{\"standoff\":15},\"zerolinecolor\":\"white\",\"automargin\":true,\"zerolinewidth\":2},\"scene\":{\"xaxis\":{\"backgroundcolor\":\"#E5ECF6\",\"gridcolor\":\"white\",\"linecolor\":\"white\",\"showbackground\":true,\"ticks\":\"\",\"zerolinecolor\":\"white\",\"gridwidth\":2},\"yaxis\":{\"backgroundcolor\":\"#E5ECF6\",\"gridcolor\":\"white\",\"linecolor\":\"white\",\"showbackground\":true,\"ticks\":\"\",\"zerolinecolor\":\"white\",\"gridwidth\":2},\"zaxis\":{\"backgroundcolor\":\"#E5ECF6\",\"gridcolor\":\"white\",\"linecolor\":\"white\",\"showbackground\":true,\"ticks\":\"\",\"zerolinecolor\":\"white\",\"gridwidth\":2}},\"shapedefaults\":{\"line\":{\"color\":\"#2a3f5f\"}},\"annotationdefaults\":{\"arrowcolor\":\"#2a3f5f\",\"arrowhead\":0,\"arrowwidth\":1},\"geo\":{\"bgcolor\":\"white\",\"landcolor\":\"#E5ECF6\",\"subunitcolor\":\"white\",\"showland\":true,\"showlakes\":true,\"lakecolor\":\"white\"},\"title\":{\"x\":0.05},\"mapbox\":{\"style\":\"light\"}}},\"xaxis\":{\"anchor\":\"y\",\"domain\":[0.0,1.0],\"title\":{\"text\":\"x-tsne\"}},\"yaxis\":{\"anchor\":\"x\",\"domain\":[0.0,1.0],\"title\":{\"text\":\"y-tsne\"}},\"legend\":{\"title\":{\"text\":\"cluster\"},\"tracegroupgap\":0},\"title\":{\"text\":\"Sentences t-SNE Visualization with FastText Embeddings and HDBSCAN Clustering\"},\"height\":1200,\"width\":1200},                        {\"responsive\": true}                    ).then(function(){\n",
       "                            \n",
       "var gd = document.getElementById('b3254f78-7819-4897-89e8-a6b4ada8fcf0');\n",
       "var x = new MutationObserver(function (mutations, observer) {{\n",
       "        var display = window.getComputedStyle(gd).display;\n",
       "        if (!display || display === 'none') {{\n",
       "            console.log([gd, 'removed!']);\n",
       "            Plotly.purge(gd);\n",
       "            observer.disconnect();\n",
       "        }}\n",
       "}});\n",
       "\n",
       "// Listen for the removal of the full notebook cells\n",
       "var notebookContainer = gd.closest('#notebook-container');\n",
       "if (notebookContainer) {{\n",
       "    x.observe(notebookContainer, {childList: true});\n",
       "}}\n",
       "\n",
       "// Listen for the clearing of the current output cell\n",
       "var outputEl = gd.closest('.output');\n",
       "if (outputEl) {{\n",
       "    x.observe(outputEl, {childList: true});\n",
       "}}\n",
       "\n",
       "                        })                };                });            </script>        </div>"
      ]
     },
     "metadata": {},
     "output_type": "display_data"
    }
   ],
   "source": [
    "# Create interactive scatter plot\n",
    "ft_df[\"cluster\"] = ft_df[\"cluster\"].astype(str)\n",
    "fig = px.scatter(\n",
    "    ft_df, x='x-tsne', y='y-tsne', color='cluster',\n",
    "    hover_data={'text': True, 'label': True, \"cluster\": True},\n",
    "    title='Sentences t-SNE Visualization with FastText Embeddings and HDBSCAN Clustering', width=1200, height=1200\n",
    ")\n",
    "\n",
    "# Show plot\n",
    "fig.show()"
   ]
  },
  {
   "cell_type": "code",
   "execution_count": 46,
   "metadata": {},
   "outputs": [],
   "source": [
    "tfidf_df['cluster'] = hdbscan.fit_predict(tfidf_emb_arr)"
   ]
  },
  {
   "cell_type": "code",
   "execution_count": 48,
   "metadata": {},
   "outputs": [
    {
     "data": {
      "application/vnd.plotly.v1+json": {
       "config": {
        "plotlyServerURL": "https://plot.ly"
       },
       "data": [
        {
         "customdata": [
          [
           "film tells story elizabeth colbert john welles married couple recently separated john goes fight world war i. elizabeth receives notice john 's death marries another man george brent john however still alive later returns disfigured war undergone plastic surgery making almost unrecognizable also adopted eight-year old daughter wood finds son elizabeth faced dilemma whether reveal true identity",
           "film noir",
           "0"
          ],
          [
           "jagathalaprathapan prince punished kingdom expressing desire four celestial maidens indrani nagakumari agnikumari varunakumari however escapes punishment roams disguise company friend meets damsel indirakumari disguise marries settles kingdom whose king falls love wife sends prince away nagaloka order covet jagathalaprathapan however succeeds finding nagakumari nagaloka agnikumari agniloka varunakumari varunaloka succeeds winning wives",
           "unknown",
           "0"
          ],
          [
           "lewis clark george opens salvator xuereb playing lewis dan gunther clark water tank site wearing prison jump suits scene desert scrub two state prison escapees located buried metal box loaded revolver treasure map cuban cigars road trip begins two hike desert find treasure eventually joined rose mcgowan george",
           "drama",
           "0"
          ],
          [
           "british tv studio michael rennie performing live dramatic broadcast neighbouring set cabaret singer mikki brent thinks sees coded plot discussed murder rennie friends sceptical warns rennie various adventures investigations ensue",
           "comedy",
           "0"
          ],
          [
           "mongol chief temujin later known genghis khan falls bortai daughter tartar leader steals away precipitating war bortai spurns temujin taken back raid temujin later captured bortai falls love helps escape temujin suspects betrayed fellow mongol sets find traitor overcome tartars",
           "adventure",
           "0"
          ],
          [
           "reverend smith arrived starkfield boston notices ethan frome isolated smith encourages parishioners charitable ethan zeena pierce distant cousins marrying zeena ethan falls love mattie silver",
           "drama",
           "0"
          ],
          [
           "following plot classic opera `` carmen '' story follows wild gypsy 's adventures siren bandit carmen rita hayworth lures innocent soldier glenn ford ruin getting expelled army turns banditry killing carmen 's husband victor jory others drama culminates ending innocent soldier repenting sins dying",
           "drama",
           "0"
          ],
          [
           "film story outback farmer william mcinnes takes afghani woman monic hendrickx escapes brothel film takes many themes human trafficking sex trade",
           "drama",
           "0"
          ],
          [
           "world war ii two american fliers captain hank wilson sergeant lucky finder forced bail germany encounter wilhelm frick hides authorities cellar enjoys company much inform war ends instead maintains masquerade convince `` guests '' germany still fighting eventually seven years americans escape peaceful west germany find truth",
           "pow comedy",
           "0"
          ],
          [
           "film small unit 40 turkish soldiers remote patrol station eastern turkey state near certain death violent times conflict turkish army kurdistan workers party pkk",
           "drama",
           "0"
          ],
          [
           "balu vijayakumar padma manjula vijayakumar happily married couple teenage daughter manju zeenat one day manju receives love letter unknown person balu hates love wants punish letter sender parents take help neighbour shiva sivakumar find anonymous lover shiva married sukanya jeeva little boy master vijay transpires later forms crux story",
           "unknown",
           "0"
          ],
          [
           "film account college girl 's frustrations predominantly male patriarchal system egypt released 1959 film captures much feminist sentiments 1960s widespread fervor egypt film 's protagonist aminia played lubna abdel aziz young woman living aunt 's family includes uncle cousin men life reinforce themes male dominance film restriction life",
           "drama",
           "0"
          ],
          [
           "nikki singh akshay oberoi boxer wayward son real estate tycoon kehri singh pankaj tripathi often sidelined favour sister preet ragini khanna kehri considers lucky charm kehri shrewdly runs preet real estate business successfully daughter 's name resentment sister causes nikki accumulate large debt subsequently desperate attempt clear sets chain events causes long buried family secrets get exposed brings danger preet 's life",
           "neo-noir",
           "0"
          ],
          [
           "1983 kbs launched campaign reunite families torn apart korean war three decades earlier expert dissection social familial rifts modern korea director im kwon-taek integrates footage campaign story hwa-yeong leaves middle-class life busan search son lost gilsotteum war 3",
           "unknown",
           "0"
          ],
          [
           "harvey keitel plays american cop travels london apprehend gangster viggo mortensen formed new gang sociopathic teenagers trying imitate american culture",
           "crime drama",
           "0"
          ],
          [
           "set austere post–world war ii british world rationing cyril dreams ode imaginary character named merlin mound provide anything one wish merlin becomes real grants host 's wishes conjuring items thin air depriving people 's ownership leads trouble",
           "comedy",
           "0"
          ],
          [
           "film two friends – neelima malavika wales aisha saranya mohan engineering students college karthik rejith menon student college comes poor family kunjumon roshan basheer also studies college influence lives neelima aisha main plot film",
           "romance, comedy",
           "0"
          ],
          [
           "italian aristocrat angela chiaromonte helen hayes spurns potential husband chosen father lewis stone favor giovanni severi clark gable handsome army lieutenant lover reported killed world war hayes renounces world become nun takes vows lieutenant shows much alive implores give order refuses lieutenant later injured bombing raid dies angela lovingly side",
           "drama",
           "0"
          ],
          [
           "rolex prakash raj smart international smuggler run fearless assistant commissioner jai kumar ramki arrests kim jai kumar raji sanghavi love get married rolex wants take revenge jai kumar way later escapes jail fakes death transpires later forms crux story",
           "unknown",
           "0"
          ],
          [
           "inventor engineer robert draper unjustly found guilty murder partner 's sent prison prison truck crashes midst civil defense blackout propelling search real killers framed czech-american screenwriter franz schulz billed francis spencer film",
           "crime",
           "0"
          ],
          [
           "hardy plays dr. henry tibbett country doctor called travelling circus trainer cure sick elephant doctor heals grateful beast elephant becomes attached starts follow everywhere leads trainer suing dr. tibbett alienation affection",
           "comedy",
           "0"
          ],
          [
           "film examination libidinous basketball star hector bloom contrasts sporting prowess court bedroom antics notably hector affair favorite professor 's wife olive goes nowhere many events occur within heated early 1970s backdrop university politics sporting hijinx anti-war sentiments title related driving basket basketball",
           "drama",
           "0"
          ],
          [
           "film follows lead character max hell played scott shaw goes mission rescue dr. trixi clutches evil mickey o'malley played joe estevez according donald g. jackson max hell frog warrior much sequel standalone film inspired original concept hell comes frogtown",
           "action, sci-fi",
           "0"
          ],
          [
           "unlike alamo films concentrate davy crockett jim bowie main protagonists almaron bruce warren susanna dickinson ruth findlay daughter angelina marilyn haslett film gives fictionalised fast moving account restriction american emigration texas arrest stephen f. austin santa anna julian rivero sam houston edward piel appointed general build texian army dickinson 's participation battle gonzales battle alamo",
           "western, war",
           "0"
          ],
          [
           "san francisco earthquake orphan adopted relatives spain grows gets wooed romeo turns falls love san francisco plumber",
           "comedy drama",
           "0"
          ],
          [
           "nine people around world kidnapped evil black ghost organization undergo experiments turn cyborgs superhuman powers nine cyborgs band together order stop black ghost achieving goal starting next world war supplying rich buyers countless weapons mass destruction destruction black ghost nine cyborgs go fight variety threats mad scientists supernatural beings ancient civilizations",
           "unknown",
           "0"
          ],
          [
           "film tells story man scott cohen discovers wife annabeth gish affair consequences resulting relationship mistress paulina porizkova",
           "comedy",
           "0"
          ],
          [
           "film takes place 2070 world plunges ruins result nuclear war ability people survive depends energy emitted participants brutal dance tournament system becomes endangered one applicants falls love one contestants decides save life",
           "unknown",
           "0"
          ],
          [
           "story film centers irene kawai japanese american teenager chicago 1970s haunted photo grandfather never knew standing barracks world war ii internment camp japanese americans prompted visits ghost terri dead baby sister irene journeys boyfriend luke road trip arizona poston war relocation center stood photo grandfather taken",
           "unknown",
           "0"
          ],
          [
           "hiraasat action film featuring mithun chakraborty anita raj lead roles well supported shatrughan sinha hema malini prem chopra kalpana iyer shakti kapoor shatrughan sinha played character honest police office could sacrifice everything country",
           "action, crime, drama",
           "0"
          ],
          [
           "1964 inmate charlie forsythe creedmore prison executed via electric chair murder commit creedmore prison reopened thirty years charlie forsythe returns afterlife exact revenge eaton sharpe lane smith – officer stood forsythe executed inmate burke viggo mortensen inmates soon realize slaughtered unless forsythe allowed repay long-standing debt",
           "drama",
           "0"
          ],
          [
           "film tells story boyd played boyle american uncanny ability speak japanese boyd aspires succeed world japanese business finds mostly outside looking meanwhile roommate jerome jayson watabe japanese american always felt american japanese japanese american aspires sumo wrestler finds weight blood pressure thwarting dreams together struggle find place world cultural identity seldom seems",
           "comedy",
           "0"
          ],
          [
           "gopal m.g.r honest lawyer holds law order family emotions meets simple village girl named gauri saroja devi falls love trouble brews form muthayya nambiar sets wicked eyes gauri order marry guari muthayya murders father m.r radha gopal 's mother framed murder struggling family justice gopal save mother triumph love",
           "unknown",
           "0"
          ],
          [
           "rivalry develops veteran world war ii m/sgt danny young john hodiak sgt mitch turner stephen mcnally marine combat photographers attentions jeanne linda christian red cross nurse korean war 3",
           "war",
           "0"
          ],
          [
           "autumn 1950 18th army people 's liberation army pla march chamdo tibet sichuan plan liberate tibet free slaves 5",
           "drama / history / western",
           "0"
          ],
          [
           "film family kumar ajith uncle bala singh rambha 's father problem two families start kumar unable spend much money occasion uncle 's family whether kumar meena rambha get united solving problems forms crux story",
           "unknown",
           "0"
          ],
          [
           "taglines `` girl hard '' russian трудно быть девочкой `` child games '' russian недетская игра three lower-class moscow high school girlfriends katya vika zhanna learn school disco coming saturday night start preparations seems important moment life",
           "drama",
           "0"
          ],
          [
           "small town mentally unstable virginia two-decade affair local married sheriff dick tipton son emmett harrison gilbertson acts protector 1 emmett 's quest truth father 's identity begins relationship tipton 's daughter jessie 2",
           "dramedy",
           "0"
          ],
          [
           "story family drama revolves around lead pair played rekha farooq shaikh play married couple 's character shalu overcomes obstacles married life win acceptance domineering mother-in-law kamla bindu",
           "unknown",
           "0"
          ],
          [
           "set alexandria 1938 young british schoolmaster named darley meets pursewarden british consular officer pursewarden introduces justine wife egyptian banker darley befriends discovers involved plot british goal arm jewish underground movement palestine",
           "drama",
           "0"
          ],
          [
           "film set rural rajasthan based story vijayadan detha relates popular folktale rajasthan merchant 's son krishanlal ravi menon whose relationship young bride lachhi raisa padamsee thwarted work ghost falls love resulting ghost soon impersonating husband 3",
           "drama",
           "0"
          ],
          [
           "film revolves around nri couple desperate biological child 1 couple host party celebrate holi indian american guests plot deals events happening",
           "drama",
           "0"
          ],
          [
           "kumar young rich doctor falls love housemaid selvathaal mother like love affair chases away housemaid meantime kumar 's sister falls love kumar 's friend gopi selvathal becomes actor new name manorama kumar gopi go search selvathal another person actor kidnaps places hideout kumar gopi come know rescue actor forms story film ends well",
           "unknown",
           "0"
          ],
          [
           "new teacher organizes volleyball game boost school spirit self confidence fighting conservative school board chauvinistic principal two students run away teacher 's liberal methods free thinking blamed teacher fired tries sneak away volleyball match succeeded pushing",
           "unknown",
           "0"
          ],
          [
           "plot film birds live fictional peaceful town named chirpendale crow arrives known black menace name suggests black menace terrorizes town story follows adventures hero bill cab driver tries save coo rest town 's inhabitants certain destruction",
           "nature",
           "0"
          ],
          [
           "film historical story based life history 3rd century bc maurya emperor chandragupta n. t. rama rao advisor guru chanakya akkineni nageswara rao story goes destroyed nanda dynasty defeated alexander great sivaji ganesan established maurya empire",
           "historical",
           "0"
          ],
          [
           "big bad love shares title characters mississippi writer larry brown 's short story collection particularly book 's final story `` 92 days '' 3 main character unsuccessful alcoholic writer motivated desire estranged wife played debra winger urging vietnam war buddy monroe played paul le mat continue write angry yet hopeful sell story tragedy strikes close friend daughter leon forced rethink way life",
           "drama",
           "0"
          ],
          [
           "kumar graduate decides enlist indian army following news chinese invasion country midst sino-indian war find romantic interest kamala working indian army",
           "unknown",
           "0"
          ],
          [
           "story revolves around young man short tempered good heart 's prison committing murder prison officer helps becoming good man good deeds",
           "unknown",
           "0"
          ],
          [
           "genius sculptor joon-goo park yong-woo suffers progressive muscular paralysis loses meaning life korean war wife kim seo-hyung dedicates beloved husband goes search model lee yoo-young encourage go back work",
           "unknown",
           "0"
          ],
          [
           "hikaru oshiro noticing lack music studios catering high school students aspiring become musicians decided build one studio bento shop allows high school students use studio free required respectful empathetic others also well academically schools",
           "drama",
           "0"
          ],
          [
           "chuck wheeler released prison begins set elaborate heist armored truck carrying money las vegas casino chuck enlists help nightclub owner joe darren well vi victor sensational blonde married chuck 's ex-cellmate mike bennett mike jealous dangerous man grant vi divorce escapes prison armored truck robbery set take place starts cause havoc locates chuck joe unfaithful wife",
           "drama",
           "0"
          ],
          [
           "title character victor church world war veteran becomes despondent advancing age prevents playing active role battles world war ii feeling unwanted useless retreats country estate plans suicide finds new purpose life opens home six rambunctious cockney children evacuated london slums tries keep mischievous group control",
           "comedy",
           "0"
          ],
          [
           "tv segment ghost videos television presenters experience supernatural incident tv studio one ghost video rolls trace origins ghost video high school enter camcorders investigate source supernatural occurrences",
           "horror",
           "0"
          ],
          [
           "louisa gould jenny seagrove hides escaped young russian war prisoner feodor burriy julian kostov world war ii assistance sister ivy forster amanda abbington brother harold le druillenec ronan keating",
           "unknown",
           "0"
          ],
          [
           "renaissance florence florentine trader meets shipwrecked stranger introduces tito melema young italianate-greek scholar tito becomes acquainted several florentines including nello barber young girl named tessa also introduced blind scholar named bardo de bardi daughter romola tito becomes settled florence assisting bardo classical studies falls love romola",
           "drama",
           "0"
          ],
          [
           "film family kumar ajith uncle bala singh rambha 's father problem two families start kumar unable spend much money occasion uncle 's family whether kumar meena rambha get united solving problems forms crux story",
           "thriller",
           "0"
          ],
          [
           "town drunk gabe causes cattle stampede shoots rancher fires cowboys dave chito bring new doctor town dr. ann rollins justice gabe conspires wealthy ace kelso rustlers",
           "western",
           "0"
          ],
          [
           "spouses alec zoey depressed couple tragedy two years ago death son samuel hit car age 5 years old dying blow slamming head therefore decide opt adoption one day 7-year-old child eli cole unexpectedly arrives doorstep claiming adoption agency eli wears suit everyday well spoken child",
           "unknown",
           "0"
          ],
          [
           "spanning nearly 20 years early 1940s 1960s plot focuses susan traherne englishwoman irreparably changed experiences fighter french resistance world war ii one-night stand british intelligence agent war ends susan returns england becomes determined make life achieving wishes post-war world time away finds trivial inadequate acting complete disregard everybody around",
           "drama",
           "0"
          ],
          [
           "world war ii singer bob reynolds leaves band enlist us army band soon follows army uses group put show troops",
           "musical",
           "0"
          ],
          [
           "execution kattabomman 17 october 1799 kayattar chinna marudhu gave asylum kattabomman 's brother oomadurai british took reason invade attacked sivaganga 1801 powerful army maruthu pandiyars allies quite successful captured three districts british british considered serious threat future india rushed additional troops britain put maruthu pandiyars rebellion",
           "unknown",
           "0"
          ],
          [
           "young construction worker rams back boss 's jaguar fit anger sacked rather fronting court ’ given chance explain actions community conference face-to-face confrontation young man boss boss 's wife co-workers best mate mother lifts lid dysfunctional life workplace dirty laundry turning lives upside",
           "drama",
           "0"
          ],
          [
           "shanghai madeleine linden unhappy wife falls love wounded pilot pat avon upon husband brian head red cross must operate",
           "comedy",
           "0"
          ],
          [
           "kaalia action flick mithun-t. l. v. prasad team film usual story line revenge fight injustice kalicharan lives middle-class life unmarried sister since kalicharan honest man refuses pay accept bribes brings bad books gangster bhawani singh kalicharan refuses budge singh gets kalicharan arrested false charges sent prison prison new kalicharan born — calls kaalia — whose main motive destruction bhawani singh",
           "unknown",
           "0"
          ],
          [
           "loosely based historical children 's crusade story follows exiled young knight played eric stoltz leads band orphans join third crusade king richard lionheart protecting children black prince gabriel byrne disillusioned crusader turned child slave trader confused real-life edward black prince",
           "fantasy",
           "0"
          ],
          [
           "jung-woo film director adult films entered film industry love cinema found stuck erotic movies 10 years jung-woo dreams directing actual commercial film one become box office hit assistant director jin-hwan lure top actress eun-soo one productions eun-soo began acting 20 years ago determined finally shed image former child actress",
           "unknown",
           "0"
          ],
          [
           "handsome fairly good-looking anil kumar employed natwarlal criminal gangster natwarlal asks anil find employment shailendra singh seduce beautiful young daughter neetu singh marry thus get stake property wealth anil agrees find employment shailendra counted shailendra 's second wife kamini agenda decides keep anil 1",
           "unknown",
           "0"
          ],
          [
           "film jamie young man formative teen years growing rural subtropical town bundaberg queensland australia set around world war i. jamie raised grandmother enjoys life `` bundy '' town 's reaction insanity local preacher leads leave hometown life city",
           "drama",
           "0"
          ],
          [
           "story revolves around husband-and-wife acting team simply insecure husband suspects wife could capable infidelity husband disguises guardsman thick accent woos wife false identity ends seducing couple stays together end wife tells husband knew played along deception",
           "comedy drama",
           "0"
          ],
          [
           "story film deals underworld revolves around amal played dev engages deeply smuggling business events occur boy realizes become part dangerous game form climax story",
           "crime/thriller",
           "0"
          ],
          [
           "trip nainital geeta waheeda rehman meets madan kamaljit falls love madan delhi father wealthy man mother played achla sachdev superstitious woman constantly gets poojas performed pandits madan expresses desire get married geeta parents agree request family pandit studies geeta 's horoscope reveals manglik hence inauspicious manglik mangal dosha considered unfortunate per indian astrology",
           "unknown",
           "0"
          ],
          [
           "new york city law professor john lindsay robinson asked eugene ferguson kruger member governor 's civic committee become special prosecutor fight racketeers corruption city unknown lindsay ferguson association racketeers 1",
           "drama, crime",
           "0"
          ],
          [
           "con man rick maxon payne tries swindle war widow deborah caulfied giving savings nonexistent memorial rick falls love deborah pangs remorse reckons without enamored moll tory winters gang boss randall duryea",
           "film noir",
           "0"
          ],
          [
           "banerjee stars ram das jobless indian man tired life calcutta steals money father order afford passage britain falls love white woman 1",
           "comedy",
           "0"
          ],
          [
           "plot mystery revolving around captain tom harvey undercover army agent played james millican investigating theft army gold shipments undercover investigations harvey takes job deputy sheriff drawn discovering source ghost terrorizing town ghost apparently manifestation gambler wrongly convicted hanged gold thefts",
           "western",
           "0"
          ]
         ],
         "hovertemplate": "cluster=%{customdata[2]}<br>x-tsne=%{x}<br>y-tsne=%{y}<br>cleaned_text=%{customdata[0]}<br>label=%{customdata[1]}<extra></extra>",
         "legendgroup": "0",
         "marker": {
          "color": "#636efa",
          "symbol": "circle"
         },
         "mode": "markers",
         "name": "0",
         "orientation": "v",
         "showlegend": true,
         "type": "scatter",
         "x": [
          1.1554052829742432,
          -0.23735962808132172,
          -11.44797420501709,
          22.045429229736328,
          -12.67679214477539,
          -12.503375053405762,
          8.482593536376953,
          -5.4723920822143555,
          2.306602954864502,
          8.059215545654297,
          -15.503911972045898,
          -2.9834680557250977,
          15.618880271911621,
          3.063704013824463,
          5.326963424682617,
          0.046543560922145844,
          -2.9350826740264893,
          4.25441312789917,
          -16.358970642089844,
          14.238686561584473,
          3.7198853492736816,
          -1.899875283241272,
          -5.163403034210205,
          6.760206699371338,
          -12.075523376464844,
          12.167933464050293,
          2.353792190551758,
          -1.1446715593338013,
          1.7637526988983154,
          -5.22819709777832,
          14.49671459197998,
          2.0656678676605225,
          -10.19206714630127,
          2.373734951019287,
          7.957415580749512,
          -16.987112045288086,
          -12.979239463806152,
          0.9115869402885437,
          -7.010389804840088,
          21.012163162231445,
          12.730053901672363,
          -9.745280265808105,
          -16.882091522216797,
          -12.01499080657959,
          6.2175612449646,
          -0.20115096867084503,
          -6.205898284912109,
          7.482719898223877,
          15.165557861328125,
          3.766108512878418,
          -12.105367660522461,
          13.238537788391113,
          0.6817915439605713,
          12.204448699951172,
          2.1884727478027344,
          -12.79057502746582,
          -16.99117088317871,
          4.372526168823242,
          -4.952273845672607,
          1.1774556636810303,
          6.522385597229004,
          20.305490493774414,
          -11.869987487792969,
          -12.320259094238281,
          14.797677993774414,
          6.021273136138916,
          13.646707534790039,
          14.016322135925293,
          4.093108177185059,
          -11.987889289855957,
          -7.958926677703857,
          -9.435501098632812,
          -0.49422013759613037,
          -12.014385223388672,
          -10.589913368225098,
          10.967130661010742
         ],
         "xaxis": "x",
         "y": [
          11.794929504394531,
          -19.202499389648438,
          -17.965883255004883,
          6.230123519897461,
          -2.015561819076538,
          -0.9853596091270447,
          15.923720359802246,
          3.231205940246582,
          15.559917449951172,
          11.934697151184082,
          3.098602294921875,
          9.295942306518555,
          -9.834242820739746,
          12.234879493713379,
          19.211435317993164,
          14.261184692382812,
          7.593474388122559,
          15.007232666015625,
          4.735386848449707,
          -13.058540344238281,
          -8.588387489318848,
          16.609941482543945,
          10.839418411254883,
          17.3436336517334,
          -0.6588912010192871,
          17.273181915283203,
          -12.285110473632812,
          13.32758617401123,
          18.824113845825195,
          11.277674674987793,
          -13.614823341369629,
          19.6922550201416,
          -2.2505264282226562,
          13.524895668029785,
          14.699944496154785,
          6.525848865509033,
          -12.234997749328613,
          -9.809185981750488,
          10.283554077148438,
          6.457920551300049,
          15.916096687316895,
          5.851813316345215,
          5.021002769470215,
          -9.738265037536621,
          -9.507411003112793,
          7.737030982971191,
          9.03226375579834,
          14.5446195602417,
          -14.121630668640137,
          11.234885215759277,
          -12.53127384185791,
          -14.166797637939453,
          15.310995101928711,
          16.448265075683594,
          14.347306251525879,
          6.944995880126953,
          6.526562213897705,
          -8.318777084350586,
          -7.523962497711182,
          14.618690490722656,
          14.964797973632812,
          6.397367477416992,
          -4.832376956939697,
          1.4553368091583252,
          -10.659797668457031,
          -10.554491996765137,
          10.484228134155273,
          -10.242088317871094,
          -6.370029449462891,
          2.4417505264282227,
          8.165258407592773,
          -1.5923256874084473,
          1.5303689241409302,
          -3.8488504886627197,
          -1.211592435836792,
          15.9934720993042
         ],
         "yaxis": "y"
        },
        {
         "customdata": [
          [
           "eventful life swami vivekananda teachings thoughts contribution towards society relation teacher ramakrishna paramahamsa shown film film captured different events life starting childhood days college days meeting master ramakrishna dakshineswar relationship ramakrishna austerities undertaken monastic disciples ramakrishna etc",
           "biography",
           "-1"
          ],
          [
           "story two close friends studied together spent lot time real drama stars two fall love girl remake dostana 1981",
           "unknown",
           "-1"
          ],
          [
           "george cabot jr. cesar romero son department store owner enrolls store 's sports clerk krista nielsen sonja henie university use advertisement fashion department george trying pay cabaret singer marcelle la verne wants annul brief elopement marcelle threatens name krista co-respondent lawsuit krista fallen larry taylor college skating exhibition lands cover life magazine",
           "comedy, romance",
           "-1"
          ],
          [
           "1962 south korea kang soo-ha 21-year-old teacher seoul takes first job village school gangwon province one older students 17-year-old yun hong-yeon develops crush though efforts catch attention seem go unnoticed meanwhile soo-ha fallen yang eun-hee fellow teacher school",
           "unknown",
           "-1"
          ],
          [
           "neil john samuel showroom executive ernakulam new year party fortunately neel gets bag money money neil reaches village tamil nadu four people intention buy diamonds also arrive spot connected cash hands neil",
           "comedy",
           "-1"
          ],
          [
           "young sci-fi/fantasy enthusiast gavin gore jeremy sumpter ragtag group nerd friends girlfriend sophie suchowski addie land swordsman hobie plumber hubbel palmer young maynard keyes rob pinkston stumble upon `` large tracks '' `` big ole sasquatch dumplin '' whilst walking trails nearby woods unbeknownst friends two gavin 's redneck neighbors zerk wilder justin long shirts joachim joey kern planted fake evidence plan gain profits pay zerk 's credit card bill soon publicity stunt gains attention local sasquatch `` expert '' carl weathers",
           "comedy",
           "-1"
          ],
          [
           "vani viswanath plays central character sukanya young charming medical student shrewd politician named babuji develops fancy leads murder lover babuji orchestrates fake marriage sukanya forced satisfy lust babuji long wins babuji 's trust steps corridors power politics along babuji takes revenge babuji crux story",
           "unknown",
           "-1"
          ],
          [
           "oliver 's mother penniless outcast died giving birth young boy oliver brought workhouse later apprenticed uncaring undertaker eventually taken gang thieves befriend purposes secrets oliver 's family history waiting come light",
           "drama",
           "-1"
          ],
          [
           "popular dance hall girl duchess joins gambler nicknamed `` dirtwater fox '' way salt lake city utah seeking refuge pursuing gang outlaws duchess dirtwater fox join wagon train mormons trip encounter snakes rapids horseback pursuits towns even getting tied outlaws eventually escaping",
           "comedy",
           "-1"
          ],
          [
           "mordecai c. jones scott – self-styled `` m.b.s. c.s. d.d — master back-stabbing cork-screwing dirty-dealing '' – drifting confidence trickster makes living defrauding people southern united states one specialties rigged punchboards befriends young man named curley sarrazin deserter united states army two form team make money",
           "comedy",
           "-1"
          ],
          [
           "flesh vince murdocco kidnapped cheerleaders world known strange planet men planet rendered impotent thanks villain known evil presence william dennis hunt evil presence unhappy relationship queen frigid maureen webb soon learns flesh 's arrival planet wishes transfer flesh 's penis order make poor endowment",
           "comedy",
           "-1"
          ],
          [
           "psychoanalyst young family friends taken hostage gang led escaped killer al walker doctor gets killer talk attempt find killer 's unconscious motivation evil ways walker relates dramatic dream 's since childhood eventually crimes traced back childhood lack parental guidance end night doctor calmed killer 's murderous rage prevented killings",
           "film noir",
           "-1"
          ],
          [
           "shellshocked following experiences pow naval war hero mike merriworth kieron moore enrols physical instructor outward bound sea school wales discovers new purpose shaping lives boys charge",
           "adventure",
           "-1"
          ],
          [
           "story starts flashback two twin sisters ruolan rumei ruo lan meets local pool young japanese clock repairman ah liang played haruma miura pronounced ryo japanese",
           "romance / suspense",
           "-1"
          ],
          [
           "byron levin works california bank becomes infatuated catherine stockheinz wife billionaire boss frederic stockheinz million-dollar offer make asks byron go republic costa salva offer business proposition dictator lorenzo prado happens byron 's old college roommate matters become complicated catherine byron begin affair",
           "drama",
           "-1"
          ],
          [
           "love first sight sam andy lau chances upon feisty fast-talking woman odd name milan shu qi macau casino catch part-time baccarat dealer full-time cabaret dancer `` careers '' exactly congruent station life fallen love odds mismatched couple soon makes headline media turn milan girl overnight",
           "romance",
           "-1"
          ],
          [
           "3000 years ago vader clan led queen hedrian devastated planet denzi denziland island denzi landed earth modern times computer denziland awoke denzidog ic detected vader clan approaching earth ic found five young people may may descendants denzi people become denzimen order defend earth vader clan 's next target",
           "unknown",
           "-1"
          ],
          [
           "cleaned tombstone arizona marshal frame johnson ronald reagan quits attempted lynching hopes settle ranch near cottonwood sweetheart jeannie dorothy malone may clean cottonwood making great sacrifice restore law order",
           "western",
           "-1"
          ],
          [
           "orphan girl named bindu trapped web deceit crime imprisons shackles expressive films events take life 's journey tale quite regular bombay potboiler one rare use boats 28 metre pamela cabin cruiser couple dinghies outboards",
           "unknown",
           "-1"
          ],
          [
           "story software engineer raghu prasanna gets engaged another engineer meera lekha washington 's going arranged marriage extended families looking forward however due erectile dysfunction raghu ca n't get advice friends tries various quacks treating impotency",
           "romantic comedy",
           "-1"
          ],
          [
           "kisan kanya based novel saadat hasan manto 6 focussed plight poor farmers 6 story revolved life poor peasant ram nisar ill-treated landlord ghani 9 eventually ghani murdered ram becomes prime suspect eyes public 9 film performed moderately box-office 6",
           "social",
           "-1"
          ],
          [
           "psychic woman leads archaeologists aztec pyramid discover two mummies one turns werewolf lon chaney jr. mad scientist revives werewolf-mummy terrorizes city second aztec mummy also comes life goes psychic",
           "horror",
           "-1"
          ],
          [
           "stand-up-comedian nikita kolesnikov danila kozlovsky difficult time breaking girlfriend afina gordeeva elizaveta boyarskaya found promising partner successful 40-year old dentist nikita trying cope goes different stages hatred attempts return former beloved realizes afraid parting perhaps best thing happened life",
           "unknown",
           "-1"
          ],
          [
           "two reporters curtis conrad phillips girlfriend carol jill ireland pursue jewel thief smith william hartnell sussex countryside arriving ancient castle smith abducts carol holds hostage curtis forced assist thief find buried loot",
           "crime",
           "-1"
          ],
          [
           "two best friends live together caravan park discover favourite soap opera cancelled go quest save show",
           "comedy",
           "-1"
          ],
          [
           "claire moon set 1990s pacific northwest claire jabrowski todd famous heterosexual author decides attend retreat all-female writers claire 's roommate retreat dr. noel benedict author book called naked truth movie culminates sexual encounter two authors 1",
           "unknown",
           "-1"
          ],
          [
           "curry pepper two cid detectives take jobs seriously newspaper reporter joey law decides film documentary daily police life chooses film curry pepper curry pepper fight joey 's affection friendship seriously jeopardized eventually two reconcile work together take vicious hit man named abalone",
           "comedy",
           "-1"
          ],
          [
           "joseph mentally retarded servant boy working lodge madras inebriated sait arrives lodge stay gives cash lodge owner safekeeping next morning sait forgotten gave cash accuses joseph owner exploits situation keeps money interrogated joseph remains taciturn woman lodger deserted lover tries help return head cook naidu previously vacation discovers truth clears joseph 's name 2 3",
           "unknown",
           "-1"
          ],
          [
           "loosely based true events see bernard boursicot shi pei pu film concerns rené gallimard jeremy irons french diplomat assigned beijing china 1960s becomes infatuated chinese opera performer song liling john lone spies government people 's republic china affair lasts 20 years gallimard apparently unaware willfully ignorant fact traditional chinese opera roles performed men",
           "romance",
           "-1"
          ],
          [
           "bok-nyeo mentally handicapped woman supports lazy husband selling apples public marketplace husband abandons another woman another man sympathizes bok-nyeo kills 4",
           "drama",
           "-1"
          ],
          [
           "dr. markoff j. carrol naish concocted formula spreads hideous disease named acromegaly extends bones distorts facial features markoff moral dilemma experimenting unsuspecting human subjects amoral behavior assumes monstrous dimensions famed concert pianist lawrence ralph morgan injected doctor 's disease-inducing serum return antidote markoff intends exact pound flesh extorting fortune lawrence demanding hand musician 's pretty daughter patricia wanda mckay 2",
           "science fiction",
           "-1"
          ],
          [
           "plot revolves around life aspiring writer high school student paige fleming paige incorporates aspects life fictional stories living alone father ross nicholas campbell recovering alcoholic lives upset return paige 's brother trevor philip dewilde absent two years return forces paige address life memories tragic suicide mother",
           "coming of age drama",
           "-1"
          ],
          [
           "movie opens fung exercising vertical bar balcony house follows started life gigolo becoming actor lover director rich man 's daughter",
           "erotic / drama",
           "-1"
          ],
          [
           "run law vampire family hamiltons known thompsons heads england find ancient vampire clan known stuarts unbeknownst hamiltons stuarts ulterior motives",
           "unknown",
           "-1"
          ],
          [
           "man visits happy elderly couple advice wife must be-having 6 good qualities qualities helps build happy family searches woman qualities tricked turned around finds soulmate returns back get blessings elderly couple",
           "unknown",
           "-1"
          ],
          [
           "rahul ramankanth sees concert pop singer monisha mumtaj falls love woos phone hating men love resists advances wears finally succumbs agreeing see dies accident way ends able even see face",
           "unknown",
           "-1"
          ],
          [
           "crime reporter assisted girlfriend fashion reporter newspaper investigates dead body taken river thames soon able link foreign embassy making sensitive diplomatic matter",
           "drama",
           "-1"
          ],
          [
           "scott ryan phillippe man rehabilitation 10 years haunted ghost dead mother pressing return home family turned back years ago outfitted nothing bag pills sack marijuana horse instead car goes back texas faced brother ’ wife katherine paquin still pining first love",
           "romantic comedy",
           "-1"
          ],
          [
           "irène bordoni cast vivienne rolland parisian chorus girl love massachusetts boy andrew sabbot jason robards sr. andrew 's snobbish mother cora louise closser hale tries break romance jack buchanan likewise makes talking-picture debut guy pennell leading man vivienne 's revue",
           "musical comedy",
           "-1"
          ],
          [
           "cosmo reif affectless mob bookie lives basement retirement home promoted hitman learns new trade steve seasoned killer proves natural marksman despite experience firearms falls love yoga teacher jasmine must figure way leave mob together",
           "comedy, thriller",
           "-1"
          ],
          [
           "edgar mills mistress stella plot murder edgar 's wealthy wife clare best laid go awry edgar ends dead clare becomes prime suspect able prove acted self-defence burglar witnessed crime comes forward",
           "crime",
           "-1"
          ],
          [
           "molly gilbert wo n't accept marriage proposal bill mccaffery unless promises quit betting money horse races gives word molly miffed realizes wants honeymoon saratoga new york due proximity racetrack behind back bill unethically uses money dad pop mccaffery 's plumbing business continue gambling gets hot streak winning 50,000 buys horse cheats disguising faster horse loses money bill agrees become plumber pleasing molly",
           "comedy",
           "-1"
          ],
          [
           "marianne greta garbo poor french country girl goes paris 1860s seek fortune actress rises success theatre must choose romantic attentions two men first lucien lars hanson poor passionate young soldier deserts army marianne goes jail stealing dress give suitor henry legrand lowell sherman wealthy middle-aged paris producer offers fame fortune",
           "drama",
           "-1"
          ],
          [
           "shane o'shea young jersey city man late 1970s handsome enough become bartender studio 54. befriends aspiring singer anita husband greg randazzo shane gets sucked hard-partying scene studio 54 life spirals downward club",
           "drama",
           "-1"
          ],
          [
           "bumbling cop chatur singh sanjay dutt sent special mission south africa solve high-profile case involving murder politician cache diamonds redeem botched-up career must deal bunch loonies includes crazy mafia satish kaushik weird taxi driver sanjai mishra hysterical boss anupam kher pretty damsel distress ameesha patel 4",
           "comedy",
           "-1"
          ],
          [
           "dhag story krishna mother seemingly ambitious aspirations krishna backdrop socio-economic standing raised father cremated people living krishna ’ mother always wanted pave path takes away sorrows hardship legacy father ’ untimely death opens gates opportunity young krishna plight widowed helpless mother reels back origins dhag captures moments trials tribulations young krishna along journey 5",
           "drama",
           "-1"
          ],
          [
           "mighty heart detailed account search kidnapped wall street journal reporter 5 daniel pearl 2002. pearl kidnapped karachi supporters omar sheikh claimed responsibility later captured convicted appealing ruling kidnapping beheading pearl 2002. movie also covers efforts pakistan 's security forces department justice u.s. department state 's diplomatic security service dss track kidnappers bring justice",
           "drama",
           "-1"
          ],
          [
           "film retelling story hercules lou ferrigno battling wizard minos william berger uses `` science '' attempt take world hercules must stop rescue princess love process",
           "fantasy",
           "-1"
          ],
          [
           "two escaping killers hide club called cloud nine hold bartender clients hostage amongst patrons nervous singer abby dalton boxer wife manager extortionist loud thug girlfriend well small man determine people 's real opposed posed personalities fear dick miller",
           "suspense",
           "-1"
          ],
          [
           "young sculptor searches perfect model inspire work finds poverty-stricken girl thinks one looking wanders visits famous statues manhattan hoping find",
           "unknown",
           "-1"
          ],
          [
           "discovering state penniless citizens spend time making music instead money european grand duchess bans music domains 2 new york journalist conspires rogues stage concert",
           "comedy",
           "-1"
          ],
          [
           "struggling young actress jenny marjorie browne joins dad mark daly moves aunt hetty 's elsie wagstaff boarding house aunt hetty overworks jenny lucky enough find love form aspiring songwriter tom hal thompson romance threatened nearly destroyed jealous star actress local pantomime company however young lovers move bigger better things winning london west end theatre contract",
           "comedy",
           "-1"
          ],
          [
           "kitauji high school concert band club one time participated national tournaments champion school club 's adviser changed able even participate qualifying tournament however thanks newly appointed adviser 's strict instruction students steadily improving build strength fight plays solos students give priority studying quit club activities finally long wished-for day competition arrives club wins qualifying tournament",
           "drama, youth, musical, romance, idol",
           "-1"
          ],
          [
           "every port sailor bill spencer tracy meets girls sailor spike warren hymer already met talked getting signature tattoo bill spike finally meet become friends meet carny high diver goldie jean harlow",
           "comedy",
           "-1"
          ],
          [
           "lost found basically love story manas siddharth chandekar naina spruha joshi dealing loneliness personal lives since loneliness become prominent part urban lives lost found empathizes ignored human emotions basic motive bringing happiness lives lonely people four characters – manas naina maruti mangesh desai shrirang kaka mohan agashe take initiative loneliness thereby resurrecting lonely lives",
           "romance, drama",
           "-1"
          ],
          [
           "joan purviance magdalen sothern daughters fisherman monterey magdalen engaged peter bloomer lowly fisher writer whitman comes town joan magdalen fancy writer magdalen wins end takes back big city joan peter marry stay monterey 16 many years later magdalen returns attempts break sister 's marriage fail 1",
           "unknown",
           "-1"
          ],
          [
           "hong deok-ja continues run kimchi food company leaves japan business trip three sons however bank robbers steals money family separated guide misunderstanding language barriers makes white tiger family think wanted cops",
           "comedy",
           "-1"
          ],
          [
           "indie musician dong-hoon cartoonist jae-hee broke year ago former couple meet death cat owned together go night 's trip hold funeral pet",
           "unknown",
           "-1"
          ],
          [
           "story tells ching gillian chung dumped playboy boyfriend ken daniel wu tracks new girlfriend shirley tao hong claims ken uploaded nude photos website",
           "unknown",
           "-1"
          ],
          [
           "former agent north korean intelligence senior member south korean security services conduct secret mission prevent breakout nuclear war korean peninsula",
           "unknown",
           "-1"
          ],
          [
           "story involves middle-aged cowboy adventurer clark gable learns stolen fortune remains buried ranch serves home four gorgeous young widows battle-axe mother-in-law drifter turns charm",
           "western",
           "-1"
          ],
          [
           "gloria cole eddie swenson working keep old house used youth center razed make room new skyscraper manhattan gloria enters friend beauty contest 25,000 first prize iffy-maneuvering friend wins contest money goes preserving youth center",
           "drama",
           "-1"
          ],
          [
           "film american accountant bombarded cable news media 's obsession terrorist plots post 9/11 world receives jolt unattached islamic graduate student moves next door",
           "drama",
           "-1"
          ],
          [
           "earthquake releases bunch mutant cockroaches create fire rubbing cerci together eventually bugs die survive low air pressure earth 's surface scientist professor james parmiter dillman keeps one alive pressure chamber successfully breeds mutant cockroach modern cockroach creating breed intelligent flying super-cockroaches",
           "unknown",
           "-1"
          ],
          [
           "story line centres four young female factory workers escape monotony jobs spending evenings chiswick palais local dance hall problems boyfriends hoping find 3",
           "musical",
           "-1"
          ],
          [
           "stephen ghent mineowner falls love ruth jordan arrogant girl east unaware daughter dead partner ruth vacationing arizona mexico fast set friends including fiancé edgar manuella half-spanish person hopelessly love ghent causes ruth return fiancé insinuates ghent belongs ghent follows ruth kidnaps takes wilderness endure hardship discovers loves ghent discards edgar favor",
           "western",
           "-1"
          ],
          [
           "sets 19th century plot centered man harold lockwood falsely accused murder side door shot monterrey mexico 1",
           "romantic drama",
           "-1"
          ],
          [
           "akashangalil story amala pooja vijayan retired air hostess marriage colleague pilot failure divorced well later becomes close driver ananthu ananthu 's family relationship well marriage time amala 's old friend devadathan shankar also divorcee comes forward give life amala music directed abhijith p nair 5 better source needed",
           "family",
           "-1"
          ],
          [
           "sally elliott rita hayworth musical star meets indiana boy paul dresser victor mature runaway brief stopover medicine show arrives gay nineties new york composes title tune fair lady becomes toast tin pan alley 4",
           "musical biopic",
           "-1"
          ],
          [
           "joe huggett loses job family decide emigrate south africa travelling via land route takes across africa journey become entangled diamond smuggler",
           "comedy",
           "-1"
          ],
          [
           "chaiti young beautiful woman wife newspaper editor bikramjit bikramjit workaholic always stay busy editorial works spite highly educated woman chaiti nothing spends time expensive saris filing nails watching tv thus unhappy marriage unfortunate miscarriage chaiti befriends amal find friendly company amal good looking adventurous amal 's point view chaiti charulata 2011 2",
           "drama",
           "-1"
          ],
          [
           "roanne sanchez young girl high ideals romance assigned accompany spoiled son president eric rodriguez gerald anderson goes immersion trip coming different worlds two find much fight sudden attraction soon gets better 4",
           "romance, drama",
           "-1"
          ],
          [
           "hartford transcontinental railroad attempting build railroad `` hell 's gate pass '' however king carter self-appointed ruler land beyond pass want happen sends henchmen including local indians disrupt construction anyway sabotage kidnapping claire hartford daughter company president president 's assistant jeff ramsay sidekicks stop king carter 's schemes every point eventually defeat entirely opens area new settlers first jeff new wife claire",
           "western serial",
           "-1"
          ],
          [
           "eric wainwright van johnson busy impresario besieged hordes wannabe concert stars eager big break one cynthia potter june allyson talented pianist ca n't get see learns wainwright auditioning young musicians children 's concert tour cynthia dons braces bobby sox passes child prodigy 4",
           "comedy",
           "-1"
          ],
          [
           "kevin agar carlton-based owner fledgling magazine struggles make ends meet financial situation turns desperate finds work assisting television repair man repossessions 2 3 agar 's parents live suburb balwyn",
           "comedy",
           "-1"
          ],
          [
           "trust concerns unusual romance two young misfits wandering long island town maria shelly recent high school dropout announces unplanned pregnancy family father dies heart failure mother immediately evicts household boyfriend breaks lonely nowhere go maria wanders town search place stay along way meets matthew donovan highly educated extremely moody electronics repairman two begin unusual romance built sense mutual admiration trust",
           "romantic comedy",
           "-1"
          ],
          [
           "restaurant owner dylan ramsey david spade head-over-heels love new neighbor french cellist named lila sophie marceau desperate attempt garner affections kidnaps beloved pet dog offers help find phantom dog hunt wrench thrown plans however dog swallows best friend 's diamond ring things get worse dylan lila 's ex-fiancee rene arrives win back",
           "comedy",
           "-1"
          ],
          [
           "dharma anandaraj auto driver kidnaps young women payroll powerful politician r.r radha ravi `` honest '' raj vijayakanth dcp investigating murder mla zeroes r.r suspended higher-ups due political pressure years later brought back governor 's rule established given charge investigation disappearance man whose sister earlier disappeared investigation leads dharma r.r private hospital bombay",
           "unknown",
           "-1"
          ],
          [
           "told ranch boss lynn plans sell ranch finance move east jack framed cattle rustling barnes man set buy ranch help pal buzz jack escapes noose two set clear jack 's name addition jack suspicious reason barnes wants lynn 's ranch first place",
           "western",
           "-1"
          ],
          [
           "arjun lives village lost father lives mother maternal uncles helpful hence become popular villagers faces lot problem obstacles rich powerful persons village end overcomes problems finds family",
           "unknown",
           "-1"
          ],
          [
           "jerry mcguire william collier jr. dress designer tired looked upon wimp begins secretly training boxer take spike mullins johnnie walker win affections store clerk hilda jensen shirley mason 2",
           "comedy",
           "-1"
          ],
          [
           "chu liuxiang drinks friend monk wuhua gong nanyan holy water palace suddenly appears accuses chu stolen palace 's heaven 's one holy water committed series murders agrees give chu month 's time clear name else mistress palace kill chu 's curiosity eagerness prove innocence spur investigate case",
           "unknown",
           "-1"
          ],
          [
           "charles kessler bela lugosi plagued homicidal urges wife betty compson left another man gets car accident leaves brain damaged kept cellar secret kessler 's gardener innocent man executed murder kessler committed house twin brother visits tries unravel mystery discovers kessler killer n't know brother subdues contacts police arrest kessler",
           "horror",
           "-1"
          ],
          [
           "united states secret service lieutenant brass bancroft ronald reagan partner gabby watters eddie foy jr. producer bryan foy 's brother seek engraving plates stolen u.s. treasury department investigation leads bancroft watters pursue counterfeiting ring mexico 2 3 4 along way bancroft falsely blamed death fellow secret service agent escapes jail captures leader counterfeiting ring wins heart love interest elaine rosella towne 5",
           "crime",
           "-1"
          ],
          [
           "fontaine khaled london wife wealthy boring businessman spends money nightclub hobo partying hires manager tony run club understood job security dependent satisfying nymphomaniac demands tony loses interest fontaine turns attention young stepdaughter uses get back fontaine cheating father fontaine dumps tony divorced husband adultery",
           "drama",
           "-1"
          ],
          [
           "professional hunter harry black india wants bag tiger threatening nearby village proceeds journey encounters numerous people including young maybe smart desmond tanner wife chris harry 's first wife",
           "adventure",
           "-1"
          ],
          [
           "tulsi tells story tulsi manisha koirala married drunkard suraj irrfan khan couple blessed four kids one evening suraj away friend yashpal sharma tries molest tulsi suraj gets know beats yashpal black blue furious yashpal swears revenge meanwhile tulsi diagnosed blood cancer yashpal attacks suraj murders distraught tulsi decides get kids adopted different families 's gone",
           " ",
           "-1"
          ],
          [
           "california gubernatorial candidate burton lyon cast vote truck crashes polling booth critically injuring opponent flashback traces career unemployed veteran dockworker san francisco lawyer side story traces tortured relationship wife",
           "drama",
           "-1"
          ],
          [
           "12-year old young boy adam hann-byrd sent live relatives parents break befriends dying boy joshua jackson eerie connection nature",
           "drama",
           "-1"
          ],
          [
           "soo-nam poor woman struggling pay hospital bills vegetative husband 's care even though hard work seems hopeless suddenly granted chance turnabout redevelopment project takes place falls soo-nam discards honesty adapts cold-blooded approach take revenge whoever responsible debt-ridden life",
           "unknown",
           "-1"
          ],
          [
           "film 's slight storyline concerns man kendall violent quarrel family fiancée grahame feeling totally upset wants get away conflict decides travel overland timbuktu legendary reputation one remote mysterious places world soon fiancée learns departure vows thing challenges arrive timbuktu much film essentially taken travelogue sequences african natives habitats",
           "comedy",
           "-1"
          ],
          [
           "rie nao bakery-cum-restaurant named mani shores lake toya hokkaido nao baker bakes bakery 's bread rie chef prepares food restaurant graced beautiful scenery throughout four seasons shop serves variety customers experiencing personal problems however exit shop feel happiness mind 5 6 7",
           "drama",
           "-1"
          ],
          [
           "simple handyman also amateur artist gets trouble head shoulders portraits prominent local females sold without knowledge advertising agency published nude bodies added",
           "comedy",
           "-1"
          ],
          [
           "karthi mahesh college student indulges petty thieving caught admits meet pocket expenses gets entangled affairs ruthless dishonest police officer runs gang thieves 1",
           "romantic thriller",
           "-1"
          ],
          [
           "story film narrated paran bandyopadhyay plot involves two siblings titli tabul goes digha family vacation find lalkamol babu occupied next room disappeared without trace two children getting involved mystery unexpectedly finds group ghosts",
           "mystery",
           "-1"
          ],
          [
           "film stars harry connick jr. history professor michael child loved christmas tragic accident holiday spirit crushed grown still ca n't find joy christmas son faces tragedy needs find holiday spirit gets push right direction meets man named nick willie nelson gives gift helps find joy christmas",
           "drama",
           "-1"
          ],
          [
           "blind detective duncan maclain seeing-eye dog asked help jean hampton number mysterious murders committed including ones wealthy father uncle jean 's fiance barry gifford falls suspicion first maclain bodyguard marty corbett ultimately conclude family lawyer treadway masterminding murder moneymaking scheme gifford framed killings maclain solves detective asked best man jean 's wedding",
           "mystery",
           "-1"
          ],
          [
           "vijay r. sarathkumar seetha ragapriya siblings mother 's death vijay worked hard come life brought sister alone many years later vijay becomes taxi-driver sister seetha falls love postman kannan k. r. ganesh vijay love childhood lover lakshmi aamani lakshmi daughter corrupt politician marappan jaiganesh brother mansoor ali khan rapes young girls wish seetha 's wedding lakshmi 's brother kidnaps seetha rapes kills vijay decides take revenge",
           "unknown",
           "-1"
          ],
          [
           "vivek wanted criminal police accused murdering girl end revealed vivek murdered wife preethi coming know betrayed extra marital affair another man",
           "unknown",
           "-1"
          ],
          [
           "three teenage boys small-town southern ontario thrilled luke cooper mysterious american fugitive gunshot wound leg decides crash secret hideout luke tells 's cop run corrupt colleagues swears silence recuperates becomes buddy confidante time boys realize luke pretends 're way heads",
           "drama",
           "-1"
          ],
          [
           "mexican nightclub american fight promoters witness alberto 'baby valdez brother lita valdez knock champion fighter first lita angered brother quit law studies become fighter two move united states lita literally bumps reigning champion jerry o'leary three becoming inseparable friends however american fight promoters force alberto jerry fight face suspension",
           "comedy",
           "-1"
          ],
          [
           "officers throw extravagant party board battleship hms scotia visits french riviera end night final shore-boat judged unseaworthy three attractive female guests mary ann kimball jill mary steele antoinette nadine tallier must spend night board ship escorted ashore next day battleship called manoeuvres coast italy choice take women along captain maitland guy rolfe must hide girls presence admiral michael hordern",
           "comedy",
           "-1"
          ],
          [
           "bullied teen chef wants save grandmother 's business entering tv cooking contest win prize money find worst bully whose name matt prylek suddenly pushing become new friend—and contest teammate meanwhile matt 's brother kyle wants villainous stuff",
           "comedy-drama",
           "-1"
          ],
          [
           "flagg victor mclaglen quirt edmund lowe find transferred russia brooklyn south america place squaring local beauty film remains one earliest screen sequels critical popular success two lead actors playing characters well original writers director intact first picture",
           "musical comedy",
           "-1"
          ],
          [
           "nick niven supposed grandfather 10-year-old bridget partridge stands inherit sizeable fortune charley carney shows claims genuine grandpa men slept bridget 's grandmother never certain two produced child neither nick charley good prospects bridget must choose lesser two evils",
           "comedy",
           "-1"
          ],
          [
           "raised sharecropping plantation northern florida ray charles robinson went blind age seven shortly witnessing younger brother drown inspired fiercely independent mother insisted make way world charles found calling gift behind piano keyboard touring across chitlin circuit soulful singer gained reputation exploding onto worldwide stage pioneered incorporation rhythm blues rock roll gospel country jazz orchestral influences inimitable style",
           "biography",
           "-1"
          ],
          [
           "newland archer engaged may mingott prominent new york family shortly engagement announce newland finds attracted may ’ older married cousin countess ellen olenska marriage may newland ellen agree run away together happen may visits husband ’ lover informs expecting child ellen newland part ways newland vowing better husband wife may",
           "drama",
           "-1"
          ],
          [
           "chandrabose mohanlal whose wife 's meera jasmine death led become alcoholic chandrabose likes keep low profile lives rather carefree life comes kochi saves young professional krish j. sathaar committing suicide joins firm passing positive philosophy takes firm struggling start-up top makes impression anu mamta mohandas jyothi padmapriya chinnu mithra kurian",
           "comedy",
           "-1"
          ],
          [
           "frankie bono hitman cleveland comes new york city christmas week kill middle-management mobster troiano first follows target select best possible location orders gun rat-loving dealer big ralph one night meets former friend orphanage grew rattling cool putting life danger",
           "thriller",
           "-1"
          ],
          [
           "philippines 1972. mysterious things happening remote barrio wails heard forest cows hacked death man found bleeding death crossroad houses burned ferdinand e. marcos announces proclamation 1081 putting entire country martial law everything became mess armed forces philippines decided camp barrio already messed",
           "drama",
           "-1"
          ],
          [
           "two days christmas bogus insurance investigator conducts meticulous small-town bank robbery stagy suspenseful set-piece reworking scrooge story urbane ruthless thief induces complicity fastidious bank manager threats family",
           "thriller",
           "-1"
          ],
          [
           "michael walsh husband father falls girl named magenta difficulty magenta wife 's underaged sister magenta persistent pursuing michael though provides drama story",
           "drama",
           "-1"
          ],
          [
           "board ocean liner america four stowaways involuntarily pressed service toughs pair feuding gangsters constantly trying evade ship 's crew 4 prior development film real plot brothers merely causing unending uproar except credits screenplay brothers characters names film referred simply `` stowaways '' arriving stateside one gangsters kidnaps 's daughter leaving brothers save day 5",
           "comedy",
           "-1"
          ],
          [
           "alim young gay man born kenya raised toronto moved london get away conservative upbringing faces hardships coming widowed mother nuru well hardships relationship boyfriend giles alim imaginary friend maybe guardian angel ghost friend depending literally symbolically one takes film supposedly cary grant gives alim advice trouble unfortunately advice often seems make trouble",
           "romantic comedy",
           "-1"
          ],
          [
           "twice widowed pilnyeo vows never marry takes job coal mine one day raped supervisor later marries pilnyeo continues abused new husband later risks life",
           "unknown",
           "-1"
          ],
          [
           "convict van duff leader large-scale prison break breakout works six survivors hide forgotten mine working near prison coast clear set long dangerous journey convicts take foot car train truck attempt get hidden stolen bank loot journey doomed prisoners meet locals including farm woman beverly michaels kidnapped doctor percy helton young woman train gloria talbott",
           "film noir",
           "-1"
          ],
          [
           "u.s. marshal investigates sheriff named plummer suspected involvement string robberies becomes personal marshal 's wife taken captive outlaws",
           "western",
           "-1"
          ],
          [
           "story 10th anniversary high school reunion told eyes doctor humiliated graduation day badly beaten fellow graduate",
           "rom com",
           "-1"
          ],
          [
           "1930s teresa buday naive young woman dealing oppressive attitudes society father 's austere ways fling university latin professor jonathan crow weaving takes time realize desire serious relationship teresa starts dating liberal-minded banker james quick neill 's settled quick idealistic teresa becomes enamored another intellectual poet harry williams quick encourages affair hoping teresa come realize 's true love mere sexual impulsivity",
           "unknown",
           "-1"
          ],
          [
           "boys involved altercation vegetable vendor saved father donovan convinces policeman let go uses guilt slip becoming driver cassidy 's cab company owner knocked commission rival cab company red circle cab slip clashes drivers rival company enlists aid rest gang expose company owner mr. mccormick",
           "comedy",
           "-1"
          ],
          [
           "john murdock paul richards motorious outlaw leads vicious gang known blacklegs armed signature black whip men invade small town looking stir trouble harassing girls saloon attacking locals blacklegs plotting bigger scheme kidnapping governor kentucky patrick o'moore holding ransom man stands way former confederate officer lorn crowford hugh marlowe",
           "western",
           "-1"
          ],
          [
           "year 1999 machine empire baranoia led emperor bacchushund invades earth intention wiping human life bringing machine rule chief counsellor miura revives super energies born lost civilization pangaea assembling pieces stone plate uncovered three years previously reveals secrets `` super power '' enlisting elite five-man team united airforce 's finest pilots miura builds pyramid generate tetrahedron power order allow five uaoh officers transform ohrangers stop baranoia 's invasion",
           "unknown",
           "-1"
          ],
          [
           "film based sthreedhanam c. v. nirmala deals problems created dowry middle class malayali family film also interpreted serial name",
           "unknown",
           "-1"
          ],
          [
           "jin-hong prosecutor bent tracking culprit killed mother 7 years ago one day jin-hong 's deceased mother comes life appears however set attacking time unexplainable cases called rvp resurrected victims phenomenon reported throughout world victims unsolved murders return life punish killers based secret agents investigating cases conclude jin-hong prime suspect mother 's murder",
           "unknown",
           "-1"
          ],
          [
           "ten-year-old bobby frankie thomas group friends see bobby 's mother karen morley kissing man husband despite serious concerns bobby divorce ensues bobby although thoroughly disenchanted mother sent away month month despite efforts grows depressed dreaming reunification beloved father edward arnold returning father vacation finds preoccupied impending second marriage bobby suffers serious breakdown nevertheless packed military school",
           "drama",
           "-1"
          ],
          [
           "brinda sindhu tolani employee medical company ready treated doormat exploitation women atrocities caused men tracks men committed rapes kills using potassium cyanide businessman yugendran police commissioner sekhar chief minister vijayan fallen victim taken actions life made miserable husband killed lecherous boss kazan khan",
           "drama",
           "-1"
          ],
          [
           "old gangster hard drive containing records paid targeted competition dirty cops internal affairs etc dirty cops hire thug get safe back diner midnight brings friends goes early time-release lock another crooked cop shows uncertain reasons shooting ensues hostage negotiations thug tries put blame onto ex-con got jail one notices real target hard drive",
           "thriller",
           "-1"
          ],
          [
           "rogers family visit blackpool annual holidays difficulty finding rooms befriended wealthy young man takes stay haunted mansion family become entangled plot young man 's grasping cousin murder family inheritance however ends happily young man marrying rogers eldest daughter pamela",
           "comedy",
           "-1"
          ],
          [
           "film evil living dead girl named evelyn decides needs friends gifts girls including crow 's heart scare evelyn tries resurrect suicide reading book entitled kill back life suicide attempts fail part problem wastes bullets killing birds instead swings rope instead hanging eventually one boy close killed bus accident becomes living dead friend",
           "short black comedy",
           "-1"
          ],
          [
           "mysterious killer known `` judge '' kills anyone considers worthless detective harry grant william lundigan assigned track handful clues grant constructs faceless dummy help men conduct investigation police finally break case receiving important clue finally cornering killer chase catwalks refinery killer revealed middle-aged man whose cruel disposition unattractive appearance lead become `` judge ''",
           "drama",
           "-1"
          ],
          [
           "agimat bong revilla jr. married girlfriend sam pinto defeated barbaric tribe speaks reverse decided live earth alongside enteng vic sotto family experience family life meanwhile ako judy ann santos fairy disguises environmental activist along minions including pink hulk john lapus octopus-looking enemies arrive via spaceship infecting enslaving barbarian tribe agimat defeated turning monsters trying pollute earth corruption 's enteng agimat ako defeat much chagrin men 's respective wives",
           "fantasy, comedy, adventure",
           "-1"
          ],
          [
           "young filmmaker timothy jonathan welsh screen play orphan dog search loving family film investors force timothy making movie sex violence jim carrey plays small silent role naked cameraman ralph parker",
           "comedy",
           "-1"
          ],
          [
           "prospective settler pioneer bob davis gunned hired guns grif brag work saloonkeeper prospective land baron harvey `` deacon '' grimes killing witnessed insurance investigator rocky lane decides go undercover help dead man 's daughter susie rancher 's daughter gail warren gets acquainted rocky inadvertently reveals true identity grimes men rocky able prevail however leaves town promising come back",
           "western",
           "-1"
          ],
          [
           "julia hemingway ina skriver credited christina world british female mercenary hired wealthy businessman charlie whitlock order help eliminate competition purchase oil fields saudi arabia hemingway coordinates team 3 sexy women go undercover complete task unaware whitlock plans double crossing wo n't pay services 2",
           "thriller",
           "-1"
          ],
          [
           "russian general marenkov robert shaw decides defect west cia agent harry wargrave lee marvin leads team get wargrave decides marenkov travel across europe train fictional `` avalanche express '' idea lure russians attacking train thus discover secret agents europe consequently train journey must survive terrorist attack avalanche planned russian spy-catcher nikolai bunin maximilian schell",
           "unknown",
           "-1"
          ],
          [
           "small-fry marijuana harvesters northern california try keep business running negotiating biggest sale ever keeping death secret silent partners mafia police meddlers crash party begin realize heads",
           "comedy",
           "-1"
          ],
          [
           "omar sharif plays muhassab headman gad 's son goes mayor migahed rushdy abaza buy expensive scow luxor thieves become aware purchase decide steal money",
           "drama",
           "-1"
          ],
          [
           "young lakota sioux lou diamond phillips adopted wealthy jewish couple ages gets touch cultural roots following death mother",
           "drama",
           "-1"
          ],
          [
           "chain tells story seven households comprise circular property chain various moving company employees tasked assisting household move follows trials tribulations trivial profound household mover guilty one seven deadly sins endures moving process 1994 spin-off series moving story made itv warren clarke played part bamber",
           "comedy",
           "-1"
          ],
          [
           "film set persia 5th century bc king ’ wife murdered esther jewish woman comes attention recently widowed king ahasuerus king trying stifle defeat campaign hatred jews evil minister haman sergio fantoni king pair esther defeat villainous haman several intervening adventures additional attractive woman competes attention 2",
           "biblical",
           "-1"
          ],
          [
           "hans young german journalist arrives london write article au-pair girls requested friends investigate whereabouts teenage daughter greta interviews four individuals paint distinctly different pictures missing girl revealing different aspect dimension reminiscences constitute film 's 3-d sequences hans finally tracks greta discovers kidnapped east end gangster 3 1",
           "sex comedy",
           "-1"
          ],
          [
           "drama tells lawyer joe morse garfield working powerful gangster tucker wishes consolidate control numbers racket new york means assuming control many smaller numbers rackets one run morse ’ older brother leo morse thomas gomez plot unfolds terse melodramatic thriller notable realist location photography almost poetic dialogue frequent biblical allusions cain abel judas 's betrayal stigmata",
           "crime drama",
           "-1"
          ],
          [
           "nick nora charles looking forward relaxing day racetrack jockey accused throwing race found shot death police lieutenant abrams requests nick 's help trail leads gambling syndicate operates wrestling arena murdered reporter pretty secretary whose boyfriend framed along way nick nora must contend wild wrestling match dizzying day merry-go-round accompanied nick jr. table-clearing restaurant brawl",
           "mystery",
           "-1"
          ],
          [
           "leslie troubled 1960s teenager eventually becomes follower charles manson charged convicted sentenced death august 1969 murders leno rosemary labianca story revolves around young juror perry becomes infatuated leslie trial",
           "drama",
           "-1"
          ],
          [
           "hajj rascally beggar periphery court baghdad schemes marry daughter royalty win heart queen castle",
           "costume drama",
           "-1"
          ],
          [
           "big-league baseball players jerry jack also pretty good singing perform vaudeville show fall love mary dancer second woman tries come next world series",
           "musical",
           "-1"
          ],
          [
           "five rival oil companies vying offshore rights chief geologists begin dying suspicious circumstances troubleshooter blake heller brought one firm investigate resulting almost immediate attempts life well heller takes particular interest two women one neighbor treva saint stock holdings oil company peggy lido nightclub singer eventually realizes peggy boyfriend paul kimmel behind killings peggy gaining revenge former husband 's business schemes",
           "crime drama",
           "-1"
          ],
          [
           "rakta bandhan family drama/action film starring mithun chakraborty double role well supported rati agnihotri surinder kaur dina pathak jagdeep plays twin brothers chandan trishul singh separated young age grow different circumstances chandan grows become simpleton villager trishul becomes dacoit brothers lives intertwined reunited forms plot film",
           "unknown",
           "-1"
          ],
          [
           "harry england michael crawford british car salesman trip france meets baroness `` danny '' genevieve gilles rolls-royce breaks spend days together become lovers disappears one night harry know surname baron curd jürgens hires harry teach teenage son cars country estate harry encounters baroness affair continues harry falls love asks baroness leave baron taken lady",
           "comedy",
           "-1"
          ],
          [
           "marappan anandaraj rebel leader 'puratchi padai rebel group kills corrupted politicians spoil poor 's lives whereas corrupted politician valluvadasan radha ravi misuses name perpetrates murders innocent people name vivekanandan sarath babu ips officer lives happily wife raadhika son vivekanandan charged arrest members 'puratchi padai",
           "unknown",
           "-1"
          ],
          [
           "mother killed mission twenty years ago thailand fa eliza sam decides join police academy hong kong meets 5 new friends played anita chui cathryn lee mandy ho joyce cheng jeana ho failing graduate six women given opportunity join formerly disbanded all-female elite force hunt terrorist gu zhi jin man killed fa 's mother group female agents led friend fa 's mother go undercover malaysia 4 5 6",
           "action / comedy",
           "-1"
          ],
          [
           "`` illustrated press '' society editor lorelei kilbourne hillary brooke assigned police case crusading newspaper editor steve kilgore suspects hard-luck suspect harry hilton frank wilcox framed murder rap lorelei steve proceed help police solve crime time uncovering conspiracy bring building firm bankruptcy",
           "drama",
           "-1"
          ],
          [
           "infamous jewel thief flambeau paul lukas steals stones diamond cross father brown walter connolly 's church crime solving cleric fights retrieve gems also save soul elusive flambeau",
           "mystery",
           "-1"
          ],
          [
           "raised uncle wu sanxing wang jingchun wu xie luhan fascinated old architecture antiques family got special piece bronze accident dug deeper traced found lost kingdom buried basin north-west china named xiwangmu dynasty thus wu ’ family recruited group expert raiders including mysterious stranger name zhang qiling jing boran went deep ruins ancient city",
           "fantasy / adventure",
           "-1"
          ],
          [
           "newly transferred college student lily becomes friends violet heather rose clique run campus suicide prevention centre course film four girls date less attractive men order help men 's confidence try clean `` unhygenic '' doar dorm clash editor campus newspaper daily complainer wants close `` elitist '' roman letters fraternities finally try start new dance craze called sambola",
           "dramedy",
           "-1"
          ],
          [
           "girl inherit fortune missing africa family charges congo bill adventurer find bring back civilization follows legend mysterious white queen path full difficulties inhospitable jungle man lose fortune girl found alive ...",
           "adventure, serial",
           "-1"
          ],
          [
           "teenager jackie knowles richard attenborough drives getaway car robbery captured sentenced serve three years borstal institution run sympathetic governor jack warner befriends alfie dirk bogarde bill jimmy hanley",
           "drama",
           "-1"
          ],
          [
           "alli manorama veritable jungle queen rescues rajangam r. s. manohar gang robbers attack forest loses heart turns rifle toting heroine force marry gun point villain abducts rajangam 's brother ransom 's alli comes rescues events unite couple forms rest movie 1",
           "unknown",
           "-1"
          ],
          [
           "new gas formula used deadly weapon invented pioneering british scientist draws interest shadowy peace movement masks sinister intent 2",
           "crime",
           "-1"
          ],
          [
           "film takes place antarctica centering around rescue team sent routledge research station investigate research team 's lack communication outside world team discovers survivors research station finds diary describes research team 's last days diary goes research team 's growing malcontent paranoia team picked one one mysterious killer 3",
           "unknown",
           "-1"
          ],
          [
           "raja 10-year-old tourist guide mahabalipuram elder sculptor small rock sculpture tablet engraved adages raja enters discussion wondering pearls wisdom still hold relevance sculptor tells sayings eternal immortal unconvinced raja sets find truth ultimately realises sayings still valid",
           "unknown",
           "-1"
          ],
          [
           "crash landing follows tense hours board stricken passenger aircraft routine flight shanghai beijing shortly taking pilot shao bing discovers plane 's landing gear unable retracted unable continue unable land flight attendant wife xu fan forced circle shanghai meanwhile ground troubleshooter yong called see get aircraft safely back ground",
           "action/thriller",
           "-1"
          ],
          [
           "desperate attempt save faltering marriage 55-year-old barbara sawyer submits full-body plastic surgery swiss clinic checks exclusive ski resort cortina d'ampezzo await arrival attorney husband mark reveling considerably younger tauter appearance allows playboy erich seduce mark finally arrives makes announcement changes barbara 's initial plans forever",
           "drama",
           "-1"
          ],
          [
           "rajini 's parents killed thengai srinivasan adopted brought rich man many years rajini finds thengai srinivasan stealing body parts especially eyes rajini takes revenge forms crux story",
           "unknown",
           "-1"
          ],
          [
           "andy lee bowman janie jean arthur anderson seated opposite sides court room filing divorce judge render verdict janie 's father charles coburn makes suggestion attempt save marriage william suggests couple return san francisco met year half ago four days retrace steps include getting married",
           "comedy",
           "-1"
          ],
          [
           "small midwestern town thrown chaos local oil tycoon duke stuyvesant orchestrates phony oil shortage order increase profits news reporter jane beardsley tries uncover plot radio dj nick noz observing station 's news helicopter reports craziness caused gasoline shortage",
           "comedy",
           "-1"
          ],
          [
           "rosalind dee decarlo cafe singer striving enter high society rosalind stumbles upon large amount money lucky means rosalind forms partnership gambling-club owners wade evans zachary scott cyril mace kurt kasznar building establishment gathering place elite along way attempts rekindle romance randy playboy doug duryea howard duff soon lured rev kelly rand james arness comes save rosalind troubles",
           "film noir",
           "-1"
          ],
          [
           "leonard maltin `` cute comic mystery ... robson hoot rough-riding nevadan straps six-shooters turns sleuth clear granddaughter trumped-up murder charge ''",
           "comedy",
           "-1"
          ],
          [
           "anand major military ranvir karan salim best commandos military operation samrat arms dealer drug mafia anand loses leg forced retire returns home-town opens garage one day samrat gang members kill handicapped anand karan rajvir salim decide take revenge start making inquiries find samrat responsible anand 's death trio decide destroy samrat 's empire kill",
           "action",
           "-1"
          ],
          [
           "pudhayal imaginary gold buried beach vellaiambalam balaiah covets padmini sivaji meet talk father m.k radha sri lanka implicated mother ’ murder imprisoned padmini sister thangam come india sister dies ’ believed drowned body lies sand vellaiambalam overhears word ‘ thangam ’ ‘ gold ’ tamil believes fortune buried",
           "unknown",
           "-1"
          ],
          [
           "american gambler nick cain raft arrives town san paola befriends shoe-shine boy toni staiola discovers framed murder american treasury agent escapes kay wonderly gray abandoned village leaving hide cain gets help massine goldner trust uncovers international counterfeiting ring members responsible murder",
           "crime",
           "-1"
          ],
          [
           "first act film covers lincoln 's early life storekeeper rail-splitter new salem early romance ann rutledge early years lawyer courtship marriage mary todd springfield majority film deals lincoln 's presidency american civil war culminates lee 's surrender lincoln 's assassination ford 's theatre",
           "drama",
           "-1"
          ],
          [
           "wilmington delaware anna thompson sells beauty products doctors company lets go performance par chain smoker bulimic feels need run away life narrowly misses victim armed robbery store gets bus travels family used vacation cottage massachusetts along way meets travis calls danny also running away problems",
           "drama",
           "-1"
          ],
          [
           "restaurant carla davenport restaurant cashier charlie archenault driving-school teacher bruce laraby emergency room physician annie hagen father best friend jimmy jasperson suddenly hear gunshots annie jimmy retreat table suicidal gunman shoots several people including annie 's father film shows aftermath five traumatized people struggle regain trust ordinary world 4",
           "drama",
           "-1"
          ],
          [
           "seven young freedom fighters heavily armed covering ground looking enemy twenty-one leader eldest tanza twelve joined group witnessing massacre family bathing river middle forest trying forget lives soldiers unaware short time one dead one sent blow school hours children like arriving",
           "unknown",
           "-1"
          ],
          [
           "middle blizzard young woman takes shelter house owned former racing driver still recovering accident years 1",
           "drama",
           "-1"
          ],
          [
           "chad jimmie rodgers confused young man growing 1860s kentucky sheltered brutal guardian friendly schoolmaster learns love tiny village kingdom come inclination leaving american civil war breaks finds odds friends joining union army wartime experiences force chad grow hurry returns kingdom come whole new outlook future existence 5",
           "drama",
           "-1"
          ],
          [
           "midget george wilson pulls strings obtain job circus mary hungarian lady 's fallen madly love mary happy job singing lions although likes george feelings circus owner joe harrop stronger jealousy tensions caused affect running circus",
           "drama",
           "-1"
          ],
          [
           "film plays three first-season episodes edited together single story `` benefit '' `` breaking lease '' `` ballet '' new footage included episodes help transition episodes one coherent storyline series routinely took format filming scenes chronological order adds `` show within show within show '' format film viewers watch cast perform episodes live film ends `` curtain call '' cast comes arnaz thanks audience support 1",
           "comedy",
           "-1"
          ],
          [
           "story revolves around rich man s. v. ranga rao two sons k. balaji s. s. rajendran daughter mynavathi father gambler elder son balaji womaniser alcoholic however ends marrying traditional woman pandari bai takes upon reform family family maid devika takes care younger son rajendran two marry blessings family 1",
           "unknown",
           "-1"
          ],
          [
           "daniels final silent film 3 plays dorothy winston heiress sets become newspaper reporter breaks big story finds peril 4",
           "romantic comedy",
           "-1"
          ],
          [
           "sachin joshi kabaddi player loved girl also married marriage first night kill wife goes jail proofs showing joshi killer story revolves around happened next",
           "action",
           "-1"
          ],
          [
           "two sailors conned buying lame race-horse go ashore sort problem realize horse one pair identical twins plan revenge becomes complicated",
           "comedy",
           "-1"
          ],
          [
           "story revolves around young woman hema malini plays five different characters film – sapna padma champabai dream girl rajkumari steal money order maintain home orphans",
           "unknown",
           "-1"
          ],
          [
           "lonely old man makes living potter saves life young woman two marry son woman 's old lover finds runs away old potter commits suicide years later woman beggar returns old home visits son old potter 's grave based novel 5",
           "literary drama",
           "-1"
          ],
          [
           "big fella set docks streets marseilles paul robeson stars leading role street-wise honest dockworker struggles deep issues integrity human values elisabeth welch plays opposite café singer love robeson 's wife eslanda robeson appears café owner 1",
           "musical/drama",
           "-1"
          ],
          [
           "remote undeveloped eastern black sea region six-year-old boy yusuf wanders woods searching lost father trying make sense life 5 father beekeeper whose bees disappeared unexpectedly threatening livelihood 5 bizarre accident kills father 8 little dialogue music film 5 three main characters yusuf parents fairly taciturn soundtrack filled sounds forest creatures live 9 environment recurring theme 10",
           "drama",
           "-1"
          ],
          [
           "year 1999 machine empire baranoia led emperor bacchushund invades earth intention wiping human life bringing machine rule chief counsellor miura revives super energies born lost civilization pangaea assembling pieces stone plate uncovered three years previously reveals secrets `` super power '' enlisting elite five-man team united airforce 's finest pilots miura builds pyramid generate tetrahedron power order allow five uaoh officers transform ohrangers stop baranoia 's invasion",
           "tokusatsu",
           "-1"
          ],
          [
           "movie ilangovan aka ilango parthiban middle-class youth dreams get sister kavitha mallika married millionaire keen becoming rich falls love roopa lakshmi rai daughter rich industrialist ilango comes across chellappa vadivelu petty thief takes fun ride sequence events makes ilango realize money everything life help chellappa finally works get sister married boy loves",
           "comedy",
           "-1"
          ],
          [
           "bonnie connie jones showgirls also sisters sick tired new york well getting anywhere quitting broadway sisters decided travel paris become famous find true love",
           "musical",
           "-1"
          ],
          [
           "alvin roberts lee tracy feuds bunny harmon dick powell singer roberts reports society people expecting i.e going child one report antagonizes gangster delicate situation sends henchman threaten roberts manages turn tables gangster",
           "comedy",
           "-1"
          ],
          [
           "jean paurel famous opera star agrees help diana page career order take advantage instead finds falling love",
           "drama",
           "-1"
          ],
          [
           "stephanie lyn wilde terry lee wilde two identical twins split since parents divorced seven years envies life style decide without telling jeff preston foster mary gail patrick switch families day two",
           "comedy",
           "-1"
          ],
          [
           "kiira seems like ordinary young girl likes dress differentiates others vampire never told anyone secret including first love tetsu parents died kiira 12 years old needed live relatives lost contact tetsu 8 years later tetsu appears bakery kiira works ... 3",
           "vampire film",
           "-1"
          ],
          [
           "human exploitation natural resources arctic environment completely destroyed leaving last polar bear survive human girl named jessica adopts polar bear names backkom",
           "comedy / animation / family / adventure",
           "-1"
          ],
          [
           "two brothers become involved criminals planning major art heist framed theft film available dvd released renown pictures 2013",
           "crime",
           "-1"
          ],
          [
           "napoleon bonaparte charles boyer launches unsuccessful seduction countess marie walewska greta garbo married much older man henry stephenson resists convinced giving save poland husband annuls marriage napoleon divorces empress josephine pair free formalize happy relationship napoleon shocks announcing decision wed archduchess marie louise austria political reasons n't expect impact relationship marie leaves without ever telling expecting child",
           "drama",
           "-1"
          ],
          [
           "young brother two police officers borrows one uniforms masquerading cop accidentally assists group criminals committing burglary fortunately able capture culprits deliver real police",
           "comedy",
           "-1"
          ],
          [
           "story centres murder judge s. p. ravanan varghese kalabhavan mani hunts killers popularly known ravanan aggressive belligerent style behaviour brainy brawny super cop begins investigation jagathy sreekumar plays sub-inspector assisting case ravanan solves murder mystery forms rest story",
           "unknown",
           "-1"
          ],
          [
           "jennie hagan swanson waitress dreams becoming star real theatrical diva astor arrives town jennie schemes get part stage",
           "comedy",
           "-1"
          ],
          [
           "political journalist jayadev meka srikanth unearths several scams made politician ahuti prasad turn invites bribe idealistic jayadev refuses relent discuss group naxals attack politician kill jayadev held hostage along jayadev group maoists led gogi ajay head base camp dense forest journey ideologies tested good bad exposed dramatic way",
           "action",
           "-1"
          ],
          [
           "two persons namely ajay prem come remote village go night staying nearby guest house railway station foggy night surprisingly series murders happen immediately arrival time every night sari clad lady roams area burial ground police suspect ajay arrest charge murders escapes police custody solve murder mystery",
           "unknown",
           "-1"
          ],
          [
           "story corpse found dvd room tae-jung kyung-soo part-timer works store owner store doo-shik shin ha-kyun trying sell room keep secret hidden 4 5",
           "unknown",
           "-1"
          ],
          [
           "jack ripper school period setting gaslit london time mysterious killer terror murdering policemen lawford plays handsome gentleman thief nicholas revel gets involved murders theft valuable emerald treatment seldom serious yet smartly resolved supporting cast british stalwarts",
           "mystery",
           "-1"
          ],
          [
           "film revolves around manin protagonist meenakshi k. r. vijaya rises ordinary housewife become mayor trials tribulations face maintain balance work home",
           "unknown",
           "-1"
          ],
          [
           "anand shivrajkumar nicknamed `` kaddipudi '' grandmother used sell tobacco products associated shady politician sharath lohitashwa whose rivalry others resulted many deaths unwittingly caught crossfire even attempts relinquish life crime lead normal life saint form police officer helps quest forces would let normal life entanglement web fraud deceit forms story",
           "unknown",
           "-1"
          ],
          [
           "vijay mgr carefree selfish college student first much interested driving car fast driving fast one day meets accident person dies tragic event vijay going transformed become aware become full kindness tuned next one later becomes guardian victim 's family story",
           "unknown",
           "-1"
          ],
          [
           "story follows group men traveling duck hunt northwest one charlie hoping travel forget grief son 's death vietnam learns young member party david deserter charlie goes berserk hunts david",
           "thriller",
           "-1"
          ],
          [
           "four friends go fishing trip three return absence four years fourth man philip vickers returns home amnesiac tells `` friend '' knocked drugged left die one remaining men could suspect job crandall bill saul harry bryce interested philip 's attractive widow angie unfortunately philip 's return coincides murder becomes main suspect angie joins forces husband help solve mystery clear name",
           "drama",
           "-1"
          ],
          [
           "man loses memory kidnapped 19 days younger brother determined seek truth surrounding mystery kidnapping brother portrays mysteries linger return",
           "unknown",
           "-1"
          ],
          [
           "court-martialed discharged navy captain bell rock hudson turns drink reduced skippering rundown brigantine south seas takes board disparate group passengers crew including prostitute show-biz entrepreneur missionary washed opera singer couple refugees storm sea true characters board revealed",
           "adventure",
           "-1"
          ],
          [
           "quiet english town schoolgirl betty kane ann stephens claims owners isolated house spinster marion sharpe dulcie gray marion 's mother marjorie fielding kidnapped beat police believe betty 's story local lawyer robert blair michael denison bachelor sceptical risking ostracism community blair quietly sets proving innocence two women",
           "thriller",
           "-1"
          ],
          [
           "following series robberies k railroad detective tom gordon tom mix hired uncover mystery disguised bandit tom boards train k president cullen cullen 's daughter madge senses tom criminal soon falls love madge sought burton carl miller father 's secretary league bandits tom eventually discovers duplicity aid tony horse rounds villains wins hand madge",
           "western",
           "-1"
          ],
          [
           "gracie fields laurie dolman lovers together form musical act gracie sings laurie writes songs laurie gets taste fame runs glamorous actress",
           "comedy",
           "-1"
          ],
          [
           "film tells story two brothers jayakrishnan vijayakrishnan quarrel trivial matters like football matches activities local clubs etc vijayakrishnan works town takes jayakrishnan lest create certain problems home earlier vijayakrishnan saved given shelter girl ammu leads problems villainous uppa comes search ammu things take new turn vijayakrishnan even killed jayakrishnan 's love brother makes begin brother ended",
           "unknown",
           "-1"
          ]
         ],
         "hovertemplate": "cluster=%{customdata[2]}<br>x-tsne=%{x}<br>y-tsne=%{y}<br>cleaned_text=%{customdata[0]}<br>label=%{customdata[1]}<extra></extra>",
         "legendgroup": "-1",
         "marker": {
          "color": "#EF553B",
          "symbol": "circle"
         },
         "mode": "markers",
         "name": "-1",
         "orientation": "v",
         "showlegend": true,
         "type": "scatter",
         "x": [
          -3.541018486022949,
          -7.386903285980225,
          -12.414907455444336,
          -12.202765464782715,
          2.400984048843384,
          6.519029140472412,
          15.05556869506836,
          -9.236103057861328,
          10.703437805175781,
          9.37916374206543,
          -21.36250877380371,
          19.286849975585938,
          -18.404104232788086,
          1.7167679071426392,
          -11.979679107666016,
          -9.912848472595215,
          -7.055501461029053,
          19.773027420043945,
          -10.39400577545166,
          7.232339859008789,
          0.3291384279727936,
          6.122893333435059,
          -5.0906243324279785,
          0.5935494303703308,
          -6.802555084228516,
          2.8684287071228027,
          -9.555842399597168,
          10.170613288879395,
          0.04272686690092087,
          4.261369705200195,
          -15.315720558166504,
          -4.759962558746338,
          10.52133846282959,
          -21.36316680908203,
          -9.69793701171875,
          -14.818196296691895,
          -11.334671974182129,
          -3.67055606842041,
          -9.365360260009766,
          -15.06737232208252,
          10.885571479797363,
          4.133223533630371,
          6.859381198883057,
          1.0256983041763306,
          14.13563060760498,
          -7.7899627685546875,
          -17.885517120361328,
          -20.10967254638672,
          0.7207021117210388,
          -7.330031871795654,
          1.4762299060821533,
          15.130836486816406,
          -11.149721145629883,
          6.075677394866943,
          -18.807071685791016,
          -6.5487589836120605,
          6.984147071838379,
          -6.2333526611328125,
          -1.4639328718185425,
          3.7326910495758057,
          17.85972785949707,
          3.796139717102051,
          4.0405354499816895,
          -7.655555725097656,
          4.451868534088135,
          -13.403449058532715,
          10.616388320922852,
          0.6886231303215027,
          -5.02023458480835,
          3.734266519546509,
          7.811325550079346,
          -7.126325607299805,
          0.6815193295478821,
          -15.192366600036621,
          -7.700482368469238,
          -7.994258880615234,
          10.469046592712402,
          13.989282608032227,
          19.060007095336914,
          -18.440351486206055,
          -20.329862594604492,
          -3.315253257751465,
          1.373146891593933,
          10.491466522216797,
          3.9577393531799316,
          5.6894731521606445,
          6.804184436798096,
          2.1203315258026123,
          -8.618443489074707,
          12.269396781921387,
          -2.275540590286255,
          4.809753894805908,
          2.264615297317505,
          -2.503451108932495,
          0.5361200571060181,
          -4.680099964141846,
          9.263174057006836,
          -16.090089797973633,
          3.2667386531829834,
          10.833749771118164,
          -0.33859285712242126,
          -21.60548210144043,
          3.749079704284668,
          -4.588180065155029,
          -2.3296866416931152,
          -0.34941792488098145,
          20.50084114074707,
          -5.583014488220215,
          -1.6707452535629272,
          8.74201774597168,
          1.390874981880188,
          -12.483210563659668,
          -11.119277954101562,
          2.434488296508789,
          -7.492591381072998,
          12.004380226135254,
          -13.052671432495117,
          -12.845486640930176,
          5.073230743408203,
          -2.8263533115386963,
          6.367143630981445,
          -5.860143661499023,
          -1.214135766029358,
          -2.6403510570526123,
          -15.22735595703125,
          -4.822111129760742,
          8.346721649169922,
          8.587793350219727,
          -4.290935516357422,
          18.490062713623047,
          -6.988360404968262,
          6.815711498260498,
          9.96890640258789,
          17.794313430786133,
          11.590006828308105,
          10.904732704162598,
          1.6528500318527222,
          -7.750223159790039,
          -6.717458248138428,
          0.9628674387931824,
          -10.20840835571289,
          -1.611991286277771,
          -1.896623969078064,
          -11.743583679199219,
          -16.914501190185547,
          -5.941923141479492,
          -5.323602676391602,
          -10.876293182373047,
          5.619218349456787,
          -20.124380111694336,
          -2.7753872871398926,
          13.400392532348633,
          -0.14486974477767944,
          8.021702766418457,
          -4.006363868713379,
          7.300766944885254,
          18.46133041381836,
          -16.77413558959961,
          20.113523483276367,
          16.791183471679688,
          -4.393986701965332,
          -19.031709671020508,
          -1.976441740989685,
          -6.176675796508789,
          -1.7944444417953491,
          -0.4017084836959839,
          -8.31869125366211,
          13.932130813598633,
          -2.851646661758423,
          17.020170211791992,
          11.724309921264648,
          -1.8930878639221191,
          -1.8997834920883179,
          -10.851694107055664,
          -6.736739158630371,
          7.42645263671875,
          5.467660903930664,
          -12.735422134399414,
          -6.303798675537109,
          8.207488059997559,
          -11.06212329864502,
          18.10894775390625,
          4.331207752227783,
          -9.42832088470459,
          -5.1707916259765625,
          -13.991294860839844,
          -8.607973098754883,
          -5.859924793243408,
          10.882740020751953,
          0.48537129163742065,
          -2.0895309448242188,
          9.526034355163574,
          -4.436183929443359,
          -6.705361366271973,
          -14.742088317871094,
          -10.478960990905762,
          0.6173951625823975,
          12.796135902404785,
          14.041516304016113,
          8.189833641052246,
          -21.40406608581543,
          14.198745727539062,
          11.889915466308594,
          20.012020111083984,
          -8.937294960021973,
          -1.5649933815002441,
          -16.189043045043945,
          1.0669130086898804,
          12.253113746643066,
          1.2565631866455078,
          -21.653396606445312,
          3.755789041519165,
          14.830755233764648,
          15.007698059082031,
          3.4088754653930664
         ],
         "xaxis": "x",
         "y": [
          9.219606399536133,
          13.995339393615723,
          -17.982324600219727,
          -9.874470710754395,
          2.3273086547851562,
          3.5725460052490234,
          -4.172256946563721,
          -4.673600673675537,
          -17.522876739501953,
          13.695862770080566,
          -8.752888679504395,
          1.3869383335113525,
          -4.160220623016357,
          20.102628707885742,
          -5.806525707244873,
          1.4573954343795776,
          -19.53999137878418,
          -6.292689323425293,
          6.247211456298828,
          -13.397723197937012,
          8.284236907958984,
          -5.563235282897949,
          -4.8028950691223145,
          -6.675870418548584,
          15.30575180053711,
          -8.850998878479004,
          12.730205535888672,
          -7.565408706665039,
          10.915414810180664,
          -14.509651184082031,
          10.204567909240723,
          -3.3523001670837402,
          -10.272147178649902,
          -8.674627304077148,
          4.870395660400391,
          -3.690861463546753,
          13.339762687683105,
          -6.325277328491211,
          -6.4661407470703125,
          -1.3419950008392334,
          0.45885610580444336,
          2.1351447105407715,
          8.037631034851074,
          -4.039414882659912,
          -7.723825931549072,
          -3.5769002437591553,
          -11.716373443603516,
          2.920187473297119,
          -5.014238357543945,
          4.619071960449219,
          1.335577130317688,
          9.975436210632324,
          -12.719916343688965,
          2.834430694580078,
          -2.6630361080169678,
          0.12208619713783264,
          0.2946106791496277,
          -5.7811360359191895,
          -3.5266997814178467,
          12.754344940185547,
          -7.95222806930542,
          -0.9477056264877319,
          19.06611442565918,
          -19.105449676513672,
          5.75746488571167,
          -0.09247393161058426,
          -1.1226565837860107,
          -1.193910837173462,
          15.531253814697266,
          8.510005950927734,
          -6.234376430511475,
          -11.527117729187012,
          -20.01573371887207,
          -5.181835174560547,
          2.942091464996338,
          -12.305008888244629,
          -6.503629684448242,
          -6.725497722625732,
          -5.163394927978516,
          -2.379767656326294,
          2.7059292793273926,
          1.9817144870758057,
          -14.9100980758667,
          -3.929786443710327,
          9.753337860107422,
          -18.485700607299805,
          -13.22187614440918,
          -11.982067108154297,
          -7.381900787353516,
          10.865334510803223,
          11.137639045715332,
          5.709900379180908,
          -2.245711088180542,
          6.8391313552856445,
          6.62352180480957,
          -11.346323013305664,
          3.7044169902801514,
          1.8099311590194702,
          -13.926057815551758,
          7.058010101318359,
          2.654855251312256,
          6.509756565093994,
          0.8564918041229248,
          12.426736831665039,
          -9.168257713317871,
          -14.547322273254395,
          -6.543358325958252,
          -2.151860475540161,
          1.420541524887085,
          10.293951988220215,
          -7.077664375305176,
          3.7539846897125244,
          17.4403076171875,
          -1.5671842098236084,
          0.00371762877330184,
          -16.150901794433594,
          6.857827186584473,
          -13.000910758972168,
          -16.00794792175293,
          -17.395448684692383,
          -8.716384887695312,
          -21.52161979675293,
          8.974275588989258,
          -4.082107067108154,
          -5.817254543304443,
          -15.574417114257812,
          -13.404831886291504,
          -0.325190931558609,
          5.156071186065674,
          2.146355628967285,
          -18.507055282592773,
          11.140507698059082,
          1.128179669380188,
          6.497287750244141,
          -16.63235855102539,
          7.825791358947754,
          4.192938327789307,
          -3.1526737213134766,
          6.936373710632324,
          -20.244714736938477,
          10.280892372131348,
          -0.9696106910705566,
          -9.311887741088867,
          8.003701210021973,
          -9.712539672851562,
          17.74359893798828,
          -15.670238494873047,
          16.9433650970459,
          -18.32196617126465,
          -2.6685361862182617,
          -4.324512958526611,
          2.3638064861297607,
          -6.808823108673096,
          5.757569313049316,
          7.070435523986816,
          7.777958869934082,
          -3.788109302520752,
          -9.47484016418457,
          6.698504447937012,
          6.046688079833984,
          -10.566264152526855,
          8.458883285522461,
          -12.29202651977539,
          2.3132550716400146,
          -12.39569091796875,
          -9.364157676696777,
          -12.611530303955078,
          -2.324429988861084,
          2.383044719696045,
          -8.739216804504395,
          -5.013080596923828,
          16.836849212646484,
          -17.814796447753906,
          -9.004162788391113,
          5.361155033111572,
          -4.086358070373535,
          16.804067611694336,
          -17.94129753112793,
          15.788762092590332,
          -0.3756110370159149,
          13.20261001586914,
          0.02597973495721817,
          2.4777004718780518,
          9.08602523803711,
          -7.915300369262695,
          11.588761329650879,
          -7.980990886688232,
          -21.520984649658203,
          -10.493766784667969,
          0.2933058738708496,
          -1.2795078754425049,
          3.84134840965271,
          -0.33492863178253174,
          -7.7350993156433105,
          10.705172538757324,
          17.300256729125977,
          -12.035140037536621,
          3.1795384883880615,
          -2.585969924926758,
          -9.918386459350586,
          -2.616983413696289,
          1.5389724969863892,
          9.06200122833252,
          3.8034486770629883,
          8.598322868347168,
          5.2796854972839355,
          1.643870234489441,
          5.107887268066406,
          0.8702974319458008,
          -15.41646671295166,
          7.47170352935791,
          -4.424614906311035,
          5.625633716583252,
          10.354347229003906,
          5.992099761962891
         ],
         "yaxis": "y"
        },
        {
         "customdata": [
          [
           "police inspector holloway patrick wymark investigates string murders victims dolls attached bodies trail soon leads disabled german woman named mrs. von sturm margaret johnston knows set dark secrets may hold key murders",
           "mystery",
           "1"
          ],
          [
           "film set 1918 unnamed small town widow lupino impulsively hires handyman ryan look house soon learns ryan dangerous schizophrenic time comes realization unable leave house escape",
           "film noir",
           "1"
          ],
          [
           "christopher lustful man goes remote village stay guest house valuable ring finger guest house owner murders cut hand ring bury corpse dead hand revives evil power avenge",
           "horror",
           "1"
          ],
          [
           "jeff hassard dean jagger son ring audie murphy lead isolated existence mountains breaking horses jeff wanted murder commit lives interrupted stumble upon young woman riley wanda hendrix jeff injured ring go town get help",
           "western",
           "1"
          ],
          [
           "los angeles police force down-on-her-luck businesswoman-turned-prostitute `` princess '' help capture murderous pimp named ramrod 's princess 's life put line soon escaped killer vice squad detective tom walsh team hard pressed keep woman safe",
           "thriller",
           "1"
          ],
          [
           "two college girls ducky ginger meet naive friend sarah southern california beach house house belongs sarah 's uncle luck allowed use house summer gone soon ducky ginger arrive two plan first many wild parties without resistance sarah two continue plans partying including inviting assorted misfits delivery persons people passing eventually sarah 's resistance fades joins wild parties",
           "comedy",
           "1"
          ],
          [
           "story revolves around evil politician – junior minister plots murder chief minister hired killer assassination chief minister killer pursued idealistic dedicated police chief killer takes shelter house physically challenged girl residing killer takes hostage killer remembers past average student converted killer though film songs background music film especially chase sequence lauded critics",
           "drama, thriller",
           "1"
          ],
          [
           "young woman goes stay house lord lebanon two murders quick succession lead arrival detectives cause woman fear life 2",
           "thriller",
           "1"
          ],
          [
           "spirit `` patrick '' haunts house lonely country road house inherited jean linton whose husband david unreliable heavy-drinking would-be author believing house valuable wishing inherit david plans local sexpot mrs stockley dispose jean `` patrick '' ideas ......",
           "thriller",
           "1"
          ]
         ],
         "hovertemplate": "cluster=%{customdata[2]}<br>x-tsne=%{x}<br>y-tsne=%{y}<br>cleaned_text=%{customdata[0]}<br>label=%{customdata[1]}<extra></extra>",
         "legendgroup": "1",
         "marker": {
          "color": "#00cc96",
          "symbol": "circle"
         },
         "mode": "markers",
         "name": "1",
         "orientation": "v",
         "showlegend": true,
         "type": "scatter",
         "x": [
          15.155308723449707,
          5.272614002227783,
          9.248263359069824,
          10.747241973876953,
          15.39930248260498,
          5.293907165527344,
          18.912189483642578,
          7.635998725891113,
          5.910867214202881
         ],
         "xaxis": "x",
         "y": [
          0.8698877692222595,
          -3.2568674087524414,
          -4.681312561035156,
          -4.89831018447876,
          5.015349388122559,
          -2.3210270404815674,
          1.355072259902954,
          -5.307333469390869,
          -2.4840357303619385
         ],
         "yaxis": "y"
        }
       ],
       "layout": {
        "height": 1200,
        "legend": {
         "title": {
          "text": "cluster"
         },
         "tracegroupgap": 0
        },
        "template": {
         "data": {
          "bar": [
           {
            "error_x": {
             "color": "#2a3f5f"
            },
            "error_y": {
             "color": "#2a3f5f"
            },
            "marker": {
             "line": {
              "color": "#E5ECF6",
              "width": 0.5
             },
             "pattern": {
              "fillmode": "overlay",
              "size": 10,
              "solidity": 0.2
             }
            },
            "type": "bar"
           }
          ],
          "barpolar": [
           {
            "marker": {
             "line": {
              "color": "#E5ECF6",
              "width": 0.5
             },
             "pattern": {
              "fillmode": "overlay",
              "size": 10,
              "solidity": 0.2
             }
            },
            "type": "barpolar"
           }
          ],
          "carpet": [
           {
            "aaxis": {
             "endlinecolor": "#2a3f5f",
             "gridcolor": "white",
             "linecolor": "white",
             "minorgridcolor": "white",
             "startlinecolor": "#2a3f5f"
            },
            "baxis": {
             "endlinecolor": "#2a3f5f",
             "gridcolor": "white",
             "linecolor": "white",
             "minorgridcolor": "white",
             "startlinecolor": "#2a3f5f"
            },
            "type": "carpet"
           }
          ],
          "choropleth": [
           {
            "colorbar": {
             "outlinewidth": 0,
             "ticks": ""
            },
            "type": "choropleth"
           }
          ],
          "contour": [
           {
            "colorbar": {
             "outlinewidth": 0,
             "ticks": ""
            },
            "colorscale": [
             [
              0,
              "#0d0887"
             ],
             [
              0.1111111111111111,
              "#46039f"
             ],
             [
              0.2222222222222222,
              "#7201a8"
             ],
             [
              0.3333333333333333,
              "#9c179e"
             ],
             [
              0.4444444444444444,
              "#bd3786"
             ],
             [
              0.5555555555555556,
              "#d8576b"
             ],
             [
              0.6666666666666666,
              "#ed7953"
             ],
             [
              0.7777777777777778,
              "#fb9f3a"
             ],
             [
              0.8888888888888888,
              "#fdca26"
             ],
             [
              1,
              "#f0f921"
             ]
            ],
            "type": "contour"
           }
          ],
          "contourcarpet": [
           {
            "colorbar": {
             "outlinewidth": 0,
             "ticks": ""
            },
            "type": "contourcarpet"
           }
          ],
          "heatmap": [
           {
            "colorbar": {
             "outlinewidth": 0,
             "ticks": ""
            },
            "colorscale": [
             [
              0,
              "#0d0887"
             ],
             [
              0.1111111111111111,
              "#46039f"
             ],
             [
              0.2222222222222222,
              "#7201a8"
             ],
             [
              0.3333333333333333,
              "#9c179e"
             ],
             [
              0.4444444444444444,
              "#bd3786"
             ],
             [
              0.5555555555555556,
              "#d8576b"
             ],
             [
              0.6666666666666666,
              "#ed7953"
             ],
             [
              0.7777777777777778,
              "#fb9f3a"
             ],
             [
              0.8888888888888888,
              "#fdca26"
             ],
             [
              1,
              "#f0f921"
             ]
            ],
            "type": "heatmap"
           }
          ],
          "heatmapgl": [
           {
            "colorbar": {
             "outlinewidth": 0,
             "ticks": ""
            },
            "colorscale": [
             [
              0,
              "#0d0887"
             ],
             [
              0.1111111111111111,
              "#46039f"
             ],
             [
              0.2222222222222222,
              "#7201a8"
             ],
             [
              0.3333333333333333,
              "#9c179e"
             ],
             [
              0.4444444444444444,
              "#bd3786"
             ],
             [
              0.5555555555555556,
              "#d8576b"
             ],
             [
              0.6666666666666666,
              "#ed7953"
             ],
             [
              0.7777777777777778,
              "#fb9f3a"
             ],
             [
              0.8888888888888888,
              "#fdca26"
             ],
             [
              1,
              "#f0f921"
             ]
            ],
            "type": "heatmapgl"
           }
          ],
          "histogram": [
           {
            "marker": {
             "pattern": {
              "fillmode": "overlay",
              "size": 10,
              "solidity": 0.2
             }
            },
            "type": "histogram"
           }
          ],
          "histogram2d": [
           {
            "colorbar": {
             "outlinewidth": 0,
             "ticks": ""
            },
            "colorscale": [
             [
              0,
              "#0d0887"
             ],
             [
              0.1111111111111111,
              "#46039f"
             ],
             [
              0.2222222222222222,
              "#7201a8"
             ],
             [
              0.3333333333333333,
              "#9c179e"
             ],
             [
              0.4444444444444444,
              "#bd3786"
             ],
             [
              0.5555555555555556,
              "#d8576b"
             ],
             [
              0.6666666666666666,
              "#ed7953"
             ],
             [
              0.7777777777777778,
              "#fb9f3a"
             ],
             [
              0.8888888888888888,
              "#fdca26"
             ],
             [
              1,
              "#f0f921"
             ]
            ],
            "type": "histogram2d"
           }
          ],
          "histogram2dcontour": [
           {
            "colorbar": {
             "outlinewidth": 0,
             "ticks": ""
            },
            "colorscale": [
             [
              0,
              "#0d0887"
             ],
             [
              0.1111111111111111,
              "#46039f"
             ],
             [
              0.2222222222222222,
              "#7201a8"
             ],
             [
              0.3333333333333333,
              "#9c179e"
             ],
             [
              0.4444444444444444,
              "#bd3786"
             ],
             [
              0.5555555555555556,
              "#d8576b"
             ],
             [
              0.6666666666666666,
              "#ed7953"
             ],
             [
              0.7777777777777778,
              "#fb9f3a"
             ],
             [
              0.8888888888888888,
              "#fdca26"
             ],
             [
              1,
              "#f0f921"
             ]
            ],
            "type": "histogram2dcontour"
           }
          ],
          "mesh3d": [
           {
            "colorbar": {
             "outlinewidth": 0,
             "ticks": ""
            },
            "type": "mesh3d"
           }
          ],
          "parcoords": [
           {
            "line": {
             "colorbar": {
              "outlinewidth": 0,
              "ticks": ""
             }
            },
            "type": "parcoords"
           }
          ],
          "pie": [
           {
            "automargin": true,
            "type": "pie"
           }
          ],
          "scatter": [
           {
            "fillpattern": {
             "fillmode": "overlay",
             "size": 10,
             "solidity": 0.2
            },
            "type": "scatter"
           }
          ],
          "scatter3d": [
           {
            "line": {
             "colorbar": {
              "outlinewidth": 0,
              "ticks": ""
             }
            },
            "marker": {
             "colorbar": {
              "outlinewidth": 0,
              "ticks": ""
             }
            },
            "type": "scatter3d"
           }
          ],
          "scattercarpet": [
           {
            "marker": {
             "colorbar": {
              "outlinewidth": 0,
              "ticks": ""
             }
            },
            "type": "scattercarpet"
           }
          ],
          "scattergeo": [
           {
            "marker": {
             "colorbar": {
              "outlinewidth": 0,
              "ticks": ""
             }
            },
            "type": "scattergeo"
           }
          ],
          "scattergl": [
           {
            "marker": {
             "colorbar": {
              "outlinewidth": 0,
              "ticks": ""
             }
            },
            "type": "scattergl"
           }
          ],
          "scattermapbox": [
           {
            "marker": {
             "colorbar": {
              "outlinewidth": 0,
              "ticks": ""
             }
            },
            "type": "scattermapbox"
           }
          ],
          "scatterpolar": [
           {
            "marker": {
             "colorbar": {
              "outlinewidth": 0,
              "ticks": ""
             }
            },
            "type": "scatterpolar"
           }
          ],
          "scatterpolargl": [
           {
            "marker": {
             "colorbar": {
              "outlinewidth": 0,
              "ticks": ""
             }
            },
            "type": "scatterpolargl"
           }
          ],
          "scatterternary": [
           {
            "marker": {
             "colorbar": {
              "outlinewidth": 0,
              "ticks": ""
             }
            },
            "type": "scatterternary"
           }
          ],
          "surface": [
           {
            "colorbar": {
             "outlinewidth": 0,
             "ticks": ""
            },
            "colorscale": [
             [
              0,
              "#0d0887"
             ],
             [
              0.1111111111111111,
              "#46039f"
             ],
             [
              0.2222222222222222,
              "#7201a8"
             ],
             [
              0.3333333333333333,
              "#9c179e"
             ],
             [
              0.4444444444444444,
              "#bd3786"
             ],
             [
              0.5555555555555556,
              "#d8576b"
             ],
             [
              0.6666666666666666,
              "#ed7953"
             ],
             [
              0.7777777777777778,
              "#fb9f3a"
             ],
             [
              0.8888888888888888,
              "#fdca26"
             ],
             [
              1,
              "#f0f921"
             ]
            ],
            "type": "surface"
           }
          ],
          "table": [
           {
            "cells": {
             "fill": {
              "color": "#EBF0F8"
             },
             "line": {
              "color": "white"
             }
            },
            "header": {
             "fill": {
              "color": "#C8D4E3"
             },
             "line": {
              "color": "white"
             }
            },
            "type": "table"
           }
          ]
         },
         "layout": {
          "annotationdefaults": {
           "arrowcolor": "#2a3f5f",
           "arrowhead": 0,
           "arrowwidth": 1
          },
          "autotypenumbers": "strict",
          "coloraxis": {
           "colorbar": {
            "outlinewidth": 0,
            "ticks": ""
           }
          },
          "colorscale": {
           "diverging": [
            [
             0,
             "#8e0152"
            ],
            [
             0.1,
             "#c51b7d"
            ],
            [
             0.2,
             "#de77ae"
            ],
            [
             0.3,
             "#f1b6da"
            ],
            [
             0.4,
             "#fde0ef"
            ],
            [
             0.5,
             "#f7f7f7"
            ],
            [
             0.6,
             "#e6f5d0"
            ],
            [
             0.7,
             "#b8e186"
            ],
            [
             0.8,
             "#7fbc41"
            ],
            [
             0.9,
             "#4d9221"
            ],
            [
             1,
             "#276419"
            ]
           ],
           "sequential": [
            [
             0,
             "#0d0887"
            ],
            [
             0.1111111111111111,
             "#46039f"
            ],
            [
             0.2222222222222222,
             "#7201a8"
            ],
            [
             0.3333333333333333,
             "#9c179e"
            ],
            [
             0.4444444444444444,
             "#bd3786"
            ],
            [
             0.5555555555555556,
             "#d8576b"
            ],
            [
             0.6666666666666666,
             "#ed7953"
            ],
            [
             0.7777777777777778,
             "#fb9f3a"
            ],
            [
             0.8888888888888888,
             "#fdca26"
            ],
            [
             1,
             "#f0f921"
            ]
           ],
           "sequentialminus": [
            [
             0,
             "#0d0887"
            ],
            [
             0.1111111111111111,
             "#46039f"
            ],
            [
             0.2222222222222222,
             "#7201a8"
            ],
            [
             0.3333333333333333,
             "#9c179e"
            ],
            [
             0.4444444444444444,
             "#bd3786"
            ],
            [
             0.5555555555555556,
             "#d8576b"
            ],
            [
             0.6666666666666666,
             "#ed7953"
            ],
            [
             0.7777777777777778,
             "#fb9f3a"
            ],
            [
             0.8888888888888888,
             "#fdca26"
            ],
            [
             1,
             "#f0f921"
            ]
           ]
          },
          "colorway": [
           "#636efa",
           "#EF553B",
           "#00cc96",
           "#ab63fa",
           "#FFA15A",
           "#19d3f3",
           "#FF6692",
           "#B6E880",
           "#FF97FF",
           "#FECB52"
          ],
          "font": {
           "color": "#2a3f5f"
          },
          "geo": {
           "bgcolor": "white",
           "lakecolor": "white",
           "landcolor": "#E5ECF6",
           "showlakes": true,
           "showland": true,
           "subunitcolor": "white"
          },
          "hoverlabel": {
           "align": "left"
          },
          "hovermode": "closest",
          "mapbox": {
           "style": "light"
          },
          "paper_bgcolor": "white",
          "plot_bgcolor": "#E5ECF6",
          "polar": {
           "angularaxis": {
            "gridcolor": "white",
            "linecolor": "white",
            "ticks": ""
           },
           "bgcolor": "#E5ECF6",
           "radialaxis": {
            "gridcolor": "white",
            "linecolor": "white",
            "ticks": ""
           }
          },
          "scene": {
           "xaxis": {
            "backgroundcolor": "#E5ECF6",
            "gridcolor": "white",
            "gridwidth": 2,
            "linecolor": "white",
            "showbackground": true,
            "ticks": "",
            "zerolinecolor": "white"
           },
           "yaxis": {
            "backgroundcolor": "#E5ECF6",
            "gridcolor": "white",
            "gridwidth": 2,
            "linecolor": "white",
            "showbackground": true,
            "ticks": "",
            "zerolinecolor": "white"
           },
           "zaxis": {
            "backgroundcolor": "#E5ECF6",
            "gridcolor": "white",
            "gridwidth": 2,
            "linecolor": "white",
            "showbackground": true,
            "ticks": "",
            "zerolinecolor": "white"
           }
          },
          "shapedefaults": {
           "line": {
            "color": "#2a3f5f"
           }
          },
          "ternary": {
           "aaxis": {
            "gridcolor": "white",
            "linecolor": "white",
            "ticks": ""
           },
           "baxis": {
            "gridcolor": "white",
            "linecolor": "white",
            "ticks": ""
           },
           "bgcolor": "#E5ECF6",
           "caxis": {
            "gridcolor": "white",
            "linecolor": "white",
            "ticks": ""
           }
          },
          "title": {
           "x": 0.05
          },
          "xaxis": {
           "automargin": true,
           "gridcolor": "white",
           "linecolor": "white",
           "ticks": "",
           "title": {
            "standoff": 15
           },
           "zerolinecolor": "white",
           "zerolinewidth": 2
          },
          "yaxis": {
           "automargin": true,
           "gridcolor": "white",
           "linecolor": "white",
           "ticks": "",
           "title": {
            "standoff": 15
           },
           "zerolinecolor": "white",
           "zerolinewidth": 2
          }
         }
        },
        "title": {
         "text": "Sentences t-SNE Visualization with TF-IDF Embeddings and HDBSCAN Clustering"
        },
        "width": 1200,
        "xaxis": {
         "anchor": "y",
         "domain": [
          0,
          1
         ],
         "title": {
          "text": "x-tsne"
         }
        },
        "yaxis": {
         "anchor": "x",
         "domain": [
          0,
          1
         ],
         "title": {
          "text": "y-tsne"
         }
        }
       }
      },
      "text/html": [
       "<div>                            <div id=\"14199cb6-20c2-4868-b93e-219c445a5105\" class=\"plotly-graph-div\" style=\"height:1200px; width:1200px;\"></div>            <script type=\"text/javascript\">                require([\"plotly\"], function(Plotly) {                    window.PLOTLYENV=window.PLOTLYENV || {};                                    if (document.getElementById(\"14199cb6-20c2-4868-b93e-219c445a5105\")) {                    Plotly.newPlot(                        \"14199cb6-20c2-4868-b93e-219c445a5105\",                        [{\"customdata\":[[\"film tells story elizabeth colbert john welles married couple recently separated john goes fight world war i. elizabeth receives notice john 's death marries another man george brent john however still alive later returns disfigured war undergone plastic surgery making almost unrecognizable also adopted eight-year old daughter wood finds son elizabeth faced dilemma whether reveal true identity\",\"film noir\",\"0\"],[\"jagathalaprathapan prince punished kingdom expressing desire four celestial maidens indrani nagakumari agnikumari varunakumari however escapes punishment roams disguise company friend meets damsel indirakumari disguise marries settles kingdom whose king falls love wife sends prince away nagaloka order covet jagathalaprathapan however succeeds finding nagakumari nagaloka agnikumari agniloka varunakumari varunaloka succeeds winning wives\",\"unknown\",\"0\"],[\"lewis clark george opens salvator xuereb playing lewis dan gunther clark water tank site wearing prison jump suits scene desert scrub two state prison escapees located buried metal box loaded revolver treasure map cuban cigars road trip begins two hike desert find treasure eventually joined rose mcgowan george\",\"drama\",\"0\"],[\"british tv studio michael rennie performing live dramatic broadcast neighbouring set cabaret singer mikki brent thinks sees coded plot discussed murder rennie friends sceptical warns rennie various adventures investigations ensue\",\"comedy\",\"0\"],[\"mongol chief temujin later known genghis khan falls bortai daughter tartar leader steals away precipitating war bortai spurns temujin taken back raid temujin later captured bortai falls love helps escape temujin suspects betrayed fellow mongol sets find traitor overcome tartars\",\"adventure\",\"0\"],[\"reverend smith arrived starkfield boston notices ethan frome isolated smith encourages parishioners charitable ethan zeena pierce distant cousins marrying zeena ethan falls love mattie silver\",\"drama\",\"0\"],[\"following plot classic opera `` carmen '' story follows wild gypsy 's adventures siren bandit carmen rita hayworth lures innocent soldier glenn ford ruin getting expelled army turns banditry killing carmen 's husband victor jory others drama culminates ending innocent soldier repenting sins dying\",\"drama\",\"0\"],[\"film story outback farmer william mcinnes takes afghani woman monic hendrickx escapes brothel film takes many themes human trafficking sex trade\",\"drama\",\"0\"],[\"world war ii two american fliers captain hank wilson sergeant lucky finder forced bail germany encounter wilhelm frick hides authorities cellar enjoys company much inform war ends instead maintains masquerade convince `` guests '' germany still fighting eventually seven years americans escape peaceful west germany find truth\",\"pow comedy\",\"0\"],[\"film small unit 40 turkish soldiers remote patrol station eastern turkey state near certain death violent times conflict turkish army kurdistan workers party pkk\",\"drama\",\"0\"],[\"balu vijayakumar padma manjula vijayakumar happily married couple teenage daughter manju zeenat one day manju receives love letter unknown person balu hates love wants punish letter sender parents take help neighbour shiva sivakumar find anonymous lover shiva married sukanya jeeva little boy master vijay transpires later forms crux story\",\"unknown\",\"0\"],[\"film account college girl 's frustrations predominantly male patriarchal system egypt released 1959 film captures much feminist sentiments 1960s widespread fervor egypt film 's protagonist aminia played lubna abdel aziz young woman living aunt 's family includes uncle cousin men life reinforce themes male dominance film restriction life\",\"drama\",\"0\"],[\"nikki singh akshay oberoi boxer wayward son real estate tycoon kehri singh pankaj tripathi often sidelined favour sister preet ragini khanna kehri considers lucky charm kehri shrewdly runs preet real estate business successfully daughter 's name resentment sister causes nikki accumulate large debt subsequently desperate attempt clear sets chain events causes long buried family secrets get exposed brings danger preet 's life\",\"neo-noir\",\"0\"],[\"1983 kbs launched campaign reunite families torn apart korean war three decades earlier expert dissection social familial rifts modern korea director im kwon-taek integrates footage campaign story hwa-yeong leaves middle-class life busan search son lost gilsotteum war 3\",\"unknown\",\"0\"],[\"harvey keitel plays american cop travels london apprehend gangster viggo mortensen formed new gang sociopathic teenagers trying imitate american culture\",\"crime drama\",\"0\"],[\"set austere post\\u2013world war ii british world rationing cyril dreams ode imaginary character named merlin mound provide anything one wish merlin becomes real grants host 's wishes conjuring items thin air depriving people 's ownership leads trouble\",\"comedy\",\"0\"],[\"film two friends \\u2013 neelima malavika wales aisha saranya mohan engineering students college karthik rejith menon student college comes poor family kunjumon roshan basheer also studies college influence lives neelima aisha main plot film\",\"romance, comedy\",\"0\"],[\"italian aristocrat angela chiaromonte helen hayes spurns potential husband chosen father lewis stone favor giovanni severi clark gable handsome army lieutenant lover reported killed world war hayes renounces world become nun takes vows lieutenant shows much alive implores give order refuses lieutenant later injured bombing raid dies angela lovingly side\",\"drama\",\"0\"],[\"rolex prakash raj smart international smuggler run fearless assistant commissioner jai kumar ramki arrests kim jai kumar raji sanghavi love get married rolex wants take revenge jai kumar way later escapes jail fakes death transpires later forms crux story\",\"unknown\",\"0\"],[\"inventor engineer robert draper unjustly found guilty murder partner 's sent prison prison truck crashes midst civil defense blackout propelling search real killers framed czech-american screenwriter franz schulz billed francis spencer film\",\"crime\",\"0\"],[\"hardy plays dr. henry tibbett country doctor called travelling circus trainer cure sick elephant doctor heals grateful beast elephant becomes attached starts follow everywhere leads trainer suing dr. tibbett alienation affection\",\"comedy\",\"0\"],[\"film examination libidinous basketball star hector bloom contrasts sporting prowess court bedroom antics notably hector affair favorite professor 's wife olive goes nowhere many events occur within heated early 1970s backdrop university politics sporting hijinx anti-war sentiments title related driving basket basketball\",\"drama\",\"0\"],[\"film follows lead character max hell played scott shaw goes mission rescue dr. trixi clutches evil mickey o'malley played joe estevez according donald g. jackson max hell frog warrior much sequel standalone film inspired original concept hell comes frogtown\",\"action, sci-fi\",\"0\"],[\"unlike alamo films concentrate davy crockett jim bowie main protagonists almaron bruce warren susanna dickinson ruth findlay daughter angelina marilyn haslett film gives fictionalised fast moving account restriction american emigration texas arrest stephen f. austin santa anna julian rivero sam houston edward piel appointed general build texian army dickinson 's participation battle gonzales battle alamo\",\"western, war\",\"0\"],[\"san francisco earthquake orphan adopted relatives spain grows gets wooed romeo turns falls love san francisco plumber\",\"comedy drama\",\"0\"],[\"nine people around world kidnapped evil black ghost organization undergo experiments turn cyborgs superhuman powers nine cyborgs band together order stop black ghost achieving goal starting next world war supplying rich buyers countless weapons mass destruction destruction black ghost nine cyborgs go fight variety threats mad scientists supernatural beings ancient civilizations\",\"unknown\",\"0\"],[\"film tells story man scott cohen discovers wife annabeth gish affair consequences resulting relationship mistress paulina porizkova\",\"comedy\",\"0\"],[\"film takes place 2070 world plunges ruins result nuclear war ability people survive depends energy emitted participants brutal dance tournament system becomes endangered one applicants falls love one contestants decides save life\",\"unknown\",\"0\"],[\"story film centers irene kawai japanese american teenager chicago 1970s haunted photo grandfather never knew standing barracks world war ii internment camp japanese americans prompted visits ghost terri dead baby sister irene journeys boyfriend luke road trip arizona poston war relocation center stood photo grandfather taken\",\"unknown\",\"0\"],[\"hiraasat action film featuring mithun chakraborty anita raj lead roles well supported shatrughan sinha hema malini prem chopra kalpana iyer shakti kapoor shatrughan sinha played character honest police office could sacrifice everything country\",\"action, crime, drama\",\"0\"],[\"1964 inmate charlie forsythe creedmore prison executed via electric chair murder commit creedmore prison reopened thirty years charlie forsythe returns afterlife exact revenge eaton sharpe lane smith \\u2013 officer stood forsythe executed inmate burke viggo mortensen inmates soon realize slaughtered unless forsythe allowed repay long-standing debt\",\"drama\",\"0\"],[\"film tells story boyd played boyle american uncanny ability speak japanese boyd aspires succeed world japanese business finds mostly outside looking meanwhile roommate jerome jayson watabe japanese american always felt american japanese japanese american aspires sumo wrestler finds weight blood pressure thwarting dreams together struggle find place world cultural identity seldom seems\",\"comedy\",\"0\"],[\"gopal m.g.r honest lawyer holds law order family emotions meets simple village girl named gauri saroja devi falls love trouble brews form muthayya nambiar sets wicked eyes gauri order marry guari muthayya murders father m.r radha gopal 's mother framed murder struggling family justice gopal save mother triumph love\",\"unknown\",\"0\"],[\"rivalry develops veteran world war ii m\\u002fsgt danny young john hodiak sgt mitch turner stephen mcnally marine combat photographers attentions jeanne linda christian red cross nurse korean war 3\",\"war\",\"0\"],[\"autumn 1950 18th army people 's liberation army pla march chamdo tibet sichuan plan liberate tibet free slaves 5\",\"drama \\u002f history \\u002f western\",\"0\"],[\"film family kumar ajith uncle bala singh rambha 's father problem two families start kumar unable spend much money occasion uncle 's family whether kumar meena rambha get united solving problems forms crux story\",\"unknown\",\"0\"],[\"taglines `` girl hard '' russian \\u0442\\u0440\\u0443\\u0434\\u043d\\u043e \\u0431\\u044b\\u0442\\u044c \\u0434\\u0435\\u0432\\u043e\\u0447\\u043a\\u043e\\u0439 `` child games '' russian \\u043d\\u0435\\u0434\\u0435\\u0442\\u0441\\u043a\\u0430\\u044f \\u0438\\u0433\\u0440\\u0430 three lower-class moscow high school girlfriends katya vika zhanna learn school disco coming saturday night start preparations seems important moment life\",\"drama\",\"0\"],[\"small town mentally unstable virginia two-decade affair local married sheriff dick tipton son emmett harrison gilbertson acts protector 1 emmett 's quest truth father 's identity begins relationship tipton 's daughter jessie 2\",\"dramedy\",\"0\"],[\"story family drama revolves around lead pair played rekha farooq shaikh play married couple 's character shalu overcomes obstacles married life win acceptance domineering mother-in-law kamla bindu\",\"unknown\",\"0\"],[\"set alexandria 1938 young british schoolmaster named darley meets pursewarden british consular officer pursewarden introduces justine wife egyptian banker darley befriends discovers involved plot british goal arm jewish underground movement palestine\",\"drama\",\"0\"],[\"film set rural rajasthan based story vijayadan detha relates popular folktale rajasthan merchant 's son krishanlal ravi menon whose relationship young bride lachhi raisa padamsee thwarted work ghost falls love resulting ghost soon impersonating husband 3\",\"drama\",\"0\"],[\"film revolves around nri couple desperate biological child 1 couple host party celebrate holi indian american guests plot deals events happening\",\"drama\",\"0\"],[\"kumar young rich doctor falls love housemaid selvathaal mother like love affair chases away housemaid meantime kumar 's sister falls love kumar 's friend gopi selvathal becomes actor new name manorama kumar gopi go search selvathal another person actor kidnaps places hideout kumar gopi come know rescue actor forms story film ends well\",\"unknown\",\"0\"],[\"new teacher organizes volleyball game boost school spirit self confidence fighting conservative school board chauvinistic principal two students run away teacher 's liberal methods free thinking blamed teacher fired tries sneak away volleyball match succeeded pushing\",\"unknown\",\"0\"],[\"plot film birds live fictional peaceful town named chirpendale crow arrives known black menace name suggests black menace terrorizes town story follows adventures hero bill cab driver tries save coo rest town 's inhabitants certain destruction\",\"nature\",\"0\"],[\"film historical story based life history 3rd century bc maurya emperor chandragupta n. t. rama rao advisor guru chanakya akkineni nageswara rao story goes destroyed nanda dynasty defeated alexander great sivaji ganesan established maurya empire\",\"historical\",\"0\"],[\"big bad love shares title characters mississippi writer larry brown 's short story collection particularly book 's final story `` 92 days '' 3 main character unsuccessful alcoholic writer motivated desire estranged wife played debra winger urging vietnam war buddy monroe played paul le mat continue write angry yet hopeful sell story tragedy strikes close friend daughter leon forced rethink way life\",\"drama\",\"0\"],[\"kumar graduate decides enlist indian army following news chinese invasion country midst sino-indian war find romantic interest kamala working indian army\",\"unknown\",\"0\"],[\"story revolves around young man short tempered good heart 's prison committing murder prison officer helps becoming good man good deeds\",\"unknown\",\"0\"],[\"genius sculptor joon-goo park yong-woo suffers progressive muscular paralysis loses meaning life korean war wife kim seo-hyung dedicates beloved husband goes search model lee yoo-young encourage go back work\",\"unknown\",\"0\"],[\"hikaru oshiro noticing lack music studios catering high school students aspiring become musicians decided build one studio bento shop allows high school students use studio free required respectful empathetic others also well academically schools\",\"drama\",\"0\"],[\"chuck wheeler released prison begins set elaborate heist armored truck carrying money las vegas casino chuck enlists help nightclub owner joe darren well vi victor sensational blonde married chuck 's ex-cellmate mike bennett mike jealous dangerous man grant vi divorce escapes prison armored truck robbery set take place starts cause havoc locates chuck joe unfaithful wife\",\"drama\",\"0\"],[\"title character victor church world war veteran becomes despondent advancing age prevents playing active role battles world war ii feeling unwanted useless retreats country estate plans suicide finds new purpose life opens home six rambunctious cockney children evacuated london slums tries keep mischievous group control\",\"comedy\",\"0\"],[\"tv segment ghost videos television presenters experience supernatural incident tv studio one ghost video rolls trace origins ghost video high school enter camcorders investigate source supernatural occurrences\",\"horror\",\"0\"],[\"louisa gould jenny seagrove hides escaped young russian war prisoner feodor burriy julian kostov world war ii assistance sister ivy forster amanda abbington brother harold le druillenec ronan keating\",\"unknown\",\"0\"],[\"renaissance florence florentine trader meets shipwrecked stranger introduces tito melema young italianate-greek scholar tito becomes acquainted several florentines including nello barber young girl named tessa also introduced blind scholar named bardo de bardi daughter romola tito becomes settled florence assisting bardo classical studies falls love romola\",\"drama\",\"0\"],[\"film family kumar ajith uncle bala singh rambha 's father problem two families start kumar unable spend much money occasion uncle 's family whether kumar meena rambha get united solving problems forms crux story\",\"thriller\",\"0\"],[\"town drunk gabe causes cattle stampede shoots rancher fires cowboys dave chito bring new doctor town dr. ann rollins justice gabe conspires wealthy ace kelso rustlers\",\"western\",\"0\"],[\"spouses alec zoey depressed couple tragedy two years ago death son samuel hit car age 5 years old dying blow slamming head therefore decide opt adoption one day 7-year-old child eli cole unexpectedly arrives doorstep claiming adoption agency eli wears suit everyday well spoken child\",\"unknown\",\"0\"],[\"spanning nearly 20 years early 1940s 1960s plot focuses susan traherne englishwoman irreparably changed experiences fighter french resistance world war ii one-night stand british intelligence agent war ends susan returns england becomes determined make life achieving wishes post-war world time away finds trivial inadequate acting complete disregard everybody around\",\"drama\",\"0\"],[\"world war ii singer bob reynolds leaves band enlist us army band soon follows army uses group put show troops\",\"musical\",\"0\"],[\"execution kattabomman 17 october 1799 kayattar chinna marudhu gave asylum kattabomman 's brother oomadurai british took reason invade attacked sivaganga 1801 powerful army maruthu pandiyars allies quite successful captured three districts british british considered serious threat future india rushed additional troops britain put maruthu pandiyars rebellion\",\"unknown\",\"0\"],[\"young construction worker rams back boss 's jaguar fit anger sacked rather fronting court \\u2019 given chance explain actions community conference face-to-face confrontation young man boss boss 's wife co-workers best mate mother lifts lid dysfunctional life workplace dirty laundry turning lives upside\",\"drama\",\"0\"],[\"shanghai madeleine linden unhappy wife falls love wounded pilot pat avon upon husband brian head red cross must operate\",\"comedy\",\"0\"],[\"kaalia action flick mithun-t. l. v. prasad team film usual story line revenge fight injustice kalicharan lives middle-class life unmarried sister since kalicharan honest man refuses pay accept bribes brings bad books gangster bhawani singh kalicharan refuses budge singh gets kalicharan arrested false charges sent prison prison new kalicharan born \\u2014 calls kaalia \\u2014 whose main motive destruction bhawani singh\",\"unknown\",\"0\"],[\"loosely based historical children 's crusade story follows exiled young knight played eric stoltz leads band orphans join third crusade king richard lionheart protecting children black prince gabriel byrne disillusioned crusader turned child slave trader confused real-life edward black prince\",\"fantasy\",\"0\"],[\"jung-woo film director adult films entered film industry love cinema found stuck erotic movies 10 years jung-woo dreams directing actual commercial film one become box office hit assistant director jin-hwan lure top actress eun-soo one productions eun-soo began acting 20 years ago determined finally shed image former child actress\",\"unknown\",\"0\"],[\"handsome fairly good-looking anil kumar employed natwarlal criminal gangster natwarlal asks anil find employment shailendra singh seduce beautiful young daughter neetu singh marry thus get stake property wealth anil agrees find employment shailendra counted shailendra 's second wife kamini agenda decides keep anil 1\",\"unknown\",\"0\"],[\"film jamie young man formative teen years growing rural subtropical town bundaberg queensland australia set around world war i. jamie raised grandmother enjoys life `` bundy '' town 's reaction insanity local preacher leads leave hometown life city\",\"drama\",\"0\"],[\"story revolves around husband-and-wife acting team simply insecure husband suspects wife could capable infidelity husband disguises guardsman thick accent woos wife false identity ends seducing couple stays together end wife tells husband knew played along deception\",\"comedy drama\",\"0\"],[\"story film deals underworld revolves around amal played dev engages deeply smuggling business events occur boy realizes become part dangerous game form climax story\",\"crime\\u002fthriller\",\"0\"],[\"trip nainital geeta waheeda rehman meets madan kamaljit falls love madan delhi father wealthy man mother played achla sachdev superstitious woman constantly gets poojas performed pandits madan expresses desire get married geeta parents agree request family pandit studies geeta 's horoscope reveals manglik hence inauspicious manglik mangal dosha considered unfortunate per indian astrology\",\"unknown\",\"0\"],[\"new york city law professor john lindsay robinson asked eugene ferguson kruger member governor 's civic committee become special prosecutor fight racketeers corruption city unknown lindsay ferguson association racketeers 1\",\"drama, crime\",\"0\"],[\"con man rick maxon payne tries swindle war widow deborah caulfied giving savings nonexistent memorial rick falls love deborah pangs remorse reckons without enamored moll tory winters gang boss randall duryea\",\"film noir\",\"0\"],[\"banerjee stars ram das jobless indian man tired life calcutta steals money father order afford passage britain falls love white woman 1\",\"comedy\",\"0\"],[\"plot mystery revolving around captain tom harvey undercover army agent played james millican investigating theft army gold shipments undercover investigations harvey takes job deputy sheriff drawn discovering source ghost terrorizing town ghost apparently manifestation gambler wrongly convicted hanged gold thefts\",\"western\",\"0\"]],\"hovertemplate\":\"cluster=%{customdata[2]}\\u003cbr\\u003ex-tsne=%{x}\\u003cbr\\u003ey-tsne=%{y}\\u003cbr\\u003ecleaned_text=%{customdata[0]}\\u003cbr\\u003elabel=%{customdata[1]}\\u003cextra\\u003e\\u003c\\u002fextra\\u003e\",\"legendgroup\":\"0\",\"marker\":{\"color\":\"#636efa\",\"symbol\":\"circle\"},\"mode\":\"markers\",\"name\":\"0\",\"orientation\":\"v\",\"showlegend\":true,\"x\":[1.1554052829742432,-0.23735962808132172,-11.44797420501709,22.045429229736328,-12.67679214477539,-12.503375053405762,8.482593536376953,-5.4723920822143555,2.306602954864502,8.059215545654297,-15.503911972045898,-2.9834680557250977,15.618880271911621,3.063704013824463,5.326963424682617,0.046543560922145844,-2.9350826740264893,4.25441312789917,-16.358970642089844,14.238686561584473,3.7198853492736816,-1.899875283241272,-5.163403034210205,6.760206699371338,-12.075523376464844,12.167933464050293,2.353792190551758,-1.1446715593338013,1.7637526988983154,-5.22819709777832,14.49671459197998,2.0656678676605225,-10.19206714630127,2.373734951019287,7.957415580749512,-16.987112045288086,-12.979239463806152,0.9115869402885437,-7.010389804840088,21.012163162231445,12.730053901672363,-9.745280265808105,-16.882091522216797,-12.01499080657959,6.2175612449646,-0.20115096867084503,-6.205898284912109,7.482719898223877,15.165557861328125,3.766108512878418,-12.105367660522461,13.238537788391113,0.6817915439605713,12.204448699951172,2.1884727478027344,-12.79057502746582,-16.99117088317871,4.372526168823242,-4.952273845672607,1.1774556636810303,6.522385597229004,20.305490493774414,-11.869987487792969,-12.320259094238281,14.797677993774414,6.021273136138916,13.646707534790039,14.016322135925293,4.093108177185059,-11.987889289855957,-7.958926677703857,-9.435501098632812,-0.49422013759613037,-12.014385223388672,-10.589913368225098,10.967130661010742],\"xaxis\":\"x\",\"y\":[11.794929504394531,-19.202499389648438,-17.965883255004883,6.230123519897461,-2.015561819076538,-0.9853596091270447,15.923720359802246,3.231205940246582,15.559917449951172,11.934697151184082,3.098602294921875,9.295942306518555,-9.834242820739746,12.234879493713379,19.211435317993164,14.261184692382812,7.593474388122559,15.007232666015625,4.735386848449707,-13.058540344238281,-8.588387489318848,16.609941482543945,10.839418411254883,17.3436336517334,-0.6588912010192871,17.273181915283203,-12.285110473632812,13.32758617401123,18.824113845825195,11.277674674987793,-13.614823341369629,19.6922550201416,-2.2505264282226562,13.524895668029785,14.699944496154785,6.525848865509033,-12.234997749328613,-9.809185981750488,10.283554077148438,6.457920551300049,15.916096687316895,5.851813316345215,5.021002769470215,-9.738265037536621,-9.507411003112793,7.737030982971191,9.03226375579834,14.5446195602417,-14.121630668640137,11.234885215759277,-12.53127384185791,-14.166797637939453,15.310995101928711,16.448265075683594,14.347306251525879,6.944995880126953,6.526562213897705,-8.318777084350586,-7.523962497711182,14.618690490722656,14.964797973632812,6.397367477416992,-4.832376956939697,1.4553368091583252,-10.659797668457031,-10.554491996765137,10.484228134155273,-10.242088317871094,-6.370029449462891,2.4417505264282227,8.165258407592773,-1.5923256874084473,1.5303689241409302,-3.8488504886627197,-1.211592435836792,15.9934720993042],\"yaxis\":\"y\",\"type\":\"scatter\"},{\"customdata\":[[\"eventful life swami vivekananda teachings thoughts contribution towards society relation teacher ramakrishna paramahamsa shown film film captured different events life starting childhood days college days meeting master ramakrishna dakshineswar relationship ramakrishna austerities undertaken monastic disciples ramakrishna etc\",\"biography\",\"-1\"],[\"story two close friends studied together spent lot time real drama stars two fall love girl remake dostana 1981\",\"unknown\",\"-1\"],[\"george cabot jr. cesar romero son department store owner enrolls store 's sports clerk krista nielsen sonja henie university use advertisement fashion department george trying pay cabaret singer marcelle la verne wants annul brief elopement marcelle threatens name krista co-respondent lawsuit krista fallen larry taylor college skating exhibition lands cover life magazine\",\"comedy, romance\",\"-1\"],[\"1962 south korea kang soo-ha 21-year-old teacher seoul takes first job village school gangwon province one older students 17-year-old yun hong-yeon develops crush though efforts catch attention seem go unnoticed meanwhile soo-ha fallen yang eun-hee fellow teacher school\",\"unknown\",\"-1\"],[\"neil john samuel showroom executive ernakulam new year party fortunately neel gets bag money money neil reaches village tamil nadu four people intention buy diamonds also arrive spot connected cash hands neil\",\"comedy\",\"-1\"],[\"young sci-fi\\u002ffantasy enthusiast gavin gore jeremy sumpter ragtag group nerd friends girlfriend sophie suchowski addie land swordsman hobie plumber hubbel palmer young maynard keyes rob pinkston stumble upon `` large tracks '' `` big ole sasquatch dumplin '' whilst walking trails nearby woods unbeknownst friends two gavin 's redneck neighbors zerk wilder justin long shirts joachim joey kern planted fake evidence plan gain profits pay zerk 's credit card bill soon publicity stunt gains attention local sasquatch `` expert '' carl weathers\",\"comedy\",\"-1\"],[\"vani viswanath plays central character sukanya young charming medical student shrewd politician named babuji develops fancy leads murder lover babuji orchestrates fake marriage sukanya forced satisfy lust babuji long wins babuji 's trust steps corridors power politics along babuji takes revenge babuji crux story\",\"unknown\",\"-1\"],[\"oliver 's mother penniless outcast died giving birth young boy oliver brought workhouse later apprenticed uncaring undertaker eventually taken gang thieves befriend purposes secrets oliver 's family history waiting come light\",\"drama\",\"-1\"],[\"popular dance hall girl duchess joins gambler nicknamed `` dirtwater fox '' way salt lake city utah seeking refuge pursuing gang outlaws duchess dirtwater fox join wagon train mormons trip encounter snakes rapids horseback pursuits towns even getting tied outlaws eventually escaping\",\"comedy\",\"-1\"],[\"mordecai c. jones scott \\u2013 self-styled `` m.b.s. c.s. d.d \\u2014 master back-stabbing cork-screwing dirty-dealing '' \\u2013 drifting confidence trickster makes living defrauding people southern united states one specialties rigged punchboards befriends young man named curley sarrazin deserter united states army two form team make money\",\"comedy\",\"-1\"],[\"flesh vince murdocco kidnapped cheerleaders world known strange planet men planet rendered impotent thanks villain known evil presence william dennis hunt evil presence unhappy relationship queen frigid maureen webb soon learns flesh 's arrival planet wishes transfer flesh 's penis order make poor endowment\",\"comedy\",\"-1\"],[\"psychoanalyst young family friends taken hostage gang led escaped killer al walker doctor gets killer talk attempt find killer 's unconscious motivation evil ways walker relates dramatic dream 's since childhood eventually crimes traced back childhood lack parental guidance end night doctor calmed killer 's murderous rage prevented killings\",\"film noir\",\"-1\"],[\"shellshocked following experiences pow naval war hero mike merriworth kieron moore enrols physical instructor outward bound sea school wales discovers new purpose shaping lives boys charge\",\"adventure\",\"-1\"],[\"story starts flashback two twin sisters ruolan rumei ruo lan meets local pool young japanese clock repairman ah liang played haruma miura pronounced ryo japanese\",\"romance \\u002f suspense\",\"-1\"],[\"byron levin works california bank becomes infatuated catherine stockheinz wife billionaire boss frederic stockheinz million-dollar offer make asks byron go republic costa salva offer business proposition dictator lorenzo prado happens byron 's old college roommate matters become complicated catherine byron begin affair\",\"drama\",\"-1\"],[\"love first sight sam andy lau chances upon feisty fast-talking woman odd name milan shu qi macau casino catch part-time baccarat dealer full-time cabaret dancer `` careers '' exactly congruent station life fallen love odds mismatched couple soon makes headline media turn milan girl overnight\",\"romance\",\"-1\"],[\"3000 years ago vader clan led queen hedrian devastated planet denzi denziland island denzi landed earth modern times computer denziland awoke denzidog ic detected vader clan approaching earth ic found five young people may may descendants denzi people become denzimen order defend earth vader clan 's next target\",\"unknown\",\"-1\"],[\"cleaned tombstone arizona marshal frame johnson ronald reagan quits attempted lynching hopes settle ranch near cottonwood sweetheart jeannie dorothy malone may clean cottonwood making great sacrifice restore law order\",\"western\",\"-1\"],[\"orphan girl named bindu trapped web deceit crime imprisons shackles expressive films events take life 's journey tale quite regular bombay potboiler one rare use boats 28 metre pamela cabin cruiser couple dinghies outboards\",\"unknown\",\"-1\"],[\"story software engineer raghu prasanna gets engaged another engineer meera lekha washington 's going arranged marriage extended families looking forward however due erectile dysfunction raghu ca n't get advice friends tries various quacks treating impotency\",\"romantic comedy\",\"-1\"],[\"kisan kanya based novel saadat hasan manto 6 focussed plight poor farmers 6 story revolved life poor peasant ram nisar ill-treated landlord ghani 9 eventually ghani murdered ram becomes prime suspect eyes public 9 film performed moderately box-office 6\",\"social\",\"-1\"],[\"psychic woman leads archaeologists aztec pyramid discover two mummies one turns werewolf lon chaney jr. mad scientist revives werewolf-mummy terrorizes city second aztec mummy also comes life goes psychic\",\"horror\",\"-1\"],[\"stand-up-comedian nikita kolesnikov danila kozlovsky difficult time breaking girlfriend afina gordeeva elizaveta boyarskaya found promising partner successful 40-year old dentist nikita trying cope goes different stages hatred attempts return former beloved realizes afraid parting perhaps best thing happened life\",\"unknown\",\"-1\"],[\"two reporters curtis conrad phillips girlfriend carol jill ireland pursue jewel thief smith william hartnell sussex countryside arriving ancient castle smith abducts carol holds hostage curtis forced assist thief find buried loot\",\"crime\",\"-1\"],[\"two best friends live together caravan park discover favourite soap opera cancelled go quest save show\",\"comedy\",\"-1\"],[\"claire moon set 1990s pacific northwest claire jabrowski todd famous heterosexual author decides attend retreat all-female writers claire 's roommate retreat dr. noel benedict author book called naked truth movie culminates sexual encounter two authors 1\",\"unknown\",\"-1\"],[\"curry pepper two cid detectives take jobs seriously newspaper reporter joey law decides film documentary daily police life chooses film curry pepper curry pepper fight joey 's affection friendship seriously jeopardized eventually two reconcile work together take vicious hit man named abalone\",\"comedy\",\"-1\"],[\"joseph mentally retarded servant boy working lodge madras inebriated sait arrives lodge stay gives cash lodge owner safekeeping next morning sait forgotten gave cash accuses joseph owner exploits situation keeps money interrogated joseph remains taciturn woman lodger deserted lover tries help return head cook naidu previously vacation discovers truth clears joseph 's name 2 3\",\"unknown\",\"-1\"],[\"loosely based true events see bernard boursicot shi pei pu film concerns ren\\u00e9 gallimard jeremy irons french diplomat assigned beijing china 1960s becomes infatuated chinese opera performer song liling john lone spies government people 's republic china affair lasts 20 years gallimard apparently unaware willfully ignorant fact traditional chinese opera roles performed men\",\"romance\",\"-1\"],[\"bok-nyeo mentally handicapped woman supports lazy husband selling apples public marketplace husband abandons another woman another man sympathizes bok-nyeo kills 4\",\"drama\",\"-1\"],[\"dr. markoff j. carrol naish concocted formula spreads hideous disease named acromegaly extends bones distorts facial features markoff moral dilemma experimenting unsuspecting human subjects amoral behavior assumes monstrous dimensions famed concert pianist lawrence ralph morgan injected doctor 's disease-inducing serum return antidote markoff intends exact pound flesh extorting fortune lawrence demanding hand musician 's pretty daughter patricia wanda mckay 2\",\"science fiction\",\"-1\"],[\"plot revolves around life aspiring writer high school student paige fleming paige incorporates aspects life fictional stories living alone father ross nicholas campbell recovering alcoholic lives upset return paige 's brother trevor philip dewilde absent two years return forces paige address life memories tragic suicide mother\",\"coming of age drama\",\"-1\"],[\"movie opens fung exercising vertical bar balcony house follows started life gigolo becoming actor lover director rich man 's daughter\",\"erotic \\u002f drama\",\"-1\"],[\"run law vampire family hamiltons known thompsons heads england find ancient vampire clan known stuarts unbeknownst hamiltons stuarts ulterior motives\",\"unknown\",\"-1\"],[\"man visits happy elderly couple advice wife must be-having 6 good qualities qualities helps build happy family searches woman qualities tricked turned around finds soulmate returns back get blessings elderly couple\",\"unknown\",\"-1\"],[\"rahul ramankanth sees concert pop singer monisha mumtaj falls love woos phone hating men love resists advances wears finally succumbs agreeing see dies accident way ends able even see face\",\"unknown\",\"-1\"],[\"crime reporter assisted girlfriend fashion reporter newspaper investigates dead body taken river thames soon able link foreign embassy making sensitive diplomatic matter\",\"drama\",\"-1\"],[\"scott ryan phillippe man rehabilitation 10 years haunted ghost dead mother pressing return home family turned back years ago outfitted nothing bag pills sack marijuana horse instead car goes back texas faced brother \\u2019 wife katherine paquin still pining first love\",\"romantic comedy\",\"-1\"],[\"ir\\u00e8ne bordoni cast vivienne rolland parisian chorus girl love massachusetts boy andrew sabbot jason robards sr. andrew 's snobbish mother cora louise closser hale tries break romance jack buchanan likewise makes talking-picture debut guy pennell leading man vivienne 's revue\",\"musical comedy\",\"-1\"],[\"cosmo reif affectless mob bookie lives basement retirement home promoted hitman learns new trade steve seasoned killer proves natural marksman despite experience firearms falls love yoga teacher jasmine must figure way leave mob together\",\"comedy, thriller\",\"-1\"],[\"edgar mills mistress stella plot murder edgar 's wealthy wife clare best laid go awry edgar ends dead clare becomes prime suspect able prove acted self-defence burglar witnessed crime comes forward\",\"crime\",\"-1\"],[\"molly gilbert wo n't accept marriage proposal bill mccaffery unless promises quit betting money horse races gives word molly miffed realizes wants honeymoon saratoga new york due proximity racetrack behind back bill unethically uses money dad pop mccaffery 's plumbing business continue gambling gets hot streak winning 50,000 buys horse cheats disguising faster horse loses money bill agrees become plumber pleasing molly\",\"comedy\",\"-1\"],[\"marianne greta garbo poor french country girl goes paris 1860s seek fortune actress rises success theatre must choose romantic attentions two men first lucien lars hanson poor passionate young soldier deserts army marianne goes jail stealing dress give suitor henry legrand lowell sherman wealthy middle-aged paris producer offers fame fortune\",\"drama\",\"-1\"],[\"shane o'shea young jersey city man late 1970s handsome enough become bartender studio 54. befriends aspiring singer anita husband greg randazzo shane gets sucked hard-partying scene studio 54 life spirals downward club\",\"drama\",\"-1\"],[\"bumbling cop chatur singh sanjay dutt sent special mission south africa solve high-profile case involving murder politician cache diamonds redeem botched-up career must deal bunch loonies includes crazy mafia satish kaushik weird taxi driver sanjai mishra hysterical boss anupam kher pretty damsel distress ameesha patel 4\",\"comedy\",\"-1\"],[\"dhag story krishna mother seemingly ambitious aspirations krishna backdrop socio-economic standing raised father cremated people living krishna \\u2019 mother always wanted pave path takes away sorrows hardship legacy father \\u2019 untimely death opens gates opportunity young krishna plight widowed helpless mother reels back origins dhag captures moments trials tribulations young krishna along journey 5\",\"drama\",\"-1\"],[\"mighty heart detailed account search kidnapped wall street journal reporter 5 daniel pearl 2002. pearl kidnapped karachi supporters omar sheikh claimed responsibility later captured convicted appealing ruling kidnapping beheading pearl 2002. movie also covers efforts pakistan 's security forces department justice u.s. department state 's diplomatic security service dss track kidnappers bring justice\",\"drama\",\"-1\"],[\"film retelling story hercules lou ferrigno battling wizard minos william berger uses `` science '' attempt take world hercules must stop rescue princess love process\",\"fantasy\",\"-1\"],[\"two escaping killers hide club called cloud nine hold bartender clients hostage amongst patrons nervous singer abby dalton boxer wife manager extortionist loud thug girlfriend well small man determine people 's real opposed posed personalities fear dick miller\",\"suspense\",\"-1\"],[\"young sculptor searches perfect model inspire work finds poverty-stricken girl thinks one looking wanders visits famous statues manhattan hoping find\",\"unknown\",\"-1\"],[\"discovering state penniless citizens spend time making music instead money european grand duchess bans music domains 2 new york journalist conspires rogues stage concert\",\"comedy\",\"-1\"],[\"struggling young actress jenny marjorie browne joins dad mark daly moves aunt hetty 's elsie wagstaff boarding house aunt hetty overworks jenny lucky enough find love form aspiring songwriter tom hal thompson romance threatened nearly destroyed jealous star actress local pantomime company however young lovers move bigger better things winning london west end theatre contract\",\"comedy\",\"-1\"],[\"kitauji high school concert band club one time participated national tournaments champion school club 's adviser changed able even participate qualifying tournament however thanks newly appointed adviser 's strict instruction students steadily improving build strength fight plays solos students give priority studying quit club activities finally long wished-for day competition arrives club wins qualifying tournament\",\"drama, youth, musical, romance, idol\",\"-1\"],[\"every port sailor bill spencer tracy meets girls sailor spike warren hymer already met talked getting signature tattoo bill spike finally meet become friends meet carny high diver goldie jean harlow\",\"comedy\",\"-1\"],[\"lost found basically love story manas siddharth chandekar naina spruha joshi dealing loneliness personal lives since loneliness become prominent part urban lives lost found empathizes ignored human emotions basic motive bringing happiness lives lonely people four characters \\u2013 manas naina maruti mangesh desai shrirang kaka mohan agashe take initiative loneliness thereby resurrecting lonely lives\",\"romance, drama\",\"-1\"],[\"joan purviance magdalen sothern daughters fisherman monterey magdalen engaged peter bloomer lowly fisher writer whitman comes town joan magdalen fancy writer magdalen wins end takes back big city joan peter marry stay monterey 16 many years later magdalen returns attempts break sister 's marriage fail 1\",\"unknown\",\"-1\"],[\"hong deok-ja continues run kimchi food company leaves japan business trip three sons however bank robbers steals money family separated guide misunderstanding language barriers makes white tiger family think wanted cops\",\"comedy\",\"-1\"],[\"indie musician dong-hoon cartoonist jae-hee broke year ago former couple meet death cat owned together go night 's trip hold funeral pet\",\"unknown\",\"-1\"],[\"story tells ching gillian chung dumped playboy boyfriend ken daniel wu tracks new girlfriend shirley tao hong claims ken uploaded nude photos website\",\"unknown\",\"-1\"],[\"former agent north korean intelligence senior member south korean security services conduct secret mission prevent breakout nuclear war korean peninsula\",\"unknown\",\"-1\"],[\"story involves middle-aged cowboy adventurer clark gable learns stolen fortune remains buried ranch serves home four gorgeous young widows battle-axe mother-in-law drifter turns charm\",\"western\",\"-1\"],[\"gloria cole eddie swenson working keep old house used youth center razed make room new skyscraper manhattan gloria enters friend beauty contest 25,000 first prize iffy-maneuvering friend wins contest money goes preserving youth center\",\"drama\",\"-1\"],[\"film american accountant bombarded cable news media 's obsession terrorist plots post 9\\u002f11 world receives jolt unattached islamic graduate student moves next door\",\"drama\",\"-1\"],[\"earthquake releases bunch mutant cockroaches create fire rubbing cerci together eventually bugs die survive low air pressure earth 's surface scientist professor james parmiter dillman keeps one alive pressure chamber successfully breeds mutant cockroach modern cockroach creating breed intelligent flying super-cockroaches\",\"unknown\",\"-1\"],[\"story line centres four young female factory workers escape monotony jobs spending evenings chiswick palais local dance hall problems boyfriends hoping find 3\",\"musical\",\"-1\"],[\"stephen ghent mineowner falls love ruth jordan arrogant girl east unaware daughter dead partner ruth vacationing arizona mexico fast set friends including fianc\\u00e9 edgar manuella half-spanish person hopelessly love ghent causes ruth return fianc\\u00e9 insinuates ghent belongs ghent follows ruth kidnaps takes wilderness endure hardship discovers loves ghent discards edgar favor\",\"western\",\"-1\"],[\"sets 19th century plot centered man harold lockwood falsely accused murder side door shot monterrey mexico 1\",\"romantic drama\",\"-1\"],[\"akashangalil story amala pooja vijayan retired air hostess marriage colleague pilot failure divorced well later becomes close driver ananthu ananthu 's family relationship well marriage time amala 's old friend devadathan shankar also divorcee comes forward give life amala music directed abhijith p nair 5 better source needed\",\"family\",\"-1\"],[\"sally elliott rita hayworth musical star meets indiana boy paul dresser victor mature runaway brief stopover medicine show arrives gay nineties new york composes title tune fair lady becomes toast tin pan alley 4\",\"musical biopic\",\"-1\"],[\"joe huggett loses job family decide emigrate south africa travelling via land route takes across africa journey become entangled diamond smuggler\",\"comedy\",\"-1\"],[\"chaiti young beautiful woman wife newspaper editor bikramjit bikramjit workaholic always stay busy editorial works spite highly educated woman chaiti nothing spends time expensive saris filing nails watching tv thus unhappy marriage unfortunate miscarriage chaiti befriends amal find friendly company amal good looking adventurous amal 's point view chaiti charulata 2011 2\",\"drama\",\"-1\"],[\"roanne sanchez young girl high ideals romance assigned accompany spoiled son president eric rodriguez gerald anderson goes immersion trip coming different worlds two find much fight sudden attraction soon gets better 4\",\"romance, drama\",\"-1\"],[\"hartford transcontinental railroad attempting build railroad `` hell 's gate pass '' however king carter self-appointed ruler land beyond pass want happen sends henchmen including local indians disrupt construction anyway sabotage kidnapping claire hartford daughter company president president 's assistant jeff ramsay sidekicks stop king carter 's schemes every point eventually defeat entirely opens area new settlers first jeff new wife claire\",\"western serial\",\"-1\"],[\"eric wainwright van johnson busy impresario besieged hordes wannabe concert stars eager big break one cynthia potter june allyson talented pianist ca n't get see learns wainwright auditioning young musicians children 's concert tour cynthia dons braces bobby sox passes child prodigy 4\",\"comedy\",\"-1\"],[\"kevin agar carlton-based owner fledgling magazine struggles make ends meet financial situation turns desperate finds work assisting television repair man repossessions 2 3 agar 's parents live suburb balwyn\",\"comedy\",\"-1\"],[\"trust concerns unusual romance two young misfits wandering long island town maria shelly recent high school dropout announces unplanned pregnancy family father dies heart failure mother immediately evicts household boyfriend breaks lonely nowhere go maria wanders town search place stay along way meets matthew donovan highly educated extremely moody electronics repairman two begin unusual romance built sense mutual admiration trust\",\"romantic comedy\",\"-1\"],[\"restaurant owner dylan ramsey david spade head-over-heels love new neighbor french cellist named lila sophie marceau desperate attempt garner affections kidnaps beloved pet dog offers help find phantom dog hunt wrench thrown plans however dog swallows best friend 's diamond ring things get worse dylan lila 's ex-fiancee rene arrives win back\",\"comedy\",\"-1\"],[\"dharma anandaraj auto driver kidnaps young women payroll powerful politician r.r radha ravi `` honest '' raj vijayakanth dcp investigating murder mla zeroes r.r suspended higher-ups due political pressure years later brought back governor 's rule established given charge investigation disappearance man whose sister earlier disappeared investigation leads dharma r.r private hospital bombay\",\"unknown\",\"-1\"],[\"told ranch boss lynn plans sell ranch finance move east jack framed cattle rustling barnes man set buy ranch help pal buzz jack escapes noose two set clear jack 's name addition jack suspicious reason barnes wants lynn 's ranch first place\",\"western\",\"-1\"],[\"arjun lives village lost father lives mother maternal uncles helpful hence become popular villagers faces lot problem obstacles rich powerful persons village end overcomes problems finds family\",\"unknown\",\"-1\"],[\"jerry mcguire william collier jr. dress designer tired looked upon wimp begins secretly training boxer take spike mullins johnnie walker win affections store clerk hilda jensen shirley mason 2\",\"comedy\",\"-1\"],[\"chu liuxiang drinks friend monk wuhua gong nanyan holy water palace suddenly appears accuses chu stolen palace 's heaven 's one holy water committed series murders agrees give chu month 's time clear name else mistress palace kill chu 's curiosity eagerness prove innocence spur investigate case\",\"unknown\",\"-1\"],[\"charles kessler bela lugosi plagued homicidal urges wife betty compson left another man gets car accident leaves brain damaged kept cellar secret kessler 's gardener innocent man executed murder kessler committed house twin brother visits tries unravel mystery discovers kessler killer n't know brother subdues contacts police arrest kessler\",\"horror\",\"-1\"],[\"united states secret service lieutenant brass bancroft ronald reagan partner gabby watters eddie foy jr. producer bryan foy 's brother seek engraving plates stolen u.s. treasury department investigation leads bancroft watters pursue counterfeiting ring mexico 2 3 4 along way bancroft falsely blamed death fellow secret service agent escapes jail captures leader counterfeiting ring wins heart love interest elaine rosella towne 5\",\"crime\",\"-1\"],[\"fontaine khaled london wife wealthy boring businessman spends money nightclub hobo partying hires manager tony run club understood job security dependent satisfying nymphomaniac demands tony loses interest fontaine turns attention young stepdaughter uses get back fontaine cheating father fontaine dumps tony divorced husband adultery\",\"drama\",\"-1\"],[\"professional hunter harry black india wants bag tiger threatening nearby village proceeds journey encounters numerous people including young maybe smart desmond tanner wife chris harry 's first wife\",\"adventure\",\"-1\"],[\"tulsi tells story tulsi manisha koirala married drunkard suraj irrfan khan couple blessed four kids one evening suraj away friend yashpal sharma tries molest tulsi suraj gets know beats yashpal black blue furious yashpal swears revenge meanwhile tulsi diagnosed blood cancer yashpal attacks suraj murders distraught tulsi decides get kids adopted different families 's gone\",\" \",\"-1\"],[\"california gubernatorial candidate burton lyon cast vote truck crashes polling booth critically injuring opponent flashback traces career unemployed veteran dockworker san francisco lawyer side story traces tortured relationship wife\",\"drama\",\"-1\"],[\"12-year old young boy adam hann-byrd sent live relatives parents break befriends dying boy joshua jackson eerie connection nature\",\"drama\",\"-1\"],[\"soo-nam poor woman struggling pay hospital bills vegetative husband 's care even though hard work seems hopeless suddenly granted chance turnabout redevelopment project takes place falls soo-nam discards honesty adapts cold-blooded approach take revenge whoever responsible debt-ridden life\",\"unknown\",\"-1\"],[\"film 's slight storyline concerns man kendall violent quarrel family fianc\\u00e9e grahame feeling totally upset wants get away conflict decides travel overland timbuktu legendary reputation one remote mysterious places world soon fianc\\u00e9e learns departure vows thing challenges arrive timbuktu much film essentially taken travelogue sequences african natives habitats\",\"comedy\",\"-1\"],[\"rie nao bakery-cum-restaurant named mani shores lake toya hokkaido nao baker bakes bakery 's bread rie chef prepares food restaurant graced beautiful scenery throughout four seasons shop serves variety customers experiencing personal problems however exit shop feel happiness mind 5 6 7\",\"drama\",\"-1\"],[\"simple handyman also amateur artist gets trouble head shoulders portraits prominent local females sold without knowledge advertising agency published nude bodies added\",\"comedy\",\"-1\"],[\"karthi mahesh college student indulges petty thieving caught admits meet pocket expenses gets entangled affairs ruthless dishonest police officer runs gang thieves 1\",\"romantic thriller\",\"-1\"],[\"story film narrated paran bandyopadhyay plot involves two siblings titli tabul goes digha family vacation find lalkamol babu occupied next room disappeared without trace two children getting involved mystery unexpectedly finds group ghosts\",\"mystery\",\"-1\"],[\"film stars harry connick jr. history professor michael child loved christmas tragic accident holiday spirit crushed grown still ca n't find joy christmas son faces tragedy needs find holiday spirit gets push right direction meets man named nick willie nelson gives gift helps find joy christmas\",\"drama\",\"-1\"],[\"blind detective duncan maclain seeing-eye dog asked help jean hampton number mysterious murders committed including ones wealthy father uncle jean 's fiance barry gifford falls suspicion first maclain bodyguard marty corbett ultimately conclude family lawyer treadway masterminding murder moneymaking scheme gifford framed killings maclain solves detective asked best man jean 's wedding\",\"mystery\",\"-1\"],[\"vijay r. sarathkumar seetha ragapriya siblings mother 's death vijay worked hard come life brought sister alone many years later vijay becomes taxi-driver sister seetha falls love postman kannan k. r. ganesh vijay love childhood lover lakshmi aamani lakshmi daughter corrupt politician marappan jaiganesh brother mansoor ali khan rapes young girls wish seetha 's wedding lakshmi 's brother kidnaps seetha rapes kills vijay decides take revenge\",\"unknown\",\"-1\"],[\"vivek wanted criminal police accused murdering girl end revealed vivek murdered wife preethi coming know betrayed extra marital affair another man\",\"unknown\",\"-1\"],[\"three teenage boys small-town southern ontario thrilled luke cooper mysterious american fugitive gunshot wound leg decides crash secret hideout luke tells 's cop run corrupt colleagues swears silence recuperates becomes buddy confidante time boys realize luke pretends 're way heads\",\"drama\",\"-1\"],[\"mexican nightclub american fight promoters witness alberto 'baby valdez brother lita valdez knock champion fighter first lita angered brother quit law studies become fighter two move united states lita literally bumps reigning champion jerry o'leary three becoming inseparable friends however american fight promoters force alberto jerry fight face suspension\",\"comedy\",\"-1\"],[\"officers throw extravagant party board battleship hms scotia visits french riviera end night final shore-boat judged unseaworthy three attractive female guests mary ann kimball jill mary steele antoinette nadine tallier must spend night board ship escorted ashore next day battleship called manoeuvres coast italy choice take women along captain maitland guy rolfe must hide girls presence admiral michael hordern\",\"comedy\",\"-1\"],[\"bullied teen chef wants save grandmother 's business entering tv cooking contest win prize money find worst bully whose name matt prylek suddenly pushing become new friend\\u2014and contest teammate meanwhile matt 's brother kyle wants villainous stuff\",\"comedy-drama\",\"-1\"],[\"flagg victor mclaglen quirt edmund lowe find transferred russia brooklyn south america place squaring local beauty film remains one earliest screen sequels critical popular success two lead actors playing characters well original writers director intact first picture\",\"musical comedy\",\"-1\"],[\"nick niven supposed grandfather 10-year-old bridget partridge stands inherit sizeable fortune charley carney shows claims genuine grandpa men slept bridget 's grandmother never certain two produced child neither nick charley good prospects bridget must choose lesser two evils\",\"comedy\",\"-1\"],[\"raised sharecropping plantation northern florida ray charles robinson went blind age seven shortly witnessing younger brother drown inspired fiercely independent mother insisted make way world charles found calling gift behind piano keyboard touring across chitlin circuit soulful singer gained reputation exploding onto worldwide stage pioneered incorporation rhythm blues rock roll gospel country jazz orchestral influences inimitable style\",\"biography\",\"-1\"],[\"newland archer engaged may mingott prominent new york family shortly engagement announce newland finds attracted may \\u2019 older married cousin countess ellen olenska marriage may newland ellen agree run away together happen may visits husband \\u2019 lover informs expecting child ellen newland part ways newland vowing better husband wife may\",\"drama\",\"-1\"],[\"chandrabose mohanlal whose wife 's meera jasmine death led become alcoholic chandrabose likes keep low profile lives rather carefree life comes kochi saves young professional krish j. sathaar committing suicide joins firm passing positive philosophy takes firm struggling start-up top makes impression anu mamta mohandas jyothi padmapriya chinnu mithra kurian\",\"comedy\",\"-1\"],[\"frankie bono hitman cleveland comes new york city christmas week kill middle-management mobster troiano first follows target select best possible location orders gun rat-loving dealer big ralph one night meets former friend orphanage grew rattling cool putting life danger\",\"thriller\",\"-1\"],[\"philippines 1972. mysterious things happening remote barrio wails heard forest cows hacked death man found bleeding death crossroad houses burned ferdinand e. marcos announces proclamation 1081 putting entire country martial law everything became mess armed forces philippines decided camp barrio already messed\",\"drama\",\"-1\"],[\"two days christmas bogus insurance investigator conducts meticulous small-town bank robbery stagy suspenseful set-piece reworking scrooge story urbane ruthless thief induces complicity fastidious bank manager threats family\",\"thriller\",\"-1\"],[\"michael walsh husband father falls girl named magenta difficulty magenta wife 's underaged sister magenta persistent pursuing michael though provides drama story\",\"drama\",\"-1\"],[\"board ocean liner america four stowaways involuntarily pressed service toughs pair feuding gangsters constantly trying evade ship 's crew 4 prior development film real plot brothers merely causing unending uproar except credits screenplay brothers characters names film referred simply `` stowaways '' arriving stateside one gangsters kidnaps 's daughter leaving brothers save day 5\",\"comedy\",\"-1\"],[\"alim young gay man born kenya raised toronto moved london get away conservative upbringing faces hardships coming widowed mother nuru well hardships relationship boyfriend giles alim imaginary friend maybe guardian angel ghost friend depending literally symbolically one takes film supposedly cary grant gives alim advice trouble unfortunately advice often seems make trouble\",\"romantic comedy\",\"-1\"],[\"twice widowed pilnyeo vows never marry takes job coal mine one day raped supervisor later marries pilnyeo continues abused new husband later risks life\",\"unknown\",\"-1\"],[\"convict van duff leader large-scale prison break breakout works six survivors hide forgotten mine working near prison coast clear set long dangerous journey convicts take foot car train truck attempt get hidden stolen bank loot journey doomed prisoners meet locals including farm woman beverly michaels kidnapped doctor percy helton young woman train gloria talbott\",\"film noir\",\"-1\"],[\"u.s. marshal investigates sheriff named plummer suspected involvement string robberies becomes personal marshal 's wife taken captive outlaws\",\"western\",\"-1\"],[\"story 10th anniversary high school reunion told eyes doctor humiliated graduation day badly beaten fellow graduate\",\"rom com\",\"-1\"],[\"1930s teresa buday naive young woman dealing oppressive attitudes society father 's austere ways fling university latin professor jonathan crow weaving takes time realize desire serious relationship teresa starts dating liberal-minded banker james quick neill 's settled quick idealistic teresa becomes enamored another intellectual poet harry williams quick encourages affair hoping teresa come realize 's true love mere sexual impulsivity\",\"unknown\",\"-1\"],[\"boys involved altercation vegetable vendor saved father donovan convinces policeman let go uses guilt slip becoming driver cassidy 's cab company owner knocked commission rival cab company red circle cab slip clashes drivers rival company enlists aid rest gang expose company owner mr. mccormick\",\"comedy\",\"-1\"],[\"john murdock paul richards motorious outlaw leads vicious gang known blacklegs armed signature black whip men invade small town looking stir trouble harassing girls saloon attacking locals blacklegs plotting bigger scheme kidnapping governor kentucky patrick o'moore holding ransom man stands way former confederate officer lorn crowford hugh marlowe\",\"western\",\"-1\"],[\"year 1999 machine empire baranoia led emperor bacchushund invades earth intention wiping human life bringing machine rule chief counsellor miura revives super energies born lost civilization pangaea assembling pieces stone plate uncovered three years previously reveals secrets `` super power '' enlisting elite five-man team united airforce 's finest pilots miura builds pyramid generate tetrahedron power order allow five uaoh officers transform ohrangers stop baranoia 's invasion\",\"unknown\",\"-1\"],[\"film based sthreedhanam c. v. nirmala deals problems created dowry middle class malayali family film also interpreted serial name\",\"unknown\",\"-1\"],[\"jin-hong prosecutor bent tracking culprit killed mother 7 years ago one day jin-hong 's deceased mother comes life appears however set attacking time unexplainable cases called rvp resurrected victims phenomenon reported throughout world victims unsolved murders return life punish killers based secret agents investigating cases conclude jin-hong prime suspect mother 's murder\",\"unknown\",\"-1\"],[\"ten-year-old bobby frankie thomas group friends see bobby 's mother karen morley kissing man husband despite serious concerns bobby divorce ensues bobby although thoroughly disenchanted mother sent away month month despite efforts grows depressed dreaming reunification beloved father edward arnold returning father vacation finds preoccupied impending second marriage bobby suffers serious breakdown nevertheless packed military school\",\"drama\",\"-1\"],[\"brinda sindhu tolani employee medical company ready treated doormat exploitation women atrocities caused men tracks men committed rapes kills using potassium cyanide businessman yugendran police commissioner sekhar chief minister vijayan fallen victim taken actions life made miserable husband killed lecherous boss kazan khan\",\"drama\",\"-1\"],[\"old gangster hard drive containing records paid targeted competition dirty cops internal affairs etc dirty cops hire thug get safe back diner midnight brings friends goes early time-release lock another crooked cop shows uncertain reasons shooting ensues hostage negotiations thug tries put blame onto ex-con got jail one notices real target hard drive\",\"thriller\",\"-1\"],[\"rogers family visit blackpool annual holidays difficulty finding rooms befriended wealthy young man takes stay haunted mansion family become entangled plot young man 's grasping cousin murder family inheritance however ends happily young man marrying rogers eldest daughter pamela\",\"comedy\",\"-1\"],[\"film evil living dead girl named evelyn decides needs friends gifts girls including crow 's heart scare evelyn tries resurrect suicide reading book entitled kill back life suicide attempts fail part problem wastes bullets killing birds instead swings rope instead hanging eventually one boy close killed bus accident becomes living dead friend\",\"short black comedy\",\"-1\"],[\"mysterious killer known `` judge '' kills anyone considers worthless detective harry grant william lundigan assigned track handful clues grant constructs faceless dummy help men conduct investigation police finally break case receiving important clue finally cornering killer chase catwalks refinery killer revealed middle-aged man whose cruel disposition unattractive appearance lead become `` judge ''\",\"drama\",\"-1\"],[\"agimat bong revilla jr. married girlfriend sam pinto defeated barbaric tribe speaks reverse decided live earth alongside enteng vic sotto family experience family life meanwhile ako judy ann santos fairy disguises environmental activist along minions including pink hulk john lapus octopus-looking enemies arrive via spaceship infecting enslaving barbarian tribe agimat defeated turning monsters trying pollute earth corruption 's enteng agimat ako defeat much chagrin men 's respective wives\",\"fantasy, comedy, adventure\",\"-1\"],[\"young filmmaker timothy jonathan welsh screen play orphan dog search loving family film investors force timothy making movie sex violence jim carrey plays small silent role naked cameraman ralph parker\",\"comedy\",\"-1\"],[\"prospective settler pioneer bob davis gunned hired guns grif brag work saloonkeeper prospective land baron harvey `` deacon '' grimes killing witnessed insurance investigator rocky lane decides go undercover help dead man 's daughter susie rancher 's daughter gail warren gets acquainted rocky inadvertently reveals true identity grimes men rocky able prevail however leaves town promising come back\",\"western\",\"-1\"],[\"julia hemingway ina skriver credited christina world british female mercenary hired wealthy businessman charlie whitlock order help eliminate competition purchase oil fields saudi arabia hemingway coordinates team 3 sexy women go undercover complete task unaware whitlock plans double crossing wo n't pay services 2\",\"thriller\",\"-1\"],[\"russian general marenkov robert shaw decides defect west cia agent harry wargrave lee marvin leads team get wargrave decides marenkov travel across europe train fictional `` avalanche express '' idea lure russians attacking train thus discover secret agents europe consequently train journey must survive terrorist attack avalanche planned russian spy-catcher nikolai bunin maximilian schell\",\"unknown\",\"-1\"],[\"small-fry marijuana harvesters northern california try keep business running negotiating biggest sale ever keeping death secret silent partners mafia police meddlers crash party begin realize heads\",\"comedy\",\"-1\"],[\"omar sharif plays muhassab headman gad 's son goes mayor migahed rushdy abaza buy expensive scow luxor thieves become aware purchase decide steal money\",\"drama\",\"-1\"],[\"young lakota sioux lou diamond phillips adopted wealthy jewish couple ages gets touch cultural roots following death mother\",\"drama\",\"-1\"],[\"chain tells story seven households comprise circular property chain various moving company employees tasked assisting household move follows trials tribulations trivial profound household mover guilty one seven deadly sins endures moving process 1994 spin-off series moving story made itv warren clarke played part bamber\",\"comedy\",\"-1\"],[\"film set persia 5th century bc king \\u2019 wife murdered esther jewish woman comes attention recently widowed king ahasuerus king trying stifle defeat campaign hatred jews evil minister haman sergio fantoni king pair esther defeat villainous haman several intervening adventures additional attractive woman competes attention 2\",\"biblical\",\"-1\"],[\"hans young german journalist arrives london write article au-pair girls requested friends investigate whereabouts teenage daughter greta interviews four individuals paint distinctly different pictures missing girl revealing different aspect dimension reminiscences constitute film 's 3-d sequences hans finally tracks greta discovers kidnapped east end gangster 3 1\",\"sex comedy\",\"-1\"],[\"drama tells lawyer joe morse garfield working powerful gangster tucker wishes consolidate control numbers racket new york means assuming control many smaller numbers rackets one run morse \\u2019 older brother leo morse thomas gomez plot unfolds terse melodramatic thriller notable realist location photography almost poetic dialogue frequent biblical allusions cain abel judas 's betrayal stigmata\",\"crime drama\",\"-1\"],[\"nick nora charles looking forward relaxing day racetrack jockey accused throwing race found shot death police lieutenant abrams requests nick 's help trail leads gambling syndicate operates wrestling arena murdered reporter pretty secretary whose boyfriend framed along way nick nora must contend wild wrestling match dizzying day merry-go-round accompanied nick jr. table-clearing restaurant brawl\",\"mystery\",\"-1\"],[\"leslie troubled 1960s teenager eventually becomes follower charles manson charged convicted sentenced death august 1969 murders leno rosemary labianca story revolves around young juror perry becomes infatuated leslie trial\",\"drama\",\"-1\"],[\"hajj rascally beggar periphery court baghdad schemes marry daughter royalty win heart queen castle\",\"costume drama\",\"-1\"],[\"big-league baseball players jerry jack also pretty good singing perform vaudeville show fall love mary dancer second woman tries come next world series\",\"musical\",\"-1\"],[\"five rival oil companies vying offshore rights chief geologists begin dying suspicious circumstances troubleshooter blake heller brought one firm investigate resulting almost immediate attempts life well heller takes particular interest two women one neighbor treva saint stock holdings oil company peggy lido nightclub singer eventually realizes peggy boyfriend paul kimmel behind killings peggy gaining revenge former husband 's business schemes\",\"crime drama\",\"-1\"],[\"rakta bandhan family drama\\u002faction film starring mithun chakraborty double role well supported rati agnihotri surinder kaur dina pathak jagdeep plays twin brothers chandan trishul singh separated young age grow different circumstances chandan grows become simpleton villager trishul becomes dacoit brothers lives intertwined reunited forms plot film\",\"unknown\",\"-1\"],[\"harry england michael crawford british car salesman trip france meets baroness `` danny '' genevieve gilles rolls-royce breaks spend days together become lovers disappears one night harry know surname baron curd j\\u00fcrgens hires harry teach teenage son cars country estate harry encounters baroness affair continues harry falls love asks baroness leave baron taken lady\",\"comedy\",\"-1\"],[\"marappan anandaraj rebel leader 'puratchi padai rebel group kills corrupted politicians spoil poor 's lives whereas corrupted politician valluvadasan radha ravi misuses name perpetrates murders innocent people name vivekanandan sarath babu ips officer lives happily wife raadhika son vivekanandan charged arrest members 'puratchi padai\",\"unknown\",\"-1\"],[\"mother killed mission twenty years ago thailand fa eliza sam decides join police academy hong kong meets 5 new friends played anita chui cathryn lee mandy ho joyce cheng jeana ho failing graduate six women given opportunity join formerly disbanded all-female elite force hunt terrorist gu zhi jin man killed fa 's mother group female agents led friend fa 's mother go undercover malaysia 4 5 6\",\"action \\u002f comedy\",\"-1\"],[\"`` illustrated press '' society editor lorelei kilbourne hillary brooke assigned police case crusading newspaper editor steve kilgore suspects hard-luck suspect harry hilton frank wilcox framed murder rap lorelei steve proceed help police solve crime time uncovering conspiracy bring building firm bankruptcy\",\"drama\",\"-1\"],[\"infamous jewel thief flambeau paul lukas steals stones diamond cross father brown walter connolly 's church crime solving cleric fights retrieve gems also save soul elusive flambeau\",\"mystery\",\"-1\"],[\"raised uncle wu sanxing wang jingchun wu xie luhan fascinated old architecture antiques family got special piece bronze accident dug deeper traced found lost kingdom buried basin north-west china named xiwangmu dynasty thus wu \\u2019 family recruited group expert raiders including mysterious stranger name zhang qiling jing boran went deep ruins ancient city\",\"fantasy \\u002f adventure\",\"-1\"],[\"newly transferred college student lily becomes friends violet heather rose clique run campus suicide prevention centre course film four girls date less attractive men order help men 's confidence try clean `` unhygenic '' doar dorm clash editor campus newspaper daily complainer wants close `` elitist '' roman letters fraternities finally try start new dance craze called sambola\",\"dramedy\",\"-1\"],[\"girl inherit fortune missing africa family charges congo bill adventurer find bring back civilization follows legend mysterious white queen path full difficulties inhospitable jungle man lose fortune girl found alive ...\",\"adventure, serial\",\"-1\"],[\"teenager jackie knowles richard attenborough drives getaway car robbery captured sentenced serve three years borstal institution run sympathetic governor jack warner befriends alfie dirk bogarde bill jimmy hanley\",\"drama\",\"-1\"],[\"alli manorama veritable jungle queen rescues rajangam r. s. manohar gang robbers attack forest loses heart turns rifle toting heroine force marry gun point villain abducts rajangam 's brother ransom 's alli comes rescues events unite couple forms rest movie 1\",\"unknown\",\"-1\"],[\"new gas formula used deadly weapon invented pioneering british scientist draws interest shadowy peace movement masks sinister intent 2\",\"crime\",\"-1\"],[\"film takes place antarctica centering around rescue team sent routledge research station investigate research team 's lack communication outside world team discovers survivors research station finds diary describes research team 's last days diary goes research team 's growing malcontent paranoia team picked one one mysterious killer 3\",\"unknown\",\"-1\"],[\"raja 10-year-old tourist guide mahabalipuram elder sculptor small rock sculpture tablet engraved adages raja enters discussion wondering pearls wisdom still hold relevance sculptor tells sayings eternal immortal unconvinced raja sets find truth ultimately realises sayings still valid\",\"unknown\",\"-1\"],[\"crash landing follows tense hours board stricken passenger aircraft routine flight shanghai beijing shortly taking pilot shao bing discovers plane 's landing gear unable retracted unable continue unable land flight attendant wife xu fan forced circle shanghai meanwhile ground troubleshooter yong called see get aircraft safely back ground\",\"action\\u002fthriller\",\"-1\"],[\"desperate attempt save faltering marriage 55-year-old barbara sawyer submits full-body plastic surgery swiss clinic checks exclusive ski resort cortina d'ampezzo await arrival attorney husband mark reveling considerably younger tauter appearance allows playboy erich seduce mark finally arrives makes announcement changes barbara 's initial plans forever\",\"drama\",\"-1\"],[\"rajini 's parents killed thengai srinivasan adopted brought rich man many years rajini finds thengai srinivasan stealing body parts especially eyes rajini takes revenge forms crux story\",\"unknown\",\"-1\"],[\"andy lee bowman janie jean arthur anderson seated opposite sides court room filing divorce judge render verdict janie 's father charles coburn makes suggestion attempt save marriage william suggests couple return san francisco met year half ago four days retrace steps include getting married\",\"comedy\",\"-1\"],[\"small midwestern town thrown chaos local oil tycoon duke stuyvesant orchestrates phony oil shortage order increase profits news reporter jane beardsley tries uncover plot radio dj nick noz observing station 's news helicopter reports craziness caused gasoline shortage\",\"comedy\",\"-1\"],[\"rosalind dee decarlo cafe singer striving enter high society rosalind stumbles upon large amount money lucky means rosalind forms partnership gambling-club owners wade evans zachary scott cyril mace kurt kasznar building establishment gathering place elite along way attempts rekindle romance randy playboy doug duryea howard duff soon lured rev kelly rand james arness comes save rosalind troubles\",\"film noir\",\"-1\"],[\"leonard maltin `` cute comic mystery ... robson hoot rough-riding nevadan straps six-shooters turns sleuth clear granddaughter trumped-up murder charge ''\",\"comedy\",\"-1\"],[\"anand major military ranvir karan salim best commandos military operation samrat arms dealer drug mafia anand loses leg forced retire returns home-town opens garage one day samrat gang members kill handicapped anand karan rajvir salim decide take revenge start making inquiries find samrat responsible anand 's death trio decide destroy samrat 's empire kill\",\"action\",\"-1\"],[\"pudhayal imaginary gold buried beach vellaiambalam balaiah covets padmini sivaji meet talk father m.k radha sri lanka implicated mother \\u2019 murder imprisoned padmini sister thangam come india sister dies \\u2019 believed drowned body lies sand vellaiambalam overhears word \\u2018 thangam \\u2019 \\u2018 gold \\u2019 tamil believes fortune buried\",\"unknown\",\"-1\"],[\"american gambler nick cain raft arrives town san paola befriends shoe-shine boy toni staiola discovers framed murder american treasury agent escapes kay wonderly gray abandoned village leaving hide cain gets help massine goldner trust uncovers international counterfeiting ring members responsible murder\",\"crime\",\"-1\"],[\"first act film covers lincoln 's early life storekeeper rail-splitter new salem early romance ann rutledge early years lawyer courtship marriage mary todd springfield majority film deals lincoln 's presidency american civil war culminates lee 's surrender lincoln 's assassination ford 's theatre\",\"drama\",\"-1\"],[\"wilmington delaware anna thompson sells beauty products doctors company lets go performance par chain smoker bulimic feels need run away life narrowly misses victim armed robbery store gets bus travels family used vacation cottage massachusetts along way meets travis calls danny also running away problems\",\"drama\",\"-1\"],[\"restaurant carla davenport restaurant cashier charlie archenault driving-school teacher bruce laraby emergency room physician annie hagen father best friend jimmy jasperson suddenly hear gunshots annie jimmy retreat table suicidal gunman shoots several people including annie 's father film shows aftermath five traumatized people struggle regain trust ordinary world 4\",\"drama\",\"-1\"],[\"seven young freedom fighters heavily armed covering ground looking enemy twenty-one leader eldest tanza twelve joined group witnessing massacre family bathing river middle forest trying forget lives soldiers unaware short time one dead one sent blow school hours children like arriving\",\"unknown\",\"-1\"],[\"middle blizzard young woman takes shelter house owned former racing driver still recovering accident years 1\",\"drama\",\"-1\"],[\"chad jimmie rodgers confused young man growing 1860s kentucky sheltered brutal guardian friendly schoolmaster learns love tiny village kingdom come inclination leaving american civil war breaks finds odds friends joining union army wartime experiences force chad grow hurry returns kingdom come whole new outlook future existence 5\",\"drama\",\"-1\"],[\"midget george wilson pulls strings obtain job circus mary hungarian lady 's fallen madly love mary happy job singing lions although likes george feelings circus owner joe harrop stronger jealousy tensions caused affect running circus\",\"drama\",\"-1\"],[\"film plays three first-season episodes edited together single story `` benefit '' `` breaking lease '' `` ballet '' new footage included episodes help transition episodes one coherent storyline series routinely took format filming scenes chronological order adds `` show within show within show '' format film viewers watch cast perform episodes live film ends `` curtain call '' cast comes arnaz thanks audience support 1\",\"comedy\",\"-1\"],[\"story revolves around rich man s. v. ranga rao two sons k. balaji s. s. rajendran daughter mynavathi father gambler elder son balaji womaniser alcoholic however ends marrying traditional woman pandari bai takes upon reform family family maid devika takes care younger son rajendran two marry blessings family 1\",\"unknown\",\"-1\"],[\"daniels final silent film 3 plays dorothy winston heiress sets become newspaper reporter breaks big story finds peril 4\",\"romantic comedy\",\"-1\"],[\"sachin joshi kabaddi player loved girl also married marriage first night kill wife goes jail proofs showing joshi killer story revolves around happened next\",\"action\",\"-1\"],[\"two sailors conned buying lame race-horse go ashore sort problem realize horse one pair identical twins plan revenge becomes complicated\",\"comedy\",\"-1\"],[\"story revolves around young woman hema malini plays five different characters film \\u2013 sapna padma champabai dream girl rajkumari steal money order maintain home orphans\",\"unknown\",\"-1\"],[\"lonely old man makes living potter saves life young woman two marry son woman 's old lover finds runs away old potter commits suicide years later woman beggar returns old home visits son old potter 's grave based novel 5\",\"literary drama\",\"-1\"],[\"big fella set docks streets marseilles paul robeson stars leading role street-wise honest dockworker struggles deep issues integrity human values elisabeth welch plays opposite caf\\u00e9 singer love robeson 's wife eslanda robeson appears caf\\u00e9 owner 1\",\"musical\\u002fdrama\",\"-1\"],[\"remote undeveloped eastern black sea region six-year-old boy yusuf wanders woods searching lost father trying make sense life 5 father beekeeper whose bees disappeared unexpectedly threatening livelihood 5 bizarre accident kills father 8 little dialogue music film 5 three main characters yusuf parents fairly taciturn soundtrack filled sounds forest creatures live 9 environment recurring theme 10\",\"drama\",\"-1\"],[\"year 1999 machine empire baranoia led emperor bacchushund invades earth intention wiping human life bringing machine rule chief counsellor miura revives super energies born lost civilization pangaea assembling pieces stone plate uncovered three years previously reveals secrets `` super power '' enlisting elite five-man team united airforce 's finest pilots miura builds pyramid generate tetrahedron power order allow five uaoh officers transform ohrangers stop baranoia 's invasion\",\"tokusatsu\",\"-1\"],[\"movie ilangovan aka ilango parthiban middle-class youth dreams get sister kavitha mallika married millionaire keen becoming rich falls love roopa lakshmi rai daughter rich industrialist ilango comes across chellappa vadivelu petty thief takes fun ride sequence events makes ilango realize money everything life help chellappa finally works get sister married boy loves\",\"comedy\",\"-1\"],[\"bonnie connie jones showgirls also sisters sick tired new york well getting anywhere quitting broadway sisters decided travel paris become famous find true love\",\"musical\",\"-1\"],[\"alvin roberts lee tracy feuds bunny harmon dick powell singer roberts reports society people expecting i.e going child one report antagonizes gangster delicate situation sends henchman threaten roberts manages turn tables gangster\",\"comedy\",\"-1\"],[\"jean paurel famous opera star agrees help diana page career order take advantage instead finds falling love\",\"drama\",\"-1\"],[\"stephanie lyn wilde terry lee wilde two identical twins split since parents divorced seven years envies life style decide without telling jeff preston foster mary gail patrick switch families day two\",\"comedy\",\"-1\"],[\"kiira seems like ordinary young girl likes dress differentiates others vampire never told anyone secret including first love tetsu parents died kiira 12 years old needed live relatives lost contact tetsu 8 years later tetsu appears bakery kiira works ... 3\",\"vampire film\",\"-1\"],[\"human exploitation natural resources arctic environment completely destroyed leaving last polar bear survive human girl named jessica adopts polar bear names backkom\",\"comedy \\u002f animation \\u002f family \\u002f adventure\",\"-1\"],[\"two brothers become involved criminals planning major art heist framed theft film available dvd released renown pictures 2013\",\"crime\",\"-1\"],[\"napoleon bonaparte charles boyer launches unsuccessful seduction countess marie walewska greta garbo married much older man henry stephenson resists convinced giving save poland husband annuls marriage napoleon divorces empress josephine pair free formalize happy relationship napoleon shocks announcing decision wed archduchess marie louise austria political reasons n't expect impact relationship marie leaves without ever telling expecting child\",\"drama\",\"-1\"],[\"young brother two police officers borrows one uniforms masquerading cop accidentally assists group criminals committing burglary fortunately able capture culprits deliver real police\",\"comedy\",\"-1\"],[\"story centres murder judge s. p. ravanan varghese kalabhavan mani hunts killers popularly known ravanan aggressive belligerent style behaviour brainy brawny super cop begins investigation jagathy sreekumar plays sub-inspector assisting case ravanan solves murder mystery forms rest story\",\"unknown\",\"-1\"],[\"jennie hagan swanson waitress dreams becoming star real theatrical diva astor arrives town jennie schemes get part stage\",\"comedy\",\"-1\"],[\"political journalist jayadev meka srikanth unearths several scams made politician ahuti prasad turn invites bribe idealistic jayadev refuses relent discuss group naxals attack politician kill jayadev held hostage along jayadev group maoists led gogi ajay head base camp dense forest journey ideologies tested good bad exposed dramatic way\",\"action\",\"-1\"],[\"two persons namely ajay prem come remote village go night staying nearby guest house railway station foggy night surprisingly series murders happen immediately arrival time every night sari clad lady roams area burial ground police suspect ajay arrest charge murders escapes police custody solve murder mystery\",\"unknown\",\"-1\"],[\"story corpse found dvd room tae-jung kyung-soo part-timer works store owner store doo-shik shin ha-kyun trying sell room keep secret hidden 4 5\",\"unknown\",\"-1\"],[\"jack ripper school period setting gaslit london time mysterious killer terror murdering policemen lawford plays handsome gentleman thief nicholas revel gets involved murders theft valuable emerald treatment seldom serious yet smartly resolved supporting cast british stalwarts\",\"mystery\",\"-1\"],[\"film revolves around manin protagonist meenakshi k. r. vijaya rises ordinary housewife become mayor trials tribulations face maintain balance work home\",\"unknown\",\"-1\"],[\"anand shivrajkumar nicknamed `` kaddipudi '' grandmother used sell tobacco products associated shady politician sharath lohitashwa whose rivalry others resulted many deaths unwittingly caught crossfire even attempts relinquish life crime lead normal life saint form police officer helps quest forces would let normal life entanglement web fraud deceit forms story\",\"unknown\",\"-1\"],[\"vijay mgr carefree selfish college student first much interested driving car fast driving fast one day meets accident person dies tragic event vijay going transformed become aware become full kindness tuned next one later becomes guardian victim 's family story\",\"unknown\",\"-1\"],[\"story follows group men traveling duck hunt northwest one charlie hoping travel forget grief son 's death vietnam learns young member party david deserter charlie goes berserk hunts david\",\"thriller\",\"-1\"],[\"four friends go fishing trip three return absence four years fourth man philip vickers returns home amnesiac tells `` friend '' knocked drugged left die one remaining men could suspect job crandall bill saul harry bryce interested philip 's attractive widow angie unfortunately philip 's return coincides murder becomes main suspect angie joins forces husband help solve mystery clear name\",\"drama\",\"-1\"],[\"man loses memory kidnapped 19 days younger brother determined seek truth surrounding mystery kidnapping brother portrays mysteries linger return\",\"unknown\",\"-1\"],[\"court-martialed discharged navy captain bell rock hudson turns drink reduced skippering rundown brigantine south seas takes board disparate group passengers crew including prostitute show-biz entrepreneur missionary washed opera singer couple refugees storm sea true characters board revealed\",\"adventure\",\"-1\"],[\"quiet english town schoolgirl betty kane ann stephens claims owners isolated house spinster marion sharpe dulcie gray marion 's mother marjorie fielding kidnapped beat police believe betty 's story local lawyer robert blair michael denison bachelor sceptical risking ostracism community blair quietly sets proving innocence two women\",\"thriller\",\"-1\"],[\"following series robberies k railroad detective tom gordon tom mix hired uncover mystery disguised bandit tom boards train k president cullen cullen 's daughter madge senses tom criminal soon falls love madge sought burton carl miller father 's secretary league bandits tom eventually discovers duplicity aid tony horse rounds villains wins hand madge\",\"western\",\"-1\"],[\"gracie fields laurie dolman lovers together form musical act gracie sings laurie writes songs laurie gets taste fame runs glamorous actress\",\"comedy\",\"-1\"],[\"film tells story two brothers jayakrishnan vijayakrishnan quarrel trivial matters like football matches activities local clubs etc vijayakrishnan works town takes jayakrishnan lest create certain problems home earlier vijayakrishnan saved given shelter girl ammu leads problems villainous uppa comes search ammu things take new turn vijayakrishnan even killed jayakrishnan 's love brother makes begin brother ended\",\"unknown\",\"-1\"]],\"hovertemplate\":\"cluster=%{customdata[2]}\\u003cbr\\u003ex-tsne=%{x}\\u003cbr\\u003ey-tsne=%{y}\\u003cbr\\u003ecleaned_text=%{customdata[0]}\\u003cbr\\u003elabel=%{customdata[1]}\\u003cextra\\u003e\\u003c\\u002fextra\\u003e\",\"legendgroup\":\"-1\",\"marker\":{\"color\":\"#EF553B\",\"symbol\":\"circle\"},\"mode\":\"markers\",\"name\":\"-1\",\"orientation\":\"v\",\"showlegend\":true,\"x\":[-3.541018486022949,-7.386903285980225,-12.414907455444336,-12.202765464782715,2.400984048843384,6.519029140472412,15.05556869506836,-9.236103057861328,10.703437805175781,9.37916374206543,-21.36250877380371,19.286849975585938,-18.404104232788086,1.7167679071426392,-11.979679107666016,-9.912848472595215,-7.055501461029053,19.773027420043945,-10.39400577545166,7.232339859008789,0.3291384279727936,6.122893333435059,-5.0906243324279785,0.5935494303703308,-6.802555084228516,2.8684287071228027,-9.555842399597168,10.170613288879395,0.04272686690092087,4.261369705200195,-15.315720558166504,-4.759962558746338,10.52133846282959,-21.36316680908203,-9.69793701171875,-14.818196296691895,-11.334671974182129,-3.67055606842041,-9.365360260009766,-15.06737232208252,10.885571479797363,4.133223533630371,6.859381198883057,1.0256983041763306,14.13563060760498,-7.7899627685546875,-17.885517120361328,-20.10967254638672,0.7207021117210388,-7.330031871795654,1.4762299060821533,15.130836486816406,-11.149721145629883,6.075677394866943,-18.807071685791016,-6.5487589836120605,6.984147071838379,-6.2333526611328125,-1.4639328718185425,3.7326910495758057,17.85972785949707,3.796139717102051,4.0405354499816895,-7.655555725097656,4.451868534088135,-13.403449058532715,10.616388320922852,0.6886231303215027,-5.02023458480835,3.734266519546509,7.811325550079346,-7.126325607299805,0.6815193295478821,-15.192366600036621,-7.700482368469238,-7.994258880615234,10.469046592712402,13.989282608032227,19.060007095336914,-18.440351486206055,-20.329862594604492,-3.315253257751465,1.373146891593933,10.491466522216797,3.9577393531799316,5.6894731521606445,6.804184436798096,2.1203315258026123,-8.618443489074707,12.269396781921387,-2.275540590286255,4.809753894805908,2.264615297317505,-2.503451108932495,0.5361200571060181,-4.680099964141846,9.263174057006836,-16.090089797973633,3.2667386531829834,10.833749771118164,-0.33859285712242126,-21.60548210144043,3.749079704284668,-4.588180065155029,-2.3296866416931152,-0.34941792488098145,20.50084114074707,-5.583014488220215,-1.6707452535629272,8.74201774597168,1.390874981880188,-12.483210563659668,-11.119277954101562,2.434488296508789,-7.492591381072998,12.004380226135254,-13.052671432495117,-12.845486640930176,5.073230743408203,-2.8263533115386963,6.367143630981445,-5.860143661499023,-1.214135766029358,-2.6403510570526123,-15.22735595703125,-4.822111129760742,8.346721649169922,8.587793350219727,-4.290935516357422,18.490062713623047,-6.988360404968262,6.815711498260498,9.96890640258789,17.794313430786133,11.590006828308105,10.904732704162598,1.6528500318527222,-7.750223159790039,-6.717458248138428,0.9628674387931824,-10.20840835571289,-1.611991286277771,-1.896623969078064,-11.743583679199219,-16.914501190185547,-5.941923141479492,-5.323602676391602,-10.876293182373047,5.619218349456787,-20.124380111694336,-2.7753872871398926,13.400392532348633,-0.14486974477767944,8.021702766418457,-4.006363868713379,7.300766944885254,18.46133041381836,-16.77413558959961,20.113523483276367,16.791183471679688,-4.393986701965332,-19.031709671020508,-1.976441740989685,-6.176675796508789,-1.7944444417953491,-0.4017084836959839,-8.31869125366211,13.932130813598633,-2.851646661758423,17.020170211791992,11.724309921264648,-1.8930878639221191,-1.8997834920883179,-10.851694107055664,-6.736739158630371,7.42645263671875,5.467660903930664,-12.735422134399414,-6.303798675537109,8.207488059997559,-11.06212329864502,18.10894775390625,4.331207752227783,-9.42832088470459,-5.1707916259765625,-13.991294860839844,-8.607973098754883,-5.859924793243408,10.882740020751953,0.48537129163742065,-2.0895309448242188,9.526034355163574,-4.436183929443359,-6.705361366271973,-14.742088317871094,-10.478960990905762,0.6173951625823975,12.796135902404785,14.041516304016113,8.189833641052246,-21.40406608581543,14.198745727539062,11.889915466308594,20.012020111083984,-8.937294960021973,-1.5649933815002441,-16.189043045043945,1.0669130086898804,12.253113746643066,1.2565631866455078,-21.653396606445312,3.755789041519165,14.830755233764648,15.007698059082031,3.4088754653930664],\"xaxis\":\"x\",\"y\":[9.219606399536133,13.995339393615723,-17.982324600219727,-9.874470710754395,2.3273086547851562,3.5725460052490234,-4.172256946563721,-4.673600673675537,-17.522876739501953,13.695862770080566,-8.752888679504395,1.3869383335113525,-4.160220623016357,20.102628707885742,-5.806525707244873,1.4573954343795776,-19.53999137878418,-6.292689323425293,6.247211456298828,-13.397723197937012,8.284236907958984,-5.563235282897949,-4.8028950691223145,-6.675870418548584,15.30575180053711,-8.850998878479004,12.730205535888672,-7.565408706665039,10.915414810180664,-14.509651184082031,10.204567909240723,-3.3523001670837402,-10.272147178649902,-8.674627304077148,4.870395660400391,-3.690861463546753,13.339762687683105,-6.325277328491211,-6.4661407470703125,-1.3419950008392334,0.45885610580444336,2.1351447105407715,8.037631034851074,-4.039414882659912,-7.723825931549072,-3.5769002437591553,-11.716373443603516,2.920187473297119,-5.014238357543945,4.619071960449219,1.335577130317688,9.975436210632324,-12.719916343688965,2.834430694580078,-2.6630361080169678,0.12208619713783264,0.2946106791496277,-5.7811360359191895,-3.5266997814178467,12.754344940185547,-7.95222806930542,-0.9477056264877319,19.06611442565918,-19.105449676513672,5.75746488571167,-0.09247393161058426,-1.1226565837860107,-1.193910837173462,15.531253814697266,8.510005950927734,-6.234376430511475,-11.527117729187012,-20.01573371887207,-5.181835174560547,2.942091464996338,-12.305008888244629,-6.503629684448242,-6.725497722625732,-5.163394927978516,-2.379767656326294,2.7059292793273926,1.9817144870758057,-14.9100980758667,-3.929786443710327,9.753337860107422,-18.485700607299805,-13.22187614440918,-11.982067108154297,-7.381900787353516,10.865334510803223,11.137639045715332,5.709900379180908,-2.245711088180542,6.8391313552856445,6.62352180480957,-11.346323013305664,3.7044169902801514,1.8099311590194702,-13.926057815551758,7.058010101318359,2.654855251312256,6.509756565093994,0.8564918041229248,12.426736831665039,-9.168257713317871,-14.547322273254395,-6.543358325958252,-2.151860475540161,1.420541524887085,10.293951988220215,-7.077664375305176,3.7539846897125244,17.4403076171875,-1.5671842098236084,0.00371762877330184,-16.150901794433594,6.857827186584473,-13.000910758972168,-16.00794792175293,-17.395448684692383,-8.716384887695312,-21.52161979675293,8.974275588989258,-4.082107067108154,-5.817254543304443,-15.574417114257812,-13.404831886291504,-0.325190931558609,5.156071186065674,2.146355628967285,-18.507055282592773,11.140507698059082,1.128179669380188,6.497287750244141,-16.63235855102539,7.825791358947754,4.192938327789307,-3.1526737213134766,6.936373710632324,-20.244714736938477,10.280892372131348,-0.9696106910705566,-9.311887741088867,8.003701210021973,-9.712539672851562,17.74359893798828,-15.670238494873047,16.9433650970459,-18.32196617126465,-2.6685361862182617,-4.324512958526611,2.3638064861297607,-6.808823108673096,5.757569313049316,7.070435523986816,7.777958869934082,-3.788109302520752,-9.47484016418457,6.698504447937012,6.046688079833984,-10.566264152526855,8.458883285522461,-12.29202651977539,2.3132550716400146,-12.39569091796875,-9.364157676696777,-12.611530303955078,-2.324429988861084,2.383044719696045,-8.739216804504395,-5.013080596923828,16.836849212646484,-17.814796447753906,-9.004162788391113,5.361155033111572,-4.086358070373535,16.804067611694336,-17.94129753112793,15.788762092590332,-0.3756110370159149,13.20261001586914,0.02597973495721817,2.4777004718780518,9.08602523803711,-7.915300369262695,11.588761329650879,-7.980990886688232,-21.520984649658203,-10.493766784667969,0.2933058738708496,-1.2795078754425049,3.84134840965271,-0.33492863178253174,-7.7350993156433105,10.705172538757324,17.300256729125977,-12.035140037536621,3.1795384883880615,-2.585969924926758,-9.918386459350586,-2.616983413696289,1.5389724969863892,9.06200122833252,3.8034486770629883,8.598322868347168,5.2796854972839355,1.643870234489441,5.107887268066406,0.8702974319458008,-15.41646671295166,7.47170352935791,-4.424614906311035,5.625633716583252,10.354347229003906,5.992099761962891],\"yaxis\":\"y\",\"type\":\"scatter\"},{\"customdata\":[[\"police inspector holloway patrick wymark investigates string murders victims dolls attached bodies trail soon leads disabled german woman named mrs. von sturm margaret johnston knows set dark secrets may hold key murders\",\"mystery\",\"1\"],[\"film set 1918 unnamed small town widow lupino impulsively hires handyman ryan look house soon learns ryan dangerous schizophrenic time comes realization unable leave house escape\",\"film noir\",\"1\"],[\"christopher lustful man goes remote village stay guest house valuable ring finger guest house owner murders cut hand ring bury corpse dead hand revives evil power avenge\",\"horror\",\"1\"],[\"jeff hassard dean jagger son ring audie murphy lead isolated existence mountains breaking horses jeff wanted murder commit lives interrupted stumble upon young woman riley wanda hendrix jeff injured ring go town get help\",\"western\",\"1\"],[\"los angeles police force down-on-her-luck businesswoman-turned-prostitute `` princess '' help capture murderous pimp named ramrod 's princess 's life put line soon escaped killer vice squad detective tom walsh team hard pressed keep woman safe\",\"thriller\",\"1\"],[\"two college girls ducky ginger meet naive friend sarah southern california beach house house belongs sarah 's uncle luck allowed use house summer gone soon ducky ginger arrive two plan first many wild parties without resistance sarah two continue plans partying including inviting assorted misfits delivery persons people passing eventually sarah 's resistance fades joins wild parties\",\"comedy\",\"1\"],[\"story revolves around evil politician \\u2013 junior minister plots murder chief minister hired killer assassination chief minister killer pursued idealistic dedicated police chief killer takes shelter house physically challenged girl residing killer takes hostage killer remembers past average student converted killer though film songs background music film especially chase sequence lauded critics\",\"drama, thriller\",\"1\"],[\"young woman goes stay house lord lebanon two murders quick succession lead arrival detectives cause woman fear life 2\",\"thriller\",\"1\"],[\"spirit `` patrick '' haunts house lonely country road house inherited jean linton whose husband david unreliable heavy-drinking would-be author believing house valuable wishing inherit david plans local sexpot mrs stockley dispose jean `` patrick '' ideas ......\",\"thriller\",\"1\"]],\"hovertemplate\":\"cluster=%{customdata[2]}\\u003cbr\\u003ex-tsne=%{x}\\u003cbr\\u003ey-tsne=%{y}\\u003cbr\\u003ecleaned_text=%{customdata[0]}\\u003cbr\\u003elabel=%{customdata[1]}\\u003cextra\\u003e\\u003c\\u002fextra\\u003e\",\"legendgroup\":\"1\",\"marker\":{\"color\":\"#00cc96\",\"symbol\":\"circle\"},\"mode\":\"markers\",\"name\":\"1\",\"orientation\":\"v\",\"showlegend\":true,\"x\":[15.155308723449707,5.272614002227783,9.248263359069824,10.747241973876953,15.39930248260498,5.293907165527344,18.912189483642578,7.635998725891113,5.910867214202881],\"xaxis\":\"x\",\"y\":[0.8698877692222595,-3.2568674087524414,-4.681312561035156,-4.89831018447876,5.015349388122559,-2.3210270404815674,1.355072259902954,-5.307333469390869,-2.4840357303619385],\"yaxis\":\"y\",\"type\":\"scatter\"}],                        {\"template\":{\"data\":{\"histogram2dcontour\":[{\"type\":\"histogram2dcontour\",\"colorbar\":{\"outlinewidth\":0,\"ticks\":\"\"},\"colorscale\":[[0.0,\"#0d0887\"],[0.1111111111111111,\"#46039f\"],[0.2222222222222222,\"#7201a8\"],[0.3333333333333333,\"#9c179e\"],[0.4444444444444444,\"#bd3786\"],[0.5555555555555556,\"#d8576b\"],[0.6666666666666666,\"#ed7953\"],[0.7777777777777778,\"#fb9f3a\"],[0.8888888888888888,\"#fdca26\"],[1.0,\"#f0f921\"]]}],\"choropleth\":[{\"type\":\"choropleth\",\"colorbar\":{\"outlinewidth\":0,\"ticks\":\"\"}}],\"histogram2d\":[{\"type\":\"histogram2d\",\"colorbar\":{\"outlinewidth\":0,\"ticks\":\"\"},\"colorscale\":[[0.0,\"#0d0887\"],[0.1111111111111111,\"#46039f\"],[0.2222222222222222,\"#7201a8\"],[0.3333333333333333,\"#9c179e\"],[0.4444444444444444,\"#bd3786\"],[0.5555555555555556,\"#d8576b\"],[0.6666666666666666,\"#ed7953\"],[0.7777777777777778,\"#fb9f3a\"],[0.8888888888888888,\"#fdca26\"],[1.0,\"#f0f921\"]]}],\"heatmap\":[{\"type\":\"heatmap\",\"colorbar\":{\"outlinewidth\":0,\"ticks\":\"\"},\"colorscale\":[[0.0,\"#0d0887\"],[0.1111111111111111,\"#46039f\"],[0.2222222222222222,\"#7201a8\"],[0.3333333333333333,\"#9c179e\"],[0.4444444444444444,\"#bd3786\"],[0.5555555555555556,\"#d8576b\"],[0.6666666666666666,\"#ed7953\"],[0.7777777777777778,\"#fb9f3a\"],[0.8888888888888888,\"#fdca26\"],[1.0,\"#f0f921\"]]}],\"heatmapgl\":[{\"type\":\"heatmapgl\",\"colorbar\":{\"outlinewidth\":0,\"ticks\":\"\"},\"colorscale\":[[0.0,\"#0d0887\"],[0.1111111111111111,\"#46039f\"],[0.2222222222222222,\"#7201a8\"],[0.3333333333333333,\"#9c179e\"],[0.4444444444444444,\"#bd3786\"],[0.5555555555555556,\"#d8576b\"],[0.6666666666666666,\"#ed7953\"],[0.7777777777777778,\"#fb9f3a\"],[0.8888888888888888,\"#fdca26\"],[1.0,\"#f0f921\"]]}],\"contourcarpet\":[{\"type\":\"contourcarpet\",\"colorbar\":{\"outlinewidth\":0,\"ticks\":\"\"}}],\"contour\":[{\"type\":\"contour\",\"colorbar\":{\"outlinewidth\":0,\"ticks\":\"\"},\"colorscale\":[[0.0,\"#0d0887\"],[0.1111111111111111,\"#46039f\"],[0.2222222222222222,\"#7201a8\"],[0.3333333333333333,\"#9c179e\"],[0.4444444444444444,\"#bd3786\"],[0.5555555555555556,\"#d8576b\"],[0.6666666666666666,\"#ed7953\"],[0.7777777777777778,\"#fb9f3a\"],[0.8888888888888888,\"#fdca26\"],[1.0,\"#f0f921\"]]}],\"surface\":[{\"type\":\"surface\",\"colorbar\":{\"outlinewidth\":0,\"ticks\":\"\"},\"colorscale\":[[0.0,\"#0d0887\"],[0.1111111111111111,\"#46039f\"],[0.2222222222222222,\"#7201a8\"],[0.3333333333333333,\"#9c179e\"],[0.4444444444444444,\"#bd3786\"],[0.5555555555555556,\"#d8576b\"],[0.6666666666666666,\"#ed7953\"],[0.7777777777777778,\"#fb9f3a\"],[0.8888888888888888,\"#fdca26\"],[1.0,\"#f0f921\"]]}],\"mesh3d\":[{\"type\":\"mesh3d\",\"colorbar\":{\"outlinewidth\":0,\"ticks\":\"\"}}],\"scatter\":[{\"fillpattern\":{\"fillmode\":\"overlay\",\"size\":10,\"solidity\":0.2},\"type\":\"scatter\"}],\"parcoords\":[{\"type\":\"parcoords\",\"line\":{\"colorbar\":{\"outlinewidth\":0,\"ticks\":\"\"}}}],\"scatterpolargl\":[{\"type\":\"scatterpolargl\",\"marker\":{\"colorbar\":{\"outlinewidth\":0,\"ticks\":\"\"}}}],\"bar\":[{\"error_x\":{\"color\":\"#2a3f5f\"},\"error_y\":{\"color\":\"#2a3f5f\"},\"marker\":{\"line\":{\"color\":\"#E5ECF6\",\"width\":0.5},\"pattern\":{\"fillmode\":\"overlay\",\"size\":10,\"solidity\":0.2}},\"type\":\"bar\"}],\"scattergeo\":[{\"type\":\"scattergeo\",\"marker\":{\"colorbar\":{\"outlinewidth\":0,\"ticks\":\"\"}}}],\"scatterpolar\":[{\"type\":\"scatterpolar\",\"marker\":{\"colorbar\":{\"outlinewidth\":0,\"ticks\":\"\"}}}],\"histogram\":[{\"marker\":{\"pattern\":{\"fillmode\":\"overlay\",\"size\":10,\"solidity\":0.2}},\"type\":\"histogram\"}],\"scattergl\":[{\"type\":\"scattergl\",\"marker\":{\"colorbar\":{\"outlinewidth\":0,\"ticks\":\"\"}}}],\"scatter3d\":[{\"type\":\"scatter3d\",\"line\":{\"colorbar\":{\"outlinewidth\":0,\"ticks\":\"\"}},\"marker\":{\"colorbar\":{\"outlinewidth\":0,\"ticks\":\"\"}}}],\"scattermapbox\":[{\"type\":\"scattermapbox\",\"marker\":{\"colorbar\":{\"outlinewidth\":0,\"ticks\":\"\"}}}],\"scatterternary\":[{\"type\":\"scatterternary\",\"marker\":{\"colorbar\":{\"outlinewidth\":0,\"ticks\":\"\"}}}],\"scattercarpet\":[{\"type\":\"scattercarpet\",\"marker\":{\"colorbar\":{\"outlinewidth\":0,\"ticks\":\"\"}}}],\"carpet\":[{\"aaxis\":{\"endlinecolor\":\"#2a3f5f\",\"gridcolor\":\"white\",\"linecolor\":\"white\",\"minorgridcolor\":\"white\",\"startlinecolor\":\"#2a3f5f\"},\"baxis\":{\"endlinecolor\":\"#2a3f5f\",\"gridcolor\":\"white\",\"linecolor\":\"white\",\"minorgridcolor\":\"white\",\"startlinecolor\":\"#2a3f5f\"},\"type\":\"carpet\"}],\"table\":[{\"cells\":{\"fill\":{\"color\":\"#EBF0F8\"},\"line\":{\"color\":\"white\"}},\"header\":{\"fill\":{\"color\":\"#C8D4E3\"},\"line\":{\"color\":\"white\"}},\"type\":\"table\"}],\"barpolar\":[{\"marker\":{\"line\":{\"color\":\"#E5ECF6\",\"width\":0.5},\"pattern\":{\"fillmode\":\"overlay\",\"size\":10,\"solidity\":0.2}},\"type\":\"barpolar\"}],\"pie\":[{\"automargin\":true,\"type\":\"pie\"}]},\"layout\":{\"autotypenumbers\":\"strict\",\"colorway\":[\"#636efa\",\"#EF553B\",\"#00cc96\",\"#ab63fa\",\"#FFA15A\",\"#19d3f3\",\"#FF6692\",\"#B6E880\",\"#FF97FF\",\"#FECB52\"],\"font\":{\"color\":\"#2a3f5f\"},\"hovermode\":\"closest\",\"hoverlabel\":{\"align\":\"left\"},\"paper_bgcolor\":\"white\",\"plot_bgcolor\":\"#E5ECF6\",\"polar\":{\"bgcolor\":\"#E5ECF6\",\"angularaxis\":{\"gridcolor\":\"white\",\"linecolor\":\"white\",\"ticks\":\"\"},\"radialaxis\":{\"gridcolor\":\"white\",\"linecolor\":\"white\",\"ticks\":\"\"}},\"ternary\":{\"bgcolor\":\"#E5ECF6\",\"aaxis\":{\"gridcolor\":\"white\",\"linecolor\":\"white\",\"ticks\":\"\"},\"baxis\":{\"gridcolor\":\"white\",\"linecolor\":\"white\",\"ticks\":\"\"},\"caxis\":{\"gridcolor\":\"white\",\"linecolor\":\"white\",\"ticks\":\"\"}},\"coloraxis\":{\"colorbar\":{\"outlinewidth\":0,\"ticks\":\"\"}},\"colorscale\":{\"sequential\":[[0.0,\"#0d0887\"],[0.1111111111111111,\"#46039f\"],[0.2222222222222222,\"#7201a8\"],[0.3333333333333333,\"#9c179e\"],[0.4444444444444444,\"#bd3786\"],[0.5555555555555556,\"#d8576b\"],[0.6666666666666666,\"#ed7953\"],[0.7777777777777778,\"#fb9f3a\"],[0.8888888888888888,\"#fdca26\"],[1.0,\"#f0f921\"]],\"sequentialminus\":[[0.0,\"#0d0887\"],[0.1111111111111111,\"#46039f\"],[0.2222222222222222,\"#7201a8\"],[0.3333333333333333,\"#9c179e\"],[0.4444444444444444,\"#bd3786\"],[0.5555555555555556,\"#d8576b\"],[0.6666666666666666,\"#ed7953\"],[0.7777777777777778,\"#fb9f3a\"],[0.8888888888888888,\"#fdca26\"],[1.0,\"#f0f921\"]],\"diverging\":[[0,\"#8e0152\"],[0.1,\"#c51b7d\"],[0.2,\"#de77ae\"],[0.3,\"#f1b6da\"],[0.4,\"#fde0ef\"],[0.5,\"#f7f7f7\"],[0.6,\"#e6f5d0\"],[0.7,\"#b8e186\"],[0.8,\"#7fbc41\"],[0.9,\"#4d9221\"],[1,\"#276419\"]]},\"xaxis\":{\"gridcolor\":\"white\",\"linecolor\":\"white\",\"ticks\":\"\",\"title\":{\"standoff\":15},\"zerolinecolor\":\"white\",\"automargin\":true,\"zerolinewidth\":2},\"yaxis\":{\"gridcolor\":\"white\",\"linecolor\":\"white\",\"ticks\":\"\",\"title\":{\"standoff\":15},\"zerolinecolor\":\"white\",\"automargin\":true,\"zerolinewidth\":2},\"scene\":{\"xaxis\":{\"backgroundcolor\":\"#E5ECF6\",\"gridcolor\":\"white\",\"linecolor\":\"white\",\"showbackground\":true,\"ticks\":\"\",\"zerolinecolor\":\"white\",\"gridwidth\":2},\"yaxis\":{\"backgroundcolor\":\"#E5ECF6\",\"gridcolor\":\"white\",\"linecolor\":\"white\",\"showbackground\":true,\"ticks\":\"\",\"zerolinecolor\":\"white\",\"gridwidth\":2},\"zaxis\":{\"backgroundcolor\":\"#E5ECF6\",\"gridcolor\":\"white\",\"linecolor\":\"white\",\"showbackground\":true,\"ticks\":\"\",\"zerolinecolor\":\"white\",\"gridwidth\":2}},\"shapedefaults\":{\"line\":{\"color\":\"#2a3f5f\"}},\"annotationdefaults\":{\"arrowcolor\":\"#2a3f5f\",\"arrowhead\":0,\"arrowwidth\":1},\"geo\":{\"bgcolor\":\"white\",\"landcolor\":\"#E5ECF6\",\"subunitcolor\":\"white\",\"showland\":true,\"showlakes\":true,\"lakecolor\":\"white\"},\"title\":{\"x\":0.05},\"mapbox\":{\"style\":\"light\"}}},\"xaxis\":{\"anchor\":\"y\",\"domain\":[0.0,1.0],\"title\":{\"text\":\"x-tsne\"}},\"yaxis\":{\"anchor\":\"x\",\"domain\":[0.0,1.0],\"title\":{\"text\":\"y-tsne\"}},\"legend\":{\"title\":{\"text\":\"cluster\"},\"tracegroupgap\":0},\"title\":{\"text\":\"Sentences t-SNE Visualization with TF-IDF Embeddings and HDBSCAN Clustering\"},\"height\":1200,\"width\":1200},                        {\"responsive\": true}                    ).then(function(){\n",
       "                            \n",
       "var gd = document.getElementById('14199cb6-20c2-4868-b93e-219c445a5105');\n",
       "var x = new MutationObserver(function (mutations, observer) {{\n",
       "        var display = window.getComputedStyle(gd).display;\n",
       "        if (!display || display === 'none') {{\n",
       "            console.log([gd, 'removed!']);\n",
       "            Plotly.purge(gd);\n",
       "            observer.disconnect();\n",
       "        }}\n",
       "}});\n",
       "\n",
       "// Listen for the removal of the full notebook cells\n",
       "var notebookContainer = gd.closest('#notebook-container');\n",
       "if (notebookContainer) {{\n",
       "    x.observe(notebookContainer, {childList: true});\n",
       "}}\n",
       "\n",
       "// Listen for the clearing of the current output cell\n",
       "var outputEl = gd.closest('.output');\n",
       "if (outputEl) {{\n",
       "    x.observe(outputEl, {childList: true});\n",
       "}}\n",
       "\n",
       "                        })                };                });            </script>        </div>"
      ]
     },
     "metadata": {},
     "output_type": "display_data"
    }
   ],
   "source": [
    "tfidf_df['cluster'] = tfidf_df['cluster'].astype(str)\n",
    "fig_cluster = px.scatter(\n",
    "    tfidf_df,\n",
    "    x=\"x-tsne\",\n",
    "    y=\"y-tsne\",\n",
    "    color=\"cluster\",\n",
    "    hover_data={\"cleaned_text\": True, \"label\": True, \"cluster\": True},\n",
    "    title=\"Sentences t-SNE Visualization with TF-IDF Embeddings and HDBSCAN Clustering\",\n",
    "    width=1200,\n",
    "    height=1200,\n",
    ")\n",
    "fig_cluster.show()"
   ]
  }
 ],
 "metadata": {
  "kernelspec": {
   "display_name": "PJN",
   "language": "python",
   "name": "python3"
  },
  "language_info": {
   "codemirror_mode": {
    "name": "ipython",
    "version": 3
   },
   "file_extension": ".py",
   "mimetype": "text/x-python",
   "name": "python",
   "nbconvert_exporter": "python",
   "pygments_lexer": "ipython3",
   "version": "3.11.10"
  }
 },
 "nbformat": 4,
 "nbformat_minor": 2
}
