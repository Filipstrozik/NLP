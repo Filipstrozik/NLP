{
 "cells": [
  {
   "cell_type": "code",
   "execution_count": 23,
   "metadata": {},
   "outputs": [
    {
     "name": "stderr",
     "output_type": "stream",
     "text": [
      "[nltk_data] Downloading package stopwords to /home/woleek/nltk_data...\n",
      "[nltk_data]   Package stopwords is already up-to-date!\n",
      "[nltk_data] Downloading package punkt_tab to /home/woleek/nltk_data...\n",
      "[nltk_data]   Package punkt_tab is already up-to-date!\n"
     ]
    },
    {
     "data": {
      "text/plain": [
       "True"
      ]
     },
     "execution_count": 23,
     "metadata": {},
     "output_type": "execute_result"
    }
   ],
   "source": [
    "import pandas as pd\n",
    "import pandas as pd\n",
    "import numpy as np\n",
    "from sklearn.manifold import TSNE\n",
    "import plotly.express as px\n",
    "import nltk\n",
    "from nltk.corpus import stopwords\n",
    "import string\n",
    "import fasttext\n",
    "from sklearn.feature_extraction.text import TfidfVectorizer\n",
    "from sklearn.cluster import HDBSCAN\n",
    "\n",
    "nltk.download(\"stopwords\")\n",
    "nltk.download(\"punkt_tab\")"
   ]
  },
  {
   "cell_type": "markdown",
   "metadata": {},
   "source": [
    "# Load data"
   ]
  },
  {
   "cell_type": "code",
   "execution_count": 24,
   "metadata": {},
   "outputs": [
    {
     "data": {
      "text/html": [
       "<div>\n",
       "<style scoped>\n",
       "    .dataframe tbody tr th:only-of-type {\n",
       "        vertical-align: middle;\n",
       "    }\n",
       "\n",
       "    .dataframe tbody tr th {\n",
       "        vertical-align: top;\n",
       "    }\n",
       "\n",
       "    .dataframe thead th {\n",
       "        text-align: right;\n",
       "    }\n",
       "</style>\n",
       "<table border=\"1\" class=\"dataframe\">\n",
       "  <thead>\n",
       "    <tr style=\"text-align: right;\">\n",
       "      <th></th>\n",
       "      <th>label</th>\n",
       "      <th>text</th>\n",
       "    </tr>\n",
       "  </thead>\n",
       "  <tbody>\n",
       "    <tr>\n",
       "      <th>0</th>\n",
       "      <td>film noir</td>\n",
       "      <td>The film tells the story of Elizabeth (Colbert...</td>\n",
       "    </tr>\n",
       "  </tbody>\n",
       "</table>\n",
       "</div>"
      ],
      "text/plain": [
       "       label                                               text\n",
       "0  film noir  The film tells the story of Elizabeth (Colbert..."
      ]
     },
     "execution_count": 24,
     "metadata": {},
     "output_type": "execute_result"
    }
   ],
   "source": [
    "df = pd.read_csv('../data/movie_plots.csv')\n",
    "df.head(1)"
   ]
  },
  {
   "cell_type": "markdown",
   "metadata": {},
   "source": [
    "# Preprocess text"
   ]
  },
  {
   "cell_type": "code",
   "execution_count": 25,
   "metadata": {},
   "outputs": [],
   "source": [
    "def preprocess_texts(text):\n",
    "    # remove extra whitespace\n",
    "    text = text.strip()\n",
    "    text = \" \".join(text.split())\n",
    "    \n",
    "    # lowercase text\n",
    "    text = text.lower()\n",
    "\n",
    "    # tokenize text\n",
    "    tokens = nltk.word_tokenize(text)\n",
    "\n",
    "    # remove punctuation\n",
    "    tokens = [token for token in tokens if token not in string.punctuation]\n",
    "\n",
    "    # remove stopwords\n",
    "    tokens = [token for token in tokens if token not in stopwords.words(\"english\")]\n",
    "    return \" \".join(tokens)"
   ]
  },
  {
   "cell_type": "code",
   "execution_count": 26,
   "metadata": {},
   "outputs": [
    {
     "data": {
      "text/html": [
       "<div>\n",
       "<style scoped>\n",
       "    .dataframe tbody tr th:only-of-type {\n",
       "        vertical-align: middle;\n",
       "    }\n",
       "\n",
       "    .dataframe tbody tr th {\n",
       "        vertical-align: top;\n",
       "    }\n",
       "\n",
       "    .dataframe thead th {\n",
       "        text-align: right;\n",
       "    }\n",
       "</style>\n",
       "<table border=\"1\" class=\"dataframe\">\n",
       "  <thead>\n",
       "    <tr style=\"text-align: right;\">\n",
       "      <th></th>\n",
       "      <th>label</th>\n",
       "      <th>text</th>\n",
       "      <th>cleaned_text</th>\n",
       "    </tr>\n",
       "  </thead>\n",
       "  <tbody>\n",
       "    <tr>\n",
       "      <th>0</th>\n",
       "      <td>film noir</td>\n",
       "      <td>The film tells the story of Elizabeth (Colbert...</td>\n",
       "      <td>film tells story elizabeth colbert john welles...</td>\n",
       "    </tr>\n",
       "  </tbody>\n",
       "</table>\n",
       "</div>"
      ],
      "text/plain": [
       "       label                                               text  \\\n",
       "0  film noir  The film tells the story of Elizabeth (Colbert...   \n",
       "\n",
       "                                        cleaned_text  \n",
       "0  film tells story elizabeth colbert john welles...  "
      ]
     },
     "execution_count": 26,
     "metadata": {},
     "output_type": "execute_result"
    }
   ],
   "source": [
    "df['cleaned_text'] = df['text'].apply(preprocess_texts)\n",
    "df.head(1)"
   ]
  },
  {
   "cell_type": "markdown",
   "metadata": {},
   "source": [
    "# Text embeddings"
   ]
  },
  {
   "cell_type": "markdown",
   "metadata": {},
   "source": [
    "### FastText"
   ]
  },
  {
   "cell_type": "code",
   "execution_count": 27,
   "metadata": {},
   "outputs": [],
   "source": [
    "ft = fasttext.load_model(\"../models/cc.en.300.bin\")"
   ]
  },
  {
   "cell_type": "code",
   "execution_count": 28,
   "metadata": {},
   "outputs": [
    {
     "data": {
      "text/html": [
       "<div>\n",
       "<style scoped>\n",
       "    .dataframe tbody tr th:only-of-type {\n",
       "        vertical-align: middle;\n",
       "    }\n",
       "\n",
       "    .dataframe tbody tr th {\n",
       "        vertical-align: top;\n",
       "    }\n",
       "\n",
       "    .dataframe thead th {\n",
       "        text-align: right;\n",
       "    }\n",
       "</style>\n",
       "<table border=\"1\" class=\"dataframe\">\n",
       "  <thead>\n",
       "    <tr style=\"text-align: right;\">\n",
       "      <th></th>\n",
       "      <th>label</th>\n",
       "      <th>text</th>\n",
       "      <th>cleaned_text</th>\n",
       "      <th>ft_embeddings</th>\n",
       "    </tr>\n",
       "  </thead>\n",
       "  <tbody>\n",
       "    <tr>\n",
       "      <th>0</th>\n",
       "      <td>film noir</td>\n",
       "      <td>The film tells the story of Elizabeth (Colbert...</td>\n",
       "      <td>film tells story elizabeth colbert john welles...</td>\n",
       "      <td>[-0.0124314, 0.007053868, 0.0022771724, 0.0611...</td>\n",
       "    </tr>\n",
       "  </tbody>\n",
       "</table>\n",
       "</div>"
      ],
      "text/plain": [
       "       label                                               text  \\\n",
       "0  film noir  The film tells the story of Elizabeth (Colbert...   \n",
       "\n",
       "                                        cleaned_text  \\\n",
       "0  film tells story elizabeth colbert john welles...   \n",
       "\n",
       "                                       ft_embeddings  \n",
       "0  [-0.0124314, 0.007053868, 0.0022771724, 0.0611...  "
      ]
     },
     "execution_count": 28,
     "metadata": {},
     "output_type": "execute_result"
    }
   ],
   "source": [
    "ft_df = df.copy()\n",
    "\n",
    "ft_df[\"ft_embeddings\"] = df[\"cleaned_text\"].apply(  \n",
    "    lambda x: ft.get_sentence_vector(x)\n",
    ")\n",
    "ft_df.head(1)"
   ]
  },
  {
   "cell_type": "code",
   "execution_count": 29,
   "metadata": {},
   "outputs": [],
   "source": [
    "ft_embed_arr = np.array(ft_df[\"ft_embeddings\"].to_list())"
   ]
  },
  {
   "cell_type": "code",
   "execution_count": 30,
   "metadata": {},
   "outputs": [
    {
     "data": {
      "text/html": [
       "<div>\n",
       "<style scoped>\n",
       "    .dataframe tbody tr th:only-of-type {\n",
       "        vertical-align: middle;\n",
       "    }\n",
       "\n",
       "    .dataframe tbody tr th {\n",
       "        vertical-align: top;\n",
       "    }\n",
       "\n",
       "    .dataframe thead th {\n",
       "        text-align: right;\n",
       "    }\n",
       "</style>\n",
       "<table border=\"1\" class=\"dataframe\">\n",
       "  <thead>\n",
       "    <tr style=\"text-align: right;\">\n",
       "      <th></th>\n",
       "      <th>label</th>\n",
       "      <th>text</th>\n",
       "      <th>cleaned_text</th>\n",
       "      <th>ft_embeddings</th>\n",
       "      <th>x-tsne</th>\n",
       "      <th>y-tsne</th>\n",
       "    </tr>\n",
       "  </thead>\n",
       "  <tbody>\n",
       "    <tr>\n",
       "      <th>0</th>\n",
       "      <td>film noir</td>\n",
       "      <td>The film tells the story...</td>\n",
       "      <td>film tells story elizabeth colbert john welles...</td>\n",
       "      <td>[-0.0124314, 0.007053868, 0.0022771724, 0.0611...</td>\n",
       "      <td>-1.394166</td>\n",
       "      <td>1.630814</td>\n",
       "    </tr>\n",
       "  </tbody>\n",
       "</table>\n",
       "</div>"
      ],
      "text/plain": [
       "       label                         text  \\\n",
       "0  film noir  The film tells the story...   \n",
       "\n",
       "                                        cleaned_text  \\\n",
       "0  film tells story elizabeth colbert john welles...   \n",
       "\n",
       "                                       ft_embeddings    x-tsne    y-tsne  \n",
       "0  [-0.0124314, 0.007053868, 0.0022771724, 0.0611... -1.394166  1.630814  "
      ]
     },
     "execution_count": 30,
     "metadata": {},
     "output_type": "execute_result"
    }
   ],
   "source": [
    "tsne = TSNE(n_components=2, random_state=42, perplexity=30, max_iter=1000)\n",
    "X_tsne = tsne.fit_transform(ft_embed_arr)\n",
    "\n",
    "ft_df['text'] = ft_df['text'].apply(lambda x: \" \".join(x.split()[:5]) + \"...\")\n",
    "ft_df[\"x-tsne\"] = X_tsne[:, 0]\n",
    "ft_df[\"y-tsne\"] = X_tsne[:, 1]\n",
    "ft_df.head(1)"
   ]
  },
  {
   "cell_type": "code",
   "execution_count": 31,
   "metadata": {},
   "outputs": [
    {
     "data": {
      "application/vnd.plotly.v1+json": {
       "config": {
        "plotlyServerURL": "https://plot.ly"
       },
       "data": [
        {
         "customdata": [
          [
           "The film tells the story...",
           "film noir"
          ],
          [
           "A psychoanalyst and his young...",
           "film noir"
          ],
          [
           "The film is set in...",
           "film noir"
          ],
          [
           "Convict Van Duff is the...",
           "film noir"
          ],
          [
           "Rosalind Dee (DeCarlo) is a...",
           "film noir"
          ],
          [
           "Con man Rick Maxon (Payne)...",
           "film noir"
          ]
         ],
         "hovertemplate": "label=%{customdata[1]}<br>x-tsne=%{x}<br>y-tsne=%{y}<br>text=%{customdata[0]}<extra></extra>",
         "legendgroup": "film noir",
         "marker": {
          "color": "#636efa",
          "symbol": "circle"
         },
         "mode": "markers",
         "name": "film noir",
         "orientation": "v",
         "showlegend": true,
         "type": "scatter",
         "x": [
          -1.3941657543182373,
          2.212857723236084,
          2.7268829345703125,
          1.0386090278625488,
          -5.328765392303467,
          -6.364380836486816
         ],
         "xaxis": "x",
         "y": [
          1.630813717842102,
          2.338374137878418,
          -0.2613137662410736,
          -1.4756382703781128,
          -1.586046814918518,
          -0.7697525024414062
         ],
         "yaxis": "y"
        },
        {
         "customdata": [
          [
           "The eventful life of Swami...",
           "biography"
          ],
          [
           "Raised on a sharecropping plantation...",
           "biography"
          ]
         ],
         "hovertemplate": "label=%{customdata[1]}<br>x-tsne=%{x}<br>y-tsne=%{y}<br>text=%{customdata[0]}<extra></extra>",
         "legendgroup": "biography",
         "marker": {
          "color": "#EF553B",
          "symbol": "circle"
         },
         "mode": "markers",
         "name": "biography",
         "orientation": "v",
         "showlegend": true,
         "type": "scatter",
         "x": [
          8.257712364196777,
          2.881816864013672
         ],
         "xaxis": "x",
         "y": [
          5.897769451141357,
          -3.8801753520965576
         ],
         "yaxis": "y"
        },
        {
         "customdata": [
          [
           "Jagathalaprathapan is a prince who...",
           "unknown"
          ],
          [
           "The story is about two...",
           "unknown"
          ],
          [
           "In 1962, South Korea. Kang...",
           "unknown"
          ],
          [
           "Vani Viswanath plays the central...",
           "unknown"
          ],
          [
           "3000 years ago, the Vader...",
           "unknown"
          ],
          [
           "An orphan girl, named Bindu...",
           "unknown"
          ],
          [
           "Stand-up-comedian Nikita Kolesnikov (Danila Kozlovsky)...",
           "unknown"
          ],
          [
           "Claire of the Moon is...",
           "unknown"
          ],
          [
           "Joseph is a mentally retarded...",
           "unknown"
          ],
          [
           "Balu (Vijayakumar) and Padma (Manjula...",
           "unknown"
          ],
          [
           "On the run from the...",
           "unknown"
          ],
          [
           "A man visits a happy...",
           "unknown"
          ],
          [
           "In 1983 KBS launched a...",
           "unknown"
          ],
          [
           "Rahul (Ramankanth) sees a concert...",
           "unknown"
          ],
          [
           "Rolex (Prakash Raj) is a...",
           "unknown"
          ],
          [
           "A young sculptor searches for...",
           "unknown"
          ],
          [
           "Joan (Purviance) and Magdalen (Sothern)...",
           "unknown"
          ],
          [
           "Indie musician Dong-hoon and cartoonist...",
           "unknown"
          ],
          [
           "The story tells about Ching...",
           "unknown"
          ],
          [
           "A former agent from the...",
           "unknown"
          ],
          [
           "An earthquake releases a bunch...",
           "unknown"
          ],
          [
           "Nine people from around the...",
           "unknown"
          ],
          [
           "The film takes place in...",
           "unknown"
          ],
          [
           "Dharma (Anandaraj) is an auto...",
           "unknown"
          ],
          [
           "Arjun lives in a village....",
           "unknown"
          ],
          [
           "The story of the film...",
           "unknown"
          ],
          [
           "Chu Liuxiang is having drinks...",
           "unknown"
          ],
          [
           "Soo-nam is a poor woman...",
           "unknown"
          ],
          [
           "Vijay (R. Sarathkumar) and Seetha...",
           "unknown"
          ],
          [
           "Vivek is a wanted criminal...",
           "unknown"
          ],
          [
           "Gopal (M.G.R.) is an honest...",
           "unknown"
          ],
          [
           "This film is about the...",
           "unknown"
          ],
          [
           "The story is a family...",
           "unknown"
          ],
          [
           "Kumar is a young and...",
           "unknown"
          ],
          [
           "Twice widowed, Pilnyeo vows never...",
           "unknown"
          ],
          [
           "A new teacher organizes a...",
           "unknown"
          ],
          [
           "In the 1930s, Teresa (Buday)...",
           "unknown"
          ],
          [
           "In the year 1999, the...",
           "unknown"
          ],
          [
           "The film is based on...",
           "unknown"
          ],
          [
           "Jin-hong is a prosecutor who...",
           "unknown"
          ],
          [
           "Kumar, a graduate who decides...",
           "unknown"
          ],
          [
           "The story revolves around a...",
           "unknown"
          ],
          [
           "A genius sculptor Joon-goo (Park...",
           "unknown"
          ],
          [
           "Russian general Marenkov (Robert Shaw)...",
           "unknown"
          ],
          [
           "Rakta Bandhan is a family...",
           "unknown"
          ],
          [
           "Louisa Gould (Jenny Seagrove) hides...",
           "unknown"
          ],
          [
           "Marappan (Anandaraj) is the rebel...",
           "unknown"
          ],
          [
           "The spouses Alec and Zoey,...",
           "unknown"
          ],
          [
           "After the execution of Kattabomman...",
           "unknown"
          ],
          [
           "Alli (Manorama) a veritable jungle...",
           "unknown"
          ],
          [
           "The film takes place in...",
           "unknown"
          ],
          [
           "Raja is a 10-year-old tourist...",
           "unknown"
          ],
          [
           "Rajini's parents are killed by...",
           "unknown"
          ],
          [
           "Pudhayal was about imaginary gold...",
           "unknown"
          ],
          [
           "Kaalia is an action flick...",
           "unknown"
          ],
          [
           "Seven young freedom fighters, heavily...",
           "unknown"
          ],
          [
           "The story revolves around a...",
           "unknown"
          ],
          [
           "Jung-woo is a film director...",
           "unknown"
          ],
          [
           "The story revolves around a...",
           "unknown"
          ],
          [
           "Handsome and fairly good-looking Anil...",
           "unknown"
          ],
          [
           "While on a trip to...",
           "unknown"
          ],
          [
           "The story centres on the...",
           "unknown"
          ],
          [
           "Two persons namely Ajay and...",
           "unknown"
          ],
          [
           "Story of a corpse being...",
           "unknown"
          ],
          [
           "The film revolves around the...",
           "unknown"
          ],
          [
           "Anand (Shivrajkumar) was nicknamed \"Kaddipudi\"...",
           "unknown"
          ],
          [
           "Vijay (MGR), a carefree and...",
           "unknown"
          ],
          [
           "A man loses his memory...",
           "unknown"
          ],
          [
           "The film tells the story...",
           "unknown"
          ]
         ],
         "hovertemplate": "label=%{customdata[1]}<br>x-tsne=%{x}<br>y-tsne=%{y}<br>text=%{customdata[0]}<extra></extra>",
         "legendgroup": "unknown",
         "marker": {
          "color": "#00cc96",
          "symbol": "circle"
         },
         "mode": "markers",
         "name": "unknown",
         "orientation": "v",
         "showlegend": true,
         "type": "scatter",
         "x": [
          5.009643077850342,
          5.563476085662842,
          7.480871200561523,
          4.63248348236084,
          -0.13455374538898468,
          4.3623247146606445,
          5.266811370849609,
          -4.318216800689697,
          -0.6647645235061646,
          5.726032257080078,
          -4.308572292327881,
          3.9729316234588623,
          3.4686343669891357,
          6.010714530944824,
          4.011882305145264,
          4.131044387817383,
          -5.121321201324463,
          0.5252751708030701,
          -7.116682529449463,
          1.398295521736145,
          2.274115800857544,
          2.636784791946411,
          3.3909027576446533,
          2.87233304977417,
          7.092297077178955,
          -2.6033248901367188,
          -1.7215760946273804,
          2.6492726802825928,
          5.679248332977295,
          2.271622657775879,
          5.335801601409912,
          6.795472621917725,
          7.066988945007324,
          5.635136127471924,
          4.158466339111328,
          8.214576721191406,
          2.5443034172058105,
          2.525764226913452,
          7.951767444610596,
          2.26584792137146,
          0.582486093044281,
          2.717561721801758,
          5.017542362213135,
          0.5328848958015442,
          6.307583332061768,
          -8.427844047546387,
          3.534189224243164,
          0.02437903732061386,
          -0.5050589442253113,
          -1.9579646587371826,
          4.160139083862305,
          5.23579740524292,
          5.140263080596924,
          4.518720626831055,
          3.7237987518310547,
          4.984988689422607,
          5.886687278747559,
          5.968054294586182,
          6.483254909515381,
          4.571137428283691,
          5.856649875640869,
          1.0159252882003784,
          2.2625088691711426,
          -0.05957215651869774,
          6.307523250579834,
          3.2933666706085205,
          3.5207579135894775,
          1.3417094945907593,
          5.364963531494141
         ],
         "xaxis": "x",
         "y": [
          6.279392242431641,
          -0.3042672276496887,
          -1.6696670055389404,
          7.311955451965332,
          -6.119076728820801,
          -2.762155055999756,
          1.7377581596374512,
          -4.126106262207031,
          1.0990363359451294,
          8.253113746643066,
          -5.262889862060547,
          1.0135952234268188,
          -5.781984806060791,
          2.2290923595428467,
          7.929433345794678,
          0.9934132695198059,
          -0.46551641821861267,
          1.864846110343933,
          -3.2411317825317383,
          -8.10416316986084,
          -6.698601245880127,
          -6.391044616699219,
          -5.16005277633667,
          6.749215126037598,
          3.7921791076660156,
          -2.3876547813415527,
          3.5979201793670654,
          1.0366413593292236,
          8.34810733795166,
          6.469920635223389,
          7.469124794006348,
          8.242629051208496,
          6.6283392906188965,
          7.558320999145508,
          2.4113969802856445,
          -2.464048385620117,
          0.004522581584751606,
          -6.2516865730285645,
          7.586477279663086,
          2.690143585205078,
          -8.363195419311523,
          1.39601731300354,
          4.403381824493408,
          -4.872995853424072,
          9.296320915222168,
          -1.6498136520385742,
          6.69891357421875,
          2.214768648147583,
          -8.23000431060791,
          5.347583770751953,
          -7.252123832702637,
          3.3106119632720947,
          7.460819721221924,
          9.045326232910156,
          7.093039035797119,
          -1.3472687005996704,
          8.252237319946289,
          -5.405862331390381,
          6.423501491546631,
          8.315591812133789,
          8.716737747192383,
          6.3323750495910645,
          4.076807022094727,
          1.0179613828659058,
          5.644552707672119,
          2.429370403289795,
          -0.006740618962794542,
          3.3687052726745605,
          1.5916242599487305
         ],
         "yaxis": "y"
        },
        {
         "customdata": [
          [
           "Police inspector Holloway (Patrick Wymark)...",
           "mystery"
          ],
          [
           "The story of the film...",
           "mystery"
          ],
          [
           "A blind detective, Duncan Maclain,...",
           "mystery"
          ],
          [
           "Nick and Nora Charles are...",
           "mystery"
          ],
          [
           "When infamous jewel thief Flambeau...",
           "mystery"
          ],
          [
           "It is of the Jack...",
           "mystery"
          ]
         ],
         "hovertemplate": "label=%{customdata[1]}<br>x-tsne=%{x}<br>y-tsne=%{y}<br>text=%{customdata[0]}<extra></extra>",
         "legendgroup": "mystery",
         "marker": {
          "color": "#ab63fa",
          "symbol": "circle"
         },
         "mode": "markers",
         "name": "mystery",
         "orientation": "v",
         "showlegend": true,
         "type": "scatter",
         "x": [
          -5.310770034790039,
          5.189380168914795,
          -5.454736709594727,
          -0.3984096646308899,
          -5.940461158752441,
          0.336414098739624
         ],
         "xaxis": "x",
         "y": [
          2.7848243713378906,
          -0.48277828097343445,
          2.416729211807251,
          -0.9605787992477417,
          1.829118013381958,
          5.837674617767334
         ],
         "yaxis": "y"
        },
        {
         "customdata": [
          [
           "Lewis and Clark and George...",
           "drama"
          ],
          [
           "Oliver's mother, a penniless outcast,...",
           "drama"
          ],
          [
           "Reverend Smith has arrived in...",
           "drama"
          ],
          [
           "Following the plot of the...",
           "drama"
          ],
          [
           "The film is a story...",
           "drama"
          ],
          [
           "Byron Levin works in a...",
           "drama"
          ],
          [
           "This film is about a...",
           "drama"
          ],
          [
           "Bok-nyeo, a mentally handicapped woman,...",
           "drama"
          ],
          [
           "The film is an account...",
           "drama"
          ],
          [
           "A crime reporter, assisted by...",
           "drama"
          ],
          [
           "Marianne (Greta Garbo) is a...",
           "drama"
          ],
          [
           "Shane O'Shea is a young...",
           "drama"
          ],
          [
           "Italian aristocrat Angela Chiaromonte (Helen...",
           "drama"
          ],
          [
           "Dhag is the story of...",
           "drama"
          ],
          [
           "A Mighty Heart is a...",
           "drama"
          ],
          [
           "The film is an examination...",
           "drama"
          ],
          [
           "Gloria Cole and Eddie Swenson...",
           "drama"
          ],
          [
           "The film is about an...",
           "drama"
          ],
          [
           "Chaiti is a young beautiful...",
           "drama"
          ],
          [
           "Fontaine Khaled is the London...",
           "drama"
          ],
          [
           "California gubernatorial candidate Burton (Lyon)...",
           "drama"
          ],
          [
           "A 12-year old young boy...",
           "drama"
          ],
          [
           "Rie and Nao own a...",
           "drama"
          ],
          [
           "The film stars Harry Connick...",
           "drama"
          ],
          [
           "In 1964, inmate Charlie Forsythe...",
           "drama"
          ],
          [
           "Three teenage boys in small-town...",
           "drama"
          ],
          [
           "Taglines: \"Being a girl is...",
           "drama"
          ],
          [
           "Newland Archer is engaged to...",
           "drama"
          ],
          [
           "The Philippines, 1972. Mysterious things...",
           "drama"
          ],
          [
           "Set in Alexandria in 1938,...",
           "drama"
          ],
          [
           "The film is set in...",
           "drama"
          ],
          [
           "Michael Walsh, a husband and...",
           "drama"
          ],
          [
           "The film revolves around an...",
           "drama"
          ],
          [
           "Big Bad Love shares its...",
           "drama"
          ],
          [
           "Ten-year-old Bobby (Frankie Thomas) and...",
           "drama"
          ],
          [
           "Brinda (Sindhu Tolani) is an...",
           "drama"
          ],
          [
           "A mysterious killer, known only...",
           "drama"
          ],
          [
           "Omar Sharif plays Muhassab, headman...",
           "drama"
          ],
          [
           "A young Lakota Sioux (Lou...",
           "drama"
          ],
          [
           "Hikaru Oshiro, noticing that there...",
           "drama"
          ],
          [
           "Chuck Wheeler is released from...",
           "drama"
          ],
          [
           "Leslie is a troubled 1960s...",
           "drama"
          ],
          [
           "In Renaissance Florence, a Florentine...",
           "drama"
          ],
          [
           "\"Illustrated Press\" society editor Lorelei...",
           "drama"
          ],
          [
           "Spanning nearly 20 years from...",
           "drama"
          ],
          [
           "A young construction worker rams...",
           "drama"
          ],
          [
           "Teenager Jackie Knowles (Richard Attenborough)...",
           "drama"
          ],
          [
           "In a desperate attempt to...",
           "drama"
          ],
          [
           "The first act of the...",
           "drama"
          ],
          [
           "In Wilmington, Delaware, Anna Thompson...",
           "drama"
          ],
          [
           "While in a restaurant, Carla...",
           "drama"
          ],
          [
           "In the middle of a...",
           "drama"
          ],
          [
           "Chad (Jimmie Rodgers) is a...",
           "drama"
          ],
          [
           "Midget George Wilson pulls strings...",
           "drama"
          ],
          [
           "In the remote and undeveloped...",
           "drama"
          ],
          [
           "The film is about Jamie,...",
           "drama"
          ],
          [
           "Jean Paurel is a famous...",
           "drama"
          ],
          [
           "Napoleon Bonaparte (Charles Boyer) launches...",
           "drama"
          ],
          [
           "Four friends go on a...",
           "drama"
          ]
         ],
         "hovertemplate": "label=%{customdata[1]}<br>x-tsne=%{x}<br>y-tsne=%{y}<br>text=%{customdata[0]}<extra></extra>",
         "legendgroup": "drama",
         "marker": {
          "color": "#FFA15A",
          "symbol": "circle"
         },
         "mode": "markers",
         "name": "drama",
         "orientation": "v",
         "showlegend": true,
         "type": "scatter",
         "x": [
          -4.3820719718933105,
          -0.5815075039863586,
          -6.030075550079346,
          -2.6328229904174805,
          4.9285969734191895,
          -5.724947929382324,
          0.7313678860664368,
          0.7937327027320862,
          5.693586349487305,
          8.062647819519043,
          -4.032603740692139,
          -3.385718822479248,
          -3.9613921642303467,
          6.944085597991943,
          1.109326720237732,
          6.019171237945557,
          -0.26316842436790466,
          7.304213047027588,
          5.637685298919678,
          -3.047006368637085,
          -7.263313293457031,
          -0.9977264404296875,
          1.6413418054580688,
          -1.8398288488388062,
          -7.550259590148926,
          0.02694610506296158,
          6.761735439300537,
          -2.5495455265045166,
          0.7630875110626221,
          -6.051718235015869,
          5.85957145690918,
          -2.5887343883514404,
          5.198039531707764,
          2.391556739807129,
          -0.8873421549797058,
          2.5789201259613037,
          1.9800440073013306,
          -1.3891853094100952,
          -1.2477201223373413,
          8.235139846801758,
          -1.7500983476638794,
          -7.604465961456299,
          -3.756786823272705,
          -6.188089847564697,
          2.902160406112671,
          1.9901448488235474,
          -7.535029888153076,
          -0.4831925928592682,
          -8.932685852050781,
          1.3087722063064575,
          -2.9688258171081543,
          0.3870299458503723,
          2.1471188068389893,
          -3.179774045944214,
          4.060271263122559,
          2.0701756477355957,
          6.941178798675537,
          -5.4684834480285645,
          -0.7612714767456055
         ],
         "xaxis": "x",
         "y": [
          -3.1414730548858643,
          2.9797775745391846,
          -0.15785866975784302,
          5.096811294555664,
          -3.293179988861084,
          -1.6863377094268799,
          -7.326667308807373,
          4.39396858215332,
          -3.5933525562286377,
          -5.400466442108154,
          -0.24471522867679596,
          -0.25282803177833557,
          1.2541733980178833,
          4.038055896759033,
          -7.25741720199585,
          -3.7111971378326416,
          -2.283071517944336,
          -4.265171051025391,
          5.24843692779541,
          0.0819234848022461,
          4.8913798332214355,
          3.084613561630249,
          -2.4430394172668457,
          0.06721056997776031,
          1.306341290473938,
          0.6459649801254272,
          -1.5223149061203003,
          1.7899802923202515,
          -6.039283752441406,
          3.782824993133545,
          7.004338264465332,
          2.6392831802368164,
          -2.198995351791382,
          -0.3577360212802887,
          2.0147154331207275,
          6.671111106872559,
          2.5738208293914795,
          -2.2170443534851074,
          4.379395008087158,
          -2.5475873947143555,
          -0.8155204057693481,
          1.9130700826644897,
          1.6080787181854248,
          2.5168540477752686,
          -4.963351249694824,
          0.9218818545341492,
          0.32244873046875,
          0.020689906552433968,
          -0.23523744940757751,
          -1.5577282905578613,
          -1.8378454446792603,
          2.6215221881866455,
          -3.968926191329956,
          -0.8278440833091736,
          -2.075939416885376,
          -3.562533140182495,
          1.2042624950408936,
          0.5009006857872009,
          1.1722018718719482
         ],
         "yaxis": "y"
        },
        {
         "customdata": [
          [
           "In a British TV studio,...",
           "comedy"
          ],
          [
           "Neil John Samuel is a...",
           "comedy"
          ],
          [
           "Young sci-fi/fantasy enthusiast Gavin Gore...",
           "comedy"
          ],
          [
           "A popular dance hall girl,...",
           "comedy"
          ],
          [
           "Mordecai C. Jones (Scott) –...",
           "comedy"
          ],
          [
           "Flesh (Vince Murdocco) is kidnapped...",
           "comedy"
          ],
          [
           "Two best friends who live...",
           "comedy"
          ],
          [
           "Curry and Pepper are two...",
           "comedy"
          ],
          [
           "Set in the austere post–World...",
           "comedy"
          ],
          [
           "Molly Gilbert won't accept a...",
           "comedy"
          ],
          [
           "Bumbling cop Chatur Singh (Sanjay...",
           "comedy"
          ],
          [
           "Hardy plays Dr. Henry Tibbett,...",
           "comedy"
          ],
          [
           "After discovering that her state...",
           "comedy"
          ],
          [
           "Struggling young actress Jenny (Marjorie...",
           "comedy"
          ],
          [
           "In every port, sailor Bill,...",
           "comedy"
          ],
          [
           "Hong Deok-Ja continues to run...",
           "comedy"
          ],
          [
           "The film tells the story...",
           "comedy"
          ],
          [
           "After Joe Huggett loses his...",
           "comedy"
          ],
          [
           "Eric Wainwright (Van Johnson), a...",
           "comedy"
          ],
          [
           "Kevin Agar is a Carlton-based...",
           "comedy"
          ],
          [
           "Restaurant owner Dylan Ramsey (David...",
           "comedy"
          ],
          [
           "Jerry McGuire (William Collier Jr.)...",
           "comedy"
          ],
          [
           "Two college girls, Ducky and...",
           "comedy"
          ],
          [
           "The film's slight storyline concerns...",
           "comedy"
          ],
          [
           "A simple handyman, who also...",
           "comedy"
          ],
          [
           "The film tells the story...",
           "comedy"
          ],
          [
           "In a Mexican nightclub, some...",
           "comedy"
          ],
          [
           "Officers throw an extravagant party...",
           "comedy"
          ],
          [
           "Nick (Niven) is the supposed...",
           "comedy"
          ],
          [
           "Chandrabose (Mohanlal) whose wife's (Meera...",
           "comedy"
          ],
          [
           "On board an ocean liner...",
           "comedy"
          ],
          [
           "The boys are involved in...",
           "comedy"
          ],
          [
           "The Rogers family visit Blackpool...",
           "comedy"
          ],
          [
           "The young filmmaker Timothy (Jonathan...",
           "comedy"
          ],
          [
           "Small-fry marijuana harvesters in Northern...",
           "comedy"
          ],
          [
           "The Chain tells the story...",
           "comedy"
          ],
          [
           "The title character is Victor...",
           "comedy"
          ],
          [
           "Harry England (Michael Crawford), a...",
           "comedy"
          ],
          [
           "In Shanghai, Madeleine Linden is...",
           "comedy"
          ],
          [
           "Andy (Lee Bowman) and Janie...",
           "comedy"
          ],
          [
           "A small Midwestern town is...",
           "comedy"
          ],
          [
           "Leonard Maltin: \"Cute comic mystery......",
           "comedy"
          ],
          [
           "The film plays out with...",
           "comedy"
          ],
          [
           "Two sailors are conned into...",
           "comedy"
          ],
          [
           "The movie is about Ilangovan...",
           "comedy"
          ],
          [
           "Alvin Roberts (Lee Tracy) feuds...",
           "comedy"
          ],
          [
           "Stephanie (Lyn Wilde) and Terry...",
           "comedy"
          ],
          [
           "The young brother of two...",
           "comedy"
          ],
          [
           "Jennie Hagan (Swanson) is a...",
           "comedy"
          ],
          [
           "Banerjee stars as Ram Das,...",
           "comedy"
          ],
          [
           "Gracie (Fields) and Laurie (Dolman)...",
           "comedy"
          ]
         ],
         "hovertemplate": "label=%{customdata[1]}<br>x-tsne=%{x}<br>y-tsne=%{y}<br>text=%{customdata[0]}<extra></extra>",
         "legendgroup": "comedy",
         "marker": {
          "color": "#19d3f3",
          "symbol": "circle"
         },
         "mode": "markers",
         "name": "comedy",
         "orientation": "v",
         "showlegend": true,
         "type": "scatter",
         "x": [
          -3.009791851043701,
          -4.808884620666504,
          -3.780596971511841,
          -1.108508586883545,
          -2.377011299133301,
          -0.5107619166374207,
          3.9510905742645264,
          2.2478718757629395,
          2.1202595233917236,
          -0.36489319801330566,
          3.627999782562256,
          -1.6380175352096558,
          3.4602763652801514,
          -3.698375701904297,
          -3.856788396835327,
          1.8724710941314697,
          -7.498119831085205,
          6.580935478210449,
          -4.056277751922607,
          1.658476710319519,
          -2.047715425491333,
          -7.089982986450195,
          3.767111301422119,
          3.161158323287964,
          7.176852226257324,
          0.8336233496665955,
          -3.2100133895874023,
          -5.016185283660889,
          -1.6881612539291382,
          5.635853290557861,
          4.401791095733643,
          -3.731757640838623,
          0.06295380741357803,
          -3.5650241374969482,
          1.2212872505187988,
          4.54014253616333,
          2.9999802112579346,
          -4.535430908203125,
          -4.046515464782715,
          -6.067693710327148,
          -2.68082857131958,
          -5.654359817504883,
          5.962201118469238,
          4.5773186683654785,
          5.5984110832214355,
          -6.6172404289245605,
          -6.353785037994385,
          1.478901982307434,
          -9.23559856414795,
          -1.6679874658584595,
          -4.244112968444824
         ],
         "xaxis": "x",
         "y": [
          -5.076702117919922,
          -2.165315628051758,
          -2.219402551651001,
          -3.1272873878479004,
          -3.5085792541503906,
          -5.176310062408447,
          -1.094262719154358,
          -1.2632783651351929,
          -4.8835601806640625,
          -1.668378472328186,
          7.681535720825195,
          -4.160771369934082,
          -4.448980808258057,
          -0.6032065153121948,
          -2.8476622104644775,
          -1.5146363973617554,
          3.466794729232788,
          -0.13841205835342407,
          -0.8391071557998657,
          -0.679317057132721,
          -0.545107364654541,
          -1.3785794973373413,
          -0.9535458087921143,
          -1.3167307376861572,
          -3.2163562774658203,
          -4.523916721343994,
          -3.908252716064453,
          -2.6957943439483643,
          1.2150511741638184,
          6.502813339233398,
          -1.7753268480300903,
          -6.475979328155518,
          3.839557409286499,
          -2.2058465480804443,
          0.0828452929854393,
          -5.8816704750061035,
          -4.699118137359619,
          0.06583602726459503,
          0.9196521043777466,
          0.5876275897026062,
          -7.61564302444458,
          5.519911766052246,
          -6.080998420715332,
          -0.589995801448822,
          6.4752421379089355,
          -4.323143482208252,
          0.7165395021438599,
          1.7551051378250122,
          1.1306785345077515,
          7.454951763153076,
          -1.0884684324264526
         ],
         "yaxis": "y"
        },
        {
         "customdata": [
          [
           "George Cabot Jr. (Cesar Romero),...",
           "comedy, romance"
          ]
         ],
         "hovertemplate": "label=%{customdata[1]}<br>x-tsne=%{x}<br>y-tsne=%{y}<br>text=%{customdata[0]}<extra></extra>",
         "legendgroup": "comedy, romance",
         "marker": {
          "color": "#FF6692",
          "symbol": "circle"
         },
         "mode": "markers",
         "name": "comedy, romance",
         "orientation": "v",
         "showlegend": true,
         "type": "scatter",
         "x": [
          -6.534955024719238
         ],
         "xaxis": "x",
         "y": [
          -1.995063066482544
         ],
         "yaxis": "y"
        },
        {
         "customdata": [
          [
           "Mongol chief Temujin (later to...",
           "adventure"
          ],
          [
           "Shellshocked following his experiences as...",
           "adventure"
          ],
          [
           "Professional hunter Harry Black is...",
           "adventure"
          ],
          [
           "After being court-martialed and discharged...",
           "adventure"
          ]
         ],
         "hovertemplate": "label=%{customdata[1]}<br>x-tsne=%{x}<br>y-tsne=%{y}<br>text=%{customdata[0]}<extra></extra>",
         "legendgroup": "adventure",
         "marker": {
          "color": "#B6E880",
          "symbol": "circle"
         },
         "mode": "markers",
         "name": "adventure",
         "orientation": "v",
         "showlegend": true,
         "type": "scatter",
         "x": [
          8.764108657836914,
          2.344933032989502,
          -2.4846837520599365,
          3.7607474327087402
         ],
         "xaxis": "x",
         "y": [
          2.500919818878174,
          -4.402400016784668,
          -1.3668662309646606,
          -3.0249063968658447
         ],
         "yaxis": "y"
        },
        {
         "customdata": [
          [
           "The story starts with a...",
           "romance / suspense"
          ]
         ],
         "hovertemplate": "label=%{customdata[1]}<br>x-tsne=%{x}<br>y-tsne=%{y}<br>text=%{customdata[0]}<extra></extra>",
         "legendgroup": "romance / suspense",
         "marker": {
          "color": "#FF97FF",
          "symbol": "circle"
         },
         "mode": "markers",
         "name": "romance / suspense",
         "orientation": "v",
         "showlegend": true,
         "type": "scatter",
         "x": [
          -5.609200954437256
         ],
         "xaxis": "x",
         "y": [
          -4.5166778564453125
         ],
         "yaxis": "y"
        },
        {
         "customdata": [
          [
           "In World War II, two...",
           "pow comedy"
          ]
         ],
         "hovertemplate": "label=%{customdata[1]}<br>x-tsne=%{x}<br>y-tsne=%{y}<br>text=%{customdata[0]}<extra></extra>",
         "legendgroup": "pow comedy",
         "marker": {
          "color": "#FECB52",
          "symbol": "circle"
         },
         "mode": "markers",
         "name": "pow comedy",
         "orientation": "v",
         "showlegend": true,
         "type": "scatter",
         "x": [
          1.0203129053115845
         ],
         "xaxis": "x",
         "y": [
          -4.7421464920043945
         ],
         "yaxis": "y"
        },
        {
         "customdata": [
          [
           "It is love at first...",
           "romance"
          ],
          [
           "Loosely based on true events...",
           "romance"
          ]
         ],
         "hovertemplate": "label=%{customdata[1]}<br>x-tsne=%{x}<br>y-tsne=%{y}<br>text=%{customdata[0]}<extra></extra>",
         "legendgroup": "romance",
         "marker": {
          "color": "#636efa",
          "symbol": "circle"
         },
         "mode": "markers",
         "name": "romance",
         "orientation": "v",
         "showlegend": true,
         "type": "scatter",
         "x": [
          0.5263412594795227,
          -1.5441595315933228
         ],
         "xaxis": "x",
         "y": [
          -2.238011360168457,
          -5.1957268714904785
         ],
         "yaxis": "y"
        },
        {
         "customdata": [
          [
           "Having cleaned up Tombstone, Arizona,...",
           "western"
          ],
          [
           "The story involves a middle-aged...",
           "western"
          ],
          [
           "Stephen Ghent, a mineowner, falls...",
           "western"
          ],
          [
           "After being told by his...",
           "western"
          ],
          [
           "Jeff Hassard (Dean Jagger) and...",
           "western"
          ],
          [
           "A U.S. marshal investigates when...",
           "western"
          ],
          [
           "John Murdock (Paul Richards) is...",
           "western"
          ],
          [
           "A prospective settler, pioneer Bob...",
           "western"
          ],
          [
           "When a town drunk, Gabe,...",
           "western"
          ],
          [
           "Following a series of robberies...",
           "western"
          ],
          [
           "The plot is a mystery...",
           "western"
          ]
         ],
         "hovertemplate": "label=%{customdata[1]}<br>x-tsne=%{x}<br>y-tsne=%{y}<br>text=%{customdata[0]}<extra></extra>",
         "legendgroup": "western",
         "marker": {
          "color": "#EF553B",
          "symbol": "circle"
         },
         "mode": "markers",
         "name": "western",
         "orientation": "v",
         "showlegend": true,
         "type": "scatter",
         "x": [
          -8.131237983703613,
          -0.09522642195224762,
          -4.631590366363525,
          -1.2179045677185059,
          -5.037930488586426,
          -4.774691581726074,
          -2.578657627105713,
          -1.435513973236084,
          -8.804676055908203,
          -6.698410511016846,
          -4.770882606506348
         ],
         "xaxis": "x",
         "y": [
          -3.9146034717559814,
          4.099396228790283,
          0.6571035385131836,
          -1.2454655170440674,
          -1.1268713474273682,
          4.188653469085693,
          -3.1355061531066895,
          -0.2642024755477905,
          -3.1755363941192627,
          -1.1291052103042603,
          3.9136486053466797
         ],
         "yaxis": "y"
        },
        {
         "customdata": [
          [
           "The story is about a...",
           "romantic comedy"
          ],
          [
           "Scott (Ryan Phillippe) is a...",
           "romantic comedy"
          ],
          [
           "Trust concerns the unusual romance...",
           "romantic comedy"
          ],
          [
           "Alim is a young gay...",
           "romantic comedy"
          ],
          [
           "Daniels, in her final silent...",
           "romantic comedy"
          ]
         ],
         "hovertemplate": "label=%{customdata[1]}<br>x-tsne=%{x}<br>y-tsne=%{y}<br>text=%{customdata[0]}<extra></extra>",
         "legendgroup": "romantic comedy",
         "marker": {
          "color": "#00cc96",
          "symbol": "circle"
         },
         "mode": "markers",
         "name": "romantic comedy",
         "orientation": "v",
         "showlegend": true,
         "type": "scatter",
         "x": [
          6.517717361450195,
          -0.38191813230514526,
          3.050791025161743,
          3.4527747631073,
          -5.361746788024902
         ],
         "xaxis": "x",
         "y": [
          7.34661340713501,
          1.9303817749023438,
          -0.31745898723602295,
          0.6940600872039795,
          -6.9355950355529785
         ],
         "yaxis": "y"
        },
        {
         "customdata": [
          [
           "Kisan Kanya was based on...",
           "social"
          ]
         ],
         "hovertemplate": "label=%{customdata[1]}<br>x-tsne=%{x}<br>y-tsne=%{y}<br>text=%{customdata[0]}<extra></extra>",
         "legendgroup": "social",
         "marker": {
          "color": "#ab63fa",
          "symbol": "circle"
         },
         "mode": "markers",
         "name": "social",
         "orientation": "v",
         "showlegend": true,
         "type": "scatter",
         "x": [
          4.183669567108154
         ],
         "xaxis": "x",
         "y": [
          5.810468673706055
         ],
         "yaxis": "y"
        },
        {
         "customdata": [
          [
           "A psychic woman leads archaeologists...",
           "horror"
          ],
          [
           "Christopher, a lustful man goes...",
           "horror"
          ],
          [
           "Charles Kessler (Bela Lugosi) is...",
           "horror"
          ],
          [
           "During a TV segment about...",
           "horror"
          ]
         ],
         "hovertemplate": "label=%{customdata[1]}<br>x-tsne=%{x}<br>y-tsne=%{y}<br>text=%{customdata[0]}<extra></extra>",
         "legendgroup": "horror",
         "marker": {
          "color": "#FFA15A",
          "symbol": "circle"
         },
         "mode": "markers",
         "name": "horror",
         "orientation": "v",
         "showlegend": true,
         "type": "scatter",
         "x": [
          -0.4901624321937561,
          -2.908397674560547,
          -4.787932872772217,
          6.357637882232666
         ],
         "xaxis": "x",
         "y": [
          -4.191984176635742,
          3.601468086242676,
          2.5521745681762695,
          -6.263070583343506
         ],
         "yaxis": "y"
        },
        {
         "customdata": [
          [
           "Two reporters, Curtis (Conrad Phillips)...",
           "crime"
          ],
          [
           "Edgar Mills and his mistress...",
           "crime"
          ],
          [
           "Inventor and engineer Robert Draper...",
           "crime"
          ],
          [
           "United States Secret Service Lieutenant...",
           "crime"
          ],
          [
           "A new gas formula that...",
           "crime"
          ],
          [
           "American gambler Nick Cain (Raft)...",
           "crime"
          ],
          [
           "Two brothers become involved with...",
           "crime"
          ]
         ],
         "hovertemplate": "label=%{customdata[1]}<br>x-tsne=%{x}<br>y-tsne=%{y}<br>text=%{customdata[0]}<extra></extra>",
         "legendgroup": "crime",
         "marker": {
          "color": "#19d3f3",
          "symbol": "circle"
         },
         "mode": "markers",
         "name": "crime",
         "orientation": "v",
         "showlegend": true,
         "type": "scatter",
         "x": [
          -7.240383625030518,
          -4.161777496337891,
          -6.880002498626709,
          -6.244478225708008,
          2.904554843902588,
          -5.092229843139648,
          6.1880998611450195
         ],
         "xaxis": "x",
         "y": [
          -0.5879475474357605,
          2.7681198120117188,
          2.2711024284362793,
          -2.2414140701293945,
          -6.927126407623291,
          2.2171103954315186,
          -4.7785325050354
         ],
         "yaxis": "y"
        },
        {
         "customdata": [
          [
           "Dr. Markoff (J. Carrol Naish)...",
           "science fiction"
          ]
         ],
         "hovertemplate": "label=%{customdata[1]}<br>x-tsne=%{x}<br>y-tsne=%{y}<br>text=%{customdata[0]}<extra></extra>",
         "legendgroup": "science fiction",
         "marker": {
          "color": "#FF6692",
          "symbol": "circle"
         },
         "mode": "markers",
         "name": "science fiction",
         "orientation": "v",
         "showlegend": true,
         "type": "scatter",
         "x": [
          -1.5381410121917725
         ],
         "xaxis": "x",
         "y": [
          -4.498261451721191
         ],
         "yaxis": "y"
        },
        {
         "customdata": [
          [
           "The plot revolves around the...",
           "coming of age drama"
          ]
         ],
         "hovertemplate": "label=%{customdata[1]}<br>x-tsne=%{x}<br>y-tsne=%{y}<br>text=%{customdata[0]}<extra></extra>",
         "legendgroup": "coming of age drama",
         "marker": {
          "color": "#B6E880",
          "symbol": "circle"
         },
         "mode": "markers",
         "name": "coming of age drama",
         "orientation": "v",
         "showlegend": true,
         "type": "scatter",
         "x": [
          -1.7155519723892212
         ],
         "xaxis": "x",
         "y": [
          2.046030044555664
         ],
         "yaxis": "y"
        },
        {
         "customdata": [
          [
           "The movie opens with Fung...",
           "erotic / drama"
          ]
         ],
         "hovertemplate": "label=%{customdata[1]}<br>x-tsne=%{x}<br>y-tsne=%{y}<br>text=%{customdata[0]}<extra></extra>",
         "legendgroup": "erotic / drama",
         "marker": {
          "color": "#FF97FF",
          "symbol": "circle"
         },
         "mode": "markers",
         "name": "erotic / drama",
         "orientation": "v",
         "showlegend": true,
         "type": "scatter",
         "x": [
          -2.8373262882232666
         ],
         "xaxis": "x",
         "y": [
          0.25183677673339844
         ],
         "yaxis": "y"
        },
        {
         "customdata": [
          [
           "Nikki Singh (Akshay Oberoi) is...",
           "neo-noir"
          ]
         ],
         "hovertemplate": "label=%{customdata[1]}<br>x-tsne=%{x}<br>y-tsne=%{y}<br>text=%{customdata[0]}<extra></extra>",
         "legendgroup": "neo-noir",
         "marker": {
          "color": "#FECB52",
          "symbol": "circle"
         },
         "mode": "markers",
         "name": "neo-noir",
         "orientation": "v",
         "showlegend": true,
         "type": "scatter",
         "x": [
          4.744901180267334
         ],
         "xaxis": "x",
         "y": [
          7.285480499267578
         ],
         "yaxis": "y"
        },
        {
         "customdata": [
          [
           "Harvey Keitel plays an American...",
           "crime drama"
          ],
          [
           "The drama tells of a...",
           "crime drama"
          ],
          [
           "With five rival oil companies...",
           "crime drama"
          ]
         ],
         "hovertemplate": "label=%{customdata[1]}<br>x-tsne=%{x}<br>y-tsne=%{y}<br>text=%{customdata[0]}<extra></extra>",
         "legendgroup": "crime drama",
         "marker": {
          "color": "#636efa",
          "symbol": "circle"
         },
         "mode": "markers",
         "name": "crime drama",
         "orientation": "v",
         "showlegend": true,
         "type": "scatter",
         "x": [
          -6.652729511260986,
          -1.8181312084197998,
          0.2348371297121048
         ],
         "xaxis": "x",
         "y": [
          -5.255837917327881,
          -4.881434440612793,
          -0.7114399671554565
         ],
         "yaxis": "y"
        },
        {
         "customdata": [
          [
           "Irène Bordoni is cast as...",
           "musical comedy"
          ],
          [
           "Flagg (Victor McLaglen) and Quirt...",
           "musical comedy"
          ]
         ],
         "hovertemplate": "label=%{customdata[1]}<br>x-tsne=%{x}<br>y-tsne=%{y}<br>text=%{customdata[0]}<extra></extra>",
         "legendgroup": "musical comedy",
         "marker": {
          "color": "#EF553B",
          "symbol": "circle"
         },
         "mode": "markers",
         "name": "musical comedy",
         "orientation": "v",
         "showlegend": true,
         "type": "scatter",
         "x": [
          -5.999197959899902,
          5.8010125160217285
         ],
         "xaxis": "x",
         "y": [
          -1.0617111921310425,
          -5.398220539093018
         ],
         "yaxis": "y"
        },
        {
         "customdata": [
          [
           "This film is about two...",
           "romance, comedy"
          ]
         ],
         "hovertemplate": "label=%{customdata[1]}<br>x-tsne=%{x}<br>y-tsne=%{y}<br>text=%{customdata[0]}<extra></extra>",
         "legendgroup": "romance, comedy",
         "marker": {
          "color": "#00cc96",
          "symbol": "circle"
         },
         "mode": "markers",
         "name": "romance, comedy",
         "orientation": "v",
         "showlegend": true,
         "type": "scatter",
         "x": [
          7.216396808624268
         ],
         "xaxis": "x",
         "y": [
          8.729574203491211
         ],
         "yaxis": "y"
        },
        {
         "customdata": [
          [
           "Cosmo Reif, an affectless mob...",
           "comedy, thriller"
          ]
         ],
         "hovertemplate": "label=%{customdata[1]}<br>x-tsne=%{x}<br>y-tsne=%{y}<br>text=%{customdata[0]}<extra></extra>",
         "legendgroup": "comedy, thriller",
         "marker": {
          "color": "#ab63fa",
          "symbol": "circle"
         },
         "mode": "markers",
         "name": "comedy, thriller",
         "orientation": "v",
         "showlegend": true,
         "type": "scatter",
         "x": [
          0.753746509552002
         ],
         "xaxis": "x",
         "y": [
          -0.8986898064613342
         ],
         "yaxis": "y"
        },
        {
         "customdata": [
          [
           "The film is a retelling...",
           "fantasy"
          ],
          [
           "Loosely based on the historical...",
           "fantasy"
          ]
         ],
         "hovertemplate": "label=%{customdata[1]}<br>x-tsne=%{x}<br>y-tsne=%{y}<br>text=%{customdata[0]}<extra></extra>",
         "legendgroup": "fantasy",
         "marker": {
          "color": "#FFA15A",
          "symbol": "circle"
         },
         "mode": "markers",
         "name": "fantasy",
         "orientation": "v",
         "showlegend": true,
         "type": "scatter",
         "x": [
          -1.996414303779602,
          -3.6718595027923584
         ],
         "xaxis": "x",
         "y": [
          -6.3573832511901855,
          5.51345682144165
         ],
         "yaxis": "y"
        },
        {
         "customdata": [
          [
           "Two escaping killers hide out...",
           "suspense"
          ]
         ],
         "hovertemplate": "label=%{customdata[1]}<br>x-tsne=%{x}<br>y-tsne=%{y}<br>text=%{customdata[0]}<extra></extra>",
         "legendgroup": "suspense",
         "marker": {
          "color": "#19d3f3",
          "symbol": "circle"
         },
         "mode": "markers",
         "name": "suspense",
         "orientation": "v",
         "showlegend": true,
         "type": "scatter",
         "x": [
          0.576550304889679
         ],
         "xaxis": "x",
         "y": [
          0.04495728388428688
         ],
         "yaxis": "y"
        },
        {
         "customdata": [
          [
           "The Kitauji high school concert...",
           "drama, youth, musical, romance, idol"
          ]
         ],
         "hovertemplate": "label=%{customdata[1]}<br>x-tsne=%{x}<br>y-tsne=%{y}<br>text=%{customdata[0]}<extra></extra>",
         "legendgroup": "drama, youth, musical, romance, idol",
         "marker": {
          "color": "#FF6692",
          "symbol": "circle"
         },
         "mode": "markers",
         "name": "drama, youth, musical, romance, idol",
         "orientation": "v",
         "showlegend": true,
         "type": "scatter",
         "x": [
          8.250386238098145
         ],
         "xaxis": "x",
         "y": [
          -2.488614082336426
         ],
         "yaxis": "y"
        },
        {
         "customdata": [
          [
           "Lost & Found is basically...",
           "romance, drama"
          ],
          [
           "Roanne Sanchez, a young girl...",
           "romance, drama"
          ]
         ],
         "hovertemplate": "label=%{customdata[1]}<br>x-tsne=%{x}<br>y-tsne=%{y}<br>text=%{customdata[0]}<extra></extra>",
         "legendgroup": "romance, drama",
         "marker": {
          "color": "#B6E880",
          "symbol": "circle"
         },
         "mode": "markers",
         "name": "romance, drama",
         "orientation": "v",
         "showlegend": true,
         "type": "scatter",
         "x": [
          6.908613204956055,
          3.185006856918335
         ],
         "xaxis": "x",
         "y": [
          4.401787757873535,
          -0.6567690968513489
         ],
         "yaxis": "y"
        },
        {
         "customdata": [
          [
           "This film follows the lead...",
           "action, sci-fi"
          ]
         ],
         "hovertemplate": "label=%{customdata[1]}<br>x-tsne=%{x}<br>y-tsne=%{y}<br>text=%{customdata[0]}<extra></extra>",
         "legendgroup": "action, sci-fi",
         "marker": {
          "color": "#FF97FF",
          "symbol": "circle"
         },
         "mode": "markers",
         "name": "action, sci-fi",
         "orientation": "v",
         "showlegend": true,
         "type": "scatter",
         "x": [
          -2.299171209335327
         ],
         "xaxis": "x",
         "y": [
          -5.728867530822754
         ],
         "yaxis": "y"
        },
        {
         "customdata": [
          [
           "Unlike other Alamo films that...",
           "western, war"
          ]
         ],
         "hovertemplate": "label=%{customdata[1]}<br>x-tsne=%{x}<br>y-tsne=%{y}<br>text=%{customdata[0]}<extra></extra>",
         "legendgroup": "western, war",
         "marker": {
          "color": "#FECB52",
          "symbol": "circle"
         },
         "mode": "markers",
         "name": "western, war",
         "orientation": "v",
         "showlegend": true,
         "type": "scatter",
         "x": [
          -7.972168445587158
         ],
         "xaxis": "x",
         "y": [
          -1.6670676469802856
         ],
         "yaxis": "y"
        },
        {
         "customdata": [
          [
           "A San Francisco earthquake orphan...",
           "comedy drama"
          ],
          [
           "The story revolves around a...",
           "comedy drama"
          ]
         ],
         "hovertemplate": "label=%{customdata[1]}<br>x-tsne=%{x}<br>y-tsne=%{y}<br>text=%{customdata[0]}<extra></extra>",
         "legendgroup": "comedy drama",
         "marker": {
          "color": "#636efa",
          "symbol": "circle"
         },
         "mode": "markers",
         "name": "comedy drama",
         "orientation": "v",
         "showlegend": true,
         "type": "scatter",
         "x": [
          -4.799973487854004,
          3.4903318881988525
         ],
         "xaxis": "x",
         "y": [
          1.0895768404006958,
          3.3401811122894287
         ],
         "yaxis": "y"
        },
        {
         "customdata": [
          [
           "The story line centres on...",
           "musical"
          ],
          [
           "Big-league baseball players Jerry and...",
           "musical"
          ],
          [
           "During World War II singer...",
           "musical"
          ],
          [
           "Bonnie and Connie Jones are...",
           "musical"
          ]
         ],
         "hovertemplate": "label=%{customdata[1]}<br>x-tsne=%{x}<br>y-tsne=%{y}<br>text=%{customdata[0]}<extra></extra>",
         "legendgroup": "musical",
         "marker": {
          "color": "#EF553B",
          "symbol": "circle"
         },
         "mode": "markers",
         "name": "musical",
         "orientation": "v",
         "showlegend": true,
         "type": "scatter",
         "x": [
          6.309376239776611,
          0.7179202437400818,
          1.4163843393325806,
          8.496511459350586
         ],
         "xaxis": "x",
         "y": [
          -2.1962859630584717,
          -2.549861431121826,
          -5.3953537940979,
          0.6580538153648376
         ],
         "yaxis": "y"
        },
        {
         "customdata": [
          [
           "Sets in the 19th century,...",
           "romantic drama"
          ]
         ],
         "hovertemplate": "label=%{customdata[1]}<br>x-tsne=%{x}<br>y-tsne=%{y}<br>text=%{customdata[0]}<extra></extra>",
         "legendgroup": "romantic drama",
         "marker": {
          "color": "#00cc96",
          "symbol": "circle"
         },
         "mode": "markers",
         "name": "romantic drama",
         "orientation": "v",
         "showlegend": true,
         "type": "scatter",
         "x": [
          -6.474541187286377
         ],
         "xaxis": "x",
         "y": [
          -2.942376136779785
         ],
         "yaxis": "y"
        },
        {
         "customdata": [
          [
           "Akashangalil is the story of...",
           "family"
          ]
         ],
         "hovertemplate": "label=%{customdata[1]}<br>x-tsne=%{x}<br>y-tsne=%{y}<br>text=%{customdata[0]}<extra></extra>",
         "legendgroup": "family",
         "marker": {
          "color": "#ab63fa",
          "symbol": "circle"
         },
         "mode": "markers",
         "name": "family",
         "orientation": "v",
         "showlegend": true,
         "type": "scatter",
         "x": [
          6.170067310333252
         ],
         "xaxis": "x",
         "y": [
          7.009763240814209
         ],
         "yaxis": "y"
        },
        {
         "customdata": [
          [
           "Sally Elliott (Rita Hayworth), a...",
           "musical biopic"
          ]
         ],
         "hovertemplate": "label=%{customdata[1]}<br>x-tsne=%{x}<br>y-tsne=%{y}<br>text=%{customdata[0]}<extra></extra>",
         "legendgroup": "musical biopic",
         "marker": {
          "color": "#FFA15A",
          "symbol": "circle"
         },
         "mode": "markers",
         "name": "musical biopic",
         "orientation": "v",
         "showlegend": true,
         "type": "scatter",
         "x": [
          -4.1779913902282715
         ],
         "xaxis": "x",
         "y": [
          -1.1218507289886475
         ],
         "yaxis": "y"
        },
        {
         "customdata": [
          [
           "The Hartford Transcontinental Railroad is...",
           "western serial"
          ]
         ],
         "hovertemplate": "label=%{customdata[1]}<br>x-tsne=%{x}<br>y-tsne=%{y}<br>text=%{customdata[0]}<extra></extra>",
         "legendgroup": "western serial",
         "marker": {
          "color": "#19d3f3",
          "symbol": "circle"
         },
         "mode": "markers",
         "name": "western serial",
         "orientation": "v",
         "showlegend": true,
         "type": "scatter",
         "x": [
          -0.8360868692398071
         ],
         "xaxis": "x",
         "y": [
          -1.2850313186645508
         ],
         "yaxis": "y"
        },
        {
         "customdata": [
          [
           "When Los Angeles' police force...",
           "thriller"
          ],
          [
           "Frankie Bono, a hitman from...",
           "thriller"
          ],
          [
           "Two days before Christmas, a...",
           "thriller"
          ],
          [
           "An old gangster, with a...",
           "thriller"
          ],
          [
           "Julia Hemingway (Ina Skriver, credited...",
           "thriller"
          ],
          [
           "This film is about the...",
           "thriller"
          ],
          [
           "A young woman goes to...",
           "thriller"
          ],
          [
           "A spirit (\"Patrick\") haunts a...",
           "thriller"
          ],
          [
           "The story follows a group...",
           "thriller"
          ],
          [
           "In a quiet English town,...",
           "thriller"
          ]
         ],
         "hovertemplate": "label=%{customdata[1]}<br>x-tsne=%{x}<br>y-tsne=%{y}<br>text=%{customdata[0]}<extra></extra>",
         "legendgroup": "thriller",
         "marker": {
          "color": "#FF6692",
          "symbol": "circle"
         },
         "mode": "markers",
         "name": "thriller",
         "orientation": "v",
         "showlegend": true,
         "type": "scatter",
         "x": [
          -0.3692602813243866,
          0.5162885785102844,
          0.13424049317836761,
          1.2652095556259155,
          -5.571293354034424,
          6.795472621917725,
          2.062938690185547,
          -2.9553186893463135,
          -1.388525128364563,
          -6.864456653594971
         ],
         "xaxis": "x",
         "y": [
          -0.2745901346206665,
          -0.9360425472259521,
          6.226827621459961,
          0.5124559998512268,
          -2.66896915435791,
          8.242629051208496,
          3.94212007522583,
          0.921127438545227,
          0.5491731762886047,
          -0.8108391165733337
         ],
         "yaxis": "y"
        },
        {
         "customdata": [
          [
           "Hiraasat is an action film,...",
           "action, crime, drama"
          ]
         ],
         "hovertemplate": "label=%{customdata[1]}<br>x-tsne=%{x}<br>y-tsne=%{y}<br>text=%{customdata[0]}<extra></extra>",
         "legendgroup": "action, crime, drama",
         "marker": {
          "color": "#B6E880",
          "symbol": "circle"
         },
         "mode": "markers",
         "name": "action, crime, drama",
         "orientation": "v",
         "showlegend": true,
         "type": "scatter",
         "x": [
          6.2599592208862305
         ],
         "xaxis": "x",
         "y": [
          9.67400074005127
         ],
         "yaxis": "y"
        },
        {
         "customdata": [
          [
           "Tulsi tells the story of...",
           " "
          ]
         ],
         "hovertemplate": "label=%{customdata[1]}<br>x-tsne=%{x}<br>y-tsne=%{y}<br>text=%{customdata[0]}<extra></extra>",
         "legendgroup": " ",
         "marker": {
          "color": "#FF97FF",
          "symbol": "circle"
         },
         "mode": "markers",
         "name": " ",
         "orientation": "v",
         "showlegend": true,
         "type": "scatter",
         "x": [
          5.278049468994141
         ],
         "xaxis": "x",
         "y": [
          8.31495189666748
         ],
         "yaxis": "y"
        },
        {
         "customdata": [
          [
           "Karthi (Mahesh) is a college...",
           "romantic thriller"
          ]
         ],
         "hovertemplate": "label=%{customdata[1]}<br>x-tsne=%{x}<br>y-tsne=%{y}<br>text=%{customdata[0]}<extra></extra>",
         "legendgroup": "romantic thriller",
         "marker": {
          "color": "#FECB52",
          "symbol": "circle"
         },
         "mode": "markers",
         "name": "romantic thriller",
         "orientation": "v",
         "showlegend": true,
         "type": "scatter",
         "x": [
          1.3178452253341675
         ],
         "xaxis": "x",
         "y": [
          7.470613479614258
         ],
         "yaxis": "y"
        },
        {
         "customdata": [
          [
           "The story revolves around an...",
           "drama, thriller"
          ]
         ],
         "hovertemplate": "label=%{customdata[1]}<br>x-tsne=%{x}<br>y-tsne=%{y}<br>text=%{customdata[0]}<extra></extra>",
         "legendgroup": "drama, thriller",
         "marker": {
          "color": "#636efa",
          "symbol": "circle"
         },
         "mode": "markers",
         "name": "drama, thriller",
         "orientation": "v",
         "showlegend": true,
         "type": "scatter",
         "x": [
          2.110506772994995
         ],
         "xaxis": "x",
         "y": [
          2.6377317905426025
         ],
         "yaxis": "y"
        },
        {
         "customdata": [
          [
           "A bullied teen chef wants...",
           "comedy-drama"
          ]
         ],
         "hovertemplate": "label=%{customdata[1]}<br>x-tsne=%{x}<br>y-tsne=%{y}<br>text=%{customdata[0]}<extra></extra>",
         "legendgroup": "comedy-drama",
         "marker": {
          "color": "#EF553B",
          "symbol": "circle"
         },
         "mode": "markers",
         "name": "comedy-drama",
         "orientation": "v",
         "showlegend": true,
         "type": "scatter",
         "x": [
          -0.3954392075538635
         ],
         "xaxis": "x",
         "y": [
          -1.6139752864837646
         ],
         "yaxis": "y"
        },
        {
         "customdata": [
          [
           "A rivalry develops between veteran...",
           "war"
          ]
         ],
         "hovertemplate": "label=%{customdata[1]}<br>x-tsne=%{x}<br>y-tsne=%{y}<br>text=%{customdata[0]}<extra></extra>",
         "legendgroup": "war",
         "marker": {
          "color": "#00cc96",
          "symbol": "circle"
         },
         "mode": "markers",
         "name": "war",
         "orientation": "v",
         "showlegend": true,
         "type": "scatter",
         "x": [
          -8.372621536254883
         ],
         "xaxis": "x",
         "y": [
          -1.7233227491378784
         ],
         "yaxis": "y"
        },
        {
         "customdata": [
          [
           "In the autumn of 1950,...",
           "drama / history / western"
          ]
         ],
         "hovertemplate": "label=%{customdata[1]}<br>x-tsne=%{x}<br>y-tsne=%{y}<br>text=%{customdata[0]}<extra></extra>",
         "legendgroup": "drama / history / western",
         "marker": {
          "color": "#ab63fa",
          "symbol": "circle"
         },
         "mode": "markers",
         "name": "drama / history / western",
         "orientation": "v",
         "showlegend": true,
         "type": "scatter",
         "x": [
          -0.08607849478721619
         ],
         "xaxis": "x",
         "y": [
          -8.527997016906738
         ],
         "yaxis": "y"
        },
        {
         "customdata": [
          [
           "In a small town, mentally...",
           "dramedy"
          ],
          [
           "Newly transferred college student Lily...",
           "dramedy"
          ]
         ],
         "hovertemplate": "label=%{customdata[1]}<br>x-tsne=%{x}<br>y-tsne=%{y}<br>text=%{customdata[0]}<extra></extra>",
         "legendgroup": "dramedy",
         "marker": {
          "color": "#FFA15A",
          "symbol": "circle"
         },
         "mode": "markers",
         "name": "dramedy",
         "orientation": "v",
         "showlegend": true,
         "type": "scatter",
         "x": [
          -8.358904838562012,
          6.957373142242432
         ],
         "xaxis": "x",
         "y": [
          -0.11450225114822388,
          -2.3724710941314697
         ],
         "yaxis": "y"
        },
        {
         "customdata": [
          [
           "The story of a 10th...",
           "rom com"
          ]
         ],
         "hovertemplate": "label=%{customdata[1]}<br>x-tsne=%{x}<br>y-tsne=%{y}<br>text=%{customdata[0]}<extra></extra>",
         "legendgroup": "rom com",
         "marker": {
          "color": "#19d3f3",
          "symbol": "circle"
         },
         "mode": "markers",
         "name": "rom com",
         "orientation": "v",
         "showlegend": true,
         "type": "scatter",
         "x": [
          8.103959083557129
         ],
         "xaxis": "x",
         "y": [
          -0.8829301595687866
         ],
         "yaxis": "y"
        },
        {
         "customdata": [
          [
           "The plot of the film...",
           "nature"
          ]
         ],
         "hovertemplate": "label=%{customdata[1]}<br>x-tsne=%{x}<br>y-tsne=%{y}<br>text=%{customdata[0]}<extra></extra>",
         "legendgroup": "nature",
         "marker": {
          "color": "#FF6692",
          "symbol": "circle"
         },
         "mode": "markers",
         "name": "nature",
         "orientation": "v",
         "showlegend": true,
         "type": "scatter",
         "x": [
          3.121574878692627
         ],
         "xaxis": "x",
         "y": [
          -2.041135787963867
         ],
         "yaxis": "y"
        },
        {
         "customdata": [
          [
           "The film is a historical...",
           "historical"
          ]
         ],
         "hovertemplate": "label=%{customdata[1]}<br>x-tsne=%{x}<br>y-tsne=%{y}<br>text=%{customdata[0]}<extra></extra>",
         "legendgroup": "historical",
         "marker": {
          "color": "#B6E880",
          "symbol": "circle"
         },
         "mode": "markers",
         "name": "historical",
         "orientation": "v",
         "showlegend": true,
         "type": "scatter",
         "x": [
          6.034557342529297
         ],
         "xaxis": "x",
         "y": [
          10.211298942565918
         ],
         "yaxis": "y"
        },
        {
         "customdata": [
          [
           "The film is about an...",
           "short black comedy"
          ]
         ],
         "hovertemplate": "label=%{customdata[1]}<br>x-tsne=%{x}<br>y-tsne=%{y}<br>text=%{customdata[0]}<extra></extra>",
         "legendgroup": "short black comedy",
         "marker": {
          "color": "#FF97FF",
          "symbol": "circle"
         },
         "mode": "markers",
         "name": "short black comedy",
         "orientation": "v",
         "showlegend": true,
         "type": "scatter",
         "x": [
          2.1302907466888428
         ],
         "xaxis": "x",
         "y": [
          1.5386918783187866
         ],
         "yaxis": "y"
        },
        {
         "customdata": [
          [
           "Agimat (Bong Revilla, Jr.) is...",
           "fantasy, comedy, adventure"
          ]
         ],
         "hovertemplate": "label=%{customdata[1]}<br>x-tsne=%{x}<br>y-tsne=%{y}<br>text=%{customdata[0]}<extra></extra>",
         "legendgroup": "fantasy, comedy, adventure",
         "marker": {
          "color": "#FECB52",
          "symbol": "circle"
         },
         "mode": "markers",
         "name": "fantasy, comedy, adventure",
         "orientation": "v",
         "showlegend": true,
         "type": "scatter",
         "x": [
          -0.598549485206604
         ],
         "xaxis": "x",
         "y": [
          -5.229527473449707
         ],
         "yaxis": "y"
        },
        {
         "customdata": [
          [
           "The film is set in...",
           "biblical"
          ]
         ],
         "hovertemplate": "label=%{customdata[1]}<br>x-tsne=%{x}<br>y-tsne=%{y}<br>text=%{customdata[0]}<extra></extra>",
         "legendgroup": "biblical",
         "marker": {
          "color": "#636efa",
          "symbol": "circle"
         },
         "mode": "markers",
         "name": "biblical",
         "orientation": "v",
         "showlegend": true,
         "type": "scatter",
         "x": [
          -3.475602388381958
         ],
         "xaxis": "x",
         "y": [
          5.8280181884765625
         ],
         "yaxis": "y"
        },
        {
         "customdata": [
          [
           "Hans a young German journalist...",
           "sex comedy"
          ]
         ],
         "hovertemplate": "label=%{customdata[1]}<br>x-tsne=%{x}<br>y-tsne=%{y}<br>text=%{customdata[0]}<extra></extra>",
         "legendgroup": "sex comedy",
         "marker": {
          "color": "#EF553B",
          "symbol": "circle"
         },
         "mode": "markers",
         "name": "sex comedy",
         "orientation": "v",
         "showlegend": true,
         "type": "scatter",
         "x": [
          4.633820533752441
         ],
         "xaxis": "x",
         "y": [
          -2.209954261779785
         ],
         "yaxis": "y"
        },
        {
         "customdata": [
          [
           "Hajj, a rascally beggar on...",
           "costume drama"
          ]
         ],
         "hovertemplate": "label=%{customdata[1]}<br>x-tsne=%{x}<br>y-tsne=%{y}<br>text=%{customdata[0]}<extra></extra>",
         "legendgroup": "costume drama",
         "marker": {
          "color": "#00cc96",
          "symbol": "circle"
         },
         "mode": "markers",
         "name": "costume drama",
         "orientation": "v",
         "showlegend": true,
         "type": "scatter",
         "x": [
          -3.3380520343780518
         ],
         "xaxis": "x",
         "y": [
          6.362053871154785
         ],
         "yaxis": "y"
        },
        {
         "customdata": [
          [
           "After her mother was killed...",
           "action / comedy"
          ]
         ],
         "hovertemplate": "label=%{customdata[1]}<br>x-tsne=%{x}<br>y-tsne=%{y}<br>text=%{customdata[0]}<extra></extra>",
         "legendgroup": "action / comedy",
         "marker": {
          "color": "#ab63fa",
          "symbol": "circle"
         },
         "mode": "markers",
         "name": "action / comedy",
         "orientation": "v",
         "showlegend": true,
         "type": "scatter",
         "x": [
          -5.906118869781494
         ],
         "xaxis": "x",
         "y": [
          -3.642989158630371
         ],
         "yaxis": "y"
        },
        {
         "customdata": [
          [
           "Raised by his Uncle Wu...",
           "fantasy / adventure"
          ]
         ],
         "hovertemplate": "label=%{customdata[1]}<br>x-tsne=%{x}<br>y-tsne=%{y}<br>text=%{customdata[0]}<extra></extra>",
         "legendgroup": "fantasy / adventure",
         "marker": {
          "color": "#FFA15A",
          "symbol": "circle"
         },
         "mode": "markers",
         "name": "fantasy / adventure",
         "orientation": "v",
         "showlegend": true,
         "type": "scatter",
         "x": [
          -0.9577596783638
         ],
         "xaxis": "x",
         "y": [
          -6.010948657989502
         ],
         "yaxis": "y"
        },
        {
         "customdata": [
          [
           "A girl is about to...",
           "adventure, serial"
          ]
         ],
         "hovertemplate": "label=%{customdata[1]}<br>x-tsne=%{x}<br>y-tsne=%{y}<br>text=%{customdata[0]}<extra></extra>",
         "legendgroup": "adventure, serial",
         "marker": {
          "color": "#19d3f3",
          "symbol": "circle"
         },
         "mode": "markers",
         "name": "adventure, serial",
         "orientation": "v",
         "showlegend": true,
         "type": "scatter",
         "x": [
          2.5728631019592285
         ],
         "xaxis": "x",
         "y": [
          -2.7530038356781006
         ],
         "yaxis": "y"
        },
        {
         "customdata": [
          [
           "Crash Landing follows the tense...",
           "action/thriller"
          ]
         ],
         "hovertemplate": "label=%{customdata[1]}<br>x-tsne=%{x}<br>y-tsne=%{y}<br>text=%{customdata[0]}<extra></extra>",
         "legendgroup": "action/thriller",
         "marker": {
          "color": "#FF6692",
          "symbol": "circle"
         },
         "mode": "markers",
         "name": "action/thriller",
         "orientation": "v",
         "showlegend": true,
         "type": "scatter",
         "x": [
          0.8708961606025696
         ],
         "xaxis": "x",
         "y": [
          -3.3738532066345215
         ],
         "yaxis": "y"
        },
        {
         "customdata": [
          [
           "Anand is a major in...",
           "action"
          ],
          [
           "Sachin Joshi is a Kabaddi...",
           "action"
          ],
          [
           "Political journalist Jayadev (Meka Srikanth)...",
           "action"
          ]
         ],
         "hovertemplate": "label=%{customdata[1]}<br>x-tsne=%{x}<br>y-tsne=%{y}<br>text=%{customdata[0]}<extra></extra>",
         "legendgroup": "action",
         "marker": {
          "color": "#B6E880",
          "symbol": "circle"
         },
         "mode": "markers",
         "name": "action",
         "orientation": "v",
         "showlegend": true,
         "type": "scatter",
         "x": [
          3.5070552825927734,
          7.2177324295043945,
          3.337747097015381
         ],
         "xaxis": "x",
         "y": [
          7.956566333770752,
          6.329514503479004,
          7.154446601867676
         ],
         "yaxis": "y"
        },
        {
         "customdata": [
          [
           "A lonely old man who...",
           "literary drama"
          ]
         ],
         "hovertemplate": "label=%{customdata[1]}<br>x-tsne=%{x}<br>y-tsne=%{y}<br>text=%{customdata[0]}<extra></extra>",
         "legendgroup": "literary drama",
         "marker": {
          "color": "#FF97FF",
          "symbol": "circle"
         },
         "mode": "markers",
         "name": "literary drama",
         "orientation": "v",
         "showlegend": true,
         "type": "scatter",
         "x": [
          0.34915122389793396
         ],
         "xaxis": "x",
         "y": [
          3.9698028564453125
         ],
         "yaxis": "y"
        },
        {
         "customdata": [
          [
           "Big Fella is set on...",
           "musical/drama"
          ]
         ],
         "hovertemplate": "label=%{customdata[1]}<br>x-tsne=%{x}<br>y-tsne=%{y}<br>text=%{customdata[0]}<extra></extra>",
         "legendgroup": "musical/drama",
         "marker": {
          "color": "#FECB52",
          "symbol": "circle"
         },
         "mode": "markers",
         "name": "musical/drama",
         "orientation": "v",
         "showlegend": true,
         "type": "scatter",
         "x": [
          -3.486755132675171
         ],
         "xaxis": "x",
         "y": [
          -1.3871207237243652
         ],
         "yaxis": "y"
        },
        {
         "customdata": [
          [
           "In the year 1999, the...",
           "tokusatsu"
          ]
         ],
         "hovertemplate": "label=%{customdata[1]}<br>x-tsne=%{x}<br>y-tsne=%{y}<br>text=%{customdata[0]}<extra></extra>",
         "legendgroup": "tokusatsu",
         "marker": {
          "color": "#636efa",
          "symbol": "circle"
         },
         "mode": "markers",
         "name": "tokusatsu",
         "orientation": "v",
         "showlegend": true,
         "type": "scatter",
         "x": [
          2.525773286819458
         ],
         "xaxis": "x",
         "y": [
          -6.251756191253662
         ],
         "yaxis": "y"
        },
        {
         "customdata": [
          [
           "The story of the film,...",
           "crime/thriller"
          ]
         ],
         "hovertemplate": "label=%{customdata[1]}<br>x-tsne=%{x}<br>y-tsne=%{y}<br>text=%{customdata[0]}<extra></extra>",
         "legendgroup": "crime/thriller",
         "marker": {
          "color": "#EF553B",
          "symbol": "circle"
         },
         "mode": "markers",
         "name": "crime/thriller",
         "orientation": "v",
         "showlegend": true,
         "type": "scatter",
         "x": [
          4.650968074798584
         ],
         "xaxis": "x",
         "y": [
          -4.700913906097412
         ],
         "yaxis": "y"
        },
        {
         "customdata": [
          [
           "Kiira seems like an ordinary...",
           "vampire film"
          ]
         ],
         "hovertemplate": "label=%{customdata[1]}<br>x-tsne=%{x}<br>y-tsne=%{y}<br>text=%{customdata[0]}<extra></extra>",
         "legendgroup": "vampire film",
         "marker": {
          "color": "#00cc96",
          "symbol": "circle"
         },
         "mode": "markers",
         "name": "vampire film",
         "orientation": "v",
         "showlegend": true,
         "type": "scatter",
         "x": [
          5.024177551269531
         ],
         "xaxis": "x",
         "y": [
          0.8382809162139893
         ],
         "yaxis": "y"
        },
        {
         "customdata": [
          [
           "With the human exploitation of...",
           "comedy / animation / family / adventure"
          ]
         ],
         "hovertemplate": "label=%{customdata[1]}<br>x-tsne=%{x}<br>y-tsne=%{y}<br>text=%{customdata[0]}<extra></extra>",
         "legendgroup": "comedy / animation / family / adventure",
         "marker": {
          "color": "#ab63fa",
          "symbol": "circle"
         },
         "mode": "markers",
         "name": "comedy / animation / family / adventure",
         "orientation": "v",
         "showlegend": true,
         "type": "scatter",
         "x": [
          2.8036394119262695
         ],
         "xaxis": "x",
         "y": [
          -8.370819091796875
         ],
         "yaxis": "y"
        },
        {
         "customdata": [
          [
           "New York City law professor...",
           "drama, crime"
          ]
         ],
         "hovertemplate": "label=%{customdata[1]}<br>x-tsne=%{x}<br>y-tsne=%{y}<br>text=%{customdata[0]}<extra></extra>",
         "legendgroup": "drama, crime",
         "marker": {
          "color": "#FFA15A",
          "symbol": "circle"
         },
         "mode": "markers",
         "name": "drama, crime",
         "orientation": "v",
         "showlegend": true,
         "type": "scatter",
         "x": [
          -7.296416282653809
         ],
         "xaxis": "x",
         "y": [
          -2.2765135765075684
         ],
         "yaxis": "y"
        }
       ],
       "layout": {
        "height": 1200,
        "legend": {
         "title": {
          "text": "label"
         },
         "tracegroupgap": 0
        },
        "template": {
         "data": {
          "bar": [
           {
            "error_x": {
             "color": "#2a3f5f"
            },
            "error_y": {
             "color": "#2a3f5f"
            },
            "marker": {
             "line": {
              "color": "#E5ECF6",
              "width": 0.5
             },
             "pattern": {
              "fillmode": "overlay",
              "size": 10,
              "solidity": 0.2
             }
            },
            "type": "bar"
           }
          ],
          "barpolar": [
           {
            "marker": {
             "line": {
              "color": "#E5ECF6",
              "width": 0.5
             },
             "pattern": {
              "fillmode": "overlay",
              "size": 10,
              "solidity": 0.2
             }
            },
            "type": "barpolar"
           }
          ],
          "carpet": [
           {
            "aaxis": {
             "endlinecolor": "#2a3f5f",
             "gridcolor": "white",
             "linecolor": "white",
             "minorgridcolor": "white",
             "startlinecolor": "#2a3f5f"
            },
            "baxis": {
             "endlinecolor": "#2a3f5f",
             "gridcolor": "white",
             "linecolor": "white",
             "minorgridcolor": "white",
             "startlinecolor": "#2a3f5f"
            },
            "type": "carpet"
           }
          ],
          "choropleth": [
           {
            "colorbar": {
             "outlinewidth": 0,
             "ticks": ""
            },
            "type": "choropleth"
           }
          ],
          "contour": [
           {
            "colorbar": {
             "outlinewidth": 0,
             "ticks": ""
            },
            "colorscale": [
             [
              0,
              "#0d0887"
             ],
             [
              0.1111111111111111,
              "#46039f"
             ],
             [
              0.2222222222222222,
              "#7201a8"
             ],
             [
              0.3333333333333333,
              "#9c179e"
             ],
             [
              0.4444444444444444,
              "#bd3786"
             ],
             [
              0.5555555555555556,
              "#d8576b"
             ],
             [
              0.6666666666666666,
              "#ed7953"
             ],
             [
              0.7777777777777778,
              "#fb9f3a"
             ],
             [
              0.8888888888888888,
              "#fdca26"
             ],
             [
              1,
              "#f0f921"
             ]
            ],
            "type": "contour"
           }
          ],
          "contourcarpet": [
           {
            "colorbar": {
             "outlinewidth": 0,
             "ticks": ""
            },
            "type": "contourcarpet"
           }
          ],
          "heatmap": [
           {
            "colorbar": {
             "outlinewidth": 0,
             "ticks": ""
            },
            "colorscale": [
             [
              0,
              "#0d0887"
             ],
             [
              0.1111111111111111,
              "#46039f"
             ],
             [
              0.2222222222222222,
              "#7201a8"
             ],
             [
              0.3333333333333333,
              "#9c179e"
             ],
             [
              0.4444444444444444,
              "#bd3786"
             ],
             [
              0.5555555555555556,
              "#d8576b"
             ],
             [
              0.6666666666666666,
              "#ed7953"
             ],
             [
              0.7777777777777778,
              "#fb9f3a"
             ],
             [
              0.8888888888888888,
              "#fdca26"
             ],
             [
              1,
              "#f0f921"
             ]
            ],
            "type": "heatmap"
           }
          ],
          "heatmapgl": [
           {
            "colorbar": {
             "outlinewidth": 0,
             "ticks": ""
            },
            "colorscale": [
             [
              0,
              "#0d0887"
             ],
             [
              0.1111111111111111,
              "#46039f"
             ],
             [
              0.2222222222222222,
              "#7201a8"
             ],
             [
              0.3333333333333333,
              "#9c179e"
             ],
             [
              0.4444444444444444,
              "#bd3786"
             ],
             [
              0.5555555555555556,
              "#d8576b"
             ],
             [
              0.6666666666666666,
              "#ed7953"
             ],
             [
              0.7777777777777778,
              "#fb9f3a"
             ],
             [
              0.8888888888888888,
              "#fdca26"
             ],
             [
              1,
              "#f0f921"
             ]
            ],
            "type": "heatmapgl"
           }
          ],
          "histogram": [
           {
            "marker": {
             "pattern": {
              "fillmode": "overlay",
              "size": 10,
              "solidity": 0.2
             }
            },
            "type": "histogram"
           }
          ],
          "histogram2d": [
           {
            "colorbar": {
             "outlinewidth": 0,
             "ticks": ""
            },
            "colorscale": [
             [
              0,
              "#0d0887"
             ],
             [
              0.1111111111111111,
              "#46039f"
             ],
             [
              0.2222222222222222,
              "#7201a8"
             ],
             [
              0.3333333333333333,
              "#9c179e"
             ],
             [
              0.4444444444444444,
              "#bd3786"
             ],
             [
              0.5555555555555556,
              "#d8576b"
             ],
             [
              0.6666666666666666,
              "#ed7953"
             ],
             [
              0.7777777777777778,
              "#fb9f3a"
             ],
             [
              0.8888888888888888,
              "#fdca26"
             ],
             [
              1,
              "#f0f921"
             ]
            ],
            "type": "histogram2d"
           }
          ],
          "histogram2dcontour": [
           {
            "colorbar": {
             "outlinewidth": 0,
             "ticks": ""
            },
            "colorscale": [
             [
              0,
              "#0d0887"
             ],
             [
              0.1111111111111111,
              "#46039f"
             ],
             [
              0.2222222222222222,
              "#7201a8"
             ],
             [
              0.3333333333333333,
              "#9c179e"
             ],
             [
              0.4444444444444444,
              "#bd3786"
             ],
             [
              0.5555555555555556,
              "#d8576b"
             ],
             [
              0.6666666666666666,
              "#ed7953"
             ],
             [
              0.7777777777777778,
              "#fb9f3a"
             ],
             [
              0.8888888888888888,
              "#fdca26"
             ],
             [
              1,
              "#f0f921"
             ]
            ],
            "type": "histogram2dcontour"
           }
          ],
          "mesh3d": [
           {
            "colorbar": {
             "outlinewidth": 0,
             "ticks": ""
            },
            "type": "mesh3d"
           }
          ],
          "parcoords": [
           {
            "line": {
             "colorbar": {
              "outlinewidth": 0,
              "ticks": ""
             }
            },
            "type": "parcoords"
           }
          ],
          "pie": [
           {
            "automargin": true,
            "type": "pie"
           }
          ],
          "scatter": [
           {
            "fillpattern": {
             "fillmode": "overlay",
             "size": 10,
             "solidity": 0.2
            },
            "type": "scatter"
           }
          ],
          "scatter3d": [
           {
            "line": {
             "colorbar": {
              "outlinewidth": 0,
              "ticks": ""
             }
            },
            "marker": {
             "colorbar": {
              "outlinewidth": 0,
              "ticks": ""
             }
            },
            "type": "scatter3d"
           }
          ],
          "scattercarpet": [
           {
            "marker": {
             "colorbar": {
              "outlinewidth": 0,
              "ticks": ""
             }
            },
            "type": "scattercarpet"
           }
          ],
          "scattergeo": [
           {
            "marker": {
             "colorbar": {
              "outlinewidth": 0,
              "ticks": ""
             }
            },
            "type": "scattergeo"
           }
          ],
          "scattergl": [
           {
            "marker": {
             "colorbar": {
              "outlinewidth": 0,
              "ticks": ""
             }
            },
            "type": "scattergl"
           }
          ],
          "scattermapbox": [
           {
            "marker": {
             "colorbar": {
              "outlinewidth": 0,
              "ticks": ""
             }
            },
            "type": "scattermapbox"
           }
          ],
          "scatterpolar": [
           {
            "marker": {
             "colorbar": {
              "outlinewidth": 0,
              "ticks": ""
             }
            },
            "type": "scatterpolar"
           }
          ],
          "scatterpolargl": [
           {
            "marker": {
             "colorbar": {
              "outlinewidth": 0,
              "ticks": ""
             }
            },
            "type": "scatterpolargl"
           }
          ],
          "scatterternary": [
           {
            "marker": {
             "colorbar": {
              "outlinewidth": 0,
              "ticks": ""
             }
            },
            "type": "scatterternary"
           }
          ],
          "surface": [
           {
            "colorbar": {
             "outlinewidth": 0,
             "ticks": ""
            },
            "colorscale": [
             [
              0,
              "#0d0887"
             ],
             [
              0.1111111111111111,
              "#46039f"
             ],
             [
              0.2222222222222222,
              "#7201a8"
             ],
             [
              0.3333333333333333,
              "#9c179e"
             ],
             [
              0.4444444444444444,
              "#bd3786"
             ],
             [
              0.5555555555555556,
              "#d8576b"
             ],
             [
              0.6666666666666666,
              "#ed7953"
             ],
             [
              0.7777777777777778,
              "#fb9f3a"
             ],
             [
              0.8888888888888888,
              "#fdca26"
             ],
             [
              1,
              "#f0f921"
             ]
            ],
            "type": "surface"
           }
          ],
          "table": [
           {
            "cells": {
             "fill": {
              "color": "#EBF0F8"
             },
             "line": {
              "color": "white"
             }
            },
            "header": {
             "fill": {
              "color": "#C8D4E3"
             },
             "line": {
              "color": "white"
             }
            },
            "type": "table"
           }
          ]
         },
         "layout": {
          "annotationdefaults": {
           "arrowcolor": "#2a3f5f",
           "arrowhead": 0,
           "arrowwidth": 1
          },
          "autotypenumbers": "strict",
          "coloraxis": {
           "colorbar": {
            "outlinewidth": 0,
            "ticks": ""
           }
          },
          "colorscale": {
           "diverging": [
            [
             0,
             "#8e0152"
            ],
            [
             0.1,
             "#c51b7d"
            ],
            [
             0.2,
             "#de77ae"
            ],
            [
             0.3,
             "#f1b6da"
            ],
            [
             0.4,
             "#fde0ef"
            ],
            [
             0.5,
             "#f7f7f7"
            ],
            [
             0.6,
             "#e6f5d0"
            ],
            [
             0.7,
             "#b8e186"
            ],
            [
             0.8,
             "#7fbc41"
            ],
            [
             0.9,
             "#4d9221"
            ],
            [
             1,
             "#276419"
            ]
           ],
           "sequential": [
            [
             0,
             "#0d0887"
            ],
            [
             0.1111111111111111,
             "#46039f"
            ],
            [
             0.2222222222222222,
             "#7201a8"
            ],
            [
             0.3333333333333333,
             "#9c179e"
            ],
            [
             0.4444444444444444,
             "#bd3786"
            ],
            [
             0.5555555555555556,
             "#d8576b"
            ],
            [
             0.6666666666666666,
             "#ed7953"
            ],
            [
             0.7777777777777778,
             "#fb9f3a"
            ],
            [
             0.8888888888888888,
             "#fdca26"
            ],
            [
             1,
             "#f0f921"
            ]
           ],
           "sequentialminus": [
            [
             0,
             "#0d0887"
            ],
            [
             0.1111111111111111,
             "#46039f"
            ],
            [
             0.2222222222222222,
             "#7201a8"
            ],
            [
             0.3333333333333333,
             "#9c179e"
            ],
            [
             0.4444444444444444,
             "#bd3786"
            ],
            [
             0.5555555555555556,
             "#d8576b"
            ],
            [
             0.6666666666666666,
             "#ed7953"
            ],
            [
             0.7777777777777778,
             "#fb9f3a"
            ],
            [
             0.8888888888888888,
             "#fdca26"
            ],
            [
             1,
             "#f0f921"
            ]
           ]
          },
          "colorway": [
           "#636efa",
           "#EF553B",
           "#00cc96",
           "#ab63fa",
           "#FFA15A",
           "#19d3f3",
           "#FF6692",
           "#B6E880",
           "#FF97FF",
           "#FECB52"
          ],
          "font": {
           "color": "#2a3f5f"
          },
          "geo": {
           "bgcolor": "white",
           "lakecolor": "white",
           "landcolor": "#E5ECF6",
           "showlakes": true,
           "showland": true,
           "subunitcolor": "white"
          },
          "hoverlabel": {
           "align": "left"
          },
          "hovermode": "closest",
          "mapbox": {
           "style": "light"
          },
          "paper_bgcolor": "white",
          "plot_bgcolor": "#E5ECF6",
          "polar": {
           "angularaxis": {
            "gridcolor": "white",
            "linecolor": "white",
            "ticks": ""
           },
           "bgcolor": "#E5ECF6",
           "radialaxis": {
            "gridcolor": "white",
            "linecolor": "white",
            "ticks": ""
           }
          },
          "scene": {
           "xaxis": {
            "backgroundcolor": "#E5ECF6",
            "gridcolor": "white",
            "gridwidth": 2,
            "linecolor": "white",
            "showbackground": true,
            "ticks": "",
            "zerolinecolor": "white"
           },
           "yaxis": {
            "backgroundcolor": "#E5ECF6",
            "gridcolor": "white",
            "gridwidth": 2,
            "linecolor": "white",
            "showbackground": true,
            "ticks": "",
            "zerolinecolor": "white"
           },
           "zaxis": {
            "backgroundcolor": "#E5ECF6",
            "gridcolor": "white",
            "gridwidth": 2,
            "linecolor": "white",
            "showbackground": true,
            "ticks": "",
            "zerolinecolor": "white"
           }
          },
          "shapedefaults": {
           "line": {
            "color": "#2a3f5f"
           }
          },
          "ternary": {
           "aaxis": {
            "gridcolor": "white",
            "linecolor": "white",
            "ticks": ""
           },
           "baxis": {
            "gridcolor": "white",
            "linecolor": "white",
            "ticks": ""
           },
           "bgcolor": "#E5ECF6",
           "caxis": {
            "gridcolor": "white",
            "linecolor": "white",
            "ticks": ""
           }
          },
          "title": {
           "x": 0.05
          },
          "xaxis": {
           "automargin": true,
           "gridcolor": "white",
           "linecolor": "white",
           "ticks": "",
           "title": {
            "standoff": 15
           },
           "zerolinecolor": "white",
           "zerolinewidth": 2
          },
          "yaxis": {
           "automargin": true,
           "gridcolor": "white",
           "linecolor": "white",
           "ticks": "",
           "title": {
            "standoff": 15
           },
           "zerolinecolor": "white",
           "zerolinewidth": 2
          }
         }
        },
        "title": {
         "text": "Sentences t-SNE Visualization with Fasttext Embeddings"
        },
        "width": 1200,
        "xaxis": {
         "anchor": "y",
         "domain": [
          0,
          1
         ],
         "title": {
          "text": "x-tsne"
         }
        },
        "yaxis": {
         "anchor": "x",
         "domain": [
          0,
          1
         ],
         "title": {
          "text": "y-tsne"
         }
        }
       }
      },
      "text/html": [
       "<div>                            <div id=\"637c4ced-9194-40a7-b041-7c9422cf58fe\" class=\"plotly-graph-div\" style=\"height:1200px; width:1200px;\"></div>            <script type=\"text/javascript\">                require([\"plotly\"], function(Plotly) {                    window.PLOTLYENV=window.PLOTLYENV || {};                                    if (document.getElementById(\"637c4ced-9194-40a7-b041-7c9422cf58fe\")) {                    Plotly.newPlot(                        \"637c4ced-9194-40a7-b041-7c9422cf58fe\",                        [{\"customdata\":[[\"The film tells the story...\",\"film noir\"],[\"A psychoanalyst and his young...\",\"film noir\"],[\"The film is set in...\",\"film noir\"],[\"Convict Van Duff is the...\",\"film noir\"],[\"Rosalind Dee (DeCarlo) is a...\",\"film noir\"],[\"Con man Rick Maxon (Payne)...\",\"film noir\"]],\"hovertemplate\":\"label=%{customdata[1]}\\u003cbr\\u003ex-tsne=%{x}\\u003cbr\\u003ey-tsne=%{y}\\u003cbr\\u003etext=%{customdata[0]}\\u003cextra\\u003e\\u003c\\u002fextra\\u003e\",\"legendgroup\":\"film noir\",\"marker\":{\"color\":\"#636efa\",\"symbol\":\"circle\"},\"mode\":\"markers\",\"name\":\"film noir\",\"orientation\":\"v\",\"showlegend\":true,\"x\":[-1.3941657543182373,2.212857723236084,2.7268829345703125,1.0386090278625488,-5.328765392303467,-6.364380836486816],\"xaxis\":\"x\",\"y\":[1.630813717842102,2.338374137878418,-0.2613137662410736,-1.4756382703781128,-1.586046814918518,-0.7697525024414062],\"yaxis\":\"y\",\"type\":\"scatter\"},{\"customdata\":[[\"The eventful life of Swami...\",\"biography\"],[\"Raised on a sharecropping plantation...\",\"biography\"]],\"hovertemplate\":\"label=%{customdata[1]}\\u003cbr\\u003ex-tsne=%{x}\\u003cbr\\u003ey-tsne=%{y}\\u003cbr\\u003etext=%{customdata[0]}\\u003cextra\\u003e\\u003c\\u002fextra\\u003e\",\"legendgroup\":\"biography\",\"marker\":{\"color\":\"#EF553B\",\"symbol\":\"circle\"},\"mode\":\"markers\",\"name\":\"biography\",\"orientation\":\"v\",\"showlegend\":true,\"x\":[8.257712364196777,2.881816864013672],\"xaxis\":\"x\",\"y\":[5.897769451141357,-3.8801753520965576],\"yaxis\":\"y\",\"type\":\"scatter\"},{\"customdata\":[[\"Jagathalaprathapan is a prince who...\",\"unknown\"],[\"The story is about two...\",\"unknown\"],[\"In 1962, South Korea. Kang...\",\"unknown\"],[\"Vani Viswanath plays the central...\",\"unknown\"],[\"3000 years ago, the Vader...\",\"unknown\"],[\"An orphan girl, named Bindu...\",\"unknown\"],[\"Stand-up-comedian Nikita Kolesnikov (Danila Kozlovsky)...\",\"unknown\"],[\"Claire of the Moon is...\",\"unknown\"],[\"Joseph is a mentally retarded...\",\"unknown\"],[\"Balu (Vijayakumar) and Padma (Manjula...\",\"unknown\"],[\"On the run from the...\",\"unknown\"],[\"A man visits a happy...\",\"unknown\"],[\"In 1983 KBS launched a...\",\"unknown\"],[\"Rahul (Ramankanth) sees a concert...\",\"unknown\"],[\"Rolex (Prakash Raj) is a...\",\"unknown\"],[\"A young sculptor searches for...\",\"unknown\"],[\"Joan (Purviance) and Magdalen (Sothern)...\",\"unknown\"],[\"Indie musician Dong-hoon and cartoonist...\",\"unknown\"],[\"The story tells about Ching...\",\"unknown\"],[\"A former agent from the...\",\"unknown\"],[\"An earthquake releases a bunch...\",\"unknown\"],[\"Nine people from around the...\",\"unknown\"],[\"The film takes place in...\",\"unknown\"],[\"Dharma (Anandaraj) is an auto...\",\"unknown\"],[\"Arjun lives in a village....\",\"unknown\"],[\"The story of the film...\",\"unknown\"],[\"Chu Liuxiang is having drinks...\",\"unknown\"],[\"Soo-nam is a poor woman...\",\"unknown\"],[\"Vijay (R. Sarathkumar) and Seetha...\",\"unknown\"],[\"Vivek is a wanted criminal...\",\"unknown\"],[\"Gopal (M.G.R.) is an honest...\",\"unknown\"],[\"This film is about the...\",\"unknown\"],[\"The story is a family...\",\"unknown\"],[\"Kumar is a young and...\",\"unknown\"],[\"Twice widowed, Pilnyeo vows never...\",\"unknown\"],[\"A new teacher organizes a...\",\"unknown\"],[\"In the 1930s, Teresa (Buday)...\",\"unknown\"],[\"In the year 1999, the...\",\"unknown\"],[\"The film is based on...\",\"unknown\"],[\"Jin-hong is a prosecutor who...\",\"unknown\"],[\"Kumar, a graduate who decides...\",\"unknown\"],[\"The story revolves around a...\",\"unknown\"],[\"A genius sculptor Joon-goo (Park...\",\"unknown\"],[\"Russian general Marenkov (Robert Shaw)...\",\"unknown\"],[\"Rakta Bandhan is a family...\",\"unknown\"],[\"Louisa Gould (Jenny Seagrove) hides...\",\"unknown\"],[\"Marappan (Anandaraj) is the rebel...\",\"unknown\"],[\"The spouses Alec and Zoey,...\",\"unknown\"],[\"After the execution of Kattabomman...\",\"unknown\"],[\"Alli (Manorama) a veritable jungle...\",\"unknown\"],[\"The film takes place in...\",\"unknown\"],[\"Raja is a 10-year-old tourist...\",\"unknown\"],[\"Rajini's parents are killed by...\",\"unknown\"],[\"Pudhayal was about imaginary gold...\",\"unknown\"],[\"Kaalia is an action flick...\",\"unknown\"],[\"Seven young freedom fighters, heavily...\",\"unknown\"],[\"The story revolves around a...\",\"unknown\"],[\"Jung-woo is a film director...\",\"unknown\"],[\"The story revolves around a...\",\"unknown\"],[\"Handsome and fairly good-looking Anil...\",\"unknown\"],[\"While on a trip to...\",\"unknown\"],[\"The story centres on the...\",\"unknown\"],[\"Two persons namely Ajay and...\",\"unknown\"],[\"Story of a corpse being...\",\"unknown\"],[\"The film revolves around the...\",\"unknown\"],[\"Anand (Shivrajkumar) was nicknamed \\\"Kaddipudi\\\"...\",\"unknown\"],[\"Vijay (MGR), a carefree and...\",\"unknown\"],[\"A man loses his memory...\",\"unknown\"],[\"The film tells the story...\",\"unknown\"]],\"hovertemplate\":\"label=%{customdata[1]}\\u003cbr\\u003ex-tsne=%{x}\\u003cbr\\u003ey-tsne=%{y}\\u003cbr\\u003etext=%{customdata[0]}\\u003cextra\\u003e\\u003c\\u002fextra\\u003e\",\"legendgroup\":\"unknown\",\"marker\":{\"color\":\"#00cc96\",\"symbol\":\"circle\"},\"mode\":\"markers\",\"name\":\"unknown\",\"orientation\":\"v\",\"showlegend\":true,\"x\":[5.009643077850342,5.563476085662842,7.480871200561523,4.63248348236084,-0.13455374538898468,4.3623247146606445,5.266811370849609,-4.318216800689697,-0.6647645235061646,5.726032257080078,-4.308572292327881,3.9729316234588623,3.4686343669891357,6.010714530944824,4.011882305145264,4.131044387817383,-5.121321201324463,0.5252751708030701,-7.116682529449463,1.398295521736145,2.274115800857544,2.636784791946411,3.3909027576446533,2.87233304977417,7.092297077178955,-2.6033248901367188,-1.7215760946273804,2.6492726802825928,5.679248332977295,2.271622657775879,5.335801601409912,6.795472621917725,7.066988945007324,5.635136127471924,4.158466339111328,8.214576721191406,2.5443034172058105,2.525764226913452,7.951767444610596,2.26584792137146,0.582486093044281,2.717561721801758,5.017542362213135,0.5328848958015442,6.307583332061768,-8.427844047546387,3.534189224243164,0.02437903732061386,-0.5050589442253113,-1.9579646587371826,4.160139083862305,5.23579740524292,5.140263080596924,4.518720626831055,3.7237987518310547,4.984988689422607,5.886687278747559,5.968054294586182,6.483254909515381,4.571137428283691,5.856649875640869,1.0159252882003784,2.2625088691711426,-0.05957215651869774,6.307523250579834,3.2933666706085205,3.5207579135894775,1.3417094945907593,5.364963531494141],\"xaxis\":\"x\",\"y\":[6.279392242431641,-0.3042672276496887,-1.6696670055389404,7.311955451965332,-6.119076728820801,-2.762155055999756,1.7377581596374512,-4.126106262207031,1.0990363359451294,8.253113746643066,-5.262889862060547,1.0135952234268188,-5.781984806060791,2.2290923595428467,7.929433345794678,0.9934132695198059,-0.46551641821861267,1.864846110343933,-3.2411317825317383,-8.10416316986084,-6.698601245880127,-6.391044616699219,-5.16005277633667,6.749215126037598,3.7921791076660156,-2.3876547813415527,3.5979201793670654,1.0366413593292236,8.34810733795166,6.469920635223389,7.469124794006348,8.242629051208496,6.6283392906188965,7.558320999145508,2.4113969802856445,-2.464048385620117,0.004522581584751606,-6.2516865730285645,7.586477279663086,2.690143585205078,-8.363195419311523,1.39601731300354,4.403381824493408,-4.872995853424072,9.296320915222168,-1.6498136520385742,6.69891357421875,2.214768648147583,-8.23000431060791,5.347583770751953,-7.252123832702637,3.3106119632720947,7.460819721221924,9.045326232910156,7.093039035797119,-1.3472687005996704,8.252237319946289,-5.405862331390381,6.423501491546631,8.315591812133789,8.716737747192383,6.3323750495910645,4.076807022094727,1.0179613828659058,5.644552707672119,2.429370403289795,-0.006740618962794542,3.3687052726745605,1.5916242599487305],\"yaxis\":\"y\",\"type\":\"scatter\"},{\"customdata\":[[\"Police inspector Holloway (Patrick Wymark)...\",\"mystery\"],[\"The story of the film...\",\"mystery\"],[\"A blind detective, Duncan Maclain,...\",\"mystery\"],[\"Nick and Nora Charles are...\",\"mystery\"],[\"When infamous jewel thief Flambeau...\",\"mystery\"],[\"It is of the Jack...\",\"mystery\"]],\"hovertemplate\":\"label=%{customdata[1]}\\u003cbr\\u003ex-tsne=%{x}\\u003cbr\\u003ey-tsne=%{y}\\u003cbr\\u003etext=%{customdata[0]}\\u003cextra\\u003e\\u003c\\u002fextra\\u003e\",\"legendgroup\":\"mystery\",\"marker\":{\"color\":\"#ab63fa\",\"symbol\":\"circle\"},\"mode\":\"markers\",\"name\":\"mystery\",\"orientation\":\"v\",\"showlegend\":true,\"x\":[-5.310770034790039,5.189380168914795,-5.454736709594727,-0.3984096646308899,-5.940461158752441,0.336414098739624],\"xaxis\":\"x\",\"y\":[2.7848243713378906,-0.48277828097343445,2.416729211807251,-0.9605787992477417,1.829118013381958,5.837674617767334],\"yaxis\":\"y\",\"type\":\"scatter\"},{\"customdata\":[[\"Lewis and Clark and George...\",\"drama\"],[\"Oliver's mother, a penniless outcast,...\",\"drama\"],[\"Reverend Smith has arrived in...\",\"drama\"],[\"Following the plot of the...\",\"drama\"],[\"The film is a story...\",\"drama\"],[\"Byron Levin works in a...\",\"drama\"],[\"This film is about a...\",\"drama\"],[\"Bok-nyeo, a mentally handicapped woman,...\",\"drama\"],[\"The film is an account...\",\"drama\"],[\"A crime reporter, assisted by...\",\"drama\"],[\"Marianne (Greta Garbo) is a...\",\"drama\"],[\"Shane O'Shea is a young...\",\"drama\"],[\"Italian aristocrat Angela Chiaromonte (Helen...\",\"drama\"],[\"Dhag is the story of...\",\"drama\"],[\"A Mighty Heart is a...\",\"drama\"],[\"The film is an examination...\",\"drama\"],[\"Gloria Cole and Eddie Swenson...\",\"drama\"],[\"The film is about an...\",\"drama\"],[\"Chaiti is a young beautiful...\",\"drama\"],[\"Fontaine Khaled is the London...\",\"drama\"],[\"California gubernatorial candidate Burton (Lyon)...\",\"drama\"],[\"A 12-year old young boy...\",\"drama\"],[\"Rie and Nao own a...\",\"drama\"],[\"The film stars Harry Connick...\",\"drama\"],[\"In 1964, inmate Charlie Forsythe...\",\"drama\"],[\"Three teenage boys in small-town...\",\"drama\"],[\"Taglines: \\\"Being a girl is...\",\"drama\"],[\"Newland Archer is engaged to...\",\"drama\"],[\"The Philippines, 1972. Mysterious things...\",\"drama\"],[\"Set in Alexandria in 1938,...\",\"drama\"],[\"The film is set in...\",\"drama\"],[\"Michael Walsh, a husband and...\",\"drama\"],[\"The film revolves around an...\",\"drama\"],[\"Big Bad Love shares its...\",\"drama\"],[\"Ten-year-old Bobby (Frankie Thomas) and...\",\"drama\"],[\"Brinda (Sindhu Tolani) is an...\",\"drama\"],[\"A mysterious killer, known only...\",\"drama\"],[\"Omar Sharif plays Muhassab, headman...\",\"drama\"],[\"A young Lakota Sioux (Lou...\",\"drama\"],[\"Hikaru Oshiro, noticing that there...\",\"drama\"],[\"Chuck Wheeler is released from...\",\"drama\"],[\"Leslie is a troubled 1960s...\",\"drama\"],[\"In Renaissance Florence, a Florentine...\",\"drama\"],[\"\\\"Illustrated Press\\\" society editor Lorelei...\",\"drama\"],[\"Spanning nearly 20 years from...\",\"drama\"],[\"A young construction worker rams...\",\"drama\"],[\"Teenager Jackie Knowles (Richard Attenborough)...\",\"drama\"],[\"In a desperate attempt to...\",\"drama\"],[\"The first act of the...\",\"drama\"],[\"In Wilmington, Delaware, Anna Thompson...\",\"drama\"],[\"While in a restaurant, Carla...\",\"drama\"],[\"In the middle of a...\",\"drama\"],[\"Chad (Jimmie Rodgers) is a...\",\"drama\"],[\"Midget George Wilson pulls strings...\",\"drama\"],[\"In the remote and undeveloped...\",\"drama\"],[\"The film is about Jamie,...\",\"drama\"],[\"Jean Paurel is a famous...\",\"drama\"],[\"Napoleon Bonaparte (Charles Boyer) launches...\",\"drama\"],[\"Four friends go on a...\",\"drama\"]],\"hovertemplate\":\"label=%{customdata[1]}\\u003cbr\\u003ex-tsne=%{x}\\u003cbr\\u003ey-tsne=%{y}\\u003cbr\\u003etext=%{customdata[0]}\\u003cextra\\u003e\\u003c\\u002fextra\\u003e\",\"legendgroup\":\"drama\",\"marker\":{\"color\":\"#FFA15A\",\"symbol\":\"circle\"},\"mode\":\"markers\",\"name\":\"drama\",\"orientation\":\"v\",\"showlegend\":true,\"x\":[-4.3820719718933105,-0.5815075039863586,-6.030075550079346,-2.6328229904174805,4.9285969734191895,-5.724947929382324,0.7313678860664368,0.7937327027320862,5.693586349487305,8.062647819519043,-4.032603740692139,-3.385718822479248,-3.9613921642303467,6.944085597991943,1.109326720237732,6.019171237945557,-0.26316842436790466,7.304213047027588,5.637685298919678,-3.047006368637085,-7.263313293457031,-0.9977264404296875,1.6413418054580688,-1.8398288488388062,-7.550259590148926,0.02694610506296158,6.761735439300537,-2.5495455265045166,0.7630875110626221,-6.051718235015869,5.85957145690918,-2.5887343883514404,5.198039531707764,2.391556739807129,-0.8873421549797058,2.5789201259613037,1.9800440073013306,-1.3891853094100952,-1.2477201223373413,8.235139846801758,-1.7500983476638794,-7.604465961456299,-3.756786823272705,-6.188089847564697,2.902160406112671,1.9901448488235474,-7.535029888153076,-0.4831925928592682,-8.932685852050781,1.3087722063064575,-2.9688258171081543,0.3870299458503723,2.1471188068389893,-3.179774045944214,4.060271263122559,2.0701756477355957,6.941178798675537,-5.4684834480285645,-0.7612714767456055],\"xaxis\":\"x\",\"y\":[-3.1414730548858643,2.9797775745391846,-0.15785866975784302,5.096811294555664,-3.293179988861084,-1.6863377094268799,-7.326667308807373,4.39396858215332,-3.5933525562286377,-5.400466442108154,-0.24471522867679596,-0.25282803177833557,1.2541733980178833,4.038055896759033,-7.25741720199585,-3.7111971378326416,-2.283071517944336,-4.265171051025391,5.24843692779541,0.0819234848022461,4.8913798332214355,3.084613561630249,-2.4430394172668457,0.06721056997776031,1.306341290473938,0.6459649801254272,-1.5223149061203003,1.7899802923202515,-6.039283752441406,3.782824993133545,7.004338264465332,2.6392831802368164,-2.198995351791382,-0.3577360212802887,2.0147154331207275,6.671111106872559,2.5738208293914795,-2.2170443534851074,4.379395008087158,-2.5475873947143555,-0.8155204057693481,1.9130700826644897,1.6080787181854248,2.5168540477752686,-4.963351249694824,0.9218818545341492,0.32244873046875,0.020689906552433968,-0.23523744940757751,-1.5577282905578613,-1.8378454446792603,2.6215221881866455,-3.968926191329956,-0.8278440833091736,-2.075939416885376,-3.562533140182495,1.2042624950408936,0.5009006857872009,1.1722018718719482],\"yaxis\":\"y\",\"type\":\"scatter\"},{\"customdata\":[[\"In a British TV studio,...\",\"comedy\"],[\"Neil John Samuel is a...\",\"comedy\"],[\"Young sci-fi\\u002ffantasy enthusiast Gavin Gore...\",\"comedy\"],[\"A popular dance hall girl,...\",\"comedy\"],[\"Mordecai C. Jones (Scott) \\u2013...\",\"comedy\"],[\"Flesh (Vince Murdocco) is kidnapped...\",\"comedy\"],[\"Two best friends who live...\",\"comedy\"],[\"Curry and Pepper are two...\",\"comedy\"],[\"Set in the austere post\\u2013World...\",\"comedy\"],[\"Molly Gilbert won't accept a...\",\"comedy\"],[\"Bumbling cop Chatur Singh (Sanjay...\",\"comedy\"],[\"Hardy plays Dr. Henry Tibbett,...\",\"comedy\"],[\"After discovering that her state...\",\"comedy\"],[\"Struggling young actress Jenny (Marjorie...\",\"comedy\"],[\"In every port, sailor Bill,...\",\"comedy\"],[\"Hong Deok-Ja continues to run...\",\"comedy\"],[\"The film tells the story...\",\"comedy\"],[\"After Joe Huggett loses his...\",\"comedy\"],[\"Eric Wainwright (Van Johnson), a...\",\"comedy\"],[\"Kevin Agar is a Carlton-based...\",\"comedy\"],[\"Restaurant owner Dylan Ramsey (David...\",\"comedy\"],[\"Jerry McGuire (William Collier Jr.)...\",\"comedy\"],[\"Two college girls, Ducky and...\",\"comedy\"],[\"The film's slight storyline concerns...\",\"comedy\"],[\"A simple handyman, who also...\",\"comedy\"],[\"The film tells the story...\",\"comedy\"],[\"In a Mexican nightclub, some...\",\"comedy\"],[\"Officers throw an extravagant party...\",\"comedy\"],[\"Nick (Niven) is the supposed...\",\"comedy\"],[\"Chandrabose (Mohanlal) whose wife's (Meera...\",\"comedy\"],[\"On board an ocean liner...\",\"comedy\"],[\"The boys are involved in...\",\"comedy\"],[\"The Rogers family visit Blackpool...\",\"comedy\"],[\"The young filmmaker Timothy (Jonathan...\",\"comedy\"],[\"Small-fry marijuana harvesters in Northern...\",\"comedy\"],[\"The Chain tells the story...\",\"comedy\"],[\"The title character is Victor...\",\"comedy\"],[\"Harry England (Michael Crawford), a...\",\"comedy\"],[\"In Shanghai, Madeleine Linden is...\",\"comedy\"],[\"Andy (Lee Bowman) and Janie...\",\"comedy\"],[\"A small Midwestern town is...\",\"comedy\"],[\"Leonard Maltin: \\\"Cute comic mystery......\",\"comedy\"],[\"The film plays out with...\",\"comedy\"],[\"Two sailors are conned into...\",\"comedy\"],[\"The movie is about Ilangovan...\",\"comedy\"],[\"Alvin Roberts (Lee Tracy) feuds...\",\"comedy\"],[\"Stephanie (Lyn Wilde) and Terry...\",\"comedy\"],[\"The young brother of two...\",\"comedy\"],[\"Jennie Hagan (Swanson) is a...\",\"comedy\"],[\"Banerjee stars as Ram Das,...\",\"comedy\"],[\"Gracie (Fields) and Laurie (Dolman)...\",\"comedy\"]],\"hovertemplate\":\"label=%{customdata[1]}\\u003cbr\\u003ex-tsne=%{x}\\u003cbr\\u003ey-tsne=%{y}\\u003cbr\\u003etext=%{customdata[0]}\\u003cextra\\u003e\\u003c\\u002fextra\\u003e\",\"legendgroup\":\"comedy\",\"marker\":{\"color\":\"#19d3f3\",\"symbol\":\"circle\"},\"mode\":\"markers\",\"name\":\"comedy\",\"orientation\":\"v\",\"showlegend\":true,\"x\":[-3.009791851043701,-4.808884620666504,-3.780596971511841,-1.108508586883545,-2.377011299133301,-0.5107619166374207,3.9510905742645264,2.2478718757629395,2.1202595233917236,-0.36489319801330566,3.627999782562256,-1.6380175352096558,3.4602763652801514,-3.698375701904297,-3.856788396835327,1.8724710941314697,-7.498119831085205,6.580935478210449,-4.056277751922607,1.658476710319519,-2.047715425491333,-7.089982986450195,3.767111301422119,3.161158323287964,7.176852226257324,0.8336233496665955,-3.2100133895874023,-5.016185283660889,-1.6881612539291382,5.635853290557861,4.401791095733643,-3.731757640838623,0.06295380741357803,-3.5650241374969482,1.2212872505187988,4.54014253616333,2.9999802112579346,-4.535430908203125,-4.046515464782715,-6.067693710327148,-2.68082857131958,-5.654359817504883,5.962201118469238,4.5773186683654785,5.5984110832214355,-6.6172404289245605,-6.353785037994385,1.478901982307434,-9.23559856414795,-1.6679874658584595,-4.244112968444824],\"xaxis\":\"x\",\"y\":[-5.076702117919922,-2.165315628051758,-2.219402551651001,-3.1272873878479004,-3.5085792541503906,-5.176310062408447,-1.094262719154358,-1.2632783651351929,-4.8835601806640625,-1.668378472328186,7.681535720825195,-4.160771369934082,-4.448980808258057,-0.6032065153121948,-2.8476622104644775,-1.5146363973617554,3.466794729232788,-0.13841205835342407,-0.8391071557998657,-0.679317057132721,-0.545107364654541,-1.3785794973373413,-0.9535458087921143,-1.3167307376861572,-3.2163562774658203,-4.523916721343994,-3.908252716064453,-2.6957943439483643,1.2150511741638184,6.502813339233398,-1.7753268480300903,-6.475979328155518,3.839557409286499,-2.2058465480804443,0.0828452929854393,-5.8816704750061035,-4.699118137359619,0.06583602726459503,0.9196521043777466,0.5876275897026062,-7.61564302444458,5.519911766052246,-6.080998420715332,-0.589995801448822,6.4752421379089355,-4.323143482208252,0.7165395021438599,1.7551051378250122,1.1306785345077515,7.454951763153076,-1.0884684324264526],\"yaxis\":\"y\",\"type\":\"scatter\"},{\"customdata\":[[\"George Cabot Jr. (Cesar Romero),...\",\"comedy, romance\"]],\"hovertemplate\":\"label=%{customdata[1]}\\u003cbr\\u003ex-tsne=%{x}\\u003cbr\\u003ey-tsne=%{y}\\u003cbr\\u003etext=%{customdata[0]}\\u003cextra\\u003e\\u003c\\u002fextra\\u003e\",\"legendgroup\":\"comedy, romance\",\"marker\":{\"color\":\"#FF6692\",\"symbol\":\"circle\"},\"mode\":\"markers\",\"name\":\"comedy, romance\",\"orientation\":\"v\",\"showlegend\":true,\"x\":[-6.534955024719238],\"xaxis\":\"x\",\"y\":[-1.995063066482544],\"yaxis\":\"y\",\"type\":\"scatter\"},{\"customdata\":[[\"Mongol chief Temujin (later to...\",\"adventure\"],[\"Shellshocked following his experiences as...\",\"adventure\"],[\"Professional hunter Harry Black is...\",\"adventure\"],[\"After being court-martialed and discharged...\",\"adventure\"]],\"hovertemplate\":\"label=%{customdata[1]}\\u003cbr\\u003ex-tsne=%{x}\\u003cbr\\u003ey-tsne=%{y}\\u003cbr\\u003etext=%{customdata[0]}\\u003cextra\\u003e\\u003c\\u002fextra\\u003e\",\"legendgroup\":\"adventure\",\"marker\":{\"color\":\"#B6E880\",\"symbol\":\"circle\"},\"mode\":\"markers\",\"name\":\"adventure\",\"orientation\":\"v\",\"showlegend\":true,\"x\":[8.764108657836914,2.344933032989502,-2.4846837520599365,3.7607474327087402],\"xaxis\":\"x\",\"y\":[2.500919818878174,-4.402400016784668,-1.3668662309646606,-3.0249063968658447],\"yaxis\":\"y\",\"type\":\"scatter\"},{\"customdata\":[[\"The story starts with a...\",\"romance \\u002f suspense\"]],\"hovertemplate\":\"label=%{customdata[1]}\\u003cbr\\u003ex-tsne=%{x}\\u003cbr\\u003ey-tsne=%{y}\\u003cbr\\u003etext=%{customdata[0]}\\u003cextra\\u003e\\u003c\\u002fextra\\u003e\",\"legendgroup\":\"romance \\u002f suspense\",\"marker\":{\"color\":\"#FF97FF\",\"symbol\":\"circle\"},\"mode\":\"markers\",\"name\":\"romance \\u002f suspense\",\"orientation\":\"v\",\"showlegend\":true,\"x\":[-5.609200954437256],\"xaxis\":\"x\",\"y\":[-4.5166778564453125],\"yaxis\":\"y\",\"type\":\"scatter\"},{\"customdata\":[[\"In World War II, two...\",\"pow comedy\"]],\"hovertemplate\":\"label=%{customdata[1]}\\u003cbr\\u003ex-tsne=%{x}\\u003cbr\\u003ey-tsne=%{y}\\u003cbr\\u003etext=%{customdata[0]}\\u003cextra\\u003e\\u003c\\u002fextra\\u003e\",\"legendgroup\":\"pow comedy\",\"marker\":{\"color\":\"#FECB52\",\"symbol\":\"circle\"},\"mode\":\"markers\",\"name\":\"pow comedy\",\"orientation\":\"v\",\"showlegend\":true,\"x\":[1.0203129053115845],\"xaxis\":\"x\",\"y\":[-4.7421464920043945],\"yaxis\":\"y\",\"type\":\"scatter\"},{\"customdata\":[[\"It is love at first...\",\"romance\"],[\"Loosely based on true events...\",\"romance\"]],\"hovertemplate\":\"label=%{customdata[1]}\\u003cbr\\u003ex-tsne=%{x}\\u003cbr\\u003ey-tsne=%{y}\\u003cbr\\u003etext=%{customdata[0]}\\u003cextra\\u003e\\u003c\\u002fextra\\u003e\",\"legendgroup\":\"romance\",\"marker\":{\"color\":\"#636efa\",\"symbol\":\"circle\"},\"mode\":\"markers\",\"name\":\"romance\",\"orientation\":\"v\",\"showlegend\":true,\"x\":[0.5263412594795227,-1.5441595315933228],\"xaxis\":\"x\",\"y\":[-2.238011360168457,-5.1957268714904785],\"yaxis\":\"y\",\"type\":\"scatter\"},{\"customdata\":[[\"Having cleaned up Tombstone, Arizona,...\",\"western\"],[\"The story involves a middle-aged...\",\"western\"],[\"Stephen Ghent, a mineowner, falls...\",\"western\"],[\"After being told by his...\",\"western\"],[\"Jeff Hassard (Dean Jagger) and...\",\"western\"],[\"A U.S. marshal investigates when...\",\"western\"],[\"John Murdock (Paul Richards) is...\",\"western\"],[\"A prospective settler, pioneer Bob...\",\"western\"],[\"When a town drunk, Gabe,...\",\"western\"],[\"Following a series of robberies...\",\"western\"],[\"The plot is a mystery...\",\"western\"]],\"hovertemplate\":\"label=%{customdata[1]}\\u003cbr\\u003ex-tsne=%{x}\\u003cbr\\u003ey-tsne=%{y}\\u003cbr\\u003etext=%{customdata[0]}\\u003cextra\\u003e\\u003c\\u002fextra\\u003e\",\"legendgroup\":\"western\",\"marker\":{\"color\":\"#EF553B\",\"symbol\":\"circle\"},\"mode\":\"markers\",\"name\":\"western\",\"orientation\":\"v\",\"showlegend\":true,\"x\":[-8.131237983703613,-0.09522642195224762,-4.631590366363525,-1.2179045677185059,-5.037930488586426,-4.774691581726074,-2.578657627105713,-1.435513973236084,-8.804676055908203,-6.698410511016846,-4.770882606506348],\"xaxis\":\"x\",\"y\":[-3.9146034717559814,4.099396228790283,0.6571035385131836,-1.2454655170440674,-1.1268713474273682,4.188653469085693,-3.1355061531066895,-0.2642024755477905,-3.1755363941192627,-1.1291052103042603,3.9136486053466797],\"yaxis\":\"y\",\"type\":\"scatter\"},{\"customdata\":[[\"The story is about a...\",\"romantic comedy\"],[\"Scott (Ryan Phillippe) is a...\",\"romantic comedy\"],[\"Trust concerns the unusual romance...\",\"romantic comedy\"],[\"Alim is a young gay...\",\"romantic comedy\"],[\"Daniels, in her final silent...\",\"romantic comedy\"]],\"hovertemplate\":\"label=%{customdata[1]}\\u003cbr\\u003ex-tsne=%{x}\\u003cbr\\u003ey-tsne=%{y}\\u003cbr\\u003etext=%{customdata[0]}\\u003cextra\\u003e\\u003c\\u002fextra\\u003e\",\"legendgroup\":\"romantic comedy\",\"marker\":{\"color\":\"#00cc96\",\"symbol\":\"circle\"},\"mode\":\"markers\",\"name\":\"romantic comedy\",\"orientation\":\"v\",\"showlegend\":true,\"x\":[6.517717361450195,-0.38191813230514526,3.050791025161743,3.4527747631073,-5.361746788024902],\"xaxis\":\"x\",\"y\":[7.34661340713501,1.9303817749023438,-0.31745898723602295,0.6940600872039795,-6.9355950355529785],\"yaxis\":\"y\",\"type\":\"scatter\"},{\"customdata\":[[\"Kisan Kanya was based on...\",\"social\"]],\"hovertemplate\":\"label=%{customdata[1]}\\u003cbr\\u003ex-tsne=%{x}\\u003cbr\\u003ey-tsne=%{y}\\u003cbr\\u003etext=%{customdata[0]}\\u003cextra\\u003e\\u003c\\u002fextra\\u003e\",\"legendgroup\":\"social\",\"marker\":{\"color\":\"#ab63fa\",\"symbol\":\"circle\"},\"mode\":\"markers\",\"name\":\"social\",\"orientation\":\"v\",\"showlegend\":true,\"x\":[4.183669567108154],\"xaxis\":\"x\",\"y\":[5.810468673706055],\"yaxis\":\"y\",\"type\":\"scatter\"},{\"customdata\":[[\"A psychic woman leads archaeologists...\",\"horror\"],[\"Christopher, a lustful man goes...\",\"horror\"],[\"Charles Kessler (Bela Lugosi) is...\",\"horror\"],[\"During a TV segment about...\",\"horror\"]],\"hovertemplate\":\"label=%{customdata[1]}\\u003cbr\\u003ex-tsne=%{x}\\u003cbr\\u003ey-tsne=%{y}\\u003cbr\\u003etext=%{customdata[0]}\\u003cextra\\u003e\\u003c\\u002fextra\\u003e\",\"legendgroup\":\"horror\",\"marker\":{\"color\":\"#FFA15A\",\"symbol\":\"circle\"},\"mode\":\"markers\",\"name\":\"horror\",\"orientation\":\"v\",\"showlegend\":true,\"x\":[-0.4901624321937561,-2.908397674560547,-4.787932872772217,6.357637882232666],\"xaxis\":\"x\",\"y\":[-4.191984176635742,3.601468086242676,2.5521745681762695,-6.263070583343506],\"yaxis\":\"y\",\"type\":\"scatter\"},{\"customdata\":[[\"Two reporters, Curtis (Conrad Phillips)...\",\"crime\"],[\"Edgar Mills and his mistress...\",\"crime\"],[\"Inventor and engineer Robert Draper...\",\"crime\"],[\"United States Secret Service Lieutenant...\",\"crime\"],[\"A new gas formula that...\",\"crime\"],[\"American gambler Nick Cain (Raft)...\",\"crime\"],[\"Two brothers become involved with...\",\"crime\"]],\"hovertemplate\":\"label=%{customdata[1]}\\u003cbr\\u003ex-tsne=%{x}\\u003cbr\\u003ey-tsne=%{y}\\u003cbr\\u003etext=%{customdata[0]}\\u003cextra\\u003e\\u003c\\u002fextra\\u003e\",\"legendgroup\":\"crime\",\"marker\":{\"color\":\"#19d3f3\",\"symbol\":\"circle\"},\"mode\":\"markers\",\"name\":\"crime\",\"orientation\":\"v\",\"showlegend\":true,\"x\":[-7.240383625030518,-4.161777496337891,-6.880002498626709,-6.244478225708008,2.904554843902588,-5.092229843139648,6.1880998611450195],\"xaxis\":\"x\",\"y\":[-0.5879475474357605,2.7681198120117188,2.2711024284362793,-2.2414140701293945,-6.927126407623291,2.2171103954315186,-4.7785325050354],\"yaxis\":\"y\",\"type\":\"scatter\"},{\"customdata\":[[\"Dr. Markoff (J. Carrol Naish)...\",\"science fiction\"]],\"hovertemplate\":\"label=%{customdata[1]}\\u003cbr\\u003ex-tsne=%{x}\\u003cbr\\u003ey-tsne=%{y}\\u003cbr\\u003etext=%{customdata[0]}\\u003cextra\\u003e\\u003c\\u002fextra\\u003e\",\"legendgroup\":\"science fiction\",\"marker\":{\"color\":\"#FF6692\",\"symbol\":\"circle\"},\"mode\":\"markers\",\"name\":\"science fiction\",\"orientation\":\"v\",\"showlegend\":true,\"x\":[-1.5381410121917725],\"xaxis\":\"x\",\"y\":[-4.498261451721191],\"yaxis\":\"y\",\"type\":\"scatter\"},{\"customdata\":[[\"The plot revolves around the...\",\"coming of age drama\"]],\"hovertemplate\":\"label=%{customdata[1]}\\u003cbr\\u003ex-tsne=%{x}\\u003cbr\\u003ey-tsne=%{y}\\u003cbr\\u003etext=%{customdata[0]}\\u003cextra\\u003e\\u003c\\u002fextra\\u003e\",\"legendgroup\":\"coming of age drama\",\"marker\":{\"color\":\"#B6E880\",\"symbol\":\"circle\"},\"mode\":\"markers\",\"name\":\"coming of age drama\",\"orientation\":\"v\",\"showlegend\":true,\"x\":[-1.7155519723892212],\"xaxis\":\"x\",\"y\":[2.046030044555664],\"yaxis\":\"y\",\"type\":\"scatter\"},{\"customdata\":[[\"The movie opens with Fung...\",\"erotic \\u002f drama\"]],\"hovertemplate\":\"label=%{customdata[1]}\\u003cbr\\u003ex-tsne=%{x}\\u003cbr\\u003ey-tsne=%{y}\\u003cbr\\u003etext=%{customdata[0]}\\u003cextra\\u003e\\u003c\\u002fextra\\u003e\",\"legendgroup\":\"erotic \\u002f drama\",\"marker\":{\"color\":\"#FF97FF\",\"symbol\":\"circle\"},\"mode\":\"markers\",\"name\":\"erotic \\u002f drama\",\"orientation\":\"v\",\"showlegend\":true,\"x\":[-2.8373262882232666],\"xaxis\":\"x\",\"y\":[0.25183677673339844],\"yaxis\":\"y\",\"type\":\"scatter\"},{\"customdata\":[[\"Nikki Singh (Akshay Oberoi) is...\",\"neo-noir\"]],\"hovertemplate\":\"label=%{customdata[1]}\\u003cbr\\u003ex-tsne=%{x}\\u003cbr\\u003ey-tsne=%{y}\\u003cbr\\u003etext=%{customdata[0]}\\u003cextra\\u003e\\u003c\\u002fextra\\u003e\",\"legendgroup\":\"neo-noir\",\"marker\":{\"color\":\"#FECB52\",\"symbol\":\"circle\"},\"mode\":\"markers\",\"name\":\"neo-noir\",\"orientation\":\"v\",\"showlegend\":true,\"x\":[4.744901180267334],\"xaxis\":\"x\",\"y\":[7.285480499267578],\"yaxis\":\"y\",\"type\":\"scatter\"},{\"customdata\":[[\"Harvey Keitel plays an American...\",\"crime drama\"],[\"The drama tells of a...\",\"crime drama\"],[\"With five rival oil companies...\",\"crime drama\"]],\"hovertemplate\":\"label=%{customdata[1]}\\u003cbr\\u003ex-tsne=%{x}\\u003cbr\\u003ey-tsne=%{y}\\u003cbr\\u003etext=%{customdata[0]}\\u003cextra\\u003e\\u003c\\u002fextra\\u003e\",\"legendgroup\":\"crime drama\",\"marker\":{\"color\":\"#636efa\",\"symbol\":\"circle\"},\"mode\":\"markers\",\"name\":\"crime drama\",\"orientation\":\"v\",\"showlegend\":true,\"x\":[-6.652729511260986,-1.8181312084197998,0.2348371297121048],\"xaxis\":\"x\",\"y\":[-5.255837917327881,-4.881434440612793,-0.7114399671554565],\"yaxis\":\"y\",\"type\":\"scatter\"},{\"customdata\":[[\"Ir\\u00e8ne Bordoni is cast as...\",\"musical comedy\"],[\"Flagg (Victor McLaglen) and Quirt...\",\"musical comedy\"]],\"hovertemplate\":\"label=%{customdata[1]}\\u003cbr\\u003ex-tsne=%{x}\\u003cbr\\u003ey-tsne=%{y}\\u003cbr\\u003etext=%{customdata[0]}\\u003cextra\\u003e\\u003c\\u002fextra\\u003e\",\"legendgroup\":\"musical comedy\",\"marker\":{\"color\":\"#EF553B\",\"symbol\":\"circle\"},\"mode\":\"markers\",\"name\":\"musical comedy\",\"orientation\":\"v\",\"showlegend\":true,\"x\":[-5.999197959899902,5.8010125160217285],\"xaxis\":\"x\",\"y\":[-1.0617111921310425,-5.398220539093018],\"yaxis\":\"y\",\"type\":\"scatter\"},{\"customdata\":[[\"This film is about two...\",\"romance, comedy\"]],\"hovertemplate\":\"label=%{customdata[1]}\\u003cbr\\u003ex-tsne=%{x}\\u003cbr\\u003ey-tsne=%{y}\\u003cbr\\u003etext=%{customdata[0]}\\u003cextra\\u003e\\u003c\\u002fextra\\u003e\",\"legendgroup\":\"romance, comedy\",\"marker\":{\"color\":\"#00cc96\",\"symbol\":\"circle\"},\"mode\":\"markers\",\"name\":\"romance, comedy\",\"orientation\":\"v\",\"showlegend\":true,\"x\":[7.216396808624268],\"xaxis\":\"x\",\"y\":[8.729574203491211],\"yaxis\":\"y\",\"type\":\"scatter\"},{\"customdata\":[[\"Cosmo Reif, an affectless mob...\",\"comedy, thriller\"]],\"hovertemplate\":\"label=%{customdata[1]}\\u003cbr\\u003ex-tsne=%{x}\\u003cbr\\u003ey-tsne=%{y}\\u003cbr\\u003etext=%{customdata[0]}\\u003cextra\\u003e\\u003c\\u002fextra\\u003e\",\"legendgroup\":\"comedy, thriller\",\"marker\":{\"color\":\"#ab63fa\",\"symbol\":\"circle\"},\"mode\":\"markers\",\"name\":\"comedy, thriller\",\"orientation\":\"v\",\"showlegend\":true,\"x\":[0.753746509552002],\"xaxis\":\"x\",\"y\":[-0.8986898064613342],\"yaxis\":\"y\",\"type\":\"scatter\"},{\"customdata\":[[\"The film is a retelling...\",\"fantasy\"],[\"Loosely based on the historical...\",\"fantasy\"]],\"hovertemplate\":\"label=%{customdata[1]}\\u003cbr\\u003ex-tsne=%{x}\\u003cbr\\u003ey-tsne=%{y}\\u003cbr\\u003etext=%{customdata[0]}\\u003cextra\\u003e\\u003c\\u002fextra\\u003e\",\"legendgroup\":\"fantasy\",\"marker\":{\"color\":\"#FFA15A\",\"symbol\":\"circle\"},\"mode\":\"markers\",\"name\":\"fantasy\",\"orientation\":\"v\",\"showlegend\":true,\"x\":[-1.996414303779602,-3.6718595027923584],\"xaxis\":\"x\",\"y\":[-6.3573832511901855,5.51345682144165],\"yaxis\":\"y\",\"type\":\"scatter\"},{\"customdata\":[[\"Two escaping killers hide out...\",\"suspense\"]],\"hovertemplate\":\"label=%{customdata[1]}\\u003cbr\\u003ex-tsne=%{x}\\u003cbr\\u003ey-tsne=%{y}\\u003cbr\\u003etext=%{customdata[0]}\\u003cextra\\u003e\\u003c\\u002fextra\\u003e\",\"legendgroup\":\"suspense\",\"marker\":{\"color\":\"#19d3f3\",\"symbol\":\"circle\"},\"mode\":\"markers\",\"name\":\"suspense\",\"orientation\":\"v\",\"showlegend\":true,\"x\":[0.576550304889679],\"xaxis\":\"x\",\"y\":[0.04495728388428688],\"yaxis\":\"y\",\"type\":\"scatter\"},{\"customdata\":[[\"The Kitauji high school concert...\",\"drama, youth, musical, romance, idol\"]],\"hovertemplate\":\"label=%{customdata[1]}\\u003cbr\\u003ex-tsne=%{x}\\u003cbr\\u003ey-tsne=%{y}\\u003cbr\\u003etext=%{customdata[0]}\\u003cextra\\u003e\\u003c\\u002fextra\\u003e\",\"legendgroup\":\"drama, youth, musical, romance, idol\",\"marker\":{\"color\":\"#FF6692\",\"symbol\":\"circle\"},\"mode\":\"markers\",\"name\":\"drama, youth, musical, romance, idol\",\"orientation\":\"v\",\"showlegend\":true,\"x\":[8.250386238098145],\"xaxis\":\"x\",\"y\":[-2.488614082336426],\"yaxis\":\"y\",\"type\":\"scatter\"},{\"customdata\":[[\"Lost & Found is basically...\",\"romance, drama\"],[\"Roanne Sanchez, a young girl...\",\"romance, drama\"]],\"hovertemplate\":\"label=%{customdata[1]}\\u003cbr\\u003ex-tsne=%{x}\\u003cbr\\u003ey-tsne=%{y}\\u003cbr\\u003etext=%{customdata[0]}\\u003cextra\\u003e\\u003c\\u002fextra\\u003e\",\"legendgroup\":\"romance, drama\",\"marker\":{\"color\":\"#B6E880\",\"symbol\":\"circle\"},\"mode\":\"markers\",\"name\":\"romance, drama\",\"orientation\":\"v\",\"showlegend\":true,\"x\":[6.908613204956055,3.185006856918335],\"xaxis\":\"x\",\"y\":[4.401787757873535,-0.6567690968513489],\"yaxis\":\"y\",\"type\":\"scatter\"},{\"customdata\":[[\"This film follows the lead...\",\"action, sci-fi\"]],\"hovertemplate\":\"label=%{customdata[1]}\\u003cbr\\u003ex-tsne=%{x}\\u003cbr\\u003ey-tsne=%{y}\\u003cbr\\u003etext=%{customdata[0]}\\u003cextra\\u003e\\u003c\\u002fextra\\u003e\",\"legendgroup\":\"action, sci-fi\",\"marker\":{\"color\":\"#FF97FF\",\"symbol\":\"circle\"},\"mode\":\"markers\",\"name\":\"action, sci-fi\",\"orientation\":\"v\",\"showlegend\":true,\"x\":[-2.299171209335327],\"xaxis\":\"x\",\"y\":[-5.728867530822754],\"yaxis\":\"y\",\"type\":\"scatter\"},{\"customdata\":[[\"Unlike other Alamo films that...\",\"western, war\"]],\"hovertemplate\":\"label=%{customdata[1]}\\u003cbr\\u003ex-tsne=%{x}\\u003cbr\\u003ey-tsne=%{y}\\u003cbr\\u003etext=%{customdata[0]}\\u003cextra\\u003e\\u003c\\u002fextra\\u003e\",\"legendgroup\":\"western, war\",\"marker\":{\"color\":\"#FECB52\",\"symbol\":\"circle\"},\"mode\":\"markers\",\"name\":\"western, war\",\"orientation\":\"v\",\"showlegend\":true,\"x\":[-7.972168445587158],\"xaxis\":\"x\",\"y\":[-1.6670676469802856],\"yaxis\":\"y\",\"type\":\"scatter\"},{\"customdata\":[[\"A San Francisco earthquake orphan...\",\"comedy drama\"],[\"The story revolves around a...\",\"comedy drama\"]],\"hovertemplate\":\"label=%{customdata[1]}\\u003cbr\\u003ex-tsne=%{x}\\u003cbr\\u003ey-tsne=%{y}\\u003cbr\\u003etext=%{customdata[0]}\\u003cextra\\u003e\\u003c\\u002fextra\\u003e\",\"legendgroup\":\"comedy drama\",\"marker\":{\"color\":\"#636efa\",\"symbol\":\"circle\"},\"mode\":\"markers\",\"name\":\"comedy drama\",\"orientation\":\"v\",\"showlegend\":true,\"x\":[-4.799973487854004,3.4903318881988525],\"xaxis\":\"x\",\"y\":[1.0895768404006958,3.3401811122894287],\"yaxis\":\"y\",\"type\":\"scatter\"},{\"customdata\":[[\"The story line centres on...\",\"musical\"],[\"Big-league baseball players Jerry and...\",\"musical\"],[\"During World War II singer...\",\"musical\"],[\"Bonnie and Connie Jones are...\",\"musical\"]],\"hovertemplate\":\"label=%{customdata[1]}\\u003cbr\\u003ex-tsne=%{x}\\u003cbr\\u003ey-tsne=%{y}\\u003cbr\\u003etext=%{customdata[0]}\\u003cextra\\u003e\\u003c\\u002fextra\\u003e\",\"legendgroup\":\"musical\",\"marker\":{\"color\":\"#EF553B\",\"symbol\":\"circle\"},\"mode\":\"markers\",\"name\":\"musical\",\"orientation\":\"v\",\"showlegend\":true,\"x\":[6.309376239776611,0.7179202437400818,1.4163843393325806,8.496511459350586],\"xaxis\":\"x\",\"y\":[-2.1962859630584717,-2.549861431121826,-5.3953537940979,0.6580538153648376],\"yaxis\":\"y\",\"type\":\"scatter\"},{\"customdata\":[[\"Sets in the 19th century,...\",\"romantic drama\"]],\"hovertemplate\":\"label=%{customdata[1]}\\u003cbr\\u003ex-tsne=%{x}\\u003cbr\\u003ey-tsne=%{y}\\u003cbr\\u003etext=%{customdata[0]}\\u003cextra\\u003e\\u003c\\u002fextra\\u003e\",\"legendgroup\":\"romantic drama\",\"marker\":{\"color\":\"#00cc96\",\"symbol\":\"circle\"},\"mode\":\"markers\",\"name\":\"romantic drama\",\"orientation\":\"v\",\"showlegend\":true,\"x\":[-6.474541187286377],\"xaxis\":\"x\",\"y\":[-2.942376136779785],\"yaxis\":\"y\",\"type\":\"scatter\"},{\"customdata\":[[\"Akashangalil is the story of...\",\"family\"]],\"hovertemplate\":\"label=%{customdata[1]}\\u003cbr\\u003ex-tsne=%{x}\\u003cbr\\u003ey-tsne=%{y}\\u003cbr\\u003etext=%{customdata[0]}\\u003cextra\\u003e\\u003c\\u002fextra\\u003e\",\"legendgroup\":\"family\",\"marker\":{\"color\":\"#ab63fa\",\"symbol\":\"circle\"},\"mode\":\"markers\",\"name\":\"family\",\"orientation\":\"v\",\"showlegend\":true,\"x\":[6.170067310333252],\"xaxis\":\"x\",\"y\":[7.009763240814209],\"yaxis\":\"y\",\"type\":\"scatter\"},{\"customdata\":[[\"Sally Elliott (Rita Hayworth), a...\",\"musical biopic\"]],\"hovertemplate\":\"label=%{customdata[1]}\\u003cbr\\u003ex-tsne=%{x}\\u003cbr\\u003ey-tsne=%{y}\\u003cbr\\u003etext=%{customdata[0]}\\u003cextra\\u003e\\u003c\\u002fextra\\u003e\",\"legendgroup\":\"musical biopic\",\"marker\":{\"color\":\"#FFA15A\",\"symbol\":\"circle\"},\"mode\":\"markers\",\"name\":\"musical biopic\",\"orientation\":\"v\",\"showlegend\":true,\"x\":[-4.1779913902282715],\"xaxis\":\"x\",\"y\":[-1.1218507289886475],\"yaxis\":\"y\",\"type\":\"scatter\"},{\"customdata\":[[\"The Hartford Transcontinental Railroad is...\",\"western serial\"]],\"hovertemplate\":\"label=%{customdata[1]}\\u003cbr\\u003ex-tsne=%{x}\\u003cbr\\u003ey-tsne=%{y}\\u003cbr\\u003etext=%{customdata[0]}\\u003cextra\\u003e\\u003c\\u002fextra\\u003e\",\"legendgroup\":\"western serial\",\"marker\":{\"color\":\"#19d3f3\",\"symbol\":\"circle\"},\"mode\":\"markers\",\"name\":\"western serial\",\"orientation\":\"v\",\"showlegend\":true,\"x\":[-0.8360868692398071],\"xaxis\":\"x\",\"y\":[-1.2850313186645508],\"yaxis\":\"y\",\"type\":\"scatter\"},{\"customdata\":[[\"When Los Angeles' police force...\",\"thriller\"],[\"Frankie Bono, a hitman from...\",\"thriller\"],[\"Two days before Christmas, a...\",\"thriller\"],[\"An old gangster, with a...\",\"thriller\"],[\"Julia Hemingway (Ina Skriver, credited...\",\"thriller\"],[\"This film is about the...\",\"thriller\"],[\"A young woman goes to...\",\"thriller\"],[\"A spirit (\\\"Patrick\\\") haunts a...\",\"thriller\"],[\"The story follows a group...\",\"thriller\"],[\"In a quiet English town,...\",\"thriller\"]],\"hovertemplate\":\"label=%{customdata[1]}\\u003cbr\\u003ex-tsne=%{x}\\u003cbr\\u003ey-tsne=%{y}\\u003cbr\\u003etext=%{customdata[0]}\\u003cextra\\u003e\\u003c\\u002fextra\\u003e\",\"legendgroup\":\"thriller\",\"marker\":{\"color\":\"#FF6692\",\"symbol\":\"circle\"},\"mode\":\"markers\",\"name\":\"thriller\",\"orientation\":\"v\",\"showlegend\":true,\"x\":[-0.3692602813243866,0.5162885785102844,0.13424049317836761,1.2652095556259155,-5.571293354034424,6.795472621917725,2.062938690185547,-2.9553186893463135,-1.388525128364563,-6.864456653594971],\"xaxis\":\"x\",\"y\":[-0.2745901346206665,-0.9360425472259521,6.226827621459961,0.5124559998512268,-2.66896915435791,8.242629051208496,3.94212007522583,0.921127438545227,0.5491731762886047,-0.8108391165733337],\"yaxis\":\"y\",\"type\":\"scatter\"},{\"customdata\":[[\"Hiraasat is an action film,...\",\"action, crime, drama\"]],\"hovertemplate\":\"label=%{customdata[1]}\\u003cbr\\u003ex-tsne=%{x}\\u003cbr\\u003ey-tsne=%{y}\\u003cbr\\u003etext=%{customdata[0]}\\u003cextra\\u003e\\u003c\\u002fextra\\u003e\",\"legendgroup\":\"action, crime, drama\",\"marker\":{\"color\":\"#B6E880\",\"symbol\":\"circle\"},\"mode\":\"markers\",\"name\":\"action, crime, drama\",\"orientation\":\"v\",\"showlegend\":true,\"x\":[6.2599592208862305],\"xaxis\":\"x\",\"y\":[9.67400074005127],\"yaxis\":\"y\",\"type\":\"scatter\"},{\"customdata\":[[\"Tulsi tells the story of...\",\" \"]],\"hovertemplate\":\"label=%{customdata[1]}\\u003cbr\\u003ex-tsne=%{x}\\u003cbr\\u003ey-tsne=%{y}\\u003cbr\\u003etext=%{customdata[0]}\\u003cextra\\u003e\\u003c\\u002fextra\\u003e\",\"legendgroup\":\" \",\"marker\":{\"color\":\"#FF97FF\",\"symbol\":\"circle\"},\"mode\":\"markers\",\"name\":\" \",\"orientation\":\"v\",\"showlegend\":true,\"x\":[5.278049468994141],\"xaxis\":\"x\",\"y\":[8.31495189666748],\"yaxis\":\"y\",\"type\":\"scatter\"},{\"customdata\":[[\"Karthi (Mahesh) is a college...\",\"romantic thriller\"]],\"hovertemplate\":\"label=%{customdata[1]}\\u003cbr\\u003ex-tsne=%{x}\\u003cbr\\u003ey-tsne=%{y}\\u003cbr\\u003etext=%{customdata[0]}\\u003cextra\\u003e\\u003c\\u002fextra\\u003e\",\"legendgroup\":\"romantic thriller\",\"marker\":{\"color\":\"#FECB52\",\"symbol\":\"circle\"},\"mode\":\"markers\",\"name\":\"romantic thriller\",\"orientation\":\"v\",\"showlegend\":true,\"x\":[1.3178452253341675],\"xaxis\":\"x\",\"y\":[7.470613479614258],\"yaxis\":\"y\",\"type\":\"scatter\"},{\"customdata\":[[\"The story revolves around an...\",\"drama, thriller\"]],\"hovertemplate\":\"label=%{customdata[1]}\\u003cbr\\u003ex-tsne=%{x}\\u003cbr\\u003ey-tsne=%{y}\\u003cbr\\u003etext=%{customdata[0]}\\u003cextra\\u003e\\u003c\\u002fextra\\u003e\",\"legendgroup\":\"drama, thriller\",\"marker\":{\"color\":\"#636efa\",\"symbol\":\"circle\"},\"mode\":\"markers\",\"name\":\"drama, thriller\",\"orientation\":\"v\",\"showlegend\":true,\"x\":[2.110506772994995],\"xaxis\":\"x\",\"y\":[2.6377317905426025],\"yaxis\":\"y\",\"type\":\"scatter\"},{\"customdata\":[[\"A bullied teen chef wants...\",\"comedy-drama\"]],\"hovertemplate\":\"label=%{customdata[1]}\\u003cbr\\u003ex-tsne=%{x}\\u003cbr\\u003ey-tsne=%{y}\\u003cbr\\u003etext=%{customdata[0]}\\u003cextra\\u003e\\u003c\\u002fextra\\u003e\",\"legendgroup\":\"comedy-drama\",\"marker\":{\"color\":\"#EF553B\",\"symbol\":\"circle\"},\"mode\":\"markers\",\"name\":\"comedy-drama\",\"orientation\":\"v\",\"showlegend\":true,\"x\":[-0.3954392075538635],\"xaxis\":\"x\",\"y\":[-1.6139752864837646],\"yaxis\":\"y\",\"type\":\"scatter\"},{\"customdata\":[[\"A rivalry develops between veteran...\",\"war\"]],\"hovertemplate\":\"label=%{customdata[1]}\\u003cbr\\u003ex-tsne=%{x}\\u003cbr\\u003ey-tsne=%{y}\\u003cbr\\u003etext=%{customdata[0]}\\u003cextra\\u003e\\u003c\\u002fextra\\u003e\",\"legendgroup\":\"war\",\"marker\":{\"color\":\"#00cc96\",\"symbol\":\"circle\"},\"mode\":\"markers\",\"name\":\"war\",\"orientation\":\"v\",\"showlegend\":true,\"x\":[-8.372621536254883],\"xaxis\":\"x\",\"y\":[-1.7233227491378784],\"yaxis\":\"y\",\"type\":\"scatter\"},{\"customdata\":[[\"In the autumn of 1950,...\",\"drama \\u002f history \\u002f western\"]],\"hovertemplate\":\"label=%{customdata[1]}\\u003cbr\\u003ex-tsne=%{x}\\u003cbr\\u003ey-tsne=%{y}\\u003cbr\\u003etext=%{customdata[0]}\\u003cextra\\u003e\\u003c\\u002fextra\\u003e\",\"legendgroup\":\"drama \\u002f history \\u002f western\",\"marker\":{\"color\":\"#ab63fa\",\"symbol\":\"circle\"},\"mode\":\"markers\",\"name\":\"drama \\u002f history \\u002f western\",\"orientation\":\"v\",\"showlegend\":true,\"x\":[-0.08607849478721619],\"xaxis\":\"x\",\"y\":[-8.527997016906738],\"yaxis\":\"y\",\"type\":\"scatter\"},{\"customdata\":[[\"In a small town, mentally...\",\"dramedy\"],[\"Newly transferred college student Lily...\",\"dramedy\"]],\"hovertemplate\":\"label=%{customdata[1]}\\u003cbr\\u003ex-tsne=%{x}\\u003cbr\\u003ey-tsne=%{y}\\u003cbr\\u003etext=%{customdata[0]}\\u003cextra\\u003e\\u003c\\u002fextra\\u003e\",\"legendgroup\":\"dramedy\",\"marker\":{\"color\":\"#FFA15A\",\"symbol\":\"circle\"},\"mode\":\"markers\",\"name\":\"dramedy\",\"orientation\":\"v\",\"showlegend\":true,\"x\":[-8.358904838562012,6.957373142242432],\"xaxis\":\"x\",\"y\":[-0.11450225114822388,-2.3724710941314697],\"yaxis\":\"y\",\"type\":\"scatter\"},{\"customdata\":[[\"The story of a 10th...\",\"rom com\"]],\"hovertemplate\":\"label=%{customdata[1]}\\u003cbr\\u003ex-tsne=%{x}\\u003cbr\\u003ey-tsne=%{y}\\u003cbr\\u003etext=%{customdata[0]}\\u003cextra\\u003e\\u003c\\u002fextra\\u003e\",\"legendgroup\":\"rom com\",\"marker\":{\"color\":\"#19d3f3\",\"symbol\":\"circle\"},\"mode\":\"markers\",\"name\":\"rom com\",\"orientation\":\"v\",\"showlegend\":true,\"x\":[8.103959083557129],\"xaxis\":\"x\",\"y\":[-0.8829301595687866],\"yaxis\":\"y\",\"type\":\"scatter\"},{\"customdata\":[[\"The plot of the film...\",\"nature\"]],\"hovertemplate\":\"label=%{customdata[1]}\\u003cbr\\u003ex-tsne=%{x}\\u003cbr\\u003ey-tsne=%{y}\\u003cbr\\u003etext=%{customdata[0]}\\u003cextra\\u003e\\u003c\\u002fextra\\u003e\",\"legendgroup\":\"nature\",\"marker\":{\"color\":\"#FF6692\",\"symbol\":\"circle\"},\"mode\":\"markers\",\"name\":\"nature\",\"orientation\":\"v\",\"showlegend\":true,\"x\":[3.121574878692627],\"xaxis\":\"x\",\"y\":[-2.041135787963867],\"yaxis\":\"y\",\"type\":\"scatter\"},{\"customdata\":[[\"The film is a historical...\",\"historical\"]],\"hovertemplate\":\"label=%{customdata[1]}\\u003cbr\\u003ex-tsne=%{x}\\u003cbr\\u003ey-tsne=%{y}\\u003cbr\\u003etext=%{customdata[0]}\\u003cextra\\u003e\\u003c\\u002fextra\\u003e\",\"legendgroup\":\"historical\",\"marker\":{\"color\":\"#B6E880\",\"symbol\":\"circle\"},\"mode\":\"markers\",\"name\":\"historical\",\"orientation\":\"v\",\"showlegend\":true,\"x\":[6.034557342529297],\"xaxis\":\"x\",\"y\":[10.211298942565918],\"yaxis\":\"y\",\"type\":\"scatter\"},{\"customdata\":[[\"The film is about an...\",\"short black comedy\"]],\"hovertemplate\":\"label=%{customdata[1]}\\u003cbr\\u003ex-tsne=%{x}\\u003cbr\\u003ey-tsne=%{y}\\u003cbr\\u003etext=%{customdata[0]}\\u003cextra\\u003e\\u003c\\u002fextra\\u003e\",\"legendgroup\":\"short black comedy\",\"marker\":{\"color\":\"#FF97FF\",\"symbol\":\"circle\"},\"mode\":\"markers\",\"name\":\"short black comedy\",\"orientation\":\"v\",\"showlegend\":true,\"x\":[2.1302907466888428],\"xaxis\":\"x\",\"y\":[1.5386918783187866],\"yaxis\":\"y\",\"type\":\"scatter\"},{\"customdata\":[[\"Agimat (Bong Revilla, Jr.) is...\",\"fantasy, comedy, adventure\"]],\"hovertemplate\":\"label=%{customdata[1]}\\u003cbr\\u003ex-tsne=%{x}\\u003cbr\\u003ey-tsne=%{y}\\u003cbr\\u003etext=%{customdata[0]}\\u003cextra\\u003e\\u003c\\u002fextra\\u003e\",\"legendgroup\":\"fantasy, comedy, adventure\",\"marker\":{\"color\":\"#FECB52\",\"symbol\":\"circle\"},\"mode\":\"markers\",\"name\":\"fantasy, comedy, adventure\",\"orientation\":\"v\",\"showlegend\":true,\"x\":[-0.598549485206604],\"xaxis\":\"x\",\"y\":[-5.229527473449707],\"yaxis\":\"y\",\"type\":\"scatter\"},{\"customdata\":[[\"The film is set in...\",\"biblical\"]],\"hovertemplate\":\"label=%{customdata[1]}\\u003cbr\\u003ex-tsne=%{x}\\u003cbr\\u003ey-tsne=%{y}\\u003cbr\\u003etext=%{customdata[0]}\\u003cextra\\u003e\\u003c\\u002fextra\\u003e\",\"legendgroup\":\"biblical\",\"marker\":{\"color\":\"#636efa\",\"symbol\":\"circle\"},\"mode\":\"markers\",\"name\":\"biblical\",\"orientation\":\"v\",\"showlegend\":true,\"x\":[-3.475602388381958],\"xaxis\":\"x\",\"y\":[5.8280181884765625],\"yaxis\":\"y\",\"type\":\"scatter\"},{\"customdata\":[[\"Hans a young German journalist...\",\"sex comedy\"]],\"hovertemplate\":\"label=%{customdata[1]}\\u003cbr\\u003ex-tsne=%{x}\\u003cbr\\u003ey-tsne=%{y}\\u003cbr\\u003etext=%{customdata[0]}\\u003cextra\\u003e\\u003c\\u002fextra\\u003e\",\"legendgroup\":\"sex comedy\",\"marker\":{\"color\":\"#EF553B\",\"symbol\":\"circle\"},\"mode\":\"markers\",\"name\":\"sex comedy\",\"orientation\":\"v\",\"showlegend\":true,\"x\":[4.633820533752441],\"xaxis\":\"x\",\"y\":[-2.209954261779785],\"yaxis\":\"y\",\"type\":\"scatter\"},{\"customdata\":[[\"Hajj, a rascally beggar on...\",\"costume drama\"]],\"hovertemplate\":\"label=%{customdata[1]}\\u003cbr\\u003ex-tsne=%{x}\\u003cbr\\u003ey-tsne=%{y}\\u003cbr\\u003etext=%{customdata[0]}\\u003cextra\\u003e\\u003c\\u002fextra\\u003e\",\"legendgroup\":\"costume drama\",\"marker\":{\"color\":\"#00cc96\",\"symbol\":\"circle\"},\"mode\":\"markers\",\"name\":\"costume drama\",\"orientation\":\"v\",\"showlegend\":true,\"x\":[-3.3380520343780518],\"xaxis\":\"x\",\"y\":[6.362053871154785],\"yaxis\":\"y\",\"type\":\"scatter\"},{\"customdata\":[[\"After her mother was killed...\",\"action \\u002f comedy\"]],\"hovertemplate\":\"label=%{customdata[1]}\\u003cbr\\u003ex-tsne=%{x}\\u003cbr\\u003ey-tsne=%{y}\\u003cbr\\u003etext=%{customdata[0]}\\u003cextra\\u003e\\u003c\\u002fextra\\u003e\",\"legendgroup\":\"action \\u002f comedy\",\"marker\":{\"color\":\"#ab63fa\",\"symbol\":\"circle\"},\"mode\":\"markers\",\"name\":\"action \\u002f comedy\",\"orientation\":\"v\",\"showlegend\":true,\"x\":[-5.906118869781494],\"xaxis\":\"x\",\"y\":[-3.642989158630371],\"yaxis\":\"y\",\"type\":\"scatter\"},{\"customdata\":[[\"Raised by his Uncle Wu...\",\"fantasy \\u002f adventure\"]],\"hovertemplate\":\"label=%{customdata[1]}\\u003cbr\\u003ex-tsne=%{x}\\u003cbr\\u003ey-tsne=%{y}\\u003cbr\\u003etext=%{customdata[0]}\\u003cextra\\u003e\\u003c\\u002fextra\\u003e\",\"legendgroup\":\"fantasy \\u002f adventure\",\"marker\":{\"color\":\"#FFA15A\",\"symbol\":\"circle\"},\"mode\":\"markers\",\"name\":\"fantasy \\u002f adventure\",\"orientation\":\"v\",\"showlegend\":true,\"x\":[-0.9577596783638],\"xaxis\":\"x\",\"y\":[-6.010948657989502],\"yaxis\":\"y\",\"type\":\"scatter\"},{\"customdata\":[[\"A girl is about to...\",\"adventure, serial\"]],\"hovertemplate\":\"label=%{customdata[1]}\\u003cbr\\u003ex-tsne=%{x}\\u003cbr\\u003ey-tsne=%{y}\\u003cbr\\u003etext=%{customdata[0]}\\u003cextra\\u003e\\u003c\\u002fextra\\u003e\",\"legendgroup\":\"adventure, serial\",\"marker\":{\"color\":\"#19d3f3\",\"symbol\":\"circle\"},\"mode\":\"markers\",\"name\":\"adventure, serial\",\"orientation\":\"v\",\"showlegend\":true,\"x\":[2.5728631019592285],\"xaxis\":\"x\",\"y\":[-2.7530038356781006],\"yaxis\":\"y\",\"type\":\"scatter\"},{\"customdata\":[[\"Crash Landing follows the tense...\",\"action\\u002fthriller\"]],\"hovertemplate\":\"label=%{customdata[1]}\\u003cbr\\u003ex-tsne=%{x}\\u003cbr\\u003ey-tsne=%{y}\\u003cbr\\u003etext=%{customdata[0]}\\u003cextra\\u003e\\u003c\\u002fextra\\u003e\",\"legendgroup\":\"action\\u002fthriller\",\"marker\":{\"color\":\"#FF6692\",\"symbol\":\"circle\"},\"mode\":\"markers\",\"name\":\"action\\u002fthriller\",\"orientation\":\"v\",\"showlegend\":true,\"x\":[0.8708961606025696],\"xaxis\":\"x\",\"y\":[-3.3738532066345215],\"yaxis\":\"y\",\"type\":\"scatter\"},{\"customdata\":[[\"Anand is a major in...\",\"action\"],[\"Sachin Joshi is a Kabaddi...\",\"action\"],[\"Political journalist Jayadev (Meka Srikanth)...\",\"action\"]],\"hovertemplate\":\"label=%{customdata[1]}\\u003cbr\\u003ex-tsne=%{x}\\u003cbr\\u003ey-tsne=%{y}\\u003cbr\\u003etext=%{customdata[0]}\\u003cextra\\u003e\\u003c\\u002fextra\\u003e\",\"legendgroup\":\"action\",\"marker\":{\"color\":\"#B6E880\",\"symbol\":\"circle\"},\"mode\":\"markers\",\"name\":\"action\",\"orientation\":\"v\",\"showlegend\":true,\"x\":[3.5070552825927734,7.2177324295043945,3.337747097015381],\"xaxis\":\"x\",\"y\":[7.956566333770752,6.329514503479004,7.154446601867676],\"yaxis\":\"y\",\"type\":\"scatter\"},{\"customdata\":[[\"A lonely old man who...\",\"literary drama\"]],\"hovertemplate\":\"label=%{customdata[1]}\\u003cbr\\u003ex-tsne=%{x}\\u003cbr\\u003ey-tsne=%{y}\\u003cbr\\u003etext=%{customdata[0]}\\u003cextra\\u003e\\u003c\\u002fextra\\u003e\",\"legendgroup\":\"literary drama\",\"marker\":{\"color\":\"#FF97FF\",\"symbol\":\"circle\"},\"mode\":\"markers\",\"name\":\"literary drama\",\"orientation\":\"v\",\"showlegend\":true,\"x\":[0.34915122389793396],\"xaxis\":\"x\",\"y\":[3.9698028564453125],\"yaxis\":\"y\",\"type\":\"scatter\"},{\"customdata\":[[\"Big Fella is set on...\",\"musical\\u002fdrama\"]],\"hovertemplate\":\"label=%{customdata[1]}\\u003cbr\\u003ex-tsne=%{x}\\u003cbr\\u003ey-tsne=%{y}\\u003cbr\\u003etext=%{customdata[0]}\\u003cextra\\u003e\\u003c\\u002fextra\\u003e\",\"legendgroup\":\"musical\\u002fdrama\",\"marker\":{\"color\":\"#FECB52\",\"symbol\":\"circle\"},\"mode\":\"markers\",\"name\":\"musical\\u002fdrama\",\"orientation\":\"v\",\"showlegend\":true,\"x\":[-3.486755132675171],\"xaxis\":\"x\",\"y\":[-1.3871207237243652],\"yaxis\":\"y\",\"type\":\"scatter\"},{\"customdata\":[[\"In the year 1999, the...\",\"tokusatsu\"]],\"hovertemplate\":\"label=%{customdata[1]}\\u003cbr\\u003ex-tsne=%{x}\\u003cbr\\u003ey-tsne=%{y}\\u003cbr\\u003etext=%{customdata[0]}\\u003cextra\\u003e\\u003c\\u002fextra\\u003e\",\"legendgroup\":\"tokusatsu\",\"marker\":{\"color\":\"#636efa\",\"symbol\":\"circle\"},\"mode\":\"markers\",\"name\":\"tokusatsu\",\"orientation\":\"v\",\"showlegend\":true,\"x\":[2.525773286819458],\"xaxis\":\"x\",\"y\":[-6.251756191253662],\"yaxis\":\"y\",\"type\":\"scatter\"},{\"customdata\":[[\"The story of the film,...\",\"crime\\u002fthriller\"]],\"hovertemplate\":\"label=%{customdata[1]}\\u003cbr\\u003ex-tsne=%{x}\\u003cbr\\u003ey-tsne=%{y}\\u003cbr\\u003etext=%{customdata[0]}\\u003cextra\\u003e\\u003c\\u002fextra\\u003e\",\"legendgroup\":\"crime\\u002fthriller\",\"marker\":{\"color\":\"#EF553B\",\"symbol\":\"circle\"},\"mode\":\"markers\",\"name\":\"crime\\u002fthriller\",\"orientation\":\"v\",\"showlegend\":true,\"x\":[4.650968074798584],\"xaxis\":\"x\",\"y\":[-4.700913906097412],\"yaxis\":\"y\",\"type\":\"scatter\"},{\"customdata\":[[\"Kiira seems like an ordinary...\",\"vampire film\"]],\"hovertemplate\":\"label=%{customdata[1]}\\u003cbr\\u003ex-tsne=%{x}\\u003cbr\\u003ey-tsne=%{y}\\u003cbr\\u003etext=%{customdata[0]}\\u003cextra\\u003e\\u003c\\u002fextra\\u003e\",\"legendgroup\":\"vampire film\",\"marker\":{\"color\":\"#00cc96\",\"symbol\":\"circle\"},\"mode\":\"markers\",\"name\":\"vampire film\",\"orientation\":\"v\",\"showlegend\":true,\"x\":[5.024177551269531],\"xaxis\":\"x\",\"y\":[0.8382809162139893],\"yaxis\":\"y\",\"type\":\"scatter\"},{\"customdata\":[[\"With the human exploitation of...\",\"comedy \\u002f animation \\u002f family \\u002f adventure\"]],\"hovertemplate\":\"label=%{customdata[1]}\\u003cbr\\u003ex-tsne=%{x}\\u003cbr\\u003ey-tsne=%{y}\\u003cbr\\u003etext=%{customdata[0]}\\u003cextra\\u003e\\u003c\\u002fextra\\u003e\",\"legendgroup\":\"comedy \\u002f animation \\u002f family \\u002f adventure\",\"marker\":{\"color\":\"#ab63fa\",\"symbol\":\"circle\"},\"mode\":\"markers\",\"name\":\"comedy \\u002f animation \\u002f family \\u002f adventure\",\"orientation\":\"v\",\"showlegend\":true,\"x\":[2.8036394119262695],\"xaxis\":\"x\",\"y\":[-8.370819091796875],\"yaxis\":\"y\",\"type\":\"scatter\"},{\"customdata\":[[\"New York City law professor...\",\"drama, crime\"]],\"hovertemplate\":\"label=%{customdata[1]}\\u003cbr\\u003ex-tsne=%{x}\\u003cbr\\u003ey-tsne=%{y}\\u003cbr\\u003etext=%{customdata[0]}\\u003cextra\\u003e\\u003c\\u002fextra\\u003e\",\"legendgroup\":\"drama, crime\",\"marker\":{\"color\":\"#FFA15A\",\"symbol\":\"circle\"},\"mode\":\"markers\",\"name\":\"drama, crime\",\"orientation\":\"v\",\"showlegend\":true,\"x\":[-7.296416282653809],\"xaxis\":\"x\",\"y\":[-2.2765135765075684],\"yaxis\":\"y\",\"type\":\"scatter\"}],                        {\"template\":{\"data\":{\"histogram2dcontour\":[{\"type\":\"histogram2dcontour\",\"colorbar\":{\"outlinewidth\":0,\"ticks\":\"\"},\"colorscale\":[[0.0,\"#0d0887\"],[0.1111111111111111,\"#46039f\"],[0.2222222222222222,\"#7201a8\"],[0.3333333333333333,\"#9c179e\"],[0.4444444444444444,\"#bd3786\"],[0.5555555555555556,\"#d8576b\"],[0.6666666666666666,\"#ed7953\"],[0.7777777777777778,\"#fb9f3a\"],[0.8888888888888888,\"#fdca26\"],[1.0,\"#f0f921\"]]}],\"choropleth\":[{\"type\":\"choropleth\",\"colorbar\":{\"outlinewidth\":0,\"ticks\":\"\"}}],\"histogram2d\":[{\"type\":\"histogram2d\",\"colorbar\":{\"outlinewidth\":0,\"ticks\":\"\"},\"colorscale\":[[0.0,\"#0d0887\"],[0.1111111111111111,\"#46039f\"],[0.2222222222222222,\"#7201a8\"],[0.3333333333333333,\"#9c179e\"],[0.4444444444444444,\"#bd3786\"],[0.5555555555555556,\"#d8576b\"],[0.6666666666666666,\"#ed7953\"],[0.7777777777777778,\"#fb9f3a\"],[0.8888888888888888,\"#fdca26\"],[1.0,\"#f0f921\"]]}],\"heatmap\":[{\"type\":\"heatmap\",\"colorbar\":{\"outlinewidth\":0,\"ticks\":\"\"},\"colorscale\":[[0.0,\"#0d0887\"],[0.1111111111111111,\"#46039f\"],[0.2222222222222222,\"#7201a8\"],[0.3333333333333333,\"#9c179e\"],[0.4444444444444444,\"#bd3786\"],[0.5555555555555556,\"#d8576b\"],[0.6666666666666666,\"#ed7953\"],[0.7777777777777778,\"#fb9f3a\"],[0.8888888888888888,\"#fdca26\"],[1.0,\"#f0f921\"]]}],\"heatmapgl\":[{\"type\":\"heatmapgl\",\"colorbar\":{\"outlinewidth\":0,\"ticks\":\"\"},\"colorscale\":[[0.0,\"#0d0887\"],[0.1111111111111111,\"#46039f\"],[0.2222222222222222,\"#7201a8\"],[0.3333333333333333,\"#9c179e\"],[0.4444444444444444,\"#bd3786\"],[0.5555555555555556,\"#d8576b\"],[0.6666666666666666,\"#ed7953\"],[0.7777777777777778,\"#fb9f3a\"],[0.8888888888888888,\"#fdca26\"],[1.0,\"#f0f921\"]]}],\"contourcarpet\":[{\"type\":\"contourcarpet\",\"colorbar\":{\"outlinewidth\":0,\"ticks\":\"\"}}],\"contour\":[{\"type\":\"contour\",\"colorbar\":{\"outlinewidth\":0,\"ticks\":\"\"},\"colorscale\":[[0.0,\"#0d0887\"],[0.1111111111111111,\"#46039f\"],[0.2222222222222222,\"#7201a8\"],[0.3333333333333333,\"#9c179e\"],[0.4444444444444444,\"#bd3786\"],[0.5555555555555556,\"#d8576b\"],[0.6666666666666666,\"#ed7953\"],[0.7777777777777778,\"#fb9f3a\"],[0.8888888888888888,\"#fdca26\"],[1.0,\"#f0f921\"]]}],\"surface\":[{\"type\":\"surface\",\"colorbar\":{\"outlinewidth\":0,\"ticks\":\"\"},\"colorscale\":[[0.0,\"#0d0887\"],[0.1111111111111111,\"#46039f\"],[0.2222222222222222,\"#7201a8\"],[0.3333333333333333,\"#9c179e\"],[0.4444444444444444,\"#bd3786\"],[0.5555555555555556,\"#d8576b\"],[0.6666666666666666,\"#ed7953\"],[0.7777777777777778,\"#fb9f3a\"],[0.8888888888888888,\"#fdca26\"],[1.0,\"#f0f921\"]]}],\"mesh3d\":[{\"type\":\"mesh3d\",\"colorbar\":{\"outlinewidth\":0,\"ticks\":\"\"}}],\"scatter\":[{\"fillpattern\":{\"fillmode\":\"overlay\",\"size\":10,\"solidity\":0.2},\"type\":\"scatter\"}],\"parcoords\":[{\"type\":\"parcoords\",\"line\":{\"colorbar\":{\"outlinewidth\":0,\"ticks\":\"\"}}}],\"scatterpolargl\":[{\"type\":\"scatterpolargl\",\"marker\":{\"colorbar\":{\"outlinewidth\":0,\"ticks\":\"\"}}}],\"bar\":[{\"error_x\":{\"color\":\"#2a3f5f\"},\"error_y\":{\"color\":\"#2a3f5f\"},\"marker\":{\"line\":{\"color\":\"#E5ECF6\",\"width\":0.5},\"pattern\":{\"fillmode\":\"overlay\",\"size\":10,\"solidity\":0.2}},\"type\":\"bar\"}],\"scattergeo\":[{\"type\":\"scattergeo\",\"marker\":{\"colorbar\":{\"outlinewidth\":0,\"ticks\":\"\"}}}],\"scatterpolar\":[{\"type\":\"scatterpolar\",\"marker\":{\"colorbar\":{\"outlinewidth\":0,\"ticks\":\"\"}}}],\"histogram\":[{\"marker\":{\"pattern\":{\"fillmode\":\"overlay\",\"size\":10,\"solidity\":0.2}},\"type\":\"histogram\"}],\"scattergl\":[{\"type\":\"scattergl\",\"marker\":{\"colorbar\":{\"outlinewidth\":0,\"ticks\":\"\"}}}],\"scatter3d\":[{\"type\":\"scatter3d\",\"line\":{\"colorbar\":{\"outlinewidth\":0,\"ticks\":\"\"}},\"marker\":{\"colorbar\":{\"outlinewidth\":0,\"ticks\":\"\"}}}],\"scattermapbox\":[{\"type\":\"scattermapbox\",\"marker\":{\"colorbar\":{\"outlinewidth\":0,\"ticks\":\"\"}}}],\"scatterternary\":[{\"type\":\"scatterternary\",\"marker\":{\"colorbar\":{\"outlinewidth\":0,\"ticks\":\"\"}}}],\"scattercarpet\":[{\"type\":\"scattercarpet\",\"marker\":{\"colorbar\":{\"outlinewidth\":0,\"ticks\":\"\"}}}],\"carpet\":[{\"aaxis\":{\"endlinecolor\":\"#2a3f5f\",\"gridcolor\":\"white\",\"linecolor\":\"white\",\"minorgridcolor\":\"white\",\"startlinecolor\":\"#2a3f5f\"},\"baxis\":{\"endlinecolor\":\"#2a3f5f\",\"gridcolor\":\"white\",\"linecolor\":\"white\",\"minorgridcolor\":\"white\",\"startlinecolor\":\"#2a3f5f\"},\"type\":\"carpet\"}],\"table\":[{\"cells\":{\"fill\":{\"color\":\"#EBF0F8\"},\"line\":{\"color\":\"white\"}},\"header\":{\"fill\":{\"color\":\"#C8D4E3\"},\"line\":{\"color\":\"white\"}},\"type\":\"table\"}],\"barpolar\":[{\"marker\":{\"line\":{\"color\":\"#E5ECF6\",\"width\":0.5},\"pattern\":{\"fillmode\":\"overlay\",\"size\":10,\"solidity\":0.2}},\"type\":\"barpolar\"}],\"pie\":[{\"automargin\":true,\"type\":\"pie\"}]},\"layout\":{\"autotypenumbers\":\"strict\",\"colorway\":[\"#636efa\",\"#EF553B\",\"#00cc96\",\"#ab63fa\",\"#FFA15A\",\"#19d3f3\",\"#FF6692\",\"#B6E880\",\"#FF97FF\",\"#FECB52\"],\"font\":{\"color\":\"#2a3f5f\"},\"hovermode\":\"closest\",\"hoverlabel\":{\"align\":\"left\"},\"paper_bgcolor\":\"white\",\"plot_bgcolor\":\"#E5ECF6\",\"polar\":{\"bgcolor\":\"#E5ECF6\",\"angularaxis\":{\"gridcolor\":\"white\",\"linecolor\":\"white\",\"ticks\":\"\"},\"radialaxis\":{\"gridcolor\":\"white\",\"linecolor\":\"white\",\"ticks\":\"\"}},\"ternary\":{\"bgcolor\":\"#E5ECF6\",\"aaxis\":{\"gridcolor\":\"white\",\"linecolor\":\"white\",\"ticks\":\"\"},\"baxis\":{\"gridcolor\":\"white\",\"linecolor\":\"white\",\"ticks\":\"\"},\"caxis\":{\"gridcolor\":\"white\",\"linecolor\":\"white\",\"ticks\":\"\"}},\"coloraxis\":{\"colorbar\":{\"outlinewidth\":0,\"ticks\":\"\"}},\"colorscale\":{\"sequential\":[[0.0,\"#0d0887\"],[0.1111111111111111,\"#46039f\"],[0.2222222222222222,\"#7201a8\"],[0.3333333333333333,\"#9c179e\"],[0.4444444444444444,\"#bd3786\"],[0.5555555555555556,\"#d8576b\"],[0.6666666666666666,\"#ed7953\"],[0.7777777777777778,\"#fb9f3a\"],[0.8888888888888888,\"#fdca26\"],[1.0,\"#f0f921\"]],\"sequentialminus\":[[0.0,\"#0d0887\"],[0.1111111111111111,\"#46039f\"],[0.2222222222222222,\"#7201a8\"],[0.3333333333333333,\"#9c179e\"],[0.4444444444444444,\"#bd3786\"],[0.5555555555555556,\"#d8576b\"],[0.6666666666666666,\"#ed7953\"],[0.7777777777777778,\"#fb9f3a\"],[0.8888888888888888,\"#fdca26\"],[1.0,\"#f0f921\"]],\"diverging\":[[0,\"#8e0152\"],[0.1,\"#c51b7d\"],[0.2,\"#de77ae\"],[0.3,\"#f1b6da\"],[0.4,\"#fde0ef\"],[0.5,\"#f7f7f7\"],[0.6,\"#e6f5d0\"],[0.7,\"#b8e186\"],[0.8,\"#7fbc41\"],[0.9,\"#4d9221\"],[1,\"#276419\"]]},\"xaxis\":{\"gridcolor\":\"white\",\"linecolor\":\"white\",\"ticks\":\"\",\"title\":{\"standoff\":15},\"zerolinecolor\":\"white\",\"automargin\":true,\"zerolinewidth\":2},\"yaxis\":{\"gridcolor\":\"white\",\"linecolor\":\"white\",\"ticks\":\"\",\"title\":{\"standoff\":15},\"zerolinecolor\":\"white\",\"automargin\":true,\"zerolinewidth\":2},\"scene\":{\"xaxis\":{\"backgroundcolor\":\"#E5ECF6\",\"gridcolor\":\"white\",\"linecolor\":\"white\",\"showbackground\":true,\"ticks\":\"\",\"zerolinecolor\":\"white\",\"gridwidth\":2},\"yaxis\":{\"backgroundcolor\":\"#E5ECF6\",\"gridcolor\":\"white\",\"linecolor\":\"white\",\"showbackground\":true,\"ticks\":\"\",\"zerolinecolor\":\"white\",\"gridwidth\":2},\"zaxis\":{\"backgroundcolor\":\"#E5ECF6\",\"gridcolor\":\"white\",\"linecolor\":\"white\",\"showbackground\":true,\"ticks\":\"\",\"zerolinecolor\":\"white\",\"gridwidth\":2}},\"shapedefaults\":{\"line\":{\"color\":\"#2a3f5f\"}},\"annotationdefaults\":{\"arrowcolor\":\"#2a3f5f\",\"arrowhead\":0,\"arrowwidth\":1},\"geo\":{\"bgcolor\":\"white\",\"landcolor\":\"#E5ECF6\",\"subunitcolor\":\"white\",\"showland\":true,\"showlakes\":true,\"lakecolor\":\"white\"},\"title\":{\"x\":0.05},\"mapbox\":{\"style\":\"light\"}}},\"xaxis\":{\"anchor\":\"y\",\"domain\":[0.0,1.0],\"title\":{\"text\":\"x-tsne\"}},\"yaxis\":{\"anchor\":\"x\",\"domain\":[0.0,1.0],\"title\":{\"text\":\"y-tsne\"}},\"legend\":{\"title\":{\"text\":\"label\"},\"tracegroupgap\":0},\"title\":{\"text\":\"Sentences t-SNE Visualization with Fasttext Embeddings\"},\"height\":1200,\"width\":1200},                        {\"responsive\": true}                    ).then(function(){\n",
       "                            \n",
       "var gd = document.getElementById('637c4ced-9194-40a7-b041-7c9422cf58fe');\n",
       "var x = new MutationObserver(function (mutations, observer) {{\n",
       "        var display = window.getComputedStyle(gd).display;\n",
       "        if (!display || display === 'none') {{\n",
       "            console.log([gd, 'removed!']);\n",
       "            Plotly.purge(gd);\n",
       "            observer.disconnect();\n",
       "        }}\n",
       "}});\n",
       "\n",
       "// Listen for the removal of the full notebook cells\n",
       "var notebookContainer = gd.closest('#notebook-container');\n",
       "if (notebookContainer) {{\n",
       "    x.observe(notebookContainer, {childList: true});\n",
       "}}\n",
       "\n",
       "// Listen for the clearing of the current output cell\n",
       "var outputEl = gd.closest('.output');\n",
       "if (outputEl) {{\n",
       "    x.observe(outputEl, {childList: true});\n",
       "}}\n",
       "\n",
       "                        })                };                });            </script>        </div>"
      ]
     },
     "metadata": {},
     "output_type": "display_data"
    }
   ],
   "source": [
    "# Create interactive scatter plot\n",
    "fig = px.scatter(\n",
    "    ft_df, x='x-tsne', y='y-tsne', color='label',\n",
    "    hover_data={'text': True, 'label': True},\n",
    "    title='Sentences t-SNE Visualization with Fasttext Embeddings', width=1200, height=1200\n",
    ")\n",
    "\n",
    "# Show plot\n",
    "fig.show()"
   ]
  },
  {
   "cell_type": "markdown",
   "metadata": {},
   "source": [
    "### TF-IDF"
   ]
  },
  {
   "cell_type": "code",
   "execution_count": 14,
   "metadata": {},
   "outputs": [],
   "source": [
    "vectorizer = TfidfVectorizer(max_features=300)"
   ]
  },
  {
   "cell_type": "code",
   "execution_count": 16,
   "metadata": {},
   "outputs": [
    {
     "name": "stdout",
     "output_type": "stream",
     "text": [
      " Shape of the TF-IDF matrix: (300, 300)\n"
     ]
    }
   ],
   "source": [
    "tfidf_df = df.copy()\n",
    "\n",
    "X = vectorizer.fit_transform(tfidf_df[\"cleaned_text\"])\n",
    "print(f\" Shape of the TF-IDF matrix: {X.shape}\")\n",
    "\n",
    "tfidf_df[\"embeddings\"] = [X[i].toarray()[0] for i in range(X.shape[0])]\n",
    "\n",
    "tfidf_emb_arr = np.array(tfidf_df['embeddings'].tolist())"
   ]
  },
  {
   "cell_type": "code",
   "execution_count": 20,
   "metadata": {},
   "outputs": [
    {
     "data": {
      "application/vnd.plotly.v1+json": {
       "config": {
        "plotlyServerURL": "https://plot.ly"
       },
       "data": [
        {
         "customdata": [
          [
           "The film tells the story.........",
           "film noir"
          ],
          [
           "A psychoanalyst and his young.........",
           "film noir"
          ],
          [
           "The film is set in.........",
           "film noir"
          ],
          [
           "Convict Van Duff is the.........",
           "film noir"
          ],
          [
           "Rosalind Dee (DeCarlo) is a.........",
           "film noir"
          ],
          [
           "Con man Rick Maxon (Payne).........",
           "film noir"
          ]
         ],
         "hovertemplate": "label=%{customdata[1]}<br>x-tsne=%{x}<br>y-tsne=%{y}<br>text=%{customdata[0]}<extra></extra>",
         "legendgroup": "film noir",
         "marker": {
          "color": "#636efa",
          "symbol": "circle"
         },
         "mode": "markers",
         "name": "film noir",
         "orientation": "v",
         "showlegend": true,
         "type": "scatter",
         "x": [
          1.1554052829742432,
          19.286849975585938,
          5.272614002227783,
          12.004380226135254,
          -8.31869125366211,
          -12.014385223388672
         ],
         "xaxis": "x",
         "y": [
          11.794929504394531,
          1.3869383335113525,
          -3.2568674087524414,
          -16.150901794433594,
          -12.611530303955078,
          -3.8488504886627197
         ],
         "yaxis": "y"
        },
        {
         "customdata": [
          [
           "The eventful life of Swami.........",
           "biography"
          ],
          [
           "Raised on a sharecropping plantation.........",
           "biography"
          ]
         ],
         "hovertemplate": "label=%{customdata[1]}<br>x-tsne=%{x}<br>y-tsne=%{y}<br>text=%{customdata[0]}<extra></extra>",
         "legendgroup": "biography",
         "marker": {
          "color": "#EF553B",
          "symbol": "circle"
         },
         "mode": "markers",
         "name": "biography",
         "orientation": "v",
         "showlegend": true,
         "type": "scatter",
         "x": [
          -3.541018486022949,
          -0.34941792488098145
         ],
         "xaxis": "x",
         "y": [
          9.219606399536133,
          -14.547322273254395
         ],
         "yaxis": "y"
        },
        {
         "customdata": [
          [
           "Jagathalaprathapan is a prince who.........",
           "unknown"
          ],
          [
           "The story is about two.........",
           "unknown"
          ],
          [
           "In 1962, South Korea. Kang.........",
           "unknown"
          ],
          [
           "Vani Viswanath plays the central.........",
           "unknown"
          ],
          [
           "3000 years ago, the Vader.........",
           "unknown"
          ],
          [
           "An orphan girl, named Bindu.........",
           "unknown"
          ],
          [
           "Stand-up-comedian Nikita Kolesnikov (Danila Kozlovsky).........",
           "unknown"
          ],
          [
           "Claire of the Moon is.........",
           "unknown"
          ],
          [
           "Joseph is a mentally retarded.........",
           "unknown"
          ],
          [
           "Balu (Vijayakumar) and Padma (Manjula.........",
           "unknown"
          ],
          [
           "On the run from the.........",
           "unknown"
          ],
          [
           "A man visits a happy.........",
           "unknown"
          ],
          [
           "In 1983 KBS launched a.........",
           "unknown"
          ],
          [
           "Rahul (Ramankanth) sees a concert.........",
           "unknown"
          ],
          [
           "Rolex (Prakash Raj) is a.........",
           "unknown"
          ],
          [
           "A young sculptor searches for.........",
           "unknown"
          ],
          [
           "Joan (Purviance) and Magdalen (Sothern).........",
           "unknown"
          ],
          [
           "Indie musician Dong-hoon and cartoonist.........",
           "unknown"
          ],
          [
           "The story tells about Ching.........",
           "unknown"
          ],
          [
           "A former agent from the.........",
           "unknown"
          ],
          [
           "An earthquake releases a bunch.........",
           "unknown"
          ],
          [
           "Nine people from around the.........",
           "unknown"
          ],
          [
           "The film takes place in.........",
           "unknown"
          ],
          [
           "Dharma (Anandaraj) is an auto.........",
           "unknown"
          ],
          [
           "Arjun lives in a village..........",
           "unknown"
          ],
          [
           "The story of the film.........",
           "unknown"
          ],
          [
           "Chu Liuxiang is having drinks.........",
           "unknown"
          ],
          [
           "Soo-nam is a poor woman.........",
           "unknown"
          ],
          [
           "Vijay (R. Sarathkumar) and Seetha.........",
           "unknown"
          ],
          [
           "Vivek is a wanted criminal.........",
           "unknown"
          ],
          [
           "Gopal (M.G.R.) is an honest.........",
           "unknown"
          ],
          [
           "This film is about the.........",
           "unknown"
          ],
          [
           "The story is a family.........",
           "unknown"
          ],
          [
           "Kumar is a young and.........",
           "unknown"
          ],
          [
           "Twice widowed, Pilnyeo vows never.........",
           "unknown"
          ],
          [
           "A new teacher organizes a.........",
           "unknown"
          ],
          [
           "In the 1930s, Teresa (Buday).........",
           "unknown"
          ],
          [
           "In the year 1999, the.........",
           "unknown"
          ],
          [
           "The film is based on.........",
           "unknown"
          ],
          [
           "Jin-hong is a prosecutor who.........",
           "unknown"
          ],
          [
           "Kumar, a graduate who decides.........",
           "unknown"
          ],
          [
           "The story revolves around a.........",
           "unknown"
          ],
          [
           "A genius sculptor Joon-goo (Park.........",
           "unknown"
          ],
          [
           "Russian general Marenkov (Robert Shaw).........",
           "unknown"
          ],
          [
           "Rakta Bandhan is a family.........",
           "unknown"
          ],
          [
           "Louisa Gould (Jenny Seagrove) hides.........",
           "unknown"
          ],
          [
           "Marappan (Anandaraj) is the rebel.........",
           "unknown"
          ],
          [
           "The spouses Alec and Zoey,.........",
           "unknown"
          ],
          [
           "After the execution of Kattabomman.........",
           "unknown"
          ],
          [
           "Alli (Manorama) a veritable jungle.........",
           "unknown"
          ],
          [
           "The film takes place in.........",
           "unknown"
          ],
          [
           "Raja is a 10-year-old tourist.........",
           "unknown"
          ],
          [
           "Rajini's parents are killed by.........",
           "unknown"
          ],
          [
           "Pudhayal was about imaginary gold.........",
           "unknown"
          ],
          [
           "Kaalia is an action flick.........",
           "unknown"
          ],
          [
           "Seven young freedom fighters, heavily.........",
           "unknown"
          ],
          [
           "The story revolves around a.........",
           "unknown"
          ],
          [
           "Jung-woo is a film director.........",
           "unknown"
          ],
          [
           "The story revolves around a.........",
           "unknown"
          ],
          [
           "Handsome and fairly good-looking Anil.........",
           "unknown"
          ],
          [
           "While on a trip to.........",
           "unknown"
          ],
          [
           "The story centres on the.........",
           "unknown"
          ],
          [
           "Two persons namely Ajay and.........",
           "unknown"
          ],
          [
           "Story of a corpse being.........",
           "unknown"
          ],
          [
           "The film revolves around the.........",
           "unknown"
          ],
          [
           "Anand (Shivrajkumar) was nicknamed \"Kaddipudi\".........",
           "unknown"
          ],
          [
           "Vijay (MGR), a carefree and.........",
           "unknown"
          ],
          [
           "A man loses his memory.........",
           "unknown"
          ],
          [
           "The film tells the story.........",
           "unknown"
          ]
         ],
         "hovertemplate": "label=%{customdata[1]}<br>x-tsne=%{x}<br>y-tsne=%{y}<br>text=%{customdata[0]}<extra></extra>",
         "legendgroup": "unknown",
         "marker": {
          "color": "#00cc96",
          "symbol": "circle"
         },
         "mode": "markers",
         "name": "unknown",
         "orientation": "v",
         "showlegend": true,
         "type": "scatter",
         "x": [
          -0.23735962808132172,
          -7.386903285980225,
          -12.202765464782715,
          15.05556869506836,
          -7.055501461029053,
          -10.39400577545166,
          -5.0906243324279785,
          2.8684287071228027,
          10.170613288879395,
          -15.503911972045898,
          -21.36316680908203,
          -9.69793701171875,
          3.063704013824463,
          -14.818196296691895,
          -16.358970642089844,
          -7.330031871795654,
          -6.5487589836120605,
          -6.2333526611328125,
          -1.4639328718185425,
          3.7326910495758057,
          -7.655555725097656,
          12.167933464050293,
          -1.1446715593338013,
          13.989282608032227,
          -18.440351486206055,
          1.7637526988983154,
          -3.315253257751465,
          12.269396781921387,
          -16.090089797973633,
          3.2667386531829834,
          -10.19206714630127,
          -16.987112045288086,
          -7.010389804840088,
          -16.882091522216797,
          -7.492591381072998,
          -12.01499080657959,
          5.073230743408203,
          -5.860143661499023,
          -1.214135766029358,
          -2.6403510570526123,
          7.482719898223877,
          15.165557861328125,
          3.766108512878418,
          11.590006828308105,
          -10.876293182373047,
          2.1884727478027344,
          -20.124380111694336,
          -4.952273845672607,
          20.305490493774414,
          -16.77413558959961,
          16.791183471679688,
          -4.393986701965332,
          -6.176675796508789,
          17.020170211791992,
          14.797677993774414,
          -6.736739158630371,
          8.207488059997559,
          13.646707534790039,
          -9.42832088470459,
          14.016322135925293,
          -9.435501098632812,
          14.041516304016113,
          14.198745727539062,
          11.889915466308594,
          -8.937294960021973,
          -1.5649933815002441,
          -16.189043045043945,
          1.2565631866455078,
          3.4088754653930664
         ],
         "xaxis": "x",
         "y": [
          -19.202499389648438,
          13.995339393615723,
          -9.874470710754395,
          -4.172256946563721,
          -19.53999137878418,
          6.247211456298828,
          -4.8028950691223145,
          -8.850998878479004,
          -7.565408706665039,
          3.098602294921875,
          -8.674627304077148,
          4.870395660400391,
          12.234879493713379,
          -3.690861463546753,
          4.735386848449707,
          4.619071960449219,
          0.12208619713783264,
          -5.7811360359191895,
          -3.5266997814178467,
          12.754344940185547,
          -19.105449676513672,
          17.273181915283203,
          13.32758617401123,
          -6.725497722625732,
          -2.379767656326294,
          18.824113845825195,
          1.9817144870758057,
          10.865334510803223,
          1.8099311590194702,
          -13.926057815551758,
          -2.2505264282226562,
          6.525848865509033,
          10.283554077148438,
          5.021002769470215,
          0.00371762877330184,
          -9.738265037536621,
          -16.00794792175293,
          -21.52161979675293,
          8.974275588989258,
          -4.082107067108154,
          14.5446195602417,
          -14.121630668640137,
          11.234885215759277,
          -16.63235855102539,
          16.9433650970459,
          14.347306251525879,
          -2.6685361862182617,
          -7.523962497711182,
          6.397367477416992,
          -9.47484016418457,
          6.046688079833984,
          -10.566264152526855,
          2.3132550716400146,
          -8.739216804504395,
          -10.659797668457031,
          5.361155033111572,
          -0.3756110370159149,
          10.484228134155273,
          9.08602523803711,
          -10.242088317871094,
          -1.5923256874084473,
          -2.585969924926758,
          1.5389724969863892,
          9.06200122833252,
          8.598322868347168,
          5.2796854972839355,
          1.643870234489441,
          -15.41646671295166,
          5.992099761962891
         ],
         "yaxis": "y"
        },
        {
         "customdata": [
          [
           "Police inspector Holloway (Patrick Wymark).........",
           "mystery"
          ],
          [
           "The story of the film.........",
           "mystery"
          ],
          [
           "A blind detective, Duncan Maclain,.........",
           "mystery"
          ],
          [
           "Nick and Nora Charles are.........",
           "mystery"
          ],
          [
           "When infamous jewel thief Flambeau.........",
           "mystery"
          ],
          [
           "It is of the Jack.........",
           "mystery"
          ]
         ],
         "hovertemplate": "label=%{customdata[1]}<br>x-tsne=%{x}<br>y-tsne=%{y}<br>text=%{customdata[0]}<extra></extra>",
         "legendgroup": "mystery",
         "marker": {
          "color": "#ab63fa",
          "symbol": "circle"
         },
         "mode": "markers",
         "name": "mystery",
         "orientation": "v",
         "showlegend": true,
         "type": "scatter",
         "x": [
          15.155308723449707,
          0.5361200571060181,
          9.263174057006836,
          -1.896623969078064,
          -0.14486974477767944,
          20.012020111083984
         ],
         "xaxis": "x",
         "y": [
          0.8698877692222595,
          6.62352180480957,
          3.7044169902801514,
          -9.311887741088867,
          -6.808823108673096,
          3.8034486770629883
         ],
         "yaxis": "y"
        },
        {
         "customdata": [
          [
           "Lewis and Clark and George.........",
           "drama"
          ],
          [
           "Oliver's mother, a penniless outcast,.........",
           "drama"
          ],
          [
           "Reverend Smith has arrived in.........",
           "drama"
          ],
          [
           "Following the plot of the.........",
           "drama"
          ],
          [
           "The film is a story.........",
           "drama"
          ],
          [
           "Byron Levin works in a.........",
           "drama"
          ],
          [
           "This film is about a.........",
           "drama"
          ],
          [
           "Bok-nyeo, a mentally handicapped woman,.........",
           "drama"
          ],
          [
           "The film is an account.........",
           "drama"
          ],
          [
           "A crime reporter, assisted by.........",
           "drama"
          ],
          [
           "Marianne (Greta Garbo) is a.........",
           "drama"
          ],
          [
           "Shane O'Shea is a young.........",
           "drama"
          ],
          [
           "Italian aristocrat Angela Chiaromonte (Helen.........",
           "drama"
          ],
          [
           "Dhag is the story of.........",
           "drama"
          ],
          [
           "A Mighty Heart is a.........",
           "drama"
          ],
          [
           "The film is an examination.........",
           "drama"
          ],
          [
           "Gloria Cole and Eddie Swenson.........",
           "drama"
          ],
          [
           "The film is about an.........",
           "drama"
          ],
          [
           "Chaiti is a young beautiful.........",
           "drama"
          ],
          [
           "Fontaine Khaled is the London.........",
           "drama"
          ],
          [
           "California gubernatorial candidate Burton (Lyon).........",
           "drama"
          ],
          [
           "A 12-year old young boy.........",
           "drama"
          ],
          [
           "Rie and Nao own a.........",
           "drama"
          ],
          [
           "The film stars Harry Connick.........",
           "drama"
          ],
          [
           "In 1964, inmate Charlie Forsythe.........",
           "drama"
          ],
          [
           "Three teenage boys in small-town.........",
           "drama"
          ],
          [
           "Taglines: \"Being a girl is.........",
           "drama"
          ],
          [
           "Newland Archer is engaged to.........",
           "drama"
          ],
          [
           "The Philippines, 1972. Mysterious things.........",
           "drama"
          ],
          [
           "Set in Alexandria in 1938,.........",
           "drama"
          ],
          [
           "The film is set in.........",
           "drama"
          ],
          [
           "Michael Walsh, a husband and.........",
           "drama"
          ],
          [
           "The film revolves around an.........",
           "drama"
          ],
          [
           "Big Bad Love shares its.........",
           "drama"
          ],
          [
           "Ten-year-old Bobby (Frankie Thomas) and.........",
           "drama"
          ],
          [
           "Brinda (Sindhu Tolani) is an.........",
           "drama"
          ],
          [
           "A mysterious killer, known only.........",
           "drama"
          ],
          [
           "Omar Sharif plays Muhassab, headman.........",
           "drama"
          ],
          [
           "A young Lakota Sioux (Lou.........",
           "drama"
          ],
          [
           "Hikaru Oshiro, noticing that there.........",
           "drama"
          ],
          [
           "Chuck Wheeler is released from.........",
           "drama"
          ],
          [
           "Leslie is a troubled 1960s.........",
           "drama"
          ],
          [
           "In Renaissance Florence, a Florentine.........",
           "drama"
          ],
          [
           "\"Illustrated Press\" society editor Lorelei.........",
           "drama"
          ],
          [
           "Spanning nearly 20 years from.........",
           "drama"
          ],
          [
           "A young construction worker rams.........",
           "drama"
          ],
          [
           "Teenager Jackie Knowles (Richard Attenborough).........",
           "drama"
          ],
          [
           "In a desperate attempt to.........",
           "drama"
          ],
          [
           "The first act of the.........",
           "drama"
          ],
          [
           "In Wilmington, Delaware, Anna Thompson.........",
           "drama"
          ],
          [
           "While in a restaurant, Carla.........",
           "drama"
          ],
          [
           "In the middle of a.........",
           "drama"
          ],
          [
           "Chad (Jimmie Rodgers) is a.........",
           "drama"
          ],
          [
           "Midget George Wilson pulls strings.........",
           "drama"
          ],
          [
           "In the remote and undeveloped.........",
           "drama"
          ],
          [
           "The film is about Jamie,.........",
           "drama"
          ],
          [
           "Jean Paurel is a famous.........",
           "drama"
          ],
          [
           "Napoleon Bonaparte (Charles Boyer) launches.........",
           "drama"
          ],
          [
           "Four friends go on a.........",
           "drama"
          ]
         ],
         "hovertemplate": "label=%{customdata[1]}<br>x-tsne=%{x}<br>y-tsne=%{y}<br>text=%{customdata[0]}<extra></extra>",
         "legendgroup": "drama",
         "marker": {
          "color": "#FFA15A",
          "symbol": "circle"
         },
         "mode": "markers",
         "name": "drama",
         "orientation": "v",
         "showlegend": true,
         "type": "scatter",
         "x": [
          -11.44797420501709,
          -9.236103057861328,
          -12.503375053405762,
          8.482593536376953,
          -5.4723920822143555,
          -11.979679107666016,
          8.059215545654297,
          4.261369705200195,
          -2.9834680557250977,
          -11.334671974182129,
          6.859381198883057,
          1.0256983041763306,
          4.25441312789917,
          -7.7899627685546875,
          -17.885517120361328,
          -1.899875283241272,
          3.796139717102051,
          4.0405354499816895,
          7.811325550079346,
          3.9577393531799316,
          2.1203315258026123,
          -8.618443489074707,
          4.809753894805908,
          -4.680099964141846,
          14.49671459197998,
          10.833749771118164,
          -12.979239463806152,
          20.50084114074707,
          8.74201774597168,
          21.012163162231445,
          12.730053901672363,
          -12.483210563659668,
          -9.745280265808105,
          -6.205898284912109,
          -15.22735595703125,
          -4.822111129760742,
          18.490062713623047,
          1.6528500318527222,
          -7.750223159790039,
          -12.105367660522461,
          13.238537788391113,
          -11.743583679199219,
          -12.79057502746582,
          13.400392532348633,
          1.1774556636810303,
          -11.869987487792969,
          18.46133041381836,
          -1.976441740989685,
          -1.8930878639221191,
          -1.8997834920883179,
          -10.851694107055664,
          7.42645263671875,
          5.467660903930664,
          -12.735422134399414,
          -8.607973098754883,
          4.093108177185059,
          9.526034355163574,
          0.6173951625823975,
          12.253113746643066
         ],
         "xaxis": "x",
         "y": [
          -17.965883255004883,
          -4.673600673675537,
          -0.9853596091270447,
          15.923720359802246,
          3.231205940246582,
          -5.806525707244873,
          11.934697151184082,
          -14.509651184082031,
          9.295942306518555,
          13.339762687683105,
          8.037631034851074,
          -4.039414882659912,
          15.007232666015625,
          -3.5769002437591553,
          -11.716373443603516,
          16.609941482543945,
          -0.9477056264877319,
          19.06611442565918,
          -6.234376430511475,
          9.753337860107422,
          -11.982067108154297,
          -7.381900787353516,
          5.709900379180908,
          -11.346323013305664,
          -13.614823341369629,
          7.058010101318359,
          -12.234997749328613,
          -6.543358325958252,
          10.293951988220215,
          6.457920551300049,
          15.916096687316895,
          3.7539846897125244,
          5.851813316345215,
          9.03226375579834,
          -5.817254543304443,
          -15.574417114257812,
          2.146355628967285,
          4.192938327789307,
          -3.1526737213134766,
          -12.53127384185791,
          -14.166797637939453,
          8.003701210021973,
          6.944995880126953,
          2.3638064861297607,
          14.618690490722656,
          -4.832376956939697,
          -3.788109302520752,
          -12.29202651977539,
          16.836849212646484,
          -17.814796447753906,
          -9.004162788391113,
          -4.086358070373535,
          16.804067611694336,
          -17.94129753112793,
          -7.980990886688232,
          -6.370029449462891,
          3.84134840965271,
          -12.035140037536621,
          0.8702974319458008
         ],
         "yaxis": "y"
        },
        {
         "customdata": [
          [
           "In a British TV studio,.........",
           "comedy"
          ],
          [
           "Neil John Samuel is a.........",
           "comedy"
          ],
          [
           "Young sci-fi/fantasy enthusiast Gavin Gore.........",
           "comedy"
          ],
          [
           "A popular dance hall girl,.........",
           "comedy"
          ],
          [
           "Mordecai C. Jones (Scott) –.........",
           "comedy"
          ],
          [
           "Flesh (Vince Murdocco) is kidnapped.........",
           "comedy"
          ],
          [
           "Two best friends who live.........",
           "comedy"
          ],
          [
           "Curry and Pepper are two.........",
           "comedy"
          ],
          [
           "Set in the austere post–World.........",
           "comedy"
          ],
          [
           "Molly Gilbert won't accept a.........",
           "comedy"
          ],
          [
           "Bumbling cop Chatur Singh (Sanjay.........",
           "comedy"
          ],
          [
           "Hardy plays Dr. Henry Tibbett,.........",
           "comedy"
          ],
          [
           "After discovering that her state.........",
           "comedy"
          ],
          [
           "Struggling young actress Jenny (Marjorie.........",
           "comedy"
          ],
          [
           "In every port, sailor Bill,.........",
           "comedy"
          ],
          [
           "Hong Deok-Ja continues to run.........",
           "comedy"
          ],
          [
           "The film tells the story.........",
           "comedy"
          ],
          [
           "After Joe Huggett loses his.........",
           "comedy"
          ],
          [
           "Eric Wainwright (Van Johnson), a.........",
           "comedy"
          ],
          [
           "Kevin Agar is a Carlton-based.........",
           "comedy"
          ],
          [
           "Restaurant owner Dylan Ramsey (David.........",
           "comedy"
          ],
          [
           "Jerry McGuire (William Collier Jr.).........",
           "comedy"
          ],
          [
           "Two college girls, Ducky and.........",
           "comedy"
          ],
          [
           "The film's slight storyline concerns.........",
           "comedy"
          ],
          [
           "A simple handyman, who also.........",
           "comedy"
          ],
          [
           "The film tells the story.........",
           "comedy"
          ],
          [
           "In a Mexican nightclub, some.........",
           "comedy"
          ],
          [
           "Officers throw an extravagant party.........",
           "comedy"
          ],
          [
           "Nick (Niven) is the supposed.........",
           "comedy"
          ],
          [
           "Chandrabose (Mohanlal) whose wife's (Meera.........",
           "comedy"
          ],
          [
           "On board an ocean liner.........",
           "comedy"
          ],
          [
           "The boys are involved in.........",
           "comedy"
          ],
          [
           "The Rogers family visit Blackpool.........",
           "comedy"
          ],
          [
           "The young filmmaker Timothy (Jonathan.........",
           "comedy"
          ],
          [
           "Small-fry marijuana harvesters in Northern.........",
           "comedy"
          ],
          [
           "The Chain tells the story.........",
           "comedy"
          ],
          [
           "The title character is Victor.........",
           "comedy"
          ],
          [
           "Harry England (Michael Crawford), a.........",
           "comedy"
          ],
          [
           "In Shanghai, Madeleine Linden is.........",
           "comedy"
          ],
          [
           "Andy (Lee Bowman) and Janie.........",
           "comedy"
          ],
          [
           "A small Midwestern town is.........",
           "comedy"
          ],
          [
           "Leonard Maltin: \"Cute comic mystery............",
           "comedy"
          ],
          [
           "The film plays out with.........",
           "comedy"
          ],
          [
           "Two sailors are conned into.........",
           "comedy"
          ],
          [
           "The movie is about Ilangovan.........",
           "comedy"
          ],
          [
           "Alvin Roberts (Lee Tracy) feuds.........",
           "comedy"
          ],
          [
           "Stephanie (Lyn Wilde) and Terry.........",
           "comedy"
          ],
          [
           "The young brother of two.........",
           "comedy"
          ],
          [
           "Jennie Hagan (Swanson) is a.........",
           "comedy"
          ],
          [
           "Banerjee stars as Ram Das,.........",
           "comedy"
          ],
          [
           "Gracie (Fields) and Laurie (Dolman).........",
           "comedy"
          ]
         ],
         "hovertemplate": "label=%{customdata[1]}<br>x-tsne=%{x}<br>y-tsne=%{y}<br>text=%{customdata[0]}<extra></extra>",
         "legendgroup": "comedy",
         "marker": {
          "color": "#19d3f3",
          "symbol": "circle"
         },
         "mode": "markers",
         "name": "comedy",
         "orientation": "v",
         "showlegend": true,
         "type": "scatter",
         "x": [
          22.045429229736328,
          2.400984048843384,
          6.519029140472412,
          10.703437805175781,
          9.37916374206543,
          -21.36250877380371,
          -6.802555084228516,
          -9.555842399597168,
          0.046543560922145844,
          4.133223533630371,
          14.13563060760498,
          3.7198853492736816,
          1.4762299060821533,
          15.130836486816406,
          6.075677394866943,
          6.984147071838379,
          2.353792190551758,
          3.734266519546509,
          -15.192366600036621,
          -7.700482368469238,
          10.469046592712402,
          -20.329862594604492,
          5.293907165527344,
          -2.275540590286255,
          2.264615297317505,
          2.0656678676605225,
          -0.33859285712242126,
          -21.60548210144043,
          -2.3296866416931152,
          -5.583014488220215,
          -11.119277954101562,
          -2.8263533115386963,
          8.587793350219727,
          6.815711498260498,
          10.904732704162598,
          -6.717458248138428,
          0.6817915439605713,
          5.619218349456787,
          -12.320259094238281,
          -1.7944444417953491,
          -0.4017084836959839,
          13.932130813598633,
          -6.303798675537109,
          4.331207752227783,
          10.882740020751953,
          -2.0895309448242188,
          -4.436183929443359,
          12.796135902404785,
          8.189833641052246,
          -10.589913368225098,
          15.007698059082031
         ],
         "xaxis": "x",
         "y": [
          6.230123519897461,
          2.3273086547851562,
          3.5725460052490234,
          -17.522876739501953,
          13.695862770080566,
          -8.752888679504395,
          15.30575180053711,
          12.730205535888672,
          14.261184692382812,
          2.1351447105407715,
          -7.723825931549072,
          -8.588387489318848,
          1.335577130317688,
          9.975436210632324,
          2.834430694580078,
          0.2946106791496277,
          -12.285110473632812,
          8.510005950927734,
          -5.181835174560547,
          2.942091464996338,
          -6.503629684448242,
          2.7059292793273926,
          -2.3210270404815674,
          11.137639045715332,
          -2.245711088180542,
          19.6922550201416,
          2.654855251312256,
          6.509756565093994,
          -9.168257713317871,
          -2.151860475540161,
          17.4403076171875,
          -17.395448684692383,
          -0.325190931558609,
          11.140507698059082,
          7.825791358947754,
          6.936373710632324,
          15.310995101928711,
          -18.32196617126465,
          1.4553368091583252,
          -12.39569091796875,
          -9.364157676696777,
          -2.324429988861084,
          15.788762092590332,
          2.4777004718780518,
          -10.493766784667969,
          -1.2795078754425049,
          -0.33492863178253174,
          3.1795384883880615,
          -9.918386459350586,
          -1.211592435836792,
          10.354347229003906
         ],
         "yaxis": "y"
        },
        {
         "customdata": [
          [
           "George Cabot Jr. (Cesar Romero),.........",
           "comedy, romance"
          ]
         ],
         "hovertemplate": "label=%{customdata[1]}<br>x-tsne=%{x}<br>y-tsne=%{y}<br>text=%{customdata[0]}<extra></extra>",
         "legendgroup": "comedy, romance",
         "marker": {
          "color": "#FF6692",
          "symbol": "circle"
         },
         "mode": "markers",
         "name": "comedy, romance",
         "orientation": "v",
         "showlegend": true,
         "type": "scatter",
         "x": [
          -12.414907455444336
         ],
         "xaxis": "x",
         "y": [
          -17.982324600219727
         ],
         "yaxis": "y"
        },
        {
         "customdata": [
          [
           "Mongol chief Temujin (later to.........",
           "adventure"
          ],
          [
           "Shellshocked following his experiences as.........",
           "adventure"
          ],
          [
           "Professional hunter Harry Black is.........",
           "adventure"
          ],
          [
           "After being court-martialed and discharged.........",
           "adventure"
          ]
         ],
         "hovertemplate": "label=%{customdata[1]}<br>x-tsne=%{x}<br>y-tsne=%{y}<br>text=%{customdata[0]}<extra></extra>",
         "legendgroup": "adventure",
         "marker": {
          "color": "#B6E880",
          "symbol": "circle"
         },
         "mode": "markers",
         "name": "adventure",
         "orientation": "v",
         "showlegend": true,
         "type": "scatter",
         "x": [
          -12.67679214477539,
          -18.404104232788086,
          5.6894731521606445,
          -21.653396606445312
         ],
         "xaxis": "x",
         "y": [
          -2.015561819076538,
          -4.160220623016357,
          -18.485700607299805,
          7.47170352935791
         ],
         "yaxis": "y"
        },
        {
         "customdata": [
          [
           "The story starts with a.........",
           "romance / suspense"
          ]
         ],
         "hovertemplate": "label=%{customdata[1]}<br>x-tsne=%{x}<br>y-tsne=%{y}<br>text=%{customdata[0]}<extra></extra>",
         "legendgroup": "romance / suspense",
         "marker": {
          "color": "#FF97FF",
          "symbol": "circle"
         },
         "mode": "markers",
         "name": "romance / suspense",
         "orientation": "v",
         "showlegend": true,
         "type": "scatter",
         "x": [
          1.7167679071426392
         ],
         "xaxis": "x",
         "y": [
          20.102628707885742
         ],
         "yaxis": "y"
        },
        {
         "customdata": [
          [
           "In World War II, two.........",
           "pow comedy"
          ]
         ],
         "hovertemplate": "label=%{customdata[1]}<br>x-tsne=%{x}<br>y-tsne=%{y}<br>text=%{customdata[0]}<extra></extra>",
         "legendgroup": "pow comedy",
         "marker": {
          "color": "#FECB52",
          "symbol": "circle"
         },
         "mode": "markers",
         "name": "pow comedy",
         "orientation": "v",
         "showlegend": true,
         "type": "scatter",
         "x": [
          2.306602954864502
         ],
         "xaxis": "x",
         "y": [
          15.559917449951172
         ],
         "yaxis": "y"
        },
        {
         "customdata": [
          [
           "It is love at first.........",
           "romance"
          ],
          [
           "Loosely based on true events.........",
           "romance"
          ]
         ],
         "hovertemplate": "label=%{customdata[1]}<br>x-tsne=%{x}<br>y-tsne=%{y}<br>text=%{customdata[0]}<extra></extra>",
         "legendgroup": "romance",
         "marker": {
          "color": "#636efa",
          "symbol": "circle"
         },
         "mode": "markers",
         "name": "romance",
         "orientation": "v",
         "showlegend": true,
         "type": "scatter",
         "x": [
          -9.912848472595215,
          0.04272686690092087
         ],
         "xaxis": "x",
         "y": [
          1.4573954343795776,
          10.915414810180664
         ],
         "yaxis": "y"
        },
        {
         "customdata": [
          [
           "Having cleaned up Tombstone, Arizona,.........",
           "western"
          ],
          [
           "The story involves a middle-aged.........",
           "western"
          ],
          [
           "Stephen Ghent, a mineowner, falls.........",
           "western"
          ],
          [
           "After being told by his.........",
           "western"
          ],
          [
           "Jeff Hassard (Dean Jagger) and.........",
           "western"
          ],
          [
           "A U.S. marshal investigates when.........",
           "western"
          ],
          [
           "John Murdock (Paul Richards) is.........",
           "western"
          ],
          [
           "A prospective settler, pioneer Bob.........",
           "western"
          ],
          [
           "When a town drunk, Gabe,.........",
           "western"
          ],
          [
           "Following a series of robberies.........",
           "western"
          ],
          [
           "The plot is a mystery.........",
           "western"
          ]
         ],
         "hovertemplate": "label=%{customdata[1]}<br>x-tsne=%{x}<br>y-tsne=%{y}<br>text=%{customdata[0]}<extra></extra>",
         "legendgroup": "western",
         "marker": {
          "color": "#EF553B",
          "symbol": "circle"
         },
         "mode": "markers",
         "name": "western",
         "orientation": "v",
         "showlegend": true,
         "type": "scatter",
         "x": [
          19.773027420043945,
          17.85972785949707,
          -13.403449058532715,
          19.060007095336914,
          10.747241973876953,
          -13.052671432495117,
          6.367143630981445,
          9.96890640258789,
          4.372526168823242,
          14.830755233764648,
          10.967130661010742
         ],
         "xaxis": "x",
         "y": [
          -6.292689323425293,
          -7.95222806930542,
          -0.09247393161058426,
          -5.163394927978516,
          -4.89831018447876,
          6.857827186584473,
          -8.716384887695312,
          1.128179669380188,
          -8.318777084350586,
          5.625633716583252,
          15.9934720993042
         ],
         "yaxis": "y"
        },
        {
         "customdata": [
          [
           "The story is about a.........",
           "romantic comedy"
          ],
          [
           "Scott (Ryan Phillippe) is a.........",
           "romantic comedy"
          ],
          [
           "Trust concerns the unusual romance.........",
           "romantic comedy"
          ],
          [
           "Alim is a young gay.........",
           "romantic comedy"
          ],
          [
           "Daniels, in her final silent.........",
           "romantic comedy"
          ]
         ],
         "hovertemplate": "label=%{customdata[1]}<br>x-tsne=%{x}<br>y-tsne=%{y}<br>text=%{customdata[0]}<extra></extra>",
         "legendgroup": "romantic comedy",
         "marker": {
          "color": "#00cc96",
          "symbol": "circle"
         },
         "mode": "markers",
         "name": "romantic comedy",
         "orientation": "v",
         "showlegend": true,
         "type": "scatter",
         "x": [
          7.232339859008789,
          -3.67055606842041,
          -7.994258880615234,
          2.434488296508789,
          -11.06212329864502
         ],
         "xaxis": "x",
         "y": [
          -13.397723197937012,
          -6.325277328491211,
          -12.305008888244629,
          -1.5671842098236084,
          13.20261001586914
         ],
         "yaxis": "y"
        },
        {
         "customdata": [
          [
           "Kisan Kanya was based on.........",
           "social"
          ]
         ],
         "hovertemplate": "label=%{customdata[1]}<br>x-tsne=%{x}<br>y-tsne=%{y}<br>text=%{customdata[0]}<extra></extra>",
         "legendgroup": "social",
         "marker": {
          "color": "#ab63fa",
          "symbol": "circle"
         },
         "mode": "markers",
         "name": "social",
         "orientation": "v",
         "showlegend": true,
         "type": "scatter",
         "x": [
          0.3291384279727936
         ],
         "xaxis": "x",
         "y": [
          8.284236907958984
         ],
         "yaxis": "y"
        },
        {
         "customdata": [
          [
           "A psychic woman leads archaeologists.........",
           "horror"
          ],
          [
           "Christopher, a lustful man goes.........",
           "horror"
          ],
          [
           "Charles Kessler (Bela Lugosi) is.........",
           "horror"
          ],
          [
           "During a TV segment about.........",
           "horror"
          ]
         ],
         "hovertemplate": "label=%{customdata[1]}<br>x-tsne=%{x}<br>y-tsne=%{y}<br>text=%{customdata[0]}<extra></extra>",
         "legendgroup": "horror",
         "marker": {
          "color": "#FFA15A",
          "symbol": "circle"
         },
         "mode": "markers",
         "name": "horror",
         "orientation": "v",
         "showlegend": true,
         "type": "scatter",
         "x": [
          6.122893333435059,
          9.248263359069824,
          1.373146891593933,
          12.204448699951172
         ],
         "xaxis": "x",
         "y": [
          -5.563235282897949,
          -4.681312561035156,
          -14.9100980758667,
          16.448265075683594
         ],
         "yaxis": "y"
        },
        {
         "customdata": [
          [
           "Two reporters, Curtis (Conrad Phillips).........",
           "crime"
          ],
          [
           "Edgar Mills and his mistress.........",
           "crime"
          ],
          [
           "Inventor and engineer Robert Draper.........",
           "crime"
          ],
          [
           "United States Secret Service Lieutenant.........",
           "crime"
          ],
          [
           "A new gas formula that.........",
           "crime"
          ],
          [
           "American gambler Nick Cain (Raft).........",
           "crime"
          ],
          [
           "Two brothers become involved with.........",
           "crime"
          ]
         ],
         "hovertemplate": "label=%{customdata[1]}<br>x-tsne=%{x}<br>y-tsne=%{y}<br>text=%{customdata[0]}<extra></extra>",
         "legendgroup": "crime",
         "marker": {
          "color": "#19d3f3",
          "symbol": "circle"
         },
         "mode": "markers",
         "name": "crime",
         "orientation": "v",
         "showlegend": true,
         "type": "scatter",
         "x": [
          0.5935494303703308,
          10.885571479797363,
          14.238686561584473,
          10.491466522216797,
          20.113523483276367,
          11.724309921264648,
          -10.478960990905762
         ],
         "xaxis": "x",
         "y": [
          -6.675870418548584,
          0.45885610580444336,
          -13.058540344238281,
          -3.929786443710327,
          6.698504447937012,
          -5.013080596923828,
          17.300256729125977
         ],
         "yaxis": "y"
        },
        {
         "customdata": [
          [
           "Dr. Markoff (J. Carrol Naish).........",
           "science fiction"
          ]
         ],
         "hovertemplate": "label=%{customdata[1]}<br>x-tsne=%{x}<br>y-tsne=%{y}<br>text=%{customdata[0]}<extra></extra>",
         "legendgroup": "science fiction",
         "marker": {
          "color": "#FF6692",
          "symbol": "circle"
         },
         "mode": "markers",
         "name": "science fiction",
         "orientation": "v",
         "showlegend": true,
         "type": "scatter",
         "x": [
          -15.315720558166504
         ],
         "xaxis": "x",
         "y": [
          10.204567909240723
         ],
         "yaxis": "y"
        },
        {
         "customdata": [
          [
           "The plot revolves around the.........",
           "coming of age drama"
          ]
         ],
         "hovertemplate": "label=%{customdata[1]}<br>x-tsne=%{x}<br>y-tsne=%{y}<br>text=%{customdata[0]}<extra></extra>",
         "legendgroup": "coming of age drama",
         "marker": {
          "color": "#B6E880",
          "symbol": "circle"
         },
         "mode": "markers",
         "name": "coming of age drama",
         "orientation": "v",
         "showlegend": true,
         "type": "scatter",
         "x": [
          -4.759962558746338
         ],
         "xaxis": "x",
         "y": [
          -3.3523001670837402
         ],
         "yaxis": "y"
        },
        {
         "customdata": [
          [
           "The movie opens with Fung.........",
           "erotic / drama"
          ]
         ],
         "hovertemplate": "label=%{customdata[1]}<br>x-tsne=%{x}<br>y-tsne=%{y}<br>text=%{customdata[0]}<extra></extra>",
         "legendgroup": "erotic / drama",
         "marker": {
          "color": "#FF97FF",
          "symbol": "circle"
         },
         "mode": "markers",
         "name": "erotic / drama",
         "orientation": "v",
         "showlegend": true,
         "type": "scatter",
         "x": [
          10.52133846282959
         ],
         "xaxis": "x",
         "y": [
          -10.272147178649902
         ],
         "yaxis": "y"
        },
        {
         "customdata": [
          [
           "Nikki Singh (Akshay Oberoi) is.........",
           "neo-noir"
          ]
         ],
         "hovertemplate": "label=%{customdata[1]}<br>x-tsne=%{x}<br>y-tsne=%{y}<br>text=%{customdata[0]}<extra></extra>",
         "legendgroup": "neo-noir",
         "marker": {
          "color": "#FECB52",
          "symbol": "circle"
         },
         "mode": "markers",
         "name": "neo-noir",
         "orientation": "v",
         "showlegend": true,
         "type": "scatter",
         "x": [
          15.618880271911621
         ],
         "xaxis": "x",
         "y": [
          -9.834242820739746
         ],
         "yaxis": "y"
        },
        {
         "customdata": [
          [
           "Harvey Keitel plays an American.........",
           "crime drama"
          ],
          [
           "The drama tells of a.........",
           "crime drama"
          ],
          [
           "With five rival oil companies.........",
           "crime drama"
          ]
         ],
         "hovertemplate": "label=%{customdata[1]}<br>x-tsne=%{x}<br>y-tsne=%{y}<br>text=%{customdata[0]}<extra></extra>",
         "legendgroup": "crime drama",
         "marker": {
          "color": "#636efa",
          "symbol": "circle"
         },
         "mode": "markers",
         "name": "crime drama",
         "orientation": "v",
         "showlegend": true,
         "type": "scatter",
         "x": [
          5.326963424682617,
          -1.611991286277771,
          -5.323602676391602
         ],
         "xaxis": "x",
         "y": [
          19.211435317993164,
          -0.9696106910705566,
          -15.670238494873047
         ],
         "yaxis": "y"
        },
        {
         "customdata": [
          [
           "Irène Bordoni is cast as.........",
           "musical comedy"
          ],
          [
           "Flagg (Victor McLaglen) and Quirt.........",
           "musical comedy"
          ]
         ],
         "hovertemplate": "label=%{customdata[1]}<br>x-tsne=%{x}<br>y-tsne=%{y}<br>text=%{customdata[0]}<extra></extra>",
         "legendgroup": "musical comedy",
         "marker": {
          "color": "#EF553B",
          "symbol": "circle"
         },
         "mode": "markers",
         "name": "musical comedy",
         "orientation": "v",
         "showlegend": true,
         "type": "scatter",
         "x": [
          -9.365360260009766,
          -4.588180065155029
         ],
         "xaxis": "x",
         "y": [
          -6.4661407470703125,
          12.426736831665039
         ],
         "yaxis": "y"
        },
        {
         "customdata": [
          [
           "This film is about two.........",
           "romance, comedy"
          ]
         ],
         "hovertemplate": "label=%{customdata[1]}<br>x-tsne=%{x}<br>y-tsne=%{y}<br>text=%{customdata[0]}<extra></extra>",
         "legendgroup": "romance, comedy",
         "marker": {
          "color": "#00cc96",
          "symbol": "circle"
         },
         "mode": "markers",
         "name": "romance, comedy",
         "orientation": "v",
         "showlegend": true,
         "type": "scatter",
         "x": [
          -2.9350826740264893
         ],
         "xaxis": "x",
         "y": [
          7.593474388122559
         ],
         "yaxis": "y"
        },
        {
         "customdata": [
          [
           "Cosmo Reif, an affectless mob.........",
           "comedy, thriller"
          ]
         ],
         "hovertemplate": "label=%{customdata[1]}<br>x-tsne=%{x}<br>y-tsne=%{y}<br>text=%{customdata[0]}<extra></extra>",
         "legendgroup": "comedy, thriller",
         "marker": {
          "color": "#ab63fa",
          "symbol": "circle"
         },
         "mode": "markers",
         "name": "comedy, thriller",
         "orientation": "v",
         "showlegend": true,
         "type": "scatter",
         "x": [
          -15.06737232208252
         ],
         "xaxis": "x",
         "y": [
          -1.3419950008392334
         ],
         "yaxis": "y"
        },
        {
         "customdata": [
          [
           "The film is a retelling.........",
           "fantasy"
          ],
          [
           "Loosely based on the historical.........",
           "fantasy"
          ]
         ],
         "hovertemplate": "label=%{customdata[1]}<br>x-tsne=%{x}<br>y-tsne=%{y}<br>text=%{customdata[0]}<extra></extra>",
         "legendgroup": "fantasy",
         "marker": {
          "color": "#FFA15A",
          "symbol": "circle"
         },
         "mode": "markers",
         "name": "fantasy",
         "orientation": "v",
         "showlegend": true,
         "type": "scatter",
         "x": [
          -20.10967254638672,
          6.021273136138916
         ],
         "xaxis": "x",
         "y": [
          2.920187473297119,
          -10.554491996765137
         ],
         "yaxis": "y"
        },
        {
         "customdata": [
          [
           "Two escaping killers hide out.........",
           "suspense"
          ]
         ],
         "hovertemplate": "label=%{customdata[1]}<br>x-tsne=%{x}<br>y-tsne=%{y}<br>text=%{customdata[0]}<extra></extra>",
         "legendgroup": "suspense",
         "marker": {
          "color": "#19d3f3",
          "symbol": "circle"
         },
         "mode": "markers",
         "name": "suspense",
         "orientation": "v",
         "showlegend": true,
         "type": "scatter",
         "x": [
          0.7207021117210388
         ],
         "xaxis": "x",
         "y": [
          -5.014238357543945
         ],
         "yaxis": "y"
        },
        {
         "customdata": [
          [
           "The Kitauji high school concert.........",
           "drama, youth, musical, romance, idol"
          ]
         ],
         "hovertemplate": "label=%{customdata[1]}<br>x-tsne=%{x}<br>y-tsne=%{y}<br>text=%{customdata[0]}<extra></extra>",
         "legendgroup": "drama, youth, musical, romance, idol",
         "marker": {
          "color": "#FF6692",
          "symbol": "circle"
         },
         "mode": "markers",
         "name": "drama, youth, musical, romance, idol",
         "orientation": "v",
         "showlegend": true,
         "type": "scatter",
         "x": [
          -11.149721145629883
         ],
         "xaxis": "x",
         "y": [
          -12.719916343688965
         ],
         "yaxis": "y"
        },
        {
         "customdata": [
          [
           "Lost & Found is basically.........",
           "romance, drama"
          ],
          [
           "Roanne Sanchez, a young girl.........",
           "romance, drama"
          ]
         ],
         "hovertemplate": "label=%{customdata[1]}<br>x-tsne=%{x}<br>y-tsne=%{y}<br>text=%{customdata[0]}<extra></extra>",
         "legendgroup": "romance, drama",
         "marker": {
          "color": "#B6E880",
          "symbol": "circle"
         },
         "mode": "markers",
         "name": "romance, drama",
         "orientation": "v",
         "showlegend": true,
         "type": "scatter",
         "x": [
          -18.807071685791016,
          -7.126325607299805
         ],
         "xaxis": "x",
         "y": [
          -2.6630361080169678,
          -11.527117729187012
         ],
         "yaxis": "y"
        },
        {
         "customdata": [
          [
           "This film follows the lead.........",
           "action, sci-fi"
          ]
         ],
         "hovertemplate": "label=%{customdata[1]}<br>x-tsne=%{x}<br>y-tsne=%{y}<br>text=%{customdata[0]}<extra></extra>",
         "legendgroup": "action, sci-fi",
         "marker": {
          "color": "#FF97FF",
          "symbol": "circle"
         },
         "mode": "markers",
         "name": "action, sci-fi",
         "orientation": "v",
         "showlegend": true,
         "type": "scatter",
         "x": [
          -5.163403034210205
         ],
         "xaxis": "x",
         "y": [
          10.839418411254883
         ],
         "yaxis": "y"
        },
        {
         "customdata": [
          [
           "Unlike other Alamo films that.........",
           "western, war"
          ]
         ],
         "hovertemplate": "label=%{customdata[1]}<br>x-tsne=%{x}<br>y-tsne=%{y}<br>text=%{customdata[0]}<extra></extra>",
         "legendgroup": "western, war",
         "marker": {
          "color": "#FECB52",
          "symbol": "circle"
         },
         "mode": "markers",
         "name": "western, war",
         "orientation": "v",
         "showlegend": true,
         "type": "scatter",
         "x": [
          6.760206699371338
         ],
         "xaxis": "x",
         "y": [
          17.3436336517334
         ],
         "yaxis": "y"
        },
        {
         "customdata": [
          [
           "A San Francisco earthquake orphan.........",
           "comedy drama"
          ],
          [
           "The story revolves around a.........",
           "comedy drama"
          ]
         ],
         "hovertemplate": "label=%{customdata[1]}<br>x-tsne=%{x}<br>y-tsne=%{y}<br>text=%{customdata[0]}<extra></extra>",
         "legendgroup": "comedy drama",
         "marker": {
          "color": "#636efa",
          "symbol": "circle"
         },
         "mode": "markers",
         "name": "comedy drama",
         "orientation": "v",
         "showlegend": true,
         "type": "scatter",
         "x": [
          -12.075523376464844,
          -11.987889289855957
         ],
         "xaxis": "x",
         "y": [
          -0.6588912010192871,
          2.4417505264282227
         ],
         "yaxis": "y"
        },
        {
         "customdata": [
          [
           "The story line centres on.........",
           "musical"
          ],
          [
           "Big-league baseball players Jerry and.........",
           "musical"
          ],
          [
           "During World War II singer.........",
           "musical"
          ],
          [
           "Bonnie and Connie Jones are.........",
           "musical"
          ]
         ],
         "hovertemplate": "label=%{customdata[1]}<br>x-tsne=%{x}<br>y-tsne=%{y}<br>text=%{customdata[0]}<extra></extra>",
         "legendgroup": "musical",
         "marker": {
          "color": "#EF553B",
          "symbol": "circle"
         },
         "mode": "markers",
         "name": "musical",
         "orientation": "v",
         "showlegend": true,
         "type": "scatter",
         "x": [
          4.451868534088135,
          -5.941923141479492,
          6.522385597229004,
          0.48537129163742065
         ],
         "xaxis": "x",
         "y": [
          5.75746488571167,
          17.74359893798828,
          14.964797973632812,
          0.2933058738708496
         ],
         "yaxis": "y"
        },
        {
         "customdata": [
          [
           "Sets in the 19th century,.........",
           "romantic drama"
          ]
         ],
         "hovertemplate": "label=%{customdata[1]}<br>x-tsne=%{x}<br>y-tsne=%{y}<br>text=%{customdata[0]}<extra></extra>",
         "legendgroup": "romantic drama",
         "marker": {
          "color": "#00cc96",
          "symbol": "circle"
         },
         "mode": "markers",
         "name": "romantic drama",
         "orientation": "v",
         "showlegend": true,
         "type": "scatter",
         "x": [
          10.616388320922852
         ],
         "xaxis": "x",
         "y": [
          -1.1226565837860107
         ],
         "yaxis": "y"
        },
        {
         "customdata": [
          [
           "Akashangalil is the story of.........",
           "family"
          ]
         ],
         "hovertemplate": "label=%{customdata[1]}<br>x-tsne=%{x}<br>y-tsne=%{y}<br>text=%{customdata[0]}<extra></extra>",
         "legendgroup": "family",
         "marker": {
          "color": "#ab63fa",
          "symbol": "circle"
         },
         "mode": "markers",
         "name": "family",
         "orientation": "v",
         "showlegend": true,
         "type": "scatter",
         "x": [
          0.6886231303215027
         ],
         "xaxis": "x",
         "y": [
          -1.193910837173462
         ],
         "yaxis": "y"
        },
        {
         "customdata": [
          [
           "Sally Elliott (Rita Hayworth), a.........",
           "musical biopic"
          ]
         ],
         "hovertemplate": "label=%{customdata[1]}<br>x-tsne=%{x}<br>y-tsne=%{y}<br>text=%{customdata[0]}<extra></extra>",
         "legendgroup": "musical biopic",
         "marker": {
          "color": "#FFA15A",
          "symbol": "circle"
         },
         "mode": "markers",
         "name": "musical biopic",
         "orientation": "v",
         "showlegend": true,
         "type": "scatter",
         "x": [
          -5.02023458480835
         ],
         "xaxis": "x",
         "y": [
          15.531253814697266
         ],
         "yaxis": "y"
        },
        {
         "customdata": [
          [
           "The Hartford Transcontinental Railroad is.........",
           "western serial"
          ]
         ],
         "hovertemplate": "label=%{customdata[1]}<br>x-tsne=%{x}<br>y-tsne=%{y}<br>text=%{customdata[0]}<extra></extra>",
         "legendgroup": "western serial",
         "marker": {
          "color": "#19d3f3",
          "symbol": "circle"
         },
         "mode": "markers",
         "name": "western serial",
         "orientation": "v",
         "showlegend": true,
         "type": "scatter",
         "x": [
          0.6815193295478821
         ],
         "xaxis": "x",
         "y": [
          -20.01573371887207
         ],
         "yaxis": "y"
        },
        {
         "customdata": [
          [
           "When Los Angeles' police force.........",
           "thriller"
          ],
          [
           "Frankie Bono, a hitman from.........",
           "thriller"
          ],
          [
           "Two days before Christmas, a.........",
           "thriller"
          ],
          [
           "An old gangster, with a.........",
           "thriller"
          ],
          [
           "Julia Hemingway (Ina Skriver, credited.........",
           "thriller"
          ],
          [
           "This film is about the.........",
           "thriller"
          ],
          [
           "A young woman goes to.........",
           "thriller"
          ],
          [
           "A spirit (\"Patrick\") haunts a.........",
           "thriller"
          ],
          [
           "The story follows a group.........",
           "thriller"
          ],
          [
           "In a quiet English town,.........",
           "thriller"
          ]
         ],
         "hovertemplate": "label=%{customdata[1]}<br>x-tsne=%{x}<br>y-tsne=%{y}<br>text=%{customdata[0]}<extra></extra>",
         "legendgroup": "thriller",
         "marker": {
          "color": "#FF6692",
          "symbol": "circle"
         },
         "mode": "markers",
         "name": "thriller",
         "orientation": "v",
         "showlegend": true,
         "type": "scatter",
         "x": [
          15.39930248260498,
          -1.6707452535629272,
          1.390874981880188,
          8.346721649169922,
          17.794313430786133,
          -16.99117088317871,
          7.635998725891113,
          5.910867214202881,
          1.0669130086898804,
          3.755789041519165
         ],
         "xaxis": "x",
         "y": [
          5.015349388122559,
          1.420541524887085,
          -7.077664375305176,
          -13.404831886291504,
          6.497287750244141,
          6.526562213897705,
          -5.307333469390869,
          -2.4840357303619385,
          5.107887268066406,
          -4.424614906311035
         ],
         "yaxis": "y"
        },
        {
         "customdata": [
          [
           "Hiraasat is an action film,.........",
           "action, crime, drama"
          ]
         ],
         "hovertemplate": "label=%{customdata[1]}<br>x-tsne=%{x}<br>y-tsne=%{y}<br>text=%{customdata[0]}<extra></extra>",
         "legendgroup": "action, crime, drama",
         "marker": {
          "color": "#B6E880",
          "symbol": "circle"
         },
         "mode": "markers",
         "name": "action, crime, drama",
         "orientation": "v",
         "showlegend": true,
         "type": "scatter",
         "x": [
          -5.22819709777832
         ],
         "xaxis": "x",
         "y": [
          11.277674674987793
         ],
         "yaxis": "y"
        },
        {
         "customdata": [
          [
           "Tulsi tells the story of.........",
           " "
          ]
         ],
         "hovertemplate": "label=%{customdata[1]}<br>x-tsne=%{x}<br>y-tsne=%{y}<br>text=%{customdata[0]}<extra></extra>",
         "legendgroup": " ",
         "marker": {
          "color": "#FF97FF",
          "symbol": "circle"
         },
         "mode": "markers",
         "name": " ",
         "orientation": "v",
         "showlegend": true,
         "type": "scatter",
         "x": [
          6.804184436798096
         ],
         "xaxis": "x",
         "y": [
          -13.22187614440918
         ],
         "yaxis": "y"
        },
        {
         "customdata": [
          [
           "Karthi (Mahesh) is a college.........",
           "romantic thriller"
          ]
         ],
         "hovertemplate": "label=%{customdata[1]}<br>x-tsne=%{x}<br>y-tsne=%{y}<br>text=%{customdata[0]}<extra></extra>",
         "legendgroup": "romantic thriller",
         "marker": {
          "color": "#FECB52",
          "symbol": "circle"
         },
         "mode": "markers",
         "name": "romantic thriller",
         "orientation": "v",
         "showlegend": true,
         "type": "scatter",
         "x": [
          -2.503451108932495
         ],
         "xaxis": "x",
         "y": [
          6.8391313552856445
         ],
         "yaxis": "y"
        },
        {
         "customdata": [
          [
           "The story revolves around an.........",
           "drama, thriller"
          ]
         ],
         "hovertemplate": "label=%{customdata[1]}<br>x-tsne=%{x}<br>y-tsne=%{y}<br>text=%{customdata[0]}<extra></extra>",
         "legendgroup": "drama, thriller",
         "marker": {
          "color": "#636efa",
          "symbol": "circle"
         },
         "mode": "markers",
         "name": "drama, thriller",
         "orientation": "v",
         "showlegend": true,
         "type": "scatter",
         "x": [
          18.912189483642578
         ],
         "xaxis": "x",
         "y": [
          1.355072259902954
         ],
         "yaxis": "y"
        },
        {
         "customdata": [
          [
           "A bullied teen chef wants.........",
           "comedy-drama"
          ]
         ],
         "hovertemplate": "label=%{customdata[1]}<br>x-tsne=%{x}<br>y-tsne=%{y}<br>text=%{customdata[0]}<extra></extra>",
         "legendgroup": "comedy-drama",
         "marker": {
          "color": "#EF553B",
          "symbol": "circle"
         },
         "mode": "markers",
         "name": "comedy-drama",
         "orientation": "v",
         "showlegend": true,
         "type": "scatter",
         "x": [
          3.749079704284668
         ],
         "xaxis": "x",
         "y": [
          0.8564918041229248
         ],
         "yaxis": "y"
        },
        {
         "customdata": [
          [
           "A rivalry develops between veteran.........",
           "war"
          ]
         ],
         "hovertemplate": "label=%{customdata[1]}<br>x-tsne=%{x}<br>y-tsne=%{y}<br>text=%{customdata[0]}<extra></extra>",
         "legendgroup": "war",
         "marker": {
          "color": "#00cc96",
          "symbol": "circle"
         },
         "mode": "markers",
         "name": "war",
         "orientation": "v",
         "showlegend": true,
         "type": "scatter",
         "x": [
          2.373734951019287
         ],
         "xaxis": "x",
         "y": [
          13.524895668029785
         ],
         "yaxis": "y"
        },
        {
         "customdata": [
          [
           "In the autumn of 1950,.........",
           "drama / history / western"
          ]
         ],
         "hovertemplate": "label=%{customdata[1]}<br>x-tsne=%{x}<br>y-tsne=%{y}<br>text=%{customdata[0]}<extra></extra>",
         "legendgroup": "drama / history / western",
         "marker": {
          "color": "#ab63fa",
          "symbol": "circle"
         },
         "mode": "markers",
         "name": "drama / history / western",
         "orientation": "v",
         "showlegend": true,
         "type": "scatter",
         "x": [
          7.957415580749512
         ],
         "xaxis": "x",
         "y": [
          14.699944496154785
         ],
         "yaxis": "y"
        },
        {
         "customdata": [
          [
           "In a small town, mentally.........",
           "dramedy"
          ],
          [
           "Newly transferred college student Lily.........",
           "dramedy"
          ]
         ],
         "hovertemplate": "label=%{customdata[1]}<br>x-tsne=%{x}<br>y-tsne=%{y}<br>text=%{customdata[0]}<extra></extra>",
         "legendgroup": "dramedy",
         "marker": {
          "color": "#FFA15A",
          "symbol": "circle"
         },
         "mode": "markers",
         "name": "dramedy",
         "orientation": "v",
         "showlegend": true,
         "type": "scatter",
         "x": [
          0.9115869402885437,
          -4.006363868713379
         ],
         "xaxis": "x",
         "y": [
          -9.809185981750488,
          7.070435523986816
         ],
         "yaxis": "y"
        },
        {
         "customdata": [
          [
           "The story of a 10th.........",
           "rom com"
          ]
         ],
         "hovertemplate": "label=%{customdata[1]}<br>x-tsne=%{x}<br>y-tsne=%{y}<br>text=%{customdata[0]}<extra></extra>",
         "legendgroup": "rom com",
         "marker": {
          "color": "#19d3f3",
          "symbol": "circle"
         },
         "mode": "markers",
         "name": "rom com",
         "orientation": "v",
         "showlegend": true,
         "type": "scatter",
         "x": [
          -12.845486640930176
         ],
         "xaxis": "x",
         "y": [
          -13.000910758972168
         ],
         "yaxis": "y"
        },
        {
         "customdata": [
          [
           "The plot of the film.........",
           "nature"
          ]
         ],
         "hovertemplate": "label=%{customdata[1]}<br>x-tsne=%{x}<br>y-tsne=%{y}<br>text=%{customdata[0]}<extra></extra>",
         "legendgroup": "nature",
         "marker": {
          "color": "#FF6692",
          "symbol": "circle"
         },
         "mode": "markers",
         "name": "nature",
         "orientation": "v",
         "showlegend": true,
         "type": "scatter",
         "x": [
          6.2175612449646
         ],
         "xaxis": "x",
         "y": [
          -9.507411003112793
         ],
         "yaxis": "y"
        },
        {
         "customdata": [
          [
           "The film is a historical.........",
           "historical"
          ]
         ],
         "hovertemplate": "label=%{customdata[1]}<br>x-tsne=%{x}<br>y-tsne=%{y}<br>text=%{customdata[0]}<extra></extra>",
         "legendgroup": "historical",
         "marker": {
          "color": "#B6E880",
          "symbol": "circle"
         },
         "mode": "markers",
         "name": "historical",
         "orientation": "v",
         "showlegend": true,
         "type": "scatter",
         "x": [
          -0.20115096867084503
         ],
         "xaxis": "x",
         "y": [
          7.737030982971191
         ],
         "yaxis": "y"
        },
        {
         "customdata": [
          [
           "The film is about an.........",
           "short black comedy"
          ]
         ],
         "hovertemplate": "label=%{customdata[1]}<br>x-tsne=%{x}<br>y-tsne=%{y}<br>text=%{customdata[0]}<extra></extra>",
         "legendgroup": "short black comedy",
         "marker": {
          "color": "#FF97FF",
          "symbol": "circle"
         },
         "mode": "markers",
         "name": "short black comedy",
         "orientation": "v",
         "showlegend": true,
         "type": "scatter",
         "x": [
          -4.290935516357422
         ],
         "xaxis": "x",
         "y": [
          5.156071186065674
         ],
         "yaxis": "y"
        },
        {
         "customdata": [
          [
           "Agimat (Bong Revilla, Jr.) is.........",
           "fantasy, comedy, adventure"
          ]
         ],
         "hovertemplate": "label=%{customdata[1]}<br>x-tsne=%{x}<br>y-tsne=%{y}<br>text=%{customdata[0]}<extra></extra>",
         "legendgroup": "fantasy, comedy, adventure",
         "marker": {
          "color": "#FECB52",
          "symbol": "circle"
         },
         "mode": "markers",
         "name": "fantasy, comedy, adventure",
         "orientation": "v",
         "showlegend": true,
         "type": "scatter",
         "x": [
          -6.988360404968262
         ],
         "xaxis": "x",
         "y": [
          -18.507055282592773
         ],
         "yaxis": "y"
        },
        {
         "customdata": [
          [
           "The film is set in.........",
           "biblical"
          ]
         ],
         "hovertemplate": "label=%{customdata[1]}<br>x-tsne=%{x}<br>y-tsne=%{y}<br>text=%{customdata[0]}<extra></extra>",
         "legendgroup": "biblical",
         "marker": {
          "color": "#636efa",
          "symbol": "circle"
         },
         "mode": "markers",
         "name": "biblical",
         "orientation": "v",
         "showlegend": true,
         "type": "scatter",
         "x": [
          0.9628674387931824
         ],
         "xaxis": "x",
         "y": [
          -20.244714736938477
         ],
         "yaxis": "y"
        },
        {
         "customdata": [
          [
           "Hans a young German journalist.........",
           "sex comedy"
          ]
         ],
         "hovertemplate": "label=%{customdata[1]}<br>x-tsne=%{x}<br>y-tsne=%{y}<br>text=%{customdata[0]}<extra></extra>",
         "legendgroup": "sex comedy",
         "marker": {
          "color": "#EF553B",
          "symbol": "circle"
         },
         "mode": "markers",
         "name": "sex comedy",
         "orientation": "v",
         "showlegend": true,
         "type": "scatter",
         "x": [
          -10.20840835571289
         ],
         "xaxis": "x",
         "y": [
          10.280892372131348
         ],
         "yaxis": "y"
        },
        {
         "customdata": [
          [
           "Hajj, a rascally beggar on.........",
           "costume drama"
          ]
         ],
         "hovertemplate": "label=%{customdata[1]}<br>x-tsne=%{x}<br>y-tsne=%{y}<br>text=%{customdata[0]}<extra></extra>",
         "legendgroup": "costume drama",
         "marker": {
          "color": "#00cc96",
          "symbol": "circle"
         },
         "mode": "markers",
         "name": "costume drama",
         "orientation": "v",
         "showlegend": true,
         "type": "scatter",
         "x": [
          -16.914501190185547
         ],
         "xaxis": "x",
         "y": [
          -9.712539672851562
         ],
         "yaxis": "y"
        },
        {
         "customdata": [
          [
           "After her mother was killed.........",
           "action / comedy"
          ]
         ],
         "hovertemplate": "label=%{customdata[1]}<br>x-tsne=%{x}<br>y-tsne=%{y}<br>text=%{customdata[0]}<extra></extra>",
         "legendgroup": "action / comedy",
         "marker": {
          "color": "#ab63fa",
          "symbol": "circle"
         },
         "mode": "markers",
         "name": "action / comedy",
         "orientation": "v",
         "showlegend": true,
         "type": "scatter",
         "x": [
          -2.7753872871398926
         ],
         "xaxis": "x",
         "y": [
          -4.324512958526611
         ],
         "yaxis": "y"
        },
        {
         "customdata": [
          [
           "Raised by his Uncle Wu.........",
           "fantasy / adventure"
          ]
         ],
         "hovertemplate": "label=%{customdata[1]}<br>x-tsne=%{x}<br>y-tsne=%{y}<br>text=%{customdata[0]}<extra></extra>",
         "legendgroup": "fantasy / adventure",
         "marker": {
          "color": "#FFA15A",
          "symbol": "circle"
         },
         "mode": "markers",
         "name": "fantasy / adventure",
         "orientation": "v",
         "showlegend": true,
         "type": "scatter",
         "x": [
          8.021702766418457
         ],
         "xaxis": "x",
         "y": [
          5.757569313049316
         ],
         "yaxis": "y"
        },
        {
         "customdata": [
          [
           "A girl is about to.........",
           "adventure, serial"
          ]
         ],
         "hovertemplate": "label=%{customdata[1]}<br>x-tsne=%{x}<br>y-tsne=%{y}<br>text=%{customdata[0]}<extra></extra>",
         "legendgroup": "adventure, serial",
         "marker": {
          "color": "#19d3f3",
          "symbol": "circle"
         },
         "mode": "markers",
         "name": "adventure, serial",
         "orientation": "v",
         "showlegend": true,
         "type": "scatter",
         "x": [
          7.300766944885254
         ],
         "xaxis": "x",
         "y": [
          7.777958869934082
         ],
         "yaxis": "y"
        },
        {
         "customdata": [
          [
           "Crash Landing follows the tense.........",
           "action/thriller"
          ]
         ],
         "hovertemplate": "label=%{customdata[1]}<br>x-tsne=%{x}<br>y-tsne=%{y}<br>text=%{customdata[0]}<extra></extra>",
         "legendgroup": "action/thriller",
         "marker": {
          "color": "#FF6692",
          "symbol": "circle"
         },
         "mode": "markers",
         "name": "action/thriller",
         "orientation": "v",
         "showlegend": true,
         "type": "scatter",
         "x": [
          -19.031709671020508
         ],
         "xaxis": "x",
         "y": [
          8.458883285522461
         ],
         "yaxis": "y"
        },
        {
         "customdata": [
          [
           "Anand is a major in.........",
           "action"
          ],
          [
           "Sachin Joshi is a Kabaddi.........",
           "action"
          ],
          [
           "Political journalist Jayadev (Meka Srikanth).........",
           "action"
          ]
         ],
         "hovertemplate": "label=%{customdata[1]}<br>x-tsne=%{x}<br>y-tsne=%{y}<br>text=%{customdata[0]}<extra></extra>",
         "legendgroup": "action",
         "marker": {
          "color": "#B6E880",
          "symbol": "circle"
         },
         "mode": "markers",
         "name": "action",
         "orientation": "v",
         "showlegend": true,
         "type": "scatter",
         "x": [
          -2.851646661758423,
          18.10894775390625,
          -21.40406608581543
         ],
         "xaxis": "x",
         "y": [
          2.383044719696045,
          0.02597973495721817,
          -2.616983413696289
         ],
         "yaxis": "y"
        },
        {
         "customdata": [
          [
           "A lonely old man who.........",
           "literary drama"
          ]
         ],
         "hovertemplate": "label=%{customdata[1]}<br>x-tsne=%{x}<br>y-tsne=%{y}<br>text=%{customdata[0]}<extra></extra>",
         "legendgroup": "literary drama",
         "marker": {
          "color": "#FF97FF",
          "symbol": "circle"
         },
         "mode": "markers",
         "name": "literary drama",
         "orientation": "v",
         "showlegend": true,
         "type": "scatter",
         "x": [
          -5.1707916259765625
         ],
         "xaxis": "x",
         "y": [
          -7.915300369262695
         ],
         "yaxis": "y"
        },
        {
         "customdata": [
          [
           "Big Fella is set on.........",
           "musical/drama"
          ]
         ],
         "hovertemplate": "label=%{customdata[1]}<br>x-tsne=%{x}<br>y-tsne=%{y}<br>text=%{customdata[0]}<extra></extra>",
         "legendgroup": "musical/drama",
         "marker": {
          "color": "#FECB52",
          "symbol": "circle"
         },
         "mode": "markers",
         "name": "musical/drama",
         "orientation": "v",
         "showlegend": true,
         "type": "scatter",
         "x": [
          -13.991294860839844
         ],
         "xaxis": "x",
         "y": [
          11.588761329650879
         ],
         "yaxis": "y"
        },
        {
         "customdata": [
          [
           "In the year 1999, the.........",
           "tokusatsu"
          ]
         ],
         "hovertemplate": "label=%{customdata[1]}<br>x-tsne=%{x}<br>y-tsne=%{y}<br>text=%{customdata[0]}<extra></extra>",
         "legendgroup": "tokusatsu",
         "marker": {
          "color": "#636efa",
          "symbol": "circle"
         },
         "mode": "markers",
         "name": "tokusatsu",
         "orientation": "v",
         "showlegend": true,
         "type": "scatter",
         "x": [
          -5.859924793243408
         ],
         "xaxis": "x",
         "y": [
          -21.520984649658203
         ],
         "yaxis": "y"
        },
        {
         "customdata": [
          [
           "The story of the film,.........",
           "crime/thriller"
          ]
         ],
         "hovertemplate": "label=%{customdata[1]}<br>x-tsne=%{x}<br>y-tsne=%{y}<br>text=%{customdata[0]}<extra></extra>",
         "legendgroup": "crime/thriller",
         "marker": {
          "color": "#EF553B",
          "symbol": "circle"
         },
         "mode": "markers",
         "name": "crime/thriller",
         "orientation": "v",
         "showlegend": true,
         "type": "scatter",
         "x": [
          -7.958926677703857
         ],
         "xaxis": "x",
         "y": [
          8.165258407592773
         ],
         "yaxis": "y"
        },
        {
         "customdata": [
          [
           "Kiira seems like an ordinary.........",
           "vampire film"
          ]
         ],
         "hovertemplate": "label=%{customdata[1]}<br>x-tsne=%{x}<br>y-tsne=%{y}<br>text=%{customdata[0]}<extra></extra>",
         "legendgroup": "vampire film",
         "marker": {
          "color": "#00cc96",
          "symbol": "circle"
         },
         "mode": "markers",
         "name": "vampire film",
         "orientation": "v",
         "showlegend": true,
         "type": "scatter",
         "x": [
          -6.705361366271973
         ],
         "xaxis": "x",
         "y": [
          -7.7350993156433105
         ],
         "yaxis": "y"
        },
        {
         "customdata": [
          [
           "With the human exploitation of.........",
           "comedy / animation / family / adventure"
          ]
         ],
         "hovertemplate": "label=%{customdata[1]}<br>x-tsne=%{x}<br>y-tsne=%{y}<br>text=%{customdata[0]}<extra></extra>",
         "legendgroup": "comedy / animation / family / adventure",
         "marker": {
          "color": "#ab63fa",
          "symbol": "circle"
         },
         "mode": "markers",
         "name": "comedy / animation / family / adventure",
         "orientation": "v",
         "showlegend": true,
         "type": "scatter",
         "x": [
          -14.742088317871094
         ],
         "xaxis": "x",
         "y": [
          10.705172538757324
         ],
         "yaxis": "y"
        },
        {
         "customdata": [
          [
           "New York City law professor.........",
           "drama, crime"
          ]
         ],
         "hovertemplate": "label=%{customdata[1]}<br>x-tsne=%{x}<br>y-tsne=%{y}<br>text=%{customdata[0]}<extra></extra>",
         "legendgroup": "drama, crime",
         "marker": {
          "color": "#FFA15A",
          "symbol": "circle"
         },
         "mode": "markers",
         "name": "drama, crime",
         "orientation": "v",
         "showlegend": true,
         "type": "scatter",
         "x": [
          -0.49422013759613037
         ],
         "xaxis": "x",
         "y": [
          1.5303689241409302
         ],
         "yaxis": "y"
        }
       ],
       "layout": {
        "height": 1200,
        "legend": {
         "title": {
          "text": "label"
         },
         "tracegroupgap": 0
        },
        "template": {
         "data": {
          "bar": [
           {
            "error_x": {
             "color": "#2a3f5f"
            },
            "error_y": {
             "color": "#2a3f5f"
            },
            "marker": {
             "line": {
              "color": "#E5ECF6",
              "width": 0.5
             },
             "pattern": {
              "fillmode": "overlay",
              "size": 10,
              "solidity": 0.2
             }
            },
            "type": "bar"
           }
          ],
          "barpolar": [
           {
            "marker": {
             "line": {
              "color": "#E5ECF6",
              "width": 0.5
             },
             "pattern": {
              "fillmode": "overlay",
              "size": 10,
              "solidity": 0.2
             }
            },
            "type": "barpolar"
           }
          ],
          "carpet": [
           {
            "aaxis": {
             "endlinecolor": "#2a3f5f",
             "gridcolor": "white",
             "linecolor": "white",
             "minorgridcolor": "white",
             "startlinecolor": "#2a3f5f"
            },
            "baxis": {
             "endlinecolor": "#2a3f5f",
             "gridcolor": "white",
             "linecolor": "white",
             "minorgridcolor": "white",
             "startlinecolor": "#2a3f5f"
            },
            "type": "carpet"
           }
          ],
          "choropleth": [
           {
            "colorbar": {
             "outlinewidth": 0,
             "ticks": ""
            },
            "type": "choropleth"
           }
          ],
          "contour": [
           {
            "colorbar": {
             "outlinewidth": 0,
             "ticks": ""
            },
            "colorscale": [
             [
              0,
              "#0d0887"
             ],
             [
              0.1111111111111111,
              "#46039f"
             ],
             [
              0.2222222222222222,
              "#7201a8"
             ],
             [
              0.3333333333333333,
              "#9c179e"
             ],
             [
              0.4444444444444444,
              "#bd3786"
             ],
             [
              0.5555555555555556,
              "#d8576b"
             ],
             [
              0.6666666666666666,
              "#ed7953"
             ],
             [
              0.7777777777777778,
              "#fb9f3a"
             ],
             [
              0.8888888888888888,
              "#fdca26"
             ],
             [
              1,
              "#f0f921"
             ]
            ],
            "type": "contour"
           }
          ],
          "contourcarpet": [
           {
            "colorbar": {
             "outlinewidth": 0,
             "ticks": ""
            },
            "type": "contourcarpet"
           }
          ],
          "heatmap": [
           {
            "colorbar": {
             "outlinewidth": 0,
             "ticks": ""
            },
            "colorscale": [
             [
              0,
              "#0d0887"
             ],
             [
              0.1111111111111111,
              "#46039f"
             ],
             [
              0.2222222222222222,
              "#7201a8"
             ],
             [
              0.3333333333333333,
              "#9c179e"
             ],
             [
              0.4444444444444444,
              "#bd3786"
             ],
             [
              0.5555555555555556,
              "#d8576b"
             ],
             [
              0.6666666666666666,
              "#ed7953"
             ],
             [
              0.7777777777777778,
              "#fb9f3a"
             ],
             [
              0.8888888888888888,
              "#fdca26"
             ],
             [
              1,
              "#f0f921"
             ]
            ],
            "type": "heatmap"
           }
          ],
          "heatmapgl": [
           {
            "colorbar": {
             "outlinewidth": 0,
             "ticks": ""
            },
            "colorscale": [
             [
              0,
              "#0d0887"
             ],
             [
              0.1111111111111111,
              "#46039f"
             ],
             [
              0.2222222222222222,
              "#7201a8"
             ],
             [
              0.3333333333333333,
              "#9c179e"
             ],
             [
              0.4444444444444444,
              "#bd3786"
             ],
             [
              0.5555555555555556,
              "#d8576b"
             ],
             [
              0.6666666666666666,
              "#ed7953"
             ],
             [
              0.7777777777777778,
              "#fb9f3a"
             ],
             [
              0.8888888888888888,
              "#fdca26"
             ],
             [
              1,
              "#f0f921"
             ]
            ],
            "type": "heatmapgl"
           }
          ],
          "histogram": [
           {
            "marker": {
             "pattern": {
              "fillmode": "overlay",
              "size": 10,
              "solidity": 0.2
             }
            },
            "type": "histogram"
           }
          ],
          "histogram2d": [
           {
            "colorbar": {
             "outlinewidth": 0,
             "ticks": ""
            },
            "colorscale": [
             [
              0,
              "#0d0887"
             ],
             [
              0.1111111111111111,
              "#46039f"
             ],
             [
              0.2222222222222222,
              "#7201a8"
             ],
             [
              0.3333333333333333,
              "#9c179e"
             ],
             [
              0.4444444444444444,
              "#bd3786"
             ],
             [
              0.5555555555555556,
              "#d8576b"
             ],
             [
              0.6666666666666666,
              "#ed7953"
             ],
             [
              0.7777777777777778,
              "#fb9f3a"
             ],
             [
              0.8888888888888888,
              "#fdca26"
             ],
             [
              1,
              "#f0f921"
             ]
            ],
            "type": "histogram2d"
           }
          ],
          "histogram2dcontour": [
           {
            "colorbar": {
             "outlinewidth": 0,
             "ticks": ""
            },
            "colorscale": [
             [
              0,
              "#0d0887"
             ],
             [
              0.1111111111111111,
              "#46039f"
             ],
             [
              0.2222222222222222,
              "#7201a8"
             ],
             [
              0.3333333333333333,
              "#9c179e"
             ],
             [
              0.4444444444444444,
              "#bd3786"
             ],
             [
              0.5555555555555556,
              "#d8576b"
             ],
             [
              0.6666666666666666,
              "#ed7953"
             ],
             [
              0.7777777777777778,
              "#fb9f3a"
             ],
             [
              0.8888888888888888,
              "#fdca26"
             ],
             [
              1,
              "#f0f921"
             ]
            ],
            "type": "histogram2dcontour"
           }
          ],
          "mesh3d": [
           {
            "colorbar": {
             "outlinewidth": 0,
             "ticks": ""
            },
            "type": "mesh3d"
           }
          ],
          "parcoords": [
           {
            "line": {
             "colorbar": {
              "outlinewidth": 0,
              "ticks": ""
             }
            },
            "type": "parcoords"
           }
          ],
          "pie": [
           {
            "automargin": true,
            "type": "pie"
           }
          ],
          "scatter": [
           {
            "fillpattern": {
             "fillmode": "overlay",
             "size": 10,
             "solidity": 0.2
            },
            "type": "scatter"
           }
          ],
          "scatter3d": [
           {
            "line": {
             "colorbar": {
              "outlinewidth": 0,
              "ticks": ""
             }
            },
            "marker": {
             "colorbar": {
              "outlinewidth": 0,
              "ticks": ""
             }
            },
            "type": "scatter3d"
           }
          ],
          "scattercarpet": [
           {
            "marker": {
             "colorbar": {
              "outlinewidth": 0,
              "ticks": ""
             }
            },
            "type": "scattercarpet"
           }
          ],
          "scattergeo": [
           {
            "marker": {
             "colorbar": {
              "outlinewidth": 0,
              "ticks": ""
             }
            },
            "type": "scattergeo"
           }
          ],
          "scattergl": [
           {
            "marker": {
             "colorbar": {
              "outlinewidth": 0,
              "ticks": ""
             }
            },
            "type": "scattergl"
           }
          ],
          "scattermapbox": [
           {
            "marker": {
             "colorbar": {
              "outlinewidth": 0,
              "ticks": ""
             }
            },
            "type": "scattermapbox"
           }
          ],
          "scatterpolar": [
           {
            "marker": {
             "colorbar": {
              "outlinewidth": 0,
              "ticks": ""
             }
            },
            "type": "scatterpolar"
           }
          ],
          "scatterpolargl": [
           {
            "marker": {
             "colorbar": {
              "outlinewidth": 0,
              "ticks": ""
             }
            },
            "type": "scatterpolargl"
           }
          ],
          "scatterternary": [
           {
            "marker": {
             "colorbar": {
              "outlinewidth": 0,
              "ticks": ""
             }
            },
            "type": "scatterternary"
           }
          ],
          "surface": [
           {
            "colorbar": {
             "outlinewidth": 0,
             "ticks": ""
            },
            "colorscale": [
             [
              0,
              "#0d0887"
             ],
             [
              0.1111111111111111,
              "#46039f"
             ],
             [
              0.2222222222222222,
              "#7201a8"
             ],
             [
              0.3333333333333333,
              "#9c179e"
             ],
             [
              0.4444444444444444,
              "#bd3786"
             ],
             [
              0.5555555555555556,
              "#d8576b"
             ],
             [
              0.6666666666666666,
              "#ed7953"
             ],
             [
              0.7777777777777778,
              "#fb9f3a"
             ],
             [
              0.8888888888888888,
              "#fdca26"
             ],
             [
              1,
              "#f0f921"
             ]
            ],
            "type": "surface"
           }
          ],
          "table": [
           {
            "cells": {
             "fill": {
              "color": "#EBF0F8"
             },
             "line": {
              "color": "white"
             }
            },
            "header": {
             "fill": {
              "color": "#C8D4E3"
             },
             "line": {
              "color": "white"
             }
            },
            "type": "table"
           }
          ]
         },
         "layout": {
          "annotationdefaults": {
           "arrowcolor": "#2a3f5f",
           "arrowhead": 0,
           "arrowwidth": 1
          },
          "autotypenumbers": "strict",
          "coloraxis": {
           "colorbar": {
            "outlinewidth": 0,
            "ticks": ""
           }
          },
          "colorscale": {
           "diverging": [
            [
             0,
             "#8e0152"
            ],
            [
             0.1,
             "#c51b7d"
            ],
            [
             0.2,
             "#de77ae"
            ],
            [
             0.3,
             "#f1b6da"
            ],
            [
             0.4,
             "#fde0ef"
            ],
            [
             0.5,
             "#f7f7f7"
            ],
            [
             0.6,
             "#e6f5d0"
            ],
            [
             0.7,
             "#b8e186"
            ],
            [
             0.8,
             "#7fbc41"
            ],
            [
             0.9,
             "#4d9221"
            ],
            [
             1,
             "#276419"
            ]
           ],
           "sequential": [
            [
             0,
             "#0d0887"
            ],
            [
             0.1111111111111111,
             "#46039f"
            ],
            [
             0.2222222222222222,
             "#7201a8"
            ],
            [
             0.3333333333333333,
             "#9c179e"
            ],
            [
             0.4444444444444444,
             "#bd3786"
            ],
            [
             0.5555555555555556,
             "#d8576b"
            ],
            [
             0.6666666666666666,
             "#ed7953"
            ],
            [
             0.7777777777777778,
             "#fb9f3a"
            ],
            [
             0.8888888888888888,
             "#fdca26"
            ],
            [
             1,
             "#f0f921"
            ]
           ],
           "sequentialminus": [
            [
             0,
             "#0d0887"
            ],
            [
             0.1111111111111111,
             "#46039f"
            ],
            [
             0.2222222222222222,
             "#7201a8"
            ],
            [
             0.3333333333333333,
             "#9c179e"
            ],
            [
             0.4444444444444444,
             "#bd3786"
            ],
            [
             0.5555555555555556,
             "#d8576b"
            ],
            [
             0.6666666666666666,
             "#ed7953"
            ],
            [
             0.7777777777777778,
             "#fb9f3a"
            ],
            [
             0.8888888888888888,
             "#fdca26"
            ],
            [
             1,
             "#f0f921"
            ]
           ]
          },
          "colorway": [
           "#636efa",
           "#EF553B",
           "#00cc96",
           "#ab63fa",
           "#FFA15A",
           "#19d3f3",
           "#FF6692",
           "#B6E880",
           "#FF97FF",
           "#FECB52"
          ],
          "font": {
           "color": "#2a3f5f"
          },
          "geo": {
           "bgcolor": "white",
           "lakecolor": "white",
           "landcolor": "#E5ECF6",
           "showlakes": true,
           "showland": true,
           "subunitcolor": "white"
          },
          "hoverlabel": {
           "align": "left"
          },
          "hovermode": "closest",
          "mapbox": {
           "style": "light"
          },
          "paper_bgcolor": "white",
          "plot_bgcolor": "#E5ECF6",
          "polar": {
           "angularaxis": {
            "gridcolor": "white",
            "linecolor": "white",
            "ticks": ""
           },
           "bgcolor": "#E5ECF6",
           "radialaxis": {
            "gridcolor": "white",
            "linecolor": "white",
            "ticks": ""
           }
          },
          "scene": {
           "xaxis": {
            "backgroundcolor": "#E5ECF6",
            "gridcolor": "white",
            "gridwidth": 2,
            "linecolor": "white",
            "showbackground": true,
            "ticks": "",
            "zerolinecolor": "white"
           },
           "yaxis": {
            "backgroundcolor": "#E5ECF6",
            "gridcolor": "white",
            "gridwidth": 2,
            "linecolor": "white",
            "showbackground": true,
            "ticks": "",
            "zerolinecolor": "white"
           },
           "zaxis": {
            "backgroundcolor": "#E5ECF6",
            "gridcolor": "white",
            "gridwidth": 2,
            "linecolor": "white",
            "showbackground": true,
            "ticks": "",
            "zerolinecolor": "white"
           }
          },
          "shapedefaults": {
           "line": {
            "color": "#2a3f5f"
           }
          },
          "ternary": {
           "aaxis": {
            "gridcolor": "white",
            "linecolor": "white",
            "ticks": ""
           },
           "baxis": {
            "gridcolor": "white",
            "linecolor": "white",
            "ticks": ""
           },
           "bgcolor": "#E5ECF6",
           "caxis": {
            "gridcolor": "white",
            "linecolor": "white",
            "ticks": ""
           }
          },
          "title": {
           "x": 0.05
          },
          "xaxis": {
           "automargin": true,
           "gridcolor": "white",
           "linecolor": "white",
           "ticks": "",
           "title": {
            "standoff": 15
           },
           "zerolinecolor": "white",
           "zerolinewidth": 2
          },
          "yaxis": {
           "automargin": true,
           "gridcolor": "white",
           "linecolor": "white",
           "ticks": "",
           "title": {
            "standoff": 15
           },
           "zerolinecolor": "white",
           "zerolinewidth": 2
          }
         }
        },
        "title": {
         "text": "Sentences t-SNE Visualization with TF-IDF Embeddings"
        },
        "width": 1200,
        "xaxis": {
         "anchor": "y",
         "domain": [
          0,
          1
         ],
         "title": {
          "text": "x-tsne"
         }
        },
        "yaxis": {
         "anchor": "x",
         "domain": [
          0,
          1
         ],
         "title": {
          "text": "y-tsne"
         }
        }
       }
      },
      "text/html": [
       "<div>                            <div id=\"122f6a51-152b-4c48-b814-b3b0ae07b02e\" class=\"plotly-graph-div\" style=\"height:1200px; width:1200px;\"></div>            <script type=\"text/javascript\">                require([\"plotly\"], function(Plotly) {                    window.PLOTLYENV=window.PLOTLYENV || {};                                    if (document.getElementById(\"122f6a51-152b-4c48-b814-b3b0ae07b02e\")) {                    Plotly.newPlot(                        \"122f6a51-152b-4c48-b814-b3b0ae07b02e\",                        [{\"customdata\":[[\"The film tells the story.........\",\"film noir\"],[\"A psychoanalyst and his young.........\",\"film noir\"],[\"The film is set in.........\",\"film noir\"],[\"Convict Van Duff is the.........\",\"film noir\"],[\"Rosalind Dee (DeCarlo) is a.........\",\"film noir\"],[\"Con man Rick Maxon (Payne).........\",\"film noir\"]],\"hovertemplate\":\"label=%{customdata[1]}\\u003cbr\\u003ex-tsne=%{x}\\u003cbr\\u003ey-tsne=%{y}\\u003cbr\\u003etext=%{customdata[0]}\\u003cextra\\u003e\\u003c\\u002fextra\\u003e\",\"legendgroup\":\"film noir\",\"marker\":{\"color\":\"#636efa\",\"symbol\":\"circle\"},\"mode\":\"markers\",\"name\":\"film noir\",\"orientation\":\"v\",\"showlegend\":true,\"x\":[1.1554052829742432,19.286849975585938,5.272614002227783,12.004380226135254,-8.31869125366211,-12.014385223388672],\"xaxis\":\"x\",\"y\":[11.794929504394531,1.3869383335113525,-3.2568674087524414,-16.150901794433594,-12.611530303955078,-3.8488504886627197],\"yaxis\":\"y\",\"type\":\"scatter\"},{\"customdata\":[[\"The eventful life of Swami.........\",\"biography\"],[\"Raised on a sharecropping plantation.........\",\"biography\"]],\"hovertemplate\":\"label=%{customdata[1]}\\u003cbr\\u003ex-tsne=%{x}\\u003cbr\\u003ey-tsne=%{y}\\u003cbr\\u003etext=%{customdata[0]}\\u003cextra\\u003e\\u003c\\u002fextra\\u003e\",\"legendgroup\":\"biography\",\"marker\":{\"color\":\"#EF553B\",\"symbol\":\"circle\"},\"mode\":\"markers\",\"name\":\"biography\",\"orientation\":\"v\",\"showlegend\":true,\"x\":[-3.541018486022949,-0.34941792488098145],\"xaxis\":\"x\",\"y\":[9.219606399536133,-14.547322273254395],\"yaxis\":\"y\",\"type\":\"scatter\"},{\"customdata\":[[\"Jagathalaprathapan is a prince who.........\",\"unknown\"],[\"The story is about two.........\",\"unknown\"],[\"In 1962, South Korea. Kang.........\",\"unknown\"],[\"Vani Viswanath plays the central.........\",\"unknown\"],[\"3000 years ago, the Vader.........\",\"unknown\"],[\"An orphan girl, named Bindu.........\",\"unknown\"],[\"Stand-up-comedian Nikita Kolesnikov (Danila Kozlovsky).........\",\"unknown\"],[\"Claire of the Moon is.........\",\"unknown\"],[\"Joseph is a mentally retarded.........\",\"unknown\"],[\"Balu (Vijayakumar) and Padma (Manjula.........\",\"unknown\"],[\"On the run from the.........\",\"unknown\"],[\"A man visits a happy.........\",\"unknown\"],[\"In 1983 KBS launched a.........\",\"unknown\"],[\"Rahul (Ramankanth) sees a concert.........\",\"unknown\"],[\"Rolex (Prakash Raj) is a.........\",\"unknown\"],[\"A young sculptor searches for.........\",\"unknown\"],[\"Joan (Purviance) and Magdalen (Sothern).........\",\"unknown\"],[\"Indie musician Dong-hoon and cartoonist.........\",\"unknown\"],[\"The story tells about Ching.........\",\"unknown\"],[\"A former agent from the.........\",\"unknown\"],[\"An earthquake releases a bunch.........\",\"unknown\"],[\"Nine people from around the.........\",\"unknown\"],[\"The film takes place in.........\",\"unknown\"],[\"Dharma (Anandaraj) is an auto.........\",\"unknown\"],[\"Arjun lives in a village..........\",\"unknown\"],[\"The story of the film.........\",\"unknown\"],[\"Chu Liuxiang is having drinks.........\",\"unknown\"],[\"Soo-nam is a poor woman.........\",\"unknown\"],[\"Vijay (R. Sarathkumar) and Seetha.........\",\"unknown\"],[\"Vivek is a wanted criminal.........\",\"unknown\"],[\"Gopal (M.G.R.) is an honest.........\",\"unknown\"],[\"This film is about the.........\",\"unknown\"],[\"The story is a family.........\",\"unknown\"],[\"Kumar is a young and.........\",\"unknown\"],[\"Twice widowed, Pilnyeo vows never.........\",\"unknown\"],[\"A new teacher organizes a.........\",\"unknown\"],[\"In the 1930s, Teresa (Buday).........\",\"unknown\"],[\"In the year 1999, the.........\",\"unknown\"],[\"The film is based on.........\",\"unknown\"],[\"Jin-hong is a prosecutor who.........\",\"unknown\"],[\"Kumar, a graduate who decides.........\",\"unknown\"],[\"The story revolves around a.........\",\"unknown\"],[\"A genius sculptor Joon-goo (Park.........\",\"unknown\"],[\"Russian general Marenkov (Robert Shaw).........\",\"unknown\"],[\"Rakta Bandhan is a family.........\",\"unknown\"],[\"Louisa Gould (Jenny Seagrove) hides.........\",\"unknown\"],[\"Marappan (Anandaraj) is the rebel.........\",\"unknown\"],[\"The spouses Alec and Zoey,.........\",\"unknown\"],[\"After the execution of Kattabomman.........\",\"unknown\"],[\"Alli (Manorama) a veritable jungle.........\",\"unknown\"],[\"The film takes place in.........\",\"unknown\"],[\"Raja is a 10-year-old tourist.........\",\"unknown\"],[\"Rajini's parents are killed by.........\",\"unknown\"],[\"Pudhayal was about imaginary gold.........\",\"unknown\"],[\"Kaalia is an action flick.........\",\"unknown\"],[\"Seven young freedom fighters, heavily.........\",\"unknown\"],[\"The story revolves around a.........\",\"unknown\"],[\"Jung-woo is a film director.........\",\"unknown\"],[\"The story revolves around a.........\",\"unknown\"],[\"Handsome and fairly good-looking Anil.........\",\"unknown\"],[\"While on a trip to.........\",\"unknown\"],[\"The story centres on the.........\",\"unknown\"],[\"Two persons namely Ajay and.........\",\"unknown\"],[\"Story of a corpse being.........\",\"unknown\"],[\"The film revolves around the.........\",\"unknown\"],[\"Anand (Shivrajkumar) was nicknamed \\\"Kaddipudi\\\".........\",\"unknown\"],[\"Vijay (MGR), a carefree and.........\",\"unknown\"],[\"A man loses his memory.........\",\"unknown\"],[\"The film tells the story.........\",\"unknown\"]],\"hovertemplate\":\"label=%{customdata[1]}\\u003cbr\\u003ex-tsne=%{x}\\u003cbr\\u003ey-tsne=%{y}\\u003cbr\\u003etext=%{customdata[0]}\\u003cextra\\u003e\\u003c\\u002fextra\\u003e\",\"legendgroup\":\"unknown\",\"marker\":{\"color\":\"#00cc96\",\"symbol\":\"circle\"},\"mode\":\"markers\",\"name\":\"unknown\",\"orientation\":\"v\",\"showlegend\":true,\"x\":[-0.23735962808132172,-7.386903285980225,-12.202765464782715,15.05556869506836,-7.055501461029053,-10.39400577545166,-5.0906243324279785,2.8684287071228027,10.170613288879395,-15.503911972045898,-21.36316680908203,-9.69793701171875,3.063704013824463,-14.818196296691895,-16.358970642089844,-7.330031871795654,-6.5487589836120605,-6.2333526611328125,-1.4639328718185425,3.7326910495758057,-7.655555725097656,12.167933464050293,-1.1446715593338013,13.989282608032227,-18.440351486206055,1.7637526988983154,-3.315253257751465,12.269396781921387,-16.090089797973633,3.2667386531829834,-10.19206714630127,-16.987112045288086,-7.010389804840088,-16.882091522216797,-7.492591381072998,-12.01499080657959,5.073230743408203,-5.860143661499023,-1.214135766029358,-2.6403510570526123,7.482719898223877,15.165557861328125,3.766108512878418,11.590006828308105,-10.876293182373047,2.1884727478027344,-20.124380111694336,-4.952273845672607,20.305490493774414,-16.77413558959961,16.791183471679688,-4.393986701965332,-6.176675796508789,17.020170211791992,14.797677993774414,-6.736739158630371,8.207488059997559,13.646707534790039,-9.42832088470459,14.016322135925293,-9.435501098632812,14.041516304016113,14.198745727539062,11.889915466308594,-8.937294960021973,-1.5649933815002441,-16.189043045043945,1.2565631866455078,3.4088754653930664],\"xaxis\":\"x\",\"y\":[-19.202499389648438,13.995339393615723,-9.874470710754395,-4.172256946563721,-19.53999137878418,6.247211456298828,-4.8028950691223145,-8.850998878479004,-7.565408706665039,3.098602294921875,-8.674627304077148,4.870395660400391,12.234879493713379,-3.690861463546753,4.735386848449707,4.619071960449219,0.12208619713783264,-5.7811360359191895,-3.5266997814178467,12.754344940185547,-19.105449676513672,17.273181915283203,13.32758617401123,-6.725497722625732,-2.379767656326294,18.824113845825195,1.9817144870758057,10.865334510803223,1.8099311590194702,-13.926057815551758,-2.2505264282226562,6.525848865509033,10.283554077148438,5.021002769470215,0.00371762877330184,-9.738265037536621,-16.00794792175293,-21.52161979675293,8.974275588989258,-4.082107067108154,14.5446195602417,-14.121630668640137,11.234885215759277,-16.63235855102539,16.9433650970459,14.347306251525879,-2.6685361862182617,-7.523962497711182,6.397367477416992,-9.47484016418457,6.046688079833984,-10.566264152526855,2.3132550716400146,-8.739216804504395,-10.659797668457031,5.361155033111572,-0.3756110370159149,10.484228134155273,9.08602523803711,-10.242088317871094,-1.5923256874084473,-2.585969924926758,1.5389724969863892,9.06200122833252,8.598322868347168,5.2796854972839355,1.643870234489441,-15.41646671295166,5.992099761962891],\"yaxis\":\"y\",\"type\":\"scatter\"},{\"customdata\":[[\"Police inspector Holloway (Patrick Wymark).........\",\"mystery\"],[\"The story of the film.........\",\"mystery\"],[\"A blind detective, Duncan Maclain,.........\",\"mystery\"],[\"Nick and Nora Charles are.........\",\"mystery\"],[\"When infamous jewel thief Flambeau.........\",\"mystery\"],[\"It is of the Jack.........\",\"mystery\"]],\"hovertemplate\":\"label=%{customdata[1]}\\u003cbr\\u003ex-tsne=%{x}\\u003cbr\\u003ey-tsne=%{y}\\u003cbr\\u003etext=%{customdata[0]}\\u003cextra\\u003e\\u003c\\u002fextra\\u003e\",\"legendgroup\":\"mystery\",\"marker\":{\"color\":\"#ab63fa\",\"symbol\":\"circle\"},\"mode\":\"markers\",\"name\":\"mystery\",\"orientation\":\"v\",\"showlegend\":true,\"x\":[15.155308723449707,0.5361200571060181,9.263174057006836,-1.896623969078064,-0.14486974477767944,20.012020111083984],\"xaxis\":\"x\",\"y\":[0.8698877692222595,6.62352180480957,3.7044169902801514,-9.311887741088867,-6.808823108673096,3.8034486770629883],\"yaxis\":\"y\",\"type\":\"scatter\"},{\"customdata\":[[\"Lewis and Clark and George.........\",\"drama\"],[\"Oliver's mother, a penniless outcast,.........\",\"drama\"],[\"Reverend Smith has arrived in.........\",\"drama\"],[\"Following the plot of the.........\",\"drama\"],[\"The film is a story.........\",\"drama\"],[\"Byron Levin works in a.........\",\"drama\"],[\"This film is about a.........\",\"drama\"],[\"Bok-nyeo, a mentally handicapped woman,.........\",\"drama\"],[\"The film is an account.........\",\"drama\"],[\"A crime reporter, assisted by.........\",\"drama\"],[\"Marianne (Greta Garbo) is a.........\",\"drama\"],[\"Shane O'Shea is a young.........\",\"drama\"],[\"Italian aristocrat Angela Chiaromonte (Helen.........\",\"drama\"],[\"Dhag is the story of.........\",\"drama\"],[\"A Mighty Heart is a.........\",\"drama\"],[\"The film is an examination.........\",\"drama\"],[\"Gloria Cole and Eddie Swenson.........\",\"drama\"],[\"The film is about an.........\",\"drama\"],[\"Chaiti is a young beautiful.........\",\"drama\"],[\"Fontaine Khaled is the London.........\",\"drama\"],[\"California gubernatorial candidate Burton (Lyon).........\",\"drama\"],[\"A 12-year old young boy.........\",\"drama\"],[\"Rie and Nao own a.........\",\"drama\"],[\"The film stars Harry Connick.........\",\"drama\"],[\"In 1964, inmate Charlie Forsythe.........\",\"drama\"],[\"Three teenage boys in small-town.........\",\"drama\"],[\"Taglines: \\\"Being a girl is.........\",\"drama\"],[\"Newland Archer is engaged to.........\",\"drama\"],[\"The Philippines, 1972. Mysterious things.........\",\"drama\"],[\"Set in Alexandria in 1938,.........\",\"drama\"],[\"The film is set in.........\",\"drama\"],[\"Michael Walsh, a husband and.........\",\"drama\"],[\"The film revolves around an.........\",\"drama\"],[\"Big Bad Love shares its.........\",\"drama\"],[\"Ten-year-old Bobby (Frankie Thomas) and.........\",\"drama\"],[\"Brinda (Sindhu Tolani) is an.........\",\"drama\"],[\"A mysterious killer, known only.........\",\"drama\"],[\"Omar Sharif plays Muhassab, headman.........\",\"drama\"],[\"A young Lakota Sioux (Lou.........\",\"drama\"],[\"Hikaru Oshiro, noticing that there.........\",\"drama\"],[\"Chuck Wheeler is released from.........\",\"drama\"],[\"Leslie is a troubled 1960s.........\",\"drama\"],[\"In Renaissance Florence, a Florentine.........\",\"drama\"],[\"\\\"Illustrated Press\\\" society editor Lorelei.........\",\"drama\"],[\"Spanning nearly 20 years from.........\",\"drama\"],[\"A young construction worker rams.........\",\"drama\"],[\"Teenager Jackie Knowles (Richard Attenborough).........\",\"drama\"],[\"In a desperate attempt to.........\",\"drama\"],[\"The first act of the.........\",\"drama\"],[\"In Wilmington, Delaware, Anna Thompson.........\",\"drama\"],[\"While in a restaurant, Carla.........\",\"drama\"],[\"In the middle of a.........\",\"drama\"],[\"Chad (Jimmie Rodgers) is a.........\",\"drama\"],[\"Midget George Wilson pulls strings.........\",\"drama\"],[\"In the remote and undeveloped.........\",\"drama\"],[\"The film is about Jamie,.........\",\"drama\"],[\"Jean Paurel is a famous.........\",\"drama\"],[\"Napoleon Bonaparte (Charles Boyer) launches.........\",\"drama\"],[\"Four friends go on a.........\",\"drama\"]],\"hovertemplate\":\"label=%{customdata[1]}\\u003cbr\\u003ex-tsne=%{x}\\u003cbr\\u003ey-tsne=%{y}\\u003cbr\\u003etext=%{customdata[0]}\\u003cextra\\u003e\\u003c\\u002fextra\\u003e\",\"legendgroup\":\"drama\",\"marker\":{\"color\":\"#FFA15A\",\"symbol\":\"circle\"},\"mode\":\"markers\",\"name\":\"drama\",\"orientation\":\"v\",\"showlegend\":true,\"x\":[-11.44797420501709,-9.236103057861328,-12.503375053405762,8.482593536376953,-5.4723920822143555,-11.979679107666016,8.059215545654297,4.261369705200195,-2.9834680557250977,-11.334671974182129,6.859381198883057,1.0256983041763306,4.25441312789917,-7.7899627685546875,-17.885517120361328,-1.899875283241272,3.796139717102051,4.0405354499816895,7.811325550079346,3.9577393531799316,2.1203315258026123,-8.618443489074707,4.809753894805908,-4.680099964141846,14.49671459197998,10.833749771118164,-12.979239463806152,20.50084114074707,8.74201774597168,21.012163162231445,12.730053901672363,-12.483210563659668,-9.745280265808105,-6.205898284912109,-15.22735595703125,-4.822111129760742,18.490062713623047,1.6528500318527222,-7.750223159790039,-12.105367660522461,13.238537788391113,-11.743583679199219,-12.79057502746582,13.400392532348633,1.1774556636810303,-11.869987487792969,18.46133041381836,-1.976441740989685,-1.8930878639221191,-1.8997834920883179,-10.851694107055664,7.42645263671875,5.467660903930664,-12.735422134399414,-8.607973098754883,4.093108177185059,9.526034355163574,0.6173951625823975,12.253113746643066],\"xaxis\":\"x\",\"y\":[-17.965883255004883,-4.673600673675537,-0.9853596091270447,15.923720359802246,3.231205940246582,-5.806525707244873,11.934697151184082,-14.509651184082031,9.295942306518555,13.339762687683105,8.037631034851074,-4.039414882659912,15.007232666015625,-3.5769002437591553,-11.716373443603516,16.609941482543945,-0.9477056264877319,19.06611442565918,-6.234376430511475,9.753337860107422,-11.982067108154297,-7.381900787353516,5.709900379180908,-11.346323013305664,-13.614823341369629,7.058010101318359,-12.234997749328613,-6.543358325958252,10.293951988220215,6.457920551300049,15.916096687316895,3.7539846897125244,5.851813316345215,9.03226375579834,-5.817254543304443,-15.574417114257812,2.146355628967285,4.192938327789307,-3.1526737213134766,-12.53127384185791,-14.166797637939453,8.003701210021973,6.944995880126953,2.3638064861297607,14.618690490722656,-4.832376956939697,-3.788109302520752,-12.29202651977539,16.836849212646484,-17.814796447753906,-9.004162788391113,-4.086358070373535,16.804067611694336,-17.94129753112793,-7.980990886688232,-6.370029449462891,3.84134840965271,-12.035140037536621,0.8702974319458008],\"yaxis\":\"y\",\"type\":\"scatter\"},{\"customdata\":[[\"In a British TV studio,.........\",\"comedy\"],[\"Neil John Samuel is a.........\",\"comedy\"],[\"Young sci-fi\\u002ffantasy enthusiast Gavin Gore.........\",\"comedy\"],[\"A popular dance hall girl,.........\",\"comedy\"],[\"Mordecai C. Jones (Scott) \\u2013.........\",\"comedy\"],[\"Flesh (Vince Murdocco) is kidnapped.........\",\"comedy\"],[\"Two best friends who live.........\",\"comedy\"],[\"Curry and Pepper are two.........\",\"comedy\"],[\"Set in the austere post\\u2013World.........\",\"comedy\"],[\"Molly Gilbert won't accept a.........\",\"comedy\"],[\"Bumbling cop Chatur Singh (Sanjay.........\",\"comedy\"],[\"Hardy plays Dr. Henry Tibbett,.........\",\"comedy\"],[\"After discovering that her state.........\",\"comedy\"],[\"Struggling young actress Jenny (Marjorie.........\",\"comedy\"],[\"In every port, sailor Bill,.........\",\"comedy\"],[\"Hong Deok-Ja continues to run.........\",\"comedy\"],[\"The film tells the story.........\",\"comedy\"],[\"After Joe Huggett loses his.........\",\"comedy\"],[\"Eric Wainwright (Van Johnson), a.........\",\"comedy\"],[\"Kevin Agar is a Carlton-based.........\",\"comedy\"],[\"Restaurant owner Dylan Ramsey (David.........\",\"comedy\"],[\"Jerry McGuire (William Collier Jr.).........\",\"comedy\"],[\"Two college girls, Ducky and.........\",\"comedy\"],[\"The film's slight storyline concerns.........\",\"comedy\"],[\"A simple handyman, who also.........\",\"comedy\"],[\"The film tells the story.........\",\"comedy\"],[\"In a Mexican nightclub, some.........\",\"comedy\"],[\"Officers throw an extravagant party.........\",\"comedy\"],[\"Nick (Niven) is the supposed.........\",\"comedy\"],[\"Chandrabose (Mohanlal) whose wife's (Meera.........\",\"comedy\"],[\"On board an ocean liner.........\",\"comedy\"],[\"The boys are involved in.........\",\"comedy\"],[\"The Rogers family visit Blackpool.........\",\"comedy\"],[\"The young filmmaker Timothy (Jonathan.........\",\"comedy\"],[\"Small-fry marijuana harvesters in Northern.........\",\"comedy\"],[\"The Chain tells the story.........\",\"comedy\"],[\"The title character is Victor.........\",\"comedy\"],[\"Harry England (Michael Crawford), a.........\",\"comedy\"],[\"In Shanghai, Madeleine Linden is.........\",\"comedy\"],[\"Andy (Lee Bowman) and Janie.........\",\"comedy\"],[\"A small Midwestern town is.........\",\"comedy\"],[\"Leonard Maltin: \\\"Cute comic mystery............\",\"comedy\"],[\"The film plays out with.........\",\"comedy\"],[\"Two sailors are conned into.........\",\"comedy\"],[\"The movie is about Ilangovan.........\",\"comedy\"],[\"Alvin Roberts (Lee Tracy) feuds.........\",\"comedy\"],[\"Stephanie (Lyn Wilde) and Terry.........\",\"comedy\"],[\"The young brother of two.........\",\"comedy\"],[\"Jennie Hagan (Swanson) is a.........\",\"comedy\"],[\"Banerjee stars as Ram Das,.........\",\"comedy\"],[\"Gracie (Fields) and Laurie (Dolman).........\",\"comedy\"]],\"hovertemplate\":\"label=%{customdata[1]}\\u003cbr\\u003ex-tsne=%{x}\\u003cbr\\u003ey-tsne=%{y}\\u003cbr\\u003etext=%{customdata[0]}\\u003cextra\\u003e\\u003c\\u002fextra\\u003e\",\"legendgroup\":\"comedy\",\"marker\":{\"color\":\"#19d3f3\",\"symbol\":\"circle\"},\"mode\":\"markers\",\"name\":\"comedy\",\"orientation\":\"v\",\"showlegend\":true,\"x\":[22.045429229736328,2.400984048843384,6.519029140472412,10.703437805175781,9.37916374206543,-21.36250877380371,-6.802555084228516,-9.555842399597168,0.046543560922145844,4.133223533630371,14.13563060760498,3.7198853492736816,1.4762299060821533,15.130836486816406,6.075677394866943,6.984147071838379,2.353792190551758,3.734266519546509,-15.192366600036621,-7.700482368469238,10.469046592712402,-20.329862594604492,5.293907165527344,-2.275540590286255,2.264615297317505,2.0656678676605225,-0.33859285712242126,-21.60548210144043,-2.3296866416931152,-5.583014488220215,-11.119277954101562,-2.8263533115386963,8.587793350219727,6.815711498260498,10.904732704162598,-6.717458248138428,0.6817915439605713,5.619218349456787,-12.320259094238281,-1.7944444417953491,-0.4017084836959839,13.932130813598633,-6.303798675537109,4.331207752227783,10.882740020751953,-2.0895309448242188,-4.436183929443359,12.796135902404785,8.189833641052246,-10.589913368225098,15.007698059082031],\"xaxis\":\"x\",\"y\":[6.230123519897461,2.3273086547851562,3.5725460052490234,-17.522876739501953,13.695862770080566,-8.752888679504395,15.30575180053711,12.730205535888672,14.261184692382812,2.1351447105407715,-7.723825931549072,-8.588387489318848,1.335577130317688,9.975436210632324,2.834430694580078,0.2946106791496277,-12.285110473632812,8.510005950927734,-5.181835174560547,2.942091464996338,-6.503629684448242,2.7059292793273926,-2.3210270404815674,11.137639045715332,-2.245711088180542,19.6922550201416,2.654855251312256,6.509756565093994,-9.168257713317871,-2.151860475540161,17.4403076171875,-17.395448684692383,-0.325190931558609,11.140507698059082,7.825791358947754,6.936373710632324,15.310995101928711,-18.32196617126465,1.4553368091583252,-12.39569091796875,-9.364157676696777,-2.324429988861084,15.788762092590332,2.4777004718780518,-10.493766784667969,-1.2795078754425049,-0.33492863178253174,3.1795384883880615,-9.918386459350586,-1.211592435836792,10.354347229003906],\"yaxis\":\"y\",\"type\":\"scatter\"},{\"customdata\":[[\"George Cabot Jr. (Cesar Romero),.........\",\"comedy, romance\"]],\"hovertemplate\":\"label=%{customdata[1]}\\u003cbr\\u003ex-tsne=%{x}\\u003cbr\\u003ey-tsne=%{y}\\u003cbr\\u003etext=%{customdata[0]}\\u003cextra\\u003e\\u003c\\u002fextra\\u003e\",\"legendgroup\":\"comedy, romance\",\"marker\":{\"color\":\"#FF6692\",\"symbol\":\"circle\"},\"mode\":\"markers\",\"name\":\"comedy, romance\",\"orientation\":\"v\",\"showlegend\":true,\"x\":[-12.414907455444336],\"xaxis\":\"x\",\"y\":[-17.982324600219727],\"yaxis\":\"y\",\"type\":\"scatter\"},{\"customdata\":[[\"Mongol chief Temujin (later to.........\",\"adventure\"],[\"Shellshocked following his experiences as.........\",\"adventure\"],[\"Professional hunter Harry Black is.........\",\"adventure\"],[\"After being court-martialed and discharged.........\",\"adventure\"]],\"hovertemplate\":\"label=%{customdata[1]}\\u003cbr\\u003ex-tsne=%{x}\\u003cbr\\u003ey-tsne=%{y}\\u003cbr\\u003etext=%{customdata[0]}\\u003cextra\\u003e\\u003c\\u002fextra\\u003e\",\"legendgroup\":\"adventure\",\"marker\":{\"color\":\"#B6E880\",\"symbol\":\"circle\"},\"mode\":\"markers\",\"name\":\"adventure\",\"orientation\":\"v\",\"showlegend\":true,\"x\":[-12.67679214477539,-18.404104232788086,5.6894731521606445,-21.653396606445312],\"xaxis\":\"x\",\"y\":[-2.015561819076538,-4.160220623016357,-18.485700607299805,7.47170352935791],\"yaxis\":\"y\",\"type\":\"scatter\"},{\"customdata\":[[\"The story starts with a.........\",\"romance \\u002f suspense\"]],\"hovertemplate\":\"label=%{customdata[1]}\\u003cbr\\u003ex-tsne=%{x}\\u003cbr\\u003ey-tsne=%{y}\\u003cbr\\u003etext=%{customdata[0]}\\u003cextra\\u003e\\u003c\\u002fextra\\u003e\",\"legendgroup\":\"romance \\u002f suspense\",\"marker\":{\"color\":\"#FF97FF\",\"symbol\":\"circle\"},\"mode\":\"markers\",\"name\":\"romance \\u002f suspense\",\"orientation\":\"v\",\"showlegend\":true,\"x\":[1.7167679071426392],\"xaxis\":\"x\",\"y\":[20.102628707885742],\"yaxis\":\"y\",\"type\":\"scatter\"},{\"customdata\":[[\"In World War II, two.........\",\"pow comedy\"]],\"hovertemplate\":\"label=%{customdata[1]}\\u003cbr\\u003ex-tsne=%{x}\\u003cbr\\u003ey-tsne=%{y}\\u003cbr\\u003etext=%{customdata[0]}\\u003cextra\\u003e\\u003c\\u002fextra\\u003e\",\"legendgroup\":\"pow comedy\",\"marker\":{\"color\":\"#FECB52\",\"symbol\":\"circle\"},\"mode\":\"markers\",\"name\":\"pow comedy\",\"orientation\":\"v\",\"showlegend\":true,\"x\":[2.306602954864502],\"xaxis\":\"x\",\"y\":[15.559917449951172],\"yaxis\":\"y\",\"type\":\"scatter\"},{\"customdata\":[[\"It is love at first.........\",\"romance\"],[\"Loosely based on true events.........\",\"romance\"]],\"hovertemplate\":\"label=%{customdata[1]}\\u003cbr\\u003ex-tsne=%{x}\\u003cbr\\u003ey-tsne=%{y}\\u003cbr\\u003etext=%{customdata[0]}\\u003cextra\\u003e\\u003c\\u002fextra\\u003e\",\"legendgroup\":\"romance\",\"marker\":{\"color\":\"#636efa\",\"symbol\":\"circle\"},\"mode\":\"markers\",\"name\":\"romance\",\"orientation\":\"v\",\"showlegend\":true,\"x\":[-9.912848472595215,0.04272686690092087],\"xaxis\":\"x\",\"y\":[1.4573954343795776,10.915414810180664],\"yaxis\":\"y\",\"type\":\"scatter\"},{\"customdata\":[[\"Having cleaned up Tombstone, Arizona,.........\",\"western\"],[\"The story involves a middle-aged.........\",\"western\"],[\"Stephen Ghent, a mineowner, falls.........\",\"western\"],[\"After being told by his.........\",\"western\"],[\"Jeff Hassard (Dean Jagger) and.........\",\"western\"],[\"A U.S. marshal investigates when.........\",\"western\"],[\"John Murdock (Paul Richards) is.........\",\"western\"],[\"A prospective settler, pioneer Bob.........\",\"western\"],[\"When a town drunk, Gabe,.........\",\"western\"],[\"Following a series of robberies.........\",\"western\"],[\"The plot is a mystery.........\",\"western\"]],\"hovertemplate\":\"label=%{customdata[1]}\\u003cbr\\u003ex-tsne=%{x}\\u003cbr\\u003ey-tsne=%{y}\\u003cbr\\u003etext=%{customdata[0]}\\u003cextra\\u003e\\u003c\\u002fextra\\u003e\",\"legendgroup\":\"western\",\"marker\":{\"color\":\"#EF553B\",\"symbol\":\"circle\"},\"mode\":\"markers\",\"name\":\"western\",\"orientation\":\"v\",\"showlegend\":true,\"x\":[19.773027420043945,17.85972785949707,-13.403449058532715,19.060007095336914,10.747241973876953,-13.052671432495117,6.367143630981445,9.96890640258789,4.372526168823242,14.830755233764648,10.967130661010742],\"xaxis\":\"x\",\"y\":[-6.292689323425293,-7.95222806930542,-0.09247393161058426,-5.163394927978516,-4.89831018447876,6.857827186584473,-8.716384887695312,1.128179669380188,-8.318777084350586,5.625633716583252,15.9934720993042],\"yaxis\":\"y\",\"type\":\"scatter\"},{\"customdata\":[[\"The story is about a.........\",\"romantic comedy\"],[\"Scott (Ryan Phillippe) is a.........\",\"romantic comedy\"],[\"Trust concerns the unusual romance.........\",\"romantic comedy\"],[\"Alim is a young gay.........\",\"romantic comedy\"],[\"Daniels, in her final silent.........\",\"romantic comedy\"]],\"hovertemplate\":\"label=%{customdata[1]}\\u003cbr\\u003ex-tsne=%{x}\\u003cbr\\u003ey-tsne=%{y}\\u003cbr\\u003etext=%{customdata[0]}\\u003cextra\\u003e\\u003c\\u002fextra\\u003e\",\"legendgroup\":\"romantic comedy\",\"marker\":{\"color\":\"#00cc96\",\"symbol\":\"circle\"},\"mode\":\"markers\",\"name\":\"romantic comedy\",\"orientation\":\"v\",\"showlegend\":true,\"x\":[7.232339859008789,-3.67055606842041,-7.994258880615234,2.434488296508789,-11.06212329864502],\"xaxis\":\"x\",\"y\":[-13.397723197937012,-6.325277328491211,-12.305008888244629,-1.5671842098236084,13.20261001586914],\"yaxis\":\"y\",\"type\":\"scatter\"},{\"customdata\":[[\"Kisan Kanya was based on.........\",\"social\"]],\"hovertemplate\":\"label=%{customdata[1]}\\u003cbr\\u003ex-tsne=%{x}\\u003cbr\\u003ey-tsne=%{y}\\u003cbr\\u003etext=%{customdata[0]}\\u003cextra\\u003e\\u003c\\u002fextra\\u003e\",\"legendgroup\":\"social\",\"marker\":{\"color\":\"#ab63fa\",\"symbol\":\"circle\"},\"mode\":\"markers\",\"name\":\"social\",\"orientation\":\"v\",\"showlegend\":true,\"x\":[0.3291384279727936],\"xaxis\":\"x\",\"y\":[8.284236907958984],\"yaxis\":\"y\",\"type\":\"scatter\"},{\"customdata\":[[\"A psychic woman leads archaeologists.........\",\"horror\"],[\"Christopher, a lustful man goes.........\",\"horror\"],[\"Charles Kessler (Bela Lugosi) is.........\",\"horror\"],[\"During a TV segment about.........\",\"horror\"]],\"hovertemplate\":\"label=%{customdata[1]}\\u003cbr\\u003ex-tsne=%{x}\\u003cbr\\u003ey-tsne=%{y}\\u003cbr\\u003etext=%{customdata[0]}\\u003cextra\\u003e\\u003c\\u002fextra\\u003e\",\"legendgroup\":\"horror\",\"marker\":{\"color\":\"#FFA15A\",\"symbol\":\"circle\"},\"mode\":\"markers\",\"name\":\"horror\",\"orientation\":\"v\",\"showlegend\":true,\"x\":[6.122893333435059,9.248263359069824,1.373146891593933,12.204448699951172],\"xaxis\":\"x\",\"y\":[-5.563235282897949,-4.681312561035156,-14.9100980758667,16.448265075683594],\"yaxis\":\"y\",\"type\":\"scatter\"},{\"customdata\":[[\"Two reporters, Curtis (Conrad Phillips).........\",\"crime\"],[\"Edgar Mills and his mistress.........\",\"crime\"],[\"Inventor and engineer Robert Draper.........\",\"crime\"],[\"United States Secret Service Lieutenant.........\",\"crime\"],[\"A new gas formula that.........\",\"crime\"],[\"American gambler Nick Cain (Raft).........\",\"crime\"],[\"Two brothers become involved with.........\",\"crime\"]],\"hovertemplate\":\"label=%{customdata[1]}\\u003cbr\\u003ex-tsne=%{x}\\u003cbr\\u003ey-tsne=%{y}\\u003cbr\\u003etext=%{customdata[0]}\\u003cextra\\u003e\\u003c\\u002fextra\\u003e\",\"legendgroup\":\"crime\",\"marker\":{\"color\":\"#19d3f3\",\"symbol\":\"circle\"},\"mode\":\"markers\",\"name\":\"crime\",\"orientation\":\"v\",\"showlegend\":true,\"x\":[0.5935494303703308,10.885571479797363,14.238686561584473,10.491466522216797,20.113523483276367,11.724309921264648,-10.478960990905762],\"xaxis\":\"x\",\"y\":[-6.675870418548584,0.45885610580444336,-13.058540344238281,-3.929786443710327,6.698504447937012,-5.013080596923828,17.300256729125977],\"yaxis\":\"y\",\"type\":\"scatter\"},{\"customdata\":[[\"Dr. Markoff (J. Carrol Naish).........\",\"science fiction\"]],\"hovertemplate\":\"label=%{customdata[1]}\\u003cbr\\u003ex-tsne=%{x}\\u003cbr\\u003ey-tsne=%{y}\\u003cbr\\u003etext=%{customdata[0]}\\u003cextra\\u003e\\u003c\\u002fextra\\u003e\",\"legendgroup\":\"science fiction\",\"marker\":{\"color\":\"#FF6692\",\"symbol\":\"circle\"},\"mode\":\"markers\",\"name\":\"science fiction\",\"orientation\":\"v\",\"showlegend\":true,\"x\":[-15.315720558166504],\"xaxis\":\"x\",\"y\":[10.204567909240723],\"yaxis\":\"y\",\"type\":\"scatter\"},{\"customdata\":[[\"The plot revolves around the.........\",\"coming of age drama\"]],\"hovertemplate\":\"label=%{customdata[1]}\\u003cbr\\u003ex-tsne=%{x}\\u003cbr\\u003ey-tsne=%{y}\\u003cbr\\u003etext=%{customdata[0]}\\u003cextra\\u003e\\u003c\\u002fextra\\u003e\",\"legendgroup\":\"coming of age drama\",\"marker\":{\"color\":\"#B6E880\",\"symbol\":\"circle\"},\"mode\":\"markers\",\"name\":\"coming of age drama\",\"orientation\":\"v\",\"showlegend\":true,\"x\":[-4.759962558746338],\"xaxis\":\"x\",\"y\":[-3.3523001670837402],\"yaxis\":\"y\",\"type\":\"scatter\"},{\"customdata\":[[\"The movie opens with Fung.........\",\"erotic \\u002f drama\"]],\"hovertemplate\":\"label=%{customdata[1]}\\u003cbr\\u003ex-tsne=%{x}\\u003cbr\\u003ey-tsne=%{y}\\u003cbr\\u003etext=%{customdata[0]}\\u003cextra\\u003e\\u003c\\u002fextra\\u003e\",\"legendgroup\":\"erotic \\u002f drama\",\"marker\":{\"color\":\"#FF97FF\",\"symbol\":\"circle\"},\"mode\":\"markers\",\"name\":\"erotic \\u002f drama\",\"orientation\":\"v\",\"showlegend\":true,\"x\":[10.52133846282959],\"xaxis\":\"x\",\"y\":[-10.272147178649902],\"yaxis\":\"y\",\"type\":\"scatter\"},{\"customdata\":[[\"Nikki Singh (Akshay Oberoi) is.........\",\"neo-noir\"]],\"hovertemplate\":\"label=%{customdata[1]}\\u003cbr\\u003ex-tsne=%{x}\\u003cbr\\u003ey-tsne=%{y}\\u003cbr\\u003etext=%{customdata[0]}\\u003cextra\\u003e\\u003c\\u002fextra\\u003e\",\"legendgroup\":\"neo-noir\",\"marker\":{\"color\":\"#FECB52\",\"symbol\":\"circle\"},\"mode\":\"markers\",\"name\":\"neo-noir\",\"orientation\":\"v\",\"showlegend\":true,\"x\":[15.618880271911621],\"xaxis\":\"x\",\"y\":[-9.834242820739746],\"yaxis\":\"y\",\"type\":\"scatter\"},{\"customdata\":[[\"Harvey Keitel plays an American.........\",\"crime drama\"],[\"The drama tells of a.........\",\"crime drama\"],[\"With five rival oil companies.........\",\"crime drama\"]],\"hovertemplate\":\"label=%{customdata[1]}\\u003cbr\\u003ex-tsne=%{x}\\u003cbr\\u003ey-tsne=%{y}\\u003cbr\\u003etext=%{customdata[0]}\\u003cextra\\u003e\\u003c\\u002fextra\\u003e\",\"legendgroup\":\"crime drama\",\"marker\":{\"color\":\"#636efa\",\"symbol\":\"circle\"},\"mode\":\"markers\",\"name\":\"crime drama\",\"orientation\":\"v\",\"showlegend\":true,\"x\":[5.326963424682617,-1.611991286277771,-5.323602676391602],\"xaxis\":\"x\",\"y\":[19.211435317993164,-0.9696106910705566,-15.670238494873047],\"yaxis\":\"y\",\"type\":\"scatter\"},{\"customdata\":[[\"Ir\\u00e8ne Bordoni is cast as.........\",\"musical comedy\"],[\"Flagg (Victor McLaglen) and Quirt.........\",\"musical comedy\"]],\"hovertemplate\":\"label=%{customdata[1]}\\u003cbr\\u003ex-tsne=%{x}\\u003cbr\\u003ey-tsne=%{y}\\u003cbr\\u003etext=%{customdata[0]}\\u003cextra\\u003e\\u003c\\u002fextra\\u003e\",\"legendgroup\":\"musical comedy\",\"marker\":{\"color\":\"#EF553B\",\"symbol\":\"circle\"},\"mode\":\"markers\",\"name\":\"musical comedy\",\"orientation\":\"v\",\"showlegend\":true,\"x\":[-9.365360260009766,-4.588180065155029],\"xaxis\":\"x\",\"y\":[-6.4661407470703125,12.426736831665039],\"yaxis\":\"y\",\"type\":\"scatter\"},{\"customdata\":[[\"This film is about two.........\",\"romance, comedy\"]],\"hovertemplate\":\"label=%{customdata[1]}\\u003cbr\\u003ex-tsne=%{x}\\u003cbr\\u003ey-tsne=%{y}\\u003cbr\\u003etext=%{customdata[0]}\\u003cextra\\u003e\\u003c\\u002fextra\\u003e\",\"legendgroup\":\"romance, comedy\",\"marker\":{\"color\":\"#00cc96\",\"symbol\":\"circle\"},\"mode\":\"markers\",\"name\":\"romance, comedy\",\"orientation\":\"v\",\"showlegend\":true,\"x\":[-2.9350826740264893],\"xaxis\":\"x\",\"y\":[7.593474388122559],\"yaxis\":\"y\",\"type\":\"scatter\"},{\"customdata\":[[\"Cosmo Reif, an affectless mob.........\",\"comedy, thriller\"]],\"hovertemplate\":\"label=%{customdata[1]}\\u003cbr\\u003ex-tsne=%{x}\\u003cbr\\u003ey-tsne=%{y}\\u003cbr\\u003etext=%{customdata[0]}\\u003cextra\\u003e\\u003c\\u002fextra\\u003e\",\"legendgroup\":\"comedy, thriller\",\"marker\":{\"color\":\"#ab63fa\",\"symbol\":\"circle\"},\"mode\":\"markers\",\"name\":\"comedy, thriller\",\"orientation\":\"v\",\"showlegend\":true,\"x\":[-15.06737232208252],\"xaxis\":\"x\",\"y\":[-1.3419950008392334],\"yaxis\":\"y\",\"type\":\"scatter\"},{\"customdata\":[[\"The film is a retelling.........\",\"fantasy\"],[\"Loosely based on the historical.........\",\"fantasy\"]],\"hovertemplate\":\"label=%{customdata[1]}\\u003cbr\\u003ex-tsne=%{x}\\u003cbr\\u003ey-tsne=%{y}\\u003cbr\\u003etext=%{customdata[0]}\\u003cextra\\u003e\\u003c\\u002fextra\\u003e\",\"legendgroup\":\"fantasy\",\"marker\":{\"color\":\"#FFA15A\",\"symbol\":\"circle\"},\"mode\":\"markers\",\"name\":\"fantasy\",\"orientation\":\"v\",\"showlegend\":true,\"x\":[-20.10967254638672,6.021273136138916],\"xaxis\":\"x\",\"y\":[2.920187473297119,-10.554491996765137],\"yaxis\":\"y\",\"type\":\"scatter\"},{\"customdata\":[[\"Two escaping killers hide out.........\",\"suspense\"]],\"hovertemplate\":\"label=%{customdata[1]}\\u003cbr\\u003ex-tsne=%{x}\\u003cbr\\u003ey-tsne=%{y}\\u003cbr\\u003etext=%{customdata[0]}\\u003cextra\\u003e\\u003c\\u002fextra\\u003e\",\"legendgroup\":\"suspense\",\"marker\":{\"color\":\"#19d3f3\",\"symbol\":\"circle\"},\"mode\":\"markers\",\"name\":\"suspense\",\"orientation\":\"v\",\"showlegend\":true,\"x\":[0.7207021117210388],\"xaxis\":\"x\",\"y\":[-5.014238357543945],\"yaxis\":\"y\",\"type\":\"scatter\"},{\"customdata\":[[\"The Kitauji high school concert.........\",\"drama, youth, musical, romance, idol\"]],\"hovertemplate\":\"label=%{customdata[1]}\\u003cbr\\u003ex-tsne=%{x}\\u003cbr\\u003ey-tsne=%{y}\\u003cbr\\u003etext=%{customdata[0]}\\u003cextra\\u003e\\u003c\\u002fextra\\u003e\",\"legendgroup\":\"drama, youth, musical, romance, idol\",\"marker\":{\"color\":\"#FF6692\",\"symbol\":\"circle\"},\"mode\":\"markers\",\"name\":\"drama, youth, musical, romance, idol\",\"orientation\":\"v\",\"showlegend\":true,\"x\":[-11.149721145629883],\"xaxis\":\"x\",\"y\":[-12.719916343688965],\"yaxis\":\"y\",\"type\":\"scatter\"},{\"customdata\":[[\"Lost & Found is basically.........\",\"romance, drama\"],[\"Roanne Sanchez, a young girl.........\",\"romance, drama\"]],\"hovertemplate\":\"label=%{customdata[1]}\\u003cbr\\u003ex-tsne=%{x}\\u003cbr\\u003ey-tsne=%{y}\\u003cbr\\u003etext=%{customdata[0]}\\u003cextra\\u003e\\u003c\\u002fextra\\u003e\",\"legendgroup\":\"romance, drama\",\"marker\":{\"color\":\"#B6E880\",\"symbol\":\"circle\"},\"mode\":\"markers\",\"name\":\"romance, drama\",\"orientation\":\"v\",\"showlegend\":true,\"x\":[-18.807071685791016,-7.126325607299805],\"xaxis\":\"x\",\"y\":[-2.6630361080169678,-11.527117729187012],\"yaxis\":\"y\",\"type\":\"scatter\"},{\"customdata\":[[\"This film follows the lead.........\",\"action, sci-fi\"]],\"hovertemplate\":\"label=%{customdata[1]}\\u003cbr\\u003ex-tsne=%{x}\\u003cbr\\u003ey-tsne=%{y}\\u003cbr\\u003etext=%{customdata[0]}\\u003cextra\\u003e\\u003c\\u002fextra\\u003e\",\"legendgroup\":\"action, sci-fi\",\"marker\":{\"color\":\"#FF97FF\",\"symbol\":\"circle\"},\"mode\":\"markers\",\"name\":\"action, sci-fi\",\"orientation\":\"v\",\"showlegend\":true,\"x\":[-5.163403034210205],\"xaxis\":\"x\",\"y\":[10.839418411254883],\"yaxis\":\"y\",\"type\":\"scatter\"},{\"customdata\":[[\"Unlike other Alamo films that.........\",\"western, war\"]],\"hovertemplate\":\"label=%{customdata[1]}\\u003cbr\\u003ex-tsne=%{x}\\u003cbr\\u003ey-tsne=%{y}\\u003cbr\\u003etext=%{customdata[0]}\\u003cextra\\u003e\\u003c\\u002fextra\\u003e\",\"legendgroup\":\"western, war\",\"marker\":{\"color\":\"#FECB52\",\"symbol\":\"circle\"},\"mode\":\"markers\",\"name\":\"western, war\",\"orientation\":\"v\",\"showlegend\":true,\"x\":[6.760206699371338],\"xaxis\":\"x\",\"y\":[17.3436336517334],\"yaxis\":\"y\",\"type\":\"scatter\"},{\"customdata\":[[\"A San Francisco earthquake orphan.........\",\"comedy drama\"],[\"The story revolves around a.........\",\"comedy drama\"]],\"hovertemplate\":\"label=%{customdata[1]}\\u003cbr\\u003ex-tsne=%{x}\\u003cbr\\u003ey-tsne=%{y}\\u003cbr\\u003etext=%{customdata[0]}\\u003cextra\\u003e\\u003c\\u002fextra\\u003e\",\"legendgroup\":\"comedy drama\",\"marker\":{\"color\":\"#636efa\",\"symbol\":\"circle\"},\"mode\":\"markers\",\"name\":\"comedy drama\",\"orientation\":\"v\",\"showlegend\":true,\"x\":[-12.075523376464844,-11.987889289855957],\"xaxis\":\"x\",\"y\":[-0.6588912010192871,2.4417505264282227],\"yaxis\":\"y\",\"type\":\"scatter\"},{\"customdata\":[[\"The story line centres on.........\",\"musical\"],[\"Big-league baseball players Jerry and.........\",\"musical\"],[\"During World War II singer.........\",\"musical\"],[\"Bonnie and Connie Jones are.........\",\"musical\"]],\"hovertemplate\":\"label=%{customdata[1]}\\u003cbr\\u003ex-tsne=%{x}\\u003cbr\\u003ey-tsne=%{y}\\u003cbr\\u003etext=%{customdata[0]}\\u003cextra\\u003e\\u003c\\u002fextra\\u003e\",\"legendgroup\":\"musical\",\"marker\":{\"color\":\"#EF553B\",\"symbol\":\"circle\"},\"mode\":\"markers\",\"name\":\"musical\",\"orientation\":\"v\",\"showlegend\":true,\"x\":[4.451868534088135,-5.941923141479492,6.522385597229004,0.48537129163742065],\"xaxis\":\"x\",\"y\":[5.75746488571167,17.74359893798828,14.964797973632812,0.2933058738708496],\"yaxis\":\"y\",\"type\":\"scatter\"},{\"customdata\":[[\"Sets in the 19th century,.........\",\"romantic drama\"]],\"hovertemplate\":\"label=%{customdata[1]}\\u003cbr\\u003ex-tsne=%{x}\\u003cbr\\u003ey-tsne=%{y}\\u003cbr\\u003etext=%{customdata[0]}\\u003cextra\\u003e\\u003c\\u002fextra\\u003e\",\"legendgroup\":\"romantic drama\",\"marker\":{\"color\":\"#00cc96\",\"symbol\":\"circle\"},\"mode\":\"markers\",\"name\":\"romantic drama\",\"orientation\":\"v\",\"showlegend\":true,\"x\":[10.616388320922852],\"xaxis\":\"x\",\"y\":[-1.1226565837860107],\"yaxis\":\"y\",\"type\":\"scatter\"},{\"customdata\":[[\"Akashangalil is the story of.........\",\"family\"]],\"hovertemplate\":\"label=%{customdata[1]}\\u003cbr\\u003ex-tsne=%{x}\\u003cbr\\u003ey-tsne=%{y}\\u003cbr\\u003etext=%{customdata[0]}\\u003cextra\\u003e\\u003c\\u002fextra\\u003e\",\"legendgroup\":\"family\",\"marker\":{\"color\":\"#ab63fa\",\"symbol\":\"circle\"},\"mode\":\"markers\",\"name\":\"family\",\"orientation\":\"v\",\"showlegend\":true,\"x\":[0.6886231303215027],\"xaxis\":\"x\",\"y\":[-1.193910837173462],\"yaxis\":\"y\",\"type\":\"scatter\"},{\"customdata\":[[\"Sally Elliott (Rita Hayworth), a.........\",\"musical biopic\"]],\"hovertemplate\":\"label=%{customdata[1]}\\u003cbr\\u003ex-tsne=%{x}\\u003cbr\\u003ey-tsne=%{y}\\u003cbr\\u003etext=%{customdata[0]}\\u003cextra\\u003e\\u003c\\u002fextra\\u003e\",\"legendgroup\":\"musical biopic\",\"marker\":{\"color\":\"#FFA15A\",\"symbol\":\"circle\"},\"mode\":\"markers\",\"name\":\"musical biopic\",\"orientation\":\"v\",\"showlegend\":true,\"x\":[-5.02023458480835],\"xaxis\":\"x\",\"y\":[15.531253814697266],\"yaxis\":\"y\",\"type\":\"scatter\"},{\"customdata\":[[\"The Hartford Transcontinental Railroad is.........\",\"western serial\"]],\"hovertemplate\":\"label=%{customdata[1]}\\u003cbr\\u003ex-tsne=%{x}\\u003cbr\\u003ey-tsne=%{y}\\u003cbr\\u003etext=%{customdata[0]}\\u003cextra\\u003e\\u003c\\u002fextra\\u003e\",\"legendgroup\":\"western serial\",\"marker\":{\"color\":\"#19d3f3\",\"symbol\":\"circle\"},\"mode\":\"markers\",\"name\":\"western serial\",\"orientation\":\"v\",\"showlegend\":true,\"x\":[0.6815193295478821],\"xaxis\":\"x\",\"y\":[-20.01573371887207],\"yaxis\":\"y\",\"type\":\"scatter\"},{\"customdata\":[[\"When Los Angeles' police force.........\",\"thriller\"],[\"Frankie Bono, a hitman from.........\",\"thriller\"],[\"Two days before Christmas, a.........\",\"thriller\"],[\"An old gangster, with a.........\",\"thriller\"],[\"Julia Hemingway (Ina Skriver, credited.........\",\"thriller\"],[\"This film is about the.........\",\"thriller\"],[\"A young woman goes to.........\",\"thriller\"],[\"A spirit (\\\"Patrick\\\") haunts a.........\",\"thriller\"],[\"The story follows a group.........\",\"thriller\"],[\"In a quiet English town,.........\",\"thriller\"]],\"hovertemplate\":\"label=%{customdata[1]}\\u003cbr\\u003ex-tsne=%{x}\\u003cbr\\u003ey-tsne=%{y}\\u003cbr\\u003etext=%{customdata[0]}\\u003cextra\\u003e\\u003c\\u002fextra\\u003e\",\"legendgroup\":\"thriller\",\"marker\":{\"color\":\"#FF6692\",\"symbol\":\"circle\"},\"mode\":\"markers\",\"name\":\"thriller\",\"orientation\":\"v\",\"showlegend\":true,\"x\":[15.39930248260498,-1.6707452535629272,1.390874981880188,8.346721649169922,17.794313430786133,-16.99117088317871,7.635998725891113,5.910867214202881,1.0669130086898804,3.755789041519165],\"xaxis\":\"x\",\"y\":[5.015349388122559,1.420541524887085,-7.077664375305176,-13.404831886291504,6.497287750244141,6.526562213897705,-5.307333469390869,-2.4840357303619385,5.107887268066406,-4.424614906311035],\"yaxis\":\"y\",\"type\":\"scatter\"},{\"customdata\":[[\"Hiraasat is an action film,.........\",\"action, crime, drama\"]],\"hovertemplate\":\"label=%{customdata[1]}\\u003cbr\\u003ex-tsne=%{x}\\u003cbr\\u003ey-tsne=%{y}\\u003cbr\\u003etext=%{customdata[0]}\\u003cextra\\u003e\\u003c\\u002fextra\\u003e\",\"legendgroup\":\"action, crime, drama\",\"marker\":{\"color\":\"#B6E880\",\"symbol\":\"circle\"},\"mode\":\"markers\",\"name\":\"action, crime, drama\",\"orientation\":\"v\",\"showlegend\":true,\"x\":[-5.22819709777832],\"xaxis\":\"x\",\"y\":[11.277674674987793],\"yaxis\":\"y\",\"type\":\"scatter\"},{\"customdata\":[[\"Tulsi tells the story of.........\",\" \"]],\"hovertemplate\":\"label=%{customdata[1]}\\u003cbr\\u003ex-tsne=%{x}\\u003cbr\\u003ey-tsne=%{y}\\u003cbr\\u003etext=%{customdata[0]}\\u003cextra\\u003e\\u003c\\u002fextra\\u003e\",\"legendgroup\":\" \",\"marker\":{\"color\":\"#FF97FF\",\"symbol\":\"circle\"},\"mode\":\"markers\",\"name\":\" \",\"orientation\":\"v\",\"showlegend\":true,\"x\":[6.804184436798096],\"xaxis\":\"x\",\"y\":[-13.22187614440918],\"yaxis\":\"y\",\"type\":\"scatter\"},{\"customdata\":[[\"Karthi (Mahesh) is a college.........\",\"romantic thriller\"]],\"hovertemplate\":\"label=%{customdata[1]}\\u003cbr\\u003ex-tsne=%{x}\\u003cbr\\u003ey-tsne=%{y}\\u003cbr\\u003etext=%{customdata[0]}\\u003cextra\\u003e\\u003c\\u002fextra\\u003e\",\"legendgroup\":\"romantic thriller\",\"marker\":{\"color\":\"#FECB52\",\"symbol\":\"circle\"},\"mode\":\"markers\",\"name\":\"romantic thriller\",\"orientation\":\"v\",\"showlegend\":true,\"x\":[-2.503451108932495],\"xaxis\":\"x\",\"y\":[6.8391313552856445],\"yaxis\":\"y\",\"type\":\"scatter\"},{\"customdata\":[[\"The story revolves around an.........\",\"drama, thriller\"]],\"hovertemplate\":\"label=%{customdata[1]}\\u003cbr\\u003ex-tsne=%{x}\\u003cbr\\u003ey-tsne=%{y}\\u003cbr\\u003etext=%{customdata[0]}\\u003cextra\\u003e\\u003c\\u002fextra\\u003e\",\"legendgroup\":\"drama, thriller\",\"marker\":{\"color\":\"#636efa\",\"symbol\":\"circle\"},\"mode\":\"markers\",\"name\":\"drama, thriller\",\"orientation\":\"v\",\"showlegend\":true,\"x\":[18.912189483642578],\"xaxis\":\"x\",\"y\":[1.355072259902954],\"yaxis\":\"y\",\"type\":\"scatter\"},{\"customdata\":[[\"A bullied teen chef wants.........\",\"comedy-drama\"]],\"hovertemplate\":\"label=%{customdata[1]}\\u003cbr\\u003ex-tsne=%{x}\\u003cbr\\u003ey-tsne=%{y}\\u003cbr\\u003etext=%{customdata[0]}\\u003cextra\\u003e\\u003c\\u002fextra\\u003e\",\"legendgroup\":\"comedy-drama\",\"marker\":{\"color\":\"#EF553B\",\"symbol\":\"circle\"},\"mode\":\"markers\",\"name\":\"comedy-drama\",\"orientation\":\"v\",\"showlegend\":true,\"x\":[3.749079704284668],\"xaxis\":\"x\",\"y\":[0.8564918041229248],\"yaxis\":\"y\",\"type\":\"scatter\"},{\"customdata\":[[\"A rivalry develops between veteran.........\",\"war\"]],\"hovertemplate\":\"label=%{customdata[1]}\\u003cbr\\u003ex-tsne=%{x}\\u003cbr\\u003ey-tsne=%{y}\\u003cbr\\u003etext=%{customdata[0]}\\u003cextra\\u003e\\u003c\\u002fextra\\u003e\",\"legendgroup\":\"war\",\"marker\":{\"color\":\"#00cc96\",\"symbol\":\"circle\"},\"mode\":\"markers\",\"name\":\"war\",\"orientation\":\"v\",\"showlegend\":true,\"x\":[2.373734951019287],\"xaxis\":\"x\",\"y\":[13.524895668029785],\"yaxis\":\"y\",\"type\":\"scatter\"},{\"customdata\":[[\"In the autumn of 1950,.........\",\"drama \\u002f history \\u002f western\"]],\"hovertemplate\":\"label=%{customdata[1]}\\u003cbr\\u003ex-tsne=%{x}\\u003cbr\\u003ey-tsne=%{y}\\u003cbr\\u003etext=%{customdata[0]}\\u003cextra\\u003e\\u003c\\u002fextra\\u003e\",\"legendgroup\":\"drama \\u002f history \\u002f western\",\"marker\":{\"color\":\"#ab63fa\",\"symbol\":\"circle\"},\"mode\":\"markers\",\"name\":\"drama \\u002f history \\u002f western\",\"orientation\":\"v\",\"showlegend\":true,\"x\":[7.957415580749512],\"xaxis\":\"x\",\"y\":[14.699944496154785],\"yaxis\":\"y\",\"type\":\"scatter\"},{\"customdata\":[[\"In a small town, mentally.........\",\"dramedy\"],[\"Newly transferred college student Lily.........\",\"dramedy\"]],\"hovertemplate\":\"label=%{customdata[1]}\\u003cbr\\u003ex-tsne=%{x}\\u003cbr\\u003ey-tsne=%{y}\\u003cbr\\u003etext=%{customdata[0]}\\u003cextra\\u003e\\u003c\\u002fextra\\u003e\",\"legendgroup\":\"dramedy\",\"marker\":{\"color\":\"#FFA15A\",\"symbol\":\"circle\"},\"mode\":\"markers\",\"name\":\"dramedy\",\"orientation\":\"v\",\"showlegend\":true,\"x\":[0.9115869402885437,-4.006363868713379],\"xaxis\":\"x\",\"y\":[-9.809185981750488,7.070435523986816],\"yaxis\":\"y\",\"type\":\"scatter\"},{\"customdata\":[[\"The story of a 10th.........\",\"rom com\"]],\"hovertemplate\":\"label=%{customdata[1]}\\u003cbr\\u003ex-tsne=%{x}\\u003cbr\\u003ey-tsne=%{y}\\u003cbr\\u003etext=%{customdata[0]}\\u003cextra\\u003e\\u003c\\u002fextra\\u003e\",\"legendgroup\":\"rom com\",\"marker\":{\"color\":\"#19d3f3\",\"symbol\":\"circle\"},\"mode\":\"markers\",\"name\":\"rom com\",\"orientation\":\"v\",\"showlegend\":true,\"x\":[-12.845486640930176],\"xaxis\":\"x\",\"y\":[-13.000910758972168],\"yaxis\":\"y\",\"type\":\"scatter\"},{\"customdata\":[[\"The plot of the film.........\",\"nature\"]],\"hovertemplate\":\"label=%{customdata[1]}\\u003cbr\\u003ex-tsne=%{x}\\u003cbr\\u003ey-tsne=%{y}\\u003cbr\\u003etext=%{customdata[0]}\\u003cextra\\u003e\\u003c\\u002fextra\\u003e\",\"legendgroup\":\"nature\",\"marker\":{\"color\":\"#FF6692\",\"symbol\":\"circle\"},\"mode\":\"markers\",\"name\":\"nature\",\"orientation\":\"v\",\"showlegend\":true,\"x\":[6.2175612449646],\"xaxis\":\"x\",\"y\":[-9.507411003112793],\"yaxis\":\"y\",\"type\":\"scatter\"},{\"customdata\":[[\"The film is a historical.........\",\"historical\"]],\"hovertemplate\":\"label=%{customdata[1]}\\u003cbr\\u003ex-tsne=%{x}\\u003cbr\\u003ey-tsne=%{y}\\u003cbr\\u003etext=%{customdata[0]}\\u003cextra\\u003e\\u003c\\u002fextra\\u003e\",\"legendgroup\":\"historical\",\"marker\":{\"color\":\"#B6E880\",\"symbol\":\"circle\"},\"mode\":\"markers\",\"name\":\"historical\",\"orientation\":\"v\",\"showlegend\":true,\"x\":[-0.20115096867084503],\"xaxis\":\"x\",\"y\":[7.737030982971191],\"yaxis\":\"y\",\"type\":\"scatter\"},{\"customdata\":[[\"The film is about an.........\",\"short black comedy\"]],\"hovertemplate\":\"label=%{customdata[1]}\\u003cbr\\u003ex-tsne=%{x}\\u003cbr\\u003ey-tsne=%{y}\\u003cbr\\u003etext=%{customdata[0]}\\u003cextra\\u003e\\u003c\\u002fextra\\u003e\",\"legendgroup\":\"short black comedy\",\"marker\":{\"color\":\"#FF97FF\",\"symbol\":\"circle\"},\"mode\":\"markers\",\"name\":\"short black comedy\",\"orientation\":\"v\",\"showlegend\":true,\"x\":[-4.290935516357422],\"xaxis\":\"x\",\"y\":[5.156071186065674],\"yaxis\":\"y\",\"type\":\"scatter\"},{\"customdata\":[[\"Agimat (Bong Revilla, Jr.) is.........\",\"fantasy, comedy, adventure\"]],\"hovertemplate\":\"label=%{customdata[1]}\\u003cbr\\u003ex-tsne=%{x}\\u003cbr\\u003ey-tsne=%{y}\\u003cbr\\u003etext=%{customdata[0]}\\u003cextra\\u003e\\u003c\\u002fextra\\u003e\",\"legendgroup\":\"fantasy, comedy, adventure\",\"marker\":{\"color\":\"#FECB52\",\"symbol\":\"circle\"},\"mode\":\"markers\",\"name\":\"fantasy, comedy, adventure\",\"orientation\":\"v\",\"showlegend\":true,\"x\":[-6.988360404968262],\"xaxis\":\"x\",\"y\":[-18.507055282592773],\"yaxis\":\"y\",\"type\":\"scatter\"},{\"customdata\":[[\"The film is set in.........\",\"biblical\"]],\"hovertemplate\":\"label=%{customdata[1]}\\u003cbr\\u003ex-tsne=%{x}\\u003cbr\\u003ey-tsne=%{y}\\u003cbr\\u003etext=%{customdata[0]}\\u003cextra\\u003e\\u003c\\u002fextra\\u003e\",\"legendgroup\":\"biblical\",\"marker\":{\"color\":\"#636efa\",\"symbol\":\"circle\"},\"mode\":\"markers\",\"name\":\"biblical\",\"orientation\":\"v\",\"showlegend\":true,\"x\":[0.9628674387931824],\"xaxis\":\"x\",\"y\":[-20.244714736938477],\"yaxis\":\"y\",\"type\":\"scatter\"},{\"customdata\":[[\"Hans a young German journalist.........\",\"sex comedy\"]],\"hovertemplate\":\"label=%{customdata[1]}\\u003cbr\\u003ex-tsne=%{x}\\u003cbr\\u003ey-tsne=%{y}\\u003cbr\\u003etext=%{customdata[0]}\\u003cextra\\u003e\\u003c\\u002fextra\\u003e\",\"legendgroup\":\"sex comedy\",\"marker\":{\"color\":\"#EF553B\",\"symbol\":\"circle\"},\"mode\":\"markers\",\"name\":\"sex comedy\",\"orientation\":\"v\",\"showlegend\":true,\"x\":[-10.20840835571289],\"xaxis\":\"x\",\"y\":[10.280892372131348],\"yaxis\":\"y\",\"type\":\"scatter\"},{\"customdata\":[[\"Hajj, a rascally beggar on.........\",\"costume drama\"]],\"hovertemplate\":\"label=%{customdata[1]}\\u003cbr\\u003ex-tsne=%{x}\\u003cbr\\u003ey-tsne=%{y}\\u003cbr\\u003etext=%{customdata[0]}\\u003cextra\\u003e\\u003c\\u002fextra\\u003e\",\"legendgroup\":\"costume drama\",\"marker\":{\"color\":\"#00cc96\",\"symbol\":\"circle\"},\"mode\":\"markers\",\"name\":\"costume drama\",\"orientation\":\"v\",\"showlegend\":true,\"x\":[-16.914501190185547],\"xaxis\":\"x\",\"y\":[-9.712539672851562],\"yaxis\":\"y\",\"type\":\"scatter\"},{\"customdata\":[[\"After her mother was killed.........\",\"action \\u002f comedy\"]],\"hovertemplate\":\"label=%{customdata[1]}\\u003cbr\\u003ex-tsne=%{x}\\u003cbr\\u003ey-tsne=%{y}\\u003cbr\\u003etext=%{customdata[0]}\\u003cextra\\u003e\\u003c\\u002fextra\\u003e\",\"legendgroup\":\"action \\u002f comedy\",\"marker\":{\"color\":\"#ab63fa\",\"symbol\":\"circle\"},\"mode\":\"markers\",\"name\":\"action \\u002f comedy\",\"orientation\":\"v\",\"showlegend\":true,\"x\":[-2.7753872871398926],\"xaxis\":\"x\",\"y\":[-4.324512958526611],\"yaxis\":\"y\",\"type\":\"scatter\"},{\"customdata\":[[\"Raised by his Uncle Wu.........\",\"fantasy \\u002f adventure\"]],\"hovertemplate\":\"label=%{customdata[1]}\\u003cbr\\u003ex-tsne=%{x}\\u003cbr\\u003ey-tsne=%{y}\\u003cbr\\u003etext=%{customdata[0]}\\u003cextra\\u003e\\u003c\\u002fextra\\u003e\",\"legendgroup\":\"fantasy \\u002f adventure\",\"marker\":{\"color\":\"#FFA15A\",\"symbol\":\"circle\"},\"mode\":\"markers\",\"name\":\"fantasy \\u002f adventure\",\"orientation\":\"v\",\"showlegend\":true,\"x\":[8.021702766418457],\"xaxis\":\"x\",\"y\":[5.757569313049316],\"yaxis\":\"y\",\"type\":\"scatter\"},{\"customdata\":[[\"A girl is about to.........\",\"adventure, serial\"]],\"hovertemplate\":\"label=%{customdata[1]}\\u003cbr\\u003ex-tsne=%{x}\\u003cbr\\u003ey-tsne=%{y}\\u003cbr\\u003etext=%{customdata[0]}\\u003cextra\\u003e\\u003c\\u002fextra\\u003e\",\"legendgroup\":\"adventure, serial\",\"marker\":{\"color\":\"#19d3f3\",\"symbol\":\"circle\"},\"mode\":\"markers\",\"name\":\"adventure, serial\",\"orientation\":\"v\",\"showlegend\":true,\"x\":[7.300766944885254],\"xaxis\":\"x\",\"y\":[7.777958869934082],\"yaxis\":\"y\",\"type\":\"scatter\"},{\"customdata\":[[\"Crash Landing follows the tense.........\",\"action\\u002fthriller\"]],\"hovertemplate\":\"label=%{customdata[1]}\\u003cbr\\u003ex-tsne=%{x}\\u003cbr\\u003ey-tsne=%{y}\\u003cbr\\u003etext=%{customdata[0]}\\u003cextra\\u003e\\u003c\\u002fextra\\u003e\",\"legendgroup\":\"action\\u002fthriller\",\"marker\":{\"color\":\"#FF6692\",\"symbol\":\"circle\"},\"mode\":\"markers\",\"name\":\"action\\u002fthriller\",\"orientation\":\"v\",\"showlegend\":true,\"x\":[-19.031709671020508],\"xaxis\":\"x\",\"y\":[8.458883285522461],\"yaxis\":\"y\",\"type\":\"scatter\"},{\"customdata\":[[\"Anand is a major in.........\",\"action\"],[\"Sachin Joshi is a Kabaddi.........\",\"action\"],[\"Political journalist Jayadev (Meka Srikanth).........\",\"action\"]],\"hovertemplate\":\"label=%{customdata[1]}\\u003cbr\\u003ex-tsne=%{x}\\u003cbr\\u003ey-tsne=%{y}\\u003cbr\\u003etext=%{customdata[0]}\\u003cextra\\u003e\\u003c\\u002fextra\\u003e\",\"legendgroup\":\"action\",\"marker\":{\"color\":\"#B6E880\",\"symbol\":\"circle\"},\"mode\":\"markers\",\"name\":\"action\",\"orientation\":\"v\",\"showlegend\":true,\"x\":[-2.851646661758423,18.10894775390625,-21.40406608581543],\"xaxis\":\"x\",\"y\":[2.383044719696045,0.02597973495721817,-2.616983413696289],\"yaxis\":\"y\",\"type\":\"scatter\"},{\"customdata\":[[\"A lonely old man who.........\",\"literary drama\"]],\"hovertemplate\":\"label=%{customdata[1]}\\u003cbr\\u003ex-tsne=%{x}\\u003cbr\\u003ey-tsne=%{y}\\u003cbr\\u003etext=%{customdata[0]}\\u003cextra\\u003e\\u003c\\u002fextra\\u003e\",\"legendgroup\":\"literary drama\",\"marker\":{\"color\":\"#FF97FF\",\"symbol\":\"circle\"},\"mode\":\"markers\",\"name\":\"literary drama\",\"orientation\":\"v\",\"showlegend\":true,\"x\":[-5.1707916259765625],\"xaxis\":\"x\",\"y\":[-7.915300369262695],\"yaxis\":\"y\",\"type\":\"scatter\"},{\"customdata\":[[\"Big Fella is set on.........\",\"musical\\u002fdrama\"]],\"hovertemplate\":\"label=%{customdata[1]}\\u003cbr\\u003ex-tsne=%{x}\\u003cbr\\u003ey-tsne=%{y}\\u003cbr\\u003etext=%{customdata[0]}\\u003cextra\\u003e\\u003c\\u002fextra\\u003e\",\"legendgroup\":\"musical\\u002fdrama\",\"marker\":{\"color\":\"#FECB52\",\"symbol\":\"circle\"},\"mode\":\"markers\",\"name\":\"musical\\u002fdrama\",\"orientation\":\"v\",\"showlegend\":true,\"x\":[-13.991294860839844],\"xaxis\":\"x\",\"y\":[11.588761329650879],\"yaxis\":\"y\",\"type\":\"scatter\"},{\"customdata\":[[\"In the year 1999, the.........\",\"tokusatsu\"]],\"hovertemplate\":\"label=%{customdata[1]}\\u003cbr\\u003ex-tsne=%{x}\\u003cbr\\u003ey-tsne=%{y}\\u003cbr\\u003etext=%{customdata[0]}\\u003cextra\\u003e\\u003c\\u002fextra\\u003e\",\"legendgroup\":\"tokusatsu\",\"marker\":{\"color\":\"#636efa\",\"symbol\":\"circle\"},\"mode\":\"markers\",\"name\":\"tokusatsu\",\"orientation\":\"v\",\"showlegend\":true,\"x\":[-5.859924793243408],\"xaxis\":\"x\",\"y\":[-21.520984649658203],\"yaxis\":\"y\",\"type\":\"scatter\"},{\"customdata\":[[\"The story of the film,.........\",\"crime\\u002fthriller\"]],\"hovertemplate\":\"label=%{customdata[1]}\\u003cbr\\u003ex-tsne=%{x}\\u003cbr\\u003ey-tsne=%{y}\\u003cbr\\u003etext=%{customdata[0]}\\u003cextra\\u003e\\u003c\\u002fextra\\u003e\",\"legendgroup\":\"crime\\u002fthriller\",\"marker\":{\"color\":\"#EF553B\",\"symbol\":\"circle\"},\"mode\":\"markers\",\"name\":\"crime\\u002fthriller\",\"orientation\":\"v\",\"showlegend\":true,\"x\":[-7.958926677703857],\"xaxis\":\"x\",\"y\":[8.165258407592773],\"yaxis\":\"y\",\"type\":\"scatter\"},{\"customdata\":[[\"Kiira seems like an ordinary.........\",\"vampire film\"]],\"hovertemplate\":\"label=%{customdata[1]}\\u003cbr\\u003ex-tsne=%{x}\\u003cbr\\u003ey-tsne=%{y}\\u003cbr\\u003etext=%{customdata[0]}\\u003cextra\\u003e\\u003c\\u002fextra\\u003e\",\"legendgroup\":\"vampire film\",\"marker\":{\"color\":\"#00cc96\",\"symbol\":\"circle\"},\"mode\":\"markers\",\"name\":\"vampire film\",\"orientation\":\"v\",\"showlegend\":true,\"x\":[-6.705361366271973],\"xaxis\":\"x\",\"y\":[-7.7350993156433105],\"yaxis\":\"y\",\"type\":\"scatter\"},{\"customdata\":[[\"With the human exploitation of.........\",\"comedy \\u002f animation \\u002f family \\u002f adventure\"]],\"hovertemplate\":\"label=%{customdata[1]}\\u003cbr\\u003ex-tsne=%{x}\\u003cbr\\u003ey-tsne=%{y}\\u003cbr\\u003etext=%{customdata[0]}\\u003cextra\\u003e\\u003c\\u002fextra\\u003e\",\"legendgroup\":\"comedy \\u002f animation \\u002f family \\u002f adventure\",\"marker\":{\"color\":\"#ab63fa\",\"symbol\":\"circle\"},\"mode\":\"markers\",\"name\":\"comedy \\u002f animation \\u002f family \\u002f adventure\",\"orientation\":\"v\",\"showlegend\":true,\"x\":[-14.742088317871094],\"xaxis\":\"x\",\"y\":[10.705172538757324],\"yaxis\":\"y\",\"type\":\"scatter\"},{\"customdata\":[[\"New York City law professor.........\",\"drama, crime\"]],\"hovertemplate\":\"label=%{customdata[1]}\\u003cbr\\u003ex-tsne=%{x}\\u003cbr\\u003ey-tsne=%{y}\\u003cbr\\u003etext=%{customdata[0]}\\u003cextra\\u003e\\u003c\\u002fextra\\u003e\",\"legendgroup\":\"drama, crime\",\"marker\":{\"color\":\"#FFA15A\",\"symbol\":\"circle\"},\"mode\":\"markers\",\"name\":\"drama, crime\",\"orientation\":\"v\",\"showlegend\":true,\"x\":[-0.49422013759613037],\"xaxis\":\"x\",\"y\":[1.5303689241409302],\"yaxis\":\"y\",\"type\":\"scatter\"}],                        {\"template\":{\"data\":{\"histogram2dcontour\":[{\"type\":\"histogram2dcontour\",\"colorbar\":{\"outlinewidth\":0,\"ticks\":\"\"},\"colorscale\":[[0.0,\"#0d0887\"],[0.1111111111111111,\"#46039f\"],[0.2222222222222222,\"#7201a8\"],[0.3333333333333333,\"#9c179e\"],[0.4444444444444444,\"#bd3786\"],[0.5555555555555556,\"#d8576b\"],[0.6666666666666666,\"#ed7953\"],[0.7777777777777778,\"#fb9f3a\"],[0.8888888888888888,\"#fdca26\"],[1.0,\"#f0f921\"]]}],\"choropleth\":[{\"type\":\"choropleth\",\"colorbar\":{\"outlinewidth\":0,\"ticks\":\"\"}}],\"histogram2d\":[{\"type\":\"histogram2d\",\"colorbar\":{\"outlinewidth\":0,\"ticks\":\"\"},\"colorscale\":[[0.0,\"#0d0887\"],[0.1111111111111111,\"#46039f\"],[0.2222222222222222,\"#7201a8\"],[0.3333333333333333,\"#9c179e\"],[0.4444444444444444,\"#bd3786\"],[0.5555555555555556,\"#d8576b\"],[0.6666666666666666,\"#ed7953\"],[0.7777777777777778,\"#fb9f3a\"],[0.8888888888888888,\"#fdca26\"],[1.0,\"#f0f921\"]]}],\"heatmap\":[{\"type\":\"heatmap\",\"colorbar\":{\"outlinewidth\":0,\"ticks\":\"\"},\"colorscale\":[[0.0,\"#0d0887\"],[0.1111111111111111,\"#46039f\"],[0.2222222222222222,\"#7201a8\"],[0.3333333333333333,\"#9c179e\"],[0.4444444444444444,\"#bd3786\"],[0.5555555555555556,\"#d8576b\"],[0.6666666666666666,\"#ed7953\"],[0.7777777777777778,\"#fb9f3a\"],[0.8888888888888888,\"#fdca26\"],[1.0,\"#f0f921\"]]}],\"heatmapgl\":[{\"type\":\"heatmapgl\",\"colorbar\":{\"outlinewidth\":0,\"ticks\":\"\"},\"colorscale\":[[0.0,\"#0d0887\"],[0.1111111111111111,\"#46039f\"],[0.2222222222222222,\"#7201a8\"],[0.3333333333333333,\"#9c179e\"],[0.4444444444444444,\"#bd3786\"],[0.5555555555555556,\"#d8576b\"],[0.6666666666666666,\"#ed7953\"],[0.7777777777777778,\"#fb9f3a\"],[0.8888888888888888,\"#fdca26\"],[1.0,\"#f0f921\"]]}],\"contourcarpet\":[{\"type\":\"contourcarpet\",\"colorbar\":{\"outlinewidth\":0,\"ticks\":\"\"}}],\"contour\":[{\"type\":\"contour\",\"colorbar\":{\"outlinewidth\":0,\"ticks\":\"\"},\"colorscale\":[[0.0,\"#0d0887\"],[0.1111111111111111,\"#46039f\"],[0.2222222222222222,\"#7201a8\"],[0.3333333333333333,\"#9c179e\"],[0.4444444444444444,\"#bd3786\"],[0.5555555555555556,\"#d8576b\"],[0.6666666666666666,\"#ed7953\"],[0.7777777777777778,\"#fb9f3a\"],[0.8888888888888888,\"#fdca26\"],[1.0,\"#f0f921\"]]}],\"surface\":[{\"type\":\"surface\",\"colorbar\":{\"outlinewidth\":0,\"ticks\":\"\"},\"colorscale\":[[0.0,\"#0d0887\"],[0.1111111111111111,\"#46039f\"],[0.2222222222222222,\"#7201a8\"],[0.3333333333333333,\"#9c179e\"],[0.4444444444444444,\"#bd3786\"],[0.5555555555555556,\"#d8576b\"],[0.6666666666666666,\"#ed7953\"],[0.7777777777777778,\"#fb9f3a\"],[0.8888888888888888,\"#fdca26\"],[1.0,\"#f0f921\"]]}],\"mesh3d\":[{\"type\":\"mesh3d\",\"colorbar\":{\"outlinewidth\":0,\"ticks\":\"\"}}],\"scatter\":[{\"fillpattern\":{\"fillmode\":\"overlay\",\"size\":10,\"solidity\":0.2},\"type\":\"scatter\"}],\"parcoords\":[{\"type\":\"parcoords\",\"line\":{\"colorbar\":{\"outlinewidth\":0,\"ticks\":\"\"}}}],\"scatterpolargl\":[{\"type\":\"scatterpolargl\",\"marker\":{\"colorbar\":{\"outlinewidth\":0,\"ticks\":\"\"}}}],\"bar\":[{\"error_x\":{\"color\":\"#2a3f5f\"},\"error_y\":{\"color\":\"#2a3f5f\"},\"marker\":{\"line\":{\"color\":\"#E5ECF6\",\"width\":0.5},\"pattern\":{\"fillmode\":\"overlay\",\"size\":10,\"solidity\":0.2}},\"type\":\"bar\"}],\"scattergeo\":[{\"type\":\"scattergeo\",\"marker\":{\"colorbar\":{\"outlinewidth\":0,\"ticks\":\"\"}}}],\"scatterpolar\":[{\"type\":\"scatterpolar\",\"marker\":{\"colorbar\":{\"outlinewidth\":0,\"ticks\":\"\"}}}],\"histogram\":[{\"marker\":{\"pattern\":{\"fillmode\":\"overlay\",\"size\":10,\"solidity\":0.2}},\"type\":\"histogram\"}],\"scattergl\":[{\"type\":\"scattergl\",\"marker\":{\"colorbar\":{\"outlinewidth\":0,\"ticks\":\"\"}}}],\"scatter3d\":[{\"type\":\"scatter3d\",\"line\":{\"colorbar\":{\"outlinewidth\":0,\"ticks\":\"\"}},\"marker\":{\"colorbar\":{\"outlinewidth\":0,\"ticks\":\"\"}}}],\"scattermapbox\":[{\"type\":\"scattermapbox\",\"marker\":{\"colorbar\":{\"outlinewidth\":0,\"ticks\":\"\"}}}],\"scatterternary\":[{\"type\":\"scatterternary\",\"marker\":{\"colorbar\":{\"outlinewidth\":0,\"ticks\":\"\"}}}],\"scattercarpet\":[{\"type\":\"scattercarpet\",\"marker\":{\"colorbar\":{\"outlinewidth\":0,\"ticks\":\"\"}}}],\"carpet\":[{\"aaxis\":{\"endlinecolor\":\"#2a3f5f\",\"gridcolor\":\"white\",\"linecolor\":\"white\",\"minorgridcolor\":\"white\",\"startlinecolor\":\"#2a3f5f\"},\"baxis\":{\"endlinecolor\":\"#2a3f5f\",\"gridcolor\":\"white\",\"linecolor\":\"white\",\"minorgridcolor\":\"white\",\"startlinecolor\":\"#2a3f5f\"},\"type\":\"carpet\"}],\"table\":[{\"cells\":{\"fill\":{\"color\":\"#EBF0F8\"},\"line\":{\"color\":\"white\"}},\"header\":{\"fill\":{\"color\":\"#C8D4E3\"},\"line\":{\"color\":\"white\"}},\"type\":\"table\"}],\"barpolar\":[{\"marker\":{\"line\":{\"color\":\"#E5ECF6\",\"width\":0.5},\"pattern\":{\"fillmode\":\"overlay\",\"size\":10,\"solidity\":0.2}},\"type\":\"barpolar\"}],\"pie\":[{\"automargin\":true,\"type\":\"pie\"}]},\"layout\":{\"autotypenumbers\":\"strict\",\"colorway\":[\"#636efa\",\"#EF553B\",\"#00cc96\",\"#ab63fa\",\"#FFA15A\",\"#19d3f3\",\"#FF6692\",\"#B6E880\",\"#FF97FF\",\"#FECB52\"],\"font\":{\"color\":\"#2a3f5f\"},\"hovermode\":\"closest\",\"hoverlabel\":{\"align\":\"left\"},\"paper_bgcolor\":\"white\",\"plot_bgcolor\":\"#E5ECF6\",\"polar\":{\"bgcolor\":\"#E5ECF6\",\"angularaxis\":{\"gridcolor\":\"white\",\"linecolor\":\"white\",\"ticks\":\"\"},\"radialaxis\":{\"gridcolor\":\"white\",\"linecolor\":\"white\",\"ticks\":\"\"}},\"ternary\":{\"bgcolor\":\"#E5ECF6\",\"aaxis\":{\"gridcolor\":\"white\",\"linecolor\":\"white\",\"ticks\":\"\"},\"baxis\":{\"gridcolor\":\"white\",\"linecolor\":\"white\",\"ticks\":\"\"},\"caxis\":{\"gridcolor\":\"white\",\"linecolor\":\"white\",\"ticks\":\"\"}},\"coloraxis\":{\"colorbar\":{\"outlinewidth\":0,\"ticks\":\"\"}},\"colorscale\":{\"sequential\":[[0.0,\"#0d0887\"],[0.1111111111111111,\"#46039f\"],[0.2222222222222222,\"#7201a8\"],[0.3333333333333333,\"#9c179e\"],[0.4444444444444444,\"#bd3786\"],[0.5555555555555556,\"#d8576b\"],[0.6666666666666666,\"#ed7953\"],[0.7777777777777778,\"#fb9f3a\"],[0.8888888888888888,\"#fdca26\"],[1.0,\"#f0f921\"]],\"sequentialminus\":[[0.0,\"#0d0887\"],[0.1111111111111111,\"#46039f\"],[0.2222222222222222,\"#7201a8\"],[0.3333333333333333,\"#9c179e\"],[0.4444444444444444,\"#bd3786\"],[0.5555555555555556,\"#d8576b\"],[0.6666666666666666,\"#ed7953\"],[0.7777777777777778,\"#fb9f3a\"],[0.8888888888888888,\"#fdca26\"],[1.0,\"#f0f921\"]],\"diverging\":[[0,\"#8e0152\"],[0.1,\"#c51b7d\"],[0.2,\"#de77ae\"],[0.3,\"#f1b6da\"],[0.4,\"#fde0ef\"],[0.5,\"#f7f7f7\"],[0.6,\"#e6f5d0\"],[0.7,\"#b8e186\"],[0.8,\"#7fbc41\"],[0.9,\"#4d9221\"],[1,\"#276419\"]]},\"xaxis\":{\"gridcolor\":\"white\",\"linecolor\":\"white\",\"ticks\":\"\",\"title\":{\"standoff\":15},\"zerolinecolor\":\"white\",\"automargin\":true,\"zerolinewidth\":2},\"yaxis\":{\"gridcolor\":\"white\",\"linecolor\":\"white\",\"ticks\":\"\",\"title\":{\"standoff\":15},\"zerolinecolor\":\"white\",\"automargin\":true,\"zerolinewidth\":2},\"scene\":{\"xaxis\":{\"backgroundcolor\":\"#E5ECF6\",\"gridcolor\":\"white\",\"linecolor\":\"white\",\"showbackground\":true,\"ticks\":\"\",\"zerolinecolor\":\"white\",\"gridwidth\":2},\"yaxis\":{\"backgroundcolor\":\"#E5ECF6\",\"gridcolor\":\"white\",\"linecolor\":\"white\",\"showbackground\":true,\"ticks\":\"\",\"zerolinecolor\":\"white\",\"gridwidth\":2},\"zaxis\":{\"backgroundcolor\":\"#E5ECF6\",\"gridcolor\":\"white\",\"linecolor\":\"white\",\"showbackground\":true,\"ticks\":\"\",\"zerolinecolor\":\"white\",\"gridwidth\":2}},\"shapedefaults\":{\"line\":{\"color\":\"#2a3f5f\"}},\"annotationdefaults\":{\"arrowcolor\":\"#2a3f5f\",\"arrowhead\":0,\"arrowwidth\":1},\"geo\":{\"bgcolor\":\"white\",\"landcolor\":\"#E5ECF6\",\"subunitcolor\":\"white\",\"showland\":true,\"showlakes\":true,\"lakecolor\":\"white\"},\"title\":{\"x\":0.05},\"mapbox\":{\"style\":\"light\"}}},\"xaxis\":{\"anchor\":\"y\",\"domain\":[0.0,1.0],\"title\":{\"text\":\"x-tsne\"}},\"yaxis\":{\"anchor\":\"x\",\"domain\":[0.0,1.0],\"title\":{\"text\":\"y-tsne\"}},\"legend\":{\"title\":{\"text\":\"label\"},\"tracegroupgap\":0},\"title\":{\"text\":\"Sentences t-SNE Visualization with TF-IDF Embeddings\"},\"height\":1200,\"width\":1200},                        {\"responsive\": true}                    ).then(function(){\n",
       "                            \n",
       "var gd = document.getElementById('122f6a51-152b-4c48-b814-b3b0ae07b02e');\n",
       "var x = new MutationObserver(function (mutations, observer) {{\n",
       "        var display = window.getComputedStyle(gd).display;\n",
       "        if (!display || display === 'none') {{\n",
       "            console.log([gd, 'removed!']);\n",
       "            Plotly.purge(gd);\n",
       "            observer.disconnect();\n",
       "        }}\n",
       "}});\n",
       "\n",
       "// Listen for the removal of the full notebook cells\n",
       "var notebookContainer = gd.closest('#notebook-container');\n",
       "if (notebookContainer) {{\n",
       "    x.observe(notebookContainer, {childList: true});\n",
       "}}\n",
       "\n",
       "// Listen for the clearing of the current output cell\n",
       "var outputEl = gd.closest('.output');\n",
       "if (outputEl) {{\n",
       "    x.observe(outputEl, {childList: true});\n",
       "}}\n",
       "\n",
       "                        })                };                });            </script>        </div>"
      ]
     },
     "metadata": {},
     "output_type": "display_data"
    }
   ],
   "source": [
    "tsne = TSNE(n_components=2, random_state=42, perplexity=30, max_iter=1000)\n",
    "X_tsne = tsne.fit_transform(tfidf_emb_arr)\n",
    "\n",
    "tfidf_df['text'] = tfidf_df['text'].apply(lambda x: \" \".join(x.split()[:5]) + \"...\")\n",
    "\n",
    "# Add t-SNE results to the DataFrame\n",
    "tfidf_df[\"x-tsne\"] = X_tsne[:, 0]\n",
    "tfidf_df[\"y-tsne\"] = X_tsne[:, 1]\n",
    "\n",
    "# Create interactive scatter plot\n",
    "fig_tfidf = px.scatter(\n",
    "    tfidf_df,\n",
    "    x=\"x-tsne\",\n",
    "    y=\"y-tsne\",\n",
    "    color=\"label\",\n",
    "    hover_data={\"text\": True, \"label\": True},\n",
    "    title=\"Sentences t-SNE Visualization with TF-IDF Embeddings\",\n",
    "    width=1200,\n",
    "    height=1200,\n",
    ")\n",
    "# Show plot\n",
    "\n",
    "fig_tfidf.show()"
   ]
  },
  {
   "cell_type": "markdown",
   "metadata": {},
   "source": [
    "### HDBSCAN"
   ]
  },
  {
   "cell_type": "code",
   "execution_count": 42,
   "metadata": {},
   "outputs": [],
   "source": [
    "hdbscan = HDBSCAN(\n",
    "    min_cluster_size=5, metric=\"euclidean\", cluster_selection_method=\"eom\"\n",
    ")"
   ]
  },
  {
   "cell_type": "code",
   "execution_count": 43,
   "metadata": {},
   "outputs": [
    {
     "data": {
      "text/html": [
       "<div>\n",
       "<style scoped>\n",
       "    .dataframe tbody tr th:only-of-type {\n",
       "        vertical-align: middle;\n",
       "    }\n",
       "\n",
       "    .dataframe tbody tr th {\n",
       "        vertical-align: top;\n",
       "    }\n",
       "\n",
       "    .dataframe thead th {\n",
       "        text-align: right;\n",
       "    }\n",
       "</style>\n",
       "<table border=\"1\" class=\"dataframe\">\n",
       "  <thead>\n",
       "    <tr style=\"text-align: right;\">\n",
       "      <th></th>\n",
       "      <th>label</th>\n",
       "      <th>text</th>\n",
       "      <th>cleaned_text</th>\n",
       "      <th>ft_embeddings</th>\n",
       "      <th>x-tsne</th>\n",
       "      <th>y-tsne</th>\n",
       "      <th>cluster</th>\n",
       "    </tr>\n",
       "  </thead>\n",
       "  <tbody>\n",
       "    <tr>\n",
       "      <th>0</th>\n",
       "      <td>film noir</td>\n",
       "      <td>The film tells the story...</td>\n",
       "      <td>film tells story elizabeth colbert john welles...</td>\n",
       "      <td>[-0.0124314, 0.007053868, 0.0022771724, 0.0611...</td>\n",
       "      <td>-1.394166</td>\n",
       "      <td>1.630814</td>\n",
       "      <td>0</td>\n",
       "    </tr>\n",
       "  </tbody>\n",
       "</table>\n",
       "</div>"
      ],
      "text/plain": [
       "       label                         text  \\\n",
       "0  film noir  The film tells the story...   \n",
       "\n",
       "                                        cleaned_text  \\\n",
       "0  film tells story elizabeth colbert john welles...   \n",
       "\n",
       "                                       ft_embeddings    x-tsne    y-tsne  \\\n",
       "0  [-0.0124314, 0.007053868, 0.0022771724, 0.0611... -1.394166  1.630814   \n",
       "\n",
       "   cluster  \n",
       "0        0  "
      ]
     },
     "execution_count": 43,
     "metadata": {},
     "output_type": "execute_result"
    }
   ],
   "source": [
    "ft_df[\"cluster\"] = hdbscan.fit_predict(ft_embed_arr)\n",
    "ft_df.head(1)"
   ]
  },
  {
   "cell_type": "code",
   "execution_count": 49,
   "metadata": {},
   "outputs": [
    {
     "data": {
      "application/vnd.plotly.v1+json": {
       "config": {
        "plotlyServerURL": "https://plot.ly"
       },
       "data": [
        {
         "customdata": [
          [
           "The film tells the story...",
           "film noir",
           "0"
          ],
          [
           "Young sci-fi/fantasy enthusiast Gavin Gore...",
           "comedy",
           "0"
          ],
          [
           "Nikki Singh (Akshay Oberoi) is...",
           "neo-noir",
           "0"
          ],
          [
           "Scott (Ryan Phillippe) is a...",
           "romantic comedy",
           "0"
          ],
          [
           "Italian aristocrat Angela Chiaromonte (Helen...",
           "drama",
           "0"
          ],
          [
           "Struggling young actress Jenny (Marjorie...",
           "comedy",
           "0"
          ],
          [
           "Roanne Sanchez, a young girl...",
           "romance, drama",
           "0"
          ],
          [
           "Trust concerns the unusual romance...",
           "romantic comedy",
           "0"
          ],
          [
           "Dharma (Anandaraj) is an auto...",
           "unknown",
           "0"
          ],
          [
           "Jeff Hassard (Dean Jagger) and...",
           "western",
           "0"
          ],
          [
           "Charles Kessler (Bela Lugosi) is...",
           "horror",
           "0"
          ],
          [
           "United States Secret Service Lieutenant...",
           "crime",
           "0"
          ],
          [
           "Two college girls, Ducky and...",
           "comedy",
           "0"
          ],
          [
           "The film's slight storyline concerns...",
           "comedy",
           "0"
          ],
          [
           "A blind detective, Duncan Maclain,...",
           "mystery",
           "0"
          ],
          [
           "Big Bad Love shares its...",
           "drama",
           "0"
          ],
          [
           "Ten-year-old Bobby (Frankie Thomas) and...",
           "drama",
           "0"
          ],
          [
           "Agimat (Bong Revilla, Jr.) is...",
           "fantasy, comedy, adventure",
           "0"
          ],
          [
           "A prospective settler, pioneer Bob...",
           "western",
           "0"
          ],
          [
           "Chuck Wheeler is released from...",
           "drama",
           "0"
          ],
          [
           "Nick and Nora Charles are...",
           "mystery",
           "0"
          ],
          [
           "With five rival oil companies...",
           "crime drama",
           "0"
          ],
          [
           "Rosalind Dee (DeCarlo) is a...",
           "film noir",
           "0"
          ],
          [
           "Kaalia is an action flick...",
           "unknown",
           "0"
          ],
          [
           "Chad (Jimmie Rodgers) is a...",
           "drama",
           "0"
          ],
          [
           "Four friends go on a...",
           "drama",
           "0"
          ],
          [
           "Following a series of robberies...",
           "western",
           "0"
          ]
         ],
         "hovertemplate": "cluster=%{customdata[2]}<br>x-tsne=%{x}<br>y-tsne=%{y}<br>text=%{customdata[0]}<br>label=%{customdata[1]}<extra></extra>",
         "legendgroup": "0",
         "marker": {
          "color": "#636efa",
          "symbol": "circle"
         },
         "mode": "markers",
         "name": "0",
         "orientation": "v",
         "showlegend": true,
         "type": "scatter",
         "x": [
          -1.3941657543182373,
          -3.780596971511841,
          4.744901180267334,
          -0.38191813230514526,
          -3.9613921642303467,
          -3.698375701904297,
          3.185006856918335,
          3.050791025161743,
          2.87233304977417,
          -5.037930488586426,
          -4.787932872772217,
          -6.244478225708008,
          3.767111301422119,
          3.161158323287964,
          -5.454736709594727,
          2.391556739807129,
          -0.8873421549797058,
          -0.598549485206604,
          -1.435513973236084,
          -1.7500983476638794,
          -0.3984096646308899,
          0.2348371297121048,
          -5.328765392303467,
          3.7237987518310547,
          2.1471188068389893,
          -0.7612714767456055,
          -6.698410511016846
         ],
         "xaxis": "x",
         "y": [
          1.630813717842102,
          -2.219402551651001,
          7.285480499267578,
          1.9303817749023438,
          1.2541733980178833,
          -0.6032065153121948,
          -0.6567690968513489,
          -0.31745898723602295,
          6.749215126037598,
          -1.1268713474273682,
          2.5521745681762695,
          -2.2414140701293945,
          -0.9535458087921143,
          -1.3167307376861572,
          2.416729211807251,
          -0.3577360212802887,
          2.0147154331207275,
          -5.229527473449707,
          -0.2642024755477905,
          -0.8155204057693481,
          -0.9605787992477417,
          -0.7114399671554565,
          -1.586046814918518,
          7.093039035797119,
          -3.968926191329956,
          1.1722018718719482,
          -1.1291052103042603
         ],
         "yaxis": "y"
        },
        {
         "customdata": [
          [
           "The eventful life of Swami...",
           "biography",
           "-1"
          ],
          [
           "Jagathalaprathapan is a prince who...",
           "unknown",
           "-1"
          ],
          [
           "Police inspector Holloway (Patrick Wymark)...",
           "mystery",
           "-1"
          ],
          [
           "Lewis and Clark and George...",
           "drama",
           "-1"
          ],
          [
           "The story is about two...",
           "unknown",
           "-1"
          ],
          [
           "In a British TV studio,...",
           "comedy",
           "-1"
          ],
          [
           "George Cabot Jr. (Cesar Romero),...",
           "comedy, romance",
           "-1"
          ],
          [
           "In 1962, South Korea. Kang...",
           "unknown",
           "-1"
          ],
          [
           "Neil John Samuel is a...",
           "comedy",
           "-1"
          ],
          [
           "Vani Viswanath plays the central...",
           "unknown",
           "-1"
          ],
          [
           "Oliver's mother, a penniless outcast,...",
           "drama",
           "-1"
          ],
          [
           "Mongol chief Temujin (later to...",
           "adventure",
           "-1"
          ],
          [
           "A popular dance hall girl,...",
           "comedy",
           "-1"
          ],
          [
           "Mordecai C. Jones (Scott) –...",
           "comedy",
           "-1"
          ],
          [
           "Reverend Smith has arrived in...",
           "drama",
           "-1"
          ],
          [
           "Following the plot of the...",
           "drama",
           "-1"
          ],
          [
           "Flesh (Vince Murdocco) is kidnapped...",
           "comedy",
           "-1"
          ],
          [
           "A psychoanalyst and his young...",
           "film noir",
           "-1"
          ],
          [
           "Shellshocked following his experiences as...",
           "adventure",
           "-1"
          ],
          [
           "The film is a story...",
           "drama",
           "-1"
          ],
          [
           "The story starts with a...",
           "romance / suspense",
           "-1"
          ],
          [
           "In World War II, two...",
           "pow comedy",
           "-1"
          ],
          [
           "Byron Levin works in a...",
           "drama",
           "-1"
          ],
          [
           "It is love at first...",
           "romance",
           "-1"
          ],
          [
           "This film is about a...",
           "drama",
           "-1"
          ],
          [
           "3000 years ago, the Vader...",
           "unknown",
           "-1"
          ],
          [
           "Having cleaned up Tombstone, Arizona,...",
           "western",
           "-1"
          ],
          [
           "An orphan girl, named Bindu...",
           "unknown",
           "-1"
          ],
          [
           "The story is about a...",
           "romantic comedy",
           "-1"
          ],
          [
           "Kisan Kanya was based on...",
           "social",
           "-1"
          ],
          [
           "A psychic woman leads archaeologists...",
           "horror",
           "-1"
          ],
          [
           "Stand-up-comedian Nikita Kolesnikov (Danila Kozlovsky)...",
           "unknown",
           "-1"
          ],
          [
           "Two reporters, Curtis (Conrad Phillips)...",
           "crime",
           "-1"
          ],
          [
           "Two best friends who live...",
           "comedy",
           "-1"
          ],
          [
           "Claire of the Moon is...",
           "unknown",
           "-1"
          ],
          [
           "Curry and Pepper are two...",
           "comedy",
           "-1"
          ],
          [
           "Joseph is a mentally retarded...",
           "unknown",
           "-1"
          ],
          [
           "Loosely based on true events...",
           "romance",
           "-1"
          ],
          [
           "Bok-nyeo, a mentally handicapped woman,...",
           "drama",
           "-1"
          ],
          [
           "Dr. Markoff (J. Carrol Naish)...",
           "science fiction",
           "-1"
          ],
          [
           "The plot revolves around the...",
           "coming of age drama",
           "-1"
          ],
          [
           "The movie opens with Fung...",
           "erotic / drama",
           "-1"
          ],
          [
           "The film is an account...",
           "drama",
           "-1"
          ],
          [
           "On the run from the...",
           "unknown",
           "-1"
          ],
          [
           "A man visits a happy...",
           "unknown",
           "-1"
          ],
          [
           "In 1983 KBS launched a...",
           "unknown",
           "-1"
          ],
          [
           "Harvey Keitel plays an American...",
           "crime drama",
           "-1"
          ],
          [
           "Set in the austere post–World...",
           "comedy",
           "-1"
          ],
          [
           "Rahul (Ramankanth) sees a concert...",
           "unknown",
           "-1"
          ],
          [
           "A crime reporter, assisted by...",
           "drama",
           "-1"
          ],
          [
           "Irène Bordoni is cast as...",
           "musical comedy",
           "-1"
          ],
          [
           "This film is about two...",
           "romance, comedy",
           "-1"
          ],
          [
           "Cosmo Reif, an affectless mob...",
           "comedy, thriller",
           "-1"
          ],
          [
           "Edgar Mills and his mistress...",
           "crime",
           "-1"
          ],
          [
           "Molly Gilbert won't accept a...",
           "comedy",
           "-1"
          ],
          [
           "The film is set in...",
           "film noir",
           "-1"
          ],
          [
           "Marianne (Greta Garbo) is a...",
           "drama",
           "-1"
          ],
          [
           "Shane O'Shea is a young...",
           "drama",
           "-1"
          ],
          [
           "Bumbling cop Chatur Singh (Sanjay...",
           "comedy",
           "-1"
          ],
          [
           "Rolex (Prakash Raj) is a...",
           "unknown",
           "-1"
          ],
          [
           "Dhag is the story of...",
           "drama",
           "-1"
          ],
          [
           "A Mighty Heart is a...",
           "drama",
           "-1"
          ],
          [
           "The film is a retelling...",
           "fantasy",
           "-1"
          ],
          [
           "Two escaping killers hide out...",
           "suspense",
           "-1"
          ],
          [
           "Christopher, a lustful man goes...",
           "horror",
           "-1"
          ],
          [
           "Inventor and engineer Robert Draper...",
           "crime",
           "-1"
          ],
          [
           "A young sculptor searches for...",
           "unknown",
           "-1"
          ],
          [
           "Hardy plays Dr. Henry Tibbett,...",
           "comedy",
           "-1"
          ],
          [
           "After discovering that her state...",
           "comedy",
           "-1"
          ],
          [
           "The film is an examination...",
           "drama",
           "-1"
          ],
          [
           "The Kitauji high school concert...",
           "drama, youth, musical, romance, idol",
           "-1"
          ],
          [
           "In every port, sailor Bill,...",
           "comedy",
           "-1"
          ],
          [
           "Lost & Found is basically...",
           "romance, drama",
           "-1"
          ],
          [
           "Joan (Purviance) and Magdalen (Sothern)...",
           "unknown",
           "-1"
          ],
          [
           "Hong Deok-Ja continues to run...",
           "comedy",
           "-1"
          ],
          [
           "This film follows the lead...",
           "action, sci-fi",
           "-1"
          ],
          [
           "Indie musician Dong-hoon and cartoonist...",
           "unknown",
           "-1"
          ],
          [
           "The story tells about Ching...",
           "unknown",
           "-1"
          ],
          [
           "A former agent from the...",
           "unknown",
           "-1"
          ],
          [
           "Unlike other Alamo films that...",
           "western, war",
           "-1"
          ],
          [
           "The story involves a middle-aged...",
           "western",
           "-1"
          ],
          [
           "Gloria Cole and Eddie Swenson...",
           "drama",
           "-1"
          ],
          [
           "A San Francisco earthquake orphan...",
           "comedy drama",
           "-1"
          ],
          [
           "The film is about an...",
           "drama",
           "-1"
          ],
          [
           "An earthquake releases a bunch...",
           "unknown",
           "-1"
          ],
          [
           "The story line centres on...",
           "musical",
           "-1"
          ],
          [
           "Stephen Ghent, a mineowner, falls...",
           "western",
           "-1"
          ],
          [
           "Nine people from around the...",
           "unknown",
           "-1"
          ],
          [
           "Sets in the 19th century,...",
           "romantic drama",
           "-1"
          ],
          [
           "The film tells the story...",
           "comedy",
           "-1"
          ],
          [
           "Sally Elliott (Rita Hayworth), a...",
           "musical biopic",
           "-1"
          ],
          [
           "After Joe Huggett loses his...",
           "comedy",
           "-1"
          ],
          [
           "Chaiti is a young beautiful...",
           "drama",
           "-1"
          ],
          [
           "The Hartford Transcontinental Railroad is...",
           "western serial",
           "-1"
          ],
          [
           "Eric Wainwright (Van Johnson), a...",
           "comedy",
           "-1"
          ],
          [
           "Kevin Agar is a Carlton-based...",
           "comedy",
           "-1"
          ],
          [
           "The film takes place in...",
           "unknown",
           "-1"
          ],
          [
           "Restaurant owner Dylan Ramsey (David...",
           "comedy",
           "-1"
          ],
          [
           "After being told by his...",
           "western",
           "-1"
          ],
          [
           "Arjun lives in a village....",
           "unknown",
           "-1"
          ],
          [
           "The story of the film...",
           "unknown",
           "-1"
          ],
          [
           "Jerry McGuire (William Collier Jr.)...",
           "comedy",
           "-1"
          ],
          [
           "Chu Liuxiang is having drinks...",
           "unknown",
           "-1"
          ],
          [
           "When Los Angeles' police force...",
           "thriller",
           "-1"
          ],
          [
           "Fontaine Khaled is the London...",
           "drama",
           "-1"
          ],
          [
           "Professional hunter Harry Black is...",
           "adventure",
           "-1"
          ],
          [
           "Hiraasat is an action film,...",
           "action, crime, drama",
           "-1"
          ],
          [
           "Tulsi tells the story of...",
           " ",
           "-1"
          ],
          [
           "California gubernatorial candidate Burton (Lyon)...",
           "drama",
           "-1"
          ],
          [
           "A 12-year old young boy...",
           "drama",
           "-1"
          ],
          [
           "Soo-nam is a poor woman...",
           "unknown",
           "-1"
          ],
          [
           "Rie and Nao own a...",
           "drama",
           "-1"
          ],
          [
           "A simple handyman, who also...",
           "comedy",
           "-1"
          ],
          [
           "Karthi (Mahesh) is a college...",
           "romantic thriller",
           "-1"
          ],
          [
           "The story of the film...",
           "mystery",
           "-1"
          ],
          [
           "The film stars Harry Connick...",
           "drama",
           "-1"
          ],
          [
           "In 1964, inmate Charlie Forsythe...",
           "drama",
           "-1"
          ],
          [
           "Vivek is a wanted criminal...",
           "unknown",
           "-1"
          ],
          [
           "The film tells the story...",
           "comedy",
           "-1"
          ],
          [
           "Three teenage boys in small-town...",
           "drama",
           "-1"
          ],
          [
           "In a Mexican nightclub, some...",
           "comedy",
           "-1"
          ],
          [
           "Officers throw an extravagant party...",
           "comedy",
           "-1"
          ],
          [
           "The story revolves around an...",
           "drama, thriller",
           "-1"
          ],
          [
           "A bullied teen chef wants...",
           "comedy-drama",
           "-1"
          ],
          [
           "Flagg (Victor McLaglen) and Quirt...",
           "musical comedy",
           "-1"
          ],
          [
           "Nick (Niven) is the supposed...",
           "comedy",
           "-1"
          ],
          [
           "A rivalry develops between veteran...",
           "war",
           "-1"
          ],
          [
           "In the autumn of 1950,...",
           "drama / history / western",
           "-1"
          ],
          [
           "Raised on a sharecropping plantation...",
           "biography",
           "-1"
          ],
          [
           "This film is about the...",
           "unknown",
           "-1"
          ],
          [
           "Taglines: \"Being a girl is...",
           "drama",
           "-1"
          ],
          [
           "Newland Archer is engaged to...",
           "drama",
           "-1"
          ],
          [
           "In a small town, mentally...",
           "dramedy",
           "-1"
          ],
          [
           "Chandrabose (Mohanlal) whose wife's (Meera...",
           "comedy",
           "-1"
          ],
          [
           "The story is a family...",
           "unknown",
           "-1"
          ],
          [
           "Frankie Bono, a hitman from...",
           "thriller",
           "-1"
          ],
          [
           "The Philippines, 1972. Mysterious things...",
           "drama",
           "-1"
          ],
          [
           "Set in Alexandria in 1938,...",
           "drama",
           "-1"
          ],
          [
           "Two days before Christmas, a...",
           "thriller",
           "-1"
          ],
          [
           "The film is set in...",
           "drama",
           "-1"
          ],
          [
           "Michael Walsh, a husband and...",
           "drama",
           "-1"
          ],
          [
           "The film revolves around an...",
           "drama",
           "-1"
          ],
          [
           "On board an ocean liner...",
           "comedy",
           "-1"
          ],
          [
           "Alim is a young gay...",
           "romantic comedy",
           "-1"
          ],
          [
           "Twice widowed, Pilnyeo vows never...",
           "unknown",
           "-1"
          ],
          [
           "Convict Van Duff is the...",
           "film noir",
           "-1"
          ],
          [
           "A U.S. marshal investigates when...",
           "western",
           "-1"
          ],
          [
           "A new teacher organizes a...",
           "unknown",
           "-1"
          ],
          [
           "The story of a 10th...",
           "rom com",
           "-1"
          ],
          [
           "The plot of the film...",
           "nature",
           "-1"
          ],
          [
           "In the 1930s, Teresa (Buday)...",
           "unknown",
           "-1"
          ],
          [
           "The boys are involved in...",
           "comedy",
           "-1"
          ],
          [
           "John Murdock (Paul Richards) is...",
           "western",
           "-1"
          ],
          [
           "In the year 1999, the...",
           "unknown",
           "-1"
          ],
          [
           "The film is a historical...",
           "historical",
           "-1"
          ],
          [
           "The film is based on...",
           "unknown",
           "-1"
          ],
          [
           "Jin-hong is a prosecutor who...",
           "unknown",
           "-1"
          ],
          [
           "Brinda (Sindhu Tolani) is an...",
           "drama",
           "-1"
          ],
          [
           "An old gangster, with a...",
           "thriller",
           "-1"
          ],
          [
           "Kumar, a graduate who decides...",
           "unknown",
           "-1"
          ],
          [
           "The Rogers family visit Blackpool...",
           "comedy",
           "-1"
          ],
          [
           "The story revolves around a...",
           "unknown",
           "-1"
          ],
          [
           "The film is about an...",
           "short black comedy",
           "-1"
          ],
          [
           "A mysterious killer, known only...",
           "drama",
           "-1"
          ],
          [
           "A genius sculptor Joon-goo (Park...",
           "unknown",
           "-1"
          ],
          [
           "The young filmmaker Timothy (Jonathan...",
           "comedy",
           "-1"
          ],
          [
           "Julia Hemingway (Ina Skriver, credited...",
           "thriller",
           "-1"
          ],
          [
           "Russian general Marenkov (Robert Shaw)...",
           "unknown",
           "-1"
          ],
          [
           "Small-fry marijuana harvesters in Northern...",
           "comedy",
           "-1"
          ],
          [
           "Omar Sharif plays Muhassab, headman...",
           "drama",
           "-1"
          ],
          [
           "A young Lakota Sioux (Lou...",
           "drama",
           "-1"
          ],
          [
           "The Chain tells the story...",
           "comedy",
           "-1"
          ],
          [
           "The film is set in...",
           "biblical",
           "-1"
          ],
          [
           "Hans a young German journalist...",
           "sex comedy",
           "-1"
          ],
          [
           "Hikaru Oshiro, noticing that there...",
           "drama",
           "-1"
          ],
          [
           "The drama tells of a...",
           "crime drama",
           "-1"
          ],
          [
           "The title character is Victor...",
           "comedy",
           "-1"
          ],
          [
           "During a TV segment about...",
           "horror",
           "-1"
          ],
          [
           "Leslie is a troubled 1960s...",
           "drama",
           "-1"
          ],
          [
           "Hajj, a rascally beggar on...",
           "costume drama",
           "-1"
          ],
          [
           "Big-league baseball players Jerry and...",
           "musical",
           "-1"
          ],
          [
           "Rakta Bandhan is a family...",
           "unknown",
           "-1"
          ],
          [
           "Louisa Gould (Jenny Seagrove) hides...",
           "unknown",
           "-1"
          ],
          [
           "In Renaissance Florence, a Florentine...",
           "drama",
           "-1"
          ],
          [
           "Harry England (Michael Crawford), a...",
           "comedy",
           "-1"
          ],
          [
           "This film is about the...",
           "thriller",
           "-1"
          ],
          [
           "Marappan (Anandaraj) is the rebel...",
           "unknown",
           "-1"
          ],
          [
           "When a town drunk, Gabe,...",
           "western",
           "-1"
          ],
          [
           "After her mother was killed...",
           "action / comedy",
           "-1"
          ],
          [
           "\"Illustrated Press\" society editor Lorelei...",
           "drama",
           "-1"
          ],
          [
           "The spouses Alec and Zoey,...",
           "unknown",
           "-1"
          ],
          [
           "When infamous jewel thief Flambeau...",
           "mystery",
           "-1"
          ],
          [
           "Spanning nearly 20 years from...",
           "drama",
           "-1"
          ],
          [
           "Raised by his Uncle Wu...",
           "fantasy / adventure",
           "-1"
          ],
          [
           "During World War II singer...",
           "musical",
           "-1"
          ],
          [
           "Newly transferred college student Lily...",
           "dramedy",
           "-1"
          ],
          [
           "After the execution of Kattabomman...",
           "unknown",
           "-1"
          ],
          [
           "A girl is about to...",
           "adventure, serial",
           "-1"
          ],
          [
           "A young construction worker rams...",
           "drama",
           "-1"
          ],
          [
           "Teenager Jackie Knowles (Richard Attenborough)...",
           "drama",
           "-1"
          ],
          [
           "Alli (Manorama) a veritable jungle...",
           "unknown",
           "-1"
          ],
          [
           "A new gas formula that...",
           "crime",
           "-1"
          ],
          [
           "In Shanghai, Madeleine Linden is...",
           "comedy",
           "-1"
          ],
          [
           "The film takes place in...",
           "unknown",
           "-1"
          ],
          [
           "Raja is a 10-year-old tourist...",
           "unknown",
           "-1"
          ],
          [
           "Crash Landing follows the tense...",
           "action/thriller",
           "-1"
          ],
          [
           "A young woman goes to...",
           "thriller",
           "-1"
          ],
          [
           "In a desperate attempt to...",
           "drama",
           "-1"
          ],
          [
           "Rajini's parents are killed by...",
           "unknown",
           "-1"
          ],
          [
           "Andy (Lee Bowman) and Janie...",
           "comedy",
           "-1"
          ],
          [
           "A small Midwestern town is...",
           "comedy",
           "-1"
          ],
          [
           "Leonard Maltin: \"Cute comic mystery......",
           "comedy",
           "-1"
          ],
          [
           "Anand is a major in...",
           "action",
           "-1"
          ],
          [
           "Pudhayal was about imaginary gold...",
           "unknown",
           "-1"
          ],
          [
           "American gambler Nick Cain (Raft)...",
           "crime",
           "-1"
          ],
          [
           "The first act of the...",
           "drama",
           "-1"
          ],
          [
           "In Wilmington, Delaware, Anna Thompson...",
           "drama",
           "-1"
          ],
          [
           "While in a restaurant, Carla...",
           "drama",
           "-1"
          ],
          [
           "Seven young freedom fighters, heavily...",
           "unknown",
           "-1"
          ],
          [
           "In the middle of a...",
           "drama",
           "-1"
          ],
          [
           "Midget George Wilson pulls strings...",
           "drama",
           "-1"
          ],
          [
           "The film plays out with...",
           "comedy",
           "-1"
          ],
          [
           "The story revolves around a...",
           "unknown",
           "-1"
          ],
          [
           "Loosely based on the historical...",
           "fantasy",
           "-1"
          ],
          [
           "Daniels, in her final silent...",
           "romantic comedy",
           "-1"
          ],
          [
           "Sachin Joshi is a Kabaddi...",
           "action",
           "-1"
          ],
          [
           "Jung-woo is a film director...",
           "unknown",
           "-1"
          ],
          [
           "Two sailors are conned into...",
           "comedy",
           "-1"
          ],
          [
           "The story revolves around a...",
           "unknown",
           "-1"
          ],
          [
           "Handsome and fairly good-looking Anil...",
           "unknown",
           "-1"
          ],
          [
           "A lonely old man who...",
           "literary drama",
           "-1"
          ],
          [
           "Big Fella is set on...",
           "musical/drama",
           "-1"
          ],
          [
           "In the remote and undeveloped...",
           "drama",
           "-1"
          ],
          [
           "The film is about Jamie,...",
           "drama",
           "-1"
          ],
          [
           "In the year 1999, the...",
           "tokusatsu",
           "-1"
          ],
          [
           "The movie is about Ilangovan...",
           "comedy",
           "-1"
          ],
          [
           "Bonnie and Connie Jones are...",
           "musical",
           "-1"
          ],
          [
           "The story revolves around a...",
           "comedy drama",
           "-1"
          ],
          [
           "Alvin Roberts (Lee Tracy) feuds...",
           "comedy",
           "-1"
          ],
          [
           "Jean Paurel is a famous...",
           "drama",
           "-1"
          ],
          [
           "Stephanie (Lyn Wilde) and Terry...",
           "comedy",
           "-1"
          ],
          [
           "The story of the film,...",
           "crime/thriller",
           "-1"
          ],
          [
           "While on a trip to...",
           "unknown",
           "-1"
          ],
          [
           "Kiira seems like an ordinary...",
           "vampire film",
           "-1"
          ],
          [
           "With the human exploitation of...",
           "comedy / animation / family / adventure",
           "-1"
          ],
          [
           "New York City law professor...",
           "drama, crime",
           "-1"
          ],
          [
           "Con man Rick Maxon (Payne)...",
           "film noir",
           "-1"
          ],
          [
           "Two brothers become involved with...",
           "crime",
           "-1"
          ],
          [
           "Napoleon Bonaparte (Charles Boyer) launches...",
           "drama",
           "-1"
          ],
          [
           "The young brother of two...",
           "comedy",
           "-1"
          ],
          [
           "The story centres on the...",
           "unknown",
           "-1"
          ],
          [
           "Jennie Hagan (Swanson) is a...",
           "comedy",
           "-1"
          ],
          [
           "Political journalist Jayadev (Meka Srikanth)...",
           "action",
           "-1"
          ],
          [
           "Banerjee stars as Ram Das,...",
           "comedy",
           "-1"
          ],
          [
           "Two persons namely Ajay and...",
           "unknown",
           "-1"
          ],
          [
           "Story of a corpse being...",
           "unknown",
           "-1"
          ],
          [
           "It is of the Jack...",
           "mystery",
           "-1"
          ],
          [
           "The film revolves around the...",
           "unknown",
           "-1"
          ],
          [
           "Anand (Shivrajkumar) was nicknamed \"Kaddipudi\"...",
           "unknown",
           "-1"
          ],
          [
           "Vijay (MGR), a carefree and...",
           "unknown",
           "-1"
          ],
          [
           "A spirit (\"Patrick\") haunts a...",
           "thriller",
           "-1"
          ],
          [
           "The story follows a group...",
           "thriller",
           "-1"
          ],
          [
           "A man loses his memory...",
           "unknown",
           "-1"
          ],
          [
           "After being court-martialed and discharged...",
           "adventure",
           "-1"
          ],
          [
           "In a quiet English town,...",
           "thriller",
           "-1"
          ],
          [
           "Gracie (Fields) and Laurie (Dolman)...",
           "comedy",
           "-1"
          ],
          [
           "The plot is a mystery...",
           "western",
           "-1"
          ],
          [
           "The film tells the story...",
           "unknown",
           "-1"
          ]
         ],
         "hovertemplate": "cluster=%{customdata[2]}<br>x-tsne=%{x}<br>y-tsne=%{y}<br>text=%{customdata[0]}<br>label=%{customdata[1]}<extra></extra>",
         "legendgroup": "-1",
         "marker": {
          "color": "#EF553B",
          "symbol": "circle"
         },
         "mode": "markers",
         "name": "-1",
         "orientation": "v",
         "showlegend": true,
         "type": "scatter",
         "x": [
          8.257712364196777,
          5.009643077850342,
          -5.310770034790039,
          -4.3820719718933105,
          5.563476085662842,
          -3.009791851043701,
          -6.534955024719238,
          7.480871200561523,
          -4.808884620666504,
          4.63248348236084,
          -0.5815075039863586,
          8.764108657836914,
          -1.108508586883545,
          -2.377011299133301,
          -6.030075550079346,
          -2.6328229904174805,
          -0.5107619166374207,
          2.212857723236084,
          2.344933032989502,
          4.9285969734191895,
          -5.609200954437256,
          1.0203129053115845,
          -5.724947929382324,
          0.5263412594795227,
          0.7313678860664368,
          -0.13455374538898468,
          -8.131237983703613,
          4.3623247146606445,
          6.517717361450195,
          4.183669567108154,
          -0.4901624321937561,
          5.266811370849609,
          -7.240383625030518,
          3.9510905742645264,
          -4.318216800689697,
          2.2478718757629395,
          -0.6647645235061646,
          -1.5441595315933228,
          0.7937327027320862,
          -1.5381410121917725,
          -1.7155519723892212,
          -2.8373262882232666,
          5.693586349487305,
          -4.308572292327881,
          3.9729316234588623,
          3.4686343669891357,
          -6.652729511260986,
          2.1202595233917236,
          6.010714530944824,
          8.062647819519043,
          -5.999197959899902,
          7.216396808624268,
          0.753746509552002,
          -4.161777496337891,
          -0.36489319801330566,
          2.7268829345703125,
          -4.032603740692139,
          -3.385718822479248,
          3.627999782562256,
          4.011882305145264,
          6.944085597991943,
          1.109326720237732,
          -1.996414303779602,
          0.576550304889679,
          -2.908397674560547,
          -6.880002498626709,
          4.131044387817383,
          -1.6380175352096558,
          3.4602763652801514,
          6.019171237945557,
          8.250386238098145,
          -3.856788396835327,
          6.908613204956055,
          -5.121321201324463,
          1.8724710941314697,
          -2.299171209335327,
          0.5252751708030701,
          -7.116682529449463,
          1.398295521736145,
          -7.972168445587158,
          -0.09522642195224762,
          -0.26316842436790466,
          -4.799973487854004,
          7.304213047027588,
          2.274115800857544,
          6.309376239776611,
          -4.631590366363525,
          2.636784791946411,
          -6.474541187286377,
          -7.498119831085205,
          -4.1779913902282715,
          6.580935478210449,
          5.637685298919678,
          -0.8360868692398071,
          -4.056277751922607,
          1.658476710319519,
          3.3909027576446533,
          -2.047715425491333,
          -1.2179045677185059,
          7.092297077178955,
          -2.6033248901367188,
          -7.089982986450195,
          -1.7215760946273804,
          -0.3692602813243866,
          -3.047006368637085,
          -2.4846837520599365,
          6.2599592208862305,
          5.278049468994141,
          -7.263313293457031,
          -0.9977264404296875,
          2.6492726802825928,
          1.6413418054580688,
          7.176852226257324,
          1.3178452253341675,
          5.189380168914795,
          -1.8398288488388062,
          -7.550259590148926,
          2.271622657775879,
          0.8336233496665955,
          0.02694610506296158,
          -3.2100133895874023,
          -5.016185283660889,
          2.110506772994995,
          -0.3954392075538635,
          5.8010125160217285,
          -1.6881612539291382,
          -8.372621536254883,
          -0.08607849478721619,
          2.881816864013672,
          6.795472621917725,
          6.761735439300537,
          -2.5495455265045166,
          -8.358904838562012,
          5.635853290557861,
          7.066988945007324,
          0.5162885785102844,
          0.7630875110626221,
          -6.051718235015869,
          0.13424049317836761,
          5.85957145690918,
          -2.5887343883514404,
          5.198039531707764,
          4.401791095733643,
          3.4527747631073,
          4.158466339111328,
          1.0386090278625488,
          -4.774691581726074,
          8.214576721191406,
          8.103959083557129,
          3.121574878692627,
          2.5443034172058105,
          -3.731757640838623,
          -2.578657627105713,
          2.525764226913452,
          6.034557342529297,
          7.951767444610596,
          2.26584792137146,
          2.5789201259613037,
          1.2652095556259155,
          0.582486093044281,
          0.06295380741357803,
          2.717561721801758,
          2.1302907466888428,
          1.9800440073013306,
          5.017542362213135,
          -3.5650241374969482,
          -5.571293354034424,
          0.5328848958015442,
          1.2212872505187988,
          -1.3891853094100952,
          -1.2477201223373413,
          4.54014253616333,
          -3.475602388381958,
          4.633820533752441,
          8.235139846801758,
          -1.8181312084197998,
          2.9999802112579346,
          6.357637882232666,
          -7.604465961456299,
          -3.3380520343780518,
          0.7179202437400818,
          6.307583332061768,
          -8.427844047546387,
          -3.756786823272705,
          -4.535430908203125,
          6.795472621917725,
          3.534189224243164,
          -8.804676055908203,
          -5.906118869781494,
          -6.188089847564697,
          0.02437903732061386,
          -5.940461158752441,
          2.902160406112671,
          -0.9577596783638,
          1.4163843393325806,
          6.957373142242432,
          -0.5050589442253113,
          2.5728631019592285,
          1.9901448488235474,
          -7.535029888153076,
          -1.9579646587371826,
          2.904554843902588,
          -4.046515464782715,
          4.160139083862305,
          5.23579740524292,
          0.8708961606025696,
          2.062938690185547,
          -0.4831925928592682,
          5.140263080596924,
          -6.067693710327148,
          -2.68082857131958,
          -5.654359817504883,
          3.5070552825927734,
          4.518720626831055,
          -5.092229843139648,
          -8.932685852050781,
          1.3087722063064575,
          -2.9688258171081543,
          4.984988689422607,
          0.3870299458503723,
          -3.179774045944214,
          5.962201118469238,
          5.886687278747559,
          -3.6718595027923584,
          -5.361746788024902,
          7.2177324295043945,
          5.968054294586182,
          4.5773186683654785,
          6.483254909515381,
          4.571137428283691,
          0.34915122389793396,
          -3.486755132675171,
          4.060271263122559,
          2.0701756477355957,
          2.525773286819458,
          5.5984110832214355,
          8.496511459350586,
          3.4903318881988525,
          -6.6172404289245605,
          6.941178798675537,
          -6.353785037994385,
          4.650968074798584,
          5.856649875640869,
          5.024177551269531,
          2.8036394119262695,
          -7.296416282653809,
          -6.364380836486816,
          6.1880998611450195,
          -5.4684834480285645,
          1.478901982307434,
          1.0159252882003784,
          -9.23559856414795,
          3.337747097015381,
          -1.6679874658584595,
          2.2625088691711426,
          -0.05957215651869774,
          0.336414098739624,
          6.307523250579834,
          3.2933666706085205,
          3.5207579135894775,
          -2.9553186893463135,
          -1.388525128364563,
          1.3417094945907593,
          3.7607474327087402,
          -6.864456653594971,
          -4.244112968444824,
          -4.770882606506348,
          5.364963531494141
         ],
         "xaxis": "x",
         "y": [
          5.897769451141357,
          6.279392242431641,
          2.7848243713378906,
          -3.1414730548858643,
          -0.3042672276496887,
          -5.076702117919922,
          -1.995063066482544,
          -1.6696670055389404,
          -2.165315628051758,
          7.311955451965332,
          2.9797775745391846,
          2.500919818878174,
          -3.1272873878479004,
          -3.5085792541503906,
          -0.15785866975784302,
          5.096811294555664,
          -5.176310062408447,
          2.338374137878418,
          -4.402400016784668,
          -3.293179988861084,
          -4.5166778564453125,
          -4.7421464920043945,
          -1.6863377094268799,
          -2.238011360168457,
          -7.326667308807373,
          -6.119076728820801,
          -3.9146034717559814,
          -2.762155055999756,
          7.34661340713501,
          5.810468673706055,
          -4.191984176635742,
          1.7377581596374512,
          -0.5879475474357605,
          -1.094262719154358,
          -4.126106262207031,
          -1.2632783651351929,
          1.0990363359451294,
          -5.1957268714904785,
          4.39396858215332,
          -4.498261451721191,
          2.046030044555664,
          0.25183677673339844,
          -3.5933525562286377,
          -5.262889862060547,
          1.0135952234268188,
          -5.781984806060791,
          -5.255837917327881,
          -4.8835601806640625,
          2.2290923595428467,
          -5.400466442108154,
          -1.0617111921310425,
          8.729574203491211,
          -0.8986898064613342,
          2.7681198120117188,
          -1.668378472328186,
          -0.2613137662410736,
          -0.24471522867679596,
          -0.25282803177833557,
          7.681535720825195,
          7.929433345794678,
          4.038055896759033,
          -7.25741720199585,
          -6.3573832511901855,
          0.04495728388428688,
          3.601468086242676,
          2.2711024284362793,
          0.9934132695198059,
          -4.160771369934082,
          -4.448980808258057,
          -3.7111971378326416,
          -2.488614082336426,
          -2.8476622104644775,
          4.401787757873535,
          -0.46551641821861267,
          -1.5146363973617554,
          -5.728867530822754,
          1.864846110343933,
          -3.2411317825317383,
          -8.10416316986084,
          -1.6670676469802856,
          4.099396228790283,
          -2.283071517944336,
          1.0895768404006958,
          -4.265171051025391,
          -6.698601245880127,
          -2.1962859630584717,
          0.6571035385131836,
          -6.391044616699219,
          -2.942376136779785,
          3.466794729232788,
          -1.1218507289886475,
          -0.13841205835342407,
          5.24843692779541,
          -1.2850313186645508,
          -0.8391071557998657,
          -0.679317057132721,
          -5.16005277633667,
          -0.545107364654541,
          -1.2454655170440674,
          3.7921791076660156,
          -2.3876547813415527,
          -1.3785794973373413,
          3.5979201793670654,
          -0.2745901346206665,
          0.0819234848022461,
          -1.3668662309646606,
          9.67400074005127,
          8.31495189666748,
          4.8913798332214355,
          3.084613561630249,
          1.0366413593292236,
          -2.4430394172668457,
          -3.2163562774658203,
          7.470613479614258,
          -0.48277828097343445,
          0.06721056997776031,
          1.306341290473938,
          6.469920635223389,
          -4.523916721343994,
          0.6459649801254272,
          -3.908252716064453,
          -2.6957943439483643,
          2.6377317905426025,
          -1.6139752864837646,
          -5.398220539093018,
          1.2150511741638184,
          -1.7233227491378784,
          -8.527997016906738,
          -3.8801753520965576,
          8.242629051208496,
          -1.5223149061203003,
          1.7899802923202515,
          -0.11450225114822388,
          6.502813339233398,
          6.6283392906188965,
          -0.9360425472259521,
          -6.039283752441406,
          3.782824993133545,
          6.226827621459961,
          7.004338264465332,
          2.6392831802368164,
          -2.198995351791382,
          -1.7753268480300903,
          0.6940600872039795,
          2.4113969802856445,
          -1.4756382703781128,
          4.188653469085693,
          -2.464048385620117,
          -0.8829301595687866,
          -2.041135787963867,
          0.004522581584751606,
          -6.475979328155518,
          -3.1355061531066895,
          -6.2516865730285645,
          10.211298942565918,
          7.586477279663086,
          2.690143585205078,
          6.671111106872559,
          0.5124559998512268,
          -8.363195419311523,
          3.839557409286499,
          1.39601731300354,
          1.5386918783187866,
          2.5738208293914795,
          4.403381824493408,
          -2.2058465480804443,
          -2.66896915435791,
          -4.872995853424072,
          0.0828452929854393,
          -2.2170443534851074,
          4.379395008087158,
          -5.8816704750061035,
          5.8280181884765625,
          -2.209954261779785,
          -2.5475873947143555,
          -4.881434440612793,
          -4.699118137359619,
          -6.263070583343506,
          1.9130700826644897,
          6.362053871154785,
          -2.549861431121826,
          9.296320915222168,
          -1.6498136520385742,
          1.6080787181854248,
          0.06583602726459503,
          8.242629051208496,
          6.69891357421875,
          -3.1755363941192627,
          -3.642989158630371,
          2.5168540477752686,
          2.214768648147583,
          1.829118013381958,
          -4.963351249694824,
          -6.010948657989502,
          -5.3953537940979,
          -2.3724710941314697,
          -8.23000431060791,
          -2.7530038356781006,
          0.9218818545341492,
          0.32244873046875,
          5.347583770751953,
          -6.927126407623291,
          0.9196521043777466,
          -7.252123832702637,
          3.3106119632720947,
          -3.3738532066345215,
          3.94212007522583,
          0.020689906552433968,
          7.460819721221924,
          0.5876275897026062,
          -7.61564302444458,
          5.519911766052246,
          7.956566333770752,
          9.045326232910156,
          2.2171103954315186,
          -0.23523744940757751,
          -1.5577282905578613,
          -1.8378454446792603,
          -1.3472687005996704,
          2.6215221881866455,
          -0.8278440833091736,
          -6.080998420715332,
          8.252237319946289,
          5.51345682144165,
          -6.9355950355529785,
          6.329514503479004,
          -5.405862331390381,
          -0.589995801448822,
          6.423501491546631,
          8.315591812133789,
          3.9698028564453125,
          -1.3871207237243652,
          -2.075939416885376,
          -3.562533140182495,
          -6.251756191253662,
          6.4752421379089355,
          0.6580538153648376,
          3.3401811122894287,
          -4.323143482208252,
          1.2042624950408936,
          0.7165395021438599,
          -4.700913906097412,
          8.716737747192383,
          0.8382809162139893,
          -8.370819091796875,
          -2.2765135765075684,
          -0.7697525024414062,
          -4.7785325050354,
          0.5009006857872009,
          1.7551051378250122,
          6.3323750495910645,
          1.1306785345077515,
          7.154446601867676,
          7.454951763153076,
          4.076807022094727,
          1.0179613828659058,
          5.837674617767334,
          5.644552707672119,
          2.429370403289795,
          -0.006740618962794542,
          0.921127438545227,
          0.5491731762886047,
          3.3687052726745605,
          -3.0249063968658447,
          -0.8108391165733337,
          -1.0884684324264526,
          3.9136486053466797,
          1.5916242599487305
         ],
         "yaxis": "y"
        },
        {
         "customdata": [
          [
           "Balu (Vijayakumar) and Padma (Manjula...",
           "unknown",
           "1"
          ],
          [
           "Akashangalil is the story of...",
           "family",
           "1"
          ],
          [
           "Vijay (R. Sarathkumar) and Seetha...",
           "unknown",
           "1"
          ],
          [
           "Gopal (M.G.R.) is an honest...",
           "unknown",
           "1"
          ],
          [
           "Kumar is a young and...",
           "unknown",
           "1"
          ]
         ],
         "hovertemplate": "cluster=%{customdata[2]}<br>x-tsne=%{x}<br>y-tsne=%{y}<br>text=%{customdata[0]}<br>label=%{customdata[1]}<extra></extra>",
         "legendgroup": "1",
         "marker": {
          "color": "#00cc96",
          "symbol": "circle"
         },
         "mode": "markers",
         "name": "1",
         "orientation": "v",
         "showlegend": true,
         "type": "scatter",
         "x": [
          5.726032257080078,
          6.170067310333252,
          5.679248332977295,
          5.335801601409912,
          5.635136127471924
         ],
         "xaxis": "x",
         "y": [
          8.253113746643066,
          7.009763240814209,
          8.34810733795166,
          7.469124794006348,
          7.558320999145508
         ],
         "yaxis": "y"
        }
       ],
       "layout": {
        "height": 1200,
        "legend": {
         "title": {
          "text": "cluster"
         },
         "tracegroupgap": 0
        },
        "template": {
         "data": {
          "bar": [
           {
            "error_x": {
             "color": "#2a3f5f"
            },
            "error_y": {
             "color": "#2a3f5f"
            },
            "marker": {
             "line": {
              "color": "#E5ECF6",
              "width": 0.5
             },
             "pattern": {
              "fillmode": "overlay",
              "size": 10,
              "solidity": 0.2
             }
            },
            "type": "bar"
           }
          ],
          "barpolar": [
           {
            "marker": {
             "line": {
              "color": "#E5ECF6",
              "width": 0.5
             },
             "pattern": {
              "fillmode": "overlay",
              "size": 10,
              "solidity": 0.2
             }
            },
            "type": "barpolar"
           }
          ],
          "carpet": [
           {
            "aaxis": {
             "endlinecolor": "#2a3f5f",
             "gridcolor": "white",
             "linecolor": "white",
             "minorgridcolor": "white",
             "startlinecolor": "#2a3f5f"
            },
            "baxis": {
             "endlinecolor": "#2a3f5f",
             "gridcolor": "white",
             "linecolor": "white",
             "minorgridcolor": "white",
             "startlinecolor": "#2a3f5f"
            },
            "type": "carpet"
           }
          ],
          "choropleth": [
           {
            "colorbar": {
             "outlinewidth": 0,
             "ticks": ""
            },
            "type": "choropleth"
           }
          ],
          "contour": [
           {
            "colorbar": {
             "outlinewidth": 0,
             "ticks": ""
            },
            "colorscale": [
             [
              0,
              "#0d0887"
             ],
             [
              0.1111111111111111,
              "#46039f"
             ],
             [
              0.2222222222222222,
              "#7201a8"
             ],
             [
              0.3333333333333333,
              "#9c179e"
             ],
             [
              0.4444444444444444,
              "#bd3786"
             ],
             [
              0.5555555555555556,
              "#d8576b"
             ],
             [
              0.6666666666666666,
              "#ed7953"
             ],
             [
              0.7777777777777778,
              "#fb9f3a"
             ],
             [
              0.8888888888888888,
              "#fdca26"
             ],
             [
              1,
              "#f0f921"
             ]
            ],
            "type": "contour"
           }
          ],
          "contourcarpet": [
           {
            "colorbar": {
             "outlinewidth": 0,
             "ticks": ""
            },
            "type": "contourcarpet"
           }
          ],
          "heatmap": [
           {
            "colorbar": {
             "outlinewidth": 0,
             "ticks": ""
            },
            "colorscale": [
             [
              0,
              "#0d0887"
             ],
             [
              0.1111111111111111,
              "#46039f"
             ],
             [
              0.2222222222222222,
              "#7201a8"
             ],
             [
              0.3333333333333333,
              "#9c179e"
             ],
             [
              0.4444444444444444,
              "#bd3786"
             ],
             [
              0.5555555555555556,
              "#d8576b"
             ],
             [
              0.6666666666666666,
              "#ed7953"
             ],
             [
              0.7777777777777778,
              "#fb9f3a"
             ],
             [
              0.8888888888888888,
              "#fdca26"
             ],
             [
              1,
              "#f0f921"
             ]
            ],
            "type": "heatmap"
           }
          ],
          "heatmapgl": [
           {
            "colorbar": {
             "outlinewidth": 0,
             "ticks": ""
            },
            "colorscale": [
             [
              0,
              "#0d0887"
             ],
             [
              0.1111111111111111,
              "#46039f"
             ],
             [
              0.2222222222222222,
              "#7201a8"
             ],
             [
              0.3333333333333333,
              "#9c179e"
             ],
             [
              0.4444444444444444,
              "#bd3786"
             ],
             [
              0.5555555555555556,
              "#d8576b"
             ],
             [
              0.6666666666666666,
              "#ed7953"
             ],
             [
              0.7777777777777778,
              "#fb9f3a"
             ],
             [
              0.8888888888888888,
              "#fdca26"
             ],
             [
              1,
              "#f0f921"
             ]
            ],
            "type": "heatmapgl"
           }
          ],
          "histogram": [
           {
            "marker": {
             "pattern": {
              "fillmode": "overlay",
              "size": 10,
              "solidity": 0.2
             }
            },
            "type": "histogram"
           }
          ],
          "histogram2d": [
           {
            "colorbar": {
             "outlinewidth": 0,
             "ticks": ""
            },
            "colorscale": [
             [
              0,
              "#0d0887"
             ],
             [
              0.1111111111111111,
              "#46039f"
             ],
             [
              0.2222222222222222,
              "#7201a8"
             ],
             [
              0.3333333333333333,
              "#9c179e"
             ],
             [
              0.4444444444444444,
              "#bd3786"
             ],
             [
              0.5555555555555556,
              "#d8576b"
             ],
             [
              0.6666666666666666,
              "#ed7953"
             ],
             [
              0.7777777777777778,
              "#fb9f3a"
             ],
             [
              0.8888888888888888,
              "#fdca26"
             ],
             [
              1,
              "#f0f921"
             ]
            ],
            "type": "histogram2d"
           }
          ],
          "histogram2dcontour": [
           {
            "colorbar": {
             "outlinewidth": 0,
             "ticks": ""
            },
            "colorscale": [
             [
              0,
              "#0d0887"
             ],
             [
              0.1111111111111111,
              "#46039f"
             ],
             [
              0.2222222222222222,
              "#7201a8"
             ],
             [
              0.3333333333333333,
              "#9c179e"
             ],
             [
              0.4444444444444444,
              "#bd3786"
             ],
             [
              0.5555555555555556,
              "#d8576b"
             ],
             [
              0.6666666666666666,
              "#ed7953"
             ],
             [
              0.7777777777777778,
              "#fb9f3a"
             ],
             [
              0.8888888888888888,
              "#fdca26"
             ],
             [
              1,
              "#f0f921"
             ]
            ],
            "type": "histogram2dcontour"
           }
          ],
          "mesh3d": [
           {
            "colorbar": {
             "outlinewidth": 0,
             "ticks": ""
            },
            "type": "mesh3d"
           }
          ],
          "parcoords": [
           {
            "line": {
             "colorbar": {
              "outlinewidth": 0,
              "ticks": ""
             }
            },
            "type": "parcoords"
           }
          ],
          "pie": [
           {
            "automargin": true,
            "type": "pie"
           }
          ],
          "scatter": [
           {
            "fillpattern": {
             "fillmode": "overlay",
             "size": 10,
             "solidity": 0.2
            },
            "type": "scatter"
           }
          ],
          "scatter3d": [
           {
            "line": {
             "colorbar": {
              "outlinewidth": 0,
              "ticks": ""
             }
            },
            "marker": {
             "colorbar": {
              "outlinewidth": 0,
              "ticks": ""
             }
            },
            "type": "scatter3d"
           }
          ],
          "scattercarpet": [
           {
            "marker": {
             "colorbar": {
              "outlinewidth": 0,
              "ticks": ""
             }
            },
            "type": "scattercarpet"
           }
          ],
          "scattergeo": [
           {
            "marker": {
             "colorbar": {
              "outlinewidth": 0,
              "ticks": ""
             }
            },
            "type": "scattergeo"
           }
          ],
          "scattergl": [
           {
            "marker": {
             "colorbar": {
              "outlinewidth": 0,
              "ticks": ""
             }
            },
            "type": "scattergl"
           }
          ],
          "scattermapbox": [
           {
            "marker": {
             "colorbar": {
              "outlinewidth": 0,
              "ticks": ""
             }
            },
            "type": "scattermapbox"
           }
          ],
          "scatterpolar": [
           {
            "marker": {
             "colorbar": {
              "outlinewidth": 0,
              "ticks": ""
             }
            },
            "type": "scatterpolar"
           }
          ],
          "scatterpolargl": [
           {
            "marker": {
             "colorbar": {
              "outlinewidth": 0,
              "ticks": ""
             }
            },
            "type": "scatterpolargl"
           }
          ],
          "scatterternary": [
           {
            "marker": {
             "colorbar": {
              "outlinewidth": 0,
              "ticks": ""
             }
            },
            "type": "scatterternary"
           }
          ],
          "surface": [
           {
            "colorbar": {
             "outlinewidth": 0,
             "ticks": ""
            },
            "colorscale": [
             [
              0,
              "#0d0887"
             ],
             [
              0.1111111111111111,
              "#46039f"
             ],
             [
              0.2222222222222222,
              "#7201a8"
             ],
             [
              0.3333333333333333,
              "#9c179e"
             ],
             [
              0.4444444444444444,
              "#bd3786"
             ],
             [
              0.5555555555555556,
              "#d8576b"
             ],
             [
              0.6666666666666666,
              "#ed7953"
             ],
             [
              0.7777777777777778,
              "#fb9f3a"
             ],
             [
              0.8888888888888888,
              "#fdca26"
             ],
             [
              1,
              "#f0f921"
             ]
            ],
            "type": "surface"
           }
          ],
          "table": [
           {
            "cells": {
             "fill": {
              "color": "#EBF0F8"
             },
             "line": {
              "color": "white"
             }
            },
            "header": {
             "fill": {
              "color": "#C8D4E3"
             },
             "line": {
              "color": "white"
             }
            },
            "type": "table"
           }
          ]
         },
         "layout": {
          "annotationdefaults": {
           "arrowcolor": "#2a3f5f",
           "arrowhead": 0,
           "arrowwidth": 1
          },
          "autotypenumbers": "strict",
          "coloraxis": {
           "colorbar": {
            "outlinewidth": 0,
            "ticks": ""
           }
          },
          "colorscale": {
           "diverging": [
            [
             0,
             "#8e0152"
            ],
            [
             0.1,
             "#c51b7d"
            ],
            [
             0.2,
             "#de77ae"
            ],
            [
             0.3,
             "#f1b6da"
            ],
            [
             0.4,
             "#fde0ef"
            ],
            [
             0.5,
             "#f7f7f7"
            ],
            [
             0.6,
             "#e6f5d0"
            ],
            [
             0.7,
             "#b8e186"
            ],
            [
             0.8,
             "#7fbc41"
            ],
            [
             0.9,
             "#4d9221"
            ],
            [
             1,
             "#276419"
            ]
           ],
           "sequential": [
            [
             0,
             "#0d0887"
            ],
            [
             0.1111111111111111,
             "#46039f"
            ],
            [
             0.2222222222222222,
             "#7201a8"
            ],
            [
             0.3333333333333333,
             "#9c179e"
            ],
            [
             0.4444444444444444,
             "#bd3786"
            ],
            [
             0.5555555555555556,
             "#d8576b"
            ],
            [
             0.6666666666666666,
             "#ed7953"
            ],
            [
             0.7777777777777778,
             "#fb9f3a"
            ],
            [
             0.8888888888888888,
             "#fdca26"
            ],
            [
             1,
             "#f0f921"
            ]
           ],
           "sequentialminus": [
            [
             0,
             "#0d0887"
            ],
            [
             0.1111111111111111,
             "#46039f"
            ],
            [
             0.2222222222222222,
             "#7201a8"
            ],
            [
             0.3333333333333333,
             "#9c179e"
            ],
            [
             0.4444444444444444,
             "#bd3786"
            ],
            [
             0.5555555555555556,
             "#d8576b"
            ],
            [
             0.6666666666666666,
             "#ed7953"
            ],
            [
             0.7777777777777778,
             "#fb9f3a"
            ],
            [
             0.8888888888888888,
             "#fdca26"
            ],
            [
             1,
             "#f0f921"
            ]
           ]
          },
          "colorway": [
           "#636efa",
           "#EF553B",
           "#00cc96",
           "#ab63fa",
           "#FFA15A",
           "#19d3f3",
           "#FF6692",
           "#B6E880",
           "#FF97FF",
           "#FECB52"
          ],
          "font": {
           "color": "#2a3f5f"
          },
          "geo": {
           "bgcolor": "white",
           "lakecolor": "white",
           "landcolor": "#E5ECF6",
           "showlakes": true,
           "showland": true,
           "subunitcolor": "white"
          },
          "hoverlabel": {
           "align": "left"
          },
          "hovermode": "closest",
          "mapbox": {
           "style": "light"
          },
          "paper_bgcolor": "white",
          "plot_bgcolor": "#E5ECF6",
          "polar": {
           "angularaxis": {
            "gridcolor": "white",
            "linecolor": "white",
            "ticks": ""
           },
           "bgcolor": "#E5ECF6",
           "radialaxis": {
            "gridcolor": "white",
            "linecolor": "white",
            "ticks": ""
           }
          },
          "scene": {
           "xaxis": {
            "backgroundcolor": "#E5ECF6",
            "gridcolor": "white",
            "gridwidth": 2,
            "linecolor": "white",
            "showbackground": true,
            "ticks": "",
            "zerolinecolor": "white"
           },
           "yaxis": {
            "backgroundcolor": "#E5ECF6",
            "gridcolor": "white",
            "gridwidth": 2,
            "linecolor": "white",
            "showbackground": true,
            "ticks": "",
            "zerolinecolor": "white"
           },
           "zaxis": {
            "backgroundcolor": "#E5ECF6",
            "gridcolor": "white",
            "gridwidth": 2,
            "linecolor": "white",
            "showbackground": true,
            "ticks": "",
            "zerolinecolor": "white"
           }
          },
          "shapedefaults": {
           "line": {
            "color": "#2a3f5f"
           }
          },
          "ternary": {
           "aaxis": {
            "gridcolor": "white",
            "linecolor": "white",
            "ticks": ""
           },
           "baxis": {
            "gridcolor": "white",
            "linecolor": "white",
            "ticks": ""
           },
           "bgcolor": "#E5ECF6",
           "caxis": {
            "gridcolor": "white",
            "linecolor": "white",
            "ticks": ""
           }
          },
          "title": {
           "x": 0.05
          },
          "xaxis": {
           "automargin": true,
           "gridcolor": "white",
           "linecolor": "white",
           "ticks": "",
           "title": {
            "standoff": 15
           },
           "zerolinecolor": "white",
           "zerolinewidth": 2
          },
          "yaxis": {
           "automargin": true,
           "gridcolor": "white",
           "linecolor": "white",
           "ticks": "",
           "title": {
            "standoff": 15
           },
           "zerolinecolor": "white",
           "zerolinewidth": 2
          }
         }
        },
        "title": {
         "text": "Sentences t-SNE Visualization with FastText Embeddings and HDBSCAN Clustering"
        },
        "width": 1200,
        "xaxis": {
         "anchor": "y",
         "domain": [
          0,
          1
         ],
         "title": {
          "text": "x-tsne"
         }
        },
        "yaxis": {
         "anchor": "x",
         "domain": [
          0,
          1
         ],
         "title": {
          "text": "y-tsne"
         }
        }
       }
      },
      "text/html": [
       "<div>                            <div id=\"b3254f78-7819-4897-89e8-a6b4ada8fcf0\" class=\"plotly-graph-div\" style=\"height:1200px; width:1200px;\"></div>            <script type=\"text/javascript\">                require([\"plotly\"], function(Plotly) {                    window.PLOTLYENV=window.PLOTLYENV || {};                                    if (document.getElementById(\"b3254f78-7819-4897-89e8-a6b4ada8fcf0\")) {                    Plotly.newPlot(                        \"b3254f78-7819-4897-89e8-a6b4ada8fcf0\",                        [{\"customdata\":[[\"The film tells the story...\",\"film noir\",\"0\"],[\"Young sci-fi\\u002ffantasy enthusiast Gavin Gore...\",\"comedy\",\"0\"],[\"Nikki Singh (Akshay Oberoi) is...\",\"neo-noir\",\"0\"],[\"Scott (Ryan Phillippe) is a...\",\"romantic comedy\",\"0\"],[\"Italian aristocrat Angela Chiaromonte (Helen...\",\"drama\",\"0\"],[\"Struggling young actress Jenny (Marjorie...\",\"comedy\",\"0\"],[\"Roanne Sanchez, a young girl...\",\"romance, drama\",\"0\"],[\"Trust concerns the unusual romance...\",\"romantic comedy\",\"0\"],[\"Dharma (Anandaraj) is an auto...\",\"unknown\",\"0\"],[\"Jeff Hassard (Dean Jagger) and...\",\"western\",\"0\"],[\"Charles Kessler (Bela Lugosi) is...\",\"horror\",\"0\"],[\"United States Secret Service Lieutenant...\",\"crime\",\"0\"],[\"Two college girls, Ducky and...\",\"comedy\",\"0\"],[\"The film's slight storyline concerns...\",\"comedy\",\"0\"],[\"A blind detective, Duncan Maclain,...\",\"mystery\",\"0\"],[\"Big Bad Love shares its...\",\"drama\",\"0\"],[\"Ten-year-old Bobby (Frankie Thomas) and...\",\"drama\",\"0\"],[\"Agimat (Bong Revilla, Jr.) is...\",\"fantasy, comedy, adventure\",\"0\"],[\"A prospective settler, pioneer Bob...\",\"western\",\"0\"],[\"Chuck Wheeler is released from...\",\"drama\",\"0\"],[\"Nick and Nora Charles are...\",\"mystery\",\"0\"],[\"With five rival oil companies...\",\"crime drama\",\"0\"],[\"Rosalind Dee (DeCarlo) is a...\",\"film noir\",\"0\"],[\"Kaalia is an action flick...\",\"unknown\",\"0\"],[\"Chad (Jimmie Rodgers) is a...\",\"drama\",\"0\"],[\"Four friends go on a...\",\"drama\",\"0\"],[\"Following a series of robberies...\",\"western\",\"0\"]],\"hovertemplate\":\"cluster=%{customdata[2]}\\u003cbr\\u003ex-tsne=%{x}\\u003cbr\\u003ey-tsne=%{y}\\u003cbr\\u003etext=%{customdata[0]}\\u003cbr\\u003elabel=%{customdata[1]}\\u003cextra\\u003e\\u003c\\u002fextra\\u003e\",\"legendgroup\":\"0\",\"marker\":{\"color\":\"#636efa\",\"symbol\":\"circle\"},\"mode\":\"markers\",\"name\":\"0\",\"orientation\":\"v\",\"showlegend\":true,\"x\":[-1.3941657543182373,-3.780596971511841,4.744901180267334,-0.38191813230514526,-3.9613921642303467,-3.698375701904297,3.185006856918335,3.050791025161743,2.87233304977417,-5.037930488586426,-4.787932872772217,-6.244478225708008,3.767111301422119,3.161158323287964,-5.454736709594727,2.391556739807129,-0.8873421549797058,-0.598549485206604,-1.435513973236084,-1.7500983476638794,-0.3984096646308899,0.2348371297121048,-5.328765392303467,3.7237987518310547,2.1471188068389893,-0.7612714767456055,-6.698410511016846],\"xaxis\":\"x\",\"y\":[1.630813717842102,-2.219402551651001,7.285480499267578,1.9303817749023438,1.2541733980178833,-0.6032065153121948,-0.6567690968513489,-0.31745898723602295,6.749215126037598,-1.1268713474273682,2.5521745681762695,-2.2414140701293945,-0.9535458087921143,-1.3167307376861572,2.416729211807251,-0.3577360212802887,2.0147154331207275,-5.229527473449707,-0.2642024755477905,-0.8155204057693481,-0.9605787992477417,-0.7114399671554565,-1.586046814918518,7.093039035797119,-3.968926191329956,1.1722018718719482,-1.1291052103042603],\"yaxis\":\"y\",\"type\":\"scatter\"},{\"customdata\":[[\"The eventful life of Swami...\",\"biography\",\"-1\"],[\"Jagathalaprathapan is a prince who...\",\"unknown\",\"-1\"],[\"Police inspector Holloway (Patrick Wymark)...\",\"mystery\",\"-1\"],[\"Lewis and Clark and George...\",\"drama\",\"-1\"],[\"The story is about two...\",\"unknown\",\"-1\"],[\"In a British TV studio,...\",\"comedy\",\"-1\"],[\"George Cabot Jr. (Cesar Romero),...\",\"comedy, romance\",\"-1\"],[\"In 1962, South Korea. Kang...\",\"unknown\",\"-1\"],[\"Neil John Samuel is a...\",\"comedy\",\"-1\"],[\"Vani Viswanath plays the central...\",\"unknown\",\"-1\"],[\"Oliver's mother, a penniless outcast,...\",\"drama\",\"-1\"],[\"Mongol chief Temujin (later to...\",\"adventure\",\"-1\"],[\"A popular dance hall girl,...\",\"comedy\",\"-1\"],[\"Mordecai C. Jones (Scott) \\u2013...\",\"comedy\",\"-1\"],[\"Reverend Smith has arrived in...\",\"drama\",\"-1\"],[\"Following the plot of the...\",\"drama\",\"-1\"],[\"Flesh (Vince Murdocco) is kidnapped...\",\"comedy\",\"-1\"],[\"A psychoanalyst and his young...\",\"film noir\",\"-1\"],[\"Shellshocked following his experiences as...\",\"adventure\",\"-1\"],[\"The film is a story...\",\"drama\",\"-1\"],[\"The story starts with a...\",\"romance \\u002f suspense\",\"-1\"],[\"In World War II, two...\",\"pow comedy\",\"-1\"],[\"Byron Levin works in a...\",\"drama\",\"-1\"],[\"It is love at first...\",\"romance\",\"-1\"],[\"This film is about a...\",\"drama\",\"-1\"],[\"3000 years ago, the Vader...\",\"unknown\",\"-1\"],[\"Having cleaned up Tombstone, Arizona,...\",\"western\",\"-1\"],[\"An orphan girl, named Bindu...\",\"unknown\",\"-1\"],[\"The story is about a...\",\"romantic comedy\",\"-1\"],[\"Kisan Kanya was based on...\",\"social\",\"-1\"],[\"A psychic woman leads archaeologists...\",\"horror\",\"-1\"],[\"Stand-up-comedian Nikita Kolesnikov (Danila Kozlovsky)...\",\"unknown\",\"-1\"],[\"Two reporters, Curtis (Conrad Phillips)...\",\"crime\",\"-1\"],[\"Two best friends who live...\",\"comedy\",\"-1\"],[\"Claire of the Moon is...\",\"unknown\",\"-1\"],[\"Curry and Pepper are two...\",\"comedy\",\"-1\"],[\"Joseph is a mentally retarded...\",\"unknown\",\"-1\"],[\"Loosely based on true events...\",\"romance\",\"-1\"],[\"Bok-nyeo, a mentally handicapped woman,...\",\"drama\",\"-1\"],[\"Dr. Markoff (J. Carrol Naish)...\",\"science fiction\",\"-1\"],[\"The plot revolves around the...\",\"coming of age drama\",\"-1\"],[\"The movie opens with Fung...\",\"erotic \\u002f drama\",\"-1\"],[\"The film is an account...\",\"drama\",\"-1\"],[\"On the run from the...\",\"unknown\",\"-1\"],[\"A man visits a happy...\",\"unknown\",\"-1\"],[\"In 1983 KBS launched a...\",\"unknown\",\"-1\"],[\"Harvey Keitel plays an American...\",\"crime drama\",\"-1\"],[\"Set in the austere post\\u2013World...\",\"comedy\",\"-1\"],[\"Rahul (Ramankanth) sees a concert...\",\"unknown\",\"-1\"],[\"A crime reporter, assisted by...\",\"drama\",\"-1\"],[\"Ir\\u00e8ne Bordoni is cast as...\",\"musical comedy\",\"-1\"],[\"This film is about two...\",\"romance, comedy\",\"-1\"],[\"Cosmo Reif, an affectless mob...\",\"comedy, thriller\",\"-1\"],[\"Edgar Mills and his mistress...\",\"crime\",\"-1\"],[\"Molly Gilbert won't accept a...\",\"comedy\",\"-1\"],[\"The film is set in...\",\"film noir\",\"-1\"],[\"Marianne (Greta Garbo) is a...\",\"drama\",\"-1\"],[\"Shane O'Shea is a young...\",\"drama\",\"-1\"],[\"Bumbling cop Chatur Singh (Sanjay...\",\"comedy\",\"-1\"],[\"Rolex (Prakash Raj) is a...\",\"unknown\",\"-1\"],[\"Dhag is the story of...\",\"drama\",\"-1\"],[\"A Mighty Heart is a...\",\"drama\",\"-1\"],[\"The film is a retelling...\",\"fantasy\",\"-1\"],[\"Two escaping killers hide out...\",\"suspense\",\"-1\"],[\"Christopher, a lustful man goes...\",\"horror\",\"-1\"],[\"Inventor and engineer Robert Draper...\",\"crime\",\"-1\"],[\"A young sculptor searches for...\",\"unknown\",\"-1\"],[\"Hardy plays Dr. Henry Tibbett,...\",\"comedy\",\"-1\"],[\"After discovering that her state...\",\"comedy\",\"-1\"],[\"The film is an examination...\",\"drama\",\"-1\"],[\"The Kitauji high school concert...\",\"drama, youth, musical, romance, idol\",\"-1\"],[\"In every port, sailor Bill,...\",\"comedy\",\"-1\"],[\"Lost & Found is basically...\",\"romance, drama\",\"-1\"],[\"Joan (Purviance) and Magdalen (Sothern)...\",\"unknown\",\"-1\"],[\"Hong Deok-Ja continues to run...\",\"comedy\",\"-1\"],[\"This film follows the lead...\",\"action, sci-fi\",\"-1\"],[\"Indie musician Dong-hoon and cartoonist...\",\"unknown\",\"-1\"],[\"The story tells about Ching...\",\"unknown\",\"-1\"],[\"A former agent from the...\",\"unknown\",\"-1\"],[\"Unlike other Alamo films that...\",\"western, war\",\"-1\"],[\"The story involves a middle-aged...\",\"western\",\"-1\"],[\"Gloria Cole and Eddie Swenson...\",\"drama\",\"-1\"],[\"A San Francisco earthquake orphan...\",\"comedy drama\",\"-1\"],[\"The film is about an...\",\"drama\",\"-1\"],[\"An earthquake releases a bunch...\",\"unknown\",\"-1\"],[\"The story line centres on...\",\"musical\",\"-1\"],[\"Stephen Ghent, a mineowner, falls...\",\"western\",\"-1\"],[\"Nine people from around the...\",\"unknown\",\"-1\"],[\"Sets in the 19th century,...\",\"romantic drama\",\"-1\"],[\"The film tells the story...\",\"comedy\",\"-1\"],[\"Sally Elliott (Rita Hayworth), a...\",\"musical biopic\",\"-1\"],[\"After Joe Huggett loses his...\",\"comedy\",\"-1\"],[\"Chaiti is a young beautiful...\",\"drama\",\"-1\"],[\"The Hartford Transcontinental Railroad is...\",\"western serial\",\"-1\"],[\"Eric Wainwright (Van Johnson), a...\",\"comedy\",\"-1\"],[\"Kevin Agar is a Carlton-based...\",\"comedy\",\"-1\"],[\"The film takes place in...\",\"unknown\",\"-1\"],[\"Restaurant owner Dylan Ramsey (David...\",\"comedy\",\"-1\"],[\"After being told by his...\",\"western\",\"-1\"],[\"Arjun lives in a village....\",\"unknown\",\"-1\"],[\"The story of the film...\",\"unknown\",\"-1\"],[\"Jerry McGuire (William Collier Jr.)...\",\"comedy\",\"-1\"],[\"Chu Liuxiang is having drinks...\",\"unknown\",\"-1\"],[\"When Los Angeles' police force...\",\"thriller\",\"-1\"],[\"Fontaine Khaled is the London...\",\"drama\",\"-1\"],[\"Professional hunter Harry Black is...\",\"adventure\",\"-1\"],[\"Hiraasat is an action film,...\",\"action, crime, drama\",\"-1\"],[\"Tulsi tells the story of...\",\" \",\"-1\"],[\"California gubernatorial candidate Burton (Lyon)...\",\"drama\",\"-1\"],[\"A 12-year old young boy...\",\"drama\",\"-1\"],[\"Soo-nam is a poor woman...\",\"unknown\",\"-1\"],[\"Rie and Nao own a...\",\"drama\",\"-1\"],[\"A simple handyman, who also...\",\"comedy\",\"-1\"],[\"Karthi (Mahesh) is a college...\",\"romantic thriller\",\"-1\"],[\"The story of the film...\",\"mystery\",\"-1\"],[\"The film stars Harry Connick...\",\"drama\",\"-1\"],[\"In 1964, inmate Charlie Forsythe...\",\"drama\",\"-1\"],[\"Vivek is a wanted criminal...\",\"unknown\",\"-1\"],[\"The film tells the story...\",\"comedy\",\"-1\"],[\"Three teenage boys in small-town...\",\"drama\",\"-1\"],[\"In a Mexican nightclub, some...\",\"comedy\",\"-1\"],[\"Officers throw an extravagant party...\",\"comedy\",\"-1\"],[\"The story revolves around an...\",\"drama, thriller\",\"-1\"],[\"A bullied teen chef wants...\",\"comedy-drama\",\"-1\"],[\"Flagg (Victor McLaglen) and Quirt...\",\"musical comedy\",\"-1\"],[\"Nick (Niven) is the supposed...\",\"comedy\",\"-1\"],[\"A rivalry develops between veteran...\",\"war\",\"-1\"],[\"In the autumn of 1950,...\",\"drama \\u002f history \\u002f western\",\"-1\"],[\"Raised on a sharecropping plantation...\",\"biography\",\"-1\"],[\"This film is about the...\",\"unknown\",\"-1\"],[\"Taglines: \\\"Being a girl is...\",\"drama\",\"-1\"],[\"Newland Archer is engaged to...\",\"drama\",\"-1\"],[\"In a small town, mentally...\",\"dramedy\",\"-1\"],[\"Chandrabose (Mohanlal) whose wife's (Meera...\",\"comedy\",\"-1\"],[\"The story is a family...\",\"unknown\",\"-1\"],[\"Frankie Bono, a hitman from...\",\"thriller\",\"-1\"],[\"The Philippines, 1972. Mysterious things...\",\"drama\",\"-1\"],[\"Set in Alexandria in 1938,...\",\"drama\",\"-1\"],[\"Two days before Christmas, a...\",\"thriller\",\"-1\"],[\"The film is set in...\",\"drama\",\"-1\"],[\"Michael Walsh, a husband and...\",\"drama\",\"-1\"],[\"The film revolves around an...\",\"drama\",\"-1\"],[\"On board an ocean liner...\",\"comedy\",\"-1\"],[\"Alim is a young gay...\",\"romantic comedy\",\"-1\"],[\"Twice widowed, Pilnyeo vows never...\",\"unknown\",\"-1\"],[\"Convict Van Duff is the...\",\"film noir\",\"-1\"],[\"A U.S. marshal investigates when...\",\"western\",\"-1\"],[\"A new teacher organizes a...\",\"unknown\",\"-1\"],[\"The story of a 10th...\",\"rom com\",\"-1\"],[\"The plot of the film...\",\"nature\",\"-1\"],[\"In the 1930s, Teresa (Buday)...\",\"unknown\",\"-1\"],[\"The boys are involved in...\",\"comedy\",\"-1\"],[\"John Murdock (Paul Richards) is...\",\"western\",\"-1\"],[\"In the year 1999, the...\",\"unknown\",\"-1\"],[\"The film is a historical...\",\"historical\",\"-1\"],[\"The film is based on...\",\"unknown\",\"-1\"],[\"Jin-hong is a prosecutor who...\",\"unknown\",\"-1\"],[\"Brinda (Sindhu Tolani) is an...\",\"drama\",\"-1\"],[\"An old gangster, with a...\",\"thriller\",\"-1\"],[\"Kumar, a graduate who decides...\",\"unknown\",\"-1\"],[\"The Rogers family visit Blackpool...\",\"comedy\",\"-1\"],[\"The story revolves around a...\",\"unknown\",\"-1\"],[\"The film is about an...\",\"short black comedy\",\"-1\"],[\"A mysterious killer, known only...\",\"drama\",\"-1\"],[\"A genius sculptor Joon-goo (Park...\",\"unknown\",\"-1\"],[\"The young filmmaker Timothy (Jonathan...\",\"comedy\",\"-1\"],[\"Julia Hemingway (Ina Skriver, credited...\",\"thriller\",\"-1\"],[\"Russian general Marenkov (Robert Shaw)...\",\"unknown\",\"-1\"],[\"Small-fry marijuana harvesters in Northern...\",\"comedy\",\"-1\"],[\"Omar Sharif plays Muhassab, headman...\",\"drama\",\"-1\"],[\"A young Lakota Sioux (Lou...\",\"drama\",\"-1\"],[\"The Chain tells the story...\",\"comedy\",\"-1\"],[\"The film is set in...\",\"biblical\",\"-1\"],[\"Hans a young German journalist...\",\"sex comedy\",\"-1\"],[\"Hikaru Oshiro, noticing that there...\",\"drama\",\"-1\"],[\"The drama tells of a...\",\"crime drama\",\"-1\"],[\"The title character is Victor...\",\"comedy\",\"-1\"],[\"During a TV segment about...\",\"horror\",\"-1\"],[\"Leslie is a troubled 1960s...\",\"drama\",\"-1\"],[\"Hajj, a rascally beggar on...\",\"costume drama\",\"-1\"],[\"Big-league baseball players Jerry and...\",\"musical\",\"-1\"],[\"Rakta Bandhan is a family...\",\"unknown\",\"-1\"],[\"Louisa Gould (Jenny Seagrove) hides...\",\"unknown\",\"-1\"],[\"In Renaissance Florence, a Florentine...\",\"drama\",\"-1\"],[\"Harry England (Michael Crawford), a...\",\"comedy\",\"-1\"],[\"This film is about the...\",\"thriller\",\"-1\"],[\"Marappan (Anandaraj) is the rebel...\",\"unknown\",\"-1\"],[\"When a town drunk, Gabe,...\",\"western\",\"-1\"],[\"After her mother was killed...\",\"action \\u002f comedy\",\"-1\"],[\"\\\"Illustrated Press\\\" society editor Lorelei...\",\"drama\",\"-1\"],[\"The spouses Alec and Zoey,...\",\"unknown\",\"-1\"],[\"When infamous jewel thief Flambeau...\",\"mystery\",\"-1\"],[\"Spanning nearly 20 years from...\",\"drama\",\"-1\"],[\"Raised by his Uncle Wu...\",\"fantasy \\u002f adventure\",\"-1\"],[\"During World War II singer...\",\"musical\",\"-1\"],[\"Newly transferred college student Lily...\",\"dramedy\",\"-1\"],[\"After the execution of Kattabomman...\",\"unknown\",\"-1\"],[\"A girl is about to...\",\"adventure, serial\",\"-1\"],[\"A young construction worker rams...\",\"drama\",\"-1\"],[\"Teenager Jackie Knowles (Richard Attenborough)...\",\"drama\",\"-1\"],[\"Alli (Manorama) a veritable jungle...\",\"unknown\",\"-1\"],[\"A new gas formula that...\",\"crime\",\"-1\"],[\"In Shanghai, Madeleine Linden is...\",\"comedy\",\"-1\"],[\"The film takes place in...\",\"unknown\",\"-1\"],[\"Raja is a 10-year-old tourist...\",\"unknown\",\"-1\"],[\"Crash Landing follows the tense...\",\"action\\u002fthriller\",\"-1\"],[\"A young woman goes to...\",\"thriller\",\"-1\"],[\"In a desperate attempt to...\",\"drama\",\"-1\"],[\"Rajini's parents are killed by...\",\"unknown\",\"-1\"],[\"Andy (Lee Bowman) and Janie...\",\"comedy\",\"-1\"],[\"A small Midwestern town is...\",\"comedy\",\"-1\"],[\"Leonard Maltin: \\\"Cute comic mystery......\",\"comedy\",\"-1\"],[\"Anand is a major in...\",\"action\",\"-1\"],[\"Pudhayal was about imaginary gold...\",\"unknown\",\"-1\"],[\"American gambler Nick Cain (Raft)...\",\"crime\",\"-1\"],[\"The first act of the...\",\"drama\",\"-1\"],[\"In Wilmington, Delaware, Anna Thompson...\",\"drama\",\"-1\"],[\"While in a restaurant, Carla...\",\"drama\",\"-1\"],[\"Seven young freedom fighters, heavily...\",\"unknown\",\"-1\"],[\"In the middle of a...\",\"drama\",\"-1\"],[\"Midget George Wilson pulls strings...\",\"drama\",\"-1\"],[\"The film plays out with...\",\"comedy\",\"-1\"],[\"The story revolves around a...\",\"unknown\",\"-1\"],[\"Loosely based on the historical...\",\"fantasy\",\"-1\"],[\"Daniels, in her final silent...\",\"romantic comedy\",\"-1\"],[\"Sachin Joshi is a Kabaddi...\",\"action\",\"-1\"],[\"Jung-woo is a film director...\",\"unknown\",\"-1\"],[\"Two sailors are conned into...\",\"comedy\",\"-1\"],[\"The story revolves around a...\",\"unknown\",\"-1\"],[\"Handsome and fairly good-looking Anil...\",\"unknown\",\"-1\"],[\"A lonely old man who...\",\"literary drama\",\"-1\"],[\"Big Fella is set on...\",\"musical\\u002fdrama\",\"-1\"],[\"In the remote and undeveloped...\",\"drama\",\"-1\"],[\"The film is about Jamie,...\",\"drama\",\"-1\"],[\"In the year 1999, the...\",\"tokusatsu\",\"-1\"],[\"The movie is about Ilangovan...\",\"comedy\",\"-1\"],[\"Bonnie and Connie Jones are...\",\"musical\",\"-1\"],[\"The story revolves around a...\",\"comedy drama\",\"-1\"],[\"Alvin Roberts (Lee Tracy) feuds...\",\"comedy\",\"-1\"],[\"Jean Paurel is a famous...\",\"drama\",\"-1\"],[\"Stephanie (Lyn Wilde) and Terry...\",\"comedy\",\"-1\"],[\"The story of the film,...\",\"crime\\u002fthriller\",\"-1\"],[\"While on a trip to...\",\"unknown\",\"-1\"],[\"Kiira seems like an ordinary...\",\"vampire film\",\"-1\"],[\"With the human exploitation of...\",\"comedy \\u002f animation \\u002f family \\u002f adventure\",\"-1\"],[\"New York City law professor...\",\"drama, crime\",\"-1\"],[\"Con man Rick Maxon (Payne)...\",\"film noir\",\"-1\"],[\"Two brothers become involved with...\",\"crime\",\"-1\"],[\"Napoleon Bonaparte (Charles Boyer) launches...\",\"drama\",\"-1\"],[\"The young brother of two...\",\"comedy\",\"-1\"],[\"The story centres on the...\",\"unknown\",\"-1\"],[\"Jennie Hagan (Swanson) is a...\",\"comedy\",\"-1\"],[\"Political journalist Jayadev (Meka Srikanth)...\",\"action\",\"-1\"],[\"Banerjee stars as Ram Das,...\",\"comedy\",\"-1\"],[\"Two persons namely Ajay and...\",\"unknown\",\"-1\"],[\"Story of a corpse being...\",\"unknown\",\"-1\"],[\"It is of the Jack...\",\"mystery\",\"-1\"],[\"The film revolves around the...\",\"unknown\",\"-1\"],[\"Anand (Shivrajkumar) was nicknamed \\\"Kaddipudi\\\"...\",\"unknown\",\"-1\"],[\"Vijay (MGR), a carefree and...\",\"unknown\",\"-1\"],[\"A spirit (\\\"Patrick\\\") haunts a...\",\"thriller\",\"-1\"],[\"The story follows a group...\",\"thriller\",\"-1\"],[\"A man loses his memory...\",\"unknown\",\"-1\"],[\"After being court-martialed and discharged...\",\"adventure\",\"-1\"],[\"In a quiet English town,...\",\"thriller\",\"-1\"],[\"Gracie (Fields) and Laurie (Dolman)...\",\"comedy\",\"-1\"],[\"The plot is a mystery...\",\"western\",\"-1\"],[\"The film tells the story...\",\"unknown\",\"-1\"]],\"hovertemplate\":\"cluster=%{customdata[2]}\\u003cbr\\u003ex-tsne=%{x}\\u003cbr\\u003ey-tsne=%{y}\\u003cbr\\u003etext=%{customdata[0]}\\u003cbr\\u003elabel=%{customdata[1]}\\u003cextra\\u003e\\u003c\\u002fextra\\u003e\",\"legendgroup\":\"-1\",\"marker\":{\"color\":\"#EF553B\",\"symbol\":\"circle\"},\"mode\":\"markers\",\"name\":\"-1\",\"orientation\":\"v\",\"showlegend\":true,\"x\":[8.257712364196777,5.009643077850342,-5.310770034790039,-4.3820719718933105,5.563476085662842,-3.009791851043701,-6.534955024719238,7.480871200561523,-4.808884620666504,4.63248348236084,-0.5815075039863586,8.764108657836914,-1.108508586883545,-2.377011299133301,-6.030075550079346,-2.6328229904174805,-0.5107619166374207,2.212857723236084,2.344933032989502,4.9285969734191895,-5.609200954437256,1.0203129053115845,-5.724947929382324,0.5263412594795227,0.7313678860664368,-0.13455374538898468,-8.131237983703613,4.3623247146606445,6.517717361450195,4.183669567108154,-0.4901624321937561,5.266811370849609,-7.240383625030518,3.9510905742645264,-4.318216800689697,2.2478718757629395,-0.6647645235061646,-1.5441595315933228,0.7937327027320862,-1.5381410121917725,-1.7155519723892212,-2.8373262882232666,5.693586349487305,-4.308572292327881,3.9729316234588623,3.4686343669891357,-6.652729511260986,2.1202595233917236,6.010714530944824,8.062647819519043,-5.999197959899902,7.216396808624268,0.753746509552002,-4.161777496337891,-0.36489319801330566,2.7268829345703125,-4.032603740692139,-3.385718822479248,3.627999782562256,4.011882305145264,6.944085597991943,1.109326720237732,-1.996414303779602,0.576550304889679,-2.908397674560547,-6.880002498626709,4.131044387817383,-1.6380175352096558,3.4602763652801514,6.019171237945557,8.250386238098145,-3.856788396835327,6.908613204956055,-5.121321201324463,1.8724710941314697,-2.299171209335327,0.5252751708030701,-7.116682529449463,1.398295521736145,-7.972168445587158,-0.09522642195224762,-0.26316842436790466,-4.799973487854004,7.304213047027588,2.274115800857544,6.309376239776611,-4.631590366363525,2.636784791946411,-6.474541187286377,-7.498119831085205,-4.1779913902282715,6.580935478210449,5.637685298919678,-0.8360868692398071,-4.056277751922607,1.658476710319519,3.3909027576446533,-2.047715425491333,-1.2179045677185059,7.092297077178955,-2.6033248901367188,-7.089982986450195,-1.7215760946273804,-0.3692602813243866,-3.047006368637085,-2.4846837520599365,6.2599592208862305,5.278049468994141,-7.263313293457031,-0.9977264404296875,2.6492726802825928,1.6413418054580688,7.176852226257324,1.3178452253341675,5.189380168914795,-1.8398288488388062,-7.550259590148926,2.271622657775879,0.8336233496665955,0.02694610506296158,-3.2100133895874023,-5.016185283660889,2.110506772994995,-0.3954392075538635,5.8010125160217285,-1.6881612539291382,-8.372621536254883,-0.08607849478721619,2.881816864013672,6.795472621917725,6.761735439300537,-2.5495455265045166,-8.358904838562012,5.635853290557861,7.066988945007324,0.5162885785102844,0.7630875110626221,-6.051718235015869,0.13424049317836761,5.85957145690918,-2.5887343883514404,5.198039531707764,4.401791095733643,3.4527747631073,4.158466339111328,1.0386090278625488,-4.774691581726074,8.214576721191406,8.103959083557129,3.121574878692627,2.5443034172058105,-3.731757640838623,-2.578657627105713,2.525764226913452,6.034557342529297,7.951767444610596,2.26584792137146,2.5789201259613037,1.2652095556259155,0.582486093044281,0.06295380741357803,2.717561721801758,2.1302907466888428,1.9800440073013306,5.017542362213135,-3.5650241374969482,-5.571293354034424,0.5328848958015442,1.2212872505187988,-1.3891853094100952,-1.2477201223373413,4.54014253616333,-3.475602388381958,4.633820533752441,8.235139846801758,-1.8181312084197998,2.9999802112579346,6.357637882232666,-7.604465961456299,-3.3380520343780518,0.7179202437400818,6.307583332061768,-8.427844047546387,-3.756786823272705,-4.535430908203125,6.795472621917725,3.534189224243164,-8.804676055908203,-5.906118869781494,-6.188089847564697,0.02437903732061386,-5.940461158752441,2.902160406112671,-0.9577596783638,1.4163843393325806,6.957373142242432,-0.5050589442253113,2.5728631019592285,1.9901448488235474,-7.535029888153076,-1.9579646587371826,2.904554843902588,-4.046515464782715,4.160139083862305,5.23579740524292,0.8708961606025696,2.062938690185547,-0.4831925928592682,5.140263080596924,-6.067693710327148,-2.68082857131958,-5.654359817504883,3.5070552825927734,4.518720626831055,-5.092229843139648,-8.932685852050781,1.3087722063064575,-2.9688258171081543,4.984988689422607,0.3870299458503723,-3.179774045944214,5.962201118469238,5.886687278747559,-3.6718595027923584,-5.361746788024902,7.2177324295043945,5.968054294586182,4.5773186683654785,6.483254909515381,4.571137428283691,0.34915122389793396,-3.486755132675171,4.060271263122559,2.0701756477355957,2.525773286819458,5.5984110832214355,8.496511459350586,3.4903318881988525,-6.6172404289245605,6.941178798675537,-6.353785037994385,4.650968074798584,5.856649875640869,5.024177551269531,2.8036394119262695,-7.296416282653809,-6.364380836486816,6.1880998611450195,-5.4684834480285645,1.478901982307434,1.0159252882003784,-9.23559856414795,3.337747097015381,-1.6679874658584595,2.2625088691711426,-0.05957215651869774,0.336414098739624,6.307523250579834,3.2933666706085205,3.5207579135894775,-2.9553186893463135,-1.388525128364563,1.3417094945907593,3.7607474327087402,-6.864456653594971,-4.244112968444824,-4.770882606506348,5.364963531494141],\"xaxis\":\"x\",\"y\":[5.897769451141357,6.279392242431641,2.7848243713378906,-3.1414730548858643,-0.3042672276496887,-5.076702117919922,-1.995063066482544,-1.6696670055389404,-2.165315628051758,7.311955451965332,2.9797775745391846,2.500919818878174,-3.1272873878479004,-3.5085792541503906,-0.15785866975784302,5.096811294555664,-5.176310062408447,2.338374137878418,-4.402400016784668,-3.293179988861084,-4.5166778564453125,-4.7421464920043945,-1.6863377094268799,-2.238011360168457,-7.326667308807373,-6.119076728820801,-3.9146034717559814,-2.762155055999756,7.34661340713501,5.810468673706055,-4.191984176635742,1.7377581596374512,-0.5879475474357605,-1.094262719154358,-4.126106262207031,-1.2632783651351929,1.0990363359451294,-5.1957268714904785,4.39396858215332,-4.498261451721191,2.046030044555664,0.25183677673339844,-3.5933525562286377,-5.262889862060547,1.0135952234268188,-5.781984806060791,-5.255837917327881,-4.8835601806640625,2.2290923595428467,-5.400466442108154,-1.0617111921310425,8.729574203491211,-0.8986898064613342,2.7681198120117188,-1.668378472328186,-0.2613137662410736,-0.24471522867679596,-0.25282803177833557,7.681535720825195,7.929433345794678,4.038055896759033,-7.25741720199585,-6.3573832511901855,0.04495728388428688,3.601468086242676,2.2711024284362793,0.9934132695198059,-4.160771369934082,-4.448980808258057,-3.7111971378326416,-2.488614082336426,-2.8476622104644775,4.401787757873535,-0.46551641821861267,-1.5146363973617554,-5.728867530822754,1.864846110343933,-3.2411317825317383,-8.10416316986084,-1.6670676469802856,4.099396228790283,-2.283071517944336,1.0895768404006958,-4.265171051025391,-6.698601245880127,-2.1962859630584717,0.6571035385131836,-6.391044616699219,-2.942376136779785,3.466794729232788,-1.1218507289886475,-0.13841205835342407,5.24843692779541,-1.2850313186645508,-0.8391071557998657,-0.679317057132721,-5.16005277633667,-0.545107364654541,-1.2454655170440674,3.7921791076660156,-2.3876547813415527,-1.3785794973373413,3.5979201793670654,-0.2745901346206665,0.0819234848022461,-1.3668662309646606,9.67400074005127,8.31495189666748,4.8913798332214355,3.084613561630249,1.0366413593292236,-2.4430394172668457,-3.2163562774658203,7.470613479614258,-0.48277828097343445,0.06721056997776031,1.306341290473938,6.469920635223389,-4.523916721343994,0.6459649801254272,-3.908252716064453,-2.6957943439483643,2.6377317905426025,-1.6139752864837646,-5.398220539093018,1.2150511741638184,-1.7233227491378784,-8.527997016906738,-3.8801753520965576,8.242629051208496,-1.5223149061203003,1.7899802923202515,-0.11450225114822388,6.502813339233398,6.6283392906188965,-0.9360425472259521,-6.039283752441406,3.782824993133545,6.226827621459961,7.004338264465332,2.6392831802368164,-2.198995351791382,-1.7753268480300903,0.6940600872039795,2.4113969802856445,-1.4756382703781128,4.188653469085693,-2.464048385620117,-0.8829301595687866,-2.041135787963867,0.004522581584751606,-6.475979328155518,-3.1355061531066895,-6.2516865730285645,10.211298942565918,7.586477279663086,2.690143585205078,6.671111106872559,0.5124559998512268,-8.363195419311523,3.839557409286499,1.39601731300354,1.5386918783187866,2.5738208293914795,4.403381824493408,-2.2058465480804443,-2.66896915435791,-4.872995853424072,0.0828452929854393,-2.2170443534851074,4.379395008087158,-5.8816704750061035,5.8280181884765625,-2.209954261779785,-2.5475873947143555,-4.881434440612793,-4.699118137359619,-6.263070583343506,1.9130700826644897,6.362053871154785,-2.549861431121826,9.296320915222168,-1.6498136520385742,1.6080787181854248,0.06583602726459503,8.242629051208496,6.69891357421875,-3.1755363941192627,-3.642989158630371,2.5168540477752686,2.214768648147583,1.829118013381958,-4.963351249694824,-6.010948657989502,-5.3953537940979,-2.3724710941314697,-8.23000431060791,-2.7530038356781006,0.9218818545341492,0.32244873046875,5.347583770751953,-6.927126407623291,0.9196521043777466,-7.252123832702637,3.3106119632720947,-3.3738532066345215,3.94212007522583,0.020689906552433968,7.460819721221924,0.5876275897026062,-7.61564302444458,5.519911766052246,7.956566333770752,9.045326232910156,2.2171103954315186,-0.23523744940757751,-1.5577282905578613,-1.8378454446792603,-1.3472687005996704,2.6215221881866455,-0.8278440833091736,-6.080998420715332,8.252237319946289,5.51345682144165,-6.9355950355529785,6.329514503479004,-5.405862331390381,-0.589995801448822,6.423501491546631,8.315591812133789,3.9698028564453125,-1.3871207237243652,-2.075939416885376,-3.562533140182495,-6.251756191253662,6.4752421379089355,0.6580538153648376,3.3401811122894287,-4.323143482208252,1.2042624950408936,0.7165395021438599,-4.700913906097412,8.716737747192383,0.8382809162139893,-8.370819091796875,-2.2765135765075684,-0.7697525024414062,-4.7785325050354,0.5009006857872009,1.7551051378250122,6.3323750495910645,1.1306785345077515,7.154446601867676,7.454951763153076,4.076807022094727,1.0179613828659058,5.837674617767334,5.644552707672119,2.429370403289795,-0.006740618962794542,0.921127438545227,0.5491731762886047,3.3687052726745605,-3.0249063968658447,-0.8108391165733337,-1.0884684324264526,3.9136486053466797,1.5916242599487305],\"yaxis\":\"y\",\"type\":\"scatter\"},{\"customdata\":[[\"Balu (Vijayakumar) and Padma (Manjula...\",\"unknown\",\"1\"],[\"Akashangalil is the story of...\",\"family\",\"1\"],[\"Vijay (R. Sarathkumar) and Seetha...\",\"unknown\",\"1\"],[\"Gopal (M.G.R.) is an honest...\",\"unknown\",\"1\"],[\"Kumar is a young and...\",\"unknown\",\"1\"]],\"hovertemplate\":\"cluster=%{customdata[2]}\\u003cbr\\u003ex-tsne=%{x}\\u003cbr\\u003ey-tsne=%{y}\\u003cbr\\u003etext=%{customdata[0]}\\u003cbr\\u003elabel=%{customdata[1]}\\u003cextra\\u003e\\u003c\\u002fextra\\u003e\",\"legendgroup\":\"1\",\"marker\":{\"color\":\"#00cc96\",\"symbol\":\"circle\"},\"mode\":\"markers\",\"name\":\"1\",\"orientation\":\"v\",\"showlegend\":true,\"x\":[5.726032257080078,6.170067310333252,5.679248332977295,5.335801601409912,5.635136127471924],\"xaxis\":\"x\",\"y\":[8.253113746643066,7.009763240814209,8.34810733795166,7.469124794006348,7.558320999145508],\"yaxis\":\"y\",\"type\":\"scatter\"}],                        {\"template\":{\"data\":{\"histogram2dcontour\":[{\"type\":\"histogram2dcontour\",\"colorbar\":{\"outlinewidth\":0,\"ticks\":\"\"},\"colorscale\":[[0.0,\"#0d0887\"],[0.1111111111111111,\"#46039f\"],[0.2222222222222222,\"#7201a8\"],[0.3333333333333333,\"#9c179e\"],[0.4444444444444444,\"#bd3786\"],[0.5555555555555556,\"#d8576b\"],[0.6666666666666666,\"#ed7953\"],[0.7777777777777778,\"#fb9f3a\"],[0.8888888888888888,\"#fdca26\"],[1.0,\"#f0f921\"]]}],\"choropleth\":[{\"type\":\"choropleth\",\"colorbar\":{\"outlinewidth\":0,\"ticks\":\"\"}}],\"histogram2d\":[{\"type\":\"histogram2d\",\"colorbar\":{\"outlinewidth\":0,\"ticks\":\"\"},\"colorscale\":[[0.0,\"#0d0887\"],[0.1111111111111111,\"#46039f\"],[0.2222222222222222,\"#7201a8\"],[0.3333333333333333,\"#9c179e\"],[0.4444444444444444,\"#bd3786\"],[0.5555555555555556,\"#d8576b\"],[0.6666666666666666,\"#ed7953\"],[0.7777777777777778,\"#fb9f3a\"],[0.8888888888888888,\"#fdca26\"],[1.0,\"#f0f921\"]]}],\"heatmap\":[{\"type\":\"heatmap\",\"colorbar\":{\"outlinewidth\":0,\"ticks\":\"\"},\"colorscale\":[[0.0,\"#0d0887\"],[0.1111111111111111,\"#46039f\"],[0.2222222222222222,\"#7201a8\"],[0.3333333333333333,\"#9c179e\"],[0.4444444444444444,\"#bd3786\"],[0.5555555555555556,\"#d8576b\"],[0.6666666666666666,\"#ed7953\"],[0.7777777777777778,\"#fb9f3a\"],[0.8888888888888888,\"#fdca26\"],[1.0,\"#f0f921\"]]}],\"heatmapgl\":[{\"type\":\"heatmapgl\",\"colorbar\":{\"outlinewidth\":0,\"ticks\":\"\"},\"colorscale\":[[0.0,\"#0d0887\"],[0.1111111111111111,\"#46039f\"],[0.2222222222222222,\"#7201a8\"],[0.3333333333333333,\"#9c179e\"],[0.4444444444444444,\"#bd3786\"],[0.5555555555555556,\"#d8576b\"],[0.6666666666666666,\"#ed7953\"],[0.7777777777777778,\"#fb9f3a\"],[0.8888888888888888,\"#fdca26\"],[1.0,\"#f0f921\"]]}],\"contourcarpet\":[{\"type\":\"contourcarpet\",\"colorbar\":{\"outlinewidth\":0,\"ticks\":\"\"}}],\"contour\":[{\"type\":\"contour\",\"colorbar\":{\"outlinewidth\":0,\"ticks\":\"\"},\"colorscale\":[[0.0,\"#0d0887\"],[0.1111111111111111,\"#46039f\"],[0.2222222222222222,\"#7201a8\"],[0.3333333333333333,\"#9c179e\"],[0.4444444444444444,\"#bd3786\"],[0.5555555555555556,\"#d8576b\"],[0.6666666666666666,\"#ed7953\"],[0.7777777777777778,\"#fb9f3a\"],[0.8888888888888888,\"#fdca26\"],[1.0,\"#f0f921\"]]}],\"surface\":[{\"type\":\"surface\",\"colorbar\":{\"outlinewidth\":0,\"ticks\":\"\"},\"colorscale\":[[0.0,\"#0d0887\"],[0.1111111111111111,\"#46039f\"],[0.2222222222222222,\"#7201a8\"],[0.3333333333333333,\"#9c179e\"],[0.4444444444444444,\"#bd3786\"],[0.5555555555555556,\"#d8576b\"],[0.6666666666666666,\"#ed7953\"],[0.7777777777777778,\"#fb9f3a\"],[0.8888888888888888,\"#fdca26\"],[1.0,\"#f0f921\"]]}],\"mesh3d\":[{\"type\":\"mesh3d\",\"colorbar\":{\"outlinewidth\":0,\"ticks\":\"\"}}],\"scatter\":[{\"fillpattern\":{\"fillmode\":\"overlay\",\"size\":10,\"solidity\":0.2},\"type\":\"scatter\"}],\"parcoords\":[{\"type\":\"parcoords\",\"line\":{\"colorbar\":{\"outlinewidth\":0,\"ticks\":\"\"}}}],\"scatterpolargl\":[{\"type\":\"scatterpolargl\",\"marker\":{\"colorbar\":{\"outlinewidth\":0,\"ticks\":\"\"}}}],\"bar\":[{\"error_x\":{\"color\":\"#2a3f5f\"},\"error_y\":{\"color\":\"#2a3f5f\"},\"marker\":{\"line\":{\"color\":\"#E5ECF6\",\"width\":0.5},\"pattern\":{\"fillmode\":\"overlay\",\"size\":10,\"solidity\":0.2}},\"type\":\"bar\"}],\"scattergeo\":[{\"type\":\"scattergeo\",\"marker\":{\"colorbar\":{\"outlinewidth\":0,\"ticks\":\"\"}}}],\"scatterpolar\":[{\"type\":\"scatterpolar\",\"marker\":{\"colorbar\":{\"outlinewidth\":0,\"ticks\":\"\"}}}],\"histogram\":[{\"marker\":{\"pattern\":{\"fillmode\":\"overlay\",\"size\":10,\"solidity\":0.2}},\"type\":\"histogram\"}],\"scattergl\":[{\"type\":\"scattergl\",\"marker\":{\"colorbar\":{\"outlinewidth\":0,\"ticks\":\"\"}}}],\"scatter3d\":[{\"type\":\"scatter3d\",\"line\":{\"colorbar\":{\"outlinewidth\":0,\"ticks\":\"\"}},\"marker\":{\"colorbar\":{\"outlinewidth\":0,\"ticks\":\"\"}}}],\"scattermapbox\":[{\"type\":\"scattermapbox\",\"marker\":{\"colorbar\":{\"outlinewidth\":0,\"ticks\":\"\"}}}],\"scatterternary\":[{\"type\":\"scatterternary\",\"marker\":{\"colorbar\":{\"outlinewidth\":0,\"ticks\":\"\"}}}],\"scattercarpet\":[{\"type\":\"scattercarpet\",\"marker\":{\"colorbar\":{\"outlinewidth\":0,\"ticks\":\"\"}}}],\"carpet\":[{\"aaxis\":{\"endlinecolor\":\"#2a3f5f\",\"gridcolor\":\"white\",\"linecolor\":\"white\",\"minorgridcolor\":\"white\",\"startlinecolor\":\"#2a3f5f\"},\"baxis\":{\"endlinecolor\":\"#2a3f5f\",\"gridcolor\":\"white\",\"linecolor\":\"white\",\"minorgridcolor\":\"white\",\"startlinecolor\":\"#2a3f5f\"},\"type\":\"carpet\"}],\"table\":[{\"cells\":{\"fill\":{\"color\":\"#EBF0F8\"},\"line\":{\"color\":\"white\"}},\"header\":{\"fill\":{\"color\":\"#C8D4E3\"},\"line\":{\"color\":\"white\"}},\"type\":\"table\"}],\"barpolar\":[{\"marker\":{\"line\":{\"color\":\"#E5ECF6\",\"width\":0.5},\"pattern\":{\"fillmode\":\"overlay\",\"size\":10,\"solidity\":0.2}},\"type\":\"barpolar\"}],\"pie\":[{\"automargin\":true,\"type\":\"pie\"}]},\"layout\":{\"autotypenumbers\":\"strict\",\"colorway\":[\"#636efa\",\"#EF553B\",\"#00cc96\",\"#ab63fa\",\"#FFA15A\",\"#19d3f3\",\"#FF6692\",\"#B6E880\",\"#FF97FF\",\"#FECB52\"],\"font\":{\"color\":\"#2a3f5f\"},\"hovermode\":\"closest\",\"hoverlabel\":{\"align\":\"left\"},\"paper_bgcolor\":\"white\",\"plot_bgcolor\":\"#E5ECF6\",\"polar\":{\"bgcolor\":\"#E5ECF6\",\"angularaxis\":{\"gridcolor\":\"white\",\"linecolor\":\"white\",\"ticks\":\"\"},\"radialaxis\":{\"gridcolor\":\"white\",\"linecolor\":\"white\",\"ticks\":\"\"}},\"ternary\":{\"bgcolor\":\"#E5ECF6\",\"aaxis\":{\"gridcolor\":\"white\",\"linecolor\":\"white\",\"ticks\":\"\"},\"baxis\":{\"gridcolor\":\"white\",\"linecolor\":\"white\",\"ticks\":\"\"},\"caxis\":{\"gridcolor\":\"white\",\"linecolor\":\"white\",\"ticks\":\"\"}},\"coloraxis\":{\"colorbar\":{\"outlinewidth\":0,\"ticks\":\"\"}},\"colorscale\":{\"sequential\":[[0.0,\"#0d0887\"],[0.1111111111111111,\"#46039f\"],[0.2222222222222222,\"#7201a8\"],[0.3333333333333333,\"#9c179e\"],[0.4444444444444444,\"#bd3786\"],[0.5555555555555556,\"#d8576b\"],[0.6666666666666666,\"#ed7953\"],[0.7777777777777778,\"#fb9f3a\"],[0.8888888888888888,\"#fdca26\"],[1.0,\"#f0f921\"]],\"sequentialminus\":[[0.0,\"#0d0887\"],[0.1111111111111111,\"#46039f\"],[0.2222222222222222,\"#7201a8\"],[0.3333333333333333,\"#9c179e\"],[0.4444444444444444,\"#bd3786\"],[0.5555555555555556,\"#d8576b\"],[0.6666666666666666,\"#ed7953\"],[0.7777777777777778,\"#fb9f3a\"],[0.8888888888888888,\"#fdca26\"],[1.0,\"#f0f921\"]],\"diverging\":[[0,\"#8e0152\"],[0.1,\"#c51b7d\"],[0.2,\"#de77ae\"],[0.3,\"#f1b6da\"],[0.4,\"#fde0ef\"],[0.5,\"#f7f7f7\"],[0.6,\"#e6f5d0\"],[0.7,\"#b8e186\"],[0.8,\"#7fbc41\"],[0.9,\"#4d9221\"],[1,\"#276419\"]]},\"xaxis\":{\"gridcolor\":\"white\",\"linecolor\":\"white\",\"ticks\":\"\",\"title\":{\"standoff\":15},\"zerolinecolor\":\"white\",\"automargin\":true,\"zerolinewidth\":2},\"yaxis\":{\"gridcolor\":\"white\",\"linecolor\":\"white\",\"ticks\":\"\",\"title\":{\"standoff\":15},\"zerolinecolor\":\"white\",\"automargin\":true,\"zerolinewidth\":2},\"scene\":{\"xaxis\":{\"backgroundcolor\":\"#E5ECF6\",\"gridcolor\":\"white\",\"linecolor\":\"white\",\"showbackground\":true,\"ticks\":\"\",\"zerolinecolor\":\"white\",\"gridwidth\":2},\"yaxis\":{\"backgroundcolor\":\"#E5ECF6\",\"gridcolor\":\"white\",\"linecolor\":\"white\",\"showbackground\":true,\"ticks\":\"\",\"zerolinecolor\":\"white\",\"gridwidth\":2},\"zaxis\":{\"backgroundcolor\":\"#E5ECF6\",\"gridcolor\":\"white\",\"linecolor\":\"white\",\"showbackground\":true,\"ticks\":\"\",\"zerolinecolor\":\"white\",\"gridwidth\":2}},\"shapedefaults\":{\"line\":{\"color\":\"#2a3f5f\"}},\"annotationdefaults\":{\"arrowcolor\":\"#2a3f5f\",\"arrowhead\":0,\"arrowwidth\":1},\"geo\":{\"bgcolor\":\"white\",\"landcolor\":\"#E5ECF6\",\"subunitcolor\":\"white\",\"showland\":true,\"showlakes\":true,\"lakecolor\":\"white\"},\"title\":{\"x\":0.05},\"mapbox\":{\"style\":\"light\"}}},\"xaxis\":{\"anchor\":\"y\",\"domain\":[0.0,1.0],\"title\":{\"text\":\"x-tsne\"}},\"yaxis\":{\"anchor\":\"x\",\"domain\":[0.0,1.0],\"title\":{\"text\":\"y-tsne\"}},\"legend\":{\"title\":{\"text\":\"cluster\"},\"tracegroupgap\":0},\"title\":{\"text\":\"Sentences t-SNE Visualization with FastText Embeddings and HDBSCAN Clustering\"},\"height\":1200,\"width\":1200},                        {\"responsive\": true}                    ).then(function(){\n",
       "                            \n",
       "var gd = document.getElementById('b3254f78-7819-4897-89e8-a6b4ada8fcf0');\n",
       "var x = new MutationObserver(function (mutations, observer) {{\n",
       "        var display = window.getComputedStyle(gd).display;\n",
       "        if (!display || display === 'none') {{\n",
       "            console.log([gd, 'removed!']);\n",
       "            Plotly.purge(gd);\n",
       "            observer.disconnect();\n",
       "        }}\n",
       "}});\n",
       "\n",
       "// Listen for the removal of the full notebook cells\n",
       "var notebookContainer = gd.closest('#notebook-container');\n",
       "if (notebookContainer) {{\n",
       "    x.observe(notebookContainer, {childList: true});\n",
       "}}\n",
       "\n",
       "// Listen for the clearing of the current output cell\n",
       "var outputEl = gd.closest('.output');\n",
       "if (outputEl) {{\n",
       "    x.observe(outputEl, {childList: true});\n",
       "}}\n",
       "\n",
       "                        })                };                });            </script>        </div>"
      ]
     },
     "metadata": {},
     "output_type": "display_data"
    }
   ],
   "source": [
    "# Create interactive scatter plot\n",
    "ft_df[\"cluster\"] = ft_df[\"cluster\"].astype(str)\n",
    "fig = px.scatter(\n",
    "    ft_df, x='x-tsne', y='y-tsne', color='cluster',\n",
    "    hover_data={'text': True, 'label': True, \"cluster\": True},\n",
    "    title='Sentences t-SNE Visualization with FastText Embeddings and HDBSCAN Clustering', width=1200, height=1200\n",
    ")\n",
    "\n",
    "# Show plot\n",
    "fig.show()"
   ]
  },
  {
   "cell_type": "code",
   "execution_count": 46,
   "metadata": {},
   "outputs": [],
   "source": [
    "tfidf_df['cluster'] = hdbscan.fit_predict(tfidf_emb_arr)"
   ]
  },
  {
   "cell_type": "code",
   "execution_count": 50,
   "metadata": {},
   "outputs": [
    {
     "data": {
      "application/vnd.plotly.v1+json": {
       "config": {
        "plotlyServerURL": "https://plot.ly"
       },
       "data": [
        {
         "customdata": [
          [
           "The film tells the story.........",
           "film noir",
           "0"
          ],
          [
           "Jagathalaprathapan is a prince who.........",
           "unknown",
           "0"
          ],
          [
           "Lewis and Clark and George.........",
           "drama",
           "0"
          ],
          [
           "In a British TV studio,.........",
           "comedy",
           "0"
          ],
          [
           "Mongol chief Temujin (later to.........",
           "adventure",
           "0"
          ],
          [
           "Reverend Smith has arrived in.........",
           "drama",
           "0"
          ],
          [
           "Following the plot of the.........",
           "drama",
           "0"
          ],
          [
           "The film is a story.........",
           "drama",
           "0"
          ],
          [
           "In World War II, two.........",
           "pow comedy",
           "0"
          ],
          [
           "This film is about a.........",
           "drama",
           "0"
          ],
          [
           "Balu (Vijayakumar) and Padma (Manjula.........",
           "unknown",
           "0"
          ],
          [
           "The film is an account.........",
           "drama",
           "0"
          ],
          [
           "Nikki Singh (Akshay Oberoi) is.........",
           "neo-noir",
           "0"
          ],
          [
           "In 1983 KBS launched a.........",
           "unknown",
           "0"
          ],
          [
           "Harvey Keitel plays an American.........",
           "crime drama",
           "0"
          ],
          [
           "Set in the austere post–World.........",
           "comedy",
           "0"
          ],
          [
           "This film is about two.........",
           "romance, comedy",
           "0"
          ],
          [
           "Italian aristocrat Angela Chiaromonte (Helen.........",
           "drama",
           "0"
          ],
          [
           "Rolex (Prakash Raj) is a.........",
           "unknown",
           "0"
          ],
          [
           "Inventor and engineer Robert Draper.........",
           "crime",
           "0"
          ],
          [
           "Hardy plays Dr. Henry Tibbett,.........",
           "comedy",
           "0"
          ],
          [
           "The film is an examination.........",
           "drama",
           "0"
          ],
          [
           "This film follows the lead.........",
           "action, sci-fi",
           "0"
          ],
          [
           "Unlike other Alamo films that.........",
           "western, war",
           "0"
          ],
          [
           "A San Francisco earthquake orphan.........",
           "comedy drama",
           "0"
          ],
          [
           "Nine people from around the.........",
           "unknown",
           "0"
          ],
          [
           "The film tells the story.........",
           "comedy",
           "0"
          ],
          [
           "The film takes place in.........",
           "unknown",
           "0"
          ],
          [
           "The story of the film.........",
           "unknown",
           "0"
          ],
          [
           "Hiraasat is an action film,.........",
           "action, crime, drama",
           "0"
          ],
          [
           "In 1964, inmate Charlie Forsythe.........",
           "drama",
           "0"
          ],
          [
           "The film tells the story.........",
           "comedy",
           "0"
          ],
          [
           "Gopal (M.G.R.) is an honest.........",
           "unknown",
           "0"
          ],
          [
           "A rivalry develops between veteran.........",
           "war",
           "0"
          ],
          [
           "In the autumn of 1950,.........",
           "drama / history / western",
           "0"
          ],
          [
           "This film is about the.........",
           "unknown",
           "0"
          ],
          [
           "Taglines: \"Being a girl is.........",
           "drama",
           "0"
          ],
          [
           "In a small town, mentally.........",
           "dramedy",
           "0"
          ],
          [
           "The story is a family.........",
           "unknown",
           "0"
          ],
          [
           "Set in Alexandria in 1938,.........",
           "drama",
           "0"
          ],
          [
           "The film is set in.........",
           "drama",
           "0"
          ],
          [
           "The film revolves around an.........",
           "drama",
           "0"
          ],
          [
           "Kumar is a young and.........",
           "unknown",
           "0"
          ],
          [
           "A new teacher organizes a.........",
           "unknown",
           "0"
          ],
          [
           "The plot of the film.........",
           "nature",
           "0"
          ],
          [
           "The film is a historical.........",
           "historical",
           "0"
          ],
          [
           "Big Bad Love shares its.........",
           "drama",
           "0"
          ],
          [
           "Kumar, a graduate who decides.........",
           "unknown",
           "0"
          ],
          [
           "The story revolves around a.........",
           "unknown",
           "0"
          ],
          [
           "A genius sculptor Joon-goo (Park.........",
           "unknown",
           "0"
          ],
          [
           "Hikaru Oshiro, noticing that there.........",
           "drama",
           "0"
          ],
          [
           "Chuck Wheeler is released from.........",
           "drama",
           "0"
          ],
          [
           "The title character is Victor.........",
           "comedy",
           "0"
          ],
          [
           "During a TV segment about.........",
           "horror",
           "0"
          ],
          [
           "Louisa Gould (Jenny Seagrove) hides.........",
           "unknown",
           "0"
          ],
          [
           "In Renaissance Florence, a Florentine.........",
           "drama",
           "0"
          ],
          [
           "This film is about the.........",
           "thriller",
           "0"
          ],
          [
           "When a town drunk, Gabe,.........",
           "western",
           "0"
          ],
          [
           "The spouses Alec and Zoey,.........",
           "unknown",
           "0"
          ],
          [
           "Spanning nearly 20 years from.........",
           "drama",
           "0"
          ],
          [
           "During World War II singer.........",
           "musical",
           "0"
          ],
          [
           "After the execution of Kattabomman.........",
           "unknown",
           "0"
          ],
          [
           "A young construction worker rams.........",
           "drama",
           "0"
          ],
          [
           "In Shanghai, Madeleine Linden is.........",
           "comedy",
           "0"
          ],
          [
           "Kaalia is an action flick.........",
           "unknown",
           "0"
          ],
          [
           "Loosely based on the historical.........",
           "fantasy",
           "0"
          ],
          [
           "Jung-woo is a film director.........",
           "unknown",
           "0"
          ],
          [
           "Handsome and fairly good-looking Anil.........",
           "unknown",
           "0"
          ],
          [
           "The film is about Jamie,.........",
           "drama",
           "0"
          ],
          [
           "The story revolves around a.........",
           "comedy drama",
           "0"
          ],
          [
           "The story of the film,.........",
           "crime/thriller",
           "0"
          ],
          [
           "While on a trip to.........",
           "unknown",
           "0"
          ],
          [
           "New York City law professor.........",
           "drama, crime",
           "0"
          ],
          [
           "Con man Rick Maxon (Payne).........",
           "film noir",
           "0"
          ],
          [
           "Banerjee stars as Ram Das,.........",
           "comedy",
           "0"
          ],
          [
           "The plot is a mystery.........",
           "western",
           "0"
          ]
         ],
         "hovertemplate": "cluster=%{customdata[2]}<br>x-tsne=%{x}<br>y-tsne=%{y}<br>text=%{customdata[0]}<br>label=%{customdata[1]}<extra></extra>",
         "legendgroup": "0",
         "marker": {
          "color": "#636efa",
          "symbol": "circle"
         },
         "mode": "markers",
         "name": "0",
         "orientation": "v",
         "showlegend": true,
         "type": "scatter",
         "x": [
          1.1554052829742432,
          -0.23735962808132172,
          -11.44797420501709,
          22.045429229736328,
          -12.67679214477539,
          -12.503375053405762,
          8.482593536376953,
          -5.4723920822143555,
          2.306602954864502,
          8.059215545654297,
          -15.503911972045898,
          -2.9834680557250977,
          15.618880271911621,
          3.063704013824463,
          5.326963424682617,
          0.046543560922145844,
          -2.9350826740264893,
          4.25441312789917,
          -16.358970642089844,
          14.238686561584473,
          3.7198853492736816,
          -1.899875283241272,
          -5.163403034210205,
          6.760206699371338,
          -12.075523376464844,
          12.167933464050293,
          2.353792190551758,
          -1.1446715593338013,
          1.7637526988983154,
          -5.22819709777832,
          14.49671459197998,
          2.0656678676605225,
          -10.19206714630127,
          2.373734951019287,
          7.957415580749512,
          -16.987112045288086,
          -12.979239463806152,
          0.9115869402885437,
          -7.010389804840088,
          21.012163162231445,
          12.730053901672363,
          -9.745280265808105,
          -16.882091522216797,
          -12.01499080657959,
          6.2175612449646,
          -0.20115096867084503,
          -6.205898284912109,
          7.482719898223877,
          15.165557861328125,
          3.766108512878418,
          -12.105367660522461,
          13.238537788391113,
          0.6817915439605713,
          12.204448699951172,
          2.1884727478027344,
          -12.79057502746582,
          -16.99117088317871,
          4.372526168823242,
          -4.952273845672607,
          1.1774556636810303,
          6.522385597229004,
          20.305490493774414,
          -11.869987487792969,
          -12.320259094238281,
          14.797677993774414,
          6.021273136138916,
          13.646707534790039,
          14.016322135925293,
          4.093108177185059,
          -11.987889289855957,
          -7.958926677703857,
          -9.435501098632812,
          -0.49422013759613037,
          -12.014385223388672,
          -10.589913368225098,
          10.967130661010742
         ],
         "xaxis": "x",
         "y": [
          11.794929504394531,
          -19.202499389648438,
          -17.965883255004883,
          6.230123519897461,
          -2.015561819076538,
          -0.9853596091270447,
          15.923720359802246,
          3.231205940246582,
          15.559917449951172,
          11.934697151184082,
          3.098602294921875,
          9.295942306518555,
          -9.834242820739746,
          12.234879493713379,
          19.211435317993164,
          14.261184692382812,
          7.593474388122559,
          15.007232666015625,
          4.735386848449707,
          -13.058540344238281,
          -8.588387489318848,
          16.609941482543945,
          10.839418411254883,
          17.3436336517334,
          -0.6588912010192871,
          17.273181915283203,
          -12.285110473632812,
          13.32758617401123,
          18.824113845825195,
          11.277674674987793,
          -13.614823341369629,
          19.6922550201416,
          -2.2505264282226562,
          13.524895668029785,
          14.699944496154785,
          6.525848865509033,
          -12.234997749328613,
          -9.809185981750488,
          10.283554077148438,
          6.457920551300049,
          15.916096687316895,
          5.851813316345215,
          5.021002769470215,
          -9.738265037536621,
          -9.507411003112793,
          7.737030982971191,
          9.03226375579834,
          14.5446195602417,
          -14.121630668640137,
          11.234885215759277,
          -12.53127384185791,
          -14.166797637939453,
          15.310995101928711,
          16.448265075683594,
          14.347306251525879,
          6.944995880126953,
          6.526562213897705,
          -8.318777084350586,
          -7.523962497711182,
          14.618690490722656,
          14.964797973632812,
          6.397367477416992,
          -4.832376956939697,
          1.4553368091583252,
          -10.659797668457031,
          -10.554491996765137,
          10.484228134155273,
          -10.242088317871094,
          -6.370029449462891,
          2.4417505264282227,
          8.165258407592773,
          -1.5923256874084473,
          1.5303689241409302,
          -3.8488504886627197,
          -1.211592435836792,
          15.9934720993042
         ],
         "yaxis": "y"
        },
        {
         "customdata": [
          [
           "The eventful life of Swami.........",
           "biography",
           "-1"
          ],
          [
           "The story is about two.........",
           "unknown",
           "-1"
          ],
          [
           "George Cabot Jr. (Cesar Romero),.........",
           "comedy, romance",
           "-1"
          ],
          [
           "In 1962, South Korea. Kang.........",
           "unknown",
           "-1"
          ],
          [
           "Neil John Samuel is a.........",
           "comedy",
           "-1"
          ],
          [
           "Young sci-fi/fantasy enthusiast Gavin Gore.........",
           "comedy",
           "-1"
          ],
          [
           "Vani Viswanath plays the central.........",
           "unknown",
           "-1"
          ],
          [
           "Oliver's mother, a penniless outcast,.........",
           "drama",
           "-1"
          ],
          [
           "A popular dance hall girl,.........",
           "comedy",
           "-1"
          ],
          [
           "Mordecai C. Jones (Scott) –.........",
           "comedy",
           "-1"
          ],
          [
           "Flesh (Vince Murdocco) is kidnapped.........",
           "comedy",
           "-1"
          ],
          [
           "A psychoanalyst and his young.........",
           "film noir",
           "-1"
          ],
          [
           "Shellshocked following his experiences as.........",
           "adventure",
           "-1"
          ],
          [
           "The story starts with a.........",
           "romance / suspense",
           "-1"
          ],
          [
           "Byron Levin works in a.........",
           "drama",
           "-1"
          ],
          [
           "It is love at first.........",
           "romance",
           "-1"
          ],
          [
           "3000 years ago, the Vader.........",
           "unknown",
           "-1"
          ],
          [
           "Having cleaned up Tombstone, Arizona,.........",
           "western",
           "-1"
          ],
          [
           "An orphan girl, named Bindu.........",
           "unknown",
           "-1"
          ],
          [
           "The story is about a.........",
           "romantic comedy",
           "-1"
          ],
          [
           "Kisan Kanya was based on.........",
           "social",
           "-1"
          ],
          [
           "A psychic woman leads archaeologists.........",
           "horror",
           "-1"
          ],
          [
           "Stand-up-comedian Nikita Kolesnikov (Danila Kozlovsky).........",
           "unknown",
           "-1"
          ],
          [
           "Two reporters, Curtis (Conrad Phillips).........",
           "crime",
           "-1"
          ],
          [
           "Two best friends who live.........",
           "comedy",
           "-1"
          ],
          [
           "Claire of the Moon is.........",
           "unknown",
           "-1"
          ],
          [
           "Curry and Pepper are two.........",
           "comedy",
           "-1"
          ],
          [
           "Joseph is a mentally retarded.........",
           "unknown",
           "-1"
          ],
          [
           "Loosely based on true events.........",
           "romance",
           "-1"
          ],
          [
           "Bok-nyeo, a mentally handicapped woman,.........",
           "drama",
           "-1"
          ],
          [
           "Dr. Markoff (J. Carrol Naish).........",
           "science fiction",
           "-1"
          ],
          [
           "The plot revolves around the.........",
           "coming of age drama",
           "-1"
          ],
          [
           "The movie opens with Fung.........",
           "erotic / drama",
           "-1"
          ],
          [
           "On the run from the.........",
           "unknown",
           "-1"
          ],
          [
           "A man visits a happy.........",
           "unknown",
           "-1"
          ],
          [
           "Rahul (Ramankanth) sees a concert.........",
           "unknown",
           "-1"
          ],
          [
           "A crime reporter, assisted by.........",
           "drama",
           "-1"
          ],
          [
           "Scott (Ryan Phillippe) is a.........",
           "romantic comedy",
           "-1"
          ],
          [
           "Irène Bordoni is cast as.........",
           "musical comedy",
           "-1"
          ],
          [
           "Cosmo Reif, an affectless mob.........",
           "comedy, thriller",
           "-1"
          ],
          [
           "Edgar Mills and his mistress.........",
           "crime",
           "-1"
          ],
          [
           "Molly Gilbert won't accept a.........",
           "comedy",
           "-1"
          ],
          [
           "Marianne (Greta Garbo) is a.........",
           "drama",
           "-1"
          ],
          [
           "Shane O'Shea is a young.........",
           "drama",
           "-1"
          ],
          [
           "Bumbling cop Chatur Singh (Sanjay.........",
           "comedy",
           "-1"
          ],
          [
           "Dhag is the story of.........",
           "drama",
           "-1"
          ],
          [
           "A Mighty Heart is a.........",
           "drama",
           "-1"
          ],
          [
           "The film is a retelling.........",
           "fantasy",
           "-1"
          ],
          [
           "Two escaping killers hide out.........",
           "suspense",
           "-1"
          ],
          [
           "A young sculptor searches for.........",
           "unknown",
           "-1"
          ],
          [
           "After discovering that her state.........",
           "comedy",
           "-1"
          ],
          [
           "Struggling young actress Jenny (Marjorie.........",
           "comedy",
           "-1"
          ],
          [
           "The Kitauji high school concert.........",
           "drama, youth, musical, romance, idol",
           "-1"
          ],
          [
           "In every port, sailor Bill,.........",
           "comedy",
           "-1"
          ],
          [
           "Lost & Found is basically.........",
           "romance, drama",
           "-1"
          ],
          [
           "Joan (Purviance) and Magdalen (Sothern).........",
           "unknown",
           "-1"
          ],
          [
           "Hong Deok-Ja continues to run.........",
           "comedy",
           "-1"
          ],
          [
           "Indie musician Dong-hoon and cartoonist.........",
           "unknown",
           "-1"
          ],
          [
           "The story tells about Ching.........",
           "unknown",
           "-1"
          ],
          [
           "A former agent from the.........",
           "unknown",
           "-1"
          ],
          [
           "The story involves a middle-aged.........",
           "western",
           "-1"
          ],
          [
           "Gloria Cole and Eddie Swenson.........",
           "drama",
           "-1"
          ],
          [
           "The film is about an.........",
           "drama",
           "-1"
          ],
          [
           "An earthquake releases a bunch.........",
           "unknown",
           "-1"
          ],
          [
           "The story line centres on.........",
           "musical",
           "-1"
          ],
          [
           "Stephen Ghent, a mineowner, falls.........",
           "western",
           "-1"
          ],
          [
           "Sets in the 19th century,.........",
           "romantic drama",
           "-1"
          ],
          [
           "Akashangalil is the story of.........",
           "family",
           "-1"
          ],
          [
           "Sally Elliott (Rita Hayworth), a.........",
           "musical biopic",
           "-1"
          ],
          [
           "After Joe Huggett loses his.........",
           "comedy",
           "-1"
          ],
          [
           "Chaiti is a young beautiful.........",
           "drama",
           "-1"
          ],
          [
           "Roanne Sanchez, a young girl.........",
           "romance, drama",
           "-1"
          ],
          [
           "The Hartford Transcontinental Railroad is.........",
           "western serial",
           "-1"
          ],
          [
           "Eric Wainwright (Van Johnson), a.........",
           "comedy",
           "-1"
          ],
          [
           "Kevin Agar is a Carlton-based.........",
           "comedy",
           "-1"
          ],
          [
           "Trust concerns the unusual romance.........",
           "romantic comedy",
           "-1"
          ],
          [
           "Restaurant owner Dylan Ramsey (David.........",
           "comedy",
           "-1"
          ],
          [
           "Dharma (Anandaraj) is an auto.........",
           "unknown",
           "-1"
          ],
          [
           "After being told by his.........",
           "western",
           "-1"
          ],
          [
           "Arjun lives in a village..........",
           "unknown",
           "-1"
          ],
          [
           "Jerry McGuire (William Collier Jr.).........",
           "comedy",
           "-1"
          ],
          [
           "Chu Liuxiang is having drinks.........",
           "unknown",
           "-1"
          ],
          [
           "Charles Kessler (Bela Lugosi) is.........",
           "horror",
           "-1"
          ],
          [
           "United States Secret Service Lieutenant.........",
           "crime",
           "-1"
          ],
          [
           "Fontaine Khaled is the London.........",
           "drama",
           "-1"
          ],
          [
           "Professional hunter Harry Black is.........",
           "adventure",
           "-1"
          ],
          [
           "Tulsi tells the story of.........",
           " ",
           "-1"
          ],
          [
           "California gubernatorial candidate Burton (Lyon).........",
           "drama",
           "-1"
          ],
          [
           "A 12-year old young boy.........",
           "drama",
           "-1"
          ],
          [
           "Soo-nam is a poor woman.........",
           "unknown",
           "-1"
          ],
          [
           "The film's slight storyline concerns.........",
           "comedy",
           "-1"
          ],
          [
           "Rie and Nao own a.........",
           "drama",
           "-1"
          ],
          [
           "A simple handyman, who also.........",
           "comedy",
           "-1"
          ],
          [
           "Karthi (Mahesh) is a college.........",
           "romantic thriller",
           "-1"
          ],
          [
           "The story of the film.........",
           "mystery",
           "-1"
          ],
          [
           "The film stars Harry Connick.........",
           "drama",
           "-1"
          ],
          [
           "A blind detective, Duncan Maclain,.........",
           "mystery",
           "-1"
          ],
          [
           "Vijay (R. Sarathkumar) and Seetha.........",
           "unknown",
           "-1"
          ],
          [
           "Vivek is a wanted criminal.........",
           "unknown",
           "-1"
          ],
          [
           "Three teenage boys in small-town.........",
           "drama",
           "-1"
          ],
          [
           "In a Mexican nightclub, some.........",
           "comedy",
           "-1"
          ],
          [
           "Officers throw an extravagant party.........",
           "comedy",
           "-1"
          ],
          [
           "A bullied teen chef wants.........",
           "comedy-drama",
           "-1"
          ],
          [
           "Flagg (Victor McLaglen) and Quirt.........",
           "musical comedy",
           "-1"
          ],
          [
           "Nick (Niven) is the supposed.........",
           "comedy",
           "-1"
          ],
          [
           "Raised on a sharecropping plantation.........",
           "biography",
           "-1"
          ],
          [
           "Newland Archer is engaged to.........",
           "drama",
           "-1"
          ],
          [
           "Chandrabose (Mohanlal) whose wife's (Meera.........",
           "comedy",
           "-1"
          ],
          [
           "Frankie Bono, a hitman from.........",
           "thriller",
           "-1"
          ],
          [
           "The Philippines, 1972. Mysterious things.........",
           "drama",
           "-1"
          ],
          [
           "Two days before Christmas, a.........",
           "thriller",
           "-1"
          ],
          [
           "Michael Walsh, a husband and.........",
           "drama",
           "-1"
          ],
          [
           "On board an ocean liner.........",
           "comedy",
           "-1"
          ],
          [
           "Alim is a young gay.........",
           "romantic comedy",
           "-1"
          ],
          [
           "Twice widowed, Pilnyeo vows never.........",
           "unknown",
           "-1"
          ],
          [
           "Convict Van Duff is the.........",
           "film noir",
           "-1"
          ],
          [
           "A U.S. marshal investigates when.........",
           "western",
           "-1"
          ],
          [
           "The story of a 10th.........",
           "rom com",
           "-1"
          ],
          [
           "In the 1930s, Teresa (Buday).........",
           "unknown",
           "-1"
          ],
          [
           "The boys are involved in.........",
           "comedy",
           "-1"
          ],
          [
           "John Murdock (Paul Richards) is.........",
           "western",
           "-1"
          ],
          [
           "In the year 1999, the.........",
           "unknown",
           "-1"
          ],
          [
           "The film is based on.........",
           "unknown",
           "-1"
          ],
          [
           "Jin-hong is a prosecutor who.........",
           "unknown",
           "-1"
          ],
          [
           "Ten-year-old Bobby (Frankie Thomas) and.........",
           "drama",
           "-1"
          ],
          [
           "Brinda (Sindhu Tolani) is an.........",
           "drama",
           "-1"
          ],
          [
           "An old gangster, with a.........",
           "thriller",
           "-1"
          ],
          [
           "The Rogers family visit Blackpool.........",
           "comedy",
           "-1"
          ],
          [
           "The film is about an.........",
           "short black comedy",
           "-1"
          ],
          [
           "A mysterious killer, known only.........",
           "drama",
           "-1"
          ],
          [
           "Agimat (Bong Revilla, Jr.) is.........",
           "fantasy, comedy, adventure",
           "-1"
          ],
          [
           "The young filmmaker Timothy (Jonathan.........",
           "comedy",
           "-1"
          ],
          [
           "A prospective settler, pioneer Bob.........",
           "western",
           "-1"
          ],
          [
           "Julia Hemingway (Ina Skriver, credited.........",
           "thriller",
           "-1"
          ],
          [
           "Russian general Marenkov (Robert Shaw).........",
           "unknown",
           "-1"
          ],
          [
           "Small-fry marijuana harvesters in Northern.........",
           "comedy",
           "-1"
          ],
          [
           "Omar Sharif plays Muhassab, headman.........",
           "drama",
           "-1"
          ],
          [
           "A young Lakota Sioux (Lou.........",
           "drama",
           "-1"
          ],
          [
           "The Chain tells the story.........",
           "comedy",
           "-1"
          ],
          [
           "The film is set in.........",
           "biblical",
           "-1"
          ],
          [
           "Hans a young German journalist.........",
           "sex comedy",
           "-1"
          ],
          [
           "The drama tells of a.........",
           "crime drama",
           "-1"
          ],
          [
           "Nick and Nora Charles are.........",
           "mystery",
           "-1"
          ],
          [
           "Leslie is a troubled 1960s.........",
           "drama",
           "-1"
          ],
          [
           "Hajj, a rascally beggar on.........",
           "costume drama",
           "-1"
          ],
          [
           "Big-league baseball players Jerry and.........",
           "musical",
           "-1"
          ],
          [
           "With five rival oil companies.........",
           "crime drama",
           "-1"
          ],
          [
           "Rakta Bandhan is a family.........",
           "unknown",
           "-1"
          ],
          [
           "Harry England (Michael Crawford), a.........",
           "comedy",
           "-1"
          ],
          [
           "Marappan (Anandaraj) is the rebel.........",
           "unknown",
           "-1"
          ],
          [
           "After her mother was killed.........",
           "action / comedy",
           "-1"
          ],
          [
           "\"Illustrated Press\" society editor Lorelei.........",
           "drama",
           "-1"
          ],
          [
           "When infamous jewel thief Flambeau.........",
           "mystery",
           "-1"
          ],
          [
           "Raised by his Uncle Wu.........",
           "fantasy / adventure",
           "-1"
          ],
          [
           "Newly transferred college student Lily.........",
           "dramedy",
           "-1"
          ],
          [
           "A girl is about to.........",
           "adventure, serial",
           "-1"
          ],
          [
           "Teenager Jackie Knowles (Richard Attenborough).........",
           "drama",
           "-1"
          ],
          [
           "Alli (Manorama) a veritable jungle.........",
           "unknown",
           "-1"
          ],
          [
           "A new gas formula that.........",
           "crime",
           "-1"
          ],
          [
           "The film takes place in.........",
           "unknown",
           "-1"
          ],
          [
           "Raja is a 10-year-old tourist.........",
           "unknown",
           "-1"
          ],
          [
           "Crash Landing follows the tense.........",
           "action/thriller",
           "-1"
          ],
          [
           "In a desperate attempt to.........",
           "drama",
           "-1"
          ],
          [
           "Rajini's parents are killed by.........",
           "unknown",
           "-1"
          ],
          [
           "Andy (Lee Bowman) and Janie.........",
           "comedy",
           "-1"
          ],
          [
           "A small Midwestern town is.........",
           "comedy",
           "-1"
          ],
          [
           "Rosalind Dee (DeCarlo) is a.........",
           "film noir",
           "-1"
          ],
          [
           "Leonard Maltin: \"Cute comic mystery............",
           "comedy",
           "-1"
          ],
          [
           "Anand is a major in.........",
           "action",
           "-1"
          ],
          [
           "Pudhayal was about imaginary gold.........",
           "unknown",
           "-1"
          ],
          [
           "American gambler Nick Cain (Raft).........",
           "crime",
           "-1"
          ],
          [
           "The first act of the.........",
           "drama",
           "-1"
          ],
          [
           "In Wilmington, Delaware, Anna Thompson.........",
           "drama",
           "-1"
          ],
          [
           "While in a restaurant, Carla.........",
           "drama",
           "-1"
          ],
          [
           "Seven young freedom fighters, heavily.........",
           "unknown",
           "-1"
          ],
          [
           "In the middle of a.........",
           "drama",
           "-1"
          ],
          [
           "Chad (Jimmie Rodgers) is a.........",
           "drama",
           "-1"
          ],
          [
           "Midget George Wilson pulls strings.........",
           "drama",
           "-1"
          ],
          [
           "The film plays out with.........",
           "comedy",
           "-1"
          ],
          [
           "The story revolves around a.........",
           "unknown",
           "-1"
          ],
          [
           "Daniels, in her final silent.........",
           "romantic comedy",
           "-1"
          ],
          [
           "Sachin Joshi is a Kabaddi.........",
           "action",
           "-1"
          ],
          [
           "Two sailors are conned into.........",
           "comedy",
           "-1"
          ],
          [
           "The story revolves around a.........",
           "unknown",
           "-1"
          ],
          [
           "A lonely old man who.........",
           "literary drama",
           "-1"
          ],
          [
           "Big Fella is set on.........",
           "musical/drama",
           "-1"
          ],
          [
           "In the remote and undeveloped.........",
           "drama",
           "-1"
          ],
          [
           "In the year 1999, the.........",
           "tokusatsu",
           "-1"
          ],
          [
           "The movie is about Ilangovan.........",
           "comedy",
           "-1"
          ],
          [
           "Bonnie and Connie Jones are.........",
           "musical",
           "-1"
          ],
          [
           "Alvin Roberts (Lee Tracy) feuds.........",
           "comedy",
           "-1"
          ],
          [
           "Jean Paurel is a famous.........",
           "drama",
           "-1"
          ],
          [
           "Stephanie (Lyn Wilde) and Terry.........",
           "comedy",
           "-1"
          ],
          [
           "Kiira seems like an ordinary.........",
           "vampire film",
           "-1"
          ],
          [
           "With the human exploitation of.........",
           "comedy / animation / family / adventure",
           "-1"
          ],
          [
           "Two brothers become involved with.........",
           "crime",
           "-1"
          ],
          [
           "Napoleon Bonaparte (Charles Boyer) launches.........",
           "drama",
           "-1"
          ],
          [
           "The young brother of two.........",
           "comedy",
           "-1"
          ],
          [
           "The story centres on the.........",
           "unknown",
           "-1"
          ],
          [
           "Jennie Hagan (Swanson) is a.........",
           "comedy",
           "-1"
          ],
          [
           "Political journalist Jayadev (Meka Srikanth).........",
           "action",
           "-1"
          ],
          [
           "Two persons namely Ajay and.........",
           "unknown",
           "-1"
          ],
          [
           "Story of a corpse being.........",
           "unknown",
           "-1"
          ],
          [
           "It is of the Jack.........",
           "mystery",
           "-1"
          ],
          [
           "The film revolves around the.........",
           "unknown",
           "-1"
          ],
          [
           "Anand (Shivrajkumar) was nicknamed \"Kaddipudi\".........",
           "unknown",
           "-1"
          ],
          [
           "Vijay (MGR), a carefree and.........",
           "unknown",
           "-1"
          ],
          [
           "The story follows a group.........",
           "thriller",
           "-1"
          ],
          [
           "Four friends go on a.........",
           "drama",
           "-1"
          ],
          [
           "A man loses his memory.........",
           "unknown",
           "-1"
          ],
          [
           "After being court-martialed and discharged.........",
           "adventure",
           "-1"
          ],
          [
           "In a quiet English town,.........",
           "thriller",
           "-1"
          ],
          [
           "Following a series of robberies.........",
           "western",
           "-1"
          ],
          [
           "Gracie (Fields) and Laurie (Dolman).........",
           "comedy",
           "-1"
          ],
          [
           "The film tells the story.........",
           "unknown",
           "-1"
          ]
         ],
         "hovertemplate": "cluster=%{customdata[2]}<br>x-tsne=%{x}<br>y-tsne=%{y}<br>text=%{customdata[0]}<br>label=%{customdata[1]}<extra></extra>",
         "legendgroup": "-1",
         "marker": {
          "color": "#EF553B",
          "symbol": "circle"
         },
         "mode": "markers",
         "name": "-1",
         "orientation": "v",
         "showlegend": true,
         "type": "scatter",
         "x": [
          -3.541018486022949,
          -7.386903285980225,
          -12.414907455444336,
          -12.202765464782715,
          2.400984048843384,
          6.519029140472412,
          15.05556869506836,
          -9.236103057861328,
          10.703437805175781,
          9.37916374206543,
          -21.36250877380371,
          19.286849975585938,
          -18.404104232788086,
          1.7167679071426392,
          -11.979679107666016,
          -9.912848472595215,
          -7.055501461029053,
          19.773027420043945,
          -10.39400577545166,
          7.232339859008789,
          0.3291384279727936,
          6.122893333435059,
          -5.0906243324279785,
          0.5935494303703308,
          -6.802555084228516,
          2.8684287071228027,
          -9.555842399597168,
          10.170613288879395,
          0.04272686690092087,
          4.261369705200195,
          -15.315720558166504,
          -4.759962558746338,
          10.52133846282959,
          -21.36316680908203,
          -9.69793701171875,
          -14.818196296691895,
          -11.334671974182129,
          -3.67055606842041,
          -9.365360260009766,
          -15.06737232208252,
          10.885571479797363,
          4.133223533630371,
          6.859381198883057,
          1.0256983041763306,
          14.13563060760498,
          -7.7899627685546875,
          -17.885517120361328,
          -20.10967254638672,
          0.7207021117210388,
          -7.330031871795654,
          1.4762299060821533,
          15.130836486816406,
          -11.149721145629883,
          6.075677394866943,
          -18.807071685791016,
          -6.5487589836120605,
          6.984147071838379,
          -6.2333526611328125,
          -1.4639328718185425,
          3.7326910495758057,
          17.85972785949707,
          3.796139717102051,
          4.0405354499816895,
          -7.655555725097656,
          4.451868534088135,
          -13.403449058532715,
          10.616388320922852,
          0.6886231303215027,
          -5.02023458480835,
          3.734266519546509,
          7.811325550079346,
          -7.126325607299805,
          0.6815193295478821,
          -15.192366600036621,
          -7.700482368469238,
          -7.994258880615234,
          10.469046592712402,
          13.989282608032227,
          19.060007095336914,
          -18.440351486206055,
          -20.329862594604492,
          -3.315253257751465,
          1.373146891593933,
          10.491466522216797,
          3.9577393531799316,
          5.6894731521606445,
          6.804184436798096,
          2.1203315258026123,
          -8.618443489074707,
          12.269396781921387,
          -2.275540590286255,
          4.809753894805908,
          2.264615297317505,
          -2.503451108932495,
          0.5361200571060181,
          -4.680099964141846,
          9.263174057006836,
          -16.090089797973633,
          3.2667386531829834,
          10.833749771118164,
          -0.33859285712242126,
          -21.60548210144043,
          3.749079704284668,
          -4.588180065155029,
          -2.3296866416931152,
          -0.34941792488098145,
          20.50084114074707,
          -5.583014488220215,
          -1.6707452535629272,
          8.74201774597168,
          1.390874981880188,
          -12.483210563659668,
          -11.119277954101562,
          2.434488296508789,
          -7.492591381072998,
          12.004380226135254,
          -13.052671432495117,
          -12.845486640930176,
          5.073230743408203,
          -2.8263533115386963,
          6.367143630981445,
          -5.860143661499023,
          -1.214135766029358,
          -2.6403510570526123,
          -15.22735595703125,
          -4.822111129760742,
          8.346721649169922,
          8.587793350219727,
          -4.290935516357422,
          18.490062713623047,
          -6.988360404968262,
          6.815711498260498,
          9.96890640258789,
          17.794313430786133,
          11.590006828308105,
          10.904732704162598,
          1.6528500318527222,
          -7.750223159790039,
          -6.717458248138428,
          0.9628674387931824,
          -10.20840835571289,
          -1.611991286277771,
          -1.896623969078064,
          -11.743583679199219,
          -16.914501190185547,
          -5.941923141479492,
          -5.323602676391602,
          -10.876293182373047,
          5.619218349456787,
          -20.124380111694336,
          -2.7753872871398926,
          13.400392532348633,
          -0.14486974477767944,
          8.021702766418457,
          -4.006363868713379,
          7.300766944885254,
          18.46133041381836,
          -16.77413558959961,
          20.113523483276367,
          16.791183471679688,
          -4.393986701965332,
          -19.031709671020508,
          -1.976441740989685,
          -6.176675796508789,
          -1.7944444417953491,
          -0.4017084836959839,
          -8.31869125366211,
          13.932130813598633,
          -2.851646661758423,
          17.020170211791992,
          11.724309921264648,
          -1.8930878639221191,
          -1.8997834920883179,
          -10.851694107055664,
          -6.736739158630371,
          7.42645263671875,
          5.467660903930664,
          -12.735422134399414,
          -6.303798675537109,
          8.207488059997559,
          -11.06212329864502,
          18.10894775390625,
          4.331207752227783,
          -9.42832088470459,
          -5.1707916259765625,
          -13.991294860839844,
          -8.607973098754883,
          -5.859924793243408,
          10.882740020751953,
          0.48537129163742065,
          -2.0895309448242188,
          9.526034355163574,
          -4.436183929443359,
          -6.705361366271973,
          -14.742088317871094,
          -10.478960990905762,
          0.6173951625823975,
          12.796135902404785,
          14.041516304016113,
          8.189833641052246,
          -21.40406608581543,
          14.198745727539062,
          11.889915466308594,
          20.012020111083984,
          -8.937294960021973,
          -1.5649933815002441,
          -16.189043045043945,
          1.0669130086898804,
          12.253113746643066,
          1.2565631866455078,
          -21.653396606445312,
          3.755789041519165,
          14.830755233764648,
          15.007698059082031,
          3.4088754653930664
         ],
         "xaxis": "x",
         "y": [
          9.219606399536133,
          13.995339393615723,
          -17.982324600219727,
          -9.874470710754395,
          2.3273086547851562,
          3.5725460052490234,
          -4.172256946563721,
          -4.673600673675537,
          -17.522876739501953,
          13.695862770080566,
          -8.752888679504395,
          1.3869383335113525,
          -4.160220623016357,
          20.102628707885742,
          -5.806525707244873,
          1.4573954343795776,
          -19.53999137878418,
          -6.292689323425293,
          6.247211456298828,
          -13.397723197937012,
          8.284236907958984,
          -5.563235282897949,
          -4.8028950691223145,
          -6.675870418548584,
          15.30575180053711,
          -8.850998878479004,
          12.730205535888672,
          -7.565408706665039,
          10.915414810180664,
          -14.509651184082031,
          10.204567909240723,
          -3.3523001670837402,
          -10.272147178649902,
          -8.674627304077148,
          4.870395660400391,
          -3.690861463546753,
          13.339762687683105,
          -6.325277328491211,
          -6.4661407470703125,
          -1.3419950008392334,
          0.45885610580444336,
          2.1351447105407715,
          8.037631034851074,
          -4.039414882659912,
          -7.723825931549072,
          -3.5769002437591553,
          -11.716373443603516,
          2.920187473297119,
          -5.014238357543945,
          4.619071960449219,
          1.335577130317688,
          9.975436210632324,
          -12.719916343688965,
          2.834430694580078,
          -2.6630361080169678,
          0.12208619713783264,
          0.2946106791496277,
          -5.7811360359191895,
          -3.5266997814178467,
          12.754344940185547,
          -7.95222806930542,
          -0.9477056264877319,
          19.06611442565918,
          -19.105449676513672,
          5.75746488571167,
          -0.09247393161058426,
          -1.1226565837860107,
          -1.193910837173462,
          15.531253814697266,
          8.510005950927734,
          -6.234376430511475,
          -11.527117729187012,
          -20.01573371887207,
          -5.181835174560547,
          2.942091464996338,
          -12.305008888244629,
          -6.503629684448242,
          -6.725497722625732,
          -5.163394927978516,
          -2.379767656326294,
          2.7059292793273926,
          1.9817144870758057,
          -14.9100980758667,
          -3.929786443710327,
          9.753337860107422,
          -18.485700607299805,
          -13.22187614440918,
          -11.982067108154297,
          -7.381900787353516,
          10.865334510803223,
          11.137639045715332,
          5.709900379180908,
          -2.245711088180542,
          6.8391313552856445,
          6.62352180480957,
          -11.346323013305664,
          3.7044169902801514,
          1.8099311590194702,
          -13.926057815551758,
          7.058010101318359,
          2.654855251312256,
          6.509756565093994,
          0.8564918041229248,
          12.426736831665039,
          -9.168257713317871,
          -14.547322273254395,
          -6.543358325958252,
          -2.151860475540161,
          1.420541524887085,
          10.293951988220215,
          -7.077664375305176,
          3.7539846897125244,
          17.4403076171875,
          -1.5671842098236084,
          0.00371762877330184,
          -16.150901794433594,
          6.857827186584473,
          -13.000910758972168,
          -16.00794792175293,
          -17.395448684692383,
          -8.716384887695312,
          -21.52161979675293,
          8.974275588989258,
          -4.082107067108154,
          -5.817254543304443,
          -15.574417114257812,
          -13.404831886291504,
          -0.325190931558609,
          5.156071186065674,
          2.146355628967285,
          -18.507055282592773,
          11.140507698059082,
          1.128179669380188,
          6.497287750244141,
          -16.63235855102539,
          7.825791358947754,
          4.192938327789307,
          -3.1526737213134766,
          6.936373710632324,
          -20.244714736938477,
          10.280892372131348,
          -0.9696106910705566,
          -9.311887741088867,
          8.003701210021973,
          -9.712539672851562,
          17.74359893798828,
          -15.670238494873047,
          16.9433650970459,
          -18.32196617126465,
          -2.6685361862182617,
          -4.324512958526611,
          2.3638064861297607,
          -6.808823108673096,
          5.757569313049316,
          7.070435523986816,
          7.777958869934082,
          -3.788109302520752,
          -9.47484016418457,
          6.698504447937012,
          6.046688079833984,
          -10.566264152526855,
          8.458883285522461,
          -12.29202651977539,
          2.3132550716400146,
          -12.39569091796875,
          -9.364157676696777,
          -12.611530303955078,
          -2.324429988861084,
          2.383044719696045,
          -8.739216804504395,
          -5.013080596923828,
          16.836849212646484,
          -17.814796447753906,
          -9.004162788391113,
          5.361155033111572,
          -4.086358070373535,
          16.804067611694336,
          -17.94129753112793,
          15.788762092590332,
          -0.3756110370159149,
          13.20261001586914,
          0.02597973495721817,
          2.4777004718780518,
          9.08602523803711,
          -7.915300369262695,
          11.588761329650879,
          -7.980990886688232,
          -21.520984649658203,
          -10.493766784667969,
          0.2933058738708496,
          -1.2795078754425049,
          3.84134840965271,
          -0.33492863178253174,
          -7.7350993156433105,
          10.705172538757324,
          17.300256729125977,
          -12.035140037536621,
          3.1795384883880615,
          -2.585969924926758,
          -9.918386459350586,
          -2.616983413696289,
          1.5389724969863892,
          9.06200122833252,
          3.8034486770629883,
          8.598322868347168,
          5.2796854972839355,
          1.643870234489441,
          5.107887268066406,
          0.8702974319458008,
          -15.41646671295166,
          7.47170352935791,
          -4.424614906311035,
          5.625633716583252,
          10.354347229003906,
          5.992099761962891
         ],
         "yaxis": "y"
        },
        {
         "customdata": [
          [
           "Police inspector Holloway (Patrick Wymark).........",
           "mystery",
           "1"
          ],
          [
           "The film is set in.........",
           "film noir",
           "1"
          ],
          [
           "Christopher, a lustful man goes.........",
           "horror",
           "1"
          ],
          [
           "Jeff Hassard (Dean Jagger) and.........",
           "western",
           "1"
          ],
          [
           "When Los Angeles' police force.........",
           "thriller",
           "1"
          ],
          [
           "Two college girls, Ducky and.........",
           "comedy",
           "1"
          ],
          [
           "The story revolves around an.........",
           "drama, thriller",
           "1"
          ],
          [
           "A young woman goes to.........",
           "thriller",
           "1"
          ],
          [
           "A spirit (\"Patrick\") haunts a.........",
           "thriller",
           "1"
          ]
         ],
         "hovertemplate": "cluster=%{customdata[2]}<br>x-tsne=%{x}<br>y-tsne=%{y}<br>text=%{customdata[0]}<br>label=%{customdata[1]}<extra></extra>",
         "legendgroup": "1",
         "marker": {
          "color": "#00cc96",
          "symbol": "circle"
         },
         "mode": "markers",
         "name": "1",
         "orientation": "v",
         "showlegend": true,
         "type": "scatter",
         "x": [
          15.155308723449707,
          5.272614002227783,
          9.248263359069824,
          10.747241973876953,
          15.39930248260498,
          5.293907165527344,
          18.912189483642578,
          7.635998725891113,
          5.910867214202881
         ],
         "xaxis": "x",
         "y": [
          0.8698877692222595,
          -3.2568674087524414,
          -4.681312561035156,
          -4.89831018447876,
          5.015349388122559,
          -2.3210270404815674,
          1.355072259902954,
          -5.307333469390869,
          -2.4840357303619385
         ],
         "yaxis": "y"
        }
       ],
       "layout": {
        "height": 1200,
        "legend": {
         "title": {
          "text": "cluster"
         },
         "tracegroupgap": 0
        },
        "template": {
         "data": {
          "bar": [
           {
            "error_x": {
             "color": "#2a3f5f"
            },
            "error_y": {
             "color": "#2a3f5f"
            },
            "marker": {
             "line": {
              "color": "#E5ECF6",
              "width": 0.5
             },
             "pattern": {
              "fillmode": "overlay",
              "size": 10,
              "solidity": 0.2
             }
            },
            "type": "bar"
           }
          ],
          "barpolar": [
           {
            "marker": {
             "line": {
              "color": "#E5ECF6",
              "width": 0.5
             },
             "pattern": {
              "fillmode": "overlay",
              "size": 10,
              "solidity": 0.2
             }
            },
            "type": "barpolar"
           }
          ],
          "carpet": [
           {
            "aaxis": {
             "endlinecolor": "#2a3f5f",
             "gridcolor": "white",
             "linecolor": "white",
             "minorgridcolor": "white",
             "startlinecolor": "#2a3f5f"
            },
            "baxis": {
             "endlinecolor": "#2a3f5f",
             "gridcolor": "white",
             "linecolor": "white",
             "minorgridcolor": "white",
             "startlinecolor": "#2a3f5f"
            },
            "type": "carpet"
           }
          ],
          "choropleth": [
           {
            "colorbar": {
             "outlinewidth": 0,
             "ticks": ""
            },
            "type": "choropleth"
           }
          ],
          "contour": [
           {
            "colorbar": {
             "outlinewidth": 0,
             "ticks": ""
            },
            "colorscale": [
             [
              0,
              "#0d0887"
             ],
             [
              0.1111111111111111,
              "#46039f"
             ],
             [
              0.2222222222222222,
              "#7201a8"
             ],
             [
              0.3333333333333333,
              "#9c179e"
             ],
             [
              0.4444444444444444,
              "#bd3786"
             ],
             [
              0.5555555555555556,
              "#d8576b"
             ],
             [
              0.6666666666666666,
              "#ed7953"
             ],
             [
              0.7777777777777778,
              "#fb9f3a"
             ],
             [
              0.8888888888888888,
              "#fdca26"
             ],
             [
              1,
              "#f0f921"
             ]
            ],
            "type": "contour"
           }
          ],
          "contourcarpet": [
           {
            "colorbar": {
             "outlinewidth": 0,
             "ticks": ""
            },
            "type": "contourcarpet"
           }
          ],
          "heatmap": [
           {
            "colorbar": {
             "outlinewidth": 0,
             "ticks": ""
            },
            "colorscale": [
             [
              0,
              "#0d0887"
             ],
             [
              0.1111111111111111,
              "#46039f"
             ],
             [
              0.2222222222222222,
              "#7201a8"
             ],
             [
              0.3333333333333333,
              "#9c179e"
             ],
             [
              0.4444444444444444,
              "#bd3786"
             ],
             [
              0.5555555555555556,
              "#d8576b"
             ],
             [
              0.6666666666666666,
              "#ed7953"
             ],
             [
              0.7777777777777778,
              "#fb9f3a"
             ],
             [
              0.8888888888888888,
              "#fdca26"
             ],
             [
              1,
              "#f0f921"
             ]
            ],
            "type": "heatmap"
           }
          ],
          "heatmapgl": [
           {
            "colorbar": {
             "outlinewidth": 0,
             "ticks": ""
            },
            "colorscale": [
             [
              0,
              "#0d0887"
             ],
             [
              0.1111111111111111,
              "#46039f"
             ],
             [
              0.2222222222222222,
              "#7201a8"
             ],
             [
              0.3333333333333333,
              "#9c179e"
             ],
             [
              0.4444444444444444,
              "#bd3786"
             ],
             [
              0.5555555555555556,
              "#d8576b"
             ],
             [
              0.6666666666666666,
              "#ed7953"
             ],
             [
              0.7777777777777778,
              "#fb9f3a"
             ],
             [
              0.8888888888888888,
              "#fdca26"
             ],
             [
              1,
              "#f0f921"
             ]
            ],
            "type": "heatmapgl"
           }
          ],
          "histogram": [
           {
            "marker": {
             "pattern": {
              "fillmode": "overlay",
              "size": 10,
              "solidity": 0.2
             }
            },
            "type": "histogram"
           }
          ],
          "histogram2d": [
           {
            "colorbar": {
             "outlinewidth": 0,
             "ticks": ""
            },
            "colorscale": [
             [
              0,
              "#0d0887"
             ],
             [
              0.1111111111111111,
              "#46039f"
             ],
             [
              0.2222222222222222,
              "#7201a8"
             ],
             [
              0.3333333333333333,
              "#9c179e"
             ],
             [
              0.4444444444444444,
              "#bd3786"
             ],
             [
              0.5555555555555556,
              "#d8576b"
             ],
             [
              0.6666666666666666,
              "#ed7953"
             ],
             [
              0.7777777777777778,
              "#fb9f3a"
             ],
             [
              0.8888888888888888,
              "#fdca26"
             ],
             [
              1,
              "#f0f921"
             ]
            ],
            "type": "histogram2d"
           }
          ],
          "histogram2dcontour": [
           {
            "colorbar": {
             "outlinewidth": 0,
             "ticks": ""
            },
            "colorscale": [
             [
              0,
              "#0d0887"
             ],
             [
              0.1111111111111111,
              "#46039f"
             ],
             [
              0.2222222222222222,
              "#7201a8"
             ],
             [
              0.3333333333333333,
              "#9c179e"
             ],
             [
              0.4444444444444444,
              "#bd3786"
             ],
             [
              0.5555555555555556,
              "#d8576b"
             ],
             [
              0.6666666666666666,
              "#ed7953"
             ],
             [
              0.7777777777777778,
              "#fb9f3a"
             ],
             [
              0.8888888888888888,
              "#fdca26"
             ],
             [
              1,
              "#f0f921"
             ]
            ],
            "type": "histogram2dcontour"
           }
          ],
          "mesh3d": [
           {
            "colorbar": {
             "outlinewidth": 0,
             "ticks": ""
            },
            "type": "mesh3d"
           }
          ],
          "parcoords": [
           {
            "line": {
             "colorbar": {
              "outlinewidth": 0,
              "ticks": ""
             }
            },
            "type": "parcoords"
           }
          ],
          "pie": [
           {
            "automargin": true,
            "type": "pie"
           }
          ],
          "scatter": [
           {
            "fillpattern": {
             "fillmode": "overlay",
             "size": 10,
             "solidity": 0.2
            },
            "type": "scatter"
           }
          ],
          "scatter3d": [
           {
            "line": {
             "colorbar": {
              "outlinewidth": 0,
              "ticks": ""
             }
            },
            "marker": {
             "colorbar": {
              "outlinewidth": 0,
              "ticks": ""
             }
            },
            "type": "scatter3d"
           }
          ],
          "scattercarpet": [
           {
            "marker": {
             "colorbar": {
              "outlinewidth": 0,
              "ticks": ""
             }
            },
            "type": "scattercarpet"
           }
          ],
          "scattergeo": [
           {
            "marker": {
             "colorbar": {
              "outlinewidth": 0,
              "ticks": ""
             }
            },
            "type": "scattergeo"
           }
          ],
          "scattergl": [
           {
            "marker": {
             "colorbar": {
              "outlinewidth": 0,
              "ticks": ""
             }
            },
            "type": "scattergl"
           }
          ],
          "scattermapbox": [
           {
            "marker": {
             "colorbar": {
              "outlinewidth": 0,
              "ticks": ""
             }
            },
            "type": "scattermapbox"
           }
          ],
          "scatterpolar": [
           {
            "marker": {
             "colorbar": {
              "outlinewidth": 0,
              "ticks": ""
             }
            },
            "type": "scatterpolar"
           }
          ],
          "scatterpolargl": [
           {
            "marker": {
             "colorbar": {
              "outlinewidth": 0,
              "ticks": ""
             }
            },
            "type": "scatterpolargl"
           }
          ],
          "scatterternary": [
           {
            "marker": {
             "colorbar": {
              "outlinewidth": 0,
              "ticks": ""
             }
            },
            "type": "scatterternary"
           }
          ],
          "surface": [
           {
            "colorbar": {
             "outlinewidth": 0,
             "ticks": ""
            },
            "colorscale": [
             [
              0,
              "#0d0887"
             ],
             [
              0.1111111111111111,
              "#46039f"
             ],
             [
              0.2222222222222222,
              "#7201a8"
             ],
             [
              0.3333333333333333,
              "#9c179e"
             ],
             [
              0.4444444444444444,
              "#bd3786"
             ],
             [
              0.5555555555555556,
              "#d8576b"
             ],
             [
              0.6666666666666666,
              "#ed7953"
             ],
             [
              0.7777777777777778,
              "#fb9f3a"
             ],
             [
              0.8888888888888888,
              "#fdca26"
             ],
             [
              1,
              "#f0f921"
             ]
            ],
            "type": "surface"
           }
          ],
          "table": [
           {
            "cells": {
             "fill": {
              "color": "#EBF0F8"
             },
             "line": {
              "color": "white"
             }
            },
            "header": {
             "fill": {
              "color": "#C8D4E3"
             },
             "line": {
              "color": "white"
             }
            },
            "type": "table"
           }
          ]
         },
         "layout": {
          "annotationdefaults": {
           "arrowcolor": "#2a3f5f",
           "arrowhead": 0,
           "arrowwidth": 1
          },
          "autotypenumbers": "strict",
          "coloraxis": {
           "colorbar": {
            "outlinewidth": 0,
            "ticks": ""
           }
          },
          "colorscale": {
           "diverging": [
            [
             0,
             "#8e0152"
            ],
            [
             0.1,
             "#c51b7d"
            ],
            [
             0.2,
             "#de77ae"
            ],
            [
             0.3,
             "#f1b6da"
            ],
            [
             0.4,
             "#fde0ef"
            ],
            [
             0.5,
             "#f7f7f7"
            ],
            [
             0.6,
             "#e6f5d0"
            ],
            [
             0.7,
             "#b8e186"
            ],
            [
             0.8,
             "#7fbc41"
            ],
            [
             0.9,
             "#4d9221"
            ],
            [
             1,
             "#276419"
            ]
           ],
           "sequential": [
            [
             0,
             "#0d0887"
            ],
            [
             0.1111111111111111,
             "#46039f"
            ],
            [
             0.2222222222222222,
             "#7201a8"
            ],
            [
             0.3333333333333333,
             "#9c179e"
            ],
            [
             0.4444444444444444,
             "#bd3786"
            ],
            [
             0.5555555555555556,
             "#d8576b"
            ],
            [
             0.6666666666666666,
             "#ed7953"
            ],
            [
             0.7777777777777778,
             "#fb9f3a"
            ],
            [
             0.8888888888888888,
             "#fdca26"
            ],
            [
             1,
             "#f0f921"
            ]
           ],
           "sequentialminus": [
            [
             0,
             "#0d0887"
            ],
            [
             0.1111111111111111,
             "#46039f"
            ],
            [
             0.2222222222222222,
             "#7201a8"
            ],
            [
             0.3333333333333333,
             "#9c179e"
            ],
            [
             0.4444444444444444,
             "#bd3786"
            ],
            [
             0.5555555555555556,
             "#d8576b"
            ],
            [
             0.6666666666666666,
             "#ed7953"
            ],
            [
             0.7777777777777778,
             "#fb9f3a"
            ],
            [
             0.8888888888888888,
             "#fdca26"
            ],
            [
             1,
             "#f0f921"
            ]
           ]
          },
          "colorway": [
           "#636efa",
           "#EF553B",
           "#00cc96",
           "#ab63fa",
           "#FFA15A",
           "#19d3f3",
           "#FF6692",
           "#B6E880",
           "#FF97FF",
           "#FECB52"
          ],
          "font": {
           "color": "#2a3f5f"
          },
          "geo": {
           "bgcolor": "white",
           "lakecolor": "white",
           "landcolor": "#E5ECF6",
           "showlakes": true,
           "showland": true,
           "subunitcolor": "white"
          },
          "hoverlabel": {
           "align": "left"
          },
          "hovermode": "closest",
          "mapbox": {
           "style": "light"
          },
          "paper_bgcolor": "white",
          "plot_bgcolor": "#E5ECF6",
          "polar": {
           "angularaxis": {
            "gridcolor": "white",
            "linecolor": "white",
            "ticks": ""
           },
           "bgcolor": "#E5ECF6",
           "radialaxis": {
            "gridcolor": "white",
            "linecolor": "white",
            "ticks": ""
           }
          },
          "scene": {
           "xaxis": {
            "backgroundcolor": "#E5ECF6",
            "gridcolor": "white",
            "gridwidth": 2,
            "linecolor": "white",
            "showbackground": true,
            "ticks": "",
            "zerolinecolor": "white"
           },
           "yaxis": {
            "backgroundcolor": "#E5ECF6",
            "gridcolor": "white",
            "gridwidth": 2,
            "linecolor": "white",
            "showbackground": true,
            "ticks": "",
            "zerolinecolor": "white"
           },
           "zaxis": {
            "backgroundcolor": "#E5ECF6",
            "gridcolor": "white",
            "gridwidth": 2,
            "linecolor": "white",
            "showbackground": true,
            "ticks": "",
            "zerolinecolor": "white"
           }
          },
          "shapedefaults": {
           "line": {
            "color": "#2a3f5f"
           }
          },
          "ternary": {
           "aaxis": {
            "gridcolor": "white",
            "linecolor": "white",
            "ticks": ""
           },
           "baxis": {
            "gridcolor": "white",
            "linecolor": "white",
            "ticks": ""
           },
           "bgcolor": "#E5ECF6",
           "caxis": {
            "gridcolor": "white",
            "linecolor": "white",
            "ticks": ""
           }
          },
          "title": {
           "x": 0.05
          },
          "xaxis": {
           "automargin": true,
           "gridcolor": "white",
           "linecolor": "white",
           "ticks": "",
           "title": {
            "standoff": 15
           },
           "zerolinecolor": "white",
           "zerolinewidth": 2
          },
          "yaxis": {
           "automargin": true,
           "gridcolor": "white",
           "linecolor": "white",
           "ticks": "",
           "title": {
            "standoff": 15
           },
           "zerolinecolor": "white",
           "zerolinewidth": 2
          }
         }
        },
        "title": {
         "text": "Sentences t-SNE Visualization with TF-IDF Embeddings and HDBSCAN Clustering"
        },
        "width": 1200,
        "xaxis": {
         "anchor": "y",
         "domain": [
          0,
          1
         ],
         "title": {
          "text": "x-tsne"
         }
        },
        "yaxis": {
         "anchor": "x",
         "domain": [
          0,
          1
         ],
         "title": {
          "text": "y-tsne"
         }
        }
       }
      },
      "text/html": [
       "<div>                            <div id=\"a6fcb9df-b737-4abb-b314-d4df75eeff73\" class=\"plotly-graph-div\" style=\"height:1200px; width:1200px;\"></div>            <script type=\"text/javascript\">                require([\"plotly\"], function(Plotly) {                    window.PLOTLYENV=window.PLOTLYENV || {};                                    if (document.getElementById(\"a6fcb9df-b737-4abb-b314-d4df75eeff73\")) {                    Plotly.newPlot(                        \"a6fcb9df-b737-4abb-b314-d4df75eeff73\",                        [{\"customdata\":[[\"The film tells the story.........\",\"film noir\",\"0\"],[\"Jagathalaprathapan is a prince who.........\",\"unknown\",\"0\"],[\"Lewis and Clark and George.........\",\"drama\",\"0\"],[\"In a British TV studio,.........\",\"comedy\",\"0\"],[\"Mongol chief Temujin (later to.........\",\"adventure\",\"0\"],[\"Reverend Smith has arrived in.........\",\"drama\",\"0\"],[\"Following the plot of the.........\",\"drama\",\"0\"],[\"The film is a story.........\",\"drama\",\"0\"],[\"In World War II, two.........\",\"pow comedy\",\"0\"],[\"This film is about a.........\",\"drama\",\"0\"],[\"Balu (Vijayakumar) and Padma (Manjula.........\",\"unknown\",\"0\"],[\"The film is an account.........\",\"drama\",\"0\"],[\"Nikki Singh (Akshay Oberoi) is.........\",\"neo-noir\",\"0\"],[\"In 1983 KBS launched a.........\",\"unknown\",\"0\"],[\"Harvey Keitel plays an American.........\",\"crime drama\",\"0\"],[\"Set in the austere post\\u2013World.........\",\"comedy\",\"0\"],[\"This film is about two.........\",\"romance, comedy\",\"0\"],[\"Italian aristocrat Angela Chiaromonte (Helen.........\",\"drama\",\"0\"],[\"Rolex (Prakash Raj) is a.........\",\"unknown\",\"0\"],[\"Inventor and engineer Robert Draper.........\",\"crime\",\"0\"],[\"Hardy plays Dr. Henry Tibbett,.........\",\"comedy\",\"0\"],[\"The film is an examination.........\",\"drama\",\"0\"],[\"This film follows the lead.........\",\"action, sci-fi\",\"0\"],[\"Unlike other Alamo films that.........\",\"western, war\",\"0\"],[\"A San Francisco earthquake orphan.........\",\"comedy drama\",\"0\"],[\"Nine people from around the.........\",\"unknown\",\"0\"],[\"The film tells the story.........\",\"comedy\",\"0\"],[\"The film takes place in.........\",\"unknown\",\"0\"],[\"The story of the film.........\",\"unknown\",\"0\"],[\"Hiraasat is an action film,.........\",\"action, crime, drama\",\"0\"],[\"In 1964, inmate Charlie Forsythe.........\",\"drama\",\"0\"],[\"The film tells the story.........\",\"comedy\",\"0\"],[\"Gopal (M.G.R.) is an honest.........\",\"unknown\",\"0\"],[\"A rivalry develops between veteran.........\",\"war\",\"0\"],[\"In the autumn of 1950,.........\",\"drama \\u002f history \\u002f western\",\"0\"],[\"This film is about the.........\",\"unknown\",\"0\"],[\"Taglines: \\\"Being a girl is.........\",\"drama\",\"0\"],[\"In a small town, mentally.........\",\"dramedy\",\"0\"],[\"The story is a family.........\",\"unknown\",\"0\"],[\"Set in Alexandria in 1938,.........\",\"drama\",\"0\"],[\"The film is set in.........\",\"drama\",\"0\"],[\"The film revolves around an.........\",\"drama\",\"0\"],[\"Kumar is a young and.........\",\"unknown\",\"0\"],[\"A new teacher organizes a.........\",\"unknown\",\"0\"],[\"The plot of the film.........\",\"nature\",\"0\"],[\"The film is a historical.........\",\"historical\",\"0\"],[\"Big Bad Love shares its.........\",\"drama\",\"0\"],[\"Kumar, a graduate who decides.........\",\"unknown\",\"0\"],[\"The story revolves around a.........\",\"unknown\",\"0\"],[\"A genius sculptor Joon-goo (Park.........\",\"unknown\",\"0\"],[\"Hikaru Oshiro, noticing that there.........\",\"drama\",\"0\"],[\"Chuck Wheeler is released from.........\",\"drama\",\"0\"],[\"The title character is Victor.........\",\"comedy\",\"0\"],[\"During a TV segment about.........\",\"horror\",\"0\"],[\"Louisa Gould (Jenny Seagrove) hides.........\",\"unknown\",\"0\"],[\"In Renaissance Florence, a Florentine.........\",\"drama\",\"0\"],[\"This film is about the.........\",\"thriller\",\"0\"],[\"When a town drunk, Gabe,.........\",\"western\",\"0\"],[\"The spouses Alec and Zoey,.........\",\"unknown\",\"0\"],[\"Spanning nearly 20 years from.........\",\"drama\",\"0\"],[\"During World War II singer.........\",\"musical\",\"0\"],[\"After the execution of Kattabomman.........\",\"unknown\",\"0\"],[\"A young construction worker rams.........\",\"drama\",\"0\"],[\"In Shanghai, Madeleine Linden is.........\",\"comedy\",\"0\"],[\"Kaalia is an action flick.........\",\"unknown\",\"0\"],[\"Loosely based on the historical.........\",\"fantasy\",\"0\"],[\"Jung-woo is a film director.........\",\"unknown\",\"0\"],[\"Handsome and fairly good-looking Anil.........\",\"unknown\",\"0\"],[\"The film is about Jamie,.........\",\"drama\",\"0\"],[\"The story revolves around a.........\",\"comedy drama\",\"0\"],[\"The story of the film,.........\",\"crime\\u002fthriller\",\"0\"],[\"While on a trip to.........\",\"unknown\",\"0\"],[\"New York City law professor.........\",\"drama, crime\",\"0\"],[\"Con man Rick Maxon (Payne).........\",\"film noir\",\"0\"],[\"Banerjee stars as Ram Das,.........\",\"comedy\",\"0\"],[\"The plot is a mystery.........\",\"western\",\"0\"]],\"hovertemplate\":\"cluster=%{customdata[2]}\\u003cbr\\u003ex-tsne=%{x}\\u003cbr\\u003ey-tsne=%{y}\\u003cbr\\u003etext=%{customdata[0]}\\u003cbr\\u003elabel=%{customdata[1]}\\u003cextra\\u003e\\u003c\\u002fextra\\u003e\",\"legendgroup\":\"0\",\"marker\":{\"color\":\"#636efa\",\"symbol\":\"circle\"},\"mode\":\"markers\",\"name\":\"0\",\"orientation\":\"v\",\"showlegend\":true,\"x\":[1.1554052829742432,-0.23735962808132172,-11.44797420501709,22.045429229736328,-12.67679214477539,-12.503375053405762,8.482593536376953,-5.4723920822143555,2.306602954864502,8.059215545654297,-15.503911972045898,-2.9834680557250977,15.618880271911621,3.063704013824463,5.326963424682617,0.046543560922145844,-2.9350826740264893,4.25441312789917,-16.358970642089844,14.238686561584473,3.7198853492736816,-1.899875283241272,-5.163403034210205,6.760206699371338,-12.075523376464844,12.167933464050293,2.353792190551758,-1.1446715593338013,1.7637526988983154,-5.22819709777832,14.49671459197998,2.0656678676605225,-10.19206714630127,2.373734951019287,7.957415580749512,-16.987112045288086,-12.979239463806152,0.9115869402885437,-7.010389804840088,21.012163162231445,12.730053901672363,-9.745280265808105,-16.882091522216797,-12.01499080657959,6.2175612449646,-0.20115096867084503,-6.205898284912109,7.482719898223877,15.165557861328125,3.766108512878418,-12.105367660522461,13.238537788391113,0.6817915439605713,12.204448699951172,2.1884727478027344,-12.79057502746582,-16.99117088317871,4.372526168823242,-4.952273845672607,1.1774556636810303,6.522385597229004,20.305490493774414,-11.869987487792969,-12.320259094238281,14.797677993774414,6.021273136138916,13.646707534790039,14.016322135925293,4.093108177185059,-11.987889289855957,-7.958926677703857,-9.435501098632812,-0.49422013759613037,-12.014385223388672,-10.589913368225098,10.967130661010742],\"xaxis\":\"x\",\"y\":[11.794929504394531,-19.202499389648438,-17.965883255004883,6.230123519897461,-2.015561819076538,-0.9853596091270447,15.923720359802246,3.231205940246582,15.559917449951172,11.934697151184082,3.098602294921875,9.295942306518555,-9.834242820739746,12.234879493713379,19.211435317993164,14.261184692382812,7.593474388122559,15.007232666015625,4.735386848449707,-13.058540344238281,-8.588387489318848,16.609941482543945,10.839418411254883,17.3436336517334,-0.6588912010192871,17.273181915283203,-12.285110473632812,13.32758617401123,18.824113845825195,11.277674674987793,-13.614823341369629,19.6922550201416,-2.2505264282226562,13.524895668029785,14.699944496154785,6.525848865509033,-12.234997749328613,-9.809185981750488,10.283554077148438,6.457920551300049,15.916096687316895,5.851813316345215,5.021002769470215,-9.738265037536621,-9.507411003112793,7.737030982971191,9.03226375579834,14.5446195602417,-14.121630668640137,11.234885215759277,-12.53127384185791,-14.166797637939453,15.310995101928711,16.448265075683594,14.347306251525879,6.944995880126953,6.526562213897705,-8.318777084350586,-7.523962497711182,14.618690490722656,14.964797973632812,6.397367477416992,-4.832376956939697,1.4553368091583252,-10.659797668457031,-10.554491996765137,10.484228134155273,-10.242088317871094,-6.370029449462891,2.4417505264282227,8.165258407592773,-1.5923256874084473,1.5303689241409302,-3.8488504886627197,-1.211592435836792,15.9934720993042],\"yaxis\":\"y\",\"type\":\"scatter\"},{\"customdata\":[[\"The eventful life of Swami.........\",\"biography\",\"-1\"],[\"The story is about two.........\",\"unknown\",\"-1\"],[\"George Cabot Jr. (Cesar Romero),.........\",\"comedy, romance\",\"-1\"],[\"In 1962, South Korea. Kang.........\",\"unknown\",\"-1\"],[\"Neil John Samuel is a.........\",\"comedy\",\"-1\"],[\"Young sci-fi\\u002ffantasy enthusiast Gavin Gore.........\",\"comedy\",\"-1\"],[\"Vani Viswanath plays the central.........\",\"unknown\",\"-1\"],[\"Oliver's mother, a penniless outcast,.........\",\"drama\",\"-1\"],[\"A popular dance hall girl,.........\",\"comedy\",\"-1\"],[\"Mordecai C. Jones (Scott) \\u2013.........\",\"comedy\",\"-1\"],[\"Flesh (Vince Murdocco) is kidnapped.........\",\"comedy\",\"-1\"],[\"A psychoanalyst and his young.........\",\"film noir\",\"-1\"],[\"Shellshocked following his experiences as.........\",\"adventure\",\"-1\"],[\"The story starts with a.........\",\"romance \\u002f suspense\",\"-1\"],[\"Byron Levin works in a.........\",\"drama\",\"-1\"],[\"It is love at first.........\",\"romance\",\"-1\"],[\"3000 years ago, the Vader.........\",\"unknown\",\"-1\"],[\"Having cleaned up Tombstone, Arizona,.........\",\"western\",\"-1\"],[\"An orphan girl, named Bindu.........\",\"unknown\",\"-1\"],[\"The story is about a.........\",\"romantic comedy\",\"-1\"],[\"Kisan Kanya was based on.........\",\"social\",\"-1\"],[\"A psychic woman leads archaeologists.........\",\"horror\",\"-1\"],[\"Stand-up-comedian Nikita Kolesnikov (Danila Kozlovsky).........\",\"unknown\",\"-1\"],[\"Two reporters, Curtis (Conrad Phillips).........\",\"crime\",\"-1\"],[\"Two best friends who live.........\",\"comedy\",\"-1\"],[\"Claire of the Moon is.........\",\"unknown\",\"-1\"],[\"Curry and Pepper are two.........\",\"comedy\",\"-1\"],[\"Joseph is a mentally retarded.........\",\"unknown\",\"-1\"],[\"Loosely based on true events.........\",\"romance\",\"-1\"],[\"Bok-nyeo, a mentally handicapped woman,.........\",\"drama\",\"-1\"],[\"Dr. Markoff (J. Carrol Naish).........\",\"science fiction\",\"-1\"],[\"The plot revolves around the.........\",\"coming of age drama\",\"-1\"],[\"The movie opens with Fung.........\",\"erotic \\u002f drama\",\"-1\"],[\"On the run from the.........\",\"unknown\",\"-1\"],[\"A man visits a happy.........\",\"unknown\",\"-1\"],[\"Rahul (Ramankanth) sees a concert.........\",\"unknown\",\"-1\"],[\"A crime reporter, assisted by.........\",\"drama\",\"-1\"],[\"Scott (Ryan Phillippe) is a.........\",\"romantic comedy\",\"-1\"],[\"Ir\\u00e8ne Bordoni is cast as.........\",\"musical comedy\",\"-1\"],[\"Cosmo Reif, an affectless mob.........\",\"comedy, thriller\",\"-1\"],[\"Edgar Mills and his mistress.........\",\"crime\",\"-1\"],[\"Molly Gilbert won't accept a.........\",\"comedy\",\"-1\"],[\"Marianne (Greta Garbo) is a.........\",\"drama\",\"-1\"],[\"Shane O'Shea is a young.........\",\"drama\",\"-1\"],[\"Bumbling cop Chatur Singh (Sanjay.........\",\"comedy\",\"-1\"],[\"Dhag is the story of.........\",\"drama\",\"-1\"],[\"A Mighty Heart is a.........\",\"drama\",\"-1\"],[\"The film is a retelling.........\",\"fantasy\",\"-1\"],[\"Two escaping killers hide out.........\",\"suspense\",\"-1\"],[\"A young sculptor searches for.........\",\"unknown\",\"-1\"],[\"After discovering that her state.........\",\"comedy\",\"-1\"],[\"Struggling young actress Jenny (Marjorie.........\",\"comedy\",\"-1\"],[\"The Kitauji high school concert.........\",\"drama, youth, musical, romance, idol\",\"-1\"],[\"In every port, sailor Bill,.........\",\"comedy\",\"-1\"],[\"Lost & Found is basically.........\",\"romance, drama\",\"-1\"],[\"Joan (Purviance) and Magdalen (Sothern).........\",\"unknown\",\"-1\"],[\"Hong Deok-Ja continues to run.........\",\"comedy\",\"-1\"],[\"Indie musician Dong-hoon and cartoonist.........\",\"unknown\",\"-1\"],[\"The story tells about Ching.........\",\"unknown\",\"-1\"],[\"A former agent from the.........\",\"unknown\",\"-1\"],[\"The story involves a middle-aged.........\",\"western\",\"-1\"],[\"Gloria Cole and Eddie Swenson.........\",\"drama\",\"-1\"],[\"The film is about an.........\",\"drama\",\"-1\"],[\"An earthquake releases a bunch.........\",\"unknown\",\"-1\"],[\"The story line centres on.........\",\"musical\",\"-1\"],[\"Stephen Ghent, a mineowner, falls.........\",\"western\",\"-1\"],[\"Sets in the 19th century,.........\",\"romantic drama\",\"-1\"],[\"Akashangalil is the story of.........\",\"family\",\"-1\"],[\"Sally Elliott (Rita Hayworth), a.........\",\"musical biopic\",\"-1\"],[\"After Joe Huggett loses his.........\",\"comedy\",\"-1\"],[\"Chaiti is a young beautiful.........\",\"drama\",\"-1\"],[\"Roanne Sanchez, a young girl.........\",\"romance, drama\",\"-1\"],[\"The Hartford Transcontinental Railroad is.........\",\"western serial\",\"-1\"],[\"Eric Wainwright (Van Johnson), a.........\",\"comedy\",\"-1\"],[\"Kevin Agar is a Carlton-based.........\",\"comedy\",\"-1\"],[\"Trust concerns the unusual romance.........\",\"romantic comedy\",\"-1\"],[\"Restaurant owner Dylan Ramsey (David.........\",\"comedy\",\"-1\"],[\"Dharma (Anandaraj) is an auto.........\",\"unknown\",\"-1\"],[\"After being told by his.........\",\"western\",\"-1\"],[\"Arjun lives in a village..........\",\"unknown\",\"-1\"],[\"Jerry McGuire (William Collier Jr.).........\",\"comedy\",\"-1\"],[\"Chu Liuxiang is having drinks.........\",\"unknown\",\"-1\"],[\"Charles Kessler (Bela Lugosi) is.........\",\"horror\",\"-1\"],[\"United States Secret Service Lieutenant.........\",\"crime\",\"-1\"],[\"Fontaine Khaled is the London.........\",\"drama\",\"-1\"],[\"Professional hunter Harry Black is.........\",\"adventure\",\"-1\"],[\"Tulsi tells the story of.........\",\" \",\"-1\"],[\"California gubernatorial candidate Burton (Lyon).........\",\"drama\",\"-1\"],[\"A 12-year old young boy.........\",\"drama\",\"-1\"],[\"Soo-nam is a poor woman.........\",\"unknown\",\"-1\"],[\"The film's slight storyline concerns.........\",\"comedy\",\"-1\"],[\"Rie and Nao own a.........\",\"drama\",\"-1\"],[\"A simple handyman, who also.........\",\"comedy\",\"-1\"],[\"Karthi (Mahesh) is a college.........\",\"romantic thriller\",\"-1\"],[\"The story of the film.........\",\"mystery\",\"-1\"],[\"The film stars Harry Connick.........\",\"drama\",\"-1\"],[\"A blind detective, Duncan Maclain,.........\",\"mystery\",\"-1\"],[\"Vijay (R. Sarathkumar) and Seetha.........\",\"unknown\",\"-1\"],[\"Vivek is a wanted criminal.........\",\"unknown\",\"-1\"],[\"Three teenage boys in small-town.........\",\"drama\",\"-1\"],[\"In a Mexican nightclub, some.........\",\"comedy\",\"-1\"],[\"Officers throw an extravagant party.........\",\"comedy\",\"-1\"],[\"A bullied teen chef wants.........\",\"comedy-drama\",\"-1\"],[\"Flagg (Victor McLaglen) and Quirt.........\",\"musical comedy\",\"-1\"],[\"Nick (Niven) is the supposed.........\",\"comedy\",\"-1\"],[\"Raised on a sharecropping plantation.........\",\"biography\",\"-1\"],[\"Newland Archer is engaged to.........\",\"drama\",\"-1\"],[\"Chandrabose (Mohanlal) whose wife's (Meera.........\",\"comedy\",\"-1\"],[\"Frankie Bono, a hitman from.........\",\"thriller\",\"-1\"],[\"The Philippines, 1972. Mysterious things.........\",\"drama\",\"-1\"],[\"Two days before Christmas, a.........\",\"thriller\",\"-1\"],[\"Michael Walsh, a husband and.........\",\"drama\",\"-1\"],[\"On board an ocean liner.........\",\"comedy\",\"-1\"],[\"Alim is a young gay.........\",\"romantic comedy\",\"-1\"],[\"Twice widowed, Pilnyeo vows never.........\",\"unknown\",\"-1\"],[\"Convict Van Duff is the.........\",\"film noir\",\"-1\"],[\"A U.S. marshal investigates when.........\",\"western\",\"-1\"],[\"The story of a 10th.........\",\"rom com\",\"-1\"],[\"In the 1930s, Teresa (Buday).........\",\"unknown\",\"-1\"],[\"The boys are involved in.........\",\"comedy\",\"-1\"],[\"John Murdock (Paul Richards) is.........\",\"western\",\"-1\"],[\"In the year 1999, the.........\",\"unknown\",\"-1\"],[\"The film is based on.........\",\"unknown\",\"-1\"],[\"Jin-hong is a prosecutor who.........\",\"unknown\",\"-1\"],[\"Ten-year-old Bobby (Frankie Thomas) and.........\",\"drama\",\"-1\"],[\"Brinda (Sindhu Tolani) is an.........\",\"drama\",\"-1\"],[\"An old gangster, with a.........\",\"thriller\",\"-1\"],[\"The Rogers family visit Blackpool.........\",\"comedy\",\"-1\"],[\"The film is about an.........\",\"short black comedy\",\"-1\"],[\"A mysterious killer, known only.........\",\"drama\",\"-1\"],[\"Agimat (Bong Revilla, Jr.) is.........\",\"fantasy, comedy, adventure\",\"-1\"],[\"The young filmmaker Timothy (Jonathan.........\",\"comedy\",\"-1\"],[\"A prospective settler, pioneer Bob.........\",\"western\",\"-1\"],[\"Julia Hemingway (Ina Skriver, credited.........\",\"thriller\",\"-1\"],[\"Russian general Marenkov (Robert Shaw).........\",\"unknown\",\"-1\"],[\"Small-fry marijuana harvesters in Northern.........\",\"comedy\",\"-1\"],[\"Omar Sharif plays Muhassab, headman.........\",\"drama\",\"-1\"],[\"A young Lakota Sioux (Lou.........\",\"drama\",\"-1\"],[\"The Chain tells the story.........\",\"comedy\",\"-1\"],[\"The film is set in.........\",\"biblical\",\"-1\"],[\"Hans a young German journalist.........\",\"sex comedy\",\"-1\"],[\"The drama tells of a.........\",\"crime drama\",\"-1\"],[\"Nick and Nora Charles are.........\",\"mystery\",\"-1\"],[\"Leslie is a troubled 1960s.........\",\"drama\",\"-1\"],[\"Hajj, a rascally beggar on.........\",\"costume drama\",\"-1\"],[\"Big-league baseball players Jerry and.........\",\"musical\",\"-1\"],[\"With five rival oil companies.........\",\"crime drama\",\"-1\"],[\"Rakta Bandhan is a family.........\",\"unknown\",\"-1\"],[\"Harry England (Michael Crawford), a.........\",\"comedy\",\"-1\"],[\"Marappan (Anandaraj) is the rebel.........\",\"unknown\",\"-1\"],[\"After her mother was killed.........\",\"action \\u002f comedy\",\"-1\"],[\"\\\"Illustrated Press\\\" society editor Lorelei.........\",\"drama\",\"-1\"],[\"When infamous jewel thief Flambeau.........\",\"mystery\",\"-1\"],[\"Raised by his Uncle Wu.........\",\"fantasy \\u002f adventure\",\"-1\"],[\"Newly transferred college student Lily.........\",\"dramedy\",\"-1\"],[\"A girl is about to.........\",\"adventure, serial\",\"-1\"],[\"Teenager Jackie Knowles (Richard Attenborough).........\",\"drama\",\"-1\"],[\"Alli (Manorama) a veritable jungle.........\",\"unknown\",\"-1\"],[\"A new gas formula that.........\",\"crime\",\"-1\"],[\"The film takes place in.........\",\"unknown\",\"-1\"],[\"Raja is a 10-year-old tourist.........\",\"unknown\",\"-1\"],[\"Crash Landing follows the tense.........\",\"action\\u002fthriller\",\"-1\"],[\"In a desperate attempt to.........\",\"drama\",\"-1\"],[\"Rajini's parents are killed by.........\",\"unknown\",\"-1\"],[\"Andy (Lee Bowman) and Janie.........\",\"comedy\",\"-1\"],[\"A small Midwestern town is.........\",\"comedy\",\"-1\"],[\"Rosalind Dee (DeCarlo) is a.........\",\"film noir\",\"-1\"],[\"Leonard Maltin: \\\"Cute comic mystery............\",\"comedy\",\"-1\"],[\"Anand is a major in.........\",\"action\",\"-1\"],[\"Pudhayal was about imaginary gold.........\",\"unknown\",\"-1\"],[\"American gambler Nick Cain (Raft).........\",\"crime\",\"-1\"],[\"The first act of the.........\",\"drama\",\"-1\"],[\"In Wilmington, Delaware, Anna Thompson.........\",\"drama\",\"-1\"],[\"While in a restaurant, Carla.........\",\"drama\",\"-1\"],[\"Seven young freedom fighters, heavily.........\",\"unknown\",\"-1\"],[\"In the middle of a.........\",\"drama\",\"-1\"],[\"Chad (Jimmie Rodgers) is a.........\",\"drama\",\"-1\"],[\"Midget George Wilson pulls strings.........\",\"drama\",\"-1\"],[\"The film plays out with.........\",\"comedy\",\"-1\"],[\"The story revolves around a.........\",\"unknown\",\"-1\"],[\"Daniels, in her final silent.........\",\"romantic comedy\",\"-1\"],[\"Sachin Joshi is a Kabaddi.........\",\"action\",\"-1\"],[\"Two sailors are conned into.........\",\"comedy\",\"-1\"],[\"The story revolves around a.........\",\"unknown\",\"-1\"],[\"A lonely old man who.........\",\"literary drama\",\"-1\"],[\"Big Fella is set on.........\",\"musical\\u002fdrama\",\"-1\"],[\"In the remote and undeveloped.........\",\"drama\",\"-1\"],[\"In the year 1999, the.........\",\"tokusatsu\",\"-1\"],[\"The movie is about Ilangovan.........\",\"comedy\",\"-1\"],[\"Bonnie and Connie Jones are.........\",\"musical\",\"-1\"],[\"Alvin Roberts (Lee Tracy) feuds.........\",\"comedy\",\"-1\"],[\"Jean Paurel is a famous.........\",\"drama\",\"-1\"],[\"Stephanie (Lyn Wilde) and Terry.........\",\"comedy\",\"-1\"],[\"Kiira seems like an ordinary.........\",\"vampire film\",\"-1\"],[\"With the human exploitation of.........\",\"comedy \\u002f animation \\u002f family \\u002f adventure\",\"-1\"],[\"Two brothers become involved with.........\",\"crime\",\"-1\"],[\"Napoleon Bonaparte (Charles Boyer) launches.........\",\"drama\",\"-1\"],[\"The young brother of two.........\",\"comedy\",\"-1\"],[\"The story centres on the.........\",\"unknown\",\"-1\"],[\"Jennie Hagan (Swanson) is a.........\",\"comedy\",\"-1\"],[\"Political journalist Jayadev (Meka Srikanth).........\",\"action\",\"-1\"],[\"Two persons namely Ajay and.........\",\"unknown\",\"-1\"],[\"Story of a corpse being.........\",\"unknown\",\"-1\"],[\"It is of the Jack.........\",\"mystery\",\"-1\"],[\"The film revolves around the.........\",\"unknown\",\"-1\"],[\"Anand (Shivrajkumar) was nicknamed \\\"Kaddipudi\\\".........\",\"unknown\",\"-1\"],[\"Vijay (MGR), a carefree and.........\",\"unknown\",\"-1\"],[\"The story follows a group.........\",\"thriller\",\"-1\"],[\"Four friends go on a.........\",\"drama\",\"-1\"],[\"A man loses his memory.........\",\"unknown\",\"-1\"],[\"After being court-martialed and discharged.........\",\"adventure\",\"-1\"],[\"In a quiet English town,.........\",\"thriller\",\"-1\"],[\"Following a series of robberies.........\",\"western\",\"-1\"],[\"Gracie (Fields) and Laurie (Dolman).........\",\"comedy\",\"-1\"],[\"The film tells the story.........\",\"unknown\",\"-1\"]],\"hovertemplate\":\"cluster=%{customdata[2]}\\u003cbr\\u003ex-tsne=%{x}\\u003cbr\\u003ey-tsne=%{y}\\u003cbr\\u003etext=%{customdata[0]}\\u003cbr\\u003elabel=%{customdata[1]}\\u003cextra\\u003e\\u003c\\u002fextra\\u003e\",\"legendgroup\":\"-1\",\"marker\":{\"color\":\"#EF553B\",\"symbol\":\"circle\"},\"mode\":\"markers\",\"name\":\"-1\",\"orientation\":\"v\",\"showlegend\":true,\"x\":[-3.541018486022949,-7.386903285980225,-12.414907455444336,-12.202765464782715,2.400984048843384,6.519029140472412,15.05556869506836,-9.236103057861328,10.703437805175781,9.37916374206543,-21.36250877380371,19.286849975585938,-18.404104232788086,1.7167679071426392,-11.979679107666016,-9.912848472595215,-7.055501461029053,19.773027420043945,-10.39400577545166,7.232339859008789,0.3291384279727936,6.122893333435059,-5.0906243324279785,0.5935494303703308,-6.802555084228516,2.8684287071228027,-9.555842399597168,10.170613288879395,0.04272686690092087,4.261369705200195,-15.315720558166504,-4.759962558746338,10.52133846282959,-21.36316680908203,-9.69793701171875,-14.818196296691895,-11.334671974182129,-3.67055606842041,-9.365360260009766,-15.06737232208252,10.885571479797363,4.133223533630371,6.859381198883057,1.0256983041763306,14.13563060760498,-7.7899627685546875,-17.885517120361328,-20.10967254638672,0.7207021117210388,-7.330031871795654,1.4762299060821533,15.130836486816406,-11.149721145629883,6.075677394866943,-18.807071685791016,-6.5487589836120605,6.984147071838379,-6.2333526611328125,-1.4639328718185425,3.7326910495758057,17.85972785949707,3.796139717102051,4.0405354499816895,-7.655555725097656,4.451868534088135,-13.403449058532715,10.616388320922852,0.6886231303215027,-5.02023458480835,3.734266519546509,7.811325550079346,-7.126325607299805,0.6815193295478821,-15.192366600036621,-7.700482368469238,-7.994258880615234,10.469046592712402,13.989282608032227,19.060007095336914,-18.440351486206055,-20.329862594604492,-3.315253257751465,1.373146891593933,10.491466522216797,3.9577393531799316,5.6894731521606445,6.804184436798096,2.1203315258026123,-8.618443489074707,12.269396781921387,-2.275540590286255,4.809753894805908,2.264615297317505,-2.503451108932495,0.5361200571060181,-4.680099964141846,9.263174057006836,-16.090089797973633,3.2667386531829834,10.833749771118164,-0.33859285712242126,-21.60548210144043,3.749079704284668,-4.588180065155029,-2.3296866416931152,-0.34941792488098145,20.50084114074707,-5.583014488220215,-1.6707452535629272,8.74201774597168,1.390874981880188,-12.483210563659668,-11.119277954101562,2.434488296508789,-7.492591381072998,12.004380226135254,-13.052671432495117,-12.845486640930176,5.073230743408203,-2.8263533115386963,6.367143630981445,-5.860143661499023,-1.214135766029358,-2.6403510570526123,-15.22735595703125,-4.822111129760742,8.346721649169922,8.587793350219727,-4.290935516357422,18.490062713623047,-6.988360404968262,6.815711498260498,9.96890640258789,17.794313430786133,11.590006828308105,10.904732704162598,1.6528500318527222,-7.750223159790039,-6.717458248138428,0.9628674387931824,-10.20840835571289,-1.611991286277771,-1.896623969078064,-11.743583679199219,-16.914501190185547,-5.941923141479492,-5.323602676391602,-10.876293182373047,5.619218349456787,-20.124380111694336,-2.7753872871398926,13.400392532348633,-0.14486974477767944,8.021702766418457,-4.006363868713379,7.300766944885254,18.46133041381836,-16.77413558959961,20.113523483276367,16.791183471679688,-4.393986701965332,-19.031709671020508,-1.976441740989685,-6.176675796508789,-1.7944444417953491,-0.4017084836959839,-8.31869125366211,13.932130813598633,-2.851646661758423,17.020170211791992,11.724309921264648,-1.8930878639221191,-1.8997834920883179,-10.851694107055664,-6.736739158630371,7.42645263671875,5.467660903930664,-12.735422134399414,-6.303798675537109,8.207488059997559,-11.06212329864502,18.10894775390625,4.331207752227783,-9.42832088470459,-5.1707916259765625,-13.991294860839844,-8.607973098754883,-5.859924793243408,10.882740020751953,0.48537129163742065,-2.0895309448242188,9.526034355163574,-4.436183929443359,-6.705361366271973,-14.742088317871094,-10.478960990905762,0.6173951625823975,12.796135902404785,14.041516304016113,8.189833641052246,-21.40406608581543,14.198745727539062,11.889915466308594,20.012020111083984,-8.937294960021973,-1.5649933815002441,-16.189043045043945,1.0669130086898804,12.253113746643066,1.2565631866455078,-21.653396606445312,3.755789041519165,14.830755233764648,15.007698059082031,3.4088754653930664],\"xaxis\":\"x\",\"y\":[9.219606399536133,13.995339393615723,-17.982324600219727,-9.874470710754395,2.3273086547851562,3.5725460052490234,-4.172256946563721,-4.673600673675537,-17.522876739501953,13.695862770080566,-8.752888679504395,1.3869383335113525,-4.160220623016357,20.102628707885742,-5.806525707244873,1.4573954343795776,-19.53999137878418,-6.292689323425293,6.247211456298828,-13.397723197937012,8.284236907958984,-5.563235282897949,-4.8028950691223145,-6.675870418548584,15.30575180053711,-8.850998878479004,12.730205535888672,-7.565408706665039,10.915414810180664,-14.509651184082031,10.204567909240723,-3.3523001670837402,-10.272147178649902,-8.674627304077148,4.870395660400391,-3.690861463546753,13.339762687683105,-6.325277328491211,-6.4661407470703125,-1.3419950008392334,0.45885610580444336,2.1351447105407715,8.037631034851074,-4.039414882659912,-7.723825931549072,-3.5769002437591553,-11.716373443603516,2.920187473297119,-5.014238357543945,4.619071960449219,1.335577130317688,9.975436210632324,-12.719916343688965,2.834430694580078,-2.6630361080169678,0.12208619713783264,0.2946106791496277,-5.7811360359191895,-3.5266997814178467,12.754344940185547,-7.95222806930542,-0.9477056264877319,19.06611442565918,-19.105449676513672,5.75746488571167,-0.09247393161058426,-1.1226565837860107,-1.193910837173462,15.531253814697266,8.510005950927734,-6.234376430511475,-11.527117729187012,-20.01573371887207,-5.181835174560547,2.942091464996338,-12.305008888244629,-6.503629684448242,-6.725497722625732,-5.163394927978516,-2.379767656326294,2.7059292793273926,1.9817144870758057,-14.9100980758667,-3.929786443710327,9.753337860107422,-18.485700607299805,-13.22187614440918,-11.982067108154297,-7.381900787353516,10.865334510803223,11.137639045715332,5.709900379180908,-2.245711088180542,6.8391313552856445,6.62352180480957,-11.346323013305664,3.7044169902801514,1.8099311590194702,-13.926057815551758,7.058010101318359,2.654855251312256,6.509756565093994,0.8564918041229248,12.426736831665039,-9.168257713317871,-14.547322273254395,-6.543358325958252,-2.151860475540161,1.420541524887085,10.293951988220215,-7.077664375305176,3.7539846897125244,17.4403076171875,-1.5671842098236084,0.00371762877330184,-16.150901794433594,6.857827186584473,-13.000910758972168,-16.00794792175293,-17.395448684692383,-8.716384887695312,-21.52161979675293,8.974275588989258,-4.082107067108154,-5.817254543304443,-15.574417114257812,-13.404831886291504,-0.325190931558609,5.156071186065674,2.146355628967285,-18.507055282592773,11.140507698059082,1.128179669380188,6.497287750244141,-16.63235855102539,7.825791358947754,4.192938327789307,-3.1526737213134766,6.936373710632324,-20.244714736938477,10.280892372131348,-0.9696106910705566,-9.311887741088867,8.003701210021973,-9.712539672851562,17.74359893798828,-15.670238494873047,16.9433650970459,-18.32196617126465,-2.6685361862182617,-4.324512958526611,2.3638064861297607,-6.808823108673096,5.757569313049316,7.070435523986816,7.777958869934082,-3.788109302520752,-9.47484016418457,6.698504447937012,6.046688079833984,-10.566264152526855,8.458883285522461,-12.29202651977539,2.3132550716400146,-12.39569091796875,-9.364157676696777,-12.611530303955078,-2.324429988861084,2.383044719696045,-8.739216804504395,-5.013080596923828,16.836849212646484,-17.814796447753906,-9.004162788391113,5.361155033111572,-4.086358070373535,16.804067611694336,-17.94129753112793,15.788762092590332,-0.3756110370159149,13.20261001586914,0.02597973495721817,2.4777004718780518,9.08602523803711,-7.915300369262695,11.588761329650879,-7.980990886688232,-21.520984649658203,-10.493766784667969,0.2933058738708496,-1.2795078754425049,3.84134840965271,-0.33492863178253174,-7.7350993156433105,10.705172538757324,17.300256729125977,-12.035140037536621,3.1795384883880615,-2.585969924926758,-9.918386459350586,-2.616983413696289,1.5389724969863892,9.06200122833252,3.8034486770629883,8.598322868347168,5.2796854972839355,1.643870234489441,5.107887268066406,0.8702974319458008,-15.41646671295166,7.47170352935791,-4.424614906311035,5.625633716583252,10.354347229003906,5.992099761962891],\"yaxis\":\"y\",\"type\":\"scatter\"},{\"customdata\":[[\"Police inspector Holloway (Patrick Wymark).........\",\"mystery\",\"1\"],[\"The film is set in.........\",\"film noir\",\"1\"],[\"Christopher, a lustful man goes.........\",\"horror\",\"1\"],[\"Jeff Hassard (Dean Jagger) and.........\",\"western\",\"1\"],[\"When Los Angeles' police force.........\",\"thriller\",\"1\"],[\"Two college girls, Ducky and.........\",\"comedy\",\"1\"],[\"The story revolves around an.........\",\"drama, thriller\",\"1\"],[\"A young woman goes to.........\",\"thriller\",\"1\"],[\"A spirit (\\\"Patrick\\\") haunts a.........\",\"thriller\",\"1\"]],\"hovertemplate\":\"cluster=%{customdata[2]}\\u003cbr\\u003ex-tsne=%{x}\\u003cbr\\u003ey-tsne=%{y}\\u003cbr\\u003etext=%{customdata[0]}\\u003cbr\\u003elabel=%{customdata[1]}\\u003cextra\\u003e\\u003c\\u002fextra\\u003e\",\"legendgroup\":\"1\",\"marker\":{\"color\":\"#00cc96\",\"symbol\":\"circle\"},\"mode\":\"markers\",\"name\":\"1\",\"orientation\":\"v\",\"showlegend\":true,\"x\":[15.155308723449707,5.272614002227783,9.248263359069824,10.747241973876953,15.39930248260498,5.293907165527344,18.912189483642578,7.635998725891113,5.910867214202881],\"xaxis\":\"x\",\"y\":[0.8698877692222595,-3.2568674087524414,-4.681312561035156,-4.89831018447876,5.015349388122559,-2.3210270404815674,1.355072259902954,-5.307333469390869,-2.4840357303619385],\"yaxis\":\"y\",\"type\":\"scatter\"}],                        {\"template\":{\"data\":{\"histogram2dcontour\":[{\"type\":\"histogram2dcontour\",\"colorbar\":{\"outlinewidth\":0,\"ticks\":\"\"},\"colorscale\":[[0.0,\"#0d0887\"],[0.1111111111111111,\"#46039f\"],[0.2222222222222222,\"#7201a8\"],[0.3333333333333333,\"#9c179e\"],[0.4444444444444444,\"#bd3786\"],[0.5555555555555556,\"#d8576b\"],[0.6666666666666666,\"#ed7953\"],[0.7777777777777778,\"#fb9f3a\"],[0.8888888888888888,\"#fdca26\"],[1.0,\"#f0f921\"]]}],\"choropleth\":[{\"type\":\"choropleth\",\"colorbar\":{\"outlinewidth\":0,\"ticks\":\"\"}}],\"histogram2d\":[{\"type\":\"histogram2d\",\"colorbar\":{\"outlinewidth\":0,\"ticks\":\"\"},\"colorscale\":[[0.0,\"#0d0887\"],[0.1111111111111111,\"#46039f\"],[0.2222222222222222,\"#7201a8\"],[0.3333333333333333,\"#9c179e\"],[0.4444444444444444,\"#bd3786\"],[0.5555555555555556,\"#d8576b\"],[0.6666666666666666,\"#ed7953\"],[0.7777777777777778,\"#fb9f3a\"],[0.8888888888888888,\"#fdca26\"],[1.0,\"#f0f921\"]]}],\"heatmap\":[{\"type\":\"heatmap\",\"colorbar\":{\"outlinewidth\":0,\"ticks\":\"\"},\"colorscale\":[[0.0,\"#0d0887\"],[0.1111111111111111,\"#46039f\"],[0.2222222222222222,\"#7201a8\"],[0.3333333333333333,\"#9c179e\"],[0.4444444444444444,\"#bd3786\"],[0.5555555555555556,\"#d8576b\"],[0.6666666666666666,\"#ed7953\"],[0.7777777777777778,\"#fb9f3a\"],[0.8888888888888888,\"#fdca26\"],[1.0,\"#f0f921\"]]}],\"heatmapgl\":[{\"type\":\"heatmapgl\",\"colorbar\":{\"outlinewidth\":0,\"ticks\":\"\"},\"colorscale\":[[0.0,\"#0d0887\"],[0.1111111111111111,\"#46039f\"],[0.2222222222222222,\"#7201a8\"],[0.3333333333333333,\"#9c179e\"],[0.4444444444444444,\"#bd3786\"],[0.5555555555555556,\"#d8576b\"],[0.6666666666666666,\"#ed7953\"],[0.7777777777777778,\"#fb9f3a\"],[0.8888888888888888,\"#fdca26\"],[1.0,\"#f0f921\"]]}],\"contourcarpet\":[{\"type\":\"contourcarpet\",\"colorbar\":{\"outlinewidth\":0,\"ticks\":\"\"}}],\"contour\":[{\"type\":\"contour\",\"colorbar\":{\"outlinewidth\":0,\"ticks\":\"\"},\"colorscale\":[[0.0,\"#0d0887\"],[0.1111111111111111,\"#46039f\"],[0.2222222222222222,\"#7201a8\"],[0.3333333333333333,\"#9c179e\"],[0.4444444444444444,\"#bd3786\"],[0.5555555555555556,\"#d8576b\"],[0.6666666666666666,\"#ed7953\"],[0.7777777777777778,\"#fb9f3a\"],[0.8888888888888888,\"#fdca26\"],[1.0,\"#f0f921\"]]}],\"surface\":[{\"type\":\"surface\",\"colorbar\":{\"outlinewidth\":0,\"ticks\":\"\"},\"colorscale\":[[0.0,\"#0d0887\"],[0.1111111111111111,\"#46039f\"],[0.2222222222222222,\"#7201a8\"],[0.3333333333333333,\"#9c179e\"],[0.4444444444444444,\"#bd3786\"],[0.5555555555555556,\"#d8576b\"],[0.6666666666666666,\"#ed7953\"],[0.7777777777777778,\"#fb9f3a\"],[0.8888888888888888,\"#fdca26\"],[1.0,\"#f0f921\"]]}],\"mesh3d\":[{\"type\":\"mesh3d\",\"colorbar\":{\"outlinewidth\":0,\"ticks\":\"\"}}],\"scatter\":[{\"fillpattern\":{\"fillmode\":\"overlay\",\"size\":10,\"solidity\":0.2},\"type\":\"scatter\"}],\"parcoords\":[{\"type\":\"parcoords\",\"line\":{\"colorbar\":{\"outlinewidth\":0,\"ticks\":\"\"}}}],\"scatterpolargl\":[{\"type\":\"scatterpolargl\",\"marker\":{\"colorbar\":{\"outlinewidth\":0,\"ticks\":\"\"}}}],\"bar\":[{\"error_x\":{\"color\":\"#2a3f5f\"},\"error_y\":{\"color\":\"#2a3f5f\"},\"marker\":{\"line\":{\"color\":\"#E5ECF6\",\"width\":0.5},\"pattern\":{\"fillmode\":\"overlay\",\"size\":10,\"solidity\":0.2}},\"type\":\"bar\"}],\"scattergeo\":[{\"type\":\"scattergeo\",\"marker\":{\"colorbar\":{\"outlinewidth\":0,\"ticks\":\"\"}}}],\"scatterpolar\":[{\"type\":\"scatterpolar\",\"marker\":{\"colorbar\":{\"outlinewidth\":0,\"ticks\":\"\"}}}],\"histogram\":[{\"marker\":{\"pattern\":{\"fillmode\":\"overlay\",\"size\":10,\"solidity\":0.2}},\"type\":\"histogram\"}],\"scattergl\":[{\"type\":\"scattergl\",\"marker\":{\"colorbar\":{\"outlinewidth\":0,\"ticks\":\"\"}}}],\"scatter3d\":[{\"type\":\"scatter3d\",\"line\":{\"colorbar\":{\"outlinewidth\":0,\"ticks\":\"\"}},\"marker\":{\"colorbar\":{\"outlinewidth\":0,\"ticks\":\"\"}}}],\"scattermapbox\":[{\"type\":\"scattermapbox\",\"marker\":{\"colorbar\":{\"outlinewidth\":0,\"ticks\":\"\"}}}],\"scatterternary\":[{\"type\":\"scatterternary\",\"marker\":{\"colorbar\":{\"outlinewidth\":0,\"ticks\":\"\"}}}],\"scattercarpet\":[{\"type\":\"scattercarpet\",\"marker\":{\"colorbar\":{\"outlinewidth\":0,\"ticks\":\"\"}}}],\"carpet\":[{\"aaxis\":{\"endlinecolor\":\"#2a3f5f\",\"gridcolor\":\"white\",\"linecolor\":\"white\",\"minorgridcolor\":\"white\",\"startlinecolor\":\"#2a3f5f\"},\"baxis\":{\"endlinecolor\":\"#2a3f5f\",\"gridcolor\":\"white\",\"linecolor\":\"white\",\"minorgridcolor\":\"white\",\"startlinecolor\":\"#2a3f5f\"},\"type\":\"carpet\"}],\"table\":[{\"cells\":{\"fill\":{\"color\":\"#EBF0F8\"},\"line\":{\"color\":\"white\"}},\"header\":{\"fill\":{\"color\":\"#C8D4E3\"},\"line\":{\"color\":\"white\"}},\"type\":\"table\"}],\"barpolar\":[{\"marker\":{\"line\":{\"color\":\"#E5ECF6\",\"width\":0.5},\"pattern\":{\"fillmode\":\"overlay\",\"size\":10,\"solidity\":0.2}},\"type\":\"barpolar\"}],\"pie\":[{\"automargin\":true,\"type\":\"pie\"}]},\"layout\":{\"autotypenumbers\":\"strict\",\"colorway\":[\"#636efa\",\"#EF553B\",\"#00cc96\",\"#ab63fa\",\"#FFA15A\",\"#19d3f3\",\"#FF6692\",\"#B6E880\",\"#FF97FF\",\"#FECB52\"],\"font\":{\"color\":\"#2a3f5f\"},\"hovermode\":\"closest\",\"hoverlabel\":{\"align\":\"left\"},\"paper_bgcolor\":\"white\",\"plot_bgcolor\":\"#E5ECF6\",\"polar\":{\"bgcolor\":\"#E5ECF6\",\"angularaxis\":{\"gridcolor\":\"white\",\"linecolor\":\"white\",\"ticks\":\"\"},\"radialaxis\":{\"gridcolor\":\"white\",\"linecolor\":\"white\",\"ticks\":\"\"}},\"ternary\":{\"bgcolor\":\"#E5ECF6\",\"aaxis\":{\"gridcolor\":\"white\",\"linecolor\":\"white\",\"ticks\":\"\"},\"baxis\":{\"gridcolor\":\"white\",\"linecolor\":\"white\",\"ticks\":\"\"},\"caxis\":{\"gridcolor\":\"white\",\"linecolor\":\"white\",\"ticks\":\"\"}},\"coloraxis\":{\"colorbar\":{\"outlinewidth\":0,\"ticks\":\"\"}},\"colorscale\":{\"sequential\":[[0.0,\"#0d0887\"],[0.1111111111111111,\"#46039f\"],[0.2222222222222222,\"#7201a8\"],[0.3333333333333333,\"#9c179e\"],[0.4444444444444444,\"#bd3786\"],[0.5555555555555556,\"#d8576b\"],[0.6666666666666666,\"#ed7953\"],[0.7777777777777778,\"#fb9f3a\"],[0.8888888888888888,\"#fdca26\"],[1.0,\"#f0f921\"]],\"sequentialminus\":[[0.0,\"#0d0887\"],[0.1111111111111111,\"#46039f\"],[0.2222222222222222,\"#7201a8\"],[0.3333333333333333,\"#9c179e\"],[0.4444444444444444,\"#bd3786\"],[0.5555555555555556,\"#d8576b\"],[0.6666666666666666,\"#ed7953\"],[0.7777777777777778,\"#fb9f3a\"],[0.8888888888888888,\"#fdca26\"],[1.0,\"#f0f921\"]],\"diverging\":[[0,\"#8e0152\"],[0.1,\"#c51b7d\"],[0.2,\"#de77ae\"],[0.3,\"#f1b6da\"],[0.4,\"#fde0ef\"],[0.5,\"#f7f7f7\"],[0.6,\"#e6f5d0\"],[0.7,\"#b8e186\"],[0.8,\"#7fbc41\"],[0.9,\"#4d9221\"],[1,\"#276419\"]]},\"xaxis\":{\"gridcolor\":\"white\",\"linecolor\":\"white\",\"ticks\":\"\",\"title\":{\"standoff\":15},\"zerolinecolor\":\"white\",\"automargin\":true,\"zerolinewidth\":2},\"yaxis\":{\"gridcolor\":\"white\",\"linecolor\":\"white\",\"ticks\":\"\",\"title\":{\"standoff\":15},\"zerolinecolor\":\"white\",\"automargin\":true,\"zerolinewidth\":2},\"scene\":{\"xaxis\":{\"backgroundcolor\":\"#E5ECF6\",\"gridcolor\":\"white\",\"linecolor\":\"white\",\"showbackground\":true,\"ticks\":\"\",\"zerolinecolor\":\"white\",\"gridwidth\":2},\"yaxis\":{\"backgroundcolor\":\"#E5ECF6\",\"gridcolor\":\"white\",\"linecolor\":\"white\",\"showbackground\":true,\"ticks\":\"\",\"zerolinecolor\":\"white\",\"gridwidth\":2},\"zaxis\":{\"backgroundcolor\":\"#E5ECF6\",\"gridcolor\":\"white\",\"linecolor\":\"white\",\"showbackground\":true,\"ticks\":\"\",\"zerolinecolor\":\"white\",\"gridwidth\":2}},\"shapedefaults\":{\"line\":{\"color\":\"#2a3f5f\"}},\"annotationdefaults\":{\"arrowcolor\":\"#2a3f5f\",\"arrowhead\":0,\"arrowwidth\":1},\"geo\":{\"bgcolor\":\"white\",\"landcolor\":\"#E5ECF6\",\"subunitcolor\":\"white\",\"showland\":true,\"showlakes\":true,\"lakecolor\":\"white\"},\"title\":{\"x\":0.05},\"mapbox\":{\"style\":\"light\"}}},\"xaxis\":{\"anchor\":\"y\",\"domain\":[0.0,1.0],\"title\":{\"text\":\"x-tsne\"}},\"yaxis\":{\"anchor\":\"x\",\"domain\":[0.0,1.0],\"title\":{\"text\":\"y-tsne\"}},\"legend\":{\"title\":{\"text\":\"cluster\"},\"tracegroupgap\":0},\"title\":{\"text\":\"Sentences t-SNE Visualization with TF-IDF Embeddings and HDBSCAN Clustering\"},\"height\":1200,\"width\":1200},                        {\"responsive\": true}                    ).then(function(){\n",
       "                            \n",
       "var gd = document.getElementById('a6fcb9df-b737-4abb-b314-d4df75eeff73');\n",
       "var x = new MutationObserver(function (mutations, observer) {{\n",
       "        var display = window.getComputedStyle(gd).display;\n",
       "        if (!display || display === 'none') {{\n",
       "            console.log([gd, 'removed!']);\n",
       "            Plotly.purge(gd);\n",
       "            observer.disconnect();\n",
       "        }}\n",
       "}});\n",
       "\n",
       "// Listen for the removal of the full notebook cells\n",
       "var notebookContainer = gd.closest('#notebook-container');\n",
       "if (notebookContainer) {{\n",
       "    x.observe(notebookContainer, {childList: true});\n",
       "}}\n",
       "\n",
       "// Listen for the clearing of the current output cell\n",
       "var outputEl = gd.closest('.output');\n",
       "if (outputEl) {{\n",
       "    x.observe(outputEl, {childList: true});\n",
       "}}\n",
       "\n",
       "                        })                };                });            </script>        </div>"
      ]
     },
     "metadata": {},
     "output_type": "display_data"
    }
   ],
   "source": [
    "tfidf_df['cluster'] = tfidf_df['cluster'].astype(str)\n",
    "fig_cluster = px.scatter(\n",
    "    tfidf_df,\n",
    "    x=\"x-tsne\",\n",
    "    y=\"y-tsne\",\n",
    "    color=\"cluster\",\n",
    "    hover_data={\"text\": True, \"label\": True, \"cluster\": True},\n",
    "    title=\"Sentences t-SNE Visualization with TF-IDF Embeddings and HDBSCAN Clustering\",\n",
    "    width=1200,\n",
    "    height=1200,\n",
    ")\n",
    "fig_cluster.show()"
   ]
  }
 ],
 "metadata": {
  "kernelspec": {
   "display_name": "PJN",
   "language": "python",
   "name": "python3"
  },
  "language_info": {
   "codemirror_mode": {
    "name": "ipython",
    "version": 3
   },
   "file_extension": ".py",
   "mimetype": "text/x-python",
   "name": "python",
   "nbconvert_exporter": "python",
   "pygments_lexer": "ipython3",
   "version": "3.11.10"
  }
 },
 "nbformat": 4,
 "nbformat_minor": 2
}
