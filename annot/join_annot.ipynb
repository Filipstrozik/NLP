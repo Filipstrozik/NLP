{
 "cells": [
  {
   "cell_type": "code",
   "execution_count": 33,
   "metadata": {},
   "outputs": [],
   "source": [
    "import json"
   ]
  },
  {
   "cell_type": "code",
   "execution_count": 34,
   "metadata": {},
   "outputs": [],
   "source": [
    "def parse_annotations_json(file_path, project, annot_start_idx):\n",
    "    with open(file_path, 'r', encoding=\"utf-8\") as jfile:\n",
    "        jdata = json.load(jfile)\n",
    "    \n",
    "    annot_idx = annot_start_idx\n",
    "    for task in jdata:\n",
    "        annot = task['annotations'][0]\n",
    "        \n",
    "        # update annotation id\n",
    "        annot['id'] = annot_idx\n",
    "        annot_idx += 1\n",
    "        \n",
    "        # update annotator info\n",
    "        annot['completed_by'] = 1 # default ID for locally running label-studio\n",
    "            \n",
    "        # update project info\n",
    "        annot['project'] = project\n",
    "        task['project'] = project\n",
    "        \n",
    "    return jdata, annot_idx"
   ]
  },
  {
   "cell_type": "code",
   "execution_count": 35,
   "metadata": {},
   "outputs": [],
   "source": [
    "def join_annotations(annot1, annot2):\n",
    "    for task1, task2 in zip(annot1, annot2):\n",
    "        # check if tasks are the same\n",
    "        assert task1['data']['text'] == task2['data']['text']\n",
    "        \n",
    "        # add annotation from task2 to task1\n",
    "        task1['annotations'].append(task2['annotations'][0])\n",
    "        \n",
    "        # update total annotations number\n",
    "        task1['total_annotations'] = 2\n",
    "        \n",
    "    return annot1"
   ]
  },
  {
   "cell_type": "code",
   "execution_count": 36,
   "metadata": {},
   "outputs": [],
   "source": [
    "def save_annotations_json(file_path, jdata):\n",
    "    with open(file_path, 'w') as jfile:\n",
    "        json.dump(jdata, jfile, indent=4)"
   ]
  },
  {
   "cell_type": "markdown",
   "metadata": {},
   "source": [
    "Join annotations from 2 annotators"
   ]
  },
  {
   "cell_type": "code",
   "execution_count": 37,
   "metadata": {},
   "outputs": [],
   "source": [
    "iza, end_idx = parse_annotations_json('101-200/filip_101_200.json', 'PJN Project', 1)\n",
    "filip, _ = parse_annotations_json('101-200/dawid_101_200.json', 'PJN Project', end_idx) # start at previous end_idx"
   ]
  },
  {
   "cell_type": "code",
   "execution_count": 38,
   "metadata": {},
   "outputs": [
    {
     "data": {
      "text/plain": [
       "100"
      ]
     },
     "execution_count": 38,
     "metadata": {},
     "output_type": "execute_result"
    }
   ],
   "source": [
    "len(iza)"
   ]
  },
  {
   "cell_type": "code",
   "execution_count": 39,
   "metadata": {},
   "outputs": [
    {
     "data": {
      "text/plain": [
       "100"
      ]
     },
     "execution_count": 39,
     "metadata": {},
     "output_type": "execute_result"
    }
   ],
   "source": [
    "len(filip)"
   ]
  },
  {
   "cell_type": "code",
   "execution_count": 40,
   "metadata": {},
   "outputs": [],
   "source": [
    "annots = join_annotations(iza, filip)"
   ]
  },
  {
   "cell_type": "code",
   "execution_count": 41,
   "metadata": {},
   "outputs": [],
   "source": [
    "save_annotations_json('101-200/annot_101_200.json', annots)"
   ]
  }
 ],
 "metadata": {
  "kernelspec": {
   "display_name": "venv",
   "language": "python",
   "name": "python3"
  },
  "language_info": {
   "codemirror_mode": {
    "name": "ipython",
    "version": 3
   },
   "file_extension": ".py",
   "mimetype": "text/x-python",
   "name": "python",
   "nbconvert_exporter": "python",
   "pygments_lexer": "ipython3",
   "version": "3.12.0"
  }
 },
 "nbformat": 4,
 "nbformat_minor": 2
}
