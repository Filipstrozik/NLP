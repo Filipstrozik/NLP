{
 "cells": [
  {
   "cell_type": "code",
   "execution_count": 15,
   "metadata": {},
   "outputs": [],
   "source": [
    "import json\n",
    "from sklearn.metrics import cohen_kappa_score\n",
    "import numpy as np"
   ]
  },
  {
   "cell_type": "code",
   "execution_count": 16,
   "metadata": {},
   "outputs": [],
   "source": [
    "# Load the annotations from JSON file\n",
    "def load_annotations(file_path):\n",
    "    with open(file_path, 'r') as jfile:\n",
    "        jdata = json.load(jfile)\n",
    "    return jdata"
   ]
  },
  {
   "cell_type": "code",
   "execution_count": 17,
   "metadata": {},
   "outputs": [],
   "source": [
    "# Extract annotations from JSON file\n",
    "def extract_annotations(annotations):\n",
    "    annot_dict = {}\n",
    "    for task in annotations:\n",
    "        full_text = task['data']['text']\n",
    "        annot_dict[task['id']] = {'text': full_text, 'overall_label': None, 'span_labels': {}}\n",
    "        # Extarct annot info\n",
    "        for annot in task['annotations'][0]['result']:\n",
    "            if annot['from_name'] == 'label':\n",
    "                start = annot['value']['start']\n",
    "                end = annot['value']['end']\n",
    "                text = annot['value']['text'].strip()\n",
    "                label = annot['value']['labels'][0]\n",
    "                annot_dict[task['id']]['span_labels'][(start, end)] = (text, label)\n",
    "            else:\n",
    "                annot_dict[task['id']]['overall_label'] = annot['value']['choices'][0]\n",
    "    return annot_dict"
   ]
  },
  {
   "cell_type": "code",
   "execution_count": 18,
   "metadata": {},
   "outputs": [],
   "source": [
    "def extract_token_labels(annotations, text_length):\n",
    "    \"\"\"Extract token labels for the full text with 'O' for non-annotated spans.\"\"\"\n",
    "    token_labels = ['O'] * text_length  # Initialize all tokens as unlabeled ('O')\n",
    "    for (start, end), (entity_text, label) in annotations['span_labels'].items():\n",
    "        for i in range(start, end):  # Assign label to each character in the span\n",
    "            token_labels[i] = label\n",
    "    return token_labels\n",
    "\n",
    "def calculate_kappa(annotations_1, annotations_2):\n",
    "    \"\"\"Calculate Cohen's Kappa score using the full text provided in annotations.\"\"\"\n",
    "    kappa_scores = {}\n",
    "    \n",
    "    for task_id in annotations_1.keys():\n",
    "        if task_id in annotations_2:\n",
    "            # Get text length from full text\n",
    "            text_length = len(annotations_1[task_id]['text'])\n",
    "\n",
    "            # Extract token labels for both annotators\n",
    "            labels_1 = extract_token_labels(annotations_1[task_id], text_length)\n",
    "            labels_2 = extract_token_labels(annotations_2[task_id], text_length)\n",
    "\n",
    "            # Calculate Kappa for the current task\n",
    "            kappa_scores[task_id] = cohen_kappa_score(labels_1, labels_2)\n",
    "\n",
    "    mean_score = np.mean(list(kappa_scores.values()))\n",
    "    return mean_score"
   ]
  },
  {
   "cell_type": "code",
   "execution_count": 19,
   "metadata": {},
   "outputs": [],
   "source": [
    "def calculate_psa(annotations_1, annotations_2):\n",
    "    \"\"\"Calculate PSA using the full text provided in annotations.\"\"\"\n",
    "    psa_scores = {}\n",
    "\n",
    "    for task_id in annotations_1.keys():\n",
    "        if task_id in annotations_2:\n",
    "            # Get text length from full text\n",
    "            text_length = len(annotations_1[task_id]['text'])\n",
    "\n",
    "            # Extract token labels for both annotators\n",
    "            labels_1 = extract_token_labels(annotations_1[task_id], text_length)\n",
    "            labels_2 = extract_token_labels(annotations_2[task_id], text_length)\n",
    "\n",
    "            # Identify positively labeled tokens (ignoring 'O')\n",
    "            labeled_1 = {i for i, label in enumerate(labels_1) if label != 'O'}\n",
    "            labeled_2 = {i for i, label in enumerate(labels_2) if label != 'O'}\n",
    "\n",
    "            # Calculate intersection and total positives\n",
    "            intersection = len(labeled_1 & labeled_2)\n",
    "            total_positive = len(labeled_1) + len(labeled_2)\n",
    "\n",
    "            if total_positive == 0:\n",
    "                psa_scores[task_id] = 1.0  # If no positive labels, PSA is 1\n",
    "            else:\n",
    "                psa_scores[task_id] = (2 * intersection) / total_positive\n",
    "\n",
    "    mean_score = np.mean(list(psa_scores.values()))\n",
    "    return mean_score"
   ]
  },
  {
   "cell_type": "markdown",
   "metadata": {},
   "source": [
    "Labeling 1-100"
   ]
  },
  {
   "cell_type": "code",
   "execution_count": 20,
   "metadata": {},
   "outputs": [],
   "source": [
    "iza_1_100 = load_annotations('1-100/iza_1_100.json')\n",
    "filip_1_100 = load_annotations('1-100/filip_1_100.json')"
   ]
  },
  {
   "cell_type": "code",
   "execution_count": 21,
   "metadata": {},
   "outputs": [],
   "source": [
    "iza_annots = extract_annotations(iza_1_100)\n",
    "filip_annots = extract_annotations(filip_1_100)"
   ]
  },
  {
   "cell_type": "code",
   "execution_count": 22,
   "metadata": {},
   "outputs": [
    {
     "name": "stdout",
     "output_type": "stream",
     "text": [
      "Mean Cohen's Kappa: 0.7676451708357998\n",
      "Mean Positive Specific Agreement: 0.8136569537176238\n"
     ]
    }
   ],
   "source": [
    "kappa = calculate_kappa(iza_annots, filip_annots)\n",
    "print(f\"Mean Cohen's Kappa: {kappa}\")\n",
    "\n",
    "# Calculate Positive Specific Agreement (PSA)\n",
    "psa = calculate_psa(iza_annots, filip_annots)\n",
    "print(f\"Mean Positive Specific Agreement: {psa}\")"
   ]
  }
 ],
 "metadata": {
  "kernelspec": {
   "display_name": "PJN",
   "language": "python",
   "name": "python3"
  },
  "language_info": {
   "codemirror_mode": {
    "name": "ipython",
    "version": 3
   },
   "file_extension": ".py",
   "mimetype": "text/x-python",
   "name": "python",
   "nbconvert_exporter": "python",
   "pygments_lexer": "ipython3",
   "version": "3.11.10"
  }
 },
 "nbformat": 4,
 "nbformat_minor": 2
}
