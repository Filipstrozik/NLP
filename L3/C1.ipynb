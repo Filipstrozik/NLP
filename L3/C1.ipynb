{
 "cells": [
  {
   "cell_type": "code",
   "execution_count": 1,
   "metadata": {},
   "outputs": [
    {
     "name": "stdout",
     "output_type": "stream",
     "text": [
      "zsh:1: no matches found: transformers[sentencepiece]\n",
      "Requirement already satisfied: faiss-cpu in /Users/filipstrozik/Documents/studies/IISEM/nlp/.venv/lib/python3.12/site-packages (1.9.0.post1)\n",
      "Requirement already satisfied: numpy<3.0,>=1.25.0 in /Users/filipstrozik/Documents/studies/IISEM/nlp/.venv/lib/python3.12/site-packages (from faiss-cpu) (1.26.4)\n",
      "Requirement already satisfied: packaging in /Users/filipstrozik/Documents/studies/IISEM/nlp/.venv/lib/python3.12/site-packages (from faiss-cpu) (24.1)\n",
      "Requirement already satisfied: sentence-transformers in /Users/filipstrozik/Documents/studies/IISEM/nlp/.venv/lib/python3.12/site-packages (3.3.1)\n",
      "Requirement already satisfied: transformers<5.0.0,>=4.41.0 in /Users/filipstrozik/Documents/studies/IISEM/nlp/.venv/lib/python3.12/site-packages (from sentence-transformers) (4.45.2)\n",
      "Requirement already satisfied: tqdm in /Users/filipstrozik/Documents/studies/IISEM/nlp/.venv/lib/python3.12/site-packages (from sentence-transformers) (4.66.5)\n",
      "Requirement already satisfied: torch>=1.11.0 in /Users/filipstrozik/Documents/studies/IISEM/nlp/.venv/lib/python3.12/site-packages (from sentence-transformers) (2.5.0)\n",
      "Requirement already satisfied: scikit-learn in /Users/filipstrozik/Documents/studies/IISEM/nlp/.venv/lib/python3.12/site-packages (from sentence-transformers) (1.5.2)\n",
      "Requirement already satisfied: scipy in /Users/filipstrozik/Documents/studies/IISEM/nlp/.venv/lib/python3.12/site-packages (from sentence-transformers) (1.14.1)\n",
      "Requirement already satisfied: huggingface-hub>=0.20.0 in /Users/filipstrozik/Documents/studies/IISEM/nlp/.venv/lib/python3.12/site-packages (from sentence-transformers) (0.26.1)\n",
      "Requirement already satisfied: Pillow in /Users/filipstrozik/Documents/studies/IISEM/nlp/.venv/lib/python3.12/site-packages (from sentence-transformers) (11.0.0)\n",
      "Requirement already satisfied: filelock in /Users/filipstrozik/Documents/studies/IISEM/nlp/.venv/lib/python3.12/site-packages (from huggingface-hub>=0.20.0->sentence-transformers) (3.16.1)\n",
      "Requirement already satisfied: fsspec>=2023.5.0 in /Users/filipstrozik/Documents/studies/IISEM/nlp/.venv/lib/python3.12/site-packages (from huggingface-hub>=0.20.0->sentence-transformers) (2024.9.0)\n",
      "Requirement already satisfied: packaging>=20.9 in /Users/filipstrozik/Documents/studies/IISEM/nlp/.venv/lib/python3.12/site-packages (from huggingface-hub>=0.20.0->sentence-transformers) (24.1)\n",
      "Requirement already satisfied: pyyaml>=5.1 in /Users/filipstrozik/Documents/studies/IISEM/nlp/.venv/lib/python3.12/site-packages (from huggingface-hub>=0.20.0->sentence-transformers) (6.0.2)\n",
      "Requirement already satisfied: requests in /Users/filipstrozik/Documents/studies/IISEM/nlp/.venv/lib/python3.12/site-packages (from huggingface-hub>=0.20.0->sentence-transformers) (2.32.3)\n",
      "Requirement already satisfied: typing-extensions>=3.7.4.3 in /Users/filipstrozik/Documents/studies/IISEM/nlp/.venv/lib/python3.12/site-packages (from huggingface-hub>=0.20.0->sentence-transformers) (4.12.2)\n",
      "Requirement already satisfied: networkx in /Users/filipstrozik/Documents/studies/IISEM/nlp/.venv/lib/python3.12/site-packages (from torch>=1.11.0->sentence-transformers) (3.4.2)\n",
      "Requirement already satisfied: jinja2 in /Users/filipstrozik/Documents/studies/IISEM/nlp/.venv/lib/python3.12/site-packages (from torch>=1.11.0->sentence-transformers) (3.1.4)\n",
      "Requirement already satisfied: setuptools in /Users/filipstrozik/Documents/studies/IISEM/nlp/.venv/lib/python3.12/site-packages (from torch>=1.11.0->sentence-transformers) (75.1.0)\n",
      "Requirement already satisfied: sympy==1.13.1 in /Users/filipstrozik/Documents/studies/IISEM/nlp/.venv/lib/python3.12/site-packages (from torch>=1.11.0->sentence-transformers) (1.13.1)\n",
      "Requirement already satisfied: mpmath<1.4,>=1.1.0 in /Users/filipstrozik/Documents/studies/IISEM/nlp/.venv/lib/python3.12/site-packages (from sympy==1.13.1->torch>=1.11.0->sentence-transformers) (1.3.0)\n",
      "Requirement already satisfied: numpy>=1.17 in /Users/filipstrozik/Documents/studies/IISEM/nlp/.venv/lib/python3.12/site-packages (from transformers<5.0.0,>=4.41.0->sentence-transformers) (1.26.4)\n",
      "Requirement already satisfied: regex!=2019.12.17 in /Users/filipstrozik/Documents/studies/IISEM/nlp/.venv/lib/python3.12/site-packages (from transformers<5.0.0,>=4.41.0->sentence-transformers) (2024.9.11)\n",
      "Requirement already satisfied: safetensors>=0.4.1 in /Users/filipstrozik/Documents/studies/IISEM/nlp/.venv/lib/python3.12/site-packages (from transformers<5.0.0,>=4.41.0->sentence-transformers) (0.4.5)\n",
      "Requirement already satisfied: tokenizers<0.21,>=0.20 in /Users/filipstrozik/Documents/studies/IISEM/nlp/.venv/lib/python3.12/site-packages (from transformers<5.0.0,>=4.41.0->sentence-transformers) (0.20.1)\n",
      "Requirement already satisfied: joblib>=1.2.0 in /Users/filipstrozik/Documents/studies/IISEM/nlp/.venv/lib/python3.12/site-packages (from scikit-learn->sentence-transformers) (1.4.2)\n",
      "Requirement already satisfied: threadpoolctl>=3.1.0 in /Users/filipstrozik/Documents/studies/IISEM/nlp/.venv/lib/python3.12/site-packages (from scikit-learn->sentence-transformers) (3.5.0)\n",
      "Requirement already satisfied: MarkupSafe>=2.0 in /Users/filipstrozik/Documents/studies/IISEM/nlp/.venv/lib/python3.12/site-packages (from jinja2->torch>=1.11.0->sentence-transformers) (3.0.2)\n",
      "Requirement already satisfied: charset-normalizer<4,>=2 in /Users/filipstrozik/Documents/studies/IISEM/nlp/.venv/lib/python3.12/site-packages (from requests->huggingface-hub>=0.20.0->sentence-transformers) (3.4.0)\n",
      "Requirement already satisfied: idna<4,>=2.5 in /Users/filipstrozik/Documents/studies/IISEM/nlp/.venv/lib/python3.12/site-packages (from requests->huggingface-hub>=0.20.0->sentence-transformers) (3.10)\n",
      "Requirement already satisfied: urllib3<3,>=1.21.1 in /Users/filipstrozik/Documents/studies/IISEM/nlp/.venv/lib/python3.12/site-packages (from requests->huggingface-hub>=0.20.0->sentence-transformers) (1.26.20)\n",
      "Requirement already satisfied: certifi>=2017.4.17 in /Users/filipstrozik/Documents/studies/IISEM/nlp/.venv/lib/python3.12/site-packages (from requests->huggingface-hub>=0.20.0->sentence-transformers) (2024.8.30)\n"
     ]
    }
   ],
   "source": [
    "!pip install datasets evaluate transformers[sentencepiece]\n",
    "!pip install faiss-cpu\n",
    "!pip install -U sentence-transformers"
   ]
  },
  {
   "cell_type": "code",
   "execution_count": null,
   "metadata": {},
   "outputs": [],
   "source": [
    "import pandas as pd\n",
    "from datasets import load_dataset\n",
    "from datasets import Dataset\n",
    "import numpy as np\n",
    "import pickle"
   ]
  },
  {
   "cell_type": "code",
   "execution_count": null,
   "metadata": {},
   "outputs": [
    {
     "data": {
      "text/plain": [
       "DatasetDict({\n",
       "    train: Dataset({\n",
       "        features: ['question', 'answer'],\n",
       "        num_rows: 87599\n",
       "    })\n",
       "})"
      ]
     },
     "execution_count": 11,
     "metadata": {},
     "output_type": "execute_result"
    }
   ],
   "source": [
    "\n",
    "\n",
    "ds = load_dataset(\"sentence-transformers/squad\")\n",
    "ds"
   ]
  },
  {
   "cell_type": "code",
   "execution_count": 66,
   "metadata": {},
   "outputs": [
    {
     "data": {
      "text/plain": [
       "Dataset({\n",
       "    features: ['question', 'answer', '__index_level_0__'],\n",
       "    num_rows: 18891\n",
       "})"
      ]
     },
     "execution_count": 66,
     "metadata": {},
     "output_type": "execute_result"
    }
   ],
   "source": [
    "# Convert the dataset to a pandas DataFrame\n",
    "df = ds[\"train\"].to_pandas()\n",
    "\n",
    "# Drop duplicate rows based on the 'answer' column\n",
    "df = df.drop_duplicates(subset='answer')\n",
    "\n",
    "# Convert the DataFrame back to a Dataset\n",
    "ds_cleaned = Dataset.from_pandas(df)\n",
    "\n",
    "# Update the dataset dictionary\n",
    "ds[\"train\"] = ds_cleaned\n",
    "\n",
    "ds_cleaned"
   ]
  },
  {
   "cell_type": "code",
   "execution_count": 128,
   "metadata": {},
   "outputs": [],
   "source": [
    "from sentence_transformers import SentenceTransformer\n",
    "\n",
    "model = SentenceTransformer(\"multi-qa-mpnet-base-dot-v1\")"
   ]
  },
  {
   "cell_type": "code",
   "execution_count": 69,
   "metadata": {},
   "outputs": [],
   "source": [
    "questions = ds_cleaned[\"question\"]\n",
    "answers = ds_cleaned[\"answer\"]"
   ]
  },
  {
   "cell_type": "code",
   "execution_count": 70,
   "metadata": {},
   "outputs": [
    {
     "name": "stdout",
     "output_type": "stream",
     "text": [
      "Last Question: In what US state did Kathmandu first establish an international relationship?\n",
      "Ground Truth Answer: Kathmandu Metropolitan City (KMC), in order to promote international relations has established an International Relations Secretariat (IRC). KMC's first international relationship was established in 1975 with the city of Eugene, Oregon, United States. This activity has been further enhanced by establishing formal relationships with 8 other cities: Motsumoto City of Japan, Rochester of the USA, Yangon (formerly Rangoon) of Myanmar, Xi'an of the People's Republic of China, Minsk of Belarus, and Pyongyang of the Democratic Republic of Korea. KMC's constant endeavor is to enhance its interaction with SAARC countries, other International agencies and many other major cities of the world to achieve better urban management and developmental programs for Kathmandu.\n"
     ]
    }
   ],
   "source": [
    "# Get the last question and its corresponding answer\n",
    "last_question = questions[-1]\n",
    "last_answer = answers[-1]\n",
    "\n",
    "print(\"Last Question:\", last_question)\n",
    "print(\"Ground Truth Answer:\", last_answer)"
   ]
  },
  {
   "cell_type": "code",
   "execution_count": 71,
   "metadata": {},
   "outputs": [],
   "source": [
    "answer_embeddings = model.encode(answers, convert_to_tensor=True)\n",
    "\n",
    "# Save the answer embeddings to a pickle file\n",
    "with open(\"answer_embeddings.pkl\", \"wb\") as f:\n",
    "    pickle.dump(answer_embeddings, f)\n"
   ]
  },
  {
   "cell_type": "code",
   "execution_count": 77,
   "metadata": {},
   "outputs": [],
   "source": [
    "import pickle\n",
    "\n",
    "with open(\"answer_embeddings.pkl\", \"rb\") as f:\n",
    "    answer_embeddings = pickle.load(f)"
   ]
  },
  {
   "cell_type": "code",
   "execution_count": 78,
   "metadata": {},
   "outputs": [
    {
     "data": {
      "text/plain": [
       "tensor([[ 0.0920, -0.1151, -0.0925,  ..., -0.1539,  0.0199, -0.3485],\n",
       "        [ 0.0312,  0.0178,  0.1020,  ..., -0.2624, -0.2836,  0.0984],\n",
       "        [-0.0151,  0.3671, -0.0054,  ..., -0.1638,  0.1597, -0.0239],\n",
       "        ...,\n",
       "        [ 0.0623, -0.3622, -0.1559,  ..., -0.2562, -0.5400, -0.5379],\n",
       "        [ 0.5040, -0.7157, -0.1107,  ..., -0.2558, -0.3753, -0.2565],\n",
       "        [ 0.1656, -0.1617, -0.0214,  ..., -0.1522, -0.4290, -0.3922]],\n",
       "       device='mps:0')"
      ]
     },
     "execution_count": 78,
     "metadata": {},
     "output_type": "execute_result"
    }
   ],
   "source": [
    "answer_embeddings"
   ]
  },
  {
   "cell_type": "code",
   "execution_count": 79,
   "metadata": {},
   "outputs": [],
   "source": [
    "import torch\n",
    "\n",
    "def search_query_top_k(query, corpus_embedding, corpus, top_k=5):\n",
    "    query_embedding = model.encode(query, convert_to_tensor=True)\n",
    "    cosine_scores = model.similarity(query_embedding, corpus_embedding)[0]\n",
    "    scores, indices = torch.topk(cosine_scores, k=top_k)\n",
    "    print(\"\\nQuery:\", query)\n",
    "    print(\"Top 5 most similar sentences in corpus: \\n\")\n",
    "\n",
    "\n",
    "    for i, (score, idx) in enumerate(zip(scores, indices), 1):\n",
    "        print(f\"{i}. (Score: {score:.4f}) index: {idx} \\n\", corpus[idx])\n",
    "        print()"
   ]
  },
  {
   "cell_type": "code",
   "execution_count": 80,
   "metadata": {},
   "outputs": [
    {
     "name": "stdout",
     "output_type": "stream",
     "text": [
      "First Question: To whom did the Virgin Mary allegedly appear in 1858 in Lourdes France?\n"
     ]
    }
   ],
   "source": [
    "first_question = questions[0]\n",
    "print(\"First Question:\", first_question)"
   ]
  },
  {
   "cell_type": "code",
   "execution_count": 82,
   "metadata": {},
   "outputs": [
    {
     "name": "stdout",
     "output_type": "stream",
     "text": [
      "\n",
      "Query: To whom did the Virgin Mary allegedly appear in 1858 in Lourdes France?\n",
      "Top 5 most similar sentences in corpus: \n",
      "\n",
      "1. (Score: 21.6458) index: 0 \n",
      " Architecturally, the school has a Catholic character. Atop the Main Building's gold dome is a golden statue of the Virgin Mary. Immediately in front of the Main Building and facing it, is a copper statue of Christ with arms upraised with the legend \"Venite Ad Me Omnes\". Next to the Main Building is the Basilica of the Sacred Heart. Immediately behind the basilica is the Grotto, a Marian place of prayer and reflection. It is a replica of the grotto at Lourdes, France where the Virgin Mary reputedly appeared to Saint Bernadette Soubirous in 1858. At the end of the main drive (and in a direct line that connects through 3 statues and the Gold Dome), is a simple, modern stone statue of Mary.\n",
      "\n",
      "2. (Score: 19.7955) index: 6907 \n",
      " The Gospel of Luke begins its account of Mary's life with the Annunciation, when the angel Gabriel appeared to her and announced her divine selection to be the mother of Jesus. According to gospel accounts, Mary was present at the Crucifixion of Jesus and is depicted as a member of the early Christian community in Jerusalem. According to Apocryphal writings, at some time soon after her death, her incorrupt body was assumed directly into Heaven, to be reunited with her soul, and the apostles thereupon found the tomb empty; this is known in Christian teaching as the Assumption.\n",
      "\n",
      "3. (Score: 19.0873) index: 6919 \n",
      " In paintings, Mary is traditionally portrayed in blue. This tradition can trace its origin to the Byzantine Empire, from c.500 AD, where blue was \"the colour of an empress\". A more practical explanation for the use of this colour is that in Medieval and Renaissance Europe, the blue pigment was derived from the rock lapis lazuli, a stone imported from Afghanistan of greater value than gold. Beyond a painter's retainer, patrons were expected to purchase any gold or lapis lazuli to be used in the painting. Hence, it was an expression of devotion and glorification to swathe the Virgin in gowns of blue.\n",
      "\n",
      "4. (Score: 18.8320) index: 17583 \n",
      " It seems to have been St Bernard of Clairvaux who, in the 12th century, explicitly raised the question of the Immaculate Conception. A feast of the Conception of the Blessed Virgin had already begun to be celebrated in some churches of the West. St Bernard blames the canons of the metropolitan church of Lyon for instituting such a festival without the permission of the Holy See. In doing so, he takes occasion to repudiate altogether the view that the conception of Mary was sinless. It is doubtful, however, whether he was using the term \"conception\" in the same sense in which it is used in the definition of Pope Pius IX. Bernard would seem to have been speaking of conception in the active sense of the mother's cooperation, for in his argument he says: \"How can there be absence of sin where there is concupiscence (libido)?\" and stronger expressions follow, showing that he is speaking of the mother and not of the child.\n",
      "\n",
      "5. (Score: 18.6935) index: 3694 \n",
      " Henry VII added a Perpendicular style chapel dedicated to the Blessed Virgin Mary in 1503 (known as the Henry VII Chapel or the \"Lady Chapel\"). Much of the stone came from Caen, in France (Caen stone), the Isle of Portland (Portland stone) and the Loire Valley region of France (tuffeau limestone).[citation needed]\n",
      "\n"
     ]
    }
   ],
   "source": [
    "search_query_top_k(first_question, answer_embeddings, answers, top_k=5)"
   ]
  },
  {
   "cell_type": "code",
   "execution_count": 87,
   "metadata": {},
   "outputs": [
    {
     "data": {
      "text/plain": [
       "True"
      ]
     },
     "execution_count": 87,
     "metadata": {},
     "output_type": "execute_result"
    }
   ],
   "source": [
    "len(answers) == len(answer_embeddings)"
   ]
  },
  {
   "cell_type": "code",
   "execution_count": 88,
   "metadata": {},
   "outputs": [],
   "source": [
    "#get random question\n",
    "random = questions[-1]"
   ]
  },
  {
   "cell_type": "code",
   "execution_count": 89,
   "metadata": {},
   "outputs": [
    {
     "name": "stdout",
     "output_type": "stream",
     "text": [
      "\n",
      "Query: In what US state did Kathmandu first establish an international relationship?\n",
      "Top 5 most similar sentences in corpus: \n",
      "\n",
      "1. (Score: 24.8097) index: 18890 \n",
      " Kathmandu Metropolitan City (KMC), in order to promote international relations has established an International Relations Secretariat (IRC). KMC's first international relationship was established in 1975 with the city of Eugene, Oregon, United States. This activity has been further enhanced by establishing formal relationships with 8 other cities: Motsumoto City of Japan, Rochester of the USA, Yangon (formerly Rangoon) of Myanmar, Xi'an of the People's Republic of China, Minsk of Belarus, and Pyongyang of the Democratic Republic of Korea. KMC's constant endeavor is to enhance its interaction with SAARC countries, other International agencies and many other major cities of the world to achieve better urban management and developmental programs for Kathmandu.\n",
      "\n",
      "2. (Score: 21.8178) index: 18843 \n",
      " The Gorkha Kingdom ended the Malla confederation after the Battle of Kathmandu in 1768. This marked the beginning of the modern era in Kathmandu. The Battle of Kirtipur was the start of the Gorkha conquest of the Kathmandu Valley. Kathmandu was adopted as the capital of the Gorkha empire, and the empire itself was dubbed Nepal. During the early part of this era, Kathmandu maintained its distinctive culture. Buildings with characteristic Nepali architecture, such as the nine-story tower of Basantapur, were built during this era. However, trade declined because of continual war with neighboring nations. Bhimsen Thapa supported France against Great Britain; this led to the development of modern military structures, such as modern barracks in Kathmandu. The nine-storey tower Dharahara was originally built during this era.\n",
      "\n",
      "3. (Score: 21.1506) index: 18851 \n",
      " Tourism is considered another important industry in Nepal. This industry started around 1950, as the country's political makeup changed and ended the country's isolation from the rest of the world. In 1956, air transportation was established and the Tribhuvan Highway, between Kathmandu and Raxaul (at India's border), was started. Separate organizations were created in Kathmandu to promote this activity; some of these include the Tourism Development Board, the Department of Tourism and the Civil Aviation Department. Furthermore, Nepal became a member of several international tourist associations. Establishing diplomatic relations with other nations further accentuated this activity. The hotel industry, travel agencies, training of tourist guides, and targeted publicity campaigns are the chief reasons for the remarkable growth of this industry in Nepal, and in Kathmandu in particular.\n",
      "\n",
      "4. (Score: 20.9917) index: 18833 \n",
      " Kathmandu(/ˌkɑːtmɑːnˈduː/; Nepali pronunciation: [kɑʈʰmɑɳɖu]) is the capital and largest municipality of Nepal. It also hosts the headquarters of the South Asian Association for Regional Cooperation (SAARC). It is the only city of Nepal with the administrative status of Mahanagar (Metropolitan City), as compared to Upa-Mahanagar (Sub-Metropolitan City) or Nagar (City). Kathmandu is the core of Nepal's largest urban agglomeration located in the Kathmandu Valley consisting of Lalitpur, Kirtipur, Madhyapur Thimi, Bhaktapur and a number of smaller communities. Kathmandu is also known informally as \"KTM\" or the \"tri-city\". According to the 2011 census, Kathmandu Metropolitan City has a population of 975,453 and measures 49.45 km2 (19.09 sq mi).\n",
      "\n",
      "5. (Score: 20.4614) index: 18840 \n",
      " Eventually, the Licchavi ruler Gunakamadeva merged Koligram and Dakshin Koligram, founding the city of Kathmandu. The city was designed in the shape of Chandrahrasa, the sword of Manjushri. The city was surrounded by eight barracks guarded by Ajimas. One of these barracks is still in use at Bhadrakali (in front of Singha Durbar). The city served as an important transit point in the trade between India and Tibet, leading to tremendous growth in architecture. Descriptions of buildings such as Managriha, Kailaskut Bhawan, and Bhadradiwas Bhawan have been found in the surviving journals of travelers and monks who lived during this era. For example, the famous 7th-century Chinese traveller Xuanzang described Kailaskut Bhawan, the palace of the Licchavi king Amshuverma. The trade route also led to cultural exchange as well. The artistry of the Newar people—the indigenous inhabitants of the Kathmandu Valley—became highly sought after during this era, both within the Valley and throughout the greater Himalayas. Newar artists travelled extensively throughout Asia, creating religious art for their neighbors. For example, Araniko led a group of his compatriot artists through Tibet and China. Bhrikuti, the princess of Nepal who married Tibetan monarch Songtsän Gampo, was instrumental in introducing Buddhism to Tibet.\n",
      "\n"
     ]
    }
   ],
   "source": [
    "search_query_top_k(random, answer_embeddings, answers, top_k=5)"
   ]
  },
  {
   "cell_type": "markdown",
   "metadata": {},
   "source": [
    "## C FAISS INDEX"
   ]
  },
  {
   "cell_type": "code",
   "execution_count": 96,
   "metadata": {},
   "outputs": [],
   "source": [
    "# Create a dataset from the answers\n",
    "answers_dataset = Dataset.from_dict({\"answers\": ds_cleaned[\"answer\"]})"
   ]
  },
  {
   "cell_type": "code",
   "execution_count": 95,
   "metadata": {},
   "outputs": [],
   "source": [
    "# Convert embeddings to a list of lists\n",
    "answer_embeddings_list = [embedding.tolist() for embedding in answer_embeddings]\n"
   ]
  },
  {
   "cell_type": "code",
   "execution_count": 97,
   "metadata": {},
   "outputs": [],
   "source": [
    "\n",
    "# Add embeddings to the dataset\n",
    "answers_dataset = answers_dataset.add_column(\"embeddings\", answer_embeddings_list)\n"
   ]
  },
  {
   "cell_type": "code",
   "execution_count": 98,
   "metadata": {},
   "outputs": [
    {
     "data": {
      "text/plain": [
       "Dataset({\n",
       "    features: ['answers', 'embeddings'],\n",
       "    num_rows: 18891\n",
       "})"
      ]
     },
     "execution_count": 98,
     "metadata": {},
     "output_type": "execute_result"
    }
   ],
   "source": [
    "answers_dataset"
   ]
  },
  {
   "cell_type": "code",
   "execution_count": 101,
   "metadata": {},
   "outputs": [
    {
     "data": {
      "application/vnd.jupyter.widget-view+json": {
       "model_id": "6f4f4ae02ba84fa5b8603a3ad882ec7b",
       "version_major": 2,
       "version_minor": 0
      },
      "text/plain": [
       "  0%|          | 0/19 [00:00<?, ?it/s]"
      ]
     },
     "metadata": {},
     "output_type": "display_data"
    },
    {
     "data": {
      "text/plain": [
       "Dataset({\n",
       "    features: ['answers', 'embeddings'],\n",
       "    num_rows: 18891\n",
       "})"
      ]
     },
     "execution_count": 101,
     "metadata": {},
     "output_type": "execute_result"
    }
   ],
   "source": [
    "# Add FAISS index to the dataset\n",
    "answers_dataset.add_faiss_index(column=\"embeddings\")"
   ]
  },
  {
   "cell_type": "code",
   "execution_count": 102,
   "metadata": {},
   "outputs": [
    {
     "data": {
      "text/plain": [
       "Dataset({\n",
       "    features: ['answers', 'embeddings'],\n",
       "    num_rows: 18891\n",
       "})"
      ]
     },
     "execution_count": 102,
     "metadata": {},
     "output_type": "execute_result"
    }
   ],
   "source": [
    "answers_dataset"
   ]
  },
  {
   "cell_type": "code",
   "execution_count": null,
   "metadata": {},
   "outputs": [
    {
     "data": {
      "application/vnd.jupyter.widget-view+json": {
       "model_id": "bd44684d180d4cbea7063e7a8cd96bbd",
       "version_major": 2,
       "version_minor": 0
      },
      "text/plain": [
       "  0%|          | 0/88 [00:00<?, ?it/s]"
      ]
     },
     "metadata": {},
     "output_type": "display_data"
    },
    {
     "data": {
      "text/plain": [
       "Dataset({\n",
       "    features: ['questions', 'embeddings'],\n",
       "    num_rows: 87599\n",
       "})"
      ]
     },
     "execution_count": 36,
     "metadata": {},
     "output_type": "execute_result"
    }
   ],
   "source": [
    "# questions_dataset = Dataset.from_dict({\"questions\": ds[\"train\"][\"question\"]})   \n",
    "\n",
    "# question_embeddings_list = [embedding.tolist() for embedding in question_embeddings]\n",
    "\n",
    "# questions_dataset = questions_dataset.add_column(\"embeddings\", question_embeddings_list)\n",
    "\n",
    "# questions_dataset.add_faiss_index(column=\"embeddings\")"
   ]
  },
  {
   "cell_type": "code",
   "execution_count": 37,
   "metadata": {},
   "outputs": [],
   "source": [
    "import pickle\n",
    "\n",
    "# Save the datasets to a pickle file\n",
    "with open('datasets.pkl', 'wb') as f:\n",
    "    pickle.dump({'answers_dataset': answers_dataset, 'questions_dataset': questions_dataset}, f)"
   ]
  },
  {
   "cell_type": "code",
   "execution_count": 38,
   "metadata": {},
   "outputs": [],
   "source": [
    "import pickle\n",
    "\n",
    "# Load the datasets from the pickle file\n",
    "with open('datasets.pkl', 'rb') as f:\n",
    "    datasets = pickle.load(f)\n",
    "\n",
    "answers_dataset = datasets['answers_dataset']\n",
    "questions_dataset = datasets['questions_dataset']"
   ]
  },
  {
   "cell_type": "code",
   "execution_count": 115,
   "metadata": {},
   "outputs": [],
   "source": [
    "def search_query_top_k_faiss(query, dataset, corpus, top_k=5):\n",
    "\n",
    "    query_embedding = model.encode(query, convert_to_tensor=False)\n",
    "    scores, samples = dataset.get_nearest_examples(\n",
    "        \"embeddings\", query_embedding, k=top_k\n",
    "    )\n",
    "    samples_df = pd.DataFrame.from_dict(samples)\n",
    "    samples_df[\"scores\"] = scores\n",
    "    samples_df.sort_values(\"scores\", ascending=False, inplace=True)\n",
    "\n",
    "    print(\"\\nQuery:\", query)\n",
    "    print(f\"Top {top_k} most similar sentences in corpus: \\n\")\n",
    "\n",
    "    for i, (idx, row) in enumerate(samples_df.iterrows(), 1):\n",
    "        print(\n",
    "            f\"{i}. (Score: {row['scores']:.4f}) index: {corpus.index(row[\"answers\"])} \\n\",\n",
    "            row[\"answers\"],\n",
    "        )\n",
    "        print()"
   ]
  },
  {
   "cell_type": "code",
   "execution_count": 116,
   "metadata": {},
   "outputs": [
    {
     "name": "stdout",
     "output_type": "stream",
     "text": [
      "\n",
      "Query: To whom did the Virgin Mary allegedly appear in 1858 in Lourdes France?\n",
      "Top 5 most similar sentences in corpus: \n",
      "\n",
      "1. (Score: 41.2264) index: 17583 \n",
      " It seems to have been St Bernard of Clairvaux who, in the 12th century, explicitly raised the question of the Immaculate Conception. A feast of the Conception of the Blessed Virgin had already begun to be celebrated in some churches of the West. St Bernard blames the canons of the metropolitan church of Lyon for instituting such a festival without the permission of the Holy See. In doing so, he takes occasion to repudiate altogether the view that the conception of Mary was sinless. It is doubtful, however, whether he was using the term \"conception\" in the same sense in which it is used in the definition of Pope Pius IX. Bernard would seem to have been speaking of conception in the active sense of the mother's cooperation, for in his argument he says: \"How can there be absence of sin where there is concupiscence (libido)?\" and stronger expressions follow, showing that he is speaking of the mother and not of the child.\n",
      "\n",
      "2. (Score: 40.6663) index: 6919 \n",
      " In paintings, Mary is traditionally portrayed in blue. This tradition can trace its origin to the Byzantine Empire, from c.500 AD, where blue was \"the colour of an empress\". A more practical explanation for the use of this colour is that in Medieval and Renaissance Europe, the blue pigment was derived from the rock lapis lazuli, a stone imported from Afghanistan of greater value than gold. Beyond a painter's retainer, patrons were expected to purchase any gold or lapis lazuli to be used in the painting. Hence, it was an expression of devotion and glorification to swathe the Virgin in gowns of blue.\n",
      "\n",
      "3. (Score: 40.3122) index: 17578 \n",
      " It is admitted that the doctrine as defined by Pius IX was not explicitly mooted before the 12th century. It is also agreed that \"no direct or categorical and stringent proof of the dogma can be brought forward from Scripture\". But it is claimed that the doctrine is implicitly contained in the teaching of the Fathers. Their expressions on the subject of the sinlessness of Mary are, it is pointed out, so ample and so absolute that they must be taken to include original sin as well as actual. Thus in the first five centuries such epithets as \"in every respect holy\", \"in all things unstained\", \"super-innocent\", and \"singularly holy\" are applied to her; she is compared to Eve before the fall, as ancestress of a redeemed people; she is \"the earth before it was accursed\". The well-known words of St. Augustine (d. 430) may be cited: \"As regards the mother of God,\" he says, \"I will not allow any question whatever of sin.\" It is true that he is here speaking directly of actual or personal sin. But his argument is that all men are sinners; that they are so through original depravity; that this original depravity may be overcome by the grace of God, and he adds that he does not know but that Mary may have had sufficient grace to overcome sin \"of every sort\" (omni ex parte).\n",
      "\n",
      "4. (Score: 39.5174) index: 6907 \n",
      " The Gospel of Luke begins its account of Mary's life with the Annunciation, when the angel Gabriel appeared to her and announced her divine selection to be the mother of Jesus. According to gospel accounts, Mary was present at the Crucifixion of Jesus and is depicted as a member of the early Christian community in Jerusalem. According to Apocryphal writings, at some time soon after her death, her incorrupt body was assumed directly into Heaven, to be reunited with her soul, and the apostles thereupon found the tomb empty; this is known in Christian teaching as the Assumption.\n",
      "\n",
      "5. (Score: 37.2717) index: 0 \n",
      " Architecturally, the school has a Catholic character. Atop the Main Building's gold dome is a golden statue of the Virgin Mary. Immediately in front of the Main Building and facing it, is a copper statue of Christ with arms upraised with the legend \"Venite Ad Me Omnes\". Next to the Main Building is the Basilica of the Sacred Heart. Immediately behind the basilica is the Grotto, a Marian place of prayer and reflection. It is a replica of the grotto at Lourdes, France where the Virgin Mary reputedly appeared to Saint Bernadette Soubirous in 1858. At the end of the main drive (and in a direct line that connects through 3 statues and the Gold Dome), is a simple, modern stone statue of Mary.\n",
      "\n"
     ]
    }
   ],
   "source": [
    "search_query_top_k_faiss(first_question, answers_dataset, answers, top_k=5)"
   ]
  },
  {
   "cell_type": "code",
   "execution_count": 118,
   "metadata": {},
   "outputs": [
    {
     "name": "stdout",
     "output_type": "stream",
     "text": [
      "\n",
      "Query: In what US state did Kathmandu first establish an international relationship?\n",
      "Top 5 most similar sentences in corpus: \n",
      "\n",
      "1. (Score: 41.4668) index: 2467 \n",
      " In April 1954 Adenauer made his first visit to the USA meeting Nixon, Eisenhower and Dulles. Ratification of EDC was delaying but the US representatives made it clear to Adenauer that EDC would have to become a part of NATO.\n",
      "\n",
      "2. (Score: 39.3312) index: 18833 \n",
      " Kathmandu(/ˌkɑːtmɑːnˈduː/; Nepali pronunciation: [kɑʈʰmɑɳɖu]) is the capital and largest municipality of Nepal. It also hosts the headquarters of the South Asian Association for Regional Cooperation (SAARC). It is the only city of Nepal with the administrative status of Mahanagar (Metropolitan City), as compared to Upa-Mahanagar (Sub-Metropolitan City) or Nagar (City). Kathmandu is the core of Nepal's largest urban agglomeration located in the Kathmandu Valley consisting of Lalitpur, Kirtipur, Madhyapur Thimi, Bhaktapur and a number of smaller communities. Kathmandu is also known informally as \"KTM\" or the \"tri-city\". According to the 2011 census, Kathmandu Metropolitan City has a population of 975,453 and measures 49.45 km2 (19.09 sq mi).\n",
      "\n",
      "3. (Score: 38.7881) index: 18851 \n",
      " Tourism is considered another important industry in Nepal. This industry started around 1950, as the country's political makeup changed and ended the country's isolation from the rest of the world. In 1956, air transportation was established and the Tribhuvan Highway, between Kathmandu and Raxaul (at India's border), was started. Separate organizations were created in Kathmandu to promote this activity; some of these include the Tourism Development Board, the Department of Tourism and the Civil Aviation Department. Furthermore, Nepal became a member of several international tourist associations. Establishing diplomatic relations with other nations further accentuated this activity. The hotel industry, travel agencies, training of tourist guides, and targeted publicity campaigns are the chief reasons for the remarkable growth of this industry in Nepal, and in Kathmandu in particular.\n",
      "\n",
      "4. (Score: 37.9722) index: 18843 \n",
      " The Gorkha Kingdom ended the Malla confederation after the Battle of Kathmandu in 1768. This marked the beginning of the modern era in Kathmandu. The Battle of Kirtipur was the start of the Gorkha conquest of the Kathmandu Valley. Kathmandu was adopted as the capital of the Gorkha empire, and the empire itself was dubbed Nepal. During the early part of this era, Kathmandu maintained its distinctive culture. Buildings with characteristic Nepali architecture, such as the nine-story tower of Basantapur, were built during this era. However, trade declined because of continual war with neighboring nations. Bhimsen Thapa supported France against Great Britain; this led to the development of modern military structures, such as modern barracks in Kathmandu. The nine-storey tower Dharahara was originally built during this era.\n",
      "\n",
      "5. (Score: 33.0654) index: 18890 \n",
      " Kathmandu Metropolitan City (KMC), in order to promote international relations has established an International Relations Secretariat (IRC). KMC's first international relationship was established in 1975 with the city of Eugene, Oregon, United States. This activity has been further enhanced by establishing formal relationships with 8 other cities: Motsumoto City of Japan, Rochester of the USA, Yangon (formerly Rangoon) of Myanmar, Xi'an of the People's Republic of China, Minsk of Belarus, and Pyongyang of the Democratic Republic of Korea. KMC's constant endeavor is to enhance its interaction with SAARC countries, other International agencies and many other major cities of the world to achieve better urban management and developmental programs for Kathmandu.\n",
      "\n"
     ]
    }
   ],
   "source": [
    "search_query_top_k_faiss(random, answers_dataset, answers, top_k=5)"
   ]
  },
  {
   "cell_type": "markdown",
   "metadata": {},
   "source": [
    "## D zaimplementować wybraną metrykę oceny skuteczności wyszukiwania"
   ]
  },
  {
   "cell_type": "code",
   "execution_count": 121,
   "metadata": {},
   "outputs": [
    {
     "name": "stdout",
     "output_type": "stream",
     "text": [
      "Average Recall (Semantic Search): 0.96\n",
      "Average Recall (FAISS Search): 0.05\n"
     ]
    }
   ],
   "source": [
    "def calculate_recall(query, questions, answer_embeddings, top_k=5):\n",
    "    # Generate Embeddings for the query\n",
    "    query_embedding = model.encode(query, convert_to_tensor=True)\n",
    "\n",
    "    # Perform Search using semantic search\n",
    "    cosine_scores = model.similarity(query_embedding, answer_embeddings)[0]\n",
    "    _, indices = torch.topk(cosine_scores, k=top_k)\n",
    "\n",
    "    # Calculate Recall\n",
    "    relevant_index = questions.index(query)\n",
    "    retrieved_indices = indices.tolist()\n",
    "    recall = 1 if relevant_index in retrieved_indices else 0\n",
    "\n",
    "    return recall\n",
    "\n",
    "def calculate_recall_faiss(query, questions, answers_dataset, top_k=5):\n",
    "    # Generate Embeddings for the query\n",
    "    query_embedding = model.encode(query, convert_to_tensor=False)\n",
    "\n",
    "    # Perform Search using FAISS index\n",
    "    scores, samples = answers_dataset.get_nearest_examples(\"embeddings\", query_embedding, k=top_k)\n",
    "    samples_df = pd.DataFrame.from_dict(samples)\n",
    "    samples_df[\"scores\"] = scores\n",
    "    samples_df.sort_values(\"scores\", ascending=False, inplace=True)\n",
    "\n",
    "    retrieved_indices = samples_df.index.tolist()\n",
    "\n",
    "    # Calculate Recall\n",
    "    relevant_index = questions.index(query)\n",
    "    recall = 1 if relevant_index in retrieved_indices else 0\n",
    "\n",
    "    return recall\n",
    "\n",
    "# Example usage\n",
    "subset_questions = questions[:100]  # Subset of questions\n",
    "recall_semantic_search = []\n",
    "recall_faiss_search = []\n",
    "\n",
    "for query in subset_questions:\n",
    "    recall_semantic_search.append(calculate_recall(query, questions, answer_embeddings, top_k=5))\n",
    "    recall_faiss_search.append(calculate_recall_faiss(query, questions, answers_dataset, top_k=5))\n",
    "\n",
    "average_recall_semantic_search = sum(recall_semantic_search) / len(recall_semantic_search)\n",
    "average_recall_faiss_search = sum(recall_faiss_search) / len(recall_faiss_search)\n",
    "\n",
    "print(\"Average Recall (Semantic Search):\", average_recall_semantic_search)\n",
    "print(\"Average Recall (FAISS Search):\", average_recall_faiss_search)"
   ]
  },
  {
   "cell_type": "code",
   "execution_count": 124,
   "metadata": {},
   "outputs": [
    {
     "name": "stdout",
     "output_type": "stream",
     "text": [
      "Mean Reciprocal Rank (MRR): 0.7955\n",
      "Mean Reciprocal Rank (MRR) using FAISS: 0.02283333333333333\n"
     ]
    }
   ],
   "source": [
    "def calculate_mrr(queries, questions, answer_embeddings, top_k=5):\n",
    "    mrr_total = 0.0\n",
    "\n",
    "    for query in queries:\n",
    "        query_embedding = model.encode(query, convert_to_tensor=True)\n",
    "\n",
    "        cosine_scores = model.similarity(query_embedding, answer_embeddings)[0]\n",
    "        _, indices = torch.topk(cosine_scores, k=top_k)\n",
    "\n",
    "        relevant_index = questions.index(query)\n",
    "        retrieved_indices = indices.tolist()\n",
    "        if relevant_index in retrieved_indices:\n",
    "            rank = retrieved_indices.index(relevant_index) + 1\n",
    "            reciprocal_rank = 1 / rank\n",
    "        else:\n",
    "            reciprocal_rank = 0\n",
    "\n",
    "        mrr_total += reciprocal_rank\n",
    "\n",
    "    mrr = mrr_total / len(queries)\n",
    "    return mrr\n",
    "\n",
    "def calculate_mrr_faiss(queries, questions, answers_dataset, top_k=5):\n",
    "    mrr_total = 0.0\n",
    "\n",
    "    for query in queries:\n",
    "        query_embedding = model.encode(query, convert_to_tensor=False)\n",
    "\n",
    "        scores, samples = answers_dataset.get_nearest_examples(\"embeddings\", query_embedding, k=top_k)\n",
    "        samples_df = pd.DataFrame.from_dict(samples)\n",
    "        samples_df[\"scores\"] = scores\n",
    "        samples_df.sort_values(\"scores\", ascending=False, inplace=True)\n",
    "\n",
    "        retrieved_indices = samples_df.index.tolist()\n",
    "\n",
    "        relevant_index = questions.index(query)\n",
    "        if relevant_index in retrieved_indices:\n",
    "            rank = retrieved_indices.index(relevant_index) + 1\n",
    "            reciprocal_rank = 1 / rank\n",
    "        else:\n",
    "            reciprocal_rank = 0\n",
    "\n",
    "        mrr_total += reciprocal_rank\n",
    "\n",
    "    mrr = mrr_total / len(queries)\n",
    "    return mrr\n",
    "\n",
    "subset_questions = questions[:100]\n",
    "\n",
    "mrr = calculate_mrr(subset_questions, questions, answer_embeddings, top_k=5)\n",
    "print(\"Mean Reciprocal Rank (MRR):\", mrr)\n",
    "\n",
    "mrr_faiss = calculate_mrr_faiss(subset_questions, questions, answers_dataset, top_k=5)\n",
    "print(\"Mean Reciprocal Rank (MRR) using FAISS:\", mrr_faiss)"
   ]
  },
  {
   "cell_type": "markdown",
   "metadata": {},
   "source": [
    "# 4"
   ]
  },
  {
   "cell_type": "code",
   "execution_count": 130,
   "metadata": {},
   "outputs": [],
   "source": [
    "from sentence_transformers import CrossEncoder\n",
    "\n",
    "re_ranker_model = CrossEncoder(\"cross-encoder/ms-marco-TinyBERT-L-2-v2\", max_length=512)\n"
   ]
  },
  {
   "cell_type": "code",
   "execution_count": 138,
   "metadata": {},
   "outputs": [],
   "source": [
    "import re\n",
    "\n",
    "\n",
    "def rerank_similarity(query, corpus_embedding, corpus, top_k=5):\n",
    "    query_embedding = model.encode(query, convert_to_tensor=True)\n",
    "    cosine_scores = model.similarity(query_embedding, corpus_embedding)[0]\n",
    "    scores, indices = torch.topk(cosine_scores, k=top_k)\n",
    "    print(\"\\nQuery:\", query)\n",
    "    print(\"Top 5 most similar sentences in corpus: \\n\")\n",
    "\n",
    "\n",
    "    for i, (score, idx) in enumerate(zip(scores, indices), 1):\n",
    "        print(f\"{i}. (Score: {score:.4f}) index: {idx} \\n\", corpus[idx])\n",
    "        print()\n",
    "\n",
    "    retrieved_answers = [corpus[idx] for idx in indices]\n",
    "\n",
    "    # Prepare pairs for re-ranking\n",
    "    pairs = [(query, answer) for answer in retrieved_answers]\n",
    "\n",
    "    # Re-rank the retrieved answers\n",
    "    reranked_scores = re_ranker_model.predict(pairs)\n",
    "    reranked_indices = np.argsort(reranked_scores)[::-1]\n",
    "    reranked_answers = [retrieved_answers[i] for i in reranked_indices]\n",
    "\n",
    "    print(\"\\nRe-ranked Answers:\")\n",
    "    for i, (score, answer) in enumerate(zip(reranked_scores, reranked_answers), 1):\n",
    "        print(\n",
    "            f\"{i}. (Score: {score:.4f}) index: {corpus.index(answer)} \\n\",\n",
    "            answer,\n",
    "        )\n",
    "        print()\n",
    "\n",
    "\n",
    "\n",
    "def rerank_faiss(query, answers_dataset, corpus, top_k=5):\n",
    "    # Retrieve top k answers using FAISS\n",
    "    scores, samples = answers_dataset.get_nearest_examples(\"embeddings\", model.encode(query, convert_to_tensor=False), k=top_k)\n",
    "\n",
    "    samples_df = pd.DataFrame.from_dict(samples)\n",
    "    samples_df[\"scores\"] = scores\n",
    "    samples_df.sort_values(\"scores\", ascending=False, inplace=True)\n",
    "\n",
    "    print(\"\\nQuery:\", query)\n",
    "    print(f\"Top {top_k} most similar sentences in corpus: \\n\")\n",
    "\n",
    "    for i, (idx, row) in enumerate(samples_df.iterrows(), 1):\n",
    "        print(\n",
    "            f\"{i}. (Score: {row['scores']:.4f}) index: {corpus.index(row[\"answers\"])} \\n\",\n",
    "            row[\"answers\"],\n",
    "        )\n",
    "        print()\n",
    "\n",
    "    retrieved_answers = samples[\"answers\"]\n",
    "\n",
    "    # Prepare pairs for re-ranking\n",
    "    pairs = [(query, answer) for answer in retrieved_answers]\n",
    "\n",
    "    # Re-rank the retrieved answers\n",
    "    reranked_scores = re_ranker_model.predict(pairs)\n",
    "    reranked_indices = np.argsort(reranked_scores)[::-1]\n",
    "    reranked_answers = [retrieved_answers[i] for i in reranked_indices]\n",
    "\n",
    "    print(\"\\nRe-ranked Answers:\")\n",
    "    for i, (score, answer) in enumerate(zip(reranked_scores, reranked_answers), 1):\n",
    "        print(\n",
    "            f\"{i}. (Score: {score:.4f}) index: {corpus.index(answer)} \\n\",\n",
    "            answer,\n",
    "        )\n",
    "        print()\n",
    "\n"
   ]
  },
  {
   "cell_type": "code",
   "execution_count": 139,
   "metadata": {},
   "outputs": [
    {
     "name": "stdout",
     "output_type": "stream",
     "text": [
      "\n",
      "Query: To whom did the Virgin Mary allegedly appear in 1858 in Lourdes France?\n",
      "Top 5 most similar sentences in corpus: \n",
      "\n",
      "1. (Score: 21.6458) index: 0 \n",
      " Architecturally, the school has a Catholic character. Atop the Main Building's gold dome is a golden statue of the Virgin Mary. Immediately in front of the Main Building and facing it, is a copper statue of Christ with arms upraised with the legend \"Venite Ad Me Omnes\". Next to the Main Building is the Basilica of the Sacred Heart. Immediately behind the basilica is the Grotto, a Marian place of prayer and reflection. It is a replica of the grotto at Lourdes, France where the Virgin Mary reputedly appeared to Saint Bernadette Soubirous in 1858. At the end of the main drive (and in a direct line that connects through 3 statues and the Gold Dome), is a simple, modern stone statue of Mary.\n",
      "\n",
      "2. (Score: 19.7955) index: 6907 \n",
      " The Gospel of Luke begins its account of Mary's life with the Annunciation, when the angel Gabriel appeared to her and announced her divine selection to be the mother of Jesus. According to gospel accounts, Mary was present at the Crucifixion of Jesus and is depicted as a member of the early Christian community in Jerusalem. According to Apocryphal writings, at some time soon after her death, her incorrupt body was assumed directly into Heaven, to be reunited with her soul, and the apostles thereupon found the tomb empty; this is known in Christian teaching as the Assumption.\n",
      "\n",
      "3. (Score: 19.0873) index: 6919 \n",
      " In paintings, Mary is traditionally portrayed in blue. This tradition can trace its origin to the Byzantine Empire, from c.500 AD, where blue was \"the colour of an empress\". A more practical explanation for the use of this colour is that in Medieval and Renaissance Europe, the blue pigment was derived from the rock lapis lazuli, a stone imported from Afghanistan of greater value than gold. Beyond a painter's retainer, patrons were expected to purchase any gold or lapis lazuli to be used in the painting. Hence, it was an expression of devotion and glorification to swathe the Virgin in gowns of blue.\n",
      "\n",
      "4. (Score: 18.8320) index: 17583 \n",
      " It seems to have been St Bernard of Clairvaux who, in the 12th century, explicitly raised the question of the Immaculate Conception. A feast of the Conception of the Blessed Virgin had already begun to be celebrated in some churches of the West. St Bernard blames the canons of the metropolitan church of Lyon for instituting such a festival without the permission of the Holy See. In doing so, he takes occasion to repudiate altogether the view that the conception of Mary was sinless. It is doubtful, however, whether he was using the term \"conception\" in the same sense in which it is used in the definition of Pope Pius IX. Bernard would seem to have been speaking of conception in the active sense of the mother's cooperation, for in his argument he says: \"How can there be absence of sin where there is concupiscence (libido)?\" and stronger expressions follow, showing that he is speaking of the mother and not of the child.\n",
      "\n",
      "5. (Score: 18.6935) index: 3694 \n",
      " Henry VII added a Perpendicular style chapel dedicated to the Blessed Virgin Mary in 1503 (known as the Henry VII Chapel or the \"Lady Chapel\"). Much of the stone came from Caen, in France (Caen stone), the Isle of Portland (Portland stone) and the Loire Valley region of France (tuffeau limestone).[citation needed]\n",
      "\n",
      "\n",
      "Re-ranked Answers:\n",
      "1. (Score: -1.5392) index: 0 \n",
      " Architecturally, the school has a Catholic character. Atop the Main Building's gold dome is a golden statue of the Virgin Mary. Immediately in front of the Main Building and facing it, is a copper statue of Christ with arms upraised with the legend \"Venite Ad Me Omnes\". Next to the Main Building is the Basilica of the Sacred Heart. Immediately behind the basilica is the Grotto, a Marian place of prayer and reflection. It is a replica of the grotto at Lourdes, France where the Virgin Mary reputedly appeared to Saint Bernadette Soubirous in 1858. At the end of the main drive (and in a direct line that connects through 3 statues and the Gold Dome), is a simple, modern stone statue of Mary.\n",
      "\n",
      "2. (Score: -9.0245) index: 3694 \n",
      " Henry VII added a Perpendicular style chapel dedicated to the Blessed Virgin Mary in 1503 (known as the Henry VII Chapel or the \"Lady Chapel\"). Much of the stone came from Caen, in France (Caen stone), the Isle of Portland (Portland stone) and the Loire Valley region of France (tuffeau limestone).[citation needed]\n",
      "\n",
      "3. (Score: -9.9042) index: 17583 \n",
      " It seems to have been St Bernard of Clairvaux who, in the 12th century, explicitly raised the question of the Immaculate Conception. A feast of the Conception of the Blessed Virgin had already begun to be celebrated in some churches of the West. St Bernard blames the canons of the metropolitan church of Lyon for instituting such a festival without the permission of the Holy See. In doing so, he takes occasion to repudiate altogether the view that the conception of Mary was sinless. It is doubtful, however, whether he was using the term \"conception\" in the same sense in which it is used in the definition of Pope Pius IX. Bernard would seem to have been speaking of conception in the active sense of the mother's cooperation, for in his argument he says: \"How can there be absence of sin where there is concupiscence (libido)?\" and stronger expressions follow, showing that he is speaking of the mother and not of the child.\n",
      "\n",
      "4. (Score: -8.4237) index: 6907 \n",
      " The Gospel of Luke begins its account of Mary's life with the Annunciation, when the angel Gabriel appeared to her and announced her divine selection to be the mother of Jesus. According to gospel accounts, Mary was present at the Crucifixion of Jesus and is depicted as a member of the early Christian community in Jerusalem. According to Apocryphal writings, at some time soon after her death, her incorrupt body was assumed directly into Heaven, to be reunited with her soul, and the apostles thereupon found the tomb empty; this is known in Christian teaching as the Assumption.\n",
      "\n",
      "5. (Score: -5.7206) index: 6919 \n",
      " In paintings, Mary is traditionally portrayed in blue. This tradition can trace its origin to the Byzantine Empire, from c.500 AD, where blue was \"the colour of an empress\". A more practical explanation for the use of this colour is that in Medieval and Renaissance Europe, the blue pigment was derived from the rock lapis lazuli, a stone imported from Afghanistan of greater value than gold. Beyond a painter's retainer, patrons were expected to purchase any gold or lapis lazuli to be used in the painting. Hence, it was an expression of devotion and glorification to swathe the Virgin in gowns of blue.\n",
      "\n"
     ]
    }
   ],
   "source": [
    "rerank_similarity(first_question, answer_embeddings, answers, top_k=5)\n"
   ]
  },
  {
   "cell_type": "code",
   "execution_count": 140,
   "metadata": {},
   "outputs": [
    {
     "name": "stdout",
     "output_type": "stream",
     "text": [
      "\n",
      "Query: To whom did the Virgin Mary allegedly appear in 1858 in Lourdes France?\n",
      "Top 5 most similar sentences in corpus: \n",
      "\n",
      "1. (Score: 41.2264) index: 17583 \n",
      " It seems to have been St Bernard of Clairvaux who, in the 12th century, explicitly raised the question of the Immaculate Conception. A feast of the Conception of the Blessed Virgin had already begun to be celebrated in some churches of the West. St Bernard blames the canons of the metropolitan church of Lyon for instituting such a festival without the permission of the Holy See. In doing so, he takes occasion to repudiate altogether the view that the conception of Mary was sinless. It is doubtful, however, whether he was using the term \"conception\" in the same sense in which it is used in the definition of Pope Pius IX. Bernard would seem to have been speaking of conception in the active sense of the mother's cooperation, for in his argument he says: \"How can there be absence of sin where there is concupiscence (libido)?\" and stronger expressions follow, showing that he is speaking of the mother and not of the child.\n",
      "\n",
      "2. (Score: 40.6663) index: 6919 \n",
      " In paintings, Mary is traditionally portrayed in blue. This tradition can trace its origin to the Byzantine Empire, from c.500 AD, where blue was \"the colour of an empress\". A more practical explanation for the use of this colour is that in Medieval and Renaissance Europe, the blue pigment was derived from the rock lapis lazuli, a stone imported from Afghanistan of greater value than gold. Beyond a painter's retainer, patrons were expected to purchase any gold or lapis lazuli to be used in the painting. Hence, it was an expression of devotion and glorification to swathe the Virgin in gowns of blue.\n",
      "\n",
      "3. (Score: 40.3122) index: 17578 \n",
      " It is admitted that the doctrine as defined by Pius IX was not explicitly mooted before the 12th century. It is also agreed that \"no direct or categorical and stringent proof of the dogma can be brought forward from Scripture\". But it is claimed that the doctrine is implicitly contained in the teaching of the Fathers. Their expressions on the subject of the sinlessness of Mary are, it is pointed out, so ample and so absolute that they must be taken to include original sin as well as actual. Thus in the first five centuries such epithets as \"in every respect holy\", \"in all things unstained\", \"super-innocent\", and \"singularly holy\" are applied to her; she is compared to Eve before the fall, as ancestress of a redeemed people; she is \"the earth before it was accursed\". The well-known words of St. Augustine (d. 430) may be cited: \"As regards the mother of God,\" he says, \"I will not allow any question whatever of sin.\" It is true that he is here speaking directly of actual or personal sin. But his argument is that all men are sinners; that they are so through original depravity; that this original depravity may be overcome by the grace of God, and he adds that he does not know but that Mary may have had sufficient grace to overcome sin \"of every sort\" (omni ex parte).\n",
      "\n",
      "4. (Score: 39.5174) index: 6907 \n",
      " The Gospel of Luke begins its account of Mary's life with the Annunciation, when the angel Gabriel appeared to her and announced her divine selection to be the mother of Jesus. According to gospel accounts, Mary was present at the Crucifixion of Jesus and is depicted as a member of the early Christian community in Jerusalem. According to Apocryphal writings, at some time soon after her death, her incorrupt body was assumed directly into Heaven, to be reunited with her soul, and the apostles thereupon found the tomb empty; this is known in Christian teaching as the Assumption.\n",
      "\n",
      "5. (Score: 37.2717) index: 0 \n",
      " Architecturally, the school has a Catholic character. Atop the Main Building's gold dome is a golden statue of the Virgin Mary. Immediately in front of the Main Building and facing it, is a copper statue of Christ with arms upraised with the legend \"Venite Ad Me Omnes\". Next to the Main Building is the Basilica of the Sacred Heart. Immediately behind the basilica is the Grotto, a Marian place of prayer and reflection. It is a replica of the grotto at Lourdes, France where the Virgin Mary reputedly appeared to Saint Bernadette Soubirous in 1858. At the end of the main drive (and in a direct line that connects through 3 statues and the Gold Dome), is a simple, modern stone statue of Mary.\n",
      "\n",
      "\n",
      "Re-ranked Answers:\n",
      "1. (Score: -1.5392) index: 0 \n",
      " Architecturally, the school has a Catholic character. Atop the Main Building's gold dome is a golden statue of the Virgin Mary. Immediately in front of the Main Building and facing it, is a copper statue of Christ with arms upraised with the legend \"Venite Ad Me Omnes\". Next to the Main Building is the Basilica of the Sacred Heart. Immediately behind the basilica is the Grotto, a Marian place of prayer and reflection. It is a replica of the grotto at Lourdes, France where the Virgin Mary reputedly appeared to Saint Bernadette Soubirous in 1858. At the end of the main drive (and in a direct line that connects through 3 statues and the Gold Dome), is a simple, modern stone statue of Mary.\n",
      "\n",
      "2. (Score: -9.0245) index: 17583 \n",
      " It seems to have been St Bernard of Clairvaux who, in the 12th century, explicitly raised the question of the Immaculate Conception. A feast of the Conception of the Blessed Virgin had already begun to be celebrated in some churches of the West. St Bernard blames the canons of the metropolitan church of Lyon for instituting such a festival without the permission of the Holy See. In doing so, he takes occasion to repudiate altogether the view that the conception of Mary was sinless. It is doubtful, however, whether he was using the term \"conception\" in the same sense in which it is used in the definition of Pope Pius IX. Bernard would seem to have been speaking of conception in the active sense of the mother's cooperation, for in his argument he says: \"How can there be absence of sin where there is concupiscence (libido)?\" and stronger expressions follow, showing that he is speaking of the mother and not of the child.\n",
      "\n",
      "3. (Score: -10.5438) index: 6907 \n",
      " The Gospel of Luke begins its account of Mary's life with the Annunciation, when the angel Gabriel appeared to her and announced her divine selection to be the mother of Jesus. According to gospel accounts, Mary was present at the Crucifixion of Jesus and is depicted as a member of the early Christian community in Jerusalem. According to Apocryphal writings, at some time soon after her death, her incorrupt body was assumed directly into Heaven, to be reunited with her soul, and the apostles thereupon found the tomb empty; this is known in Christian teaching as the Assumption.\n",
      "\n",
      "4. (Score: -9.9042) index: 6919 \n",
      " In paintings, Mary is traditionally portrayed in blue. This tradition can trace its origin to the Byzantine Empire, from c.500 AD, where blue was \"the colour of an empress\". A more practical explanation for the use of this colour is that in Medieval and Renaissance Europe, the blue pigment was derived from the rock lapis lazuli, a stone imported from Afghanistan of greater value than gold. Beyond a painter's retainer, patrons were expected to purchase any gold or lapis lazuli to be used in the painting. Hence, it was an expression of devotion and glorification to swathe the Virgin in gowns of blue.\n",
      "\n",
      "5. (Score: -8.4237) index: 17578 \n",
      " It is admitted that the doctrine as defined by Pius IX was not explicitly mooted before the 12th century. It is also agreed that \"no direct or categorical and stringent proof of the dogma can be brought forward from Scripture\". But it is claimed that the doctrine is implicitly contained in the teaching of the Fathers. Their expressions on the subject of the sinlessness of Mary are, it is pointed out, so ample and so absolute that they must be taken to include original sin as well as actual. Thus in the first five centuries such epithets as \"in every respect holy\", \"in all things unstained\", \"super-innocent\", and \"singularly holy\" are applied to her; she is compared to Eve before the fall, as ancestress of a redeemed people; she is \"the earth before it was accursed\". The well-known words of St. Augustine (d. 430) may be cited: \"As regards the mother of God,\" he says, \"I will not allow any question whatever of sin.\" It is true that he is here speaking directly of actual or personal sin. But his argument is that all men are sinners; that they are so through original depravity; that this original depravity may be overcome by the grace of God, and he adds that he does not know but that Mary may have had sufficient grace to overcome sin \"of every sort\" (omni ex parte).\n",
      "\n"
     ]
    }
   ],
   "source": [
    "\n",
    "rerank_faiss(first_question, answers_dataset, answers, top_k=5)"
   ]
  },
  {
   "cell_type": "code",
   "execution_count": 143,
   "metadata": {},
   "outputs": [
    {
     "name": "stdout",
     "output_type": "stream",
     "text": [
      "Average Recall with Reranking (Semantic Search): 0.96\n",
      "Average Recall with Reranking (FAISS Search): 0.05\n"
     ]
    }
   ],
   "source": [
    "def calculate_recall_rerank(query, questions, answer_embeddings, top_k=5):\n",
    "    # Generate Embeddings for the query\n",
    "    query_embedding = model.encode(query, convert_to_tensor=True)\n",
    "\n",
    "    # Perform Search using semantic search\n",
    "    cosine_scores = model.similarity(query_embedding, answer_embeddings)[0]\n",
    "    scores, indices = torch.topk(cosine_scores, k=top_k)\n",
    "\n",
    "    retrieved_answers = [answers[idx] for idx in indices]\n",
    "\n",
    "    # Prepare pairs for re-ranking\n",
    "    pairs = [(query, answer) for answer in retrieved_answers]\n",
    "\n",
    "    # Re-rank the retrieved answers\n",
    "    reranked_scores = re_ranker_model.predict(pairs)\n",
    "    reranked_indices = np.argsort(reranked_scores)[::-1].copy()\n",
    "    reranked_answers = [retrieved_answers[i] for i in reranked_indices]\n",
    "\n",
    "    # Calculate Recall\n",
    "    relevant_index = questions.index(query)\n",
    "    recall = 1 if relevant_index in indices[reranked_indices] else 0\n",
    "\n",
    "    return recall\n",
    "\n",
    "def calculate_recall_faiss_rerank(query, questions, answers_dataset, top_k=5):\n",
    "    # Generate Embeddings for the query\n",
    "    query_embedding = model.encode(query, convert_to_tensor=False)\n",
    "\n",
    "    # Perform Search using FAISS index\n",
    "    scores, samples = answers_dataset.get_nearest_examples(\"embeddings\", query_embedding, k=top_k)\n",
    "    samples_df = pd.DataFrame.from_dict(samples)\n",
    "    samples_df[\"scores\"] = scores\n",
    "    samples_df.sort_values(\"scores\", ascending=False, inplace=True)\n",
    "\n",
    "    retrieved_answers = samples[\"answers\"]\n",
    "\n",
    "    # Prepare pairs for re-ranking\n",
    "    pairs = [(query, answer) for answer in retrieved_answers]\n",
    "\n",
    "    # Re-rank the retrieved answers\n",
    "    reranked_scores = re_ranker_model.predict(pairs)\n",
    "    reranked_indices = np.argsort(reranked_scores)[::-1]\n",
    "    reranked_answers = [retrieved_answers[i] for i in reranked_indices]\n",
    "\n",
    "    # Calculate Recall\n",
    "    relevant_index = questions.index(query)\n",
    "    recall = 1 if relevant_index in samples_df.index[reranked_indices] else 0\n",
    "\n",
    "    return recall\n",
    "\n",
    "subset_questions = questions[:100]\n",
    "recall_rerank_semantic_search = []\n",
    "recall_rerank_faiss_search = []\n",
    "\n",
    "for query in subset_questions:\n",
    "    recall_rerank_semantic_search.append(calculate_recall_rerank(query, questions, answer_embeddings, top_k=5))\n",
    "    recall_rerank_faiss_search.append(calculate_recall_faiss_rerank(query, questions, answers_dataset, top_k=5))\n",
    "\n",
    "average_recall_rerank_semantic_search = sum(recall_rerank_semantic_search) / len(recall_rerank_semantic_search)\n",
    "average_recall_rerank_faiss_search = sum(recall_rerank_faiss_search) / len(recall_rerank_faiss_search)\n",
    "\n",
    "print(\"Average Recall with Reranking (Semantic Search):\", average_recall_rerank_semantic_search)\n",
    "print(\"Average Recall with Reranking (FAISS Search):\", average_recall_rerank_faiss_search)"
   ]
  },
  {
   "cell_type": "code",
   "execution_count": 147,
   "metadata": {},
   "outputs": [
    {
     "ename": "ValueError",
     "evalue": "At least one stride in the given numpy array is negative, and tensors with negative strides are not currently supported. (You can probably work around this by making a copy of your array  with array.copy().) ",
     "output_type": "error",
     "traceback": [
      "\u001b[0;31m---------------------------------------------------------------------------\u001b[0m",
      "\u001b[0;31mValueError\u001b[0m                                Traceback (most recent call last)",
      "Cell \u001b[0;32mIn[147], line 68\u001b[0m\n\u001b[1;32m     65\u001b[0m \u001b[38;5;66;03m# Example usage\u001b[39;00m\n\u001b[1;32m     66\u001b[0m subset_questions \u001b[38;5;241m=\u001b[39m questions[:\u001b[38;5;241m100\u001b[39m]\n\u001b[0;32m---> 68\u001b[0m mrr_rerank_semantic_search \u001b[38;5;241m=\u001b[39m \u001b[43mcalculate_mrr_rerank\u001b[49m\u001b[43m(\u001b[49m\u001b[43msubset_questions\u001b[49m\u001b[43m,\u001b[49m\u001b[43m \u001b[49m\u001b[43mquestions\u001b[49m\u001b[43m,\u001b[49m\u001b[43m \u001b[49m\u001b[43manswer_embeddings\u001b[49m\u001b[43m,\u001b[49m\u001b[43m \u001b[49m\u001b[43mtop_k\u001b[49m\u001b[38;5;241;43m=\u001b[39;49m\u001b[38;5;241;43m5\u001b[39;49m\u001b[43m)\u001b[49m\n\u001b[1;32m     69\u001b[0m \u001b[38;5;28mprint\u001b[39m(\u001b[38;5;124m\"\u001b[39m\u001b[38;5;124mMean Reciprocal Rank (MRR) with Reranking (Semantic Search):\u001b[39m\u001b[38;5;124m\"\u001b[39m, mrr_rerank_semantic_search)\n\u001b[1;32m     71\u001b[0m mrr_rerank_faiss \u001b[38;5;241m=\u001b[39m calculate_mrr_faiss_rerank(subset_questions, questions, answers_dataset, top_k\u001b[38;5;241m=\u001b[39m\u001b[38;5;241m5\u001b[39m)\n",
      "Cell \u001b[0;32mIn[147], line 21\u001b[0m, in \u001b[0;36mcalculate_mrr_rerank\u001b[0;34m(queries, questions, answer_embeddings, top_k)\u001b[0m\n\u001b[1;32m     18\u001b[0m reranked_answers \u001b[38;5;241m=\u001b[39m [retrieved_answers[i] \u001b[38;5;28;01mfor\u001b[39;00m i \u001b[38;5;129;01min\u001b[39;00m reranked_indices]\n\u001b[1;32m     20\u001b[0m relevant_index \u001b[38;5;241m=\u001b[39m questions\u001b[38;5;241m.\u001b[39mindex(query)\n\u001b[0;32m---> 21\u001b[0m \u001b[38;5;28;01mif\u001b[39;00m relevant_index \u001b[38;5;129;01min\u001b[39;00m \u001b[38;5;28mlist\u001b[39m(\u001b[43mindices\u001b[49m\u001b[43m[\u001b[49m\u001b[43mreranked_indices\u001b[49m\u001b[43m]\u001b[49m\u001b[38;5;241m.\u001b[39mcopy()):\n\u001b[1;32m     22\u001b[0m     rank \u001b[38;5;241m=\u001b[39m \u001b[38;5;28mlist\u001b[39m(indices[reranked_indices])\u001b[38;5;241m.\u001b[39mindex(relevant_index) \u001b[38;5;241m+\u001b[39m \u001b[38;5;241m1\u001b[39m\n\u001b[1;32m     23\u001b[0m     reciprocal_rank \u001b[38;5;241m=\u001b[39m \u001b[38;5;241m1\u001b[39m \u001b[38;5;241m/\u001b[39m rank\n",
      "\u001b[0;31mValueError\u001b[0m: At least one stride in the given numpy array is negative, and tensors with negative strides are not currently supported. (You can probably work around this by making a copy of your array  with array.copy().) "
     ]
    }
   ],
   "source": [
    "def calculate_mrr_rerank(queries, questions, answer_embeddings, top_k=5):\n",
    "    mrr_total = 0.0\n",
    "\n",
    "    for query in queries:\n",
    "        query_embedding = model.encode(query, convert_to_tensor=True)\n",
    "\n",
    "        cosine_scores = model.similarity(query_embedding, answer_embeddings)[0]\n",
    "        scores, indices = torch.topk(cosine_scores, k=top_k)\n",
    "\n",
    "        retrieved_answers = [answers[idx] for idx in indices]\n",
    "\n",
    "        # Prepare pairs for re-ranking\n",
    "        pairs = [(query, answer) for answer in retrieved_answers]\n",
    "\n",
    "        # Re-rank the retrieved answers\n",
    "        reranked_scores = re_ranker_model.predict(pairs)\n",
    "        reranked_indices = np.argsort(reranked_scores)[::-1]\n",
    "        reranked_answers = [retrieved_answers[i] for i in reranked_indices]\n",
    "\n",
    "        relevant_index = questions.index(query)\n",
    "        if relevant_index in list(indices[reranked_indices].copy()):\n",
    "            rank = list(indices[reranked_indices]).index(relevant_index) + 1\n",
    "            reciprocal_rank = 1 / rank\n",
    "        else:\n",
    "            reciprocal_rank = 0\n",
    "\n",
    "        mrr_total += reciprocal_rank\n",
    "\n",
    "    mrr = mrr_total / len(queries)\n",
    "    return mrr\n",
    "\n",
    "def calculate_mrr_faiss_rerank(queries, questions, answers_dataset, top_k=5):\n",
    "    mrr_total = 0.0\n",
    "\n",
    "    for query in queries:\n",
    "        query_embedding = model.encode(query, convert_to_tensor=False)\n",
    "\n",
    "        scores, samples = answers_dataset.get_nearest_examples(\"embeddings\", query_embedding, k=top_k)\n",
    "        samples_df = pd.DataFrame.from_dict(samples)\n",
    "        samples_df[\"scores\"] = scores\n",
    "        samples_df.sort_values(\"scores\", ascending=False, inplace=True)\n",
    "\n",
    "        retrieved_answers = samples[\"answers\"]\n",
    "\n",
    "        # Prepare pairs for re-ranking\n",
    "        pairs = [(query, answer) for answer in retrieved_answers]\n",
    "\n",
    "        # Re-rank the retrieved answers\n",
    "        reranked_scores = re_ranker_model.predict(pairs)\n",
    "        reranked_indices = np.argsort(reranked_scores)[::-1]\n",
    "        reranked_answers = [retrieved_answers[i] for i in reranked_indices]\n",
    "\n",
    "        relevant_index = questions.index(query)\n",
    "        if relevant_index in samples_df.index[reranked_indices]:\n",
    "            rank = list(samples_df.index[reranked_indices]).index(relevant_index) + 1\n",
    "            reciprocal_rank = 1 / rank\n",
    "        else:\n",
    "            reciprocal_rank = 0\n",
    "\n",
    "        mrr_total += reciprocal_rank\n",
    "\n",
    "    mrr = mrr_total / len(queries)\n",
    "    return mrr\n",
    "\n",
    "# Example usage\n",
    "subset_questions = questions[:100]\n",
    "\n",
    "mrr_rerank_semantic_search = calculate_mrr_rerank(subset_questions, questions, answer_embeddings, top_k=5)\n",
    "print(\"Mean Reciprocal Rank (MRR) with Reranking (Semantic Search):\", mrr_rerank_semantic_search)\n",
    "\n",
    "mrr_rerank_faiss = calculate_mrr_faiss_rerank(subset_questions, questions, answers_dataset, top_k=5)\n",
    "print(\"Mean Reciprocal Rank (MRR) with Reranking (FAISS):\", mrr_rerank_faiss)"
   ]
  }
 ],
 "metadata": {
  "kernelspec": {
   "display_name": ".venv",
   "language": "python",
   "name": "python3"
  },
  "language_info": {
   "codemirror_mode": {
    "name": "ipython",
    "version": 3
   },
   "file_extension": ".py",
   "mimetype": "text/x-python",
   "name": "python",
   "nbconvert_exporter": "python",
   "pygments_lexer": "ipython3",
   "version": "3.12.4"
  }
 },
 "nbformat": 4,
 "nbformat_minor": 2
}
