{
 "cells": [
  {
   "cell_type": "code",
   "execution_count": 1,
   "metadata": {},
   "outputs": [
    {
     "name": "stdout",
     "output_type": "stream",
     "text": [
      "zsh:1: no matches found: transformers[sentencepiece]\n",
      "Requirement already satisfied: faiss-cpu in /Users/filipstrozik/Documents/studies/IISEM/nlp/.venv/lib/python3.12/site-packages (1.9.0.post1)\n",
      "Requirement already satisfied: numpy<3.0,>=1.25.0 in /Users/filipstrozik/Documents/studies/IISEM/nlp/.venv/lib/python3.12/site-packages (from faiss-cpu) (1.26.4)\n",
      "Requirement already satisfied: packaging in /Users/filipstrozik/Documents/studies/IISEM/nlp/.venv/lib/python3.12/site-packages (from faiss-cpu) (24.1)\n",
      "Requirement already satisfied: sentence-transformers in /Users/filipstrozik/Documents/studies/IISEM/nlp/.venv/lib/python3.12/site-packages (3.3.1)\n",
      "Requirement already satisfied: transformers<5.0.0,>=4.41.0 in /Users/filipstrozik/Documents/studies/IISEM/nlp/.venv/lib/python3.12/site-packages (from sentence-transformers) (4.45.2)\n",
      "Requirement already satisfied: tqdm in /Users/filipstrozik/Documents/studies/IISEM/nlp/.venv/lib/python3.12/site-packages (from sentence-transformers) (4.66.5)\n",
      "Requirement already satisfied: torch>=1.11.0 in /Users/filipstrozik/Documents/studies/IISEM/nlp/.venv/lib/python3.12/site-packages (from sentence-transformers) (2.5.0)\n",
      "Requirement already satisfied: scikit-learn in /Users/filipstrozik/Documents/studies/IISEM/nlp/.venv/lib/python3.12/site-packages (from sentence-transformers) (1.5.2)\n",
      "Requirement already satisfied: scipy in /Users/filipstrozik/Documents/studies/IISEM/nlp/.venv/lib/python3.12/site-packages (from sentence-transformers) (1.14.1)\n",
      "Requirement already satisfied: huggingface-hub>=0.20.0 in /Users/filipstrozik/Documents/studies/IISEM/nlp/.venv/lib/python3.12/site-packages (from sentence-transformers) (0.26.1)\n",
      "Requirement already satisfied: Pillow in /Users/filipstrozik/Documents/studies/IISEM/nlp/.venv/lib/python3.12/site-packages (from sentence-transformers) (11.0.0)\n",
      "Requirement already satisfied: filelock in /Users/filipstrozik/Documents/studies/IISEM/nlp/.venv/lib/python3.12/site-packages (from huggingface-hub>=0.20.0->sentence-transformers) (3.16.1)\n",
      "Requirement already satisfied: fsspec>=2023.5.0 in /Users/filipstrozik/Documents/studies/IISEM/nlp/.venv/lib/python3.12/site-packages (from huggingface-hub>=0.20.0->sentence-transformers) (2024.9.0)\n",
      "Requirement already satisfied: packaging>=20.9 in /Users/filipstrozik/Documents/studies/IISEM/nlp/.venv/lib/python3.12/site-packages (from huggingface-hub>=0.20.0->sentence-transformers) (24.1)\n",
      "Requirement already satisfied: pyyaml>=5.1 in /Users/filipstrozik/Documents/studies/IISEM/nlp/.venv/lib/python3.12/site-packages (from huggingface-hub>=0.20.0->sentence-transformers) (6.0.2)\n",
      "Requirement already satisfied: requests in /Users/filipstrozik/Documents/studies/IISEM/nlp/.venv/lib/python3.12/site-packages (from huggingface-hub>=0.20.0->sentence-transformers) (2.32.3)\n",
      "Requirement already satisfied: typing-extensions>=3.7.4.3 in /Users/filipstrozik/Documents/studies/IISEM/nlp/.venv/lib/python3.12/site-packages (from huggingface-hub>=0.20.0->sentence-transformers) (4.12.2)\n",
      "Requirement already satisfied: networkx in /Users/filipstrozik/Documents/studies/IISEM/nlp/.venv/lib/python3.12/site-packages (from torch>=1.11.0->sentence-transformers) (3.4.2)\n",
      "Requirement already satisfied: jinja2 in /Users/filipstrozik/Documents/studies/IISEM/nlp/.venv/lib/python3.12/site-packages (from torch>=1.11.0->sentence-transformers) (3.1.4)\n",
      "Requirement already satisfied: setuptools in /Users/filipstrozik/Documents/studies/IISEM/nlp/.venv/lib/python3.12/site-packages (from torch>=1.11.0->sentence-transformers) (75.1.0)\n",
      "Requirement already satisfied: sympy==1.13.1 in /Users/filipstrozik/Documents/studies/IISEM/nlp/.venv/lib/python3.12/site-packages (from torch>=1.11.0->sentence-transformers) (1.13.1)\n",
      "Requirement already satisfied: mpmath<1.4,>=1.1.0 in /Users/filipstrozik/Documents/studies/IISEM/nlp/.venv/lib/python3.12/site-packages (from sympy==1.13.1->torch>=1.11.0->sentence-transformers) (1.3.0)\n",
      "Requirement already satisfied: numpy>=1.17 in /Users/filipstrozik/Documents/studies/IISEM/nlp/.venv/lib/python3.12/site-packages (from transformers<5.0.0,>=4.41.0->sentence-transformers) (1.26.4)\n",
      "Requirement already satisfied: regex!=2019.12.17 in /Users/filipstrozik/Documents/studies/IISEM/nlp/.venv/lib/python3.12/site-packages (from transformers<5.0.0,>=4.41.0->sentence-transformers) (2024.9.11)\n",
      "Requirement already satisfied: safetensors>=0.4.1 in /Users/filipstrozik/Documents/studies/IISEM/nlp/.venv/lib/python3.12/site-packages (from transformers<5.0.0,>=4.41.0->sentence-transformers) (0.4.5)\n",
      "Requirement already satisfied: tokenizers<0.21,>=0.20 in /Users/filipstrozik/Documents/studies/IISEM/nlp/.venv/lib/python3.12/site-packages (from transformers<5.0.0,>=4.41.0->sentence-transformers) (0.20.1)\n",
      "Requirement already satisfied: joblib>=1.2.0 in /Users/filipstrozik/Documents/studies/IISEM/nlp/.venv/lib/python3.12/site-packages (from scikit-learn->sentence-transformers) (1.4.2)\n",
      "Requirement already satisfied: threadpoolctl>=3.1.0 in /Users/filipstrozik/Documents/studies/IISEM/nlp/.venv/lib/python3.12/site-packages (from scikit-learn->sentence-transformers) (3.5.0)\n",
      "Requirement already satisfied: MarkupSafe>=2.0 in /Users/filipstrozik/Documents/studies/IISEM/nlp/.venv/lib/python3.12/site-packages (from jinja2->torch>=1.11.0->sentence-transformers) (3.0.2)\n",
      "Requirement already satisfied: charset-normalizer<4,>=2 in /Users/filipstrozik/Documents/studies/IISEM/nlp/.venv/lib/python3.12/site-packages (from requests->huggingface-hub>=0.20.0->sentence-transformers) (3.4.0)\n",
      "Requirement already satisfied: idna<4,>=2.5 in /Users/filipstrozik/Documents/studies/IISEM/nlp/.venv/lib/python3.12/site-packages (from requests->huggingface-hub>=0.20.0->sentence-transformers) (3.10)\n",
      "Requirement already satisfied: urllib3<3,>=1.21.1 in /Users/filipstrozik/Documents/studies/IISEM/nlp/.venv/lib/python3.12/site-packages (from requests->huggingface-hub>=0.20.0->sentence-transformers) (1.26.20)\n",
      "Requirement already satisfied: certifi>=2017.4.17 in /Users/filipstrozik/Documents/studies/IISEM/nlp/.venv/lib/python3.12/site-packages (from requests->huggingface-hub>=0.20.0->sentence-transformers) (2024.8.30)\n"
     ]
    }
   ],
   "source": [
    "!pip install datasets evaluate transformers[sentencepiece]\n",
    "!pip install faiss-cpu\n",
    "!pip install -U sentence-transformers"
   ]
  },
  {
   "cell_type": "code",
   "execution_count": 2,
   "metadata": {},
   "outputs": [],
   "source": [
    "from datasets import load_dataset\n",
    "\n",
    "ds = load_dataset(\"sentence-transformers/squad\")"
   ]
  },
  {
   "cell_type": "code",
   "execution_count": 3,
   "metadata": {},
   "outputs": [],
   "source": [
    "from sentence_transformers import SentenceTransformer\n",
    "\n",
    "model = SentenceTransformer(\"multi-qa-mpnet-base-dot-v1\")"
   ]
  },
  {
   "cell_type": "code",
   "execution_count": 15,
   "metadata": {},
   "outputs": [],
   "source": [
    "questions = ds[\"train\"][\"question\"]\n",
    "answers = ds[\"train\"][\"answer\"]\n"
   ]
  },
  {
   "cell_type": "code",
   "execution_count": null,
   "metadata": {},
   "outputs": [],
   "source": [
    "\n",
    "# # Generate embeddings for questions and answers\n",
    "# question_embeddings = model.encode(questions, convert_to_tensor=True)\n",
    "# answer_embeddings = model.encode(answers, convert_to_tensor=True)\n"
   ]
  },
  {
   "cell_type": "code",
   "execution_count": null,
   "metadata": {},
   "outputs": [],
   "source": [
    "# import pickle\n",
    "\n",
    "# # Save the embeddings to a pickle file\n",
    "# with open('embeddings.pkl', 'wb') as f:\n",
    "#     pickle.dump({'question_embeddings': question_embeddings, 'answer_embeddings': answer_embeddings}, f)"
   ]
  },
  {
   "cell_type": "code",
   "execution_count": 4,
   "metadata": {},
   "outputs": [],
   "source": [
    "import pickle\n",
    "\n",
    "with open('embeddings.pkl', 'rb') as f:\n",
    "    embeddings = pickle.load(f)\n",
    "\n",
    "question_embeddings = embeddings['question_embeddings']\n",
    "answer_embeddings = embeddings['answer_embeddings']"
   ]
  },
  {
   "cell_type": "code",
   "execution_count": 15,
   "metadata": {},
   "outputs": [],
   "source": [
    "import torch\n",
    "\n",
    "\n",
    "def search_query_top_k(query, corpus_embedding, corpus, top_k=5):\n",
    "    query_embedding = model.encode(query, convert_to_tensor=True)\n",
    "    cosine_scores = model.similarity(query_embedding, corpus_embedding)[0]\n",
    "    scores, indices = torch.topk(cosine_scores, k=top_k)\n",
    "\n",
    "    print(\"\\nQuery:\", query)\n",
    "    print(\"Top 5 most similar sentences in corpus:\")\n",
    "\n",
    "    for score, idx in zip(scores, indices):\n",
    "        print(corpus[idx], f\"(Score: {score:.4f})\")"
   ]
  },
  {
   "cell_type": "code",
   "execution_count": null,
   "metadata": {},
   "outputs": [],
   "source": []
  },
  {
   "cell_type": "code",
   "execution_count": null,
   "metadata": {},
   "outputs": [
    {
     "name": "stdout",
     "output_type": "stream",
     "text": [
      "\n",
      "Query: What year was it restituted to France?\n",
      "Top 5 most similar sentences in corpus:\n",
      "What year was it restituted to France? (Score: 32.5987)\n",
      "Who withdrew recognition from the Grand Orient de France? (Score: 24.3168)\n",
      "Who did France restore into power? (Score: 24.2572)\n",
      "What month did France sue for peace? (Score: 24.1915)\n",
      "Which country acquired New France from France? (Score: 24.1437)\n"
     ]
    }
   ],
   "source": [
    "search_query_top_k(\"What year was it restituted to France?\", question_embeddings, questions, top_k=5)"
   ]
  },
  {
   "cell_type": "code",
   "execution_count": 18,
   "metadata": {},
   "outputs": [
    {
     "name": "stdout",
     "output_type": "stream",
     "text": [
      "\n",
      "Query: What year was it restituted to France?\n",
      "Top 5 most similar sentences in corpus:\n",
      "With the Treaty of the Pyrenees (1659), Spain ceded the northern part of Catalonia to France, and soon thereafter the local Catalan varieties came under the influence of French, which in 1700 became the sole official language of the region. (Score: 22.7375)\n",
      "With the Treaty of the Pyrenees (1659), Spain ceded the northern part of Catalonia to France, and soon thereafter the local Catalan varieties came under the influence of French, which in 1700 became the sole official language of the region. (Score: 22.7375)\n",
      "With the Treaty of the Pyrenees (1659), Spain ceded the northern part of Catalonia to France, and soon thereafter the local Catalan varieties came under the influence of French, which in 1700 became the sole official language of the region. (Score: 22.7375)\n",
      "With the Treaty of the Pyrenees (1659), Spain ceded the northern part of Catalonia to France, and soon thereafter the local Catalan varieties came under the influence of French, which in 1700 became the sole official language of the region. (Score: 22.7375)\n",
      "With the Treaty of the Pyrenees (1659), Spain ceded the northern part of Catalonia to France, and soon thereafter the local Catalan varieties came under the influence of French, which in 1700 became the sole official language of the region. (Score: 22.7375)\n"
     ]
    }
   ],
   "source": [
    "search_query_top_k(\n",
    "    \"What year was it restituted to France?\", answer_embeddings, answers, top_k=5\n",
    ")"
   ]
  },
  {
   "cell_type": "code",
   "execution_count": 19,
   "metadata": {},
   "outputs": [
    {
     "name": "stdout",
     "output_type": "stream",
     "text": [
      "\n",
      "Query: France?\n",
      "Top 5 most similar sentences in corpus:\n",
      "The Region of Île de France, including Paris and its surrounding communities, is governed by the Regional Council, which has its headquarters in the 7th arrondissement of Paris. It is composed of 209 members representing the different communes within the region. On December 15, 2015, a list of candidates of the Union of the Right, a coalition of centrist and right-wing parties, led by Valérie Pécresse, narrowly won the regional election, defeating a coalition of Socialists and ecologists. The Socialists had governed the region for seventeen years. In 2016, the new regional council will have 121 members from the Union of the Right, 66 from the Union of the Left and 22 from the extreme right National Front. (Score: 20.2113)\n",
      "The Region of Île de France, including Paris and its surrounding communities, is governed by the Regional Council, which has its headquarters in the 7th arrondissement of Paris. It is composed of 209 members representing the different communes within the region. On December 15, 2015, a list of candidates of the Union of the Right, a coalition of centrist and right-wing parties, led by Valérie Pécresse, narrowly won the regional election, defeating a coalition of Socialists and ecologists. The Socialists had governed the region for seventeen years. In 2016, the new regional council will have 121 members from the Union of the Right, 66 from the Union of the Left and 22 from the extreme right National Front. (Score: 20.2113)\n",
      "The Region of Île de France, including Paris and its surrounding communities, is governed by the Regional Council, which has its headquarters in the 7th arrondissement of Paris. It is composed of 209 members representing the different communes within the region. On December 15, 2015, a list of candidates of the Union of the Right, a coalition of centrist and right-wing parties, led by Valérie Pécresse, narrowly won the regional election, defeating a coalition of Socialists and ecologists. The Socialists had governed the region for seventeen years. In 2016, the new regional council will have 121 members from the Union of the Right, 66 from the Union of the Left and 22 from the extreme right National Front. (Score: 20.2113)\n",
      "The Region of Île de France, including Paris and its surrounding communities, is governed by the Regional Council, which has its headquarters in the 7th arrondissement of Paris. It is composed of 209 members representing the different communes within the region. On December 15, 2015, a list of candidates of the Union of the Right, a coalition of centrist and right-wing parties, led by Valérie Pécresse, narrowly won the regional election, defeating a coalition of Socialists and ecologists. The Socialists had governed the region for seventeen years. In 2016, the new regional council will have 121 members from the Union of the Right, 66 from the Union of the Left and 22 from the extreme right National Front. (Score: 20.2113)\n",
      "Since the end of the Second World War, France has become an ethnically diverse country. Today, approximately five percent of the French population is non-European and non-white. This does not approach the number of non-white citizens in the United States (roughly 28–37%, depending on how Latinos are classified; see Demographics of the United States). Nevertheless, it amounts to at least three million people, and has forced the issues of ethnic diversity onto the French policy agenda. France has developed an approach to dealing with ethnic problems that stands in contrast to that of many advanced, industrialized countries. Unlike the United States, Britain, or even the Netherlands, France maintains a \"color-blind\" model of public policy. This means that it targets virtually no policies directly at racial or ethnic groups. Instead, it uses geographic or class criteria to address issues of social inequalities. It has, however, developed an extensive anti-racist policy repertoire since the early 1970s. Until recently, French policies focused primarily on issues of hate speech—going much further than their American counterparts—and relatively less on issues of discrimination in jobs, housing, and in provision of goods and services. (Score: 20.1730)\n"
     ]
    }
   ],
   "source": [
    "search_query_top_k(\n",
    "    \"France?\", answer_embeddings, answers, top_k=5\n",
    ")"
   ]
  },
  {
   "cell_type": "markdown",
   "metadata": {},
   "source": [
    "faiss"
   ]
  },
  {
   "cell_type": "code",
   "execution_count": 7,
   "metadata": {},
   "outputs": [
    {
     "data": {
      "application/vnd.jupyter.widget-view+json": {
       "model_id": "3f046f899b894096a16183004d608f61",
       "version_major": 2,
       "version_minor": 0
      },
      "text/plain": [
       "  0%|          | 0/88 [00:00<?, ?it/s]"
      ]
     },
     "metadata": {},
     "output_type": "display_data"
    },
    {
     "data": {
      "text/plain": [
       "Dataset({\n",
       "    features: ['answers', 'embeddings'],\n",
       "    num_rows: 87599\n",
       "})"
      ]
     },
     "execution_count": 7,
     "metadata": {},
     "output_type": "execute_result"
    }
   ],
   "source": [
    "from datasets import Dataset\n",
    "import numpy as np\n",
    "\n",
    "# Create a dataset from the answers\n",
    "answers_dataset = Dataset.from_dict({\"answers\": ds[\"train\"][\"answer\"]})\n",
    "\n",
    "# Convert embeddings to a list of lists\n",
    "answer_embeddings_list = [embedding.tolist() for embedding in answer_embeddings]\n",
    "\n",
    "# Add embeddings to the dataset\n",
    "answers_dataset = answers_dataset.add_column(\"embeddings\", answer_embeddings_list)\n",
    "\n",
    "# Add FAISS index to the dataset\n",
    "answers_dataset.add_faiss_index(column=\"embeddings\")\n"
   ]
  },
  {
   "cell_type": "code",
   "execution_count": 8,
   "metadata": {},
   "outputs": [
    {
     "data": {
      "application/vnd.jupyter.widget-view+json": {
       "model_id": "c505402b79ca4da788199a3cd6cfdb90",
       "version_major": 2,
       "version_minor": 0
      },
      "text/plain": [
       "  0%|          | 0/88 [00:00<?, ?it/s]"
      ]
     },
     "metadata": {},
     "output_type": "display_data"
    },
    {
     "data": {
      "text/plain": [
       "Dataset({\n",
       "    features: ['questions', 'embeddings'],\n",
       "    num_rows: 87599\n",
       "})"
      ]
     },
     "execution_count": 8,
     "metadata": {},
     "output_type": "execute_result"
    }
   ],
   "source": [
    "questions_dataset = Dataset.from_dict({\"questions\": ds[\"train\"][\"question\"]})   \n",
    "\n",
    "question_embeddings_list = [embedding.tolist() for embedding in question_embeddings]\n",
    "\n",
    "questions_dataset = questions_dataset.add_column(\"embeddings\", question_embeddings_list)\n",
    "\n",
    "questions_dataset.add_faiss_index(column=\"embeddings\")"
   ]
  },
  {
   "cell_type": "code",
   "execution_count": 9,
   "metadata": {},
   "outputs": [],
   "source": [
    "import pickle\n",
    "\n",
    "# Save the datasets to a pickle file\n",
    "with open('datasets.pkl', 'wb') as f:\n",
    "    pickle.dump({'answers_dataset': answers_dataset, 'questions_dataset': questions_dataset}, f)"
   ]
  },
  {
   "cell_type": "code",
   "execution_count": 10,
   "metadata": {},
   "outputs": [],
   "source": [
    "import pandas as pd"
   ]
  },
  {
   "cell_type": "code",
   "execution_count": null,
   "metadata": {},
   "outputs": [],
   "source": [
    "def search_query_top_k_faiss(query, dataset, column, top_k=5):\n",
    "\n",
    "    query_embedding = model.encode(query, convert_to_tensor=False)\n",
    "    scores, samples = dataset.get_nearest_examples(\n",
    "        \"embeddings\", query_embedding, k=top_k\n",
    "    )\n",
    "    samples_df = pd.DataFrame.from_dict(samples)\n",
    "    samples_df[\"scores\"] = scores\n",
    "    samples_df.sort_values(\"scores\", ascending=False, inplace=True)\n",
    "\n",
    "    for _, row in samples_df.iterrows():\n",
    "        print(row[column], f\"(Score: {row['scores']:.4f})\")\n",
    "        print(\"=\" * 50)\n",
    "        print()"
   ]
  },
  {
   "cell_type": "code",
   "execution_count": 22,
   "metadata": {},
   "outputs": [
    {
     "name": "stdout",
     "output_type": "stream",
     "text": [
      "With the Treaty of the Pyrenees (1659), Spain ceded the northern part of Catalonia to France, and soon thereafter the local Catalan varieties came under the influence of French, which in 1700 became the sole official language of the region. (Score: 31.9532)\n",
      "==================================================\n",
      "\n",
      "With the Treaty of the Pyrenees (1659), Spain ceded the northern part of Catalonia to France, and soon thereafter the local Catalan varieties came under the influence of French, which in 1700 became the sole official language of the region. (Score: 31.9532)\n",
      "==================================================\n",
      "\n",
      "With the Treaty of the Pyrenees (1659), Spain ceded the northern part of Catalonia to France, and soon thereafter the local Catalan varieties came under the influence of French, which in 1700 became the sole official language of the region. (Score: 31.9532)\n",
      "==================================================\n",
      "\n",
      "With the Treaty of the Pyrenees (1659), Spain ceded the northern part of Catalonia to France, and soon thereafter the local Catalan varieties came under the influence of French, which in 1700 became the sole official language of the region. (Score: 31.9532)\n",
      "==================================================\n",
      "\n",
      "With the Treaty of the Pyrenees (1659), Spain ceded the northern part of Catalonia to France, and soon thereafter the local Catalan varieties came under the influence of French, which in 1700 became the sole official language of the region. (Score: 31.9532)\n",
      "==================================================\n",
      "\n"
     ]
    }
   ],
   "source": [
    "\n",
    "search_query_top_k_faiss(\"What year was it restituted to France?\", answers_dataset, \"answers\", top_k=5)"
   ]
  },
  {
   "cell_type": "code",
   "execution_count": 23,
   "metadata": {},
   "outputs": [
    {
     "name": "stdout",
     "output_type": "stream",
     "text": [
      "Which territory did France control? (Score: 13.1974)\n",
      "==================================================\n",
      "\n",
      "In what year was the Fall of France? (Score: 13.1916)\n",
      "==================================================\n",
      "\n",
      "Who did France restore into power? (Score: 12.8509)\n",
      "==================================================\n",
      "\n",
      "Which country acquired New France from France? (Score: 11.5127)\n",
      "==================================================\n",
      "\n",
      "What year was it restituted to France? (Score: 0.0000)\n",
      "==================================================\n",
      "\n"
     ]
    }
   ],
   "source": [
    "search_query_top_k_faiss(\n",
    "    \"What year was it restituted to France?\", questions_dataset, \"questions\", top_k=5\n",
    ")"
   ]
  },
  {
   "cell_type": "code",
   "execution_count": null,
   "metadata": {},
   "outputs": [],
   "source": []
  }
 ],
 "metadata": {
  "kernelspec": {
   "display_name": ".venv",
   "language": "python",
   "name": "python3"
  },
  "language_info": {
   "codemirror_mode": {
    "name": "ipython",
    "version": 3
   },
   "file_extension": ".py",
   "mimetype": "text/x-python",
   "name": "python",
   "nbconvert_exporter": "python",
   "pygments_lexer": "ipython3",
   "version": "3.12.4"
  }
 },
 "nbformat": 4,
 "nbformat_minor": 2
}
